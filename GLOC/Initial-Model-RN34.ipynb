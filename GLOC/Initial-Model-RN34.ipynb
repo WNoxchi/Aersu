{
 "cells": [
  {
   "cell_type": "markdown",
   "metadata": {},
   "source": [
    "# G-LOC Detector v0.1"
   ]
  },
  {
   "cell_type": "markdown",
   "metadata": {
    "heading_collapsed": true
   },
   "source": [
    "## Initial Training & Developement"
   ]
  },
  {
   "cell_type": "markdown",
   "metadata": {
    "hidden": true
   },
   "source": [
    "Reference: https://github.com/WNoxchi/Kaukasos/blob/master/FADL1/L3CA_lesson2-image-models.ipynb"
   ]
  },
  {
   "cell_type": "code",
   "execution_count": 1,
   "metadata": {
    "hidden": true
   },
   "outputs": [],
   "source": [
    "%matplotlib inline\n",
    "%reload_ext autoreload\n",
    "%autoreload 2"
   ]
  },
  {
   "cell_type": "code",
   "execution_count": 2,
   "metadata": {
    "hidden": true
   },
   "outputs": [
    {
     "name": "stdout",
     "output_type": "stream",
     "text": [
      "column_data.py   imports.py          learner.py  nlp.py        sgdr.py\r\n",
      "conv_learner.py  initializers.py     lm_rnn.py   plots.py      structured.py\r\n",
      "core.py          __init__.py         losses.py   \u001b[0m\u001b[01;34m__pycache__\u001b[0m/  torch_imports.py\r\n",
      "dataloader.py    io.py               metrics.py  rnn_reg.py    transforms.py\r\n",
      "dataset.py       layer_optimizer.py  model.py    rnn_train.py  \u001b[01;32mutils.py\u001b[0m*\r\n",
      "\u001b[01;34mimages\u001b[0m/          layers.py           \u001b[01;34mmodels\u001b[0m/     set_spawn.py  \u001b[01;34mweights\u001b[0m/\r\n"
     ]
    }
   ],
   "source": [
    "%ls fastai_lin/"
   ]
  },
  {
   "cell_type": "markdown",
   "metadata": {
    "heading_collapsed": true,
    "hidden": true
   },
   "source": [
    "### Platform Check & Imports"
   ]
  },
  {
   "cell_type": "code",
   "execution_count": 2,
   "metadata": {
    "hidden": true
   },
   "outputs": [
    {
     "data": {
      "text/plain": [
       "'/home/wnixalo/Aersu/GLOC'"
      ]
     },
     "execution_count": 2,
     "metadata": {},
     "output_type": "execute_result"
    }
   ],
   "source": [
    "%pwd"
   ]
  },
  {
   "cell_type": "code",
   "execution_count": 1,
   "metadata": {
    "hidden": true
   },
   "outputs": [],
   "source": [
    "from sys import platform\n",
    "if platform[:3] == 'dar':\n",
    "    from fastai_osx.imports import *\n",
    "    from fastai_osx.conv_learner import *\n",
    "    from fastai_osx.model import *\n",
    "    from fastai_osx.torch_imports import *\n",
    "if platform[:3] == 'lin':\n",
    "    from fastai_lin.imports import *\n",
    "    from fastai_lin.conv_learner import *\n",
    "    from fastai_lin.model import *\n",
    "    from fastai_lin.torch_imports import *"
   ]
  },
  {
   "cell_type": "markdown",
   "metadata": {
    "heading_collapsed": true,
    "hidden": true
   },
   "source": [
    "### DataLoader & Learner"
   ]
  },
  {
   "cell_type": "code",
   "execution_count": 6,
   "metadata": {
    "hidden": true
   },
   "outputs": [],
   "source": [
    "PATH = 'data/'\n",
    "label_csv = f'{PATH}labels.csv'"
   ]
  },
  {
   "cell_type": "code",
   "execution_count": 3,
   "metadata": {
    "hidden": true
   },
   "outputs": [],
   "source": [
    "n = len(list(open(label_csv))) - 1\n",
    "val_idxs = get_cv_idxs(n)"
   ]
  },
  {
   "cell_type": "code",
   "execution_count": 4,
   "metadata": {
    "hidden": true
   },
   "outputs": [],
   "source": [
    "arch = resnet34\n",
    "size = 100"
   ]
  },
  {
   "cell_type": "code",
   "execution_count": 7,
   "metadata": {
    "hidden": true
   },
   "outputs": [
    {
     "data": {
      "application/vnd.jupyter.widget-view+json": {
       "model_id": "bb8b9e3e410343d288d4ab6049277821",
       "version_major": 2,
       "version_minor": 0
      },
      "text/html": [
       "<p>Failed to display Jupyter Widget of type <code>HBox</code>.</p>\n",
       "<p>\n",
       "  If you're reading this message in the Jupyter Notebook or JupyterLab Notebook, it may mean\n",
       "  that the widgets JavaScript is still loading. If this message persists, it\n",
       "  likely means that the widgets JavaScript library is either not installed or\n",
       "  not enabled. See the <a href=\"https://ipywidgets.readthedocs.io/en/stable/user_install.html\">Jupyter\n",
       "  Widgets Documentation</a> for setup instructions.\n",
       "</p>\n",
       "<p>\n",
       "  If you're reading this message in another frontend (for example, a static\n",
       "  rendering on GitHub or <a href=\"https://nbviewer.jupyter.org/\">NBViewer</a>),\n",
       "  it may mean that your frontend doesn't currently support widgets.\n",
       "</p>\n"
      ],
      "text/plain": [
       "HBox(children=(IntProgress(value=0, max=6), HTML(value='')))"
      ]
     },
     "metadata": {},
     "output_type": "display_data"
    },
    {
     "name": "stdout",
     "output_type": "stream",
     "text": [
      "\n"
     ]
    },
    {
     "data": {
      "text/plain": [
       "<fastai_lin.dataset.ImageClassifierData at 0x7f04f462f978>"
      ]
     },
     "execution_count": 7,
     "metadata": {},
     "output_type": "execute_result"
    }
   ],
   "source": [
    "tfms = tfms_from_model(arch, size, aug_tfms=transforms_side_on, max_zoom=1.1)\n",
    "data = ImageClassifierData.from_csv(PATH, 'train', label_csv, bs=32, tfms=tfms,\n",
    "                                    suffix='.jpg', val_idxs=val_idxs, num_workers=8)\n",
    "# for speed\n",
    "data.resize(int(size), 'tmp')"
   ]
  },
  {
   "cell_type": "code",
   "execution_count": 8,
   "metadata": {
    "hidden": true
   },
   "outputs": [
    {
     "data": {
      "text/plain": [
       "array(['train/000000.jpg', 'train/000002.jpg', 'train/000003.jpg', ..., 'train/049517.jpg',\n",
       "       'train/049518.jpg', 'train/049519.jpg'],\n",
       "      dtype='<U16')"
      ]
     },
     "execution_count": 8,
     "metadata": {},
     "output_type": "execute_result"
    }
   ],
   "source": [
    "data.trn_ds.fnames"
   ]
  },
  {
   "cell_type": "code",
   "execution_count": 9,
   "metadata": {
    "hidden": true
   },
   "outputs": [],
   "source": [
    "learner = ConvLearner.pretrained(arch, data)"
   ]
  },
  {
   "cell_type": "code",
   "execution_count": 10,
   "metadata": {
    "hidden": true
   },
   "outputs": [
    {
     "data": {
      "application/vnd.jupyter.widget-view+json": {
       "model_id": "37e722930892494fadcab757f18a8b3e",
       "version_major": 2,
       "version_minor": 0
      },
      "text/html": [
       "<p>Failed to display Jupyter Widget of type <code>HBox</code>.</p>\n",
       "<p>\n",
       "  If you're reading this message in the Jupyter Notebook or JupyterLab Notebook, it may mean\n",
       "  that the widgets JavaScript is still loading. If this message persists, it\n",
       "  likely means that the widgets JavaScript library is either not installed or\n",
       "  not enabled. See the <a href=\"https://ipywidgets.readthedocs.io/en/stable/user_install.html\">Jupyter\n",
       "  Widgets Documentation</a> for setup instructions.\n",
       "</p>\n",
       "<p>\n",
       "  If you're reading this message in another frontend (for example, a static\n",
       "  rendering on GitHub or <a href=\"https://nbviewer.jupyter.org/\">NBViewer</a>),\n",
       "  it may mean that your frontend doesn't currently support widgets.\n",
       "</p>\n"
      ],
      "text/plain": [
       "HBox(children=(IntProgress(value=0, description='Epoch', max=1), HTML(value='')))"
      ]
     },
     "metadata": {},
     "output_type": "display_data"
    },
    {
     "name": "stdout",
     "output_type": "stream",
     "text": [
      " 77%|███████▋  | 794/1026 [01:24<00:24,  9.42it/s, loss=2.01] "
     ]
    },
    {
     "data": {
      "image/png": "[encoded data removed]",
      "text/plain": [
       "<matplotlib.figure.Figure at 0x7f04f4527c88>"
      ]
     },
     "metadata": {},
     "output_type": "display_data"
    }
   ],
   "source": [
    "learner.lr_find()\n",
    "learner.sched.plot()"
   ]
  },
  {
   "cell_type": "code",
   "execution_count": 11,
   "metadata": {
    "hidden": true
   },
   "outputs": [],
   "source": [
    "λr = 2e-3"
   ]
  },
  {
   "cell_type": "code",
   "execution_count": 12,
   "metadata": {
    "collapsed": true,
    "hidden": true
   },
   "outputs": [
    {
     "data": {
      "application/vnd.jupyter.widget-view+json": {
       "model_id": "4417cbdc3db549fcb6cc71222d517d82",
       "version_major": 2,
       "version_minor": 0
      },
      "text/html": [
       "<p>Failed to display Jupyter Widget of type <code>HBox</code>.</p>\n",
       "<p>\n",
       "  If you're reading this message in the Jupyter Notebook or JupyterLab Notebook, it may mean\n",
       "  that the widgets JavaScript is still loading. If this message persists, it\n",
       "  likely means that the widgets JavaScript library is either not installed or\n",
       "  not enabled. See the <a href=\"https://ipywidgets.readthedocs.io/en/stable/user_install.html\">Jupyter\n",
       "  Widgets Documentation</a> for setup instructions.\n",
       "</p>\n",
       "<p>\n",
       "  If you're reading this message in another frontend (for example, a static\n",
       "  rendering on GitHub or <a href=\"https://nbviewer.jupyter.org/\">NBViewer</a>),\n",
       "  it may mean that your frontend doesn't currently support widgets.\n",
       "</p>\n"
      ],
      "text/plain": [
       "HBox(children=(IntProgress(value=0, description='Epoch', max=3), HTML(value='')))"
      ]
     },
     "metadata": {},
     "output_type": "display_data"
    },
    {
     "name": "stdout",
     "output_type": "stream",
     "text": [
      "\n",
      "  0%|          | 0/1026 [00:00<?, ?it/s]\u001b[A\n",
      "  0%|          | 0/1026 [00:00<?, ?it/s, loss=1.07]\u001b[A\n",
      "  0%|          | 1/1026 [00:00<07:18,  2.34it/s, loss=1.07]\u001b[A\n",
      "  0%|          | 1/1026 [00:00<09:02,  1.89it/s, loss=1.14]\u001b[A\n",
      "  0%|          | 2/1026 [00:00<04:33,  3.75it/s, loss=1.14]\u001b[A\n",
      "  0%|          | 2/1026 [00:00<05:26,  3.14it/s, loss=1.08]\u001b[A\n",
      "  0%|          | 3/1026 [00:00<03:38,  4.69it/s, loss=1.08]\u001b[A\n",
      "  0%|          | 3/1026 [00:00<04:13,  4.04it/s, loss=1.1] \u001b[A\n",
      "  0%|          | 4/1026 [00:00<03:11,  5.35it/s, loss=1.1]\u001b[A\n",
      "  0%|          | 4/1026 [00:00<03:36,  4.71it/s, loss=1.11]\u001b[A\n",
      "  0%|          | 5/1026 [00:00<02:54,  5.84it/s, loss=1.11]\u001b[A\n",
      "  0%|          | 5/1026 [00:00<03:16,  5.21it/s, loss=1.1] \u001b[A\n",
      "  1%|          | 6/1026 [00:00<02:43,  6.22it/s, loss=1.1]\u001b[A\n",
      "  1%|          | 6/1026 [00:01<03:00,  5.64it/s, loss=1.07]\u001b[A\n",
      "  1%|          | 7/1026 [00:01<02:35,  6.55it/s, loss=1.07]\u001b[A\n",
      "  1%|          | 7/1026 [00:01<02:50,  5.99it/s, loss=1.06]\u001b[A\n",
      "  1%|          | 8/1026 [00:01<02:29,  6.82it/s, loss=1.06]\u001b[A\n",
      "  1%|          | 8/1026 [00:01<02:41,  6.29it/s, loss=1.04]\u001b[A\n",
      "  1%|          | 9/1026 [00:01<02:24,  7.05it/s, loss=1.04]\u001b[A\n",
      "  1%|          | 9/1026 [00:01<02:35,  6.52it/s, loss=1.02]\u001b[A\n",
      "  1%|          | 10/1026 [00:01<02:21,  7.20it/s, loss=1.02]\u001b[A\n",
      "  1%|          | 10/1026 [00:01<02:31,  6.72it/s, loss=1.01]\u001b[A\n",
      "  1%|          | 11/1026 [00:01<02:17,  7.36it/s, loss=1.01]\u001b[A\n",
      "  1%|          | 11/1026 [00:01<02:27,  6.88it/s, loss=1.01]\u001b[A\n",
      "  1%|          | 12/1026 [00:01<02:15,  7.49it/s, loss=1.01]\u001b[A\n",
      "  1%|          | 12/1026 [00:01<02:23,  7.04it/s, loss=1.01]\u001b[A\n",
      "  1%|▏         | 13/1026 [00:01<02:13,  7.61it/s, loss=1.01]\u001b[A\n",
      "  1%|▏         | 13/1026 [00:01<02:20,  7.19it/s, loss=0.996]\u001b[A\n",
      "  1%|▏         | 14/1026 [00:01<02:11,  7.72it/s, loss=0.996]\u001b[A\n",
      "  1%|▏         | 14/1026 [00:01<02:18,  7.32it/s, loss=1.01] \u001b[A\n",
      "  1%|▏         | 15/1026 [00:01<02:09,  7.82it/s, loss=1.01]\u001b[A\n",
      "  1%|▏         | 15/1026 [00:02<02:16,  7.42it/s, loss=1.01]\u001b[A\n",
      "  2%|▏         | 16/1026 [00:02<02:07,  7.89it/s, loss=1.01]\u001b[A\n",
      "  2%|▏         | 16/1026 [00:02<02:14,  7.52it/s, loss=1.01]\u001b[A\n",
      "  2%|▏         | 17/1026 [00:02<02:06,  7.96it/s, loss=1.01]\u001b[A\n",
      "  2%|▏         | 17/1026 [00:02<02:12,  7.60it/s, loss=1]   \u001b[A\n",
      "  2%|▏         | 18/1026 [00:02<02:05,  8.02it/s, loss=1]\u001b[A\n",
      "  2%|▏         | 18/1026 [00:02<02:11,  7.69it/s, loss=1.02]\u001b[A\n",
      "  2%|▏         | 19/1026 [00:02<02:04,  8.10it/s, loss=1.02]\u001b[A\n",
      "  2%|▏         | 19/1026 [00:02<02:09,  7.77it/s, loss=1.02]\u001b[A\n",
      "  2%|▏         | 20/1026 [00:02<02:03,  8.17it/s, loss=1.02]\u001b[A\n",
      "  2%|▏         | 20/1026 [00:02<02:08,  7.85it/s, loss=1.01]\u001b[A\n",
      "  2%|▏         | 21/1026 [00:02<02:02,  8.23it/s, loss=1.01]\u001b[A\n",
      "  2%|▏         | 21/1026 [00:02<02:07,  7.91it/s, loss=1.02]\u001b[A\n",
      "  2%|▏         | 22/1026 [00:02<02:01,  8.27it/s, loss=1.02]\u001b[A\n",
      "  2%|▏         | 22/1026 [00:02<02:05,  7.97it/s, loss=1.01]\u001b[A\n",
      "  2%|▏         | 23/1026 [00:02<02:00,  8.32it/s, loss=1.01]\u001b[A\n",
      "  2%|▏         | 23/1026 [00:02<02:05,  8.02it/s, loss=1.01]\u001b[A\n",
      "  2%|▏         | 24/1026 [00:02<01:59,  8.36it/s, loss=1.01]\u001b[A\n",
      "  2%|▏         | 24/1026 [00:02<02:04,  8.08it/s, loss=1.01]\u001b[A\n",
      "  2%|▏         | 25/1026 [00:02<01:59,  8.40it/s, loss=1.01]\u001b[A\n",
      "  2%|▏         | 25/1026 [00:03<02:03,  8.12it/s, loss=1.01]\u001b[A\n",
      "  3%|▎         | 26/1026 [00:03<01:58,  8.43it/s, loss=1.01]\u001b[A\n",
      "  3%|▎         | 26/1026 [00:03<02:02,  8.18it/s, loss=1.01]\u001b[A\n",
      "  3%|▎         | 27/1026 [00:03<01:57,  8.48it/s, loss=1.01]\u001b[A\n",
      "  3%|▎         | 27/1026 [00:03<02:01,  8.21it/s, loss=1.01]\u001b[A\n",
      "  3%|▎         | 28/1026 [00:03<01:57,  8.49it/s, loss=1.01]\u001b[A\n",
      "  3%|▎         | 28/1026 [00:03<02:01,  8.25it/s, loss=1.01]\u001b[A\n",
      "  3%|▎         | 29/1026 [00:03<01:56,  8.53it/s, loss=1.01]\u001b[A\n",
      "  3%|▎         | 29/1026 [00:03<02:00,  8.28it/s, loss=1]   \u001b[A\n",
      "  3%|▎         | 30/1026 [00:03<01:56,  8.56it/s, loss=1]\u001b[A\n",
      "  3%|▎         | 30/1026 [00:03<01:59,  8.32it/s, loss=1.01]\u001b[A\n",
      "  3%|▎         | 31/1026 [00:03<01:55,  8.58it/s, loss=1.01]\u001b[A\n",
      "  3%|▎         | 31/1026 [00:03<01:59,  8.35it/s, loss=1]   \u001b[A\n",
      "  3%|▎         | 32/1026 [00:03<01:55,  8.61it/s, loss=1]\u001b[A\n",
      "  3%|▎         | 32/1026 [00:03<01:58,  8.37it/s, loss=0.995]\u001b[A\n",
      "  3%|▎         | 33/1026 [00:03<01:55,  8.63it/s, loss=0.995]\u001b[A\n",
      "  3%|▎         | 33/1026 [00:03<01:58,  8.40it/s, loss=0.988]\u001b[A\n",
      "  3%|▎         | 34/1026 [00:03<01:54,  8.64it/s, loss=0.988]\u001b[A\n",
      "  3%|▎         | 34/1026 [00:04<01:57,  8.42it/s, loss=0.989]\u001b[A\n",
      "  3%|▎         | 35/1026 [00:04<01:54,  8.66it/s, loss=0.989]\u001b[A\n",
      "  3%|▎         | 35/1026 [00:04<01:57,  8.45it/s, loss=0.99] \u001b[A\n",
      "  4%|▎         | 36/1026 [00:04<01:54,  8.68it/s, loss=0.99]\u001b[A\n",
      "  4%|▎         | 36/1026 [00:04<01:56,  8.48it/s, loss=0.985]\u001b[A\n",
      "  4%|▎         | 37/1026 [00:04<01:53,  8.70it/s, loss=0.985]\u001b[A\n",
      "  4%|▎         | 37/1026 [00:04<01:56,  8.50it/s, loss=0.979]\u001b[A\n",
      "  4%|▎         | 38/1026 [00:04<01:53,  8.72it/s, loss=0.979]\u001b[A\n",
      "  4%|▎         | 38/1026 [00:04<01:55,  8.52it/s, loss=0.976]\u001b[A\n",
      "  4%|▍         | 39/1026 [00:04<01:53,  8.73it/s, loss=0.976]\u001b[A\n",
      "  4%|▍         | 39/1026 [00:04<01:55,  8.54it/s, loss=0.978]\u001b[A\n",
      "  4%|▍         | 40/1026 [00:04<01:52,  8.74it/s, loss=0.978]\u001b[A\n",
      "  4%|▍         | 40/1026 [00:04<01:55,  8.55it/s, loss=0.973]\u001b[A\n",
      "  4%|▍         | 41/1026 [00:04<01:52,  8.75it/s, loss=0.973]\u001b[A\n",
      "  4%|▍         | 41/1026 [00:04<01:54,  8.57it/s, loss=0.976]\u001b[A\n",
      "  4%|▍         | 42/1026 [00:04<01:52,  8.77it/s, loss=0.976]\u001b[A\n",
      "  4%|▍         | 42/1026 [00:04<01:54,  8.59it/s, loss=0.973]\u001b[A\n",
      "  4%|▍         | 43/1026 [00:04<01:51,  8.78it/s, loss=0.973]\u001b[A\n",
      "  4%|▍         | 43/1026 [00:05<01:54,  8.60it/s, loss=0.975]\u001b[A\n",
      "  4%|▍         | 44/1026 [00:05<01:51,  8.79it/s, loss=0.975]\u001b[A\n",
      "  4%|▍         | 44/1026 [00:05<01:53,  8.62it/s, loss=0.969]\u001b[A\n",
      "  4%|▍         | 45/1026 [00:05<01:51,  8.80it/s, loss=0.969]\u001b[A\n",
      "  4%|▍         | 45/1026 [00:05<01:53,  8.63it/s, loss=0.978]\u001b[A\n",
      "  4%|▍         | 46/1026 [00:05<01:51,  8.82it/s, loss=0.978]\u001b[A\n",
      "  4%|▍         | 46/1026 [00:05<01:53,  8.65it/s, loss=0.979]\u001b[A\n",
      "  5%|▍         | 47/1026 [00:05<01:50,  8.83it/s, loss=0.979]\u001b[A\n",
      "  5%|▍         | 47/1026 [00:05<01:52,  8.67it/s, loss=0.975]\u001b[A\n",
      "  5%|▍         | 48/1026 [00:05<01:50,  8.84it/s, loss=0.975]\u001b[A\n",
      "  5%|▍         | 48/1026 [00:05<01:52,  8.68it/s, loss=0.975]\u001b[A\n",
      "  5%|▍         | 49/1026 [00:05<01:50,  8.85it/s, loss=0.975]\u001b[A\n",
      "  5%|▍         | 49/1026 [00:05<01:52,  8.69it/s, loss=0.974]\u001b[A\n",
      "  5%|▍         | 50/1026 [00:05<01:50,  8.87it/s, loss=0.974]\u001b[A\n",
      "  5%|▍         | 50/1026 [00:05<01:52,  8.71it/s, loss=0.974]\u001b[A\n",
      "  5%|▍         | 51/1026 [00:05<01:49,  8.88it/s, loss=0.974]\u001b[A\n",
      "  5%|▍         | 51/1026 [00:05<01:51,  8.73it/s, loss=0.968]\u001b[A\n",
      "  5%|▌         | 52/1026 [00:05<01:49,  8.89it/s, loss=0.968]\u001b[A\n",
      "  5%|▌         | 52/1026 [00:05<01:51,  8.74it/s, loss=0.983]\u001b[A\n",
      "  5%|▌         | 53/1026 [00:05<01:49,  8.90it/s, loss=0.983]\u001b[A\n",
      "  5%|▌         | 53/1026 [00:06<01:51,  8.76it/s, loss=0.989]\u001b[A\n",
      "  5%|▌         | 54/1026 [00:06<01:49,  8.92it/s, loss=0.989]\u001b[A\n",
      "  5%|▌         | 54/1026 [00:06<01:50,  8.78it/s, loss=0.978]\u001b[A\n",
      "  5%|▌         | 55/1026 [00:06<01:48,  8.93it/s, loss=0.978]\u001b[A\n",
      "  5%|▌         | 55/1026 [00:06<01:50,  8.79it/s, loss=0.973]\u001b[A\n",
      "  5%|▌         | 56/1026 [00:06<01:48,  8.94it/s, loss=0.973]\u001b[A\n",
      "  5%|▌         | 56/1026 [00:06<01:50,  8.80it/s, loss=0.973]\u001b[A\n",
      "  6%|▌         | 57/1026 [00:06<01:48,  8.94it/s, loss=0.973]\u001b[A\n",
      "  6%|▌         | 57/1026 [00:06<01:50,  8.79it/s, loss=0.968]\u001b[A\n",
      "  6%|▌         | 58/1026 [00:06<01:48,  8.94it/s, loss=0.968]\u001b[A\n",
      "  6%|▌         | 58/1026 [00:06<01:49,  8.80it/s, loss=0.971]\u001b[A\n",
      "  6%|▌         | 59/1026 [00:06<01:48,  8.95it/s, loss=0.971]\u001b[A\n",
      "  6%|▌         | 59/1026 [00:06<01:49,  8.81it/s, loss=0.962]\u001b[A\n",
      "  6%|▌         | 60/1026 [00:06<01:47,  8.96it/s, loss=0.962]\u001b[A\n",
      "  6%|▌         | 60/1026 [00:06<01:49,  8.83it/s, loss=0.958]\u001b[A\n",
      "  6%|▌         | 61/1026 [00:06<01:47,  8.97it/s, loss=0.958]\u001b[A\n",
      "  6%|▌         | 61/1026 [00:06<01:49,  8.84it/s, loss=0.955]\u001b[A\n",
      "  6%|▌         | 62/1026 [00:06<01:47,  8.97it/s, loss=0.955]\u001b[A\n",
      "  6%|▌         | 62/1026 [00:07<01:49,  8.84it/s, loss=0.95] \u001b[A\n",
      "  6%|▌         | 63/1026 [00:07<01:47,  8.98it/s, loss=0.95]\u001b[A\n",
      "  6%|▌         | 63/1026 [00:07<01:48,  8.86it/s, loss=0.945]\u001b[A\n",
      "  6%|▌         | 64/1026 [00:07<01:47,  8.99it/s, loss=0.945]\u001b[A\n",
      "  6%|▌         | 64/1026 [00:07<01:48,  8.87it/s, loss=0.942]\u001b[A\n",
      "  6%|▋         | 65/1026 [00:07<01:46,  9.00it/s, loss=0.942]\u001b[A\n",
      "  6%|▋         | 65/1026 [00:07<01:48,  8.87it/s, loss=0.94] \u001b[A\n",
      "  6%|▋         | 66/1026 [00:07<01:46,  9.01it/s, loss=0.94]\u001b[A\n",
      "  6%|▋         | 66/1026 [00:07<01:48,  8.88it/s, loss=0.928]\u001b[A\n",
      "  7%|▋         | 67/1026 [00:07<01:46,  9.01it/s, loss=0.928]\u001b[A\n",
      "  7%|▋         | 67/1026 [00:07<01:47,  8.89it/s, loss=0.92] \u001b[A\n",
      "  7%|▋         | 68/1026 [00:07<01:46,  9.02it/s, loss=0.92]\u001b[A\n",
      "  7%|▋         | 68/1026 [00:07<01:47,  8.90it/s, loss=0.915]\u001b[A\n",
      "  7%|▋         | 69/1026 [00:07<01:46,  9.02it/s, loss=0.915]\u001b[A\n",
      "  7%|▋         | 69/1026 [00:07<01:47,  8.90it/s, loss=0.905]\u001b[A\n",
      "  7%|▋         | 70/1026 [00:07<01:45,  9.03it/s, loss=0.905]\u001b[A\n",
      "  7%|▋         | 70/1026 [00:07<01:47,  8.91it/s, loss=0.898]\u001b[A\n",
      "  7%|▋         | 71/1026 [00:07<01:45,  9.03it/s, loss=0.898]\u001b[A\n",
      "  7%|▋         | 71/1026 [00:07<01:47,  8.92it/s, loss=0.888]\u001b[A\n",
      "  7%|▋         | 72/1026 [00:07<01:45,  9.04it/s, loss=0.888]\u001b[A\n",
      "  7%|▋         | 72/1026 [00:08<01:46,  8.93it/s, loss=0.879]\u001b[A\n",
      "  7%|▋         | 73/1026 [00:08<01:45,  9.05it/s, loss=0.879]\u001b[A\n",
      "  7%|▋         | 73/1026 [00:08<01:46,  8.94it/s, loss=0.872]\u001b[A\n",
      "  7%|▋         | 74/1026 [00:08<01:45,  9.05it/s, loss=0.872]\u001b[A\n",
      "  7%|▋         | 74/1026 [00:08<01:46,  8.95it/s, loss=0.867]\u001b[A\n",
      "  7%|▋         | 75/1026 [00:08<01:44,  9.06it/s, loss=0.867]\u001b[A\n",
      "  7%|▋         | 75/1026 [00:08<01:46,  8.95it/s, loss=0.855]\u001b[A\n",
      "  7%|▋         | 76/1026 [00:08<01:44,  9.07it/s, loss=0.855]\u001b[A\n",
      "  7%|▋         | 76/1026 [00:08<01:45,  8.96it/s, loss=0.851]\u001b[A\n",
      "  8%|▊         | 77/1026 [00:08<01:44,  9.08it/s, loss=0.851]\u001b[A\n",
      "  8%|▊         | 77/1026 [00:08<01:45,  8.97it/s, loss=0.84] \u001b[A\n",
      "  8%|▊         | 78/1026 [00:08<01:44,  9.08it/s, loss=0.84]\u001b[A\n",
      "  8%|▊         | 78/1026 [00:08<01:45,  8.98it/s, loss=0.835]\u001b[A\n",
      "  8%|▊         | 79/1026 [00:08<01:44,  9.09it/s, loss=0.835]\u001b[A\n",
      "\n",
      "  8%|▊         | 79/1026 [00:08<01:45,  8.98it/s, loss=0.828]\u001b[A\n",
      "  8%|▊         | 81/1026 [00:08<01:43,  9.10it/s, loss=0.825]\u001b[A"
     ]
    },
    {
     "name": "stderr",
     "output_type": "stream",
     "text": [
      "Exception in thread Thread-5:\n",
      "Traceback (most recent call last):\n",
      "  File \"/home/wnixalo/miniconda3/envs/fastai/lib/python3.6/threading.py\", line 916, in _bootstrap_inner\n",
      "    self.run()\n",
      "  File \"/home/wnixalo/miniconda3/envs/fastai/lib/python3.6/site-packages/tqdm/_tqdm.py\", line 144, in run\n",
      "    for instance in self.tqdm_cls._instances:\n",
      "  File \"/home/wnixalo/miniconda3/envs/fastai/lib/python3.6/_weakrefset.py\", line 60, in __iter__\n",
      "    for itemref in self.data:\n",
      "RuntimeError: Set changed size during iteration\n",
      "\n",
      "Exception in thread Thread-6:\n",
      "Traceback (most recent call last):\n",
      "  File \"/home/wnixalo/miniconda3/envs/fastai/lib/python3.6/threading.py\", line 916, in _bootstrap_inner\n",
      "    self.run()\n",
      "  File \"/home/wnixalo/miniconda3/envs/fastai/lib/python3.6/site-packages/tqdm/_tqdm.py\", line 144, in run\n",
      "    for instance in self.tqdm_cls._instances:\n",
      "  File \"/home/wnixalo/miniconda3/envs/fastai/lib/python3.6/_weakrefset.py\", line 60, in __iter__\n",
      "    for itemref in self.data:\n",
      "RuntimeError: Set changed size during iteration\n",
      "\n"
     ]
    },
    {
     "name": "stdout",
     "output_type": "stream",
     "text": [
      "[ 0.       0.40057  0.34499  0.82442]                          \n",
      "[ 1.       0.35677  0.30631  0.85457]                          \n",
      "[ 2.       0.35292  0.28403  0.86406]                          \n",
      "\n"
     ]
    }
   ],
   "source": [
    "learner.fit(λr, 3, cycle_len=1)"
   ]
  },
  {
   "cell_type": "code",
   "execution_count": 13,
   "metadata": {
    "hidden": true
   },
   "outputs": [
    {
     "data": {
      "application/vnd.jupyter.widget-view+json": {
       "model_id": "64856f5acbb44a8695887705d20e51ec",
       "version_major": 2,
       "version_minor": 0
      },
      "text/html": [
       "<p>Failed to display Jupyter Widget of type <code>HBox</code>.</p>\n",
       "<p>\n",
       "  If you're reading this message in the Jupyter Notebook or JupyterLab Notebook, it may mean\n",
       "  that the widgets JavaScript is still loading. If this message persists, it\n",
       "  likely means that the widgets JavaScript library is either not installed or\n",
       "  not enabled. See the <a href=\"https://ipywidgets.readthedocs.io/en/stable/user_install.html\">Jupyter\n",
       "  Widgets Documentation</a> for setup instructions.\n",
       "</p>\n",
       "<p>\n",
       "  If you're reading this message in another frontend (for example, a static\n",
       "  rendering on GitHub or <a href=\"https://nbviewer.jupyter.org/\">NBViewer</a>),\n",
       "  it may mean that your frontend doesn't currently support widgets.\n",
       "</p>\n"
      ],
      "text/plain": [
       "HBox(children=(IntProgress(value=0, description='Epoch', max=6), HTML(value='')))"
      ]
     },
     "metadata": {},
     "output_type": "display_data"
    },
    {
     "name": "stdout",
     "output_type": "stream",
     "text": [
      "[ 0.       0.33354  0.26675  0.87767]                          \n",
      "[ 1.       0.32525  0.25844  0.88412]                          \n",
      "[ 2.       0.31892  0.24172  0.89664]                          \n",
      "[ 3.       0.29591  0.23781  0.90078]                          \n",
      "[ 4.       0.30765  0.22929  0.90674]                          \n",
      "[ 5.       0.29556  0.227    0.90674]                          \n",
      "\n",
      "CPU times: user 31min 53s, sys: 3min 54s, total: 35min 47s\n",
      "Wall time: 12min 54s\n"
     ]
    }
   ],
   "source": [
    "%time learner.fit(λr, 3, cycle_len=2)"
   ]
  },
  {
   "cell_type": "code",
   "execution_count": 14,
   "metadata": {
    "hidden": true
   },
   "outputs": [],
   "source": [
    "learner.save('100')"
   ]
  },
  {
   "cell_type": "code",
   "execution_count": 15,
   "metadata": {
    "hidden": true
   },
   "outputs": [
    {
     "data": {
      "application/vnd.jupyter.widget-view+json": {
       "model_id": "16b751dc941d469a86bbb38dc63193e8",
       "version_major": 2,
       "version_minor": 0
      },
      "text/html": [
       "<p>Failed to display Jupyter Widget of type <code>HBox</code>.</p>\n",
       "<p>\n",
       "  If you're reading this message in the Jupyter Notebook or JupyterLab Notebook, it may mean\n",
       "  that the widgets JavaScript is still loading. If this message persists, it\n",
       "  likely means that the widgets JavaScript library is either not installed or\n",
       "  not enabled. See the <a href=\"https://ipywidgets.readthedocs.io/en/stable/user_install.html\">Jupyter\n",
       "  Widgets Documentation</a> for setup instructions.\n",
       "</p>\n",
       "<p>\n",
       "  If you're reading this message in another frontend (for example, a static\n",
       "  rendering on GitHub or <a href=\"https://nbviewer.jupyter.org/\">NBViewer</a>),\n",
       "  it may mean that your frontend doesn't currently support widgets.\n",
       "</p>\n"
      ],
      "text/plain": [
       "HBox(children=(IntProgress(value=0, description='Epoch', max=14), HTML(value='')))"
      ]
     },
     "metadata": {},
     "output_type": "display_data"
    },
    {
     "name": "stdout",
     "output_type": "stream",
     "text": [
      "[ 0.       0.30655  0.224    0.90382]                          \n",
      "[ 1.       0.29098  0.22193  0.90965]                          \n",
      "[ 2.       0.26844  0.21412  0.91221]                          \n",
      "[ 3.       0.26111  0.21233  0.91634]                          \n",
      "[ 4.       0.26798  0.20129  0.91464]                          \n",
      "[ 5.       0.26162  0.2063   0.9189 ]                          \n",
      "[ 6.       0.26926  0.20507  0.90978]                          \n",
      "[ 7.       0.26509  0.20278  0.91148]                          \n",
      "[ 8.       0.25779  0.18544  0.92558]                          \n",
      "[ 9.       0.23394  0.18239  0.9268 ]                          \n",
      "[ 10.        0.24376   0.18494   0.92449]                      \n",
      "[ 11.        0.2402    0.18218   0.92583]                      \n",
      "[ 12.        0.24941   0.1784    0.92498]                      \n",
      "[ 13.        0.25138   0.18083   0.92814]                      \n",
      "\n",
      "CPU times: user 1h 13min 54s, sys: 9min 13s, total: 1h 23min 7s\n",
      "Wall time: 30min 15s\n"
     ]
    }
   ],
   "source": [
    "%time learner.fit(λr, 3, cycle_len=2, cycle_mult=2)"
   ]
  },
  {
   "cell_type": "code",
   "execution_count": 16,
   "metadata": {
    "hidden": true
   },
   "outputs": [],
   "source": [
    "learner.save('100')"
   ]
  },
  {
   "cell_type": "code",
   "execution_count": 17,
   "metadata": {
    "hidden": true
   },
   "outputs": [],
   "source": [
    "data = ImageClassifierData.from_csv(PATH, 'train', label_csv, bs=16, tfms=tfms,\n",
    "                                    suffix='.jpg', val_idxs=val_idxs, num_workers=8)\n",
    "learner.set_data(data)\n",
    "λr = λr/2 # lowering learning rate due to lower batch size"
   ]
  },
  {
   "cell_type": "code",
   "execution_count": 19,
   "metadata": {
    "hidden": true
   },
   "outputs": [],
   "source": [
    "λrs = [λr/1e2, λr/1e1, λr]\n",
    "learner.unfreeze()"
   ]
  },
  {
   "cell_type": "code",
   "execution_count": 20,
   "metadata": {
    "hidden": true
   },
   "outputs": [
    {
     "data": {
      "application/vnd.jupyter.widget-view+json": {
       "model_id": "85e7e822e78b4a9387969cad58f7b508",
       "version_major": 2,
       "version_minor": 0
      },
      "text/html": [
       "<p>Failed to display Jupyter Widget of type <code>HBox</code>.</p>\n",
       "<p>\n",
       "  If you're reading this message in the Jupyter Notebook or JupyterLab Notebook, it may mean\n",
       "  that the widgets JavaScript is still loading. If this message persists, it\n",
       "  likely means that the widgets JavaScript library is either not installed or\n",
       "  not enabled. See the <a href=\"https://ipywidgets.readthedocs.io/en/stable/user_install.html\">Jupyter\n",
       "  Widgets Documentation</a> for setup instructions.\n",
       "</p>\n",
       "<p>\n",
       "  If you're reading this message in another frontend (for example, a static\n",
       "  rendering on GitHub or <a href=\"https://nbviewer.jupyter.org/\">NBViewer</a>),\n",
       "  it may mean that your frontend doesn't currently support widgets.\n",
       "</p>\n"
      ],
      "text/plain": [
       "HBox(children=(IntProgress(value=0, description='Epoch', max=1), HTML(value='')))"
      ]
     },
     "metadata": {},
     "output_type": "display_data"
    },
    {
     "name": "stdout",
     "output_type": "stream",
     "text": [
      "[ 0.       0.27783  0.20637  0.92373]                          \n",
      "\n",
      "CPU times: user 9min 18s, sys: 2min 32s, total: 11min 51s\n",
      "Wall time: 8min 2s\n"
     ]
    }
   ],
   "source": [
    "# testing GPU mem usage & time ## 1890-3006/3017 @ size=100\n",
    "%time learner.fit(λrs, 1, cycle_len=1, cycle_mult=1)"
   ]
  },
  {
   "cell_type": "code",
   "execution_count": 21,
   "metadata": {
    "hidden": true
   },
   "outputs": [],
   "source": [
    "learner.save('100_uf')"
   ]
  },
  {
   "cell_type": "code",
   "execution_count": 23,
   "metadata": {
    "hidden": true
   },
   "outputs": [
    {
     "data": {
      "application/vnd.jupyter.widget-view+json": {
       "model_id": "d32d97c1488f4482a8d2e5eae8c1afe7",
       "version_major": 2,
       "version_minor": 0
      },
      "text/html": [
       "<p>Failed to display Jupyter Widget of type <code>HBox</code>.</p>\n",
       "<p>\n",
       "  If you're reading this message in the Jupyter Notebook or JupyterLab Notebook, it may mean\n",
       "  that the widgets JavaScript is still loading. If this message persists, it\n",
       "  likely means that the widgets JavaScript library is either not installed or\n",
       "  not enabled. See the <a href=\"https://ipywidgets.readthedocs.io/en/stable/user_install.html\">Jupyter\n",
       "  Widgets Documentation</a> for setup instructions.\n",
       "</p>\n",
       "<p>\n",
       "  If you're reading this message in another frontend (for example, a static\n",
       "  rendering on GitHub or <a href=\"https://nbviewer.jupyter.org/\">NBViewer</a>),\n",
       "  it may mean that your frontend doesn't currently support widgets.\n",
       "</p>\n"
      ],
      "text/plain": [
       "HBox(children=(IntProgress(value=0, description='Epoch', max=7), HTML(value='')))"
      ]
     },
     "metadata": {},
     "output_type": "display_data"
    },
    {
     "name": "stdout",
     "output_type": "stream",
     "text": [
      "[ 0.       0.22614  0.15489  0.94189]                          \n",
      "[ 1.       0.19981  0.10811  0.95663]                          \n",
      "[ 2.       0.15412  0.10415  0.95785]                          \n",
      "[ 3.       0.15563  0.0907   0.96357]                          \n",
      "[ 4.       0.134    0.07376  0.97234]                          \n",
      "[ 5.       0.13234  0.06936  0.97283]                           \n",
      "[ 6.       0.10379  0.074    0.97234]                           \n",
      "\n"
     ]
    }
   ],
   "source": [
    "learner.fit(λrs, 3, cycle_len=1, cycle_mult=2)"
   ]
  },
  {
   "cell_type": "code",
   "execution_count": 24,
   "metadata": {
    "hidden": true
   },
   "outputs": [],
   "source": [
    "learner.save('100_uf')"
   ]
  },
  {
   "cell_type": "code",
   "execution_count": 27,
   "metadata": {
    "hidden": true
   },
   "outputs": [
    {
     "data": {
      "application/vnd.jupyter.widget-view+json": {
       "model_id": "3355ce86c445477aa53f06b17d12521a",
       "version_major": 2,
       "version_minor": 0
      },
      "text/html": [
       "<p>Failed to display Jupyter Widget of type <code>HBox</code>.</p>\n",
       "<p>\n",
       "  If you're reading this message in the Jupyter Notebook or JupyterLab Notebook, it may mean\n",
       "  that the widgets JavaScript is still loading. If this message persists, it\n",
       "  likely means that the widgets JavaScript library is either not installed or\n",
       "  not enabled. See the <a href=\"https://ipywidgets.readthedocs.io/en/stable/user_install.html\">Jupyter\n",
       "  Widgets Documentation</a> for setup instructions.\n",
       "</p>\n",
       "<p>\n",
       "  If you're reading this message in another frontend (for example, a static\n",
       "  rendering on GitHub or <a href=\"https://nbviewer.jupyter.org/\">NBViewer</a>),\n",
       "  it may mean that your frontend doesn't currently support widgets.\n",
       "</p>\n"
      ],
      "text/plain": [
       "HBox(children=(IntProgress(value=0, max=6), HTML(value='')))"
      ]
     },
     "metadata": {},
     "output_type": "display_data"
    },
    {
     "name": "stdout",
     "output_type": "stream",
     "text": [
      "                                                       \n"
     ]
    },
    {
     "data": {
      "text/plain": [
       "<fastai_lin.dataset.ImageClassifierData at 0x7f046c6d3b38>"
      ]
     },
     "execution_count": 27,
     "metadata": {},
     "output_type": "execute_result"
    }
   ],
   "source": [
    "size = 200\n",
    "tfms = tfms_from_model(arch, size, aug_tfms=transforms_side_on, max_zoom=1.1)\n",
    "data = ImageClassifierData.from_csv(PATH, 'train', label_csv, bs=16, tfms=tfms,\n",
    "                                    suffix='.jpg', val_idxs=val_idxs, num_workers=8)\n",
    "data.resize(int(size), 'tmp')"
   ]
  },
  {
   "cell_type": "code",
   "execution_count": 28,
   "metadata": {
    "hidden": true
   },
   "outputs": [],
   "source": [
    "learner.set_data(data)"
   ]
  },
  {
   "cell_type": "code",
   "execution_count": 29,
   "metadata": {
    "collapsed": true,
    "hidden": true
   },
   "outputs": [
    {
     "data": {
      "application/vnd.jupyter.widget-view+json": {
       "model_id": "4b79bcfa73304b5381fe6c11168169fd",
       "version_major": 2,
       "version_minor": 0
      },
      "text/html": [
       "<p>Failed to display Jupyter Widget of type <code>HBox</code>.</p>\n",
       "<p>\n",
       "  If you're reading this message in the Jupyter Notebook or JupyterLab Notebook, it may mean\n",
       "  that the widgets JavaScript is still loading. If this message persists, it\n",
       "  likely means that the widgets JavaScript library is either not installed or\n",
       "  not enabled. See the <a href=\"https://ipywidgets.readthedocs.io/en/stable/user_install.html\">Jupyter\n",
       "  Widgets Documentation</a> for setup instructions.\n",
       "</p>\n",
       "<p>\n",
       "  If you're reading this message in another frontend (for example, a static\n",
       "  rendering on GitHub or <a href=\"https://nbviewer.jupyter.org/\">NBViewer</a>),\n",
       "  it may mean that your frontend doesn't currently support widgets.\n",
       "</p>\n"
      ],
      "text/plain": [
       "HBox(children=(IntProgress(value=0, description='Epoch', max=1), HTML(value='')))"
      ]
     },
     "metadata": {},
     "output_type": "display_data"
    },
    {
     "name": "stdout",
     "output_type": "stream",
     "text": [
      " 71%|███████   | 1452/2052 [03:42<01:31,  6.52it/s, loss=1.43] "
     ]
    },
    {
     "ename": "NameError",
     "evalue": "name 'learn' is not defined",
     "output_type": "error",
     "traceback": [
      "\u001b[0;31m-------------------------------------------------------------------------\u001b[0m",
      "\u001b[0;31mNameError\u001b[0m                               Traceback (most recent call last)",
      "\u001b[0;32m<ipython-input-29-15d5855b3aaa>\u001b[0m in \u001b[0;36m<module>\u001b[0;34m()\u001b[0m\n\u001b[1;32m      1\u001b[0m \u001b[0mlearner\u001b[0m\u001b[0;34m.\u001b[0m\u001b[0mlr_find\u001b[0m\u001b[0;34m(\u001b[0m\u001b[0;34m)\u001b[0m\u001b[0;34m\u001b[0m\u001b[0m\n\u001b[0;32m----> 2\u001b[0;31m \u001b[0mlearn\u001b[0m\u001b[0;34m.\u001b[0m\u001b[0msched\u001b[0m\u001b[0;34m.\u001b[0m\u001b[0mplot\u001b[0m\u001b[0;34m(\u001b[0m\u001b[0;34m)\u001b[0m\u001b[0;34m\u001b[0m\u001b[0m\n\u001b[0m",
      "\u001b[0;31mNameError\u001b[0m: name 'learn' is not defined"
     ]
    }
   ],
   "source": [
    "# forgot to refreeze Conv layers\n",
    "learner.lr_find()"
   ]
  },
  {
   "cell_type": "code",
   "execution_count": 30,
   "metadata": {
    "hidden": true
   },
   "outputs": [
    {
     "data": {
      "image/png": "[encoded data removed]",
      "text/plain": [
       "<matplotlib.figure.Figure at 0x7f04f39359b0>"
      ]
     },
     "metadata": {},
     "output_type": "display_data"
    }
   ],
   "source": [
    "learner.sched.plot()"
   ]
  },
  {
   "cell_type": "code",
   "execution_count": 31,
   "metadata": {
    "hidden": true
   },
   "outputs": [],
   "source": [
    "learner.freeze()"
   ]
  },
  {
   "cell_type": "code",
   "execution_count": 32,
   "metadata": {
    "collapsed": true,
    "hidden": true
   },
   "outputs": [
    {
     "data": {
      "application/vnd.jupyter.widget-view+json": {
       "model_id": "1541ddcaae0c4aba909c7af219dce8bb",
       "version_major": 2,
       "version_minor": 0
      },
      "text/html": [
       "<p>Failed to display Jupyter Widget of type <code>HBox</code>.</p>\n",
       "<p>\n",
       "  If you're reading this message in the Jupyter Notebook or JupyterLab Notebook, it may mean\n",
       "  that the widgets JavaScript is still loading. If this message persists, it\n",
       "  likely means that the widgets JavaScript library is either not installed or\n",
       "  not enabled. See the <a href=\"https://ipywidgets.readthedocs.io/en/stable/user_install.html\">Jupyter\n",
       "  Widgets Documentation</a> for setup instructions.\n",
       "</p>\n",
       "<p>\n",
       "  If you're reading this message in another frontend (for example, a static\n",
       "  rendering on GitHub or <a href=\"https://nbviewer.jupyter.org/\">NBViewer</a>),\n",
       "  it may mean that your frontend doesn't currently support widgets.\n",
       "</p>\n"
      ],
      "text/plain": [
       "HBox(children=(IntProgress(value=0, description='Epoch', max=1), HTML(value='')))"
      ]
     },
     "metadata": {},
     "output_type": "display_data"
    },
    {
     "name": "stdout",
     "output_type": "stream",
     "text": [
      "\n",
      "  0%|          | 0/2052 [00:00<?, ?it/s]\u001b[A\n",
      "  0%|          | 0/2052 [00:00<?, ?it/s, loss=0.643]\u001b[A\n",
      "  0%|          | 1/2052 [00:00<15:17,  2.23it/s, loss=0.643]\u001b[A\n",
      "  0%|          | 1/2052 [00:00<20:33,  1.66it/s, loss=0.931]\u001b[A\n",
      "  0%|          | 2/2052 [00:00<10:21,  3.30it/s, loss=0.931]\u001b[A\n",
      "  0%|          | 2/2052 [00:00<12:59,  2.63it/s, loss=0.921]\u001b[A\n",
      "  0%|          | 3/2052 [00:00<08:43,  3.92it/s, loss=0.921]\u001b[A\n",
      "  0%|          | 3/2052 [00:00<10:27,  3.26it/s, loss=0.702]\u001b[A\n",
      "  0%|          | 4/2052 [00:00<07:54,  4.31it/s, loss=0.702]\u001b[A\n",
      "  0%|          | 4/2052 [00:01<09:13,  3.70it/s, loss=0.73] \u001b[A\n",
      "  0%|          | 5/2052 [00:01<07:24,  4.61it/s, loss=0.73]\u001b[A\n",
      "  0%|          | 5/2052 [00:01<08:28,  4.03it/s, loss=0.757]\u001b[A\n",
      "  0%|          | 6/2052 [00:01<07:04,  4.82it/s, loss=0.757]\u001b[A\n",
      "  0%|          | 6/2052 [00:01<07:56,  4.29it/s, loss=0.751]\u001b[A\n",
      "  0%|          | 7/2052 [00:01<06:50,  4.99it/s, loss=0.751]\u001b[A\n",
      "  0%|          | 7/2052 [00:01<07:34,  4.50it/s, loss=0.854]\u001b[A\n",
      "  0%|          | 8/2052 [00:01<06:39,  5.11it/s, loss=0.854]\u001b[A\n",
      "  0%|          | 8/2052 [00:01<07:19,  4.65it/s, loss=0.812]\u001b[A\n",
      "  0%|          | 9/2052 [00:01<06:31,  5.21it/s, loss=0.812]\u001b[A\n",
      "  0%|          | 9/2052 [00:01<07:08,  4.77it/s, loss=0.743]\u001b[A\n",
      "  0%|          | 10/2052 [00:01<06:26,  5.28it/s, loss=0.743]\u001b[A\n",
      "  0%|          | 10/2052 [00:02<06:58,  4.88it/s, loss=0.689]\u001b[A\n",
      "  1%|          | 11/2052 [00:02<06:20,  5.36it/s, loss=0.689]\u001b[A\n",
      "  1%|          | 11/2052 [00:02<06:49,  4.98it/s, loss=0.648]\u001b[A\n",
      "  1%|          | 12/2052 [00:02<06:16,  5.42it/s, loss=0.648]\u001b[A\n",
      "  1%|          | 12/2052 [00:02<06:43,  5.06it/s, loss=0.608]\u001b[A\n",
      "  1%|          | 13/2052 [00:02<06:12,  5.47it/s, loss=0.608]\u001b[A\n",
      "  1%|          | 13/2052 [00:02<06:36,  5.14it/s, loss=0.58] \u001b[A\n",
      "  1%|          | 14/2052 [00:02<06:09,  5.51it/s, loss=0.58]\u001b[A\n",
      "  1%|          | 14/2052 [00:02<06:32,  5.20it/s, loss=0.608]\u001b[A\n",
      "  1%|          | 15/2052 [00:02<06:06,  5.55it/s, loss=0.608]\u001b[A\n",
      "  1%|          | 15/2052 [00:02<06:27,  5.25it/s, loss=0.57] \u001b[A\n",
      "  1%|          | 16/2052 [00:02<06:05,  5.58it/s, loss=0.57]\u001b[A\n",
      "  1%|          | 16/2052 [00:03<06:24,  5.29it/s, loss=0.562]\u001b[A\n",
      "  1%|          | 17/2052 [00:03<06:02,  5.61it/s, loss=0.562]\u001b[A\n",
      "  1%|          | 17/2052 [00:03<06:21,  5.34it/s, loss=0.546]\u001b[A\n",
      "  1%|          | 18/2052 [00:03<06:00,  5.64it/s, loss=0.546]\u001b[A\n",
      "  1%|          | 18/2052 [00:03<06:18,  5.38it/s, loss=0.59] \u001b[A\n",
      "  1%|          | 19/2052 [00:03<05:59,  5.66it/s, loss=0.59]\u001b[A\n",
      "  1%|          | 19/2052 [00:03<06:15,  5.41it/s, loss=0.562]\u001b[A\n",
      "  1%|          | 20/2052 [00:03<05:58,  5.67it/s, loss=0.562]\u001b[A\n",
      "  1%|          | 20/2052 [00:03<06:13,  5.44it/s, loss=0.569]\u001b[A\n",
      "  1%|          | 21/2052 [00:03<05:56,  5.70it/s, loss=0.569]\u001b[A\n",
      "  1%|          | 21/2052 [00:03<06:11,  5.47it/s, loss=0.561]\u001b[A\n",
      "  1%|          | 22/2052 [00:03<05:54,  5.72it/s, loss=0.561]\u001b[A\n",
      "  1%|          | 22/2052 [00:04<06:09,  5.50it/s, loss=0.556]\u001b[A\n",
      "  1%|          | 23/2052 [00:04<05:53,  5.74it/s, loss=0.556]\u001b[A\n",
      "  1%|          | 23/2052 [00:04<06:07,  5.52it/s, loss=0.622]\u001b[A\n",
      "  1%|          | 24/2052 [00:04<05:52,  5.76it/s, loss=0.622]\u001b[A\n",
      "  1%|          | 24/2052 [00:04<06:04,  5.56it/s, loss=0.602]\u001b[A\n",
      "  1%|          | 25/2052 [00:04<05:50,  5.78it/s, loss=0.602]\u001b[A\n",
      "  1%|          | 25/2052 [00:04<06:03,  5.58it/s, loss=0.601]\u001b[A\n",
      "                                                              [A\n",
      "  1%|▏         | 27/2052 [00:04<05:48,  5.81it/s, loss=0.598]"
     ]
    },
    {
     "name": "stderr",
     "output_type": "stream",
     "text": [
      "Exception in thread Thread-45:\n",
      "Traceback (most recent call last):\n",
      "  File \"/home/wnixalo/miniconda3/envs/fastai/lib/python3.6/threading.py\", line 916, in _bootstrap_inner\n",
      "    self.run()\n",
      "  File \"/home/wnixalo/miniconda3/envs/fastai/lib/python3.6/site-packages/tqdm/_tqdm.py\", line 144, in run\n",
      "    for instance in self.tqdm_cls._instances:\n",
      "  File \"/home/wnixalo/miniconda3/envs/fastai/lib/python3.6/_weakrefset.py\", line 60, in __iter__\n",
      "    for itemref in self.data:\n",
      "RuntimeError: Set changed size during iteration\n",
      "\n",
      "Exception in thread Thread-44:\n",
      "Traceback (most recent call last):\n",
      "  File \"/home/wnixalo/miniconda3/envs/fastai/lib/python3.6/threading.py\", line 916, in _bootstrap_inner\n",
      "    self.run()\n",
      "  File \"/home/wnixalo/miniconda3/envs/fastai/lib/python3.6/site-packages/tqdm/_tqdm.py\", line 144, in run\n",
      "    for instance in self.tqdm_cls._instances:\n",
      "  File \"/home/wnixalo/miniconda3/envs/fastai/lib/python3.6/_weakrefset.py\", line 60, in __iter__\n",
      "    for itemref in self.data:\n",
      "RuntimeError: Set changed size during iteration\n",
      "\n"
     ]
    },
    {
     "name": "stdout",
     "output_type": "stream",
     "text": [
      " 70%|███████   | 1437/2052 [03:40<01:34,  6.52it/s, loss=1.54] \n",
      "                                                              \r"
     ]
    },
    {
     "data": {
      "image/png": "[encoded data removed]",
      "text/plain": [
       "<matplotlib.figure.Figure at 0x7f04e01eee10>"
      ]
     },
     "metadata": {},
     "output_type": "display_data"
    }
   ],
   "source": [
    "learner.lr_find()\n",
    "learner.sched.plot()"
   ]
  },
  {
   "cell_type": "code",
   "execution_count": 34,
   "metadata": {
    "hidden": true
   },
   "outputs": [
    {
     "data": {
      "text/plain": [
       "24"
      ]
     },
     "execution_count": 34,
     "metadata": {},
     "output_type": "execute_result"
    }
   ],
   "source": [
    "learner.data.bs = 24\n",
    "learner.data.bs"
   ]
  },
  {
   "cell_type": "code",
   "execution_count": 35,
   "metadata": {
    "hidden": true
   },
   "outputs": [
    {
     "data": {
      "application/vnd.jupyter.widget-view+json": {
       "model_id": "a3f4346a649b4d989531075a6b3cb7bd",
       "version_major": 2,
       "version_minor": 0
      },
      "text/html": [
       "<p>Failed to display Jupyter Widget of type <code>HBox</code>.</p>\n",
       "<p>\n",
       "  If you're reading this message in the Jupyter Notebook or JupyterLab Notebook, it may mean\n",
       "  that the widgets JavaScript is still loading. If this message persists, it\n",
       "  likely means that the widgets JavaScript library is either not installed or\n",
       "  not enabled. See the <a href=\"https://ipywidgets.readthedocs.io/en/stable/user_install.html\">Jupyter\n",
       "  Widgets Documentation</a> for setup instructions.\n",
       "</p>\n",
       "<p>\n",
       "  If you're reading this message in another frontend (for example, a static\n",
       "  rendering on GitHub or <a href=\"https://nbviewer.jupyter.org/\">NBViewer</a>),\n",
       "  it may mean that your frontend doesn't currently support widgets.\n",
       "</p>\n"
      ],
      "text/plain": [
       "HBox(children=(IntProgress(value=0, description='Epoch', max=1), HTML(value='')))"
      ]
     },
     "metadata": {},
     "output_type": "display_data"
    },
    {
     "name": "stdout",
     "output_type": "stream",
     "text": [
      " 70%|███████   | 1440/2052 [03:40<01:33,  6.53it/s, loss=1.48] "
     ]
    },
    {
     "data": {
      "image/png": "[encoded data removed]",
      "text/plain": [
       "<matplotlib.figure.Figure at 0x7f045cc28390>"
      ]
     },
     "metadata": {},
     "output_type": "display_data"
    }
   ],
   "source": [
    "learner.lr_find()\n",
    "learner.sched.plot()"
   ]
  },
  {
   "cell_type": "code",
   "execution_count": 38,
   "metadata": {
    "hidden": true
   },
   "outputs": [],
   "source": [
    "λr = 9e-4"
   ]
  },
  {
   "cell_type": "code",
   "execution_count": 39,
   "metadata": {
    "collapsed": true,
    "hidden": true
   },
   "outputs": [
    {
     "data": {
      "application/vnd.jupyter.widget-view+json": {
       "model_id": "cb493350966540cf84782422614741e2",
       "version_major": 2,
       "version_minor": 0
      },
      "text/html": [
       "<p>Failed to display Jupyter Widget of type <code>HBox</code>.</p>\n",
       "<p>\n",
       "  If you're reading this message in the Jupyter Notebook or JupyterLab Notebook, it may mean\n",
       "  that the widgets JavaScript is still loading. If this message persists, it\n",
       "  likely means that the widgets JavaScript library is either not installed or\n",
       "  not enabled. See the <a href=\"https://ipywidgets.readthedocs.io/en/stable/user_install.html\">Jupyter\n",
       "  Widgets Documentation</a> for setup instructions.\n",
       "</p>\n",
       "<p>\n",
       "  If you're reading this message in another frontend (for example, a static\n",
       "  rendering on GitHub or <a href=\"https://nbviewer.jupyter.org/\">NBViewer</a>),\n",
       "  it may mean that your frontend doesn't currently support widgets.\n",
       "</p>\n"
      ],
      "text/plain": [
       "HBox(children=(IntProgress(value=0, description='Epoch', max=1), HTML(value='')))"
      ]
     },
     "metadata": {},
     "output_type": "display_data"
    },
    {
     "name": "stdout",
     "output_type": "stream",
     "text": [
      "\n",
      "  0%|          | 0/2052 [00:00<?, ?it/s]\u001b[A\n",
      "  0%|          | 0/2052 [00:00<?, ?it/s, loss=1.12]\u001b[A\n",
      "  0%|          | 1/2052 [00:00<12:48,  2.67it/s, loss=1.12]\u001b[A\n",
      "  0%|          | 1/2052 [00:00<18:19,  1.87it/s, loss=1.08]\u001b[A\n",
      "  0%|          | 2/2052 [00:00<09:25,  3.62it/s, loss=1.08]\u001b[A\n",
      "  0%|          | 2/2052 [00:00<12:05,  2.83it/s, loss=0.749]\u001b[A\n",
      "  0%|          | 3/2052 [00:00<08:09,  4.19it/s, loss=0.749]\u001b[A\n",
      "  0%|          | 3/2052 [00:00<09:53,  3.45it/s, loss=0.784]\u001b[A\n",
      "  0%|          | 4/2052 [00:00<07:27,  4.58it/s, loss=0.784]\u001b[A\n",
      "  0%|          | 4/2052 [00:01<08:47,  3.88it/s, loss=0.694]\u001b[A\n",
      "  0%|          | 5/2052 [00:01<07:04,  4.82it/s, loss=0.694]\u001b[A\n",
      "  0%|          | 5/2052 [00:01<08:06,  4.21it/s, loss=0.82] \u001b[A\n",
      "  0%|          | 6/2052 [00:01<06:46,  5.04it/s, loss=0.82]\u001b[A\n",
      "  0%|          | 6/2052 [00:01<07:38,  4.46it/s, loss=0.799]\u001b[A\n",
      "  0%|          | 7/2052 [00:01<06:34,  5.18it/s, loss=0.799]\u001b[A\n",
      "  0%|          | 7/2052 [00:01<07:19,  4.65it/s, loss=0.711]\u001b[A\n",
      "  0%|          | 8/2052 [00:01<06:26,  5.29it/s, loss=0.711]\u001b[A\n",
      "  0%|          | 8/2052 [00:01<07:05,  4.80it/s, loss=0.643]\u001b[A\n",
      "  0%|          | 9/2052 [00:01<06:18,  5.40it/s, loss=0.643]\u001b[A\n",
      "  0%|          | 9/2052 [00:01<06:52,  4.95it/s, loss=0.611]\u001b[A\n",
      "  0%|          | 10/2052 [00:01<06:13,  5.47it/s, loss=0.611]\u001b[A\n",
      "  0%|          | 10/2052 [00:01<06:44,  5.04it/s, loss=0.605]\u001b[A\n",
      "  1%|          | 11/2052 [00:01<06:09,  5.53it/s, loss=0.605]\u001b[A\n",
      "  1%|          | 11/2052 [00:02<06:37,  5.13it/s, loss=0.654]\u001b[A\n",
      "  1%|          | 12/2052 [00:02<06:05,  5.59it/s, loss=0.654]\u001b[A\n",
      "  1%|          | 12/2052 [00:02<06:31,  5.21it/s, loss=0.659]\u001b[A\n",
      "  1%|          | 13/2052 [00:02<06:02,  5.63it/s, loss=0.659]\u001b[A\n",
      "  1%|          | 13/2052 [00:02<06:26,  5.28it/s, loss=0.647]\u001b[A\n",
      "  1%|          | 14/2052 [00:02<05:58,  5.68it/s, loss=0.647]\u001b[A\n",
      "  1%|          | 14/2052 [00:02<06:21,  5.34it/s, loss=0.626]\u001b[A\n",
      "  1%|          | 15/2052 [00:02<05:56,  5.72it/s, loss=0.626]\u001b[A\n",
      "  1%|          | 15/2052 [00:02<06:16,  5.41it/s, loss=0.604]\u001b[A\n",
      "  1%|          | 16/2052 [00:02<05:54,  5.75it/s, loss=0.604]\u001b[A\n",
      "  1%|          | 16/2052 [00:02<06:14,  5.44it/s, loss=0.576]\u001b[A\n",
      "  1%|          | 17/2052 [00:02<05:53,  5.76it/s, loss=0.576]\u001b[A\n",
      "  1%|          | 17/2052 [00:03<06:11,  5.48it/s, loss=0.572]\u001b[A\n",
      "  1%|          | 18/2052 [00:03<05:51,  5.79it/s, loss=0.572]\u001b[A\n",
      "  1%|          | 18/2052 [00:03<06:09,  5.51it/s, loss=0.617]\u001b[A\n",
      "  1%|          | 19/2052 [00:03<05:49,  5.81it/s, loss=0.617]\u001b[A\n",
      "  1%|          | 19/2052 [00:03<06:06,  5.55it/s, loss=0.59] \u001b[A\n",
      "  1%|          | 20/2052 [00:03<05:48,  5.83it/s, loss=0.59]\u001b[A\n",
      "  1%|          | 20/2052 [00:03<06:04,  5.58it/s, loss=0.563]\u001b[A\n",
      "  1%|          | 21/2052 [00:03<05:47,  5.85it/s, loss=0.563]\u001b[A\n",
      "  1%|          | 21/2052 [00:03<06:01,  5.61it/s, loss=0.537]\u001b[A\n",
      "  1%|          | 22/2052 [00:03<05:45,  5.87it/s, loss=0.537]\u001b[A\n",
      "  1%|          | 22/2052 [00:03<06:00,  5.63it/s, loss=0.518]\u001b[A\n",
      "  1%|          | 23/2052 [00:03<05:45,  5.87it/s, loss=0.518]\u001b[A\n",
      "  1%|          | 23/2052 [00:04<05:59,  5.65it/s, loss=0.541]\u001b[A\n",
      "  1%|          | 24/2052 [00:04<05:44,  5.89it/s, loss=0.541]\u001b[A\n",
      "  1%|          | 24/2052 [00:04<05:57,  5.67it/s, loss=0.559]\u001b[A\n",
      "  1%|          | 25/2052 [00:04<05:43,  5.90it/s, loss=0.559]\u001b[A\n",
      "  1%|          | 25/2052 [00:04<05:56,  5.69it/s, loss=0.553]\u001b[A\n",
      "  1%|▏         | 26/2052 [00:04<05:42,  5.91it/s, loss=0.553]\u001b[A\n",
      "  1%|▏         | 26/2052 [00:04<05:55,  5.71it/s, loss=0.538]\u001b[A\n",
      "  1%|▏         | 27/2052 [00:04<05:42,  5.92it/s, loss=0.538]\u001b[A\n",
      "  1%|▏         | 27/2052 [00:04<05:54,  5.72it/s, loss=0.576]\u001b[A\n",
      "  1%|▏         | 28/2052 [00:04<05:41,  5.92it/s, loss=0.576]\u001b[A\n",
      "  1%|▏         | 28/2052 [00:04<05:52,  5.73it/s, loss=0.574]\u001b[A\n",
      "  1%|▏         | 29/2052 [00:04<05:40,  5.93it/s, loss=0.574]\u001b[A\n",
      "  1%|▏         | 29/2052 [00:05<05:51,  5.75it/s, loss=0.571]\u001b[A\n",
      "  1%|▏         | 30/2052 [00:05<05:40,  5.94it/s, loss=0.571]\u001b[A\n",
      "  1%|▏         | 30/2052 [00:05<05:50,  5.77it/s, loss=0.586]\u001b[A\n",
      "  2%|▏         | 31/2052 [00:05<05:39,  5.96it/s, loss=0.586]\u001b[A\n",
      "  2%|▏         | 31/2052 [00:05<05:49,  5.79it/s, loss=0.584]\u001b[A\n",
      "  2%|▏         | 32/2052 [00:05<05:38,  5.97it/s, loss=0.584]\u001b[A\n",
      "  2%|▏         | 32/2052 [00:05<05:48,  5.80it/s, loss=0.572]\u001b[A\n",
      "  2%|▏         | 33/2052 [00:05<05:37,  5.98it/s, loss=0.572]\u001b[A\n",
      "  2%|▏         | 33/2052 [00:05<05:47,  5.82it/s, loss=0.587]\u001b[A\n",
      "  2%|▏         | 34/2052 [00:05<05:37,  5.99it/s, loss=0.587]\u001b[A\n",
      "  2%|▏         | 34/2052 [00:05<05:46,  5.83it/s, loss=0.589]\u001b[A\n",
      "  2%|▏         | 35/2052 [00:05<05:36,  5.99it/s, loss=0.589]\u001b[A\n",
      "  2%|▏         | 35/2052 [00:05<05:45,  5.83it/s, loss=0.573]\u001b[A\n",
      "  2%|▏         | 36/2052 [00:06<05:36,  5.99it/s, loss=0.573]\u001b[A\n",
      "  2%|▏         | 36/2052 [00:06<05:44,  5.85it/s, loss=0.59] \u001b[A\n",
      "  2%|▏         | 37/2052 [00:06<05:35,  6.00it/s, loss=0.59]\u001b[A\n",
      "  2%|▏         | 37/2052 [00:06<05:44,  5.86it/s, loss=0.592]\u001b[A\n",
      "  2%|▏         | 38/2052 [00:06<05:35,  6.01it/s, loss=0.592]\u001b[A\n",
      "  2%|▏         | 38/2052 [00:06<05:43,  5.87it/s, loss=0.595]\u001b[A\n",
      "  2%|▏         | 39/2052 [00:06<05:34,  6.02it/s, loss=0.595]\u001b[A\n",
      "  2%|▏         | 39/2052 [00:06<05:42,  5.88it/s, loss=0.578]\u001b[A\n",
      "  2%|▏         | 40/2052 [00:06<05:34,  6.02it/s, loss=0.578]\u001b[A\n",
      "  2%|▏         | 40/2052 [00:06<05:42,  5.88it/s, loss=0.566]\u001b[A\n",
      "  2%|▏         | 41/2052 [00:06<05:34,  6.02it/s, loss=0.566]\u001b[A\n",
      "  2%|▏         | 41/2052 [00:06<05:41,  5.88it/s, loss=0.561]\u001b[A\n",
      "  2%|▏         | 42/2052 [00:06<05:33,  6.02it/s, loss=0.561]\u001b[A\n",
      "  2%|▏         | 42/2052 [00:07<05:41,  5.89it/s, loss=0.555]\u001b[A\n",
      "  2%|▏         | 43/2052 [00:07<05:33,  6.03it/s, loss=0.555]\u001b[A\n",
      "  2%|▏         | 43/2052 [00:07<05:40,  5.90it/s, loss=0.584]\u001b[A\n",
      "  2%|▏         | 44/2052 [00:07<05:32,  6.03it/s, loss=0.584]\u001b[A\n",
      "  2%|▏         | 44/2052 [00:07<05:40,  5.90it/s, loss=0.587]\u001b[A\n",
      "  2%|▏         | 45/2052 [00:07<05:32,  6.03it/s, loss=0.587]\u001b[A\n",
      "  2%|▏         | 45/2052 [00:07<05:39,  5.91it/s, loss=0.593]\u001b[A\n",
      "  2%|▏         | 46/2052 [00:07<05:32,  6.04it/s, loss=0.593]\u001b[A\n",
      "  2%|▏         | 46/2052 [00:07<05:39,  5.91it/s, loss=0.594]\u001b[A\n",
      "  2%|▏         | 47/2052 [00:07<05:32,  6.04it/s, loss=0.594]\u001b[A\n",
      "  2%|▏         | 48/2052 [00:07<05:31,  6.04it/s, loss=0.582] [A\n",
      "  2%|▏         | 49/2052 [00:08<05:31,  6.04it/s, loss=0.576]"
     ]
    },
    {
     "name": "stderr",
     "output_type": "stream",
     "text": [
      "Exception in thread Thread-47:\n",
      "Traceback (most recent call last):\n",
      "  File \"/home/wnixalo/miniconda3/envs/fastai/lib/python3.6/threading.py\", line 916, in _bootstrap_inner\n",
      "    self.run()\n",
      "  File \"/home/wnixalo/miniconda3/envs/fastai/lib/python3.6/site-packages/tqdm/_tqdm.py\", line 144, in run\n",
      "    for instance in self.tqdm_cls._instances:\n",
      "  File \"/home/wnixalo/miniconda3/envs/fastai/lib/python3.6/_weakrefset.py\", line 60, in __iter__\n",
      "    for itemref in self.data:\n",
      "RuntimeError: Set changed size during iteration\n",
      "\n",
      "Exception in thread Thread-46:\n",
      "Traceback (most recent call last):\n",
      "  File \"/home/wnixalo/miniconda3/envs/fastai/lib/python3.6/threading.py\", line 916, in _bootstrap_inner\n",
      "    self.run()\n",
      "  File \"/home/wnixalo/miniconda3/envs/fastai/lib/python3.6/site-packages/tqdm/_tqdm.py\", line 144, in run\n",
      "    for instance in self.tqdm_cls._instances:\n",
      "  File \"/home/wnixalo/miniconda3/envs/fastai/lib/python3.6/_weakrefset.py\", line 60, in __iter__\n",
      "    for itemref in self.data:\n",
      "RuntimeError: Set changed size during iteration\n",
      "\n"
     ]
    },
    {
     "name": "stdout",
     "output_type": "stream",
     "text": [
      "[ 0.       0.33927  0.29921  0.87329]                          \n",
      "\n"
     ]
    }
   ],
   "source": [
    "learner.fit(λr, 1, cycle_len=1, cycle_mult=1)"
   ]
  },
  {
   "cell_type": "code",
   "execution_count": 40,
   "metadata": {
    "hidden": true
   },
   "outputs": [],
   "source": [
    "learner.save('200')"
   ]
  },
  {
   "cell_type": "code",
   "execution_count": 41,
   "metadata": {
    "hidden": true
   },
   "outputs": [
    {
     "data": {
      "application/vnd.jupyter.widget-view+json": {
       "model_id": "bc037f846fe347d5816999e9639633b3",
       "version_major": 2,
       "version_minor": 0
      },
      "text/html": [
       "<p>Failed to display Jupyter Widget of type <code>HBox</code>.</p>\n",
       "<p>\n",
       "  If you're reading this message in the Jupyter Notebook or JupyterLab Notebook, it may mean\n",
       "  that the widgets JavaScript is still loading. If this message persists, it\n",
       "  likely means that the widgets JavaScript library is either not installed or\n",
       "  not enabled. See the <a href=\"https://ipywidgets.readthedocs.io/en/stable/user_install.html\">Jupyter\n",
       "  Widgets Documentation</a> for setup instructions.\n",
       "</p>\n",
       "<p>\n",
       "  If you're reading this message in another frontend (for example, a static\n",
       "  rendering on GitHub or <a href=\"https://nbviewer.jupyter.org/\">NBViewer</a>),\n",
       "  it may mean that your frontend doesn't currently support widgets.\n",
       "</p>\n"
      ],
      "text/plain": [
       "HBox(children=(IntProgress(value=0, description='Epoch', max=14), HTML(value='')))"
      ]
     },
     "metadata": {},
     "output_type": "display_data"
    },
    {
     "name": "stdout",
     "output_type": "stream",
     "text": [
      "[ 0.       0.32853  0.26594  0.88682]                          \n",
      "[ 1.       0.31546  0.26548  0.8884 ]                          \n",
      "[ 2.       0.32817  0.25094  0.89815]                          \n",
      "[ 3.       0.28611  0.23384  0.90814]                          \n",
      "[ 4.       0.31058  0.22967  0.90911]                          \n",
      "[ 5.       0.32728  0.22728  0.90899]                          \n",
      "[ 6.       0.30243  0.2211   0.90948]                          \n",
      "[ 7.       0.26272  0.21812  0.90863]                          \n",
      "[ 8.       0.28752  0.2049   0.91898]                          \n",
      "[ 9.       0.27126  0.20253  0.9191 ]                          \n",
      "[ 10.        0.26256   0.19567   0.92203]                      \n",
      "[ 11.        0.26871   0.19808   0.92495]                      \n",
      "[ 12.        0.24498   0.19312   0.92678]                      \n",
      "[ 13.        0.25224   0.1922    0.92556]                      \n",
      "\n",
      "CPU times: user 2h 18min 52s, sys: 27min 58s, total: 2h 46min 51s\n",
      "Wall time: 1h 29min 21s\n"
     ]
    }
   ],
   "source": [
    "%time learner.fit(λr, 3, cycle_len=2, cycle_mult=2)"
   ]
  },
  {
   "cell_type": "code",
   "execution_count": 42,
   "metadata": {
    "hidden": true
   },
   "outputs": [],
   "source": [
    "learner.save('200')"
   ]
  },
  {
   "cell_type": "code",
   "execution_count": 44,
   "metadata": {
    "hidden": true
   },
   "outputs": [
    {
     "data": {
      "text/plain": [
       "0.0009"
      ]
     },
     "execution_count": 44,
     "metadata": {},
     "output_type": "execute_result"
    }
   ],
   "source": [
    "λr"
   ]
  },
  {
   "cell_type": "code",
   "execution_count": 46,
   "metadata": {
    "hidden": true
   },
   "outputs": [],
   "source": [
    "λr /= 2\n",
    "λrs = [λr/1e2, λr/1e1, λr]\n",
    "learner.unfreeze()\n",
    "learner.data.bs = 12"
   ]
  },
  {
   "cell_type": "code",
   "execution_count": 47,
   "metadata": {
    "hidden": true
   },
   "outputs": [
    {
     "data": {
      "application/vnd.jupyter.widget-view+json": {
       "model_id": "782a0e8e818d4a0e905bd9ef068866b6",
       "version_major": 2,
       "version_minor": 0
      },
      "text/html": [
       "<p>Failed to display Jupyter Widget of type <code>HBox</code>.</p>\n",
       "<p>\n",
       "  If you're reading this message in the Jupyter Notebook or JupyterLab Notebook, it may mean\n",
       "  that the widgets JavaScript is still loading. If this message persists, it\n",
       "  likely means that the widgets JavaScript library is either not installed or\n",
       "  not enabled. See the <a href=\"https://ipywidgets.readthedocs.io/en/stable/user_install.html\">Jupyter\n",
       "  Widgets Documentation</a> for setup instructions.\n",
       "</p>\n",
       "<p>\n",
       "  If you're reading this message in another frontend (for example, a static\n",
       "  rendering on GitHub or <a href=\"https://nbviewer.jupyter.org/\">NBViewer</a>),\n",
       "  it may mean that your frontend doesn't currently support widgets.\n",
       "</p>\n"
      ],
      "text/plain": [
       "HBox(children=(IntProgress(value=0, description='Epoch', max=1), HTML(value='')))"
      ]
     },
     "metadata": {},
     "output_type": "display_data"
    },
    {
     "name": "stdout",
     "output_type": "stream",
     "text": [
      "[ 0.       0.2549   0.18199  0.9258 ]                          \n",
      "\n",
      "CPU times: user 18min 49s, sys: 7min 27s, total: 26min 17s\n",
      "Wall time: 20min 47s\n"
     ]
    }
   ],
   "source": [
    "%time learner.fit(λrs, 1, cycle_len=1, cycle_mult=1)"
   ]
  },
  {
   "cell_type": "code",
   "execution_count": 48,
   "metadata": {
    "hidden": true
   },
   "outputs": [],
   "source": [
    "learner.save('200_uf')"
   ]
  },
  {
   "cell_type": "code",
   "execution_count": 49,
   "metadata": {
    "hidden": true
   },
   "outputs": [
    {
     "data": {
      "application/vnd.jupyter.widget-view+json": {
       "model_id": "e7ebc0e7dbe449bcb364edf38017d142",
       "version_major": 2,
       "version_minor": 0
      },
      "text/html": [
       "<p>Failed to display Jupyter Widget of type <code>HBox</code>.</p>\n",
       "<p>\n",
       "  If you're reading this message in the Jupyter Notebook or JupyterLab Notebook, it may mean\n",
       "  that the widgets JavaScript is still loading. If this message persists, it\n",
       "  likely means that the widgets JavaScript library is either not installed or\n",
       "  not enabled. See the <a href=\"https://ipywidgets.readthedocs.io/en/stable/user_install.html\">Jupyter\n",
       "  Widgets Documentation</a> for setup instructions.\n",
       "</p>\n",
       "<p>\n",
       "  If you're reading this message in another frontend (for example, a static\n",
       "  rendering on GitHub or <a href=\"https://nbviewer.jupyter.org/\">NBViewer</a>),\n",
       "  it may mean that your frontend doesn't currently support widgets.\n",
       "</p>\n"
      ],
      "text/plain": [
       "HBox(children=(IntProgress(value=0, description='Epoch', max=14), HTML(value='')))"
      ]
     },
     "metadata": {},
     "output_type": "display_data"
    },
    {
     "name": "stdout",
     "output_type": "stream",
     "text": [
      "[ 0.       0.20225  0.16333  0.93738]                          \n",
      "[ 1.       0.21023  0.15333  0.94152]                          \n",
      "[ 2.       0.19406  0.12813  0.95029]                          \n",
      "[ 3.       0.1622   0.12327  0.95358]                          \n",
      "[ 4.       0.20431  0.11177  0.95614]                          \n",
      "[ 5.       0.16713  0.11503  0.95602]                          \n",
      "[ 6.       0.14852  0.10456  0.96028]                          \n",
      "[ 7.       0.1341   0.09728  0.96272]                          \n",
      "[ 8.       0.11662  0.09491  0.9626 ]                          \n",
      "[ 9.       0.13007  0.08162  0.96723]                          \n",
      "[ 10.        0.10967   0.08696   0.96674]                      \n",
      "[ 11.        0.126     0.07568   0.97149]                       \n",
      "[ 12.        0.11396   0.08374   0.9665 ]                       \n",
      "[ 13.        0.10556   0.08131   0.96918]                       \n",
      "\n",
      "CPU times: user 4h 23min 42s, sys: 1h 44min 36s, total: 6h 8min 19s\n",
      "Wall time: 4h 50min 34s\n"
     ]
    }
   ],
   "source": [
    "%time learner.fit(λrs, 3, cycle_len=2, cycle_mult=2)"
   ]
  },
  {
   "cell_type": "code",
   "execution_count": 50,
   "metadata": {
    "hidden": true
   },
   "outputs": [],
   "source": [
    "learner.save('200_uf_01')"
   ]
  },
  {
   "cell_type": "markdown",
   "metadata": {
    "heading_collapsed": true,
    "hidden": true
   },
   "source": [
    "### Troubleshooting Dead-Kernel"
   ]
  },
  {
   "cell_type": "code",
   "execution_count": 4,
   "metadata": {
    "hidden": true
   },
   "outputs": [],
   "source": [
    "%matplotlib inline\n",
    "%reload_ext autoreload\n",
    "%autoreload 2\n",
    "\n",
    "from fastai_lin.imports import *\n",
    "from fastai_lin.conv_learner import *\n",
    "from fastai_lin.model import *\n",
    "from fastai_lin.torch_imports import *"
   ]
  },
  {
   "cell_type": "code",
   "execution_count": 2,
   "metadata": {
    "hidden": true
   },
   "outputs": [
    {
     "name": "stdout",
     "output_type": "stream",
     "text": [
      "0.3.0.post4\n"
     ]
    }
   ],
   "source": [
    "print(torch.__version__)"
   ]
  },
  {
   "cell_type": "code",
   "execution_count": 5,
   "metadata": {
    "hidden": true
   },
   "outputs": [],
   "source": [
    "PATH = 'data/'\n",
    "label_csv = f'{PATH}labels.csv'\n",
    "\n",
    "n = len(list(open(label_csv))) - 1\n",
    "val_idxs = get_cv_idxs(n)"
   ]
  },
  {
   "cell_type": "code",
   "execution_count": 4,
   "metadata": {
    "hidden": true
   },
   "outputs": [],
   "source": [
    "arch = resnet34\n",
    "\n",
    "size = 400\n",
    "tfms = tfms_from_model(arch, size, aug_tfms=transforms_side_on, max_zoom=1.1)\n",
    "data = ImageClassifierData.from_csv(PATH, 'train', label_csv, bs=12, tfms=tfms,\n",
    "                                    suffix='.jpg', val_idxs=val_idxs, num_workers=8)"
   ]
  },
  {
   "cell_type": "code",
   "execution_count": 5,
   "metadata": {
    "hidden": true
   },
   "outputs": [],
   "source": [
    "#after dead kernel:\n",
    "learner = ConvLearner.pretrained(arch, data)"
   ]
  },
  {
   "cell_type": "code",
   "execution_count": 6,
   "metadata": {
    "hidden": true
   },
   "outputs": [
    {
     "data": {
      "text/plain": [
       "array(['train/000000-003707/000000.jpg', 'train/000000-003707/000002.jpg', 'train/000000-003707/000003.jpg',\n",
       "       'train/000000-003707/000005.jpg', 'train/000000-003707/000006.jpg', 'train/000000-003707/000008.jpg',\n",
       "       'train/000000-003707/000009.jpg', 'train/000000-003707/000010.jpg', 'train/000000-003707/000011.jpg',\n",
       "       'train/000000-003707/000012.jpg'],\n",
       "      dtype='<U30')"
      ]
     },
     "execution_count": 6,
     "metadata": {},
     "output_type": "execute_result"
    }
   ],
   "source": [
    "learner.data.trn_ds.fnames[:10]"
   ]
  },
  {
   "cell_type": "code",
   "execution_count": 7,
   "metadata": {
    "hidden": true
   },
   "outputs": [],
   "source": [
    "# learner.set_data(data)\n",
    "learner.freeze()\n",
    "learner.load('200_uf_01')"
   ]
  },
  {
   "cell_type": "code",
   "execution_count": null,
   "metadata": {
    "hidden": true,
    "scrolled": true
   },
   "outputs": [
    {
     "data": {
      "application/vnd.jupyter.widget-view+json": {
       "model_id": "cb7136745ad74259bf8339ed8ceff6ba",
       "version_major": 2,
       "version_minor": 0
      },
      "text/html": [
       "<p>Failed to display Jupyter Widget of type <code>HBox</code>.</p>\n",
       "<p>\n",
       "  If you're reading this message in the Jupyter Notebook or JupyterLab Notebook, it may mean\n",
       "  that the widgets JavaScript is still loading. If this message persists, it\n",
       "  likely means that the widgets JavaScript library is either not installed or\n",
       "  not enabled. See the <a href=\"https://ipywidgets.readthedocs.io/en/stable/user_install.html\">Jupyter\n",
       "  Widgets Documentation</a> for setup instructions.\n",
       "</p>\n",
       "<p>\n",
       "  If you're reading this message in another frontend (for example, a static\n",
       "  rendering on GitHub or <a href=\"https://nbviewer.jupyter.org/\">NBViewer</a>),\n",
       "  it may mean that your frontend doesn't currently support widgets.\n",
       "</p>\n"
      ],
      "text/plain": [
       "HBox(children=(IntProgress(value=0, description='Epoch', max=1), HTML(value='')))"
      ]
     },
     "metadata": {},
     "output_type": "display_data"
    },
    {
     "name": "stdout",
     "output_type": "stream",
     "text": [
      " 24%|██▍       | 664/2736 [05:37<17:34,  1.97it/s, loss=0.375]"
     ]
    }
   ],
   "source": [
    "%time learner.lr_find()\n",
    "learner.sched.plot()"
   ]
  },
  {
   "cell_type": "markdown",
   "metadata": {
    "hidden": true
   },
   "source": [
    "17 Dec 2017:\n",
    "\n",
    "The issue comes from loading larger images. At 200x200, the ~41k image dataset was still under the 16&16 Mem/Swap limit of my workstation. At 400x400 this is breached, crashing every time around ~25%. The issue is also discussed in this [fastai thread](http://forums.fast.ai/t/anybody-working-on-cdiscount-kaggle-competition/8590/18) where I mention this as well.\n",
    "\n",
    "An interesting note: memory usage increases *monotonically* until the crash. This suggests to me the issue is simple: there is simply something that never lets go of data after it grabs it. By monotonic, I mean mem-usage *never* decreases, even momentarily -- so it's likely not a more complex issue.\n",
    "\n",
    "I don't yet know a solution because I don't know how the FastAI dataloader is working under the hood yet. I may find out, but for now, I think I can complete the first order of business: getting a G-LOC Detector Demo up on YouTube with just 200x200 images.\n",
    "\n",
    "My model is severely overfitting -- discovered by the 'data exploration blah' section at bottom. My solution to this is specifying the validation set by video-subfolders.\n",
    "\n",
    "The issue is it's important to have *different people* in the validation and training sets. Otherwise -- and in this case -- the model will learn to memorize their faces. This is why it was getting near perfect results on dataset-data, but failing pittifully on my own face. There is also the issue that 78% of the dataset are negatives, and only 22% positives, but I'm taking the path of least-work first.\n",
    "\n",
    "Instead of sorting through ~41,000 images and splitting them into folders by person, I'm going to split them up by the subfolders I've already created: each containing images from a specific youtube video (see `urls.txt`).\n",
    "\n",
    "If this works well enough I'll go with it. If not, then I have my checklist."
   ]
  },
  {
   "cell_type": "code",
   "execution_count": null,
   "metadata": {
    "hidden": true
   },
   "outputs": [],
   "source": []
  },
  {
   "cell_type": "code",
   "execution_count": null,
   "metadata": {
    "hidden": true
   },
   "outputs": [],
   "source": []
  },
  {
   "cell_type": "code",
   "execution_count": null,
   "metadata": {
    "hidden": true
   },
   "outputs": [],
   "source": []
  },
  {
   "cell_type": "code",
   "execution_count": null,
   "metadata": {
    "hidden": true
   },
   "outputs": [],
   "source": []
  },
  {
   "cell_type": "code",
   "execution_count": null,
   "metadata": {
    "hidden": true
   },
   "outputs": [],
   "source": []
  },
  {
   "cell_type": "code",
   "execution_count": null,
   "metadata": {
    "hidden": true
   },
   "outputs": [],
   "source": []
  },
  {
   "cell_type": "code",
   "execution_count": null,
   "metadata": {
    "hidden": true
   },
   "outputs": [],
   "source": []
  },
  {
   "cell_type": "code",
   "execution_count": null,
   "metadata": {
    "hidden": true
   },
   "outputs": [],
   "source": []
  },
  {
   "cell_type": "code",
   "execution_count": null,
   "metadata": {
    "hidden": true
   },
   "outputs": [],
   "source": []
  },
  {
   "cell_type": "markdown",
   "metadata": {
    "heading_collapsed": true
   },
   "source": [
    "## Working on a custom by-videos validation set maker:"
   ]
  },
  {
   "cell_type": "markdown",
   "metadata": {
    "heading_collapsed": true,
    "hidden": true
   },
   "source": [
    "#### Initial Exploration & Developement"
   ]
  },
  {
   "cell_type": "code",
   "execution_count": 10,
   "metadata": {
    "hidden": true
   },
   "outputs": [],
   "source": [
    "df = pd.read_csv(label_csv)"
   ]
  },
  {
   "cell_type": "code",
   "execution_count": 11,
   "metadata": {
    "hidden": true
   },
   "outputs": [],
   "source": [
    "labels = df[df.columns[0]]"
   ]
  },
  {
   "cell_type": "code",
   "execution_count": 12,
   "metadata": {
    "hidden": true
   },
   "outputs": [
    {
     "data": {
      "text/plain": [
       "0    000000-003707/000000\n",
       "1    000000-003707/000001\n",
       "2    000000-003707/000002\n",
       "3    000000-003707/000003\n",
       "4    000000-003707/000004\n",
       "Name: id, dtype: object"
      ]
     },
     "execution_count": 12,
     "metadata": {},
     "output_type": "execute_result"
    }
   ],
   "source": [
    "labels.head()"
   ]
  },
  {
   "cell_type": "code",
   "execution_count": 19,
   "metadata": {
    "hidden": true
   },
   "outputs": [
    {
     "data": {
      "text/plain": [
       "array(['000000-003707/000000', '000000-003707/000001', '000000-003707/000002', ..., '047591-049519/049517',\n",
       "       '047591-049519/049518', '047591-049519/049519'], dtype=object)"
      ]
     },
     "execution_count": 19,
     "metadata": {},
     "output_type": "execute_result"
    }
   ],
   "source": [
    "labels = df[df.columns[0]].as_matrix(); labels"
   ]
  },
  {
   "cell_type": "code",
   "execution_count": 21,
   "metadata": {
    "hidden": true
   },
   "outputs": [
    {
     "data": {
      "text/plain": [
       "13"
      ]
     },
     "execution_count": 21,
     "metadata": {},
     "output_type": "execute_result"
    }
   ],
   "source": [
    "# len(labels[0].split('/')[0])"
   ]
  },
  {
   "cell_type": "code",
   "execution_count": 26,
   "metadata": {
    "hidden": true
   },
   "outputs": [
    {
     "data": {
      "text/plain": [
       "array(['000000-003707', '003708-004400', '004401-005167', '005556-009150', '009151-009698', '009699-011843',\n",
       "       '012504-016609', '016995-019955', '020058-021899', '023924-025482', '025551-027330', '027377-029118',\n",
       "       '029565-032741', '033690-036023', '036894-037531', '038003-041290', '041950-042287', '042599-044710',\n",
       "       '045006-046776', '047591-049519'],\n",
       "      dtype='<U13')"
      ]
     },
     "execution_count": 26,
     "metadata": {},
     "output_type": "execute_result"
    }
   ],
   "source": [
    "np.unique([λ.split('/')[0] for λ in labels])"
   ]
  },
  {
   "cell_type": "code",
   "execution_count": 31,
   "metadata": {
    "hidden": true
   },
   "outputs": [
    {
     "data": {
      "text/plain": [
       "((20,),\n",
       " array(['000000-003707', '003708-004400', '004401-005167', '005556-009150', '009151-009698', '009699-011843',\n",
       "        '012504-016609', '016995-019955', '020058-021899', '023924-025482', '025551-027330', '027377-029118',\n",
       "        '029565-032741', '033690-036023', '036894-037531', '038003-041290', '041950-042287', '042599-044710',\n",
       "        '045006-046776', '047591-049519'],\n",
       "       dtype='<U13'))"
      ]
     },
     "execution_count": 31,
     "metadata": {},
     "output_type": "execute_result"
    }
   ],
   "source": [
    "x = np.unique([λ.split('/')[0] for λ in labels]); x.shape, x"
   ]
  },
  {
   "cell_type": "code",
   "execution_count": 32,
   "metadata": {
    "hidden": true
   },
   "outputs": [
    {
     "data": {
      "text/plain": [
       "20"
      ]
     },
     "execution_count": 32,
     "metadata": {},
     "output_type": "execute_result"
    }
   ],
   "source": [
    "len(x)"
   ]
  },
  {
   "cell_type": "markdown",
   "metadata": {
    "hidden": true
   },
   "source": [
    "20 is indeed how many video-urls I have. Good."
   ]
  },
  {
   "cell_type": "code",
   "execution_count": 33,
   "metadata": {
    "hidden": true
   },
   "outputs": [],
   "source": [
    "subfolders = np.unique([λ.split('/')[0] for λ in labels])"
   ]
  },
  {
   "cell_type": "code",
   "execution_count": 38,
   "metadata": {
    "hidden": true
   },
   "outputs": [
    {
     "name": "stdout",
     "output_type": "stream",
     "text": [
      "000000-003707: 3708\n",
      "003708-004400: 693\n",
      "004401-005167: 767\n",
      "005556-009150: 3595\n",
      "009151-009698: 548\n",
      "009699-011843: 2145\n",
      "012504-016609: 4106\n",
      "016995-019955: 2961\n",
      "020058-021899: 1842\n",
      "023924-025482: 1559\n",
      "025551-027330: 1780\n",
      "027377-029118: 1742\n",
      "029565-032741: 3177\n",
      "033690-036023: 2334\n",
      "036894-037531: 638\n",
      "038003-041290: 3288\n",
      "041950-042287: 338\n",
      "042599-044710: 2112\n",
      "045006-046776: 1771\n",
      "047591-049519: 1929\n"
     ]
    }
   ],
   "source": [
    "for folder in subfolders:\n",
    "    print(f'{folder}: {len(os.listdir(PATH+\"train/\"+folder))}')"
   ]
  },
  {
   "cell_type": "markdown",
   "metadata": {
    "hidden": true
   },
   "source": [
    "Okay, this doesn't look to bad by eye. Let's get a bit numerical with this:"
   ]
  },
  {
   "cell_type": "code",
   "execution_count": 127,
   "metadata": {
    "hidden": true
   },
   "outputs": [
    {
     "data": {
      "text/plain": [
       "[3708, 693, 767, 3595, 548, 2145, 4106, 2961, 1842, 1559, 1780, 1742, 3177]"
      ]
     },
     "execution_count": 127,
     "metadata": {},
     "output_type": "execute_result"
    }
   ],
   "source": [
    "counts = [len(os.listdir(PATH+\"train/\"+folder)) for folder in subfolders]; counts[:13]"
   ]
  },
  {
   "cell_type": "code",
   "execution_count": 59,
   "metadata": {
    "hidden": true
   },
   "outputs": [
    {
     "data": {
      "text/plain": [
       "(2051.6500000000001, 1102.3182514591692)"
      ]
     },
     "execution_count": 59,
     "metadata": {},
     "output_type": "execute_result"
    }
   ],
   "source": [
    "np.mean(counts), np.std(counts)"
   ]
  },
  {
   "cell_type": "code",
   "execution_count": 60,
   "metadata": {
    "hidden": true
   },
   "outputs": [
    {
     "data": {
      "text/plain": [
       "0.53728377230968694"
      ]
     },
     "execution_count": 60,
     "metadata": {},
     "output_type": "execute_result"
    }
   ],
   "source": [
    "# normalized standard deviation\n",
    "np.std(counts)/np.mean(counts)"
   ]
  },
  {
   "cell_type": "code",
   "execution_count": 68,
   "metadata": {
    "hidden": true
   },
   "outputs": [
    {
     "data": {
      "text/plain": [
       "<matplotlib.collections.LineCollection at 0x7f56065d6320>"
      ]
     },
     "execution_count": 68,
     "metadata": {},
     "output_type": "execute_result"
    },
    {
     "data": {
      "image/png": "[encoded data removed]",
      "text/plain": [
       "<matplotlib.figure.Figure at 0x7f56065d60f0>"
      ]
     },
     "metadata": {},
     "output_type": "display_data"
    }
   ],
   "source": [
    "# plt.bar([i for i in range(len(counts))], counts)\n",
    "# plt.gca().set_ylim([0,])\n",
    "plt.scatter([i for i in range(len(counts))], counts)\n",
    "plt.vlines(np.arange(len(counts)), 0, counts)"
   ]
  },
  {
   "cell_type": "markdown",
   "metadata": {
    "hidden": true
   },
   "source": [
    "Okay so this deffinitely isn't great. So.. I should specify a target validation set proportion (say, 20%), give that some leeway, and write a function to pick a random set of subfolders that satisfies that. Right.\n",
    "\n",
    "---\n",
    "\n",
    "Hmm, maybe if I do this well enough I can submit it to fastai as a PR. Neat."
   ]
  },
  {
   "cell_type": "code",
   "execution_count": 71,
   "metadata": {
    "hidden": true
   },
   "outputs": [
    {
     "data": {
      "text/plain": [
       "41033"
      ]
     },
     "execution_count": 71,
     "metadata": {},
     "output_type": "execute_result"
    }
   ],
   "source": [
    "len(labels)"
   ]
  },
  {
   "cell_type": "code",
   "execution_count": 86,
   "metadata": {
    "hidden": true
   },
   "outputs": [
    {
     "data": {
      "text/plain": [
       "(array([], dtype=int64),)"
      ]
     },
     "execution_count": 86,
     "metadata": {},
     "output_type": "execute_result"
    }
   ],
   "source": [
    "np.where(labels[:len(subfolders[0])] == subfolders[0])"
   ]
  },
  {
   "cell_type": "code",
   "execution_count": 81,
   "metadata": {
    "hidden": true
   },
   "outputs": [
    {
     "data": {
      "text/plain": [
       "'000000-003707/000000'"
      ]
     },
     "execution_count": 81,
     "metadata": {},
     "output_type": "execute_result"
    }
   ],
   "source": [
    "labels[0]"
   ]
  },
  {
   "cell_type": "code",
   "execution_count": 83,
   "metadata": {
    "hidden": true
   },
   "outputs": [
    {
     "data": {
      "text/plain": [
       "13"
      ]
     },
     "execution_count": 83,
     "metadata": {},
     "output_type": "execute_result"
    }
   ],
   "source": [
    "len(subfolders[0])"
   ]
  },
  {
   "cell_type": "code",
   "execution_count": 85,
   "metadata": {
    "hidden": true
   },
   "outputs": [
    {
     "data": {
      "text/plain": [
       "'000000-003707'"
      ]
     },
     "execution_count": 85,
     "metadata": {},
     "output_type": "execute_result"
    }
   ],
   "source": [
    "labels[0][:len(subfolders[0])]"
   ]
  },
  {
   "cell_type": "code",
   "execution_count": 94,
   "metadata": {
    "hidden": true
   },
   "outputs": [
    {
     "data": {
      "text/plain": [
       "3708"
      ]
     },
     "execution_count": 94,
     "metadata": {},
     "output_type": "execute_result"
    }
   ],
   "source": [
    "len(np.where([λ[:len(subfolders[0])] == subfolders[0] for λ in labels])[0])"
   ]
  },
  {
   "cell_type": "markdown",
   "metadata": {
    "hidden": true
   },
   "source": [
    "Or instead of this horrible way of building an array each time... I could just look at the numbered subfolders... (this won't generalize to other datasets, but I can write that in if I'm doing a Pull Request)."
   ]
  },
  {
   "cell_type": "code",
   "execution_count": 95,
   "metadata": {
    "hidden": true
   },
   "outputs": [
    {
     "data": {
      "text/plain": [
       "'000000-003707'"
      ]
     },
     "execution_count": 95,
     "metadata": {},
     "output_type": "execute_result"
    }
   ],
   "source": [
    "subfolders[0]"
   ]
  },
  {
   "cell_type": "code",
   "execution_count": 99,
   "metadata": {
    "hidden": true
   },
   "outputs": [
    {
     "data": {
      "text/plain": [
       "(0, 3707)"
      ]
     },
     "execution_count": 99,
     "metadata": {},
     "output_type": "execute_result"
    }
   ],
   "source": [
    "a,b = subfolders[0].split('-'); a, b = int(a), int(b); a, b"
   ]
  },
  {
   "cell_type": "code",
   "execution_count": 100,
   "metadata": {
    "hidden": true
   },
   "outputs": [
    {
     "data": {
      "text/plain": [
       "3707"
      ]
     },
     "execution_count": 100,
     "metadata": {},
     "output_type": "execute_result"
    }
   ],
   "source": [
    "b - a"
   ]
  },
  {
   "cell_type": "markdown",
   "metadata": {
    "hidden": true
   },
   "source": [
    "But this is inclusive, stard & end index, so I have to add 1."
   ]
  },
  {
   "cell_type": "code",
   "execution_count": 101,
   "metadata": {
    "hidden": true
   },
   "outputs": [
    {
     "data": {
      "text/plain": [
       "3708"
      ]
     },
     "execution_count": 101,
     "metadata": {},
     "output_type": "execute_result"
    }
   ],
   "source": [
    "b - a + 1"
   ]
  },
  {
   "cell_type": "markdown",
   "metadata": {
    "hidden": true
   },
   "source": [
    "Getting Python [mapping](http://book.pythontips.com/en/latest/map_filter.html) to work:"
   ]
  },
  {
   "cell_type": "code",
   "execution_count": 110,
   "metadata": {
    "hidden": true
   },
   "outputs": [
    {
     "data": {
      "text/plain": [
       "[0, 3707]"
      ]
     },
     "execution_count": 110,
     "metadata": {},
     "output_type": "execute_result"
    }
   ],
   "source": [
    "a,b = subfolders[0].split('-')\n",
    "y = [a,b]\n",
    "y = list(map(lambda x: int(x), y)); y"
   ]
  },
  {
   "cell_type": "code",
   "execution_count": 112,
   "metadata": {
    "hidden": true
   },
   "outputs": [
    {
     "data": {
      "text/plain": [
       "(0, 3707)"
      ]
     },
     "execution_count": 112,
     "metadata": {},
     "output_type": "execute_result"
    }
   ],
   "source": [
    "a,b = subfolders[0].split('-')\n",
    "a,b = list(map(lambda x: int(x), (a,b))); a,b"
   ]
  },
  {
   "cell_type": "markdown",
   "metadata": {
    "hidden": true
   },
   "source": [
    "This will work."
   ]
  },
  {
   "cell_type": "code",
   "execution_count": 113,
   "metadata": {
    "hidden": true
   },
   "outputs": [
    {
     "data": {
      "text/plain": [
       "[3708,\n",
       " 693,\n",
       " 767,\n",
       " 3595,\n",
       " 548,\n",
       " 2145,\n",
       " 4106,\n",
       " 2961,\n",
       " 1842,\n",
       " 1559,\n",
       " 1780,\n",
       " 1742,\n",
       " 3177,\n",
       " 2334,\n",
       " 638,\n",
       " 3288,\n",
       " 338,\n",
       " 2112,\n",
       " 1771,\n",
       " 1929]"
      ]
     },
     "execution_count": 113,
     "metadata": {},
     "output_type": "execute_result"
    }
   ],
   "source": [
    "counts"
   ]
  },
  {
   "cell_type": "code",
   "execution_count": 115,
   "metadata": {
    "hidden": true
   },
   "outputs": [],
   "source": [
    "counts_test = []\n",
    "for folder in subfolders:\n",
    "    a, b = list(map(lambda x: int(x), folder.split('-')))\n",
    "    counts_test.append(b-a+1)"
   ]
  },
  {
   "cell_type": "code",
   "execution_count": 116,
   "metadata": {
    "hidden": true
   },
   "outputs": [
    {
     "data": {
      "text/plain": [
       "[3708,\n",
       " 693,\n",
       " 767,\n",
       " 3595,\n",
       " 548,\n",
       " 2145,\n",
       " 4106,\n",
       " 2961,\n",
       " 1842,\n",
       " 1559,\n",
       " 1780,\n",
       " 1742,\n",
       " 3177,\n",
       " 2334,\n",
       " 638,\n",
       " 3288,\n",
       " 338,\n",
       " 2112,\n",
       " 1771,\n",
       " 1929]"
      ]
     },
     "execution_count": 116,
     "metadata": {},
     "output_type": "execute_result"
    }
   ],
   "source": [
    "counts_test"
   ]
  },
  {
   "cell_type": "code",
   "execution_count": 122,
   "metadata": {
    "hidden": true
   },
   "outputs": [
    {
     "data": {
      "text/plain": [
       "41033"
      ]
     },
     "execution_count": 122,
     "metadata": {},
     "output_type": "execute_result"
    }
   ],
   "source": [
    "sum(counts)"
   ]
  },
  {
   "cell_type": "code",
   "execution_count": 123,
   "metadata": {
    "hidden": true
   },
   "outputs": [
    {
     "data": {
      "text/plain": [
       "8206.6"
      ]
     },
     "execution_count": 123,
     "metadata": {},
     "output_type": "execute_result"
    }
   ],
   "source": [
    ".2 * sum(counts)"
   ]
  },
  {
   "cell_type": "code",
   "execution_count": 131,
   "metadata": {
    "hidden": true
   },
   "outputs": [
    {
     "data": {
      "text/plain": [
       "array([ 338,  548,  638,  693,  767, 1559, 1742, 1771, 1780, 1842, 1929, 2112, 2145, 2334, 2961, 3177, 3288,\n",
       "       3595, 3708, 4106])"
      ]
     },
     "execution_count": 131,
     "metadata": {},
     "output_type": "execute_result"
    }
   ],
   "source": [
    "sorted_counts = np.sort(counts); sorted_counts"
   ]
  },
  {
   "cell_type": "code",
   "execution_count": 133,
   "metadata": {
    "hidden": true
   },
   "outputs": [
    {
     "data": {
      "text/plain": [
       "11678"
      ]
     },
     "execution_count": 133,
     "metadata": {},
     "output_type": "execute_result"
    }
   ],
   "source": [
    "sum(sorted_counts[:10])"
   ]
  },
  {
   "cell_type": "code",
   "execution_count": 118,
   "metadata": {
    "hidden": true
   },
   "outputs": [
    {
     "data": {
      "text/plain": [
       "True"
      ]
     },
     "execution_count": 118,
     "metadata": {},
     "output_type": "execute_result"
    }
   ],
   "source": [
    "counts == counts_test"
   ]
  },
  {
   "cell_type": "markdown",
   "metadata": {
    "hidden": true
   },
   "source": [
    "Sweet. Now to get the last part of this function working; the target threshold permutation thing.\n",
    "\n",
    "Okay here's what I want: take a random handful of subfolders that total data within the threshold. I want more than 1 subfolder. I don't know about an upper-limit on validation subfolders used for now."
   ]
  },
  {
   "cell_type": "code",
   "execution_count": 135,
   "metadata": {
    "hidden": true
   },
   "outputs": [],
   "source": [
    "val_pct = 0.2 # 20%\n",
    "threshold = 0.05 # ±5%\n",
    "total = len(labels) # 41033"
   ]
  },
  {
   "cell_type": "code",
   "execution_count": 283,
   "metadata": {
    "hidden": true
   },
   "outputs": [],
   "source": [
    "??get_cv_idxs"
   ]
  },
  {
   "cell_type": "code",
   "execution_count": 138,
   "metadata": {
    "hidden": true
   },
   "outputs": [],
   "source": [
    "valfolder_idxs = np.random.permutation(len(subfolders) - 1)"
   ]
  },
  {
   "cell_type": "markdown",
   "metadata": {
    "hidden": true
   },
   "source": [
    "Testing two different ways to write this part of the function:"
   ]
  },
  {
   "cell_type": "code",
   "execution_count": 257,
   "metadata": {
    "hidden": true
   },
   "outputs": [],
   "source": [
    "def v1():\n",
    "    idx = 0\n",
    "    val_total = 0\n",
    "    while val_total < len(labels)*(val_pct+threshold):\n",
    "        idx += 1\n",
    "        val_total = sum(np.asarray(counts_test)[valfolder_idxs[:idx]])\n",
    "#         val_total = sum([counts_test[vidx] for vidx in valfolder_idxs[:idx]])\n",
    "#         val_total = sum(counts_test[:valfolder_idxs[idx]])\n",
    "\n",
    "    if val_total > len(labels)*(val_pct+threshold):\n",
    "        idx -= 1\n",
    "        val_total = sum(np.asarray(counts_test)[valfolder_idxs[:idx]]) # about 68 μs\n",
    "#         val_total = sum([counts_test[vidx] for vidx in valfolder_idxs[:idx]]) # about 48 μs\n",
    "#         val_total = sum(:counts_test[valfolder_idxs[idx]]) # about 4 μs but wrong\n",
    "\n",
    "    if val_total < len(labels)*(val_pct-threshold):\n",
    "        print(\"oh shit\")\n",
    "\n",
    "def v2():\n",
    "    idx = -1\n",
    "    val_total = 0\n",
    "    while val_total < len(labels)*(val_pct+threshold):\n",
    "        idx += 1\n",
    "        val_total += counts_test[valfolder_idxs[idx]] # about 8 μs\n",
    "    # lose last idx: just over threshold\n",
    "    if val_total > len(labels)*(val_pct+threshold):\n",
    "        val_total -= counts_test[valfolder_idxs[idx]]\n",
    "        idx -= 1\n",
    "\n",
    "    # re-shuffle: under threshold\n",
    "    if val_total < len(labels)*(val_pct-threshold):\n",
    "        print(\"oh shit\")"
   ]
  },
  {
   "cell_type": "code",
   "execution_count": 301,
   "metadata": {
    "hidden": true
   },
   "outputs": [
    {
     "name": "stdout",
     "output_type": "stream",
     "text": [
      "[ 1  6  8  9 14  4  2 13 10  7 11  3  0  5 12]\n",
      "[ 2  4  3 13 11  0 10  9  5 14  8 12  7  6  1]\n"
     ]
    }
   ],
   "source": [
    "n = 15\n",
    "np.random.seed(0)\n",
    "print(np.random.permutation(n))\n",
    "print(np.random.permutation(n))"
   ]
  },
  {
   "cell_type": "code",
   "execution_count": 260,
   "metadata": {
    "hidden": true
   },
   "outputs": [
    {
     "name": "stdout",
     "output_type": "stream",
     "text": [
      "CPU times: user 68 ms, sys: 0 ns, total: 68 ms\n",
      "Wall time: 67.2 ms\n"
     ]
    }
   ],
   "source": [
    "%time for i in range(1000): v1()"
   ]
  },
  {
   "cell_type": "code",
   "execution_count": 261,
   "metadata": {
    "hidden": true
   },
   "outputs": [
    {
     "name": "stdout",
     "output_type": "stream",
     "text": [
      "CPU times: user 8 ms, sys: 0 ns, total: 8 ms\n",
      "Wall time: 7.76 ms\n"
     ]
    }
   ],
   "source": [
    "%time for i in range(1000): v2()"
   ]
  },
  {
   "cell_type": "markdown",
   "metadata": {
    "hidden": true
   },
   "source": [
    "I'll just go with the second method and remember to add 1 to the index when specifying the validation indices afterwards. When I find a faster way to implement v1 I'll rewrite that. Then again.. at *8 μs* what am I really complaining about? Hey I like a well-tuned machine."
   ]
  },
  {
   "cell_type": "code",
   "execution_count": 262,
   "metadata": {
    "hidden": true
   },
   "outputs": [],
   "source": [
    "idx = -1\n",
    "val_total = 0\n",
    "while val_total < len(labels)*(val_pct+threshold):\n",
    "    idx += 1\n",
    "    val_total += counts_test[valfolder_idxs[idx]] # about 8 μs\n",
    "# lose last idx: just over threshold\n",
    "if val_total > len(labels)*(val_pct+threshold):\n",
    "    val_total -= counts_test[valfolder_idxs[idx]]\n",
    "    idx -= 1\n",
    "\n",
    "# re-shuffle: under threshold\n",
    "if val_total < len(labels)*(val_pct-threshold):\n",
    "    print(\"oh shit\")"
   ]
  },
  {
   "cell_type": "code",
   "execution_count": 265,
   "metadata": {
    "hidden": true
   },
   "outputs": [
    {
     "data": {
      "text/plain": [
       "(9811, 6, '0.24%')"
      ]
     },
     "execution_count": 265,
     "metadata": {},
     "output_type": "execute_result"
    }
   ],
   "source": [
    "val_total, idx, f'{np.round(val_total/len(labels),2)}%'"
   ]
  },
  {
   "cell_type": "code",
   "execution_count": 267,
   "metadata": {
    "hidden": true
   },
   "outputs": [
    {
     "data": {
      "text/plain": [
       "array([ 5, 16,  2,  4,  3, 10, 14, 11, 18, 15, 12,  7,  6,  0, 13, 17,  9,  1,  8])"
      ]
     },
     "execution_count": 267,
     "metadata": {},
     "output_type": "execute_result"
    }
   ],
   "source": [
    "valfolder_idxs"
   ]
  },
  {
   "cell_type": "code",
   "execution_count": 275,
   "metadata": {
    "hidden": true
   },
   "outputs": [
    {
     "name": "stdout",
     "output_type": "stream",
     "text": [
      "2145\n",
      "2483\n",
      "3250\n",
      "3798\n",
      "7393\n",
      "9173\n",
      "9811\n"
     ]
    }
   ],
   "source": [
    "temp = 0\n",
    "for i in range(idx+1):\n",
    "    temp += counts_test[valfolder_idxs[i]]\n",
    "    print(temp)"
   ]
  },
  {
   "cell_type": "markdown",
   "metadata": {
    "hidden": true
   },
   "source": [
    "So make sure to add 1 to `idx`"
   ]
  },
  {
   "cell_type": "code",
   "execution_count": 277,
   "metadata": {
    "hidden": true
   },
   "outputs": [
    {
     "data": {
      "text/plain": [
       "array([ 5, 16,  2,  4,  3, 10, 14])"
      ]
     },
     "execution_count": 277,
     "metadata": {},
     "output_type": "execute_result"
    }
   ],
   "source": [
    "temp_idxs = valfolder_idxs[:idx+1]; temp_idxs"
   ]
  },
  {
   "cell_type": "code",
   "execution_count": 278,
   "metadata": {
    "hidden": true
   },
   "outputs": [
    {
     "name": "stdout",
     "output_type": "stream",
     "text": [
      "2145\n",
      "2483\n",
      "3250\n",
      "3798\n",
      "7393\n",
      "9173\n",
      "9811\n"
     ]
    }
   ],
   "source": [
    "temp = 0\n",
    "for i in temp_idxs:\n",
    "    temp += counts_test[i]\n",
    "    print(temp)"
   ]
  },
  {
   "cell_type": "markdown",
   "metadata": {
    "hidden": true
   },
   "source": [
    "Okeydoke. Got it working right."
   ]
  },
  {
   "cell_type": "code",
   "execution_count": 280,
   "metadata": {
    "hidden": true
   },
   "outputs": [],
   "source": [
    "valfolder_idxs = valfolder_idxs[:idx+1]"
   ]
  },
  {
   "cell_type": "markdown",
   "metadata": {
    "hidden": true
   },
   "source": [
    "Next we get the raw indices that correspond to the data in those validation subfolders, and that'll be passed into the FastAI dataloader.\n",
    "\n",
    "Two ways I can think of doing this are:\n",
    "1. Build one big array mapping each filename to an index number & use that\n",
    "2. Use the valfolder filenames to lookup in the dataframe, and pull their indices\n",
    "\n",
    "I'll test both for speed.\n",
    "\n",
    "Wait... my subfolders are start index to end index... so I can just use that.."
   ]
  },
  {
   "cell_type": "code",
   "execution_count": 302,
   "metadata": {
    "hidden": true
   },
   "outputs": [
    {
     "data": {
      "text/plain": [
       "array(['000000-003707/000000', '000000-003707/000001', '000000-003707/000002', ..., '047591-049519/049517',\n",
       "       '047591-049519/049518', '047591-049519/049519'], dtype=object)"
      ]
     },
     "execution_count": 302,
     "metadata": {},
     "output_type": "execute_result"
    }
   ],
   "source": [
    "labels"
   ]
  },
  {
   "cell_type": "code",
   "execution_count": 303,
   "metadata": {
    "hidden": true
   },
   "outputs": [
    {
     "data": {
      "text/plain": [
       "array(['000000-003707', '003708-004400', '004401-005167', '005556-009150', '009151-009698', '009699-011843',\n",
       "       '012504-016609', '016995-019955', '020058-021899', '023924-025482', '025551-027330', '027377-029118',\n",
       "       '029565-032741', '033690-036023', '036894-037531', '038003-041290', '041950-042287', '042599-044710',\n",
       "       '045006-046776', '047591-049519'],\n",
       "      dtype='<U13')"
      ]
     },
     "execution_count": 303,
     "metadata": {},
     "output_type": "execute_result"
    }
   ],
   "source": [
    "subfolders"
   ]
  },
  {
   "cell_type": "code",
   "execution_count": 304,
   "metadata": {
    "hidden": true
   },
   "outputs": [
    {
     "data": {
      "text/plain": [
       "array([ 5, 16,  2,  4,  3, 10, 14])"
      ]
     },
     "execution_count": 304,
     "metadata": {},
     "output_type": "execute_result"
    }
   ],
   "source": [
    "valfolder_idxs"
   ]
  },
  {
   "cell_type": "code",
   "execution_count": 306,
   "metadata": {
    "hidden": true
   },
   "outputs": [
    {
     "data": {
      "text/plain": [
       "array(['009699-011843', '041950-042287', '004401-005167', '009151-009698', '005556-009150', '025551-027330',\n",
       "       '036894-037531'],\n",
       "      dtype='<U13')"
      ]
     },
     "execution_count": 306,
     "metadata": {},
     "output_type": "execute_result"
    }
   ],
   "source": [
    "valfolders = subfolders[valfolder_idxs]; valfolders"
   ]
  },
  {
   "cell_type": "code",
   "execution_count": 310,
   "metadata": {
    "hidden": true
   },
   "outputs": [
    {
     "data": {
      "text/plain": [
       "array(['000000-003707', '003708-004400', '004401-005167', '005556-009150', '009151-009698', '009699-011843',\n",
       "       '012504-016609', '016995-019955', '020058-021899', '023924-025482', '025551-027330', '027377-029118',\n",
       "       '029565-032741', '033690-036023', '036894-037531', '038003-041290', '041950-042287', '042599-044710',\n",
       "       '045006-046776', '047591-049519'],\n",
       "      dtype='<U13')"
      ]
     },
     "execution_count": 310,
     "metadata": {},
     "output_type": "execute_result"
    }
   ],
   "source": [
    "# Method 3: use a 'subtraction index'\n",
    "subfolders"
   ]
  },
  {
   "cell_type": "code",
   "execution_count": 340,
   "metadata": {
    "hidden": true
   },
   "outputs": [],
   "source": [
    "# each index tells how many to subtract BEFORE that subfolder index.\n",
    "subtract_idx = np.zeros(len(subfolders))\n",
    "for idx,folder in enumerate(subfolders):\n",
    "    if idx == 0:\n",
    "        # start with the beginning\n",
    "        subtract_idx[idx] = int(subfolders[idx].split('-')[0])\n",
    "    else:\n",
    "        # add the previous + the difference\n",
    "        subtract_idx[idx] = subtract_idx[idx-1] + \\\n",
    "                                int(subfolders[idx].split('-')[0]) - \\\n",
    "                                int(subfolders[idx-1].split('-')[1])"
   ]
  },
  {
   "cell_type": "code",
   "execution_count": 341,
   "metadata": {
    "hidden": true
   },
   "outputs": [
    {
     "data": {
      "text/plain": [
       "array([    0.,     1.,     2.,   391.,   392.,   393.,  1054.,  1440.,  1543.,  3568.,  3637.,  3684.,  4131.,\n",
       "        5080.,  5951.,  6423.,  7083.,  7395.,  7691.,  8506.])"
      ]
     },
     "execution_count": 341,
     "metadata": {},
     "output_type": "execute_result"
    }
   ],
   "source": [
    "subtract_idx"
   ]
  },
  {
   "cell_type": "markdown",
   "metadata": {
    "hidden": true
   },
   "source": [
    "If this works right, `int(labels[-1].split('/')[1]) - subtract_idx` should equal `len(labels)`"
   ]
  },
  {
   "cell_type": "code",
   "execution_count": 342,
   "metadata": {
    "hidden": true
   },
   "outputs": [
    {
     "data": {
      "text/plain": [
       "'047591-049519/049519'"
      ]
     },
     "execution_count": 342,
     "metadata": {},
     "output_type": "execute_result"
    }
   ],
   "source": [
    "labels[-1]"
   ]
  },
  {
   "cell_type": "code",
   "execution_count": 347,
   "metadata": {
    "hidden": true
   },
   "outputs": [
    {
     "data": {
      "text/plain": [
       "False"
      ]
     },
     "execution_count": 347,
     "metadata": {},
     "output_type": "execute_result"
    }
   ],
   "source": [
    "int(labels[-1].split('/')[1]) - subtract_idx[-1] == len(labels)"
   ]
  },
  {
   "cell_type": "code",
   "execution_count": 349,
   "metadata": {
    "hidden": true
   },
   "outputs": [
    {
     "data": {
      "text/plain": [
       "41013.0"
      ]
     },
     "execution_count": 349,
     "metadata": {},
     "output_type": "execute_result"
    }
   ],
   "source": [
    "int(labels[-1].split('/')[1]) - subtract_idx[-1]"
   ]
  },
  {
   "cell_type": "code",
   "execution_count": 350,
   "metadata": {
    "hidden": true
   },
   "outputs": [
    {
     "data": {
      "text/plain": [
       "41033"
      ]
     },
     "execution_count": 350,
     "metadata": {},
     "output_type": "execute_result"
    }
   ],
   "source": [
    "len(labels)"
   ]
  },
  {
   "cell_type": "code",
   "execution_count": 352,
   "metadata": {
    "hidden": true
   },
   "outputs": [
    {
     "data": {
      "text/plain": [
       "41033"
      ]
     },
     "execution_count": 352,
     "metadata": {},
     "output_type": "execute_result"
    }
   ],
   "source": [
    "sum(counts)"
   ]
  },
  {
   "cell_type": "code",
   "execution_count": 353,
   "metadata": {
    "hidden": true
   },
   "outputs": [
    {
     "data": {
      "text/plain": [
       "array(['000000-003707', '003708-004400', '004401-005167', '005556-009150', '009151-009698', '009699-011843',\n",
       "       '012504-016609', '016995-019955', '020058-021899', '023924-025482', '025551-027330', '027377-029118',\n",
       "       '029565-032741', '033690-036023', '036894-037531', '038003-041290', '041950-042287', '042599-044710',\n",
       "       '045006-046776', '047591-049519'],\n",
       "      dtype='<U13')"
      ]
     },
     "execution_count": 353,
     "metadata": {},
     "output_type": "execute_result"
    }
   ],
   "source": [
    "subfolders"
   ]
  },
  {
   "cell_type": "code",
   "execution_count": 379,
   "metadata": {
    "hidden": true
   },
   "outputs": [
    {
     "name": "stdout",
     "output_type": "stream",
     "text": [
      "0\n",
      "0\n",
      "388\n",
      "388\n",
      "388\n",
      "1048\n",
      "1433\n",
      "1535\n",
      "3559\n",
      "3627\n",
      "3673\n",
      "4119\n",
      "5067\n",
      "5937\n",
      "6408\n",
      "7067\n",
      "7378\n",
      "7673\n",
      "8487\n"
     ]
    }
   ],
   "source": [
    "temp = 0\n",
    "for i in range(1, len(subfolders)):\n",
    "    temp += int(subfolders[i].split('-')[0]) - int(subfolders[i-1].split('-')[1]) - 1\n",
    "    print(temp)"
   ]
  },
  {
   "cell_type": "code",
   "execution_count": 361,
   "metadata": {
    "hidden": true
   },
   "outputs": [
    {
     "data": {
      "text/plain": [
       "49519"
      ]
     },
     "execution_count": 361,
     "metadata": {},
     "output_type": "execute_result"
    }
   ],
   "source": [
    "int(subfolders[-1].split('-')[-1])"
   ]
  },
  {
   "cell_type": "code",
   "execution_count": 365,
   "metadata": {
    "hidden": true
   },
   "outputs": [
    {
     "data": {
      "text/plain": [
       "41013"
      ]
     },
     "execution_count": 365,
     "metadata": {},
     "output_type": "execute_result"
    }
   ],
   "source": [
    "49519 - 8506"
   ]
  },
  {
   "cell_type": "code",
   "execution_count": 373,
   "metadata": {
    "hidden": true
   },
   "outputs": [
    {
     "data": {
      "text/plain": [
       "41032"
      ]
     },
     "execution_count": 373,
     "metadata": {},
     "output_type": "execute_result"
    }
   ],
   "source": [
    "49519 - 8487"
   ]
  },
  {
   "cell_type": "markdown",
   "metadata": {
    "hidden": true
   },
   "source": [
    "Oh wait, fuck yes, this works because the file names are zero-indexed. Phew. Okay, good.\n",
    "\n",
    "Up above in the calculating-differences loop, I was accidentally adding 1 between each subfolder, and that even covered up the off-by-one by subtracting 1 time, right at the beginning -- or so.\n",
    "\n",
    "So now to edite the subtract_idxs loop a bit:"
   ]
  },
  {
   "cell_type": "code",
   "execution_count": 366,
   "metadata": {
    "hidden": true
   },
   "outputs": [
    {
     "data": {
      "text/plain": [
       "array(['000000-003707', '003708-004400', '004401-005167', '005556-009150', '009151-009698', '009699-011843',\n",
       "       '012504-016609', '016995-019955', '020058-021899', '023924-025482', '025551-027330', '027377-029118',\n",
       "       '029565-032741', '033690-036023', '036894-037531', '038003-041290', '041950-042287', '042599-044710',\n",
       "       '045006-046776', '047591-049519'],\n",
       "      dtype='<U13')"
      ]
     },
     "execution_count": 366,
     "metadata": {},
     "output_type": "execute_result"
    }
   ],
   "source": [
    "subfolders"
   ]
  },
  {
   "cell_type": "code",
   "execution_count": 380,
   "metadata": {
    "hidden": true
   },
   "outputs": [
    {
     "data": {
      "text/plain": [
       "array([    0.,     0.,     0.,   388.,   388.,   388.,  1048.,  1433.,  1535.,  3559.,  3627.,  3673.,  4119.,\n",
       "        5067.,  5937.,  6408.,  7067.,  7378.,  7673.,  8487.])"
      ]
     },
     "execution_count": 380,
     "metadata": {},
     "output_type": "execute_result"
    }
   ],
   "source": [
    "# each index tells how many to subtract BEFORE that subfolder index.\n",
    "subtract_idx = np.zeros(len(subfolders))\n",
    "for idx,folder in enumerate(subfolders):\n",
    "    if idx == 0:\n",
    "        # start with the beginning\n",
    "        subtract_idx[idx] = int(subfolders[idx].split('-')[0])\n",
    "    else:\n",
    "        # add the previous + the difference\n",
    "        subtract_idx[idx] = subtract_idx[idx-1] + \\\n",
    "                                int(subfolders[idx].split('-')[0]) - \\\n",
    "                                int(subfolders[idx-1].split('-')[1]) - 1\n",
    "# 8487 is the final magic number we're looking for\n",
    "subtract_idx"
   ]
  },
  {
   "cell_type": "markdown",
   "metadata": {
    "hidden": true
   },
   "source": [
    "Now we can use the subtraction index to build our validation index array, to feed into the FastAI dataloader."
   ]
  },
  {
   "cell_type": "code",
   "execution_count": 383,
   "metadata": {
    "hidden": true
   },
   "outputs": [
    {
     "data": {
      "text/plain": [
       "(array([ 5, 16,  2,  4,  3, 10, 14]),\n",
       " array(['009699-011843', '041950-042287', '004401-005167', '009151-009698', '005556-009150', '025551-027330',\n",
       "        '036894-037531'],\n",
       "       dtype='<U13'),\n",
       " array([    0.,     0.,     0.,   388.,   388.,   388.,  1048.,  1433.,  1535.,  3559.,  3627.,  3673.,  4119.,\n",
       "         5067.,  5937.,  6408.,  7067.,  7378.,  7673.,  8487.]),\n",
       " array(['000000-003707', '003708-004400', '004401-005167', '005556-009150', '009151-009698', '009699-011843',\n",
       "        '012504-016609', '016995-019955', '020058-021899', '023924-025482', '025551-027330', '027377-029118',\n",
       "        '029565-032741', '033690-036023', '036894-037531', '038003-041290', '041950-042287', '042599-044710',\n",
       "        '045006-046776', '047591-049519'],\n",
       "       dtype='<U13'),\n",
       " 41033)"
      ]
     },
     "execution_count": 383,
     "metadata": {},
     "output_type": "execute_result"
    }
   ],
   "source": [
    "valfolder_idxs, valfolders, subtract_idx, subfolders, len(labels)"
   ]
  },
  {
   "cell_type": "code",
   "execution_count": 390,
   "metadata": {
    "hidden": true
   },
   "outputs": [
    {
     "data": {
      "text/plain": [
       "[1, 2, 0, 1, 2, 3, 4, array([0, 1, 2, 3, 4])]"
      ]
     },
     "execution_count": 390,
     "metadata": {},
     "output_type": "execute_result"
    }
   ],
   "source": [
    "temp = []\n",
    "temp.extend([1,2]); temp\n",
    "temp.extend(np.arange(5)); temp\n",
    "temp.append(np.arange(5)); temp"
   ]
  },
  {
   "cell_type": "code",
   "execution_count": 403,
   "metadata": {
    "hidden": true
   },
   "outputs": [
    {
     "data": {
      "text/plain": [
       "9811"
      ]
     },
     "execution_count": 403,
     "metadata": {},
     "output_type": "execute_result"
    }
   ],
   "source": [
    "temp = 0\n",
    "for v in valfolders:\n",
    "    a,b = list(map(lambda x: int(x), v.split('-')))\n",
    "    temp += b-a+1\n",
    "temp"
   ]
  },
  {
   "cell_type": "markdown",
   "metadata": {
    "hidden": true
   },
   "source": [
    "That's the next magic number. `9811` is the sum of all `valfolder_idxs` in `counts`. IE: the size of the validation set. The length of `val_idxs` **must** be that number for this process to be valid."
   ]
  },
  {
   "cell_type": "code",
   "execution_count": 383,
   "metadata": {
    "hidden": true
   },
   "outputs": [
    {
     "data": {
      "text/plain": [
       "(array([ 5, 16,  2,  4,  3, 10, 14]),\n",
       " array(['009699-011843', '041950-042287', '004401-005167', '009151-009698', '005556-009150', '025551-027330',\n",
       "        '036894-037531'],\n",
       "       dtype='<U13'),\n",
       " array([    0.,     0.,     0.,   388.,   388.,   388.,  1048.,  1433.,  1535.,  3559.,  3627.,  3673.,  4119.,\n",
       "         5067.,  5937.,  6408.,  7067.,  7378.,  7673.,  8487.]),\n",
       " array(['000000-003707', '003708-004400', '004401-005167', '005556-009150', '009151-009698', '009699-011843',\n",
       "        '012504-016609', '016995-019955', '020058-021899', '023924-025482', '025551-027330', '027377-029118',\n",
       "        '029565-032741', '033690-036023', '036894-037531', '038003-041290', '041950-042287', '042599-044710',\n",
       "        '045006-046776', '047591-049519'],\n",
       "       dtype='<U13'),\n",
       " 41033)"
      ]
     },
     "execution_count": 383,
     "metadata": {},
     "output_type": "execute_result"
    }
   ],
   "source": [
    "valfolder_idxs, valfolders, subtract_idx, subfolders, len(labels)"
   ]
  },
  {
   "cell_type": "code",
   "execution_count": 407,
   "metadata": {
    "hidden": true
   },
   "outputs": [
    {
     "data": {
      "text/plain": [
       "9811"
      ]
     },
     "execution_count": 407,
     "metadata": {},
     "output_type": "execute_result"
    }
   ],
   "source": [
    "val_idxs = []\n",
    "for idx,vdx in enumerate(valfolder_idxs):\n",
    "    start,end = list(map(lambda x: int(x), valfolders[idx].split('-')))\n",
    "    start -= subtract_idx[vdx]\n",
    "    end   -= subtract_idx[vdx]\n",
    "    val_idxs.extend(np.arange(start, end+1))\n",
    "len(val_idxs)"
   ]
  },
  {
   "cell_type": "markdown",
   "metadata": {
    "hidden": true
   },
   "source": [
    "There we have it. Checking `np.arange(start, end)`'s behavior, below you see that it's end-exclusive, so adding 1 fixes the off-by-one issue, adding 7 for 7 validation subfolders."
   ]
  },
  {
   "cell_type": "code",
   "execution_count": 409,
   "metadata": {
    "hidden": true
   },
   "outputs": [
    {
     "data": {
      "text/plain": [
       "(array([0]), 7)"
      ]
     },
     "execution_count": 409,
     "metadata": {},
     "output_type": "execute_result"
    }
   ],
   "source": [
    "np.arange(0,1), len(valfolders)"
   ]
  },
  {
   "cell_type": "markdown",
   "metadata": {
    "heading_collapsed": true,
    "hidden": true
   },
   "source": [
    "#### Testing Validation-By-Subfolder Function:"
   ]
  },
  {
   "cell_type": "markdown",
   "metadata": {
    "hidden": true
   },
   "source": [
    "Now to turn that into a function and see if it works. Unfortunately I didn't set a random seed earlier above, meaning I'll have to redo all steps above in order to check them against the function."
   ]
  },
  {
   "cell_type": "code",
   "execution_count": 423,
   "metadata": {
    "hidden": true
   },
   "outputs": [],
   "source": [
    "# Wayne Nixalo - 2017-Dec-18 01:49\n",
    "# NOTE: this function makes some very specific assumptions I've not documented yet!\n",
    "\n",
    "def set_cv_idxs(val_pct=0.2, thresh=0.05, seed=None):\n",
    "    # set random seed if specfd\n",
    "    if seed != None: np.random.seed(seed)\n",
    "\n",
    "    # safety check\n",
    "    assert val_pct < 1, \"Validation Percent must be below 100: %f\" % val_pct\n",
    "\n",
    "    # get labels csv\n",
    "    df = pd.read_csv(label_csv)\n",
    "    labels = df[df.columns[0]].as_matrix()\n",
    "\n",
    "    # build subfolders array\n",
    "    subfolders = np.unique([λ.split('/')[0] for λ in labels])\n",
    "\n",
    "    # get total number of data\n",
    "    total = len(labels)\n",
    "\n",
    "    # get array of total data each subfolder\n",
    "    counts = []\n",
    "    for folder in subfolders:\n",
    "        a,b = list(map(lambda x: int(x), folder.split('-')))\n",
    "        counts.append(b-a+1)\n",
    "\n",
    "    target_max = total * (val_pct+thresh)\n",
    "    target_min = total * (val_pct-thresh)\n",
    "    val_total  = 0\n",
    "    idx        = -1\n",
    "\n",
    "    # try permutations until above min threshold    NOTE: assertion above aimed at making this safe\n",
    "    while val_total < target_min:\n",
    "        # shuffle indices\n",
    "        valfolder_idxs = np.random.permutation(len(subfolders)-1)\n",
    "\n",
    "        while val_total < target_max:\n",
    "            idx += 1\n",
    "            val_total += counts[valfolder_idxs[idx]]\n",
    "        # just over threshold: lose last idx\n",
    "        if val_total > target_max:\n",
    "            val_total -= counts[valfolder_idxs[idx]]\n",
    "            idx -= 1\n",
    "\n",
    "    # validation subfolders & indices\n",
    "    valfolder_idxs = valfolder_idxs[:idx+1]\n",
    "    valfolders = subfolders[valfolder_idxs]\n",
    "\n",
    "    # build subtraction index to match validation-index format of FastAI dataloader\n",
    "    subtract_idx = np.zeros(len(subfolders))\n",
    "    for idx, folder in enumerate(subfolders):\n",
    "        if idx == 0:\n",
    "            # start with beginning\n",
    "            subtract_idx[idx] = int(subfolders[idx].split('-')[0])\n",
    "        else:\n",
    "            # add the previous + the difference\n",
    "            subtract_idx[idx] = subtract_idx[idx-1] + \\\n",
    "                                    int(subfolders[idx].split('-')[0]) - \\\n",
    "                                    int(subfolders[idx-1].split('-')[1]) - 1\n",
    "\n",
    "    # build final validation index list\n",
    "    val_idxs = []\n",
    "    for idx, vdx in enumerate(valfolder_idxs):\n",
    "        start, end = list(map(lambda x: int(x), valfolders[idx].split('-')))\n",
    "        start -= subtract_idx[vdx]\n",
    "        end   -= subtract_idx[vdx]\n",
    "        val_idxs.extend(np.arange(start, end+1).astype(np.int32))\n",
    "\n",
    "    return val_idxs"
   ]
  },
  {
   "cell_type": "code",
   "execution_count": 424,
   "metadata": {
    "hidden": true
   },
   "outputs": [],
   "source": [
    "check_val_idxs = set_cv_idxs(val_pct=0.2, thresh=0.05, seed=0)"
   ]
  },
  {
   "cell_type": "code",
   "execution_count": 426,
   "metadata": {
    "hidden": true
   },
   "outputs": [
    {
     "data": {
      "text/plain": [
       "(7062, [21924, 21925, 21926, 21927, 21928, 21929, 21930, 21931, 21932, 21933])"
      ]
     },
     "execution_count": 426,
     "metadata": {},
     "output_type": "execute_result"
    }
   ],
   "source": [
    "# that's hillarious, I had floating-point 'indices'; fix by set: .astype(np.int32)\n",
    "len(check_val_idxs), check_val_idxs[:10]"
   ]
  },
  {
   "cell_type": "markdown",
   "metadata": {
    "heading_collapsed": true,
    "hidden": true
   },
   "source": [
    "#### Testing against 'Manual' Validation-By-Subfolder Code:"
   ]
  },
  {
   "cell_type": "code",
   "execution_count": 429,
   "metadata": {
    "hidden": true
   },
   "outputs": [
    {
     "name": "stdout",
     "output_type": "stream",
     "text": [
      "7062 [21924, 21925, 21926, 21927, 21928, 21929, 21930, 21931, 21932, 21933]\n"
     ]
    }
   ],
   "source": [
    "df = pd.read_csv(label_csv)\n",
    "labels = df[df.columns[0]].as_matrix()\n",
    "subfolders = np.unique([λ.split('/')[0] for λ in labels])\n",
    "counts = [len(os.listdir(PATH+\"train/\"+folder)) for folder in subfolders]\n",
    "\n",
    "counts_test = []\n",
    "for folder in subfolders:\n",
    "    a, b = list(map(lambda x: int(x), folder.split('-')))\n",
    "    counts_test.append(b-a+1)\n",
    "\n",
    "sorted_counts = np.sort(counts)\n",
    "\n",
    "val_pct = 0.2 # 20%\n",
    "threshold = 0.05 # ±5%\n",
    "total = len(labels) # 41033\n",
    "\n",
    "np.random.seed(0)\n",
    "valfolder_idxs = np.random.permutation(len(subfolders) - 1)\n",
    "\n",
    "idx = -1\n",
    "val_total = 0\n",
    "while val_total < len(labels)*(val_pct+threshold):\n",
    "    idx += 1\n",
    "    val_total += counts_test[valfolder_idxs[idx]] # about 8 μs\n",
    "# lose last idx: just over threshold\n",
    "if val_total > len(labels)*(val_pct+threshold):\n",
    "    val_total -= counts_test[valfolder_idxs[idx]]\n",
    "    idx -= 1\n",
    "\n",
    "# re-shuffle: under threshold\n",
    "if val_total < len(labels)*(val_pct-threshold):\n",
    "    print(\"oh shit\")\n",
    "\n",
    "valfolder_idxs = valfolder_idxs[:idx+1]\n",
    "valfolders = subfolders[valfolder_idxs]\n",
    "\n",
    "# each index tells how many to subtract BEFORE that subfolder index.\n",
    "subtract_idx = np.zeros(len(subfolders))\n",
    "for idx,folder in enumerate(subfolders):\n",
    "    if idx == 0:\n",
    "        # start with the beginning\n",
    "        subtract_idx[idx] = int(subfolders[idx].split('-')[0])\n",
    "    else:\n",
    "        # add the previous + the difference\n",
    "        subtract_idx[idx] = subtract_idx[idx-1] + \\\n",
    "                                int(subfolders[idx].split('-')[0]) - \\\n",
    "                                int(subfolders[idx-1].split('-')[1]) - 1\n",
    "\n",
    "val_idxs = []\n",
    "for idx,vdx in enumerate(valfolder_idxs):\n",
    "    start,end = list(map(lambda x: int(x), valfolders[idx].split('-')))\n",
    "    start -= subtract_idx[vdx]\n",
    "    end   -= subtract_idx[vdx]\n",
    "    val_idxs.extend(np.arange(start, end+1).astype(np.int32))\n",
    "\n",
    "print(len(val_idxs), val_idxs[:10])"
   ]
  },
  {
   "cell_type": "markdown",
   "metadata": {
    "hidden": true
   },
   "source": [
    "Oh My God I love the world. Okay. Great. Looks like it works. Now to do another numerical check."
   ]
  },
  {
   "cell_type": "code",
   "execution_count": 431,
   "metadata": {
    "hidden": true
   },
   "outputs": [
    {
     "data": {
      "text/plain": [
       "False"
      ]
     },
     "execution_count": 431,
     "metadata": {},
     "output_type": "execute_result"
    }
   ],
   "source": [
    "False in np.isclose(check_val_idxs, val_idxs)"
   ]
  },
  {
   "cell_type": "markdown",
   "metadata": {
    "heading_collapsed": true,
    "hidden": true
   },
   "source": [
    "#### Remarks"
   ]
  },
  {
   "cell_type": "markdown",
   "metadata": {
    "hidden": true
   },
   "source": [
    "There you have it. The function works as advertised. There are a number of changes I'll need to make to turn this into a generalized Pull Request to the FastAI Deep Learning Library, but I'm very happy with building this tonight.\n",
    "\n",
    "As it stands, `subfolder_val_loader()` takes an ordered list of file-IDs broken into file-ID-range named subfolders, and returns a list of random indices after accounting for any gaps between subfolders by subtracting the (accumulating) differences. This is returned as an array ready to be passed as a parameter into the FastAI dataloader.\n",
    "\n",
    "Fuck Yeah.\n",
    "\n",
    "---\n",
    "\n",
    "I may rename the function, but that's a good night's work so far. I may even go crazy and try to use this and put my workstation to work for the night. Ooo, Vikings started their season! Well alrighty then.\n",
    "\n",
    "-- 18 Dec 2017\n",
    "Wayne Nixalo"
   ]
  },
  {
   "cell_type": "code",
   "execution_count": null,
   "metadata": {
    "hidden": true
   },
   "outputs": [],
   "source": []
  },
  {
   "cell_type": "code",
   "execution_count": null,
   "metadata": {
    "hidden": true
   },
   "outputs": [],
   "source": []
  },
  {
   "cell_type": "markdown",
   "metadata": {},
   "source": [
    "## Testing the model on unseen data, breaking up training dataset into subfolders, misc"
   ]
  },
  {
   "cell_type": "code",
   "execution_count": 11,
   "metadata": {},
   "outputs": [],
   "source": [
    "temp = glob('data/train/*/')"
   ]
  },
  {
   "cell_type": "code",
   "execution_count": 12,
   "metadata": {},
   "outputs": [
    {
     "data": {
      "text/plain": [
       "['data/train/042599-044710/',\n",
       " 'data/train/000000-003707/',\n",
       " 'data/train/036894-037531/',\n",
       " 'data/train/016995-019955/',\n",
       " 'data/train/023924-025482/',\n",
       " 'data/train/038003-041290/',\n",
       " 'data/train/012504-016609/',\n",
       " 'data/train/033690-036023/',\n",
       " 'data/train/009699-011843/',\n",
       " 'data/train/005556-009150/',\n",
       " 'data/train/029565-032741/',\n",
       " 'data/train/045006-046776/',\n",
       " 'data/train/027377-029118/',\n",
       " 'data/train/025551-027330/',\n",
       " 'data/train/009151-009698/',\n",
       " 'data/train/041950-042287/',\n",
       " 'data/train/004401-005167/',\n",
       " 'data/train/003708-004400/',\n",
       " 'data/train/047591-049519/',\n",
       " 'data/train/020058-021899/']"
      ]
     },
     "execution_count": 12,
     "metadata": {},
     "output_type": "execute_result"
    }
   ],
   "source": [
    "temp"
   ]
  },
  {
   "cell_type": "code",
   "execution_count": 13,
   "metadata": {},
   "outputs": [
    {
     "data": {
      "text/plain": [
       "'data/train/042599-044710/'"
      ]
     },
     "execution_count": 13,
     "metadata": {},
     "output_type": "execute_result"
    }
   ],
   "source": [
    "t = temp[0]; t"
   ]
  },
  {
   "cell_type": "code",
   "execution_count": 14,
   "metadata": {},
   "outputs": [
    {
     "data": {
      "text/plain": [
       "['data', 'train', '042599-044710', '']"
      ]
     },
     "execution_count": 14,
     "metadata": {},
     "output_type": "execute_result"
    }
   ],
   "source": [
    "t.split('/')"
   ]
  },
  {
   "cell_type": "code",
   "execution_count": 17,
   "metadata": {},
   "outputs": [
    {
     "data": {
      "text/plain": [
       "'data/train/042599-044710/'"
      ]
     },
     "execution_count": 17,
     "metadata": {},
     "output_type": "execute_result"
    }
   ],
   "source": []
  },
  {
   "cell_type": "code",
   "execution_count": 235,
   "metadata": {},
   "outputs": [],
   "source": [
    "dirnames = glob('data/train/*/')\n",
    "for i,d in enumerate(dirnames):\n",
    "    dirnames[i] = d.split('/')[-2]\n",
    "#     dirnames[i] = d.split('/')[-2].split('-')[1]\n",
    "dirnames.sort()\n",
    "# dirnames"
   ]
  },
  {
   "cell_type": "code",
   "execution_count": 236,
   "metadata": {},
   "outputs": [
    {
     "data": {
      "text/plain": [
       "['000000-003707',\n",
       " '003708-004400',\n",
       " '004401-005167',\n",
       " '005556-009150',\n",
       " '009151-009698',\n",
       " '009699-011843',\n",
       " '012504-016609',\n",
       " '016995-019955',\n",
       " '020058-021899',\n",
       " '023924-025482',\n",
       " '025551-027330',\n",
       " '027377-029118',\n",
       " '029565-032741',\n",
       " '033690-036023',\n",
       " '036894-037531',\n",
       " '038003-041290',\n",
       " '041950-042287',\n",
       " '042599-044710',\n",
       " '045006-046776',\n",
       " '047591-049519']"
      ]
     },
     "execution_count": 236,
     "metadata": {},
     "output_type": "execute_result"
    }
   ],
   "source": [
    "dirnames"
   ]
  },
  {
   "cell_type": "code",
   "execution_count": 45,
   "metadata": {},
   "outputs": [],
   "source": [
    "df = pd.read_csv('data/labels.csv')"
   ]
  },
  {
   "cell_type": "code",
   "execution_count": 40,
   "metadata": {},
   "outputs": [
    {
     "data": {
      "text/plain": [
       "'id'"
      ]
     },
     "execution_count": 40,
     "metadata": {},
     "output_type": "execute_result"
    }
   ],
   "source": [
    "df.columns[0]"
   ]
  },
  {
   "cell_type": "code",
   "execution_count": 41,
   "metadata": {},
   "outputs": [
    {
     "data": {
      "text/plain": [
       "numpy.int64"
      ]
     },
     "execution_count": 41,
     "metadata": {},
     "output_type": "execute_result"
    }
   ],
   "source": [
    "type(df[key][0])"
   ]
  },
  {
   "cell_type": "code",
   "execution_count": 42,
   "metadata": {},
   "outputs": [
    {
     "data": {
      "text/html": [
       "<div>\n",
       "<style scoped>\n",
       "    .dataframe tbody tr th:only-of-type {\n",
       "        vertical-align: middle;\n",
       "    }\n",
       "\n",
       "    .dataframe tbody tr th {\n",
       "        vertical-align: top;\n",
       "    }\n",
       "\n",
       "    .dataframe thead th {\n",
       "        text-align: right;\n",
       "    }\n",
       "</style>\n",
       "<table border=\"1\" class=\"dataframe\">\n",
       "  <thead>\n",
       "    <tr style=\"text-align: right;\">\n",
       "      <th></th>\n",
       "      <th>id</th>\n",
       "      <th>gloc</th>\n",
       "    </tr>\n",
       "  </thead>\n",
       "  <tbody>\n",
       "    <tr>\n",
       "      <th>0</th>\n",
       "      <td>0</td>\n",
       "      <td>0</td>\n",
       "    </tr>\n",
       "    <tr>\n",
       "      <th>1</th>\n",
       "      <td>1</td>\n",
       "      <td>0</td>\n",
       "    </tr>\n",
       "    <tr>\n",
       "      <th>2</th>\n",
       "      <td>2</td>\n",
       "      <td>0</td>\n",
       "    </tr>\n",
       "    <tr>\n",
       "      <th>3</th>\n",
       "      <td>3</td>\n",
       "      <td>0</td>\n",
       "    </tr>\n",
       "    <tr>\n",
       "      <th>4</th>\n",
       "      <td>4</td>\n",
       "      <td>0</td>\n",
       "    </tr>\n",
       "  </tbody>\n",
       "</table>\n",
       "</div>"
      ],
      "text/plain": [
       "   id  gloc\n",
       "0   0     0\n",
       "1   1     0\n",
       "2   2     0\n",
       "3   3     0\n",
       "4   4     0"
      ]
     },
     "execution_count": 42,
     "metadata": {},
     "output_type": "execute_result"
    }
   ],
   "source": [
    "df.head()"
   ]
  },
  {
   "cell_type": "code",
   "execution_count": 226,
   "metadata": {},
   "outputs": [],
   "source": [
    "df = pd.read_csv('data/labels.csv')"
   ]
  },
  {
   "cell_type": "code",
   "execution_count": 232,
   "metadata": {},
   "outputs": [],
   "source": [
    "key = df.columns[0]\n",
    "temp =df[key].as_matrix()"
   ]
  },
  {
   "cell_type": "code",
   "execution_count": 231,
   "metadata": {},
   "outputs": [
    {
     "data": {
      "text/plain": [
       "array([0, 1, 2, 3, 4, 5, 6, 7, 8, 9])"
      ]
     },
     "execution_count": 231,
     "metadata": {},
     "output_type": "execute_result"
    }
   ],
   "source": [
    "temp[:10]"
   ]
  },
  {
   "cell_type": "code",
   "execution_count": 244,
   "metadata": {
    "code_folding": []
   },
   "outputs": [],
   "source": [
    "dirnames = glob('data/train/*/')\n",
    "for i,d in enumerate(dirnames):\n",
    "    dirnames[i] = d.split('/')[-2]\n",
    "dirnames.sort()\n",
    "\n",
    "df = pd.read_csv('data/labels.csv')\n",
    "key = df.columns[0]\n",
    "idx = 0\n",
    "newcol = []\n",
    "\n",
    "for i,e in enumerate(df[key]):\n",
    "    if int(e) > int(dirnames[idx].split('-')[1]):\n",
    "        idx += 1\n",
    "    newcol.append(dirnames[idx] + '/' + f'{e:0=6d}')\n",
    "\n",
    "newdf = pd.DataFrame(newcol, columns=['id'])\n",
    "newdf.insert(1, 'gloc', df['gloc'])\n",
    "\n",
    "newdf.to_csv('data/labels.csv')"
   ]
  },
  {
   "cell_type": "code",
   "execution_count": 246,
   "metadata": {},
   "outputs": [
    {
     "data": {
      "text/plain": [
       "['000000-003707/000000',\n",
       " '000000-003707/000001',\n",
       " '000000-003707/000002',\n",
       " '000000-003707/000003',\n",
       " '000000-003707/000004',\n",
       " '000000-003707/000005',\n",
       " '000000-003707/000006',\n",
       " '000000-003707/000007',\n",
       " '000000-003707/000008',\n",
       " '000000-003707/000009']"
      ]
     },
     "execution_count": 246,
     "metadata": {},
     "output_type": "execute_result"
    }
   ],
   "source": [
    "newcol[:10]"
   ]
  },
  {
   "cell_type": "code",
   "execution_count": 249,
   "metadata": {},
   "outputs": [],
   "source": [
    "df2 = pd.DataFrame(newcol, columns=['id'])\n",
    "df2.insert(1, 'gloc', df['gloc'])"
   ]
  },
  {
   "cell_type": "code",
   "execution_count": 264,
   "metadata": {
    "scrolled": false
   },
   "outputs": [
    {
     "data": {
      "text/plain": [
       "(array([0, 1]), array([31961,  9072]))"
      ]
     },
     "execution_count": 264,
     "metadata": {},
     "output_type": "execute_result"
    }
   ],
   "source": [
    "np.unique(df2['gloc'], return_counts=True)"
   ]
  },
  {
   "cell_type": "code",
   "execution_count": 265,
   "metadata": {},
   "outputs": [
    {
     "data": {
      "text/html": [
       "<div>\n",
       "<style scoped>\n",
       "    .dataframe tbody tr th:only-of-type {\n",
       "        vertical-align: middle;\n",
       "    }\n",
       "\n",
       "    .dataframe tbody tr th {\n",
       "        vertical-align: top;\n",
       "    }\n",
       "\n",
       "    .dataframe thead th {\n",
       "        text-align: right;\n",
       "    }\n",
       "</style>\n",
       "<table border=\"1\" class=\"dataframe\">\n",
       "  <thead>\n",
       "    <tr style=\"text-align: right;\">\n",
       "      <th></th>\n",
       "      <th>id</th>\n",
       "      <th>gloc</th>\n",
       "    </tr>\n",
       "  </thead>\n",
       "  <tbody>\n",
       "    <tr>\n",
       "      <th>0</th>\n",
       "      <td>000000-003707/000000</td>\n",
       "      <td>0</td>\n",
       "    </tr>\n",
       "    <tr>\n",
       "      <th>1</th>\n",
       "      <td>000000-003707/000001</td>\n",
       "      <td>0</td>\n",
       "    </tr>\n",
       "    <tr>\n",
       "      <th>2</th>\n",
       "      <td>000000-003707/000002</td>\n",
       "      <td>0</td>\n",
       "    </tr>\n",
       "    <tr>\n",
       "      <th>3</th>\n",
       "      <td>000000-003707/000003</td>\n",
       "      <td>0</td>\n",
       "    </tr>\n",
       "    <tr>\n",
       "      <th>4</th>\n",
       "      <td>000000-003707/000004</td>\n",
       "      <td>0</td>\n",
       "    </tr>\n",
       "  </tbody>\n",
       "</table>\n",
       "</div>"
      ],
      "text/plain": [
       "                     id  gloc\n",
       "0  000000-003707/000000     0\n",
       "1  000000-003707/000001     0\n",
       "2  000000-003707/000002     0\n",
       "3  000000-003707/000003     0\n",
       "4  000000-003707/000004     0"
      ]
     },
     "execution_count": 265,
     "metadata": {},
     "output_type": "execute_result"
    }
   ],
   "source": [
    "df2.head()"
   ]
  },
  {
   "cell_type": "code",
   "execution_count": 247,
   "metadata": {},
   "outputs": [
    {
     "data": {
      "text/plain": [
       "0    0\n",
       "1    0\n",
       "2    0\n",
       "3    0\n",
       "4    0\n",
       "5    0\n",
       "6    0\n",
       "7    0\n",
       "8    0\n",
       "9    0\n",
       "Name: gloc, dtype: int64"
      ]
     },
     "execution_count": 247,
     "metadata": {},
     "output_type": "execute_result"
    }
   ],
   "source": [
    "df['gloc'][:10]"
   ]
  },
  {
   "cell_type": "code",
   "execution_count": 22,
   "metadata": {},
   "outputs": [
    {
     "data": {
      "text/plain": [
       "'/home/wnixalo/Aersu/GLOC'"
      ]
     },
     "execution_count": 22,
     "metadata": {},
     "output_type": "execute_result"
    }
   ],
   "source": [
    "%pwd"
   ]
  },
  {
   "cell_type": "code",
   "execution_count": 7,
   "metadata": {},
   "outputs": [
    {
     "data": {
      "text/plain": [
       "['labels_27377-29118.csv',\n",
       " 'labels_0-3707.csv',\n",
       " 'labels_5556-9150.csv',\n",
       " 'labels_47591-49519.csv',\n",
       " 'labels_9151-9698.csv',\n",
       " 'tmp',\n",
       " 'labels_12504-16609.csv',\n",
       " 'labels_33690-36023.csv',\n",
       " 'labels_29565-32741.csv',\n",
       " 'labels_9699-11843.csv',\n",
       " 'labels_16995-19955.csv',\n",
       " 'train',\n",
       " 'labels_36894-37531.csv',\n",
       " 'labels.csv',\n",
       " 'labels_23924-25482.csv',\n",
       " 'labels_4401-5167.csv',\n",
       " 'labels_42599-44710.csv',\n",
       " 'labels_41950-42287.csv',\n",
       " 'labels_45006-46776.csv',\n",
       " 'models',\n",
       " 'labels_38003-41290.csv',\n",
       " 'labels_25551-27330.csv',\n",
       " 'labels_20058-21899.csv',\n",
       " 'labels_3708-4400.csv',\n",
       " 'train.zip']"
      ]
     },
     "execution_count": 7,
     "metadata": {},
     "output_type": "execute_result"
    }
   ],
   "source": [
    "os.listdir(PATH)"
   ]
  },
  {
   "cell_type": "code",
   "execution_count": 7,
   "metadata": {},
   "outputs": [],
   "source": [
    "tzp = PATH + 'test_z/'"
   ]
  },
  {
   "cell_type": "code",
   "execution_count": 10,
   "metadata": {},
   "outputs": [
    {
     "name": "stdout",
     "output_type": "stream",
     "text": [
      "\u001b[0m\u001b[01;35mScreenshot 2017-12-14 19.11.51.png\u001b[0m  \u001b[01;35mScreenshot 2017-12-14 19.12.22.png\u001b[0m\r\n",
      "\u001b[01;35mScreenshot 2017-12-14 19.12.04.png\u001b[0m  \u001b[01;35mScreenshot 2017-12-14 19.12.29.png\u001b[0m\r\n",
      "\u001b[01;35mScreenshot 2017-12-14 19.12.13.png\u001b[0m  \u001b[01;35mScreenshot 2017-12-14 19.12.36.png\u001b[0m\r\n",
      "\u001b[01;35mScreenshot 2017-12-14 19.12.19.png\u001b[0m  \u001b[01;35mScreenshot 2017-12-14 19.12.59.png\u001b[0m\r\n"
     ]
    }
   ],
   "source": [
    "%ls $tzp"
   ]
  },
  {
   "cell_type": "code",
   "execution_count": 14,
   "metadata": {},
   "outputs": [],
   "source": [
    "imglist = glob(tzp + '*')"
   ]
  },
  {
   "cell_type": "code",
   "execution_count": 15,
   "metadata": {},
   "outputs": [
    {
     "data": {
      "text/plain": [
       "['data/test_z/Screenshot 2017-12-14 19.12.04.png',\n",
       " 'data/test_z/Screenshot 2017-12-14 19.12.22.png',\n",
       " 'data/test_z/Screenshot 2017-12-14 19.12.29.png',\n",
       " 'data/test_z/Screenshot 2017-12-14 19.12.36.png',\n",
       " 'data/test_z/Screenshot 2017-12-14 19.12.59.png',\n",
       " 'data/test_z/Screenshot 2017-12-14 19.12.13.png',\n",
       " 'data/test_z/Screenshot 2017-12-14 19.11.51.png',\n",
       " 'data/test_z/Screenshot 2017-12-14 19.12.19.png']"
      ]
     },
     "execution_count": 15,
     "metadata": {},
     "output_type": "execute_result"
    }
   ],
   "source": [
    "imglist"
   ]
  },
  {
   "cell_type": "code",
   "execution_count": 20,
   "metadata": {},
   "outputs": [],
   "source": [
    "img = Image.open(imglist[0])"
   ]
  },
  {
   "cell_type": "code",
   "execution_count": 25,
   "metadata": {},
   "outputs": [],
   "source": [
    "img = np.asarray(img)"
   ]
  },
  {
   "cell_type": "code",
   "execution_count": 26,
   "metadata": {},
   "outputs": [
    {
     "data": {
      "text/plain": [
       "(1242, 816, 4)"
      ]
     },
     "execution_count": 26,
     "metadata": {},
     "output_type": "execute_result"
    }
   ],
   "source": [
    "img.shape"
   ]
  },
  {
   "cell_type": "code",
   "execution_count": 27,
   "metadata": {},
   "outputs": [
    {
     "data": {
      "text/plain": [
       "['data/test_z/Screenshot 2017-12-14 19.12.04.png',\n",
       " 'data/test_z/Screenshot 2017-12-14 19.12.22.png',\n",
       " 'data/test_z/Screenshot 2017-12-14 19.12.29.png',\n",
       " 'data/test_z/Screenshot 2017-12-14 19.12.36.png',\n",
       " 'data/test_z/Screenshot 2017-12-14 19.12.59.png',\n",
       " 'data/test_z/Screenshot 2017-12-14 19.12.13.png',\n",
       " 'data/test_z/Screenshot 2017-12-14 19.11.51.png',\n",
       " 'data/test_z/Screenshot 2017-12-14 19.12.19.png']"
      ]
     },
     "execution_count": 27,
     "metadata": {},
     "output_type": "execute_result"
    }
   ],
   "source": [
    "imglist"
   ]
  },
  {
   "cell_type": "code",
   "execution_count": 45,
   "metadata": {},
   "outputs": [],
   "source": [
    "imglist = glob(tzp + '*')\n",
    "\n",
    "# convert all to jpg's\n",
    "for impath in imglist:\n",
    "    img = Image.open(impath)\n",
    "    img = np.asarray(img)\n",
    "    tfx = 400 / img.shape[1]\n",
    "    tfy = 400 / img.shape[0]    \n",
    "    img = cv2.resize(img, None, fx=tfx, fy=tfy)\n",
    "    img = cv2.cvtColor(img, cv2.COLOR_BGR2RGB)\n",
    "    cv2.imwrite(PATH + 'test_zjpg/' + impath.split('/')[2].split('.png')[0] + '.jpg', img)"
   ]
  },
  {
   "cell_type": "code",
   "execution_count": 33,
   "metadata": {},
   "outputs": [],
   "source": [
    "tzpj = PATH + 'test_zjpg/'"
   ]
  },
  {
   "cell_type": "code",
   "execution_count": 36,
   "metadata": {},
   "outputs": [
    {
     "name": "stdout",
     "output_type": "stream",
     "text": [
      "\u001b[0m\u001b[01;35mScreenshot 2017-12-14 19.11.51.jpg\u001b[0m  \u001b[01;35mScreenshot 2017-12-14 19.12.22.jpg\u001b[0m\r\n",
      "\u001b[01;35mScreenshot 2017-12-14 19.12.04.jpg\u001b[0m  \u001b[01;35mScreenshot 2017-12-14 19.12.29.jpg\u001b[0m\r\n",
      "\u001b[01;35mScreenshot 2017-12-14 19.12.13.jpg\u001b[0m  \u001b[01;35mScreenshot 2017-12-14 19.12.36.jpg\u001b[0m\r\n",
      "\u001b[01;35mScreenshot 2017-12-14 19.12.19.jpg\u001b[0m  \u001b[01;35mScreenshot 2017-12-14 19.12.59.jpg\u001b[0m\r\n"
     ]
    }
   ],
   "source": [
    "%ls $tzpj"
   ]
  },
  {
   "cell_type": "code",
   "execution_count": 120,
   "metadata": {},
   "outputs": [
    {
     "data": {
      "text/plain": [
       "['data/test_zjpg/Screenshot 2017-12-14 19.12.19.jpg',\n",
       " 'data/test_zjpg/Screenshot 2017-12-14 19.12.29.jpg',\n",
       " 'data/test_zjpg/Screenshot 2017-12-14 19.12.36.jpg',\n",
       " 'data/test_zjpg/Screenshot 2017-12-14 19.11.51.jpg',\n",
       " 'data/test_zjpg/Screenshot 2017-12-14 19.12.04.jpg',\n",
       " 'data/test_zjpg/Screenshot 2017-12-14 19.12.59.jpg',\n",
       " 'data/test_zjpg/Screenshot 2017-12-14 19.12.13.jpg']"
      ]
     },
     "execution_count": 120,
     "metadata": {},
     "output_type": "execute_result"
    }
   ],
   "source": [
    "imglist = glob(tzpj+'*.jpg'); imglist"
   ]
  },
  {
   "cell_type": "code",
   "execution_count": 225,
   "metadata": {},
   "outputs": [],
   "source": [
    "for impath in imglist:\n",
    "    fig = plt.figure(figsize=(10,10))\n",
    "    plt.imshow(plt.imread(impath))\n",
    "#     fig = plt.figure(figsize=(10,10))\n",
    "#     img = plt.imread(impath)\n",
    "#     plt.imshow(img)"
   ]
  },
  {
   "cell_type": "code",
   "execution_count": 64,
   "metadata": {},
   "outputs": [
    {
     "data": {
      "text/plain": [
       "'data/test_zjpg/Screenshot 2017-12-14 19.12.29.jpg'"
      ]
     },
     "execution_count": 64,
     "metadata": {},
     "output_type": "execute_result"
    }
   ],
   "source": [
    "imglist[1]"
   ]
  },
  {
   "cell_type": "code",
   "execution_count": 76,
   "metadata": {},
   "outputs": [
    {
     "data": {
      "image/png": "[encoded data removed]",
      "text/plain": [
       "<PIL.JpegImagePlugin.JpegImageFile image mode=RGB size=400x400 at 0x7F0551D51860>"
      ]
     },
     "execution_count": 76,
     "metadata": {},
     "output_type": "execute_result"
    }
   ],
   "source": [
    "img = Image.open(imglist[4]); img"
   ]
  },
  {
   "cell_type": "code",
   "execution_count": 11,
   "metadata": {},
   "outputs": [],
   "source": [
    "size = 200\n",
    "tfms = tfms_from_model(arch, size, aug_tfms=transforms_side_on, max_zoom=1.1)\n",
    "data = ImageClassifierData.from_csv(PATH, 'train', label_csv, bs=12, tfms=tfms,\n",
    "                                    suffix='.jpg', val_idxs=val_idxs, num_workers=8,\n",
    "                                    test_name='test_temp2')\n",
    "learner = ConvLearner.pretrained(arch, data)\n",
    "learner.set_data(data)\n",
    "learner.load('200_uf')"
   ]
  },
  {
   "cell_type": "code",
   "execution_count": 12,
   "metadata": {},
   "outputs": [
    {
     "data": {
      "text/plain": [
       "['test_temp2/024356.jpg',\n",
       " 'test_temp2/024615.jpg',\n",
       " 'test_temp2/024602.jpg',\n",
       " 'test_temp2/024361.jpg',\n",
       " 'test_temp2/024372.jpg',\n",
       " 'test_temp2/024362.jpg',\n",
       " 'test_temp2/024612.jpg',\n",
       " 'test_temp2/024607.jpg',\n",
       " 'test_temp2/025476.jpg',\n",
       " 'test_temp2/024367.jpg']"
      ]
     },
     "execution_count": 12,
     "metadata": {},
     "output_type": "execute_result"
    }
   ],
   "source": [
    "learner.data.test_ds.fnames[:10]"
   ]
  },
  {
   "cell_type": "code",
   "execution_count": 13,
   "metadata": {},
   "outputs": [
    {
     "name": "stdout",
     "output_type": "stream",
     "text": [
      "                                             \r"
     ]
    }
   ],
   "source": [
    "predictions, y = learner.TTA(is_test=True)"
   ]
  },
  {
   "cell_type": "code",
   "execution_count": 6,
   "metadata": {},
   "outputs": [
    {
     "data": {
      "text/plain": [
       "['data/test_temp2/024614.jpg',\n",
       " 'data/test_temp2/024356.jpg',\n",
       " 'data/test_temp2/024615.jpg',\n",
       " 'data/test_temp2/024602.jpg',\n",
       " 'data/test_temp2/024361.jpg',\n",
       " 'data/test_temp2/024372.jpg',\n",
       " 'data/test_temp2/024362.jpg',\n",
       " 'data/test_temp2/024612.jpg',\n",
       " 'data/test_temp2/024607.jpg',\n",
       " 'data/test_temp2/025476.jpg']"
      ]
     },
     "execution_count": 6,
     "metadata": {},
     "output_type": "execute_result"
    }
   ],
   "source": [
    "imglist = glob(PATH + 'test_temp2/' +'*.jpg'); imglist[:10]\n",
    "# imglist = glob(PATH + 'test_zjpg/' +'*.jpg'); imglist[:10]"
   ]
  },
  {
   "cell_type": "code",
   "execution_count": 14,
   "metadata": {},
   "outputs": [
    {
     "data": {
      "text/plain": [
       "(5, 37, 2)"
      ]
     },
     "execution_count": 14,
     "metadata": {},
     "output_type": "execute_result"
    }
   ],
   "source": [
    "predictions.shape"
   ]
  },
  {
   "cell_type": "code",
   "execution_count": 15,
   "metadata": {},
   "outputs": [],
   "source": [
    "preds = np.mean(np.exp(predictions), 0)"
   ]
  },
  {
   "cell_type": "code",
   "execution_count": 221,
   "metadata": {},
   "outputs": [
    {
     "data": {
      "text/plain": [
       "array([[ 0.95137,  0.04863],\n",
       "       [ 0.95095,  0.04905],\n",
       "       [ 0.99272,  0.00728],\n",
       "       [ 0.98887,  0.01113],\n",
       "       [ 0.93556,  0.06444],\n",
       "       [ 0.91257,  0.08743]], dtype=float32)"
      ]
     },
     "execution_count": 221,
     "metadata": {},
     "output_type": "execute_result"
    }
   ],
   "source": [
    "preds"
   ]
  },
  {
   "cell_type": "code",
   "execution_count": null,
   "metadata": {},
   "outputs": [],
   "source": [
    "# plt.imshow(Image.open(imglist[2]))"
   ]
  },
  {
   "cell_type": "code",
   "execution_count": 175,
   "metadata": {},
   "outputs": [
    {
     "data": {
      "text/plain": [
       "['0', '1']"
      ]
     },
     "execution_count": 175,
     "metadata": {},
     "output_type": "execute_result"
    }
   ],
   "source": [
    "learner.data.classes"
   ]
  },
  {
   "cell_type": "code",
   "execution_count": 224,
   "metadata": {
    "scrolled": true
   },
   "outputs": [],
   "source": [
    "for i in range(1, len(imglist)):\n",
    "    fig = plt.figure(figsize=(10,10))\n",
    "    plt.title(f'{preds[i-1]} - GLOC Confidence: {np.round(preds[i-1][1]*100,2)}%')\n",
    "    img = plt.imread(imglist[i])\n",
    "    plt.imshow(img)"
   ]
  },
  {
   "cell_type": "code",
   "execution_count": 16,
   "metadata": {},
   "outputs": [
    {
     "data": {
      "text/plain": [
       "<matplotlib.image.AxesImage at 0x7fe23982e748>"
      ]
     },
     "execution_count": 16,
     "metadata": {},
     "output_type": "execute_result"
    },
    {
     "data": {
      "image/png": "[encoded data removed]",
      "text/plain": [
       "<matplotlib.figure.Figure at 0x7fe23a809f28>"
      ]
     },
     "metadata": {},
     "output_type": "display_data"
    }
   ],
   "source": [
    "# for some reason the dataloader isn't taking in the first image in the test path\n",
    "# for i in range(1, len(imglist)):\n",
    "i = 6\n",
    "fig = plt.figure(figsize=(10,10))\n",
    "plt.title(f'{preds[i-1]} - GLOC Confidence: {np.round(preds[i-1][1]*100,2)}%')\n",
    "img = plt.imread(imglist[i])\n",
    "plt.imshow(img)"
   ]
  },
  {
   "cell_type": "code",
   "execution_count": null,
   "metadata": {},
   "outputs": [],
   "source": [
    "# {024602..024617}.jpg  -- ['1']\n",
    "# {024355..024372}.jpg  -- ['1']"
   ]
  },
  {
   "cell_type": "code",
   "execution_count": null,
   "metadata": {},
   "outputs": [],
   "source": [
    "    f = plt.figure(figsize=figsize)\n",
    "    if maintitle is not None: plt.suptitle(maintitle, fontsize=16)\n",
    "    for i in range(len(imspaths)):\n",
    "        sp = f.add_subplot(rows, ceildiv(len(imspaths), rows), i+1)\n",
    "        sp.axis('Off')\n",
    "        if titles is not None: sp.set_title(titles[i], fontsize=16)\n",
    "        img = plt.imread(imspaths[i])\n",
    "        plt.imshow(img)"
   ]
  },
  {
   "cell_type": "code",
   "execution_count": null,
   "metadata": {},
   "outputs": [],
   "source": []
  },
  {
   "cell_type": "code",
   "execution_count": 11,
   "metadata": {},
   "outputs": [
    {
     "data": {
      "text/plain": [
       "<module 'cv2.cv2' from '/home/wnixalo/miniconda3/envs/fastai/lib/python3.6/site-packages/cv2/cv2.cpython-36m-x86_64-linux-gnu.so'>"
      ]
     },
     "execution_count": 11,
     "metadata": {},
     "output_type": "execute_result"
    }
   ],
   "source": [
    "img = Image.open(im)\n",
    "\n",
    "# x & y transforms\n",
    "tfx = 400 / w\n",
    "tfy = 400 / h\n",
    "\n",
    "# capture, resize, save screen\n",
    "img = getScreen(bbox=bbox)\n",
    "img = np.asarray(img)\n",
    "img = cv2.resize(img, None, fx=tfx, fy=tfy)\n",
    "cv2.imwrite(path+f'{idx:0=6d}.jpg', img)"
   ]
  },
  {
   "cell_type": "code",
   "execution_count": 179,
   "metadata": {},
   "outputs": [
    {
     "data": {
      "text/html": [
       "<div>\n",
       "<style scoped>\n",
       "    .dataframe tbody tr th:only-of-type {\n",
       "        vertical-align: middle;\n",
       "    }\n",
       "\n",
       "    .dataframe tbody tr th {\n",
       "        vertical-align: top;\n",
       "    }\n",
       "\n",
       "    .dataframe thead th {\n",
       "        text-align: right;\n",
       "    }\n",
       "</style>\n",
       "<table border=\"1\" class=\"dataframe\">\n",
       "  <thead>\n",
       "    <tr style=\"text-align: right;\">\n",
       "      <th></th>\n",
       "      <th>id</th>\n",
       "      <th>gloc</th>\n",
       "    </tr>\n",
       "  </thead>\n",
       "  <tbody>\n",
       "    <tr>\n",
       "      <th>0</th>\n",
       "      <td>0</td>\n",
       "      <td>0</td>\n",
       "    </tr>\n",
       "    <tr>\n",
       "      <th>1</th>\n",
       "      <td>1</td>\n",
       "      <td>0</td>\n",
       "    </tr>\n",
       "    <tr>\n",
       "      <th>2</th>\n",
       "      <td>2</td>\n",
       "      <td>0</td>\n",
       "    </tr>\n",
       "    <tr>\n",
       "      <th>3</th>\n",
       "      <td>3</td>\n",
       "      <td>0</td>\n",
       "    </tr>\n",
       "    <tr>\n",
       "      <th>4</th>\n",
       "      <td>4</td>\n",
       "      <td>0</td>\n",
       "    </tr>\n",
       "  </tbody>\n",
       "</table>\n",
       "</div>"
      ],
      "text/plain": [
       "   id  gloc\n",
       "0   0     0\n",
       "1   1     0\n",
       "2   2     0\n",
       "3   3     0\n",
       "4   4     0"
      ]
     },
     "execution_count": 179,
     "metadata": {},
     "output_type": "execute_result"
    }
   ],
   "source": [
    "df = pd.read_csv('data/labels.csv'); df.head()"
   ]
  },
  {
   "cell_type": "code",
   "execution_count": 184,
   "metadata": {},
   "outputs": [
    {
     "data": {
      "text/plain": [
       "(array([0, 1]), array([31961,  9072]))"
      ]
     },
     "execution_count": 184,
     "metadata": {},
     "output_type": "execute_result"
    }
   ],
   "source": [
    "temp = np.unique(df['gloc'], return_counts=True);temp"
   ]
  },
  {
   "cell_type": "code",
   "execution_count": 192,
   "metadata": {},
   "outputs": [
    {
     "data": {
      "text/plain": [
       "array([ 0.78,  0.22])"
      ]
     },
     "execution_count": 192,
     "metadata": {},
     "output_type": "execute_result"
    }
   ],
   "source": [
    "dflen = len(df['gloc'])\n",
    "a,b = temp[1][0] / dflen, temp[1][1] / dflen\n",
    "np.round((a,b), 2)"
   ]
  },
  {
   "cell_type": "code",
   "execution_count": 189,
   "metadata": {},
   "outputs": [
    {
     "data": {
      "text/plain": [
       "41033"
      ]
     },
     "execution_count": 189,
     "metadata": {},
     "output_type": "execute_result"
    }
   ],
   "source": [
    "len(df['gloc'])"
   ]
  },
  {
   "cell_type": "code",
   "execution_count": null,
   "metadata": {},
   "outputs": [],
   "source": []
  },
  {
   "cell_type": "code",
   "execution_count": null,
   "metadata": {},
   "outputs": [],
   "source": []
  },
  {
   "cell_type": "code",
   "execution_count": null,
   "metadata": {},
   "outputs": [],
   "source": []
  },
  {
   "cell_type": "code",
   "execution_count": null,
   "metadata": {},
   "outputs": [],
   "source": []
  },
  {
   "cell_type": "code",
   "execution_count": null,
   "metadata": {},
   "outputs": [],
   "source": []
  },
  {
   "cell_type": "code",
   "execution_count": null,
   "metadata": {},
   "outputs": [],
   "source": []
  },
  {
   "cell_type": "code",
   "execution_count": null,
   "metadata": {},
   "outputs": [],
   "source": []
  },
  {
   "cell_type": "code",
   "execution_count": null,
   "metadata": {},
   "outputs": [],
   "source": []
  },
  {
   "cell_type": "code",
   "execution_count": null,
   "metadata": {},
   "outputs": [],
   "source": []
  },
  {
   "cell_type": "code",
   "execution_count": null,
   "metadata": {},
   "outputs": [],
   "source": []
  },
  {
   "cell_type": "code",
   "execution_count": null,
   "metadata": {},
   "outputs": [],
   "source": []
  },
  {
   "cell_type": "code",
   "execution_count": null,
   "metadata": {},
   "outputs": [],
   "source": []
  },
  {
   "cell_type": "code",
   "execution_count": null,
   "metadata": {},
   "outputs": [],
   "source": []
  },
  {
   "cell_type": "code",
   "execution_count": null,
   "metadata": {},
   "outputs": [],
   "source": []
  },
  {
   "cell_type": "code",
   "execution_count": null,
   "metadata": {},
   "outputs": [],
   "source": []
  },
  {
   "cell_type": "markdown",
   "metadata": {},
   "source": [
    "[How to visualize/display a data image in ‘torch.FloatTensor’ type](https://discuss.pytorch.org/t/how-to-visualize-display-a-data-image-in-torch-floattensor-type/7770)\n",
    "\n",
    "[Plotting numpy arrays as images](https://matplotlib.org/users/image_tutorial.html#plotting-numpy-arrays-as-images)\n",
    "\n",
    "[ython make RGB image from 3 float32 numpy arrays\n",
    "](https://stackoverflow.com/questions/26918390/python-make-rgb-image-from-3-float32-numpy-arrays)\n",
    "\n",
    "[How to create image from numpy float32 array?\n",
    "](https://stackoverflow.com/questions/38867869/how-to-create-image-from-numpy-float32-array)"
   ]
  }
 ],
 "metadata": {
  "kernelspec": {
   "display_name": "Python 3 (FastAI)",
   "language": "python",
   "name": "fastai"
  },
  "language_info": {
   "codemirror_mode": {
    "name": "ipython",
    "version": 3
   },
   "file_extension": ".py",
   "mimetype": "text/x-python",
   "name": "python",
   "nbconvert_exporter": "python",
   "pygments_lexer": "ipython3",
   "version": "3.6.3"
  }
 },
 "nbformat": 4,
 "nbformat_minor": 2
}
