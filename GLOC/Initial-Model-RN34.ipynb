{
 "cells": [
  {
   "cell_type": "markdown",
   "metadata": {},
   "source": [
    "Reference: https://github.com/WNoxchi/Kaukasos/blob/master/FADL1/L3CA_lesson2-image-models.ipynb"
   ]
  },
  {
   "cell_type": "code",
   "execution_count": 15,
   "metadata": {},
   "outputs": [],
   "source": [
    "%matplotlib inline\n",
    "%reload_ext autoreload\n",
    "%autoreload 2"
   ]
  },
  {
   "cell_type": "code",
   "execution_count": 2,
   "metadata": {},
   "outputs": [
    {
     "name": "stdout",
     "output_type": "stream",
     "text": [
      "column_data.py   imports.py          learner.py  nlp.py        sgdr.py\r\n",
      "conv_learner.py  initializers.py     lm_rnn.py   plots.py      structured.py\r\n",
      "core.py          __init__.py         losses.py   \u001b[0m\u001b[01;34m__pycache__\u001b[0m/  torch_imports.py\r\n",
      "dataloader.py    io.py               metrics.py  rnn_reg.py    transforms.py\r\n",
      "dataset.py       layer_optimizer.py  model.py    rnn_train.py  \u001b[01;32mutils.py\u001b[0m*\r\n",
      "\u001b[01;34mimages\u001b[0m/          layers.py           \u001b[01;34mmodels\u001b[0m/     set_spawn.py  \u001b[01;34mweights\u001b[0m/\r\n"
     ]
    }
   ],
   "source": [
    "%ls fastai_lin/"
   ]
  },
  {
   "cell_type": "markdown",
   "metadata": {},
   "source": [
    "### Platform Check & Imports"
   ]
  },
  {
   "cell_type": "code",
   "execution_count": 1,
   "metadata": {},
   "outputs": [
    {
     "data": {
      "text/plain": [
       "'/home/wnixalo/Aersu/GLOC'"
      ]
     },
     "execution_count": 1,
     "metadata": {},
     "output_type": "execute_result"
    }
   ],
   "source": [
    "%pwd"
   ]
  },
  {
   "cell_type": "code",
   "execution_count": 2,
   "metadata": {},
   "outputs": [],
   "source": [
    "from sys import platform\n",
    "if platform[:3] == 'dar':\n",
    "    from fastai_osx.imports import *\n",
    "    from fastai_osx.conv_learner import *\n",
    "    from fastai_osx.model import *\n",
    "    from fastai_osx.torch_imports import *\n",
    "if platform[:3] == 'lin':\n",
    "    from fastai_lin.imports import *\n",
    "    from fastai_lin.conv_learner import *\n",
    "    from fastai_lin.model import *\n",
    "    from fastai_lin.torch_imports import *"
   ]
  },
  {
   "cell_type": "markdown",
   "metadata": {},
   "source": [
    "### DataLoader & Learner"
   ]
  },
  {
   "cell_type": "code",
   "execution_count": 3,
   "metadata": {},
   "outputs": [],
   "source": [
    "PATH = 'data/'\n",
    "label_csv = f'{PATH}labels.csv'"
   ]
  },
  {
   "cell_type": "code",
   "execution_count": 4,
   "metadata": {},
   "outputs": [],
   "source": [
    "n = len(list(open(label_csv))) - 1\n",
    "val_idxs = get_cv_idxs(n)"
   ]
  },
  {
   "cell_type": "code",
   "execution_count": 5,
   "metadata": {},
   "outputs": [],
   "source": [
    "arch = resnet34\n",
    "size = 100"
   ]
  },
  {
   "cell_type": "code",
   "execution_count": 215,
   "metadata": {},
   "outputs": [
    {
     "data": {
      "application/vnd.jupyter.widget-view+json": {
       "model_id": "4fc5531a64f14b2c9b5bd4e2328294cc",
       "version_major": 2,
       "version_minor": 0
      },
      "text/html": [
       "<p>Failed to display Jupyter Widget of type <code>HBox</code>.</p>\n",
       "<p>\n",
       "  If you're reading this message in the Jupyter Notebook or JupyterLab Notebook, it may mean\n",
       "  that the widgets JavaScript is still loading. If this message persists, it\n",
       "  likely means that the widgets JavaScript library is either not installed or\n",
       "  not enabled. See the <a href=\"https://ipywidgets.readthedocs.io/en/stable/user_install.html\">Jupyter\n",
       "  Widgets Documentation</a> for setup instructions.\n",
       "</p>\n",
       "<p>\n",
       "  If you're reading this message in another frontend (for example, a static\n",
       "  rendering on GitHub or <a href=\"https://nbviewer.jupyter.org/\">NBViewer</a>),\n",
       "  it may mean that your frontend doesn't currently support widgets.\n",
       "</p>\n"
      ],
      "text/plain": [
       "HBox(children=(IntProgress(value=0, max=6), HTML(value='')))"
      ]
     },
     "metadata": {},
     "output_type": "display_data"
    },
    {
     "name": "stdout",
     "output_type": "stream",
     "text": [
      "                                                       \n"
     ]
    },
    {
     "data": {
      "text/plain": [
       "<fastai_lin.dataset.ImageClassifierData at 0x7fddc8ccf390>"
      ]
     },
     "execution_count": 215,
     "metadata": {},
     "output_type": "execute_result"
    }
   ],
   "source": [
    "tfms = tfms_from_model(arch, size, aug_tfms=transforms_side_on, max_zoom=1.1)\n",
    "data = ImageClassifierData.from_csv(PATH, 'train', label_csv, bs=32, tfms=tfms,\n",
    "                                    suffix='.jpg', val_idxs=val_idxs, num_workers=8)\n",
    "# for speed\n",
    "data.resize(int(size), 'tmp')"
   ]
  },
  {
   "cell_type": "code",
   "execution_count": 216,
   "metadata": {},
   "outputs": [
    {
     "data": {
      "text/plain": [
       "array(['train/000000.jpg', 'train/000002.jpg', 'train/000003.jpg', ..., 'train/049517.jpg',\n",
       "       'train/049518.jpg', 'train/049519.jpg'],\n",
       "      dtype='<U16')"
      ]
     },
     "execution_count": 216,
     "metadata": {},
     "output_type": "execute_result"
    }
   ],
   "source": [
    "data.trn_ds.fnames"
   ]
  },
  {
   "cell_type": "code",
   "execution_count": 224,
   "metadata": {},
   "outputs": [],
   "source": [
    "learner = ConvLearner.pretrained(arch, data)"
   ]
  },
  {
   "cell_type": "code",
   "execution_count": 225,
   "metadata": {},
   "outputs": [
    {
     "data": {
      "application/vnd.jupyter.widget-view+json": {
       "model_id": "2cdd1b86ff0e41798fe5e4ea86c5b9a2",
       "version_major": 2,
       "version_minor": 0
      },
      "text/html": [
       "<p>Failed to display Jupyter Widget of type <code>HBox</code>.</p>\n",
       "<p>\n",
       "  If you're reading this message in the Jupyter Notebook or JupyterLab Notebook, it may mean\n",
       "  that the widgets JavaScript is still loading. If this message persists, it\n",
       "  likely means that the widgets JavaScript library is either not installed or\n",
       "  not enabled. See the <a href=\"https://ipywidgets.readthedocs.io/en/stable/user_install.html\">Jupyter\n",
       "  Widgets Documentation</a> for setup instructions.\n",
       "</p>\n",
       "<p>\n",
       "  If you're reading this message in another frontend (for example, a static\n",
       "  rendering on GitHub or <a href=\"https://nbviewer.jupyter.org/\">NBViewer</a>),\n",
       "  it may mean that your frontend doesn't currently support widgets.\n",
       "</p>\n"
      ],
      "text/plain": [
       "HBox(children=(IntProgress(value=0, description='Epoch', max=1), HTML(value='')))"
      ]
     },
     "metadata": {},
     "output_type": "display_data"
    },
    {
     "name": "stdout",
     "output_type": "stream",
     "text": [
      " 77%|███████▋  | 793/1026 [01:21<00:23,  9.78it/s, loss=1.79] "
     ]
    },
    {
     "data": {
      "image/png": "[encoded data removed]",
      "text/plain": [
       "<matplotlib.figure.Figure at 0x7fdd28a86048>"
      ]
     },
     "metadata": {},
     "output_type": "display_data"
    }
   ],
   "source": [
    "learner.lr_find()\n",
    "learner.sched.plot()"
   ]
  },
  {
   "cell_type": "code",
   "execution_count": 227,
   "metadata": {},
   "outputs": [],
   "source": [
    "λr = 5e-3"
   ]
  },
  {
   "cell_type": "code",
   "execution_count": 228,
   "metadata": {},
   "outputs": [
    {
     "data": {
      "application/vnd.jupyter.widget-view+json": {
       "model_id": "365c4eaeb22546998ba4bd845f87c6fc",
       "version_major": 2,
       "version_minor": 0
      },
      "text/html": [
       "<p>Failed to display Jupyter Widget of type <code>HBox</code>.</p>\n",
       "<p>\n",
       "  If you're reading this message in the Jupyter Notebook or JupyterLab Notebook, it may mean\n",
       "  that the widgets JavaScript is still loading. If this message persists, it\n",
       "  likely means that the widgets JavaScript library is either not installed or\n",
       "  not enabled. See the <a href=\"https://ipywidgets.readthedocs.io/en/stable/user_install.html\">Jupyter\n",
       "  Widgets Documentation</a> for setup instructions.\n",
       "</p>\n",
       "<p>\n",
       "  If you're reading this message in another frontend (for example, a static\n",
       "  rendering on GitHub or <a href=\"https://nbviewer.jupyter.org/\">NBViewer</a>),\n",
       "  it may mean that your frontend doesn't currently support widgets.\n",
       "</p>\n"
      ],
      "text/plain": [
       "HBox(children=(IntProgress(value=0, description='Epoch', max=3), HTML(value='')))"
      ]
     },
     "metadata": {},
     "output_type": "display_data"
    },
    {
     "name": "stdout",
     "output_type": "stream",
     "text": [
      "\n",
      "  0%|          | 0/1026 [00:00<?, ?it/s]\u001b[A\n",
      "  0%|          | 0/1026 [00:00<?, ?it/s, loss=1.02]\u001b[A\n",
      "  0%|          | 1/1026 [00:00<08:08,  2.10it/s, loss=1.02]\u001b[A\n",
      "  0%|          | 1/1026 [00:00<09:53,  1.73it/s, loss=1.01]\u001b[A\n",
      "  0%|          | 2/1026 [00:00<04:59,  3.42it/s, loss=1.01]\u001b[A\n",
      "  0%|          | 2/1026 [00:00<05:51,  2.92it/s, loss=0.985]\u001b[A\n",
      "  0%|          | 3/1026 [00:00<03:55,  4.34it/s, loss=0.985]\u001b[A\n",
      "  0%|          | 3/1026 [00:00<04:29,  3.80it/s, loss=0.962]\u001b[A\n",
      "  0%|          | 4/1026 [00:00<03:22,  5.04it/s, loss=0.962]\u001b[A\n",
      "  0%|          | 4/1026 [00:00<03:48,  4.47it/s, loss=0.93] \u001b[A\n",
      "  0%|          | 5/1026 [00:00<03:03,  5.55it/s, loss=0.93]\u001b[A\n",
      "  0%|          | 5/1026 [00:00<03:23,  5.01it/s, loss=0.935]\u001b[A\n",
      "  1%|          | 6/1026 [00:01<02:50,  5.97it/s, loss=0.935]\u001b[A\n",
      "  1%|          | 6/1026 [00:01<03:08,  5.42it/s, loss=0.928]\u001b[A\n",
      "  1%|          | 7/1026 [00:01<02:41,  6.30it/s, loss=0.928]\u001b[A\n",
      "  1%|          | 7/1026 [00:01<02:56,  5.78it/s, loss=0.939]\u001b[A\n",
      "  1%|          | 8/1026 [00:01<02:35,  6.57it/s, loss=0.939]\u001b[A\n",
      "  1%|          | 8/1026 [00:01<02:47,  6.06it/s, loss=0.939]\u001b[A\n",
      "  1%|          | 9/1026 [00:01<02:29,  6.80it/s, loss=0.939]\u001b[A\n",
      "  1%|          | 9/1026 [00:01<02:40,  6.34it/s, loss=0.923]\u001b[A\n",
      "  1%|          | 10/1026 [00:01<02:24,  7.01it/s, loss=0.923]\u001b[A\n",
      "  1%|          | 10/1026 [00:01<02:35,  6.55it/s, loss=0.915]\u001b[A\n",
      "  1%|          | 11/1026 [00:01<02:21,  7.18it/s, loss=0.915]\u001b[A\n",
      "  1%|          | 11/1026 [00:01<02:30,  6.75it/s, loss=0.924]\u001b[A\n",
      "  1%|          | 12/1026 [00:01<02:18,  7.33it/s, loss=0.924]\u001b[A\n",
      "  1%|          | 12/1026 [00:01<02:26,  6.90it/s, loss=0.902]\u001b[A\n",
      "  1%|▏         | 13/1026 [00:01<02:16,  7.45it/s, loss=0.902]\u001b[A\n",
      "  1%|▏         | 13/1026 [00:01<02:23,  7.05it/s, loss=0.914]\u001b[A\n",
      "  1%|▏         | 14/1026 [00:01<02:13,  7.57it/s, loss=0.914]\u001b[A\n",
      "  1%|▏         | 14/1026 [00:01<02:20,  7.18it/s, loss=0.907]\u001b[A\n",
      "  1%|▏         | 15/1026 [00:01<02:11,  7.67it/s, loss=0.907]\u001b[A\n",
      "  1%|▏         | 15/1026 [00:02<02:18,  7.31it/s, loss=0.921]\u001b[A\n",
      "  2%|▏         | 16/1026 [00:02<02:09,  7.78it/s, loss=0.921]\u001b[A\n",
      "  2%|▏         | 16/1026 [00:02<02:16,  7.42it/s, loss=0.934]\u001b[A\n",
      "  2%|▏         | 17/1026 [00:02<02:08,  7.86it/s, loss=0.934]\u001b[A\n",
      "  2%|▏         | 17/1026 [00:02<02:14,  7.50it/s, loss=0.93] \u001b[A\n",
      "  2%|▏         | 18/1026 [00:02<02:07,  7.92it/s, loss=0.93]\u001b[A\n",
      "  2%|▏         | 18/1026 [00:02<02:12,  7.59it/s, loss=0.929]\u001b[A\n",
      "  2%|▏         | 19/1026 [00:02<02:05,  8.00it/s, loss=0.929]\u001b[A\n",
      "  2%|▏         | 19/1026 [00:02<02:11,  7.66it/s, loss=0.919]\u001b[A\n",
      "  2%|▏         | 20/1026 [00:02<02:05,  8.04it/s, loss=0.919]\u001b[A\n",
      "  2%|▏         | 20/1026 [00:02<02:09,  7.74it/s, loss=0.936]\u001b[A\n",
      "  2%|▏         | 21/1026 [00:02<02:03,  8.12it/s, loss=0.936]\u001b[A\n",
      "  2%|▏         | 21/1026 [00:02<02:08,  7.81it/s, loss=0.94] \u001b[A\n",
      "  2%|▏         | 22/1026 [00:02<02:02,  8.17it/s, loss=0.94]\u001b[A\n",
      "  2%|▏         | 22/1026 [00:02<02:07,  7.88it/s, loss=0.932]\u001b[A\n",
      "  2%|▏         | 23/1026 [00:02<02:01,  8.23it/s, loss=0.932]\u001b[A\n",
      "  2%|▏         | 23/1026 [00:02<02:06,  7.94it/s, loss=0.929]\u001b[A\n",
      "  2%|▏         | 24/1026 [00:02<02:01,  8.28it/s, loss=0.929]\u001b[A\n",
      "  2%|▏         | 24/1026 [00:02<02:05,  8.01it/s, loss=0.93] \u001b[A\n",
      "  2%|▏         | 25/1026 [00:03<02:00,  8.33it/s, loss=0.93]\u001b[A\n",
      "  2%|▏         | 25/1026 [00:03<02:04,  8.06it/s, loss=0.923]\u001b[A\n",
      "  3%|▎         | 26/1026 [00:03<01:59,  8.37it/s, loss=0.923]\u001b[A\n",
      "  3%|▎         | 26/1026 [00:03<02:03,  8.10it/s, loss=0.912]\u001b[A\n",
      "  3%|▎         | 27/1026 [00:03<01:58,  8.40it/s, loss=0.912]\u001b[A\n",
      "  3%|▎         | 27/1026 [00:03<02:02,  8.14it/s, loss=0.919]\u001b[A\n",
      "  3%|▎         | 28/1026 [00:03<01:58,  8.43it/s, loss=0.919]\u001b[A\n",
      "  3%|▎         | 28/1026 [00:03<02:01,  8.19it/s, loss=0.924]\u001b[A\n",
      "  3%|▎         | 29/1026 [00:03<01:57,  8.47it/s, loss=0.924]\u001b[A\n",
      "  3%|▎         | 29/1026 [00:03<02:01,  8.23it/s, loss=0.926]\u001b[A\n",
      "  3%|▎         | 30/1026 [00:03<01:57,  8.50it/s, loss=0.926]\u001b[A\n",
      "  3%|▎         | 30/1026 [00:03<02:00,  8.27it/s, loss=0.929]\u001b[A\n",
      "  3%|▎         | 31/1026 [00:03<01:56,  8.53it/s, loss=0.929]\u001b[A\n",
      "  3%|▎         | 31/1026 [00:03<01:59,  8.30it/s, loss=0.917]\u001b[A\n",
      "  3%|▎         | 32/1026 [00:03<01:56,  8.55it/s, loss=0.917]\u001b[A\n",
      "  3%|▎         | 32/1026 [00:03<01:59,  8.34it/s, loss=0.928]\u001b[A\n",
      "  3%|▎         | 33/1026 [00:03<01:55,  8.58it/s, loss=0.928]\u001b[A\n",
      "  3%|▎         | 33/1026 [00:03<01:58,  8.37it/s, loss=0.93] \u001b[A\n",
      "  3%|▎         | 34/1026 [00:03<01:55,  8.61it/s, loss=0.93]\u001b[A\n",
      "  3%|▎         | 34/1026 [00:04<01:58,  8.40it/s, loss=0.944]\u001b[A\n",
      "  3%|▎         | 35/1026 [00:04<01:54,  8.64it/s, loss=0.944]\u001b[A\n",
      "  3%|▎         | 35/1026 [00:04<01:57,  8.42it/s, loss=0.935]\u001b[A\n",
      "  4%|▎         | 36/1026 [00:04<01:54,  8.64it/s, loss=0.935]\u001b[A\n",
      "  4%|▎         | 36/1026 [00:04<01:57,  8.44it/s, loss=0.928]\u001b[A\n",
      "  4%|▎         | 37/1026 [00:04<01:54,  8.67it/s, loss=0.928]\u001b[A\n",
      "  4%|▎         | 37/1026 [00:04<01:56,  8.47it/s, loss=0.923]\u001b[A\n",
      "  4%|▎         | 38/1026 [00:04<01:53,  8.68it/s, loss=0.923]\u001b[A\n",
      "  4%|▎         | 38/1026 [00:04<01:56,  8.49it/s, loss=0.922]\u001b[A\n",
      "  4%|▍         | 39/1026 [00:04<01:53,  8.71it/s, loss=0.922]\u001b[A\n",
      "  4%|▍         | 39/1026 [00:04<01:55,  8.52it/s, loss=0.919]\u001b[A\n",
      "  4%|▍         | 40/1026 [00:04<01:52,  8.73it/s, loss=0.919]\u001b[A\n",
      "  4%|▍         | 40/1026 [00:04<01:55,  8.54it/s, loss=0.921]\u001b[A\n",
      "  4%|▍         | 41/1026 [00:04<01:52,  8.75it/s, loss=0.921]\u001b[A\n",
      "  4%|▍         | 41/1026 [00:04<01:54,  8.57it/s, loss=0.926]\u001b[A\n",
      "  4%|▍         | 42/1026 [00:04<01:52,  8.77it/s, loss=0.926]\u001b[A\n",
      "  4%|▍         | 42/1026 [00:04<01:54,  8.58it/s, loss=0.923]\u001b[A\n",
      "  4%|▍         | 43/1026 [00:04<01:52,  8.77it/s, loss=0.923]\u001b[A\n",
      "  4%|▍         | 43/1026 [00:05<01:54,  8.60it/s, loss=0.921]\u001b[A\n",
      "  4%|▍         | 44/1026 [00:05<01:51,  8.79it/s, loss=0.921]\u001b[A\n",
      "  4%|▍         | 44/1026 [00:05<01:53,  8.62it/s, loss=0.923]\u001b[A\n",
      "  4%|▍         | 45/1026 [00:05<01:51,  8.81it/s, loss=0.923]\u001b[A\n",
      "  4%|▍         | 45/1026 [00:05<01:53,  8.64it/s, loss=0.923]\u001b[A\n",
      "  4%|▍         | 46/1026 [00:05<01:51,  8.82it/s, loss=0.923]\u001b[A\n",
      "  4%|▍         | 46/1026 [00:05<01:53,  8.65it/s, loss=0.916]\u001b[A\n",
      "  5%|▍         | 47/1026 [00:05<01:50,  8.83it/s, loss=0.916]\u001b[A\n",
      "  5%|▍         | 47/1026 [00:05<01:52,  8.67it/s, loss=0.915]\u001b[A\n",
      "  5%|▍         | 48/1026 [00:05<01:50,  8.85it/s, loss=0.915]\u001b[A\n",
      "  5%|▍         | 48/1026 [00:05<01:52,  8.69it/s, loss=0.925]\u001b[A\n",
      "  5%|▍         | 49/1026 [00:05<01:50,  8.86it/s, loss=0.925]\u001b[A\n",
      "  5%|▍         | 49/1026 [00:05<01:52,  8.70it/s, loss=0.923]\u001b[A\n",
      "  5%|▍         | 50/1026 [00:05<01:50,  8.87it/s, loss=0.923]\u001b[A\n",
      "  5%|▍         | 50/1026 [00:05<01:51,  8.72it/s, loss=0.926]\u001b[A\n",
      "  5%|▍         | 51/1026 [00:05<01:49,  8.88it/s, loss=0.926]\u001b[A\n",
      "  5%|▍         | 51/1026 [00:05<01:51,  8.73it/s, loss=0.925]\u001b[A\n",
      "  5%|▌         | 52/1026 [00:05<01:49,  8.89it/s, loss=0.925]\u001b[A\n",
      "  5%|▌         | 52/1026 [00:05<01:51,  8.74it/s, loss=0.919]\u001b[A\n",
      "  5%|▌         | 53/1026 [00:05<01:49,  8.90it/s, loss=0.919]\u001b[A\n",
      "  5%|▌         | 53/1026 [00:06<01:51,  8.76it/s, loss=0.915]\u001b[A\n",
      "  5%|▌         | 54/1026 [00:06<01:49,  8.92it/s, loss=0.915]\u001b[A\n",
      "  5%|▌         | 54/1026 [00:06<01:50,  8.77it/s, loss=0.914]\u001b[A\n",
      "  5%|▌         | 55/1026 [00:06<01:48,  8.92it/s, loss=0.914]\u001b[A\n",
      "  5%|▌         | 55/1026 [00:06<01:50,  8.78it/s, loss=0.908]\u001b[A\n",
      "  5%|▌         | 56/1026 [00:06<01:48,  8.94it/s, loss=0.908]\u001b[A\n",
      "  5%|▌         | 56/1026 [00:06<01:50,  8.79it/s, loss=0.899]\u001b[A\n",
      "  6%|▌         | 57/1026 [00:06<01:48,  8.94it/s, loss=0.899]\u001b[A\n",
      "  6%|▌         | 57/1026 [00:06<01:50,  8.80it/s, loss=0.891]\u001b[A\n",
      "  6%|▌         | 58/1026 [00:06<01:48,  8.95it/s, loss=0.891]\u001b[A\n",
      "  6%|▌         | 58/1026 [00:06<01:49,  8.81it/s, loss=0.885]\u001b[A\n",
      "  6%|▌         | 59/1026 [00:06<01:48,  8.95it/s, loss=0.885]\u001b[A\n",
      "  6%|▌         | 59/1026 [00:06<01:49,  8.82it/s, loss=0.877]\u001b[A\n",
      "  6%|▌         | 60/1026 [00:06<01:47,  8.96it/s, loss=0.877]\u001b[A\n",
      "  6%|▌         | 60/1026 [00:06<01:49,  8.83it/s, loss=0.869]\u001b[A\n",
      "  6%|▌         | 61/1026 [00:06<01:47,  8.97it/s, loss=0.869]\u001b[A\n",
      "  6%|▌         | 61/1026 [00:06<01:49,  8.84it/s, loss=0.86] \u001b[A\n",
      "  6%|▌         | 62/1026 [00:06<01:47,  8.98it/s, loss=0.86]\u001b[A\n",
      "  6%|▌         | 62/1026 [00:07<01:48,  8.85it/s, loss=0.854]\u001b[A\n"
     ]
    },
    {
     "name": "stdout",
     "output_type": "stream",
     "text": [
      "  6%|▌         | 63/1026 [00:07<01:47,  8.99it/s, loss=0.854]\u001b[A\n",
      "  6%|▌         | 63/1026 [00:07<01:48,  8.86it/s, loss=0.846]\u001b[A\n",
      "  6%|▌         | 64/1026 [00:07<01:46,  8.99it/s, loss=0.846]\u001b[A\n",
      "  6%|▌         | 64/1026 [00:07<01:48,  8.87it/s, loss=0.839]\u001b[A\n",
      "  6%|▋         | 65/1026 [00:07<01:46,  9.00it/s, loss=0.839]\u001b[A\n",
      "  6%|▋         | 65/1026 [00:07<01:48,  8.88it/s, loss=0.83] \u001b[A\n",
      "  6%|▋         | 66/1026 [00:07<01:46,  9.01it/s, loss=0.83]\u001b[A\n",
      "  6%|▋         | 66/1026 [00:07<01:47,  8.89it/s, loss=0.818]\u001b[A\n",
      "  7%|▋         | 67/1026 [00:07<01:46,  9.02it/s, loss=0.818]\u001b[A\n",
      "  7%|▋         | 67/1026 [00:07<01:47,  8.91it/s, loss=0.809]\u001b[A\n",
      "\n",
      "  7%|▋         | 69/1026 [00:07<01:47,  8.93it/s, loss=0.792]\u001b[A"
     ]
    },
    {
     "name": "stderr",
     "output_type": "stream",
     "text": [
      "Exception in thread Thread-8:\n",
      "Traceback (most recent call last):\n",
      "  File \"/home/wnixalo/miniconda3/envs/fastai/lib/python3.6/threading.py\", line 916, in _bootstrap_inner\n",
      "    self.run()\n",
      "  File \"/home/wnixalo/miniconda3/envs/fastai/lib/python3.6/site-packages/tqdm/_tqdm.py\", line 144, in run\n",
      "    for instance in self.tqdm_cls._instances:\n",
      "  File \"/home/wnixalo/miniconda3/envs/fastai/lib/python3.6/_weakrefset.py\", line 60, in __iter__\n",
      "    for itemref in self.data:\n",
      "RuntimeError: Set changed size during iteration\n",
      "\n",
      "Exception in thread Thread-9:\n",
      "Traceback (most recent call last):\n",
      "  File \"/home/wnixalo/miniconda3/envs/fastai/lib/python3.6/threading.py\", line 916, in _bootstrap_inner\n",
      "    self.run()\n",
      "  File \"/home/wnixalo/miniconda3/envs/fastai/lib/python3.6/site-packages/tqdm/_tqdm.py\", line 144, in run\n",
      "    for instance in self.tqdm_cls._instances:\n",
      "  File \"/home/wnixalo/miniconda3/envs/fastai/lib/python3.6/_weakrefset.py\", line 60, in __iter__\n",
      "    for itemref in self.data:\n",
      "RuntimeError: Set changed size during iteration\n",
      "\n"
     ]
    },
    {
     "name": "stdout",
     "output_type": "stream",
     "text": [
      " 15%|█▌        | 157/1026 [00:16<01:30,  9.56it/s, loss=0.492]\n"
     ]
    },
    {
     "ename": "KeyboardInterrupt",
     "evalue": "",
     "output_type": "error",
     "traceback": [
      "\u001b[0;31m---------------------------------------------------------------------------\u001b[0m",
      "\u001b[0;31mKeyboardInterrupt\u001b[0m                         Traceback (most recent call last)",
      "\u001b[0;32m<ipython-input-228-c69b566904f8>\u001b[0m in \u001b[0;36m<module>\u001b[0;34m()\u001b[0m\n\u001b[0;32m----> 1\u001b[0;31m \u001b[0mlearner\u001b[0m\u001b[0;34m.\u001b[0m\u001b[0mfit\u001b[0m\u001b[0;34m(\u001b[0m\u001b[0mλr\u001b[0m\u001b[0;34m,\u001b[0m \u001b[0;36m3\u001b[0m\u001b[0;34m,\u001b[0m \u001b[0mcycle_len\u001b[0m\u001b[0;34m=\u001b[0m\u001b[0;36m1\u001b[0m\u001b[0;34m)\u001b[0m\u001b[0;34m\u001b[0m\u001b[0m\n\u001b[0m",
      "\u001b[0;32m~/Aersu/GLOC/fastai_lin/learner.py\u001b[0m in \u001b[0;36mfit\u001b[0;34m(self, lrs, n_cycle, wds, **kwargs)\u001b[0m\n\u001b[1;32m    196\u001b[0m         \u001b[0mself\u001b[0m\u001b[0;34m.\u001b[0m\u001b[0msched\u001b[0m \u001b[0;34m=\u001b[0m \u001b[0;32mNone\u001b[0m\u001b[0;34m\u001b[0m\u001b[0m\n\u001b[1;32m    197\u001b[0m         \u001b[0mlayer_opt\u001b[0m \u001b[0;34m=\u001b[0m \u001b[0mself\u001b[0m\u001b[0;34m.\u001b[0m\u001b[0mget_layer_opt\u001b[0m\u001b[0;34m(\u001b[0m\u001b[0mlrs\u001b[0m\u001b[0;34m,\u001b[0m \u001b[0mwds\u001b[0m\u001b[0;34m)\u001b[0m\u001b[0;34m\u001b[0m\u001b[0m\n\u001b[0;32m--> 198\u001b[0;31m         \u001b[0mself\u001b[0m\u001b[0;34m.\u001b[0m\u001b[0mfit_gen\u001b[0m\u001b[0;34m(\u001b[0m\u001b[0mself\u001b[0m\u001b[0;34m.\u001b[0m\u001b[0mmodel\u001b[0m\u001b[0;34m,\u001b[0m \u001b[0mself\u001b[0m\u001b[0;34m.\u001b[0m\u001b[0mdata\u001b[0m\u001b[0;34m,\u001b[0m \u001b[0mlayer_opt\u001b[0m\u001b[0;34m,\u001b[0m \u001b[0mn_cycle\u001b[0m\u001b[0;34m,\u001b[0m \u001b[0;34m**\u001b[0m\u001b[0mkwargs\u001b[0m\u001b[0;34m)\u001b[0m\u001b[0;34m\u001b[0m\u001b[0m\n\u001b[0m\u001b[1;32m    199\u001b[0m \u001b[0;34m\u001b[0m\u001b[0m\n\u001b[1;32m    200\u001b[0m     \u001b[0;32mdef\u001b[0m \u001b[0mlr_find\u001b[0m\u001b[0;34m(\u001b[0m\u001b[0mself\u001b[0m\u001b[0;34m,\u001b[0m \u001b[0mstart_lr\u001b[0m\u001b[0;34m=\u001b[0m\u001b[0;36m1e-5\u001b[0m\u001b[0;34m,\u001b[0m \u001b[0mend_lr\u001b[0m\u001b[0;34m=\u001b[0m\u001b[0;36m10\u001b[0m\u001b[0;34m,\u001b[0m \u001b[0mwds\u001b[0m\u001b[0;34m=\u001b[0m\u001b[0;32mNone\u001b[0m\u001b[0;34m)\u001b[0m\u001b[0;34m:\u001b[0m\u001b[0;34m\u001b[0m\u001b[0m\n",
      "\u001b[0;32m~/Aersu/GLOC/fastai_lin/learner.py\u001b[0m in \u001b[0;36mfit_gen\u001b[0;34m(self, model, data, layer_opt, n_cycle, cycle_len, cycle_mult, cycle_save_name, metrics, callbacks, use_wd_sched, **kwargs)\u001b[0m\n\u001b[1;32m    143\u001b[0m         \u001b[0mn_epoch\u001b[0m \u001b[0;34m=\u001b[0m \u001b[0msum_geom\u001b[0m\u001b[0;34m(\u001b[0m\u001b[0mcycle_len\u001b[0m \u001b[0;32mif\u001b[0m \u001b[0mcycle_len\u001b[0m \u001b[0;32melse\u001b[0m \u001b[0;36m1\u001b[0m\u001b[0;34m,\u001b[0m \u001b[0mcycle_mult\u001b[0m\u001b[0;34m,\u001b[0m \u001b[0mn_cycle\u001b[0m\u001b[0;34m)\u001b[0m\u001b[0;34m\u001b[0m\u001b[0m\n\u001b[1;32m    144\u001b[0m         fit(model, data, n_epoch, layer_opt.opt, self.crit,\n\u001b[0;32m--> 145\u001b[0;31m             metrics=metrics, callbacks=callbacks, reg_fn=self.reg_fn, clip=self.clip, **kwargs)\n\u001b[0m\u001b[1;32m    146\u001b[0m \u001b[0;34m\u001b[0m\u001b[0m\n\u001b[1;32m    147\u001b[0m     \u001b[0;32mdef\u001b[0m \u001b[0mget_layer_groups\u001b[0m\u001b[0;34m(\u001b[0m\u001b[0mself\u001b[0m\u001b[0;34m)\u001b[0m\u001b[0;34m:\u001b[0m \u001b[0;32mreturn\u001b[0m \u001b[0mself\u001b[0m\u001b[0;34m.\u001b[0m\u001b[0mmodels\u001b[0m\u001b[0;34m.\u001b[0m\u001b[0mget_layer_groups\u001b[0m\u001b[0;34m(\u001b[0m\u001b[0;34m)\u001b[0m\u001b[0;34m\u001b[0m\u001b[0m\n",
      "\u001b[0;32m~/Aersu/GLOC/fastai_lin/model.py\u001b[0m in \u001b[0;36mfit\u001b[0;34m(model, data, epochs, opt, crit, metrics, callbacks, **kwargs)\u001b[0m\n\u001b[1;32m     84\u001b[0m             \u001b[0mbatch_num\u001b[0m \u001b[0;34m+=\u001b[0m \u001b[0;36m1\u001b[0m\u001b[0;34m\u001b[0m\u001b[0m\n\u001b[1;32m     85\u001b[0m             \u001b[0;32mfor\u001b[0m \u001b[0mcb\u001b[0m \u001b[0;32min\u001b[0m \u001b[0mcallbacks\u001b[0m\u001b[0;34m:\u001b[0m \u001b[0mcb\u001b[0m\u001b[0;34m.\u001b[0m\u001b[0mon_batch_begin\u001b[0m\u001b[0;34m(\u001b[0m\u001b[0;34m)\u001b[0m\u001b[0;34m\u001b[0m\u001b[0m\n\u001b[0;32m---> 86\u001b[0;31m             \u001b[0mloss\u001b[0m \u001b[0;34m=\u001b[0m \u001b[0mstepper\u001b[0m\u001b[0;34m.\u001b[0m\u001b[0mstep\u001b[0m\u001b[0;34m(\u001b[0m\u001b[0mV\u001b[0m\u001b[0;34m(\u001b[0m\u001b[0mx\u001b[0m\u001b[0;34m)\u001b[0m\u001b[0;34m,\u001b[0m\u001b[0mV\u001b[0m\u001b[0;34m(\u001b[0m\u001b[0my\u001b[0m\u001b[0;34m)\u001b[0m\u001b[0;34m)\u001b[0m\u001b[0;34m\u001b[0m\u001b[0m\n\u001b[0m\u001b[1;32m     87\u001b[0m             \u001b[0mavg_loss\u001b[0m \u001b[0;34m=\u001b[0m \u001b[0mavg_loss\u001b[0m \u001b[0;34m*\u001b[0m \u001b[0mavg_mom\u001b[0m \u001b[0;34m+\u001b[0m \u001b[0mloss\u001b[0m \u001b[0;34m*\u001b[0m \u001b[0;34m(\u001b[0m\u001b[0;36m1\u001b[0m\u001b[0;34m-\u001b[0m\u001b[0mavg_mom\u001b[0m\u001b[0;34m)\u001b[0m\u001b[0;34m\u001b[0m\u001b[0m\n\u001b[1;32m     88\u001b[0m             \u001b[0mdebias_loss\u001b[0m \u001b[0;34m=\u001b[0m \u001b[0mavg_loss\u001b[0m \u001b[0;34m/\u001b[0m \u001b[0;34m(\u001b[0m\u001b[0;36m1\u001b[0m \u001b[0;34m-\u001b[0m \u001b[0mavg_mom\u001b[0m\u001b[0;34m**\u001b[0m\u001b[0mbatch_num\u001b[0m\u001b[0;34m)\u001b[0m\u001b[0;34m\u001b[0m\u001b[0m\n",
      "\u001b[0;32m~/Aersu/GLOC/fastai_lin/model.py\u001b[0m in \u001b[0;36mstep\u001b[0;34m(self, xs, y)\u001b[0m\n\u001b[1;32m     38\u001b[0m     \u001b[0;32mdef\u001b[0m \u001b[0mstep\u001b[0m\u001b[0;34m(\u001b[0m\u001b[0mself\u001b[0m\u001b[0;34m,\u001b[0m \u001b[0mxs\u001b[0m\u001b[0;34m,\u001b[0m \u001b[0my\u001b[0m\u001b[0;34m)\u001b[0m\u001b[0;34m:\u001b[0m\u001b[0;34m\u001b[0m\u001b[0m\n\u001b[1;32m     39\u001b[0m         \u001b[0mxtra\u001b[0m \u001b[0;34m=\u001b[0m \u001b[0;34m[\u001b[0m\u001b[0;34m]\u001b[0m\u001b[0;34m\u001b[0m\u001b[0m\n\u001b[0;32m---> 40\u001b[0;31m         \u001b[0moutput\u001b[0m \u001b[0;34m=\u001b[0m \u001b[0mself\u001b[0m\u001b[0;34m.\u001b[0m\u001b[0mm\u001b[0m\u001b[0;34m(\u001b[0m\u001b[0;34m*\u001b[0m\u001b[0mxs\u001b[0m\u001b[0;34m)\u001b[0m\u001b[0;34m\u001b[0m\u001b[0m\n\u001b[0m\u001b[1;32m     41\u001b[0m         \u001b[0;32mif\u001b[0m \u001b[0misinstance\u001b[0m\u001b[0;34m(\u001b[0m\u001b[0moutput\u001b[0m\u001b[0;34m,\u001b[0m\u001b[0;34m(\u001b[0m\u001b[0mtuple\u001b[0m\u001b[0;34m,\u001b[0m\u001b[0mlist\u001b[0m\u001b[0;34m)\u001b[0m\u001b[0;34m)\u001b[0m\u001b[0;34m:\u001b[0m \u001b[0moutput\u001b[0m\u001b[0;34m,\u001b[0m\u001b[0;34m*\u001b[0m\u001b[0mxtra\u001b[0m \u001b[0;34m=\u001b[0m \u001b[0moutput\u001b[0m\u001b[0;34m\u001b[0m\u001b[0m\n\u001b[1;32m     42\u001b[0m         \u001b[0mself\u001b[0m\u001b[0;34m.\u001b[0m\u001b[0mopt\u001b[0m\u001b[0;34m.\u001b[0m\u001b[0mzero_grad\u001b[0m\u001b[0;34m(\u001b[0m\u001b[0;34m)\u001b[0m\u001b[0;34m\u001b[0m\u001b[0m\n",
      "\u001b[0;32m~/miniconda3/envs/fastai/lib/python3.6/site-packages/torch/nn/modules/module.py\u001b[0m in \u001b[0;36m__call__\u001b[0;34m(self, *input, **kwargs)\u001b[0m\n\u001b[1;32m    323\u001b[0m         \u001b[0;32mfor\u001b[0m \u001b[0mhook\u001b[0m \u001b[0;32min\u001b[0m \u001b[0mself\u001b[0m\u001b[0;34m.\u001b[0m\u001b[0m_forward_pre_hooks\u001b[0m\u001b[0;34m.\u001b[0m\u001b[0mvalues\u001b[0m\u001b[0;34m(\u001b[0m\u001b[0;34m)\u001b[0m\u001b[0;34m:\u001b[0m\u001b[0;34m\u001b[0m\u001b[0m\n\u001b[1;32m    324\u001b[0m             \u001b[0mhook\u001b[0m\u001b[0;34m(\u001b[0m\u001b[0mself\u001b[0m\u001b[0;34m,\u001b[0m \u001b[0minput\u001b[0m\u001b[0;34m)\u001b[0m\u001b[0;34m\u001b[0m\u001b[0m\n\u001b[0;32m--> 325\u001b[0;31m         \u001b[0mresult\u001b[0m \u001b[0;34m=\u001b[0m \u001b[0mself\u001b[0m\u001b[0;34m.\u001b[0m\u001b[0mforward\u001b[0m\u001b[0;34m(\u001b[0m\u001b[0;34m*\u001b[0m\u001b[0minput\u001b[0m\u001b[0;34m,\u001b[0m \u001b[0;34m**\u001b[0m\u001b[0mkwargs\u001b[0m\u001b[0;34m)\u001b[0m\u001b[0;34m\u001b[0m\u001b[0m\n\u001b[0m\u001b[1;32m    326\u001b[0m         \u001b[0;32mfor\u001b[0m \u001b[0mhook\u001b[0m \u001b[0;32min\u001b[0m \u001b[0mself\u001b[0m\u001b[0;34m.\u001b[0m\u001b[0m_forward_hooks\u001b[0m\u001b[0;34m.\u001b[0m\u001b[0mvalues\u001b[0m\u001b[0;34m(\u001b[0m\u001b[0;34m)\u001b[0m\u001b[0;34m:\u001b[0m\u001b[0;34m\u001b[0m\u001b[0m\n\u001b[1;32m    327\u001b[0m             \u001b[0mhook_result\u001b[0m \u001b[0;34m=\u001b[0m \u001b[0mhook\u001b[0m\u001b[0;34m(\u001b[0m\u001b[0mself\u001b[0m\u001b[0;34m,\u001b[0m \u001b[0minput\u001b[0m\u001b[0;34m,\u001b[0m \u001b[0mresult\u001b[0m\u001b[0;34m)\u001b[0m\u001b[0;34m\u001b[0m\u001b[0m\n",
      "\u001b[0;32m~/miniconda3/envs/fastai/lib/python3.6/site-packages/torch/nn/modules/container.py\u001b[0m in \u001b[0;36mforward\u001b[0;34m(self, input)\u001b[0m\n\u001b[1;32m     65\u001b[0m     \u001b[0;32mdef\u001b[0m \u001b[0mforward\u001b[0m\u001b[0;34m(\u001b[0m\u001b[0mself\u001b[0m\u001b[0;34m,\u001b[0m \u001b[0minput\u001b[0m\u001b[0;34m)\u001b[0m\u001b[0;34m:\u001b[0m\u001b[0;34m\u001b[0m\u001b[0m\n\u001b[1;32m     66\u001b[0m         \u001b[0;32mfor\u001b[0m \u001b[0mmodule\u001b[0m \u001b[0;32min\u001b[0m \u001b[0mself\u001b[0m\u001b[0;34m.\u001b[0m\u001b[0m_modules\u001b[0m\u001b[0;34m.\u001b[0m\u001b[0mvalues\u001b[0m\u001b[0;34m(\u001b[0m\u001b[0;34m)\u001b[0m\u001b[0;34m:\u001b[0m\u001b[0;34m\u001b[0m\u001b[0m\n\u001b[0;32m---> 67\u001b[0;31m             \u001b[0minput\u001b[0m \u001b[0;34m=\u001b[0m \u001b[0mmodule\u001b[0m\u001b[0;34m(\u001b[0m\u001b[0minput\u001b[0m\u001b[0;34m)\u001b[0m\u001b[0;34m\u001b[0m\u001b[0m\n\u001b[0m\u001b[1;32m     68\u001b[0m         \u001b[0;32mreturn\u001b[0m \u001b[0minput\u001b[0m\u001b[0;34m\u001b[0m\u001b[0m\n\u001b[1;32m     69\u001b[0m \u001b[0;34m\u001b[0m\u001b[0m\n",
      "\u001b[0;32m~/miniconda3/envs/fastai/lib/python3.6/site-packages/torch/nn/modules/module.py\u001b[0m in \u001b[0;36m__call__\u001b[0;34m(self, *input, **kwargs)\u001b[0m\n\u001b[1;32m    323\u001b[0m         \u001b[0;32mfor\u001b[0m \u001b[0mhook\u001b[0m \u001b[0;32min\u001b[0m \u001b[0mself\u001b[0m\u001b[0;34m.\u001b[0m\u001b[0m_forward_pre_hooks\u001b[0m\u001b[0;34m.\u001b[0m\u001b[0mvalues\u001b[0m\u001b[0;34m(\u001b[0m\u001b[0;34m)\u001b[0m\u001b[0;34m:\u001b[0m\u001b[0;34m\u001b[0m\u001b[0m\n\u001b[1;32m    324\u001b[0m             \u001b[0mhook\u001b[0m\u001b[0;34m(\u001b[0m\u001b[0mself\u001b[0m\u001b[0;34m,\u001b[0m \u001b[0minput\u001b[0m\u001b[0;34m)\u001b[0m\u001b[0;34m\u001b[0m\u001b[0m\n\u001b[0;32m--> 325\u001b[0;31m         \u001b[0mresult\u001b[0m \u001b[0;34m=\u001b[0m \u001b[0mself\u001b[0m\u001b[0;34m.\u001b[0m\u001b[0mforward\u001b[0m\u001b[0;34m(\u001b[0m\u001b[0;34m*\u001b[0m\u001b[0minput\u001b[0m\u001b[0;34m,\u001b[0m \u001b[0;34m**\u001b[0m\u001b[0mkwargs\u001b[0m\u001b[0;34m)\u001b[0m\u001b[0;34m\u001b[0m\u001b[0m\n\u001b[0m\u001b[1;32m    326\u001b[0m         \u001b[0;32mfor\u001b[0m \u001b[0mhook\u001b[0m \u001b[0;32min\u001b[0m \u001b[0mself\u001b[0m\u001b[0;34m.\u001b[0m\u001b[0m_forward_hooks\u001b[0m\u001b[0;34m.\u001b[0m\u001b[0mvalues\u001b[0m\u001b[0;34m(\u001b[0m\u001b[0;34m)\u001b[0m\u001b[0;34m:\u001b[0m\u001b[0;34m\u001b[0m\u001b[0m\n\u001b[1;32m    327\u001b[0m             \u001b[0mhook_result\u001b[0m \u001b[0;34m=\u001b[0m \u001b[0mhook\u001b[0m\u001b[0;34m(\u001b[0m\u001b[0mself\u001b[0m\u001b[0;34m,\u001b[0m \u001b[0minput\u001b[0m\u001b[0;34m,\u001b[0m \u001b[0mresult\u001b[0m\u001b[0;34m)\u001b[0m\u001b[0;34m\u001b[0m\u001b[0m\n",
      "\u001b[0;32m~/miniconda3/envs/fastai/lib/python3.6/site-packages/torch/nn/modules/container.py\u001b[0m in \u001b[0;36mforward\u001b[0;34m(self, input)\u001b[0m\n\u001b[1;32m     65\u001b[0m     \u001b[0;32mdef\u001b[0m \u001b[0mforward\u001b[0m\u001b[0;34m(\u001b[0m\u001b[0mself\u001b[0m\u001b[0;34m,\u001b[0m \u001b[0minput\u001b[0m\u001b[0;34m)\u001b[0m\u001b[0;34m:\u001b[0m\u001b[0;34m\u001b[0m\u001b[0m\n\u001b[1;32m     66\u001b[0m         \u001b[0;32mfor\u001b[0m \u001b[0mmodule\u001b[0m \u001b[0;32min\u001b[0m \u001b[0mself\u001b[0m\u001b[0;34m.\u001b[0m\u001b[0m_modules\u001b[0m\u001b[0;34m.\u001b[0m\u001b[0mvalues\u001b[0m\u001b[0;34m(\u001b[0m\u001b[0;34m)\u001b[0m\u001b[0;34m:\u001b[0m\u001b[0;34m\u001b[0m\u001b[0m\n\u001b[0;32m---> 67\u001b[0;31m             \u001b[0minput\u001b[0m \u001b[0;34m=\u001b[0m \u001b[0mmodule\u001b[0m\u001b[0;34m(\u001b[0m\u001b[0minput\u001b[0m\u001b[0;34m)\u001b[0m\u001b[0;34m\u001b[0m\u001b[0m\n\u001b[0m\u001b[1;32m     68\u001b[0m         \u001b[0;32mreturn\u001b[0m \u001b[0minput\u001b[0m\u001b[0;34m\u001b[0m\u001b[0m\n\u001b[1;32m     69\u001b[0m \u001b[0;34m\u001b[0m\u001b[0m\n",
      "\u001b[0;32m~/miniconda3/envs/fastai/lib/python3.6/site-packages/torch/nn/modules/module.py\u001b[0m in \u001b[0;36m__call__\u001b[0;34m(self, *input, **kwargs)\u001b[0m\n\u001b[1;32m    323\u001b[0m         \u001b[0;32mfor\u001b[0m \u001b[0mhook\u001b[0m \u001b[0;32min\u001b[0m \u001b[0mself\u001b[0m\u001b[0;34m.\u001b[0m\u001b[0m_forward_pre_hooks\u001b[0m\u001b[0;34m.\u001b[0m\u001b[0mvalues\u001b[0m\u001b[0;34m(\u001b[0m\u001b[0;34m)\u001b[0m\u001b[0;34m:\u001b[0m\u001b[0;34m\u001b[0m\u001b[0m\n\u001b[1;32m    324\u001b[0m             \u001b[0mhook\u001b[0m\u001b[0;34m(\u001b[0m\u001b[0mself\u001b[0m\u001b[0;34m,\u001b[0m \u001b[0minput\u001b[0m\u001b[0;34m)\u001b[0m\u001b[0;34m\u001b[0m\u001b[0m\n\u001b[0;32m--> 325\u001b[0;31m         \u001b[0mresult\u001b[0m \u001b[0;34m=\u001b[0m \u001b[0mself\u001b[0m\u001b[0;34m.\u001b[0m\u001b[0mforward\u001b[0m\u001b[0;34m(\u001b[0m\u001b[0;34m*\u001b[0m\u001b[0minput\u001b[0m\u001b[0;34m,\u001b[0m \u001b[0;34m**\u001b[0m\u001b[0mkwargs\u001b[0m\u001b[0;34m)\u001b[0m\u001b[0;34m\u001b[0m\u001b[0m\n\u001b[0m\u001b[1;32m    326\u001b[0m         \u001b[0;32mfor\u001b[0m \u001b[0mhook\u001b[0m \u001b[0;32min\u001b[0m \u001b[0mself\u001b[0m\u001b[0;34m.\u001b[0m\u001b[0m_forward_hooks\u001b[0m\u001b[0;34m.\u001b[0m\u001b[0mvalues\u001b[0m\u001b[0;34m(\u001b[0m\u001b[0;34m)\u001b[0m\u001b[0;34m:\u001b[0m\u001b[0;34m\u001b[0m\u001b[0m\n\u001b[1;32m    327\u001b[0m             \u001b[0mhook_result\u001b[0m \u001b[0;34m=\u001b[0m \u001b[0mhook\u001b[0m\u001b[0;34m(\u001b[0m\u001b[0mself\u001b[0m\u001b[0;34m,\u001b[0m \u001b[0minput\u001b[0m\u001b[0;34m,\u001b[0m \u001b[0mresult\u001b[0m\u001b[0;34m)\u001b[0m\u001b[0;34m\u001b[0m\u001b[0m\n",
      "\u001b[0;32m~/miniconda3/envs/fastai/lib/python3.6/site-packages/torchvision-0.2.0-py3.6.egg/torchvision/models/resnet.py\u001b[0m in \u001b[0;36mforward\u001b[0;34m(self, x)\u001b[0m\n\u001b[1;32m     43\u001b[0m         \u001b[0mout\u001b[0m \u001b[0;34m=\u001b[0m \u001b[0mself\u001b[0m\u001b[0;34m.\u001b[0m\u001b[0mrelu\u001b[0m\u001b[0;34m(\u001b[0m\u001b[0mout\u001b[0m\u001b[0;34m)\u001b[0m\u001b[0;34m\u001b[0m\u001b[0m\n\u001b[1;32m     44\u001b[0m \u001b[0;34m\u001b[0m\u001b[0m\n\u001b[0;32m---> 45\u001b[0;31m         \u001b[0mout\u001b[0m \u001b[0;34m=\u001b[0m \u001b[0mself\u001b[0m\u001b[0;34m.\u001b[0m\u001b[0mconv2\u001b[0m\u001b[0;34m(\u001b[0m\u001b[0mout\u001b[0m\u001b[0;34m)\u001b[0m\u001b[0;34m\u001b[0m\u001b[0m\n\u001b[0m\u001b[1;32m     46\u001b[0m         \u001b[0mout\u001b[0m \u001b[0;34m=\u001b[0m \u001b[0mself\u001b[0m\u001b[0;34m.\u001b[0m\u001b[0mbn2\u001b[0m\u001b[0;34m(\u001b[0m\u001b[0mout\u001b[0m\u001b[0;34m)\u001b[0m\u001b[0;34m\u001b[0m\u001b[0m\n\u001b[1;32m     47\u001b[0m \u001b[0;34m\u001b[0m\u001b[0m\n",
      "\u001b[0;32m~/miniconda3/envs/fastai/lib/python3.6/site-packages/torch/nn/modules/module.py\u001b[0m in \u001b[0;36m__call__\u001b[0;34m(self, *input, **kwargs)\u001b[0m\n\u001b[1;32m    323\u001b[0m         \u001b[0;32mfor\u001b[0m \u001b[0mhook\u001b[0m \u001b[0;32min\u001b[0m \u001b[0mself\u001b[0m\u001b[0;34m.\u001b[0m\u001b[0m_forward_pre_hooks\u001b[0m\u001b[0;34m.\u001b[0m\u001b[0mvalues\u001b[0m\u001b[0;34m(\u001b[0m\u001b[0;34m)\u001b[0m\u001b[0;34m:\u001b[0m\u001b[0;34m\u001b[0m\u001b[0m\n\u001b[1;32m    324\u001b[0m             \u001b[0mhook\u001b[0m\u001b[0;34m(\u001b[0m\u001b[0mself\u001b[0m\u001b[0;34m,\u001b[0m \u001b[0minput\u001b[0m\u001b[0;34m)\u001b[0m\u001b[0;34m\u001b[0m\u001b[0m\n\u001b[0;32m--> 325\u001b[0;31m         \u001b[0mresult\u001b[0m \u001b[0;34m=\u001b[0m \u001b[0mself\u001b[0m\u001b[0;34m.\u001b[0m\u001b[0mforward\u001b[0m\u001b[0;34m(\u001b[0m\u001b[0;34m*\u001b[0m\u001b[0minput\u001b[0m\u001b[0;34m,\u001b[0m \u001b[0;34m**\u001b[0m\u001b[0mkwargs\u001b[0m\u001b[0;34m)\u001b[0m\u001b[0;34m\u001b[0m\u001b[0m\n\u001b[0m\u001b[1;32m    326\u001b[0m         \u001b[0;32mfor\u001b[0m \u001b[0mhook\u001b[0m \u001b[0;32min\u001b[0m \u001b[0mself\u001b[0m\u001b[0;34m.\u001b[0m\u001b[0m_forward_hooks\u001b[0m\u001b[0;34m.\u001b[0m\u001b[0mvalues\u001b[0m\u001b[0;34m(\u001b[0m\u001b[0;34m)\u001b[0m\u001b[0;34m:\u001b[0m\u001b[0;34m\u001b[0m\u001b[0m\n\u001b[1;32m    327\u001b[0m             \u001b[0mhook_result\u001b[0m \u001b[0;34m=\u001b[0m \u001b[0mhook\u001b[0m\u001b[0;34m(\u001b[0m\u001b[0mself\u001b[0m\u001b[0;34m,\u001b[0m \u001b[0minput\u001b[0m\u001b[0;34m,\u001b[0m \u001b[0mresult\u001b[0m\u001b[0;34m)\u001b[0m\u001b[0;34m\u001b[0m\u001b[0m\n",
      "\u001b[0;32m~/miniconda3/envs/fastai/lib/python3.6/site-packages/torch/nn/modules/conv.py\u001b[0m in \u001b[0;36mforward\u001b[0;34m(self, input)\u001b[0m\n\u001b[1;32m    275\u001b[0m     \u001b[0;32mdef\u001b[0m \u001b[0mforward\u001b[0m\u001b[0;34m(\u001b[0m\u001b[0mself\u001b[0m\u001b[0;34m,\u001b[0m \u001b[0minput\u001b[0m\u001b[0;34m)\u001b[0m\u001b[0;34m:\u001b[0m\u001b[0;34m\u001b[0m\u001b[0m\n\u001b[1;32m    276\u001b[0m         return F.conv2d(input, self.weight, self.bias, self.stride,\n\u001b[0;32m--> 277\u001b[0;31m                         self.padding, self.dilation, self.groups)\n\u001b[0m\u001b[1;32m    278\u001b[0m \u001b[0;34m\u001b[0m\u001b[0m\n\u001b[1;32m    279\u001b[0m \u001b[0;34m\u001b[0m\u001b[0m\n",
      "\u001b[0;32m~/miniconda3/envs/fastai/lib/python3.6/site-packages/torch/nn/functional.py\u001b[0m in \u001b[0;36mconv2d\u001b[0;34m(input, weight, bias, stride, padding, dilation, groups)\u001b[0m\n\u001b[1;32m     88\u001b[0m                 \u001b[0m_pair\u001b[0m\u001b[0;34m(\u001b[0m\u001b[0;36m0\u001b[0m\u001b[0;34m)\u001b[0m\u001b[0;34m,\u001b[0m \u001b[0mgroups\u001b[0m\u001b[0;34m,\u001b[0m \u001b[0mtorch\u001b[0m\u001b[0;34m.\u001b[0m\u001b[0mbackends\u001b[0m\u001b[0;34m.\u001b[0m\u001b[0mcudnn\u001b[0m\u001b[0;34m.\u001b[0m\u001b[0mbenchmark\u001b[0m\u001b[0;34m,\u001b[0m\u001b[0;34m\u001b[0m\u001b[0m\n\u001b[1;32m     89\u001b[0m                 torch.backends.cudnn.deterministic, torch.backends.cudnn.enabled)\n\u001b[0;32m---> 90\u001b[0;31m     \u001b[0;32mreturn\u001b[0m \u001b[0mf\u001b[0m\u001b[0;34m(\u001b[0m\u001b[0minput\u001b[0m\u001b[0;34m,\u001b[0m \u001b[0mweight\u001b[0m\u001b[0;34m,\u001b[0m \u001b[0mbias\u001b[0m\u001b[0;34m)\u001b[0m\u001b[0;34m\u001b[0m\u001b[0m\n\u001b[0m\u001b[1;32m     91\u001b[0m \u001b[0;34m\u001b[0m\u001b[0m\n\u001b[1;32m     92\u001b[0m \u001b[0;34m\u001b[0m\u001b[0m\n",
      "\u001b[0;31mKeyboardInterrupt\u001b[0m: "
     ]
    }
   ],
   "source": [
    "learner.fit(λr, 3, cycle_len=1)"
   ]
  },
  {
   "cell_type": "code",
   "execution_count": null,
   "metadata": {},
   "outputs": [],
   "source": []
  },
  {
   "cell_type": "code",
   "execution_count": null,
   "metadata": {},
   "outputs": [],
   "source": []
  },
  {
   "cell_type": "code",
   "execution_count": null,
   "metadata": {},
   "outputs": [],
   "source": []
  },
  {
   "cell_type": "code",
   "execution_count": null,
   "metadata": {},
   "outputs": [],
   "source": []
  },
  {
   "cell_type": "code",
   "execution_count": null,
   "metadata": {},
   "outputs": [],
   "source": []
  },
  {
   "cell_type": "code",
   "execution_count": null,
   "metadata": {},
   "outputs": [],
   "source": []
  },
  {
   "cell_type": "code",
   "execution_count": null,
   "metadata": {},
   "outputs": [],
   "source": []
  },
  {
   "cell_type": "code",
   "execution_count": null,
   "metadata": {},
   "outputs": [],
   "source": []
  },
  {
   "cell_type": "code",
   "execution_count": null,
   "metadata": {},
   "outputs": [],
   "source": []
  },
  {
   "cell_type": "markdown",
   "metadata": {},
   "source": [
    "[How to visualize/display a data image in ‘torch.FloatTensor’ type](https://discuss.pytorch.org/t/how-to-visualize-display-a-data-image-in-torch-floattensor-type/7770)\n",
    "\n",
    "[Plotting numpy arrays as images](https://matplotlib.org/users/image_tutorial.html#plotting-numpy-arrays-as-images)\n",
    "\n",
    "[ython make RGB image from 3 float32 numpy arrays\n",
    "](https://stackoverflow.com/questions/26918390/python-make-rgb-image-from-3-float32-numpy-arrays)\n",
    "\n",
    "[How to create image from numpy float32 array?\n",
    "](https://stackoverflow.com/questions/38867869/how-to-create-image-from-numpy-float32-array)"
   ]
  }
 ],
 "metadata": {
  "kernelspec": {
   "display_name": "Python 3 (FastAI)",
   "language": "python",
   "name": "fastai"
  },
  "language_info": {
   "codemirror_mode": {
    "name": "ipython",
    "version": 3
   },
   "file_extension": ".py",
   "mimetype": "text/x-python",
   "name": "python",
   "nbconvert_exporter": "python",
   "pygments_lexer": "ipython3",
   "version": "3.6.3"
  }
 },
 "nbformat": 4,
 "nbformat_minor": 2
}
