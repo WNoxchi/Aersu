{
 "cells": [
  {
   "cell_type": "markdown",
   "metadata": {},
   "source": [
    "Reference: https://github.com/WNoxchi/Kaukasos/blob/master/FADL1/L3CA_lesson2-image-models.ipynb"
   ]
  },
  {
   "cell_type": "code",
   "execution_count": 1,
   "metadata": {},
   "outputs": [],
   "source": [
    "%matplotlib inline\n",
    "%reload_ext autoreload\n",
    "%autoreload 2"
   ]
  },
  {
   "cell_type": "code",
   "execution_count": 2,
   "metadata": {},
   "outputs": [
    {
     "name": "stdout",
     "output_type": "stream",
     "text": [
      "column_data.py   imports.py          learner.py  nlp.py        sgdr.py\r\n",
      "conv_learner.py  initializers.py     lm_rnn.py   plots.py      structured.py\r\n",
      "core.py          __init__.py         losses.py   \u001b[0m\u001b[01;34m__pycache__\u001b[0m/  torch_imports.py\r\n",
      "dataloader.py    io.py               metrics.py  rnn_reg.py    transforms.py\r\n",
      "dataset.py       layer_optimizer.py  model.py    rnn_train.py  \u001b[01;32mutils.py\u001b[0m*\r\n",
      "\u001b[01;34mimages\u001b[0m/          layers.py           \u001b[01;34mmodels\u001b[0m/     set_spawn.py  \u001b[01;34mweights\u001b[0m/\r\n"
     ]
    }
   ],
   "source": [
    "%ls fastai_lin/"
   ]
  },
  {
   "cell_type": "markdown",
   "metadata": {},
   "source": [
    "### Platform Check & Imports"
   ]
  },
  {
   "cell_type": "code",
   "execution_count": 2,
   "metadata": {},
   "outputs": [
    {
     "data": {
      "text/plain": [
       "'/home/wnixalo/Aersu/GLOC'"
      ]
     },
     "execution_count": 2,
     "metadata": {},
     "output_type": "execute_result"
    }
   ],
   "source": [
    "%pwd"
   ]
  },
  {
   "cell_type": "code",
   "execution_count": 7,
   "metadata": {},
   "outputs": [],
   "source": [
    "from sys import platform\n",
    "if platform[:3] == 'dar':\n",
    "    from fastai_osx.imports import *\n",
    "    from fastai_osx.conv_learner import *\n",
    "    from fastai_osx.model import *\n",
    "    from fastai_osx.torch_imports import *\n",
    "if platform[:3] == 'lin':\n",
    "    from fastai_lin.imports import *\n",
    "    from fastai_lin.conv_learner import *\n",
    "    from fastai_lin.model import *\n",
    "    from fastai_lin.torch_imports import *"
   ]
  },
  {
   "cell_type": "markdown",
   "metadata": {},
   "source": [
    "### DataLoader & Learner"
   ]
  },
  {
   "cell_type": "code",
   "execution_count": 8,
   "metadata": {},
   "outputs": [],
   "source": [
    "PATH = 'data/'\n",
    "label_csv = f'{PATH}labels.csv'"
   ]
  },
  {
   "cell_type": "code",
   "execution_count": 9,
   "metadata": {},
   "outputs": [],
   "source": [
    "n = len(list(open(label_csv))) - 1\n",
    "val_idxs = get_cv_idxs(n)"
   ]
  },
  {
   "cell_type": "code",
   "execution_count": 10,
   "metadata": {},
   "outputs": [],
   "source": [
    "arch = resnet34\n",
    "size = 100"
   ]
  },
  {
   "cell_type": "code",
   "execution_count": 7,
   "metadata": {},
   "outputs": [
    {
     "data": {
      "application/vnd.jupyter.widget-view+json": {
       "model_id": "bb8b9e3e410343d288d4ab6049277821",
       "version_major": 2,
       "version_minor": 0
      },
      "text/html": [
       "<p>Failed to display Jupyter Widget of type <code>HBox</code>.</p>\n",
       "<p>\n",
       "  If you're reading this message in the Jupyter Notebook or JupyterLab Notebook, it may mean\n",
       "  that the widgets JavaScript is still loading. If this message persists, it\n",
       "  likely means that the widgets JavaScript library is either not installed or\n",
       "  not enabled. See the <a href=\"https://ipywidgets.readthedocs.io/en/stable/user_install.html\">Jupyter\n",
       "  Widgets Documentation</a> for setup instructions.\n",
       "</p>\n",
       "<p>\n",
       "  If you're reading this message in another frontend (for example, a static\n",
       "  rendering on GitHub or <a href=\"https://nbviewer.jupyter.org/\">NBViewer</a>),\n",
       "  it may mean that your frontend doesn't currently support widgets.\n",
       "</p>\n"
      ],
      "text/plain": [
       "HBox(children=(IntProgress(value=0, max=6), HTML(value='')))"
      ]
     },
     "metadata": {},
     "output_type": "display_data"
    },
    {
     "name": "stdout",
     "output_type": "stream",
     "text": [
      "\n"
     ]
    },
    {
     "data": {
      "text/plain": [
       "<fastai_lin.dataset.ImageClassifierData at 0x7f04f462f978>"
      ]
     },
     "execution_count": 7,
     "metadata": {},
     "output_type": "execute_result"
    }
   ],
   "source": [
    "tfms = tfms_from_model(arch, size, aug_tfms=transforms_side_on, max_zoom=1.1)\n",
    "data = ImageClassifierData.from_csv(PATH, 'train', label_csv, bs=32, tfms=tfms,\n",
    "                                    suffix='.jpg', val_idxs=val_idxs, num_workers=8)\n",
    "# for speed\n",
    "data.resize(int(size), 'tmp')"
   ]
  },
  {
   "cell_type": "code",
   "execution_count": 8,
   "metadata": {},
   "outputs": [
    {
     "data": {
      "text/plain": [
       "array(['train/000000.jpg', 'train/000002.jpg', 'train/000003.jpg', ..., 'train/049517.jpg',\n",
       "       'train/049518.jpg', 'train/049519.jpg'],\n",
       "      dtype='<U16')"
      ]
     },
     "execution_count": 8,
     "metadata": {},
     "output_type": "execute_result"
    }
   ],
   "source": [
    "data.trn_ds.fnames"
   ]
  },
  {
   "cell_type": "code",
   "execution_count": 9,
   "metadata": {},
   "outputs": [],
   "source": [
    "learner = ConvLearner.pretrained(arch, data)"
   ]
  },
  {
   "cell_type": "code",
   "execution_count": 10,
   "metadata": {},
   "outputs": [
    {
     "data": {
      "application/vnd.jupyter.widget-view+json": {
       "model_id": "37e722930892494fadcab757f18a8b3e",
       "version_major": 2,
       "version_minor": 0
      },
      "text/html": [
       "<p>Failed to display Jupyter Widget of type <code>HBox</code>.</p>\n",
       "<p>\n",
       "  If you're reading this message in the Jupyter Notebook or JupyterLab Notebook, it may mean\n",
       "  that the widgets JavaScript is still loading. If this message persists, it\n",
       "  likely means that the widgets JavaScript library is either not installed or\n",
       "  not enabled. See the <a href=\"https://ipywidgets.readthedocs.io/en/stable/user_install.html\">Jupyter\n",
       "  Widgets Documentation</a> for setup instructions.\n",
       "</p>\n",
       "<p>\n",
       "  If you're reading this message in another frontend (for example, a static\n",
       "  rendering on GitHub or <a href=\"https://nbviewer.jupyter.org/\">NBViewer</a>),\n",
       "  it may mean that your frontend doesn't currently support widgets.\n",
       "</p>\n"
      ],
      "text/plain": [
       "HBox(children=(IntProgress(value=0, description='Epoch', max=1), HTML(value='')))"
      ]
     },
     "metadata": {},
     "output_type": "display_data"
    },
    {
     "name": "stdout",
     "output_type": "stream",
     "text": [
      " 77%|███████▋  | 794/1026 [01:24<00:24,  9.42it/s, loss=2.01] "
     ]
    },
    {
     "data": {
      "image/png": "[encoded data removed]",
      "text/plain": [
       "<matplotlib.figure.Figure at 0x7f04f4527c88>"
      ]
     },
     "metadata": {},
     "output_type": "display_data"
    }
   ],
   "source": [
    "learner.lr_find()\n",
    "learner.sched.plot()"
   ]
  },
  {
   "cell_type": "code",
   "execution_count": 11,
   "metadata": {},
   "outputs": [],
   "source": [
    "λr = 2e-3"
   ]
  },
  {
   "cell_type": "code",
   "execution_count": 12,
   "metadata": {
    "collapsed": true
   },
   "outputs": [
    {
     "data": {
      "application/vnd.jupyter.widget-view+json": {
       "model_id": "4417cbdc3db549fcb6cc71222d517d82",
       "version_major": 2,
       "version_minor": 0
      },
      "text/html": [
       "<p>Failed to display Jupyter Widget of type <code>HBox</code>.</p>\n",
       "<p>\n",
       "  If you're reading this message in the Jupyter Notebook or JupyterLab Notebook, it may mean\n",
       "  that the widgets JavaScript is still loading. If this message persists, it\n",
       "  likely means that the widgets JavaScript library is either not installed or\n",
       "  not enabled. See the <a href=\"https://ipywidgets.readthedocs.io/en/stable/user_install.html\">Jupyter\n",
       "  Widgets Documentation</a> for setup instructions.\n",
       "</p>\n",
       "<p>\n",
       "  If you're reading this message in another frontend (for example, a static\n",
       "  rendering on GitHub or <a href=\"https://nbviewer.jupyter.org/\">NBViewer</a>),\n",
       "  it may mean that your frontend doesn't currently support widgets.\n",
       "</p>\n"
      ],
      "text/plain": [
       "HBox(children=(IntProgress(value=0, description='Epoch', max=3), HTML(value='')))"
      ]
     },
     "metadata": {},
     "output_type": "display_data"
    },
    {
     "name": "stdout",
     "output_type": "stream",
     "text": [
      "\n",
      "  0%|          | 0/1026 [00:00<?, ?it/s]\u001b[A\n",
      "  0%|          | 0/1026 [00:00<?, ?it/s, loss=1.07]\u001b[A\n",
      "  0%|          | 1/1026 [00:00<07:18,  2.34it/s, loss=1.07]\u001b[A\n",
      "  0%|          | 1/1026 [00:00<09:02,  1.89it/s, loss=1.14]\u001b[A\n",
      "  0%|          | 2/1026 [00:00<04:33,  3.75it/s, loss=1.14]\u001b[A\n",
      "  0%|          | 2/1026 [00:00<05:26,  3.14it/s, loss=1.08]\u001b[A\n",
      "  0%|          | 3/1026 [00:00<03:38,  4.69it/s, loss=1.08]\u001b[A\n",
      "  0%|          | 3/1026 [00:00<04:13,  4.04it/s, loss=1.1] \u001b[A\n",
      "  0%|          | 4/1026 [00:00<03:11,  5.35it/s, loss=1.1]\u001b[A\n",
      "  0%|          | 4/1026 [00:00<03:36,  4.71it/s, loss=1.11]\u001b[A\n",
      "  0%|          | 5/1026 [00:00<02:54,  5.84it/s, loss=1.11]\u001b[A\n",
      "  0%|          | 5/1026 [00:00<03:16,  5.21it/s, loss=1.1] \u001b[A\n",
      "  1%|          | 6/1026 [00:00<02:43,  6.22it/s, loss=1.1]\u001b[A\n",
      "  1%|          | 6/1026 [00:01<03:00,  5.64it/s, loss=1.07]\u001b[A\n",
      "  1%|          | 7/1026 [00:01<02:35,  6.55it/s, loss=1.07]\u001b[A\n",
      "  1%|          | 7/1026 [00:01<02:50,  5.99it/s, loss=1.06]\u001b[A\n",
      "  1%|          | 8/1026 [00:01<02:29,  6.82it/s, loss=1.06]\u001b[A\n",
      "  1%|          | 8/1026 [00:01<02:41,  6.29it/s, loss=1.04]\u001b[A\n",
      "  1%|          | 9/1026 [00:01<02:24,  7.05it/s, loss=1.04]\u001b[A\n",
      "  1%|          | 9/1026 [00:01<02:35,  6.52it/s, loss=1.02]\u001b[A\n",
      "  1%|          | 10/1026 [00:01<02:21,  7.20it/s, loss=1.02]\u001b[A\n",
      "  1%|          | 10/1026 [00:01<02:31,  6.72it/s, loss=1.01]\u001b[A\n",
      "  1%|          | 11/1026 [00:01<02:17,  7.36it/s, loss=1.01]\u001b[A\n",
      "  1%|          | 11/1026 [00:01<02:27,  6.88it/s, loss=1.01]\u001b[A\n",
      "  1%|          | 12/1026 [00:01<02:15,  7.49it/s, loss=1.01]\u001b[A\n",
      "  1%|          | 12/1026 [00:01<02:23,  7.04it/s, loss=1.01]\u001b[A\n",
      "  1%|▏         | 13/1026 [00:01<02:13,  7.61it/s, loss=1.01]\u001b[A\n",
      "  1%|▏         | 13/1026 [00:01<02:20,  7.19it/s, loss=0.996]\u001b[A\n",
      "  1%|▏         | 14/1026 [00:01<02:11,  7.72it/s, loss=0.996]\u001b[A\n",
      "  1%|▏         | 14/1026 [00:01<02:18,  7.32it/s, loss=1.01] \u001b[A\n",
      "  1%|▏         | 15/1026 [00:01<02:09,  7.82it/s, loss=1.01]\u001b[A\n",
      "  1%|▏         | 15/1026 [00:02<02:16,  7.42it/s, loss=1.01]\u001b[A\n",
      "  2%|▏         | 16/1026 [00:02<02:07,  7.89it/s, loss=1.01]\u001b[A\n",
      "  2%|▏         | 16/1026 [00:02<02:14,  7.52it/s, loss=1.01]\u001b[A\n",
      "  2%|▏         | 17/1026 [00:02<02:06,  7.96it/s, loss=1.01]\u001b[A\n",
      "  2%|▏         | 17/1026 [00:02<02:12,  7.60it/s, loss=1]   \u001b[A\n",
      "  2%|▏         | 18/1026 [00:02<02:05,  8.02it/s, loss=1]\u001b[A\n",
      "  2%|▏         | 18/1026 [00:02<02:11,  7.69it/s, loss=1.02]\u001b[A\n",
      "  2%|▏         | 19/1026 [00:02<02:04,  8.10it/s, loss=1.02]\u001b[A\n",
      "  2%|▏         | 19/1026 [00:02<02:09,  7.77it/s, loss=1.02]\u001b[A\n",
      "  2%|▏         | 20/1026 [00:02<02:03,  8.17it/s, loss=1.02]\u001b[A\n",
      "  2%|▏         | 20/1026 [00:02<02:08,  7.85it/s, loss=1.01]\u001b[A\n",
      "  2%|▏         | 21/1026 [00:02<02:02,  8.23it/s, loss=1.01]\u001b[A\n",
      "  2%|▏         | 21/1026 [00:02<02:07,  7.91it/s, loss=1.02]\u001b[A\n",
      "  2%|▏         | 22/1026 [00:02<02:01,  8.27it/s, loss=1.02]\u001b[A\n",
      "  2%|▏         | 22/1026 [00:02<02:05,  7.97it/s, loss=1.01]\u001b[A\n",
      "  2%|▏         | 23/1026 [00:02<02:00,  8.32it/s, loss=1.01]\u001b[A\n",
      "  2%|▏         | 23/1026 [00:02<02:05,  8.02it/s, loss=1.01]\u001b[A\n",
      "  2%|▏         | 24/1026 [00:02<01:59,  8.36it/s, loss=1.01]\u001b[A\n",
      "  2%|▏         | 24/1026 [00:02<02:04,  8.08it/s, loss=1.01]\u001b[A\n",
      "  2%|▏         | 25/1026 [00:02<01:59,  8.40it/s, loss=1.01]\u001b[A\n",
      "  2%|▏         | 25/1026 [00:03<02:03,  8.12it/s, loss=1.01]\u001b[A\n",
      "  3%|▎         | 26/1026 [00:03<01:58,  8.43it/s, loss=1.01]\u001b[A\n",
      "  3%|▎         | 26/1026 [00:03<02:02,  8.18it/s, loss=1.01]\u001b[A\n",
      "  3%|▎         | 27/1026 [00:03<01:57,  8.48it/s, loss=1.01]\u001b[A\n",
      "  3%|▎         | 27/1026 [00:03<02:01,  8.21it/s, loss=1.01]\u001b[A\n",
      "  3%|▎         | 28/1026 [00:03<01:57,  8.49it/s, loss=1.01]\u001b[A\n",
      "  3%|▎         | 28/1026 [00:03<02:01,  8.25it/s, loss=1.01]\u001b[A\n",
      "  3%|▎         | 29/1026 [00:03<01:56,  8.53it/s, loss=1.01]\u001b[A\n",
      "  3%|▎         | 29/1026 [00:03<02:00,  8.28it/s, loss=1]   \u001b[A\n",
      "  3%|▎         | 30/1026 [00:03<01:56,  8.56it/s, loss=1]\u001b[A\n",
      "  3%|▎         | 30/1026 [00:03<01:59,  8.32it/s, loss=1.01]\u001b[A\n",
      "  3%|▎         | 31/1026 [00:03<01:55,  8.58it/s, loss=1.01]\u001b[A\n",
      "  3%|▎         | 31/1026 [00:03<01:59,  8.35it/s, loss=1]   \u001b[A\n",
      "  3%|▎         | 32/1026 [00:03<01:55,  8.61it/s, loss=1]\u001b[A\n",
      "  3%|▎         | 32/1026 [00:03<01:58,  8.37it/s, loss=0.995]\u001b[A\n",
      "  3%|▎         | 33/1026 [00:03<01:55,  8.63it/s, loss=0.995]\u001b[A\n",
      "  3%|▎         | 33/1026 [00:03<01:58,  8.40it/s, loss=0.988]\u001b[A\n",
      "  3%|▎         | 34/1026 [00:03<01:54,  8.64it/s, loss=0.988]\u001b[A\n",
      "  3%|▎         | 34/1026 [00:04<01:57,  8.42it/s, loss=0.989]\u001b[A\n",
      "  3%|▎         | 35/1026 [00:04<01:54,  8.66it/s, loss=0.989]\u001b[A\n",
      "  3%|▎         | 35/1026 [00:04<01:57,  8.45it/s, loss=0.99] \u001b[A\n",
      "  4%|▎         | 36/1026 [00:04<01:54,  8.68it/s, loss=0.99]\u001b[A\n",
      "  4%|▎         | 36/1026 [00:04<01:56,  8.48it/s, loss=0.985]\u001b[A\n",
      "  4%|▎         | 37/1026 [00:04<01:53,  8.70it/s, loss=0.985]\u001b[A\n",
      "  4%|▎         | 37/1026 [00:04<01:56,  8.50it/s, loss=0.979]\u001b[A\n",
      "  4%|▎         | 38/1026 [00:04<01:53,  8.72it/s, loss=0.979]\u001b[A\n",
      "  4%|▎         | 38/1026 [00:04<01:55,  8.52it/s, loss=0.976]\u001b[A\n",
      "  4%|▍         | 39/1026 [00:04<01:53,  8.73it/s, loss=0.976]\u001b[A\n",
      "  4%|▍         | 39/1026 [00:04<01:55,  8.54it/s, loss=0.978]\u001b[A\n",
      "  4%|▍         | 40/1026 [00:04<01:52,  8.74it/s, loss=0.978]\u001b[A\n",
      "  4%|▍         | 40/1026 [00:04<01:55,  8.55it/s, loss=0.973]\u001b[A\n",
      "  4%|▍         | 41/1026 [00:04<01:52,  8.75it/s, loss=0.973]\u001b[A\n",
      "  4%|▍         | 41/1026 [00:04<01:54,  8.57it/s, loss=0.976]\u001b[A\n",
      "  4%|▍         | 42/1026 [00:04<01:52,  8.77it/s, loss=0.976]\u001b[A\n",
      "  4%|▍         | 42/1026 [00:04<01:54,  8.59it/s, loss=0.973]\u001b[A\n",
      "  4%|▍         | 43/1026 [00:04<01:51,  8.78it/s, loss=0.973]\u001b[A\n",
      "  4%|▍         | 43/1026 [00:05<01:54,  8.60it/s, loss=0.975]\u001b[A\n",
      "  4%|▍         | 44/1026 [00:05<01:51,  8.79it/s, loss=0.975]\u001b[A\n",
      "  4%|▍         | 44/1026 [00:05<01:53,  8.62it/s, loss=0.969]\u001b[A\n",
      "  4%|▍         | 45/1026 [00:05<01:51,  8.80it/s, loss=0.969]\u001b[A\n",
      "  4%|▍         | 45/1026 [00:05<01:53,  8.63it/s, loss=0.978]\u001b[A\n",
      "  4%|▍         | 46/1026 [00:05<01:51,  8.82it/s, loss=0.978]\u001b[A\n",
      "  4%|▍         | 46/1026 [00:05<01:53,  8.65it/s, loss=0.979]\u001b[A\n",
      "  5%|▍         | 47/1026 [00:05<01:50,  8.83it/s, loss=0.979]\u001b[A\n",
      "  5%|▍         | 47/1026 [00:05<01:52,  8.67it/s, loss=0.975]\u001b[A\n",
      "  5%|▍         | 48/1026 [00:05<01:50,  8.84it/s, loss=0.975]\u001b[A\n",
      "  5%|▍         | 48/1026 [00:05<01:52,  8.68it/s, loss=0.975]\u001b[A\n",
      "  5%|▍         | 49/1026 [00:05<01:50,  8.85it/s, loss=0.975]\u001b[A\n",
      "  5%|▍         | 49/1026 [00:05<01:52,  8.69it/s, loss=0.974]\u001b[A\n",
      "  5%|▍         | 50/1026 [00:05<01:50,  8.87it/s, loss=0.974]\u001b[A\n",
      "  5%|▍         | 50/1026 [00:05<01:52,  8.71it/s, loss=0.974]\u001b[A\n",
      "  5%|▍         | 51/1026 [00:05<01:49,  8.88it/s, loss=0.974]\u001b[A\n",
      "  5%|▍         | 51/1026 [00:05<01:51,  8.73it/s, loss=0.968]\u001b[A\n",
      "  5%|▌         | 52/1026 [00:05<01:49,  8.89it/s, loss=0.968]\u001b[A\n",
      "  5%|▌         | 52/1026 [00:05<01:51,  8.74it/s, loss=0.983]\u001b[A\n",
      "  5%|▌         | 53/1026 [00:05<01:49,  8.90it/s, loss=0.983]\u001b[A\n",
      "  5%|▌         | 53/1026 [00:06<01:51,  8.76it/s, loss=0.989]\u001b[A\n",
      "  5%|▌         | 54/1026 [00:06<01:49,  8.92it/s, loss=0.989]\u001b[A\n",
      "  5%|▌         | 54/1026 [00:06<01:50,  8.78it/s, loss=0.978]\u001b[A\n",
      "  5%|▌         | 55/1026 [00:06<01:48,  8.93it/s, loss=0.978]\u001b[A\n",
      "  5%|▌         | 55/1026 [00:06<01:50,  8.79it/s, loss=0.973]\u001b[A\n",
      "  5%|▌         | 56/1026 [00:06<01:48,  8.94it/s, loss=0.973]\u001b[A\n",
      "  5%|▌         | 56/1026 [00:06<01:50,  8.80it/s, loss=0.973]\u001b[A\n",
      "  6%|▌         | 57/1026 [00:06<01:48,  8.94it/s, loss=0.973]\u001b[A\n",
      "  6%|▌         | 57/1026 [00:06<01:50,  8.79it/s, loss=0.968]\u001b[A\n",
      "  6%|▌         | 58/1026 [00:06<01:48,  8.94it/s, loss=0.968]\u001b[A\n",
      "  6%|▌         | 58/1026 [00:06<01:49,  8.80it/s, loss=0.971]\u001b[A\n",
      "  6%|▌         | 59/1026 [00:06<01:48,  8.95it/s, loss=0.971]\u001b[A\n",
      "  6%|▌         | 59/1026 [00:06<01:49,  8.81it/s, loss=0.962]\u001b[A\n",
      "  6%|▌         | 60/1026 [00:06<01:47,  8.96it/s, loss=0.962]\u001b[A\n",
      "  6%|▌         | 60/1026 [00:06<01:49,  8.83it/s, loss=0.958]\u001b[A\n",
      "  6%|▌         | 61/1026 [00:06<01:47,  8.97it/s, loss=0.958]\u001b[A\n",
      "  6%|▌         | 61/1026 [00:06<01:49,  8.84it/s, loss=0.955]\u001b[A\n",
      "  6%|▌         | 62/1026 [00:06<01:47,  8.97it/s, loss=0.955]\u001b[A\n",
      "  6%|▌         | 62/1026 [00:07<01:49,  8.84it/s, loss=0.95] \u001b[A\n",
      "  6%|▌         | 63/1026 [00:07<01:47,  8.98it/s, loss=0.95]\u001b[A\n",
      "  6%|▌         | 63/1026 [00:07<01:48,  8.86it/s, loss=0.945]\u001b[A\n",
      "  6%|▌         | 64/1026 [00:07<01:47,  8.99it/s, loss=0.945]\u001b[A\n",
      "  6%|▌         | 64/1026 [00:07<01:48,  8.87it/s, loss=0.942]\u001b[A\n",
      "  6%|▋         | 65/1026 [00:07<01:46,  9.00it/s, loss=0.942]\u001b[A\n",
      "  6%|▋         | 65/1026 [00:07<01:48,  8.87it/s, loss=0.94] \u001b[A\n",
      "  6%|▋         | 66/1026 [00:07<01:46,  9.01it/s, loss=0.94]\u001b[A\n",
      "  6%|▋         | 66/1026 [00:07<01:48,  8.88it/s, loss=0.928]\u001b[A\n",
      "  7%|▋         | 67/1026 [00:07<01:46,  9.01it/s, loss=0.928]\u001b[A\n",
      "  7%|▋         | 67/1026 [00:07<01:47,  8.89it/s, loss=0.92] \u001b[A\n",
      "  7%|▋         | 68/1026 [00:07<01:46,  9.02it/s, loss=0.92]\u001b[A\n",
      "  7%|▋         | 68/1026 [00:07<01:47,  8.90it/s, loss=0.915]\u001b[A\n",
      "  7%|▋         | 69/1026 [00:07<01:46,  9.02it/s, loss=0.915]\u001b[A\n",
      "  7%|▋         | 69/1026 [00:07<01:47,  8.90it/s, loss=0.905]\u001b[A\n",
      "  7%|▋         | 70/1026 [00:07<01:45,  9.03it/s, loss=0.905]\u001b[A\n",
      "  7%|▋         | 70/1026 [00:07<01:47,  8.91it/s, loss=0.898]\u001b[A\n",
      "  7%|▋         | 71/1026 [00:07<01:45,  9.03it/s, loss=0.898]\u001b[A\n",
      "  7%|▋         | 71/1026 [00:07<01:47,  8.92it/s, loss=0.888]\u001b[A\n",
      "  7%|▋         | 72/1026 [00:07<01:45,  9.04it/s, loss=0.888]\u001b[A\n",
      "  7%|▋         | 72/1026 [00:08<01:46,  8.93it/s, loss=0.879]\u001b[A\n",
      "  7%|▋         | 73/1026 [00:08<01:45,  9.05it/s, loss=0.879]\u001b[A\n",
      "  7%|▋         | 73/1026 [00:08<01:46,  8.94it/s, loss=0.872]\u001b[A\n",
      "  7%|▋         | 74/1026 [00:08<01:45,  9.05it/s, loss=0.872]\u001b[A\n",
      "  7%|▋         | 74/1026 [00:08<01:46,  8.95it/s, loss=0.867]\u001b[A\n",
      "  7%|▋         | 75/1026 [00:08<01:44,  9.06it/s, loss=0.867]\u001b[A\n",
      "  7%|▋         | 75/1026 [00:08<01:46,  8.95it/s, loss=0.855]\u001b[A\n",
      "  7%|▋         | 76/1026 [00:08<01:44,  9.07it/s, loss=0.855]\u001b[A\n",
      "  7%|▋         | 76/1026 [00:08<01:45,  8.96it/s, loss=0.851]\u001b[A\n",
      "  8%|▊         | 77/1026 [00:08<01:44,  9.08it/s, loss=0.851]\u001b[A\n",
      "  8%|▊         | 77/1026 [00:08<01:45,  8.97it/s, loss=0.84] \u001b[A\n",
      "  8%|▊         | 78/1026 [00:08<01:44,  9.08it/s, loss=0.84]\u001b[A\n",
      "  8%|▊         | 78/1026 [00:08<01:45,  8.98it/s, loss=0.835]\u001b[A\n",
      "  8%|▊         | 79/1026 [00:08<01:44,  9.09it/s, loss=0.835]\u001b[A\n",
      "\n",
      "  8%|▊         | 79/1026 [00:08<01:45,  8.98it/s, loss=0.828]\u001b[A\n",
      "  8%|▊         | 81/1026 [00:08<01:43,  9.10it/s, loss=0.825]\u001b[A"
     ]
    },
    {
     "name": "stderr",
     "output_type": "stream",
     "text": [
      "Exception in thread Thread-5:\n",
      "Traceback (most recent call last):\n",
      "  File \"/home/wnixalo/miniconda3/envs/fastai/lib/python3.6/threading.py\", line 916, in _bootstrap_inner\n",
      "    self.run()\n",
      "  File \"/home/wnixalo/miniconda3/envs/fastai/lib/python3.6/site-packages/tqdm/_tqdm.py\", line 144, in run\n",
      "    for instance in self.tqdm_cls._instances:\n",
      "  File \"/home/wnixalo/miniconda3/envs/fastai/lib/python3.6/_weakrefset.py\", line 60, in __iter__\n",
      "    for itemref in self.data:\n",
      "RuntimeError: Set changed size during iteration\n",
      "\n",
      "Exception in thread Thread-6:\n",
      "Traceback (most recent call last):\n",
      "  File \"/home/wnixalo/miniconda3/envs/fastai/lib/python3.6/threading.py\", line 916, in _bootstrap_inner\n",
      "    self.run()\n",
      "  File \"/home/wnixalo/miniconda3/envs/fastai/lib/python3.6/site-packages/tqdm/_tqdm.py\", line 144, in run\n",
      "    for instance in self.tqdm_cls._instances:\n",
      "  File \"/home/wnixalo/miniconda3/envs/fastai/lib/python3.6/_weakrefset.py\", line 60, in __iter__\n",
      "    for itemref in self.data:\n",
      "RuntimeError: Set changed size during iteration\n",
      "\n"
     ]
    },
    {
     "name": "stdout",
     "output_type": "stream",
     "text": [
      "[ 0.       0.40057  0.34499  0.82442]                          \n",
      "[ 1.       0.35677  0.30631  0.85457]                          \n",
      "[ 2.       0.35292  0.28403  0.86406]                          \n",
      "\n"
     ]
    }
   ],
   "source": [
    "learner.fit(λr, 3, cycle_len=1)"
   ]
  },
  {
   "cell_type": "code",
   "execution_count": 13,
   "metadata": {},
   "outputs": [
    {
     "data": {
      "application/vnd.jupyter.widget-view+json": {
       "model_id": "64856f5acbb44a8695887705d20e51ec",
       "version_major": 2,
       "version_minor": 0
      },
      "text/html": [
       "<p>Failed to display Jupyter Widget of type <code>HBox</code>.</p>\n",
       "<p>\n",
       "  If you're reading this message in the Jupyter Notebook or JupyterLab Notebook, it may mean\n",
       "  that the widgets JavaScript is still loading. If this message persists, it\n",
       "  likely means that the widgets JavaScript library is either not installed or\n",
       "  not enabled. See the <a href=\"https://ipywidgets.readthedocs.io/en/stable/user_install.html\">Jupyter\n",
       "  Widgets Documentation</a> for setup instructions.\n",
       "</p>\n",
       "<p>\n",
       "  If you're reading this message in another frontend (for example, a static\n",
       "  rendering on GitHub or <a href=\"https://nbviewer.jupyter.org/\">NBViewer</a>),\n",
       "  it may mean that your frontend doesn't currently support widgets.\n",
       "</p>\n"
      ],
      "text/plain": [
       "HBox(children=(IntProgress(value=0, description='Epoch', max=6), HTML(value='')))"
      ]
     },
     "metadata": {},
     "output_type": "display_data"
    },
    {
     "name": "stdout",
     "output_type": "stream",
     "text": [
      "[ 0.       0.33354  0.26675  0.87767]                          \n",
      "[ 1.       0.32525  0.25844  0.88412]                          \n",
      "[ 2.       0.31892  0.24172  0.89664]                          \n",
      "[ 3.       0.29591  0.23781  0.90078]                          \n",
      "[ 4.       0.30765  0.22929  0.90674]                          \n",
      "[ 5.       0.29556  0.227    0.90674]                          \n",
      "\n",
      "CPU times: user 31min 53s, sys: 3min 54s, total: 35min 47s\n",
      "Wall time: 12min 54s\n"
     ]
    }
   ],
   "source": [
    "%time learner.fit(λr, 3, cycle_len=2)"
   ]
  },
  {
   "cell_type": "code",
   "execution_count": 14,
   "metadata": {},
   "outputs": [],
   "source": [
    "learner.save('100')"
   ]
  },
  {
   "cell_type": "code",
   "execution_count": 15,
   "metadata": {},
   "outputs": [
    {
     "data": {
      "application/vnd.jupyter.widget-view+json": {
       "model_id": "16b751dc941d469a86bbb38dc63193e8",
       "version_major": 2,
       "version_minor": 0
      },
      "text/html": [
       "<p>Failed to display Jupyter Widget of type <code>HBox</code>.</p>\n",
       "<p>\n",
       "  If you're reading this message in the Jupyter Notebook or JupyterLab Notebook, it may mean\n",
       "  that the widgets JavaScript is still loading. If this message persists, it\n",
       "  likely means that the widgets JavaScript library is either not installed or\n",
       "  not enabled. See the <a href=\"https://ipywidgets.readthedocs.io/en/stable/user_install.html\">Jupyter\n",
       "  Widgets Documentation</a> for setup instructions.\n",
       "</p>\n",
       "<p>\n",
       "  If you're reading this message in another frontend (for example, a static\n",
       "  rendering on GitHub or <a href=\"https://nbviewer.jupyter.org/\">NBViewer</a>),\n",
       "  it may mean that your frontend doesn't currently support widgets.\n",
       "</p>\n"
      ],
      "text/plain": [
       "HBox(children=(IntProgress(value=0, description='Epoch', max=14), HTML(value='')))"
      ]
     },
     "metadata": {},
     "output_type": "display_data"
    },
    {
     "name": "stdout",
     "output_type": "stream",
     "text": [
      "[ 0.       0.30655  0.224    0.90382]                          \n",
      "[ 1.       0.29098  0.22193  0.90965]                          \n",
      "[ 2.       0.26844  0.21412  0.91221]                          \n",
      "[ 3.       0.26111  0.21233  0.91634]                          \n",
      "[ 4.       0.26798  0.20129  0.91464]                          \n",
      "[ 5.       0.26162  0.2063   0.9189 ]                          \n",
      "[ 6.       0.26926  0.20507  0.90978]                          \n",
      "[ 7.       0.26509  0.20278  0.91148]                          \n",
      "[ 8.       0.25779  0.18544  0.92558]                          \n",
      "[ 9.       0.23394  0.18239  0.9268 ]                          \n",
      "[ 10.        0.24376   0.18494   0.92449]                      \n",
      "[ 11.        0.2402    0.18218   0.92583]                      \n",
      "[ 12.        0.24941   0.1784    0.92498]                      \n",
      "[ 13.        0.25138   0.18083   0.92814]                      \n",
      "\n",
      "CPU times: user 1h 13min 54s, sys: 9min 13s, total: 1h 23min 7s\n",
      "Wall time: 30min 15s\n"
     ]
    }
   ],
   "source": [
    "%time learner.fit(λr, 3, cycle_len=2, cycle_mult=2)"
   ]
  },
  {
   "cell_type": "code",
   "execution_count": 16,
   "metadata": {},
   "outputs": [],
   "source": [
    "learner.save('100')"
   ]
  },
  {
   "cell_type": "code",
   "execution_count": 17,
   "metadata": {},
   "outputs": [],
   "source": [
    "data = ImageClassifierData.from_csv(PATH, 'train', label_csv, bs=16, tfms=tfms,\n",
    "                                    suffix='.jpg', val_idxs=val_idxs, num_workers=8)\n",
    "learner.set_data(data)\n",
    "λr = λr/2 # lowering learning rate due to lower batch size"
   ]
  },
  {
   "cell_type": "code",
   "execution_count": 19,
   "metadata": {},
   "outputs": [],
   "source": [
    "λrs = [λr/1e2, λr/1e1, λr]\n",
    "learner.unfreeze()"
   ]
  },
  {
   "cell_type": "code",
   "execution_count": 20,
   "metadata": {},
   "outputs": [
    {
     "data": {
      "application/vnd.jupyter.widget-view+json": {
       "model_id": "85e7e822e78b4a9387969cad58f7b508",
       "version_major": 2,
       "version_minor": 0
      },
      "text/html": [
       "<p>Failed to display Jupyter Widget of type <code>HBox</code>.</p>\n",
       "<p>\n",
       "  If you're reading this message in the Jupyter Notebook or JupyterLab Notebook, it may mean\n",
       "  that the widgets JavaScript is still loading. If this message persists, it\n",
       "  likely means that the widgets JavaScript library is either not installed or\n",
       "  not enabled. See the <a href=\"https://ipywidgets.readthedocs.io/en/stable/user_install.html\">Jupyter\n",
       "  Widgets Documentation</a> for setup instructions.\n",
       "</p>\n",
       "<p>\n",
       "  If you're reading this message in another frontend (for example, a static\n",
       "  rendering on GitHub or <a href=\"https://nbviewer.jupyter.org/\">NBViewer</a>),\n",
       "  it may mean that your frontend doesn't currently support widgets.\n",
       "</p>\n"
      ],
      "text/plain": [
       "HBox(children=(IntProgress(value=0, description='Epoch', max=1), HTML(value='')))"
      ]
     },
     "metadata": {},
     "output_type": "display_data"
    },
    {
     "name": "stdout",
     "output_type": "stream",
     "text": [
      "[ 0.       0.27783  0.20637  0.92373]                          \n",
      "\n",
      "CPU times: user 9min 18s, sys: 2min 32s, total: 11min 51s\n",
      "Wall time: 8min 2s\n"
     ]
    }
   ],
   "source": [
    "# testing GPU mem usage & time ## 1890-3006/3017 @ size=100\n",
    "%time learner.fit(λrs, 1, cycle_len=1, cycle_mult=1)"
   ]
  },
  {
   "cell_type": "code",
   "execution_count": 21,
   "metadata": {},
   "outputs": [],
   "source": [
    "learner.save('100_uf')"
   ]
  },
  {
   "cell_type": "code",
   "execution_count": 23,
   "metadata": {},
   "outputs": [
    {
     "data": {
      "application/vnd.jupyter.widget-view+json": {
       "model_id": "d32d97c1488f4482a8d2e5eae8c1afe7",
       "version_major": 2,
       "version_minor": 0
      },
      "text/html": [
       "<p>Failed to display Jupyter Widget of type <code>HBox</code>.</p>\n",
       "<p>\n",
       "  If you're reading this message in the Jupyter Notebook or JupyterLab Notebook, it may mean\n",
       "  that the widgets JavaScript is still loading. If this message persists, it\n",
       "  likely means that the widgets JavaScript library is either not installed or\n",
       "  not enabled. See the <a href=\"https://ipywidgets.readthedocs.io/en/stable/user_install.html\">Jupyter\n",
       "  Widgets Documentation</a> for setup instructions.\n",
       "</p>\n",
       "<p>\n",
       "  If you're reading this message in another frontend (for example, a static\n",
       "  rendering on GitHub or <a href=\"https://nbviewer.jupyter.org/\">NBViewer</a>),\n",
       "  it may mean that your frontend doesn't currently support widgets.\n",
       "</p>\n"
      ],
      "text/plain": [
       "HBox(children=(IntProgress(value=0, description='Epoch', max=7), HTML(value='')))"
      ]
     },
     "metadata": {},
     "output_type": "display_data"
    },
    {
     "name": "stdout",
     "output_type": "stream",
     "text": [
      "[ 0.       0.22614  0.15489  0.94189]                          \n",
      "[ 1.       0.19981  0.10811  0.95663]                          \n",
      "[ 2.       0.15412  0.10415  0.95785]                          \n",
      "[ 3.       0.15563  0.0907   0.96357]                          \n",
      "[ 4.       0.134    0.07376  0.97234]                          \n",
      "[ 5.       0.13234  0.06936  0.97283]                           \n",
      "[ 6.       0.10379  0.074    0.97234]                           \n",
      "\n"
     ]
    }
   ],
   "source": [
    "learner.fit(λrs, 3, cycle_len=1, cycle_mult=2)"
   ]
  },
  {
   "cell_type": "code",
   "execution_count": 24,
   "metadata": {},
   "outputs": [],
   "source": [
    "learner.save('100_uf')"
   ]
  },
  {
   "cell_type": "code",
   "execution_count": 27,
   "metadata": {},
   "outputs": [
    {
     "data": {
      "application/vnd.jupyter.widget-view+json": {
       "model_id": "3355ce86c445477aa53f06b17d12521a",
       "version_major": 2,
       "version_minor": 0
      },
      "text/html": [
       "<p>Failed to display Jupyter Widget of type <code>HBox</code>.</p>\n",
       "<p>\n",
       "  If you're reading this message in the Jupyter Notebook or JupyterLab Notebook, it may mean\n",
       "  that the widgets JavaScript is still loading. If this message persists, it\n",
       "  likely means that the widgets JavaScript library is either not installed or\n",
       "  not enabled. See the <a href=\"https://ipywidgets.readthedocs.io/en/stable/user_install.html\">Jupyter\n",
       "  Widgets Documentation</a> for setup instructions.\n",
       "</p>\n",
       "<p>\n",
       "  If you're reading this message in another frontend (for example, a static\n",
       "  rendering on GitHub or <a href=\"https://nbviewer.jupyter.org/\">NBViewer</a>),\n",
       "  it may mean that your frontend doesn't currently support widgets.\n",
       "</p>\n"
      ],
      "text/plain": [
       "HBox(children=(IntProgress(value=0, max=6), HTML(value='')))"
      ]
     },
     "metadata": {},
     "output_type": "display_data"
    },
    {
     "name": "stdout",
     "output_type": "stream",
     "text": [
      "                                                       \n"
     ]
    },
    {
     "data": {
      "text/plain": [
       "<fastai_lin.dataset.ImageClassifierData at 0x7f046c6d3b38>"
      ]
     },
     "execution_count": 27,
     "metadata": {},
     "output_type": "execute_result"
    }
   ],
   "source": [
    "size = 200\n",
    "tfms = tfms_from_model(arch, size, aug_tfms=transforms_side_on, max_zoom=1.1)\n",
    "data = ImageClassifierData.from_csv(PATH, 'train', label_csv, bs=16, tfms=tfms,\n",
    "                                    suffix='.jpg', val_idxs=val_idxs, num_workers=8)\n",
    "data.resize(int(size), 'tmp')"
   ]
  },
  {
   "cell_type": "code",
   "execution_count": 28,
   "metadata": {},
   "outputs": [],
   "source": [
    "learner.set_data(data)"
   ]
  },
  {
   "cell_type": "code",
   "execution_count": 29,
   "metadata": {
    "collapsed": true
   },
   "outputs": [
    {
     "data": {
      "application/vnd.jupyter.widget-view+json": {
       "model_id": "4b79bcfa73304b5381fe6c11168169fd",
       "version_major": 2,
       "version_minor": 0
      },
      "text/html": [
       "<p>Failed to display Jupyter Widget of type <code>HBox</code>.</p>\n",
       "<p>\n",
       "  If you're reading this message in the Jupyter Notebook or JupyterLab Notebook, it may mean\n",
       "  that the widgets JavaScript is still loading. If this message persists, it\n",
       "  likely means that the widgets JavaScript library is either not installed or\n",
       "  not enabled. See the <a href=\"https://ipywidgets.readthedocs.io/en/stable/user_install.html\">Jupyter\n",
       "  Widgets Documentation</a> for setup instructions.\n",
       "</p>\n",
       "<p>\n",
       "  If you're reading this message in another frontend (for example, a static\n",
       "  rendering on GitHub or <a href=\"https://nbviewer.jupyter.org/\">NBViewer</a>),\n",
       "  it may mean that your frontend doesn't currently support widgets.\n",
       "</p>\n"
      ],
      "text/plain": [
       "HBox(children=(IntProgress(value=0, description='Epoch', max=1), HTML(value='')))"
      ]
     },
     "metadata": {},
     "output_type": "display_data"
    },
    {
     "name": "stdout",
     "output_type": "stream",
     "text": [
      " 71%|███████   | 1452/2052 [03:42<01:31,  6.52it/s, loss=1.43] "
     ]
    },
    {
     "ename": "NameError",
     "evalue": "name 'learn' is not defined",
     "output_type": "error",
     "traceback": [
      "\u001b[0;31m-------------------------------------------------------------------------\u001b[0m",
      "\u001b[0;31mNameError\u001b[0m                               Traceback (most recent call last)",
      "\u001b[0;32m<ipython-input-29-15d5855b3aaa>\u001b[0m in \u001b[0;36m<module>\u001b[0;34m()\u001b[0m\n\u001b[1;32m      1\u001b[0m \u001b[0mlearner\u001b[0m\u001b[0;34m.\u001b[0m\u001b[0mlr_find\u001b[0m\u001b[0;34m(\u001b[0m\u001b[0;34m)\u001b[0m\u001b[0;34m\u001b[0m\u001b[0m\n\u001b[0;32m----> 2\u001b[0;31m \u001b[0mlearn\u001b[0m\u001b[0;34m.\u001b[0m\u001b[0msched\u001b[0m\u001b[0;34m.\u001b[0m\u001b[0mplot\u001b[0m\u001b[0;34m(\u001b[0m\u001b[0;34m)\u001b[0m\u001b[0;34m\u001b[0m\u001b[0m\n\u001b[0m",
      "\u001b[0;31mNameError\u001b[0m: name 'learn' is not defined"
     ]
    }
   ],
   "source": [
    "# forgot to refreeze Conv layers\n",
    "learner.lr_find()"
   ]
  },
  {
   "cell_type": "code",
   "execution_count": 30,
   "metadata": {},
   "outputs": [
    {
     "data": {
      "image/png": "[encoded data removed]",
      "text/plain": [
       "<matplotlib.figure.Figure at 0x7f04f39359b0>"
      ]
     },
     "metadata": {},
     "output_type": "display_data"
    }
   ],
   "source": [
    "learner.sched.plot()"
   ]
  },
  {
   "cell_type": "code",
   "execution_count": 31,
   "metadata": {},
   "outputs": [],
   "source": [
    "learner.freeze()"
   ]
  },
  {
   "cell_type": "code",
   "execution_count": 32,
   "metadata": {
    "collapsed": true
   },
   "outputs": [
    {
     "data": {
      "application/vnd.jupyter.widget-view+json": {
       "model_id": "1541ddcaae0c4aba909c7af219dce8bb",
       "version_major": 2,
       "version_minor": 0
      },
      "text/html": [
       "<p>Failed to display Jupyter Widget of type <code>HBox</code>.</p>\n",
       "<p>\n",
       "  If you're reading this message in the Jupyter Notebook or JupyterLab Notebook, it may mean\n",
       "  that the widgets JavaScript is still loading. If this message persists, it\n",
       "  likely means that the widgets JavaScript library is either not installed or\n",
       "  not enabled. See the <a href=\"https://ipywidgets.readthedocs.io/en/stable/user_install.html\">Jupyter\n",
       "  Widgets Documentation</a> for setup instructions.\n",
       "</p>\n",
       "<p>\n",
       "  If you're reading this message in another frontend (for example, a static\n",
       "  rendering on GitHub or <a href=\"https://nbviewer.jupyter.org/\">NBViewer</a>),\n",
       "  it may mean that your frontend doesn't currently support widgets.\n",
       "</p>\n"
      ],
      "text/plain": [
       "HBox(children=(IntProgress(value=0, description='Epoch', max=1), HTML(value='')))"
      ]
     },
     "metadata": {},
     "output_type": "display_data"
    },
    {
     "name": "stdout",
     "output_type": "stream",
     "text": [
      "\n",
      "  0%|          | 0/2052 [00:00<?, ?it/s]\u001b[A\n",
      "  0%|          | 0/2052 [00:00<?, ?it/s, loss=0.643]\u001b[A\n",
      "  0%|          | 1/2052 [00:00<15:17,  2.23it/s, loss=0.643]\u001b[A\n",
      "  0%|          | 1/2052 [00:00<20:33,  1.66it/s, loss=0.931]\u001b[A\n",
      "  0%|          | 2/2052 [00:00<10:21,  3.30it/s, loss=0.931]\u001b[A\n",
      "  0%|          | 2/2052 [00:00<12:59,  2.63it/s, loss=0.921]\u001b[A\n",
      "  0%|          | 3/2052 [00:00<08:43,  3.92it/s, loss=0.921]\u001b[A\n",
      "  0%|          | 3/2052 [00:00<10:27,  3.26it/s, loss=0.702]\u001b[A\n",
      "  0%|          | 4/2052 [00:00<07:54,  4.31it/s, loss=0.702]\u001b[A\n",
      "  0%|          | 4/2052 [00:01<09:13,  3.70it/s, loss=0.73] \u001b[A\n",
      "  0%|          | 5/2052 [00:01<07:24,  4.61it/s, loss=0.73]\u001b[A\n",
      "  0%|          | 5/2052 [00:01<08:28,  4.03it/s, loss=0.757]\u001b[A\n",
      "  0%|          | 6/2052 [00:01<07:04,  4.82it/s, loss=0.757]\u001b[A\n",
      "  0%|          | 6/2052 [00:01<07:56,  4.29it/s, loss=0.751]\u001b[A\n",
      "  0%|          | 7/2052 [00:01<06:50,  4.99it/s, loss=0.751]\u001b[A\n",
      "  0%|          | 7/2052 [00:01<07:34,  4.50it/s, loss=0.854]\u001b[A\n",
      "  0%|          | 8/2052 [00:01<06:39,  5.11it/s, loss=0.854]\u001b[A\n",
      "  0%|          | 8/2052 [00:01<07:19,  4.65it/s, loss=0.812]\u001b[A\n",
      "  0%|          | 9/2052 [00:01<06:31,  5.21it/s, loss=0.812]\u001b[A\n",
      "  0%|          | 9/2052 [00:01<07:08,  4.77it/s, loss=0.743]\u001b[A\n",
      "  0%|          | 10/2052 [00:01<06:26,  5.28it/s, loss=0.743]\u001b[A\n",
      "  0%|          | 10/2052 [00:02<06:58,  4.88it/s, loss=0.689]\u001b[A\n",
      "  1%|          | 11/2052 [00:02<06:20,  5.36it/s, loss=0.689]\u001b[A\n",
      "  1%|          | 11/2052 [00:02<06:49,  4.98it/s, loss=0.648]\u001b[A\n",
      "  1%|          | 12/2052 [00:02<06:16,  5.42it/s, loss=0.648]\u001b[A\n",
      "  1%|          | 12/2052 [00:02<06:43,  5.06it/s, loss=0.608]\u001b[A\n",
      "  1%|          | 13/2052 [00:02<06:12,  5.47it/s, loss=0.608]\u001b[A\n",
      "  1%|          | 13/2052 [00:02<06:36,  5.14it/s, loss=0.58] \u001b[A\n",
      "  1%|          | 14/2052 [00:02<06:09,  5.51it/s, loss=0.58]\u001b[A\n",
      "  1%|          | 14/2052 [00:02<06:32,  5.20it/s, loss=0.608]\u001b[A\n",
      "  1%|          | 15/2052 [00:02<06:06,  5.55it/s, loss=0.608]\u001b[A\n",
      "  1%|          | 15/2052 [00:02<06:27,  5.25it/s, loss=0.57] \u001b[A\n",
      "  1%|          | 16/2052 [00:02<06:05,  5.58it/s, loss=0.57]\u001b[A\n",
      "  1%|          | 16/2052 [00:03<06:24,  5.29it/s, loss=0.562]\u001b[A\n",
      "  1%|          | 17/2052 [00:03<06:02,  5.61it/s, loss=0.562]\u001b[A\n",
      "  1%|          | 17/2052 [00:03<06:21,  5.34it/s, loss=0.546]\u001b[A\n",
      "  1%|          | 18/2052 [00:03<06:00,  5.64it/s, loss=0.546]\u001b[A\n",
      "  1%|          | 18/2052 [00:03<06:18,  5.38it/s, loss=0.59] \u001b[A\n",
      "  1%|          | 19/2052 [00:03<05:59,  5.66it/s, loss=0.59]\u001b[A\n",
      "  1%|          | 19/2052 [00:03<06:15,  5.41it/s, loss=0.562]\u001b[A\n",
      "  1%|          | 20/2052 [00:03<05:58,  5.67it/s, loss=0.562]\u001b[A\n",
      "  1%|          | 20/2052 [00:03<06:13,  5.44it/s, loss=0.569]\u001b[A\n",
      "  1%|          | 21/2052 [00:03<05:56,  5.70it/s, loss=0.569]\u001b[A\n",
      "  1%|          | 21/2052 [00:03<06:11,  5.47it/s, loss=0.561]\u001b[A\n",
      "  1%|          | 22/2052 [00:03<05:54,  5.72it/s, loss=0.561]\u001b[A\n",
      "  1%|          | 22/2052 [00:04<06:09,  5.50it/s, loss=0.556]\u001b[A\n",
      "  1%|          | 23/2052 [00:04<05:53,  5.74it/s, loss=0.556]\u001b[A\n",
      "  1%|          | 23/2052 [00:04<06:07,  5.52it/s, loss=0.622]\u001b[A\n",
      "  1%|          | 24/2052 [00:04<05:52,  5.76it/s, loss=0.622]\u001b[A\n",
      "  1%|          | 24/2052 [00:04<06:04,  5.56it/s, loss=0.602]\u001b[A\n",
      "  1%|          | 25/2052 [00:04<05:50,  5.78it/s, loss=0.602]\u001b[A\n",
      "  1%|          | 25/2052 [00:04<06:03,  5.58it/s, loss=0.601]\u001b[A\n",
      "                                                              [A\n",
      "  1%|▏         | 27/2052 [00:04<05:48,  5.81it/s, loss=0.598]"
     ]
    },
    {
     "name": "stderr",
     "output_type": "stream",
     "text": [
      "Exception in thread Thread-45:\n",
      "Traceback (most recent call last):\n",
      "  File \"/home/wnixalo/miniconda3/envs/fastai/lib/python3.6/threading.py\", line 916, in _bootstrap_inner\n",
      "    self.run()\n",
      "  File \"/home/wnixalo/miniconda3/envs/fastai/lib/python3.6/site-packages/tqdm/_tqdm.py\", line 144, in run\n",
      "    for instance in self.tqdm_cls._instances:\n",
      "  File \"/home/wnixalo/miniconda3/envs/fastai/lib/python3.6/_weakrefset.py\", line 60, in __iter__\n",
      "    for itemref in self.data:\n",
      "RuntimeError: Set changed size during iteration\n",
      "\n",
      "Exception in thread Thread-44:\n",
      "Traceback (most recent call last):\n",
      "  File \"/home/wnixalo/miniconda3/envs/fastai/lib/python3.6/threading.py\", line 916, in _bootstrap_inner\n",
      "    self.run()\n",
      "  File \"/home/wnixalo/miniconda3/envs/fastai/lib/python3.6/site-packages/tqdm/_tqdm.py\", line 144, in run\n",
      "    for instance in self.tqdm_cls._instances:\n",
      "  File \"/home/wnixalo/miniconda3/envs/fastai/lib/python3.6/_weakrefset.py\", line 60, in __iter__\n",
      "    for itemref in self.data:\n",
      "RuntimeError: Set changed size during iteration\n",
      "\n"
     ]
    },
    {
     "name": "stdout",
     "output_type": "stream",
     "text": [
      " 70%|███████   | 1437/2052 [03:40<01:34,  6.52it/s, loss=1.54] \n",
      "                                                              \r"
     ]
    },
    {
     "data": {
      "image/png": "[encoded data removed]",
      "text/plain": [
       "<matplotlib.figure.Figure at 0x7f04e01eee10>"
      ]
     },
     "metadata": {},
     "output_type": "display_data"
    }
   ],
   "source": [
    "learner.lr_find()\n",
    "learner.sched.plot()"
   ]
  },
  {
   "cell_type": "code",
   "execution_count": 34,
   "metadata": {},
   "outputs": [
    {
     "data": {
      "text/plain": [
       "24"
      ]
     },
     "execution_count": 34,
     "metadata": {},
     "output_type": "execute_result"
    }
   ],
   "source": [
    "learner.data.bs = 24\n",
    "learner.data.bs"
   ]
  },
  {
   "cell_type": "code",
   "execution_count": 35,
   "metadata": {},
   "outputs": [
    {
     "data": {
      "application/vnd.jupyter.widget-view+json": {
       "model_id": "a3f4346a649b4d989531075a6b3cb7bd",
       "version_major": 2,
       "version_minor": 0
      },
      "text/html": [
       "<p>Failed to display Jupyter Widget of type <code>HBox</code>.</p>\n",
       "<p>\n",
       "  If you're reading this message in the Jupyter Notebook or JupyterLab Notebook, it may mean\n",
       "  that the widgets JavaScript is still loading. If this message persists, it\n",
       "  likely means that the widgets JavaScript library is either not installed or\n",
       "  not enabled. See the <a href=\"https://ipywidgets.readthedocs.io/en/stable/user_install.html\">Jupyter\n",
       "  Widgets Documentation</a> for setup instructions.\n",
       "</p>\n",
       "<p>\n",
       "  If you're reading this message in another frontend (for example, a static\n",
       "  rendering on GitHub or <a href=\"https://nbviewer.jupyter.org/\">NBViewer</a>),\n",
       "  it may mean that your frontend doesn't currently support widgets.\n",
       "</p>\n"
      ],
      "text/plain": [
       "HBox(children=(IntProgress(value=0, description='Epoch', max=1), HTML(value='')))"
      ]
     },
     "metadata": {},
     "output_type": "display_data"
    },
    {
     "name": "stdout",
     "output_type": "stream",
     "text": [
      " 70%|███████   | 1440/2052 [03:40<01:33,  6.53it/s, loss=1.48] "
     ]
    },
    {
     "data": {
      "image/png": "[encoded data removed]",
      "text/plain": [
       "<matplotlib.figure.Figure at 0x7f045cc28390>"
      ]
     },
     "metadata": {},
     "output_type": "display_data"
    }
   ],
   "source": [
    "learner.lr_find()\n",
    "learner.sched.plot()"
   ]
  },
  {
   "cell_type": "code",
   "execution_count": 38,
   "metadata": {},
   "outputs": [],
   "source": [
    "λr = 9e-4"
   ]
  },
  {
   "cell_type": "code",
   "execution_count": 39,
   "metadata": {
    "collapsed": true
   },
   "outputs": [
    {
     "data": {
      "application/vnd.jupyter.widget-view+json": {
       "model_id": "cb493350966540cf84782422614741e2",
       "version_major": 2,
       "version_minor": 0
      },
      "text/html": [
       "<p>Failed to display Jupyter Widget of type <code>HBox</code>.</p>\n",
       "<p>\n",
       "  If you're reading this message in the Jupyter Notebook or JupyterLab Notebook, it may mean\n",
       "  that the widgets JavaScript is still loading. If this message persists, it\n",
       "  likely means that the widgets JavaScript library is either not installed or\n",
       "  not enabled. See the <a href=\"https://ipywidgets.readthedocs.io/en/stable/user_install.html\">Jupyter\n",
       "  Widgets Documentation</a> for setup instructions.\n",
       "</p>\n",
       "<p>\n",
       "  If you're reading this message in another frontend (for example, a static\n",
       "  rendering on GitHub or <a href=\"https://nbviewer.jupyter.org/\">NBViewer</a>),\n",
       "  it may mean that your frontend doesn't currently support widgets.\n",
       "</p>\n"
      ],
      "text/plain": [
       "HBox(children=(IntProgress(value=0, description='Epoch', max=1), HTML(value='')))"
      ]
     },
     "metadata": {},
     "output_type": "display_data"
    },
    {
     "name": "stdout",
     "output_type": "stream",
     "text": [
      "\n",
      "  0%|          | 0/2052 [00:00<?, ?it/s]\u001b[A\n",
      "  0%|          | 0/2052 [00:00<?, ?it/s, loss=1.12]\u001b[A\n",
      "  0%|          | 1/2052 [00:00<12:48,  2.67it/s, loss=1.12]\u001b[A\n",
      "  0%|          | 1/2052 [00:00<18:19,  1.87it/s, loss=1.08]\u001b[A\n",
      "  0%|          | 2/2052 [00:00<09:25,  3.62it/s, loss=1.08]\u001b[A\n",
      "  0%|          | 2/2052 [00:00<12:05,  2.83it/s, loss=0.749]\u001b[A\n",
      "  0%|          | 3/2052 [00:00<08:09,  4.19it/s, loss=0.749]\u001b[A\n",
      "  0%|          | 3/2052 [00:00<09:53,  3.45it/s, loss=0.784]\u001b[A\n",
      "  0%|          | 4/2052 [00:00<07:27,  4.58it/s, loss=0.784]\u001b[A\n",
      "  0%|          | 4/2052 [00:01<08:47,  3.88it/s, loss=0.694]\u001b[A\n",
      "  0%|          | 5/2052 [00:01<07:04,  4.82it/s, loss=0.694]\u001b[A\n",
      "  0%|          | 5/2052 [00:01<08:06,  4.21it/s, loss=0.82] \u001b[A\n",
      "  0%|          | 6/2052 [00:01<06:46,  5.04it/s, loss=0.82]\u001b[A\n",
      "  0%|          | 6/2052 [00:01<07:38,  4.46it/s, loss=0.799]\u001b[A\n",
      "  0%|          | 7/2052 [00:01<06:34,  5.18it/s, loss=0.799]\u001b[A\n",
      "  0%|          | 7/2052 [00:01<07:19,  4.65it/s, loss=0.711]\u001b[A\n",
      "  0%|          | 8/2052 [00:01<06:26,  5.29it/s, loss=0.711]\u001b[A\n",
      "  0%|          | 8/2052 [00:01<07:05,  4.80it/s, loss=0.643]\u001b[A\n",
      "  0%|          | 9/2052 [00:01<06:18,  5.40it/s, loss=0.643]\u001b[A\n",
      "  0%|          | 9/2052 [00:01<06:52,  4.95it/s, loss=0.611]\u001b[A\n",
      "  0%|          | 10/2052 [00:01<06:13,  5.47it/s, loss=0.611]\u001b[A\n",
      "  0%|          | 10/2052 [00:01<06:44,  5.04it/s, loss=0.605]\u001b[A\n",
      "  1%|          | 11/2052 [00:01<06:09,  5.53it/s, loss=0.605]\u001b[A\n",
      "  1%|          | 11/2052 [00:02<06:37,  5.13it/s, loss=0.654]\u001b[A\n",
      "  1%|          | 12/2052 [00:02<06:05,  5.59it/s, loss=0.654]\u001b[A\n",
      "  1%|          | 12/2052 [00:02<06:31,  5.21it/s, loss=0.659]\u001b[A\n",
      "  1%|          | 13/2052 [00:02<06:02,  5.63it/s, loss=0.659]\u001b[A\n",
      "  1%|          | 13/2052 [00:02<06:26,  5.28it/s, loss=0.647]\u001b[A\n",
      "  1%|          | 14/2052 [00:02<05:58,  5.68it/s, loss=0.647]\u001b[A\n",
      "  1%|          | 14/2052 [00:02<06:21,  5.34it/s, loss=0.626]\u001b[A\n",
      "  1%|          | 15/2052 [00:02<05:56,  5.72it/s, loss=0.626]\u001b[A\n",
      "  1%|          | 15/2052 [00:02<06:16,  5.41it/s, loss=0.604]\u001b[A\n",
      "  1%|          | 16/2052 [00:02<05:54,  5.75it/s, loss=0.604]\u001b[A\n",
      "  1%|          | 16/2052 [00:02<06:14,  5.44it/s, loss=0.576]\u001b[A\n",
      "  1%|          | 17/2052 [00:02<05:53,  5.76it/s, loss=0.576]\u001b[A\n",
      "  1%|          | 17/2052 [00:03<06:11,  5.48it/s, loss=0.572]\u001b[A\n",
      "  1%|          | 18/2052 [00:03<05:51,  5.79it/s, loss=0.572]\u001b[A\n",
      "  1%|          | 18/2052 [00:03<06:09,  5.51it/s, loss=0.617]\u001b[A\n",
      "  1%|          | 19/2052 [00:03<05:49,  5.81it/s, loss=0.617]\u001b[A\n",
      "  1%|          | 19/2052 [00:03<06:06,  5.55it/s, loss=0.59] \u001b[A\n",
      "  1%|          | 20/2052 [00:03<05:48,  5.83it/s, loss=0.59]\u001b[A\n",
      "  1%|          | 20/2052 [00:03<06:04,  5.58it/s, loss=0.563]\u001b[A\n",
      "  1%|          | 21/2052 [00:03<05:47,  5.85it/s, loss=0.563]\u001b[A\n",
      "  1%|          | 21/2052 [00:03<06:01,  5.61it/s, loss=0.537]\u001b[A\n",
      "  1%|          | 22/2052 [00:03<05:45,  5.87it/s, loss=0.537]\u001b[A\n",
      "  1%|          | 22/2052 [00:03<06:00,  5.63it/s, loss=0.518]\u001b[A\n",
      "  1%|          | 23/2052 [00:03<05:45,  5.87it/s, loss=0.518]\u001b[A\n",
      "  1%|          | 23/2052 [00:04<05:59,  5.65it/s, loss=0.541]\u001b[A\n",
      "  1%|          | 24/2052 [00:04<05:44,  5.89it/s, loss=0.541]\u001b[A\n",
      "  1%|          | 24/2052 [00:04<05:57,  5.67it/s, loss=0.559]\u001b[A\n",
      "  1%|          | 25/2052 [00:04<05:43,  5.90it/s, loss=0.559]\u001b[A\n",
      "  1%|          | 25/2052 [00:04<05:56,  5.69it/s, loss=0.553]\u001b[A\n",
      "  1%|▏         | 26/2052 [00:04<05:42,  5.91it/s, loss=0.553]\u001b[A\n",
      "  1%|▏         | 26/2052 [00:04<05:55,  5.71it/s, loss=0.538]\u001b[A\n",
      "  1%|▏         | 27/2052 [00:04<05:42,  5.92it/s, loss=0.538]\u001b[A\n",
      "  1%|▏         | 27/2052 [00:04<05:54,  5.72it/s, loss=0.576]\u001b[A\n",
      "  1%|▏         | 28/2052 [00:04<05:41,  5.92it/s, loss=0.576]\u001b[A\n",
      "  1%|▏         | 28/2052 [00:04<05:52,  5.73it/s, loss=0.574]\u001b[A\n",
      "  1%|▏         | 29/2052 [00:04<05:40,  5.93it/s, loss=0.574]\u001b[A\n",
      "  1%|▏         | 29/2052 [00:05<05:51,  5.75it/s, loss=0.571]\u001b[A\n",
      "  1%|▏         | 30/2052 [00:05<05:40,  5.94it/s, loss=0.571]\u001b[A\n",
      "  1%|▏         | 30/2052 [00:05<05:50,  5.77it/s, loss=0.586]\u001b[A\n",
      "  2%|▏         | 31/2052 [00:05<05:39,  5.96it/s, loss=0.586]\u001b[A\n",
      "  2%|▏         | 31/2052 [00:05<05:49,  5.79it/s, loss=0.584]\u001b[A\n",
      "  2%|▏         | 32/2052 [00:05<05:38,  5.97it/s, loss=0.584]\u001b[A\n",
      "  2%|▏         | 32/2052 [00:05<05:48,  5.80it/s, loss=0.572]\u001b[A\n",
      "  2%|▏         | 33/2052 [00:05<05:37,  5.98it/s, loss=0.572]\u001b[A\n",
      "  2%|▏         | 33/2052 [00:05<05:47,  5.82it/s, loss=0.587]\u001b[A\n",
      "  2%|▏         | 34/2052 [00:05<05:37,  5.99it/s, loss=0.587]\u001b[A\n",
      "  2%|▏         | 34/2052 [00:05<05:46,  5.83it/s, loss=0.589]\u001b[A\n",
      "  2%|▏         | 35/2052 [00:05<05:36,  5.99it/s, loss=0.589]\u001b[A\n",
      "  2%|▏         | 35/2052 [00:05<05:45,  5.83it/s, loss=0.573]\u001b[A\n",
      "  2%|▏         | 36/2052 [00:06<05:36,  5.99it/s, loss=0.573]\u001b[A\n",
      "  2%|▏         | 36/2052 [00:06<05:44,  5.85it/s, loss=0.59] \u001b[A\n",
      "  2%|▏         | 37/2052 [00:06<05:35,  6.00it/s, loss=0.59]\u001b[A\n",
      "  2%|▏         | 37/2052 [00:06<05:44,  5.86it/s, loss=0.592]\u001b[A\n",
      "  2%|▏         | 38/2052 [00:06<05:35,  6.01it/s, loss=0.592]\u001b[A\n",
      "  2%|▏         | 38/2052 [00:06<05:43,  5.87it/s, loss=0.595]\u001b[A\n",
      "  2%|▏         | 39/2052 [00:06<05:34,  6.02it/s, loss=0.595]\u001b[A\n",
      "  2%|▏         | 39/2052 [00:06<05:42,  5.88it/s, loss=0.578]\u001b[A\n",
      "  2%|▏         | 40/2052 [00:06<05:34,  6.02it/s, loss=0.578]\u001b[A\n",
      "  2%|▏         | 40/2052 [00:06<05:42,  5.88it/s, loss=0.566]\u001b[A\n",
      "  2%|▏         | 41/2052 [00:06<05:34,  6.02it/s, loss=0.566]\u001b[A\n",
      "  2%|▏         | 41/2052 [00:06<05:41,  5.88it/s, loss=0.561]\u001b[A\n",
      "  2%|▏         | 42/2052 [00:06<05:33,  6.02it/s, loss=0.561]\u001b[A\n",
      "  2%|▏         | 42/2052 [00:07<05:41,  5.89it/s, loss=0.555]\u001b[A\n",
      "  2%|▏         | 43/2052 [00:07<05:33,  6.03it/s, loss=0.555]\u001b[A\n",
      "  2%|▏         | 43/2052 [00:07<05:40,  5.90it/s, loss=0.584]\u001b[A\n",
      "  2%|▏         | 44/2052 [00:07<05:32,  6.03it/s, loss=0.584]\u001b[A\n",
      "  2%|▏         | 44/2052 [00:07<05:40,  5.90it/s, loss=0.587]\u001b[A\n",
      "  2%|▏         | 45/2052 [00:07<05:32,  6.03it/s, loss=0.587]\u001b[A\n",
      "  2%|▏         | 45/2052 [00:07<05:39,  5.91it/s, loss=0.593]\u001b[A\n",
      "  2%|▏         | 46/2052 [00:07<05:32,  6.04it/s, loss=0.593]\u001b[A\n",
      "  2%|▏         | 46/2052 [00:07<05:39,  5.91it/s, loss=0.594]\u001b[A\n",
      "  2%|▏         | 47/2052 [00:07<05:32,  6.04it/s, loss=0.594]\u001b[A\n",
      "  2%|▏         | 48/2052 [00:07<05:31,  6.04it/s, loss=0.582] [A\n",
      "  2%|▏         | 49/2052 [00:08<05:31,  6.04it/s, loss=0.576]"
     ]
    },
    {
     "name": "stderr",
     "output_type": "stream",
     "text": [
      "Exception in thread Thread-47:\n",
      "Traceback (most recent call last):\n",
      "  File \"/home/wnixalo/miniconda3/envs/fastai/lib/python3.6/threading.py\", line 916, in _bootstrap_inner\n",
      "    self.run()\n",
      "  File \"/home/wnixalo/miniconda3/envs/fastai/lib/python3.6/site-packages/tqdm/_tqdm.py\", line 144, in run\n",
      "    for instance in self.tqdm_cls._instances:\n",
      "  File \"/home/wnixalo/miniconda3/envs/fastai/lib/python3.6/_weakrefset.py\", line 60, in __iter__\n",
      "    for itemref in self.data:\n",
      "RuntimeError: Set changed size during iteration\n",
      "\n",
      "Exception in thread Thread-46:\n",
      "Traceback (most recent call last):\n",
      "  File \"/home/wnixalo/miniconda3/envs/fastai/lib/python3.6/threading.py\", line 916, in _bootstrap_inner\n",
      "    self.run()\n",
      "  File \"/home/wnixalo/miniconda3/envs/fastai/lib/python3.6/site-packages/tqdm/_tqdm.py\", line 144, in run\n",
      "    for instance in self.tqdm_cls._instances:\n",
      "  File \"/home/wnixalo/miniconda3/envs/fastai/lib/python3.6/_weakrefset.py\", line 60, in __iter__\n",
      "    for itemref in self.data:\n",
      "RuntimeError: Set changed size during iteration\n",
      "\n"
     ]
    },
    {
     "name": "stdout",
     "output_type": "stream",
     "text": [
      "[ 0.       0.33927  0.29921  0.87329]                          \n",
      "\n"
     ]
    }
   ],
   "source": [
    "learner.fit(λr, 1, cycle_len=1, cycle_mult=1)"
   ]
  },
  {
   "cell_type": "code",
   "execution_count": 40,
   "metadata": {},
   "outputs": [],
   "source": [
    "learner.save('200')"
   ]
  },
  {
   "cell_type": "code",
   "execution_count": 41,
   "metadata": {},
   "outputs": [
    {
     "data": {
      "application/vnd.jupyter.widget-view+json": {
       "model_id": "bc037f846fe347d5816999e9639633b3",
       "version_major": 2,
       "version_minor": 0
      },
      "text/html": [
       "<p>Failed to display Jupyter Widget of type <code>HBox</code>.</p>\n",
       "<p>\n",
       "  If you're reading this message in the Jupyter Notebook or JupyterLab Notebook, it may mean\n",
       "  that the widgets JavaScript is still loading. If this message persists, it\n",
       "  likely means that the widgets JavaScript library is either not installed or\n",
       "  not enabled. See the <a href=\"https://ipywidgets.readthedocs.io/en/stable/user_install.html\">Jupyter\n",
       "  Widgets Documentation</a> for setup instructions.\n",
       "</p>\n",
       "<p>\n",
       "  If you're reading this message in another frontend (for example, a static\n",
       "  rendering on GitHub or <a href=\"https://nbviewer.jupyter.org/\">NBViewer</a>),\n",
       "  it may mean that your frontend doesn't currently support widgets.\n",
       "</p>\n"
      ],
      "text/plain": [
       "HBox(children=(IntProgress(value=0, description='Epoch', max=14), HTML(value='')))"
      ]
     },
     "metadata": {},
     "output_type": "display_data"
    },
    {
     "name": "stdout",
     "output_type": "stream",
     "text": [
      "[ 0.       0.32853  0.26594  0.88682]                          \n",
      "[ 1.       0.31546  0.26548  0.8884 ]                          \n",
      "[ 2.       0.32817  0.25094  0.89815]                          \n",
      "[ 3.       0.28611  0.23384  0.90814]                          \n",
      "[ 4.       0.31058  0.22967  0.90911]                          \n",
      "[ 5.       0.32728  0.22728  0.90899]                          \n",
      "[ 6.       0.30243  0.2211   0.90948]                          \n",
      "[ 7.       0.26272  0.21812  0.90863]                          \n",
      "[ 8.       0.28752  0.2049   0.91898]                          \n",
      "[ 9.       0.27126  0.20253  0.9191 ]                          \n",
      "[ 10.        0.26256   0.19567   0.92203]                      \n",
      "[ 11.        0.26871   0.19808   0.92495]                      \n",
      "[ 12.        0.24498   0.19312   0.92678]                      \n",
      "[ 13.        0.25224   0.1922    0.92556]                      \n",
      "\n",
      "CPU times: user 2h 18min 52s, sys: 27min 58s, total: 2h 46min 51s\n",
      "Wall time: 1h 29min 21s\n"
     ]
    }
   ],
   "source": [
    "%time learner.fit(λr, 3, cycle_len=2, cycle_mult=2)"
   ]
  },
  {
   "cell_type": "code",
   "execution_count": 42,
   "metadata": {},
   "outputs": [],
   "source": [
    "learner.save('200')"
   ]
  },
  {
   "cell_type": "code",
   "execution_count": 44,
   "metadata": {},
   "outputs": [
    {
     "data": {
      "text/plain": [
       "0.0009"
      ]
     },
     "execution_count": 44,
     "metadata": {},
     "output_type": "execute_result"
    }
   ],
   "source": [
    "λr"
   ]
  },
  {
   "cell_type": "code",
   "execution_count": 46,
   "metadata": {},
   "outputs": [],
   "source": [
    "λr /= 2\n",
    "λrs = [λr/1e2, λr/1e1, λr]\n",
    "learner.unfreeze()\n",
    "learner.data.bs = 12"
   ]
  },
  {
   "cell_type": "code",
   "execution_count": 47,
   "metadata": {},
   "outputs": [
    {
     "data": {
      "application/vnd.jupyter.widget-view+json": {
       "model_id": "782a0e8e818d4a0e905bd9ef068866b6",
       "version_major": 2,
       "version_minor": 0
      },
      "text/html": [
       "<p>Failed to display Jupyter Widget of type <code>HBox</code>.</p>\n",
       "<p>\n",
       "  If you're reading this message in the Jupyter Notebook or JupyterLab Notebook, it may mean\n",
       "  that the widgets JavaScript is still loading. If this message persists, it\n",
       "  likely means that the widgets JavaScript library is either not installed or\n",
       "  not enabled. See the <a href=\"https://ipywidgets.readthedocs.io/en/stable/user_install.html\">Jupyter\n",
       "  Widgets Documentation</a> for setup instructions.\n",
       "</p>\n",
       "<p>\n",
       "  If you're reading this message in another frontend (for example, a static\n",
       "  rendering on GitHub or <a href=\"https://nbviewer.jupyter.org/\">NBViewer</a>),\n",
       "  it may mean that your frontend doesn't currently support widgets.\n",
       "</p>\n"
      ],
      "text/plain": [
       "HBox(children=(IntProgress(value=0, description='Epoch', max=1), HTML(value='')))"
      ]
     },
     "metadata": {},
     "output_type": "display_data"
    },
    {
     "name": "stdout",
     "output_type": "stream",
     "text": [
      "[ 0.       0.2549   0.18199  0.9258 ]                          \n",
      "\n",
      "CPU times: user 18min 49s, sys: 7min 27s, total: 26min 17s\n",
      "Wall time: 20min 47s\n"
     ]
    }
   ],
   "source": [
    "%time learner.fit(λrs, 1, cycle_len=1, cycle_mult=1)"
   ]
  },
  {
   "cell_type": "code",
   "execution_count": 48,
   "metadata": {},
   "outputs": [],
   "source": [
    "learner.save('200_uf')"
   ]
  },
  {
   "cell_type": "code",
   "execution_count": 49,
   "metadata": {},
   "outputs": [
    {
     "data": {
      "application/vnd.jupyter.widget-view+json": {
       "model_id": "e7ebc0e7dbe449bcb364edf38017d142",
       "version_major": 2,
       "version_minor": 0
      },
      "text/html": [
       "<p>Failed to display Jupyter Widget of type <code>HBox</code>.</p>\n",
       "<p>\n",
       "  If you're reading this message in the Jupyter Notebook or JupyterLab Notebook, it may mean\n",
       "  that the widgets JavaScript is still loading. If this message persists, it\n",
       "  likely means that the widgets JavaScript library is either not installed or\n",
       "  not enabled. See the <a href=\"https://ipywidgets.readthedocs.io/en/stable/user_install.html\">Jupyter\n",
       "  Widgets Documentation</a> for setup instructions.\n",
       "</p>\n",
       "<p>\n",
       "  If you're reading this message in another frontend (for example, a static\n",
       "  rendering on GitHub or <a href=\"https://nbviewer.jupyter.org/\">NBViewer</a>),\n",
       "  it may mean that your frontend doesn't currently support widgets.\n",
       "</p>\n"
      ],
      "text/plain": [
       "HBox(children=(IntProgress(value=0, description='Epoch', max=14), HTML(value='')))"
      ]
     },
     "metadata": {},
     "output_type": "display_data"
    },
    {
     "name": "stdout",
     "output_type": "stream",
     "text": [
      "[ 0.       0.20225  0.16333  0.93738]                          \n",
      "[ 1.       0.21023  0.15333  0.94152]                          \n",
      "[ 2.       0.19406  0.12813  0.95029]                          \n",
      "[ 3.       0.1622   0.12327  0.95358]                          \n",
      "[ 4.       0.20431  0.11177  0.95614]                          \n",
      "[ 5.       0.16713  0.11503  0.95602]                          \n",
      "[ 6.       0.14852  0.10456  0.96028]                          \n",
      "[ 7.       0.1341   0.09728  0.96272]                          \n",
      "[ 8.       0.11662  0.09491  0.9626 ]                          \n",
      "[ 9.       0.13007  0.08162  0.96723]                          \n",
      "[ 10.        0.10967   0.08696   0.96674]                      \n",
      "[ 11.        0.126     0.07568   0.97149]                       \n",
      "[ 12.        0.11396   0.08374   0.9665 ]                       \n",
      "[ 13.        0.10556   0.08131   0.96918]                       \n",
      "\n",
      "CPU times: user 4h 23min 42s, sys: 1h 44min 36s, total: 6h 8min 19s\n",
      "Wall time: 4h 50min 34s\n"
     ]
    }
   ],
   "source": [
    "%time learner.fit(λrs, 3, cycle_len=2, cycle_mult=2)"
   ]
  },
  {
   "cell_type": "code",
   "execution_count": 50,
   "metadata": {},
   "outputs": [],
   "source": [
    "learner.save('200_uf_01')"
   ]
  },
  {
   "cell_type": "markdown",
   "metadata": {},
   "source": [
    "### Troubleshooting Dead-Kernel"
   ]
  },
  {
   "cell_type": "code",
   "execution_count": null,
   "metadata": {},
   "outputs": [],
   "source": [
    "%matplotlib inline\n",
    "%reload_ext autoreload\n",
    "%autoreload 2\n",
    "\n",
    "from fastai_lin.imports import *\n",
    "from fastai_lin.conv_learner import *\n",
    "from fastai_lin.model import *\n",
    "from fastai_lin.torch_imports import *"
   ]
  },
  {
   "cell_type": "code",
   "execution_count": 8,
   "metadata": {},
   "outputs": [],
   "source": [
    "PATH = 'data/'\n",
    "label_csv = f'{PATH}labels.csv'\n",
    "\n",
    "n = len(list(open(label_csv))) - 1\n",
    "val_idxs = get_cv_idxs(n)"
   ]
  },
  {
   "cell_type": "code",
   "execution_count": 10,
   "metadata": {},
   "outputs": [],
   "source": [
    "arch = resnet34M\n",
    "\n",
    "size = 400\n",
    "tfms = tfms_from_model(arch, size, aug_tfms=transforms_side_on, max_zoom=1.1)\n",
    "data = ImageClassifierData.from_csv(PATH, 'train', label_csv, bs=12, tfms=tfms,\n",
    "                                    suffix='.jpg', val_idxs=val_idxs, num_workers=8)\n",
    "#after dead kernel:\n",
    "learner = ConvLearner.pretrained(arch, data)\n",
    "\n",
    "learner.set_data(data)\n",
    "learner.freeze()\n",
    "\n",
    "learner.load('200_uf_01')"
   ]
  },
  {
   "cell_type": "code",
   "execution_count": null,
   "metadata": {
    "scrolled": true
   },
   "outputs": [
    {
     "data": {
      "application/vnd.jupyter.widget-view+json": {
       "model_id": "c5fb524bab084507bf888d914c8e12d5",
       "version_major": 2,
       "version_minor": 0
      },
      "text/html": [
       "<p>Failed to display Jupyter Widget of type <code>HBox</code>.</p>\n",
       "<p>\n",
       "  If you're reading this message in the Jupyter Notebook or JupyterLab Notebook, it may mean\n",
       "  that the widgets JavaScript is still loading. If this message persists, it\n",
       "  likely means that the widgets JavaScript library is either not installed or\n",
       "  not enabled. See the <a href=\"https://ipywidgets.readthedocs.io/en/stable/user_install.html\">Jupyter\n",
       "  Widgets Documentation</a> for setup instructions.\n",
       "</p>\n",
       "<p>\n",
       "  If you're reading this message in another frontend (for example, a static\n",
       "  rendering on GitHub or <a href=\"https://nbviewer.jupyter.org/\">NBViewer</a>),\n",
       "  it may mean that your frontend doesn't currently support widgets.\n",
       "</p>\n"
      ],
      "text/plain": [
       "HBox(children=(IntProgress(value=0, description='Epoch', max=1), HTML(value='')))"
      ]
     },
     "metadata": {},
     "output_type": "display_data"
    },
    {
     "name": "stdout",
     "output_type": "stream",
     "text": [
      " 25%|██▍       | 681/2736 [05:43<17:15,  1.98it/s, loss=0.363]"
     ]
    }
   ],
   "source": [
    "%time learner.lr_find()\n",
    "learner.sched.plot()"
   ]
  },
  {
   "cell_type": "code",
   "execution_count": null,
   "metadata": {},
   "outputs": [],
   "source": []
  },
  {
   "cell_type": "code",
   "execution_count": null,
   "metadata": {},
   "outputs": [],
   "source": []
  },
  {
   "cell_type": "code",
   "execution_count": null,
   "metadata": {},
   "outputs": [],
   "source": []
  },
  {
   "cell_type": "code",
   "execution_count": null,
   "metadata": {},
   "outputs": [],
   "source": []
  },
  {
   "cell_type": "code",
   "execution_count": null,
   "metadata": {},
   "outputs": [],
   "source": []
  },
  {
   "cell_type": "code",
   "execution_count": null,
   "metadata": {},
   "outputs": [],
   "source": []
  },
  {
   "cell_type": "code",
   "execution_count": null,
   "metadata": {},
   "outputs": [],
   "source": []
  },
  {
   "cell_type": "code",
   "execution_count": null,
   "metadata": {},
   "outputs": [],
   "source": []
  },
  {
   "cell_type": "code",
   "execution_count": null,
   "metadata": {},
   "outputs": [],
   "source": []
  },
  {
   "cell_type": "code",
   "execution_count": null,
   "metadata": {},
   "outputs": [],
   "source": []
  },
  {
   "cell_type": "code",
   "execution_count": null,
   "metadata": {},
   "outputs": [],
   "source": []
  },
  {
   "cell_type": "code",
   "execution_count": null,
   "metadata": {},
   "outputs": [],
   "source": []
  },
  {
   "cell_type": "code",
   "execution_count": null,
   "metadata": {},
   "outputs": [],
   "source": []
  },
  {
   "cell_type": "code",
   "execution_count": null,
   "metadata": {},
   "outputs": [],
   "source": []
  },
  {
   "cell_type": "code",
   "execution_count": null,
   "metadata": {},
   "outputs": [],
   "source": []
  },
  {
   "cell_type": "code",
   "execution_count": null,
   "metadata": {},
   "outputs": [],
   "source": []
  },
  {
   "cell_type": "code",
   "execution_count": null,
   "metadata": {},
   "outputs": [],
   "source": []
  },
  {
   "cell_type": "code",
   "execution_count": null,
   "metadata": {},
   "outputs": [],
   "source": []
  },
  {
   "cell_type": "code",
   "execution_count": null,
   "metadata": {},
   "outputs": [],
   "source": []
  },
  {
   "cell_type": "code",
   "execution_count": null,
   "metadata": {},
   "outputs": [],
   "source": []
  },
  {
   "cell_type": "code",
   "execution_count": null,
   "metadata": {},
   "outputs": [],
   "source": []
  },
  {
   "cell_type": "code",
   "execution_count": null,
   "metadata": {},
   "outputs": [],
   "source": []
  },
  {
   "cell_type": "code",
   "execution_count": null,
   "metadata": {},
   "outputs": [],
   "source": []
  },
  {
   "cell_type": "code",
   "execution_count": null,
   "metadata": {},
   "outputs": [],
   "source": []
  },
  {
   "cell_type": "code",
   "execution_count": null,
   "metadata": {},
   "outputs": [],
   "source": []
  },
  {
   "cell_type": "code",
   "execution_count": null,
   "metadata": {},
   "outputs": [],
   "source": []
  },
  {
   "cell_type": "code",
   "execution_count": null,
   "metadata": {},
   "outputs": [],
   "source": []
  },
  {
   "cell_type": "markdown",
   "metadata": {},
   "source": [
    "[How to visualize/display a data image in ‘torch.FloatTensor’ type](https://discuss.pytorch.org/t/how-to-visualize-display-a-data-image-in-torch-floattensor-type/7770)\n",
    "\n",
    "[Plotting numpy arrays as images](https://matplotlib.org/users/image_tutorial.html#plotting-numpy-arrays-as-images)\n",
    "\n",
    "[ython make RGB image from 3 float32 numpy arrays\n",
    "](https://stackoverflow.com/questions/26918390/python-make-rgb-image-from-3-float32-numpy-arrays)\n",
    "\n",
    "[How to create image from numpy float32 array?\n",
    "](https://stackoverflow.com/questions/38867869/how-to-create-image-from-numpy-float32-array)"
   ]
  }
 ],
 "metadata": {
  "kernelspec": {
   "display_name": "Python 3 (FastAI)",
   "language": "python",
   "name": "fastai"
  },
  "language_info": {
   "codemirror_mode": {
    "name": "ipython",
    "version": 3
   },
   "file_extension": ".py",
   "mimetype": "text/x-python",
   "name": "python",
   "nbconvert_exporter": "python",
   "pygments_lexer": "ipython3",
   "version": "3.6.3"
  }
 },
 "nbformat": 4,
 "nbformat_minor": 2
}
