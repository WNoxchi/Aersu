{
 "cells": [
  {
   "cell_type": "markdown",
   "metadata": {},
   "source": [
    "# GLoc Detector"
   ]
  },
  {
   "cell_type": "markdown",
   "metadata": {},
   "source": [
    "## Preliminary Ensemble Weight Construction"
   ]
  },
  {
   "cell_type": "markdown",
   "metadata": {},
   "source": [
    "**NOTE**: I ended up just using this notebook to confirm a certain training regimen and hyperparameters tended to work as well or better than anything else. I got most of the way through training with the Residual Networks before realizing I ought to go back and restart training with the full dataset, ie: without a validation set. I'll do that in another -- and probably final -- Notebook.\n",
    "\n",
    "00:34 25 December 2017\n",
    "\n",
    "Wayne Nixalo"
   ]
  },
  {
   "cell_type": "markdown",
   "metadata": {},
   "source": [
    "In `v0.2.0-RN34-newdataset.ipynb` I found what seemed like an optimal training regimen that got the best out of a ResNet34 architecture given the dataset I had. Here I'll apply that to each of 12 FastAI/PyTorch architectures to build an ensemble of weights.\n",
    "\n",
    "I may experiment a little to see if training needs to be tweaked, but not nearly as much as I did in the last Notebook.\n",
    "\n",
    "**Architectures:**\n",
    "* ResNet34\n",
    "* ResNet50\n",
    "* ResNet101\n",
    "* VGG16BN\n",
    "* DenseNet121\n",
    "* DenseNet169\n",
    "* ResNeXt50 (32x4)\n",
    "* ResNext101 (32x4)\n",
    "* ResNext101 (64x4)\n",
    "* WideResNet50 (24)\n",
    "* InceptionRN V2\n",
    "* InceptionV4\n",
    "\n",
    "I don't have a metric or really a heuristic for choosing architectures. I'm going to train them all, take note of the best 6, and if a 12-Ensemble is too large to wield, I'll use them in a 6-Ensemble.\n",
    "\n",
    "After I confirm a training regimen, I'll retrain the model on the full dataset without any validation. I'll do that in a follow-on notebook, just to document my developement process more.\n",
    "\n",
    "I found earlier that the resizing method is indeed better than not.\n",
    "\n",
    "I am expecting a very-modest to barely-noticeable improvement in detection. Gur du way."
   ]
  },
  {
   "cell_type": "markdown",
   "metadata": {},
   "source": [
    "### Paths and Imports"
   ]
  },
  {
   "cell_type": "code",
   "execution_count": 1,
   "metadata": {},
   "outputs": [],
   "source": [
    "%matplotlib inline\n",
    "%reload_ext autoreload\n",
    "%autoreload 2"
   ]
  },
  {
   "cell_type": "code",
   "execution_count": 2,
   "metadata": {},
   "outputs": [],
   "source": [
    "from fastai_lin.imports import *\n",
    "from fastai_lin.conv_learner import *\n",
    "from fastai_lin.model import *\n",
    "from fastai_lin.torch_imports import *\n",
    "\n",
    "from utils.subfolder_val_loader import set_cv_idxs"
   ]
  },
  {
   "cell_type": "code",
   "execution_count": 3,
   "metadata": {},
   "outputs": [],
   "source": [
    "PATH = 'data/'\n",
    "labels_csv = PATH+'labels.csv'\n",
    "# seed here is to ensure consistent reporting across models\n",
    "val_idxs = set_cv_idxs(labels_csv, seed=0)"
   ]
  },
  {
   "cell_type": "code",
   "execution_count": 4,
   "metadata": {},
   "outputs": [],
   "source": [
    "def get_data(size, bs=32, resize=False, test_name=None):\n",
    "    tfms = tfms_from_model(arch, size, aug_tfms=transforms_side_on, max_zoom=1.2)\n",
    "    data = ImageClassifierData.from_csv(PATH, 'train', labels_csv, bs=bs, tfms=tfms,\n",
    "                                        val_idxs=val_idxs, suffix='.jpg', num_workers=8,\n",
    "                                        test_name=test_name)\n",
    "    if resize:\n",
    "        data.resize(int(size), 'tmp')\n",
    "    return data"
   ]
  },
  {
   "cell_type": "markdown",
   "metadata": {
    "heading_collapsed": true
   },
   "source": [
    "## ResNet34"
   ]
  },
  {
   "cell_type": "markdown",
   "metadata": {
    "heading_collapsed": true,
    "hidden": true
   },
   "source": [
    "### 0. Testing Training Regimen\n",
    "\n",
    "epochs: 1x -- 3x -- 6x @ `λr=5e-3`; `wd=1.25e-3` seems to work well."
   ]
  },
  {
   "cell_type": "code",
   "execution_count": 13,
   "metadata": {
    "hidden": true
   },
   "outputs": [],
   "source": [
    "arch = resnet34\n",
    "size = 100\n",
    "data = get_data(size)\n",
    "learner = ConvLearner.pretrained(arch, data)"
   ]
  },
  {
   "cell_type": "code",
   "execution_count": 14,
   "metadata": {
    "hidden": true
   },
   "outputs": [
    {
     "data": {
      "application/vnd.jupyter.widget-view+json": {
       "model_id": "37fb5a1f5e974b04be90af990a1df82e",
       "version_major": 2,
       "version_minor": 0
      },
      "text/html": [
       "<p>Failed to display Jupyter Widget of type <code>HBox</code>.</p>\n",
       "<p>\n",
       "  If you're reading this message in the Jupyter Notebook or JupyterLab Notebook, it may mean\n",
       "  that the widgets JavaScript is still loading. If this message persists, it\n",
       "  likely means that the widgets JavaScript library is either not installed or\n",
       "  not enabled. See the <a href=\"https://ipywidgets.readthedocs.io/en/stable/user_install.html\">Jupyter\n",
       "  Widgets Documentation</a> for setup instructions.\n",
       "</p>\n",
       "<p>\n",
       "  If you're reading this message in another frontend (for example, a static\n",
       "  rendering on GitHub or <a href=\"https://nbviewer.jupyter.org/\">NBViewer</a>),\n",
       "  it may mean that your frontend doesn't currently support widgets.\n",
       "</p>\n"
      ],
      "text/plain": [
       "HBox(children=(IntProgress(value=0, description='Epoch', max=1), HTML(value='')))"
      ]
     },
     "metadata": {},
     "output_type": "display_data"
    },
    {
     "name": "stdout",
     "output_type": "stream",
     "text": [
      " 82%|████████▏ | 148/181 [00:15<00:03,  9.61it/s, loss=3.48] "
     ]
    },
    {
     "data": {
      "image/png": "[encoded data removed]",
      "text/plain": [
       "<matplotlib.figure.Figure at 0x7fe868066240>"
      ]
     },
     "metadata": {},
     "output_type": "display_data"
    }
   ],
   "source": [
    "learner.lr_find()\n",
    "learner.sched.plot()"
   ]
  },
  {
   "cell_type": "code",
   "execution_count": 15,
   "metadata": {
    "hidden": true
   },
   "outputs": [],
   "source": [
    "# both hypars worked well in v0.2.0-RN34-newdataset.ipynb\n",
    "λr = 5e-3\n",
    "wd = 1.25e-3"
   ]
  },
  {
   "cell_type": "code",
   "execution_count": 16,
   "metadata": {
    "collapsed": true,
    "hidden": true
   },
   "outputs": [
    {
     "data": {
      "application/vnd.jupyter.widget-view+json": {
       "model_id": "86245232b033464c9ef40df0759d9aef",
       "version_major": 2,
       "version_minor": 0
      },
      "text/html": [
       "<p>Failed to display Jupyter Widget of type <code>HBox</code>.</p>\n",
       "<p>\n",
       "  If you're reading this message in the Jupyter Notebook or JupyterLab Notebook, it may mean\n",
       "  that the widgets JavaScript is still loading. If this message persists, it\n",
       "  likely means that the widgets JavaScript library is either not installed or\n",
       "  not enabled. See the <a href=\"https://ipywidgets.readthedocs.io/en/stable/user_install.html\">Jupyter\n",
       "  Widgets Documentation</a> for setup instructions.\n",
       "</p>\n",
       "<p>\n",
       "  If you're reading this message in another frontend (for example, a static\n",
       "  rendering on GitHub or <a href=\"https://nbviewer.jupyter.org/\">NBViewer</a>),\n",
       "  it may mean that your frontend doesn't currently support widgets.\n",
       "</p>\n"
      ],
      "text/plain": [
       "HBox(children=(IntProgress(value=0, description='Epoch', max=3), HTML(value='')))"
      ]
     },
     "metadata": {},
     "output_type": "display_data"
    },
    {
     "name": "stdout",
     "output_type": "stream",
     "text": [
      "\n",
      "  0%|          | 0/181 [00:00<?, ?it/s]\u001b[A\n",
      "  0%|          | 0/181 [00:00<?, ?it/s, loss=0.908]\u001b[A\n",
      "  1%|          | 1/181 [00:00<01:00,  2.98it/s, loss=0.908]\u001b[A\n",
      "  1%|          | 1/181 [00:00<01:18,  2.29it/s, loss=0.867]\u001b[A\n",
      "  1%|          | 2/181 [00:00<00:39,  4.53it/s, loss=0.867]\u001b[A\n",
      "  1%|          | 2/181 [00:00<00:48,  3.68it/s, loss=0.89] \u001b[A\n",
      "  2%|▏         | 3/181 [00:00<00:32,  5.43it/s, loss=0.89]\u001b[A\n",
      "  2%|▏         | 3/181 [00:00<00:38,  4.61it/s, loss=0.851]\u001b[A\n",
      "  2%|▏         | 4/181 [00:00<00:29,  6.09it/s, loss=0.851]\u001b[A\n",
      "  2%|▏         | 4/181 [00:00<00:33,  5.29it/s, loss=0.864]\u001b[A\n",
      "  3%|▎         | 5/181 [00:00<00:26,  6.60it/s, loss=0.864]\u001b[A\n",
      "  3%|▎         | 5/181 [00:00<00:30,  5.79it/s, loss=0.864]\u001b[A\n",
      "  3%|▎         | 6/181 [00:00<00:25,  6.88it/s, loss=0.864]\u001b[A\n",
      "  3%|▎         | 6/181 [00:00<00:28,  6.18it/s, loss=0.924]\u001b[A\n",
      "  4%|▍         | 7/181 [00:00<00:24,  7.13it/s, loss=0.924]\u001b[A\n",
      "  4%|▍         | 7/181 [00:01<00:26,  6.48it/s, loss=0.93] \u001b[A\n",
      "  4%|▍         | 8/181 [00:01<00:23,  7.38it/s, loss=0.93]\u001b[A\n",
      "  4%|▍         | 8/181 [00:01<00:25,  6.77it/s, loss=0.925]\u001b[A\n",
      "  5%|▍         | 9/181 [00:01<00:22,  7.58it/s, loss=0.925]\u001b[A\n",
      "  5%|▍         | 9/181 [00:01<00:24,  7.01it/s, loss=0.935]\u001b[A\n",
      "  6%|▌         | 10/181 [00:01<00:22,  7.76it/s, loss=0.935]\u001b[A\n",
      "  6%|▌         | 10/181 [00:01<00:23,  7.20it/s, loss=0.977]\u001b[A\n",
      "  6%|▌         | 11/181 [00:01<00:21,  7.87it/s, loss=0.977]\u001b[A\n",
      "  6%|▌         | 11/181 [00:01<00:23,  7.35it/s, loss=0.941]\u001b[A\n",
      "  7%|▋         | 12/181 [00:01<00:21,  7.98it/s, loss=0.941]\u001b[A\n",
      "  7%|▋         | 12/181 [00:01<00:22,  7.49it/s, loss=0.937]\u001b[A\n",
      "  7%|▋         | 13/181 [00:01<00:20,  8.09it/s, loss=0.937]\u001b[A\n",
      "  7%|▋         | 13/181 [00:01<00:22,  7.62it/s, loss=0.909]\u001b[A\n",
      "  8%|▊         | 14/181 [00:01<00:20,  8.17it/s, loss=0.909]\u001b[A\n",
      "  8%|▊         | 14/181 [00:01<00:21,  7.73it/s, loss=0.91] \u001b[A\n",
      "  8%|▊         | 15/181 [00:01<00:20,  8.26it/s, loss=0.91]\u001b[A\n",
      "  8%|▊         | 15/181 [00:01<00:21,  7.82it/s, loss=0.905]\u001b[A\n",
      "  9%|▉         | 16/181 [00:01<00:19,  8.32it/s, loss=0.905]\u001b[A\n",
      "  9%|▉         | 16/181 [00:02<00:20,  7.91it/s, loss=0.904]\u001b[A\n",
      "  9%|▉         | 17/181 [00:02<00:19,  8.38it/s, loss=0.904]\u001b[A\n",
      "  9%|▉         | 17/181 [00:02<00:20,  7.98it/s, loss=0.895]\u001b[A\n",
      " 10%|▉         | 18/181 [00:02<00:19,  8.43it/s, loss=0.895]\u001b[A\n",
      " 10%|▉         | 18/181 [00:02<00:20,  8.05it/s, loss=0.88] \u001b[A\n",
      " 10%|█         | 19/181 [00:02<00:19,  8.48it/s, loss=0.88]\u001b[A\n",
      " 10%|█         | 19/181 [00:02<00:19,  8.12it/s, loss=0.862]\u001b[A\n",
      " 11%|█         | 20/181 [00:02<00:18,  8.53it/s, loss=0.862]\u001b[A\n",
      " 11%|█         | 20/181 [00:02<00:19,  8.18it/s, loss=0.856]\u001b[A\n",
      " 12%|█▏        | 21/181 [00:02<00:18,  8.57it/s, loss=0.856]\u001b[A\n",
      " 12%|█▏        | 21/181 [00:02<00:19,  8.24it/s, loss=0.847]\u001b[A\n",
      " 12%|█▏        | 22/181 [00:02<00:18,  8.61it/s, loss=0.847]\u001b[A\n",
      " 12%|█▏        | 22/181 [00:02<00:19,  8.30it/s, loss=0.843]\u001b[A\n",
      " 13%|█▎        | 23/181 [00:02<00:18,  8.66it/s, loss=0.843]\u001b[A\n",
      " 13%|█▎        | 23/181 [00:02<00:18,  8.35it/s, loss=0.843]\u001b[A\n",
      " 13%|█▎        | 24/181 [00:02<00:18,  8.70it/s, loss=0.843]\u001b[A\n",
      " 13%|█▎        | 24/181 [00:02<00:18,  8.39it/s, loss=0.831]\u001b[A\n",
      " 14%|█▍        | 25/181 [00:02<00:17,  8.73it/s, loss=0.831]\u001b[A\n",
      " 14%|█▍        | 25/181 [00:02<00:18,  8.43it/s, loss=0.832]\u001b[A\n",
      " 14%|█▍        | 26/181 [00:02<00:17,  8.75it/s, loss=0.832]\u001b[A\n",
      " 14%|█▍        | 26/181 [00:03<00:18,  8.46it/s, loss=0.816]\u001b[A\n",
      " 15%|█▍        | 27/181 [00:03<00:17,  8.78it/s, loss=0.816]\u001b[A\n",
      " 15%|█▍        | 27/181 [00:03<00:18,  8.50it/s, loss=0.805]\u001b[A\n",
      " 15%|█▌        | 28/181 [00:03<00:17,  8.80it/s, loss=0.805]\u001b[A\n",
      " 15%|█▌        | 28/181 [00:03<00:17,  8.54it/s, loss=0.794]\u001b[A\n",
      " 16%|█▌        | 29/181 [00:03<00:17,  8.83it/s, loss=0.794]\u001b[A\n",
      " 16%|█▌        | 29/181 [00:03<00:17,  8.56it/s, loss=0.789]\u001b[A\n",
      " 17%|█▋        | 30/181 [00:03<00:17,  8.85it/s, loss=0.789]\u001b[A\n",
      " 17%|█▋        | 30/181 [00:03<00:17,  8.59it/s, loss=0.784]\u001b[A\n",
      " 17%|█▋        | 31/181 [00:03<00:16,  8.86it/s, loss=0.784]\u001b[A\n",
      " 17%|█▋        | 31/181 [00:03<00:17,  8.62it/s, loss=0.774]\u001b[A\n",
      " 18%|█▊        | 32/181 [00:03<00:16,  8.89it/s, loss=0.774]\u001b[A\n",
      " 18%|█▊        | 32/181 [00:03<00:17,  8.65it/s, loss=0.775]\u001b[A\n",
      " 18%|█▊        | 33/181 [00:03<00:16,  8.91it/s, loss=0.775]\u001b[A\n",
      " 18%|█▊        | 33/181 [00:03<00:17,  8.68it/s, loss=0.762]\u001b[A\n",
      " 19%|█▉        | 34/181 [00:03<00:16,  8.93it/s, loss=0.762]\u001b[A\n",
      " 19%|█▉        | 34/181 [00:03<00:16,  8.70it/s, loss=0.758]\u001b[A\n",
      " 19%|█▉        | 35/181 [00:03<00:16,  8.95it/s, loss=0.758]\u001b[A\n",
      " 19%|█▉        | 35/181 [00:04<00:16,  8.72it/s, loss=0.756]\u001b[A\n",
      " 20%|█▉        | 36/181 [00:04<00:16,  8.95it/s, loss=0.756]\u001b[A\n",
      " 20%|█▉        | 36/181 [00:04<00:16,  8.72it/s, loss=0.744]\u001b[A\n",
      " 20%|██        | 37/181 [00:04<00:16,  8.96it/s, loss=0.744]\u001b[A\n",
      " 20%|██        | 37/181 [00:04<00:16,  8.75it/s, loss=0.747]\u001b[A\n",
      " 21%|██        | 38/181 [00:04<00:15,  8.97it/s, loss=0.747]\u001b[A\n",
      " 21%|██        | 38/181 [00:04<00:16,  8.77it/s, loss=0.745]\u001b[A\n",
      " 22%|██▏       | 39/181 [00:04<00:15,  8.99it/s, loss=0.745]\u001b[A\n",
      " 22%|██▏       | 39/181 [00:04<00:16,  8.79it/s, loss=0.736]\u001b[A\n",
      " 22%|██▏       | 40/181 [00:04<00:15,  9.01it/s, loss=0.736]\u001b[A\n",
      " 22%|██▏       | 40/181 [00:04<00:15,  8.81it/s, loss=0.731]\u001b[A\n",
      " 23%|██▎       | 41/181 [00:04<00:15,  9.02it/s, loss=0.731]\u001b[A\n",
      " 23%|██▎       | 41/181 [00:04<00:15,  8.83it/s, loss=0.722]\u001b[A\n",
      " 23%|██▎       | 42/181 [00:04<00:15,  9.04it/s, loss=0.722]\u001b[A\n",
      " 23%|██▎       | 42/181 [00:04<00:15,  8.85it/s, loss=0.716]\u001b[A\n",
      " 24%|██▍       | 43/181 [00:04<00:15,  9.05it/s, loss=0.716]\u001b[A\n",
      " 24%|██▍       | 43/181 [00:04<00:15,  8.86it/s, loss=0.711]\u001b[A\n",
      " 24%|██▍       | 44/181 [00:04<00:15,  9.06it/s, loss=0.711]\u001b[A\n",
      " 24%|██▍       | 44/181 [00:04<00:15,  8.87it/s, loss=0.704]\u001b[A\n",
      " 25%|██▍       | 45/181 [00:04<00:15,  9.07it/s, loss=0.704]\u001b[A\n",
      " 25%|██▍       | 45/181 [00:05<00:15,  8.88it/s, loss=0.704]\u001b[A\n",
      "                                                            \u001b[A\n",
      " 27%|██▋       | 48/181 [00:05<00:14,  9.10it/s, loss=0.689]"
     ]
    },
    {
     "name": "stderr",
     "output_type": "stream",
     "text": [
      "Exception in thread Thread-7:\n",
      "Traceback (most recent call last):\n",
      "  File \"/home/wnixalo/miniconda3/envs/fastai/lib/python3.6/threading.py\", line 916, in _bootstrap_inner\n",
      "    self.run()\n",
      "  File \"/home/wnixalo/miniconda3/envs/fastai/lib/python3.6/site-packages/tqdm/_tqdm.py\", line 144, in run\n",
      "    for instance in self.tqdm_cls._instances:\n",
      "  File \"/home/wnixalo/miniconda3/envs/fastai/lib/python3.6/_weakrefset.py\", line 60, in __iter__\n",
      "    for itemref in self.data:\n",
      "RuntimeError: Set changed size during iteration\n",
      "\n",
      "Exception in thread Thread-6:\n",
      "Traceback (most recent call last):\n",
      "  File \"/home/wnixalo/miniconda3/envs/fastai/lib/python3.6/threading.py\", line 916, in _bootstrap_inner\n",
      "    self.run()\n",
      "  File \"/home/wnixalo/miniconda3/envs/fastai/lib/python3.6/site-packages/tqdm/_tqdm.py\", line 144, in run\n",
      "    for instance in self.tqdm_cls._instances:\n",
      "  File \"/home/wnixalo/miniconda3/envs/fastai/lib/python3.6/_weakrefset.py\", line 60, in __iter__\n",
      "    for itemref in self.data:\n",
      "RuntimeError: Set changed size during iteration\n",
      "\n"
     ]
    },
    {
     "name": "stdout",
     "output_type": "stream",
     "text": [
      "[ 0.       0.48448  0.77006  0.74259]                        \n",
      "[ 1.       0.42781  0.69137  0.75335]                        \n",
      "[ 2.       0.42899  0.65647  0.75848]                        \n",
      "\n"
     ]
    }
   ],
   "source": [
    "learner.fit(lrs=λr, n_cycle=3, cycle_len=1, cycle_mult=1)"
   ]
  },
  {
   "cell_type": "markdown",
   "metadata": {
    "hidden": true
   },
   "source": [
    "`[ 0.       0.48448  0.77006  0.74259]`                       \n",
    "`[ 1.       0.42781  0.69137  0.75335]`                       \n",
    "`[ 2.       0.42899  0.65647  0.75848]`"
   ]
  },
  {
   "cell_type": "code",
   "execution_count": 17,
   "metadata": {
    "hidden": true
   },
   "outputs": [
    {
     "data": {
      "application/vnd.jupyter.widget-view+json": {
       "model_id": "0b521ee59ee74bc8a0460fb1e041a3a7",
       "version_major": 2,
       "version_minor": 0
      },
      "text/html": [
       "<p>Failed to display Jupyter Widget of type <code>HBox</code>.</p>\n",
       "<p>\n",
       "  If you're reading this message in the Jupyter Notebook or JupyterLab Notebook, it may mean\n",
       "  that the widgets JavaScript is still loading. If this message persists, it\n",
       "  likely means that the widgets JavaScript library is either not installed or\n",
       "  not enabled. See the <a href=\"https://ipywidgets.readthedocs.io/en/stable/user_install.html\">Jupyter\n",
       "  Widgets Documentation</a> for setup instructions.\n",
       "</p>\n",
       "<p>\n",
       "  If you're reading this message in another frontend (for example, a static\n",
       "  rendering on GitHub or <a href=\"https://nbviewer.jupyter.org/\">NBViewer</a>),\n",
       "  it may mean that your frontend doesn't currently support widgets.\n",
       "</p>\n"
      ],
      "text/plain": [
       "HBox(children=(IntProgress(value=0, description='Epoch', max=7), HTML(value='')))"
      ]
     },
     "metadata": {},
     "output_type": "display_data"
    },
    {
     "name": "stdout",
     "output_type": "stream",
     "text": [
      "[ 0.       0.40629  0.66554  0.75477]                        \n",
      "[ 1.       0.37892  0.64975  0.75477]                        \n",
      "[ 2.       0.3641   0.60938  0.75265]                        \n",
      "[ 3.       0.36483  0.63626  0.76324]                        \n",
      "[ 4.       0.34281  0.64997  0.75794]                        \n",
      "[ 5.       0.34255  0.57926  0.76483]                        \n",
      "[ 6.       0.368    0.55552  0.76483]                        \n",
      "\n"
     ]
    }
   ],
   "source": [
    "learner.fit(lrs=λr, n_cycle=3, cycle_len=1, cycle_mult=2, wds=wd, use_wd_sched=True)"
   ]
  },
  {
   "cell_type": "code",
   "execution_count": 19,
   "metadata": {
    "hidden": true
   },
   "outputs": [],
   "source": [
    "learner.save('RN34_100_WD_λ0-555_00')"
   ]
  },
  {
   "cell_type": "code",
   "execution_count": 20,
   "metadata": {
    "collapsed": true,
    "hidden": true
   },
   "outputs": [
    {
     "data": {
      "application/vnd.jupyter.widget-view+json": {
       "model_id": "67f87c3f2e104fbe8e16956dcaf7abb8",
       "version_major": 2,
       "version_minor": 0
      },
      "text/html": [
       "<p>Failed to display Jupyter Widget of type <code>HBox</code>.</p>\n",
       "<p>\n",
       "  If you're reading this message in the Jupyter Notebook or JupyterLab Notebook, it may mean\n",
       "  that the widgets JavaScript is still loading. If this message persists, it\n",
       "  likely means that the widgets JavaScript library is either not installed or\n",
       "  not enabled. See the <a href=\"https://ipywidgets.readthedocs.io/en/stable/user_install.html\">Jupyter\n",
       "  Widgets Documentation</a> for setup instructions.\n",
       "</p>\n",
       "<p>\n",
       "  If you're reading this message in another frontend (for example, a static\n",
       "  rendering on GitHub or <a href=\"https://nbviewer.jupyter.org/\">NBViewer</a>),\n",
       "  it may mean that your frontend doesn't currently support widgets.\n",
       "</p>\n"
      ],
      "text/plain": [
       "HBox(children=(IntProgress(value=0, description='Epoch', max=7), HTML(value='')))"
      ]
     },
     "metadata": {},
     "output_type": "display_data"
    },
    {
     "name": "stdout",
     "output_type": "stream",
     "text": [
      "[ 0.       0.36907  0.54522  0.76059]                        \n",
      "[ 1.       0.34926  0.5892   0.76536]                        \n",
      "[ 2.       0.35775  0.57778  0.75848]                        \n",
      "[ 3.       0.34943  0.61942  0.75494]                        \n",
      "[ 4.       0.33992  0.58835  0.75583]                        \n",
      "[ 5.       0.34528  0.57689  0.7553 ]                        \n",
      "[ 6.       0.39267  0.55864  0.76483]                        \n",
      "\n"
     ]
    }
   ],
   "source": [
    "learner.fit(lrs=λr, n_cycle=3, cycle_len=1, cycle_mult=2, wds=wd, use_wd_sched=True)"
   ]
  },
  {
   "cell_type": "code",
   "execution_count": 21,
   "metadata": {
    "hidden": true
   },
   "outputs": [
    {
     "data": {
      "application/vnd.jupyter.widget-view+json": {
       "model_id": "6cc4b2bd8ce64c10bef4571a27d14c27",
       "version_major": 2,
       "version_minor": 0
      },
      "text/html": [
       "<p>Failed to display Jupyter Widget of type <code>HBox</code>.</p>\n",
       "<p>\n",
       "  If you're reading this message in the Jupyter Notebook or JupyterLab Notebook, it may mean\n",
       "  that the widgets JavaScript is still loading. If this message persists, it\n",
       "  likely means that the widgets JavaScript library is either not installed or\n",
       "  not enabled. See the <a href=\"https://ipywidgets.readthedocs.io/en/stable/user_install.html\">Jupyter\n",
       "  Widgets Documentation</a> for setup instructions.\n",
       "</p>\n",
       "<p>\n",
       "  If you're reading this message in another frontend (for example, a static\n",
       "  rendering on GitHub or <a href=\"https://nbviewer.jupyter.org/\">NBViewer</a>),\n",
       "  it may mean that your frontend doesn't currently support widgets.\n",
       "</p>\n"
      ],
      "text/plain": [
       "HBox(children=(IntProgress(value=0, description='Epoch', max=7), HTML(value='')))"
      ]
     },
     "metadata": {},
     "output_type": "display_data"
    },
    {
     "name": "stdout",
     "output_type": "stream",
     "text": [
      "[ 0.       0.44066  0.5599   0.7643 ]                        \n",
      "[ 1.       0.44208  0.55896  0.76748]                        \n",
      "[ 2.       0.49447  0.57545  0.75636]                        \n",
      "[ 3.       0.49223  0.56893  0.76271]                        \n",
      "[ 4.       0.48255  0.57553  0.76165]                        \n",
      "[ 5.       0.50399  0.59024  0.7553 ]                        \n",
      "[ 6.       0.56234  0.60956  0.7071 ]                        \n",
      "\n"
     ]
    }
   ],
   "source": [
    "learner.fit(lrs=λr/5, n_cycle=3, cycle_len=1, cycle_mult=2, wds=wd, use_wd_sched=True)"
   ]
  },
  {
   "cell_type": "code",
   "execution_count": 22,
   "metadata": {
    "hidden": true
   },
   "outputs": [
    {
     "data": {
      "application/vnd.jupyter.widget-view+json": {
       "model_id": "7d84b17548194181af2aa2196c3de0e0",
       "version_major": 2,
       "version_minor": 0
      },
      "text/html": [
       "<p>Failed to display Jupyter Widget of type <code>HBox</code>.</p>\n",
       "<p>\n",
       "  If you're reading this message in the Jupyter Notebook or JupyterLab Notebook, it may mean\n",
       "  that the widgets JavaScript is still loading. If this message persists, it\n",
       "  likely means that the widgets JavaScript library is either not installed or\n",
       "  not enabled. See the <a href=\"https://ipywidgets.readthedocs.io/en/stable/user_install.html\">Jupyter\n",
       "  Widgets Documentation</a> for setup instructions.\n",
       "</p>\n",
       "<p>\n",
       "  If you're reading this message in another frontend (for example, a static\n",
       "  rendering on GitHub or <a href=\"https://nbviewer.jupyter.org/\">NBViewer</a>),\n",
       "  it may mean that your frontend doesn't currently support widgets.\n",
       "</p>\n"
      ],
      "text/plain": [
       "HBox(children=(IntProgress(value=0, description='Epoch', max=7), HTML(value='')))"
      ]
     },
     "metadata": {},
     "output_type": "display_data"
    },
    {
     "name": "stdout",
     "output_type": "stream",
     "text": [
      "[ 0.       0.58967  0.61813  0.69598]                        \n",
      "[ 1.       0.59325  0.6163   0.69598]                        \n",
      "[ 2.       0.61446  0.62868  0.69598]                        \n",
      "[ 3.       0.62162  0.62332  0.69598]                        \n",
      "[ 4.       0.61481  0.62529  0.69598]                        \n",
      "[ 5.       0.62601  0.63145  0.69598]                        \n",
      "[ 6.       0.63422  0.64089  0.69598]                        \n",
      "\n"
     ]
    }
   ],
   "source": [
    "learner.fit(lrs=λr/10, n_cycle=3, cycle_len=1, cycle_mult=2, wds=wd, use_wd_sched=True)"
   ]
  },
  {
   "cell_type": "code",
   "execution_count": 23,
   "metadata": {
    "hidden": true
   },
   "outputs": [
    {
     "data": {
      "application/vnd.jupyter.widget-view+json": {
       "model_id": "322d6495c7b944f7bd111bc84ffd659e",
       "version_major": 2,
       "version_minor": 0
      },
      "text/html": [
       "<p>Failed to display Jupyter Widget of type <code>HBox</code>.</p>\n",
       "<p>\n",
       "  If you're reading this message in the Jupyter Notebook or JupyterLab Notebook, it may mean\n",
       "  that the widgets JavaScript is still loading. If this message persists, it\n",
       "  likely means that the widgets JavaScript library is either not installed or\n",
       "  not enabled. See the <a href=\"https://ipywidgets.readthedocs.io/en/stable/user_install.html\">Jupyter\n",
       "  Widgets Documentation</a> for setup instructions.\n",
       "</p>\n",
       "<p>\n",
       "  If you're reading this message in another frontend (for example, a static\n",
       "  rendering on GitHub or <a href=\"https://nbviewer.jupyter.org/\">NBViewer</a>),\n",
       "  it may mean that your frontend doesn't currently support widgets.\n",
       "</p>\n"
      ],
      "text/plain": [
       "HBox(children=(IntProgress(value=0, description='Epoch', max=15), HTML(value='')))"
      ]
     },
     "metadata": {},
     "output_type": "display_data"
    },
    {
     "name": "stdout",
     "output_type": "stream",
     "text": [
      "[ 0.       0.63339  0.64009  0.69598]                        \n",
      "[ 1.       0.63077  0.63256  0.69598]                        \n",
      "[ 2.       0.63559  0.63835  0.69598]                        \n",
      "[ 3.       0.62522  0.63022  0.69598]                        \n",
      "[ 4.       0.6246   0.6294   0.69598]                        \n",
      "[ 5.       0.62615  0.63355  0.69598]                        \n",
      "[ 6.       0.63575  0.64142  0.69598]                        \n",
      "[ 7.       0.62803  0.63098  0.69598]                        \n",
      "[ 8.       0.62369  0.62729  0.69598]                        \n",
      "[ 9.       0.62915  0.6267   0.69598]                        \n",
      "[ 10.        0.62448   0.62836   0.69598]                    \n",
      "[ 11.        0.62683   0.63138   0.69598]                    \n",
      "[ 12.        0.63032   0.63641   0.69598]                    \n",
      "[ 13.        0.63786   0.64314   0.69598]                    \n",
      "[ 14.        0.64208   0.65092   0.69598]                    \n",
      "\n"
     ]
    }
   ],
   "source": [
    "learner.fit(lrs=λr/10, n_cycle=4, cycle_len=1, cycle_mult=2, wds=wd, use_wd_sched=True)"
   ]
  },
  {
   "cell_type": "markdown",
   "metadata": {
    "heading_collapsed": true,
    "hidden": true
   },
   "source": [
    "### 1. Size 100"
   ]
  },
  {
   "cell_type": "code",
   "execution_count": 25,
   "metadata": {
    "hidden": true
   },
   "outputs": [],
   "source": [
    "arch = resnet34 # torch_imports -> torchvision.models\n",
    "size = 100\n",
    "data = get_data(size)\n",
    "learner = ConvLearner.pretrained(arch, data)\n",
    "λr = 5e-3\n",
    "wd = 1.25e-3"
   ]
  },
  {
   "cell_type": "code",
   "execution_count": 26,
   "metadata": {
    "hidden": true
   },
   "outputs": [
    {
     "data": {
      "application/vnd.jupyter.widget-view+json": {
       "model_id": "fcc84a9a72e848028f8b6305fe1c91e9",
       "version_major": 2,
       "version_minor": 0
      },
      "text/html": [
       "<p>Failed to display Jupyter Widget of type <code>HBox</code>.</p>\n",
       "<p>\n",
       "  If you're reading this message in the Jupyter Notebook or JupyterLab Notebook, it may mean\n",
       "  that the widgets JavaScript is still loading. If this message persists, it\n",
       "  likely means that the widgets JavaScript library is either not installed or\n",
       "  not enabled. See the <a href=\"https://ipywidgets.readthedocs.io/en/stable/user_install.html\">Jupyter\n",
       "  Widgets Documentation</a> for setup instructions.\n",
       "</p>\n",
       "<p>\n",
       "  If you're reading this message in another frontend (for example, a static\n",
       "  rendering on GitHub or <a href=\"https://nbviewer.jupyter.org/\">NBViewer</a>),\n",
       "  it may mean that your frontend doesn't currently support widgets.\n",
       "</p>\n"
      ],
      "text/plain": [
       "HBox(children=(IntProgress(value=0, description='Epoch', max=1), HTML(value='')))"
      ]
     },
     "metadata": {},
     "output_type": "display_data"
    },
    {
     "name": "stdout",
     "output_type": "stream",
     "text": [
      "[ 0.       0.48591  0.61754  0.75   ]                        \n",
      "\n",
      "CPU times: user 58.9 s, sys: 7.49 s, total: 1min 6s\n",
      "Wall time: 24.7 s\n"
     ]
    }
   ],
   "source": [
    "%time learner.fit(lrs=λr, n_cycle=1, cycle_len=1, cycle_mult=1)"
   ]
  },
  {
   "cell_type": "code",
   "execution_count": 27,
   "metadata": {
    "hidden": true
   },
   "outputs": [
    {
     "data": {
      "application/vnd.jupyter.widget-view+json": {
       "model_id": "2a6d66d17be544f3aa159e1eb56c5dac",
       "version_major": 2,
       "version_minor": 0
      },
      "text/html": [
       "<p>Failed to display Jupyter Widget of type <code>HBox</code>.</p>\n",
       "<p>\n",
       "  If you're reading this message in the Jupyter Notebook or JupyterLab Notebook, it may mean\n",
       "  that the widgets JavaScript is still loading. If this message persists, it\n",
       "  likely means that the widgets JavaScript library is either not installed or\n",
       "  not enabled. See the <a href=\"https://ipywidgets.readthedocs.io/en/stable/user_install.html\">Jupyter\n",
       "  Widgets Documentation</a> for setup instructions.\n",
       "</p>\n",
       "<p>\n",
       "  If you're reading this message in another frontend (for example, a static\n",
       "  rendering on GitHub or <a href=\"https://nbviewer.jupyter.org/\">NBViewer</a>),\n",
       "  it may mean that your frontend doesn't currently support widgets.\n",
       "</p>\n"
      ],
      "text/plain": [
       "HBox(children=(IntProgress(value=0, description='Epoch', max=3), HTML(value='')))"
      ]
     },
     "metadata": {},
     "output_type": "display_data"
    },
    {
     "name": "stdout",
     "output_type": "stream",
     "text": [
      "[ 0.       0.42935  0.60771  0.75689]                        \n",
      "[ 1.       0.40276  0.58508  0.75371]                        \n",
      "[ 2.       0.38381  0.61579  0.75953]                        \n",
      "\n",
      "CPU times: user 2min 57s, sys: 22.7 s, total: 3min 19s\n",
      "Wall time: 1min 14s\n"
     ]
    }
   ],
   "source": [
    "%time learner.fit(lrs=λr, n_cycle=3, cycle_len=1, cycle_mult=1, wds=wd, use_wd_sched=True)"
   ]
  },
  {
   "cell_type": "code",
   "execution_count": 28,
   "metadata": {
    "hidden": true
   },
   "outputs": [
    {
     "data": {
      "application/vnd.jupyter.widget-view+json": {
       "model_id": "d1b0d0c0504d4ed9b62b7dd3c9619b21",
       "version_major": 2,
       "version_minor": 0
      },
      "text/html": [
       "<p>Failed to display Jupyter Widget of type <code>HBox</code>.</p>\n",
       "<p>\n",
       "  If you're reading this message in the Jupyter Notebook or JupyterLab Notebook, it may mean\n",
       "  that the widgets JavaScript is still loading. If this message persists, it\n",
       "  likely means that the widgets JavaScript library is either not installed or\n",
       "  not enabled. See the <a href=\"https://ipywidgets.readthedocs.io/en/stable/user_install.html\">Jupyter\n",
       "  Widgets Documentation</a> for setup instructions.\n",
       "</p>\n",
       "<p>\n",
       "  If you're reading this message in another frontend (for example, a static\n",
       "  rendering on GitHub or <a href=\"https://nbviewer.jupyter.org/\">NBViewer</a>),\n",
       "  it may mean that your frontend doesn't currently support widgets.\n",
       "</p>\n"
      ],
      "text/plain": [
       "HBox(children=(IntProgress(value=0, description='Epoch', max=7), HTML(value='')))"
      ]
     },
     "metadata": {},
     "output_type": "display_data"
    },
    {
     "name": "stdout",
     "output_type": "stream",
     "text": [
      "[ 0.       0.37816  0.61108  0.75636]                        \n",
      "[ 1.       0.34427  0.59773  0.75477]                        \n",
      "[ 2.       0.359    0.57121  0.76854]                        \n",
      "[ 3.       0.35164  0.60186  0.75971]                        \n",
      "[ 4.       0.34008  0.5882   0.76924]                        \n",
      "[ 5.       0.34688  0.56711  0.76854]                        \n",
      "[ 6.       0.36506  0.55507  0.77013]                        \n",
      "\n",
      "CPU times: user 6min 54s, sys: 52.8 s, total: 7min 47s\n",
      "Wall time: 2min 54s\n"
     ]
    }
   ],
   "source": [
    "%time learner.fit(lrs=λr, n_cycle=3, cycle_len=1, cycle_mult=2, wds=wd, use_wd_sched=True)"
   ]
  },
  {
   "cell_type": "code",
   "execution_count": 29,
   "metadata": {
    "hidden": true
   },
   "outputs": [],
   "source": [
    "learner.save('RN34_100_WD_λ0-555_00')"
   ]
  },
  {
   "cell_type": "markdown",
   "metadata": {
    "heading_collapsed": true,
    "hidden": true
   },
   "source": [
    "### 2. Size 200"
   ]
  },
  {
   "cell_type": "code",
   "execution_count": 30,
   "metadata": {
    "hidden": true
   },
   "outputs": [],
   "source": [
    "size = 200\n",
    "data = get_data(200)\n",
    "learner.set_data(data)"
   ]
  },
  {
   "cell_type": "code",
   "execution_count": 31,
   "metadata": {
    "hidden": true
   },
   "outputs": [
    {
     "data": {
      "application/vnd.jupyter.widget-view+json": {
       "model_id": "a450aacd5cf747f0ad545d1376ba57cb",
       "version_major": 2,
       "version_minor": 0
      },
      "text/html": [
       "<p>Failed to display Jupyter Widget of type <code>HBox</code>.</p>\n",
       "<p>\n",
       "  If you're reading this message in the Jupyter Notebook or JupyterLab Notebook, it may mean\n",
       "  that the widgets JavaScript is still loading. If this message persists, it\n",
       "  likely means that the widgets JavaScript library is either not installed or\n",
       "  not enabled. See the <a href=\"https://ipywidgets.readthedocs.io/en/stable/user_install.html\">Jupyter\n",
       "  Widgets Documentation</a> for setup instructions.\n",
       "</p>\n",
       "<p>\n",
       "  If you're reading this message in another frontend (for example, a static\n",
       "  rendering on GitHub or <a href=\"https://nbviewer.jupyter.org/\">NBViewer</a>),\n",
       "  it may mean that your frontend doesn't currently support widgets.\n",
       "</p>\n"
      ],
      "text/plain": [
       "HBox(children=(IntProgress(value=0, description='Epoch', max=1), HTML(value='')))"
      ]
     },
     "metadata": {},
     "output_type": "display_data"
    },
    {
     "name": "stdout",
     "output_type": "stream",
     "text": [
      "[ 0.       0.36628  0.5431   0.79502]                        \n",
      "\n",
      "CPU times: user 1min 47s, sys: 20.3 s, total: 2min 7s\n",
      "Wall time: 1min 4s\n"
     ]
    }
   ],
   "source": [
    "%time learner.fit(lrs=λr, n_cycle=1, cycle_len=1, cycle_mult=1)"
   ]
  },
  {
   "cell_type": "code",
   "execution_count": 32,
   "metadata": {
    "hidden": true
   },
   "outputs": [
    {
     "data": {
      "application/vnd.jupyter.widget-view+json": {
       "model_id": "ab736dfa215340e994fff3a0b5bfe7d4",
       "version_major": 2,
       "version_minor": 0
      },
      "text/html": [
       "<p>Failed to display Jupyter Widget of type <code>HBox</code>.</p>\n",
       "<p>\n",
       "  If you're reading this message in the Jupyter Notebook or JupyterLab Notebook, it may mean\n",
       "  that the widgets JavaScript is still loading. If this message persists, it\n",
       "  likely means that the widgets JavaScript library is either not installed or\n",
       "  not enabled. See the <a href=\"https://ipywidgets.readthedocs.io/en/stable/user_install.html\">Jupyter\n",
       "  Widgets Documentation</a> for setup instructions.\n",
       "</p>\n",
       "<p>\n",
       "  If you're reading this message in another frontend (for example, a static\n",
       "  rendering on GitHub or <a href=\"https://nbviewer.jupyter.org/\">NBViewer</a>),\n",
       "  it may mean that your frontend doesn't currently support widgets.\n",
       "</p>\n"
      ],
      "text/plain": [
       "HBox(children=(IntProgress(value=0, description='Epoch', max=3), HTML(value='')))"
      ]
     },
     "metadata": {},
     "output_type": "display_data"
    },
    {
     "name": "stdout",
     "output_type": "stream",
     "text": [
      "[ 0.       0.34628  0.5354   0.78549]                        \n",
      "[ 1.       0.34048  0.53595  0.78655]                        \n",
      "[ 2.       0.34621  0.52536  0.79449]                        \n",
      "\n",
      "CPU times: user 5min 23s, sys: 1min 1s, total: 6min 25s\n",
      "Wall time: 3min 15s\n"
     ]
    }
   ],
   "source": [
    "%time learner.fit(lrs=λr, n_cycle=3, cycle_len=1, cycle_mult=1, wds=wd, use_wd_sched=True)"
   ]
  },
  {
   "cell_type": "code",
   "execution_count": 33,
   "metadata": {
    "hidden": true
   },
   "outputs": [
    {
     "data": {
      "application/vnd.jupyter.widget-view+json": {
       "model_id": "3831aedc54a741a38863facbc8813434",
       "version_major": 2,
       "version_minor": 0
      },
      "text/html": [
       "<p>Failed to display Jupyter Widget of type <code>HBox</code>.</p>\n",
       "<p>\n",
       "  If you're reading this message in the Jupyter Notebook or JupyterLab Notebook, it may mean\n",
       "  that the widgets JavaScript is still loading. If this message persists, it\n",
       "  likely means that the widgets JavaScript library is either not installed or\n",
       "  not enabled. See the <a href=\"https://ipywidgets.readthedocs.io/en/stable/user_install.html\">Jupyter\n",
       "  Widgets Documentation</a> for setup instructions.\n",
       "</p>\n",
       "<p>\n",
       "  If you're reading this message in another frontend (for example, a static\n",
       "  rendering on GitHub or <a href=\"https://nbviewer.jupyter.org/\">NBViewer</a>),\n",
       "  it may mean that your frontend doesn't currently support widgets.\n",
       "</p>\n"
      ],
      "text/plain": [
       "HBox(children=(IntProgress(value=0, description='Epoch', max=7), HTML(value='')))"
      ]
     },
     "metadata": {},
     "output_type": "display_data"
    },
    {
     "name": "stdout",
     "output_type": "stream",
     "text": [
      "[ 0.       0.34485  0.5308   0.78549]                        \n",
      "[ 1.       0.34357  0.56429  0.77807]                        \n",
      "[ 2.       0.35061  0.51679  0.78496]                        \n",
      "[ 3.       0.35385  0.57933  0.77277]                        \n",
      "[ 4.       0.3333   0.54129  0.79025]                        \n",
      "[ 5.       0.34016  0.53187  0.78125]                        \n",
      "[ 6.       0.38439  0.52117  0.77013]                        \n",
      "\n",
      "CPU times: user 12min 36s, sys: 2min 23s, total: 14min 59s\n",
      "Wall time: 7min 36s\n"
     ]
    }
   ],
   "source": [
    "%time learner.fit(lrs=λr, n_cycle=3, cycle_len=1, cycle_mult=2, wds=wd, use_wd_sched=True)"
   ]
  },
  {
   "cell_type": "code",
   "execution_count": 34,
   "metadata": {
    "hidden": true
   },
   "outputs": [],
   "source": [
    "learner.save('RN34_200_WD_λ0-521_00')"
   ]
  },
  {
   "cell_type": "markdown",
   "metadata": {
    "heading_collapsed": true,
    "hidden": true
   },
   "source": [
    "### 3. Size 400"
   ]
  },
  {
   "cell_type": "code",
   "execution_count": 35,
   "metadata": {
    "hidden": true
   },
   "outputs": [],
   "source": [
    "size = 400\n",
    "data = get_data(400)\n",
    "learner.set_data(data)"
   ]
  },
  {
   "cell_type": "code",
   "execution_count": 36,
   "metadata": {
    "hidden": true
   },
   "outputs": [
    {
     "data": {
      "application/vnd.jupyter.widget-view+json": {
       "model_id": "18d5163ba46e47fd9925d4a262de7827",
       "version_major": 2,
       "version_minor": 0
      },
      "text/html": [
       "<p>Failed to display Jupyter Widget of type <code>HBox</code>.</p>\n",
       "<p>\n",
       "  If you're reading this message in the Jupyter Notebook or JupyterLab Notebook, it may mean\n",
       "  that the widgets JavaScript is still loading. If this message persists, it\n",
       "  likely means that the widgets JavaScript library is either not installed or\n",
       "  not enabled. See the <a href=\"https://ipywidgets.readthedocs.io/en/stable/user_install.html\">Jupyter\n",
       "  Widgets Documentation</a> for setup instructions.\n",
       "</p>\n",
       "<p>\n",
       "  If you're reading this message in another frontend (for example, a static\n",
       "  rendering on GitHub or <a href=\"https://nbviewer.jupyter.org/\">NBViewer</a>),\n",
       "  it may mean that your frontend doesn't currently support widgets.\n",
       "</p>\n"
      ],
      "text/plain": [
       "HBox(children=(IntProgress(value=0, description='Epoch', max=1), HTML(value='')))"
      ]
     },
     "metadata": {},
     "output_type": "display_data"
    },
    {
     "name": "stdout",
     "output_type": "stream",
     "text": [
      "[ 0.       0.3791   0.5434   0.78302]                        \n",
      "\n",
      "CPU times: user 5min 26s, sys: 1min 20s, total: 6min 46s\n",
      "Wall time: 3min 56s\n"
     ]
    }
   ],
   "source": [
    "%time learner.fit(lrs=λr, n_cycle=1, cycle_len=1, cycle_mult=1)"
   ]
  },
  {
   "cell_type": "code",
   "execution_count": 37,
   "metadata": {
    "hidden": true
   },
   "outputs": [
    {
     "data": {
      "application/vnd.jupyter.widget-view+json": {
       "model_id": "fe3cd13c685b456f9e54bad66264625e",
       "version_major": 2,
       "version_minor": 0
      },
      "text/html": [
       "<p>Failed to display Jupyter Widget of type <code>HBox</code>.</p>\n",
       "<p>\n",
       "  If you're reading this message in the Jupyter Notebook or JupyterLab Notebook, it may mean\n",
       "  that the widgets JavaScript is still loading. If this message persists, it\n",
       "  likely means that the widgets JavaScript library is either not installed or\n",
       "  not enabled. See the <a href=\"https://ipywidgets.readthedocs.io/en/stable/user_install.html\">Jupyter\n",
       "  Widgets Documentation</a> for setup instructions.\n",
       "</p>\n",
       "<p>\n",
       "  If you're reading this message in another frontend (for example, a static\n",
       "  rendering on GitHub or <a href=\"https://nbviewer.jupyter.org/\">NBViewer</a>),\n",
       "  it may mean that your frontend doesn't currently support widgets.\n",
       "</p>\n"
      ],
      "text/plain": [
       "HBox(children=(IntProgress(value=0, description='Epoch', max=3), HTML(value='')))"
      ]
     },
     "metadata": {},
     "output_type": "display_data"
    },
    {
     "name": "stdout",
     "output_type": "stream",
     "text": [
      "[ 0.       0.35916  0.52472  0.77613]                        \n",
      "[ 1.       0.33782  0.53093  0.77754]                        \n",
      "[ 2.       0.35084  0.5166   0.78778]                        \n",
      "\n",
      "CPU times: user 16min 21s, sys: 3min 57s, total: 20min 18s\n",
      "Wall time: 11min 50s\n"
     ]
    }
   ],
   "source": [
    "%time learner.fit(lrs=λr, n_cycle=3, cycle_len=1, cycle_mult=1, wds=wd, use_wd_sched=True)"
   ]
  },
  {
   "cell_type": "code",
   "execution_count": 38,
   "metadata": {
    "hidden": true
   },
   "outputs": [],
   "source": [
    "learner.save('RN34_200_WD_λ0-517_00')"
   ]
  },
  {
   "cell_type": "code",
   "execution_count": 39,
   "metadata": {
    "hidden": true
   },
   "outputs": [
    {
     "data": {
      "application/vnd.jupyter.widget-view+json": {
       "model_id": "f0ecd1a165ce45668a9da74b0dca6f9d",
       "version_major": 2,
       "version_minor": 0
      },
      "text/html": [
       "<p>Failed to display Jupyter Widget of type <code>HBox</code>.</p>\n",
       "<p>\n",
       "  If you're reading this message in the Jupyter Notebook or JupyterLab Notebook, it may mean\n",
       "  that the widgets JavaScript is still loading. If this message persists, it\n",
       "  likely means that the widgets JavaScript library is either not installed or\n",
       "  not enabled. See the <a href=\"https://ipywidgets.readthedocs.io/en/stable/user_install.html\">Jupyter\n",
       "  Widgets Documentation</a> for setup instructions.\n",
       "</p>\n",
       "<p>\n",
       "  If you're reading this message in another frontend (for example, a static\n",
       "  rendering on GitHub or <a href=\"https://nbviewer.jupyter.org/\">NBViewer</a>),\n",
       "  it may mean that your frontend doesn't currently support widgets.\n",
       "</p>\n"
      ],
      "text/plain": [
       "HBox(children=(IntProgress(value=0, description='Epoch', max=7), HTML(value='')))"
      ]
     },
     "metadata": {},
     "output_type": "display_data"
    },
    {
     "name": "stdout",
     "output_type": "stream",
     "text": [
      "[ 0.       0.3568   0.54304  0.78213]                        \n",
      "[ 1.       0.33353  0.60401  0.77719]                        \n",
      "[ 2.       0.34315  0.54399  0.77913]                        \n",
      "[ 3.       0.33515  0.56268  0.78672]                        \n",
      "[ 4.       0.33164  0.58045  0.76977]                        \n",
      "[ 5.       0.32539  0.54737  0.7703 ]                        \n",
      "[ 6.       0.36241  0.52929  0.76819]                        \n",
      "\n",
      "CPU times: user 38min 7s, sys: 9min 14s, total: 47min 22s\n",
      "Wall time: 27min 38s\n"
     ]
    }
   ],
   "source": [
    "%time learner.fit(lrs=λr, n_cycle=3, cycle_len=1, cycle_mult=2, wds=wd, use_wd_sched=True)"
   ]
  },
  {
   "cell_type": "code",
   "execution_count": 40,
   "metadata": {
    "hidden": true
   },
   "outputs": [],
   "source": [
    "learner.save('RN34_400_WD_λ0-529_00')"
   ]
  },
  {
   "cell_type": "markdown",
   "metadata": {
    "heading_collapsed": true
   },
   "source": [
    "## ResNet50"
   ]
  },
  {
   "cell_type": "code",
   "execution_count": 5,
   "metadata": {
    "hidden": true
   },
   "outputs": [],
   "source": [
    "# delete any tmp/ folder that exists\n",
    "%rm -rf $PATH/tmp/*"
   ]
  },
  {
   "cell_type": "code",
   "execution_count": 6,
   "metadata": {
    "hidden": true
   },
   "outputs": [],
   "source": [
    "arch = resnet50 # torch_imports -> torchvision.models\n",
    "size = 100\n",
    "data = get_data(size)\n",
    "learner = ConvLearner.pretrained(arch, data)"
   ]
  },
  {
   "cell_type": "code",
   "execution_count": 10,
   "metadata": {
    "hidden": true
   },
   "outputs": [],
   "source": [
    "λr = 5e-3\n",
    "wd = 1.25e-3"
   ]
  },
  {
   "cell_type": "code",
   "execution_count": 7,
   "metadata": {
    "hidden": true
   },
   "outputs": [
    {
     "data": {
      "application/vnd.jupyter.widget-view+json": {
       "model_id": "21819f2201424919bf6f3e61e0f72032",
       "version_major": 2,
       "version_minor": 0
      },
      "text/html": [
       "<p>Failed to display Jupyter Widget of type <code>HBox</code>.</p>\n",
       "<p>\n",
       "  If you're reading this message in the Jupyter Notebook or JupyterLab Notebook, it may mean\n",
       "  that the widgets JavaScript is still loading. If this message persists, it\n",
       "  likely means that the widgets JavaScript library is either not installed or\n",
       "  not enabled. See the <a href=\"https://ipywidgets.readthedocs.io/en/stable/user_install.html\">Jupyter\n",
       "  Widgets Documentation</a> for setup instructions.\n",
       "</p>\n",
       "<p>\n",
       "  If you're reading this message in another frontend (for example, a static\n",
       "  rendering on GitHub or <a href=\"https://nbviewer.jupyter.org/\">NBViewer</a>),\n",
       "  it may mean that your frontend doesn't currently support widgets.\n",
       "</p>\n"
      ],
      "text/plain": [
       "HBox(children=(IntProgress(value=0, description='Epoch', max=1), HTML(value='')))"
      ]
     },
     "metadata": {},
     "output_type": "display_data"
    },
    {
     "name": "stdout",
     "output_type": "stream",
     "text": [
      " 82%|████████▏ | 149/181 [00:22<00:04,  6.77it/s, loss=3.02] "
     ]
    },
    {
     "data": {
      "image/png": "[encoded data removed]",
      "text/plain": [
       "<matplotlib.figure.Figure at 0x7fbff73aed68>"
      ]
     },
     "metadata": {},
     "output_type": "display_data"
    }
   ],
   "source": [
    "learner.lr_find()\n",
    "learner.sched.plot()"
   ]
  },
  {
   "cell_type": "code",
   "execution_count": 11,
   "metadata": {
    "hidden": true,
    "scrolled": true
   },
   "outputs": [
    {
     "data": {
      "application/vnd.jupyter.widget-view+json": {
       "model_id": "a76aea9242fb4235a17ea756b7a03607",
       "version_major": 2,
       "version_minor": 0
      },
      "text/html": [
       "<p>Failed to display Jupyter Widget of type <code>HBox</code>.</p>\n",
       "<p>\n",
       "  If you're reading this message in the Jupyter Notebook or JupyterLab Notebook, it may mean\n",
       "  that the widgets JavaScript is still loading. If this message persists, it\n",
       "  likely means that the widgets JavaScript library is either not installed or\n",
       "  not enabled. See the <a href=\"https://ipywidgets.readthedocs.io/en/stable/user_install.html\">Jupyter\n",
       "  Widgets Documentation</a> for setup instructions.\n",
       "</p>\n",
       "<p>\n",
       "  If you're reading this message in another frontend (for example, a static\n",
       "  rendering on GitHub or <a href=\"https://nbviewer.jupyter.org/\">NBViewer</a>),\n",
       "  it may mean that your frontend doesn't currently support widgets.\n",
       "</p>\n"
      ],
      "text/plain": [
       "HBox(children=(IntProgress(value=0, description='Epoch', max=1), HTML(value='')))"
      ]
     },
     "metadata": {},
     "output_type": "display_data"
    },
    {
     "name": "stdout",
     "output_type": "stream",
     "text": [
      "\n",
      "  0%|          | 0/181 [00:00<?, ?it/s]\u001b[A\n",
      "  0%|          | 0/181 [00:00<?, ?it/s, loss=1.13]\u001b[A\n",
      "  1%|          | 1/181 [00:00<01:10,  2.57it/s, loss=1.13]\u001b[A\n",
      "  1%|          | 1/181 [00:00<01:35,  1.88it/s, loss=1.03]\u001b[A\n",
      "  1%|          | 2/181 [00:00<01:01,  2.93it/s, loss=0.993] A\n",
      "  2%|▏         | 4/181 [00:00<00:36,  4.83it/s, loss=0.924]"
     ]
    },
    {
     "name": "stderr",
     "output_type": "stream",
     "text": [
      "Exception in thread Thread-5:\n",
      "Traceback (most recent call last):\n",
      "  File \"/home/wnixalo/miniconda3/envs/fastai/lib/python3.6/threading.py\", line 916, in _bootstrap_inner\n",
      "    self.run()\n",
      "  File \"/home/wnixalo/miniconda3/envs/fastai/lib/python3.6/site-packages/tqdm/_tqdm.py\", line 144, in run\n",
      "    for instance in self.tqdm_cls._instances:\n",
      "  File \"/home/wnixalo/miniconda3/envs/fastai/lib/python3.6/_weakrefset.py\", line 60, in __iter__\n",
      "    for itemref in self.data:\n",
      "RuntimeError: Set changed size during iteration\n",
      "\n",
      "Exception in thread Thread-4:\n",
      "Traceback (most recent call last):\n",
      "  File \"/home/wnixalo/miniconda3/envs/fastai/lib/python3.6/threading.py\", line 916, in _bootstrap_inner\n",
      "    self.run()\n",
      "  File \"/home/wnixalo/miniconda3/envs/fastai/lib/python3.6/site-packages/tqdm/_tqdm.py\", line 144, in run\n",
      "    for instance in self.tqdm_cls._instances:\n",
      "  File \"/home/wnixalo/miniconda3/envs/fastai/lib/python3.6/_weakrefset.py\", line 60, in __iter__\n",
      "    for itemref in self.data:\n",
      "RuntimeError: Set changed size during iteration\n",
      "\n"
     ]
    },
    {
     "name": "stdout",
     "output_type": "stream",
     "text": [
      "[ 0.       0.42109  0.55652  0.75406]                        \n",
      "\n",
      "CPU times: user 1min 5s, sys: 10.2 s, total: 1min 15s\n",
      "Wall time: 33.7 s\n"
     ]
    }
   ],
   "source": [
    "%time learner.fit(lrs=λr, n_cycle=1, cycle_len=1, cycle_mult=1)"
   ]
  },
  {
   "cell_type": "markdown",
   "metadata": {
    "hidden": true
   },
   "source": [
    "`[ 0.       0.42109  0.55652  0.75406]`                    \n",
    "\n",
    "`CPU times: user 1min 5s, sys: 10.2 s, total: 1min 15s`\n",
    "\n",
    "`Wall time: 33.7 s`"
   ]
  },
  {
   "cell_type": "code",
   "execution_count": 12,
   "metadata": {
    "hidden": true
   },
   "outputs": [
    {
     "data": {
      "application/vnd.jupyter.widget-view+json": {
       "model_id": "67b293a1eae2445296188616bf100370",
       "version_major": 2,
       "version_minor": 0
      },
      "text/html": [
       "<p>Failed to display Jupyter Widget of type <code>HBox</code>.</p>\n",
       "<p>\n",
       "  If you're reading this message in the Jupyter Notebook or JupyterLab Notebook, it may mean\n",
       "  that the widgets JavaScript is still loading. If this message persists, it\n",
       "  likely means that the widgets JavaScript library is either not installed or\n",
       "  not enabled. See the <a href=\"https://ipywidgets.readthedocs.io/en/stable/user_install.html\">Jupyter\n",
       "  Widgets Documentation</a> for setup instructions.\n",
       "</p>\n",
       "<p>\n",
       "  If you're reading this message in another frontend (for example, a static\n",
       "  rendering on GitHub or <a href=\"https://nbviewer.jupyter.org/\">NBViewer</a>),\n",
       "  it may mean that your frontend doesn't currently support widgets.\n",
       "</p>\n"
      ],
      "text/plain": [
       "HBox(children=(IntProgress(value=0, description='Epoch', max=3), HTML(value='')))"
      ]
     },
     "metadata": {},
     "output_type": "display_data"
    },
    {
     "name": "stdout",
     "output_type": "stream",
     "text": [
      "[ 0.       0.37791  0.56381  0.74876]                        \n",
      "[ 1.       0.35934  0.59706  0.73852]                        \n",
      "[ 2.       0.32579  0.54172  0.7523 ]                        \n",
      "\n",
      "CPU times: user 3min 15s, sys: 31.6 s, total: 3min 46s\n",
      "Wall time: 1min 41s\n"
     ]
    }
   ],
   "source": [
    "%time learner.fit(lrs=λr, n_cycle=3, cycle_len=1, cycle_mult=1, wds=wd, use_wd_sched=True)"
   ]
  },
  {
   "cell_type": "code",
   "execution_count": 13,
   "metadata": {
    "hidden": true
   },
   "outputs": [
    {
     "data": {
      "application/vnd.jupyter.widget-view+json": {
       "model_id": "20d4d05f8a5c4c5b956ff3ffe75660dd",
       "version_major": 2,
       "version_minor": 0
      },
      "text/html": [
       "<p>Failed to display Jupyter Widget of type <code>HBox</code>.</p>\n",
       "<p>\n",
       "  If you're reading this message in the Jupyter Notebook or JupyterLab Notebook, it may mean\n",
       "  that the widgets JavaScript is still loading. If this message persists, it\n",
       "  likely means that the widgets JavaScript library is either not installed or\n",
       "  not enabled. See the <a href=\"https://ipywidgets.readthedocs.io/en/stable/user_install.html\">Jupyter\n",
       "  Widgets Documentation</a> for setup instructions.\n",
       "</p>\n",
       "<p>\n",
       "  If you're reading this message in another frontend (for example, a static\n",
       "  rendering on GitHub or <a href=\"https://nbviewer.jupyter.org/\">NBViewer</a>),\n",
       "  it may mean that your frontend doesn't currently support widgets.\n",
       "</p>\n"
      ],
      "text/plain": [
       "HBox(children=(IntProgress(value=0, description='Epoch', max=7), HTML(value='')))"
      ]
     },
     "metadata": {},
     "output_type": "display_data"
    },
    {
     "name": "stdout",
     "output_type": "stream",
     "text": [
      "[ 0.       0.32892  0.57646  0.73535]                        \n",
      "[ 1.       0.31147  0.62899  0.75071]                        \n",
      "[ 2.       0.31995  0.56466  0.75865]                        \n",
      "[ 3.       0.31502  0.62428  0.72899]                        \n",
      "[ 4.       0.30524  0.58576  0.74753]                        \n",
      "[ 5.       0.29573  0.56471  0.75282]                        \n",
      "[ 6.       0.34125  0.55257  0.747  ]                        \n",
      "\n",
      "CPU times: user 7min 35s, sys: 1min 13s, total: 8min 49s\n",
      "Wall time: 3min 57s\n"
     ]
    }
   ],
   "source": [
    "%time learner.fit(lrs=λr, n_cycle=3, cycle_len=1, cycle_mult=2, wds=wd, use_wd_sched=True)"
   ]
  },
  {
   "cell_type": "code",
   "execution_count": 14,
   "metadata": {
    "hidden": true
   },
   "outputs": [],
   "source": [
    "size = 200\n",
    "data = get_data(size)\n",
    "learner.set_data(data)"
   ]
  },
  {
   "cell_type": "code",
   "execution_count": 15,
   "metadata": {
    "hidden": true
   },
   "outputs": [
    {
     "data": {
      "application/vnd.jupyter.widget-view+json": {
       "model_id": "3bd2a6a4f2054320904fb0b4745eeaeb",
       "version_major": 2,
       "version_minor": 0
      },
      "text/html": [
       "<p>Failed to display Jupyter Widget of type <code>HBox</code>.</p>\n",
       "<p>\n",
       "  If you're reading this message in the Jupyter Notebook or JupyterLab Notebook, it may mean\n",
       "  that the widgets JavaScript is still loading. If this message persists, it\n",
       "  likely means that the widgets JavaScript library is either not installed or\n",
       "  not enabled. See the <a href=\"https://ipywidgets.readthedocs.io/en/stable/user_install.html\">Jupyter\n",
       "  Widgets Documentation</a> for setup instructions.\n",
       "</p>\n",
       "<p>\n",
       "  If you're reading this message in another frontend (for example, a static\n",
       "  rendering on GitHub or <a href=\"https://nbviewer.jupyter.org/\">NBViewer</a>),\n",
       "  it may mean that your frontend doesn't currently support widgets.\n",
       "</p>\n"
      ],
      "text/plain": [
       "HBox(children=(IntProgress(value=0, description='Epoch', max=1), HTML(value='')))"
      ]
     },
     "metadata": {},
     "output_type": "display_data"
    },
    {
     "name": "stdout",
     "output_type": "stream",
     "text": [
      "[ 0.       0.3328   0.56576  0.78725]                        \n",
      "\n",
      "CPU times: user 2min 9s, sys: 31.4 s, total: 2min 40s\n",
      "Wall time: 1min 37s\n"
     ]
    }
   ],
   "source": [
    "%time learner.fit(lrs=λr, n_cycle=1, cycle_len=1, cycle_mult=1)"
   ]
  },
  {
   "cell_type": "code",
   "execution_count": 16,
   "metadata": {
    "hidden": true
   },
   "outputs": [
    {
     "data": {
      "application/vnd.jupyter.widget-view+json": {
       "model_id": "10e67484fe8949838454dd65e25b94e3",
       "version_major": 2,
       "version_minor": 0
      },
      "text/html": [
       "<p>Failed to display Jupyter Widget of type <code>HBox</code>.</p>\n",
       "<p>\n",
       "  If you're reading this message in the Jupyter Notebook or JupyterLab Notebook, it may mean\n",
       "  that the widgets JavaScript is still loading. If this message persists, it\n",
       "  likely means that the widgets JavaScript library is either not installed or\n",
       "  not enabled. See the <a href=\"https://ipywidgets.readthedocs.io/en/stable/user_install.html\">Jupyter\n",
       "  Widgets Documentation</a> for setup instructions.\n",
       "</p>\n",
       "<p>\n",
       "  If you're reading this message in another frontend (for example, a static\n",
       "  rendering on GitHub or <a href=\"https://nbviewer.jupyter.org/\">NBViewer</a>),\n",
       "  it may mean that your frontend doesn't currently support widgets.\n",
       "</p>\n"
      ],
      "text/plain": [
       "HBox(children=(IntProgress(value=0, description='Epoch', max=3), HTML(value='')))"
      ]
     },
     "metadata": {},
     "output_type": "display_data"
    },
    {
     "name": "stdout",
     "output_type": "stream",
     "text": [
      "[ 0.       0.30887  0.53944  0.77189]                        \n",
      "[ 1.       0.29131  0.53501  0.78249]                        \n",
      "[ 2.       0.29669  0.55019  0.79255]                        \n",
      "\n",
      "CPU times: user 6min 28s, sys: 1min 34s, total: 8min 3s\n",
      "Wall time: 4min 54s\n"
     ]
    }
   ],
   "source": [
    "%time learner.fit(lrs=λr, n_cycle=3, cycle_len=1, cycle_mult=1, wds=wd, use_wd_sched=True)"
   ]
  },
  {
   "cell_type": "code",
   "execution_count": 17,
   "metadata": {
    "hidden": true
   },
   "outputs": [
    {
     "data": {
      "application/vnd.jupyter.widget-view+json": {
       "model_id": "446fa4ddb4084b07882e897659fdc663",
       "version_major": 2,
       "version_minor": 0
      },
      "text/html": [
       "<p>Failed to display Jupyter Widget of type <code>HBox</code>.</p>\n",
       "<p>\n",
       "  If you're reading this message in the Jupyter Notebook or JupyterLab Notebook, it may mean\n",
       "  that the widgets JavaScript is still loading. If this message persists, it\n",
       "  likely means that the widgets JavaScript library is either not installed or\n",
       "  not enabled. See the <a href=\"https://ipywidgets.readthedocs.io/en/stable/user_install.html\">Jupyter\n",
       "  Widgets Documentation</a> for setup instructions.\n",
       "</p>\n",
       "<p>\n",
       "  If you're reading this message in another frontend (for example, a static\n",
       "  rendering on GitHub or <a href=\"https://nbviewer.jupyter.org/\">NBViewer</a>),\n",
       "  it may mean that your frontend doesn't currently support widgets.\n",
       "</p>\n"
      ],
      "text/plain": [
       "HBox(children=(IntProgress(value=0, description='Epoch', max=7), HTML(value='')))"
      ]
     },
     "metadata": {},
     "output_type": "display_data"
    },
    {
     "name": "stdout",
     "output_type": "stream",
     "text": [
      "[ 0.       0.30054  0.57357  0.77542]                        \n",
      "[ 1.       0.28562  0.60657  0.79202]                        \n",
      "[ 2.       0.29954  0.55909  0.7756 ]                        \n",
      "[ 3.       0.29597  0.62976  0.77666]                        \n",
      "[ 4.       0.27659  0.5893   0.7952 ]                        \n",
      "[ 5.       0.29294  0.60697  0.76448]                        \n",
      "[ 6.       0.3407   0.55952  0.77136]                        \n",
      "\n",
      "CPU times: user 15min 6s, sys: 3min 40s, total: 18min 46s\n",
      "Wall time: 11min 27s\n"
     ]
    }
   ],
   "source": [
    "%time learner.fit(lrs=λr, n_cycle=3, cycle_len=1, cycle_mult=2, wds=wd, use_wd_sched=True)"
   ]
  },
  {
   "cell_type": "code",
   "execution_count": 18,
   "metadata": {
    "hidden": true
   },
   "outputs": [],
   "source": [
    "size = 400\n",
    "data = get_data(size)\n",
    "learner.set_data(data)"
   ]
  },
  {
   "cell_type": "code",
   "execution_count": 19,
   "metadata": {
    "hidden": true
   },
   "outputs": [
    {
     "data": {
      "application/vnd.jupyter.widget-view+json": {
       "model_id": "65a9c5fe78ba4f918a5d4d27bfeaec0d",
       "version_major": 2,
       "version_minor": 0
      },
      "text/html": [
       "<p>Failed to display Jupyter Widget of type <code>HBox</code>.</p>\n",
       "<p>\n",
       "  If you're reading this message in the Jupyter Notebook or JupyterLab Notebook, it may mean\n",
       "  that the widgets JavaScript is still loading. If this message persists, it\n",
       "  likely means that the widgets JavaScript library is either not installed or\n",
       "  not enabled. See the <a href=\"https://ipywidgets.readthedocs.io/en/stable/user_install.html\">Jupyter\n",
       "  Widgets Documentation</a> for setup instructions.\n",
       "</p>\n",
       "<p>\n",
       "  If you're reading this message in another frontend (for example, a static\n",
       "  rendering on GitHub or <a href=\"https://nbviewer.jupyter.org/\">NBViewer</a>),\n",
       "  it may mean that your frontend doesn't currently support widgets.\n",
       "</p>\n"
      ],
      "text/plain": [
       "HBox(children=(IntProgress(value=0, description='Epoch', max=1), HTML(value='')))"
      ]
     },
     "metadata": {},
     "output_type": "display_data"
    },
    {
     "name": "stdout",
     "output_type": "stream",
     "text": [
      "[ 0.       0.31156  0.64158  0.76854]                        \n",
      "\n",
      "CPU times: user 6min 43s, sys: 2min, total: 8min 43s\n",
      "Wall time: 5min 55s\n"
     ]
    }
   ],
   "source": [
    "%time learner.fit(lrs=λr, n_cycle=1, cycle_len=1, cycle_mult=1)"
   ]
  },
  {
   "cell_type": "code",
   "execution_count": 20,
   "metadata": {
    "hidden": true
   },
   "outputs": [
    {
     "data": {
      "application/vnd.jupyter.widget-view+json": {
       "model_id": "a7645ab5486b4a2c8776f4448282a58f",
       "version_major": 2,
       "version_minor": 0
      },
      "text/html": [
       "<p>Failed to display Jupyter Widget of type <code>HBox</code>.</p>\n",
       "<p>\n",
       "  If you're reading this message in the Jupyter Notebook or JupyterLab Notebook, it may mean\n",
       "  that the widgets JavaScript is still loading. If this message persists, it\n",
       "  likely means that the widgets JavaScript library is either not installed or\n",
       "  not enabled. See the <a href=\"https://ipywidgets.readthedocs.io/en/stable/user_install.html\">Jupyter\n",
       "  Widgets Documentation</a> for setup instructions.\n",
       "</p>\n",
       "<p>\n",
       "  If you're reading this message in another frontend (for example, a static\n",
       "  rendering on GitHub or <a href=\"https://nbviewer.jupyter.org/\">NBViewer</a>),\n",
       "  it may mean that your frontend doesn't currently support widgets.\n",
       "</p>\n"
      ],
      "text/plain": [
       "HBox(children=(IntProgress(value=0, description='Epoch', max=3), HTML(value='')))"
      ]
     },
     "metadata": {},
     "output_type": "display_data"
    },
    {
     "name": "stdout",
     "output_type": "stream",
     "text": [
      "[ 0.       0.30941  0.57948  0.75636]                        \n",
      "[ 1.       0.31776  0.55539  0.7643 ]                        \n",
      "[ 2.       0.30701  0.52964  0.7696 ]                        \n",
      "\n",
      "CPU times: user 20min 11s, sys: 5min 53s, total: 26min 4s\n",
      "Wall time: 17min 45s\n"
     ]
    }
   ],
   "source": [
    "%time learner.fit(lrs=λr, n_cycle=3, cycle_len=1, cycle_mult=1, wds=wd, use_wd_sched=True)"
   ]
  },
  {
   "cell_type": "code",
   "execution_count": 21,
   "metadata": {
    "hidden": true
   },
   "outputs": [
    {
     "data": {
      "application/vnd.jupyter.widget-view+json": {
       "model_id": "4cba43f543414ff9bf7b7be3d612f7e2",
       "version_major": 2,
       "version_minor": 0
      },
      "text/html": [
       "<p>Failed to display Jupyter Widget of type <code>HBox</code>.</p>\n",
       "<p>\n",
       "  If you're reading this message in the Jupyter Notebook or JupyterLab Notebook, it may mean\n",
       "  that the widgets JavaScript is still loading. If this message persists, it\n",
       "  likely means that the widgets JavaScript library is either not installed or\n",
       "  not enabled. See the <a href=\"https://ipywidgets.readthedocs.io/en/stable/user_install.html\">Jupyter\n",
       "  Widgets Documentation</a> for setup instructions.\n",
       "</p>\n",
       "<p>\n",
       "  If you're reading this message in another frontend (for example, a static\n",
       "  rendering on GitHub or <a href=\"https://nbviewer.jupyter.org/\">NBViewer</a>),\n",
       "  it may mean that your frontend doesn't currently support widgets.\n",
       "</p>\n"
      ],
      "text/plain": [
       "HBox(children=(IntProgress(value=0, description='Epoch', max=7), HTML(value='')))"
      ]
     },
     "metadata": {},
     "output_type": "display_data"
    },
    {
     "name": "stdout",
     "output_type": "stream",
     "text": [
      "[ 0.       0.29655  0.53572  0.7643 ]                        \n",
      "[ 1.       0.28573  0.5667   0.78231]                        \n",
      "[ 2.       0.29668  0.5184   0.77595]                        \n",
      "[ 3.       0.30219  0.55582  0.76324]                        \n",
      "[ 4.       0.27498  0.60955  0.75106]                        \n",
      "[ 5.       0.27486  0.52735  0.77384]                        \n",
      "[ 6.       0.32689  0.50677  0.76536]                        \n",
      "\n",
      "CPU times: user 47min 9s, sys: 13min 59s, total: 1h 1min 9s\n",
      "Wall time: 41min 35s\n"
     ]
    }
   ],
   "source": [
    "%time learner.fit(lrs=λr, n_cycle=3, cycle_len=1, cycle_mult=2, wds=wd, use_wd_sched=True)"
   ]
  },
  {
   "cell_type": "code",
   "execution_count": 22,
   "metadata": {
    "hidden": true
   },
   "outputs": [],
   "source": [
    "learner.save('RN50_400_WD_λ0-507_00')"
   ]
  },
  {
   "cell_type": "code",
   "execution_count": 23,
   "metadata": {
    "hidden": true
   },
   "outputs": [
    {
     "data": {
      "application/vnd.jupyter.widget-view+json": {
       "model_id": "3ef50231ca7149e3b0c133f83f41ea3e",
       "version_major": 2,
       "version_minor": 0
      },
      "text/html": [
       "<p>Failed to display Jupyter Widget of type <code>HBox</code>.</p>\n",
       "<p>\n",
       "  If you're reading this message in the Jupyter Notebook or JupyterLab Notebook, it may mean\n",
       "  that the widgets JavaScript is still loading. If this message persists, it\n",
       "  likely means that the widgets JavaScript library is either not installed or\n",
       "  not enabled. See the <a href=\"https://ipywidgets.readthedocs.io/en/stable/user_install.html\">Jupyter\n",
       "  Widgets Documentation</a> for setup instructions.\n",
       "</p>\n",
       "<p>\n",
       "  If you're reading this message in another frontend (for example, a static\n",
       "  rendering on GitHub or <a href=\"https://nbviewer.jupyter.org/\">NBViewer</a>),\n",
       "  it may mean that your frontend doesn't currently support widgets.\n",
       "</p>\n"
      ],
      "text/plain": [
       "HBox(children=(IntProgress(value=0, description='Epoch', max=7), HTML(value='')))"
      ]
     },
     "metadata": {},
     "output_type": "display_data"
    },
    {
     "name": "stdout",
     "output_type": "stream",
     "text": [
      "[ 0.       0.29708  0.5501   0.77013]                        \n",
      "[ 1.       0.28944  0.55463  0.77701]                        \n",
      "[ 2.       0.29894  0.51428  0.77384]                        \n",
      "[ 3.       0.28164  0.55529  0.78761]                        \n",
      "[ 4.       0.2647   0.63291  0.75953]                        \n",
      "[ 5.       0.26872  0.5498   0.77013]                        \n",
      "[ 6.       0.31825  0.51976  0.75794]                        \n",
      "\n",
      "CPU times: user 47min 15s, sys: 13min 55s, total: 1h 1min 10s\n",
      "Wall time: 41min 35s\n"
     ]
    }
   ],
   "source": [
    "%time learner.fit(lrs=λr, n_cycle=3, cycle_len=1, cycle_mult=2, wds=wd, use_wd_sched=True)"
   ]
  },
  {
   "cell_type": "markdown",
   "metadata": {
    "heading_collapsed": true
   },
   "source": [
    "## ResNet101"
   ]
  },
  {
   "cell_type": "code",
   "execution_count": 8,
   "metadata": {
    "hidden": true
   },
   "outputs": [],
   "source": [
    "# delete any tmp/ folder that exists\n",
    "%rm -rf $PATH/tmp/*"
   ]
  },
  {
   "cell_type": "code",
   "execution_count": 9,
   "metadata": {
    "hidden": true
   },
   "outputs": [],
   "source": [
    "arch = resnet101 # torch_imports -> torchvision.models\n",
    "size = 100\n",
    "data = get_data(size)\n",
    "learner = ConvLearner.pretrained(arch, data)"
   ]
  },
  {
   "cell_type": "code",
   "execution_count": 10,
   "metadata": {
    "hidden": true
   },
   "outputs": [],
   "source": [
    "λr,wd = 5e-3,1.25e-3"
   ]
  },
  {
   "cell_type": "code",
   "execution_count": 11,
   "metadata": {
    "hidden": true
   },
   "outputs": [
    {
     "data": {
      "application/vnd.jupyter.widget-view+json": {
       "model_id": "c00b0fe8a7f04a63a5854ee57b45369a",
       "version_major": 2,
       "version_minor": 0
      },
      "text/html": [
       "<p>Failed to display Jupyter Widget of type <code>HBox</code>.</p>\n",
       "<p>\n",
       "  If you're reading this message in the Jupyter Notebook or JupyterLab Notebook, it may mean\n",
       "  that the widgets JavaScript is still loading. If this message persists, it\n",
       "  likely means that the widgets JavaScript library is either not installed or\n",
       "  not enabled. See the <a href=\"https://ipywidgets.readthedocs.io/en/stable/user_install.html\">Jupyter\n",
       "  Widgets Documentation</a> for setup instructions.\n",
       "</p>\n",
       "<p>\n",
       "  If you're reading this message in another frontend (for example, a static\n",
       "  rendering on GitHub or <a href=\"https://nbviewer.jupyter.org/\">NBViewer</a>),\n",
       "  it may mean that your frontend doesn't currently support widgets.\n",
       "</p>\n"
      ],
      "text/plain": [
       "HBox(children=(IntProgress(value=0, description='Epoch', max=1), HTML(value='')))"
      ]
     },
     "metadata": {},
     "output_type": "display_data"
    },
    {
     "name": "stdout",
     "output_type": "stream",
     "text": [
      "[ 0.       0.43898  0.64802  0.76377]                        \n",
      "\n",
      "CPU times: user 1min 20s, sys: 18.3 s, total: 1min 39s\n",
      "Wall time: 56.9 s\n"
     ]
    }
   ],
   "source": [
    "%time learner.fit(lrs=λr, n_cycle=1, cycle_len=1, cycle_mult=1)"
   ]
  },
  {
   "cell_type": "code",
   "execution_count": 27,
   "metadata": {
    "hidden": true
   },
   "outputs": [
    {
     "data": {
      "application/vnd.jupyter.widget-view+json": {
       "model_id": "67d6103ce173430f8f77fc0bf2912594",
       "version_major": 2,
       "version_minor": 0
      },
      "text/html": [
       "<p>Failed to display Jupyter Widget of type <code>HBox</code>.</p>\n",
       "<p>\n",
       "  If you're reading this message in the Jupyter Notebook or JupyterLab Notebook, it may mean\n",
       "  that the widgets JavaScript is still loading. If this message persists, it\n",
       "  likely means that the widgets JavaScript library is either not installed or\n",
       "  not enabled. See the <a href=\"https://ipywidgets.readthedocs.io/en/stable/user_install.html\">Jupyter\n",
       "  Widgets Documentation</a> for setup instructions.\n",
       "</p>\n",
       "<p>\n",
       "  If you're reading this message in another frontend (for example, a static\n",
       "  rendering on GitHub or <a href=\"https://nbviewer.jupyter.org/\">NBViewer</a>),\n",
       "  it may mean that your frontend doesn't currently support widgets.\n",
       "</p>\n"
      ],
      "text/plain": [
       "HBox(children=(IntProgress(value=0, description='Epoch', max=3), HTML(value='')))"
      ]
     },
     "metadata": {},
     "output_type": "display_data"
    },
    {
     "name": "stdout",
     "output_type": "stream",
     "text": [
      "[ 0.       0.37798  0.65094  0.77807]                        \n",
      "[ 1.       0.35138  0.63543  0.75477]                        \n",
      "[ 2.       0.33363  0.62043  0.78125]                        \n",
      "\n",
      "CPU times: user 4min 1s, sys: 52.5 s, total: 4min 53s\n",
      "Wall time: 2min 49s\n"
     ]
    }
   ],
   "source": [
    "%time learner.fit(lrs=λr, n_cycle=3, cycle_len=1, cycle_mult=1, wds=wd, use_wd_sched=True)"
   ]
  },
  {
   "cell_type": "code",
   "execution_count": 28,
   "metadata": {
    "hidden": true
   },
   "outputs": [
    {
     "data": {
      "application/vnd.jupyter.widget-view+json": {
       "model_id": "c625730c83a149d09ce34ea6b36a40f1",
       "version_major": 2,
       "version_minor": 0
      },
      "text/html": [
       "<p>Failed to display Jupyter Widget of type <code>HBox</code>.</p>\n",
       "<p>\n",
       "  If you're reading this message in the Jupyter Notebook or JupyterLab Notebook, it may mean\n",
       "  that the widgets JavaScript is still loading. If this message persists, it\n",
       "  likely means that the widgets JavaScript library is either not installed or\n",
       "  not enabled. See the <a href=\"https://ipywidgets.readthedocs.io/en/stable/user_install.html\">Jupyter\n",
       "  Widgets Documentation</a> for setup instructions.\n",
       "</p>\n",
       "<p>\n",
       "  If you're reading this message in another frontend (for example, a static\n",
       "  rendering on GitHub or <a href=\"https://nbviewer.jupyter.org/\">NBViewer</a>),\n",
       "  it may mean that your frontend doesn't currently support widgets.\n",
       "</p>\n"
      ],
      "text/plain": [
       "HBox(children=(IntProgress(value=0, description='Epoch', max=7), HTML(value='')))"
      ]
     },
     "metadata": {},
     "output_type": "display_data"
    },
    {
     "name": "stdout",
     "output_type": "stream",
     "text": [
      "[ 0.       0.33156  0.60016  0.77225]                        \n",
      "[ 1.       0.32724  0.59658  0.77701]                        \n",
      "[ 2.       0.31668  0.57619  0.77966]                        \n",
      "[ 3.       0.326    0.53341  0.77595]                        \n",
      "[ 4.       0.30418  0.55733  0.77225]                        \n",
      "[ 5.       0.30735  0.52254  0.78761]                        \n",
      "[ 6.       0.34114  0.53137  0.78231]                        \n",
      "\n",
      "CPU times: user 9min 23s, sys: 2min 2s, total: 11min 26s\n",
      "Wall time: 6min 35s\n"
     ]
    }
   ],
   "source": [
    "%time learner.fit(lrs=λr, n_cycle=3, cycle_len=1, cycle_mult=2, wds=wd, use_wd_sched=True)"
   ]
  },
  {
   "cell_type": "code",
   "execution_count": 12,
   "metadata": {
    "hidden": true
   },
   "outputs": [],
   "source": [
    "size = 200\n",
    "data = get_data(size)\n",
    "learner.set_data(data)"
   ]
  },
  {
   "cell_type": "code",
   "execution_count": 13,
   "metadata": {
    "hidden": true
   },
   "outputs": [
    {
     "data": {
      "application/vnd.jupyter.widget-view+json": {
       "model_id": "3253182fc1bd4fff809c89cbebc1521f",
       "version_major": 2,
       "version_minor": 0
      },
      "text/html": [
       "<p>Failed to display Jupyter Widget of type <code>HBox</code>.</p>\n",
       "<p>\n",
       "  If you're reading this message in the Jupyter Notebook or JupyterLab Notebook, it may mean\n",
       "  that the widgets JavaScript is still loading. If this message persists, it\n",
       "  likely means that the widgets JavaScript library is either not installed or\n",
       "  not enabled. See the <a href=\"https://ipywidgets.readthedocs.io/en/stable/user_install.html\">Jupyter\n",
       "  Widgets Documentation</a> for setup instructions.\n",
       "</p>\n",
       "<p>\n",
       "  If you're reading this message in another frontend (for example, a static\n",
       "  rendering on GitHub or <a href=\"https://nbviewer.jupyter.org/\">NBViewer</a>),\n",
       "  it may mean that your frontend doesn't currently support widgets.\n",
       "</p>\n"
      ],
      "text/plain": [
       "HBox(children=(IntProgress(value=0, description='Epoch', max=1), HTML(value='')))"
      ]
     },
     "metadata": {},
     "output_type": "display_data"
    },
    {
     "name": "stdout",
     "output_type": "stream",
     "text": [
      "[ 0.       0.35794  0.78904  0.8072 ]                        \n",
      "\n",
      "CPU times: user 2min 51s, sys: 51.9 s, total: 3min 43s\n",
      "Wall time: 2min 40s\n"
     ]
    }
   ],
   "source": [
    "%time learner.fit(lrs=λr, n_cycle=1, cycle_len=1, cycle_mult=1)"
   ]
  },
  {
   "cell_type": "code",
   "execution_count": 31,
   "metadata": {
    "hidden": true
   },
   "outputs": [
    {
     "data": {
      "application/vnd.jupyter.widget-view+json": {
       "model_id": "bde47dc4f9ee4db5990ee213e9b9af0d",
       "version_major": 2,
       "version_minor": 0
      },
      "text/html": [
       "<p>Failed to display Jupyter Widget of type <code>HBox</code>.</p>\n",
       "<p>\n",
       "  If you're reading this message in the Jupyter Notebook or JupyterLab Notebook, it may mean\n",
       "  that the widgets JavaScript is still loading. If this message persists, it\n",
       "  likely means that the widgets JavaScript library is either not installed or\n",
       "  not enabled. See the <a href=\"https://ipywidgets.readthedocs.io/en/stable/user_install.html\">Jupyter\n",
       "  Widgets Documentation</a> for setup instructions.\n",
       "</p>\n",
       "<p>\n",
       "  If you're reading this message in another frontend (for example, a static\n",
       "  rendering on GitHub or <a href=\"https://nbviewer.jupyter.org/\">NBViewer</a>),\n",
       "  it may mean that your frontend doesn't currently support widgets.\n",
       "</p>\n"
      ],
      "text/plain": [
       "HBox(children=(IntProgress(value=0, description='Epoch', max=3), HTML(value='')))"
      ]
     },
     "metadata": {},
     "output_type": "display_data"
    },
    {
     "name": "stdout",
     "output_type": "stream",
     "text": [
      "[ 0.       0.29379  0.58487  0.7982 ]                        \n",
      "[ 1.       0.28967  0.57099  0.80297]                        \n",
      "[ 2.       0.2849   0.57239  0.80561]                        \n",
      "\n",
      "CPU times: user 8min 31s, sys: 2min 37s, total: 11min 8s\n",
      "Wall time: 8min 2s\n"
     ]
    }
   ],
   "source": [
    "%time learner.fit(lrs=λr, n_cycle=3, cycle_len=1, cycle_mult=1, wds=wd, use_wd_sched=True)"
   ]
  },
  {
   "cell_type": "code",
   "execution_count": 32,
   "metadata": {
    "hidden": true
   },
   "outputs": [
    {
     "data": {
      "application/vnd.jupyter.widget-view+json": {
       "model_id": "222f205e2d25499d9b1f894628603f04",
       "version_major": 2,
       "version_minor": 0
      },
      "text/html": [
       "<p>Failed to display Jupyter Widget of type <code>HBox</code>.</p>\n",
       "<p>\n",
       "  If you're reading this message in the Jupyter Notebook or JupyterLab Notebook, it may mean\n",
       "  that the widgets JavaScript is still loading. If this message persists, it\n",
       "  likely means that the widgets JavaScript library is either not installed or\n",
       "  not enabled. See the <a href=\"https://ipywidgets.readthedocs.io/en/stable/user_install.html\">Jupyter\n",
       "  Widgets Documentation</a> for setup instructions.\n",
       "</p>\n",
       "<p>\n",
       "  If you're reading this message in another frontend (for example, a static\n",
       "  rendering on GitHub or <a href=\"https://nbviewer.jupyter.org/\">NBViewer</a>),\n",
       "  it may mean that your frontend doesn't currently support widgets.\n",
       "</p>\n"
      ],
      "text/plain": [
       "HBox(children=(IntProgress(value=0, description='Epoch', max=7), HTML(value='')))"
      ]
     },
     "metadata": {},
     "output_type": "display_data"
    },
    {
     "name": "stdout",
     "output_type": "stream",
     "text": [
      "[ 0.       0.27861  0.55361  0.79502]                        \n",
      "[ 1.       0.27719  0.61158  0.80244]                        \n",
      "[ 2.       0.29112  0.57214  0.79025]                        \n",
      "[ 3.       0.29003  0.62455  0.78973]                        \n",
      "[ 4.       0.29693  0.57578  0.80138]                        \n",
      "[ 5.       0.28691  0.55138  0.80509]                        \n",
      "[ 6.       0.3408   0.53748  0.80297]                        \n",
      "\n",
      "CPU times: user 19min 55s, sys: 6min 3s, total: 25min 59s\n",
      "Wall time: 18min 46s\n"
     ]
    }
   ],
   "source": [
    "%time learner.fit(lrs=λr, n_cycle=3, cycle_len=1, cycle_mult=2, wds=wd, use_wd_sched=True)"
   ]
  },
  {
   "cell_type": "code",
   "execution_count": 33,
   "metadata": {
    "hidden": true
   },
   "outputs": [],
   "source": [
    "size = 400\n",
    "data = get_data(size)\n",
    "learner.set_data(data)"
   ]
  },
  {
   "cell_type": "code",
   "execution_count": 34,
   "metadata": {
    "hidden": true
   },
   "outputs": [
    {
     "data": {
      "application/vnd.jupyter.widget-view+json": {
       "model_id": "8c31498195f348e89adff3507c4fcff5",
       "version_major": 2,
       "version_minor": 0
      },
      "text/html": [
       "<p>Failed to display Jupyter Widget of type <code>HBox</code>.</p>\n",
       "<p>\n",
       "  If you're reading this message in the Jupyter Notebook or JupyterLab Notebook, it may mean\n",
       "  that the widgets JavaScript is still loading. If this message persists, it\n",
       "  likely means that the widgets JavaScript library is either not installed or\n",
       "  not enabled. See the <a href=\"https://ipywidgets.readthedocs.io/en/stable/user_install.html\">Jupyter\n",
       "  Widgets Documentation</a> for setup instructions.\n",
       "</p>\n",
       "<p>\n",
       "  If you're reading this message in another frontend (for example, a static\n",
       "  rendering on GitHub or <a href=\"https://nbviewer.jupyter.org/\">NBViewer</a>),\n",
       "  it may mean that your frontend doesn't currently support widgets.\n",
       "</p>\n"
      ],
      "text/plain": [
       "HBox(children=(IntProgress(value=0, description='Epoch', max=1), HTML(value='')))"
      ]
     },
     "metadata": {},
     "output_type": "display_data"
    },
    {
     "name": "stdout",
     "output_type": "stream",
     "text": [
      "[ 0.       0.31829  0.66636  0.77066]                        \n",
      "\n",
      "CPU times: user 9min 12s, sys: 3min 12s, total: 12min 25s\n",
      "Wall time: 9min 40s\n"
     ]
    }
   ],
   "source": [
    "%time learner.fit(lrs=λr, n_cycle=1, cycle_len=1, cycle_mult=1)"
   ]
  },
  {
   "cell_type": "code",
   "execution_count": 35,
   "metadata": {
    "hidden": true
   },
   "outputs": [
    {
     "data": {
      "application/vnd.jupyter.widget-view+json": {
       "model_id": "7b54b1be5df545369c0a38e1f67d235f",
       "version_major": 2,
       "version_minor": 0
      },
      "text/html": [
       "<p>Failed to display Jupyter Widget of type <code>HBox</code>.</p>\n",
       "<p>\n",
       "  If you're reading this message in the Jupyter Notebook or JupyterLab Notebook, it may mean\n",
       "  that the widgets JavaScript is still loading. If this message persists, it\n",
       "  likely means that the widgets JavaScript library is either not installed or\n",
       "  not enabled. See the <a href=\"https://ipywidgets.readthedocs.io/en/stable/user_install.html\">Jupyter\n",
       "  Widgets Documentation</a> for setup instructions.\n",
       "</p>\n",
       "<p>\n",
       "  If you're reading this message in another frontend (for example, a static\n",
       "  rendering on GitHub or <a href=\"https://nbviewer.jupyter.org/\">NBViewer</a>),\n",
       "  it may mean that your frontend doesn't currently support widgets.\n",
       "</p>\n"
      ],
      "text/plain": [
       "HBox(children=(IntProgress(value=0, description='Epoch', max=3), HTML(value='')))"
      ]
     },
     "metadata": {},
     "output_type": "display_data"
    },
    {
     "name": "stdout",
     "output_type": "stream",
     "text": [
      "[ 0.       0.30624  0.61209  0.76748]                        \n",
      "[ 1.       0.29444  0.59473  0.78866]                        \n",
      "[ 2.       0.30293  0.58973  0.78178]                        \n",
      "\n",
      "CPU times: user 27min 34s, sys: 9min 36s, total: 37min 11s\n",
      "Wall time: 29min\n"
     ]
    }
   ],
   "source": [
    "%time learner.fit(lrs=λr, n_cycle=3, cycle_len=1, cycle_mult=1, wds=wd, use_wd_sched=True)"
   ]
  },
  {
   "cell_type": "code",
   "execution_count": 36,
   "metadata": {
    "hidden": true
   },
   "outputs": [
    {
     "data": {
      "application/vnd.jupyter.widget-view+json": {
       "model_id": "19677898cb514585bf619a5eacb47b3b",
       "version_major": 2,
       "version_minor": 0
      },
      "text/html": [
       "<p>Failed to display Jupyter Widget of type <code>HBox</code>.</p>\n",
       "<p>\n",
       "  If you're reading this message in the Jupyter Notebook or JupyterLab Notebook, it may mean\n",
       "  that the widgets JavaScript is still loading. If this message persists, it\n",
       "  likely means that the widgets JavaScript library is either not installed or\n",
       "  not enabled. See the <a href=\"https://ipywidgets.readthedocs.io/en/stable/user_install.html\">Jupyter\n",
       "  Widgets Documentation</a> for setup instructions.\n",
       "</p>\n",
       "<p>\n",
       "  If you're reading this message in another frontend (for example, a static\n",
       "  rendering on GitHub or <a href=\"https://nbviewer.jupyter.org/\">NBViewer</a>),\n",
       "  it may mean that your frontend doesn't currently support widgets.\n",
       "</p>\n"
      ],
      "text/plain": [
       "HBox(children=(IntProgress(value=0, description='Epoch', max=7), HTML(value='')))"
      ]
     },
     "metadata": {},
     "output_type": "display_data"
    },
    {
     "name": "stdout",
     "output_type": "stream",
     "text": [
      "[ 0.       0.29468  0.58295  0.78125]                        \n",
      "[ 1.       0.28313  0.64899  0.7786 ]                        \n",
      "[ 2.       0.30097  0.57343  0.77277]                        \n",
      "[ 3.       0.29526  0.69455  0.76112]                        \n",
      "[ 4.       0.26934  0.63768  0.77489]                        \n",
      "[ 5.       0.27786  0.57983  0.78072]                        \n",
      "[ 6.       0.32329  0.54962  0.75689]                        \n",
      "\n",
      "CPU times: user 1h 4min 17s, sys: 22min 30s, total: 1h 26min 47s\n",
      "Wall time: 1h 7min 40s\n"
     ]
    }
   ],
   "source": [
    "%time learner.fit(lrs=λr, n_cycle=3, cycle_len=1, cycle_mult=2, wds=wd, use_wd_sched=True)"
   ]
  },
  {
   "cell_type": "code",
   "execution_count": 37,
   "metadata": {
    "hidden": true
   },
   "outputs": [],
   "source": [
    "learner.save('RN101_400_WD_λ0-549_00')"
   ]
  },
  {
   "cell_type": "markdown",
   "metadata": {
    "heading_collapsed": true
   },
   "source": [
    "## VGG16BN (FastAI)"
   ]
  },
  {
   "cell_type": "markdown",
   "metadata": {
    "hidden": true
   },
   "source": [
    "VGG16BN is not a Fully-Convolutional Architecture, so it'll only accept fixed-size inputs. It also requires a lot more memory than the Residual Networks above, so I have to find a suitable batch size, and learning rate to match. Idk if weight-decay will be a thing, but if it is I'll see how the value of `1.25e-3` works.\n",
    "\n",
    "**NOTE**: From FastAI [forum](http://forums.fast.ai/t/add-support-for-fitting-on-vgg-16/7436/6?u=borz) VGG16BN isn't what's used (batch-normalized VGG16 written in FastAI DL1 v1), but a modified version of VGG16 -- the convolutional (& batch normalized) layers are used from the network, effectively turning VGG16 into a fully-covolutional network. IE: just the convolutional 'feature extractors' of the original VGG16 architecture are used.\n",
    "\n",
    "It's addition to the FastAI library can be seen here: [fastai/fastai github link](https://github.com/fastai/fastai/commit/1c08462982445b963bbb4f2f4f77fd7f20b23d9d)"
   ]
  },
  {
   "cell_type": "code",
   "execution_count": 5,
   "metadata": {
    "hidden": true
   },
   "outputs": [],
   "source": [
    "# delete any tmp/ folder that exists\n",
    "%rm -rf $PATH/tmp/*"
   ]
  },
  {
   "cell_type": "code",
   "execution_count": 5,
   "metadata": {
    "hidden": true
   },
   "outputs": [],
   "source": [
    "λr = 5e-3; wd = 1.25e-3"
   ]
  },
  {
   "cell_type": "code",
   "execution_count": 6,
   "metadata": {
    "hidden": true
   },
   "outputs": [],
   "source": [
    "# arch = vgg16_bn # torch_imports -> torchvision.models\n",
    "arch = vgg16\n",
    "size = 100\n",
    "data = get_data(size, bs=32)\n",
    "learner = ConvLearner.pretrained(arch, data)"
   ]
  },
  {
   "cell_type": "code",
   "execution_count": 8,
   "metadata": {
    "hidden": true,
    "scrolled": true
   },
   "outputs": [
    {
     "data": {
      "application/vnd.jupyter.widget-view+json": {
       "model_id": "7b1a6c6dc4934b64aa8e87a74a60a941",
       "version_major": 2,
       "version_minor": 0
      },
      "text/html": [
       "<p>Failed to display Jupyter Widget of type <code>HBox</code>.</p>\n",
       "<p>\n",
       "  If you're reading this message in the Jupyter Notebook or JupyterLab Notebook, it may mean\n",
       "  that the widgets JavaScript is still loading. If this message persists, it\n",
       "  likely means that the widgets JavaScript library is either not installed or\n",
       "  not enabled. See the <a href=\"https://ipywidgets.readthedocs.io/en/stable/user_install.html\">Jupyter\n",
       "  Widgets Documentation</a> for setup instructions.\n",
       "</p>\n",
       "<p>\n",
       "  If you're reading this message in another frontend (for example, a static\n",
       "  rendering on GitHub or <a href=\"https://nbviewer.jupyter.org/\">NBViewer</a>),\n",
       "  it may mean that your frontend doesn't currently support widgets.\n",
       "</p>\n"
      ],
      "text/plain": [
       "HBox(children=(IntProgress(value=0, description='Epoch', max=1), HTML(value='')))"
      ]
     },
     "metadata": {},
     "output_type": "display_data"
    },
    {
     "name": "stdout",
     "output_type": "stream",
     "text": [
      " 83%|████████▎ | 150/181 [00:39<00:08,  3.78it/s, loss=2.85] "
     ]
    },
    {
     "data": {
      "image/png": "[encoded data removed]",
      "text/plain": [
       "<matplotlib.figure.Figure at 0x7f1a51299748>"
      ]
     },
     "metadata": {},
     "output_type": "display_data"
    }
   ],
   "source": [
    "learner.lr_find()\n",
    "learner.sched.plot()"
   ]
  },
  {
   "cell_type": "code",
   "execution_count": 9,
   "metadata": {
    "hidden": true,
    "scrolled": true
   },
   "outputs": [
    {
     "data": {
      "application/vnd.jupyter.widget-view+json": {
       "model_id": "34f5d4336b3d448c813c1999587aa6bc",
       "version_major": 2,
       "version_minor": 0
      },
      "text/html": [
       "<p>Failed to display Jupyter Widget of type <code>HBox</code>.</p>\n",
       "<p>\n",
       "  If you're reading this message in the Jupyter Notebook or JupyterLab Notebook, it may mean\n",
       "  that the widgets JavaScript is still loading. If this message persists, it\n",
       "  likely means that the widgets JavaScript library is either not installed or\n",
       "  not enabled. See the <a href=\"https://ipywidgets.readthedocs.io/en/stable/user_install.html\">Jupyter\n",
       "  Widgets Documentation</a> for setup instructions.\n",
       "</p>\n",
       "<p>\n",
       "  If you're reading this message in another frontend (for example, a static\n",
       "  rendering on GitHub or <a href=\"https://nbviewer.jupyter.org/\">NBViewer</a>),\n",
       "  it may mean that your frontend doesn't currently support widgets.\n",
       "</p>\n"
      ],
      "text/plain": [
       "HBox(children=(IntProgress(value=0, description='Epoch', max=1), HTML(value='')))"
      ]
     },
     "metadata": {},
     "output_type": "display_data"
    },
    {
     "name": "stdout",
     "output_type": "stream",
     "text": [
      "\n",
      "                                                            \n"
     ]
    },
    {
     "name": "stderr",
     "output_type": "stream",
     "text": [
      "Exception in thread Thread-5:\n",
      "Traceback (most recent call last):\n",
      "  File \"/home/wnixalo/miniconda3/envs/fastai/lib/python3.6/threading.py\", line 916, in _bootstrap_inner\n",
      "    self.run()\n",
      "  File \"/home/wnixalo/miniconda3/envs/fastai/lib/python3.6/site-packages/tqdm/_tqdm.py\", line 144, in run\n",
      "    for instance in self.tqdm_cls._instances:\n",
      "  File \"/home/wnixalo/miniconda3/envs/fastai/lib/python3.6/_weakrefset.py\", line 60, in __iter__\n",
      "    for itemref in self.data:\n",
      "RuntimeError: Set changed size during iteration\n",
      "\n",
      "Exception in thread Thread-4:\n",
      "Traceback (most recent call last):\n",
      "  File \"/home/wnixalo/miniconda3/envs/fastai/lib/python3.6/threading.py\", line 916, in _bootstrap_inner\n",
      "    self.run()\n",
      "  File \"/home/wnixalo/miniconda3/envs/fastai/lib/python3.6/site-packages/tqdm/_tqdm.py\", line 144, in run\n",
      "    for instance in self.tqdm_cls._instances:\n",
      "  File \"/home/wnixalo/miniconda3/envs/fastai/lib/python3.6/_weakrefset.py\", line 60, in __iter__\n",
      "    for itemref in self.data:\n",
      "RuntimeError: Set changed size during iteration\n",
      "\n"
     ]
    },
    {
     "name": "stdout",
     "output_type": "stream",
     "text": [
      "[ 0.       0.46677  0.62698  0.77119]                        \n",
      "\n",
      "CPU times: user 1min 22s, sys: 20.8 s, total: 1min 42s\n",
      "Wall time: 1min 1s\n"
     ]
    }
   ],
   "source": [
    "%time learner.fit(lrs=λr, n_cycle=1, cycle_len=1, cycle_mult=1)"
   ]
  },
  {
   "cell_type": "code",
   "execution_count": 10,
   "metadata": {
    "hidden": true
   },
   "outputs": [
    {
     "data": {
      "application/vnd.jupyter.widget-view+json": {
       "model_id": "54680064d85f436aba5dc5a342cc6d14",
       "version_major": 2,
       "version_minor": 0
      },
      "text/html": [
       "<p>Failed to display Jupyter Widget of type <code>HBox</code>.</p>\n",
       "<p>\n",
       "  If you're reading this message in the Jupyter Notebook or JupyterLab Notebook, it may mean\n",
       "  that the widgets JavaScript is still loading. If this message persists, it\n",
       "  likely means that the widgets JavaScript library is either not installed or\n",
       "  not enabled. See the <a href=\"https://ipywidgets.readthedocs.io/en/stable/user_install.html\">Jupyter\n",
       "  Widgets Documentation</a> for setup instructions.\n",
       "</p>\n",
       "<p>\n",
       "  If you're reading this message in another frontend (for example, a static\n",
       "  rendering on GitHub or <a href=\"https://nbviewer.jupyter.org/\">NBViewer</a>),\n",
       "  it may mean that your frontend doesn't currently support widgets.\n",
       "</p>\n"
      ],
      "text/plain": [
       "HBox(children=(IntProgress(value=0, description='Epoch', max=3), HTML(value='')))"
      ]
     },
     "metadata": {},
     "output_type": "display_data"
    },
    {
     "name": "stdout",
     "output_type": "stream",
     "text": [
      "[ 0.       0.42875  0.62248  0.77436]                        \n",
      "[ 1.       0.39542  0.58754  0.76765]                        \n",
      "[ 2.       0.39004  0.57003  0.77772]                        \n",
      "\n",
      "CPU times: user 4min 9s, sys: 1min 1s, total: 5min 10s\n",
      "Wall time: 3min 5s\n"
     ]
    }
   ],
   "source": [
    "%time learner.fit(lrs=λr, n_cycle=3, cycle_len=1, cycle_mult=1, wds=wd, use_wd_sched=True)"
   ]
  },
  {
   "cell_type": "code",
   "execution_count": 11,
   "metadata": {
    "hidden": true
   },
   "outputs": [
    {
     "data": {
      "application/vnd.jupyter.widget-view+json": {
       "model_id": "9d4a7577ae73424a81419286f0e0cf2b",
       "version_major": 2,
       "version_minor": 0
      },
      "text/html": [
       "<p>Failed to display Jupyter Widget of type <code>HBox</code>.</p>\n",
       "<p>\n",
       "  If you're reading this message in the Jupyter Notebook or JupyterLab Notebook, it may mean\n",
       "  that the widgets JavaScript is still loading. If this message persists, it\n",
       "  likely means that the widgets JavaScript library is either not installed or\n",
       "  not enabled. See the <a href=\"https://ipywidgets.readthedocs.io/en/stable/user_install.html\">Jupyter\n",
       "  Widgets Documentation</a> for setup instructions.\n",
       "</p>\n",
       "<p>\n",
       "  If you're reading this message in another frontend (for example, a static\n",
       "  rendering on GitHub or <a href=\"https://nbviewer.jupyter.org/\">NBViewer</a>),\n",
       "  it may mean that your frontend doesn't currently support widgets.\n",
       "</p>\n"
      ],
      "text/plain": [
       "HBox(children=(IntProgress(value=0, description='Epoch', max=7), HTML(value='')))"
      ]
     },
     "metadata": {},
     "output_type": "display_data"
    },
    {
     "name": "stdout",
     "output_type": "stream",
     "text": [
      "[ 0.       0.35997  0.56934  0.77984]                        \n",
      "[ 1.       0.34734  0.58614  0.76289]                        \n",
      "[ 2.       0.35745  0.54855  0.77348]                        \n",
      "[ 3.       0.33618  0.59003  0.76713]                        \n",
      "[ 4.       0.33523  0.57472  0.76324]                        \n",
      "[ 5.       0.33416  0.54563  0.77331]                        \n",
      "[ 6.       0.37587  0.5394   0.77331]                        \n",
      "\n",
      "CPU times: user 9min 42s, sys: 2min 22s, total: 12min 5s\n",
      "Wall time: 7min 12s\n"
     ]
    }
   ],
   "source": [
    "%time learner.fit(lrs=λr, n_cycle=3, cycle_len=1, cycle_mult=2, wds=wd, use_wd_sched=True)"
   ]
  },
  {
   "cell_type": "code",
   "execution_count": 12,
   "metadata": {
    "hidden": true
   },
   "outputs": [],
   "source": [
    "# worried about running out of memory & crashing IPykernel w/ VGG model\n",
    "learner.save('VGG16_100_WD_λ0-539')"
   ]
  },
  {
   "cell_type": "code",
   "execution_count": 13,
   "metadata": {
    "hidden": true
   },
   "outputs": [],
   "source": [
    "size = 200\n",
    "data = get_data(size)\n",
    "learner.set_data(data)"
   ]
  },
  {
   "cell_type": "code",
   "execution_count": 14,
   "metadata": {
    "hidden": true
   },
   "outputs": [
    {
     "data": {
      "application/vnd.jupyter.widget-view+json": {
       "model_id": "5570ef79b0244696a305357c4292c6d8",
       "version_major": 2,
       "version_minor": 0
      },
      "text/html": [
       "<p>Failed to display Jupyter Widget of type <code>HBox</code>.</p>\n",
       "<p>\n",
       "  If you're reading this message in the Jupyter Notebook or JupyterLab Notebook, it may mean\n",
       "  that the widgets JavaScript is still loading. If this message persists, it\n",
       "  likely means that the widgets JavaScript library is either not installed or\n",
       "  not enabled. See the <a href=\"https://ipywidgets.readthedocs.io/en/stable/user_install.html\">Jupyter\n",
       "  Widgets Documentation</a> for setup instructions.\n",
       "</p>\n",
       "<p>\n",
       "  If you're reading this message in another frontend (for example, a static\n",
       "  rendering on GitHub or <a href=\"https://nbviewer.jupyter.org/\">NBViewer</a>),\n",
       "  it may mean that your frontend doesn't currently support widgets.\n",
       "</p>\n"
      ],
      "text/plain": [
       "HBox(children=(IntProgress(value=0, description='Epoch', max=1), HTML(value='')))"
      ]
     },
     "metadata": {},
     "output_type": "display_data"
    },
    {
     "name": "stdout",
     "output_type": "stream",
     "text": [
      "[ 0.       0.36734  0.56551  0.78337]                        \n",
      "\n",
      "CPU times: user 3min 19s, sys: 1min 7s, total: 4min 26s\n",
      "Wall time: 3min 21s\n"
     ]
    }
   ],
   "source": [
    "%time learner.fit(lrs=λr, n_cycle=1, cycle_len=1, cycle_mult=1)"
   ]
  },
  {
   "cell_type": "code",
   "execution_count": 15,
   "metadata": {
    "hidden": true
   },
   "outputs": [
    {
     "data": {
      "application/vnd.jupyter.widget-view+json": {
       "model_id": "44130784c845492e8385d5b5a037d739",
       "version_major": 2,
       "version_minor": 0
      },
      "text/html": [
       "<p>Failed to display Jupyter Widget of type <code>HBox</code>.</p>\n",
       "<p>\n",
       "  If you're reading this message in the Jupyter Notebook or JupyterLab Notebook, it may mean\n",
       "  that the widgets JavaScript is still loading. If this message persists, it\n",
       "  likely means that the widgets JavaScript library is either not installed or\n",
       "  not enabled. See the <a href=\"https://ipywidgets.readthedocs.io/en/stable/user_install.html\">Jupyter\n",
       "  Widgets Documentation</a> for setup instructions.\n",
       "</p>\n",
       "<p>\n",
       "  If you're reading this message in another frontend (for example, a static\n",
       "  rendering on GitHub or <a href=\"https://nbviewer.jupyter.org/\">NBViewer</a>),\n",
       "  it may mean that your frontend doesn't currently support widgets.\n",
       "</p>\n"
      ],
      "text/plain": [
       "HBox(children=(IntProgress(value=0, description='Epoch', max=3), HTML(value='')))"
      ]
     },
     "metadata": {},
     "output_type": "display_data"
    },
    {
     "name": "stdout",
     "output_type": "stream",
     "text": [
      "[ 0.       0.33289  0.52754  0.79131]                        \n",
      "[ 1.       0.31965  0.52517  0.78319]                        \n",
      "[ 2.       0.32897  0.53734  0.78213]                        \n",
      "\n",
      "CPU times: user 9min 56s, sys: 3min 22s, total: 13min 19s\n",
      "Wall time: 10min 5s\n"
     ]
    }
   ],
   "source": [
    "%time learner.fit(lrs=λr, n_cycle=3, cycle_len=1, cycle_mult=1, wds=wd, use_wd_sched=True)"
   ]
  },
  {
   "cell_type": "code",
   "execution_count": 16,
   "metadata": {
    "hidden": true
   },
   "outputs": [
    {
     "data": {
      "application/vnd.jupyter.widget-view+json": {
       "model_id": "2c7541cf8b9d4a988e261ed6da73be7d",
       "version_major": 2,
       "version_minor": 0
      },
      "text/html": [
       "<p>Failed to display Jupyter Widget of type <code>HBox</code>.</p>\n",
       "<p>\n",
       "  If you're reading this message in the Jupyter Notebook or JupyterLab Notebook, it may mean\n",
       "  that the widgets JavaScript is still loading. If this message persists, it\n",
       "  likely means that the widgets JavaScript library is either not installed or\n",
       "  not enabled. See the <a href=\"https://ipywidgets.readthedocs.io/en/stable/user_install.html\">Jupyter\n",
       "  Widgets Documentation</a> for setup instructions.\n",
       "</p>\n",
       "<p>\n",
       "  If you're reading this message in another frontend (for example, a static\n",
       "  rendering on GitHub or <a href=\"https://nbviewer.jupyter.org/\">NBViewer</a>),\n",
       "  it may mean that your frontend doesn't currently support widgets.\n",
       "</p>\n"
      ],
      "text/plain": [
       "HBox(children=(IntProgress(value=0, description='Epoch', max=7), HTML(value='')))"
      ]
     },
     "metadata": {},
     "output_type": "display_data"
    },
    {
     "name": "stdout",
     "output_type": "stream",
     "text": [
      "[ 0.       0.32999  0.51309  0.7816 ]                        \n",
      "[ 1.       0.33268  0.60629  0.77472]                        \n",
      "[ 2.       0.32891  0.53282  0.7869 ]                        \n",
      "[ 3.       0.3359   0.65476  0.77277]                        \n",
      "[ 4.       0.31443  0.56961  0.79308]                        \n",
      "[ 5.       0.33407  0.55546  0.78478]                        \n",
      "[ 6.       0.37007  0.52839  0.78143]                        \n",
      "\n",
      "CPU times: user 23min 13s, sys: 7min 51s, total: 31min 4s\n",
      "Wall time: 23min 32s\n"
     ]
    }
   ],
   "source": [
    "%time learner.fit(lrs=λr, n_cycle=3, cycle_len=1, cycle_mult=2, wds=wd, use_wd_sched=True)"
   ]
  },
  {
   "cell_type": "code",
   "execution_count": 18,
   "metadata": {
    "hidden": true
   },
   "outputs": [],
   "source": [
    "learner.save('VGG16_200_WD_λ0-528')"
   ]
  },
  {
   "cell_type": "code",
   "execution_count": 7,
   "metadata": {
    "hidden": true
   },
   "outputs": [],
   "source": [
    "learner.load('VGG16_200_WD_λ0-528')"
   ]
  },
  {
   "cell_type": "markdown",
   "metadata": {
    "hidden": true
   },
   "source": [
    "Batch size of 14 seems to be about the highest my GPU can handle with VGG16 at 400x400."
   ]
  },
  {
   "cell_type": "code",
   "execution_count": 43,
   "metadata": {
    "hidden": true
   },
   "outputs": [],
   "source": [
    "size = 400\n",
    "data = get_data(size, bs = 14)\n",
    "learner.set_data(data)"
   ]
  },
  {
   "cell_type": "code",
   "execution_count": 9,
   "metadata": {
    "hidden": true
   },
   "outputs": [
    {
     "data": {
      "application/vnd.jupyter.widget-view+json": {
       "model_id": "dbfef6fd497a4ffcbe429be784864d18",
       "version_major": 2,
       "version_minor": 0
      },
      "text/html": [
       "<p>Failed to display Jupyter Widget of type <code>HBox</code>.</p>\n",
       "<p>\n",
       "  If you're reading this message in the Jupyter Notebook or JupyterLab Notebook, it may mean\n",
       "  that the widgets JavaScript is still loading. If this message persists, it\n",
       "  likely means that the widgets JavaScript library is either not installed or\n",
       "  not enabled. See the <a href=\"https://ipywidgets.readthedocs.io/en/stable/user_install.html\">Jupyter\n",
       "  Widgets Documentation</a> for setup instructions.\n",
       "</p>\n",
       "<p>\n",
       "  If you're reading this message in another frontend (for example, a static\n",
       "  rendering on GitHub or <a href=\"https://nbviewer.jupyter.org/\">NBViewer</a>),\n",
       "  it may mean that your frontend doesn't currently support widgets.\n",
       "</p>\n"
      ],
      "text/plain": [
       "HBox(children=(IntProgress(value=0, description='Epoch', max=1), HTML(value='')))"
      ]
     },
     "metadata": {},
     "output_type": "display_data"
    },
    {
     "name": "stdout",
     "output_type": "stream",
     "text": [
      " 80%|████████  | 332/413 [08:00<01:57,  1.45s/it, loss=2.18] "
     ]
    },
    {
     "data": {
      "image/png": "[encoded data removed]",
      "text/plain": [
       "<matplotlib.figure.Figure at 0x7fedbacb7748>"
      ]
     },
     "metadata": {},
     "output_type": "display_data"
    }
   ],
   "source": [
    "learner.lr_find()\n",
    "learner.sched.plot()"
   ]
  },
  {
   "cell_type": "markdown",
   "metadata": {
    "hidden": true
   },
   "source": [
    "Wow. That doesn't look good."
   ]
  },
  {
   "cell_type": "code",
   "execution_count": 18,
   "metadata": {
    "hidden": true
   },
   "outputs": [
    {
     "data": {
      "text/plain": [
       "641.0"
      ]
     },
     "execution_count": 18,
     "metadata": {},
     "output_type": "execute_result"
    }
   ],
   "source": [
    "len(learner.data.trn_ds.fnames) / 9"
   ]
  },
  {
   "cell_type": "code",
   "execution_count": 24,
   "metadata": {
    "hidden": true,
    "scrolled": true
   },
   "outputs": [],
   "source": [
    "learner.data.bs = 14\n",
    "# learner.lr_find()\n",
    "# learner.sched.plot()"
   ]
  },
  {
   "cell_type": "code",
   "execution_count": 30,
   "metadata": {
    "hidden": true,
    "scrolled": true
   },
   "outputs": [
    {
     "data": {
      "application/vnd.jupyter.widget-view+json": {
       "model_id": "46e764ddd274422cac28bf11164ef6c0",
       "version_major": 2,
       "version_minor": 0
      },
      "text/html": [
       "<p>Failed to display Jupyter Widget of type <code>HBox</code>.</p>\n",
       "<p>\n",
       "  If you're reading this message in the Jupyter Notebook or JupyterLab Notebook, it may mean\n",
       "  that the widgets JavaScript is still loading. If this message persists, it\n",
       "  likely means that the widgets JavaScript library is either not installed or\n",
       "  not enabled. See the <a href=\"https://ipywidgets.readthedocs.io/en/stable/user_install.html\">Jupyter\n",
       "  Widgets Documentation</a> for setup instructions.\n",
       "</p>\n",
       "<p>\n",
       "  If you're reading this message in another frontend (for example, a static\n",
       "  rendering on GitHub or <a href=\"https://nbviewer.jupyter.org/\">NBViewer</a>),\n",
       "  it may mean that your frontend doesn't currently support widgets.\n",
       "</p>\n"
      ],
      "text/plain": [
       "HBox(children=(IntProgress(value=0, description='Epoch', max=1), HTML(value='')))"
      ]
     },
     "metadata": {},
     "output_type": "display_data"
    },
    {
     "name": "stdout",
     "output_type": "stream",
     "text": [
      "\n",
      "  0%|          | 0/413 [00:00<?, ?it/s]\u001b[A\n",
      "  0%|          | 0/413 [00:00<?, ?it/s, loss=0.164]\u001b[A\n",
      "  0%|          | 1/413 [00:00<06:19,  1.08it/s, loss=0.164]\u001b[A\n",
      "  0%|          | 1/413 [00:01<11:00,  1.60s/it, loss=0.221]\u001b[A\n",
      "  0%|          | 2/413 [00:01<05:31,  1.24it/s, loss=0.221]\u001b[A\n",
      "  0%|          | 2/413 [00:02<07:51,  1.15s/it, loss=0.346]\u001b[A\n",
      "  1%|          | 3/413 [00:02<05:14,  1.30it/s, loss=0.346]\u001b[A\n",
      "  1%|          | 3/413 [00:02<06:47,  1.01it/s, loss=0.391]\u001b[A\n",
      "  1%|          | 4/413 [00:02<05:05,  1.34it/s, loss=0.391]\u001b[A\n",
      "  1%|          | 4/413 [00:03<06:14,  1.09it/s, loss=0.437]\u001b[A\n",
      "  1%|          | 5/413 [00:03<04:59,  1.36it/s, loss=0.437]\u001b[A\n",
      "  1%|          | 5/413 [00:04<05:54,  1.15it/s, loss=0.42] \u001b[A\n",
      "  1%|▏         | 6/413 [00:04<04:56,  1.37it/s, loss=0.42]\u001b[A\n",
      "  1%|▏         | 6/413 [00:05<05:42,  1.19it/s, loss=0.403]\u001b[A\n",
      "  2%|▏         | 7/413 [00:05<04:52,  1.39it/s, loss=0.403]\u001b[A\n",
      "  2%|▏         | 7/413 [00:05<05:32,  1.22it/s, loss=0.38] \u001b[A\n",
      "  2%|▏         | 8/413 [00:05<04:50,  1.39it/s, loss=0.38]\u001b[A\n",
      "  2%|▏         | 8/413 [00:06<05:24,  1.25it/s, loss=0.358]\u001b[A\n",
      "  2%|▏         | 9/413 [00:06<04:48,  1.40it/s, loss=0.358]\u001b[A\n",
      "  2%|▏         | 9/413 [00:07<05:19,  1.27it/s, loss=0.354]\u001b[A\n",
      "  2%|▏         | 10/413 [00:07<04:46,  1.40it/s, loss=0.354]\u001b[A\n",
      "  2%|▏         | 10/413 [00:07<05:14,  1.28it/s, loss=0.356]\u001b[A\n",
      "  3%|▎         | 11/413 [00:07<04:45,  1.41it/s, loss=0.356]\u001b[A\n",
      "  3%|▎         | 11/413 [00:08<05:10,  1.30it/s, loss=0.351]\u001b[A\n",
      "  3%|▎         | 12/413 [00:08<04:44,  1.41it/s, loss=0.351]\u001b[A\n",
      "  3%|▎         | 12/413 [00:09<05:07,  1.31it/s, loss=0.353]\u001b[A\n",
      "  3%|▎         | 13/413 [00:09<04:42,  1.41it/s, loss=0.353]\u001b[A\n",
      "  3%|▎         | 13/413 [00:09<05:03,  1.32it/s, loss=0.356]\u001b[A\n",
      "  3%|▎         | 14/413 [00:09<04:41,  1.42it/s, loss=0.356]\u001b[A\n",
      "  3%|▎         | 14/413 [00:10<05:01,  1.32it/s, loss=0.361]\u001b[A\n",
      "  4%|▎         | 15/413 [00:10<04:40,  1.42it/s, loss=0.361]\u001b[A\n",
      "  4%|▎         | 15/413 [00:11<04:58,  1.33it/s, loss=0.381]\u001b[A\n",
      "  4%|▍         | 16/413 [00:11<04:39,  1.42it/s, loss=0.381]\u001b[A\n",
      "  4%|▍         | 16/413 [00:11<04:56,  1.34it/s, loss=0.369]\u001b[A\n",
      "  4%|▍         | 17/413 [00:11<04:38,  1.42it/s, loss=0.369]\u001b[A\n",
      "  4%|▍         | 17/413 [00:12<04:54,  1.34it/s, loss=0.386]\u001b[A\n",
      "  4%|▍         | 18/413 [00:12<04:37,  1.42it/s, loss=0.386]\u001b[A\n",
      "  4%|▍         | 18/413 [00:13<04:52,  1.35it/s, loss=0.39] \u001b[A\n",
      "  5%|▍         | 19/413 [00:13<04:36,  1.42it/s, loss=0.39]\u001b[A\n",
      "  5%|▍         | 19/413 [00:14<04:50,  1.35it/s, loss=0.377]\u001b[A\n",
      "  5%|▍         | 20/413 [00:14<04:35,  1.42it/s, loss=0.377]\u001b[A\n",
      "  5%|▍         | 20/413 [00:14<04:49,  1.36it/s, loss=0.372]\u001b[A\n",
      "  5%|▌         | 21/413 [00:14<04:35,  1.43it/s, loss=0.372]\u001b[A\n",
      "  5%|▌         | 21/413 [00:15<04:47,  1.36it/s, loss=0.366]\u001b[A\n",
      "  5%|▌         | 22/413 [00:15<04:34,  1.43it/s, loss=0.366]\u001b[A\n",
      "  5%|▌         | 22/413 [00:16<04:46,  1.37it/s, loss=0.358]\u001b[A\n",
      "  6%|▌         | 23/413 [00:16<04:33,  1.43it/s, loss=0.358]\u001b[A\n",
      "  6%|▌         | 23/413 [00:16<04:44,  1.37it/s, loss=0.354]\u001b[A\n",
      "  6%|▌         | 24/413 [00:16<04:32,  1.43it/s, loss=0.354]\u001b[A\n",
      "  6%|▌         | 24/413 [00:17<04:43,  1.37it/s, loss=0.35] \u001b[A\n",
      "  6%|▌         | 25/413 [00:17<04:31,  1.43it/s, loss=0.35]\u001b[A\n",
      "  6%|▌         | 25/413 [00:18<04:41,  1.38it/s, loss=0.354]\u001b[A\n",
      "  6%|▋         | 26/413 [00:18<04:30,  1.43it/s, loss=0.354]\u001b[A\n",
      "  6%|▋         | 26/413 [00:18<04:40,  1.38it/s, loss=0.359]\u001b[A\n",
      "  7%|▋         | 27/413 [00:18<04:29,  1.43it/s, loss=0.359]\u001b[A\n",
      "  7%|▋         | 27/413 [00:19<04:39,  1.38it/s, loss=0.358]\u001b[A\n",
      "  7%|▋         | 28/413 [00:19<04:28,  1.43it/s, loss=0.358]\u001b[A\n",
      "  7%|▋         | 28/413 [00:20<04:38,  1.38it/s, loss=0.347]\u001b[A\n",
      "  7%|▋         | 29/413 [00:20<04:28,  1.43it/s, loss=0.347]\u001b[A\n",
      "  7%|▋         | 29/413 [00:20<04:37,  1.38it/s, loss=0.352]\u001b[A\n",
      "  7%|▋         | 30/413 [00:20<04:27,  1.43it/s, loss=0.352]\u001b[A\n",
      "  7%|▋         | 30/413 [00:21<04:36,  1.39it/s, loss=0.355]\u001b[A\n",
      "  8%|▊         | 31/413 [00:21<04:26,  1.43it/s, loss=0.355]\u001b[A\n",
      "  8%|▊         | 31/413 [00:22<04:35,  1.39it/s, loss=0.363]\u001b[A\n",
      "  8%|▊         | 32/413 [00:22<04:25,  1.43it/s, loss=0.363]\u001b[A\n",
      "  8%|▊         | 32/413 [00:23<04:33,  1.39it/s, loss=0.354]\u001b[A\n",
      "  8%|▊         | 33/413 [00:23<04:25,  1.43it/s, loss=0.354]\u001b[A\n",
      "  8%|▊         | 33/413 [00:23<04:32,  1.39it/s, loss=0.358]\u001b[A\n",
      "  8%|▊         | 34/413 [00:23<04:24,  1.43it/s, loss=0.358]\u001b[A\n",
      "  8%|▊         | 34/413 [00:24<04:31,  1.39it/s, loss=0.37] \u001b[A\n",
      "  8%|▊         | 35/413 [00:24<04:23,  1.43it/s, loss=0.37]\u001b[A\n",
      "  8%|▊         | 35/413 [00:25<04:30,  1.40it/s, loss=0.369]\u001b[A\n",
      "  9%|▊         | 36/413 [00:25<04:22,  1.43it/s, loss=0.369]\u001b[A\n",
      "  9%|▊         | 36/413 [00:25<04:29,  1.40it/s, loss=0.363]\u001b[A\n",
      "  9%|▉         | 37/413 [00:25<04:22,  1.43it/s, loss=0.363]\u001b[A\n",
      "  9%|▉         | 37/413 [00:26<04:28,  1.40it/s, loss=0.359]\u001b[A\n",
      "  9%|▉         | 38/413 [00:26<04:21,  1.43it/s, loss=0.359]\u001b[A\n",
      "  9%|▉         | 38/413 [00:27<04:28,  1.40it/s, loss=0.356]\u001b[A\n",
      "  9%|▉         | 39/413 [00:27<04:20,  1.44it/s, loss=0.356]\u001b[A\n",
      "  9%|▉         | 39/413 [00:27<04:27,  1.40it/s, loss=0.351]\u001b[A\n",
      " 10%|▉         | 40/413 [00:27<04:19,  1.44it/s, loss=0.351]\u001b[A\n",
      " 10%|▉         | 40/413 [00:28<04:26,  1.40it/s, loss=0.353]\u001b[A\n",
      " 10%|▉         | 41/413 [00:28<04:19,  1.44it/s, loss=0.353]\u001b[A\n",
      " 10%|▉         | 41/413 [00:29<04:25,  1.40it/s, loss=0.351]\u001b[A\n",
      " 10%|█         | 42/413 [00:29<04:18,  1.44it/s, loss=0.351]\u001b[A\n",
      " 10%|█         | 42/413 [00:29<04:24,  1.40it/s, loss=0.355]\u001b[A\n",
      " 10%|█         | 43/413 [00:29<04:17,  1.44it/s, loss=0.355]\u001b[A\n",
      " 10%|█         | 43/413 [00:30<04:23,  1.40it/s, loss=0.35] \u001b[A\n",
      " 11%|█         | 44/413 [00:30<04:16,  1.44it/s, loss=0.35]\u001b[A\n",
      " 11%|█         | 44/413 [00:31<04:22,  1.41it/s, loss=0.352]\u001b[A\n",
      " 11%|█         | 45/413 [00:31<04:16,  1.44it/s, loss=0.352]\u001b[A\n",
      " 11%|█         | 45/413 [00:32<04:21,  1.41it/s, loss=0.35] \u001b[A\n",
      " 11%|█         | 46/413 [00:32<04:15,  1.44it/s, loss=0.35]\u001b[A\n",
      " 11%|█         | 46/413 [00:32<04:20,  1.41it/s, loss=0.352]\u001b[A\n",
      " 11%|█▏        | 47/413 [00:32<04:14,  1.44it/s, loss=0.352]\u001b[A\n",
      " 11%|█▏        | 47/413 [00:33<04:19,  1.41it/s, loss=0.35] \u001b[A\n",
      " 12%|█▏        | 48/413 [00:33<04:13,  1.44it/s, loss=0.35]\u001b[A\n",
      " 12%|█▏        | 48/413 [00:34<04:19,  1.41it/s, loss=0.355]\u001b[A\n",
      " 12%|█▏        | 49/413 [00:34<04:13,  1.44it/s, loss=0.355]\u001b[A\n",
      " 12%|█▏        | 49/413 [00:34<04:18,  1.41it/s, loss=0.356]\u001b[A\n",
      " 12%|█▏        | 50/413 [00:34<04:12,  1.44it/s, loss=0.356]\u001b[A\n",
      " 12%|█▏        | 50/413 [00:35<04:17,  1.41it/s, loss=0.363]\u001b[A\n",
      " 12%|█▏        | 51/413 [00:35<04:11,  1.44it/s, loss=0.363]\u001b[A\n",
      " 12%|█▏        | 51/413 [00:36<04:16,  1.41it/s, loss=0.361]\u001b[A\n",
      " 13%|█▎        | 52/413 [00:36<04:10,  1.44it/s, loss=0.361]\u001b[A\n",
      " 13%|█▎        | 52/413 [00:36<04:15,  1.41it/s, loss=0.355]\u001b[A\n",
      " 13%|█▎        | 53/413 [00:36<04:10,  1.44it/s, loss=0.355]\u001b[A\n",
      " 13%|█▎        | 53/413 [00:37<04:14,  1.41it/s, loss=0.354]\u001b[A\n",
      " 13%|█▎        | 54/413 [00:37<04:09,  1.44it/s, loss=0.354]\u001b[A\n",
      " 13%|█▎        | 54/413 [00:38<04:14,  1.41it/s, loss=0.351]\u001b[A\n",
      " 13%|█▎        | 55/413 [00:38<04:08,  1.44it/s, loss=0.351]\u001b[A\n",
      " 13%|█▎        | 55/413 [00:38<04:13,  1.41it/s, loss=0.35] \u001b[A\n",
      " 14%|█▎        | 56/413 [00:38<04:08,  1.44it/s, loss=0.35]\u001b[A\n",
      " 14%|█▎        | 56/413 [00:39<04:12,  1.41it/s, loss=0.346]\u001b[A\n",
      " 14%|█▍        | 57/413 [00:39<04:07,  1.44it/s, loss=0.346]\u001b[A\n",
      " 14%|█▍        | 57/413 [00:40<04:11,  1.42it/s, loss=0.344]\u001b[A\n",
      " 14%|█▍        | 58/413 [00:40<04:06,  1.44it/s, loss=0.344]\u001b[A\n",
      " 14%|█▍        | 58/413 [00:40<04:10,  1.42it/s, loss=0.342]\u001b[A\n",
      " 14%|█▍        | 59/413 [00:40<04:05,  1.44it/s, loss=0.342]\u001b[A\n",
      " 14%|█▍        | 59/413 [00:41<04:10,  1.42it/s, loss=0.339]\u001b[A\n",
      " 15%|█▍        | 60/413 [00:41<04:05,  1.44it/s, loss=0.339]\u001b[A\n",
      " 15%|█▍        | 60/413 [00:42<04:09,  1.42it/s, loss=0.343]\u001b[A\n",
      " 15%|█▍        | 61/413 [00:42<04:04,  1.44it/s, loss=0.343]\u001b[A\n",
      " 15%|█▍        | 61/413 [00:43<04:08,  1.42it/s, loss=0.34] \u001b[A\n",
      " 15%|█▌        | 62/413 [00:43<04:03,  1.44it/s, loss=0.34]\u001b[A\n",
      " 15%|█▌        | 62/413 [00:43<04:07,  1.42it/s, loss=0.343]\u001b[A\n",
      " 15%|█▌        | 63/413 [00:43<04:03,  1.44it/s, loss=0.343]\u001b[A\n",
      " 15%|█▌        | 63/413 [00:44<04:06,  1.42it/s, loss=0.347]\u001b[A\n",
      " 15%|█▌        | 64/413 [00:44<04:02,  1.44it/s, loss=0.347]\u001b[A\n",
      " 15%|█▌        | 64/413 [00:45<04:06,  1.42it/s, loss=0.343]\u001b[A\n",
      " 16%|█▌        | 65/413 [00:45<04:01,  1.44it/s, loss=0.343]\u001b[A\n",
      " 16%|█▌        | 65/413 [00:45<04:05,  1.42it/s, loss=0.344]\u001b[A\n",
      " 16%|█▌        | 66/413 [00:45<04:01,  1.44it/s, loss=0.344]\u001b[A\n",
      " 16%|█▌        | 66/413 [00:46<04:04,  1.42it/s, loss=0.343]\u001b[A\n",
      " 16%|█▌        | 67/413 [00:46<04:00,  1.44it/s, loss=0.343]\u001b[A\n",
      " 16%|█▌        | 67/413 [00:47<04:03,  1.42it/s, loss=0.342]\u001b[A\n",
      " 16%|█▋        | 68/413 [00:47<03:59,  1.44it/s, loss=0.342]\u001b[A\n",
      " 16%|█▋        | 68/413 [00:47<04:02,  1.42it/s, loss=0.34] \u001b[A\n",
      " 17%|█▋        | 69/413 [00:47<03:58,  1.44it/s, loss=0.34]\u001b[A\n",
      " 17%|█▋        | 69/413 [00:48<04:02,  1.42it/s, loss=0.338]\u001b[A\n",
      " 17%|█▋        | 70/413 [00:48<03:58,  1.44it/s, loss=0.338]\u001b[A\n",
      " 17%|█▋        | 70/413 [00:49<04:01,  1.42it/s, loss=0.336]\u001b[A\n",
      " 17%|█▋        | 71/413 [00:49<03:57,  1.44it/s, loss=0.336]\u001b[A\n",
      " 17%|█▋        | 71/413 [00:49<04:00,  1.42it/s, loss=0.334]\u001b[A\n",
      " 17%|█▋        | 72/413 [00:49<03:56,  1.44it/s, loss=0.334]\u001b[A\n",
      " 17%|█▋        | 72/413 [00:50<03:59,  1.42it/s, loss=0.333]\u001b[A\n",
      " 18%|█▊        | 73/413 [00:50<03:56,  1.44it/s, loss=0.333]\u001b[A\n",
      " 18%|█▊        | 73/413 [00:51<03:59,  1.42it/s, loss=0.331]\u001b[A\n",
      " 18%|█▊        | 74/413 [00:51<03:55,  1.44it/s, loss=0.331]\u001b[A\n",
      " 18%|█▊        | 74/413 [00:52<03:58,  1.42it/s, loss=0.338]\u001b[A\n",
      " 18%|█▊        | 75/413 [00:52<03:54,  1.44it/s, loss=0.338]\u001b[A\n",
      " 18%|█▊        | 75/413 [00:52<03:57,  1.42it/s, loss=0.348]\u001b[A\n",
      " 18%|█▊        | 76/413 [00:52<03:53,  1.44it/s, loss=0.348]\u001b[A\n",
      " 18%|█▊        | 76/413 [00:53<03:56,  1.42it/s, loss=0.351]\u001b[A\n",
      " 19%|█▊        | 77/413 [00:53<03:53,  1.44it/s, loss=0.351]\u001b[A\n",
      " 19%|█▊        | 77/413 [00:54<03:56,  1.42it/s, loss=0.351]\u001b[A\n",
      " 19%|█▉        | 78/413 [00:54<03:52,  1.44it/s, loss=0.351]\u001b[A\n",
      " 19%|█▉        | 78/413 [00:54<03:55,  1.42it/s, loss=0.352]\u001b[A\n",
      " 19%|█▉        | 79/413 [00:54<03:51,  1.44it/s, loss=0.352]\u001b[A\n",
      " 19%|█▉        | 79/413 [00:55<03:54,  1.42it/s, loss=0.362]\u001b[A\n",
      " 19%|█▉        | 80/413 [00:55<03:51,  1.44it/s, loss=0.362]\u001b[A\n",
      " 19%|█▉        | 80/413 [00:56<03:53,  1.42it/s, loss=0.362]\u001b[A\n",
      " 20%|█▉        | 81/413 [00:56<03:50,  1.44it/s, loss=0.362]\u001b[A\n",
      " 20%|█▉        | 81/413 [00:56<03:53,  1.42it/s, loss=0.362]\u001b[A\n",
      " 20%|█▉        | 82/413 [00:56<03:49,  1.44it/s, loss=0.362]\u001b[A\n",
      " 20%|█▉        | 82/413 [00:57<03:52,  1.42it/s, loss=0.36] \u001b[A\n",
      " 20%|██        | 83/413 [00:57<03:48,  1.44it/s, loss=0.36]\u001b[A\n",
      " 20%|██        | 83/413 [00:58<03:51,  1.42it/s, loss=0.359]\u001b[A\n",
      " 20%|██        | 84/413 [00:58<03:48,  1.44it/s, loss=0.359]\u001b[A\n",
      " 20%|██        | 84/413 [00:58<03:50,  1.42it/s, loss=0.359]\u001b[A\n",
      " 21%|██        | 85/413 [00:58<03:47,  1.44it/s, loss=0.359]\u001b[A\n",
      " 21%|██        | 85/413 [00:59<03:50,  1.42it/s, loss=0.362]\u001b[A\n",
      " 21%|██        | 86/413 [00:59<03:46,  1.44it/s, loss=0.362]\u001b[A\n",
      " 21%|██        | 86/413 [01:00<03:49,  1.43it/s, loss=0.364]\u001b[A\n",
      " 21%|██        | 87/413 [01:00<03:46,  1.44it/s, loss=0.364]\u001b[A\n",
      " 21%|██        | 87/413 [01:01<03:48,  1.43it/s, loss=0.362]\u001b[A\n",
      " 21%|██▏       | 88/413 [01:01<03:45,  1.44it/s, loss=0.362]\u001b[A\n",
      " 21%|██▏       | 88/413 [01:01<03:47,  1.43it/s, loss=0.367]\u001b[A\n",
      " 22%|██▏       | 89/413 [01:01<03:44,  1.44it/s, loss=0.367]\u001b[A\n",
      " 22%|██▏       | 89/413 [01:02<03:47,  1.43it/s, loss=0.368]\u001b[A\n",
      " 22%|██▏       | 90/413 [01:02<03:44,  1.44it/s, loss=0.368]\u001b[A\n",
      " 22%|██▏       | 90/413 [01:03<03:46,  1.43it/s, loss=0.369]\u001b[A\n",
      " 22%|██▏       | 91/413 [01:03<03:43,  1.44it/s, loss=0.369]\u001b[A\n",
      " 22%|██▏       | 91/413 [01:03<03:45,  1.43it/s, loss=0.373]\u001b[A\n",
      " 22%|██▏       | 92/413 [01:03<03:42,  1.44it/s, loss=0.373]\u001b[A\n",
      " 22%|██▏       | 92/413 [01:04<03:44,  1.43it/s, loss=0.37] \u001b[A\n",
      " 23%|██▎       | 93/413 [01:04<03:41,  1.44it/s, loss=0.37]\u001b[A\n",
      " 23%|██▎       | 93/413 [01:05<03:44,  1.43it/s, loss=0.367]\u001b[A\n",
      " 23%|██▎       | 94/413 [01:05<03:41,  1.44it/s, loss=0.367]\u001b[A\n",
      " 23%|██▎       | 94/413 [01:05<03:43,  1.43it/s, loss=0.376]\u001b[A\n",
      " 23%|██▎       | 95/413 [01:05<03:40,  1.44it/s, loss=0.376]\u001b[A\n",
      " 23%|██▎       | 95/413 [01:06<03:42,  1.43it/s, loss=0.375]\u001b[A\n",
      " 23%|██▎       | 96/413 [01:06<03:39,  1.44it/s, loss=0.375]\u001b[A\n",
      " 23%|██▎       | 96/413 [01:07<03:42,  1.43it/s, loss=0.375]\u001b[A\n",
      " 23%|██▎       | 97/413 [01:07<03:39,  1.44it/s, loss=0.375]\u001b[A\n",
      " 23%|██▎       | 97/413 [01:07<03:41,  1.43it/s, loss=0.375]\u001b[A\n",
      " 24%|██▎       | 98/413 [01:07<03:38,  1.44it/s, loss=0.375]\u001b[A\n",
      " 24%|██▎       | 98/413 [01:08<03:40,  1.43it/s, loss=0.385]\u001b[A\n",
      " 24%|██▍       | 99/413 [01:08<03:37,  1.44it/s, loss=0.385]\u001b[A\n",
      " 24%|██▍       | 99/413 [01:09<03:39,  1.43it/s, loss=0.387]\u001b[A\n",
      " 24%|██▍       | 100/413 [01:09<03:37,  1.44it/s, loss=0.387]\u001b[A\n",
      " 24%|██▍       | 100/413 [01:10<03:39,  1.43it/s, loss=0.392]\u001b[A\n",
      " 24%|██▍       | 101/413 [01:10<03:36,  1.44it/s, loss=0.392]\u001b[A\n",
      " 24%|██▍       | 101/413 [01:10<03:38,  1.43it/s, loss=0.389]\u001b[A\n",
      " 25%|██▍       | 102/413 [01:10<03:35,  1.44it/s, loss=0.389]\u001b[A\n",
      " 25%|██▍       | 102/413 [01:11<03:37,  1.43it/s, loss=0.383]\u001b[A\n",
      " 25%|██▍       | 103/413 [01:11<03:34,  1.44it/s, loss=0.383]\u001b[A\n",
      " 25%|██▍       | 103/413 [01:12<03:36,  1.43it/s, loss=0.38] \u001b[A\n",
      " 25%|██▌       | 104/413 [01:12<03:34,  1.44it/s, loss=0.38]\u001b[A\n",
      " 25%|██▌       | 104/413 [01:12<03:36,  1.43it/s, loss=0.378]\u001b[A\n",
      " 25%|██▌       | 105/413 [01:12<03:33,  1.44it/s, loss=0.378]\u001b[A\n",
      " 25%|██▌       | 105/413 [01:13<03:35,  1.43it/s, loss=0.377]\u001b[A\n",
      " 26%|██▌       | 106/413 [01:13<03:32,  1.44it/s, loss=0.377]\u001b[A\n",
      " 26%|██▌       | 106/413 [01:14<03:34,  1.43it/s, loss=0.375]\u001b[A\n",
      " 26%|██▌       | 107/413 [01:14<03:32,  1.44it/s, loss=0.375]\u001b[A\n",
      " 26%|██▌       | 107/413 [01:14<03:34,  1.43it/s, loss=0.382]\u001b[A\n",
      " 26%|██▌       | 108/413 [01:14<03:31,  1.44it/s, loss=0.382]\u001b[A\n",
      " 26%|██▌       | 108/413 [01:15<03:33,  1.43it/s, loss=0.38] \u001b[A\n",
      " 26%|██▋       | 109/413 [01:15<03:30,  1.44it/s, loss=0.38]\u001b[A\n",
      " 26%|██▋       | 109/413 [01:16<03:32,  1.43it/s, loss=0.387]\u001b[A\n",
      " 27%|██▋       | 110/413 [01:16<03:30,  1.44it/s, loss=0.387]\u001b[A\n",
      " 27%|██▋       | 110/413 [01:16<03:31,  1.43it/s, loss=0.386]\u001b[A\n",
      " 27%|██▋       | 111/413 [01:16<03:29,  1.44it/s, loss=0.386]\u001b[A\n",
      " 27%|██▋       | 111/413 [01:17<03:31,  1.43it/s, loss=0.388]\u001b[A\n",
      " 27%|██▋       | 112/413 [01:17<03:28,  1.44it/s, loss=0.388]\u001b[A\n",
      " 27%|██▋       | 112/413 [01:18<03:30,  1.43it/s, loss=0.388]\u001b[A\n",
      " 27%|██▋       | 113/413 [01:18<03:28,  1.44it/s, loss=0.388]\u001b[A\n",
      " 27%|██▋       | 113/413 [01:19<03:29,  1.43it/s, loss=0.385]\u001b[A\n",
      " 28%|██▊       | 114/413 [01:19<03:27,  1.44it/s, loss=0.385]\u001b[A\n",
      " 28%|██▊       | 114/413 [01:19<03:29,  1.43it/s, loss=0.386]\u001b[A\n",
      " 28%|██▊       | 115/413 [01:19<03:26,  1.44it/s, loss=0.386]\u001b[A\n",
      " 28%|██▊       | 115/413 [01:20<03:28,  1.43it/s, loss=0.385]\u001b[A\n",
      " 28%|██▊       | 116/413 [01:20<03:25,  1.44it/s, loss=0.385]\u001b[A\n",
      " 28%|██▊       | 116/413 [01:21<03:27,  1.43it/s, loss=0.384]\u001b[A\n",
      " 28%|██▊       | 117/413 [01:21<03:25,  1.44it/s, loss=0.384]\u001b[A\n",
      " 28%|██▊       | 117/413 [01:21<03:26,  1.43it/s, loss=0.382]\u001b[A\n",
      " 29%|██▊       | 118/413 [01:21<03:24,  1.44it/s, loss=0.382]\u001b[A\n",
      " 29%|██▊       | 118/413 [01:22<03:26,  1.43it/s, loss=0.38] \u001b[A\n",
      " 29%|██▉       | 119/413 [01:22<03:23,  1.44it/s, loss=0.38]\u001b[A\n",
      " 29%|██▉       | 119/413 [01:23<03:25,  1.43it/s, loss=0.379]\u001b[A\n",
      " 29%|██▉       | 120/413 [01:23<03:23,  1.44it/s, loss=0.379]\u001b[A\n",
      " 29%|██▉       | 120/413 [01:23<03:24,  1.43it/s, loss=0.379]\u001b[A\n",
      " 29%|██▉       | 121/413 [01:23<03:22,  1.44it/s, loss=0.379]\u001b[A\n",
      " 29%|██▉       | 121/413 [01:24<03:24,  1.43it/s, loss=0.377]\u001b[A\n",
      " 30%|██▉       | 122/413 [01:24<03:21,  1.44it/s, loss=0.377]\u001b[A\n",
      " 30%|██▉       | 122/413 [01:25<03:23,  1.43it/s, loss=0.376]\u001b[A\n",
      " 30%|██▉       | 123/413 [01:25<03:21,  1.44it/s, loss=0.376]\u001b[A\n",
      " 30%|██▉       | 123/413 [01:25<03:22,  1.43it/s, loss=0.372]\u001b[A\n",
      " 30%|███       | 124/413 [01:25<03:20,  1.44it/s, loss=0.372]\u001b[A\n",
      " 30%|███       | 124/413 [01:26<03:21,  1.43it/s, loss=0.37] \u001b[A\n",
      " 30%|███       | 125/413 [01:26<03:19,  1.44it/s, loss=0.37]\u001b[A\n",
      " 30%|███       | 125/413 [01:27<03:21,  1.43it/s, loss=0.38]\u001b[A\n",
      " 31%|███       | 126/413 [01:27<03:18,  1.44it/s, loss=0.38]\u001b[A\n",
      " 31%|███       | 126/413 [01:28<03:20,  1.43it/s, loss=0.379]\u001b[A\n",
      " 31%|███       | 127/413 [01:28<03:18,  1.44it/s, loss=0.379]\u001b[A\n"
     ]
    },
    {
     "name": "stdout",
     "output_type": "stream",
     "text": [
      " 31%|███       | 127/413 [01:28<03:19,  1.43it/s, loss=0.379]\u001b[A\n",
      " 31%|███       | 128/413 [01:28<03:17,  1.44it/s, loss=0.379]\u001b[A\n",
      " 31%|███       | 128/413 [01:29<03:19,  1.43it/s, loss=0.379]\u001b[A\n",
      " 31%|███       | 129/413 [01:29<03:16,  1.44it/s, loss=0.379]\u001b[A\n",
      " 31%|███       | 129/413 [01:30<03:18,  1.43it/s, loss=0.381]\u001b[A\n",
      " 31%|███▏      | 130/413 [01:30<03:16,  1.44it/s, loss=0.381]\u001b[A\n",
      " 31%|███▏      | 130/413 [01:30<03:17,  1.43it/s, loss=0.38] \u001b[A\n",
      " 32%|███▏      | 131/413 [01:30<03:15,  1.44it/s, loss=0.38]\u001b[A\n",
      " 32%|███▏      | 131/413 [01:31<03:16,  1.43it/s, loss=0.38]\u001b[A\n",
      " 32%|███▏      | 132/413 [01:31<03:14,  1.44it/s, loss=0.38]\u001b[A\n",
      " 32%|███▏      | 132/413 [01:32<03:16,  1.43it/s, loss=0.379]\u001b[A\n",
      " 32%|███▏      | 133/413 [01:32<03:14,  1.44it/s, loss=0.379]\u001b[A\n",
      " 32%|███▏      | 133/413 [01:32<03:15,  1.43it/s, loss=0.377]\u001b[A\n",
      " 32%|███▏      | 134/413 [01:32<03:13,  1.44it/s, loss=0.377]\u001b[A\n",
      " 32%|███▏      | 134/413 [01:33<03:14,  1.43it/s, loss=0.372]\u001b[A\n",
      " 33%|███▎      | 135/413 [01:33<03:12,  1.44it/s, loss=0.372]\u001b[A\n",
      " 33%|███▎      | 135/413 [01:34<03:14,  1.43it/s, loss=0.374]\u001b[A\n",
      " 33%|███▎      | 136/413 [01:34<03:11,  1.44it/s, loss=0.374]\u001b[A\n",
      " 33%|███▎      | 136/413 [01:34<03:13,  1.43it/s, loss=0.371]\u001b[A\n",
      " 33%|███▎      | 137/413 [01:34<03:11,  1.44it/s, loss=0.371]\u001b[A\n",
      " 33%|███▎      | 137/413 [01:35<03:12,  1.43it/s, loss=0.381]\u001b[A\n",
      " 33%|███▎      | 138/413 [01:35<03:10,  1.44it/s, loss=0.381]\u001b[A\n",
      " 33%|███▎      | 138/413 [01:36<03:11,  1.43it/s, loss=0.378]\u001b[A\n",
      " 34%|███▎      | 139/413 [01:36<03:09,  1.44it/s, loss=0.378]\u001b[A\n",
      " 34%|███▎      | 139/413 [01:37<03:11,  1.43it/s, loss=0.377]\u001b[A\n",
      " 34%|███▍      | 140/413 [01:37<03:09,  1.44it/s, loss=0.377]\u001b[A\n",
      " 34%|███▍      | 140/413 [01:37<03:10,  1.43it/s, loss=0.378]\u001b[A\n",
      " 34%|███▍      | 141/413 [01:37<03:08,  1.44it/s, loss=0.378]\u001b[A\n",
      " 34%|███▍      | 141/413 [01:38<03:09,  1.43it/s, loss=0.375]\u001b[A\n",
      " 34%|███▍      | 142/413 [01:38<03:07,  1.44it/s, loss=0.375]\u001b[A\n",
      " 34%|███▍      | 142/413 [01:39<03:09,  1.43it/s, loss=0.372]\u001b[A\n",
      " 35%|███▍      | 143/413 [01:39<03:07,  1.44it/s, loss=0.372]\u001b[A\n",
      " 35%|███▍      | 143/413 [01:39<03:08,  1.43it/s, loss=0.369]\u001b[A\n",
      " 35%|███▍      | 144/413 [01:39<03:06,  1.44it/s, loss=0.369]\u001b[A\n",
      " 35%|███▍      | 144/413 [01:40<03:07,  1.43it/s, loss=0.374]\u001b[A\n",
      " 35%|███▌      | 145/413 [01:40<03:05,  1.44it/s, loss=0.374]\u001b[A\n",
      " 35%|███▌      | 145/413 [01:41<03:06,  1.43it/s, loss=0.379]\u001b[A\n",
      " 35%|███▌      | 146/413 [01:41<03:05,  1.44it/s, loss=0.379]\u001b[A\n",
      " 35%|███▌      | 146/413 [01:41<03:06,  1.43it/s, loss=0.376]\u001b[A\n",
      " 36%|███▌      | 147/413 [01:41<03:04,  1.44it/s, loss=0.376]\u001b[A\n",
      " 36%|███▌      | 147/413 [01:42<03:05,  1.43it/s, loss=0.374]\u001b[A\n",
      " 36%|███▌      | 148/413 [01:42<03:03,  1.44it/s, loss=0.374]\u001b[A\n",
      " 36%|███▌      | 148/413 [01:43<03:04,  1.43it/s, loss=0.37] \u001b[A\n",
      " 36%|███▌      | 149/413 [01:43<03:02,  1.44it/s, loss=0.37]\u001b[A\n",
      " 36%|███▌      | 149/413 [01:43<03:04,  1.43it/s, loss=0.367]\u001b[A\n",
      " 36%|███▋      | 150/413 [01:43<03:02,  1.44it/s, loss=0.367]\u001b[A\n",
      " 36%|███▋      | 150/413 [01:44<03:03,  1.43it/s, loss=0.364]\u001b[A\n",
      " 37%|███▋      | 151/413 [01:44<03:01,  1.44it/s, loss=0.364]\u001b[A\n",
      " 37%|███▋      | 151/413 [01:45<03:02,  1.43it/s, loss=0.366]\u001b[A\n",
      " 37%|███▋      | 152/413 [01:45<03:00,  1.44it/s, loss=0.366]\u001b[A\n",
      " 37%|███▋      | 152/413 [01:46<03:02,  1.43it/s, loss=0.369]\u001b[A\n",
      " 37%|███▋      | 153/413 [01:46<03:00,  1.44it/s, loss=0.369]\u001b[A\n",
      " 37%|███▋      | 153/413 [01:46<03:01,  1.43it/s, loss=0.368]\u001b[A\n",
      " 37%|███▋      | 154/413 [01:46<02:59,  1.44it/s, loss=0.368]\u001b[A\n",
      " 37%|███▋      | 154/413 [01:47<03:00,  1.43it/s, loss=0.373]\u001b[A\n",
      " 38%|███▊      | 155/413 [01:47<02:58,  1.44it/s, loss=0.373]\u001b[A\n",
      " 38%|███▊      | 155/413 [01:48<02:59,  1.43it/s, loss=0.378]\u001b[A\n",
      " 38%|███▊      | 156/413 [01:48<02:58,  1.44it/s, loss=0.378]\u001b[A\n",
      " 38%|███▊      | 156/413 [01:48<02:59,  1.43it/s, loss=0.376]\u001b[A\n",
      " 38%|███▊      | 157/413 [01:48<02:57,  1.44it/s, loss=0.376]\u001b[A\n",
      " 38%|███▊      | 157/413 [01:49<02:58,  1.43it/s, loss=0.377]\u001b[A\n",
      " 38%|███▊      | 158/413 [01:49<02:56,  1.44it/s, loss=0.377]\u001b[A\n",
      " 38%|███▊      | 158/413 [01:50<02:57,  1.43it/s, loss=0.378]\u001b[A\n",
      " 38%|███▊      | 159/413 [01:50<02:56,  1.44it/s, loss=0.378]\u001b[A\n",
      " 38%|███▊      | 159/413 [01:50<02:57,  1.43it/s, loss=0.382]\u001b[A\n",
      " 39%|███▊      | 160/413 [01:50<02:55,  1.44it/s, loss=0.382]\u001b[A\n",
      " 39%|███▊      | 160/413 [01:51<02:56,  1.43it/s, loss=0.379]\u001b[A\n",
      " 39%|███▉      | 161/413 [01:51<02:54,  1.44it/s, loss=0.379]\u001b[A\n",
      " 39%|███▉      | 161/413 [01:52<02:55,  1.43it/s, loss=0.376]\u001b[A\n",
      " 39%|███▉      | 162/413 [01:52<02:53,  1.44it/s, loss=0.376]\u001b[A\n",
      " 39%|███▉      | 162/413 [01:52<02:54,  1.43it/s, loss=0.373]\u001b[A\n",
      " 39%|███▉      | 163/413 [01:52<02:53,  1.44it/s, loss=0.373]\u001b[A\n",
      " 39%|███▉      | 163/413 [01:53<02:54,  1.43it/s, loss=0.372]\u001b[A\n",
      " 40%|███▉      | 164/413 [01:53<02:52,  1.44it/s, loss=0.372]\u001b[A\n",
      " 40%|███▉      | 164/413 [01:54<02:53,  1.43it/s, loss=0.37] \u001b[A\n",
      " 40%|███▉      | 165/413 [01:54<02:51,  1.44it/s, loss=0.37]\u001b[A\n",
      " 40%|███▉      | 165/413 [01:55<02:52,  1.43it/s, loss=0.369]\u001b[A\n",
      " 40%|████      | 166/413 [01:55<02:51,  1.44it/s, loss=0.369]\u001b[A\n",
      " 40%|████      | 166/413 [01:55<02:52,  1.43it/s, loss=0.371]\u001b[A\n",
      " 40%|████      | 167/413 [01:55<02:50,  1.44it/s, loss=0.371]\u001b[A\n",
      " 40%|████      | 167/413 [01:56<02:51,  1.43it/s, loss=0.371]\u001b[A\n",
      " 41%|████      | 168/413 [01:56<02:49,  1.44it/s, loss=0.371]\u001b[A\n",
      " 41%|████      | 168/413 [01:57<02:50,  1.43it/s, loss=0.373]\u001b[A\n",
      " 41%|████      | 169/413 [01:57<02:49,  1.44it/s, loss=0.373]\u001b[A\n",
      " 41%|████      | 169/413 [01:57<02:50,  1.43it/s, loss=0.372]\u001b[A\n",
      " 41%|████      | 170/413 [01:57<02:48,  1.44it/s, loss=0.372]\u001b[A\n",
      " 41%|████      | 170/413 [01:58<02:49,  1.43it/s, loss=0.37] \u001b[A\n",
      " 41%|████▏     | 171/413 [01:58<02:47,  1.44it/s, loss=0.37]\u001b[A\n",
      " 41%|████▏     | 171/413 [01:59<02:48,  1.43it/s, loss=0.373]\u001b[A\n",
      " 42%|████▏     | 172/413 [01:59<02:46,  1.44it/s, loss=0.373]\u001b[A\n",
      " 42%|████▏     | 172/413 [01:59<02:47,  1.44it/s, loss=0.371]\u001b[A\n",
      " 42%|████▏     | 173/413 [01:59<02:46,  1.44it/s, loss=0.371]\u001b[A\n",
      " 42%|████▏     | 173/413 [02:00<02:47,  1.44it/s, loss=0.368]\u001b[A\n",
      " 42%|████▏     | 174/413 [02:00<02:45,  1.44it/s, loss=0.368]\u001b[A\n",
      " 42%|████▏     | 174/413 [02:01<02:46,  1.44it/s, loss=0.37] \u001b[A\n",
      " 42%|████▏     | 175/413 [02:01<02:44,  1.44it/s, loss=0.37]\u001b[A\n",
      " 42%|████▏     | 175/413 [02:01<02:45,  1.44it/s, loss=0.371]\u001b[A\n",
      " 43%|████▎     | 176/413 [02:01<02:44,  1.44it/s, loss=0.371]\u001b[A\n",
      " 43%|████▎     | 176/413 [02:02<02:45,  1.44it/s, loss=0.368]\u001b[A\n",
      " 43%|████▎     | 177/413 [02:02<02:43,  1.44it/s, loss=0.368]\u001b[A\n",
      " 43%|████▎     | 177/413 [02:03<02:44,  1.44it/s, loss=0.37] \u001b[A\n",
      " 43%|████▎     | 178/413 [02:03<02:42,  1.44it/s, loss=0.37]\u001b[A\n",
      " 43%|████▎     | 178/413 [02:04<02:43,  1.44it/s, loss=0.376]\u001b[A\n",
      " 43%|████▎     | 179/413 [02:04<02:42,  1.44it/s, loss=0.376]\u001b[A\n",
      " 43%|████▎     | 179/413 [02:04<02:43,  1.44it/s, loss=0.373]\u001b[A\n",
      " 44%|████▎     | 180/413 [02:04<02:41,  1.44it/s, loss=0.373]\u001b[A\n",
      " 44%|████▎     | 180/413 [02:05<02:42,  1.44it/s, loss=0.376]\u001b[A\n",
      " 44%|████▍     | 181/413 [02:05<02:40,  1.44it/s, loss=0.376]\u001b[A\n",
      " 44%|████▍     | 181/413 [02:06<02:41,  1.44it/s, loss=0.37] \u001b[A\n",
      " 44%|████▍     | 182/413 [02:06<02:40,  1.44it/s, loss=0.37]\u001b[A\n",
      " 44%|████▍     | 182/413 [02:06<02:40,  1.44it/s, loss=0.372]\u001b[A\n",
      " 44%|████▍     | 183/413 [02:06<02:39,  1.44it/s, loss=0.372]\u001b[A\n",
      " 44%|████▍     | 183/413 [02:07<02:40,  1.44it/s, loss=0.374]\u001b[A\n",
      " 45%|████▍     | 184/413 [02:07<02:38,  1.44it/s, loss=0.374]\u001b[A\n",
      " 45%|████▍     | 184/413 [02:08<02:39,  1.44it/s, loss=0.375]\u001b[A\n",
      " 45%|████▍     | 185/413 [02:08<02:37,  1.44it/s, loss=0.375]\u001b[A\n",
      " 45%|████▍     | 185/413 [02:08<02:38,  1.44it/s, loss=0.371]\u001b[A\n",
      " 45%|████▌     | 186/413 [02:08<02:37,  1.44it/s, loss=0.371]\u001b[A\n",
      " 45%|████▌     | 186/413 [02:09<02:38,  1.44it/s, loss=0.37] \u001b[A\n",
      " 45%|████▌     | 187/413 [02:09<02:36,  1.44it/s, loss=0.37]\u001b[A\n",
      " 45%|████▌     | 187/413 [02:10<02:37,  1.44it/s, loss=0.369]\u001b[A\n",
      " 46%|████▌     | 188/413 [02:10<02:35,  1.44it/s, loss=0.369]\u001b[A\n",
      " 46%|████▌     | 188/413 [02:10<02:36,  1.44it/s, loss=0.366]\u001b[A\n",
      " 46%|████▌     | 189/413 [02:10<02:35,  1.44it/s, loss=0.366]\u001b[A\n",
      " 46%|████▌     | 189/413 [02:11<02:35,  1.44it/s, loss=0.362]\u001b[A\n",
      " 46%|████▌     | 190/413 [02:11<02:34,  1.44it/s, loss=0.362]\u001b[A\n",
      " 46%|████▌     | 190/413 [02:12<02:35,  1.44it/s, loss=0.361]\u001b[A\n",
      " 46%|████▌     | 191/413 [02:12<02:33,  1.44it/s, loss=0.361]\u001b[A\n",
      " 46%|████▌     | 191/413 [02:12<02:34,  1.44it/s, loss=0.358]\u001b[A\n",
      " 46%|████▋     | 192/413 [02:13<02:33,  1.44it/s, loss=0.358]\u001b[A\n",
      " 46%|████▋     | 192/413 [02:13<02:33,  1.44it/s, loss=0.358]\u001b[A\n",
      " 47%|████▋     | 193/413 [02:13<02:32,  1.44it/s, loss=0.358]\u001b[A\n",
      " 47%|████▋     | 193/413 [02:14<02:33,  1.44it/s, loss=0.356]\u001b[A\n",
      " 47%|████▋     | 194/413 [02:14<02:31,  1.44it/s, loss=0.356]\u001b[A\n",
      " 47%|████▋     | 194/413 [02:15<02:32,  1.44it/s, loss=0.353]\u001b[A\n",
      " 47%|████▋     | 195/413 [02:15<02:31,  1.44it/s, loss=0.353]\u001b[A\n",
      " 47%|████▋     | 195/413 [02:15<02:31,  1.44it/s, loss=0.351]\u001b[A\n",
      " 47%|████▋     | 196/413 [02:15<02:30,  1.44it/s, loss=0.351]\u001b[A\n",
      " 47%|████▋     | 196/413 [02:16<02:31,  1.44it/s, loss=0.35] \u001b[A\n",
      " 48%|████▊     | 197/413 [02:16<02:29,  1.44it/s, loss=0.35]\u001b[A\n",
      " 48%|████▊     | 197/413 [02:17<02:30,  1.44it/s, loss=0.347]\u001b[A\n",
      " 48%|████▊     | 198/413 [02:17<02:28,  1.44it/s, loss=0.347]\u001b[A\n",
      " 48%|████▊     | 198/413 [02:17<02:29,  1.44it/s, loss=0.344]\u001b[A\n",
      " 48%|████▊     | 199/413 [02:17<02:28,  1.44it/s, loss=0.344]\u001b[A\n",
      " 48%|████▊     | 199/413 [02:18<02:28,  1.44it/s, loss=0.342]\u001b[A\n",
      " 48%|████▊     | 200/413 [02:18<02:27,  1.44it/s, loss=0.342]\u001b[A\n",
      " 48%|████▊     | 200/413 [02:19<02:28,  1.44it/s, loss=0.34] \u001b[A\n",
      " 49%|████▊     | 201/413 [02:19<02:26,  1.44it/s, loss=0.34]\u001b[A\n",
      " 49%|████▊     | 201/413 [02:19<02:27,  1.44it/s, loss=0.336]\u001b[A\n",
      " 49%|████▉     | 202/413 [02:19<02:26,  1.44it/s, loss=0.336]\u001b[A\n",
      " 49%|████▉     | 202/413 [02:20<02:26,  1.44it/s, loss=0.336]\u001b[A\n",
      " 49%|████▉     | 203/413 [02:20<02:25,  1.44it/s, loss=0.336]\u001b[A\n",
      " 49%|████▉     | 203/413 [02:21<02:26,  1.44it/s, loss=0.333]\u001b[A\n",
      " 49%|████▉     | 204/413 [02:21<02:24,  1.44it/s, loss=0.333]\u001b[A\n",
      " 49%|████▉     | 204/413 [02:21<02:25,  1.44it/s, loss=0.332]\u001b[A\n",
      " 50%|████▉     | 205/413 [02:21<02:24,  1.44it/s, loss=0.332]\u001b[A\n",
      " 50%|████▉     | 205/413 [02:22<02:24,  1.44it/s, loss=0.33] \u001b[A\n",
      " 50%|████▉     | 206/413 [02:22<02:23,  1.44it/s, loss=0.33]\u001b[A\n",
      " 50%|████▉     | 206/413 [02:23<02:24,  1.44it/s, loss=0.332]\u001b[A\n",
      " 50%|█████     | 207/413 [02:23<02:22,  1.44it/s, loss=0.332]\u001b[A\n",
      " 50%|█████     | 207/413 [02:24<02:23,  1.44it/s, loss=0.331]\u001b[A\n",
      " 50%|█████     | 208/413 [02:24<02:21,  1.44it/s, loss=0.331]\u001b[A\n",
      " 50%|█████     | 208/413 [02:24<02:22,  1.44it/s, loss=0.33] \u001b[A\n",
      " 51%|█████     | 209/413 [02:24<02:21,  1.44it/s, loss=0.33]\u001b[A\n",
      " 51%|█████     | 209/413 [02:25<02:21,  1.44it/s, loss=0.334]\u001b[A\n",
      " 51%|█████     | 210/413 [02:25<02:20,  1.44it/s, loss=0.334]\u001b[A\n",
      " 51%|█████     | 210/413 [02:26<02:21,  1.44it/s, loss=0.332]\u001b[A\n",
      " 51%|█████     | 211/413 [02:26<02:19,  1.44it/s, loss=0.332]\u001b[A\n",
      " 51%|█████     | 211/413 [02:26<02:20,  1.44it/s, loss=0.334]\u001b[A\n",
      " 51%|█████▏    | 212/413 [02:26<02:19,  1.44it/s, loss=0.334]\u001b[A\n",
      " 51%|█████▏    | 212/413 [02:27<02:19,  1.44it/s, loss=0.332]\u001b[A\n",
      " 52%|█████▏    | 213/413 [02:27<02:18,  1.44it/s, loss=0.332]\u001b[A\n",
      " 52%|█████▏    | 213/413 [02:28<02:19,  1.44it/s, loss=0.334]\u001b[A\n",
      " 52%|█████▏    | 214/413 [02:28<02:17,  1.44it/s, loss=0.334]\u001b[A\n",
      " 52%|█████▏    | 214/413 [02:28<02:18,  1.44it/s, loss=0.34] \u001b[A\n",
      " 52%|█████▏    | 215/413 [02:28<02:17,  1.44it/s, loss=0.34]\u001b[A\n",
      " 52%|█████▏    | 215/413 [02:29<02:17,  1.44it/s, loss=0.341]\u001b[A\n",
      " 52%|█████▏    | 216/413 [02:29<02:16,  1.44it/s, loss=0.341]\u001b[A\n",
      " 52%|█████▏    | 216/413 [02:30<02:17,  1.44it/s, loss=0.344]\u001b[A\n",
      " 53%|█████▎    | 217/413 [02:30<02:15,  1.44it/s, loss=0.344]\u001b[A\n",
      " 53%|█████▎    | 217/413 [02:30<02:16,  1.44it/s, loss=0.344]\u001b[A\n",
      " 53%|█████▎    | 218/413 [02:30<02:15,  1.44it/s, loss=0.344]\u001b[A\n",
      " 53%|█████▎    | 218/413 [02:31<02:15,  1.44it/s, loss=0.341]\u001b[A\n",
      " 53%|█████▎    | 219/413 [02:31<02:14,  1.44it/s, loss=0.341]\u001b[A\n",
      " 53%|█████▎    | 219/413 [02:32<02:14,  1.44it/s, loss=0.339]\u001b[A\n",
      " 53%|█████▎    | 220/413 [02:32<02:13,  1.44it/s, loss=0.339]\u001b[A\n",
      " 53%|█████▎    | 220/413 [02:33<02:14,  1.44it/s, loss=0.347]\u001b[A\n",
      " 54%|█████▎    | 221/413 [02:33<02:12,  1.44it/s, loss=0.347]\u001b[A\n",
      " 54%|█████▎    | 221/413 [02:33<02:13,  1.44it/s, loss=0.352]\u001b[A\n",
      " 54%|█████▍    | 222/413 [02:33<02:12,  1.44it/s, loss=0.352]\u001b[A\n",
      " 54%|█████▍    | 222/413 [02:34<02:12,  1.44it/s, loss=0.352]\u001b[A\n",
      " 54%|█████▍    | 223/413 [02:34<02:11,  1.44it/s, loss=0.352]\u001b[A\n",
      " 54%|█████▍    | 223/413 [02:35<02:12,  1.44it/s, loss=0.354]\u001b[A\n",
      " 54%|█████▍    | 224/413 [02:35<02:10,  1.44it/s, loss=0.354]\u001b[A\n",
      " 54%|█████▍    | 224/413 [02:35<02:11,  1.44it/s, loss=0.356]\u001b[A\n",
      " 54%|█████▍    | 225/413 [02:35<02:10,  1.44it/s, loss=0.356]\u001b[A\n",
      " 54%|█████▍    | 225/413 [02:36<02:10,  1.44it/s, loss=0.353]\u001b[A\n",
      " 55%|█████▍    | 226/413 [02:36<02:09,  1.44it/s, loss=0.353]\u001b[A\n",
      " 55%|█████▍    | 226/413 [02:37<02:10,  1.44it/s, loss=0.35] \u001b[A\n",
      " 55%|█████▍    | 227/413 [02:37<02:08,  1.44it/s, loss=0.35]\u001b[A\n",
      " 55%|█████▍    | 227/413 [02:37<02:09,  1.44it/s, loss=0.348]\u001b[A\n",
      " 55%|█████▌    | 228/413 [02:37<02:08,  1.44it/s, loss=0.348]\u001b[A\n",
      " 55%|█████▌    | 228/413 [02:38<02:08,  1.44it/s, loss=0.347]\u001b[A\n",
      " 55%|█████▌    | 229/413 [02:38<02:07,  1.44it/s, loss=0.347]\u001b[A\n",
      " 55%|█████▌    | 229/413 [02:39<02:07,  1.44it/s, loss=0.345]\u001b[A\n",
      " 56%|█████▌    | 230/413 [02:39<02:06,  1.44it/s, loss=0.345]\u001b[A\n",
      " 56%|█████▌    | 230/413 [02:39<02:07,  1.44it/s, loss=0.342]\u001b[A\n",
      " 56%|█████▌    | 231/413 [02:39<02:06,  1.44it/s, loss=0.342]\u001b[A\n",
      " 56%|█████▌    | 231/413 [02:40<02:06,  1.44it/s, loss=0.343]\u001b[A\n",
      " 56%|█████▌    | 232/413 [02:40<02:05,  1.44it/s, loss=0.343]\u001b[A\n",
      " 56%|█████▌    | 232/413 [02:41<02:05,  1.44it/s, loss=0.342]\u001b[A\n",
      " 56%|█████▋    | 233/413 [02:41<02:04,  1.44it/s, loss=0.342]\u001b[A\n",
      " 56%|█████▋    | 233/413 [02:42<02:05,  1.44it/s, loss=0.339]\u001b[A\n",
      " 57%|█████▋    | 234/413 [02:42<02:03,  1.44it/s, loss=0.339]\u001b[A\n",
      " 57%|█████▋    | 234/413 [02:42<02:04,  1.44it/s, loss=0.338]\u001b[A\n",
      " 57%|█████▋    | 235/413 [02:42<02:03,  1.44it/s, loss=0.338]\u001b[A\n",
      " 57%|█████▋    | 235/413 [02:43<02:03,  1.44it/s, loss=0.337]\u001b[A\n",
      " 57%|█████▋    | 236/413 [02:43<02:02,  1.44it/s, loss=0.337]\u001b[A\n",
      " 57%|█████▋    | 236/413 [02:44<02:03,  1.44it/s, loss=0.339]\u001b[A\n",
      " 57%|█████▋    | 237/413 [02:44<02:01,  1.44it/s, loss=0.339]\u001b[A\n",
      " 57%|█████▋    | 237/413 [02:44<02:02,  1.44it/s, loss=0.341]\u001b[A\n",
      " 58%|█████▊    | 238/413 [02:44<02:01,  1.44it/s, loss=0.341]\u001b[A\n",
      " 58%|█████▊    | 238/413 [02:45<02:01,  1.44it/s, loss=0.344]\u001b[A\n",
      " 58%|█████▊    | 239/413 [02:45<02:00,  1.44it/s, loss=0.344]\u001b[A\n",
      " 58%|█████▊    | 239/413 [02:46<02:00,  1.44it/s, loss=0.346]\u001b[A\n",
      " 58%|█████▊    | 240/413 [02:46<01:59,  1.44it/s, loss=0.346]\u001b[A\n",
      " 58%|█████▊    | 240/413 [02:46<02:00,  1.44it/s, loss=0.344]\u001b[A\n",
      " 58%|█████▊    | 241/413 [02:46<01:59,  1.45it/s, loss=0.344]\u001b[A\n",
      " 58%|█████▊    | 241/413 [02:47<01:59,  1.44it/s, loss=0.345]\u001b[A\n",
      " 59%|█████▊    | 242/413 [02:47<01:58,  1.45it/s, loss=0.345]\u001b[A\n",
      " 59%|█████▊    | 242/413 [02:48<01:58,  1.44it/s, loss=0.345]\u001b[A\n",
      " 59%|█████▉    | 243/413 [02:48<01:57,  1.45it/s, loss=0.345]\u001b[A\n",
      " 59%|█████▉    | 243/413 [02:48<01:58,  1.44it/s, loss=0.345]\u001b[A\n",
      " 59%|█████▉    | 244/413 [02:48<01:56,  1.45it/s, loss=0.345]\u001b[A\n",
      " 59%|█████▉    | 244/413 [02:49<01:57,  1.44it/s, loss=0.344]\u001b[A\n",
      " 59%|█████▉    | 245/413 [02:49<01:56,  1.45it/s, loss=0.344]\u001b[A\n",
      " 59%|█████▉    | 245/413 [02:50<01:56,  1.44it/s, loss=0.339]\u001b[A\n",
      " 60%|█████▉    | 246/413 [02:50<01:55,  1.45it/s, loss=0.339]\u001b[A\n",
      " 60%|█████▉    | 246/413 [02:50<01:55,  1.44it/s, loss=0.339]\u001b[A\n",
      " 60%|█████▉    | 247/413 [02:50<01:54,  1.45it/s, loss=0.339]\u001b[A\n",
      " 60%|█████▉    | 247/413 [02:51<01:55,  1.44it/s, loss=0.341]\u001b[A\n",
      " 60%|██████    | 248/413 [02:51<01:54,  1.45it/s, loss=0.341]\u001b[A\n",
      " 60%|██████    | 248/413 [02:52<01:54,  1.44it/s, loss=0.343]\u001b[A\n",
      " 60%|██████    | 249/413 [02:52<01:53,  1.45it/s, loss=0.343]\u001b[A\n",
      " 60%|██████    | 249/413 [02:52<01:53,  1.44it/s, loss=0.341]\u001b[A\n",
      " 61%|██████    | 250/413 [02:52<01:52,  1.45it/s, loss=0.341]\u001b[A\n",
      " 61%|██████    | 250/413 [02:53<01:53,  1.44it/s, loss=0.34] \u001b[A\n",
      " 61%|██████    | 251/413 [02:53<01:51,  1.45it/s, loss=0.34]\u001b[A\n",
      " 61%|██████    | 251/413 [02:54<01:52,  1.44it/s, loss=0.341]\u001b[A\n",
      " 61%|██████    | 252/413 [02:54<01:51,  1.45it/s, loss=0.341]\u001b[A\n",
      " 61%|██████    | 252/413 [02:54<01:51,  1.44it/s, loss=0.346]\u001b[A\n",
      " 61%|██████▏   | 253/413 [02:54<01:50,  1.45it/s, loss=0.346]\u001b[A\n"
     ]
    },
    {
     "name": "stdout",
     "output_type": "stream",
     "text": [
      " 61%|██████▏   | 253/413 [02:55<01:50,  1.44it/s, loss=0.35] \u001b[A\n",
      " 62%|██████▏   | 254/413 [02:55<01:49,  1.45it/s, loss=0.35]\u001b[A\n",
      " 62%|██████▏   | 254/413 [02:56<01:50,  1.44it/s, loss=0.348]\u001b[A\n",
      " 62%|██████▏   | 255/413 [02:56<01:49,  1.45it/s, loss=0.348]\u001b[A\n",
      " 62%|██████▏   | 255/413 [02:56<01:49,  1.44it/s, loss=0.346]\u001b[A\n",
      " 62%|██████▏   | 256/413 [02:56<01:48,  1.45it/s, loss=0.346]\u001b[A\n",
      " 62%|██████▏   | 256/413 [02:57<01:48,  1.44it/s, loss=0.345]\u001b[A\n",
      " 62%|██████▏   | 257/413 [02:57<01:47,  1.45it/s, loss=0.345]\u001b[A\n",
      " 62%|██████▏   | 257/413 [02:58<01:48,  1.44it/s, loss=0.348]\u001b[A\n",
      " 62%|██████▏   | 258/413 [02:58<01:47,  1.45it/s, loss=0.348]\u001b[A\n",
      " 62%|██████▏   | 258/413 [02:58<01:47,  1.44it/s, loss=0.345]\u001b[A\n",
      " 63%|██████▎   | 259/413 [02:58<01:46,  1.45it/s, loss=0.345]\u001b[A\n",
      " 63%|██████▎   | 259/413 [02:59<01:46,  1.44it/s, loss=0.35] \u001b[A\n",
      " 63%|██████▎   | 260/413 [02:59<01:45,  1.45it/s, loss=0.35]\u001b[A\n",
      " 63%|██████▎   | 260/413 [03:00<01:46,  1.44it/s, loss=0.351]\u001b[A\n",
      " 63%|██████▎   | 261/413 [03:00<01:44,  1.45it/s, loss=0.351]\u001b[A\n",
      " 63%|██████▎   | 261/413 [03:00<01:45,  1.44it/s, loss=0.349]\u001b[A\n",
      " 63%|██████▎   | 262/413 [03:00<01:44,  1.45it/s, loss=0.349]\u001b[A\n",
      " 63%|██████▎   | 262/413 [03:01<01:44,  1.44it/s, loss=0.349]\u001b[A\n",
      " 64%|██████▎   | 263/413 [03:01<01:43,  1.45it/s, loss=0.349]\u001b[A\n",
      " 64%|██████▎   | 263/413 [03:02<01:43,  1.44it/s, loss=0.35] \u001b[A\n",
      " 64%|██████▍   | 264/413 [03:02<01:42,  1.45it/s, loss=0.35]\u001b[A\n",
      " 64%|██████▍   | 264/413 [03:02<01:43,  1.44it/s, loss=0.348]\u001b[A\n",
      " 64%|██████▍   | 265/413 [03:02<01:42,  1.45it/s, loss=0.348]\u001b[A\n",
      " 64%|██████▍   | 265/413 [03:03<01:42,  1.44it/s, loss=0.346]\u001b[A\n",
      " 64%|██████▍   | 266/413 [03:03<01:41,  1.45it/s, loss=0.346]\u001b[A\n",
      " 64%|██████▍   | 266/413 [03:04<01:41,  1.44it/s, loss=0.343]\u001b[A\n",
      " 65%|██████▍   | 267/413 [03:04<01:40,  1.45it/s, loss=0.343]\u001b[A\n",
      " 65%|██████▍   | 267/413 [03:04<01:41,  1.44it/s, loss=0.341]\u001b[A\n",
      " 65%|██████▍   | 268/413 [03:04<01:40,  1.45it/s, loss=0.341]\u001b[A\n",
      " 65%|██████▍   | 268/413 [03:05<01:40,  1.44it/s, loss=0.35] \u001b[A\n",
      " 65%|██████▌   | 269/413 [03:05<01:39,  1.45it/s, loss=0.35]\u001b[A\n",
      " 65%|██████▌   | 269/413 [03:06<01:39,  1.44it/s, loss=0.349]\u001b[A\n",
      " 65%|██████▌   | 270/413 [03:06<01:38,  1.45it/s, loss=0.349]\u001b[A\n",
      " 65%|██████▌   | 270/413 [03:06<01:38,  1.44it/s, loss=0.348]\u001b[A\n",
      " 66%|██████▌   | 271/413 [03:06<01:37,  1.45it/s, loss=0.348]\u001b[A\n",
      " 66%|██████▌   | 271/413 [03:07<01:38,  1.44it/s, loss=0.354]\u001b[A\n",
      " 66%|██████▌   | 272/413 [03:07<01:37,  1.45it/s, loss=0.354]\u001b[A\n",
      " 66%|██████▌   | 272/413 [03:08<01:37,  1.44it/s, loss=0.352]\u001b[A\n",
      " 66%|██████▌   | 273/413 [03:08<01:36,  1.45it/s, loss=0.352]\u001b[A\n",
      " 66%|██████▌   | 273/413 [03:08<01:36,  1.44it/s, loss=0.35] \u001b[A\n",
      " 66%|██████▋   | 274/413 [03:08<01:35,  1.45it/s, loss=0.35]\u001b[A\n",
      " 66%|██████▋   | 274/413 [03:09<01:36,  1.45it/s, loss=0.348]\u001b[A\n",
      " 67%|██████▋   | 275/413 [03:09<01:35,  1.45it/s, loss=0.348]\u001b[A\n",
      " 67%|██████▋   | 275/413 [03:10<01:35,  1.45it/s, loss=0.346]\u001b[A\n",
      " 67%|██████▋   | 276/413 [03:10<01:34,  1.45it/s, loss=0.346]\u001b[A\n",
      " 67%|██████▋   | 276/413 [03:10<01:34,  1.45it/s, loss=0.35] \u001b[A\n",
      " 67%|██████▋   | 277/413 [03:10<01:33,  1.45it/s, loss=0.35]\u001b[A\n",
      " 67%|██████▋   | 277/413 [03:11<01:34,  1.45it/s, loss=0.349]\u001b[A\n",
      " 67%|██████▋   | 278/413 [03:11<01:33,  1.45it/s, loss=0.349]\u001b[A\n",
      " 67%|██████▋   | 278/413 [03:12<01:33,  1.45it/s, loss=0.349]\u001b[A\n",
      " 68%|██████▊   | 279/413 [03:12<01:32,  1.45it/s, loss=0.349]\u001b[A\n",
      " 68%|██████▊   | 279/413 [03:12<01:32,  1.45it/s, loss=0.361]\u001b[A\n",
      " 68%|██████▊   | 280/413 [03:12<01:31,  1.45it/s, loss=0.361]\u001b[A\n",
      " 68%|██████▊   | 280/413 [03:13<01:31,  1.45it/s, loss=0.359]\u001b[A\n",
      " 68%|██████▊   | 281/413 [03:13<01:30,  1.45it/s, loss=0.359]\u001b[A\n",
      " 68%|██████▊   | 281/413 [03:14<01:31,  1.45it/s, loss=0.363]\u001b[A\n",
      " 68%|██████▊   | 282/413 [03:14<01:30,  1.45it/s, loss=0.363]\u001b[A\n",
      " 68%|██████▊   | 282/413 [03:14<01:30,  1.45it/s, loss=0.361]\u001b[A\n",
      " 69%|██████▊   | 283/413 [03:14<01:29,  1.45it/s, loss=0.361]\u001b[A\n",
      " 69%|██████▊   | 283/413 [03:15<01:29,  1.45it/s, loss=0.361]\u001b[A\n",
      " 69%|██████▉   | 284/413 [03:15<01:28,  1.45it/s, loss=0.361]\u001b[A\n",
      " 69%|██████▉   | 284/413 [03:16<01:29,  1.45it/s, loss=0.363]\u001b[A\n",
      " 69%|██████▉   | 285/413 [03:16<01:28,  1.45it/s, loss=0.363]\u001b[A\n",
      " 69%|██████▉   | 285/413 [03:16<01:28,  1.45it/s, loss=0.361]\u001b[A\n",
      " 69%|██████▉   | 286/413 [03:16<01:27,  1.45it/s, loss=0.361]\u001b[A\n",
      " 69%|██████▉   | 286/413 [03:17<01:27,  1.45it/s, loss=0.36] \u001b[A\n",
      " 69%|██████▉   | 287/413 [03:17<01:26,  1.45it/s, loss=0.36]\u001b[A\n",
      " 69%|██████▉   | 287/413 [03:18<01:27,  1.45it/s, loss=0.364]\u001b[A\n",
      " 70%|██████▉   | 288/413 [03:18<01:26,  1.45it/s, loss=0.364]\u001b[A\n",
      " 70%|██████▉   | 288/413 [03:18<01:26,  1.45it/s, loss=0.361]\u001b[A\n",
      " 70%|██████▉   | 289/413 [03:18<01:25,  1.45it/s, loss=0.361]\u001b[A\n",
      " 70%|██████▉   | 289/413 [03:19<01:25,  1.45it/s, loss=0.357]\u001b[A\n",
      " 70%|███████   | 290/413 [03:19<01:24,  1.45it/s, loss=0.357]\u001b[A\n",
      " 70%|███████   | 290/413 [03:20<01:24,  1.45it/s, loss=0.355]\u001b[A\n",
      " 70%|███████   | 291/413 [03:20<01:23,  1.45it/s, loss=0.355]\u001b[A\n",
      " 70%|███████   | 291/413 [03:20<01:24,  1.45it/s, loss=0.353]\u001b[A\n",
      " 71%|███████   | 292/413 [03:20<01:23,  1.45it/s, loss=0.353]\u001b[A\n",
      " 71%|███████   | 292/413 [03:21<01:23,  1.45it/s, loss=0.351]\u001b[A\n",
      " 71%|███████   | 293/413 [03:21<01:22,  1.45it/s, loss=0.351]\u001b[A\n",
      " 71%|███████   | 293/413 [03:22<01:22,  1.45it/s, loss=0.355]\u001b[A\n",
      " 71%|███████   | 294/413 [03:22<01:21,  1.45it/s, loss=0.355]\u001b[A\n",
      " 71%|███████   | 294/413 [03:23<01:22,  1.45it/s, loss=0.359]\u001b[A\n",
      " 71%|███████▏  | 295/413 [03:23<01:21,  1.45it/s, loss=0.359]\u001b[A\n",
      " 71%|███████▏  | 295/413 [03:23<01:21,  1.45it/s, loss=0.354]\u001b[A\n",
      " 72%|███████▏  | 296/413 [03:23<01:20,  1.45it/s, loss=0.354]\u001b[A\n",
      " 72%|███████▏  | 296/413 [03:24<01:20,  1.45it/s, loss=0.36] \u001b[A\n",
      " 72%|███████▏  | 297/413 [03:24<01:19,  1.45it/s, loss=0.36]\u001b[A\n",
      " 72%|███████▏  | 297/413 [03:25<01:20,  1.45it/s, loss=0.355]\u001b[A\n",
      " 72%|███████▏  | 298/413 [03:25<01:19,  1.45it/s, loss=0.355]\u001b[A\n",
      " 72%|███████▏  | 298/413 [03:25<01:19,  1.45it/s, loss=0.351]\u001b[A\n",
      " 72%|███████▏  | 299/413 [03:25<01:18,  1.45it/s, loss=0.351]\u001b[A\n",
      " 72%|███████▏  | 299/413 [03:26<01:18,  1.45it/s, loss=0.349]\u001b[A\n",
      " 73%|███████▎  | 300/413 [03:26<01:17,  1.45it/s, loss=0.349]\u001b[A\n",
      " 73%|███████▎  | 300/413 [03:27<01:17,  1.45it/s, loss=0.346]\u001b[A\n",
      " 73%|███████▎  | 301/413 [03:27<01:17,  1.45it/s, loss=0.346]\u001b[A\n",
      " 73%|███████▎  | 301/413 [03:27<01:17,  1.45it/s, loss=0.345]\u001b[A\n",
      " 73%|███████▎  | 302/413 [03:27<01:16,  1.45it/s, loss=0.345]\u001b[A\n",
      " 73%|███████▎  | 302/413 [03:28<01:16,  1.45it/s, loss=0.342]\u001b[A\n",
      " 73%|███████▎  | 303/413 [03:28<01:15,  1.45it/s, loss=0.342]\u001b[A\n",
      " 73%|███████▎  | 303/413 [03:29<01:15,  1.45it/s, loss=0.347]\u001b[A\n",
      " 74%|███████▎  | 304/413 [03:29<01:14,  1.45it/s, loss=0.347]\u001b[A\n",
      " 74%|███████▎  | 304/413 [03:29<01:15,  1.45it/s, loss=0.345]\u001b[A\n",
      " 74%|███████▍  | 305/413 [03:29<01:14,  1.45it/s, loss=0.345]\u001b[A\n",
      " 74%|███████▍  | 305/413 [03:30<01:14,  1.45it/s, loss=0.343]\u001b[A\n",
      " 74%|███████▍  | 306/413 [03:30<01:13,  1.45it/s, loss=0.343]\u001b[A\n",
      " 74%|███████▍  | 306/413 [03:31<01:13,  1.45it/s, loss=0.342]\u001b[A\n",
      " 74%|███████▍  | 307/413 [03:31<01:12,  1.45it/s, loss=0.342]\u001b[A\n",
      " 74%|███████▍  | 307/413 [03:31<01:13,  1.45it/s, loss=0.342]\u001b[A\n",
      " 75%|███████▍  | 308/413 [03:31<01:12,  1.45it/s, loss=0.342]\u001b[A\n",
      " 75%|███████▍  | 308/413 [03:32<01:12,  1.45it/s, loss=0.342]\u001b[A\n",
      " 75%|███████▍  | 309/413 [03:32<01:11,  1.45it/s, loss=0.342]\u001b[A\n",
      " 75%|███████▍  | 309/413 [03:33<01:11,  1.45it/s, loss=0.341]\u001b[A\n",
      " 75%|███████▌  | 310/413 [03:33<01:10,  1.46it/s, loss=0.341]\u001b[A\n",
      " 75%|███████▌  | 310/413 [03:33<01:11,  1.45it/s, loss=0.34] \u001b[A\n",
      " 75%|███████▌  | 311/413 [03:33<01:10,  1.46it/s, loss=0.34]\u001b[A\n",
      " 75%|███████▌  | 311/413 [03:34<01:10,  1.45it/s, loss=0.336]\u001b[A\n",
      " 76%|███████▌  | 312/413 [03:34<01:09,  1.46it/s, loss=0.336]\u001b[A\n",
      " 76%|███████▌  | 312/413 [03:35<01:09,  1.45it/s, loss=0.34] \u001b[A\n",
      " 76%|███████▌  | 313/413 [03:35<01:08,  1.46it/s, loss=0.34]\u001b[A\n",
      " 76%|███████▌  | 313/413 [03:35<01:08,  1.45it/s, loss=0.34]\u001b[A\n",
      " 76%|███████▌  | 314/413 [03:35<01:08,  1.46it/s, loss=0.34]\u001b[A\n",
      " 76%|███████▌  | 314/413 [03:36<01:08,  1.45it/s, loss=0.34]\u001b[A\n",
      " 76%|███████▋  | 315/413 [03:36<01:07,  1.46it/s, loss=0.34]\u001b[A\n",
      " 76%|███████▋  | 315/413 [03:37<01:07,  1.45it/s, loss=0.34]\u001b[A\n",
      " 77%|███████▋  | 316/413 [03:37<01:06,  1.46it/s, loss=0.34]\u001b[A\n",
      " 77%|███████▋  | 316/413 [03:37<01:06,  1.45it/s, loss=0.341]\u001b[A\n",
      " 77%|███████▋  | 317/413 [03:37<01:05,  1.46it/s, loss=0.341]\u001b[A\n",
      " 77%|███████▋  | 317/413 [03:38<01:06,  1.45it/s, loss=0.337]\u001b[A\n",
      " 77%|███████▋  | 318/413 [03:38<01:05,  1.46it/s, loss=0.337]\u001b[A\n",
      " 77%|███████▋  | 318/413 [03:39<01:05,  1.45it/s, loss=0.337]\u001b[A\n",
      " 77%|███████▋  | 319/413 [03:39<01:04,  1.46it/s, loss=0.337]\u001b[A\n",
      " 77%|███████▋  | 319/413 [03:39<01:04,  1.45it/s, loss=0.339]\u001b[A\n",
      " 77%|███████▋  | 320/413 [03:39<01:03,  1.46it/s, loss=0.339]\u001b[A\n",
      " 77%|███████▋  | 320/413 [03:40<01:04,  1.45it/s, loss=0.337]\u001b[A\n",
      " 78%|███████▊  | 321/413 [03:40<01:03,  1.46it/s, loss=0.337]\u001b[A\n",
      " 78%|███████▊  | 321/413 [03:41<01:03,  1.45it/s, loss=0.339]\u001b[A\n",
      " 78%|███████▊  | 322/413 [03:41<01:02,  1.46it/s, loss=0.339]\u001b[A\n",
      " 78%|███████▊  | 322/413 [03:41<01:02,  1.45it/s, loss=0.338]\u001b[A\n",
      " 78%|███████▊  | 323/413 [03:41<01:01,  1.46it/s, loss=0.338]\u001b[A\n",
      " 78%|███████▊  | 323/413 [03:42<01:01,  1.45it/s, loss=0.337]\u001b[A\n",
      " 78%|███████▊  | 324/413 [03:42<01:01,  1.46it/s, loss=0.337]\u001b[A\n",
      " 78%|███████▊  | 324/413 [03:43<01:01,  1.45it/s, loss=0.333]\u001b[A\n",
      " 79%|███████▊  | 325/413 [03:43<01:00,  1.46it/s, loss=0.333]\u001b[A\n",
      " 79%|███████▊  | 325/413 [03:43<01:00,  1.45it/s, loss=0.331]\u001b[A\n",
      " 79%|███████▉  | 326/413 [03:43<00:59,  1.46it/s, loss=0.331]\u001b[A\n",
      " 79%|███████▉  | 326/413 [03:44<00:59,  1.45it/s, loss=0.331]\u001b[A\n",
      " 79%|███████▉  | 327/413 [03:44<00:59,  1.46it/s, loss=0.331]\u001b[A\n",
      " 79%|███████▉  | 327/413 [03:45<00:59,  1.45it/s, loss=0.329]\u001b[A\n",
      " 79%|███████▉  | 328/413 [03:45<00:58,  1.46it/s, loss=0.329]\u001b[A\n",
      " 79%|███████▉  | 328/413 [03:45<00:58,  1.45it/s, loss=0.325]\u001b[A\n",
      " 80%|███████▉  | 329/413 [03:45<00:57,  1.46it/s, loss=0.325]\u001b[A\n",
      " 80%|███████▉  | 329/413 [03:46<00:57,  1.45it/s, loss=0.333]\u001b[A\n",
      " 80%|███████▉  | 330/413 [03:46<00:56,  1.46it/s, loss=0.333]\u001b[A\n",
      " 80%|███████▉  | 330/413 [03:47<00:57,  1.45it/s, loss=0.332]\u001b[A\n",
      " 80%|████████  | 331/413 [03:47<00:56,  1.46it/s, loss=0.332]\u001b[A\n",
      " 80%|████████  | 331/413 [03:47<00:56,  1.45it/s, loss=0.33] \u001b[A\n",
      " 80%|████████  | 332/413 [03:47<00:55,  1.46it/s, loss=0.33]\u001b[A\n",
      " 80%|████████  | 332/413 [03:48<00:55,  1.45it/s, loss=0.333]\u001b[A\n",
      " 81%|████████  | 333/413 [03:48<00:54,  1.46it/s, loss=0.333]\u001b[A\n",
      " 81%|████████  | 333/413 [03:49<00:55,  1.45it/s, loss=0.33] \u001b[A\n",
      " 81%|████████  | 334/413 [03:49<00:54,  1.46it/s, loss=0.33]\u001b[A\n",
      " 81%|████████  | 334/413 [03:49<00:54,  1.45it/s, loss=0.328]\u001b[A\n",
      " 81%|████████  | 335/413 [03:49<00:53,  1.46it/s, loss=0.328]\u001b[A\n",
      " 81%|████████  | 335/413 [03:50<00:53,  1.45it/s, loss=0.331]\u001b[A\n",
      " 81%|████████▏ | 336/413 [03:50<00:52,  1.46it/s, loss=0.331]\u001b[A\n",
      " 81%|████████▏ | 336/413 [03:51<00:52,  1.45it/s, loss=0.333]\u001b[A\n",
      " 82%|████████▏ | 337/413 [03:51<00:52,  1.46it/s, loss=0.333]\u001b[A\n",
      " 82%|████████▏ | 337/413 [03:51<00:52,  1.45it/s, loss=0.338]\u001b[A\n",
      " 82%|████████▏ | 338/413 [03:51<00:51,  1.46it/s, loss=0.338]\u001b[A\n",
      " 82%|████████▏ | 338/413 [03:52<00:51,  1.45it/s, loss=0.337]\u001b[A\n",
      " 82%|████████▏ | 339/413 [03:52<00:50,  1.46it/s, loss=0.337]\u001b[A\n",
      " 82%|████████▏ | 339/413 [03:53<00:50,  1.45it/s, loss=0.34] \u001b[A\n",
      " 82%|████████▏ | 340/413 [03:53<00:50,  1.46it/s, loss=0.34]\u001b[A\n",
      " 82%|████████▏ | 340/413 [03:53<00:50,  1.45it/s, loss=0.344]\u001b[A\n",
      " 83%|████████▎ | 341/413 [03:53<00:49,  1.46it/s, loss=0.344]\u001b[A\n",
      " 83%|████████▎ | 341/413 [03:54<00:49,  1.45it/s, loss=0.344]\u001b[A\n",
      " 83%|████████▎ | 342/413 [03:54<00:48,  1.46it/s, loss=0.344]\u001b[A\n",
      " 83%|████████▎ | 342/413 [03:55<00:48,  1.45it/s, loss=0.346]\u001b[A\n",
      " 83%|████████▎ | 343/413 [03:55<00:47,  1.46it/s, loss=0.346]\u001b[A\n",
      " 83%|████████▎ | 343/413 [03:55<00:48,  1.45it/s, loss=0.347]\u001b[A\n",
      " 83%|████████▎ | 344/413 [03:55<00:47,  1.46it/s, loss=0.347]\u001b[A\n",
      " 83%|████████▎ | 344/413 [03:56<00:47,  1.45it/s, loss=0.345]\u001b[A\n",
      " 84%|████████▎ | 345/413 [03:56<00:46,  1.46it/s, loss=0.345]\u001b[A\n",
      " 84%|████████▎ | 345/413 [03:57<00:46,  1.45it/s, loss=0.347]\u001b[A\n",
      " 84%|████████▍ | 346/413 [03:57<00:45,  1.46it/s, loss=0.347]\u001b[A\n",
      " 84%|████████▍ | 346/413 [03:57<00:46,  1.45it/s, loss=0.352]\u001b[A\n",
      " 84%|████████▍ | 347/413 [03:57<00:45,  1.46it/s, loss=0.352]\u001b[A\n",
      " 84%|████████▍ | 347/413 [03:58<00:45,  1.45it/s, loss=0.349]\u001b[A\n",
      " 84%|████████▍ | 348/413 [03:58<00:44,  1.46it/s, loss=0.349]\u001b[A\n",
      " 84%|████████▍ | 348/413 [03:59<00:44,  1.45it/s, loss=0.348]\u001b[A\n",
      " 85%|████████▍ | 349/413 [03:59<00:43,  1.46it/s, loss=0.348]\u001b[A\n",
      " 85%|████████▍ | 349/413 [03:59<00:43,  1.46it/s, loss=0.347]\u001b[A\n",
      " 85%|████████▍ | 350/413 [03:59<00:43,  1.46it/s, loss=0.347]\u001b[A\n",
      " 85%|████████▍ | 350/413 [04:00<00:43,  1.46it/s, loss=0.345]\u001b[A\n",
      " 85%|████████▍ | 351/413 [04:00<00:42,  1.46it/s, loss=0.345]\u001b[A\n",
      " 85%|████████▍ | 351/413 [04:01<00:42,  1.46it/s, loss=0.343]\u001b[A\n",
      " 85%|████████▌ | 352/413 [04:01<00:41,  1.46it/s, loss=0.343]\u001b[A\n",
      " 85%|████████▌ | 352/413 [04:01<00:41,  1.46it/s, loss=0.346]\u001b[A\n",
      " 85%|████████▌ | 353/413 [04:01<00:41,  1.46it/s, loss=0.346]\u001b[A\n",
      " 85%|████████▌ | 353/413 [04:02<00:41,  1.46it/s, loss=0.342]\u001b[A\n",
      " 86%|████████▌ | 354/413 [04:02<00:40,  1.46it/s, loss=0.342]\u001b[A\n",
      " 86%|████████▌ | 354/413 [04:03<00:40,  1.46it/s, loss=0.338]\u001b[A\n",
      " 86%|████████▌ | 355/413 [04:03<00:39,  1.46it/s, loss=0.338]\u001b[A\n",
      " 86%|████████▌ | 355/413 [04:03<00:39,  1.46it/s, loss=0.339]\u001b[A\n",
      " 86%|████████▌ | 356/413 [04:03<00:39,  1.46it/s, loss=0.339]\u001b[A\n",
      " 86%|████████▌ | 356/413 [04:04<00:39,  1.46it/s, loss=0.342]\u001b[A\n",
      " 86%|████████▋ | 357/413 [04:04<00:38,  1.46it/s, loss=0.342]\u001b[A\n",
      " 86%|████████▋ | 357/413 [04:05<00:38,  1.46it/s, loss=0.347]\u001b[A\n",
      " 87%|████████▋ | 358/413 [04:05<00:37,  1.46it/s, loss=0.347]\u001b[A\n",
      " 87%|████████▋ | 358/413 [04:05<00:37,  1.46it/s, loss=0.352]\u001b[A\n",
      " 87%|████████▋ | 359/413 [04:05<00:36,  1.46it/s, loss=0.352]\u001b[A\n",
      " 87%|████████▋ | 359/413 [04:06<00:37,  1.46it/s, loss=0.347]\u001b[A\n",
      " 87%|████████▋ | 360/413 [04:06<00:36,  1.46it/s, loss=0.347]\u001b[A\n",
      " 87%|████████▋ | 360/413 [04:07<00:36,  1.46it/s, loss=0.347]\u001b[A\n",
      " 87%|████████▋ | 361/413 [04:07<00:35,  1.46it/s, loss=0.347]\u001b[A\n",
      " 87%|████████▋ | 361/413 [04:07<00:35,  1.46it/s, loss=0.354]\u001b[A\n",
      " 88%|████████▊ | 362/413 [04:07<00:34,  1.46it/s, loss=0.354]\u001b[A\n",
      " 88%|████████▊ | 362/413 [04:08<00:35,  1.46it/s, loss=0.351]\u001b[A\n",
      " 88%|████████▊ | 363/413 [04:08<00:34,  1.46it/s, loss=0.351]\u001b[A\n",
      " 88%|████████▊ | 363/413 [04:09<00:34,  1.46it/s, loss=0.347]\u001b[A\n",
      " 88%|████████▊ | 364/413 [04:09<00:33,  1.46it/s, loss=0.347]\u001b[A\n",
      " 88%|████████▊ | 364/413 [04:09<00:33,  1.46it/s, loss=0.347]\u001b[A\n",
      " 88%|████████▊ | 365/413 [04:09<00:32,  1.46it/s, loss=0.347]\u001b[A\n",
      " 88%|████████▊ | 365/413 [04:10<00:32,  1.46it/s, loss=0.345]\u001b[A\n",
      " 89%|████████▊ | 366/413 [04:10<00:32,  1.46it/s, loss=0.345]\u001b[A\n",
      " 89%|████████▊ | 366/413 [04:11<00:32,  1.46it/s, loss=0.349]\u001b[A\n",
      " 89%|████████▉ | 367/413 [04:11<00:31,  1.46it/s, loss=0.349]\u001b[A\n",
      " 89%|████████▉ | 367/413 [04:11<00:31,  1.46it/s, loss=0.348]\u001b[A\n",
      " 89%|████████▉ | 368/413 [04:11<00:30,  1.46it/s, loss=0.348]\u001b[A\n",
      " 89%|████████▉ | 368/413 [04:12<00:30,  1.46it/s, loss=0.348]\u001b[A\n",
      " 89%|████████▉ | 369/413 [04:12<00:30,  1.46it/s, loss=0.348]\u001b[A\n",
      " 89%|████████▉ | 369/413 [04:13<00:30,  1.46it/s, loss=0.349]\u001b[A\n",
      " 90%|████████▉ | 370/413 [04:13<00:29,  1.46it/s, loss=0.349]\u001b[A\n",
      " 90%|████████▉ | 370/413 [04:13<00:29,  1.46it/s, loss=0.351]\u001b[A\n",
      " 90%|████████▉ | 371/413 [04:13<00:28,  1.46it/s, loss=0.351]\u001b[A\n",
      " 90%|████████▉ | 371/413 [04:14<00:28,  1.46it/s, loss=0.355]\u001b[A\n",
      " 90%|█████████ | 372/413 [04:14<00:28,  1.46it/s, loss=0.355]\u001b[A\n",
      " 90%|█████████ | 372/413 [04:15<00:28,  1.46it/s, loss=0.357]\u001b[A\n",
      " 90%|█████████ | 373/413 [04:15<00:27,  1.46it/s, loss=0.357]\u001b[A\n",
      " 90%|█████████ | 373/413 [04:15<00:27,  1.46it/s, loss=0.355]\u001b[A\n",
      " 91%|█████████ | 374/413 [04:15<00:26,  1.46it/s, loss=0.355]\u001b[A\n",
      " 91%|█████████ | 374/413 [04:16<00:26,  1.46it/s, loss=0.359]\u001b[A\n",
      " 91%|█████████ | 375/413 [04:16<00:26,  1.46it/s, loss=0.359]\u001b[A\n",
      " 91%|█████████ | 375/413 [04:17<00:26,  1.46it/s, loss=0.358]\u001b[A\n",
      " 91%|█████████ | 376/413 [04:17<00:25,  1.46it/s, loss=0.358]\u001b[A\n",
      " 91%|█████████ | 376/413 [04:17<00:25,  1.46it/s, loss=0.359]\u001b[A\n",
      " 91%|█████████▏| 377/413 [04:17<00:24,  1.46it/s, loss=0.359]\u001b[A\n",
      " 91%|█████████▏| 377/413 [04:18<00:24,  1.46it/s, loss=0.362]\u001b[A\n",
      " 92%|█████████▏| 378/413 [04:18<00:23,  1.46it/s, loss=0.362]\u001b[A\n",
      " 92%|█████████▏| 378/413 [04:19<00:24,  1.46it/s, loss=0.361]\u001b[A\n",
      " 92%|█████████▏| 379/413 [04:19<00:23,  1.46it/s, loss=0.361]\u001b[A\n"
     ]
    },
    {
     "name": "stdout",
     "output_type": "stream",
     "text": [
      " 92%|█████████▏| 379/413 [04:19<00:23,  1.46it/s, loss=0.358]\u001b[A\n",
      " 92%|█████████▏| 380/413 [04:19<00:22,  1.46it/s, loss=0.358]\u001b[A\n",
      " 92%|█████████▏| 380/413 [04:20<00:22,  1.46it/s, loss=0.356]\u001b[A\n",
      " 92%|█████████▏| 381/413 [04:20<00:21,  1.46it/s, loss=0.356]\u001b[A\n",
      " 92%|█████████▏| 381/413 [04:21<00:21,  1.46it/s, loss=0.353]\u001b[A\n",
      " 92%|█████████▏| 382/413 [04:21<00:21,  1.46it/s, loss=0.353]\u001b[A\n",
      " 92%|█████████▏| 382/413 [04:21<00:21,  1.46it/s, loss=0.353]\u001b[A\n",
      " 93%|█████████▎| 383/413 [04:21<00:20,  1.46it/s, loss=0.353]\u001b[A\n",
      " 93%|█████████▎| 383/413 [04:22<00:20,  1.46it/s, loss=0.348]\u001b[A\n",
      " 93%|█████████▎| 384/413 [04:22<00:19,  1.46it/s, loss=0.348]\u001b[A\n",
      " 93%|█████████▎| 384/413 [04:23<00:19,  1.46it/s, loss=0.345]\u001b[A\n",
      " 93%|█████████▎| 385/413 [04:23<00:19,  1.46it/s, loss=0.345]\u001b[A\n",
      " 93%|█████████▎| 385/413 [04:23<00:19,  1.46it/s, loss=0.344]\u001b[A\n",
      " 93%|█████████▎| 386/413 [04:23<00:18,  1.46it/s, loss=0.344]\u001b[A\n",
      " 93%|█████████▎| 386/413 [04:24<00:18,  1.46it/s, loss=0.348]\u001b[A\n",
      " 94%|█████████▎| 387/413 [04:24<00:17,  1.46it/s, loss=0.348]\u001b[A\n",
      " 94%|█████████▎| 387/413 [04:25<00:17,  1.46it/s, loss=0.35] \u001b[A\n",
      " 94%|█████████▍| 388/413 [04:25<00:17,  1.46it/s, loss=0.35]\u001b[A\n",
      " 94%|█████████▍| 388/413 [04:25<00:17,  1.46it/s, loss=0.35]\u001b[A\n",
      " 94%|█████████▍| 389/413 [04:25<00:16,  1.46it/s, loss=0.35]\u001b[A\n",
      " 94%|█████████▍| 389/413 [04:26<00:16,  1.46it/s, loss=0.346]\u001b[A\n",
      " 94%|█████████▍| 390/413 [04:26<00:15,  1.46it/s, loss=0.346]\u001b[A\n",
      " 94%|█████████▍| 390/413 [04:27<00:15,  1.46it/s, loss=0.345]\u001b[A\n",
      " 95%|█████████▍| 391/413 [04:27<00:15,  1.46it/s, loss=0.345]\u001b[A\n",
      " 95%|█████████▍| 391/413 [04:27<00:15,  1.46it/s, loss=0.343]\u001b[A\n",
      " 95%|█████████▍| 392/413 [04:27<00:14,  1.46it/s, loss=0.343]\u001b[A\n",
      " 95%|█████████▍| 392/413 [04:28<00:14,  1.46it/s, loss=0.341]\u001b[A\n",
      " 95%|█████████▌| 393/413 [04:28<00:13,  1.46it/s, loss=0.341]\u001b[A\n",
      " 95%|█████████▌| 393/413 [04:29<00:13,  1.46it/s, loss=0.34] \u001b[A\n",
      " 95%|█████████▌| 394/413 [04:29<00:12,  1.46it/s, loss=0.34]\u001b[A\n",
      " 95%|█████████▌| 394/413 [04:30<00:13,  1.46it/s, loss=0.338]\u001b[A\n",
      " 96%|█████████▌| 395/413 [04:30<00:12,  1.46it/s, loss=0.338]\u001b[A\n",
      " 96%|█████████▌| 395/413 [04:30<00:12,  1.46it/s, loss=0.337]\u001b[A\n",
      " 96%|█████████▌| 396/413 [04:30<00:11,  1.46it/s, loss=0.337]\u001b[A\n",
      " 96%|█████████▌| 396/413 [04:31<00:11,  1.46it/s, loss=0.337]\u001b[A\n",
      " 96%|█████████▌| 397/413 [04:31<00:10,  1.46it/s, loss=0.337]\u001b[A\n",
      " 96%|█████████▌| 397/413 [04:32<00:10,  1.46it/s, loss=0.333]\u001b[A\n",
      " 96%|█████████▋| 398/413 [04:32<00:10,  1.46it/s, loss=0.333]\u001b[A\n",
      " 96%|█████████▋| 398/413 [04:32<00:10,  1.46it/s, loss=0.33] \u001b[A\n",
      " 97%|█████████▋| 399/413 [04:32<00:09,  1.46it/s, loss=0.33]\u001b[A\n",
      " 97%|█████████▋| 399/413 [04:33<00:09,  1.46it/s, loss=0.328]\u001b[A\n",
      " 97%|█████████▋| 400/413 [04:33<00:08,  1.46it/s, loss=0.328]\u001b[A\n",
      " 97%|█████████▋| 400/413 [04:34<00:08,  1.46it/s, loss=0.325]\u001b[A\n",
      " 97%|█████████▋| 401/413 [04:34<00:08,  1.46it/s, loss=0.325]\u001b[A\n",
      " 97%|█████████▋| 401/413 [04:34<00:08,  1.46it/s, loss=0.324]\u001b[A\n",
      " 97%|█████████▋| 402/413 [04:34<00:07,  1.46it/s, loss=0.324]\u001b[A\n",
      " 97%|█████████▋| 402/413 [04:35<00:07,  1.46it/s, loss=0.32] \u001b[A\n",
      " 98%|█████████▊| 403/413 [04:35<00:06,  1.46it/s, loss=0.32]\u001b[A\n",
      " 98%|█████████▊| 403/413 [04:36<00:06,  1.46it/s, loss=0.319]\u001b[A\n",
      " 98%|█████████▊| 404/413 [04:36<00:06,  1.46it/s, loss=0.319]\u001b[A\n",
      " 98%|█████████▊| 404/413 [04:36<00:06,  1.46it/s, loss=0.318]\u001b[A\n",
      " 98%|█████████▊| 405/413 [04:36<00:05,  1.46it/s, loss=0.318]\u001b[A\n",
      " 98%|█████████▊| 405/413 [04:37<00:05,  1.46it/s, loss=0.324]\u001b[A\n",
      " 98%|█████████▊| 406/413 [04:37<00:04,  1.46it/s, loss=0.324]\u001b[A\n",
      " 98%|█████████▊| 406/413 [04:38<00:04,  1.46it/s, loss=0.325]\u001b[A\n",
      " 99%|█████████▊| 407/413 [04:38<00:04,  1.46it/s, loss=0.325]\u001b[A\n",
      " 99%|█████████▊| 407/413 [04:38<00:04,  1.46it/s, loss=0.322]\u001b[A\n",
      " 99%|█████████▉| 408/413 [04:38<00:03,  1.46it/s, loss=0.322]\u001b[A\n",
      " 99%|█████████▉| 408/413 [04:39<00:03,  1.46it/s, loss=0.319]\u001b[A\n",
      " 99%|█████████▉| 409/413 [04:39<00:02,  1.46it/s, loss=0.319]\u001b[A\n",
      " 99%|█████████▉| 409/413 [04:40<00:02,  1.46it/s, loss=0.318]\u001b[A\n",
      " 99%|█████████▉| 410/413 [04:40<00:02,  1.46it/s, loss=0.318]\u001b[A\n",
      " 99%|█████████▉| 410/413 [04:40<00:02,  1.46it/s, loss=0.316]\u001b[A\n",
      "100%|█████████▉| 411/413 [04:40<00:01,  1.46it/s, loss=0.316]\u001b[A\n",
      "100%|█████████▉| 411/413 [04:41<00:01,  1.46it/s, loss=0.313]\u001b[A\n",
      "                                                             \u001b[A\r"
     ]
    },
    {
     "ename": "ValueError",
     "evalue": "Expected more than 1 value per channel when training, got input size [1, 1024]",
     "output_type": "error",
     "traceback": [
      "\u001b[0;31m---------------------------------------------------------------------------\u001b[0m",
      "\u001b[0;31mValueError\u001b[0m                                Traceback (most recent call last)",
      "\u001b[0;32m<timed eval>\u001b[0m in \u001b[0;36m<module>\u001b[0;34m()\u001b[0m\n",
      "\u001b[0;32m~/Aersu/GLOC/fastai_lin/learner.py\u001b[0m in \u001b[0;36mfit\u001b[0;34m(self, lrs, n_cycle, wds, **kwargs)\u001b[0m\n\u001b[1;32m    211\u001b[0m         \u001b[0mself\u001b[0m\u001b[0;34m.\u001b[0m\u001b[0msched\u001b[0m \u001b[0;34m=\u001b[0m \u001b[0;32mNone\u001b[0m\u001b[0;34m\u001b[0m\u001b[0m\n\u001b[1;32m    212\u001b[0m         \u001b[0mlayer_opt\u001b[0m \u001b[0;34m=\u001b[0m \u001b[0mself\u001b[0m\u001b[0;34m.\u001b[0m\u001b[0mget_layer_opt\u001b[0m\u001b[0;34m(\u001b[0m\u001b[0mlrs\u001b[0m\u001b[0;34m,\u001b[0m \u001b[0mwds\u001b[0m\u001b[0;34m)\u001b[0m\u001b[0;34m\u001b[0m\u001b[0m\n\u001b[0;32m--> 213\u001b[0;31m         \u001b[0mself\u001b[0m\u001b[0;34m.\u001b[0m\u001b[0mfit_gen\u001b[0m\u001b[0;34m(\u001b[0m\u001b[0mself\u001b[0m\u001b[0;34m.\u001b[0m\u001b[0mmodel\u001b[0m\u001b[0;34m,\u001b[0m \u001b[0mself\u001b[0m\u001b[0;34m.\u001b[0m\u001b[0mdata\u001b[0m\u001b[0;34m,\u001b[0m \u001b[0mlayer_opt\u001b[0m\u001b[0;34m,\u001b[0m \u001b[0mn_cycle\u001b[0m\u001b[0;34m,\u001b[0m \u001b[0;34m**\u001b[0m\u001b[0mkwargs\u001b[0m\u001b[0;34m)\u001b[0m\u001b[0;34m\u001b[0m\u001b[0m\n\u001b[0m\u001b[1;32m    214\u001b[0m \u001b[0;34m\u001b[0m\u001b[0m\n\u001b[1;32m    215\u001b[0m     \u001b[0;32mdef\u001b[0m \u001b[0mlr_find\u001b[0m\u001b[0;34m(\u001b[0m\u001b[0mself\u001b[0m\u001b[0;34m,\u001b[0m \u001b[0mstart_lr\u001b[0m\u001b[0;34m=\u001b[0m\u001b[0;36m1e-5\u001b[0m\u001b[0;34m,\u001b[0m \u001b[0mend_lr\u001b[0m\u001b[0;34m=\u001b[0m\u001b[0;36m10\u001b[0m\u001b[0;34m,\u001b[0m \u001b[0mwds\u001b[0m\u001b[0;34m=\u001b[0m\u001b[0;32mNone\u001b[0m\u001b[0;34m)\u001b[0m\u001b[0;34m:\u001b[0m\u001b[0;34m\u001b[0m\u001b[0m\n",
      "\u001b[0;32m~/Aersu/GLOC/fastai_lin/learner.py\u001b[0m in \u001b[0;36mfit_gen\u001b[0;34m(self, model, data, layer_opt, n_cycle, cycle_len, cycle_mult, cycle_save_name, metrics, callbacks, use_wd_sched, norm_wds, wds_sched_mult, **kwargs)\u001b[0m\n\u001b[1;32m    158\u001b[0m         \u001b[0mn_epoch\u001b[0m \u001b[0;34m=\u001b[0m \u001b[0msum_geom\u001b[0m\u001b[0;34m(\u001b[0m\u001b[0mcycle_len\u001b[0m \u001b[0;32mif\u001b[0m \u001b[0mcycle_len\u001b[0m \u001b[0;32melse\u001b[0m \u001b[0;36m1\u001b[0m\u001b[0;34m,\u001b[0m \u001b[0mcycle_mult\u001b[0m\u001b[0;34m,\u001b[0m \u001b[0mn_cycle\u001b[0m\u001b[0;34m)\u001b[0m\u001b[0;34m\u001b[0m\u001b[0m\n\u001b[1;32m    159\u001b[0m         fit(model, data, n_epoch, layer_opt.opt, self.crit,\n\u001b[0;32m--> 160\u001b[0;31m             metrics=metrics, callbacks=callbacks, reg_fn=self.reg_fn, clip=self.clip, **kwargs)\n\u001b[0m\u001b[1;32m    161\u001b[0m \u001b[0;34m\u001b[0m\u001b[0m\n\u001b[1;32m    162\u001b[0m     \u001b[0;32mdef\u001b[0m \u001b[0mget_layer_groups\u001b[0m\u001b[0;34m(\u001b[0m\u001b[0mself\u001b[0m\u001b[0;34m)\u001b[0m\u001b[0;34m:\u001b[0m \u001b[0;32mreturn\u001b[0m \u001b[0mself\u001b[0m\u001b[0;34m.\u001b[0m\u001b[0mmodels\u001b[0m\u001b[0;34m.\u001b[0m\u001b[0mget_layer_groups\u001b[0m\u001b[0;34m(\u001b[0m\u001b[0;34m)\u001b[0m\u001b[0;34m\u001b[0m\u001b[0m\n",
      "\u001b[0;32m~/Aersu/GLOC/fastai_lin/model.py\u001b[0m in \u001b[0;36mfit\u001b[0;34m(model, data, epochs, opt, crit, metrics, callbacks, **kwargs)\u001b[0m\n\u001b[1;32m     84\u001b[0m             \u001b[0mbatch_num\u001b[0m \u001b[0;34m+=\u001b[0m \u001b[0;36m1\u001b[0m\u001b[0;34m\u001b[0m\u001b[0m\n\u001b[1;32m     85\u001b[0m             \u001b[0;32mfor\u001b[0m \u001b[0mcb\u001b[0m \u001b[0;32min\u001b[0m \u001b[0mcallbacks\u001b[0m\u001b[0;34m:\u001b[0m \u001b[0mcb\u001b[0m\u001b[0;34m.\u001b[0m\u001b[0mon_batch_begin\u001b[0m\u001b[0;34m(\u001b[0m\u001b[0;34m)\u001b[0m\u001b[0;34m\u001b[0m\u001b[0m\n\u001b[0;32m---> 86\u001b[0;31m             \u001b[0mloss\u001b[0m \u001b[0;34m=\u001b[0m \u001b[0mstepper\u001b[0m\u001b[0;34m.\u001b[0m\u001b[0mstep\u001b[0m\u001b[0;34m(\u001b[0m\u001b[0mV\u001b[0m\u001b[0;34m(\u001b[0m\u001b[0mx\u001b[0m\u001b[0;34m)\u001b[0m\u001b[0;34m,\u001b[0m\u001b[0mV\u001b[0m\u001b[0;34m(\u001b[0m\u001b[0my\u001b[0m\u001b[0;34m)\u001b[0m\u001b[0;34m)\u001b[0m\u001b[0;34m\u001b[0m\u001b[0m\n\u001b[0m\u001b[1;32m     87\u001b[0m             \u001b[0mavg_loss\u001b[0m \u001b[0;34m=\u001b[0m \u001b[0mavg_loss\u001b[0m \u001b[0;34m*\u001b[0m \u001b[0mavg_mom\u001b[0m \u001b[0;34m+\u001b[0m \u001b[0mloss\u001b[0m \u001b[0;34m*\u001b[0m \u001b[0;34m(\u001b[0m\u001b[0;36m1\u001b[0m\u001b[0;34m-\u001b[0m\u001b[0mavg_mom\u001b[0m\u001b[0;34m)\u001b[0m\u001b[0;34m\u001b[0m\u001b[0m\n\u001b[1;32m     88\u001b[0m             \u001b[0mdebias_loss\u001b[0m \u001b[0;34m=\u001b[0m \u001b[0mavg_loss\u001b[0m \u001b[0;34m/\u001b[0m \u001b[0;34m(\u001b[0m\u001b[0;36m1\u001b[0m \u001b[0;34m-\u001b[0m \u001b[0mavg_mom\u001b[0m\u001b[0;34m**\u001b[0m\u001b[0mbatch_num\u001b[0m\u001b[0;34m)\u001b[0m\u001b[0;34m\u001b[0m\u001b[0m\n",
      "\u001b[0;32m~/Aersu/GLOC/fastai_lin/model.py\u001b[0m in \u001b[0;36mstep\u001b[0;34m(self, xs, y)\u001b[0m\n\u001b[1;32m     38\u001b[0m     \u001b[0;32mdef\u001b[0m \u001b[0mstep\u001b[0m\u001b[0;34m(\u001b[0m\u001b[0mself\u001b[0m\u001b[0;34m,\u001b[0m \u001b[0mxs\u001b[0m\u001b[0;34m,\u001b[0m \u001b[0my\u001b[0m\u001b[0;34m)\u001b[0m\u001b[0;34m:\u001b[0m\u001b[0;34m\u001b[0m\u001b[0m\n\u001b[1;32m     39\u001b[0m         \u001b[0mxtra\u001b[0m \u001b[0;34m=\u001b[0m \u001b[0;34m[\u001b[0m\u001b[0;34m]\u001b[0m\u001b[0;34m\u001b[0m\u001b[0m\n\u001b[0;32m---> 40\u001b[0;31m         \u001b[0moutput\u001b[0m \u001b[0;34m=\u001b[0m \u001b[0mself\u001b[0m\u001b[0;34m.\u001b[0m\u001b[0mm\u001b[0m\u001b[0;34m(\u001b[0m\u001b[0;34m*\u001b[0m\u001b[0mxs\u001b[0m\u001b[0;34m)\u001b[0m\u001b[0;34m\u001b[0m\u001b[0m\n\u001b[0m\u001b[1;32m     41\u001b[0m         \u001b[0;32mif\u001b[0m \u001b[0misinstance\u001b[0m\u001b[0;34m(\u001b[0m\u001b[0moutput\u001b[0m\u001b[0;34m,\u001b[0m\u001b[0;34m(\u001b[0m\u001b[0mtuple\u001b[0m\u001b[0;34m,\u001b[0m\u001b[0mlist\u001b[0m\u001b[0;34m)\u001b[0m\u001b[0;34m)\u001b[0m\u001b[0;34m:\u001b[0m \u001b[0moutput\u001b[0m\u001b[0;34m,\u001b[0m\u001b[0;34m*\u001b[0m\u001b[0mxtra\u001b[0m \u001b[0;34m=\u001b[0m \u001b[0moutput\u001b[0m\u001b[0;34m\u001b[0m\u001b[0m\n\u001b[1;32m     42\u001b[0m         \u001b[0mself\u001b[0m\u001b[0;34m.\u001b[0m\u001b[0mopt\u001b[0m\u001b[0;34m.\u001b[0m\u001b[0mzero_grad\u001b[0m\u001b[0;34m(\u001b[0m\u001b[0;34m)\u001b[0m\u001b[0;34m\u001b[0m\u001b[0m\n",
      "\u001b[0;32m~/miniconda3/envs/fastai/lib/python3.6/site-packages/torch/nn/modules/module.py\u001b[0m in \u001b[0;36m__call__\u001b[0;34m(self, *input, **kwargs)\u001b[0m\n\u001b[1;32m    323\u001b[0m         \u001b[0;32mfor\u001b[0m \u001b[0mhook\u001b[0m \u001b[0;32min\u001b[0m \u001b[0mself\u001b[0m\u001b[0;34m.\u001b[0m\u001b[0m_forward_pre_hooks\u001b[0m\u001b[0;34m.\u001b[0m\u001b[0mvalues\u001b[0m\u001b[0;34m(\u001b[0m\u001b[0;34m)\u001b[0m\u001b[0;34m:\u001b[0m\u001b[0;34m\u001b[0m\u001b[0m\n\u001b[1;32m    324\u001b[0m             \u001b[0mhook\u001b[0m\u001b[0;34m(\u001b[0m\u001b[0mself\u001b[0m\u001b[0;34m,\u001b[0m \u001b[0minput\u001b[0m\u001b[0;34m)\u001b[0m\u001b[0;34m\u001b[0m\u001b[0m\n\u001b[0;32m--> 325\u001b[0;31m         \u001b[0mresult\u001b[0m \u001b[0;34m=\u001b[0m \u001b[0mself\u001b[0m\u001b[0;34m.\u001b[0m\u001b[0mforward\u001b[0m\u001b[0;34m(\u001b[0m\u001b[0;34m*\u001b[0m\u001b[0minput\u001b[0m\u001b[0;34m,\u001b[0m \u001b[0;34m**\u001b[0m\u001b[0mkwargs\u001b[0m\u001b[0;34m)\u001b[0m\u001b[0;34m\u001b[0m\u001b[0m\n\u001b[0m\u001b[1;32m    326\u001b[0m         \u001b[0;32mfor\u001b[0m \u001b[0mhook\u001b[0m \u001b[0;32min\u001b[0m \u001b[0mself\u001b[0m\u001b[0;34m.\u001b[0m\u001b[0m_forward_hooks\u001b[0m\u001b[0;34m.\u001b[0m\u001b[0mvalues\u001b[0m\u001b[0;34m(\u001b[0m\u001b[0;34m)\u001b[0m\u001b[0;34m:\u001b[0m\u001b[0;34m\u001b[0m\u001b[0m\n\u001b[1;32m    327\u001b[0m             \u001b[0mhook_result\u001b[0m \u001b[0;34m=\u001b[0m \u001b[0mhook\u001b[0m\u001b[0;34m(\u001b[0m\u001b[0mself\u001b[0m\u001b[0;34m,\u001b[0m \u001b[0minput\u001b[0m\u001b[0;34m,\u001b[0m \u001b[0mresult\u001b[0m\u001b[0;34m)\u001b[0m\u001b[0;34m\u001b[0m\u001b[0m\n",
      "\u001b[0;32m~/miniconda3/envs/fastai/lib/python3.6/site-packages/torch/nn/modules/container.py\u001b[0m in \u001b[0;36mforward\u001b[0;34m(self, input)\u001b[0m\n\u001b[1;32m     65\u001b[0m     \u001b[0;32mdef\u001b[0m \u001b[0mforward\u001b[0m\u001b[0;34m(\u001b[0m\u001b[0mself\u001b[0m\u001b[0;34m,\u001b[0m \u001b[0minput\u001b[0m\u001b[0;34m)\u001b[0m\u001b[0;34m:\u001b[0m\u001b[0;34m\u001b[0m\u001b[0m\n\u001b[1;32m     66\u001b[0m         \u001b[0;32mfor\u001b[0m \u001b[0mmodule\u001b[0m \u001b[0;32min\u001b[0m \u001b[0mself\u001b[0m\u001b[0;34m.\u001b[0m\u001b[0m_modules\u001b[0m\u001b[0;34m.\u001b[0m\u001b[0mvalues\u001b[0m\u001b[0;34m(\u001b[0m\u001b[0;34m)\u001b[0m\u001b[0;34m:\u001b[0m\u001b[0;34m\u001b[0m\u001b[0m\n\u001b[0;32m---> 67\u001b[0;31m             \u001b[0minput\u001b[0m \u001b[0;34m=\u001b[0m \u001b[0mmodule\u001b[0m\u001b[0;34m(\u001b[0m\u001b[0minput\u001b[0m\u001b[0;34m)\u001b[0m\u001b[0;34m\u001b[0m\u001b[0m\n\u001b[0m\u001b[1;32m     68\u001b[0m         \u001b[0;32mreturn\u001b[0m \u001b[0minput\u001b[0m\u001b[0;34m\u001b[0m\u001b[0m\n\u001b[1;32m     69\u001b[0m \u001b[0;34m\u001b[0m\u001b[0m\n",
      "\u001b[0;32m~/miniconda3/envs/fastai/lib/python3.6/site-packages/torch/nn/modules/module.py\u001b[0m in \u001b[0;36m__call__\u001b[0;34m(self, *input, **kwargs)\u001b[0m\n\u001b[1;32m    323\u001b[0m         \u001b[0;32mfor\u001b[0m \u001b[0mhook\u001b[0m \u001b[0;32min\u001b[0m \u001b[0mself\u001b[0m\u001b[0;34m.\u001b[0m\u001b[0m_forward_pre_hooks\u001b[0m\u001b[0;34m.\u001b[0m\u001b[0mvalues\u001b[0m\u001b[0;34m(\u001b[0m\u001b[0;34m)\u001b[0m\u001b[0;34m:\u001b[0m\u001b[0;34m\u001b[0m\u001b[0m\n\u001b[1;32m    324\u001b[0m             \u001b[0mhook\u001b[0m\u001b[0;34m(\u001b[0m\u001b[0mself\u001b[0m\u001b[0;34m,\u001b[0m \u001b[0minput\u001b[0m\u001b[0;34m)\u001b[0m\u001b[0;34m\u001b[0m\u001b[0m\n\u001b[0;32m--> 325\u001b[0;31m         \u001b[0mresult\u001b[0m \u001b[0;34m=\u001b[0m \u001b[0mself\u001b[0m\u001b[0;34m.\u001b[0m\u001b[0mforward\u001b[0m\u001b[0;34m(\u001b[0m\u001b[0;34m*\u001b[0m\u001b[0minput\u001b[0m\u001b[0;34m,\u001b[0m \u001b[0;34m**\u001b[0m\u001b[0mkwargs\u001b[0m\u001b[0;34m)\u001b[0m\u001b[0;34m\u001b[0m\u001b[0m\n\u001b[0m\u001b[1;32m    326\u001b[0m         \u001b[0;32mfor\u001b[0m \u001b[0mhook\u001b[0m \u001b[0;32min\u001b[0m \u001b[0mself\u001b[0m\u001b[0;34m.\u001b[0m\u001b[0m_forward_hooks\u001b[0m\u001b[0;34m.\u001b[0m\u001b[0mvalues\u001b[0m\u001b[0;34m(\u001b[0m\u001b[0;34m)\u001b[0m\u001b[0;34m:\u001b[0m\u001b[0;34m\u001b[0m\u001b[0m\n\u001b[1;32m    327\u001b[0m             \u001b[0mhook_result\u001b[0m \u001b[0;34m=\u001b[0m \u001b[0mhook\u001b[0m\u001b[0;34m(\u001b[0m\u001b[0mself\u001b[0m\u001b[0;34m,\u001b[0m \u001b[0minput\u001b[0m\u001b[0;34m,\u001b[0m \u001b[0mresult\u001b[0m\u001b[0;34m)\u001b[0m\u001b[0;34m\u001b[0m\u001b[0m\n",
      "\u001b[0;32m~/miniconda3/envs/fastai/lib/python3.6/site-packages/torch/nn/modules/batchnorm.py\u001b[0m in \u001b[0;36mforward\u001b[0;34m(self, input)\u001b[0m\n\u001b[1;32m     35\u001b[0m         return F.batch_norm(\n\u001b[1;32m     36\u001b[0m             \u001b[0minput\u001b[0m\u001b[0;34m,\u001b[0m \u001b[0mself\u001b[0m\u001b[0;34m.\u001b[0m\u001b[0mrunning_mean\u001b[0m\u001b[0;34m,\u001b[0m \u001b[0mself\u001b[0m\u001b[0;34m.\u001b[0m\u001b[0mrunning_var\u001b[0m\u001b[0;34m,\u001b[0m \u001b[0mself\u001b[0m\u001b[0;34m.\u001b[0m\u001b[0mweight\u001b[0m\u001b[0;34m,\u001b[0m \u001b[0mself\u001b[0m\u001b[0;34m.\u001b[0m\u001b[0mbias\u001b[0m\u001b[0;34m,\u001b[0m\u001b[0;34m\u001b[0m\u001b[0m\n\u001b[0;32m---> 37\u001b[0;31m             self.training, self.momentum, self.eps)\n\u001b[0m\u001b[1;32m     38\u001b[0m \u001b[0;34m\u001b[0m\u001b[0m\n\u001b[1;32m     39\u001b[0m     \u001b[0;32mdef\u001b[0m \u001b[0m__repr__\u001b[0m\u001b[0;34m(\u001b[0m\u001b[0mself\u001b[0m\u001b[0;34m)\u001b[0m\u001b[0;34m:\u001b[0m\u001b[0;34m\u001b[0m\u001b[0m\n",
      "\u001b[0;32m~/miniconda3/envs/fastai/lib/python3.6/site-packages/torch/nn/functional.py\u001b[0m in \u001b[0;36mbatch_norm\u001b[0;34m(input, running_mean, running_var, weight, bias, training, momentum, eps)\u001b[0m\n\u001b[1;32m   1009\u001b[0m         \u001b[0msize\u001b[0m \u001b[0;34m=\u001b[0m \u001b[0mlist\u001b[0m\u001b[0;34m(\u001b[0m\u001b[0minput\u001b[0m\u001b[0;34m.\u001b[0m\u001b[0msize\u001b[0m\u001b[0;34m(\u001b[0m\u001b[0;34m)\u001b[0m\u001b[0;34m)\u001b[0m\u001b[0;34m\u001b[0m\u001b[0m\n\u001b[1;32m   1010\u001b[0m         \u001b[0;32mif\u001b[0m \u001b[0mreduce\u001b[0m\u001b[0;34m(\u001b[0m\u001b[0mmul\u001b[0m\u001b[0;34m,\u001b[0m \u001b[0msize\u001b[0m\u001b[0;34m[\u001b[0m\u001b[0;36m2\u001b[0m\u001b[0;34m:\u001b[0m\u001b[0;34m]\u001b[0m\u001b[0;34m,\u001b[0m \u001b[0msize\u001b[0m\u001b[0;34m[\u001b[0m\u001b[0;36m0\u001b[0m\u001b[0;34m]\u001b[0m\u001b[0;34m)\u001b[0m \u001b[0;34m==\u001b[0m \u001b[0;36m1\u001b[0m\u001b[0;34m:\u001b[0m\u001b[0;34m\u001b[0m\u001b[0m\n\u001b[0;32m-> 1011\u001b[0;31m             \u001b[0;32mraise\u001b[0m \u001b[0mValueError\u001b[0m\u001b[0;34m(\u001b[0m\u001b[0;34m'Expected more than 1 value per channel when training, got input size {}'\u001b[0m\u001b[0;34m.\u001b[0m\u001b[0mformat\u001b[0m\u001b[0;34m(\u001b[0m\u001b[0msize\u001b[0m\u001b[0;34m)\u001b[0m\u001b[0;34m)\u001b[0m\u001b[0;34m\u001b[0m\u001b[0m\n\u001b[0m\u001b[1;32m   1012\u001b[0m     \u001b[0mf\u001b[0m \u001b[0;34m=\u001b[0m \u001b[0mtorch\u001b[0m\u001b[0;34m.\u001b[0m\u001b[0m_C\u001b[0m\u001b[0;34m.\u001b[0m\u001b[0m_functions\u001b[0m\u001b[0;34m.\u001b[0m\u001b[0mBatchNorm\u001b[0m\u001b[0;34m(\u001b[0m\u001b[0mrunning_mean\u001b[0m\u001b[0;34m,\u001b[0m \u001b[0mrunning_var\u001b[0m\u001b[0;34m,\u001b[0m \u001b[0mtraining\u001b[0m\u001b[0;34m,\u001b[0m \u001b[0mmomentum\u001b[0m\u001b[0;34m,\u001b[0m \u001b[0meps\u001b[0m\u001b[0;34m,\u001b[0m \u001b[0mtorch\u001b[0m\u001b[0;34m.\u001b[0m\u001b[0mbackends\u001b[0m\u001b[0;34m.\u001b[0m\u001b[0mcudnn\u001b[0m\u001b[0;34m.\u001b[0m\u001b[0menabled\u001b[0m\u001b[0;34m)\u001b[0m\u001b[0;34m\u001b[0m\u001b[0m\n\u001b[1;32m   1013\u001b[0m     \u001b[0;32mreturn\u001b[0m \u001b[0mf\u001b[0m\u001b[0;34m(\u001b[0m\u001b[0minput\u001b[0m\u001b[0;34m,\u001b[0m \u001b[0mweight\u001b[0m\u001b[0;34m,\u001b[0m \u001b[0mbias\u001b[0m\u001b[0;34m)\u001b[0m\u001b[0;34m\u001b[0m\u001b[0m\n",
      "\u001b[0;31mValueError\u001b[0m: Expected more than 1 value per channel when training, got input size [1, 1024]"
     ]
    }
   ],
   "source": [
    "%time learner.fit(lrs=λr, n_cycle=1, cycle_len=1, cycle_mult=1)"
   ]
  },
  {
   "cell_type": "code",
   "execution_count": 35,
   "metadata": {
    "hidden": true
   },
   "outputs": [],
   "source": [
    "size = 200\n",
    "data = get_data(size, bs = 32)\n",
    "learner.set_data(data)"
   ]
  },
  {
   "cell_type": "code",
   "execution_count": 36,
   "metadata": {
    "hidden": true,
    "scrolled": true
   },
   "outputs": [
    {
     "data": {
      "application/vnd.jupyter.widget-view+json": {
       "model_id": "81e3b207bc4a4285a58bdb5ea7773dab",
       "version_major": 2,
       "version_minor": 0
      },
      "text/html": [
       "<p>Failed to display Jupyter Widget of type <code>HBox</code>.</p>\n",
       "<p>\n",
       "  If you're reading this message in the Jupyter Notebook or JupyterLab Notebook, it may mean\n",
       "  that the widgets JavaScript is still loading. If this message persists, it\n",
       "  likely means that the widgets JavaScript library is either not installed or\n",
       "  not enabled. See the <a href=\"https://ipywidgets.readthedocs.io/en/stable/user_install.html\">Jupyter\n",
       "  Widgets Documentation</a> for setup instructions.\n",
       "</p>\n",
       "<p>\n",
       "  If you're reading this message in another frontend (for example, a static\n",
       "  rendering on GitHub or <a href=\"https://nbviewer.jupyter.org/\">NBViewer</a>),\n",
       "  it may mean that your frontend doesn't currently support widgets.\n",
       "</p>\n"
      ],
      "text/plain": [
       "HBox(children=(IntProgress(value=0, description='Epoch', max=1), HTML(value='')))"
      ]
     },
     "metadata": {},
     "output_type": "display_data"
    },
    {
     "name": "stdout",
     "output_type": "stream",
     "text": [
      "\n",
      "  0%|          | 0/181 [00:00<?, ?it/s]\u001b[A\n",
      "  0%|          | 0/181 [00:01<?, ?it/s, loss=0.268]\u001b[A\n",
      "  1%|          | 1/181 [00:01<03:35,  1.20s/it, loss=0.268]\u001b[A\n",
      "  1%|          | 1/181 [00:02<06:06,  2.04s/it, loss=0.238]\u001b[A\n",
      "  1%|          | 2/181 [00:02<03:02,  1.02s/it, loss=0.238]\u001b[A\n",
      "  1%|          | 2/181 [00:02<04:17,  1.44s/it, loss=0.346]\u001b[A\n",
      "  2%|▏         | 3/181 [00:02<02:51,  1.04it/s, loss=0.346]\u001b[A\n",
      "  2%|▏         | 3/181 [00:03<03:41,  1.24s/it, loss=0.312]\u001b[A\n",
      "  2%|▏         | 4/181 [00:03<02:45,  1.07it/s, loss=0.312]\u001b[A\n",
      "  2%|▏         | 4/181 [00:04<03:22,  1.14s/it, loss=0.309]\u001b[A\n",
      "\n",
      "  3%|▎         | 5/181 [00:04<02:41,  1.09it/s, loss=0.309]\u001b[A"
     ]
    },
    {
     "name": "stderr",
     "output_type": "stream",
     "text": [
      "Exception in thread Thread-11:\n",
      "Traceback (most recent call last):\n",
      "  File \"/home/wnixalo/miniconda3/envs/fastai/lib/python3.6/threading.py\", line 916, in _bootstrap_inner\n",
      "    self.run()\n",
      "  File \"/home/wnixalo/miniconda3/envs/fastai/lib/python3.6/site-packages/tqdm/_tqdm.py\", line 144, in run\n",
      "    for instance in self.tqdm_cls._instances:\n",
      "  File \"/home/wnixalo/miniconda3/envs/fastai/lib/python3.6/_weakrefset.py\", line 60, in __iter__\n",
      "    for itemref in self.data:\n",
      "RuntimeError: Set changed size during iteration\n",
      "\n"
     ]
    },
    {
     "name": "stdout",
     "output_type": "stream",
     "text": [
      "\n",
      "  3%|▎         | 5/181 [00:05<03:11,  1.09s/it, loss=0.322]\u001b[A\n",
      "  3%|▎         | 6/181 [00:05<02:38,  1.10it/s, loss=0.322]\u001b[A\n",
      "  3%|▎         | 6/181 [00:06<03:03,  1.05s/it, loss=0.312]\u001b[A\n",
      "  4%|▍         | 7/181 [00:06<02:36,  1.11it/s, loss=0.312]\u001b[A\n",
      "  4%|▍         | 7/181 [00:07<02:57,  1.02s/it, loss=0.299]\u001b[A\n",
      "  4%|▍         | 8/181 [00:07<02:34,  1.12it/s, loss=0.299]\u001b[A\n",
      "  4%|▍         | 8/181 [00:08<02:53,  1.00s/it, loss=0.315]\u001b[A\n",
      "  5%|▍         | 9/181 [00:08<02:33,  1.12it/s, loss=0.315]\u001b[A\n",
      "  5%|▍         | 9/181 [00:08<02:49,  1.02it/s, loss=0.317]\u001b[A\n",
      "  6%|▌         | 10/181 [00:08<02:31,  1.13it/s, loss=0.317]\u001b[A\n",
      "  6%|▌         | 10/181 [00:09<02:45,  1.03it/s, loss=0.307]\u001b[A\n",
      "  6%|▌         | 11/181 [00:09<02:30,  1.13it/s, loss=0.307]\u001b[A\n",
      "  6%|▌         | 11/181 [00:10<02:43,  1.04it/s, loss=0.293]\u001b[A\n",
      "  7%|▋         | 12/181 [00:10<02:28,  1.14it/s, loss=0.293]\u001b[A\n",
      "  7%|▋         | 12/181 [00:11<02:40,  1.05it/s, loss=0.3]  \u001b[A\n",
      "  7%|▋         | 13/181 [00:11<02:27,  1.14it/s, loss=0.3]\u001b[A\n",
      "  7%|▋         | 13/181 [00:12<02:38,  1.06it/s, loss=0.297]\u001b[A\n",
      "  8%|▊         | 14/181 [00:12<02:26,  1.14it/s, loss=0.297]\u001b[A\n",
      "  8%|▊         | 14/181 [00:13<02:36,  1.07it/s, loss=0.295]\u001b[A\n",
      "  8%|▊         | 15/181 [00:13<02:24,  1.15it/s, loss=0.295]\u001b[A\n",
      "  8%|▊         | 15/181 [00:13<02:34,  1.08it/s, loss=0.296]\u001b[A\n",
      "  9%|▉         | 16/181 [00:13<02:23,  1.15it/s, loss=0.296]\u001b[A\n",
      "  9%|▉         | 16/181 [00:14<02:32,  1.08it/s, loss=0.298]\u001b[A\n",
      "  9%|▉         | 17/181 [00:14<02:22,  1.15it/s, loss=0.298]\u001b[A\n",
      "  9%|▉         | 17/181 [00:15<02:31,  1.09it/s, loss=0.297]\u001b[A\n",
      " 10%|▉         | 18/181 [00:15<02:21,  1.15it/s, loss=0.297]\u001b[A\n",
      " 10%|▉         | 18/181 [00:16<02:29,  1.09it/s, loss=0.3]  \u001b[A\n",
      " 10%|█         | 19/181 [00:16<02:20,  1.15it/s, loss=0.3]\u001b[A\n",
      " 10%|█         | 19/181 [00:17<02:27,  1.10it/s, loss=0.303]\u001b[A\n",
      " 11%|█         | 20/181 [00:17<02:19,  1.15it/s, loss=0.303]\u001b[A\n",
      " 11%|█         | 20/181 [00:18<02:26,  1.10it/s, loss=0.296]\u001b[A\n",
      " 12%|█▏        | 21/181 [00:18<02:18,  1.15it/s, loss=0.296]\u001b[A\n",
      " 12%|█▏        | 21/181 [00:19<02:25,  1.10it/s, loss=0.31] \u001b[A\n",
      " 12%|█▏        | 22/181 [00:19<02:17,  1.15it/s, loss=0.31]\u001b[A\n",
      " 12%|█▏        | 22/181 [00:19<02:23,  1.11it/s, loss=0.309]\u001b[A\n",
      " 13%|█▎        | 23/181 [00:19<02:16,  1.16it/s, loss=0.309]\u001b[A\n",
      " 13%|█▎        | 23/181 [00:20<02:22,  1.11it/s, loss=0.303]\u001b[A\n",
      " 13%|█▎        | 24/181 [00:20<02:15,  1.16it/s, loss=0.303]\u001b[A\n",
      " 13%|█▎        | 24/181 [00:21<02:21,  1.11it/s, loss=0.308]\u001b[A\n",
      " 14%|█▍        | 25/181 [00:21<02:15,  1.15it/s, loss=0.308]\u001b[A\n",
      " 14%|█▍        | 25/181 [00:22<02:20,  1.11it/s, loss=0.307]\u001b[A\n",
      " 14%|█▍        | 26/181 [00:22<02:14,  1.16it/s, loss=0.307]\u001b[A\n",
      " 14%|█▍        | 26/181 [00:23<02:19,  1.11it/s, loss=0.308]\u001b[A\n",
      " 15%|█▍        | 27/181 [00:23<02:13,  1.16it/s, loss=0.308]\u001b[A\n",
      " 15%|█▍        | 27/181 [00:24<02:17,  1.12it/s, loss=0.31] \u001b[A\n",
      " 15%|█▌        | 28/181 [00:24<02:12,  1.16it/s, loss=0.31]\u001b[A\n",
      " 15%|█▌        | 28/181 [00:25<02:16,  1.12it/s, loss=0.314]\u001b[A\n",
      " 16%|█▌        | 29/181 [00:25<02:11,  1.16it/s, loss=0.314]\u001b[A\n",
      " 16%|█▌        | 29/181 [00:25<02:15,  1.12it/s, loss=0.311]\u001b[A\n",
      " 17%|█▋        | 30/181 [00:25<02:10,  1.16it/s, loss=0.311]\u001b[A\n",
      " 17%|█▋        | 30/181 [00:26<02:14,  1.12it/s, loss=0.31] \u001b[A\n",
      " 17%|█▋        | 31/181 [00:26<02:09,  1.16it/s, loss=0.31]\u001b[A\n",
      " 17%|█▋        | 31/181 [00:27<02:13,  1.12it/s, loss=0.311]\u001b[A\n",
      " 18%|█▊        | 32/181 [00:27<02:08,  1.16it/s, loss=0.311]\u001b[A\n",
      " 18%|█▊        | 32/181 [00:28<02:12,  1.13it/s, loss=0.308]\u001b[A\n",
      " 18%|█▊        | 33/181 [00:28<02:07,  1.16it/s, loss=0.308]\u001b[A\n",
      " 18%|█▊        | 33/181 [00:29<02:11,  1.13it/s, loss=0.307]\u001b[A\n",
      " 19%|█▉        | 34/181 [00:29<02:06,  1.16it/s, loss=0.307]\u001b[A\n",
      " 19%|█▉        | 34/181 [00:30<02:10,  1.13it/s, loss=0.303]\u001b[A\n",
      " 19%|█▉        | 35/181 [00:30<02:05,  1.16it/s, loss=0.303]\u001b[A\n",
      " 19%|█▉        | 35/181 [00:30<02:09,  1.13it/s, loss=0.307]\u001b[A\n",
      " 20%|█▉        | 36/181 [00:30<02:04,  1.16it/s, loss=0.307]\u001b[A\n",
      " 20%|█▉        | 36/181 [00:31<02:08,  1.13it/s, loss=0.301]\u001b[A\n",
      " 20%|██        | 37/181 [00:31<02:03,  1.16it/s, loss=0.301]\u001b[A\n",
      " 20%|██        | 37/181 [00:32<02:07,  1.13it/s, loss=0.305]\u001b[A\n",
      " 21%|██        | 38/181 [00:32<02:02,  1.16it/s, loss=0.305]\u001b[A\n",
      " 21%|██        | 38/181 [00:33<02:06,  1.13it/s, loss=0.305]\u001b[A\n",
      " 22%|██▏       | 39/181 [00:33<02:02,  1.16it/s, loss=0.305]\u001b[A\n",
      " 22%|██▏       | 39/181 [00:34<02:05,  1.13it/s, loss=0.301]\u001b[A\n",
      " 22%|██▏       | 40/181 [00:34<02:01,  1.16it/s, loss=0.301]\u001b[A\n",
      " 22%|██▏       | 40/181 [00:35<02:04,  1.13it/s, loss=0.304]\u001b[A\n",
      " 23%|██▎       | 41/181 [00:35<02:00,  1.16it/s, loss=0.304]\u001b[A\n",
      " 23%|██▎       | 41/181 [00:36<02:03,  1.13it/s, loss=0.304]\u001b[A\n",
      " 23%|██▎       | 42/181 [00:36<01:59,  1.16it/s, loss=0.304]\u001b[A\n",
      " 23%|██▎       | 42/181 [00:36<02:02,  1.14it/s, loss=0.308]\u001b[A\n",
      " 24%|██▍       | 43/181 [00:36<01:58,  1.16it/s, loss=0.308]\u001b[A\n",
      " 24%|██▍       | 43/181 [00:37<02:01,  1.14it/s, loss=0.313]\u001b[A\n",
      " 24%|██▍       | 44/181 [00:37<01:57,  1.16it/s, loss=0.313]\u001b[A\n",
      " 24%|██▍       | 44/181 [00:38<02:00,  1.14it/s, loss=0.314]\u001b[A\n",
      " 25%|██▍       | 45/181 [00:38<01:56,  1.16it/s, loss=0.314]\u001b[A\n",
      " 25%|██▍       | 45/181 [00:39<01:59,  1.14it/s, loss=0.311]\u001b[A\n",
      " 25%|██▌       | 46/181 [00:39<01:56,  1.16it/s, loss=0.311]\u001b[A\n",
      " 25%|██▌       | 46/181 [00:40<01:58,  1.14it/s, loss=0.311]\u001b[A\n",
      " 26%|██▌       | 47/181 [00:40<01:55,  1.16it/s, loss=0.311]\u001b[A\n",
      " 26%|██▌       | 47/181 [00:41<01:57,  1.14it/s, loss=0.312]\u001b[A\n",
      " 27%|██▋       | 48/181 [00:41<01:54,  1.16it/s, loss=0.312]\u001b[A\n",
      " 27%|██▋       | 48/181 [00:42<01:56,  1.14it/s, loss=0.309]\u001b[A\n",
      " 27%|██▋       | 49/181 [00:42<01:53,  1.16it/s, loss=0.309]\u001b[A\n",
      " 27%|██▋       | 49/181 [00:42<01:55,  1.14it/s, loss=0.312]\u001b[A\n",
      " 28%|██▊       | 50/181 [00:42<01:52,  1.16it/s, loss=0.312]\u001b[A\n",
      " 28%|██▊       | 50/181 [00:43<01:54,  1.14it/s, loss=0.311]\u001b[A\n",
      " 28%|██▊       | 51/181 [00:43<01:51,  1.16it/s, loss=0.311]\u001b[A\n",
      " 28%|██▊       | 51/181 [00:44<01:53,  1.14it/s, loss=0.312]\u001b[A\n",
      " 29%|██▊       | 52/181 [00:44<01:50,  1.17it/s, loss=0.312]\u001b[A\n",
      " 29%|██▊       | 52/181 [00:45<01:52,  1.14it/s, loss=0.309]\u001b[A\n",
      " 29%|██▉       | 53/181 [00:45<01:49,  1.17it/s, loss=0.309]\u001b[A\n",
      " 29%|██▉       | 53/181 [00:46<01:51,  1.14it/s, loss=0.313]\u001b[A\n",
      " 30%|██▉       | 54/181 [00:46<01:48,  1.17it/s, loss=0.313]\u001b[A\n",
      " 30%|██▉       | 54/181 [00:47<01:50,  1.14it/s, loss=0.32] \u001b[A\n",
      " 30%|███       | 55/181 [00:47<01:48,  1.17it/s, loss=0.32]\u001b[A\n",
      " 30%|███       | 55/181 [00:48<01:50,  1.15it/s, loss=0.322]\u001b[A\n",
      " 31%|███       | 56/181 [00:48<01:47,  1.17it/s, loss=0.322]\u001b[A\n",
      " 31%|███       | 56/181 [00:48<01:49,  1.15it/s, loss=0.32] \u001b[A\n",
      " 31%|███▏      | 57/181 [00:48<01:46,  1.17it/s, loss=0.32]\u001b[A\n",
      " 31%|███▏      | 57/181 [00:49<01:48,  1.15it/s, loss=0.322]\u001b[A\n",
      " 32%|███▏      | 58/181 [00:49<01:45,  1.17it/s, loss=0.322]\u001b[A\n",
      " 32%|███▏      | 58/181 [00:50<01:47,  1.15it/s, loss=0.318]\u001b[A\n",
      " 33%|███▎      | 59/181 [00:50<01:44,  1.17it/s, loss=0.318]\u001b[A\n",
      " 33%|███▎      | 59/181 [00:51<01:46,  1.15it/s, loss=0.316]\u001b[A\n",
      " 33%|███▎      | 60/181 [00:51<01:43,  1.17it/s, loss=0.316]\u001b[A\n",
      " 33%|███▎      | 60/181 [00:52<01:45,  1.15it/s, loss=0.313]\u001b[A\n",
      " 34%|███▎      | 61/181 [00:52<01:42,  1.17it/s, loss=0.313]\u001b[A\n",
      " 34%|███▎      | 61/181 [00:53<01:44,  1.15it/s, loss=0.309]\u001b[A\n",
      " 34%|███▍      | 62/181 [00:53<01:41,  1.17it/s, loss=0.309]\u001b[A\n",
      " 34%|███▍      | 62/181 [00:53<01:43,  1.15it/s, loss=0.313]\u001b[A\n",
      " 35%|███▍      | 63/181 [00:53<01:41,  1.17it/s, loss=0.313]\u001b[A\n",
      " 35%|███▍      | 63/181 [00:54<01:42,  1.15it/s, loss=0.312]\u001b[A\n",
      " 35%|███▌      | 64/181 [00:54<01:40,  1.17it/s, loss=0.312]\u001b[A\n",
      " 35%|███▌      | 64/181 [00:55<01:41,  1.15it/s, loss=0.309]\u001b[A\n",
      " 36%|███▌      | 65/181 [00:55<01:39,  1.17it/s, loss=0.309]\u001b[A\n",
      " 36%|███▌      | 65/181 [00:56<01:40,  1.15it/s, loss=0.313]\u001b[A\n",
      " 36%|███▋      | 66/181 [00:56<01:38,  1.17it/s, loss=0.313]\u001b[A\n",
      " 36%|███▋      | 66/181 [00:57<01:40,  1.15it/s, loss=0.308]\u001b[A\n",
      " 37%|███▋      | 67/181 [00:57<01:37,  1.17it/s, loss=0.308]\u001b[A\n",
      " 37%|███▋      | 67/181 [00:58<01:39,  1.15it/s, loss=0.308]\u001b[A\n",
      " 38%|███▊      | 68/181 [00:58<01:36,  1.17it/s, loss=0.308]\u001b[A\n",
      " 38%|███▊      | 68/181 [00:59<01:38,  1.15it/s, loss=0.307]\u001b[A\n",
      " 38%|███▊      | 69/181 [00:59<01:35,  1.17it/s, loss=0.307]\u001b[A\n",
      " 38%|███▊      | 69/181 [00:59<01:37,  1.15it/s, loss=0.305]\u001b[A\n",
      " 39%|███▊      | 70/181 [00:59<01:35,  1.17it/s, loss=0.305]\u001b[A\n",
      " 39%|███▊      | 70/181 [01:00<01:36,  1.15it/s, loss=0.303]\u001b[A\n",
      " 39%|███▉      | 71/181 [01:00<01:34,  1.17it/s, loss=0.303]\u001b[A\n",
      " 39%|███▉      | 71/181 [01:01<01:35,  1.15it/s, loss=0.305]\u001b[A\n",
      " 40%|███▉      | 72/181 [01:01<01:33,  1.17it/s, loss=0.305]\u001b[A\n",
      " 40%|███▉      | 72/181 [01:02<01:34,  1.15it/s, loss=0.304]\u001b[A\n",
      " 40%|████      | 73/181 [01:02<01:32,  1.17it/s, loss=0.304]\u001b[A\n",
      " 40%|████      | 73/181 [01:03<01:33,  1.15it/s, loss=0.301]\u001b[A\n",
      " 41%|████      | 74/181 [01:03<01:31,  1.17it/s, loss=0.301]\u001b[A\n",
      " 41%|████      | 74/181 [01:04<01:32,  1.15it/s, loss=0.3]  \u001b[A\n",
      " 41%|████▏     | 75/181 [01:04<01:30,  1.17it/s, loss=0.3]\u001b[A\n",
      " 41%|████▏     | 75/181 [01:05<01:31,  1.15it/s, loss=0.3]\u001b[A\n",
      " 42%|████▏     | 76/181 [01:05<01:29,  1.17it/s, loss=0.3]\u001b[A\n",
      " 42%|████▏     | 76/181 [01:05<01:31,  1.15it/s, loss=0.299]\u001b[A\n",
      " 43%|████▎     | 77/181 [01:05<01:29,  1.17it/s, loss=0.299]\u001b[A\n",
      " 43%|████▎     | 77/181 [01:06<01:30,  1.15it/s, loss=0.295]\u001b[A\n",
      " 43%|████▎     | 78/181 [01:06<01:28,  1.17it/s, loss=0.295]\u001b[A\n",
      " 43%|████▎     | 78/181 [01:07<01:29,  1.15it/s, loss=0.295]\u001b[A\n",
      " 44%|████▎     | 79/181 [01:07<01:27,  1.17it/s, loss=0.295]\u001b[A\n",
      " 44%|████▎     | 79/181 [01:08<01:28,  1.15it/s, loss=0.295]\u001b[A\n",
      " 44%|████▍     | 80/181 [01:08<01:26,  1.17it/s, loss=0.295]\u001b[A\n",
      " 44%|████▍     | 80/181 [01:09<01:27,  1.15it/s, loss=0.294]\u001b[A\n",
      " 45%|████▍     | 81/181 [01:09<01:25,  1.17it/s, loss=0.294]\u001b[A\n",
      " 45%|████▍     | 81/181 [01:10<01:26,  1.15it/s, loss=0.294]\u001b[A\n",
      " 45%|████▌     | 82/181 [01:10<01:24,  1.17it/s, loss=0.294]\u001b[A\n",
      " 45%|████▌     | 82/181 [01:11<01:25,  1.15it/s, loss=0.291]\u001b[A\n",
      " 46%|████▌     | 83/181 [01:11<01:23,  1.17it/s, loss=0.291]\u001b[A\n",
      " 46%|████▌     | 83/181 [01:11<01:24,  1.15it/s, loss=0.292]\u001b[A\n",
      " 46%|████▋     | 84/181 [01:11<01:23,  1.17it/s, loss=0.292]\u001b[A\n",
      " 46%|████▋     | 84/181 [01:12<01:23,  1.15it/s, loss=0.288]\u001b[A\n",
      " 47%|████▋     | 85/181 [01:12<01:22,  1.17it/s, loss=0.288]\u001b[A\n",
      " 47%|████▋     | 85/181 [01:13<01:23,  1.16it/s, loss=0.286]\u001b[A\n",
      " 48%|████▊     | 86/181 [01:13<01:21,  1.17it/s, loss=0.286]\u001b[A\n",
      " 48%|████▊     | 86/181 [01:14<01:22,  1.16it/s, loss=0.285]\u001b[A\n",
      " 48%|████▊     | 87/181 [01:14<01:20,  1.17it/s, loss=0.285]\u001b[A\n",
      " 48%|████▊     | 87/181 [01:15<01:21,  1.16it/s, loss=0.289]\u001b[A\n",
      " 49%|████▊     | 88/181 [01:15<01:19,  1.17it/s, loss=0.289]\u001b[A\n",
      " 49%|████▊     | 88/181 [01:16<01:20,  1.16it/s, loss=0.287]\u001b[A\n",
      " 49%|████▉     | 89/181 [01:16<01:18,  1.17it/s, loss=0.287]\u001b[A\n",
      " 49%|████▉     | 89/181 [01:16<01:19,  1.16it/s, loss=0.289]\u001b[A\n",
      " 50%|████▉     | 90/181 [01:17<01:17,  1.17it/s, loss=0.289]\u001b[A\n",
      " 50%|████▉     | 90/181 [01:17<01:18,  1.16it/s, loss=0.291]\u001b[A\n",
      " 50%|█████     | 91/181 [01:17<01:16,  1.17it/s, loss=0.291]\u001b[A\n",
      " 50%|█████     | 91/181 [01:18<01:17,  1.16it/s, loss=0.294]\u001b[A\n",
      " 51%|█████     | 92/181 [01:18<01:16,  1.17it/s, loss=0.294]\u001b[A\n",
      " 51%|█████     | 92/181 [01:19<01:16,  1.16it/s, loss=0.293]\u001b[A\n",
      " 51%|█████▏    | 93/181 [01:19<01:15,  1.17it/s, loss=0.293]\u001b[A\n",
      " 51%|█████▏    | 93/181 [01:20<01:16,  1.16it/s, loss=0.291]\u001b[A\n",
      " 52%|█████▏    | 94/181 [01:20<01:14,  1.17it/s, loss=0.291]\u001b[A\n",
      " 52%|█████▏    | 94/181 [01:21<01:15,  1.16it/s, loss=0.292]\u001b[A\n",
      " 52%|█████▏    | 95/181 [01:21<01:13,  1.17it/s, loss=0.292]\u001b[A\n",
      " 52%|█████▏    | 95/181 [01:22<01:14,  1.16it/s, loss=0.29] \u001b[A\n",
      " 53%|█████▎    | 96/181 [01:22<01:12,  1.17it/s, loss=0.29]\u001b[A\n",
      " 53%|█████▎    | 96/181 [01:22<01:13,  1.16it/s, loss=0.287]\u001b[A\n",
      " 54%|█████▎    | 97/181 [01:22<01:11,  1.17it/s, loss=0.287]\u001b[A\n",
      " 54%|█████▎    | 97/181 [01:23<01:12,  1.16it/s, loss=0.286]\u001b[A\n",
      " 54%|█████▍    | 98/181 [01:23<01:10,  1.17it/s, loss=0.286]\u001b[A\n",
      " 54%|█████▍    | 98/181 [01:24<01:11,  1.16it/s, loss=0.287]\u001b[A\n",
      " 55%|█████▍    | 99/181 [01:24<01:10,  1.17it/s, loss=0.287]\u001b[A\n",
      " 55%|█████▍    | 99/181 [01:25<01:10,  1.16it/s, loss=0.29] \u001b[A\n",
      " 55%|█████▌    | 100/181 [01:25<01:09,  1.17it/s, loss=0.29]\u001b[A\n",
      " 55%|█████▌    | 100/181 [01:26<01:09,  1.16it/s, loss=0.289]\u001b[A\n",
      " 56%|█████▌    | 101/181 [01:26<01:08,  1.17it/s, loss=0.289]\u001b[A\n",
      " 56%|█████▌    | 101/181 [01:27<01:09,  1.16it/s, loss=0.289]\u001b[A\n",
      " 56%|█████▋    | 102/181 [01:27<01:07,  1.17it/s, loss=0.289]\u001b[A\n",
      " 56%|█████▋    | 102/181 [01:28<01:08,  1.16it/s, loss=0.29] \u001b[A\n",
      " 57%|█████▋    | 103/181 [01:28<01:06,  1.17it/s, loss=0.29]\u001b[A\n",
      " 57%|█████▋    | 103/181 [01:28<01:07,  1.16it/s, loss=0.287]\u001b[A\n",
      " 57%|█████▋    | 104/181 [01:28<01:05,  1.17it/s, loss=0.287]\u001b[A\n",
      " 57%|█████▋    | 104/181 [01:29<01:06,  1.16it/s, loss=0.288]\u001b[A\n",
      " 58%|█████▊    | 105/181 [01:29<01:04,  1.17it/s, loss=0.288]\u001b[A\n",
      " 58%|█████▊    | 105/181 [01:30<01:05,  1.16it/s, loss=0.287]\u001b[A\n",
      " 59%|█████▊    | 106/181 [01:30<01:04,  1.17it/s, loss=0.287]\u001b[A\n",
      " 59%|█████▊    | 106/181 [01:31<01:04,  1.16it/s, loss=0.285]\u001b[A\n",
      " 59%|█████▉    | 107/181 [01:31<01:03,  1.17it/s, loss=0.285]\u001b[A\n",
      " 59%|█████▉    | 107/181 [01:32<01:03,  1.16it/s, loss=0.284]\u001b[A\n",
      " 60%|█████▉    | 108/181 [01:32<01:02,  1.17it/s, loss=0.284]\u001b[A\n",
      " 60%|█████▉    | 108/181 [01:33<01:02,  1.16it/s, loss=0.281]\u001b[A\n",
      " 60%|██████    | 109/181 [01:33<01:01,  1.17it/s, loss=0.281]\u001b[A\n",
      " 60%|██████    | 109/181 [01:33<01:02,  1.16it/s, loss=0.287]\u001b[A\n",
      " 61%|██████    | 110/181 [01:33<01:00,  1.17it/s, loss=0.287]\u001b[A\n",
      " 61%|██████    | 110/181 [01:34<01:01,  1.16it/s, loss=0.288]\u001b[A\n",
      " 61%|██████▏   | 111/181 [01:34<00:59,  1.17it/s, loss=0.288]\u001b[A\n",
      " 61%|██████▏   | 111/181 [01:35<01:00,  1.16it/s, loss=0.29] \u001b[A\n",
      " 62%|██████▏   | 112/181 [01:35<00:58,  1.17it/s, loss=0.29]\u001b[A\n",
      " 62%|██████▏   | 112/181 [01:36<00:59,  1.16it/s, loss=0.288]\u001b[A\n",
      " 62%|██████▏   | 113/181 [01:36<00:58,  1.17it/s, loss=0.288]\u001b[A\n",
      " 62%|██████▏   | 113/181 [01:37<00:58,  1.16it/s, loss=0.287]\u001b[A\n",
      " 63%|██████▎   | 114/181 [01:37<00:57,  1.17it/s, loss=0.287]\u001b[A\n",
      " 63%|██████▎   | 114/181 [01:38<00:57,  1.16it/s, loss=0.288]\u001b[A\n",
      " 64%|██████▎   | 115/181 [01:38<00:56,  1.17it/s, loss=0.288]\u001b[A\n",
      " 64%|██████▎   | 115/181 [01:39<00:56,  1.16it/s, loss=0.291]\u001b[A\n",
      " 64%|██████▍   | 116/181 [01:39<00:55,  1.17it/s, loss=0.291]\u001b[A\n",
      " 64%|██████▍   | 116/181 [01:39<00:55,  1.16it/s, loss=0.292]\u001b[A\n",
      " 65%|██████▍   | 117/181 [01:39<00:54,  1.17it/s, loss=0.292]\u001b[A\n",
      " 65%|██████▍   | 117/181 [01:40<00:55,  1.16it/s, loss=0.29] \u001b[A\n",
      " 65%|██████▌   | 118/181 [01:40<00:53,  1.17it/s, loss=0.29]\u001b[A\n",
      " 65%|██████▌   | 118/181 [01:41<00:54,  1.16it/s, loss=0.288]\u001b[A\n",
      " 66%|██████▌   | 119/181 [01:41<00:52,  1.17it/s, loss=0.288]\u001b[A\n",
      " 66%|██████▌   | 119/181 [01:42<00:53,  1.16it/s, loss=0.286]\u001b[A\n",
      " 66%|██████▋   | 120/181 [01:42<00:52,  1.17it/s, loss=0.286]\u001b[A\n",
      " 66%|██████▋   | 120/181 [01:43<00:52,  1.16it/s, loss=0.286]\u001b[A\n",
      " 67%|██████▋   | 121/181 [01:43<00:51,  1.17it/s, loss=0.286]\u001b[A\n",
      " 67%|██████▋   | 121/181 [01:44<00:51,  1.16it/s, loss=0.284]\u001b[A\n",
      " 67%|██████▋   | 122/181 [01:44<00:50,  1.17it/s, loss=0.284]\u001b[A\n",
      " 67%|██████▋   | 122/181 [01:45<00:50,  1.16it/s, loss=0.284]\u001b[A\n",
      " 68%|██████▊   | 123/181 [01:45<00:49,  1.17it/s, loss=0.284]\u001b[A\n",
      " 68%|██████▊   | 123/181 [01:45<00:49,  1.16it/s, loss=0.285]\u001b[A\n",
      " 69%|██████▊   | 124/181 [01:45<00:48,  1.17it/s, loss=0.285]\u001b[A\n",
      " 69%|██████▊   | 124/181 [01:46<00:49,  1.16it/s, loss=0.285]\u001b[A\n",
      " 69%|██████▉   | 125/181 [01:46<00:47,  1.17it/s, loss=0.285]\u001b[A\n",
      " 69%|██████▉   | 125/181 [01:47<00:48,  1.16it/s, loss=0.287]\u001b[A\n",
      " 70%|██████▉   | 126/181 [01:47<00:46,  1.17it/s, loss=0.287]\u001b[A\n",
      " 70%|██████▉   | 126/181 [01:48<00:47,  1.16it/s, loss=0.287]\u001b[A\n",
      " 70%|███████   | 127/181 [01:48<00:46,  1.17it/s, loss=0.287]\u001b[A\n",
      " 70%|███████   | 127/181 [01:49<00:46,  1.16it/s, loss=0.287]\u001b[A\n",
      " 71%|███████   | 128/181 [01:49<00:45,  1.17it/s, loss=0.287]\u001b[A\n",
      " 71%|███████   | 128/181 [01:50<00:45,  1.16it/s, loss=0.288]\u001b[A\n",
      " 71%|███████▏  | 129/181 [01:50<00:44,  1.17it/s, loss=0.288]\u001b[A\n",
      " 71%|███████▏  | 129/181 [01:50<00:44,  1.16it/s, loss=0.288]\u001b[A\n",
      " 72%|███████▏  | 130/181 [01:50<00:43,  1.17it/s, loss=0.288]\u001b[A\n",
      " 72%|███████▏  | 130/181 [01:51<00:43,  1.16it/s, loss=0.288]\u001b[A\n",
      " 72%|███████▏  | 131/181 [01:51<00:42,  1.17it/s, loss=0.288]\u001b[A\n",
      " 72%|███████▏  | 131/181 [01:52<00:42,  1.16it/s, loss=0.286]\u001b[A\n",
      " 73%|███████▎  | 132/181 [01:52<00:41,  1.17it/s, loss=0.286]\u001b[A\n",
      " 73%|███████▎  | 132/181 [01:53<00:42,  1.16it/s, loss=0.286]\u001b[A\n"
     ]
    },
    {
     "name": "stdout",
     "output_type": "stream",
     "text": [
      " 73%|███████▎  | 133/181 [01:53<00:40,  1.17it/s, loss=0.286]\u001b[A\n",
      " 73%|███████▎  | 133/181 [01:54<00:41,  1.16it/s, loss=0.285]\u001b[A\n",
      " 74%|███████▍  | 134/181 [01:54<00:40,  1.17it/s, loss=0.285]\u001b[A\n",
      " 74%|███████▍  | 134/181 [01:55<00:40,  1.16it/s, loss=0.289]\u001b[A\n",
      " 75%|███████▍  | 135/181 [01:55<00:39,  1.17it/s, loss=0.289]\u001b[A\n",
      " 75%|███████▍  | 135/181 [01:56<00:39,  1.16it/s, loss=0.291]\u001b[A\n",
      " 75%|███████▌  | 136/181 [01:56<00:38,  1.17it/s, loss=0.291]\u001b[A\n",
      " 75%|███████▌  | 136/181 [01:56<00:38,  1.16it/s, loss=0.29] \u001b[A\n",
      " 76%|███████▌  | 137/181 [01:56<00:37,  1.17it/s, loss=0.29]\u001b[A\n",
      " 76%|███████▌  | 137/181 [01:57<00:37,  1.16it/s, loss=0.291]\u001b[A\n",
      " 76%|███████▌  | 138/181 [01:57<00:36,  1.17it/s, loss=0.291]\u001b[A\n",
      " 76%|███████▌  | 138/181 [01:58<00:36,  1.16it/s, loss=0.29] \u001b[A\n",
      " 77%|███████▋  | 139/181 [01:58<00:35,  1.17it/s, loss=0.29]\u001b[A\n",
      " 77%|███████▋  | 139/181 [01:59<00:36,  1.16it/s, loss=0.29]\u001b[A\n",
      " 77%|███████▋  | 140/181 [01:59<00:35,  1.17it/s, loss=0.29]\u001b[A\n",
      " 77%|███████▋  | 140/181 [02:00<00:35,  1.16it/s, loss=0.29]\u001b[A\n",
      " 78%|███████▊  | 141/181 [02:00<00:34,  1.17it/s, loss=0.29]\u001b[A\n",
      " 78%|███████▊  | 141/181 [02:01<00:34,  1.16it/s, loss=0.289]\u001b[A\n",
      " 78%|███████▊  | 142/181 [02:01<00:33,  1.17it/s, loss=0.289]\u001b[A\n",
      " 78%|███████▊  | 142/181 [02:02<00:33,  1.16it/s, loss=0.291]\u001b[A\n",
      " 79%|███████▉  | 143/181 [02:02<00:32,  1.17it/s, loss=0.291]\u001b[A\n",
      " 79%|███████▉  | 143/181 [02:02<00:32,  1.16it/s, loss=0.289]\u001b[A\n",
      " 80%|███████▉  | 144/181 [02:02<00:31,  1.17it/s, loss=0.289]\u001b[A\n",
      " 80%|███████▉  | 144/181 [02:03<00:31,  1.16it/s, loss=0.287]\u001b[A\n",
      " 80%|████████  | 145/181 [02:03<00:30,  1.17it/s, loss=0.287]\u001b[A\n",
      " 80%|████████  | 145/181 [02:04<00:30,  1.16it/s, loss=0.291]\u001b[A\n",
      " 81%|████████  | 146/181 [02:04<00:29,  1.17it/s, loss=0.291]\u001b[A\n",
      " 81%|████████  | 146/181 [02:05<00:30,  1.16it/s, loss=0.291]\u001b[A\n",
      " 81%|████████  | 147/181 [02:05<00:29,  1.17it/s, loss=0.291]\u001b[A\n",
      " 81%|████████  | 147/181 [02:06<00:29,  1.16it/s, loss=0.291]\u001b[A\n",
      " 82%|████████▏ | 148/181 [02:06<00:28,  1.17it/s, loss=0.291]\u001b[A\n",
      " 82%|████████▏ | 148/181 [02:07<00:28,  1.16it/s, loss=0.289]\u001b[A\n",
      " 82%|████████▏ | 149/181 [02:07<00:27,  1.17it/s, loss=0.289]\u001b[A\n",
      " 82%|████████▏ | 149/181 [02:08<00:27,  1.16it/s, loss=0.287]\u001b[A\n",
      " 83%|████████▎ | 150/181 [02:08<00:26,  1.17it/s, loss=0.287]\u001b[A\n",
      " 83%|████████▎ | 150/181 [02:08<00:26,  1.16it/s, loss=0.29] \u001b[A\n",
      " 83%|████████▎ | 151/181 [02:08<00:25,  1.17it/s, loss=0.29]\u001b[A\n",
      " 83%|████████▎ | 151/181 [02:09<00:25,  1.16it/s, loss=0.288]\u001b[A\n",
      " 84%|████████▍ | 152/181 [02:09<00:24,  1.17it/s, loss=0.288]\u001b[A\n",
      " 84%|████████▍ | 152/181 [02:10<00:24,  1.16it/s, loss=0.287]\u001b[A\n",
      " 85%|████████▍ | 153/181 [02:10<00:23,  1.17it/s, loss=0.287]\u001b[A\n",
      " 85%|████████▍ | 153/181 [02:11<00:24,  1.16it/s, loss=0.291]\u001b[A\n",
      " 85%|████████▌ | 154/181 [02:11<00:23,  1.17it/s, loss=0.291]\u001b[A\n",
      " 85%|████████▌ | 154/181 [02:12<00:23,  1.16it/s, loss=0.291]\u001b[A\n",
      " 86%|████████▌ | 155/181 [02:12<00:22,  1.17it/s, loss=0.291]\u001b[A\n",
      " 86%|████████▌ | 155/181 [02:13<00:22,  1.16it/s, loss=0.289]\u001b[A\n",
      " 86%|████████▌ | 156/181 [02:13<00:21,  1.17it/s, loss=0.289]\u001b[A\n",
      " 86%|████████▌ | 156/181 [02:13<00:21,  1.16it/s, loss=0.287]\u001b[A\n",
      " 87%|████████▋ | 157/181 [02:13<00:20,  1.17it/s, loss=0.287]\u001b[A\n",
      " 87%|████████▋ | 157/181 [02:14<00:20,  1.16it/s, loss=0.285]\u001b[A\n",
      " 87%|████████▋ | 158/181 [02:14<00:19,  1.17it/s, loss=0.285]\u001b[A\n",
      " 87%|████████▋ | 158/181 [02:15<00:19,  1.16it/s, loss=0.286]\u001b[A\n",
      " 88%|████████▊ | 159/181 [02:15<00:18,  1.17it/s, loss=0.286]\u001b[A\n",
      " 88%|████████▊ | 159/181 [02:16<00:18,  1.16it/s, loss=0.286]\u001b[A\n",
      " 88%|████████▊ | 160/181 [02:16<00:17,  1.17it/s, loss=0.286]\u001b[A\n",
      " 88%|████████▊ | 160/181 [02:17<00:18,  1.16it/s, loss=0.286]\u001b[A\n",
      " 89%|████████▉ | 161/181 [02:17<00:17,  1.17it/s, loss=0.286]\u001b[A\n",
      " 89%|████████▉ | 161/181 [02:18<00:17,  1.16it/s, loss=0.288]\u001b[A\n",
      " 90%|████████▉ | 162/181 [02:18<00:16,  1.17it/s, loss=0.288]\u001b[A\n",
      " 90%|████████▉ | 162/181 [02:19<00:16,  1.16it/s, loss=0.284]\u001b[A\n",
      " 90%|█████████ | 163/181 [02:19<00:15,  1.17it/s, loss=0.284]\u001b[A\n",
      " 90%|█████████ | 163/181 [02:19<00:15,  1.16it/s, loss=0.289]\u001b[A\n",
      " 91%|█████████ | 164/181 [02:19<00:14,  1.17it/s, loss=0.289]\u001b[A\n",
      " 91%|█████████ | 164/181 [02:20<00:14,  1.17it/s, loss=0.289]\u001b[A\n",
      " 91%|█████████ | 165/181 [02:20<00:13,  1.17it/s, loss=0.289]\u001b[A\n",
      " 91%|█████████ | 165/181 [02:21<00:13,  1.17it/s, loss=0.288]\u001b[A\n",
      " 92%|█████████▏| 166/181 [02:21<00:12,  1.17it/s, loss=0.288]\u001b[A\n",
      " 92%|█████████▏| 166/181 [02:22<00:12,  1.17it/s, loss=0.285]\u001b[A\n",
      " 92%|█████████▏| 167/181 [02:22<00:11,  1.17it/s, loss=0.285]\u001b[A\n",
      " 92%|█████████▏| 167/181 [02:23<00:12,  1.17it/s, loss=0.291]\u001b[A\n",
      " 93%|█████████▎| 168/181 [02:23<00:11,  1.17it/s, loss=0.291]\u001b[A\n",
      " 93%|█████████▎| 168/181 [02:24<00:11,  1.17it/s, loss=0.294]\u001b[A\n",
      " 93%|█████████▎| 169/181 [02:24<00:10,  1.17it/s, loss=0.294]\u001b[A\n",
      " 93%|█████████▎| 169/181 [02:25<00:10,  1.17it/s, loss=0.296]\u001b[A\n",
      " 94%|█████████▍| 170/181 [02:25<00:09,  1.17it/s, loss=0.296]\u001b[A\n",
      " 94%|█████████▍| 170/181 [02:25<00:09,  1.17it/s, loss=0.296]\u001b[A\n",
      " 94%|█████████▍| 171/181 [02:25<00:08,  1.17it/s, loss=0.296]\u001b[A\n",
      " 94%|█████████▍| 171/181 [02:26<00:08,  1.17it/s, loss=0.294]\u001b[A\n",
      " 95%|█████████▌| 172/181 [02:26<00:07,  1.17it/s, loss=0.294]\u001b[A\n",
      " 95%|█████████▌| 172/181 [02:27<00:07,  1.17it/s, loss=0.297]\u001b[A\n",
      " 96%|█████████▌| 173/181 [02:27<00:06,  1.17it/s, loss=0.297]\u001b[A\n",
      " 96%|█████████▌| 173/181 [02:28<00:06,  1.17it/s, loss=0.294]\u001b[A\n",
      " 96%|█████████▌| 174/181 [02:28<00:05,  1.17it/s, loss=0.294]\u001b[A\n",
      " 96%|█████████▌| 174/181 [02:29<00:06,  1.17it/s, loss=0.294]\u001b[A\n",
      " 97%|█████████▋| 175/181 [02:29<00:05,  1.17it/s, loss=0.294]\u001b[A\n",
      " 97%|█████████▋| 175/181 [02:30<00:05,  1.17it/s, loss=0.295]\u001b[A\n",
      " 97%|█████████▋| 176/181 [02:30<00:04,  1.17it/s, loss=0.295]\u001b[A\n",
      " 97%|█████████▋| 176/181 [02:30<00:04,  1.17it/s, loss=0.294]\u001b[A\n",
      " 98%|█████████▊| 177/181 [02:30<00:03,  1.17it/s, loss=0.294]\u001b[A\n",
      " 98%|█████████▊| 177/181 [02:31<00:03,  1.17it/s, loss=0.291]\u001b[A\n",
      " 98%|█████████▊| 178/181 [02:31<00:02,  1.17it/s, loss=0.291]\u001b[A\n",
      " 98%|█████████▊| 178/181 [02:32<00:02,  1.17it/s, loss=0.292]\u001b[A\n",
      " 99%|█████████▉| 179/181 [02:32<00:01,  1.17it/s, loss=0.292]\u001b[A\n",
      " 99%|█████████▉| 179/181 [02:33<00:01,  1.17it/s, loss=0.294]\u001b[A\n",
      " 99%|█████████▉| 180/181 [02:33<00:00,  1.17it/s, loss=0.294]\u001b[A\n",
      " 99%|█████████▉| 180/181 [02:33<00:00,  1.17it/s, loss=0.293]\u001b[A\n",
      "100%|██████████| 181/181 [02:33<00:00,  1.18it/s, loss=0.293]\u001b[A\n",
      "                                                             \u001b[A[ 0.       0.29282  0.75611  0.78584]\n",
      "\n",
      "CPU times: user 3min 19s, sys: 1min 6s, total: 4min 26s\n",
      "Wall time: 3min 22s\n"
     ]
    }
   ],
   "source": [
    "%time learner.fit(lrs=λr, n_cycle=1, cycle_len=1, cycle_mult=1)"
   ]
  },
  {
   "cell_type": "code",
   "execution_count": 37,
   "metadata": {
    "hidden": true,
    "scrolled": true
   },
   "outputs": [
    {
     "data": {
      "application/vnd.jupyter.widget-view+json": {
       "model_id": "eb10dcb7d347434cab499c0da040488b",
       "version_major": 2,
       "version_minor": 0
      },
      "text/html": [
       "<p>Failed to display Jupyter Widget of type <code>HBox</code>.</p>\n",
       "<p>\n",
       "  If you're reading this message in the Jupyter Notebook or JupyterLab Notebook, it may mean\n",
       "  that the widgets JavaScript is still loading. If this message persists, it\n",
       "  likely means that the widgets JavaScript library is either not installed or\n",
       "  not enabled. See the <a href=\"https://ipywidgets.readthedocs.io/en/stable/user_install.html\">Jupyter\n",
       "  Widgets Documentation</a> for setup instructions.\n",
       "</p>\n",
       "<p>\n",
       "  If you're reading this message in another frontend (for example, a static\n",
       "  rendering on GitHub or <a href=\"https://nbviewer.jupyter.org/\">NBViewer</a>),\n",
       "  it may mean that your frontend doesn't currently support widgets.\n",
       "</p>\n"
      ],
      "text/plain": [
       "HBox(children=(IntProgress(value=0, description='Epoch', max=1), HTML(value='')))"
      ]
     },
     "metadata": {},
     "output_type": "display_data"
    },
    {
     "name": "stdout",
     "output_type": "stream",
     "text": [
      "\n",
      "  0%|          | 0/241 [00:00<?, ?it/s]\u001b[A\n",
      "  0%|          | 0/241 [00:00<?, ?it/s, loss=0.346]\u001b[A\n",
      "  0%|          | 1/241 [00:00<03:54,  1.02it/s, loss=0.346]\u001b[A\n",
      "  0%|          | 1/241 [00:01<06:43,  1.68s/it, loss=0.309]\u001b[A\n",
      "  1%|          | 2/241 [00:01<03:21,  1.19it/s, loss=0.309]\u001b[A\n",
      "  1%|          | 2/241 [00:02<04:46,  1.20s/it, loss=0.349]\u001b[A\n",
      "  1%|          | 3/241 [00:02<03:10,  1.25it/s, loss=0.349]\u001b[A\n",
      "  1%|          | 3/241 [00:03<04:06,  1.03s/it, loss=0.294]\u001b[A\n",
      "  2%|▏         | 4/241 [00:03<03:04,  1.29it/s, loss=0.294]\u001b[A\n",
      "  2%|▏         | 4/241 [00:03<03:45,  1.05it/s, loss=0.276]\u001b[A\n",
      "  2%|▏         | 5/241 [00:03<03:00,  1.31it/s, loss=0.276]\u001b[A\n",
      "  2%|▏         | 5/241 [00:04<03:33,  1.11it/s, loss=0.28] \u001b[A\n",
      "  2%|▏         | 6/241 [00:04<02:57,  1.32it/s, loss=0.28]\u001b[A\n",
      "  2%|▏         | 6/241 [00:05<03:25,  1.15it/s, loss=0.253]\u001b[A\n",
      "  3%|▎         | 7/241 [00:05<02:55,  1.33it/s, loss=0.253]\u001b[A\n",
      "  3%|▎         | 7/241 [00:05<03:18,  1.18it/s, loss=0.281]\u001b[A\n",
      "  3%|▎         | 8/241 [00:05<02:53,  1.34it/s, loss=0.281]\u001b[A\n",
      "  3%|▎         | 8/241 [00:06<03:14,  1.20it/s, loss=0.277]\u001b[A\n",
      "  4%|▎         | 9/241 [00:06<02:52,  1.35it/s, loss=0.277]\u001b[A\n",
      "  4%|▎         | 9/241 [00:07<03:10,  1.22it/s, loss=0.271]\u001b[A\n",
      "  4%|▍         | 10/241 [00:07<02:50,  1.35it/s, loss=0.271]\u001b[A\n",
      "  4%|▍         | 10/241 [00:08<03:06,  1.24it/s, loss=0.27] \u001b[A\n",
      "  5%|▍         | 11/241 [00:08<02:49,  1.36it/s, loss=0.27]\u001b[A\n",
      "  5%|▍         | 11/241 [00:08<03:04,  1.25it/s, loss=0.274]\u001b[A\n",
      "  5%|▍         | 12/241 [00:08<02:48,  1.36it/s, loss=0.274]\u001b[A\n",
      "  5%|▍         | 12/241 [00:09<03:01,  1.26it/s, loss=0.267]\u001b[A\n",
      "  5%|▌         | 13/241 [00:09<02:47,  1.36it/s, loss=0.267]\u001b[A\n",
      "  5%|▌         | 13/241 [00:10<02:59,  1.27it/s, loss=0.278]\u001b[A\n",
      "  6%|▌         | 14/241 [00:10<02:46,  1.37it/s, loss=0.278]\u001b[A\n",
      "  6%|▌         | 14/241 [00:10<02:57,  1.28it/s, loss=0.273]\u001b[A\n",
      "  6%|▌         | 15/241 [00:10<02:44,  1.37it/s, loss=0.273]\u001b[A\n",
      "  6%|▌         | 15/241 [00:11<02:55,  1.29it/s, loss=0.267]\u001b[A\n",
      "  7%|▋         | 16/241 [00:11<02:43,  1.37it/s, loss=0.267]\u001b[A\n",
      "  7%|▋         | 16/241 [00:12<02:53,  1.29it/s, loss=0.278]\u001b[A\n",
      "  7%|▋         | 17/241 [00:12<02:43,  1.37it/s, loss=0.278]\u001b[A\n",
      "  7%|▋         | 17/241 [00:13<02:52,  1.30it/s, loss=0.277]\u001b[A\n",
      "  7%|▋         | 18/241 [00:13<02:42,  1.38it/s, loss=0.277]\u001b[A\n",
      "  7%|▋         | 18/241 [00:13<02:50,  1.30it/s, loss=0.273]\u001b[A\n",
      "  8%|▊         | 19/241 [00:13<02:41,  1.38it/s, loss=0.273]\u001b[A\n",
      "  8%|▊         | 19/241 [00:14<02:49,  1.31it/s, loss=0.27] \u001b[A\n",
      "  8%|▊         | 20/241 [00:14<02:40,  1.38it/s, loss=0.27]\u001b[A\n",
      "  8%|▊         | 20/241 [00:15<02:48,  1.31it/s, loss=0.273]\u001b[A\n",
      "  9%|▊         | 21/241 [00:15<02:39,  1.38it/s, loss=0.273]\u001b[A\n",
      "  9%|▊         | 21/241 [00:15<02:46,  1.32it/s, loss=0.265]\u001b[A\n",
      "  9%|▉         | 22/241 [00:15<02:38,  1.38it/s, loss=0.265]\u001b[A\n",
      "  9%|▉         | 22/241 [00:16<02:45,  1.32it/s, loss=0.262]\u001b[A\n",
      " 10%|▉         | 23/241 [00:16<02:37,  1.38it/s, loss=0.262]\u001b[A\n",
      " 10%|▉         | 23/241 [00:17<02:44,  1.32it/s, loss=0.255]\u001b[A\n",
      " 10%|▉         | 24/241 [00:17<02:37,  1.38it/s, loss=0.255]\u001b[A\n",
      " 10%|▉         | 24/241 [00:18<02:43,  1.33it/s, loss=0.254]\u001b[A\n",
      " 10%|█         | 25/241 [00:18<02:36,  1.38it/s, loss=0.254]\u001b[A\n",
      " 10%|█         | 25/241 [00:18<02:42,  1.33it/s, loss=0.254]\u001b[A\n",
      " 11%|█         | 26/241 [00:18<02:35,  1.38it/s, loss=0.254]\u001b[A\n",
      " 11%|█         | 26/241 [00:19<02:41,  1.33it/s, loss=0.251]\u001b[A\n",
      " 11%|█         | 27/241 [00:19<02:34,  1.38it/s, loss=0.251]\u001b[A\n",
      " 11%|█         | 27/241 [00:20<02:40,  1.34it/s, loss=0.25] \u001b[A\n",
      " 12%|█▏        | 28/241 [00:20<02:33,  1.39it/s, loss=0.25]\u001b[A\n",
      " 12%|█▏        | 28/241 [00:20<02:39,  1.34it/s, loss=0.249]\u001b[A\n",
      " 12%|█▏        | 29/241 [00:20<02:32,  1.39it/s, loss=0.249]\u001b[A\n",
      " 12%|█▏        | 29/241 [00:21<02:38,  1.34it/s, loss=0.249]\u001b[A\n",
      " 12%|█▏        | 30/241 [00:21<02:32,  1.39it/s, loss=0.249]\u001b[A\n",
      " 12%|█▏        | 30/241 [00:22<02:37,  1.34it/s, loss=0.245]\u001b[A\n",
      " 13%|█▎        | 31/241 [00:22<02:31,  1.39it/s, loss=0.245]\u001b[A\n",
      " 13%|█▎        | 31/241 [00:23<02:36,  1.34it/s, loss=0.243]\u001b[A\n",
      " 13%|█▎        | 32/241 [00:23<02:30,  1.39it/s, loss=0.243]\u001b[A\n",
      " 13%|█▎        | 32/241 [00:23<02:35,  1.35it/s, loss=0.249]\u001b[A\n",
      " 14%|█▎        | 33/241 [00:23<02:29,  1.39it/s, loss=0.249]\u001b[A\n",
      " 14%|█▎        | 33/241 [00:24<02:34,  1.35it/s, loss=0.245]\u001b[A\n",
      " 14%|█▍        | 34/241 [00:24<02:29,  1.39it/s, loss=0.245]\u001b[A\n",
      " 14%|█▍        | 34/241 [00:25<02:33,  1.35it/s, loss=0.253]\u001b[A\n",
      " 15%|█▍        | 35/241 [00:25<02:28,  1.39it/s, loss=0.253]\u001b[A\n",
      " 15%|█▍        | 35/241 [00:25<02:32,  1.35it/s, loss=0.26] \u001b[A\n",
      " 15%|█▍        | 36/241 [00:25<02:27,  1.39it/s, loss=0.26]\u001b[A\n",
      " 15%|█▍        | 36/241 [00:26<02:31,  1.35it/s, loss=0.262]\u001b[A\n",
      " 15%|█▌        | 37/241 [00:26<02:26,  1.39it/s, loss=0.262]\u001b[A\n",
      " 15%|█▌        | 37/241 [00:27<02:30,  1.35it/s, loss=0.26] \u001b[A\n",
      " 16%|█▌        | 38/241 [00:27<02:26,  1.39it/s, loss=0.26]\u001b[A\n",
      " 16%|█▌        | 38/241 [00:28<02:29,  1.36it/s, loss=0.265]\u001b[A\n",
      " 16%|█▌        | 39/241 [00:28<02:25,  1.39it/s, loss=0.265]\u001b[A\n",
      " 16%|█▌        | 39/241 [00:28<02:28,  1.36it/s, loss=0.265]\u001b[A\n",
      " 17%|█▋        | 40/241 [00:28<02:24,  1.39it/s, loss=0.265]\u001b[A\n",
      " 17%|█▋        | 40/241 [00:29<02:28,  1.36it/s, loss=0.262]\u001b[A\n",
      " 17%|█▋        | 41/241 [00:29<02:23,  1.39it/s, loss=0.262]\u001b[A\n",
      " 17%|█▋        | 41/241 [00:30<02:27,  1.36it/s, loss=0.264]\u001b[A\n",
      " 17%|█▋        | 42/241 [00:30<02:22,  1.39it/s, loss=0.264]\u001b[A\n",
      " 17%|█▋        | 42/241 [00:30<02:26,  1.36it/s, loss=0.279]\u001b[A\n",
      " 18%|█▊        | 43/241 [00:30<02:22,  1.39it/s, loss=0.279]\u001b[A\n",
      " 18%|█▊        | 43/241 [00:31<02:25,  1.36it/s, loss=0.283]\u001b[A\n",
      " 18%|█▊        | 44/241 [00:31<02:21,  1.39it/s, loss=0.283]\u001b[A\n",
      " 18%|█▊        | 44/241 [00:32<02:24,  1.36it/s, loss=0.291]\u001b[A\n",
      " 19%|█▊        | 45/241 [00:32<02:20,  1.39it/s, loss=0.291]\u001b[A\n",
      " 19%|█▊        | 45/241 [00:33<02:23,  1.36it/s, loss=0.289]\u001b[A\n",
      " 19%|█▉        | 46/241 [00:33<02:20,  1.39it/s, loss=0.289]\u001b[A\n",
      " 19%|█▉        | 46/241 [00:33<02:23,  1.36it/s, loss=0.285]\u001b[A\n",
      " 20%|█▉        | 47/241 [00:33<02:19,  1.39it/s, loss=0.285]\u001b[A\n",
      " 20%|█▉        | 47/241 [00:34<02:22,  1.36it/s, loss=0.287]\u001b[A\n",
      " 20%|█▉        | 48/241 [00:34<02:18,  1.39it/s, loss=0.287]\u001b[A\n",
      " 20%|█▉        | 48/241 [00:35<02:21,  1.36it/s, loss=0.287]\u001b[A\n",
      " 20%|██        | 49/241 [00:35<02:17,  1.39it/s, loss=0.287]\u001b[A\n",
      " 20%|██        | 49/241 [00:35<02:20,  1.37it/s, loss=0.29] \u001b[A\n",
      " 21%|██        | 50/241 [00:35<02:17,  1.39it/s, loss=0.29]\u001b[A\n",
      " 21%|██        | 50/241 [00:36<02:19,  1.37it/s, loss=0.294]\u001b[A\n",
      " 21%|██        | 51/241 [00:36<02:16,  1.39it/s, loss=0.294]\u001b[A\n",
      " 21%|██        | 51/241 [00:37<02:19,  1.37it/s, loss=0.288]\u001b[A\n",
      " 22%|██▏       | 52/241 [00:37<02:15,  1.39it/s, loss=0.288]\u001b[A\n",
      " 22%|██▏       | 52/241 [00:38<02:18,  1.37it/s, loss=0.286]\u001b[A\n",
      " 22%|██▏       | 53/241 [00:38<02:14,  1.39it/s, loss=0.286]\u001b[A\n",
      " 22%|██▏       | 53/241 [00:38<02:17,  1.37it/s, loss=0.286]\u001b[A\n",
      " 22%|██▏       | 54/241 [00:38<02:14,  1.39it/s, loss=0.286]\u001b[A\n",
      " 22%|██▏       | 54/241 [00:39<02:16,  1.37it/s, loss=0.287]\u001b[A\n",
      " 23%|██▎       | 55/241 [00:39<02:13,  1.39it/s, loss=0.287]\u001b[A\n",
      " 23%|██▎       | 55/241 [00:40<02:15,  1.37it/s, loss=0.285]\u001b[A\n",
      " 23%|██▎       | 56/241 [00:40<02:12,  1.39it/s, loss=0.285]\u001b[A\n",
      " 23%|██▎       | 56/241 [00:40<02:15,  1.37it/s, loss=0.29] \u001b[A\n",
      " 24%|██▎       | 57/241 [00:40<02:11,  1.39it/s, loss=0.29]\u001b[A\n",
      " 24%|██▎       | 57/241 [00:41<02:14,  1.37it/s, loss=0.288]\u001b[A\n",
      " 24%|██▍       | 58/241 [00:41<02:11,  1.39it/s, loss=0.288]\u001b[A\n",
      " 24%|██▍       | 58/241 [00:42<02:13,  1.37it/s, loss=0.287]\u001b[A\n",
      " 24%|██▍       | 59/241 [00:42<02:10,  1.39it/s, loss=0.287]\u001b[A\n",
      " 24%|██▍       | 59/241 [00:43<02:12,  1.37it/s, loss=0.282]\u001b[A\n",
      " 25%|██▍       | 60/241 [00:43<02:09,  1.39it/s, loss=0.282]\u001b[A\n",
      " 25%|██▍       | 60/241 [00:43<02:11,  1.37it/s, loss=0.283]\u001b[A\n",
      " 25%|██▌       | 61/241 [00:43<02:09,  1.39it/s, loss=0.283]\u001b[A\n",
      " 25%|██▌       | 61/241 [00:44<02:11,  1.37it/s, loss=0.286]\u001b[A\n",
      " 26%|██▌       | 62/241 [00:44<02:08,  1.39it/s, loss=0.286]\u001b[A\n",
      " 26%|██▌       | 62/241 [00:45<02:10,  1.37it/s, loss=0.293]\u001b[A\n",
      " 26%|██▌       | 63/241 [00:45<02:07,  1.40it/s, loss=0.293]\u001b[A\n",
      " 26%|██▌       | 63/241 [00:45<02:09,  1.37it/s, loss=0.289]\u001b[A\n",
      " 27%|██▋       | 64/241 [00:45<02:06,  1.40it/s, loss=0.289]\u001b[A\n",
      " 27%|██▋       | 64/241 [00:46<02:08,  1.37it/s, loss=0.292]\u001b[A\n",
      " 27%|██▋       | 65/241 [00:46<02:06,  1.40it/s, loss=0.292]\u001b[A\n",
      " 27%|██▋       | 65/241 [00:47<02:08,  1.37it/s, loss=0.294]\u001b[A\n",
      " 27%|██▋       | 66/241 [00:47<02:05,  1.40it/s, loss=0.294]\u001b[A\n",
      " 27%|██▋       | 66/241 [00:47<02:07,  1.38it/s, loss=0.295]\u001b[A\n",
      " 28%|██▊       | 67/241 [00:48<02:04,  1.40it/s, loss=0.295]\u001b[A\n",
      " 28%|██▊       | 67/241 [00:48<02:06,  1.38it/s, loss=0.301]\u001b[A\n",
      " 28%|██▊       | 68/241 [00:48<02:03,  1.40it/s, loss=0.301]\u001b[A\n",
      " 28%|██▊       | 68/241 [00:49<02:05,  1.38it/s, loss=0.298]\u001b[A\n",
      " 29%|██▊       | 69/241 [00:49<02:03,  1.40it/s, loss=0.298]\u001b[A\n",
      " 29%|██▊       | 69/241 [00:50<02:04,  1.38it/s, loss=0.298]\u001b[A\n",
      " 29%|██▉       | 70/241 [00:50<02:02,  1.40it/s, loss=0.298]\u001b[A\n",
      " 29%|██▉       | 70/241 [00:50<02:04,  1.38it/s, loss=0.295]\u001b[A\n",
      " 29%|██▉       | 71/241 [00:50<02:01,  1.40it/s, loss=0.295]\u001b[A\n",
      " 29%|██▉       | 71/241 [00:51<02:03,  1.38it/s, loss=0.295]\u001b[A\n",
      " 30%|██▉       | 72/241 [00:51<02:01,  1.40it/s, loss=0.295]\u001b[A\n",
      " 30%|██▉       | 72/241 [00:52<02:02,  1.38it/s, loss=0.3]  \u001b[A\n",
      " 30%|███       | 73/241 [00:52<02:00,  1.40it/s, loss=0.3]\u001b[A\n",
      " 30%|███       | 73/241 [00:52<02:01,  1.38it/s, loss=0.299]\u001b[A\n",
      " 31%|███       | 74/241 [00:53<01:59,  1.40it/s, loss=0.299]\u001b[A\n",
      " 31%|███       | 74/241 [00:53<02:01,  1.38it/s, loss=0.295]\u001b[A\n",
      " 31%|███       | 75/241 [00:53<01:58,  1.40it/s, loss=0.295]\u001b[A\n",
      " 31%|███       | 75/241 [00:54<02:00,  1.38it/s, loss=0.297]\u001b[A\n",
      " 32%|███▏      | 76/241 [00:54<01:58,  1.40it/s, loss=0.297]\u001b[A\n",
      " 32%|███▏      | 76/241 [00:55<01:59,  1.38it/s, loss=0.294]\u001b[A\n",
      " 32%|███▏      | 77/241 [00:55<01:57,  1.40it/s, loss=0.294]\u001b[A\n",
      " 32%|███▏      | 77/241 [00:55<01:58,  1.38it/s, loss=0.292]\u001b[A\n",
      " 32%|███▏      | 78/241 [00:55<01:56,  1.40it/s, loss=0.292]\u001b[A\n",
      " 32%|███▏      | 78/241 [00:56<01:58,  1.38it/s, loss=0.289]\u001b[A\n",
      " 33%|███▎      | 79/241 [00:56<01:55,  1.40it/s, loss=0.289]\u001b[A\n",
      " 33%|███▎      | 79/241 [00:57<01:57,  1.38it/s, loss=0.29] \u001b[A\n",
      " 33%|███▎      | 80/241 [00:57<01:55,  1.40it/s, loss=0.29]\u001b[A\n",
      " 33%|███▎      | 80/241 [00:57<01:56,  1.38it/s, loss=0.288]\u001b[A\n",
      " 34%|███▎      | 81/241 [00:57<01:54,  1.40it/s, loss=0.288]\u001b[A\n",
      " 34%|███▎      | 81/241 [00:58<01:55,  1.38it/s, loss=0.291]\u001b[A\n",
      " 34%|███▍      | 82/241 [00:58<01:53,  1.40it/s, loss=0.291]\u001b[A\n",
      " 34%|███▍      | 82/241 [00:59<01:55,  1.38it/s, loss=0.291]\u001b[A\n",
      " 34%|███▍      | 83/241 [00:59<01:53,  1.40it/s, loss=0.291]\u001b[A\n",
      " 34%|███▍      | 83/241 [01:00<01:54,  1.38it/s, loss=0.287]\u001b[A\n",
      " 35%|███▍      | 84/241 [01:00<01:52,  1.40it/s, loss=0.287]\u001b[A\n",
      " 35%|███▍      | 84/241 [01:00<01:53,  1.38it/s, loss=0.288]\u001b[A\n",
      " 35%|███▌      | 85/241 [01:00<01:51,  1.40it/s, loss=0.288]\u001b[A\n",
      " 35%|███▌      | 85/241 [01:01<01:52,  1.38it/s, loss=0.286]\u001b[A\n",
      " 36%|███▌      | 86/241 [01:01<01:50,  1.40it/s, loss=0.286]\u001b[A\n",
      " 36%|███▌      | 86/241 [01:02<01:52,  1.38it/s, loss=0.284]\u001b[A\n",
      " 36%|███▌      | 87/241 [01:02<01:50,  1.40it/s, loss=0.284]\u001b[A\n",
      " 36%|███▌      | 87/241 [01:02<01:51,  1.38it/s, loss=0.285]\u001b[A\n",
      " 37%|███▋      | 88/241 [01:02<01:49,  1.40it/s, loss=0.285]\u001b[A\n",
      " 37%|███▋      | 88/241 [01:03<01:50,  1.38it/s, loss=0.288]\u001b[A\n",
      " 37%|███▋      | 89/241 [01:03<01:48,  1.40it/s, loss=0.288]\u001b[A\n",
      " 37%|███▋      | 89/241 [01:04<01:49,  1.38it/s, loss=0.291]\u001b[A\n",
      " 37%|███▋      | 90/241 [01:04<01:48,  1.40it/s, loss=0.291]\u001b[A\n",
      " 37%|███▋      | 90/241 [01:05<01:49,  1.38it/s, loss=0.288]\u001b[A\n",
      " 38%|███▊      | 91/241 [01:05<01:47,  1.40it/s, loss=0.288]\u001b[A\n",
      " 38%|███▊      | 91/241 [01:05<01:48,  1.38it/s, loss=0.287]\u001b[A\n",
      " 38%|███▊      | 92/241 [01:05<01:46,  1.40it/s, loss=0.287]\u001b[A\n",
      " 38%|███▊      | 92/241 [01:06<01:47,  1.38it/s, loss=0.287]\u001b[A\n",
      " 39%|███▊      | 93/241 [01:06<01:45,  1.40it/s, loss=0.287]\u001b[A\n",
      " 39%|███▊      | 93/241 [01:07<01:47,  1.38it/s, loss=0.286]\u001b[A\n",
      " 39%|███▉      | 94/241 [01:07<01:45,  1.40it/s, loss=0.286]\u001b[A\n",
      " 39%|███▉      | 94/241 [01:07<01:46,  1.38it/s, loss=0.284]\u001b[A\n",
      " 39%|███▉      | 95/241 [01:07<01:44,  1.40it/s, loss=0.284]\u001b[A\n",
      " 39%|███▉      | 95/241 [01:08<01:45,  1.38it/s, loss=0.289]\u001b[A\n",
      " 40%|███▉      | 96/241 [01:08<01:43,  1.40it/s, loss=0.289]\u001b[A\n",
      " 40%|███▉      | 96/241 [01:09<01:44,  1.38it/s, loss=0.293]\u001b[A\n",
      " 40%|████      | 97/241 [01:09<01:43,  1.40it/s, loss=0.293]\u001b[A\n",
      " 40%|████      | 97/241 [01:10<01:44,  1.38it/s, loss=0.291]\u001b[A\n",
      " 41%|████      | 98/241 [01:10<01:42,  1.40it/s, loss=0.291]\u001b[A\n",
      " 41%|████      | 98/241 [01:10<01:43,  1.38it/s, loss=0.289]\u001b[A\n",
      " 41%|████      | 99/241 [01:10<01:41,  1.40it/s, loss=0.289]\u001b[A\n",
      " 41%|████      | 99/241 [01:11<01:42,  1.38it/s, loss=0.287]\u001b[A\n",
      " 41%|████▏     | 100/241 [01:11<01:40,  1.40it/s, loss=0.287]\u001b[A\n",
      " 41%|████▏     | 100/241 [01:12<01:41,  1.38it/s, loss=0.287]\u001b[A\n",
      " 42%|████▏     | 101/241 [01:12<01:40,  1.40it/s, loss=0.287]\u001b[A\n",
      " 42%|████▏     | 101/241 [01:12<01:41,  1.38it/s, loss=0.29] \u001b[A\n",
      " 42%|████▏     | 102/241 [01:12<01:39,  1.40it/s, loss=0.29]\u001b[A\n",
      " 42%|████▏     | 102/241 [01:13<01:40,  1.38it/s, loss=0.292]\u001b[A\n",
      " 43%|████▎     | 103/241 [01:13<01:38,  1.40it/s, loss=0.292]\u001b[A\n",
      " 43%|████▎     | 103/241 [01:14<01:39,  1.38it/s, loss=0.29] \u001b[A\n",
      " 43%|████▎     | 104/241 [01:14<01:37,  1.40it/s, loss=0.29]\u001b[A\n",
      " 43%|████▎     | 104/241 [01:15<01:38,  1.38it/s, loss=0.291]\u001b[A\n",
      " 44%|████▎     | 105/241 [01:15<01:37,  1.40it/s, loss=0.291]\u001b[A\n",
      " 44%|████▎     | 105/241 [01:15<01:38,  1.39it/s, loss=0.293]\u001b[A\n",
      " 44%|████▍     | 106/241 [01:15<01:36,  1.40it/s, loss=0.293]\u001b[A\n",
      " 44%|████▍     | 106/241 [01:16<01:37,  1.39it/s, loss=0.3]  \u001b[A\n",
      " 44%|████▍     | 107/241 [01:16<01:35,  1.40it/s, loss=0.3]\u001b[A\n",
      " 44%|████▍     | 107/241 [01:17<01:36,  1.39it/s, loss=0.298]\u001b[A\n",
      " 45%|████▍     | 108/241 [01:17<01:35,  1.40it/s, loss=0.298]\u001b[A\n",
      " 45%|████▍     | 108/241 [01:17<01:35,  1.39it/s, loss=0.295]\u001b[A\n",
      " 45%|████▌     | 109/241 [01:17<01:34,  1.40it/s, loss=0.295]\u001b[A\n",
      " 45%|████▌     | 109/241 [01:18<01:35,  1.39it/s, loss=0.3]  \u001b[A\n",
      " 46%|████▌     | 110/241 [01:18<01:33,  1.40it/s, loss=0.3]\u001b[A\n",
      " 46%|████▌     | 110/241 [01:19<01:34,  1.39it/s, loss=0.297]\u001b[A\n",
      " 46%|████▌     | 111/241 [01:19<01:32,  1.40it/s, loss=0.297]\u001b[A\n",
      " 46%|████▌     | 111/241 [01:20<01:33,  1.39it/s, loss=0.298]\u001b[A\n",
      " 46%|████▋     | 112/241 [01:20<01:32,  1.40it/s, loss=0.298]\u001b[A\n",
      " 46%|████▋     | 112/241 [01:20<01:33,  1.39it/s, loss=0.296]\u001b[A\n",
      " 47%|████▋     | 113/241 [01:20<01:31,  1.40it/s, loss=0.296]\u001b[A\n",
      " 47%|████▋     | 113/241 [01:21<01:32,  1.39it/s, loss=0.296]\u001b[A\n",
      " 47%|████▋     | 114/241 [01:21<01:30,  1.40it/s, loss=0.296]\u001b[A\n",
      " 47%|████▋     | 114/241 [01:22<01:31,  1.39it/s, loss=0.292]\u001b[A\n",
      " 48%|████▊     | 115/241 [01:22<01:30,  1.40it/s, loss=0.292]\u001b[A\n",
      " 48%|████▊     | 115/241 [01:22<01:30,  1.39it/s, loss=0.291]\u001b[A\n",
      " 48%|████▊     | 116/241 [01:22<01:29,  1.40it/s, loss=0.291]\u001b[A\n",
      " 48%|████▊     | 116/241 [01:23<01:30,  1.39it/s, loss=0.29] \u001b[A\n",
      " 49%|████▊     | 117/241 [01:23<01:28,  1.40it/s, loss=0.29]\u001b[A\n",
      " 49%|████▊     | 117/241 [01:24<01:29,  1.39it/s, loss=0.29]\u001b[A\n",
      " 49%|████▉     | 118/241 [01:24<01:27,  1.40it/s, loss=0.29]\u001b[A\n",
      " 49%|████▉     | 118/241 [01:25<01:28,  1.39it/s, loss=0.292]\u001b[A\n",
      " 49%|████▉     | 119/241 [01:25<01:27,  1.40it/s, loss=0.292]\u001b[A\n",
      " 49%|████▉     | 119/241 [01:25<01:27,  1.39it/s, loss=0.293]\u001b[A\n",
      " 50%|████▉     | 120/241 [01:25<01:26,  1.40it/s, loss=0.293]\u001b[A\n",
      " 50%|████▉     | 120/241 [01:26<01:27,  1.39it/s, loss=0.298]\u001b[A\n",
      " 50%|█████     | 121/241 [01:26<01:25,  1.40it/s, loss=0.298]\u001b[A\n",
      " 50%|█████     | 121/241 [01:27<01:26,  1.39it/s, loss=0.297]\u001b[A\n",
      " 51%|█████     | 122/241 [01:27<01:25,  1.40it/s, loss=0.297]\u001b[A\n",
      " 51%|█████     | 122/241 [01:27<01:25,  1.39it/s, loss=0.299]\u001b[A\n",
      " 51%|█████     | 123/241 [01:27<01:24,  1.40it/s, loss=0.299]\u001b[A\n",
      " 51%|█████     | 123/241 [01:28<01:25,  1.39it/s, loss=0.302]\u001b[A\n",
      " 51%|█████▏    | 124/241 [01:28<01:23,  1.40it/s, loss=0.302]\u001b[A\n",
      " 51%|█████▏    | 124/241 [01:29<01:24,  1.39it/s, loss=0.303]\u001b[A\n",
      " 52%|█████▏    | 125/241 [01:29<01:22,  1.40it/s, loss=0.303]\u001b[A\n",
      " 52%|█████▏    | 125/241 [01:30<01:23,  1.39it/s, loss=0.302]\u001b[A\n",
      " 52%|█████▏    | 126/241 [01:30<01:22,  1.40it/s, loss=0.302]\u001b[A\n",
      " 52%|█████▏    | 126/241 [01:30<01:22,  1.39it/s, loss=0.302]\u001b[A\n",
      " 53%|█████▎    | 127/241 [01:30<01:21,  1.40it/s, loss=0.302]\u001b[A\n"
     ]
    },
    {
     "name": "stdout",
     "output_type": "stream",
     "text": [
      " 53%|█████▎    | 127/241 [01:31<01:22,  1.39it/s, loss=0.299]\u001b[A\n",
      " 53%|█████▎    | 128/241 [01:31<01:20,  1.40it/s, loss=0.299]\u001b[A\n",
      " 53%|█████▎    | 128/241 [01:32<01:21,  1.39it/s, loss=0.299]\u001b[A\n",
      " 54%|█████▎    | 129/241 [01:32<01:20,  1.40it/s, loss=0.299]\u001b[A\n",
      " 54%|█████▎    | 129/241 [01:32<01:20,  1.39it/s, loss=0.298]\u001b[A\n",
      " 54%|█████▍    | 130/241 [01:32<01:19,  1.40it/s, loss=0.298]\u001b[A\n",
      " 54%|█████▍    | 130/241 [01:33<01:19,  1.39it/s, loss=0.296]\u001b[A\n",
      " 54%|█████▍    | 131/241 [01:33<01:18,  1.40it/s, loss=0.296]\u001b[A\n",
      " 54%|█████▍    | 131/241 [01:34<01:19,  1.39it/s, loss=0.292]\u001b[A\n",
      " 55%|█████▍    | 132/241 [01:34<01:17,  1.40it/s, loss=0.292]\u001b[A\n",
      " 55%|█████▍    | 132/241 [01:35<01:18,  1.39it/s, loss=0.29] \u001b[A\n",
      " 55%|█████▌    | 133/241 [01:35<01:17,  1.40it/s, loss=0.29]\u001b[A\n",
      " 55%|█████▌    | 133/241 [01:35<01:17,  1.39it/s, loss=0.289]\u001b[A\n",
      " 56%|█████▌    | 134/241 [01:35<01:16,  1.40it/s, loss=0.289]\u001b[A\n",
      " 56%|█████▌    | 134/241 [01:36<01:17,  1.39it/s, loss=0.289]\u001b[A\n",
      " 56%|█████▌    | 135/241 [01:36<01:15,  1.40it/s, loss=0.289]\u001b[A\n",
      " 56%|█████▌    | 135/241 [01:37<01:16,  1.39it/s, loss=0.294]\u001b[A\n",
      " 56%|█████▋    | 136/241 [01:37<01:15,  1.40it/s, loss=0.294]\u001b[A\n",
      " 56%|█████▋    | 136/241 [01:37<01:15,  1.39it/s, loss=0.292]\u001b[A\n",
      " 57%|█████▋    | 137/241 [01:37<01:14,  1.40it/s, loss=0.292]\u001b[A\n",
      " 57%|█████▋    | 137/241 [01:38<01:14,  1.39it/s, loss=0.296]\u001b[A\n",
      " 57%|█████▋    | 138/241 [01:38<01:13,  1.40it/s, loss=0.296]\u001b[A\n",
      " 57%|█████▋    | 138/241 [01:39<01:14,  1.39it/s, loss=0.296]\u001b[A\n",
      " 58%|█████▊    | 139/241 [01:39<01:12,  1.40it/s, loss=0.296]\u001b[A\n",
      " 58%|█████▊    | 139/241 [01:40<01:13,  1.39it/s, loss=0.298]\u001b[A\n",
      " 58%|█████▊    | 140/241 [01:40<01:12,  1.40it/s, loss=0.298]\u001b[A\n",
      " 58%|█████▊    | 140/241 [01:40<01:12,  1.39it/s, loss=0.297]\u001b[A\n",
      " 59%|█████▊    | 141/241 [01:40<01:11,  1.40it/s, loss=0.297]\u001b[A\n",
      " 59%|█████▊    | 141/241 [01:41<01:11,  1.39it/s, loss=0.298]\u001b[A\n",
      " 59%|█████▉    | 142/241 [01:41<01:10,  1.40it/s, loss=0.298]\u001b[A\n",
      " 59%|█████▉    | 142/241 [01:42<01:11,  1.39it/s, loss=0.295]\u001b[A\n",
      " 59%|█████▉    | 143/241 [01:42<01:10,  1.40it/s, loss=0.295]\u001b[A\n",
      " 59%|█████▉    | 143/241 [01:42<01:10,  1.39it/s, loss=0.299]\u001b[A\n",
      " 60%|█████▉    | 144/241 [01:42<01:09,  1.40it/s, loss=0.299]\u001b[A\n",
      " 60%|█████▉    | 144/241 [01:43<01:09,  1.39it/s, loss=0.295]\u001b[A\n",
      " 60%|██████    | 145/241 [01:43<01:08,  1.40it/s, loss=0.295]\u001b[A\n",
      " 60%|██████    | 145/241 [01:44<01:09,  1.39it/s, loss=0.297]\u001b[A\n",
      " 61%|██████    | 146/241 [01:44<01:07,  1.40it/s, loss=0.297]\u001b[A\n",
      " 61%|██████    | 146/241 [01:45<01:08,  1.39it/s, loss=0.295]\u001b[A\n",
      " 61%|██████    | 147/241 [01:45<01:07,  1.40it/s, loss=0.295]\u001b[A\n",
      " 61%|██████    | 147/241 [01:45<01:07,  1.39it/s, loss=0.296]\u001b[A\n",
      " 61%|██████▏   | 148/241 [01:45<01:06,  1.40it/s, loss=0.296]\u001b[A\n",
      " 61%|██████▏   | 148/241 [01:46<01:06,  1.39it/s, loss=0.298]\u001b[A\n",
      " 62%|██████▏   | 149/241 [01:46<01:05,  1.40it/s, loss=0.298]\u001b[A\n",
      " 62%|██████▏   | 149/241 [01:47<01:06,  1.39it/s, loss=0.295]\u001b[A\n",
      " 62%|██████▏   | 150/241 [01:47<01:04,  1.40it/s, loss=0.295]\u001b[A\n",
      " 62%|██████▏   | 150/241 [01:47<01:05,  1.39it/s, loss=0.294]\u001b[A\n",
      " 63%|██████▎   | 151/241 [01:47<01:04,  1.40it/s, loss=0.294]\u001b[A\n",
      " 63%|██████▎   | 151/241 [01:48<01:04,  1.39it/s, loss=0.296]\u001b[A\n",
      " 63%|██████▎   | 152/241 [01:48<01:03,  1.40it/s, loss=0.296]\u001b[A\n",
      " 63%|██████▎   | 152/241 [01:49<01:03,  1.39it/s, loss=0.296]\u001b[A\n",
      " 63%|██████▎   | 153/241 [01:49<01:02,  1.40it/s, loss=0.296]\u001b[A\n",
      " 63%|██████▎   | 153/241 [01:49<01:03,  1.39it/s, loss=0.295]\u001b[A\n",
      " 64%|██████▍   | 154/241 [01:49<01:02,  1.40it/s, loss=0.295]\u001b[A\n",
      " 64%|██████▍   | 154/241 [01:50<01:02,  1.39it/s, loss=0.297]\u001b[A\n",
      " 64%|██████▍   | 155/241 [01:50<01:01,  1.40it/s, loss=0.297]\u001b[A\n",
      " 64%|██████▍   | 155/241 [01:51<01:01,  1.39it/s, loss=0.296]\u001b[A\n",
      " 65%|██████▍   | 156/241 [01:51<01:00,  1.40it/s, loss=0.296]\u001b[A\n",
      " 65%|██████▍   | 156/241 [01:52<01:01,  1.39it/s, loss=0.295]\u001b[A\n",
      " 65%|██████▌   | 157/241 [01:52<00:59,  1.40it/s, loss=0.295]\u001b[A\n",
      " 65%|██████▌   | 157/241 [01:52<01:00,  1.39it/s, loss=0.296]\u001b[A\n",
      " 66%|██████▌   | 158/241 [01:52<00:59,  1.40it/s, loss=0.296]\u001b[A\n",
      " 66%|██████▌   | 158/241 [01:53<00:59,  1.39it/s, loss=0.294]\u001b[A\n",
      " 66%|██████▌   | 159/241 [01:53<00:58,  1.40it/s, loss=0.294]\u001b[A\n",
      " 66%|██████▌   | 159/241 [01:54<00:58,  1.39it/s, loss=0.291]\u001b[A\n",
      " 66%|██████▋   | 160/241 [01:54<00:57,  1.40it/s, loss=0.291]\u001b[A\n",
      " 66%|██████▋   | 160/241 [01:54<00:58,  1.39it/s, loss=0.293]\u001b[A\n",
      " 67%|██████▋   | 161/241 [01:54<00:57,  1.40it/s, loss=0.293]\u001b[A\n",
      " 67%|██████▋   | 161/241 [01:55<00:57,  1.39it/s, loss=0.297]\u001b[A\n",
      " 67%|██████▋   | 162/241 [01:55<00:56,  1.40it/s, loss=0.297]\u001b[A\n",
      " 67%|██████▋   | 162/241 [01:56<00:56,  1.39it/s, loss=0.296]\u001b[A\n",
      " 68%|██████▊   | 163/241 [01:56<00:55,  1.40it/s, loss=0.296]\u001b[A\n",
      " 68%|██████▊   | 163/241 [01:57<00:56,  1.39it/s, loss=0.295]\u001b[A\n",
      " 68%|██████▊   | 164/241 [01:57<00:54,  1.40it/s, loss=0.295]\u001b[A\n",
      " 68%|██████▊   | 164/241 [01:57<00:55,  1.39it/s, loss=0.295]\u001b[A\n",
      " 68%|██████▊   | 165/241 [01:57<00:54,  1.40it/s, loss=0.295]\u001b[A\n",
      " 68%|██████▊   | 165/241 [01:58<00:54,  1.39it/s, loss=0.298]\u001b[A\n",
      " 69%|██████▉   | 166/241 [01:58<00:53,  1.40it/s, loss=0.298]\u001b[A\n",
      " 69%|██████▉   | 166/241 [01:59<00:53,  1.39it/s, loss=0.3]  \u001b[A\n",
      " 69%|██████▉   | 167/241 [01:59<00:52,  1.40it/s, loss=0.3]\u001b[A\n",
      " 69%|██████▉   | 167/241 [01:59<00:53,  1.39it/s, loss=0.297]\u001b[A\n",
      " 70%|██████▉   | 168/241 [01:59<00:52,  1.40it/s, loss=0.297]\u001b[A\n",
      " 70%|██████▉   | 168/241 [02:00<00:52,  1.39it/s, loss=0.296]\u001b[A\n",
      " 70%|███████   | 169/241 [02:00<00:51,  1.40it/s, loss=0.296]\u001b[A\n",
      " 70%|███████   | 169/241 [02:01<00:51,  1.39it/s, loss=0.294]\u001b[A\n",
      " 71%|███████   | 170/241 [02:01<00:50,  1.40it/s, loss=0.294]\u001b[A\n",
      " 71%|███████   | 170/241 [02:02<00:50,  1.39it/s, loss=0.294]\u001b[A\n",
      " 71%|███████   | 171/241 [02:02<00:49,  1.40it/s, loss=0.294]\u001b[A\n",
      " 71%|███████   | 171/241 [02:02<00:50,  1.39it/s, loss=0.296]\u001b[A\n",
      " 71%|███████▏  | 172/241 [02:02<00:49,  1.40it/s, loss=0.296]\u001b[A\n",
      " 71%|███████▏  | 172/241 [02:03<00:49,  1.39it/s, loss=0.297]\u001b[A\n",
      " 72%|███████▏  | 173/241 [02:03<00:48,  1.40it/s, loss=0.297]\u001b[A\n",
      " 72%|███████▏  | 173/241 [02:04<00:48,  1.39it/s, loss=0.3]  \u001b[A\n",
      " 72%|███████▏  | 174/241 [02:04<00:47,  1.40it/s, loss=0.3]\u001b[A\n",
      " 72%|███████▏  | 174/241 [02:04<00:48,  1.39it/s, loss=0.301]\u001b[A\n",
      " 73%|███████▎  | 175/241 [02:04<00:47,  1.40it/s, loss=0.301]\u001b[A\n",
      " 73%|███████▎  | 175/241 [02:05<00:47,  1.39it/s, loss=0.301]\u001b[A\n",
      " 73%|███████▎  | 176/241 [02:05<00:46,  1.40it/s, loss=0.301]\u001b[A\n",
      " 73%|███████▎  | 176/241 [02:06<00:46,  1.39it/s, loss=0.302]\u001b[A\n",
      " 73%|███████▎  | 177/241 [02:06<00:45,  1.40it/s, loss=0.302]\u001b[A\n",
      " 73%|███████▎  | 177/241 [02:07<00:45,  1.39it/s, loss=0.302]\u001b[A\n",
      " 74%|███████▍  | 178/241 [02:07<00:44,  1.40it/s, loss=0.302]\u001b[A\n",
      " 74%|███████▍  | 178/241 [02:07<00:45,  1.39it/s, loss=0.303]\u001b[A\n",
      " 74%|███████▍  | 179/241 [02:07<00:44,  1.40it/s, loss=0.303]\u001b[A\n",
      " 74%|███████▍  | 179/241 [02:08<00:44,  1.39it/s, loss=0.302]\u001b[A\n",
      " 75%|███████▍  | 180/241 [02:08<00:43,  1.40it/s, loss=0.302]\u001b[A\n",
      " 75%|███████▍  | 180/241 [02:09<00:43,  1.39it/s, loss=0.302]\u001b[A\n",
      " 75%|███████▌  | 181/241 [02:09<00:42,  1.40it/s, loss=0.302]\u001b[A\n",
      " 75%|███████▌  | 181/241 [02:09<00:43,  1.39it/s, loss=0.298]\u001b[A\n",
      " 76%|███████▌  | 182/241 [02:09<00:42,  1.40it/s, loss=0.298]\u001b[A\n",
      " 76%|███████▌  | 182/241 [02:10<00:42,  1.39it/s, loss=0.296]\u001b[A\n",
      " 76%|███████▌  | 183/241 [02:10<00:41,  1.40it/s, loss=0.296]\u001b[A\n",
      " 76%|███████▌  | 183/241 [02:11<00:41,  1.39it/s, loss=0.295]\u001b[A\n",
      " 76%|███████▋  | 184/241 [02:11<00:40,  1.40it/s, loss=0.295]\u001b[A\n",
      " 76%|███████▋  | 184/241 [02:12<00:40,  1.39it/s, loss=0.291]\u001b[A\n",
      " 77%|███████▋  | 185/241 [02:12<00:39,  1.40it/s, loss=0.291]\u001b[A\n",
      " 77%|███████▋  | 185/241 [02:12<00:40,  1.39it/s, loss=0.29] \u001b[A\n",
      " 77%|███████▋  | 186/241 [02:12<00:39,  1.40it/s, loss=0.29]\u001b[A\n",
      " 77%|███████▋  | 186/241 [02:13<00:39,  1.39it/s, loss=0.287]\u001b[A\n",
      " 78%|███████▊  | 187/241 [02:13<00:38,  1.40it/s, loss=0.287]\u001b[A\n",
      " 78%|███████▊  | 187/241 [02:14<00:38,  1.39it/s, loss=0.286]\u001b[A\n",
      " 78%|███████▊  | 188/241 [02:14<00:37,  1.40it/s, loss=0.286]\u001b[A\n",
      " 78%|███████▊  | 188/241 [02:14<00:38,  1.39it/s, loss=0.288]\u001b[A\n",
      " 78%|███████▊  | 189/241 [02:14<00:37,  1.40it/s, loss=0.288]\u001b[A\n",
      " 78%|███████▊  | 189/241 [02:15<00:37,  1.39it/s, loss=0.287]\u001b[A\n",
      " 79%|███████▉  | 190/241 [02:15<00:36,  1.40it/s, loss=0.287]\u001b[A\n",
      " 79%|███████▉  | 190/241 [02:16<00:36,  1.39it/s, loss=0.287]\u001b[A\n",
      " 79%|███████▉  | 191/241 [02:16<00:35,  1.40it/s, loss=0.287]\u001b[A\n",
      " 79%|███████▉  | 191/241 [02:17<00:35,  1.39it/s, loss=0.286]\u001b[A\n",
      " 80%|███████▉  | 192/241 [02:17<00:34,  1.40it/s, loss=0.286]\u001b[A\n",
      " 80%|███████▉  | 192/241 [02:17<00:35,  1.39it/s, loss=0.286]\u001b[A\n",
      " 80%|████████  | 193/241 [02:17<00:34,  1.40it/s, loss=0.286]\u001b[A\n",
      " 80%|████████  | 193/241 [02:18<00:34,  1.39it/s, loss=0.282]\u001b[A\n",
      " 80%|████████  | 194/241 [02:18<00:33,  1.40it/s, loss=0.282]\u001b[A\n",
      " 80%|████████  | 194/241 [02:19<00:33,  1.39it/s, loss=0.283]\u001b[A\n",
      " 81%|████████  | 195/241 [02:19<00:32,  1.40it/s, loss=0.283]\u001b[A\n",
      " 81%|████████  | 195/241 [02:19<00:33,  1.39it/s, loss=0.279]\u001b[A\n",
      " 81%|████████▏ | 196/241 [02:19<00:32,  1.40it/s, loss=0.279]\u001b[A\n",
      " 81%|████████▏ | 196/241 [02:20<00:32,  1.39it/s, loss=0.279]\u001b[A\n",
      " 82%|████████▏ | 197/241 [02:20<00:31,  1.40it/s, loss=0.279]\u001b[A\n",
      " 82%|████████▏ | 197/241 [02:21<00:31,  1.39it/s, loss=0.278]\u001b[A\n",
      " 82%|████████▏ | 198/241 [02:21<00:30,  1.40it/s, loss=0.278]\u001b[A\n",
      " 82%|████████▏ | 198/241 [02:22<00:30,  1.39it/s, loss=0.276]\u001b[A\n",
      " 83%|████████▎ | 199/241 [02:22<00:29,  1.40it/s, loss=0.276]\u001b[A\n",
      " 83%|████████▎ | 199/241 [02:22<00:30,  1.39it/s, loss=0.276]\u001b[A\n",
      " 83%|████████▎ | 200/241 [02:22<00:29,  1.40it/s, loss=0.276]\u001b[A\n",
      " 83%|████████▎ | 200/241 [02:23<00:29,  1.39it/s, loss=0.277]\u001b[A\n",
      " 83%|████████▎ | 201/241 [02:23<00:28,  1.40it/s, loss=0.277]\u001b[A\n",
      " 83%|████████▎ | 201/241 [02:24<00:28,  1.39it/s, loss=0.28] \u001b[A\n",
      " 84%|████████▍ | 202/241 [02:24<00:27,  1.40it/s, loss=0.28]\u001b[A\n",
      " 84%|████████▍ | 202/241 [02:24<00:27,  1.39it/s, loss=0.283]\u001b[A\n",
      " 84%|████████▍ | 203/241 [02:24<00:27,  1.40it/s, loss=0.283]\u001b[A\n",
      " 84%|████████▍ | 203/241 [02:25<00:27,  1.39it/s, loss=0.281]\u001b[A\n",
      " 85%|████████▍ | 204/241 [02:25<00:26,  1.40it/s, loss=0.281]\u001b[A\n",
      " 85%|████████▍ | 204/241 [02:26<00:26,  1.39it/s, loss=0.285]\u001b[A\n",
      " 85%|████████▌ | 205/241 [02:26<00:25,  1.40it/s, loss=0.285]\u001b[A\n",
      " 85%|████████▌ | 205/241 [02:27<00:25,  1.39it/s, loss=0.283]\u001b[A\n",
      " 85%|████████▌ | 206/241 [02:27<00:24,  1.40it/s, loss=0.283]\u001b[A\n",
      " 85%|████████▌ | 206/241 [02:27<00:25,  1.39it/s, loss=0.285]\u001b[A\n",
      " 86%|████████▌ | 207/241 [02:27<00:24,  1.40it/s, loss=0.285]\u001b[A\n",
      " 86%|████████▌ | 207/241 [02:28<00:24,  1.39it/s, loss=0.286]\u001b[A\n",
      " 86%|████████▋ | 208/241 [02:28<00:23,  1.40it/s, loss=0.286]\u001b[A\n",
      " 86%|████████▋ | 208/241 [02:29<00:23,  1.39it/s, loss=0.289]\u001b[A\n",
      " 87%|████████▋ | 209/241 [02:29<00:22,  1.40it/s, loss=0.289]\u001b[A\n",
      " 87%|████████▋ | 209/241 [02:29<00:22,  1.39it/s, loss=0.289]\u001b[A\n",
      " 87%|████████▋ | 210/241 [02:29<00:22,  1.40it/s, loss=0.289]\u001b[A\n",
      " 87%|████████▋ | 210/241 [02:30<00:22,  1.39it/s, loss=0.287]\u001b[A\n",
      " 88%|████████▊ | 211/241 [02:30<00:21,  1.40it/s, loss=0.287]\u001b[A\n",
      " 88%|████████▊ | 211/241 [02:31<00:21,  1.39it/s, loss=0.285]\u001b[A\n",
      " 88%|████████▊ | 212/241 [02:31<00:20,  1.40it/s, loss=0.285]\u001b[A\n",
      " 88%|████████▊ | 212/241 [02:32<00:20,  1.39it/s, loss=0.287]\u001b[A\n",
      " 88%|████████▊ | 213/241 [02:32<00:19,  1.40it/s, loss=0.287]\u001b[A\n",
      " 88%|████████▊ | 213/241 [02:32<00:20,  1.39it/s, loss=0.284]\u001b[A\n",
      " 89%|████████▉ | 214/241 [02:32<00:19,  1.40it/s, loss=0.284]\u001b[A\n",
      " 89%|████████▉ | 214/241 [02:33<00:19,  1.39it/s, loss=0.282]\u001b[A\n",
      " 89%|████████▉ | 215/241 [02:33<00:18,  1.40it/s, loss=0.282]\u001b[A\n",
      " 89%|████████▉ | 215/241 [02:34<00:18,  1.39it/s, loss=0.284]\u001b[A\n",
      " 90%|████████▉ | 216/241 [02:34<00:17,  1.40it/s, loss=0.284]\u001b[A\n",
      " 90%|████████▉ | 216/241 [02:34<00:17,  1.39it/s, loss=0.282]\u001b[A\n",
      " 90%|█████████ | 217/241 [02:34<00:17,  1.40it/s, loss=0.282]\u001b[A\n",
      " 90%|█████████ | 217/241 [02:35<00:17,  1.39it/s, loss=0.282]\u001b[A\n",
      " 90%|█████████ | 218/241 [02:35<00:16,  1.40it/s, loss=0.282]\u001b[A\n",
      " 90%|█████████ | 218/241 [02:36<00:16,  1.39it/s, loss=0.279]\u001b[A\n",
      " 91%|█████████ | 219/241 [02:36<00:15,  1.40it/s, loss=0.279]\u001b[A\n",
      " 91%|█████████ | 219/241 [02:37<00:15,  1.39it/s, loss=0.279]\u001b[A\n",
      " 91%|█████████▏| 220/241 [02:37<00:14,  1.40it/s, loss=0.279]\u001b[A\n",
      " 91%|█████████▏| 220/241 [02:37<00:15,  1.39it/s, loss=0.28] \u001b[A\n",
      " 92%|█████████▏| 221/241 [02:37<00:14,  1.40it/s, loss=0.28]\u001b[A\n",
      " 92%|█████████▏| 221/241 [02:38<00:14,  1.40it/s, loss=0.279]\u001b[A\n",
      " 92%|█████████▏| 222/241 [02:38<00:13,  1.40it/s, loss=0.279]\u001b[A\n",
      " 92%|█████████▏| 222/241 [02:39<00:13,  1.40it/s, loss=0.28] \u001b[A\n",
      " 93%|█████████▎| 223/241 [02:39<00:12,  1.40it/s, loss=0.28]\u001b[A\n",
      " 93%|█████████▎| 223/241 [02:39<00:12,  1.40it/s, loss=0.28]\u001b[A\n",
      " 93%|█████████▎| 224/241 [02:39<00:12,  1.40it/s, loss=0.28]\u001b[A\n",
      " 93%|█████████▎| 224/241 [02:40<00:12,  1.40it/s, loss=0.279]\u001b[A\n",
      " 93%|█████████▎| 225/241 [02:40<00:11,  1.40it/s, loss=0.279]\u001b[A\n",
      " 93%|█████████▎| 225/241 [02:41<00:11,  1.40it/s, loss=0.28] \u001b[A\n",
      " 94%|█████████▍| 226/241 [02:41<00:10,  1.40it/s, loss=0.28]\u001b[A\n",
      " 94%|█████████▍| 226/241 [02:41<00:10,  1.40it/s, loss=0.281]\u001b[A\n",
      " 94%|█████████▍| 227/241 [02:41<00:09,  1.40it/s, loss=0.281]\u001b[A\n",
      " 94%|█████████▍| 227/241 [02:42<00:10,  1.40it/s, loss=0.279]\u001b[A\n",
      " 95%|█████████▍| 228/241 [02:42<00:09,  1.40it/s, loss=0.279]\u001b[A\n",
      " 95%|█████████▍| 228/241 [02:43<00:09,  1.40it/s, loss=0.277]\u001b[A\n",
      " 95%|█████████▌| 229/241 [02:43<00:08,  1.40it/s, loss=0.277]\u001b[A\n",
      " 95%|█████████▌| 229/241 [02:43<00:08,  1.40it/s, loss=0.279]\u001b[A\n",
      " 95%|█████████▌| 230/241 [02:43<00:07,  1.40it/s, loss=0.279]\u001b[A\n",
      " 95%|█████████▌| 230/241 [02:44<00:07,  1.40it/s, loss=0.277]\u001b[A\n",
      " 96%|█████████▌| 231/241 [02:44<00:07,  1.40it/s, loss=0.277]\u001b[A\n",
      " 96%|█████████▌| 231/241 [02:45<00:07,  1.40it/s, loss=0.277]\u001b[A\n",
      " 96%|█████████▋| 232/241 [02:45<00:06,  1.40it/s, loss=0.277]\u001b[A\n",
      " 96%|█████████▋| 232/241 [02:46<00:06,  1.40it/s, loss=0.276]\u001b[A\n",
      " 97%|█████████▋| 233/241 [02:46<00:05,  1.40it/s, loss=0.276]\u001b[A\n",
      " 97%|█████████▋| 233/241 [02:46<00:05,  1.40it/s, loss=0.273]\u001b[A\n",
      " 97%|█████████▋| 234/241 [02:46<00:04,  1.40it/s, loss=0.273]\u001b[A\n",
      " 97%|█████████▋| 234/241 [02:47<00:05,  1.40it/s, loss=0.273]\u001b[A\n",
      " 98%|█████████▊| 235/241 [02:47<00:04,  1.40it/s, loss=0.273]\u001b[A\n",
      " 98%|█████████▊| 235/241 [02:48<00:04,  1.40it/s, loss=0.274]\u001b[A\n",
      " 98%|█████████▊| 236/241 [02:48<00:03,  1.40it/s, loss=0.274]\u001b[A\n",
      " 98%|█████████▊| 236/241 [02:48<00:03,  1.40it/s, loss=0.272]\u001b[A\n",
      " 98%|█████████▊| 237/241 [02:48<00:02,  1.40it/s, loss=0.272]\u001b[A\n",
      " 98%|█████████▊| 237/241 [02:49<00:02,  1.40it/s, loss=0.27] \u001b[A\n",
      " 99%|█████████▉| 238/241 [02:49<00:02,  1.40it/s, loss=0.27]\u001b[A\n",
      " 99%|█████████▉| 238/241 [02:50<00:02,  1.40it/s, loss=0.272]\u001b[A\n",
      " 99%|█████████▉| 239/241 [02:50<00:01,  1.40it/s, loss=0.272]\u001b[A\n",
      " 99%|█████████▉| 239/241 [02:50<00:01,  1.40it/s, loss=0.274]\u001b[A\n",
      "100%|█████████▉| 240/241 [02:50<00:00,  1.40it/s, loss=0.274]\u001b[A\n",
      "100%|█████████▉| 240/241 [02:51<00:00,  1.40it/s, loss=0.276]\u001b[A\n",
      "100%|██████████| 241/241 [02:51<00:00,  1.41it/s, loss=0.276]\u001b[A\n",
      "                                                             \u001b[A[ 0.       0.27627  0.70447  0.78771]\n",
      "\n",
      "CPU times: user 3min 35s, sys: 1min 13s, total: 4min 49s\n",
      "Wall time: 3min 45s\n"
     ]
    }
   ],
   "source": [
    "size = 200\n",
    "data = get_data(size, bs = 24)\n",
    "learner.set_data(data)\n",
    "%time learner.fit(lrs=λr, n_cycle=1, cycle_len=1, cycle_mult=1)"
   ]
  },
  {
   "cell_type": "code",
   "execution_count": 38,
   "metadata": {
    "hidden": true
   },
   "outputs": [
    {
     "data": {
      "application/vnd.jupyter.widget-view+json": {
       "model_id": "7d26861d245e4274a3848127e7fefc56",
       "version_major": 2,
       "version_minor": 0
      },
      "text/html": [
       "<p>Failed to display Jupyter Widget of type <code>HBox</code>.</p>\n",
       "<p>\n",
       "  If you're reading this message in the Jupyter Notebook or JupyterLab Notebook, it may mean\n",
       "  that the widgets JavaScript is still loading. If this message persists, it\n",
       "  likely means that the widgets JavaScript library is either not installed or\n",
       "  not enabled. See the <a href=\"https://ipywidgets.readthedocs.io/en/stable/user_install.html\">Jupyter\n",
       "  Widgets Documentation</a> for setup instructions.\n",
       "</p>\n",
       "<p>\n",
       "  If you're reading this message in another frontend (for example, a static\n",
       "  rendering on GitHub or <a href=\"https://nbviewer.jupyter.org/\">NBViewer</a>),\n",
       "  it may mean that your frontend doesn't currently support widgets.\n",
       "</p>\n"
      ],
      "text/plain": [
       "HBox(children=(IntProgress(value=0, description='Epoch', max=1), HTML(value='')))"
      ]
     },
     "metadata": {},
     "output_type": "display_data"
    },
    {
     "name": "stdout",
     "output_type": "stream",
     "text": [
      "\n",
      "  0%|          | 0/289 [00:00<?, ?it/s]\u001b[A\n",
      "  0%|          | 0/289 [00:00<?, ?it/s, loss=0.298]\u001b[A\n",
      "  0%|          | 1/289 [00:00<04:05,  1.17it/s, loss=0.298]\u001b[A\n",
      "  0%|          | 1/289 [00:01<07:08,  1.49s/it, loss=0.316]\u001b[A\n",
      "  1%|          | 2/289 [00:01<03:34,  1.34it/s, loss=0.316]\u001b[A\n",
      "  1%|          | 2/289 [00:02<05:04,  1.06s/it, loss=0.28] \u001b[A\n",
      "  1%|          | 3/289 [00:02<03:23,  1.41it/s, loss=0.28]\u001b[A\n",
      "  1%|          | 3/289 [00:02<04:23,  1.08it/s, loss=0.324]\u001b[A\n",
      "  1%|▏         | 4/289 [00:02<03:17,  1.44it/s, loss=0.324]\u001b[A\n",
      "  1%|▏         | 4/289 [00:03<04:02,  1.17it/s, loss=0.324]\u001b[A\n",
      "  2%|▏         | 5/289 [00:03<03:13,  1.46it/s, loss=0.324]\u001b[A\n",
      "  2%|▏         | 5/289 [00:04<03:50,  1.23it/s, loss=0.337]\u001b[A\n",
      "  2%|▏         | 6/289 [00:04<03:11,  1.48it/s, loss=0.337]\u001b[A\n",
      "  2%|▏         | 6/289 [00:04<03:41,  1.28it/s, loss=0.308]\u001b[A\n",
      "  2%|▏         | 7/289 [00:04<03:09,  1.49it/s, loss=0.308]\u001b[A\n",
      "  2%|▏         | 7/289 [00:05<03:34,  1.31it/s, loss=0.316]\u001b[A\n",
      "  3%|▎         | 8/289 [00:05<03:07,  1.50it/s, loss=0.316]\u001b[A\n",
      "  3%|▎         | 8/289 [00:05<03:29,  1.34it/s, loss=0.309]\u001b[A\n",
      "  3%|▎         | 9/289 [00:05<03:05,  1.51it/s, loss=0.309]\u001b[A\n",
      "  3%|▎         | 9/289 [00:06<03:25,  1.36it/s, loss=0.304]\u001b[A\n",
      "  3%|▎         | 10/289 [00:06<03:04,  1.52it/s, loss=0.304]\u001b[A\n",
      "  3%|▎         | 10/289 [00:07<03:21,  1.38it/s, loss=0.305]\u001b[A\n",
      "  4%|▍         | 11/289 [00:07<03:02,  1.52it/s, loss=0.305]\u001b[A\n",
      "  4%|▍         | 11/289 [00:07<03:18,  1.40it/s, loss=0.309]\u001b[A\n",
      "  4%|▍         | 12/289 [00:07<03:01,  1.52it/s, loss=0.309]\u001b[A\n",
      "  4%|▍         | 12/289 [00:08<03:16,  1.41it/s, loss=0.32] \u001b[A\n",
      "  4%|▍         | 13/289 [00:08<03:00,  1.53it/s, loss=0.32]\u001b[A\n",
      "  4%|▍         | 13/289 [00:09<03:14,  1.42it/s, loss=0.329]\u001b[A\n",
      "  5%|▍         | 14/289 [00:09<02:59,  1.53it/s, loss=0.329]\u001b[A\n",
      "  5%|▍         | 14/289 [00:09<03:12,  1.43it/s, loss=0.348]\u001b[A\n",
      "  5%|▌         | 15/289 [00:09<02:58,  1.53it/s, loss=0.348]\u001b[A\n",
      "  5%|▌         | 15/289 [00:10<03:10,  1.44it/s, loss=0.342]\u001b[A\n",
      "  6%|▌         | 16/289 [00:10<02:57,  1.54it/s, loss=0.342]\u001b[A\n",
      "  6%|▌         | 16/289 [00:11<03:08,  1.45it/s, loss=0.327]\u001b[A\n",
      "  6%|▌         | 17/289 [00:11<02:56,  1.54it/s, loss=0.327]\u001b[A\n",
      "  6%|▌         | 17/289 [00:11<03:06,  1.46it/s, loss=0.317]\u001b[A\n",
      "  6%|▌         | 18/289 [00:11<02:55,  1.54it/s, loss=0.317]\u001b[A\n",
      "  6%|▌         | 18/289 [00:12<03:05,  1.46it/s, loss=0.317]\u001b[A\n",
      "  7%|▋         | 19/289 [00:12<02:55,  1.54it/s, loss=0.317]\u001b[A\n",
      "  7%|▋         | 19/289 [00:12<03:04,  1.47it/s, loss=0.334]\u001b[A\n",
      "  7%|▋         | 20/289 [00:12<02:54,  1.54it/s, loss=0.334]\u001b[A\n",
      "  7%|▋         | 20/289 [00:13<03:02,  1.47it/s, loss=0.337]\u001b[A\n",
      "  7%|▋         | 21/289 [00:13<02:53,  1.55it/s, loss=0.337]\u001b[A\n",
      "  7%|▋         | 21/289 [00:14<03:01,  1.48it/s, loss=0.333]\u001b[A\n",
      "  8%|▊         | 22/289 [00:14<02:52,  1.55it/s, loss=0.333]\u001b[A\n",
      "  8%|▊         | 22/289 [00:14<03:00,  1.48it/s, loss=0.337]\u001b[A\n",
      "  8%|▊         | 23/289 [00:14<02:51,  1.55it/s, loss=0.337]\u001b[A\n",
      "  8%|▊         | 23/289 [00:15<02:59,  1.48it/s, loss=0.339]\u001b[A\n",
      "  8%|▊         | 24/289 [00:15<02:51,  1.55it/s, loss=0.339]\u001b[A\n",
      "  8%|▊         | 24/289 [00:16<02:58,  1.49it/s, loss=0.344]\u001b[A\n",
      "  9%|▊         | 25/289 [00:16<02:50,  1.55it/s, loss=0.344]\u001b[A\n",
      "  9%|▊         | 25/289 [00:16<02:56,  1.49it/s, loss=0.337]\u001b[A\n",
      "  9%|▉         | 26/289 [00:16<02:49,  1.55it/s, loss=0.337]\u001b[A\n",
      "  9%|▉         | 26/289 [00:17<02:55,  1.49it/s, loss=0.338]\u001b[A\n",
      "  9%|▉         | 27/289 [00:17<02:48,  1.55it/s, loss=0.338]\u001b[A\n",
      "  9%|▉         | 27/289 [00:18<02:54,  1.50it/s, loss=0.331]\u001b[A\n",
      " 10%|▉         | 28/289 [00:18<02:48,  1.55it/s, loss=0.331]\u001b[A\n",
      " 10%|▉         | 28/289 [00:18<02:54,  1.50it/s, loss=0.331]\u001b[A\n",
      " 10%|█         | 29/289 [00:18<02:47,  1.55it/s, loss=0.331]\u001b[A\n",
      " 10%|█         | 29/289 [00:19<02:53,  1.50it/s, loss=0.334]\u001b[A\n",
      " 10%|█         | 30/289 [00:19<02:46,  1.55it/s, loss=0.334]\u001b[A\n",
      " 10%|█         | 30/289 [00:19<02:52,  1.50it/s, loss=0.333]\u001b[A\n",
      " 11%|█         | 31/289 [00:19<02:46,  1.55it/s, loss=0.333]\u001b[A\n",
      " 11%|█         | 31/289 [00:20<02:51,  1.51it/s, loss=0.335]\u001b[A\n",
      " 11%|█         | 32/289 [00:20<02:45,  1.55it/s, loss=0.335]\u001b[A\n",
      " 11%|█         | 32/289 [00:21<02:50,  1.51it/s, loss=0.33] \u001b[A\n",
      " 11%|█▏        | 33/289 [00:21<02:44,  1.55it/s, loss=0.33]\u001b[A\n",
      " 11%|█▏        | 33/289 [00:21<02:49,  1.51it/s, loss=0.328]\u001b[A\n",
      " 12%|█▏        | 34/289 [00:21<02:43,  1.56it/s, loss=0.328]\u001b[A\n",
      " 12%|█▏        | 34/289 [00:22<02:48,  1.51it/s, loss=0.324]\u001b[A\n",
      " 12%|█▏        | 35/289 [00:22<02:43,  1.56it/s, loss=0.324]\u001b[A\n",
      " 12%|█▏        | 35/289 [00:23<02:47,  1.51it/s, loss=0.325]\u001b[A\n",
      " 12%|█▏        | 36/289 [00:23<02:42,  1.56it/s, loss=0.325]\u001b[A\n",
      " 12%|█▏        | 36/289 [00:23<02:47,  1.51it/s, loss=0.318]\u001b[A\n",
      " 13%|█▎        | 37/289 [00:23<02:41,  1.56it/s, loss=0.318]\u001b[A\n",
      " 13%|█▎        | 37/289 [00:24<02:46,  1.52it/s, loss=0.319]\u001b[A\n",
      " 13%|█▎        | 38/289 [00:24<02:41,  1.56it/s, loss=0.319]\u001b[A\n",
      " 13%|█▎        | 38/289 [00:25<02:45,  1.52it/s, loss=0.328]\u001b[A\n",
      " 13%|█▎        | 39/289 [00:25<02:40,  1.56it/s, loss=0.328]\u001b[A\n",
      " 13%|█▎        | 39/289 [00:25<02:44,  1.52it/s, loss=0.333]\u001b[A\n",
      " 14%|█▍        | 40/289 [00:25<02:39,  1.56it/s, loss=0.333]\u001b[A\n",
      " 14%|█▍        | 40/289 [00:26<02:43,  1.52it/s, loss=0.329]\u001b[A\n",
      " 14%|█▍        | 41/289 [00:26<02:39,  1.56it/s, loss=0.329]\u001b[A\n",
      " 14%|█▍        | 41/289 [00:26<02:42,  1.52it/s, loss=0.325]\u001b[A\n",
      " 15%|█▍        | 42/289 [00:26<02:38,  1.56it/s, loss=0.325]\u001b[A\n",
      " 15%|█▍        | 42/289 [00:27<02:42,  1.52it/s, loss=0.321]\u001b[A\n",
      " 15%|█▍        | 43/289 [00:27<02:37,  1.56it/s, loss=0.321]\u001b[A\n",
      " 15%|█▍        | 43/289 [00:28<02:41,  1.52it/s, loss=0.317]\u001b[A\n",
      " 15%|█▌        | 44/289 [00:28<02:37,  1.56it/s, loss=0.317]\u001b[A\n",
      " 15%|█▌        | 44/289 [00:28<02:40,  1.52it/s, loss=0.317]\u001b[A\n",
      " 16%|█▌        | 45/289 [00:28<02:36,  1.56it/s, loss=0.317]\u001b[A\n",
      " 16%|█▌        | 45/289 [00:29<02:39,  1.53it/s, loss=0.315]\u001b[A\n",
      " 16%|█▌        | 46/289 [00:29<02:35,  1.56it/s, loss=0.315]\u001b[A\n",
      " 16%|█▌        | 46/289 [00:30<02:39,  1.53it/s, loss=0.311]\u001b[A\n",
      " 16%|█▋        | 47/289 [00:30<02:35,  1.56it/s, loss=0.311]\u001b[A\n",
      " 16%|█▋        | 47/289 [00:30<02:38,  1.53it/s, loss=0.305]\u001b[A\n",
      " 17%|█▋        | 48/289 [00:30<02:34,  1.56it/s, loss=0.305]\u001b[A\n",
      " 17%|█▋        | 48/289 [00:31<02:37,  1.53it/s, loss=0.302]\u001b[A\n",
      " 17%|█▋        | 49/289 [00:31<02:33,  1.56it/s, loss=0.302]\u001b[A\n",
      " 17%|█▋        | 49/289 [00:32<02:36,  1.53it/s, loss=0.3]  \u001b[A\n",
      " 17%|█▋        | 50/289 [00:32<02:33,  1.56it/s, loss=0.3]\u001b[A\n",
      " 17%|█▋        | 50/289 [00:32<02:36,  1.53it/s, loss=0.296]\u001b[A\n",
      " 18%|█▊        | 51/289 [00:32<02:32,  1.56it/s, loss=0.296]\u001b[A\n",
      " 18%|█▊        | 51/289 [00:33<02:35,  1.53it/s, loss=0.299]\u001b[A\n",
      " 18%|█▊        | 52/289 [00:33<02:31,  1.56it/s, loss=0.299]\u001b[A\n",
      " 18%|█▊        | 52/289 [00:33<02:34,  1.53it/s, loss=0.299]\u001b[A\n",
      " 18%|█▊        | 53/289 [00:33<02:31,  1.56it/s, loss=0.299]\u001b[A\n",
      " 18%|█▊        | 53/289 [00:34<02:33,  1.53it/s, loss=0.296]\u001b[A\n",
      " 19%|█▊        | 54/289 [00:34<02:30,  1.56it/s, loss=0.296]\u001b[A\n",
      " 19%|█▊        | 54/289 [00:35<02:33,  1.53it/s, loss=0.297]\u001b[A\n",
      " 19%|█▉        | 55/289 [00:35<02:29,  1.56it/s, loss=0.297]\u001b[A\n",
      " 19%|█▉        | 55/289 [00:35<02:32,  1.53it/s, loss=0.295]\u001b[A\n",
      " 19%|█▉        | 56/289 [00:35<02:29,  1.56it/s, loss=0.295]\u001b[A\n",
      " 19%|█▉        | 56/289 [00:36<02:31,  1.53it/s, loss=0.293]\u001b[A\n",
      " 20%|█▉        | 57/289 [00:36<02:28,  1.56it/s, loss=0.293]\u001b[A\n",
      " 20%|█▉        | 57/289 [00:37<02:31,  1.54it/s, loss=0.293]\u001b[A\n",
      " 20%|██        | 58/289 [00:37<02:27,  1.56it/s, loss=0.293]\u001b[A\n",
      " 20%|██        | 58/289 [00:37<02:30,  1.54it/s, loss=0.29] \u001b[A\n",
      " 20%|██        | 59/289 [00:37<02:27,  1.56it/s, loss=0.29]\u001b[A\n",
      " 20%|██        | 59/289 [00:38<02:29,  1.54it/s, loss=0.294]\u001b[A\n",
      " 21%|██        | 60/289 [00:38<02:26,  1.56it/s, loss=0.294]\u001b[A\n",
      " 21%|██        | 60/289 [00:39<02:29,  1.54it/s, loss=0.298]\u001b[A\n",
      " 21%|██        | 61/289 [00:39<02:25,  1.56it/s, loss=0.298]\u001b[A\n",
      " 21%|██        | 61/289 [00:39<02:28,  1.54it/s, loss=0.302]\u001b[A\n",
      " 21%|██▏       | 62/289 [00:39<02:25,  1.56it/s, loss=0.302]\u001b[A\n",
      " 21%|██▏       | 62/289 [00:40<02:27,  1.54it/s, loss=0.301]\u001b[A\n",
      " 22%|██▏       | 63/289 [00:40<02:24,  1.56it/s, loss=0.301]\u001b[A\n",
      " 22%|██▏       | 63/289 [00:40<02:26,  1.54it/s, loss=0.304]\u001b[A\n",
      " 22%|██▏       | 64/289 [00:40<02:23,  1.56it/s, loss=0.304]\u001b[A\n",
      " 22%|██▏       | 64/289 [00:41<02:26,  1.54it/s, loss=0.304]\u001b[A\n",
      " 22%|██▏       | 65/289 [00:41<02:23,  1.56it/s, loss=0.304]\u001b[A\n",
      " 22%|██▏       | 65/289 [00:42<02:25,  1.54it/s, loss=0.314]\u001b[A\n",
      " 23%|██▎       | 66/289 [00:42<02:22,  1.56it/s, loss=0.314]\u001b[A\n",
      " 23%|██▎       | 66/289 [00:42<02:24,  1.54it/s, loss=0.317]\u001b[A\n",
      " 23%|██▎       | 67/289 [00:42<02:22,  1.56it/s, loss=0.317]\u001b[A\n",
      " 23%|██▎       | 67/289 [00:43<02:24,  1.54it/s, loss=0.326]\u001b[A\n",
      " 24%|██▎       | 68/289 [00:43<02:21,  1.56it/s, loss=0.326]\u001b[A\n",
      " 24%|██▎       | 68/289 [00:44<02:23,  1.54it/s, loss=0.327]\u001b[A\n",
      " 24%|██▍       | 69/289 [00:44<02:20,  1.56it/s, loss=0.327]\u001b[A\n",
      " 24%|██▍       | 69/289 [00:44<02:22,  1.54it/s, loss=0.325]\u001b[A\n",
      " 24%|██▍       | 70/289 [00:44<02:20,  1.56it/s, loss=0.325]\u001b[A\n",
      " 24%|██▍       | 70/289 [00:45<02:22,  1.54it/s, loss=0.322]\u001b[A\n",
      " 25%|██▍       | 71/289 [00:45<02:19,  1.56it/s, loss=0.322]\u001b[A\n",
      " 25%|██▍       | 71/289 [00:46<02:21,  1.54it/s, loss=0.321]\u001b[A\n",
      " 25%|██▍       | 72/289 [00:46<02:18,  1.56it/s, loss=0.321]\u001b[A\n",
      " 25%|██▍       | 72/289 [00:46<02:20,  1.54it/s, loss=0.32] \u001b[A\n",
      " 25%|██▌       | 73/289 [00:46<02:18,  1.56it/s, loss=0.32]\u001b[A\n",
      " 25%|██▌       | 73/289 [00:47<02:20,  1.54it/s, loss=0.317]\u001b[A\n",
      " 26%|██▌       | 74/289 [00:47<02:17,  1.56it/s, loss=0.317]\u001b[A\n",
      " 26%|██▌       | 74/289 [00:47<02:19,  1.54it/s, loss=0.321]\u001b[A\n",
      " 26%|██▌       | 75/289 [00:47<02:16,  1.56it/s, loss=0.321]\u001b[A\n",
      " 26%|██▌       | 75/289 [00:48<02:18,  1.54it/s, loss=0.321]\u001b[A\n",
      " 26%|██▋       | 76/289 [00:48<02:16,  1.56it/s, loss=0.321]\u001b[A\n",
      " 26%|██▋       | 76/289 [00:49<02:18,  1.54it/s, loss=0.322]\u001b[A\n",
      " 27%|██▋       | 77/289 [00:49<02:15,  1.56it/s, loss=0.322]\u001b[A\n",
      " 27%|██▋       | 77/289 [00:49<02:17,  1.54it/s, loss=0.319]\u001b[A\n",
      " 27%|██▋       | 78/289 [00:49<02:14,  1.56it/s, loss=0.319]\u001b[A\n",
      " 27%|██▋       | 78/289 [00:50<02:16,  1.54it/s, loss=0.315]\u001b[A\n",
      " 27%|██▋       | 79/289 [00:50<02:14,  1.56it/s, loss=0.315]\u001b[A\n",
      " 27%|██▋       | 79/289 [00:51<02:16,  1.54it/s, loss=0.317]\u001b[A\n",
      " 28%|██▊       | 80/289 [00:51<02:13,  1.56it/s, loss=0.317]\u001b[A\n",
      " 28%|██▊       | 80/289 [00:51<02:15,  1.54it/s, loss=0.319]\u001b[A\n",
      " 28%|██▊       | 81/289 [00:51<02:13,  1.56it/s, loss=0.319]\u001b[A\n",
      " 28%|██▊       | 81/289 [00:52<02:14,  1.54it/s, loss=0.317]\u001b[A\n",
      " 28%|██▊       | 82/289 [00:52<02:12,  1.56it/s, loss=0.317]\u001b[A\n",
      " 28%|██▊       | 82/289 [00:53<02:13,  1.55it/s, loss=0.318]\u001b[A\n",
      " 29%|██▊       | 83/289 [00:53<02:11,  1.56it/s, loss=0.318]\u001b[A\n",
      " 29%|██▊       | 83/289 [00:53<02:13,  1.55it/s, loss=0.32] \u001b[A\n",
      " 29%|██▉       | 84/289 [00:53<02:11,  1.56it/s, loss=0.32]\u001b[A\n",
      " 29%|██▉       | 84/289 [00:54<02:12,  1.55it/s, loss=0.326]\u001b[A\n",
      " 29%|██▉       | 85/289 [00:54<02:10,  1.56it/s, loss=0.326]\u001b[A\n",
      " 29%|██▉       | 85/289 [00:54<02:11,  1.55it/s, loss=0.326]\u001b[A\n",
      " 30%|██▉       | 86/289 [00:54<02:09,  1.56it/s, loss=0.326]\u001b[A\n",
      " 30%|██▉       | 86/289 [00:55<02:11,  1.55it/s, loss=0.322]\u001b[A\n",
      " 30%|███       | 87/289 [00:55<02:09,  1.56it/s, loss=0.322]\u001b[A\n",
      " 30%|███       | 87/289 [00:56<02:10,  1.55it/s, loss=0.32] \u001b[A\n",
      " 30%|███       | 88/289 [00:56<02:08,  1.56it/s, loss=0.32]\u001b[A\n",
      " 30%|███       | 88/289 [00:56<02:09,  1.55it/s, loss=0.32]\u001b[A\n",
      " 31%|███       | 89/289 [00:56<02:07,  1.56it/s, loss=0.32]\u001b[A\n",
      " 31%|███       | 89/289 [00:57<02:09,  1.55it/s, loss=0.324]\u001b[A\n",
      " 31%|███       | 90/289 [00:57<02:07,  1.56it/s, loss=0.324]\u001b[A\n",
      " 31%|███       | 90/289 [00:58<02:08,  1.55it/s, loss=0.321]\u001b[A\n",
      " 31%|███▏      | 91/289 [00:58<02:06,  1.56it/s, loss=0.321]\u001b[A\n",
      " 31%|███▏      | 91/289 [00:58<02:07,  1.55it/s, loss=0.317]\u001b[A\n",
      " 32%|███▏      | 92/289 [00:58<02:05,  1.56it/s, loss=0.317]\u001b[A\n",
      " 32%|███▏      | 92/289 [00:59<02:07,  1.55it/s, loss=0.316]\u001b[A\n",
      " 32%|███▏      | 93/289 [00:59<02:05,  1.56it/s, loss=0.316]\u001b[A\n",
      " 32%|███▏      | 93/289 [01:00<02:06,  1.55it/s, loss=0.313]\u001b[A\n",
      " 33%|███▎      | 94/289 [01:00<02:04,  1.56it/s, loss=0.313]\u001b[A\n",
      " 33%|███▎      | 94/289 [01:00<02:05,  1.55it/s, loss=0.31] \u001b[A\n",
      " 33%|███▎      | 95/289 [01:00<02:03,  1.56it/s, loss=0.31]\u001b[A\n",
      " 33%|███▎      | 95/289 [01:01<02:05,  1.55it/s, loss=0.31]\u001b[A\n",
      " 33%|███▎      | 96/289 [01:01<02:03,  1.56it/s, loss=0.31]\u001b[A\n",
      " 33%|███▎      | 96/289 [01:01<02:04,  1.55it/s, loss=0.317]\u001b[A\n",
      " 34%|███▎      | 97/289 [01:01<02:02,  1.56it/s, loss=0.317]\u001b[A\n",
      " 34%|███▎      | 97/289 [01:02<02:03,  1.55it/s, loss=0.321]\u001b[A\n",
      " 34%|███▍      | 98/289 [01:02<02:02,  1.57it/s, loss=0.321]\u001b[A\n",
      " 34%|███▍      | 98/289 [01:03<02:03,  1.55it/s, loss=0.322]\u001b[A\n",
      " 34%|███▍      | 99/289 [01:03<02:01,  1.57it/s, loss=0.322]\u001b[A\n",
      " 34%|███▍      | 99/289 [01:03<02:02,  1.55it/s, loss=0.325]\u001b[A\n",
      " 35%|███▍      | 100/289 [01:03<02:00,  1.57it/s, loss=0.325]\u001b[A\n",
      " 35%|███▍      | 100/289 [01:04<02:01,  1.55it/s, loss=0.321]\u001b[A\n",
      " 35%|███▍      | 101/289 [01:04<02:00,  1.57it/s, loss=0.321]\u001b[A\n",
      " 35%|███▍      | 101/289 [01:05<02:01,  1.55it/s, loss=0.321]\u001b[A\n",
      " 35%|███▌      | 102/289 [01:05<01:59,  1.56it/s, loss=0.321]\u001b[A\n",
      " 35%|███▌      | 102/289 [01:05<02:00,  1.55it/s, loss=0.322]\u001b[A\n",
      " 36%|███▌      | 103/289 [01:05<01:58,  1.57it/s, loss=0.322]\u001b[A\n",
      " 36%|███▌      | 103/289 [01:06<01:59,  1.55it/s, loss=0.322]\u001b[A\n",
      " 36%|███▌      | 104/289 [01:06<01:58,  1.57it/s, loss=0.322]\u001b[A\n",
      " 36%|███▌      | 104/289 [01:07<01:59,  1.55it/s, loss=0.321]\u001b[A\n",
      " 36%|███▋      | 105/289 [01:07<01:57,  1.57it/s, loss=0.321]\u001b[A\n",
      " 36%|███▋      | 105/289 [01:07<01:58,  1.55it/s, loss=0.327]\u001b[A\n",
      " 37%|███▋      | 106/289 [01:07<01:56,  1.57it/s, loss=0.327]\u001b[A\n",
      " 37%|███▋      | 106/289 [01:08<01:57,  1.55it/s, loss=0.326]\u001b[A\n",
      " 37%|███▋      | 107/289 [01:08<01:56,  1.57it/s, loss=0.326]\u001b[A\n",
      " 37%|███▋      | 107/289 [01:08<01:57,  1.55it/s, loss=0.326]\u001b[A\n",
      " 37%|███▋      | 108/289 [01:08<01:55,  1.57it/s, loss=0.326]\u001b[A\n",
      " 37%|███▋      | 108/289 [01:09<01:56,  1.55it/s, loss=0.325]\u001b[A\n",
      " 38%|███▊      | 109/289 [01:09<01:54,  1.57it/s, loss=0.325]\u001b[A\n",
      " 38%|███▊      | 109/289 [01:10<01:56,  1.55it/s, loss=0.324]\u001b[A\n",
      " 38%|███▊      | 110/289 [01:10<01:54,  1.57it/s, loss=0.324]\u001b[A\n",
      " 38%|███▊      | 110/289 [01:10<01:55,  1.55it/s, loss=0.321]\u001b[A\n",
      " 38%|███▊      | 111/289 [01:10<01:53,  1.57it/s, loss=0.321]\u001b[A\n",
      " 38%|███▊      | 111/289 [01:11<01:54,  1.55it/s, loss=0.316]\u001b[A\n",
      " 39%|███▉      | 112/289 [01:11<01:53,  1.57it/s, loss=0.316]\u001b[A\n",
      " 39%|███▉      | 112/289 [01:12<01:54,  1.55it/s, loss=0.316]\u001b[A\n",
      " 39%|███▉      | 113/289 [01:12<01:52,  1.57it/s, loss=0.316]\u001b[A\n",
      " 39%|███▉      | 113/289 [01:12<01:53,  1.55it/s, loss=0.318]\u001b[A\n",
      " 39%|███▉      | 114/289 [01:12<01:51,  1.57it/s, loss=0.318]\u001b[A\n",
      " 39%|███▉      | 114/289 [01:13<01:52,  1.55it/s, loss=0.319]\u001b[A\n",
      " 40%|███▉      | 115/289 [01:13<01:51,  1.57it/s, loss=0.319]\u001b[A\n",
      " 40%|███▉      | 115/289 [01:14<01:52,  1.55it/s, loss=0.316]\u001b[A\n",
      " 40%|████      | 116/289 [01:14<01:50,  1.57it/s, loss=0.316]\u001b[A\n",
      " 40%|████      | 116/289 [01:14<01:51,  1.55it/s, loss=0.316]\u001b[A\n",
      " 40%|████      | 117/289 [01:14<01:49,  1.57it/s, loss=0.316]\u001b[A\n",
      " 40%|████      | 117/289 [01:15<01:50,  1.55it/s, loss=0.314]\u001b[A\n",
      " 41%|████      | 118/289 [01:15<01:49,  1.57it/s, loss=0.314]\u001b[A\n",
      " 41%|████      | 118/289 [01:15<01:50,  1.55it/s, loss=0.313]\u001b[A\n",
      " 41%|████      | 119/289 [01:16<01:48,  1.57it/s, loss=0.313]\u001b[A\n",
      " 41%|████      | 119/289 [01:16<01:49,  1.55it/s, loss=0.314]\u001b[A\n",
      " 42%|████▏     | 120/289 [01:16<01:47,  1.57it/s, loss=0.314]\u001b[A\n",
      " 42%|████▏     | 120/289 [01:17<01:48,  1.55it/s, loss=0.311]\u001b[A\n",
      " 42%|████▏     | 121/289 [01:17<01:47,  1.57it/s, loss=0.311]\u001b[A\n",
      " 42%|████▏     | 121/289 [01:17<01:48,  1.55it/s, loss=0.308]\u001b[A\n",
      " 42%|████▏     | 122/289 [01:17<01:46,  1.57it/s, loss=0.308]\u001b[A\n",
      " 42%|████▏     | 122/289 [01:18<01:47,  1.55it/s, loss=0.306]\u001b[A\n",
      " 43%|████▎     | 123/289 [01:18<01:46,  1.57it/s, loss=0.306]\u001b[A\n",
      " 43%|████▎     | 123/289 [01:19<01:46,  1.55it/s, loss=0.302]\u001b[A\n",
      " 43%|████▎     | 124/289 [01:19<01:45,  1.57it/s, loss=0.302]\u001b[A\n",
      " 43%|████▎     | 124/289 [01:19<01:46,  1.55it/s, loss=0.3]  \u001b[A\n",
      " 43%|████▎     | 125/289 [01:19<01:44,  1.57it/s, loss=0.3]\u001b[A\n",
      " 43%|████▎     | 125/289 [01:20<01:45,  1.55it/s, loss=0.303]\u001b[A\n",
      " 44%|████▎     | 126/289 [01:20<01:44,  1.57it/s, loss=0.303]\u001b[A\n",
      " 44%|████▎     | 126/289 [01:21<01:44,  1.55it/s, loss=0.301]\u001b[A\n",
      " 44%|████▍     | 127/289 [01:21<01:43,  1.57it/s, loss=0.301]\u001b[A\n"
     ]
    },
    {
     "name": "stdout",
     "output_type": "stream",
     "text": [
      " 44%|████▍     | 127/289 [01:21<01:44,  1.55it/s, loss=0.307]\u001b[A\n",
      " 44%|████▍     | 128/289 [01:21<01:42,  1.57it/s, loss=0.307]\u001b[A\n",
      " 44%|████▍     | 128/289 [01:22<01:43,  1.55it/s, loss=0.306]\u001b[A\n",
      " 45%|████▍     | 129/289 [01:22<01:42,  1.57it/s, loss=0.306]\u001b[A\n",
      " 45%|████▍     | 129/289 [01:23<01:42,  1.55it/s, loss=0.302]\u001b[A\n",
      " 45%|████▍     | 130/289 [01:23<01:41,  1.57it/s, loss=0.302]\u001b[A\n",
      " 45%|████▍     | 130/289 [01:23<01:42,  1.55it/s, loss=0.3]  \u001b[A\n",
      " 45%|████▌     | 131/289 [01:23<01:40,  1.57it/s, loss=0.3]\u001b[A\n",
      " 45%|████▌     | 131/289 [01:24<01:41,  1.55it/s, loss=0.3]\u001b[A\n",
      " 46%|████▌     | 132/289 [01:24<01:40,  1.57it/s, loss=0.3]\u001b[A\n",
      " 46%|████▌     | 132/289 [01:24<01:41,  1.55it/s, loss=0.299]\u001b[A\n",
      " 46%|████▌     | 133/289 [01:24<01:39,  1.57it/s, loss=0.299]\u001b[A\n",
      " 46%|████▌     | 133/289 [01:25<01:40,  1.55it/s, loss=0.295]\u001b[A\n",
      " 46%|████▋     | 134/289 [01:25<01:38,  1.57it/s, loss=0.295]\u001b[A\n",
      " 46%|████▋     | 134/289 [01:26<01:39,  1.55it/s, loss=0.294]\u001b[A\n",
      " 47%|████▋     | 135/289 [01:26<01:38,  1.57it/s, loss=0.294]\u001b[A\n",
      " 47%|████▋     | 135/289 [01:26<01:39,  1.55it/s, loss=0.298]\u001b[A\n",
      " 47%|████▋     | 136/289 [01:26<01:37,  1.57it/s, loss=0.298]\u001b[A\n",
      " 47%|████▋     | 136/289 [01:27<01:38,  1.55it/s, loss=0.297]\u001b[A\n",
      " 47%|████▋     | 137/289 [01:27<01:37,  1.57it/s, loss=0.297]\u001b[A\n",
      " 47%|████▋     | 137/289 [01:28<01:37,  1.56it/s, loss=0.293]\u001b[A\n",
      " 48%|████▊     | 138/289 [01:28<01:36,  1.57it/s, loss=0.293]\u001b[A\n",
      " 48%|████▊     | 138/289 [01:28<01:37,  1.56it/s, loss=0.29] \u001b[A\n",
      " 48%|████▊     | 139/289 [01:28<01:35,  1.57it/s, loss=0.29]\u001b[A\n",
      " 48%|████▊     | 139/289 [01:29<01:36,  1.56it/s, loss=0.288]\u001b[A\n",
      " 48%|████▊     | 140/289 [01:29<01:35,  1.57it/s, loss=0.288]\u001b[A\n",
      " 48%|████▊     | 140/289 [01:30<01:35,  1.56it/s, loss=0.285]\u001b[A\n",
      " 49%|████▉     | 141/289 [01:30<01:34,  1.57it/s, loss=0.285]\u001b[A\n",
      " 49%|████▉     | 141/289 [01:30<01:35,  1.56it/s, loss=0.286]\u001b[A\n",
      " 49%|████▉     | 142/289 [01:30<01:33,  1.57it/s, loss=0.286]\u001b[A\n",
      " 49%|████▉     | 142/289 [01:31<01:34,  1.56it/s, loss=0.282]\u001b[A\n",
      " 49%|████▉     | 143/289 [01:31<01:33,  1.57it/s, loss=0.282]\u001b[A\n",
      " 49%|████▉     | 143/289 [01:31<01:33,  1.56it/s, loss=0.28] \u001b[A\n",
      " 50%|████▉     | 144/289 [01:31<01:32,  1.57it/s, loss=0.28]\u001b[A\n",
      " 50%|████▉     | 144/289 [01:32<01:33,  1.56it/s, loss=0.278]\u001b[A\n",
      " 50%|█████     | 145/289 [01:32<01:31,  1.57it/s, loss=0.278]\u001b[A\n",
      " 50%|█████     | 145/289 [01:33<01:32,  1.56it/s, loss=0.282]\u001b[A\n",
      " 51%|█████     | 146/289 [01:33<01:31,  1.57it/s, loss=0.282]\u001b[A\n",
      " 51%|█████     | 146/289 [01:33<01:31,  1.56it/s, loss=0.283]\u001b[A\n",
      " 51%|█████     | 147/289 [01:33<01:30,  1.57it/s, loss=0.283]\u001b[A\n",
      " 51%|█████     | 147/289 [01:34<01:31,  1.56it/s, loss=0.29] \u001b[A\n",
      " 51%|█████     | 148/289 [01:34<01:29,  1.57it/s, loss=0.29]\u001b[A\n",
      " 51%|█████     | 148/289 [01:35<01:30,  1.56it/s, loss=0.294]\u001b[A\n",
      " 52%|█████▏    | 149/289 [01:35<01:29,  1.57it/s, loss=0.294]\u001b[A\n",
      " 52%|█████▏    | 149/289 [01:35<01:29,  1.56it/s, loss=0.294]\u001b[A\n",
      " 52%|█████▏    | 150/289 [01:35<01:28,  1.57it/s, loss=0.294]\u001b[A\n",
      " 52%|█████▏    | 150/289 [01:36<01:29,  1.56it/s, loss=0.298]\u001b[A\n",
      " 52%|█████▏    | 151/289 [01:36<01:28,  1.57it/s, loss=0.298]\u001b[A\n",
      " 52%|█████▏    | 151/289 [01:36<01:28,  1.56it/s, loss=0.298]\u001b[A\n",
      " 53%|█████▎    | 152/289 [01:36<01:27,  1.57it/s, loss=0.298]\u001b[A\n",
      " 53%|█████▎    | 152/289 [01:37<01:27,  1.56it/s, loss=0.301]\u001b[A\n",
      " 53%|█████▎    | 153/289 [01:37<01:26,  1.57it/s, loss=0.301]\u001b[A\n",
      " 53%|█████▎    | 153/289 [01:38<01:27,  1.56it/s, loss=0.302]\u001b[A\n",
      " 53%|█████▎    | 154/289 [01:38<01:26,  1.57it/s, loss=0.302]\u001b[A\n",
      " 53%|█████▎    | 154/289 [01:38<01:26,  1.56it/s, loss=0.3]  \u001b[A\n",
      " 54%|█████▎    | 155/289 [01:38<01:25,  1.57it/s, loss=0.3]\u001b[A\n",
      " 54%|█████▎    | 155/289 [01:39<01:26,  1.56it/s, loss=0.299]\u001b[A\n",
      " 54%|█████▍    | 156/289 [01:39<01:24,  1.57it/s, loss=0.299]\u001b[A\n",
      " 54%|█████▍    | 156/289 [01:40<01:25,  1.56it/s, loss=0.296]\u001b[A\n",
      " 54%|█████▍    | 157/289 [01:40<01:24,  1.57it/s, loss=0.296]\u001b[A\n",
      " 54%|█████▍    | 157/289 [01:40<01:24,  1.56it/s, loss=0.298]\u001b[A\n",
      " 55%|█████▍    | 158/289 [01:40<01:23,  1.57it/s, loss=0.298]\u001b[A\n",
      " 55%|█████▍    | 158/289 [01:41<01:24,  1.56it/s, loss=0.298]\u001b[A\n",
      " 55%|█████▌    | 159/289 [01:41<01:22,  1.57it/s, loss=0.298]\u001b[A\n",
      " 55%|█████▌    | 159/289 [01:42<01:23,  1.56it/s, loss=0.295]\u001b[A\n",
      " 55%|█████▌    | 160/289 [01:42<01:22,  1.57it/s, loss=0.295]\u001b[A\n",
      " 55%|█████▌    | 160/289 [01:42<01:22,  1.56it/s, loss=0.294]\u001b[A\n",
      " 56%|█████▌    | 161/289 [01:42<01:21,  1.57it/s, loss=0.294]\u001b[A\n",
      " 56%|█████▌    | 161/289 [01:43<01:22,  1.56it/s, loss=0.294]\u001b[A\n",
      " 56%|█████▌    | 162/289 [01:43<01:21,  1.57it/s, loss=0.294]\u001b[A\n",
      " 56%|█████▌    | 162/289 [01:43<01:21,  1.56it/s, loss=0.296]\u001b[A\n",
      " 56%|█████▋    | 163/289 [01:43<01:20,  1.57it/s, loss=0.296]\u001b[A\n",
      " 56%|█████▋    | 163/289 [01:44<01:20,  1.56it/s, loss=0.295]\u001b[A\n",
      " 57%|█████▋    | 164/289 [01:44<01:19,  1.57it/s, loss=0.295]\u001b[A\n",
      " 57%|█████▋    | 164/289 [01:45<01:20,  1.56it/s, loss=0.291]\u001b[A\n",
      " 57%|█████▋    | 165/289 [01:45<01:19,  1.57it/s, loss=0.291]\u001b[A\n",
      " 57%|█████▋    | 165/289 [01:45<01:19,  1.56it/s, loss=0.29] \u001b[A\n",
      " 57%|█████▋    | 166/289 [01:45<01:18,  1.57it/s, loss=0.29]\u001b[A\n",
      " 57%|█████▋    | 166/289 [01:46<01:18,  1.56it/s, loss=0.291]\u001b[A\n",
      " 58%|█████▊    | 167/289 [01:46<01:17,  1.57it/s, loss=0.291]\u001b[A\n",
      " 58%|█████▊    | 167/289 [01:47<01:18,  1.56it/s, loss=0.291]\u001b[A\n",
      " 58%|█████▊    | 168/289 [01:47<01:17,  1.57it/s, loss=0.291]\u001b[A\n",
      " 58%|█████▊    | 168/289 [01:47<01:17,  1.56it/s, loss=0.29] \u001b[A\n",
      " 58%|█████▊    | 169/289 [01:47<01:16,  1.57it/s, loss=0.29]\u001b[A\n",
      " 58%|█████▊    | 169/289 [01:48<01:17,  1.56it/s, loss=0.291]\u001b[A\n",
      " 59%|█████▉    | 170/289 [01:48<01:15,  1.57it/s, loss=0.291]\u001b[A\n",
      " 59%|█████▉    | 170/289 [01:49<01:16,  1.56it/s, loss=0.289]\u001b[A\n",
      " 59%|█████▉    | 171/289 [01:49<01:15,  1.57it/s, loss=0.289]\u001b[A\n",
      " 59%|█████▉    | 171/289 [01:49<01:15,  1.56it/s, loss=0.287]\u001b[A\n",
      " 60%|█████▉    | 172/289 [01:49<01:14,  1.57it/s, loss=0.287]\u001b[A\n",
      " 60%|█████▉    | 172/289 [01:50<01:15,  1.56it/s, loss=0.286]\u001b[A\n",
      " 60%|█████▉    | 173/289 [01:50<01:14,  1.57it/s, loss=0.286]\u001b[A\n",
      " 60%|█████▉    | 173/289 [01:51<01:14,  1.56it/s, loss=0.287]\u001b[A\n",
      " 60%|██████    | 174/289 [01:51<01:13,  1.57it/s, loss=0.287]\u001b[A\n",
      " 60%|██████    | 174/289 [01:51<01:13,  1.56it/s, loss=0.285]\u001b[A\n",
      " 61%|██████    | 175/289 [01:51<01:12,  1.57it/s, loss=0.285]\u001b[A\n",
      " 61%|██████    | 175/289 [01:52<01:13,  1.56it/s, loss=0.293]\u001b[A\n",
      " 61%|██████    | 176/289 [01:52<01:12,  1.57it/s, loss=0.293]\u001b[A\n",
      " 61%|██████    | 176/289 [01:52<01:12,  1.56it/s, loss=0.291]\u001b[A\n",
      " 61%|██████    | 177/289 [01:52<01:11,  1.57it/s, loss=0.291]\u001b[A\n",
      " 61%|██████    | 177/289 [01:53<01:11,  1.56it/s, loss=0.289]\u001b[A\n",
      " 62%|██████▏   | 178/289 [01:53<01:10,  1.57it/s, loss=0.289]\u001b[A\n",
      " 62%|██████▏   | 178/289 [01:54<01:11,  1.56it/s, loss=0.293]\u001b[A\n",
      " 62%|██████▏   | 179/289 [01:54<01:10,  1.57it/s, loss=0.293]\u001b[A\n",
      " 62%|██████▏   | 179/289 [01:54<01:10,  1.56it/s, loss=0.292]\u001b[A\n",
      " 62%|██████▏   | 180/289 [01:54<01:09,  1.57it/s, loss=0.292]\u001b[A\n",
      " 62%|██████▏   | 180/289 [01:55<01:09,  1.56it/s, loss=0.291]\u001b[A\n",
      " 63%|██████▎   | 181/289 [01:55<01:08,  1.57it/s, loss=0.291]\u001b[A\n",
      " 63%|██████▎   | 181/289 [01:56<01:09,  1.56it/s, loss=0.288]\u001b[A\n",
      " 63%|██████▎   | 182/289 [01:56<01:08,  1.57it/s, loss=0.288]\u001b[A\n",
      " 63%|██████▎   | 182/289 [01:56<01:08,  1.56it/s, loss=0.285]\u001b[A\n",
      " 63%|██████▎   | 183/289 [01:56<01:07,  1.57it/s, loss=0.285]\u001b[A\n",
      " 63%|██████▎   | 183/289 [01:57<01:07,  1.56it/s, loss=0.284]\u001b[A\n",
      " 64%|██████▎   | 184/289 [01:57<01:06,  1.57it/s, loss=0.284]\u001b[A\n",
      " 64%|██████▎   | 184/289 [01:58<01:07,  1.56it/s, loss=0.282]\u001b[A\n",
      " 64%|██████▍   | 185/289 [01:58<01:06,  1.57it/s, loss=0.282]\u001b[A\n",
      " 64%|██████▍   | 185/289 [01:58<01:06,  1.56it/s, loss=0.281]\u001b[A\n",
      " 64%|██████▍   | 186/289 [01:58<01:05,  1.57it/s, loss=0.281]\u001b[A\n",
      " 64%|██████▍   | 186/289 [01:59<01:06,  1.56it/s, loss=0.282]\u001b[A\n",
      " 65%|██████▍   | 187/289 [01:59<01:05,  1.57it/s, loss=0.282]\u001b[A\n",
      " 65%|██████▍   | 187/289 [01:59<01:05,  1.56it/s, loss=0.279]\u001b[A\n",
      " 65%|██████▌   | 188/289 [01:59<01:04,  1.57it/s, loss=0.279]\u001b[A\n",
      " 65%|██████▌   | 188/289 [02:00<01:04,  1.56it/s, loss=0.284]\u001b[A\n",
      " 65%|██████▌   | 189/289 [02:00<01:03,  1.57it/s, loss=0.284]\u001b[A\n",
      " 65%|██████▌   | 189/289 [02:01<01:04,  1.56it/s, loss=0.284]\u001b[A\n",
      " 66%|██████▌   | 190/289 [02:01<01:03,  1.57it/s, loss=0.284]\u001b[A\n",
      " 66%|██████▌   | 190/289 [02:01<01:03,  1.56it/s, loss=0.284]\u001b[A\n",
      " 66%|██████▌   | 191/289 [02:01<01:02,  1.57it/s, loss=0.284]\u001b[A\n",
      " 66%|██████▌   | 191/289 [02:02<01:02,  1.56it/s, loss=0.284]\u001b[A\n",
      " 66%|██████▋   | 192/289 [02:02<01:01,  1.57it/s, loss=0.284]\u001b[A\n",
      " 66%|██████▋   | 192/289 [02:03<01:02,  1.56it/s, loss=0.282]\u001b[A\n",
      " 67%|██████▋   | 193/289 [02:03<01:01,  1.57it/s, loss=0.282]\u001b[A\n",
      " 67%|██████▋   | 193/289 [02:03<01:01,  1.56it/s, loss=0.287]\u001b[A\n",
      " 67%|██████▋   | 194/289 [02:03<01:00,  1.57it/s, loss=0.287]\u001b[A\n",
      " 67%|██████▋   | 194/289 [02:04<01:00,  1.56it/s, loss=0.285]\u001b[A\n",
      " 67%|██████▋   | 195/289 [02:04<00:59,  1.57it/s, loss=0.285]\u001b[A\n",
      " 67%|██████▋   | 195/289 [02:05<01:00,  1.56it/s, loss=0.283]\u001b[A\n",
      " 68%|██████▊   | 196/289 [02:05<00:59,  1.57it/s, loss=0.283]\u001b[A\n",
      " 68%|██████▊   | 196/289 [02:05<00:59,  1.56it/s, loss=0.282]\u001b[A\n",
      " 68%|██████▊   | 197/289 [02:05<00:58,  1.57it/s, loss=0.282]\u001b[A\n",
      " 68%|██████▊   | 197/289 [02:06<00:58,  1.56it/s, loss=0.282]\u001b[A\n",
      " 69%|██████▊   | 198/289 [02:06<00:58,  1.57it/s, loss=0.282]\u001b[A\n",
      " 69%|██████▊   | 198/289 [02:06<00:58,  1.56it/s, loss=0.281]\u001b[A\n",
      " 69%|██████▉   | 199/289 [02:06<00:57,  1.57it/s, loss=0.281]\u001b[A\n",
      " 69%|██████▉   | 199/289 [02:07<00:57,  1.56it/s, loss=0.281]\u001b[A\n",
      " 69%|██████▉   | 200/289 [02:07<00:56,  1.57it/s, loss=0.281]\u001b[A\n",
      " 69%|██████▉   | 200/289 [02:08<00:57,  1.56it/s, loss=0.28] \u001b[A\n",
      " 70%|██████▉   | 201/289 [02:08<00:56,  1.57it/s, loss=0.28]\u001b[A\n",
      " 70%|██████▉   | 201/289 [02:08<00:56,  1.56it/s, loss=0.283]\u001b[A\n",
      " 70%|██████▉   | 202/289 [02:08<00:55,  1.57it/s, loss=0.283]\u001b[A\n",
      " 70%|██████▉   | 202/289 [02:09<00:55,  1.56it/s, loss=0.28] \u001b[A\n",
      " 70%|███████   | 203/289 [02:09<00:54,  1.57it/s, loss=0.28]\u001b[A\n",
      " 70%|███████   | 203/289 [02:10<00:55,  1.56it/s, loss=0.278]\u001b[A\n",
      " 71%|███████   | 204/289 [02:10<00:54,  1.57it/s, loss=0.278]\u001b[A\n",
      " 71%|███████   | 204/289 [02:10<00:54,  1.56it/s, loss=0.278]\u001b[A\n",
      " 71%|███████   | 205/289 [02:10<00:53,  1.57it/s, loss=0.278]\u001b[A\n",
      " 71%|███████   | 205/289 [02:11<00:53,  1.56it/s, loss=0.277]\u001b[A\n",
      " 71%|███████▏  | 206/289 [02:11<00:52,  1.57it/s, loss=0.277]\u001b[A\n",
      " 71%|███████▏  | 206/289 [02:12<00:53,  1.56it/s, loss=0.281]\u001b[A\n",
      " 72%|███████▏  | 207/289 [02:12<00:52,  1.57it/s, loss=0.281]\u001b[A\n",
      " 72%|███████▏  | 207/289 [02:12<00:52,  1.56it/s, loss=0.282]\u001b[A\n",
      " 72%|███████▏  | 208/289 [02:12<00:51,  1.57it/s, loss=0.282]\u001b[A\n",
      " 72%|███████▏  | 208/289 [02:13<00:51,  1.56it/s, loss=0.288]\u001b[A\n",
      " 72%|███████▏  | 209/289 [02:13<00:51,  1.57it/s, loss=0.288]\u001b[A\n",
      " 72%|███████▏  | 209/289 [02:13<00:51,  1.56it/s, loss=0.286]\u001b[A\n",
      " 73%|███████▎  | 210/289 [02:13<00:50,  1.57it/s, loss=0.286]\u001b[A\n",
      " 73%|███████▎  | 210/289 [02:14<00:50,  1.56it/s, loss=0.284]\u001b[A\n",
      " 73%|███████▎  | 211/289 [02:14<00:49,  1.57it/s, loss=0.284]\u001b[A\n",
      " 73%|███████▎  | 211/289 [02:15<00:49,  1.56it/s, loss=0.284]\u001b[A\n",
      " 73%|███████▎  | 212/289 [02:15<00:49,  1.57it/s, loss=0.284]\u001b[A\n",
      " 73%|███████▎  | 212/289 [02:15<00:49,  1.56it/s, loss=0.284]\u001b[A\n",
      " 74%|███████▎  | 213/289 [02:15<00:48,  1.57it/s, loss=0.284]\u001b[A\n",
      " 74%|███████▎  | 213/289 [02:16<00:48,  1.56it/s, loss=0.285]\u001b[A\n",
      " 74%|███████▍  | 214/289 [02:16<00:47,  1.57it/s, loss=0.285]\u001b[A\n",
      " 74%|███████▍  | 214/289 [02:17<00:48,  1.56it/s, loss=0.283]\u001b[A\n",
      " 74%|███████▍  | 215/289 [02:17<00:47,  1.57it/s, loss=0.283]\u001b[A\n",
      " 74%|███████▍  | 215/289 [02:17<00:47,  1.56it/s, loss=0.28] \u001b[A\n",
      " 75%|███████▍  | 216/289 [02:17<00:46,  1.57it/s, loss=0.28]\u001b[A\n",
      " 75%|███████▍  | 216/289 [02:18<00:46,  1.56it/s, loss=0.278]\u001b[A\n",
      " 75%|███████▌  | 217/289 [02:18<00:45,  1.57it/s, loss=0.278]\u001b[A\n",
      " 75%|███████▌  | 217/289 [02:19<00:46,  1.56it/s, loss=0.279]\u001b[A\n",
      " 75%|███████▌  | 218/289 [02:19<00:45,  1.57it/s, loss=0.279]\u001b[A\n",
      " 75%|███████▌  | 218/289 [02:19<00:45,  1.56it/s, loss=0.278]\u001b[A\n",
      " 76%|███████▌  | 219/289 [02:19<00:44,  1.57it/s, loss=0.278]\u001b[A\n",
      " 76%|███████▌  | 219/289 [02:20<00:44,  1.56it/s, loss=0.282]\u001b[A\n",
      " 76%|███████▌  | 220/289 [02:20<00:44,  1.57it/s, loss=0.282]\u001b[A\n",
      " 76%|███████▌  | 220/289 [02:20<00:44,  1.56it/s, loss=0.28] \u001b[A\n",
      " 76%|███████▋  | 221/289 [02:20<00:43,  1.57it/s, loss=0.28]\u001b[A\n",
      " 76%|███████▋  | 221/289 [02:21<00:43,  1.56it/s, loss=0.281]\u001b[A\n",
      " 77%|███████▋  | 222/289 [02:21<00:42,  1.57it/s, loss=0.281]\u001b[A\n",
      " 77%|███████▋  | 222/289 [02:22<00:42,  1.56it/s, loss=0.282]\u001b[A\n",
      " 77%|███████▋  | 223/289 [02:22<00:42,  1.57it/s, loss=0.282]\u001b[A\n",
      " 77%|███████▋  | 223/289 [02:22<00:42,  1.56it/s, loss=0.278]\u001b[A\n",
      " 78%|███████▊  | 224/289 [02:22<00:41,  1.57it/s, loss=0.278]\u001b[A\n",
      " 78%|███████▊  | 224/289 [02:23<00:41,  1.56it/s, loss=0.275]\u001b[A\n",
      " 78%|███████▊  | 225/289 [02:23<00:40,  1.57it/s, loss=0.275]\u001b[A\n",
      " 78%|███████▊  | 225/289 [02:24<00:40,  1.56it/s, loss=0.272]\u001b[A\n",
      " 78%|███████▊  | 226/289 [02:24<00:40,  1.57it/s, loss=0.272]\u001b[A\n",
      " 78%|███████▊  | 226/289 [02:24<00:40,  1.56it/s, loss=0.27] \u001b[A\n",
      " 79%|███████▊  | 227/289 [02:24<00:39,  1.57it/s, loss=0.27]\u001b[A\n",
      " 79%|███████▊  | 227/289 [02:25<00:39,  1.56it/s, loss=0.274]\u001b[A\n",
      " 79%|███████▉  | 228/289 [02:25<00:38,  1.57it/s, loss=0.274]\u001b[A\n",
      " 79%|███████▉  | 228/289 [02:25<00:39,  1.56it/s, loss=0.275]\u001b[A\n",
      " 79%|███████▉  | 229/289 [02:25<00:38,  1.57it/s, loss=0.275]\u001b[A\n",
      " 79%|███████▉  | 229/289 [02:26<00:38,  1.56it/s, loss=0.273]\u001b[A\n",
      " 80%|███████▉  | 230/289 [02:26<00:37,  1.57it/s, loss=0.273]\u001b[A\n",
      " 80%|███████▉  | 230/289 [02:27<00:37,  1.56it/s, loss=0.272]\u001b[A\n",
      " 80%|███████▉  | 231/289 [02:27<00:36,  1.57it/s, loss=0.272]\u001b[A\n",
      " 80%|███████▉  | 231/289 [02:27<00:37,  1.56it/s, loss=0.272]\u001b[A\n",
      " 80%|████████  | 232/289 [02:27<00:36,  1.57it/s, loss=0.272]\u001b[A\n",
      " 80%|████████  | 232/289 [02:28<00:36,  1.56it/s, loss=0.274]\u001b[A\n",
      " 81%|████████  | 233/289 [02:28<00:35,  1.57it/s, loss=0.274]\u001b[A\n",
      " 81%|████████  | 233/289 [02:29<00:35,  1.56it/s, loss=0.277]\u001b[A\n",
      " 81%|████████  | 234/289 [02:29<00:35,  1.57it/s, loss=0.277]\u001b[A\n",
      " 81%|████████  | 234/289 [02:29<00:35,  1.56it/s, loss=0.275]\u001b[A\n",
      " 81%|████████▏ | 235/289 [02:29<00:34,  1.57it/s, loss=0.275]\u001b[A\n",
      " 81%|████████▏ | 235/289 [02:30<00:34,  1.56it/s, loss=0.274]\u001b[A\n",
      " 82%|████████▏ | 236/289 [02:30<00:33,  1.57it/s, loss=0.274]\u001b[A\n",
      " 82%|████████▏ | 236/289 [02:30<00:33,  1.56it/s, loss=0.279]\u001b[A\n",
      " 82%|████████▏ | 237/289 [02:30<00:33,  1.57it/s, loss=0.279]\u001b[A\n",
      " 82%|████████▏ | 237/289 [02:31<00:33,  1.56it/s, loss=0.279]\u001b[A\n",
      " 82%|████████▏ | 238/289 [02:31<00:32,  1.57it/s, loss=0.279]\u001b[A\n",
      " 82%|████████▏ | 238/289 [02:32<00:32,  1.56it/s, loss=0.282]\u001b[A\n",
      " 83%|████████▎ | 239/289 [02:32<00:31,  1.57it/s, loss=0.282]\u001b[A\n",
      " 83%|████████▎ | 239/289 [02:32<00:31,  1.56it/s, loss=0.28] \u001b[A\n",
      " 83%|████████▎ | 240/289 [02:32<00:31,  1.57it/s, loss=0.28]\u001b[A\n",
      " 83%|████████▎ | 240/289 [02:33<00:31,  1.56it/s, loss=0.277]\u001b[A\n",
      " 83%|████████▎ | 241/289 [02:33<00:30,  1.57it/s, loss=0.277]\u001b[A\n",
      " 83%|████████▎ | 241/289 [02:34<00:30,  1.56it/s, loss=0.279]\u001b[A\n",
      " 84%|████████▎ | 242/289 [02:34<00:29,  1.57it/s, loss=0.279]\u001b[A\n",
      " 84%|████████▎ | 242/289 [02:34<00:30,  1.56it/s, loss=0.277]\u001b[A\n",
      " 84%|████████▍ | 243/289 [02:34<00:29,  1.57it/s, loss=0.277]\u001b[A\n",
      " 84%|████████▍ | 243/289 [02:35<00:29,  1.57it/s, loss=0.281]\u001b[A\n",
      " 84%|████████▍ | 244/289 [02:35<00:28,  1.57it/s, loss=0.281]\u001b[A\n",
      " 84%|████████▍ | 244/289 [02:35<00:28,  1.57it/s, loss=0.28] \u001b[A\n",
      " 85%|████████▍ | 245/289 [02:35<00:27,  1.57it/s, loss=0.28]\u001b[A\n",
      " 85%|████████▍ | 245/289 [02:36<00:28,  1.57it/s, loss=0.276]\u001b[A\n",
      " 85%|████████▌ | 246/289 [02:36<00:27,  1.57it/s, loss=0.276]\u001b[A\n",
      " 85%|████████▌ | 246/289 [02:37<00:27,  1.57it/s, loss=0.274]\u001b[A\n",
      " 85%|████████▌ | 247/289 [02:37<00:26,  1.57it/s, loss=0.274]\u001b[A\n",
      " 85%|████████▌ | 247/289 [02:37<00:26,  1.57it/s, loss=0.281]\u001b[A\n",
      " 86%|████████▌ | 248/289 [02:37<00:26,  1.57it/s, loss=0.281]\u001b[A\n",
      " 86%|████████▌ | 248/289 [02:38<00:26,  1.57it/s, loss=0.279]\u001b[A\n",
      " 86%|████████▌ | 249/289 [02:38<00:25,  1.57it/s, loss=0.279]\u001b[A\n",
      " 86%|████████▌ | 249/289 [02:38<00:25,  1.57it/s, loss=0.275]\u001b[A\n",
      " 87%|████████▋ | 250/289 [02:38<00:24,  1.57it/s, loss=0.275]\u001b[A\n",
      " 87%|████████▋ | 250/289 [02:39<00:24,  1.57it/s, loss=0.273]\u001b[A\n",
      " 87%|████████▋ | 251/289 [02:39<00:24,  1.57it/s, loss=0.273]\u001b[A\n",
      " 87%|████████▋ | 251/289 [02:40<00:24,  1.57it/s, loss=0.271]\u001b[A\n",
      " 87%|████████▋ | 252/289 [02:40<00:23,  1.57it/s, loss=0.271]\u001b[A\n",
      " 87%|████████▋ | 252/289 [02:40<00:23,  1.57it/s, loss=0.271]\u001b[A\n",
      " 88%|████████▊ | 253/289 [02:40<00:22,  1.57it/s, loss=0.271]\u001b[A\n"
     ]
    },
    {
     "name": "stdout",
     "output_type": "stream",
     "text": [
      " 88%|████████▊ | 253/289 [02:41<00:22,  1.57it/s, loss=0.271]\u001b[A\n",
      " 88%|████████▊ | 254/289 [02:41<00:22,  1.57it/s, loss=0.271]\u001b[A\n",
      " 88%|████████▊ | 254/289 [02:42<00:22,  1.57it/s, loss=0.271]\u001b[A\n",
      " 88%|████████▊ | 255/289 [02:42<00:21,  1.57it/s, loss=0.271]\u001b[A\n",
      " 88%|████████▊ | 255/289 [02:42<00:21,  1.57it/s, loss=0.27] \u001b[A\n",
      " 89%|████████▊ | 256/289 [02:42<00:20,  1.57it/s, loss=0.27]\u001b[A\n",
      " 89%|████████▊ | 256/289 [02:43<00:21,  1.57it/s, loss=0.27]\u001b[A\n",
      " 89%|████████▉ | 257/289 [02:43<00:20,  1.57it/s, loss=0.27]\u001b[A\n",
      " 89%|████████▉ | 257/289 [02:43<00:20,  1.57it/s, loss=0.273]\u001b[A\n",
      " 89%|████████▉ | 258/289 [02:43<00:19,  1.57it/s, loss=0.273]\u001b[A\n",
      " 89%|████████▉ | 258/289 [02:44<00:19,  1.57it/s, loss=0.274]\u001b[A\n",
      " 90%|████████▉ | 259/289 [02:44<00:19,  1.57it/s, loss=0.274]\u001b[A\n",
      " 90%|████████▉ | 259/289 [02:45<00:19,  1.57it/s, loss=0.276]\u001b[A\n",
      " 90%|████████▉ | 260/289 [02:45<00:18,  1.57it/s, loss=0.276]\u001b[A\n",
      " 90%|████████▉ | 260/289 [02:45<00:18,  1.57it/s, loss=0.275]\u001b[A\n",
      " 90%|█████████ | 261/289 [02:45<00:17,  1.57it/s, loss=0.275]\u001b[A\n",
      " 90%|█████████ | 261/289 [02:46<00:17,  1.57it/s, loss=0.273]\u001b[A\n",
      " 91%|█████████ | 262/289 [02:46<00:17,  1.57it/s, loss=0.273]\u001b[A\n",
      " 91%|█████████ | 262/289 [02:47<00:17,  1.57it/s, loss=0.273]\u001b[A\n",
      " 91%|█████████ | 263/289 [02:47<00:16,  1.57it/s, loss=0.273]\u001b[A\n",
      " 91%|█████████ | 263/289 [02:47<00:16,  1.57it/s, loss=0.272]\u001b[A\n",
      " 91%|█████████▏| 264/289 [02:47<00:15,  1.57it/s, loss=0.272]\u001b[A\n",
      " 91%|█████████▏| 264/289 [02:48<00:15,  1.57it/s, loss=0.276]\u001b[A\n",
      " 92%|█████████▏| 265/289 [02:48<00:15,  1.57it/s, loss=0.276]\u001b[A\n",
      " 92%|█████████▏| 265/289 [02:48<00:15,  1.57it/s, loss=0.276]\u001b[A\n",
      " 92%|█████████▏| 266/289 [02:48<00:14,  1.57it/s, loss=0.276]\u001b[A\n",
      " 92%|█████████▏| 266/289 [02:49<00:14,  1.57it/s, loss=0.275]\u001b[A\n",
      " 92%|█████████▏| 267/289 [02:49<00:13,  1.58it/s, loss=0.275]\u001b[A\n",
      " 92%|█████████▏| 267/289 [02:50<00:14,  1.57it/s, loss=0.273]\u001b[A\n",
      " 93%|█████████▎| 268/289 [02:50<00:13,  1.58it/s, loss=0.273]\u001b[A\n",
      " 93%|█████████▎| 268/289 [02:50<00:13,  1.57it/s, loss=0.274]\u001b[A\n",
      " 93%|█████████▎| 269/289 [02:50<00:12,  1.58it/s, loss=0.274]\u001b[A\n",
      " 93%|█████████▎| 269/289 [02:51<00:12,  1.57it/s, loss=0.274]\u001b[A\n",
      " 93%|█████████▎| 270/289 [02:51<00:12,  1.58it/s, loss=0.274]\u001b[A\n",
      " 93%|█████████▎| 270/289 [02:51<00:12,  1.57it/s, loss=0.276]\u001b[A\n",
      " 94%|█████████▍| 271/289 [02:51<00:11,  1.58it/s, loss=0.276]\u001b[A\n",
      " 94%|█████████▍| 271/289 [02:52<00:11,  1.57it/s, loss=0.276]\u001b[A\n",
      " 94%|█████████▍| 272/289 [02:52<00:10,  1.58it/s, loss=0.276]\u001b[A\n",
      " 94%|█████████▍| 272/289 [02:53<00:10,  1.57it/s, loss=0.274]\u001b[A\n",
      " 94%|█████████▍| 273/289 [02:53<00:10,  1.58it/s, loss=0.274]\u001b[A\n",
      " 94%|█████████▍| 273/289 [02:53<00:10,  1.57it/s, loss=0.27] \u001b[A\n",
      " 95%|█████████▍| 274/289 [02:53<00:09,  1.58it/s, loss=0.27]\u001b[A\n",
      " 95%|█████████▍| 274/289 [02:54<00:09,  1.57it/s, loss=0.269]\u001b[A\n",
      " 95%|█████████▌| 275/289 [02:54<00:08,  1.58it/s, loss=0.269]\u001b[A\n",
      " 95%|█████████▌| 275/289 [02:55<00:08,  1.57it/s, loss=0.268]\u001b[A\n",
      " 96%|█████████▌| 276/289 [02:55<00:08,  1.58it/s, loss=0.268]\u001b[A\n",
      " 96%|█████████▌| 276/289 [02:55<00:08,  1.57it/s, loss=0.265]\u001b[A\n",
      " 96%|█████████▌| 277/289 [02:55<00:07,  1.58it/s, loss=0.265]\u001b[A\n",
      " 96%|█████████▌| 277/289 [02:56<00:07,  1.57it/s, loss=0.264]\u001b[A\n",
      " 96%|█████████▌| 278/289 [02:56<00:06,  1.58it/s, loss=0.264]\u001b[A\n",
      " 96%|█████████▌| 278/289 [02:56<00:07,  1.57it/s, loss=0.262]\u001b[A\n",
      " 97%|█████████▋| 279/289 [02:56<00:06,  1.58it/s, loss=0.262]\u001b[A\n",
      " 97%|█████████▋| 279/289 [02:57<00:06,  1.57it/s, loss=0.262]\u001b[A\n",
      " 97%|█████████▋| 280/289 [02:57<00:05,  1.58it/s, loss=0.262]\u001b[A\n",
      " 97%|█████████▋| 280/289 [02:58<00:05,  1.57it/s, loss=0.261]\u001b[A\n",
      " 97%|█████████▋| 281/289 [02:58<00:05,  1.58it/s, loss=0.261]\u001b[A\n",
      " 97%|█████████▋| 281/289 [02:58<00:05,  1.57it/s, loss=0.259]\u001b[A\n",
      " 98%|█████████▊| 282/289 [02:58<00:04,  1.58it/s, loss=0.259]\u001b[A\n",
      " 98%|█████████▊| 282/289 [02:59<00:04,  1.57it/s, loss=0.258]\u001b[A\n",
      " 98%|█████████▊| 283/289 [02:59<00:03,  1.58it/s, loss=0.258]\u001b[A\n",
      " 98%|█████████▊| 283/289 [03:00<00:03,  1.57it/s, loss=0.26] \u001b[A\n",
      " 98%|█████████▊| 284/289 [03:00<00:03,  1.58it/s, loss=0.26]\u001b[A\n",
      " 98%|█████████▊| 284/289 [03:00<00:03,  1.57it/s, loss=0.274]\u001b[A\n",
      " 99%|█████████▊| 285/289 [03:00<00:02,  1.58it/s, loss=0.274]\u001b[A\n",
      " 99%|█████████▊| 285/289 [03:01<00:02,  1.57it/s, loss=0.273]\u001b[A\n",
      " 99%|█████████▉| 286/289 [03:01<00:01,  1.58it/s, loss=0.273]\u001b[A\n",
      " 99%|█████████▉| 286/289 [03:01<00:01,  1.57it/s, loss=0.273]\u001b[A\n",
      " 99%|█████████▉| 287/289 [03:01<00:01,  1.58it/s, loss=0.273]\u001b[A\n",
      " 99%|█████████▉| 287/289 [03:02<00:01,  1.57it/s, loss=0.271]\u001b[A\n",
      "100%|█████████▉| 288/289 [03:02<00:00,  1.58it/s, loss=0.271]\u001b[A\n",
      "100%|█████████▉| 288/289 [03:02<00:00,  1.58it/s, loss=0.277]\u001b[A\n",
      "100%|██████████| 289/289 [03:02<00:00,  1.58it/s, loss=0.277]\u001b[A\n",
      "                                                             \u001b[A[ 0.       0.27705  0.69387  0.78457]\n",
      "\n",
      "CPU times: user 3min 43s, sys: 1min 19s, total: 5min 3s\n",
      "Wall time: 4min\n"
     ]
    }
   ],
   "source": [
    "size = 200\n",
    "data = get_data(size, bs = 20)\n",
    "learner.set_data(data)\n",
    "%time learner.fit(lrs=λr, n_cycle=1, cycle_len=1, cycle_mult=1)"
   ]
  },
  {
   "cell_type": "code",
   "execution_count": 39,
   "metadata": {
    "hidden": true
   },
   "outputs": [
    {
     "data": {
      "application/vnd.jupyter.widget-view+json": {
       "model_id": "3aa1eeda37de4e728cdbe199756195d8",
       "version_major": 2,
       "version_minor": 0
      },
      "text/html": [
       "<p>Failed to display Jupyter Widget of type <code>HBox</code>.</p>\n",
       "<p>\n",
       "  If you're reading this message in the Jupyter Notebook or JupyterLab Notebook, it may mean\n",
       "  that the widgets JavaScript is still loading. If this message persists, it\n",
       "  likely means that the widgets JavaScript library is either not installed or\n",
       "  not enabled. See the <a href=\"https://ipywidgets.readthedocs.io/en/stable/user_install.html\">Jupyter\n",
       "  Widgets Documentation</a> for setup instructions.\n",
       "</p>\n",
       "<p>\n",
       "  If you're reading this message in another frontend (for example, a static\n",
       "  rendering on GitHub or <a href=\"https://nbviewer.jupyter.org/\">NBViewer</a>),\n",
       "  it may mean that your frontend doesn't currently support widgets.\n",
       "</p>\n"
      ],
      "text/plain": [
       "HBox(children=(IntProgress(value=0, description='Epoch', max=1), HTML(value='')))"
      ]
     },
     "metadata": {},
     "output_type": "display_data"
    },
    {
     "name": "stdout",
     "output_type": "stream",
     "text": [
      "\n",
      "  0%|          | 0/321 [00:00<?, ?it/s]\u001b[A\n",
      "  0%|          | 0/321 [00:00<?, ?it/s, loss=0.574]\u001b[A\n",
      "  0%|          | 1/321 [00:00<04:16,  1.25it/s, loss=0.574]\u001b[A\n",
      "  0%|          | 1/321 [00:01<07:27,  1.40s/it, loss=0.397]\u001b[A\n",
      "  1%|          | 2/321 [00:01<03:44,  1.42it/s, loss=0.397]\u001b[A\n",
      "  1%|          | 2/321 [00:02<05:19,  1.00s/it, loss=0.317]\u001b[A\n",
      "  1%|          | 3/321 [00:02<03:33,  1.49it/s, loss=0.317]\u001b[A\n",
      "  1%|          | 3/321 [00:02<04:37,  1.15it/s, loss=0.283]\u001b[A\n",
      "  1%|          | 4/321 [00:02<03:27,  1.53it/s, loss=0.283]\u001b[A\n",
      "  1%|          | 4/321 [00:03<04:15,  1.24it/s, loss=0.259]\u001b[A\n",
      "  2%|▏         | 5/321 [00:03<03:23,  1.55it/s, loss=0.259]\u001b[A\n",
      "  2%|▏         | 5/321 [00:03<04:01,  1.31it/s, loss=0.275]\u001b[A\n",
      "  2%|▏         | 6/321 [00:03<03:21,  1.57it/s, loss=0.275]\u001b[A\n",
      "  2%|▏         | 6/321 [00:04<03:52,  1.35it/s, loss=0.272]\u001b[A\n",
      "  2%|▏         | 7/321 [00:04<03:19,  1.58it/s, loss=0.272]\u001b[A\n",
      "  2%|▏         | 7/321 [00:05<03:46,  1.39it/s, loss=0.26] \u001b[A\n",
      "  2%|▏         | 8/321 [00:05<03:17,  1.59it/s, loss=0.26]\u001b[A\n",
      "  2%|▏         | 8/321 [00:05<03:40,  1.42it/s, loss=0.296]\u001b[A\n",
      "  3%|▎         | 9/321 [00:05<03:15,  1.59it/s, loss=0.296]\u001b[A\n",
      "  3%|▎         | 9/321 [00:06<03:36,  1.44it/s, loss=0.289]\u001b[A\n",
      "  3%|▎         | 10/321 [00:06<03:14,  1.60it/s, loss=0.289]\u001b[A\n",
      "  3%|▎         | 10/321 [00:06<03:33,  1.46it/s, loss=0.279]\u001b[A\n",
      "  3%|▎         | 11/321 [00:06<03:13,  1.60it/s, loss=0.279]\u001b[A\n",
      "  3%|▎         | 11/321 [00:07<03:30,  1.47it/s, loss=0.28] \u001b[A\n",
      "  4%|▎         | 12/321 [00:07<03:12,  1.61it/s, loss=0.28]\u001b[A\n",
      "  4%|▎         | 12/321 [00:08<03:27,  1.49it/s, loss=0.282]\u001b[A\n",
      "  4%|▍         | 13/321 [00:08<03:11,  1.61it/s, loss=0.282]\u001b[A\n",
      "  4%|▍         | 13/321 [00:08<03:25,  1.50it/s, loss=0.285]\u001b[A\n",
      "  4%|▍         | 14/321 [00:08<03:10,  1.61it/s, loss=0.285]\u001b[A\n",
      "  4%|▍         | 14/321 [00:09<03:23,  1.51it/s, loss=0.296]\u001b[A\n",
      "  5%|▍         | 15/321 [00:09<03:09,  1.61it/s, loss=0.296]\u001b[A\n",
      "  5%|▍         | 15/321 [00:09<03:21,  1.52it/s, loss=0.326]\u001b[A\n",
      "  5%|▍         | 16/321 [00:09<03:08,  1.62it/s, loss=0.326]\u001b[A\n",
      "  5%|▍         | 16/321 [00:10<03:20,  1.52it/s, loss=0.324]\u001b[A\n",
      "  5%|▌         | 17/321 [00:10<03:07,  1.62it/s, loss=0.324]\u001b[A\n",
      "  5%|▌         | 17/321 [00:11<03:18,  1.53it/s, loss=0.319]\u001b[A\n",
      "  6%|▌         | 18/321 [00:11<03:06,  1.62it/s, loss=0.319]\u001b[A\n",
      "  6%|▌         | 18/321 [00:11<03:17,  1.54it/s, loss=0.31] \u001b[A\n",
      "  6%|▌         | 19/321 [00:11<03:06,  1.62it/s, loss=0.31]\u001b[A\n",
      "  6%|▌         | 19/321 [00:12<03:15,  1.54it/s, loss=0.315]\u001b[A\n",
      "  6%|▌         | 20/321 [00:12<03:05,  1.62it/s, loss=0.315]\u001b[A\n",
      "  6%|▌         | 20/321 [00:12<03:14,  1.55it/s, loss=0.314]\u001b[A\n",
      "  7%|▋         | 21/321 [00:12<03:04,  1.63it/s, loss=0.314]\u001b[A\n",
      "  7%|▋         | 21/321 [00:13<03:13,  1.55it/s, loss=0.32] \u001b[A\n",
      "  7%|▋         | 22/321 [00:13<03:03,  1.63it/s, loss=0.32]\u001b[A\n",
      "  7%|▋         | 22/321 [00:14<03:11,  1.56it/s, loss=0.322]\u001b[A\n",
      "  7%|▋         | 23/321 [00:14<03:03,  1.63it/s, loss=0.322]\u001b[A\n",
      "  7%|▋         | 23/321 [00:14<03:10,  1.56it/s, loss=0.316]\u001b[A\n",
      "  7%|▋         | 24/321 [00:14<03:02,  1.63it/s, loss=0.316]\u001b[A\n",
      "  7%|▋         | 24/321 [00:15<03:09,  1.57it/s, loss=0.307]\u001b[A\n",
      "  8%|▊         | 25/321 [00:15<03:01,  1.63it/s, loss=0.307]\u001b[A\n",
      "  8%|▊         | 25/321 [00:15<03:08,  1.57it/s, loss=0.307]\u001b[A\n",
      "  8%|▊         | 26/321 [00:15<03:00,  1.63it/s, loss=0.307]\u001b[A\n",
      "  8%|▊         | 26/321 [00:16<03:07,  1.57it/s, loss=0.305]\u001b[A\n",
      "  8%|▊         | 27/321 [00:16<03:00,  1.63it/s, loss=0.305]\u001b[A\n",
      "  8%|▊         | 27/321 [00:17<03:06,  1.57it/s, loss=0.296]\u001b[A\n",
      "  9%|▊         | 28/321 [00:17<02:59,  1.63it/s, loss=0.296]\u001b[A\n",
      "  9%|▊         | 28/321 [00:17<03:05,  1.58it/s, loss=0.293]\u001b[A\n",
      "  9%|▉         | 29/321 [00:17<02:58,  1.63it/s, loss=0.293]\u001b[A\n",
      "  9%|▉         | 29/321 [00:18<03:04,  1.58it/s, loss=0.295]\u001b[A\n",
      "  9%|▉         | 30/321 [00:18<02:58,  1.63it/s, loss=0.295]\u001b[A\n",
      "  9%|▉         | 30/321 [00:18<03:04,  1.58it/s, loss=0.295]\u001b[A\n",
      " 10%|▉         | 31/321 [00:18<02:57,  1.63it/s, loss=0.295]\u001b[A\n",
      " 10%|▉         | 31/321 [00:19<03:03,  1.58it/s, loss=0.299]\u001b[A\n",
      " 10%|▉         | 32/321 [00:19<02:56,  1.63it/s, loss=0.299]\u001b[A\n",
      " 10%|▉         | 32/321 [00:20<03:02,  1.59it/s, loss=0.298]\u001b[A\n",
      " 10%|█         | 33/321 [00:20<02:56,  1.64it/s, loss=0.298]\u001b[A\n",
      " 10%|█         | 33/321 [00:20<03:01,  1.59it/s, loss=0.318]\u001b[A\n",
      " 11%|█         | 34/321 [00:20<02:55,  1.64it/s, loss=0.318]\u001b[A\n",
      " 11%|█         | 34/321 [00:21<03:00,  1.59it/s, loss=0.316]\u001b[A\n",
      " 11%|█         | 35/321 [00:21<02:54,  1.64it/s, loss=0.316]\u001b[A\n",
      " 11%|█         | 35/321 [00:21<02:59,  1.59it/s, loss=0.315]\u001b[A\n",
      " 11%|█         | 36/321 [00:21<02:54,  1.64it/s, loss=0.315]\u001b[A\n",
      " 11%|█         | 36/321 [00:22<02:58,  1.59it/s, loss=0.313]\u001b[A\n",
      " 12%|█▏        | 37/321 [00:22<02:53,  1.64it/s, loss=0.313]\u001b[A\n",
      " 12%|█▏        | 37/321 [00:23<02:58,  1.59it/s, loss=0.309]\u001b[A\n",
      " 12%|█▏        | 38/321 [00:23<02:52,  1.64it/s, loss=0.309]\u001b[A\n",
      " 12%|█▏        | 38/321 [00:23<02:57,  1.60it/s, loss=0.314]\u001b[A\n",
      " 12%|█▏        | 39/321 [00:23<02:52,  1.64it/s, loss=0.314]\u001b[A\n",
      " 12%|█▏        | 39/321 [00:24<02:56,  1.60it/s, loss=0.319]\u001b[A\n",
      " 12%|█▏        | 40/321 [00:24<02:51,  1.64it/s, loss=0.319]\u001b[A\n",
      " 12%|█▏        | 40/321 [00:25<02:55,  1.60it/s, loss=0.317]\u001b[A\n",
      " 13%|█▎        | 41/321 [00:25<02:50,  1.64it/s, loss=0.317]\u001b[A\n",
      " 13%|█▎        | 41/321 [00:25<02:55,  1.60it/s, loss=0.321]\u001b[A\n",
      " 13%|█▎        | 42/321 [00:25<02:50,  1.64it/s, loss=0.321]\u001b[A\n",
      " 13%|█▎        | 42/321 [00:26<02:54,  1.60it/s, loss=0.315]\u001b[A\n",
      " 13%|█▎        | 43/321 [00:26<02:49,  1.64it/s, loss=0.315]\u001b[A\n",
      " 13%|█▎        | 43/321 [00:26<02:53,  1.60it/s, loss=0.321]\u001b[A\n",
      " 14%|█▎        | 44/321 [00:26<02:48,  1.64it/s, loss=0.321]\u001b[A\n",
      " 14%|█▎        | 44/321 [00:27<02:52,  1.60it/s, loss=0.314]\u001b[A\n",
      " 14%|█▍        | 45/321 [00:27<02:48,  1.64it/s, loss=0.314]\u001b[A\n",
      " 14%|█▍        | 45/321 [00:28<02:52,  1.60it/s, loss=0.314]\u001b[A\n",
      " 14%|█▍        | 46/321 [00:28<02:47,  1.64it/s, loss=0.314]\u001b[A\n",
      " 14%|█▍        | 46/321 [00:28<02:51,  1.61it/s, loss=0.311]\u001b[A\n",
      " 15%|█▍        | 47/321 [00:28<02:47,  1.64it/s, loss=0.311]\u001b[A\n",
      " 15%|█▍        | 47/321 [00:29<02:50,  1.61it/s, loss=0.323]\u001b[A\n",
      " 15%|█▍        | 48/321 [00:29<02:46,  1.64it/s, loss=0.323]\u001b[A\n",
      " 15%|█▍        | 48/321 [00:29<02:49,  1.61it/s, loss=0.318]\u001b[A\n",
      " 15%|█▌        | 49/321 [00:29<02:45,  1.64it/s, loss=0.318]\u001b[A\n",
      " 15%|█▌        | 49/321 [00:30<02:49,  1.61it/s, loss=0.319]\u001b[A\n",
      " 16%|█▌        | 50/321 [00:30<02:45,  1.64it/s, loss=0.319]\u001b[A\n",
      " 16%|█▌        | 50/321 [00:31<02:48,  1.61it/s, loss=0.315]\u001b[A\n",
      " 16%|█▌        | 51/321 [00:31<02:44,  1.64it/s, loss=0.315]\u001b[A\n",
      " 16%|█▌        | 51/321 [00:31<02:47,  1.61it/s, loss=0.313]\u001b[A\n",
      " 16%|█▌        | 52/321 [00:31<02:43,  1.64it/s, loss=0.313]\u001b[A\n",
      " 16%|█▌        | 52/321 [00:32<02:47,  1.61it/s, loss=0.31] \u001b[A\n",
      " 17%|█▋        | 53/321 [00:32<02:43,  1.64it/s, loss=0.31]\u001b[A\n",
      " 17%|█▋        | 53/321 [00:32<02:46,  1.61it/s, loss=0.317]\u001b[A\n",
      " 17%|█▋        | 54/321 [00:32<02:42,  1.64it/s, loss=0.317]\u001b[A\n",
      " 17%|█▋        | 54/321 [00:33<02:45,  1.61it/s, loss=0.323]\u001b[A\n",
      " 17%|█▋        | 55/321 [00:33<02:42,  1.64it/s, loss=0.323]\u001b[A\n",
      " 17%|█▋        | 55/321 [00:34<02:44,  1.61it/s, loss=0.323]\u001b[A\n",
      " 17%|█▋        | 56/321 [00:34<02:41,  1.64it/s, loss=0.323]\u001b[A\n",
      " 17%|█▋        | 56/321 [00:34<02:44,  1.61it/s, loss=0.324]\u001b[A\n",
      " 18%|█▊        | 57/321 [00:34<02:40,  1.64it/s, loss=0.324]\u001b[A\n",
      " 18%|█▊        | 57/321 [00:35<02:43,  1.61it/s, loss=0.326]\u001b[A\n",
      " 18%|█▊        | 58/321 [00:35<02:40,  1.64it/s, loss=0.326]\u001b[A\n",
      " 18%|█▊        | 58/321 [00:35<02:42,  1.62it/s, loss=0.321]\u001b[A\n",
      " 18%|█▊        | 59/321 [00:35<02:39,  1.64it/s, loss=0.321]\u001b[A\n",
      " 18%|█▊        | 59/321 [00:36<02:42,  1.62it/s, loss=0.316]\u001b[A\n",
      " 19%|█▊        | 60/321 [00:36<02:38,  1.64it/s, loss=0.316]\u001b[A\n",
      " 19%|█▊        | 60/321 [00:37<02:41,  1.62it/s, loss=0.314]\u001b[A\n",
      " 19%|█▉        | 61/321 [00:37<02:38,  1.64it/s, loss=0.314]\u001b[A\n",
      " 19%|█▉        | 61/321 [00:37<02:40,  1.62it/s, loss=0.31] \u001b[A\n",
      " 19%|█▉        | 62/321 [00:37<02:37,  1.64it/s, loss=0.31]\u001b[A\n",
      " 19%|█▉        | 62/321 [00:38<02:40,  1.62it/s, loss=0.315]\u001b[A\n",
      " 20%|█▉        | 63/321 [00:38<02:36,  1.64it/s, loss=0.315]\u001b[A\n",
      " 20%|█▉        | 63/321 [00:38<02:39,  1.62it/s, loss=0.316]\u001b[A\n",
      " 20%|█▉        | 64/321 [00:38<02:36,  1.64it/s, loss=0.316]\u001b[A\n",
      " 20%|█▉        | 64/321 [00:39<02:38,  1.62it/s, loss=0.319]\u001b[A\n",
      " 20%|██        | 65/321 [00:39<02:35,  1.64it/s, loss=0.319]\u001b[A\n",
      " 20%|██        | 65/321 [00:40<02:38,  1.62it/s, loss=0.318]\u001b[A\n",
      " 21%|██        | 66/321 [00:40<02:35,  1.64it/s, loss=0.318]\u001b[A\n",
      " 21%|██        | 66/321 [00:40<02:37,  1.62it/s, loss=0.321]\u001b[A\n",
      " 21%|██        | 67/321 [00:40<02:34,  1.64it/s, loss=0.321]\u001b[A\n",
      " 21%|██        | 67/321 [00:41<02:36,  1.62it/s, loss=0.327]\u001b[A\n",
      " 21%|██        | 68/321 [00:41<02:33,  1.64it/s, loss=0.327]\u001b[A\n",
      " 21%|██        | 68/321 [00:41<02:36,  1.62it/s, loss=0.326]\u001b[A\n",
      " 21%|██▏       | 69/321 [00:41<02:33,  1.64it/s, loss=0.326]\u001b[A\n",
      " 21%|██▏       | 69/321 [00:42<02:35,  1.62it/s, loss=0.323]\u001b[A\n",
      " 22%|██▏       | 70/321 [00:42<02:32,  1.64it/s, loss=0.323]\u001b[A\n",
      " 22%|██▏       | 70/321 [00:43<02:34,  1.62it/s, loss=0.324]\u001b[A\n",
      " 22%|██▏       | 71/321 [00:43<02:32,  1.64it/s, loss=0.324]\u001b[A\n",
      " 22%|██▏       | 71/321 [00:43<02:34,  1.62it/s, loss=0.321]\u001b[A\n",
      " 22%|██▏       | 72/321 [00:43<02:31,  1.64it/s, loss=0.321]\u001b[A\n",
      " 22%|██▏       | 72/321 [00:44<02:33,  1.62it/s, loss=0.318]\u001b[A\n",
      " 23%|██▎       | 73/321 [00:44<02:30,  1.64it/s, loss=0.318]\u001b[A\n",
      " 23%|██▎       | 73/321 [00:44<02:32,  1.62it/s, loss=0.313]\u001b[A\n",
      " 23%|██▎       | 74/321 [00:44<02:30,  1.64it/s, loss=0.313]\u001b[A\n",
      " 23%|██▎       | 74/321 [00:45<02:32,  1.62it/s, loss=0.309]\u001b[A\n",
      " 23%|██▎       | 75/321 [00:45<02:29,  1.64it/s, loss=0.309]\u001b[A\n",
      " 23%|██▎       | 75/321 [00:46<02:31,  1.62it/s, loss=0.311]\u001b[A\n",
      " 24%|██▎       | 76/321 [00:46<02:28,  1.65it/s, loss=0.311]\u001b[A\n",
      " 24%|██▎       | 76/321 [00:46<02:30,  1.62it/s, loss=0.311]\u001b[A\n",
      " 24%|██▍       | 77/321 [00:46<02:28,  1.65it/s, loss=0.311]\u001b[A\n",
      " 24%|██▍       | 77/321 [00:47<02:30,  1.62it/s, loss=0.315]\u001b[A\n",
      " 24%|██▍       | 78/321 [00:47<02:27,  1.65it/s, loss=0.315]\u001b[A\n",
      " 24%|██▍       | 78/321 [00:48<02:29,  1.62it/s, loss=0.313]\u001b[A\n",
      " 25%|██▍       | 79/321 [00:48<02:27,  1.65it/s, loss=0.313]\u001b[A\n",
      " 25%|██▍       | 79/321 [00:48<02:28,  1.63it/s, loss=0.313]\u001b[A\n",
      " 25%|██▍       | 80/321 [00:48<02:26,  1.65it/s, loss=0.313]\u001b[A\n",
      " 25%|██▍       | 80/321 [00:49<02:28,  1.63it/s, loss=0.312]\u001b[A\n",
      " 25%|██▌       | 81/321 [00:49<02:25,  1.65it/s, loss=0.312]\u001b[A\n",
      " 25%|██▌       | 81/321 [00:49<02:27,  1.63it/s, loss=0.31] \u001b[A\n",
      " 26%|██▌       | 82/321 [00:49<02:25,  1.65it/s, loss=0.31]\u001b[A\n",
      " 26%|██▌       | 82/321 [00:50<02:26,  1.63it/s, loss=0.309]\u001b[A\n",
      " 26%|██▌       | 83/321 [00:50<02:24,  1.65it/s, loss=0.309]\u001b[A\n",
      " 26%|██▌       | 83/321 [00:51<02:26,  1.63it/s, loss=0.308]\u001b[A\n",
      " 26%|██▌       | 84/321 [00:51<02:23,  1.65it/s, loss=0.308]\u001b[A\n",
      " 26%|██▌       | 84/321 [00:51<02:25,  1.63it/s, loss=0.314]\u001b[A\n",
      " 26%|██▋       | 85/321 [00:51<02:23,  1.65it/s, loss=0.314]\u001b[A\n",
      " 26%|██▋       | 85/321 [00:52<02:25,  1.63it/s, loss=0.315]\u001b[A\n",
      " 27%|██▋       | 86/321 [00:52<02:22,  1.65it/s, loss=0.315]\u001b[A\n",
      " 27%|██▋       | 86/321 [00:52<02:24,  1.63it/s, loss=0.317]\u001b[A\n",
      " 27%|██▋       | 87/321 [00:52<02:22,  1.65it/s, loss=0.317]\u001b[A\n",
      " 27%|██▋       | 87/321 [00:53<02:23,  1.63it/s, loss=0.315]\u001b[A\n",
      " 27%|██▋       | 88/321 [00:53<02:21,  1.65it/s, loss=0.315]\u001b[A\n",
      " 27%|██▋       | 88/321 [00:54<02:23,  1.63it/s, loss=0.318]\u001b[A\n",
      " 28%|██▊       | 89/321 [00:54<02:20,  1.65it/s, loss=0.318]\u001b[A\n",
      " 28%|██▊       | 89/321 [00:54<02:22,  1.63it/s, loss=0.316]\u001b[A\n",
      " 28%|██▊       | 90/321 [00:54<02:20,  1.65it/s, loss=0.316]\u001b[A\n",
      " 28%|██▊       | 90/321 [00:55<02:21,  1.63it/s, loss=0.314]\u001b[A\n",
      " 28%|██▊       | 91/321 [00:55<02:19,  1.65it/s, loss=0.314]\u001b[A\n",
      " 28%|██▊       | 91/321 [00:55<02:21,  1.63it/s, loss=0.313]\u001b[A\n",
      " 29%|██▊       | 92/321 [00:55<02:19,  1.65it/s, loss=0.313]\u001b[A\n",
      " 29%|██▊       | 92/321 [00:56<02:20,  1.63it/s, loss=0.313]\u001b[A\n",
      " 29%|██▉       | 93/321 [00:56<02:18,  1.65it/s, loss=0.313]\u001b[A\n",
      " 29%|██▉       | 93/321 [00:57<02:19,  1.63it/s, loss=0.309]\u001b[A\n",
      " 29%|██▉       | 94/321 [00:57<02:17,  1.65it/s, loss=0.309]\u001b[A\n",
      " 29%|██▉       | 94/321 [00:57<02:19,  1.63it/s, loss=0.307]\u001b[A\n",
      " 30%|██▉       | 95/321 [00:57<02:17,  1.65it/s, loss=0.307]\u001b[A\n",
      " 30%|██▉       | 95/321 [00:58<02:18,  1.63it/s, loss=0.311]\u001b[A\n",
      " 30%|██▉       | 96/321 [00:58<02:16,  1.65it/s, loss=0.311]\u001b[A\n",
      " 30%|██▉       | 96/321 [00:58<02:18,  1.63it/s, loss=0.31] \u001b[A\n",
      " 30%|███       | 97/321 [00:58<02:16,  1.65it/s, loss=0.31]\u001b[A\n",
      " 30%|███       | 97/321 [00:59<02:17,  1.63it/s, loss=0.311]\u001b[A\n",
      " 31%|███       | 98/321 [00:59<02:15,  1.65it/s, loss=0.311]\u001b[A\n",
      " 31%|███       | 98/321 [01:00<02:16,  1.63it/s, loss=0.31] \u001b[A\n",
      " 31%|███       | 99/321 [01:00<02:14,  1.65it/s, loss=0.31]\u001b[A\n",
      " 31%|███       | 99/321 [01:00<02:16,  1.63it/s, loss=0.308]\u001b[A\n",
      " 31%|███       | 100/321 [01:00<02:14,  1.65it/s, loss=0.308]\u001b[A\n",
      " 31%|███       | 100/321 [01:01<02:15,  1.63it/s, loss=0.305]\u001b[A\n",
      " 31%|███▏      | 101/321 [01:01<02:13,  1.65it/s, loss=0.305]\u001b[A\n",
      " 31%|███▏      | 101/321 [01:01<02:14,  1.63it/s, loss=0.305]\u001b[A\n",
      " 32%|███▏      | 102/321 [01:01<02:12,  1.65it/s, loss=0.305]\u001b[A\n",
      " 32%|███▏      | 102/321 [01:02<02:14,  1.63it/s, loss=0.302]\u001b[A\n",
      " 32%|███▏      | 103/321 [01:02<02:12,  1.65it/s, loss=0.302]\u001b[A\n",
      " 32%|███▏      | 103/321 [01:03<02:13,  1.63it/s, loss=0.302]\u001b[A\n",
      " 32%|███▏      | 104/321 [01:03<02:11,  1.65it/s, loss=0.302]\u001b[A\n",
      " 32%|███▏      | 104/321 [01:03<02:13,  1.63it/s, loss=0.304]\u001b[A\n",
      " 33%|███▎      | 105/321 [01:03<02:11,  1.65it/s, loss=0.304]\u001b[A\n",
      " 33%|███▎      | 105/321 [01:04<02:12,  1.63it/s, loss=0.306]\u001b[A\n",
      " 33%|███▎      | 106/321 [01:04<02:10,  1.65it/s, loss=0.306]\u001b[A\n",
      " 33%|███▎      | 106/321 [01:04<02:11,  1.63it/s, loss=0.304]\u001b[A\n",
      " 33%|███▎      | 107/321 [01:04<02:09,  1.65it/s, loss=0.304]\u001b[A\n",
      " 33%|███▎      | 107/321 [01:05<02:11,  1.63it/s, loss=0.311]\u001b[A\n",
      " 34%|███▎      | 108/321 [01:05<02:09,  1.65it/s, loss=0.311]\u001b[A\n",
      " 34%|███▎      | 108/321 [01:06<02:10,  1.63it/s, loss=0.309]\u001b[A\n",
      " 34%|███▍      | 109/321 [01:06<02:08,  1.65it/s, loss=0.309]\u001b[A\n",
      " 34%|███▍      | 109/321 [01:06<02:09,  1.63it/s, loss=0.307]\u001b[A\n",
      " 34%|███▍      | 110/321 [01:06<02:08,  1.65it/s, loss=0.307]\u001b[A\n",
      " 34%|███▍      | 110/321 [01:07<02:09,  1.63it/s, loss=0.307]\u001b[A\n",
      " 35%|███▍      | 111/321 [01:07<02:07,  1.65it/s, loss=0.307]\u001b[A\n",
      " 35%|███▍      | 111/321 [01:08<02:08,  1.63it/s, loss=0.31] \u001b[A\n",
      " 35%|███▍      | 112/321 [01:08<02:06,  1.65it/s, loss=0.31]\u001b[A\n",
      " 35%|███▍      | 112/321 [01:08<02:08,  1.63it/s, loss=0.309]\u001b[A\n",
      " 35%|███▌      | 113/321 [01:08<02:06,  1.65it/s, loss=0.309]\u001b[A\n",
      " 35%|███▌      | 113/321 [01:09<02:07,  1.63it/s, loss=0.313]\u001b[A\n",
      " 36%|███▌      | 114/321 [01:09<02:05,  1.65it/s, loss=0.313]\u001b[A\n",
      " 36%|███▌      | 114/321 [01:09<02:06,  1.63it/s, loss=0.323]\u001b[A\n",
      " 36%|███▌      | 115/321 [01:09<02:05,  1.65it/s, loss=0.323]\u001b[A\n",
      " 36%|███▌      | 115/321 [01:10<02:06,  1.63it/s, loss=0.32] \u001b[A\n",
      " 36%|███▌      | 116/321 [01:10<02:04,  1.65it/s, loss=0.32]\u001b[A\n",
      " 36%|███▌      | 116/321 [01:11<02:05,  1.63it/s, loss=0.316]\u001b[A\n",
      " 36%|███▋      | 117/321 [01:11<02:03,  1.65it/s, loss=0.316]\u001b[A\n",
      " 36%|███▋      | 117/321 [01:11<02:04,  1.63it/s, loss=0.312]\u001b[A\n",
      " 37%|███▋      | 118/321 [01:11<02:03,  1.65it/s, loss=0.312]\u001b[A\n",
      " 37%|███▋      | 118/321 [01:12<02:04,  1.63it/s, loss=0.309]\u001b[A\n",
      " 37%|███▋      | 119/321 [01:12<02:02,  1.65it/s, loss=0.309]\u001b[A\n",
      " 37%|███▋      | 119/321 [01:12<02:03,  1.63it/s, loss=0.306]\u001b[A\n",
      " 37%|███▋      | 120/321 [01:12<02:02,  1.65it/s, loss=0.306]\u001b[A\n",
      " 37%|███▋      | 120/321 [01:13<02:03,  1.63it/s, loss=0.307]\u001b[A\n",
      " 38%|███▊      | 121/321 [01:13<02:01,  1.65it/s, loss=0.307]\u001b[A\n",
      " 38%|███▊      | 121/321 [01:14<02:02,  1.63it/s, loss=0.307]\u001b[A\n",
      " 38%|███▊      | 122/321 [01:14<02:00,  1.65it/s, loss=0.307]\u001b[A\n",
      " 38%|███▊      | 122/321 [01:14<02:01,  1.63it/s, loss=0.313]\u001b[A\n",
      " 38%|███▊      | 123/321 [01:14<02:00,  1.65it/s, loss=0.313]\u001b[A\n",
      " 38%|███▊      | 123/321 [01:15<02:01,  1.63it/s, loss=0.311]\u001b[A\n",
      " 39%|███▊      | 124/321 [01:15<01:59,  1.65it/s, loss=0.311]\u001b[A\n",
      " 39%|███▊      | 124/321 [01:15<02:00,  1.63it/s, loss=0.31] \u001b[A\n",
      " 39%|███▉      | 125/321 [01:15<01:59,  1.65it/s, loss=0.31]\u001b[A\n",
      " 39%|███▉      | 125/321 [01:16<01:59,  1.63it/s, loss=0.306]\u001b[A\n",
      " 39%|███▉      | 126/321 [01:16<01:58,  1.65it/s, loss=0.306]\u001b[A\n",
      " 39%|███▉      | 126/321 [01:17<01:59,  1.63it/s, loss=0.303]\u001b[A\n",
      " 40%|███▉      | 127/321 [01:17<01:57,  1.65it/s, loss=0.303]\u001b[A\n"
     ]
    },
    {
     "name": "stdout",
     "output_type": "stream",
     "text": [
      " 40%|███▉      | 127/321 [01:17<01:58,  1.63it/s, loss=0.301]\u001b[A\n",
      " 40%|███▉      | 128/321 [01:17<01:57,  1.65it/s, loss=0.301]\u001b[A\n",
      " 40%|███▉      | 128/321 [01:18<01:58,  1.63it/s, loss=0.3]  \u001b[A\n",
      " 40%|████      | 129/321 [01:18<01:56,  1.65it/s, loss=0.3]\u001b[A\n",
      " 40%|████      | 129/321 [01:18<01:57,  1.63it/s, loss=0.302]\u001b[A\n",
      " 40%|████      | 130/321 [01:18<01:55,  1.65it/s, loss=0.302]\u001b[A\n",
      " 40%|████      | 130/321 [01:19<01:56,  1.63it/s, loss=0.301]\u001b[A\n",
      " 41%|████      | 131/321 [01:19<01:55,  1.65it/s, loss=0.301]\u001b[A\n",
      " 41%|████      | 131/321 [01:20<01:56,  1.63it/s, loss=0.301]\u001b[A\n",
      " 41%|████      | 132/321 [01:20<01:54,  1.65it/s, loss=0.301]\u001b[A\n",
      " 41%|████      | 132/321 [01:20<01:55,  1.63it/s, loss=0.3]  \u001b[A\n",
      " 41%|████▏     | 133/321 [01:20<01:54,  1.65it/s, loss=0.3]\u001b[A\n",
      " 41%|████▏     | 133/321 [01:21<01:54,  1.63it/s, loss=0.301]\u001b[A\n",
      " 42%|████▏     | 134/321 [01:21<01:53,  1.65it/s, loss=0.301]\u001b[A\n",
      " 42%|████▏     | 134/321 [01:21<01:54,  1.64it/s, loss=0.298]\u001b[A\n",
      " 42%|████▏     | 135/321 [01:21<01:52,  1.65it/s, loss=0.298]\u001b[A\n",
      " 42%|████▏     | 135/321 [01:22<01:53,  1.64it/s, loss=0.303]\u001b[A\n",
      " 42%|████▏     | 136/321 [01:22<01:52,  1.65it/s, loss=0.303]\u001b[A\n",
      " 42%|████▏     | 136/321 [01:23<01:53,  1.64it/s, loss=0.305]\u001b[A\n",
      " 43%|████▎     | 137/321 [01:23<01:51,  1.65it/s, loss=0.305]\u001b[A\n",
      " 43%|████▎     | 137/321 [01:23<01:52,  1.64it/s, loss=0.303]\u001b[A\n",
      " 43%|████▎     | 138/321 [01:23<01:51,  1.65it/s, loss=0.303]\u001b[A\n",
      " 43%|████▎     | 138/321 [01:24<01:51,  1.64it/s, loss=0.3]  \u001b[A\n",
      " 43%|████▎     | 139/321 [01:24<01:50,  1.65it/s, loss=0.3]\u001b[A\n",
      " 43%|████▎     | 139/321 [01:24<01:51,  1.64it/s, loss=0.297]\u001b[A\n",
      " 44%|████▎     | 140/321 [01:24<01:49,  1.65it/s, loss=0.297]\u001b[A\n",
      " 44%|████▎     | 140/321 [01:25<01:50,  1.64it/s, loss=0.294]\u001b[A\n",
      " 44%|████▍     | 141/321 [01:25<01:49,  1.65it/s, loss=0.294]\u001b[A\n",
      " 44%|████▍     | 141/321 [01:26<01:50,  1.64it/s, loss=0.295]\u001b[A\n",
      " 44%|████▍     | 142/321 [01:26<01:48,  1.65it/s, loss=0.295]\u001b[A\n",
      " 44%|████▍     | 142/321 [01:26<01:49,  1.64it/s, loss=0.29] \u001b[A\n",
      " 45%|████▍     | 143/321 [01:26<01:48,  1.65it/s, loss=0.29]\u001b[A\n",
      " 45%|████▍     | 143/321 [01:27<01:48,  1.64it/s, loss=0.291]\u001b[A\n",
      " 45%|████▍     | 144/321 [01:27<01:47,  1.65it/s, loss=0.291]\u001b[A\n",
      " 45%|████▍     | 144/321 [01:28<01:48,  1.64it/s, loss=0.291]\u001b[A\n",
      " 45%|████▌     | 145/321 [01:28<01:46,  1.65it/s, loss=0.291]\u001b[A\n",
      " 45%|████▌     | 145/321 [01:28<01:47,  1.64it/s, loss=0.29] \u001b[A\n",
      " 45%|████▌     | 146/321 [01:28<01:46,  1.65it/s, loss=0.29]\u001b[A\n",
      " 45%|████▌     | 146/321 [01:29<01:46,  1.64it/s, loss=0.287]\u001b[A\n",
      " 46%|████▌     | 147/321 [01:29<01:45,  1.65it/s, loss=0.287]\u001b[A\n",
      " 46%|████▌     | 147/321 [01:29<01:46,  1.64it/s, loss=0.29] \u001b[A\n",
      " 46%|████▌     | 148/321 [01:29<01:45,  1.65it/s, loss=0.29]\u001b[A\n",
      " 46%|████▌     | 148/321 [01:30<01:45,  1.64it/s, loss=0.29]\u001b[A\n",
      " 46%|████▋     | 149/321 [01:30<01:44,  1.65it/s, loss=0.29]\u001b[A\n",
      " 46%|████▋     | 149/321 [01:31<01:45,  1.64it/s, loss=0.289]\u001b[A\n",
      " 47%|████▋     | 150/321 [01:31<01:43,  1.65it/s, loss=0.289]\u001b[A\n",
      " 47%|████▋     | 150/321 [01:31<01:44,  1.64it/s, loss=0.286]\u001b[A\n",
      " 47%|████▋     | 151/321 [01:31<01:43,  1.65it/s, loss=0.286]\u001b[A\n",
      " 47%|████▋     | 151/321 [01:32<01:43,  1.64it/s, loss=0.282]\u001b[A\n",
      " 47%|████▋     | 152/321 [01:32<01:42,  1.65it/s, loss=0.282]\u001b[A\n",
      " 47%|████▋     | 152/321 [01:32<01:43,  1.64it/s, loss=0.282]\u001b[A\n",
      " 48%|████▊     | 153/321 [01:32<01:41,  1.65it/s, loss=0.282]\u001b[A\n",
      " 48%|████▊     | 153/321 [01:33<01:42,  1.64it/s, loss=0.282]\u001b[A\n",
      " 48%|████▊     | 154/321 [01:33<01:41,  1.65it/s, loss=0.282]\u001b[A\n",
      " 48%|████▊     | 154/321 [01:34<01:42,  1.64it/s, loss=0.279]\u001b[A\n",
      " 48%|████▊     | 155/321 [01:34<01:40,  1.65it/s, loss=0.279]\u001b[A\n",
      " 48%|████▊     | 155/321 [01:34<01:41,  1.64it/s, loss=0.278]\u001b[A\n",
      " 49%|████▊     | 156/321 [01:34<01:40,  1.65it/s, loss=0.278]\u001b[A\n",
      " 49%|████▊     | 156/321 [01:35<01:40,  1.64it/s, loss=0.275]\u001b[A\n",
      " 49%|████▉     | 157/321 [01:35<01:39,  1.65it/s, loss=0.275]\u001b[A\n",
      " 49%|████▉     | 157/321 [01:35<01:40,  1.64it/s, loss=0.274]\u001b[A\n",
      " 49%|████▉     | 158/321 [01:35<01:38,  1.65it/s, loss=0.274]\u001b[A\n",
      " 49%|████▉     | 158/321 [01:36<01:39,  1.64it/s, loss=0.273]\u001b[A\n",
      " 50%|████▉     | 159/321 [01:36<01:38,  1.65it/s, loss=0.273]\u001b[A\n",
      " 50%|████▉     | 159/321 [01:37<01:38,  1.64it/s, loss=0.271]\u001b[A\n",
      " 50%|████▉     | 160/321 [01:37<01:37,  1.65it/s, loss=0.271]\u001b[A\n",
      " 50%|████▉     | 160/321 [01:37<01:38,  1.64it/s, loss=0.272]\u001b[A\n",
      " 50%|█████     | 161/321 [01:37<01:37,  1.65it/s, loss=0.272]\u001b[A\n",
      " 50%|█████     | 161/321 [01:38<01:37,  1.64it/s, loss=0.269]\u001b[A\n",
      " 50%|█████     | 162/321 [01:38<01:36,  1.65it/s, loss=0.269]\u001b[A\n",
      " 50%|█████     | 162/321 [01:38<01:37,  1.64it/s, loss=0.266]\u001b[A\n",
      " 51%|█████     | 163/321 [01:38<01:35,  1.65it/s, loss=0.266]\u001b[A\n",
      " 51%|█████     | 163/321 [01:39<01:36,  1.64it/s, loss=0.268]\u001b[A\n",
      " 51%|█████     | 164/321 [01:39<01:35,  1.65it/s, loss=0.268]\u001b[A\n",
      " 51%|█████     | 164/321 [01:40<01:35,  1.64it/s, loss=0.267]\u001b[A\n",
      " 51%|█████▏    | 165/321 [01:40<01:34,  1.65it/s, loss=0.267]\u001b[A\n",
      " 51%|█████▏    | 165/321 [01:40<01:35,  1.64it/s, loss=0.271]\u001b[A\n",
      " 52%|█████▏    | 166/321 [01:40<01:34,  1.65it/s, loss=0.271]\u001b[A\n",
      " 52%|█████▏    | 166/321 [01:41<01:34,  1.64it/s, loss=0.274]\u001b[A\n",
      " 52%|█████▏    | 167/321 [01:41<01:33,  1.65it/s, loss=0.274]\u001b[A\n",
      " 52%|█████▏    | 167/321 [01:41<01:34,  1.64it/s, loss=0.28] \u001b[A\n",
      " 52%|█████▏    | 168/321 [01:41<01:32,  1.65it/s, loss=0.28]\u001b[A\n",
      " 52%|█████▏    | 168/321 [01:42<01:33,  1.64it/s, loss=0.277]\u001b[A\n",
      " 53%|█████▎    | 169/321 [01:42<01:32,  1.65it/s, loss=0.277]\u001b[A\n",
      " 53%|█████▎    | 169/321 [01:43<01:32,  1.64it/s, loss=0.278]\u001b[A\n",
      " 53%|█████▎    | 170/321 [01:43<01:31,  1.65it/s, loss=0.278]\u001b[A\n",
      " 53%|█████▎    | 170/321 [01:43<01:32,  1.64it/s, loss=0.275]\u001b[A\n",
      " 53%|█████▎    | 171/321 [01:43<01:31,  1.65it/s, loss=0.275]\u001b[A\n",
      " 53%|█████▎    | 171/321 [01:44<01:31,  1.64it/s, loss=0.273]\u001b[A\n",
      " 54%|█████▎    | 172/321 [01:44<01:30,  1.65it/s, loss=0.273]\u001b[A\n",
      " 54%|█████▎    | 172/321 [01:44<01:30,  1.64it/s, loss=0.273]\u001b[A\n",
      " 54%|█████▍    | 173/321 [01:44<01:29,  1.65it/s, loss=0.273]\u001b[A\n",
      " 54%|█████▍    | 173/321 [01:45<01:30,  1.64it/s, loss=0.271]\u001b[A\n",
      " 54%|█████▍    | 174/321 [01:45<01:29,  1.65it/s, loss=0.271]\u001b[A\n",
      " 54%|█████▍    | 174/321 [01:46<01:29,  1.64it/s, loss=0.271]\u001b[A\n",
      " 55%|█████▍    | 175/321 [01:46<01:28,  1.65it/s, loss=0.271]\u001b[A\n",
      " 55%|█████▍    | 175/321 [01:46<01:29,  1.64it/s, loss=0.277]\u001b[A\n",
      " 55%|█████▍    | 176/321 [01:46<01:27,  1.65it/s, loss=0.277]\u001b[A\n",
      " 55%|█████▍    | 176/321 [01:47<01:28,  1.64it/s, loss=0.28] \u001b[A\n",
      " 55%|█████▌    | 177/321 [01:47<01:27,  1.65it/s, loss=0.28]\u001b[A\n",
      " 55%|█████▌    | 177/321 [01:48<01:27,  1.64it/s, loss=0.284]\u001b[A\n",
      " 55%|█████▌    | 178/321 [01:48<01:26,  1.65it/s, loss=0.284]\u001b[A\n",
      " 55%|█████▌    | 178/321 [01:48<01:27,  1.64it/s, loss=0.283]\u001b[A\n",
      " 56%|█████▌    | 179/321 [01:48<01:26,  1.65it/s, loss=0.283]\u001b[A\n",
      " 56%|█████▌    | 179/321 [01:49<01:26,  1.64it/s, loss=0.285]\u001b[A\n",
      " 56%|█████▌    | 180/321 [01:49<01:25,  1.65it/s, loss=0.285]\u001b[A\n",
      " 56%|█████▌    | 180/321 [01:49<01:26,  1.64it/s, loss=0.288]\u001b[A\n",
      " 56%|█████▋    | 181/321 [01:49<01:24,  1.65it/s, loss=0.288]\u001b[A\n",
      " 56%|█████▋    | 181/321 [01:50<01:25,  1.64it/s, loss=0.287]\u001b[A\n",
      " 57%|█████▋    | 182/321 [01:50<01:24,  1.65it/s, loss=0.287]\u001b[A\n",
      " 57%|█████▋    | 182/321 [01:51<01:24,  1.64it/s, loss=0.284]\u001b[A\n",
      " 57%|█████▋    | 183/321 [01:51<01:23,  1.65it/s, loss=0.284]\u001b[A\n",
      " 57%|█████▋    | 183/321 [01:51<01:24,  1.64it/s, loss=0.284]\u001b[A\n",
      " 57%|█████▋    | 184/321 [01:51<01:23,  1.65it/s, loss=0.284]\u001b[A\n",
      " 57%|█████▋    | 184/321 [01:52<01:23,  1.64it/s, loss=0.285]\u001b[A\n",
      " 58%|█████▊    | 185/321 [01:52<01:22,  1.65it/s, loss=0.285]\u001b[A\n",
      " 58%|█████▊    | 185/321 [01:52<01:22,  1.64it/s, loss=0.281]\u001b[A\n",
      " 58%|█████▊    | 186/321 [01:52<01:21,  1.65it/s, loss=0.281]\u001b[A\n",
      " 58%|█████▊    | 186/321 [01:53<01:22,  1.64it/s, loss=0.278]\u001b[A\n",
      " 58%|█████▊    | 187/321 [01:53<01:21,  1.65it/s, loss=0.278]\u001b[A\n",
      " 58%|█████▊    | 187/321 [01:54<01:21,  1.64it/s, loss=0.277]\u001b[A\n",
      " 59%|█████▊    | 188/321 [01:54<01:20,  1.65it/s, loss=0.277]\u001b[A\n",
      " 59%|█████▊    | 188/321 [01:54<01:21,  1.64it/s, loss=0.273]\u001b[A\n",
      " 59%|█████▉    | 189/321 [01:54<01:20,  1.65it/s, loss=0.273]\u001b[A\n",
      " 59%|█████▉    | 189/321 [01:55<01:20,  1.64it/s, loss=0.27] \u001b[A\n",
      " 59%|█████▉    | 190/321 [01:55<01:19,  1.65it/s, loss=0.27]\u001b[A\n",
      " 59%|█████▉    | 190/321 [01:55<01:19,  1.64it/s, loss=0.272]\u001b[A\n",
      " 60%|█████▉    | 191/321 [01:55<01:18,  1.65it/s, loss=0.272]\u001b[A\n",
      " 60%|█████▉    | 191/321 [01:56<01:19,  1.64it/s, loss=0.269]\u001b[A\n",
      " 60%|█████▉    | 192/321 [01:56<01:18,  1.65it/s, loss=0.269]\u001b[A\n",
      " 60%|█████▉    | 192/321 [01:57<01:18,  1.64it/s, loss=0.266]\u001b[A\n",
      " 60%|██████    | 193/321 [01:57<01:17,  1.65it/s, loss=0.266]\u001b[A\n",
      " 60%|██████    | 193/321 [01:57<01:18,  1.64it/s, loss=0.269]\u001b[A\n",
      " 60%|██████    | 194/321 [01:57<01:17,  1.65it/s, loss=0.269]\u001b[A\n",
      " 60%|██████    | 194/321 [01:58<01:17,  1.64it/s, loss=0.274]\u001b[A\n",
      " 61%|██████    | 195/321 [01:58<01:16,  1.65it/s, loss=0.274]\u001b[A\n",
      " 61%|██████    | 195/321 [01:58<01:16,  1.64it/s, loss=0.273]\u001b[A\n",
      " 61%|██████    | 196/321 [01:58<01:15,  1.65it/s, loss=0.273]\u001b[A\n",
      " 61%|██████    | 196/321 [01:59<01:16,  1.64it/s, loss=0.273]\u001b[A\n",
      " 61%|██████▏   | 197/321 [01:59<01:15,  1.65it/s, loss=0.273]\u001b[A\n",
      " 61%|██████▏   | 197/321 [02:00<01:15,  1.64it/s, loss=0.271]\u001b[A\n",
      " 62%|██████▏   | 198/321 [02:00<01:14,  1.65it/s, loss=0.271]\u001b[A\n",
      " 62%|██████▏   | 198/321 [02:00<01:15,  1.64it/s, loss=0.271]\u001b[A\n",
      " 62%|██████▏   | 199/321 [02:00<01:14,  1.65it/s, loss=0.271]\u001b[A\n",
      " 62%|██████▏   | 199/321 [02:01<01:14,  1.64it/s, loss=0.273]\u001b[A\n",
      " 62%|██████▏   | 200/321 [02:01<01:13,  1.65it/s, loss=0.273]\u001b[A\n",
      " 62%|██████▏   | 200/321 [02:01<01:13,  1.64it/s, loss=0.27] \u001b[A\n",
      " 63%|██████▎   | 201/321 [02:01<01:12,  1.65it/s, loss=0.27]\u001b[A\n",
      " 63%|██████▎   | 201/321 [02:02<01:13,  1.64it/s, loss=0.27]\u001b[A\n",
      " 63%|██████▎   | 202/321 [02:02<01:12,  1.65it/s, loss=0.27]\u001b[A\n",
      " 63%|██████▎   | 202/321 [02:03<01:12,  1.64it/s, loss=0.266]\u001b[A\n",
      " 63%|██████▎   | 203/321 [02:03<01:11,  1.65it/s, loss=0.266]\u001b[A\n",
      " 63%|██████▎   | 203/321 [02:03<01:11,  1.64it/s, loss=0.265]\u001b[A\n",
      " 64%|██████▎   | 204/321 [02:03<01:10,  1.65it/s, loss=0.265]\u001b[A\n",
      " 64%|██████▎   | 204/321 [02:04<01:11,  1.64it/s, loss=0.264]\u001b[A\n",
      " 64%|██████▍   | 205/321 [02:04<01:10,  1.65it/s, loss=0.264]\u001b[A\n",
      " 64%|██████▍   | 205/321 [02:04<01:10,  1.64it/s, loss=0.261]\u001b[A\n",
      " 64%|██████▍   | 206/321 [02:04<01:09,  1.65it/s, loss=0.261]\u001b[A\n",
      " 64%|██████▍   | 206/321 [02:05<01:10,  1.64it/s, loss=0.262]\u001b[A\n",
      " 64%|██████▍   | 207/321 [02:05<01:09,  1.65it/s, loss=0.262]\u001b[A\n",
      " 64%|██████▍   | 207/321 [02:06<01:09,  1.64it/s, loss=0.263]\u001b[A\n",
      " 65%|██████▍   | 208/321 [02:06<01:08,  1.65it/s, loss=0.263]\u001b[A\n",
      " 65%|██████▍   | 208/321 [02:06<01:08,  1.64it/s, loss=0.26] \u001b[A\n",
      " 65%|██████▌   | 209/321 [02:06<01:07,  1.65it/s, loss=0.26]\u001b[A\n",
      " 65%|██████▌   | 209/321 [02:07<01:08,  1.64it/s, loss=0.264]\u001b[A\n",
      " 65%|██████▌   | 210/321 [02:07<01:07,  1.65it/s, loss=0.264]\u001b[A\n",
      " 65%|██████▌   | 210/321 [02:07<01:07,  1.64it/s, loss=0.264]\u001b[A\n",
      " 66%|██████▌   | 211/321 [02:07<01:06,  1.65it/s, loss=0.264]\u001b[A\n",
      " 66%|██████▌   | 211/321 [02:08<01:07,  1.64it/s, loss=0.265]\u001b[A\n",
      " 66%|██████▌   | 212/321 [02:08<01:06,  1.65it/s, loss=0.265]\u001b[A\n",
      " 66%|██████▌   | 212/321 [02:09<01:06,  1.64it/s, loss=0.262]\u001b[A\n",
      " 66%|██████▋   | 213/321 [02:09<01:05,  1.65it/s, loss=0.262]\u001b[A\n",
      " 66%|██████▋   | 213/321 [02:09<01:05,  1.64it/s, loss=0.267]\u001b[A\n",
      " 67%|██████▋   | 214/321 [02:09<01:04,  1.65it/s, loss=0.267]\u001b[A\n",
      " 67%|██████▋   | 214/321 [02:10<01:05,  1.64it/s, loss=0.265]\u001b[A\n",
      " 67%|██████▋   | 215/321 [02:10<01:04,  1.65it/s, loss=0.265]\u001b[A\n",
      " 67%|██████▋   | 215/321 [02:11<01:04,  1.64it/s, loss=0.262]\u001b[A\n",
      " 67%|██████▋   | 216/321 [02:11<01:03,  1.65it/s, loss=0.262]\u001b[A\n",
      " 67%|██████▋   | 216/321 [02:11<01:03,  1.64it/s, loss=0.26] \u001b[A\n",
      " 68%|██████▊   | 217/321 [02:11<01:03,  1.65it/s, loss=0.26]\u001b[A\n",
      " 68%|██████▊   | 217/321 [02:12<01:03,  1.64it/s, loss=0.263]\u001b[A\n",
      " 68%|██████▊   | 218/321 [02:12<01:02,  1.65it/s, loss=0.263]\u001b[A\n",
      " 68%|██████▊   | 218/321 [02:12<01:02,  1.64it/s, loss=0.261]\u001b[A\n",
      " 68%|██████▊   | 219/321 [02:12<01:01,  1.65it/s, loss=0.261]\u001b[A\n",
      " 68%|██████▊   | 219/321 [02:13<01:02,  1.64it/s, loss=0.258]\u001b[A\n",
      " 69%|██████▊   | 220/321 [02:13<01:01,  1.65it/s, loss=0.258]\u001b[A\n",
      " 69%|██████▊   | 220/321 [02:14<01:01,  1.64it/s, loss=0.256]\u001b[A\n",
      " 69%|██████▉   | 221/321 [02:14<01:00,  1.65it/s, loss=0.256]\u001b[A\n",
      " 69%|██████▉   | 221/321 [02:14<01:00,  1.64it/s, loss=0.253]\u001b[A\n",
      " 69%|██████▉   | 222/321 [02:14<01:00,  1.65it/s, loss=0.253]\u001b[A\n",
      " 69%|██████▉   | 222/321 [02:15<01:00,  1.64it/s, loss=0.255]\u001b[A\n",
      " 69%|██████▉   | 223/321 [02:15<00:59,  1.65it/s, loss=0.255]\u001b[A\n",
      " 69%|██████▉   | 223/321 [02:15<00:59,  1.64it/s, loss=0.255]\u001b[A\n",
      " 70%|██████▉   | 224/321 [02:15<00:58,  1.65it/s, loss=0.255]\u001b[A\n",
      " 70%|██████▉   | 224/321 [02:16<00:59,  1.64it/s, loss=0.255]\u001b[A\n",
      " 70%|███████   | 225/321 [02:16<00:58,  1.65it/s, loss=0.255]\u001b[A\n",
      " 70%|███████   | 225/321 [02:17<00:58,  1.64it/s, loss=0.253]\u001b[A\n",
      " 70%|███████   | 226/321 [02:17<00:57,  1.65it/s, loss=0.253]\u001b[A\n",
      " 70%|███████   | 226/321 [02:17<00:57,  1.64it/s, loss=0.257]\u001b[A\n",
      " 71%|███████   | 227/321 [02:17<00:57,  1.65it/s, loss=0.257]\u001b[A\n",
      " 71%|███████   | 227/321 [02:18<00:57,  1.64it/s, loss=0.255]\u001b[A\n",
      " 71%|███████   | 228/321 [02:18<00:56,  1.65it/s, loss=0.255]\u001b[A\n",
      " 71%|███████   | 228/321 [02:18<00:56,  1.64it/s, loss=0.254]\u001b[A\n",
      " 71%|███████▏  | 229/321 [02:18<00:55,  1.65it/s, loss=0.254]\u001b[A\n",
      " 71%|███████▏  | 229/321 [02:19<00:56,  1.64it/s, loss=0.254]\u001b[A\n",
      " 72%|███████▏  | 230/321 [02:19<00:55,  1.65it/s, loss=0.254]\u001b[A\n",
      " 72%|███████▏  | 230/321 [02:20<00:55,  1.64it/s, loss=0.253]\u001b[A\n",
      " 72%|███████▏  | 231/321 [02:20<00:54,  1.65it/s, loss=0.253]\u001b[A\n",
      " 72%|███████▏  | 231/321 [02:20<00:54,  1.64it/s, loss=0.257]\u001b[A\n",
      " 72%|███████▏  | 232/321 [02:20<00:53,  1.65it/s, loss=0.257]\u001b[A\n",
      " 72%|███████▏  | 232/321 [02:21<00:54,  1.64it/s, loss=0.256]\u001b[A\n",
      " 73%|███████▎  | 233/321 [02:21<00:53,  1.65it/s, loss=0.256]\u001b[A\n",
      " 73%|███████▎  | 233/321 [02:21<00:53,  1.64it/s, loss=0.26] \u001b[A\n",
      " 73%|███████▎  | 234/321 [02:21<00:52,  1.65it/s, loss=0.26]\u001b[A\n",
      " 73%|███████▎  | 234/321 [02:22<00:52,  1.64it/s, loss=0.258]\u001b[A\n",
      " 73%|███████▎  | 235/321 [02:22<00:52,  1.65it/s, loss=0.258]\u001b[A\n",
      " 73%|███████▎  | 235/321 [02:23<00:52,  1.64it/s, loss=0.258]\u001b[A\n",
      " 74%|███████▎  | 236/321 [02:23<00:51,  1.65it/s, loss=0.258]\u001b[A\n",
      " 74%|███████▎  | 236/321 [02:23<00:51,  1.64it/s, loss=0.259]\u001b[A\n",
      " 74%|███████▍  | 237/321 [02:23<00:50,  1.65it/s, loss=0.259]\u001b[A\n",
      " 74%|███████▍  | 237/321 [02:24<00:51,  1.64it/s, loss=0.26] \u001b[A\n",
      " 74%|███████▍  | 238/321 [02:24<00:50,  1.65it/s, loss=0.26]\u001b[A\n",
      " 74%|███████▍  | 238/321 [02:24<00:50,  1.64it/s, loss=0.261]\u001b[A\n",
      " 74%|███████▍  | 239/321 [02:24<00:49,  1.65it/s, loss=0.261]\u001b[A\n",
      " 74%|███████▍  | 239/321 [02:25<00:49,  1.64it/s, loss=0.263]\u001b[A\n",
      " 75%|███████▍  | 240/321 [02:25<00:49,  1.65it/s, loss=0.263]\u001b[A\n",
      " 75%|███████▍  | 240/321 [02:25<00:49,  1.64it/s, loss=0.261]\u001b[A\n",
      " 75%|███████▌  | 241/321 [02:25<00:48,  1.65it/s, loss=0.261]\u001b[A\n",
      " 75%|███████▌  | 241/321 [02:26<00:48,  1.64it/s, loss=0.258]\u001b[A\n",
      " 75%|███████▌  | 242/321 [02:26<00:47,  1.65it/s, loss=0.258]\u001b[A\n",
      " 75%|███████▌  | 242/321 [02:27<00:48,  1.64it/s, loss=0.255]\u001b[A\n",
      " 76%|███████▌  | 243/321 [02:27<00:47,  1.65it/s, loss=0.255]\u001b[A\n",
      " 76%|███████▌  | 243/321 [02:27<00:47,  1.64it/s, loss=0.259]\u001b[A\n",
      " 76%|███████▌  | 244/321 [02:27<00:46,  1.65it/s, loss=0.259]\u001b[A\n",
      " 76%|███████▌  | 244/321 [02:28<00:46,  1.64it/s, loss=0.264]\u001b[A\n",
      " 76%|███████▋  | 245/321 [02:28<00:46,  1.65it/s, loss=0.264]\u001b[A\n",
      " 76%|███████▋  | 245/321 [02:28<00:46,  1.65it/s, loss=0.262]\u001b[A\n",
      " 77%|███████▋  | 246/321 [02:28<00:45,  1.65it/s, loss=0.262]\u001b[A\n",
      " 77%|███████▋  | 246/321 [02:29<00:45,  1.65it/s, loss=0.262]\u001b[A\n",
      " 77%|███████▋  | 247/321 [02:29<00:44,  1.65it/s, loss=0.262]\u001b[A\n",
      " 77%|███████▋  | 247/321 [02:30<00:44,  1.65it/s, loss=0.266]\u001b[A\n",
      " 77%|███████▋  | 248/321 [02:30<00:44,  1.65it/s, loss=0.266]\u001b[A\n",
      " 77%|███████▋  | 248/321 [02:30<00:44,  1.65it/s, loss=0.268]\u001b[A\n",
      " 78%|███████▊  | 249/321 [02:30<00:43,  1.65it/s, loss=0.268]\u001b[A\n",
      " 78%|███████▊  | 249/321 [02:31<00:43,  1.65it/s, loss=0.269]\u001b[A\n",
      " 78%|███████▊  | 250/321 [02:31<00:42,  1.65it/s, loss=0.269]\u001b[A\n",
      " 78%|███████▊  | 250/321 [02:31<00:43,  1.65it/s, loss=0.269]\u001b[A\n",
      " 78%|███████▊  | 251/321 [02:31<00:42,  1.65it/s, loss=0.269]\u001b[A\n",
      " 78%|███████▊  | 251/321 [02:32<00:42,  1.65it/s, loss=0.269]\u001b[A\n",
      " 79%|███████▊  | 252/321 [02:32<00:41,  1.65it/s, loss=0.269]\u001b[A\n",
      " 79%|███████▊  | 252/321 [02:33<00:41,  1.65it/s, loss=0.268]\u001b[A\n",
      " 79%|███████▉  | 253/321 [02:33<00:41,  1.65it/s, loss=0.268]\u001b[A\n"
     ]
    },
    {
     "name": "stdout",
     "output_type": "stream",
     "text": [
      " 79%|███████▉  | 253/321 [02:33<00:41,  1.65it/s, loss=0.269]\u001b[A\n",
      " 79%|███████▉  | 254/321 [02:33<00:40,  1.65it/s, loss=0.269]\u001b[A\n",
      " 79%|███████▉  | 254/321 [02:34<00:40,  1.65it/s, loss=0.267]\u001b[A\n",
      " 79%|███████▉  | 255/321 [02:34<00:39,  1.65it/s, loss=0.267]\u001b[A\n",
      " 79%|███████▉  | 255/321 [02:34<00:40,  1.65it/s, loss=0.265]\u001b[A\n",
      " 80%|███████▉  | 256/321 [02:34<00:39,  1.65it/s, loss=0.265]\u001b[A\n",
      " 80%|███████▉  | 256/321 [02:35<00:39,  1.65it/s, loss=0.267]\u001b[A\n",
      " 80%|████████  | 257/321 [02:35<00:38,  1.65it/s, loss=0.267]\u001b[A\n",
      " 80%|████████  | 257/321 [02:35<00:38,  1.65it/s, loss=0.266]\u001b[A\n",
      " 80%|████████  | 258/321 [02:35<00:38,  1.65it/s, loss=0.266]\u001b[A\n",
      " 80%|████████  | 258/321 [02:36<00:38,  1.65it/s, loss=0.265]\u001b[A\n",
      " 81%|████████  | 259/321 [02:36<00:37,  1.65it/s, loss=0.265]\u001b[A\n",
      " 81%|████████  | 259/321 [02:37<00:37,  1.65it/s, loss=0.264]\u001b[A\n",
      " 81%|████████  | 260/321 [02:37<00:36,  1.65it/s, loss=0.264]\u001b[A\n",
      " 81%|████████  | 260/321 [02:37<00:37,  1.65it/s, loss=0.261]\u001b[A\n",
      " 81%|████████▏ | 261/321 [02:37<00:36,  1.65it/s, loss=0.261]\u001b[A\n",
      " 81%|████████▏ | 261/321 [02:38<00:36,  1.65it/s, loss=0.263]\u001b[A\n",
      " 82%|████████▏ | 262/321 [02:38<00:35,  1.65it/s, loss=0.263]\u001b[A\n",
      " 82%|████████▏ | 262/321 [02:38<00:35,  1.65it/s, loss=0.265]\u001b[A\n",
      " 82%|████████▏ | 263/321 [02:38<00:35,  1.65it/s, loss=0.265]\u001b[A\n",
      " 82%|████████▏ | 263/321 [02:39<00:35,  1.65it/s, loss=0.265]\u001b[A\n",
      " 82%|████████▏ | 264/321 [02:39<00:34,  1.65it/s, loss=0.265]\u001b[A\n",
      " 82%|████████▏ | 264/321 [02:40<00:34,  1.65it/s, loss=0.271]\u001b[A\n",
      " 83%|████████▎ | 265/321 [02:40<00:33,  1.66it/s, loss=0.271]\u001b[A\n",
      " 83%|████████▎ | 265/321 [02:40<00:33,  1.65it/s, loss=0.269]\u001b[A\n",
      " 83%|████████▎ | 266/321 [02:40<00:33,  1.66it/s, loss=0.269]\u001b[A\n",
      " 83%|████████▎ | 266/321 [02:41<00:33,  1.65it/s, loss=0.268]\u001b[A\n",
      " 83%|████████▎ | 267/321 [02:41<00:32,  1.66it/s, loss=0.268]\u001b[A\n",
      " 83%|████████▎ | 267/321 [02:41<00:32,  1.65it/s, loss=0.269]\u001b[A\n",
      " 83%|████████▎ | 268/321 [02:41<00:32,  1.66it/s, loss=0.269]\u001b[A\n",
      " 83%|████████▎ | 268/321 [02:42<00:32,  1.65it/s, loss=0.272]\u001b[A\n",
      " 84%|████████▍ | 269/321 [02:42<00:31,  1.66it/s, loss=0.272]\u001b[A\n",
      " 84%|████████▍ | 269/321 [02:43<00:31,  1.65it/s, loss=0.27] \u001b[A\n",
      " 84%|████████▍ | 270/321 [02:43<00:30,  1.66it/s, loss=0.27]\u001b[A\n",
      " 84%|████████▍ | 270/321 [02:43<00:30,  1.65it/s, loss=0.27]\u001b[A\n",
      " 84%|████████▍ | 271/321 [02:43<00:30,  1.66it/s, loss=0.27]\u001b[A\n",
      " 84%|████████▍ | 271/321 [02:44<00:30,  1.65it/s, loss=0.275]\u001b[A\n",
      " 85%|████████▍ | 272/321 [02:44<00:29,  1.66it/s, loss=0.275]\u001b[A\n",
      " 85%|████████▍ | 272/321 [02:44<00:29,  1.65it/s, loss=0.276]\u001b[A\n",
      " 85%|████████▌ | 273/321 [02:44<00:28,  1.66it/s, loss=0.276]\u001b[A\n",
      " 85%|████████▌ | 273/321 [02:45<00:29,  1.65it/s, loss=0.284]\u001b[A\n",
      " 85%|████████▌ | 274/321 [02:45<00:28,  1.66it/s, loss=0.284]\u001b[A\n",
      " 85%|████████▌ | 274/321 [02:45<00:28,  1.65it/s, loss=0.284]\u001b[A\n",
      " 86%|████████▌ | 275/321 [02:45<00:27,  1.66it/s, loss=0.284]\u001b[A\n",
      " 86%|████████▌ | 275/321 [02:46<00:27,  1.65it/s, loss=0.284]\u001b[A\n",
      " 86%|████████▌ | 276/321 [02:46<00:27,  1.66it/s, loss=0.284]\u001b[A\n",
      " 86%|████████▌ | 276/321 [02:47<00:27,  1.65it/s, loss=0.285]\u001b[A\n",
      " 86%|████████▋ | 277/321 [02:47<00:26,  1.66it/s, loss=0.285]\u001b[A\n",
      " 86%|████████▋ | 277/321 [02:47<00:26,  1.65it/s, loss=0.281]\u001b[A\n",
      " 87%|████████▋ | 278/321 [02:47<00:25,  1.66it/s, loss=0.281]\u001b[A\n",
      " 87%|████████▋ | 278/321 [02:48<00:26,  1.65it/s, loss=0.279]\u001b[A\n",
      " 87%|████████▋ | 279/321 [02:48<00:25,  1.66it/s, loss=0.279]\u001b[A\n",
      " 87%|████████▋ | 279/321 [02:48<00:25,  1.65it/s, loss=0.277]\u001b[A\n",
      " 87%|████████▋ | 280/321 [02:48<00:24,  1.66it/s, loss=0.277]\u001b[A\n",
      " 87%|████████▋ | 280/321 [02:49<00:24,  1.65it/s, loss=0.275]\u001b[A\n",
      " 88%|████████▊ | 281/321 [02:49<00:24,  1.66it/s, loss=0.275]\u001b[A\n",
      " 88%|████████▊ | 281/321 [02:50<00:24,  1.65it/s, loss=0.275]\u001b[A\n",
      " 88%|████████▊ | 282/321 [02:50<00:23,  1.66it/s, loss=0.275]\u001b[A\n",
      " 88%|████████▊ | 282/321 [02:50<00:23,  1.65it/s, loss=0.272]\u001b[A\n",
      " 88%|████████▊ | 283/321 [02:50<00:22,  1.66it/s, loss=0.272]\u001b[A\n",
      " 88%|████████▊ | 283/321 [02:51<00:22,  1.65it/s, loss=0.273]\u001b[A\n",
      " 88%|████████▊ | 284/321 [02:51<00:22,  1.66it/s, loss=0.273]\u001b[A\n",
      " 88%|████████▊ | 284/321 [02:51<00:22,  1.65it/s, loss=0.272]\u001b[A\n",
      " 89%|████████▉ | 285/321 [02:51<00:21,  1.66it/s, loss=0.272]\u001b[A\n",
      " 89%|████████▉ | 285/321 [02:52<00:21,  1.65it/s, loss=0.269]\u001b[A\n",
      " 89%|████████▉ | 286/321 [02:52<00:21,  1.66it/s, loss=0.269]\u001b[A\n",
      " 89%|████████▉ | 286/321 [02:53<00:21,  1.65it/s, loss=0.276]\u001b[A\n",
      " 89%|████████▉ | 287/321 [02:53<00:20,  1.66it/s, loss=0.276]\u001b[A\n",
      " 89%|████████▉ | 287/321 [02:53<00:20,  1.65it/s, loss=0.276]\u001b[A\n",
      " 90%|████████▉ | 288/321 [02:53<00:19,  1.66it/s, loss=0.276]\u001b[A\n",
      " 90%|████████▉ | 288/321 [02:54<00:19,  1.65it/s, loss=0.277]\u001b[A\n",
      " 90%|█████████ | 289/321 [02:54<00:19,  1.66it/s, loss=0.277]\u001b[A\n",
      " 90%|█████████ | 289/321 [02:54<00:19,  1.65it/s, loss=0.281]\u001b[A\n",
      " 90%|█████████ | 290/321 [02:54<00:18,  1.66it/s, loss=0.281]\u001b[A\n",
      " 90%|█████████ | 290/321 [02:55<00:18,  1.65it/s, loss=0.278]\u001b[A\n",
      " 91%|█████████ | 291/321 [02:55<00:18,  1.66it/s, loss=0.278]\u001b[A\n",
      " 91%|█████████ | 291/321 [02:55<00:18,  1.65it/s, loss=0.277]\u001b[A\n",
      " 91%|█████████ | 292/321 [02:55<00:17,  1.66it/s, loss=0.277]\u001b[A\n",
      " 91%|█████████ | 292/321 [02:56<00:17,  1.65it/s, loss=0.279]\u001b[A\n",
      " 91%|█████████▏| 293/321 [02:56<00:16,  1.66it/s, loss=0.279]\u001b[A\n",
      " 91%|█████████▏| 293/321 [02:57<00:16,  1.65it/s, loss=0.279]\u001b[A\n",
      " 92%|█████████▏| 294/321 [02:57<00:16,  1.66it/s, loss=0.279]\u001b[A\n",
      " 92%|█████████▏| 294/321 [02:57<00:16,  1.65it/s, loss=0.281]\u001b[A\n",
      " 92%|█████████▏| 295/321 [02:57<00:15,  1.66it/s, loss=0.281]\u001b[A\n",
      " 92%|█████████▏| 295/321 [02:58<00:15,  1.65it/s, loss=0.286]\u001b[A\n",
      " 92%|█████████▏| 296/321 [02:58<00:15,  1.66it/s, loss=0.286]\u001b[A\n",
      " 92%|█████████▏| 296/321 [02:58<00:15,  1.65it/s, loss=0.287]\u001b[A\n",
      " 93%|█████████▎| 297/321 [02:58<00:14,  1.66it/s, loss=0.287]\u001b[A\n",
      " 93%|█████████▎| 297/321 [02:59<00:14,  1.65it/s, loss=0.287]\u001b[A\n",
      " 93%|█████████▎| 298/321 [02:59<00:13,  1.66it/s, loss=0.287]\u001b[A\n",
      " 93%|█████████▎| 298/321 [03:00<00:13,  1.65it/s, loss=0.283]\u001b[A\n",
      " 93%|█████████▎| 299/321 [03:00<00:13,  1.66it/s, loss=0.283]\u001b[A\n",
      " 93%|█████████▎| 299/321 [03:00<00:13,  1.65it/s, loss=0.283]\u001b[A\n",
      " 93%|█████████▎| 300/321 [03:00<00:12,  1.66it/s, loss=0.283]\u001b[A\n",
      " 93%|█████████▎| 300/321 [03:01<00:12,  1.65it/s, loss=0.281]\u001b[A\n",
      " 94%|█████████▍| 301/321 [03:01<00:12,  1.66it/s, loss=0.281]\u001b[A\n",
      " 94%|█████████▍| 301/321 [03:01<00:12,  1.65it/s, loss=0.277]\u001b[A\n",
      " 94%|█████████▍| 302/321 [03:01<00:11,  1.66it/s, loss=0.277]\u001b[A\n",
      " 94%|█████████▍| 302/321 [03:02<00:11,  1.66it/s, loss=0.277]\u001b[A\n",
      " 94%|█████████▍| 303/321 [03:02<00:10,  1.66it/s, loss=0.277]\u001b[A\n",
      " 94%|█████████▍| 303/321 [03:03<00:10,  1.66it/s, loss=0.286]\u001b[A\n",
      " 95%|█████████▍| 304/321 [03:03<00:10,  1.66it/s, loss=0.286]\u001b[A\n",
      " 95%|█████████▍| 304/321 [03:03<00:10,  1.66it/s, loss=0.282]\u001b[A\n",
      " 95%|█████████▌| 305/321 [03:03<00:09,  1.66it/s, loss=0.282]\u001b[A\n",
      " 95%|█████████▌| 305/321 [03:04<00:09,  1.66it/s, loss=0.279]\u001b[A\n",
      " 95%|█████████▌| 306/321 [03:04<00:09,  1.66it/s, loss=0.279]\u001b[A\n",
      " 95%|█████████▌| 306/321 [03:04<00:09,  1.66it/s, loss=0.281]\u001b[A\n",
      " 96%|█████████▌| 307/321 [03:04<00:08,  1.66it/s, loss=0.281]\u001b[A\n",
      " 96%|█████████▌| 307/321 [03:05<00:08,  1.66it/s, loss=0.279]\u001b[A\n",
      " 96%|█████████▌| 308/321 [03:05<00:07,  1.66it/s, loss=0.279]\u001b[A\n",
      " 96%|█████████▌| 308/321 [03:06<00:07,  1.66it/s, loss=0.277]\u001b[A\n",
      " 96%|█████████▋| 309/321 [03:06<00:07,  1.66it/s, loss=0.277]\u001b[A\n",
      " 96%|█████████▋| 309/321 [03:06<00:07,  1.66it/s, loss=0.277]\u001b[A\n",
      " 97%|█████████▋| 310/321 [03:06<00:06,  1.66it/s, loss=0.277]\u001b[A\n",
      " 97%|█████████▋| 310/321 [03:07<00:06,  1.66it/s, loss=0.277]\u001b[A\n",
      " 97%|█████████▋| 311/321 [03:07<00:06,  1.66it/s, loss=0.277]\u001b[A\n",
      " 97%|█████████▋| 311/321 [03:07<00:06,  1.66it/s, loss=0.279]\u001b[A\n",
      " 97%|█████████▋| 312/321 [03:07<00:05,  1.66it/s, loss=0.279]\u001b[A\n",
      " 97%|█████████▋| 312/321 [03:08<00:05,  1.66it/s, loss=0.28] \u001b[A\n",
      " 98%|█████████▊| 313/321 [03:08<00:04,  1.66it/s, loss=0.28]\u001b[A\n",
      " 98%|█████████▊| 313/321 [03:08<00:04,  1.66it/s, loss=0.279]\u001b[A\n",
      " 98%|█████████▊| 314/321 [03:08<00:04,  1.66it/s, loss=0.279]\u001b[A\n",
      " 98%|█████████▊| 314/321 [03:09<00:04,  1.66it/s, loss=0.286]\u001b[A\n",
      " 98%|█████████▊| 315/321 [03:09<00:03,  1.66it/s, loss=0.286]\u001b[A\n",
      " 98%|█████████▊| 315/321 [03:10<00:03,  1.66it/s, loss=0.285]\u001b[A\n",
      " 98%|█████████▊| 316/321 [03:10<00:03,  1.66it/s, loss=0.285]\u001b[A\n",
      " 98%|█████████▊| 316/321 [03:10<00:03,  1.66it/s, loss=0.29] \u001b[A\n",
      " 99%|█████████▉| 317/321 [03:10<00:02,  1.66it/s, loss=0.29]\u001b[A\n",
      " 99%|█████████▉| 317/321 [03:11<00:02,  1.66it/s, loss=0.289]\u001b[A\n",
      " 99%|█████████▉| 318/321 [03:11<00:01,  1.66it/s, loss=0.289]\u001b[A\n",
      " 99%|█████████▉| 318/321 [03:11<00:01,  1.66it/s, loss=0.288]\u001b[A\n",
      " 99%|█████████▉| 319/321 [03:11<00:01,  1.66it/s, loss=0.288]\u001b[A\n",
      " 99%|█████████▉| 319/321 [03:12<00:01,  1.66it/s, loss=0.288]\u001b[A\n",
      "100%|█████████▉| 320/321 [03:12<00:00,  1.66it/s, loss=0.288]\u001b[A\n",
      "100%|█████████▉| 320/321 [03:12<00:00,  1.66it/s, loss=0.284]\u001b[A\n",
      "100%|██████████| 321/321 [03:12<00:00,  1.67it/s, loss=0.284]\u001b[A\n",
      "                                                             \u001b[A[ 0.       0.28437  0.75294  0.77602]\n",
      "\n",
      "CPU times: user 3min 53s, sys: 1min 23s, total: 5min 17s\n",
      "Wall time: 4min 13s\n"
     ]
    }
   ],
   "source": [
    "size = 200\n",
    "data = get_data(size, bs = 18)\n",
    "learner.set_data(data)\n",
    "%time learner.fit(lrs=λr, n_cycle=1, cycle_len=1, cycle_mult=1)"
   ]
  },
  {
   "cell_type": "code",
   "execution_count": 40,
   "metadata": {
    "hidden": true
   },
   "outputs": [
    {
     "data": {
      "application/vnd.jupyter.widget-view+json": {
       "model_id": "8230dd88d7c2441aafa370d3624dfeda",
       "version_major": 2,
       "version_minor": 0
      },
      "text/html": [
       "<p>Failed to display Jupyter Widget of type <code>HBox</code>.</p>\n",
       "<p>\n",
       "  If you're reading this message in the Jupyter Notebook or JupyterLab Notebook, it may mean\n",
       "  that the widgets JavaScript is still loading. If this message persists, it\n",
       "  likely means that the widgets JavaScript library is either not installed or\n",
       "  not enabled. See the <a href=\"https://ipywidgets.readthedocs.io/en/stable/user_install.html\">Jupyter\n",
       "  Widgets Documentation</a> for setup instructions.\n",
       "</p>\n",
       "<p>\n",
       "  If you're reading this message in another frontend (for example, a static\n",
       "  rendering on GitHub or <a href=\"https://nbviewer.jupyter.org/\">NBViewer</a>),\n",
       "  it may mean that your frontend doesn't currently support widgets.\n",
       "</p>\n"
      ],
      "text/plain": [
       "HBox(children=(IntProgress(value=0, description='Epoch', max=1), HTML(value='')))"
      ]
     },
     "metadata": {},
     "output_type": "display_data"
    },
    {
     "name": "stdout",
     "output_type": "stream",
     "text": [
      "\n",
      "  0%|          | 0/361 [00:00<?, ?it/s]\u001b[A\n",
      "  0%|          | 0/361 [00:00<?, ?it/s, loss=0.288]\u001b[A\n",
      "  0%|          | 1/361 [00:00<03:48,  1.58it/s, loss=0.288]\u001b[A\n",
      "  0%|          | 1/361 [00:01<06:27,  1.08s/it, loss=0.311]\u001b[A\n",
      "  1%|          | 2/361 [00:01<03:14,  1.85it/s, loss=0.311]\u001b[A\n",
      "  1%|          | 2/361 [00:01<04:33,  1.31it/s, loss=0.281]\u001b[A\n",
      "  1%|          | 3/361 [00:01<03:02,  1.96it/s, loss=0.281]\u001b[A\n",
      "  1%|          | 3/361 [00:01<03:55,  1.52it/s, loss=0.332]\u001b[A\n",
      "  1%|          | 4/361 [00:01<02:56,  2.02it/s, loss=0.332]\u001b[A\n",
      "  1%|          | 4/361 [00:02<03:36,  1.65it/s, loss=0.349]\u001b[A\n",
      "  1%|▏         | 5/361 [00:02<02:52,  2.06it/s, loss=0.349]\u001b[A\n",
      "  1%|▏         | 5/361 [00:02<03:24,  1.74it/s, loss=0.31] \u001b[A\n",
      "  2%|▏         | 6/361 [00:02<02:50,  2.09it/s, loss=0.31]\u001b[A\n",
      "  2%|▏         | 6/361 [00:03<03:16,  1.81it/s, loss=0.299]\u001b[A\n",
      "  2%|▏         | 7/361 [00:03<02:47,  2.11it/s, loss=0.299]\u001b[A\n",
      "  2%|▏         | 7/361 [00:03<03:09,  1.86it/s, loss=0.276]\u001b[A\n",
      "  2%|▏         | 8/361 [00:03<02:46,  2.13it/s, loss=0.276]\u001b[A\n",
      "  2%|▏         | 8/361 [00:04<03:05,  1.90it/s, loss=0.264]\u001b[A\n",
      "  2%|▏         | 9/361 [00:04<02:44,  2.13it/s, loss=0.264]\u001b[A\n",
      "  2%|▏         | 9/361 [00:04<03:02,  1.93it/s, loss=0.256]\u001b[A\n",
      "  3%|▎         | 10/361 [00:04<02:43,  2.14it/s, loss=0.256]\u001b[A\n",
      "  3%|▎         | 10/361 [00:05<02:59,  1.96it/s, loss=0.304]\u001b[A\n",
      "  3%|▎         | 11/361 [00:05<02:42,  2.15it/s, loss=0.304]\u001b[A\n",
      "  3%|▎         | 11/361 [00:05<02:56,  1.98it/s, loss=0.332]\u001b[A\n",
      "  3%|▎         | 12/361 [00:05<02:41,  2.16it/s, loss=0.332]\u001b[A\n",
      "  3%|▎         | 12/361 [00:06<02:54,  2.00it/s, loss=0.319]\u001b[A\n",
      "  4%|▎         | 13/361 [00:06<02:40,  2.16it/s, loss=0.319]\u001b[A\n",
      "  4%|▎         | 13/361 [00:06<02:52,  2.01it/s, loss=0.308]\u001b[A\n",
      "  4%|▍         | 14/361 [00:06<02:40,  2.17it/s, loss=0.308]\u001b[A\n",
      "  4%|▍         | 14/361 [00:06<02:51,  2.03it/s, loss=0.308]\u001b[A\n",
      "  4%|▍         | 15/361 [00:06<02:39,  2.17it/s, loss=0.308]\u001b[A\n",
      "  4%|▍         | 15/361 [00:07<02:49,  2.04it/s, loss=0.312]\u001b[A\n",
      "  4%|▍         | 16/361 [00:07<02:38,  2.18it/s, loss=0.312]\u001b[A\n",
      "  4%|▍         | 16/361 [00:07<02:48,  2.05it/s, loss=0.298]\u001b[A\n",
      "  5%|▍         | 17/361 [00:07<02:37,  2.18it/s, loss=0.298]\u001b[A\n",
      "  5%|▍         | 17/361 [00:08<02:46,  2.06it/s, loss=0.289]\u001b[A\n",
      "  5%|▍         | 18/361 [00:08<02:37,  2.18it/s, loss=0.289]\u001b[A\n",
      "  5%|▍         | 18/361 [00:08<02:45,  2.07it/s, loss=0.294]\u001b[A\n",
      "  5%|▌         | 19/361 [00:08<02:36,  2.18it/s, loss=0.294]\u001b[A\n",
      "  5%|▌         | 19/361 [00:09<02:44,  2.08it/s, loss=0.288]\u001b[A\n",
      "  6%|▌         | 20/361 [00:09<02:35,  2.19it/s, loss=0.288]\u001b[A\n",
      "  6%|▌         | 20/361 [00:09<02:43,  2.09it/s, loss=0.29] \u001b[A\n",
      "  6%|▌         | 21/361 [00:09<02:35,  2.19it/s, loss=0.29]\u001b[A\n",
      "  6%|▌         | 21/361 [00:10<02:42,  2.09it/s, loss=0.297]\u001b[A\n",
      "  6%|▌         | 22/361 [00:10<02:34,  2.19it/s, loss=0.297]\u001b[A\n",
      "  6%|▌         | 22/361 [00:10<02:41,  2.10it/s, loss=0.297]\u001b[A\n",
      "  6%|▋         | 23/361 [00:10<02:34,  2.19it/s, loss=0.297]\u001b[A\n",
      "  6%|▋         | 23/361 [00:10<02:40,  2.10it/s, loss=0.312]\u001b[A\n",
      "  7%|▋         | 24/361 [00:10<02:33,  2.19it/s, loss=0.312]\u001b[A\n",
      "  7%|▋         | 24/361 [00:11<02:39,  2.11it/s, loss=0.308]\u001b[A\n",
      "  7%|▋         | 25/361 [00:11<02:33,  2.19it/s, loss=0.308]\u001b[A\n",
      "  7%|▋         | 25/361 [00:11<02:39,  2.11it/s, loss=0.305]\u001b[A\n",
      "  7%|▋         | 26/361 [00:11<02:32,  2.19it/s, loss=0.305]\u001b[A\n",
      "  7%|▋         | 26/361 [00:12<02:38,  2.12it/s, loss=0.302]\u001b[A\n",
      "  7%|▋         | 27/361 [00:12<02:32,  2.20it/s, loss=0.302]\u001b[A\n",
      "  7%|▋         | 27/361 [00:12<02:37,  2.12it/s, loss=0.307]\u001b[A\n",
      "  8%|▊         | 28/361 [00:12<02:31,  2.20it/s, loss=0.307]\u001b[A\n",
      "  8%|▊         | 28/361 [00:13<02:36,  2.12it/s, loss=0.307]\u001b[A\n",
      "  8%|▊         | 29/361 [00:13<02:31,  2.20it/s, loss=0.307]\u001b[A\n",
      "  8%|▊         | 29/361 [00:13<02:36,  2.13it/s, loss=0.301]\u001b[A\n",
      "  8%|▊         | 30/361 [00:13<02:30,  2.20it/s, loss=0.301]\u001b[A\n",
      "  8%|▊         | 30/361 [00:14<02:35,  2.13it/s, loss=0.298]\u001b[A\n",
      "  9%|▊         | 31/361 [00:14<02:30,  2.20it/s, loss=0.298]\u001b[A\n",
      "  9%|▊         | 31/361 [00:14<02:34,  2.13it/s, loss=0.291]\u001b[A\n",
      "  9%|▉         | 32/361 [00:14<02:29,  2.20it/s, loss=0.291]\u001b[A\n",
      "  9%|▉         | 32/361 [00:14<02:34,  2.14it/s, loss=0.292]\u001b[A\n",
      "  9%|▉         | 33/361 [00:14<02:29,  2.20it/s, loss=0.292]\u001b[A\n",
      "  9%|▉         | 33/361 [00:15<02:33,  2.14it/s, loss=0.292]\u001b[A\n",
      "  9%|▉         | 34/361 [00:15<02:28,  2.20it/s, loss=0.292]\u001b[A\n",
      "  9%|▉         | 34/361 [00:15<02:32,  2.14it/s, loss=0.29] \u001b[A\n",
      " 10%|▉         | 35/361 [00:15<02:28,  2.20it/s, loss=0.29]\u001b[A\n",
      " 10%|▉         | 35/361 [00:16<02:32,  2.14it/s, loss=0.283]\u001b[A\n",
      " 10%|▉         | 36/361 [00:16<02:27,  2.20it/s, loss=0.283]\u001b[A\n",
      " 10%|▉         | 36/361 [00:16<02:31,  2.15it/s, loss=0.281]\u001b[A\n",
      " 10%|█         | 37/361 [00:16<02:27,  2.20it/s, loss=0.281]\u001b[A\n",
      " 10%|█         | 37/361 [00:17<02:30,  2.15it/s, loss=0.28] \u001b[A\n",
      " 11%|█         | 38/361 [00:17<02:26,  2.20it/s, loss=0.28]\u001b[A\n",
      " 11%|█         | 38/361 [00:17<02:30,  2.15it/s, loss=0.284]\u001b[A\n",
      " 11%|█         | 39/361 [00:17<02:26,  2.20it/s, loss=0.284]\u001b[A\n",
      " 11%|█         | 39/361 [00:18<02:29,  2.15it/s, loss=0.279]\u001b[A\n",
      " 11%|█         | 40/361 [00:18<02:25,  2.20it/s, loss=0.279]\u001b[A\n",
      " 11%|█         | 40/361 [00:18<02:29,  2.15it/s, loss=0.277]\u001b[A\n",
      " 11%|█▏        | 41/361 [00:18<02:25,  2.21it/s, loss=0.277]\u001b[A\n",
      " 11%|█▏        | 41/361 [00:19<02:28,  2.15it/s, loss=0.275]\u001b[A\n",
      " 12%|█▏        | 42/361 [00:19<02:24,  2.21it/s, loss=0.275]\u001b[A\n",
      " 12%|█▏        | 42/361 [00:19<02:28,  2.16it/s, loss=0.278]\u001b[A\n",
      " 12%|█▏        | 43/361 [00:19<02:24,  2.21it/s, loss=0.278]\u001b[A\n",
      " 12%|█▏        | 43/361 [00:19<02:27,  2.16it/s, loss=0.282]\u001b[A\n",
      " 12%|█▏        | 44/361 [00:19<02:23,  2.21it/s, loss=0.282]\u001b[A\n",
      " 12%|█▏        | 44/361 [00:20<02:26,  2.16it/s, loss=0.285]\u001b[A\n",
      " 12%|█▏        | 45/361 [00:20<02:23,  2.21it/s, loss=0.285]\u001b[A\n",
      " 12%|█▏        | 45/361 [00:20<02:26,  2.16it/s, loss=0.289]\u001b[A\n",
      " 13%|█▎        | 46/361 [00:20<02:22,  2.21it/s, loss=0.289]\u001b[A\n",
      " 13%|█▎        | 46/361 [00:21<02:25,  2.16it/s, loss=0.29] \u001b[A\n",
      " 13%|█▎        | 47/361 [00:21<02:22,  2.21it/s, loss=0.29]\u001b[A\n",
      " 13%|█▎        | 47/361 [00:21<02:25,  2.16it/s, loss=0.288]\u001b[A\n",
      " 13%|█▎        | 48/361 [00:21<02:21,  2.21it/s, loss=0.288]\u001b[A\n",
      " 13%|█▎        | 48/361 [00:22<02:24,  2.16it/s, loss=0.286]\u001b[A\n",
      " 14%|█▎        | 49/361 [00:22<02:21,  2.21it/s, loss=0.286]\u001b[A\n",
      " 14%|█▎        | 49/361 [00:22<02:24,  2.17it/s, loss=0.28] \u001b[A\n",
      " 14%|█▍        | 50/361 [00:22<02:20,  2.21it/s, loss=0.28]\u001b[A\n",
      " 14%|█▍        | 50/361 [00:23<02:23,  2.17it/s, loss=0.278]\u001b[A\n",
      " 14%|█▍        | 51/361 [00:23<02:20,  2.21it/s, loss=0.278]\u001b[A\n",
      " 14%|█▍        | 51/361 [00:23<02:22,  2.17it/s, loss=0.282]\u001b[A\n",
      " 14%|█▍        | 52/361 [00:23<02:19,  2.21it/s, loss=0.282]\u001b[A\n",
      " 14%|█▍        | 52/361 [00:23<02:22,  2.17it/s, loss=0.282]\u001b[A\n",
      " 15%|█▍        | 53/361 [00:23<02:19,  2.21it/s, loss=0.282]\u001b[A\n",
      " 15%|█▍        | 53/361 [00:24<02:21,  2.17it/s, loss=0.284]\u001b[A\n",
      " 15%|█▍        | 54/361 [00:24<02:18,  2.21it/s, loss=0.284]\u001b[A\n",
      " 15%|█▍        | 54/361 [00:24<02:21,  2.17it/s, loss=0.288]\u001b[A\n",
      " 15%|█▌        | 55/361 [00:24<02:18,  2.21it/s, loss=0.288]\u001b[A\n",
      " 15%|█▌        | 55/361 [00:25<02:20,  2.17it/s, loss=0.284]\u001b[A\n",
      " 16%|█▌        | 56/361 [00:25<02:17,  2.21it/s, loss=0.284]\u001b[A\n",
      " 16%|█▌        | 56/361 [00:25<02:20,  2.17it/s, loss=0.282]\u001b[A\n",
      " 16%|█▌        | 57/361 [00:25<02:17,  2.21it/s, loss=0.282]\u001b[A\n",
      " 16%|█▌        | 57/361 [00:26<02:19,  2.17it/s, loss=0.285]\u001b[A\n",
      " 16%|█▌        | 58/361 [00:26<02:17,  2.21it/s, loss=0.285]\u001b[A\n",
      " 16%|█▌        | 58/361 [00:26<02:19,  2.17it/s, loss=0.284]\u001b[A\n",
      " 16%|█▋        | 59/361 [00:26<02:16,  2.21it/s, loss=0.284]\u001b[A\n",
      " 16%|█▋        | 59/361 [00:27<02:18,  2.17it/s, loss=0.285]\u001b[A\n",
      " 17%|█▋        | 60/361 [00:27<02:16,  2.21it/s, loss=0.285]\u001b[A\n",
      " 17%|█▋        | 60/361 [00:27<02:18,  2.18it/s, loss=0.286]\u001b[A\n",
      " 17%|█▋        | 61/361 [00:27<02:15,  2.21it/s, loss=0.286]\u001b[A\n",
      " 17%|█▋        | 61/361 [00:28<02:17,  2.18it/s, loss=0.288]\u001b[A\n",
      " 17%|█▋        | 62/361 [00:28<02:15,  2.21it/s, loss=0.288]\u001b[A\n",
      " 17%|█▋        | 62/361 [00:28<02:17,  2.18it/s, loss=0.287]\u001b[A\n",
      " 17%|█▋        | 63/361 [00:28<02:14,  2.21it/s, loss=0.287]\u001b[A\n",
      " 17%|█▋        | 63/361 [00:28<02:16,  2.18it/s, loss=0.293]\u001b[A\n",
      " 18%|█▊        | 64/361 [00:28<02:14,  2.21it/s, loss=0.293]\u001b[A\n",
      " 18%|█▊        | 64/361 [00:29<02:16,  2.18it/s, loss=0.291]\u001b[A\n",
      " 18%|█▊        | 65/361 [00:29<02:13,  2.21it/s, loss=0.291]\u001b[A\n",
      " 18%|█▊        | 65/361 [00:29<02:15,  2.18it/s, loss=0.289]\u001b[A\n",
      " 18%|█▊        | 66/361 [00:29<02:13,  2.21it/s, loss=0.289]\u001b[A\n",
      " 18%|█▊        | 66/361 [00:30<02:15,  2.18it/s, loss=0.291]\u001b[A\n",
      " 19%|█▊        | 67/361 [00:30<02:12,  2.21it/s, loss=0.291]\u001b[A\n",
      " 19%|█▊        | 67/361 [00:30<02:14,  2.18it/s, loss=0.288]\u001b[A\n",
      " 19%|█▉        | 68/361 [00:30<02:12,  2.21it/s, loss=0.288]\u001b[A\n",
      " 19%|█▉        | 68/361 [00:31<02:14,  2.18it/s, loss=0.283]\u001b[A\n",
      " 19%|█▉        | 69/361 [00:31<02:11,  2.21it/s, loss=0.283]\u001b[A\n",
      " 19%|█▉        | 69/361 [00:31<02:13,  2.18it/s, loss=0.283]\u001b[A\n",
      " 19%|█▉        | 70/361 [00:31<02:11,  2.21it/s, loss=0.283]\u001b[A\n",
      " 19%|█▉        | 70/361 [00:32<02:13,  2.18it/s, loss=0.284]\u001b[A\n",
      " 20%|█▉        | 71/361 [00:32<02:10,  2.21it/s, loss=0.284]\u001b[A\n",
      " 20%|█▉        | 71/361 [00:32<02:12,  2.18it/s, loss=0.286]\u001b[A\n",
      " 20%|█▉        | 72/361 [00:32<02:10,  2.22it/s, loss=0.286]\u001b[A\n",
      " 20%|█▉        | 72/361 [00:32<02:12,  2.19it/s, loss=0.28] \u001b[A\n",
      " 20%|██        | 73/361 [00:32<02:09,  2.22it/s, loss=0.28]\u001b[A\n",
      " 20%|██        | 73/361 [00:33<02:11,  2.19it/s, loss=0.285]\u001b[A\n",
      " 20%|██        | 74/361 [00:33<02:09,  2.22it/s, loss=0.285]\u001b[A\n",
      " 20%|██        | 74/361 [00:33<02:11,  2.19it/s, loss=0.287]\u001b[A\n",
      " 21%|██        | 75/361 [00:33<02:09,  2.22it/s, loss=0.287]\u001b[A\n",
      " 21%|██        | 75/361 [00:34<02:10,  2.19it/s, loss=0.285]\u001b[A\n",
      " 21%|██        | 76/361 [00:34<02:08,  2.22it/s, loss=0.285]\u001b[A\n",
      " 21%|██        | 76/361 [00:34<02:10,  2.19it/s, loss=0.282]\u001b[A\n",
      " 21%|██▏       | 77/361 [00:34<02:08,  2.22it/s, loss=0.282]\u001b[A\n",
      " 21%|██▏       | 77/361 [00:35<02:09,  2.19it/s, loss=0.292]\u001b[A\n",
      " 22%|██▏       | 78/361 [00:35<02:07,  2.22it/s, loss=0.292]\u001b[A\n",
      " 22%|██▏       | 78/361 [00:35<02:09,  2.19it/s, loss=0.292]\u001b[A\n",
      " 22%|██▏       | 79/361 [00:35<02:07,  2.22it/s, loss=0.292]\u001b[A\n",
      " 22%|██▏       | 79/361 [00:36<02:08,  2.19it/s, loss=0.295]\u001b[A\n",
      " 22%|██▏       | 80/361 [00:36<02:06,  2.22it/s, loss=0.295]\u001b[A\n",
      " 22%|██▏       | 80/361 [00:36<02:08,  2.19it/s, loss=0.296]\u001b[A\n",
      " 22%|██▏       | 81/361 [00:36<02:06,  2.22it/s, loss=0.296]\u001b[A\n",
      " 22%|██▏       | 81/361 [00:36<02:07,  2.19it/s, loss=0.292]\u001b[A\n",
      " 23%|██▎       | 82/361 [00:36<02:05,  2.22it/s, loss=0.292]\u001b[A\n",
      " 23%|██▎       | 82/361 [00:37<02:07,  2.19it/s, loss=0.299]\u001b[A\n",
      " 23%|██▎       | 83/361 [00:37<02:05,  2.22it/s, loss=0.299]\u001b[A\n",
      " 23%|██▎       | 83/361 [00:37<02:06,  2.19it/s, loss=0.305]\u001b[A\n",
      " 23%|██▎       | 84/361 [00:37<02:04,  2.22it/s, loss=0.305]\u001b[A\n",
      " 23%|██▎       | 84/361 [00:38<02:06,  2.19it/s, loss=0.306]\u001b[A\n",
      " 24%|██▎       | 85/361 [00:38<02:04,  2.22it/s, loss=0.306]\u001b[A\n",
      " 24%|██▎       | 85/361 [00:38<02:05,  2.19it/s, loss=0.303]\u001b[A\n",
      " 24%|██▍       | 86/361 [00:38<02:04,  2.22it/s, loss=0.303]\u001b[A\n",
      " 24%|██▍       | 86/361 [00:39<02:05,  2.19it/s, loss=0.302]\u001b[A\n",
      " 24%|██▍       | 87/361 [00:39<02:03,  2.22it/s, loss=0.302]\u001b[A\n",
      " 24%|██▍       | 87/361 [00:39<02:04,  2.19it/s, loss=0.302]\u001b[A\n",
      " 24%|██▍       | 88/361 [00:39<02:03,  2.22it/s, loss=0.302]\u001b[A\n",
      " 24%|██▍       | 88/361 [00:40<02:04,  2.19it/s, loss=0.303]\u001b[A\n",
      " 25%|██▍       | 89/361 [00:40<02:02,  2.22it/s, loss=0.303]\u001b[A\n",
      " 25%|██▍       | 89/361 [00:40<02:04,  2.19it/s, loss=0.305]\u001b[A\n",
      " 25%|██▍       | 90/361 [00:40<02:02,  2.22it/s, loss=0.305]\u001b[A\n",
      " 25%|██▍       | 90/361 [00:41<02:03,  2.19it/s, loss=0.307]\u001b[A\n",
      " 25%|██▌       | 91/361 [00:41<02:01,  2.22it/s, loss=0.307]\u001b[A\n",
      " 25%|██▌       | 91/361 [00:41<02:03,  2.19it/s, loss=0.316]\u001b[A\n",
      " 25%|██▌       | 92/361 [00:41<02:01,  2.22it/s, loss=0.316]\u001b[A\n",
      " 25%|██▌       | 92/361 [00:41<02:02,  2.19it/s, loss=0.314]\u001b[A\n",
      " 26%|██▌       | 93/361 [00:41<02:00,  2.22it/s, loss=0.314]\u001b[A\n",
      " 26%|██▌       | 93/361 [00:42<02:02,  2.20it/s, loss=0.318]\u001b[A\n",
      " 26%|██▌       | 94/361 [00:42<02:00,  2.22it/s, loss=0.318]\u001b[A\n",
      " 26%|██▌       | 94/361 [00:42<02:01,  2.20it/s, loss=0.317]\u001b[A\n",
      " 26%|██▋       | 95/361 [00:42<01:59,  2.22it/s, loss=0.317]\u001b[A\n",
      " 26%|██▋       | 95/361 [00:43<02:01,  2.20it/s, loss=0.317]\u001b[A\n",
      " 27%|██▋       | 96/361 [00:43<01:59,  2.22it/s, loss=0.317]\u001b[A\n",
      " 27%|██▋       | 96/361 [00:43<02:00,  2.20it/s, loss=0.318]\u001b[A\n",
      " 27%|██▋       | 97/361 [00:43<01:59,  2.22it/s, loss=0.318]\u001b[A\n",
      " 27%|██▋       | 97/361 [00:44<02:00,  2.20it/s, loss=0.317]\u001b[A\n",
      " 27%|██▋       | 98/361 [00:44<01:58,  2.22it/s, loss=0.317]\u001b[A\n",
      " 27%|██▋       | 98/361 [00:44<01:59,  2.20it/s, loss=0.319]\u001b[A\n",
      " 27%|██▋       | 99/361 [00:44<01:58,  2.22it/s, loss=0.319]\u001b[A\n",
      " 27%|██▋       | 99/361 [00:45<01:59,  2.20it/s, loss=0.317]\u001b[A\n",
      " 28%|██▊       | 100/361 [00:45<01:57,  2.22it/s, loss=0.317]\u001b[A\n",
      " 28%|██▊       | 100/361 [00:45<01:58,  2.20it/s, loss=0.316]\u001b[A\n",
      " 28%|██▊       | 101/361 [00:45<01:57,  2.22it/s, loss=0.316]\u001b[A\n",
      " 28%|██▊       | 101/361 [00:45<01:58,  2.20it/s, loss=0.315]\u001b[A\n",
      " 28%|██▊       | 102/361 [00:45<01:56,  2.22it/s, loss=0.315]\u001b[A\n",
      " 28%|██▊       | 102/361 [00:46<01:57,  2.20it/s, loss=0.314]\u001b[A\n",
      " 29%|██▊       | 103/361 [00:46<01:56,  2.22it/s, loss=0.314]\u001b[A\n",
      " 29%|██▊       | 103/361 [00:46<01:57,  2.20it/s, loss=0.31] \u001b[A\n",
      " 29%|██▉       | 104/361 [00:46<01:55,  2.22it/s, loss=0.31]\u001b[A\n",
      " 29%|██▉       | 104/361 [00:47<01:56,  2.20it/s, loss=0.306]\u001b[A\n",
      " 29%|██▉       | 105/361 [00:47<01:55,  2.22it/s, loss=0.306]\u001b[A\n",
      " 29%|██▉       | 105/361 [00:47<01:56,  2.20it/s, loss=0.31] \u001b[A\n",
      " 29%|██▉       | 106/361 [00:47<01:54,  2.22it/s, loss=0.31]\u001b[A\n",
      " 29%|██▉       | 106/361 [00:48<01:56,  2.20it/s, loss=0.308]\u001b[A\n",
      " 30%|██▉       | 107/361 [00:48<01:54,  2.22it/s, loss=0.308]\u001b[A\n",
      " 30%|██▉       | 107/361 [00:48<01:55,  2.20it/s, loss=0.307]\u001b[A\n",
      " 30%|██▉       | 108/361 [00:48<01:54,  2.22it/s, loss=0.307]\u001b[A\n",
      " 30%|██▉       | 108/361 [00:49<01:55,  2.20it/s, loss=0.306]\u001b[A\n",
      " 30%|███       | 109/361 [00:49<01:53,  2.22it/s, loss=0.306]\u001b[A\n",
      " 30%|███       | 109/361 [00:49<01:54,  2.20it/s, loss=0.302]\u001b[A\n",
      " 30%|███       | 110/361 [00:49<01:53,  2.22it/s, loss=0.302]\u001b[A\n",
      " 30%|███       | 110/361 [00:50<01:54,  2.20it/s, loss=0.304]\u001b[A\n",
      " 31%|███       | 111/361 [00:50<01:52,  2.22it/s, loss=0.304]\u001b[A\n",
      " 31%|███       | 111/361 [00:50<01:53,  2.20it/s, loss=0.302]\u001b[A\n",
      " 31%|███       | 112/361 [00:50<01:52,  2.22it/s, loss=0.302]\u001b[A\n",
      " 31%|███       | 112/361 [00:50<01:53,  2.20it/s, loss=0.301]\u001b[A\n",
      " 31%|███▏      | 113/361 [00:50<01:51,  2.22it/s, loss=0.301]\u001b[A\n",
      " 31%|███▏      | 113/361 [00:51<01:52,  2.20it/s, loss=0.3]  \u001b[A\n",
      " 32%|███▏      | 114/361 [00:51<01:51,  2.22it/s, loss=0.3]\u001b[A\n",
      " 32%|███▏      | 114/361 [00:51<01:52,  2.20it/s, loss=0.307]\u001b[A\n",
      " 32%|███▏      | 115/361 [00:51<01:50,  2.22it/s, loss=0.307]\u001b[A\n",
      " 32%|███▏      | 115/361 [00:52<01:51,  2.20it/s, loss=0.305]\u001b[A\n",
      " 32%|███▏      | 116/361 [00:52<01:50,  2.22it/s, loss=0.305]\u001b[A\n",
      " 32%|███▏      | 116/361 [00:52<01:51,  2.20it/s, loss=0.305]\u001b[A\n",
      " 32%|███▏      | 117/361 [00:52<01:49,  2.22it/s, loss=0.305]\u001b[A\n",
      " 32%|███▏      | 117/361 [00:53<01:50,  2.20it/s, loss=0.3]  \u001b[A\n",
      " 33%|███▎      | 118/361 [00:53<01:49,  2.22it/s, loss=0.3]\u001b[A\n",
      " 33%|███▎      | 118/361 [00:53<01:50,  2.20it/s, loss=0.297]\u001b[A\n",
      " 33%|███▎      | 119/361 [00:53<01:49,  2.22it/s, loss=0.297]\u001b[A\n",
      " 33%|███▎      | 119/361 [00:54<01:49,  2.20it/s, loss=0.296]\u001b[A\n",
      " 33%|███▎      | 120/361 [00:54<01:48,  2.22it/s, loss=0.296]\u001b[A\n",
      " 33%|███▎      | 120/361 [00:54<01:49,  2.20it/s, loss=0.301]\u001b[A\n",
      " 34%|███▎      | 121/361 [00:54<01:48,  2.22it/s, loss=0.301]\u001b[A\n",
      " 34%|███▎      | 121/361 [00:54<01:49,  2.20it/s, loss=0.301]\u001b[A\n",
      " 34%|███▍      | 122/361 [00:54<01:47,  2.22it/s, loss=0.301]\u001b[A\n",
      " 34%|███▍      | 122/361 [00:55<01:48,  2.20it/s, loss=0.3]  \u001b[A\n",
      " 34%|███▍      | 123/361 [00:55<01:47,  2.22it/s, loss=0.3]\u001b[A\n",
      " 34%|███▍      | 123/361 [00:55<01:48,  2.20it/s, loss=0.301]\u001b[A\n",
      " 34%|███▍      | 124/361 [00:55<01:46,  2.22it/s, loss=0.301]\u001b[A\n",
      " 34%|███▍      | 124/361 [00:56<01:47,  2.20it/s, loss=0.297]\u001b[A\n",
      " 35%|███▍      | 125/361 [00:56<01:46,  2.22it/s, loss=0.297]\u001b[A\n",
      " 35%|███▍      | 125/361 [00:56<01:47,  2.20it/s, loss=0.296]\u001b[A\n",
      " 35%|███▍      | 126/361 [00:56<01:45,  2.22it/s, loss=0.296]\u001b[A\n",
      " 35%|███▍      | 126/361 [00:57<01:46,  2.20it/s, loss=0.293]\u001b[A\n",
      " 35%|███▌      | 127/361 [00:57<01:45,  2.22it/s, loss=0.293]\u001b[A\n"
     ]
    },
    {
     "name": "stdout",
     "output_type": "stream",
     "text": [
      " 35%|███▌      | 127/361 [00:57<01:46,  2.20it/s, loss=0.291]\u001b[A\n",
      " 35%|███▌      | 128/361 [00:57<01:44,  2.22it/s, loss=0.291]\u001b[A\n",
      " 35%|███▌      | 128/361 [00:58<01:45,  2.20it/s, loss=0.29] \u001b[A\n",
      " 36%|███▌      | 129/361 [00:58<01:44,  2.22it/s, loss=0.29]\u001b[A\n",
      " 36%|███▌      | 129/361 [00:58<01:45,  2.20it/s, loss=0.289]\u001b[A\n",
      " 36%|███▌      | 130/361 [00:58<01:44,  2.22it/s, loss=0.289]\u001b[A\n",
      " 36%|███▌      | 130/361 [00:59<01:44,  2.20it/s, loss=0.289]\u001b[A\n",
      " 36%|███▋      | 131/361 [00:59<01:43,  2.22it/s, loss=0.289]\u001b[A\n",
      " 36%|███▋      | 131/361 [00:59<01:44,  2.20it/s, loss=0.287]\u001b[A\n",
      " 37%|███▋      | 132/361 [00:59<01:43,  2.22it/s, loss=0.287]\u001b[A\n",
      " 37%|███▋      | 132/361 [00:59<01:43,  2.20it/s, loss=0.288]\u001b[A\n",
      " 37%|███▋      | 133/361 [00:59<01:42,  2.22it/s, loss=0.288]\u001b[A\n",
      " 37%|███▋      | 133/361 [01:00<01:43,  2.20it/s, loss=0.289]\u001b[A\n",
      " 37%|███▋      | 134/361 [01:00<01:42,  2.22it/s, loss=0.289]\u001b[A\n",
      " 37%|███▋      | 134/361 [01:00<01:43,  2.20it/s, loss=0.29] \u001b[A\n",
      " 37%|███▋      | 135/361 [01:00<01:41,  2.22it/s, loss=0.29]\u001b[A\n",
      " 37%|███▋      | 135/361 [01:01<01:42,  2.20it/s, loss=0.287]\u001b[A\n",
      " 38%|███▊      | 136/361 [01:01<01:41,  2.22it/s, loss=0.287]\u001b[A\n",
      " 38%|███▊      | 136/361 [01:01<01:42,  2.20it/s, loss=0.294]\u001b[A\n",
      " 38%|███▊      | 137/361 [01:01<01:40,  2.22it/s, loss=0.294]\u001b[A\n",
      " 38%|███▊      | 137/361 [01:02<01:41,  2.20it/s, loss=0.291]\u001b[A\n",
      " 38%|███▊      | 138/361 [01:02<01:40,  2.22it/s, loss=0.291]\u001b[A\n",
      " 38%|███▊      | 138/361 [01:02<01:41,  2.20it/s, loss=0.293]\u001b[A\n",
      " 39%|███▊      | 139/361 [01:02<01:40,  2.22it/s, loss=0.293]\u001b[A\n",
      " 39%|███▊      | 139/361 [01:03<01:40,  2.20it/s, loss=0.294]\u001b[A\n",
      " 39%|███▉      | 140/361 [01:03<01:39,  2.22it/s, loss=0.294]\u001b[A\n",
      " 39%|███▉      | 140/361 [01:03<01:40,  2.20it/s, loss=0.293]\u001b[A\n",
      " 39%|███▉      | 141/361 [01:03<01:39,  2.22it/s, loss=0.293]\u001b[A\n",
      " 39%|███▉      | 141/361 [01:03<01:39,  2.20it/s, loss=0.291]\u001b[A\n",
      " 39%|███▉      | 142/361 [01:03<01:38,  2.22it/s, loss=0.291]\u001b[A\n",
      " 39%|███▉      | 142/361 [01:04<01:39,  2.20it/s, loss=0.295]\u001b[A\n",
      " 40%|███▉      | 143/361 [01:04<01:38,  2.22it/s, loss=0.295]\u001b[A\n",
      " 40%|███▉      | 143/361 [01:04<01:38,  2.20it/s, loss=0.298]\u001b[A\n",
      " 40%|███▉      | 144/361 [01:04<01:37,  2.22it/s, loss=0.298]\u001b[A\n",
      " 40%|███▉      | 144/361 [01:05<01:38,  2.20it/s, loss=0.296]\u001b[A\n",
      " 40%|████      | 145/361 [01:05<01:37,  2.22it/s, loss=0.296]\u001b[A\n",
      " 40%|████      | 145/361 [01:05<01:37,  2.20it/s, loss=0.298]\u001b[A\n",
      " 40%|████      | 146/361 [01:05<01:36,  2.22it/s, loss=0.298]\u001b[A\n",
      " 40%|████      | 146/361 [01:06<01:37,  2.21it/s, loss=0.297]\u001b[A\n",
      " 41%|████      | 147/361 [01:06<01:36,  2.22it/s, loss=0.297]\u001b[A\n",
      " 41%|████      | 147/361 [01:06<01:37,  2.21it/s, loss=0.295]\u001b[A\n",
      " 41%|████      | 148/361 [01:06<01:35,  2.22it/s, loss=0.295]\u001b[A\n",
      " 41%|████      | 148/361 [01:07<01:36,  2.21it/s, loss=0.292]\u001b[A\n",
      " 41%|████▏     | 149/361 [01:07<01:35,  2.22it/s, loss=0.292]\u001b[A\n",
      " 41%|████▏     | 149/361 [01:07<01:36,  2.21it/s, loss=0.289]\u001b[A\n",
      " 42%|████▏     | 150/361 [01:07<01:35,  2.22it/s, loss=0.289]\u001b[A\n",
      " 42%|████▏     | 150/361 [01:08<01:35,  2.21it/s, loss=0.285]\u001b[A\n",
      " 42%|████▏     | 151/361 [01:08<01:34,  2.22it/s, loss=0.285]\u001b[A\n",
      " 42%|████▏     | 151/361 [01:08<01:35,  2.21it/s, loss=0.283]\u001b[A\n",
      " 42%|████▏     | 152/361 [01:08<01:34,  2.22it/s, loss=0.283]\u001b[A\n",
      " 42%|████▏     | 152/361 [01:08<01:34,  2.21it/s, loss=0.281]\u001b[A\n",
      " 42%|████▏     | 153/361 [01:08<01:33,  2.22it/s, loss=0.281]\u001b[A\n",
      " 42%|████▏     | 153/361 [01:09<01:34,  2.21it/s, loss=0.277]\u001b[A\n",
      " 43%|████▎     | 154/361 [01:09<01:33,  2.22it/s, loss=0.277]\u001b[A\n",
      " 43%|████▎     | 154/361 [01:09<01:33,  2.21it/s, loss=0.275]\u001b[A\n",
      " 43%|████▎     | 155/361 [01:09<01:32,  2.22it/s, loss=0.275]\u001b[A\n",
      " 43%|████▎     | 155/361 [01:10<01:33,  2.21it/s, loss=0.282]\u001b[A\n",
      " 43%|████▎     | 156/361 [01:10<01:32,  2.22it/s, loss=0.282]\u001b[A\n",
      " 43%|████▎     | 156/361 [01:10<01:32,  2.21it/s, loss=0.28] \u001b[A\n",
      " 43%|████▎     | 157/361 [01:10<01:31,  2.22it/s, loss=0.28]\u001b[A\n",
      " 43%|████▎     | 157/361 [01:11<01:32,  2.21it/s, loss=0.279]\u001b[A\n",
      " 44%|████▍     | 158/361 [01:11<01:31,  2.22it/s, loss=0.279]\u001b[A\n",
      " 44%|████▍     | 158/361 [01:11<01:31,  2.21it/s, loss=0.277]\u001b[A\n",
      " 44%|████▍     | 159/361 [01:11<01:30,  2.22it/s, loss=0.277]\u001b[A\n",
      " 44%|████▍     | 159/361 [01:12<01:31,  2.21it/s, loss=0.281]\u001b[A\n",
      " 44%|████▍     | 160/361 [01:12<01:30,  2.22it/s, loss=0.281]\u001b[A\n",
      " 44%|████▍     | 160/361 [01:12<01:31,  2.21it/s, loss=0.28] \u001b[A\n",
      " 45%|████▍     | 161/361 [01:12<01:30,  2.22it/s, loss=0.28]\u001b[A\n",
      " 45%|████▍     | 161/361 [01:12<01:30,  2.21it/s, loss=0.279]\u001b[A\n",
      " 45%|████▍     | 162/361 [01:12<01:29,  2.22it/s, loss=0.279]\u001b[A\n",
      " 45%|████▍     | 162/361 [01:13<01:30,  2.21it/s, loss=0.278]\u001b[A\n",
      " 45%|████▌     | 163/361 [01:13<01:29,  2.22it/s, loss=0.278]\u001b[A\n",
      " 45%|████▌     | 163/361 [01:13<01:29,  2.21it/s, loss=0.282]\u001b[A\n",
      " 45%|████▌     | 164/361 [01:13<01:28,  2.22it/s, loss=0.282]\u001b[A\n",
      " 45%|████▌     | 164/361 [01:14<01:29,  2.21it/s, loss=0.282]\u001b[A\n",
      " 46%|████▌     | 165/361 [01:14<01:28,  2.22it/s, loss=0.282]\u001b[A\n",
      " 46%|████▌     | 165/361 [01:14<01:28,  2.21it/s, loss=0.282]\u001b[A\n",
      " 46%|████▌     | 166/361 [01:14<01:27,  2.22it/s, loss=0.282]\u001b[A\n",
      " 46%|████▌     | 166/361 [01:15<01:28,  2.21it/s, loss=0.278]\u001b[A\n",
      " 46%|████▋     | 167/361 [01:15<01:27,  2.22it/s, loss=0.278]\u001b[A\n",
      " 46%|████▋     | 167/361 [01:15<01:27,  2.21it/s, loss=0.279]\u001b[A\n",
      " 47%|████▋     | 168/361 [01:15<01:26,  2.22it/s, loss=0.279]\u001b[A\n",
      " 47%|████▋     | 168/361 [01:16<01:27,  2.21it/s, loss=0.277]\u001b[A\n",
      " 47%|████▋     | 169/361 [01:16<01:26,  2.22it/s, loss=0.277]\u001b[A\n",
      " 47%|████▋     | 169/361 [01:16<01:26,  2.21it/s, loss=0.282]\u001b[A\n",
      " 47%|████▋     | 170/361 [01:16<01:26,  2.22it/s, loss=0.282]\u001b[A\n",
      " 47%|████▋     | 170/361 [01:16<01:26,  2.21it/s, loss=0.283]\u001b[A\n",
      " 47%|████▋     | 171/361 [01:17<01:25,  2.22it/s, loss=0.283]\u001b[A\n",
      " 47%|████▋     | 171/361 [01:17<01:26,  2.21it/s, loss=0.284]\u001b[A\n",
      " 48%|████▊     | 172/361 [01:17<01:25,  2.22it/s, loss=0.284]\u001b[A\n",
      " 48%|████▊     | 172/361 [01:17<01:25,  2.21it/s, loss=0.282]\u001b[A\n",
      " 48%|████▊     | 173/361 [01:17<01:24,  2.22it/s, loss=0.282]\u001b[A\n",
      " 48%|████▊     | 173/361 [01:18<01:25,  2.21it/s, loss=0.28] \u001b[A\n",
      " 48%|████▊     | 174/361 [01:18<01:24,  2.22it/s, loss=0.28]\u001b[A\n",
      " 48%|████▊     | 174/361 [01:18<01:24,  2.21it/s, loss=0.281]\u001b[A\n",
      " 48%|████▊     | 175/361 [01:18<01:23,  2.22it/s, loss=0.281]\u001b[A\n",
      " 48%|████▊     | 175/361 [01:19<01:24,  2.21it/s, loss=0.278]\u001b[A\n",
      " 49%|████▉     | 176/361 [01:19<01:23,  2.22it/s, loss=0.278]\u001b[A\n",
      " 49%|████▉     | 176/361 [01:19<01:23,  2.21it/s, loss=0.288]\u001b[A\n",
      " 49%|████▉     | 177/361 [01:19<01:22,  2.22it/s, loss=0.288]\u001b[A\n",
      " 49%|████▉     | 177/361 [01:20<01:23,  2.21it/s, loss=0.286]\u001b[A\n",
      " 49%|████▉     | 178/361 [01:20<01:22,  2.22it/s, loss=0.286]\u001b[A\n",
      " 49%|████▉     | 178/361 [01:20<01:22,  2.21it/s, loss=0.285]\u001b[A\n",
      " 50%|████▉     | 179/361 [01:20<01:21,  2.22it/s, loss=0.285]\u001b[A\n",
      " 50%|████▉     | 179/361 [01:21<01:22,  2.21it/s, loss=0.285]\u001b[A\n",
      " 50%|████▉     | 180/361 [01:21<01:21,  2.22it/s, loss=0.285]\u001b[A\n",
      " 50%|████▉     | 180/361 [01:21<01:21,  2.21it/s, loss=0.288]\u001b[A\n",
      " 50%|█████     | 181/361 [01:21<01:21,  2.22it/s, loss=0.288]\u001b[A\n",
      " 50%|█████     | 181/361 [01:21<01:21,  2.21it/s, loss=0.29] \u001b[A\n",
      " 50%|█████     | 182/361 [01:21<01:20,  2.22it/s, loss=0.29]\u001b[A\n",
      " 50%|█████     | 182/361 [01:22<01:21,  2.21it/s, loss=0.291]\u001b[A\n",
      " 51%|█████     | 183/361 [01:22<01:20,  2.22it/s, loss=0.291]\u001b[A\n",
      " 51%|█████     | 183/361 [01:22<01:20,  2.21it/s, loss=0.291]\u001b[A\n",
      " 51%|█████     | 184/361 [01:22<01:19,  2.22it/s, loss=0.291]\u001b[A\n",
      " 51%|█████     | 184/361 [01:23<01:20,  2.21it/s, loss=0.294]\u001b[A\n",
      " 51%|█████     | 185/361 [01:23<01:19,  2.22it/s, loss=0.294]\u001b[A\n",
      " 51%|█████     | 185/361 [01:23<01:19,  2.21it/s, loss=0.295]\u001b[A\n",
      " 52%|█████▏    | 186/361 [01:23<01:18,  2.22it/s, loss=0.295]\u001b[A\n",
      " 52%|█████▏    | 186/361 [01:24<01:19,  2.21it/s, loss=0.294]\u001b[A\n",
      " 52%|█████▏    | 187/361 [01:24<01:18,  2.22it/s, loss=0.294]\u001b[A\n",
      " 52%|█████▏    | 187/361 [01:24<01:18,  2.21it/s, loss=0.296]\u001b[A\n",
      " 52%|█████▏    | 188/361 [01:24<01:17,  2.22it/s, loss=0.296]\u001b[A\n",
      " 52%|█████▏    | 188/361 [01:25<01:18,  2.21it/s, loss=0.293]\u001b[A\n",
      " 52%|█████▏    | 189/361 [01:25<01:17,  2.22it/s, loss=0.293]\u001b[A\n",
      " 52%|█████▏    | 189/361 [01:25<01:17,  2.21it/s, loss=0.292]\u001b[A\n",
      " 53%|█████▎    | 190/361 [01:25<01:16,  2.22it/s, loss=0.292]\u001b[A\n",
      " 53%|█████▎    | 190/361 [01:25<01:17,  2.21it/s, loss=0.293]\u001b[A\n",
      " 53%|█████▎    | 191/361 [01:25<01:16,  2.22it/s, loss=0.293]\u001b[A\n",
      " 53%|█████▎    | 191/361 [01:26<01:16,  2.21it/s, loss=0.293]\u001b[A\n",
      " 53%|█████▎    | 192/361 [01:26<01:16,  2.22it/s, loss=0.293]\u001b[A\n",
      " 53%|█████▎    | 192/361 [01:26<01:16,  2.21it/s, loss=0.29] \u001b[A\n",
      " 53%|█████▎    | 193/361 [01:26<01:15,  2.22it/s, loss=0.29]\u001b[A\n",
      " 53%|█████▎    | 193/361 [01:27<01:16,  2.21it/s, loss=0.296]\u001b[A\n",
      " 54%|█████▎    | 194/361 [01:27<01:15,  2.22it/s, loss=0.296]\u001b[A\n",
      " 54%|█████▎    | 194/361 [01:27<01:15,  2.21it/s, loss=0.294]\u001b[A\n",
      " 54%|█████▍    | 195/361 [01:27<01:14,  2.22it/s, loss=0.294]\u001b[A\n",
      " 54%|█████▍    | 195/361 [01:28<01:15,  2.21it/s, loss=0.292]\u001b[A\n",
      " 54%|█████▍    | 196/361 [01:28<01:14,  2.22it/s, loss=0.292]\u001b[A\n",
      " 54%|█████▍    | 196/361 [01:28<01:14,  2.21it/s, loss=0.291]\u001b[A\n",
      " 55%|█████▍    | 197/361 [01:28<01:13,  2.22it/s, loss=0.291]\u001b[A\n",
      " 55%|█████▍    | 197/361 [01:29<01:14,  2.21it/s, loss=0.292]\u001b[A\n",
      " 55%|█████▍    | 198/361 [01:29<01:13,  2.22it/s, loss=0.292]\u001b[A\n",
      " 55%|█████▍    | 198/361 [01:29<01:13,  2.21it/s, loss=0.291]\u001b[A\n",
      " 55%|█████▌    | 199/361 [01:29<01:12,  2.22it/s, loss=0.291]\u001b[A\n",
      " 55%|█████▌    | 199/361 [01:29<01:13,  2.21it/s, loss=0.291]\u001b[A\n",
      " 55%|█████▌    | 200/361 [01:30<01:12,  2.22it/s, loss=0.291]\u001b[A\n",
      " 55%|█████▌    | 200/361 [01:30<01:12,  2.21it/s, loss=0.293]\u001b[A\n",
      " 56%|█████▌    | 201/361 [01:30<01:11,  2.22it/s, loss=0.293]\u001b[A\n",
      " 56%|█████▌    | 201/361 [01:30<01:12,  2.21it/s, loss=0.293]\u001b[A\n",
      " 56%|█████▌    | 202/361 [01:30<01:11,  2.22it/s, loss=0.293]\u001b[A\n",
      " 56%|█████▌    | 202/361 [01:31<01:11,  2.21it/s, loss=0.292]\u001b[A\n",
      " 56%|█████▌    | 203/361 [01:31<01:11,  2.22it/s, loss=0.292]\u001b[A\n",
      " 56%|█████▌    | 203/361 [01:31<01:11,  2.21it/s, loss=0.288]\u001b[A\n",
      " 57%|█████▋    | 204/361 [01:31<01:10,  2.22it/s, loss=0.288]\u001b[A\n",
      " 57%|█████▋    | 204/361 [01:32<01:10,  2.21it/s, loss=0.285]\u001b[A\n",
      " 57%|█████▋    | 205/361 [01:32<01:10,  2.22it/s, loss=0.285]\u001b[A\n",
      " 57%|█████▋    | 205/361 [01:32<01:10,  2.21it/s, loss=0.285]\u001b[A\n",
      " 57%|█████▋    | 206/361 [01:32<01:09,  2.22it/s, loss=0.285]\u001b[A\n",
      " 57%|█████▋    | 206/361 [01:33<01:10,  2.21it/s, loss=0.284]\u001b[A\n",
      " 57%|█████▋    | 207/361 [01:33<01:09,  2.22it/s, loss=0.284]\u001b[A\n",
      " 57%|█████▋    | 207/361 [01:33<01:09,  2.21it/s, loss=0.284]\u001b[A\n",
      " 58%|█████▊    | 208/361 [01:33<01:08,  2.22it/s, loss=0.284]\u001b[A\n",
      " 58%|█████▊    | 208/361 [01:34<01:09,  2.21it/s, loss=0.285]\u001b[A\n",
      " 58%|█████▊    | 209/361 [01:34<01:08,  2.22it/s, loss=0.285]\u001b[A\n",
      " 58%|█████▊    | 209/361 [01:34<01:08,  2.21it/s, loss=0.282]\u001b[A\n",
      " 58%|█████▊    | 210/361 [01:34<01:07,  2.22it/s, loss=0.282]\u001b[A\n",
      " 58%|█████▊    | 210/361 [01:34<01:08,  2.21it/s, loss=0.284]\u001b[A\n",
      " 58%|█████▊    | 211/361 [01:34<01:07,  2.22it/s, loss=0.284]\u001b[A\n",
      " 58%|█████▊    | 211/361 [01:35<01:07,  2.21it/s, loss=0.285]\u001b[A\n",
      " 59%|█████▊    | 212/361 [01:35<01:07,  2.22it/s, loss=0.285]\u001b[A\n",
      " 59%|█████▊    | 212/361 [01:35<01:07,  2.21it/s, loss=0.283]\u001b[A\n",
      " 59%|█████▉    | 213/361 [01:35<01:06,  2.22it/s, loss=0.283]\u001b[A\n",
      " 59%|█████▉    | 213/361 [01:36<01:06,  2.21it/s, loss=0.28] \u001b[A\n",
      " 59%|█████▉    | 214/361 [01:36<01:06,  2.22it/s, loss=0.28]\u001b[A\n",
      " 59%|█████▉    | 214/361 [01:36<01:06,  2.21it/s, loss=0.28]\u001b[A\n",
      " 60%|█████▉    | 215/361 [01:36<01:05,  2.22it/s, loss=0.28]\u001b[A\n",
      " 60%|█████▉    | 215/361 [01:37<01:05,  2.21it/s, loss=0.282]\u001b[A\n",
      " 60%|█████▉    | 216/361 [01:37<01:05,  2.22it/s, loss=0.282]\u001b[A\n",
      " 60%|█████▉    | 216/361 [01:37<01:05,  2.21it/s, loss=0.281]\u001b[A\n",
      " 60%|██████    | 217/361 [01:37<01:04,  2.22it/s, loss=0.281]\u001b[A\n",
      " 60%|██████    | 217/361 [01:38<01:05,  2.21it/s, loss=0.285]\u001b[A\n",
      " 60%|██████    | 218/361 [01:38<01:04,  2.22it/s, loss=0.285]\u001b[A\n",
      " 60%|██████    | 218/361 [01:38<01:04,  2.21it/s, loss=0.282]\u001b[A\n",
      " 61%|██████    | 219/361 [01:38<01:03,  2.22it/s, loss=0.282]\u001b[A\n",
      " 61%|██████    | 219/361 [01:38<01:04,  2.21it/s, loss=0.279]\u001b[A\n",
      " 61%|██████    | 220/361 [01:38<01:03,  2.22it/s, loss=0.279]\u001b[A\n",
      " 61%|██████    | 220/361 [01:39<01:03,  2.21it/s, loss=0.28] \u001b[A\n",
      " 61%|██████    | 221/361 [01:39<01:02,  2.22it/s, loss=0.28]\u001b[A\n",
      " 61%|██████    | 221/361 [01:39<01:03,  2.21it/s, loss=0.279]\u001b[A\n",
      " 61%|██████▏   | 222/361 [01:39<01:02,  2.22it/s, loss=0.279]\u001b[A\n",
      " 61%|██████▏   | 222/361 [01:40<01:02,  2.21it/s, loss=0.277]\u001b[A\n",
      " 62%|██████▏   | 223/361 [01:40<01:02,  2.22it/s, loss=0.277]\u001b[A\n",
      " 62%|██████▏   | 223/361 [01:40<01:02,  2.21it/s, loss=0.277]\u001b[A\n",
      " 62%|██████▏   | 224/361 [01:40<01:01,  2.22it/s, loss=0.277]\u001b[A\n",
      " 62%|██████▏   | 224/361 [01:41<01:01,  2.21it/s, loss=0.277]\u001b[A\n",
      " 62%|██████▏   | 225/361 [01:41<01:01,  2.22it/s, loss=0.277]\u001b[A\n",
      " 62%|██████▏   | 225/361 [01:41<01:01,  2.21it/s, loss=0.275]\u001b[A\n",
      " 63%|██████▎   | 226/361 [01:41<01:00,  2.22it/s, loss=0.275]\u001b[A\n",
      " 63%|██████▎   | 226/361 [01:42<01:01,  2.21it/s, loss=0.281]\u001b[A\n",
      " 63%|██████▎   | 227/361 [01:42<01:00,  2.22it/s, loss=0.281]\u001b[A\n",
      " 63%|██████▎   | 227/361 [01:42<01:00,  2.21it/s, loss=0.281]\u001b[A\n",
      " 63%|██████▎   | 228/361 [01:42<00:59,  2.22it/s, loss=0.281]\u001b[A\n",
      " 63%|██████▎   | 228/361 [01:43<01:00,  2.21it/s, loss=0.282]\u001b[A\n",
      " 63%|██████▎   | 229/361 [01:43<00:59,  2.22it/s, loss=0.282]\u001b[A\n",
      " 63%|██████▎   | 229/361 [01:43<00:59,  2.21it/s, loss=0.284]\u001b[A\n",
      " 64%|██████▎   | 230/361 [01:43<00:58,  2.22it/s, loss=0.284]\u001b[A\n",
      " 64%|██████▎   | 230/361 [01:43<00:59,  2.21it/s, loss=0.283]\u001b[A\n",
      " 64%|██████▍   | 231/361 [01:43<00:58,  2.22it/s, loss=0.283]\u001b[A\n",
      " 64%|██████▍   | 231/361 [01:44<00:58,  2.21it/s, loss=0.281]\u001b[A\n",
      " 64%|██████▍   | 232/361 [01:44<00:58,  2.22it/s, loss=0.281]\u001b[A\n",
      " 64%|██████▍   | 232/361 [01:44<00:58,  2.21it/s, loss=0.278]\u001b[A\n",
      " 65%|██████▍   | 233/361 [01:44<00:57,  2.22it/s, loss=0.278]\u001b[A\n",
      " 65%|██████▍   | 233/361 [01:45<00:57,  2.21it/s, loss=0.275]\u001b[A\n",
      " 65%|██████▍   | 234/361 [01:45<00:57,  2.22it/s, loss=0.275]\u001b[A\n",
      " 65%|██████▍   | 234/361 [01:45<00:57,  2.21it/s, loss=0.276]\u001b[A\n",
      " 65%|██████▌   | 235/361 [01:45<00:56,  2.22it/s, loss=0.276]\u001b[A\n",
      " 65%|██████▌   | 235/361 [01:46<00:56,  2.21it/s, loss=0.276]\u001b[A\n",
      " 65%|██████▌   | 236/361 [01:46<00:56,  2.22it/s, loss=0.276]\u001b[A\n",
      " 65%|██████▌   | 236/361 [01:46<00:56,  2.21it/s, loss=0.274]\u001b[A\n",
      " 66%|██████▌   | 237/361 [01:46<00:55,  2.22it/s, loss=0.274]\u001b[A\n",
      " 66%|██████▌   | 237/361 [01:47<00:56,  2.21it/s, loss=0.272]\u001b[A\n",
      " 66%|██████▌   | 238/361 [01:47<00:55,  2.22it/s, loss=0.272]\u001b[A\n",
      " 66%|██████▌   | 238/361 [01:47<00:55,  2.21it/s, loss=0.271]\u001b[A\n",
      " 66%|██████▌   | 239/361 [01:47<00:54,  2.22it/s, loss=0.271]\u001b[A\n",
      " 66%|██████▌   | 239/361 [01:47<00:55,  2.21it/s, loss=0.279]\u001b[A\n",
      " 66%|██████▋   | 240/361 [01:47<00:54,  2.22it/s, loss=0.279]\u001b[A\n",
      " 66%|██████▋   | 240/361 [01:48<00:54,  2.22it/s, loss=0.284]\u001b[A\n",
      " 67%|██████▋   | 241/361 [01:48<00:53,  2.22it/s, loss=0.284]\u001b[A\n",
      " 67%|██████▋   | 241/361 [01:48<00:54,  2.22it/s, loss=0.281]\u001b[A\n",
      " 67%|██████▋   | 242/361 [01:48<00:53,  2.22it/s, loss=0.281]\u001b[A\n",
      " 67%|██████▋   | 242/361 [01:49<00:53,  2.22it/s, loss=0.283]\u001b[A\n",
      " 67%|██████▋   | 243/361 [01:49<00:53,  2.23it/s, loss=0.283]\u001b[A\n",
      " 67%|██████▋   | 243/361 [01:49<00:53,  2.22it/s, loss=0.282]\u001b[A\n",
      " 68%|██████▊   | 244/361 [01:49<00:52,  2.23it/s, loss=0.282]\u001b[A\n",
      " 68%|██████▊   | 244/361 [01:50<00:52,  2.22it/s, loss=0.284]\u001b[A\n",
      " 68%|██████▊   | 245/361 [01:50<00:52,  2.23it/s, loss=0.284]\u001b[A\n",
      " 68%|██████▊   | 245/361 [01:50<00:52,  2.22it/s, loss=0.282]\u001b[A\n",
      " 68%|██████▊   | 246/361 [01:50<00:51,  2.23it/s, loss=0.282]\u001b[A\n",
      " 68%|██████▊   | 246/361 [01:50<00:51,  2.22it/s, loss=0.282]\u001b[A\n",
      " 68%|██████▊   | 247/361 [01:50<00:51,  2.23it/s, loss=0.282]\u001b[A\n",
      " 68%|██████▊   | 247/361 [01:51<00:51,  2.22it/s, loss=0.281]\u001b[A\n",
      " 69%|██████▊   | 248/361 [01:51<00:50,  2.23it/s, loss=0.281]\u001b[A\n",
      " 69%|██████▊   | 248/361 [01:51<00:50,  2.22it/s, loss=0.282]\u001b[A\n",
      " 69%|██████▉   | 249/361 [01:51<00:50,  2.23it/s, loss=0.282]\u001b[A\n",
      " 69%|██████▉   | 249/361 [01:52<00:50,  2.22it/s, loss=0.289]\u001b[A\n",
      " 69%|██████▉   | 250/361 [01:52<00:49,  2.23it/s, loss=0.289]\u001b[A\n",
      " 69%|██████▉   | 250/361 [01:52<00:50,  2.22it/s, loss=0.287]\u001b[A\n",
      " 70%|██████▉   | 251/361 [01:52<00:49,  2.23it/s, loss=0.287]\u001b[A\n",
      " 70%|██████▉   | 251/361 [01:53<00:49,  2.22it/s, loss=0.286]\u001b[A\n",
      " 70%|██████▉   | 252/361 [01:53<00:48,  2.23it/s, loss=0.286]\u001b[A\n",
      " 70%|██████▉   | 252/361 [01:53<00:49,  2.22it/s, loss=0.283]\u001b[A\n",
      " 70%|███████   | 253/361 [01:53<00:48,  2.23it/s, loss=0.283]\u001b[A\n"
     ]
    },
    {
     "name": "stdout",
     "output_type": "stream",
     "text": [
      " 70%|███████   | 253/361 [01:53<00:48,  2.22it/s, loss=0.279]\u001b[A\n",
      " 70%|███████   | 254/361 [01:53<00:48,  2.23it/s, loss=0.279]\u001b[A\n",
      " 70%|███████   | 254/361 [01:54<00:48,  2.22it/s, loss=0.28] \u001b[A\n",
      " 71%|███████   | 255/361 [01:54<00:47,  2.23it/s, loss=0.28]\u001b[A\n",
      " 71%|███████   | 255/361 [01:54<00:47,  2.22it/s, loss=0.282]\u001b[A\n",
      " 71%|███████   | 256/361 [01:54<00:47,  2.23it/s, loss=0.282]\u001b[A\n",
      " 71%|███████   | 256/361 [01:55<00:47,  2.22it/s, loss=0.28] \u001b[A\n",
      " 71%|███████   | 257/361 [01:55<00:46,  2.23it/s, loss=0.28]\u001b[A\n",
      " 71%|███████   | 257/361 [01:55<00:46,  2.22it/s, loss=0.285]\u001b[A\n",
      " 71%|███████▏  | 258/361 [01:55<00:46,  2.23it/s, loss=0.285]\u001b[A\n",
      " 71%|███████▏  | 258/361 [01:56<00:46,  2.22it/s, loss=0.286]\u001b[A\n",
      " 72%|███████▏  | 259/361 [01:56<00:45,  2.23it/s, loss=0.286]\u001b[A\n",
      " 72%|███████▏  | 259/361 [01:56<00:45,  2.22it/s, loss=0.286]\u001b[A\n",
      " 72%|███████▏  | 260/361 [01:56<00:45,  2.23it/s, loss=0.286]\u001b[A\n",
      " 72%|███████▏  | 260/361 [01:56<00:45,  2.22it/s, loss=0.285]\u001b[A\n",
      " 72%|███████▏  | 261/361 [01:56<00:44,  2.23it/s, loss=0.285]\u001b[A\n",
      " 72%|███████▏  | 261/361 [01:57<00:44,  2.22it/s, loss=0.283]\u001b[A\n",
      " 73%|███████▎  | 262/361 [01:57<00:44,  2.23it/s, loss=0.283]\u001b[A\n",
      " 73%|███████▎  | 262/361 [01:57<00:44,  2.22it/s, loss=0.285]\u001b[A\n",
      " 73%|███████▎  | 263/361 [01:57<00:43,  2.23it/s, loss=0.285]\u001b[A\n",
      " 73%|███████▎  | 263/361 [01:58<00:44,  2.22it/s, loss=0.285]\u001b[A\n",
      " 73%|███████▎  | 264/361 [01:58<00:43,  2.23it/s, loss=0.285]\u001b[A\n",
      " 73%|███████▎  | 264/361 [01:58<00:43,  2.22it/s, loss=0.284]\u001b[A\n",
      " 73%|███████▎  | 265/361 [01:58<00:43,  2.23it/s, loss=0.284]\u001b[A\n",
      " 73%|███████▎  | 265/361 [01:59<00:43,  2.22it/s, loss=0.283]\u001b[A\n",
      " 74%|███████▎  | 266/361 [01:59<00:42,  2.23it/s, loss=0.283]\u001b[A\n",
      " 74%|███████▎  | 266/361 [01:59<00:42,  2.22it/s, loss=0.279]\u001b[A\n",
      " 74%|███████▍  | 267/361 [01:59<00:42,  2.23it/s, loss=0.279]\u001b[A\n",
      " 74%|███████▍  | 267/361 [02:00<00:42,  2.22it/s, loss=0.279]\u001b[A\n",
      " 74%|███████▍  | 268/361 [02:00<00:41,  2.23it/s, loss=0.279]\u001b[A\n",
      " 74%|███████▍  | 268/361 [02:00<00:41,  2.22it/s, loss=0.28] \u001b[A\n",
      " 75%|███████▍  | 269/361 [02:00<00:41,  2.23it/s, loss=0.28]\u001b[A\n",
      " 75%|███████▍  | 269/361 [02:00<00:41,  2.23it/s, loss=0.277]\u001b[A\n",
      " 75%|███████▍  | 270/361 [02:00<00:40,  2.23it/s, loss=0.277]\u001b[A\n",
      " 75%|███████▍  | 270/361 [02:01<00:40,  2.23it/s, loss=0.275]\u001b[A\n",
      " 75%|███████▌  | 271/361 [02:01<00:40,  2.23it/s, loss=0.275]\u001b[A\n",
      " 75%|███████▌  | 271/361 [02:01<00:40,  2.23it/s, loss=0.278]\u001b[A\n",
      " 75%|███████▌  | 272/361 [02:01<00:39,  2.23it/s, loss=0.278]\u001b[A\n",
      " 75%|███████▌  | 272/361 [02:02<00:39,  2.23it/s, loss=0.281]\u001b[A\n",
      " 76%|███████▌  | 273/361 [02:02<00:39,  2.23it/s, loss=0.281]\u001b[A\n",
      " 76%|███████▌  | 273/361 [02:02<00:39,  2.23it/s, loss=0.281]\u001b[A\n",
      " 76%|███████▌  | 274/361 [02:02<00:38,  2.23it/s, loss=0.281]\u001b[A\n",
      " 76%|███████▌  | 274/361 [02:03<00:39,  2.23it/s, loss=0.281]\u001b[A\n",
      " 76%|███████▌  | 275/361 [02:03<00:38,  2.23it/s, loss=0.281]\u001b[A\n",
      " 76%|███████▌  | 275/361 [02:03<00:38,  2.23it/s, loss=0.283]\u001b[A\n",
      " 76%|███████▋  | 276/361 [02:03<00:38,  2.24it/s, loss=0.283]\u001b[A\n",
      " 76%|███████▋  | 276/361 [02:03<00:38,  2.23it/s, loss=0.279]\u001b[A\n",
      " 77%|███████▋  | 277/361 [02:03<00:37,  2.24it/s, loss=0.279]\u001b[A\n",
      " 77%|███████▋  | 277/361 [02:04<00:37,  2.23it/s, loss=0.277]\u001b[A\n",
      " 77%|███████▋  | 278/361 [02:04<00:37,  2.24it/s, loss=0.277]\u001b[A\n",
      " 77%|███████▋  | 278/361 [02:04<00:37,  2.23it/s, loss=0.274]\u001b[A\n",
      " 77%|███████▋  | 279/361 [02:04<00:36,  2.24it/s, loss=0.274]\u001b[A\n",
      " 77%|███████▋  | 279/361 [02:05<00:36,  2.23it/s, loss=0.276]\u001b[A\n",
      " 78%|███████▊  | 280/361 [02:05<00:36,  2.24it/s, loss=0.276]\u001b[A\n",
      " 78%|███████▊  | 280/361 [02:05<00:36,  2.23it/s, loss=0.275]\u001b[A\n",
      " 78%|███████▊  | 281/361 [02:05<00:35,  2.24it/s, loss=0.275]\u001b[A\n",
      " 78%|███████▊  | 281/361 [02:06<00:35,  2.23it/s, loss=0.272]\u001b[A\n",
      " 78%|███████▊  | 282/361 [02:06<00:35,  2.24it/s, loss=0.272]\u001b[A\n",
      " 78%|███████▊  | 282/361 [02:06<00:35,  2.23it/s, loss=0.273]\u001b[A\n",
      " 78%|███████▊  | 283/361 [02:06<00:34,  2.24it/s, loss=0.273]\u001b[A\n",
      " 78%|███████▊  | 283/361 [02:06<00:34,  2.23it/s, loss=0.275]\u001b[A\n",
      " 79%|███████▊  | 284/361 [02:06<00:34,  2.24it/s, loss=0.275]\u001b[A\n",
      " 79%|███████▊  | 284/361 [02:07<00:34,  2.23it/s, loss=0.277]\u001b[A\n",
      " 79%|███████▉  | 285/361 [02:07<00:33,  2.24it/s, loss=0.277]\u001b[A\n",
      " 79%|███████▉  | 285/361 [02:07<00:34,  2.23it/s, loss=0.278]\u001b[A\n",
      " 79%|███████▉  | 286/361 [02:07<00:33,  2.24it/s, loss=0.278]\u001b[A\n",
      " 79%|███████▉  | 286/361 [02:08<00:33,  2.23it/s, loss=0.275]\u001b[A\n",
      " 80%|███████▉  | 287/361 [02:08<00:33,  2.24it/s, loss=0.275]\u001b[A\n",
      " 80%|███████▉  | 287/361 [02:08<00:33,  2.23it/s, loss=0.274]\u001b[A\n",
      " 80%|███████▉  | 288/361 [02:08<00:32,  2.24it/s, loss=0.274]\u001b[A\n",
      " 80%|███████▉  | 288/361 [02:09<00:32,  2.23it/s, loss=0.272]\u001b[A\n",
      " 80%|████████  | 289/361 [02:09<00:32,  2.24it/s, loss=0.272]\u001b[A\n",
      " 80%|████████  | 289/361 [02:09<00:32,  2.23it/s, loss=0.27] \u001b[A\n",
      " 80%|████████  | 290/361 [02:09<00:31,  2.24it/s, loss=0.27]\u001b[A\n",
      " 80%|████████  | 290/361 [02:09<00:31,  2.23it/s, loss=0.27]\u001b[A\n",
      " 81%|████████  | 291/361 [02:09<00:31,  2.24it/s, loss=0.27]\u001b[A\n",
      " 81%|████████  | 291/361 [02:10<00:31,  2.23it/s, loss=0.269]\u001b[A\n",
      " 81%|████████  | 292/361 [02:10<00:30,  2.24it/s, loss=0.269]\u001b[A\n",
      " 81%|████████  | 292/361 [02:10<00:30,  2.23it/s, loss=0.268]\u001b[A\n",
      " 81%|████████  | 293/361 [02:10<00:30,  2.24it/s, loss=0.268]\u001b[A\n",
      " 81%|████████  | 293/361 [02:11<00:30,  2.23it/s, loss=0.265]\u001b[A\n",
      " 81%|████████▏ | 294/361 [02:11<00:29,  2.24it/s, loss=0.265]\u001b[A\n",
      " 81%|████████▏ | 294/361 [02:11<00:30,  2.23it/s, loss=0.266]\u001b[A\n",
      " 82%|████████▏ | 295/361 [02:11<00:29,  2.24it/s, loss=0.266]\u001b[A\n",
      " 82%|████████▏ | 295/361 [02:12<00:29,  2.23it/s, loss=0.272]\u001b[A\n",
      " 82%|████████▏ | 296/361 [02:12<00:29,  2.24it/s, loss=0.272]\u001b[A\n",
      " 82%|████████▏ | 296/361 [02:12<00:29,  2.23it/s, loss=0.269]\u001b[A\n",
      " 82%|████████▏ | 297/361 [02:12<00:28,  2.24it/s, loss=0.269]\u001b[A\n",
      " 82%|████████▏ | 297/361 [02:13<00:28,  2.23it/s, loss=0.27] \u001b[A\n",
      " 83%|████████▎ | 298/361 [02:13<00:28,  2.24it/s, loss=0.27]\u001b[A\n",
      " 83%|████████▎ | 298/361 [02:13<00:28,  2.23it/s, loss=0.271]\u001b[A\n",
      " 83%|████████▎ | 299/361 [02:13<00:27,  2.24it/s, loss=0.271]\u001b[A\n",
      " 83%|████████▎ | 299/361 [02:13<00:27,  2.23it/s, loss=0.276]\u001b[A\n",
      " 83%|████████▎ | 300/361 [02:13<00:27,  2.24it/s, loss=0.276]\u001b[A\n",
      " 83%|████████▎ | 300/361 [02:14<00:27,  2.23it/s, loss=0.277]\u001b[A\n",
      " 83%|████████▎ | 301/361 [02:14<00:26,  2.24it/s, loss=0.277]\u001b[A\n",
      " 83%|████████▎ | 301/361 [02:14<00:26,  2.23it/s, loss=0.274]\u001b[A\n",
      " 84%|████████▎ | 302/361 [02:14<00:26,  2.24it/s, loss=0.274]\u001b[A\n",
      " 84%|████████▎ | 302/361 [02:15<00:26,  2.23it/s, loss=0.272]\u001b[A\n",
      " 84%|████████▍ | 303/361 [02:15<00:25,  2.24it/s, loss=0.272]\u001b[A\n",
      " 84%|████████▍ | 303/361 [02:15<00:25,  2.23it/s, loss=0.272]\u001b[A\n",
      " 84%|████████▍ | 304/361 [02:15<00:25,  2.24it/s, loss=0.272]\u001b[A\n",
      " 84%|████████▍ | 304/361 [02:16<00:25,  2.23it/s, loss=0.269]\u001b[A\n",
      " 84%|████████▍ | 305/361 [02:16<00:24,  2.24it/s, loss=0.269]\u001b[A\n",
      " 84%|████████▍ | 305/361 [02:16<00:25,  2.23it/s, loss=0.267]\u001b[A\n",
      " 85%|████████▍ | 306/361 [02:16<00:24,  2.24it/s, loss=0.267]\u001b[A\n",
      " 85%|████████▍ | 306/361 [02:16<00:24,  2.24it/s, loss=0.265]\u001b[A\n",
      " 85%|████████▌ | 307/361 [02:16<00:24,  2.24it/s, loss=0.265]\u001b[A\n",
      " 85%|████████▌ | 307/361 [02:17<00:24,  2.24it/s, loss=0.264]\u001b[A\n",
      " 85%|████████▌ | 308/361 [02:17<00:23,  2.24it/s, loss=0.264]\u001b[A\n",
      " 85%|████████▌ | 308/361 [02:17<00:23,  2.24it/s, loss=0.265]\u001b[A\n",
      " 86%|████████▌ | 309/361 [02:17<00:23,  2.24it/s, loss=0.265]\u001b[A\n",
      " 86%|████████▌ | 309/361 [02:18<00:23,  2.24it/s, loss=0.265]\u001b[A\n",
      " 86%|████████▌ | 310/361 [02:18<00:22,  2.24it/s, loss=0.265]\u001b[A\n",
      " 86%|████████▌ | 310/361 [02:18<00:22,  2.24it/s, loss=0.266]\u001b[A\n",
      " 86%|████████▌ | 311/361 [02:18<00:22,  2.24it/s, loss=0.266]\u001b[A\n",
      " 86%|████████▌ | 311/361 [02:19<00:22,  2.24it/s, loss=0.265]\u001b[A\n",
      " 86%|████████▋ | 312/361 [02:19<00:21,  2.24it/s, loss=0.265]\u001b[A\n",
      " 86%|████████▋ | 312/361 [02:19<00:21,  2.24it/s, loss=0.262]\u001b[A\n",
      " 87%|████████▋ | 313/361 [02:19<00:21,  2.24it/s, loss=0.262]\u001b[A\n",
      " 87%|████████▋ | 313/361 [02:19<00:21,  2.24it/s, loss=0.262]\u001b[A\n",
      " 87%|████████▋ | 314/361 [02:19<00:20,  2.24it/s, loss=0.262]\u001b[A\n",
      " 87%|████████▋ | 314/361 [02:20<00:21,  2.24it/s, loss=0.263]\u001b[A\n",
      " 87%|████████▋ | 315/361 [02:20<00:20,  2.24it/s, loss=0.263]\u001b[A\n",
      " 87%|████████▋ | 315/361 [02:20<00:20,  2.24it/s, loss=0.261]\u001b[A\n",
      " 88%|████████▊ | 316/361 [02:20<00:20,  2.24it/s, loss=0.261]\u001b[A\n",
      " 88%|████████▊ | 316/361 [02:21<00:20,  2.24it/s, loss=0.266]\u001b[A\n",
      " 88%|████████▊ | 317/361 [02:21<00:19,  2.24it/s, loss=0.266]\u001b[A\n",
      " 88%|████████▊ | 317/361 [02:21<00:19,  2.24it/s, loss=0.266]\u001b[A\n",
      " 88%|████████▊ | 318/361 [02:21<00:19,  2.24it/s, loss=0.266]\u001b[A\n",
      " 88%|████████▊ | 318/361 [02:22<00:19,  2.24it/s, loss=0.266]\u001b[A\n",
      " 88%|████████▊ | 319/361 [02:22<00:18,  2.25it/s, loss=0.266]\u001b[A\n",
      " 88%|████████▊ | 319/361 [02:22<00:18,  2.24it/s, loss=0.266]\u001b[A\n",
      " 89%|████████▊ | 320/361 [02:22<00:18,  2.25it/s, loss=0.266]\u001b[A\n",
      " 89%|████████▊ | 320/361 [02:22<00:18,  2.24it/s, loss=0.263]\u001b[A\n",
      " 89%|████████▉ | 321/361 [02:22<00:17,  2.25it/s, loss=0.263]\u001b[A\n",
      " 89%|████████▉ | 321/361 [02:23<00:17,  2.24it/s, loss=0.265]\u001b[A\n",
      " 89%|████████▉ | 322/361 [02:23<00:17,  2.25it/s, loss=0.265]\u001b[A\n",
      " 89%|████████▉ | 322/361 [02:23<00:17,  2.24it/s, loss=0.262]\u001b[A\n",
      " 89%|████████▉ | 323/361 [02:23<00:16,  2.25it/s, loss=0.262]\u001b[A\n",
      " 89%|████████▉ | 323/361 [02:24<00:16,  2.24it/s, loss=0.265]\u001b[A\n",
      " 90%|████████▉ | 324/361 [02:24<00:16,  2.25it/s, loss=0.265]\u001b[A\n",
      " 90%|████████▉ | 324/361 [02:24<00:16,  2.24it/s, loss=0.263]\u001b[A\n",
      " 90%|█████████ | 325/361 [02:24<00:16,  2.25it/s, loss=0.263]\u001b[A\n",
      " 90%|█████████ | 325/361 [02:25<00:16,  2.24it/s, loss=0.262]\u001b[A\n",
      " 90%|█████████ | 326/361 [02:25<00:15,  2.25it/s, loss=0.262]\u001b[A\n",
      " 90%|█████████ | 326/361 [02:25<00:15,  2.24it/s, loss=0.262]\u001b[A\n",
      " 91%|█████████ | 327/361 [02:25<00:15,  2.25it/s, loss=0.262]\u001b[A\n",
      " 91%|█████████ | 327/361 [02:25<00:15,  2.24it/s, loss=0.262]\u001b[A\n",
      " 91%|█████████ | 328/361 [02:25<00:14,  2.25it/s, loss=0.262]\u001b[A\n",
      " 91%|█████████ | 328/361 [02:26<00:14,  2.24it/s, loss=0.262]\u001b[A\n",
      " 91%|█████████ | 329/361 [02:26<00:14,  2.25it/s, loss=0.262]\u001b[A\n",
      " 91%|█████████ | 329/361 [02:26<00:14,  2.24it/s, loss=0.26] \u001b[A\n",
      " 91%|█████████▏| 330/361 [02:26<00:13,  2.25it/s, loss=0.26]\u001b[A\n",
      " 91%|█████████▏| 330/361 [02:27<00:13,  2.24it/s, loss=0.262]\u001b[A\n",
      " 92%|█████████▏| 331/361 [02:27<00:13,  2.25it/s, loss=0.262]\u001b[A\n",
      " 92%|█████████▏| 331/361 [02:27<00:13,  2.24it/s, loss=0.259]\u001b[A\n",
      " 92%|█████████▏| 332/361 [02:27<00:12,  2.25it/s, loss=0.259]\u001b[A\n",
      " 92%|█████████▏| 332/361 [02:28<00:12,  2.24it/s, loss=0.257]\u001b[A\n",
      " 92%|█████████▏| 333/361 [02:28<00:12,  2.25it/s, loss=0.257]\u001b[A\n",
      " 92%|█████████▏| 333/361 [02:28<00:12,  2.24it/s, loss=0.255]\u001b[A\n",
      " 93%|█████████▎| 334/361 [02:28<00:12,  2.25it/s, loss=0.255]\u001b[A\n",
      " 93%|█████████▎| 334/361 [02:29<00:12,  2.24it/s, loss=0.255]\u001b[A\n",
      " 93%|█████████▎| 335/361 [02:29<00:11,  2.25it/s, loss=0.255]\u001b[A\n",
      " 93%|█████████▎| 335/361 [02:29<00:11,  2.24it/s, loss=0.253]\u001b[A\n",
      " 93%|█████████▎| 336/361 [02:29<00:11,  2.25it/s, loss=0.253]\u001b[A\n",
      " 93%|█████████▎| 336/361 [02:29<00:11,  2.24it/s, loss=0.254]\u001b[A\n",
      " 93%|█████████▎| 337/361 [02:29<00:10,  2.25it/s, loss=0.254]\u001b[A\n",
      " 93%|█████████▎| 337/361 [02:30<00:10,  2.24it/s, loss=0.252]\u001b[A\n",
      " 94%|█████████▎| 338/361 [02:30<00:10,  2.25it/s, loss=0.252]\u001b[A\n",
      " 94%|█████████▎| 338/361 [02:30<00:10,  2.24it/s, loss=0.253]\u001b[A\n",
      " 94%|█████████▍| 339/361 [02:30<00:09,  2.25it/s, loss=0.253]\u001b[A\n",
      " 94%|█████████▍| 339/361 [02:31<00:09,  2.24it/s, loss=0.251]\u001b[A\n",
      " 94%|█████████▍| 340/361 [02:31<00:09,  2.25it/s, loss=0.251]\u001b[A\n",
      " 94%|█████████▍| 340/361 [02:31<00:09,  2.24it/s, loss=0.251]\u001b[A\n",
      " 94%|█████████▍| 341/361 [02:31<00:08,  2.25it/s, loss=0.251]\u001b[A\n",
      " 94%|█████████▍| 341/361 [02:32<00:08,  2.24it/s, loss=0.247]\u001b[A\n",
      " 95%|█████████▍| 342/361 [02:32<00:08,  2.25it/s, loss=0.247]\u001b[A\n",
      " 95%|█████████▍| 342/361 [02:32<00:08,  2.24it/s, loss=0.247]\u001b[A\n",
      " 95%|█████████▌| 343/361 [02:32<00:08,  2.25it/s, loss=0.247]\u001b[A\n",
      " 95%|█████████▌| 343/361 [02:32<00:08,  2.24it/s, loss=0.249]\u001b[A\n",
      " 95%|█████████▌| 344/361 [02:32<00:07,  2.25it/s, loss=0.249]\u001b[A\n",
      " 95%|█████████▌| 344/361 [02:33<00:07,  2.24it/s, loss=0.247]\u001b[A\n",
      " 96%|█████████▌| 345/361 [02:33<00:07,  2.25it/s, loss=0.247]\u001b[A\n",
      " 96%|█████████▌| 345/361 [02:33<00:07,  2.24it/s, loss=0.244]\u001b[A\n",
      " 96%|█████████▌| 346/361 [02:33<00:06,  2.25it/s, loss=0.244]\u001b[A\n",
      " 96%|█████████▌| 346/361 [02:34<00:06,  2.24it/s, loss=0.247]\u001b[A\n",
      " 96%|█████████▌| 347/361 [02:34<00:06,  2.25it/s, loss=0.247]\u001b[A\n",
      " 96%|█████████▌| 347/361 [02:34<00:06,  2.24it/s, loss=0.245]\u001b[A\n",
      " 96%|█████████▋| 348/361 [02:34<00:05,  2.25it/s, loss=0.245]\u001b[A\n",
      " 96%|█████████▋| 348/361 [02:35<00:05,  2.24it/s, loss=0.246]\u001b[A\n",
      " 97%|█████████▋| 349/361 [02:35<00:05,  2.25it/s, loss=0.246]\u001b[A\n",
      " 97%|█████████▋| 349/361 [02:35<00:05,  2.24it/s, loss=0.246]\u001b[A\n",
      " 97%|█████████▋| 350/361 [02:35<00:04,  2.25it/s, loss=0.246]\u001b[A\n",
      " 97%|█████████▋| 350/361 [02:35<00:04,  2.24it/s, loss=0.25] \u001b[A\n",
      " 97%|█████████▋| 351/361 [02:35<00:04,  2.25it/s, loss=0.25]\u001b[A\n",
      " 97%|█████████▋| 351/361 [02:36<00:04,  2.24it/s, loss=0.257]\u001b[A\n",
      " 98%|█████████▊| 352/361 [02:36<00:03,  2.25it/s, loss=0.257]\u001b[A\n",
      " 98%|█████████▊| 352/361 [02:36<00:04,  2.24it/s, loss=0.255]\u001b[A\n",
      " 98%|█████████▊| 353/361 [02:36<00:03,  2.25it/s, loss=0.255]\u001b[A\n",
      " 98%|█████████▊| 353/361 [02:37<00:03,  2.25it/s, loss=0.252]\u001b[A\n",
      " 98%|█████████▊| 354/361 [02:37<00:03,  2.25it/s, loss=0.252]\u001b[A\n",
      " 98%|█████████▊| 354/361 [02:37<00:03,  2.25it/s, loss=0.25] \u001b[A\n",
      " 98%|█████████▊| 355/361 [02:37<00:02,  2.25it/s, loss=0.25]\u001b[A\n",
      " 98%|█████████▊| 355/361 [02:38<00:02,  2.25it/s, loss=0.254]\u001b[A\n",
      " 99%|█████████▊| 356/361 [02:38<00:02,  2.25it/s, loss=0.254]\u001b[A\n",
      " 99%|█████████▊| 356/361 [02:38<00:02,  2.25it/s, loss=0.253]\u001b[A\n",
      " 99%|█████████▉| 357/361 [02:38<00:01,  2.25it/s, loss=0.253]\u001b[A\n",
      " 99%|█████████▉| 357/361 [02:38<00:01,  2.25it/s, loss=0.263]\u001b[A\n",
      " 99%|█████████▉| 358/361 [02:38<00:01,  2.25it/s, loss=0.263]\u001b[A\n",
      " 99%|█████████▉| 358/361 [02:39<00:01,  2.25it/s, loss=0.26] \u001b[A\n",
      " 99%|█████████▉| 359/361 [02:39<00:00,  2.25it/s, loss=0.26]\u001b[A\n",
      " 99%|█████████▉| 359/361 [02:39<00:00,  2.25it/s, loss=0.262]\u001b[A\n",
      "100%|█████████▉| 360/361 [02:39<00:00,  2.25it/s, loss=0.262]\u001b[A\n",
      "100%|█████████▉| 360/361 [02:40<00:00,  2.25it/s, loss=0.263]\u001b[A\n",
      "100%|██████████| 361/361 [02:40<00:00,  2.25it/s, loss=0.263]\u001b[A\n",
      "                                                             \u001b[A[ 0.       0.2627   0.71612  0.79078]\n",
      "\n",
      "CPU times: user 3min 24s, sys: 1min 9s, total: 4min 33s\n",
      "Wall time: 3min 30s\n"
     ]
    }
   ],
   "source": [
    "size = 200\n",
    "data = get_data(size, bs = 16)\n",
    "learner.set_data(data)\n",
    "%time learner.fit(lrs=λr, n_cycle=1, cycle_len=1, cycle_mult=1)"
   ]
  },
  {
   "cell_type": "code",
   "execution_count": 41,
   "metadata": {
    "hidden": true
   },
   "outputs": [
    {
     "data": {
      "application/vnd.jupyter.widget-view+json": {
       "model_id": "9f4129f60dda4920b39c811a1bb85330",
       "version_major": 2,
       "version_minor": 0
      },
      "text/html": [
       "<p>Failed to display Jupyter Widget of type <code>HBox</code>.</p>\n",
       "<p>\n",
       "  If you're reading this message in the Jupyter Notebook or JupyterLab Notebook, it may mean\n",
       "  that the widgets JavaScript is still loading. If this message persists, it\n",
       "  likely means that the widgets JavaScript library is either not installed or\n",
       "  not enabled. See the <a href=\"https://ipywidgets.readthedocs.io/en/stable/user_install.html\">Jupyter\n",
       "  Widgets Documentation</a> for setup instructions.\n",
       "</p>\n",
       "<p>\n",
       "  If you're reading this message in another frontend (for example, a static\n",
       "  rendering on GitHub or <a href=\"https://nbviewer.jupyter.org/\">NBViewer</a>),\n",
       "  it may mean that your frontend doesn't currently support widgets.\n",
       "</p>\n"
      ],
      "text/plain": [
       "HBox(children=(IntProgress(value=0, description='Epoch', max=1), HTML(value='')))"
      ]
     },
     "metadata": {},
     "output_type": "display_data"
    },
    {
     "name": "stdout",
     "output_type": "stream",
     "text": [
      "\n",
      "  0%|          | 0/413 [00:00<?, ?it/s]\u001b[A\n",
      "  0%|          | 0/413 [00:00<?, ?it/s, loss=0.398]\u001b[A\n",
      "  0%|          | 1/413 [00:00<03:53,  1.76it/s, loss=0.398]\u001b[A\n",
      "  0%|          | 1/413 [00:00<06:39,  1.03it/s, loss=0.43] \u001b[A\n",
      "  0%|          | 2/413 [00:00<03:20,  2.05it/s, loss=0.43]\u001b[A\n",
      "  0%|          | 2/413 [00:01<04:44,  1.44it/s, loss=0.457]\u001b[A\n",
      "  1%|          | 3/413 [00:01<03:10,  2.16it/s, loss=0.457]\u001b[A\n",
      "  1%|          | 3/413 [00:01<04:05,  1.67it/s, loss=0.451]\u001b[A\n",
      "  1%|          | 4/413 [00:01<03:04,  2.22it/s, loss=0.451]\u001b[A\n",
      "  1%|          | 4/413 [00:02<03:45,  1.81it/s, loss=0.405]\u001b[A\n",
      "  1%|          | 5/413 [00:02<03:00,  2.26it/s, loss=0.405]\u001b[A\n",
      "  1%|          | 5/413 [00:02<03:33,  1.91it/s, loss=0.403]\u001b[A\n",
      "  1%|▏         | 6/413 [00:02<02:57,  2.29it/s, loss=0.403]\u001b[A\n",
      "  1%|▏         | 6/413 [00:03<03:25,  1.98it/s, loss=0.364]\u001b[A\n",
      "  2%|▏         | 7/413 [00:03<02:55,  2.31it/s, loss=0.364]\u001b[A\n",
      "  2%|▏         | 7/413 [00:03<03:18,  2.04it/s, loss=0.359]\u001b[A\n",
      "  2%|▏         | 8/413 [00:03<02:53,  2.33it/s, loss=0.359]\u001b[A\n",
      "  2%|▏         | 8/413 [00:03<03:14,  2.09it/s, loss=0.338]\u001b[A\n",
      "  2%|▏         | 9/413 [00:03<02:52,  2.34it/s, loss=0.338]\u001b[A\n",
      "  2%|▏         | 9/413 [00:04<03:11,  2.11it/s, loss=0.347]\u001b[A\n",
      "  2%|▏         | 10/413 [00:04<02:51,  2.35it/s, loss=0.347]\u001b[A\n",
      "  2%|▏         | 10/413 [00:04<03:08,  2.14it/s, loss=0.32] \u001b[A\n",
      "  3%|▎         | 11/413 [00:04<02:50,  2.35it/s, loss=0.32]\u001b[A\n",
      "  3%|▎         | 11/413 [00:05<03:05,  2.17it/s, loss=0.301]\u001b[A\n",
      "  3%|▎         | 12/413 [00:05<02:49,  2.36it/s, loss=0.301]\u001b[A\n",
      "  3%|▎         | 12/413 [00:05<03:03,  2.19it/s, loss=0.288]\u001b[A\n",
      "  3%|▎         | 13/413 [00:05<02:49,  2.37it/s, loss=0.288]\u001b[A\n",
      "  3%|▎         | 13/413 [00:05<03:01,  2.20it/s, loss=0.285]\u001b[A\n",
      "  3%|▎         | 14/413 [00:05<02:48,  2.37it/s, loss=0.285]\u001b[A\n",
      "  3%|▎         | 14/413 [00:06<02:59,  2.22it/s, loss=0.278]\u001b[A\n",
      "  4%|▎         | 15/413 [00:06<02:47,  2.37it/s, loss=0.278]\u001b[A\n",
      "  4%|▎         | 15/413 [00:06<02:58,  2.23it/s, loss=0.271]\u001b[A\n",
      "  4%|▍         | 16/413 [00:06<02:47,  2.38it/s, loss=0.271]\u001b[A\n",
      "  4%|▍         | 16/413 [00:07<02:56,  2.24it/s, loss=0.268]\u001b[A\n",
      "  4%|▍         | 17/413 [00:07<02:46,  2.38it/s, loss=0.268]\u001b[A\n",
      "  4%|▍         | 17/413 [00:07<02:55,  2.25it/s, loss=0.295]\u001b[A\n",
      "  4%|▍         | 18/413 [00:07<02:45,  2.39it/s, loss=0.295]\u001b[A\n",
      "  4%|▍         | 18/413 [00:07<02:54,  2.26it/s, loss=0.285]\u001b[A\n",
      "  5%|▍         | 19/413 [00:07<02:44,  2.39it/s, loss=0.285]\u001b[A\n",
      "  5%|▍         | 19/413 [00:08<02:53,  2.27it/s, loss=0.285]\u001b[A\n",
      "  5%|▍         | 20/413 [00:08<02:44,  2.39it/s, loss=0.285]\u001b[A\n",
      "  5%|▍         | 20/413 [00:08<02:52,  2.28it/s, loss=0.316]\u001b[A\n",
      "  5%|▌         | 21/413 [00:08<02:43,  2.39it/s, loss=0.316]\u001b[A\n",
      "  5%|▌         | 21/413 [00:09<02:51,  2.29it/s, loss=0.303]\u001b[A\n",
      "  5%|▌         | 22/413 [00:09<02:43,  2.40it/s, loss=0.303]\u001b[A\n",
      "  5%|▌         | 22/413 [00:09<02:50,  2.29it/s, loss=0.304]\u001b[A\n",
      "  6%|▌         | 23/413 [00:09<02:42,  2.40it/s, loss=0.304]\u001b[A\n",
      "  6%|▌         | 23/413 [00:10<02:49,  2.30it/s, loss=0.298]\u001b[A\n",
      "  6%|▌         | 24/413 [00:10<02:42,  2.40it/s, loss=0.298]\u001b[A\n",
      "  6%|▌         | 24/413 [00:10<02:48,  2.30it/s, loss=0.288]\u001b[A\n",
      "  6%|▌         | 25/413 [00:10<02:41,  2.40it/s, loss=0.288]\u001b[A\n",
      "  6%|▌         | 25/413 [00:10<02:48,  2.31it/s, loss=0.278]\u001b[A\n",
      "  6%|▋         | 26/413 [00:10<02:41,  2.40it/s, loss=0.278]\u001b[A\n",
      "  6%|▋         | 26/413 [00:11<02:47,  2.31it/s, loss=0.27] \u001b[A\n",
      "  7%|▋         | 27/413 [00:11<02:40,  2.40it/s, loss=0.27]\u001b[A\n",
      "  7%|▋         | 27/413 [00:11<02:46,  2.32it/s, loss=0.277]\u001b[A\n",
      "  7%|▋         | 28/413 [00:11<02:40,  2.40it/s, loss=0.277]\u001b[A\n",
      "  7%|▋         | 28/413 [00:12<02:45,  2.32it/s, loss=0.287]\u001b[A\n",
      "  7%|▋         | 29/413 [00:12<02:39,  2.40it/s, loss=0.287]\u001b[A\n",
      "  7%|▋         | 29/413 [00:12<02:45,  2.33it/s, loss=0.298]\u001b[A\n",
      "  7%|▋         | 30/413 [00:12<02:39,  2.41it/s, loss=0.298]\u001b[A\n",
      "  7%|▋         | 30/413 [00:12<02:44,  2.33it/s, loss=0.295]\u001b[A\n",
      "  8%|▊         | 31/413 [00:12<02:38,  2.41it/s, loss=0.295]\u001b[A\n",
      "  8%|▊         | 31/413 [00:13<02:43,  2.33it/s, loss=0.302]\u001b[A\n",
      "  8%|▊         | 32/413 [00:13<02:38,  2.41it/s, loss=0.302]\u001b[A\n",
      "  8%|▊         | 32/413 [00:13<02:43,  2.33it/s, loss=0.297]\u001b[A\n",
      "  8%|▊         | 33/413 [00:13<02:37,  2.41it/s, loss=0.297]\u001b[A\n",
      "  8%|▊         | 33/413 [00:14<02:42,  2.34it/s, loss=0.296]\u001b[A\n",
      "  8%|▊         | 34/413 [00:14<02:37,  2.41it/s, loss=0.296]\u001b[A\n",
      "  8%|▊         | 34/413 [00:14<02:41,  2.34it/s, loss=0.3]  \u001b[A\n",
      "  8%|▊         | 35/413 [00:14<02:36,  2.41it/s, loss=0.3]\u001b[A\n",
      "  8%|▊         | 35/413 [00:14<02:41,  2.34it/s, loss=0.296]\u001b[A\n",
      "  9%|▊         | 36/413 [00:14<02:36,  2.41it/s, loss=0.296]\u001b[A\n",
      "  9%|▊         | 36/413 [00:15<02:40,  2.35it/s, loss=0.295]\u001b[A\n",
      "  9%|▉         | 37/413 [00:15<02:36,  2.41it/s, loss=0.295]\u001b[A\n",
      "  9%|▉         | 37/413 [00:15<02:40,  2.35it/s, loss=0.29] \u001b[A\n",
      "  9%|▉         | 38/413 [00:15<02:35,  2.41it/s, loss=0.29]\u001b[A\n",
      "  9%|▉         | 38/413 [00:16<02:39,  2.35it/s, loss=0.287]\u001b[A\n",
      "  9%|▉         | 39/413 [00:16<02:35,  2.41it/s, loss=0.287]\u001b[A\n",
      "  9%|▉         | 39/413 [00:16<02:39,  2.35it/s, loss=0.285]\u001b[A\n",
      " 10%|▉         | 40/413 [00:16<02:34,  2.41it/s, loss=0.285]\u001b[A\n",
      " 10%|▉         | 40/413 [00:16<02:38,  2.35it/s, loss=0.284]\u001b[A\n",
      " 10%|▉         | 41/413 [00:17<02:34,  2.41it/s, loss=0.284]\u001b[A\n",
      " 10%|▉         | 41/413 [00:17<02:38,  2.35it/s, loss=0.279]\u001b[A\n",
      " 10%|█         | 42/413 [00:17<02:33,  2.41it/s, loss=0.279]\u001b[A\n",
      " 10%|█         | 42/413 [00:17<02:37,  2.36it/s, loss=0.283]\u001b[A\n",
      " 10%|█         | 43/413 [00:17<02:33,  2.41it/s, loss=0.283]\u001b[A\n",
      " 10%|█         | 43/413 [00:18<02:36,  2.36it/s, loss=0.287]\u001b[A\n",
      " 11%|█         | 44/413 [00:18<02:33,  2.41it/s, loss=0.287]\u001b[A\n",
      " 11%|█         | 44/413 [00:18<02:36,  2.36it/s, loss=0.292]\u001b[A\n",
      " 11%|█         | 45/413 [00:18<02:32,  2.41it/s, loss=0.292]\u001b[A\n",
      " 11%|█         | 45/413 [00:19<02:35,  2.36it/s, loss=0.29] \u001b[A\n",
      " 11%|█         | 46/413 [00:19<02:32,  2.41it/s, loss=0.29]\u001b[A\n",
      " 11%|█         | 46/413 [00:19<02:35,  2.36it/s, loss=0.286]\u001b[A\n",
      " 11%|█▏        | 47/413 [00:19<02:31,  2.41it/s, loss=0.286]\u001b[A\n",
      " 11%|█▏        | 47/413 [00:19<02:34,  2.36it/s, loss=0.292]\u001b[A\n",
      " 12%|█▏        | 48/413 [00:19<02:31,  2.41it/s, loss=0.292]\u001b[A\n",
      " 12%|█▏        | 48/413 [00:20<02:34,  2.36it/s, loss=0.294]\u001b[A\n",
      " 12%|█▏        | 49/413 [00:20<02:30,  2.41it/s, loss=0.294]\u001b[A\n",
      " 12%|█▏        | 49/413 [00:20<02:33,  2.37it/s, loss=0.288]\u001b[A\n",
      " 12%|█▏        | 50/413 [00:20<02:30,  2.41it/s, loss=0.288]\u001b[A\n",
      " 12%|█▏        | 50/413 [00:21<02:33,  2.37it/s, loss=0.29] \u001b[A\n",
      " 12%|█▏        | 51/413 [00:21<02:29,  2.41it/s, loss=0.29]\u001b[A\n",
      " 12%|█▏        | 51/413 [00:21<02:32,  2.37it/s, loss=0.288]\u001b[A\n",
      " 13%|█▎        | 52/413 [00:21<02:29,  2.41it/s, loss=0.288]\u001b[A\n",
      " 13%|█▎        | 52/413 [00:21<02:32,  2.37it/s, loss=0.286]\u001b[A\n",
      " 13%|█▎        | 53/413 [00:21<02:29,  2.42it/s, loss=0.286]\u001b[A\n",
      " 13%|█▎        | 53/413 [00:22<02:31,  2.37it/s, loss=0.283]\u001b[A\n",
      " 13%|█▎        | 54/413 [00:22<02:28,  2.42it/s, loss=0.283]\u001b[A\n",
      " 13%|█▎        | 54/413 [00:22<02:31,  2.37it/s, loss=0.286]\u001b[A\n",
      " 13%|█▎        | 55/413 [00:22<02:28,  2.42it/s, loss=0.286]\u001b[A\n",
      " 13%|█▎        | 55/413 [00:23<02:30,  2.37it/s, loss=0.283]\u001b[A\n",
      " 14%|█▎        | 56/413 [00:23<02:27,  2.42it/s, loss=0.283]\u001b[A\n",
      " 14%|█▎        | 56/413 [00:23<02:30,  2.37it/s, loss=0.281]\u001b[A\n",
      " 14%|█▍        | 57/413 [00:23<02:27,  2.42it/s, loss=0.281]\u001b[A\n",
      " 14%|█▍        | 57/413 [00:24<02:29,  2.37it/s, loss=0.28] \u001b[A\n",
      " 14%|█▍        | 58/413 [00:24<02:26,  2.42it/s, loss=0.28]\u001b[A\n",
      " 14%|█▍        | 58/413 [00:24<02:29,  2.38it/s, loss=0.279]\u001b[A\n",
      " 14%|█▍        | 59/413 [00:24<02:26,  2.42it/s, loss=0.279]\u001b[A\n",
      " 14%|█▍        | 59/413 [00:24<02:28,  2.38it/s, loss=0.282]\u001b[A\n",
      " 15%|█▍        | 60/413 [00:24<02:26,  2.42it/s, loss=0.282]\u001b[A\n",
      " 15%|█▍        | 60/413 [00:25<02:28,  2.38it/s, loss=0.277]\u001b[A\n",
      " 15%|█▍        | 61/413 [00:25<02:25,  2.42it/s, loss=0.277]\u001b[A\n",
      " 15%|█▍        | 61/413 [00:25<02:27,  2.38it/s, loss=0.276]\u001b[A\n",
      " 15%|█▌        | 62/413 [00:25<02:25,  2.42it/s, loss=0.276]\u001b[A\n",
      " 15%|█▌        | 62/413 [00:26<02:27,  2.38it/s, loss=0.28] \u001b[A\n",
      " 15%|█▌        | 63/413 [00:26<02:24,  2.42it/s, loss=0.28]\u001b[A\n",
      " 15%|█▌        | 63/413 [00:26<02:27,  2.38it/s, loss=0.278]\u001b[A\n",
      " 15%|█▌        | 64/413 [00:26<02:24,  2.42it/s, loss=0.278]\u001b[A\n",
      " 15%|█▌        | 64/413 [00:26<02:26,  2.38it/s, loss=0.277]\u001b[A\n",
      " 16%|█▌        | 65/413 [00:26<02:24,  2.42it/s, loss=0.277]\u001b[A\n",
      " 16%|█▌        | 65/413 [00:27<02:26,  2.38it/s, loss=0.282]\u001b[A\n",
      " 16%|█▌        | 66/413 [00:27<02:23,  2.42it/s, loss=0.282]\u001b[A\n",
      " 16%|█▌        | 66/413 [00:27<02:25,  2.38it/s, loss=0.286]\u001b[A\n",
      " 16%|█▌        | 67/413 [00:27<02:23,  2.42it/s, loss=0.286]\u001b[A\n",
      " 16%|█▌        | 67/413 [00:28<02:25,  2.38it/s, loss=0.288]\u001b[A\n",
      " 16%|█▋        | 68/413 [00:28<02:22,  2.42it/s, loss=0.288]\u001b[A\n",
      " 16%|█▋        | 68/413 [00:28<02:24,  2.38it/s, loss=0.283]\u001b[A\n",
      " 17%|█▋        | 69/413 [00:28<02:22,  2.42it/s, loss=0.283]\u001b[A\n",
      " 17%|█▋        | 69/413 [00:28<02:24,  2.38it/s, loss=0.283]\u001b[A\n",
      " 17%|█▋        | 70/413 [00:28<02:21,  2.42it/s, loss=0.283]\u001b[A\n",
      " 17%|█▋        | 70/413 [00:29<02:23,  2.38it/s, loss=0.284]\u001b[A\n",
      " 17%|█▋        | 71/413 [00:29<02:21,  2.42it/s, loss=0.284]\u001b[A\n",
      " 17%|█▋        | 71/413 [00:29<02:23,  2.38it/s, loss=0.278]\u001b[A\n",
      " 17%|█▋        | 72/413 [00:29<02:21,  2.42it/s, loss=0.278]\u001b[A\n",
      " 17%|█▋        | 72/413 [00:30<02:22,  2.39it/s, loss=0.284]\u001b[A\n",
      " 18%|█▊        | 73/413 [00:30<02:20,  2.42it/s, loss=0.284]\u001b[A\n",
      " 18%|█▊        | 73/413 [00:30<02:22,  2.39it/s, loss=0.29] \u001b[A\n",
      " 18%|█▊        | 74/413 [00:30<02:20,  2.42it/s, loss=0.29]\u001b[A\n",
      " 18%|█▊        | 74/413 [00:31<02:22,  2.39it/s, loss=0.292]\u001b[A\n",
      " 18%|█▊        | 75/413 [00:31<02:19,  2.42it/s, loss=0.292]\u001b[A\n",
      " 18%|█▊        | 75/413 [00:31<02:21,  2.39it/s, loss=0.295]\u001b[A\n",
      " 18%|█▊        | 76/413 [00:31<02:19,  2.42it/s, loss=0.295]\u001b[A\n",
      " 18%|█▊        | 76/413 [00:31<02:21,  2.39it/s, loss=0.292]\u001b[A\n",
      " 19%|█▊        | 77/413 [00:31<02:18,  2.42it/s, loss=0.292]\u001b[A\n",
      " 19%|█▊        | 77/413 [00:32<02:20,  2.39it/s, loss=0.292]\u001b[A\n",
      " 19%|█▉        | 78/413 [00:32<02:18,  2.42it/s, loss=0.292]\u001b[A\n",
      " 19%|█▉        | 78/413 [00:32<02:20,  2.39it/s, loss=0.294]\u001b[A\n",
      " 19%|█▉        | 79/413 [00:32<02:18,  2.42it/s, loss=0.294]\u001b[A\n",
      " 19%|█▉        | 79/413 [00:33<02:19,  2.39it/s, loss=0.294]\u001b[A\n",
      " 19%|█▉        | 80/413 [00:33<02:17,  2.42it/s, loss=0.294]\u001b[A\n",
      " 19%|█▉        | 80/413 [00:33<02:19,  2.39it/s, loss=0.294]\u001b[A\n",
      " 20%|█▉        | 81/413 [00:33<02:17,  2.42it/s, loss=0.294]\u001b[A\n",
      " 20%|█▉        | 81/413 [00:33<02:18,  2.39it/s, loss=0.295]\u001b[A\n",
      " 20%|█▉        | 82/413 [00:33<02:16,  2.42it/s, loss=0.295]\u001b[A\n",
      " 20%|█▉        | 82/413 [00:34<02:18,  2.39it/s, loss=0.319]\u001b[A\n",
      " 20%|██        | 83/413 [00:34<02:16,  2.42it/s, loss=0.319]\u001b[A\n",
      " 20%|██        | 83/413 [00:34<02:18,  2.39it/s, loss=0.316]\u001b[A\n",
      " 20%|██        | 84/413 [00:34<02:16,  2.42it/s, loss=0.316]\u001b[A\n",
      " 20%|██        | 84/413 [00:35<02:17,  2.39it/s, loss=0.31] \u001b[A\n",
      " 21%|██        | 85/413 [00:35<02:15,  2.42it/s, loss=0.31]\u001b[A\n",
      " 21%|██        | 85/413 [00:35<02:17,  2.39it/s, loss=0.304]\u001b[A\n",
      " 21%|██        | 86/413 [00:35<02:15,  2.42it/s, loss=0.304]\u001b[A\n",
      " 21%|██        | 86/413 [00:35<02:16,  2.39it/s, loss=0.307]\u001b[A\n",
      " 21%|██        | 87/413 [00:35<02:14,  2.42it/s, loss=0.307]\u001b[A\n",
      " 21%|██        | 87/413 [00:36<02:16,  2.39it/s, loss=0.303]\u001b[A\n",
      " 21%|██▏       | 88/413 [00:36<02:14,  2.42it/s, loss=0.303]\u001b[A\n",
      " 21%|██▏       | 88/413 [00:36<02:15,  2.39it/s, loss=0.302]\u001b[A\n",
      " 22%|██▏       | 89/413 [00:36<02:13,  2.42it/s, loss=0.302]\u001b[A\n",
      " 22%|██▏       | 89/413 [00:37<02:15,  2.39it/s, loss=0.298]\u001b[A\n",
      " 22%|██▏       | 90/413 [00:37<02:13,  2.42it/s, loss=0.298]\u001b[A\n",
      " 22%|██▏       | 90/413 [00:37<02:14,  2.39it/s, loss=0.3]  \u001b[A\n",
      " 22%|██▏       | 91/413 [00:37<02:13,  2.42it/s, loss=0.3]\u001b[A\n",
      " 22%|██▏       | 91/413 [00:38<02:14,  2.39it/s, loss=0.297]\u001b[A\n",
      " 22%|██▏       | 92/413 [00:38<02:12,  2.42it/s, loss=0.297]\u001b[A\n",
      " 22%|██▏       | 92/413 [00:38<02:14,  2.39it/s, loss=0.297]\u001b[A\n",
      " 23%|██▎       | 93/413 [00:38<02:12,  2.42it/s, loss=0.297]\u001b[A\n",
      " 23%|██▎       | 93/413 [00:38<02:13,  2.40it/s, loss=0.299]\u001b[A\n",
      " 23%|██▎       | 94/413 [00:38<02:11,  2.42it/s, loss=0.299]\u001b[A\n",
      " 23%|██▎       | 94/413 [00:39<02:13,  2.40it/s, loss=0.299]\u001b[A\n",
      " 23%|██▎       | 95/413 [00:39<02:11,  2.42it/s, loss=0.299]\u001b[A\n",
      " 23%|██▎       | 95/413 [00:39<02:12,  2.40it/s, loss=0.296]\u001b[A\n",
      " 23%|██▎       | 96/413 [00:39<02:10,  2.42it/s, loss=0.296]\u001b[A\n",
      " 23%|██▎       | 96/413 [00:40<02:12,  2.40it/s, loss=0.304]\u001b[A\n",
      " 23%|██▎       | 97/413 [00:40<02:10,  2.42it/s, loss=0.304]\u001b[A\n",
      " 23%|██▎       | 97/413 [00:40<02:11,  2.40it/s, loss=0.301]\u001b[A\n",
      " 24%|██▎       | 98/413 [00:40<02:10,  2.42it/s, loss=0.301]\u001b[A\n",
      " 24%|██▎       | 98/413 [00:40<02:11,  2.40it/s, loss=0.31] \u001b[A\n",
      " 24%|██▍       | 99/413 [00:40<02:09,  2.42it/s, loss=0.31]\u001b[A\n",
      " 24%|██▍       | 99/413 [00:41<02:11,  2.40it/s, loss=0.306]\u001b[A\n",
      " 24%|██▍       | 100/413 [00:41<02:09,  2.42it/s, loss=0.306]\u001b[A\n",
      " 24%|██▍       | 100/413 [00:41<02:10,  2.40it/s, loss=0.311]\u001b[A\n",
      " 24%|██▍       | 101/413 [00:41<02:08,  2.42it/s, loss=0.311]\u001b[A\n",
      " 24%|██▍       | 101/413 [00:42<02:10,  2.40it/s, loss=0.307]\u001b[A\n",
      " 25%|██▍       | 102/413 [00:42<02:08,  2.42it/s, loss=0.307]\u001b[A\n",
      " 25%|██▍       | 102/413 [00:42<02:09,  2.40it/s, loss=0.305]\u001b[A\n",
      " 25%|██▍       | 103/413 [00:42<02:08,  2.42it/s, loss=0.305]\u001b[A\n",
      " 25%|██▍       | 103/413 [00:42<02:09,  2.40it/s, loss=0.306]\u001b[A\n",
      " 25%|██▌       | 104/413 [00:42<02:07,  2.42it/s, loss=0.306]\u001b[A\n",
      " 25%|██▌       | 104/413 [00:43<02:08,  2.40it/s, loss=0.304]\u001b[A\n",
      " 25%|██▌       | 105/413 [00:43<02:07,  2.42it/s, loss=0.304]\u001b[A\n",
      " 25%|██▌       | 105/413 [00:43<02:08,  2.40it/s, loss=0.301]\u001b[A\n",
      " 26%|██▌       | 106/413 [00:43<02:06,  2.42it/s, loss=0.301]\u001b[A\n",
      " 26%|██▌       | 106/413 [00:44<02:07,  2.40it/s, loss=0.303]\u001b[A\n",
      " 26%|██▌       | 107/413 [00:44<02:06,  2.42it/s, loss=0.303]\u001b[A\n",
      " 26%|██▌       | 107/413 [00:44<02:07,  2.40it/s, loss=0.3]  \u001b[A\n",
      " 26%|██▌       | 108/413 [00:44<02:05,  2.42it/s, loss=0.3]\u001b[A\n",
      " 26%|██▌       | 108/413 [00:45<02:07,  2.40it/s, loss=0.301]\u001b[A\n",
      " 26%|██▋       | 109/413 [00:45<02:05,  2.42it/s, loss=0.301]\u001b[A\n",
      " 26%|██▋       | 109/413 [00:45<02:06,  2.40it/s, loss=0.299]\u001b[A\n",
      " 27%|██▋       | 110/413 [00:45<02:05,  2.42it/s, loss=0.299]\u001b[A\n",
      " 27%|██▋       | 110/413 [00:45<02:06,  2.40it/s, loss=0.302]\u001b[A\n",
      " 27%|██▋       | 111/413 [00:45<02:04,  2.42it/s, loss=0.302]\u001b[A\n",
      " 27%|██▋       | 111/413 [00:46<02:05,  2.40it/s, loss=0.298]\u001b[A\n",
      " 27%|██▋       | 112/413 [00:46<02:04,  2.42it/s, loss=0.298]\u001b[A\n",
      " 27%|██▋       | 112/413 [00:46<02:05,  2.40it/s, loss=0.296]\u001b[A\n",
      " 27%|██▋       | 113/413 [00:46<02:03,  2.42it/s, loss=0.296]\u001b[A\n",
      " 27%|██▋       | 113/413 [00:47<02:04,  2.40it/s, loss=0.298]\u001b[A\n",
      " 28%|██▊       | 114/413 [00:47<02:03,  2.42it/s, loss=0.298]\u001b[A\n",
      " 28%|██▊       | 114/413 [00:47<02:04,  2.40it/s, loss=0.296]\u001b[A\n",
      " 28%|██▊       | 115/413 [00:47<02:03,  2.42it/s, loss=0.296]\u001b[A\n",
      " 28%|██▊       | 115/413 [00:47<02:04,  2.40it/s, loss=0.292]\u001b[A\n",
      " 28%|██▊       | 116/413 [00:47<02:02,  2.42it/s, loss=0.292]\u001b[A\n",
      " 28%|██▊       | 116/413 [00:48<02:03,  2.40it/s, loss=0.29] \u001b[A\n",
      " 28%|██▊       | 117/413 [00:48<02:02,  2.42it/s, loss=0.29]\u001b[A\n",
      " 28%|██▊       | 117/413 [00:48<02:03,  2.40it/s, loss=0.291]\u001b[A\n",
      " 29%|██▊       | 118/413 [00:48<02:01,  2.42it/s, loss=0.291]\u001b[A\n",
      " 29%|██▊       | 118/413 [00:49<02:02,  2.40it/s, loss=0.29] \u001b[A\n",
      " 29%|██▉       | 119/413 [00:49<02:01,  2.42it/s, loss=0.29]\u001b[A\n",
      " 29%|██▉       | 119/413 [00:49<02:02,  2.40it/s, loss=0.288]\u001b[A\n",
      " 29%|██▉       | 120/413 [00:49<02:00,  2.42it/s, loss=0.288]\u001b[A\n",
      " 29%|██▉       | 120/413 [00:49<02:01,  2.40it/s, loss=0.288]\u001b[A\n",
      " 29%|██▉       | 121/413 [00:49<02:00,  2.42it/s, loss=0.288]\u001b[A\n",
      " 29%|██▉       | 121/413 [00:50<02:01,  2.40it/s, loss=0.287]\u001b[A\n",
      " 30%|██▉       | 122/413 [00:50<02:00,  2.42it/s, loss=0.287]\u001b[A\n",
      " 30%|██▉       | 122/413 [00:50<02:01,  2.40it/s, loss=0.288]\u001b[A\n",
      " 30%|██▉       | 123/413 [00:50<01:59,  2.42it/s, loss=0.288]\u001b[A\n",
      " 30%|██▉       | 123/413 [00:51<02:00,  2.40it/s, loss=0.286]\u001b[A\n",
      " 30%|███       | 124/413 [00:51<01:59,  2.42it/s, loss=0.286]\u001b[A\n",
      " 30%|███       | 124/413 [00:51<02:00,  2.40it/s, loss=0.288]\u001b[A\n",
      " 30%|███       | 125/413 [00:51<01:58,  2.42it/s, loss=0.288]\u001b[A\n",
      " 30%|███       | 125/413 [00:51<01:59,  2.40it/s, loss=0.286]\u001b[A\n",
      " 31%|███       | 126/413 [00:52<01:58,  2.42it/s, loss=0.286]\u001b[A\n",
      " 31%|███       | 126/413 [00:52<01:59,  2.40it/s, loss=0.289]\u001b[A\n",
      " 31%|███       | 127/413 [00:52<01:58,  2.42it/s, loss=0.289]\u001b[A\n"
     ]
    },
    {
     "name": "stdout",
     "output_type": "stream",
     "text": [
      " 31%|███       | 127/413 [00:52<01:58,  2.40it/s, loss=0.288]\u001b[A\n",
      " 31%|███       | 128/413 [00:52<01:57,  2.42it/s, loss=0.288]\u001b[A\n",
      " 31%|███       | 128/413 [00:53<01:58,  2.40it/s, loss=0.284]\u001b[A\n",
      " 31%|███       | 129/413 [00:53<01:57,  2.42it/s, loss=0.284]\u001b[A\n",
      " 31%|███       | 129/413 [00:53<01:58,  2.40it/s, loss=0.284]\u001b[A\n",
      " 31%|███▏      | 130/413 [00:53<01:56,  2.42it/s, loss=0.284]\u001b[A\n",
      " 31%|███▏      | 130/413 [00:54<01:57,  2.40it/s, loss=0.286]\u001b[A\n",
      " 32%|███▏      | 131/413 [00:54<01:56,  2.42it/s, loss=0.286]\u001b[A\n",
      " 32%|███▏      | 131/413 [00:54<01:57,  2.41it/s, loss=0.286]\u001b[A\n",
      " 32%|███▏      | 132/413 [00:54<01:55,  2.42it/s, loss=0.286]\u001b[A\n",
      " 32%|███▏      | 132/413 [00:54<01:56,  2.41it/s, loss=0.286]\u001b[A\n",
      " 32%|███▏      | 133/413 [00:54<01:55,  2.42it/s, loss=0.286]\u001b[A\n",
      " 32%|███▏      | 133/413 [00:55<01:56,  2.41it/s, loss=0.289]\u001b[A\n",
      " 32%|███▏      | 134/413 [00:55<01:55,  2.42it/s, loss=0.289]\u001b[A\n",
      " 32%|███▏      | 134/413 [00:55<01:55,  2.41it/s, loss=0.291]\u001b[A\n",
      " 33%|███▎      | 135/413 [00:55<01:54,  2.42it/s, loss=0.291]\u001b[A\n",
      " 33%|███▎      | 135/413 [00:56<01:55,  2.41it/s, loss=0.296]\u001b[A\n",
      " 33%|███▎      | 136/413 [00:56<01:54,  2.42it/s, loss=0.296]\u001b[A\n",
      " 33%|███▎      | 136/413 [00:56<01:55,  2.41it/s, loss=0.293]\u001b[A\n",
      " 33%|███▎      | 137/413 [00:56<01:53,  2.42it/s, loss=0.293]\u001b[A\n",
      " 33%|███▎      | 137/413 [00:56<01:54,  2.41it/s, loss=0.297]\u001b[A\n",
      " 33%|███▎      | 138/413 [00:56<01:53,  2.42it/s, loss=0.297]\u001b[A\n",
      " 33%|███▎      | 138/413 [00:57<01:54,  2.41it/s, loss=0.308]\u001b[A\n",
      " 34%|███▎      | 139/413 [00:57<01:53,  2.42it/s, loss=0.308]\u001b[A\n",
      " 34%|███▎      | 139/413 [00:57<01:53,  2.41it/s, loss=0.318]\u001b[A\n",
      " 34%|███▍      | 140/413 [00:57<01:52,  2.42it/s, loss=0.318]\u001b[A\n",
      " 34%|███▍      | 140/413 [00:58<01:53,  2.41it/s, loss=0.316]\u001b[A\n",
      " 34%|███▍      | 141/413 [00:58<01:52,  2.42it/s, loss=0.316]\u001b[A\n",
      " 34%|███▍      | 141/413 [00:58<01:53,  2.41it/s, loss=0.323]\u001b[A\n",
      " 34%|███▍      | 142/413 [00:58<01:51,  2.42it/s, loss=0.323]\u001b[A\n",
      " 34%|███▍      | 142/413 [00:59<01:52,  2.41it/s, loss=0.319]\u001b[A\n",
      " 35%|███▍      | 143/413 [00:59<01:51,  2.42it/s, loss=0.319]\u001b[A\n",
      " 35%|███▍      | 143/413 [00:59<01:52,  2.41it/s, loss=0.318]\u001b[A\n",
      " 35%|███▍      | 144/413 [00:59<01:51,  2.42it/s, loss=0.318]\u001b[A\n",
      " 35%|███▍      | 144/413 [00:59<01:51,  2.41it/s, loss=0.315]\u001b[A\n",
      " 35%|███▌      | 145/413 [00:59<01:50,  2.42it/s, loss=0.315]\u001b[A\n",
      " 35%|███▌      | 145/413 [01:00<01:51,  2.41it/s, loss=0.311]\u001b[A\n",
      " 35%|███▌      | 146/413 [01:00<01:50,  2.42it/s, loss=0.311]\u001b[A\n",
      " 35%|███▌      | 146/413 [01:00<01:50,  2.41it/s, loss=0.311]\u001b[A\n",
      " 36%|███▌      | 147/413 [01:00<01:49,  2.42it/s, loss=0.311]\u001b[A\n",
      " 36%|███▌      | 147/413 [01:01<01:50,  2.41it/s, loss=0.306]\u001b[A\n",
      " 36%|███▌      | 148/413 [01:01<01:49,  2.42it/s, loss=0.306]\u001b[A\n",
      " 36%|███▌      | 148/413 [01:01<01:50,  2.41it/s, loss=0.309]\u001b[A\n",
      " 36%|███▌      | 149/413 [01:01<01:48,  2.42it/s, loss=0.309]\u001b[A\n",
      " 36%|███▌      | 149/413 [01:01<01:49,  2.41it/s, loss=0.312]\u001b[A\n",
      " 36%|███▋      | 150/413 [01:01<01:48,  2.42it/s, loss=0.312]\u001b[A\n",
      " 36%|███▋      | 150/413 [01:02<01:49,  2.41it/s, loss=0.314]\u001b[A\n",
      " 37%|███▋      | 151/413 [01:02<01:48,  2.42it/s, loss=0.314]\u001b[A\n",
      " 37%|███▋      | 151/413 [01:02<01:48,  2.41it/s, loss=0.315]\u001b[A\n",
      " 37%|███▋      | 152/413 [01:02<01:47,  2.42it/s, loss=0.315]\u001b[A\n",
      " 37%|███▋      | 152/413 [01:03<01:48,  2.41it/s, loss=0.318]\u001b[A\n",
      " 37%|███▋      | 153/413 [01:03<01:47,  2.42it/s, loss=0.318]\u001b[A\n",
      " 37%|███▋      | 153/413 [01:03<01:47,  2.41it/s, loss=0.315]\u001b[A\n",
      " 37%|███▋      | 154/413 [01:03<01:46,  2.42it/s, loss=0.315]\u001b[A\n",
      " 37%|███▋      | 154/413 [01:03<01:47,  2.41it/s, loss=0.312]\u001b[A\n",
      " 38%|███▊      | 155/413 [01:03<01:46,  2.42it/s, loss=0.312]\u001b[A\n",
      " 38%|███▊      | 155/413 [01:04<01:47,  2.41it/s, loss=0.312]\u001b[A\n",
      " 38%|███▊      | 156/413 [01:04<01:46,  2.42it/s, loss=0.312]\u001b[A\n",
      " 38%|███▊      | 156/413 [01:04<01:46,  2.41it/s, loss=0.318]\u001b[A\n",
      " 38%|███▊      | 157/413 [01:04<01:45,  2.42it/s, loss=0.318]\u001b[A\n",
      " 38%|███▊      | 157/413 [01:05<01:46,  2.41it/s, loss=0.316]\u001b[A\n",
      " 38%|███▊      | 158/413 [01:05<01:45,  2.42it/s, loss=0.316]\u001b[A\n",
      " 38%|███▊      | 158/413 [01:05<01:45,  2.41it/s, loss=0.317]\u001b[A\n",
      " 38%|███▊      | 159/413 [01:05<01:44,  2.42it/s, loss=0.317]\u001b[A\n",
      " 38%|███▊      | 159/413 [01:05<01:45,  2.41it/s, loss=0.318]\u001b[A\n",
      " 39%|███▊      | 160/413 [01:05<01:44,  2.42it/s, loss=0.318]\u001b[A\n",
      " 39%|███▊      | 160/413 [01:06<01:45,  2.41it/s, loss=0.323]\u001b[A\n",
      " 39%|███▉      | 161/413 [01:06<01:43,  2.42it/s, loss=0.323]\u001b[A\n",
      " 39%|███▉      | 161/413 [01:06<01:44,  2.41it/s, loss=0.321]\u001b[A\n",
      " 39%|███▉      | 162/413 [01:06<01:43,  2.42it/s, loss=0.321]\u001b[A\n",
      " 39%|███▉      | 162/413 [01:07<01:44,  2.41it/s, loss=0.321]\u001b[A\n",
      " 39%|███▉      | 163/413 [01:07<01:43,  2.42it/s, loss=0.321]\u001b[A\n",
      " 39%|███▉      | 163/413 [01:07<01:43,  2.41it/s, loss=0.317]\u001b[A\n",
      " 40%|███▉      | 164/413 [01:07<01:42,  2.42it/s, loss=0.317]\u001b[A\n",
      " 40%|███▉      | 164/413 [01:08<01:43,  2.41it/s, loss=0.316]\u001b[A\n",
      " 40%|███▉      | 165/413 [01:08<01:42,  2.42it/s, loss=0.316]\u001b[A\n",
      " 40%|███▉      | 165/413 [01:08<01:42,  2.41it/s, loss=0.316]\u001b[A\n",
      " 40%|████      | 166/413 [01:08<01:41,  2.42it/s, loss=0.316]\u001b[A\n",
      " 40%|████      | 166/413 [01:08<01:42,  2.41it/s, loss=0.312]\u001b[A\n",
      " 40%|████      | 167/413 [01:08<01:41,  2.42it/s, loss=0.312]\u001b[A\n",
      " 40%|████      | 167/413 [01:09<01:42,  2.41it/s, loss=0.311]\u001b[A\n",
      " 41%|████      | 168/413 [01:09<01:41,  2.42it/s, loss=0.311]\u001b[A\n",
      " 41%|████      | 168/413 [01:09<01:41,  2.41it/s, loss=0.308]\u001b[A\n",
      " 41%|████      | 169/413 [01:09<01:40,  2.42it/s, loss=0.308]\u001b[A\n",
      " 41%|████      | 169/413 [01:10<01:41,  2.41it/s, loss=0.309]\u001b[A\n",
      " 41%|████      | 170/413 [01:10<01:40,  2.42it/s, loss=0.309]\u001b[A\n",
      " 41%|████      | 170/413 [01:10<01:40,  2.41it/s, loss=0.31] \u001b[A\n",
      " 41%|████▏     | 171/413 [01:10<01:39,  2.42it/s, loss=0.31]\u001b[A\n",
      " 41%|████▏     | 171/413 [01:10<01:40,  2.41it/s, loss=0.306]\u001b[A\n",
      " 42%|████▏     | 172/413 [01:10<01:39,  2.42it/s, loss=0.306]\u001b[A\n",
      " 42%|████▏     | 172/413 [01:11<01:39,  2.41it/s, loss=0.304]\u001b[A\n",
      " 42%|████▏     | 173/413 [01:11<01:38,  2.42it/s, loss=0.304]\u001b[A\n",
      " 42%|████▏     | 173/413 [01:11<01:39,  2.41it/s, loss=0.305]\u001b[A\n",
      " 42%|████▏     | 174/413 [01:11<01:38,  2.42it/s, loss=0.305]\u001b[A\n",
      " 42%|████▏     | 174/413 [01:12<01:39,  2.41it/s, loss=0.304]\u001b[A\n",
      " 42%|████▏     | 175/413 [01:12<01:38,  2.42it/s, loss=0.304]\u001b[A\n",
      " 42%|████▏     | 175/413 [01:12<01:38,  2.41it/s, loss=0.308]\u001b[A\n",
      " 43%|████▎     | 176/413 [01:12<01:37,  2.42it/s, loss=0.308]\u001b[A\n",
      " 43%|████▎     | 176/413 [01:12<01:38,  2.41it/s, loss=0.308]\u001b[A\n",
      " 43%|████▎     | 177/413 [01:12<01:37,  2.42it/s, loss=0.308]\u001b[A\n",
      " 43%|████▎     | 177/413 [01:13<01:37,  2.41it/s, loss=0.304]\u001b[A\n",
      " 43%|████▎     | 178/413 [01:13<01:36,  2.42it/s, loss=0.304]\u001b[A\n",
      " 43%|████▎     | 178/413 [01:13<01:37,  2.41it/s, loss=0.301]\u001b[A\n",
      " 43%|████▎     | 179/413 [01:13<01:36,  2.42it/s, loss=0.301]\u001b[A\n",
      " 43%|████▎     | 179/413 [01:14<01:37,  2.41it/s, loss=0.304]\u001b[A\n",
      " 44%|████▎     | 180/413 [01:14<01:36,  2.42it/s, loss=0.304]\u001b[A\n",
      " 44%|████▎     | 180/413 [01:14<01:36,  2.41it/s, loss=0.304]\u001b[A\n",
      " 44%|████▍     | 181/413 [01:14<01:35,  2.42it/s, loss=0.304]\u001b[A\n",
      " 44%|████▍     | 181/413 [01:15<01:36,  2.41it/s, loss=0.301]\u001b[A\n",
      " 44%|████▍     | 182/413 [01:15<01:35,  2.42it/s, loss=0.301]\u001b[A\n",
      " 44%|████▍     | 182/413 [01:15<01:35,  2.41it/s, loss=0.306]\u001b[A\n",
      " 44%|████▍     | 183/413 [01:15<01:34,  2.42it/s, loss=0.306]\u001b[A\n",
      " 44%|████▍     | 183/413 [01:15<01:35,  2.41it/s, loss=0.304]\u001b[A\n",
      " 45%|████▍     | 184/413 [01:15<01:34,  2.42it/s, loss=0.304]\u001b[A\n",
      " 45%|████▍     | 184/413 [01:16<01:34,  2.41it/s, loss=0.303]\u001b[A\n",
      " 45%|████▍     | 185/413 [01:16<01:34,  2.42it/s, loss=0.303]\u001b[A\n",
      " 45%|████▍     | 185/413 [01:16<01:34,  2.41it/s, loss=0.3]  \u001b[A\n",
      " 45%|████▌     | 186/413 [01:16<01:33,  2.42it/s, loss=0.3]\u001b[A\n",
      " 45%|████▌     | 186/413 [01:17<01:34,  2.41it/s, loss=0.299]\u001b[A\n",
      " 45%|████▌     | 187/413 [01:17<01:33,  2.42it/s, loss=0.299]\u001b[A\n",
      " 45%|████▌     | 187/413 [01:17<01:33,  2.41it/s, loss=0.303]\u001b[A\n",
      " 46%|████▌     | 188/413 [01:17<01:32,  2.42it/s, loss=0.303]\u001b[A\n",
      " 46%|████▌     | 188/413 [01:17<01:33,  2.41it/s, loss=0.304]\u001b[A\n",
      " 46%|████▌     | 189/413 [01:17<01:32,  2.42it/s, loss=0.304]\u001b[A\n",
      " 46%|████▌     | 189/413 [01:18<01:32,  2.41it/s, loss=0.302]\u001b[A\n",
      " 46%|████▌     | 190/413 [01:18<01:31,  2.42it/s, loss=0.302]\u001b[A\n",
      " 46%|████▌     | 190/413 [01:18<01:32,  2.41it/s, loss=0.301]\u001b[A\n",
      " 46%|████▌     | 191/413 [01:18<01:31,  2.42it/s, loss=0.301]\u001b[A\n",
      " 46%|████▌     | 191/413 [01:19<01:32,  2.41it/s, loss=0.299]\u001b[A\n",
      " 46%|████▋     | 192/413 [01:19<01:31,  2.42it/s, loss=0.299]\u001b[A\n",
      " 46%|████▋     | 192/413 [01:19<01:31,  2.41it/s, loss=0.299]\u001b[A\n",
      " 47%|████▋     | 193/413 [01:19<01:30,  2.42it/s, loss=0.299]\u001b[A\n",
      " 47%|████▋     | 193/413 [01:19<01:31,  2.41it/s, loss=0.298]\u001b[A\n",
      " 47%|████▋     | 194/413 [01:20<01:30,  2.42it/s, loss=0.298]\u001b[A\n",
      " 47%|████▋     | 194/413 [01:20<01:30,  2.41it/s, loss=0.301]\u001b[A\n",
      " 47%|████▋     | 195/413 [01:20<01:29,  2.42it/s, loss=0.301]\u001b[A\n",
      " 47%|████▋     | 195/413 [01:20<01:30,  2.41it/s, loss=0.302]\u001b[A\n",
      " 47%|████▋     | 196/413 [01:20<01:29,  2.42it/s, loss=0.302]\u001b[A\n",
      " 47%|████▋     | 196/413 [01:21<01:29,  2.41it/s, loss=0.302]\u001b[A\n",
      " 48%|████▊     | 197/413 [01:21<01:29,  2.42it/s, loss=0.302]\u001b[A\n",
      " 48%|████▊     | 197/413 [01:21<01:29,  2.41it/s, loss=0.302]\u001b[A\n",
      " 48%|████▊     | 198/413 [01:21<01:28,  2.42it/s, loss=0.302]\u001b[A\n",
      " 48%|████▊     | 198/413 [01:22<01:29,  2.41it/s, loss=0.308]\u001b[A\n",
      " 48%|████▊     | 199/413 [01:22<01:28,  2.42it/s, loss=0.308]\u001b[A\n",
      " 48%|████▊     | 199/413 [01:22<01:28,  2.41it/s, loss=0.305]\u001b[A\n",
      " 48%|████▊     | 200/413 [01:22<01:27,  2.42it/s, loss=0.305]\u001b[A\n",
      " 48%|████▊     | 200/413 [01:22<01:28,  2.41it/s, loss=0.302]\u001b[A\n",
      " 49%|████▊     | 201/413 [01:22<01:27,  2.42it/s, loss=0.302]\u001b[A\n",
      " 49%|████▊     | 201/413 [01:23<01:27,  2.41it/s, loss=0.299]\u001b[A\n",
      " 49%|████▉     | 202/413 [01:23<01:27,  2.42it/s, loss=0.299]\u001b[A\n",
      " 49%|████▉     | 202/413 [01:23<01:27,  2.41it/s, loss=0.298]\u001b[A\n",
      " 49%|████▉     | 203/413 [01:23<01:26,  2.42it/s, loss=0.298]\u001b[A\n",
      " 49%|████▉     | 203/413 [01:24<01:27,  2.41it/s, loss=0.296]\u001b[A\n",
      " 49%|████▉     | 204/413 [01:24<01:26,  2.42it/s, loss=0.296]\u001b[A\n",
      " 49%|████▉     | 204/413 [01:24<01:26,  2.41it/s, loss=0.299]\u001b[A\n",
      " 50%|████▉     | 205/413 [01:24<01:25,  2.42it/s, loss=0.299]\u001b[A\n",
      " 50%|████▉     | 205/413 [01:24<01:26,  2.41it/s, loss=0.301]\u001b[A\n",
      " 50%|████▉     | 206/413 [01:24<01:25,  2.43it/s, loss=0.301]\u001b[A\n",
      " 50%|████▉     | 206/413 [01:25<01:25,  2.41it/s, loss=0.298]\u001b[A\n",
      " 50%|█████     | 207/413 [01:25<01:24,  2.43it/s, loss=0.298]\u001b[A\n",
      " 50%|█████     | 207/413 [01:25<01:25,  2.41it/s, loss=0.301]\u001b[A\n",
      " 50%|█████     | 208/413 [01:25<01:24,  2.42it/s, loss=0.301]\u001b[A\n",
      " 50%|█████     | 208/413 [01:26<01:24,  2.41it/s, loss=0.303]\u001b[A\n",
      " 51%|█████     | 209/413 [01:26<01:24,  2.42it/s, loss=0.303]\u001b[A\n",
      " 51%|█████     | 209/413 [01:26<01:24,  2.41it/s, loss=0.3]  \u001b[A\n",
      " 51%|█████     | 210/413 [01:26<01:23,  2.43it/s, loss=0.3]\u001b[A\n",
      " 51%|█████     | 210/413 [01:26<01:24,  2.41it/s, loss=0.299]\u001b[A\n",
      " 51%|█████     | 211/413 [01:27<01:23,  2.43it/s, loss=0.299]\u001b[A\n",
      " 51%|█████     | 211/413 [01:27<01:23,  2.41it/s, loss=0.3]  \u001b[A\n",
      " 51%|█████▏    | 212/413 [01:27<01:22,  2.43it/s, loss=0.3]\u001b[A\n",
      " 51%|█████▏    | 212/413 [01:27<01:23,  2.41it/s, loss=0.303]\u001b[A\n",
      " 52%|█████▏    | 213/413 [01:27<01:22,  2.43it/s, loss=0.303]\u001b[A\n",
      " 52%|█████▏    | 213/413 [01:28<01:22,  2.41it/s, loss=0.301]\u001b[A\n",
      " 52%|█████▏    | 214/413 [01:28<01:22,  2.43it/s, loss=0.301]\u001b[A\n",
      " 52%|█████▏    | 214/413 [01:28<01:22,  2.41it/s, loss=0.3]  \u001b[A\n",
      " 52%|█████▏    | 215/413 [01:28<01:21,  2.43it/s, loss=0.3]\u001b[A\n",
      " 52%|█████▏    | 215/413 [01:29<01:22,  2.41it/s, loss=0.297]\u001b[A\n",
      " 52%|█████▏    | 216/413 [01:29<01:21,  2.43it/s, loss=0.297]\u001b[A\n",
      " 52%|█████▏    | 216/413 [01:29<01:21,  2.41it/s, loss=0.305]\u001b[A\n",
      " 53%|█████▎    | 217/413 [01:29<01:20,  2.43it/s, loss=0.305]\u001b[A\n",
      " 53%|█████▎    | 217/413 [01:29<01:21,  2.41it/s, loss=0.301]\u001b[A\n",
      " 53%|█████▎    | 218/413 [01:29<01:20,  2.43it/s, loss=0.301]\u001b[A\n",
      " 53%|█████▎    | 218/413 [01:30<01:20,  2.41it/s, loss=0.301]\u001b[A\n",
      " 53%|█████▎    | 219/413 [01:30<01:19,  2.43it/s, loss=0.301]\u001b[A\n",
      " 53%|█████▎    | 219/413 [01:30<01:20,  2.41it/s, loss=0.3]  \u001b[A\n",
      " 53%|█████▎    | 220/413 [01:30<01:19,  2.43it/s, loss=0.3]\u001b[A\n",
      " 53%|█████▎    | 220/413 [01:31<01:19,  2.41it/s, loss=0.3]\u001b[A\n",
      " 54%|█████▎    | 221/413 [01:31<01:19,  2.43it/s, loss=0.3]\u001b[A\n",
      " 54%|█████▎    | 221/413 [01:31<01:19,  2.41it/s, loss=0.299]\u001b[A\n",
      " 54%|█████▍    | 222/413 [01:31<01:18,  2.43it/s, loss=0.299]\u001b[A\n",
      " 54%|█████▍    | 222/413 [01:31<01:19,  2.41it/s, loss=0.298]\u001b[A\n",
      " 54%|█████▍    | 223/413 [01:31<01:18,  2.43it/s, loss=0.298]\u001b[A\n",
      " 54%|█████▍    | 223/413 [01:32<01:18,  2.41it/s, loss=0.296]\u001b[A\n",
      " 54%|█████▍    | 224/413 [01:32<01:17,  2.43it/s, loss=0.296]\u001b[A\n",
      " 54%|█████▍    | 224/413 [01:32<01:18,  2.41it/s, loss=0.294]\u001b[A\n",
      " 54%|█████▍    | 225/413 [01:32<01:17,  2.43it/s, loss=0.294]\u001b[A\n",
      " 54%|█████▍    | 225/413 [01:33<01:17,  2.41it/s, loss=0.291]\u001b[A\n",
      " 55%|█████▍    | 226/413 [01:33<01:17,  2.43it/s, loss=0.291]\u001b[A\n",
      " 55%|█████▍    | 226/413 [01:33<01:17,  2.41it/s, loss=0.289]\u001b[A\n",
      " 55%|█████▍    | 227/413 [01:33<01:16,  2.43it/s, loss=0.289]\u001b[A\n",
      " 55%|█████▍    | 227/413 [01:33<01:17,  2.42it/s, loss=0.288]\u001b[A\n",
      " 55%|█████▌    | 228/413 [01:34<01:16,  2.43it/s, loss=0.288]\u001b[A\n",
      " 55%|█████▌    | 228/413 [01:34<01:16,  2.42it/s, loss=0.285]\u001b[A\n",
      " 55%|█████▌    | 229/413 [01:34<01:15,  2.43it/s, loss=0.285]\u001b[A\n",
      " 55%|█████▌    | 229/413 [01:34<01:16,  2.42it/s, loss=0.282]\u001b[A\n",
      " 56%|█████▌    | 230/413 [01:34<01:15,  2.43it/s, loss=0.282]\u001b[A\n",
      " 56%|█████▌    | 230/413 [01:35<01:15,  2.42it/s, loss=0.28] \u001b[A\n",
      " 56%|█████▌    | 231/413 [01:35<01:15,  2.43it/s, loss=0.28]\u001b[A\n",
      " 56%|█████▌    | 231/413 [01:35<01:15,  2.42it/s, loss=0.282]\u001b[A\n",
      " 56%|█████▌    | 232/413 [01:35<01:14,  2.43it/s, loss=0.282]\u001b[A\n",
      " 56%|█████▌    | 232/413 [01:36<01:14,  2.42it/s, loss=0.28] \u001b[A\n",
      " 56%|█████▋    | 233/413 [01:36<01:14,  2.43it/s, loss=0.28]\u001b[A\n",
      " 56%|█████▋    | 233/413 [01:36<01:14,  2.42it/s, loss=0.278]\u001b[A\n",
      " 57%|█████▋    | 234/413 [01:36<01:13,  2.43it/s, loss=0.278]\u001b[A\n",
      " 57%|█████▋    | 234/413 [01:36<01:14,  2.42it/s, loss=0.276]\u001b[A\n",
      " 57%|█████▋    | 235/413 [01:36<01:13,  2.43it/s, loss=0.276]\u001b[A\n",
      " 57%|█████▋    | 235/413 [01:37<01:13,  2.42it/s, loss=0.272]\u001b[A\n",
      " 57%|█████▋    | 236/413 [01:37<01:12,  2.43it/s, loss=0.272]\u001b[A\n",
      " 57%|█████▋    | 236/413 [01:37<01:13,  2.42it/s, loss=0.27] \u001b[A\n",
      " 57%|█████▋    | 237/413 [01:37<01:12,  2.43it/s, loss=0.27]\u001b[A\n",
      " 57%|█████▋    | 237/413 [01:38<01:12,  2.42it/s, loss=0.279]\u001b[A\n",
      " 58%|█████▊    | 238/413 [01:38<01:12,  2.43it/s, loss=0.279]\u001b[A\n",
      " 58%|█████▊    | 238/413 [01:38<01:12,  2.42it/s, loss=0.292]\u001b[A\n",
      " 58%|█████▊    | 239/413 [01:38<01:11,  2.43it/s, loss=0.292]\u001b[A\n",
      " 58%|█████▊    | 239/413 [01:38<01:12,  2.42it/s, loss=0.294]\u001b[A\n",
      " 58%|█████▊    | 240/413 [01:38<01:11,  2.43it/s, loss=0.294]\u001b[A\n",
      " 58%|█████▊    | 240/413 [01:39<01:11,  2.42it/s, loss=0.292]\u001b[A\n",
      " 58%|█████▊    | 241/413 [01:39<01:10,  2.43it/s, loss=0.292]\u001b[A\n",
      " 58%|█████▊    | 241/413 [01:39<01:11,  2.42it/s, loss=0.29] \u001b[A\n",
      " 59%|█████▊    | 242/413 [01:39<01:10,  2.43it/s, loss=0.29]\u001b[A\n",
      " 59%|█████▊    | 242/413 [01:40<01:10,  2.42it/s, loss=0.29]\u001b[A\n",
      " 59%|█████▉    | 243/413 [01:40<01:10,  2.43it/s, loss=0.29]\u001b[A\n",
      " 59%|█████▉    | 243/413 [01:40<01:10,  2.42it/s, loss=0.289]\u001b[A\n",
      " 59%|█████▉    | 244/413 [01:40<01:09,  2.43it/s, loss=0.289]\u001b[A\n",
      " 59%|█████▉    | 244/413 [01:40<01:09,  2.42it/s, loss=0.29] \u001b[A\n",
      " 59%|█████▉    | 245/413 [01:41<01:09,  2.43it/s, loss=0.29]\u001b[A\n",
      " 59%|█████▉    | 245/413 [01:41<01:09,  2.42it/s, loss=0.293]\u001b[A\n",
      " 60%|█████▉    | 246/413 [01:41<01:08,  2.43it/s, loss=0.293]\u001b[A\n",
      " 60%|█████▉    | 246/413 [01:41<01:09,  2.42it/s, loss=0.295]\u001b[A\n",
      " 60%|█████▉    | 247/413 [01:41<01:08,  2.43it/s, loss=0.295]\u001b[A\n",
      " 60%|█████▉    | 247/413 [01:42<01:08,  2.42it/s, loss=0.298]\u001b[A\n",
      " 60%|██████    | 248/413 [01:42<01:08,  2.43it/s, loss=0.298]\u001b[A\n",
      " 60%|██████    | 248/413 [01:42<01:08,  2.42it/s, loss=0.296]\u001b[A\n",
      " 60%|██████    | 249/413 [01:42<01:07,  2.43it/s, loss=0.296]\u001b[A\n",
      " 60%|██████    | 249/413 [01:43<01:07,  2.42it/s, loss=0.298]\u001b[A\n",
      " 61%|██████    | 250/413 [01:43<01:07,  2.43it/s, loss=0.298]\u001b[A\n",
      " 61%|██████    | 250/413 [01:43<01:07,  2.42it/s, loss=0.305]\u001b[A\n",
      " 61%|██████    | 251/413 [01:43<01:06,  2.43it/s, loss=0.305]\u001b[A\n",
      " 61%|██████    | 251/413 [01:43<01:07,  2.42it/s, loss=0.303]\u001b[A\n",
      " 61%|██████    | 252/413 [01:43<01:06,  2.43it/s, loss=0.303]\u001b[A\n",
      " 61%|██████    | 252/413 [01:44<01:06,  2.42it/s, loss=0.3]  \u001b[A\n",
      " 61%|██████▏   | 253/413 [01:44<01:05,  2.43it/s, loss=0.3]\u001b[A\n"
     ]
    },
    {
     "name": "stdout",
     "output_type": "stream",
     "text": [
      " 61%|██████▏   | 253/413 [01:44<01:06,  2.42it/s, loss=0.298]\u001b[A\n",
      " 62%|██████▏   | 254/413 [01:44<01:05,  2.43it/s, loss=0.298]\u001b[A\n",
      " 62%|██████▏   | 254/413 [01:45<01:05,  2.42it/s, loss=0.304]\u001b[A\n",
      " 62%|██████▏   | 255/413 [01:45<01:05,  2.43it/s, loss=0.304]\u001b[A\n",
      " 62%|██████▏   | 255/413 [01:45<01:05,  2.42it/s, loss=0.301]\u001b[A\n",
      " 62%|██████▏   | 256/413 [01:45<01:04,  2.43it/s, loss=0.301]\u001b[A\n",
      " 62%|██████▏   | 256/413 [01:45<01:04,  2.42it/s, loss=0.298]\u001b[A\n",
      " 62%|██████▏   | 257/413 [01:45<01:04,  2.43it/s, loss=0.298]\u001b[A\n",
      " 62%|██████▏   | 257/413 [01:46<01:04,  2.42it/s, loss=0.296]\u001b[A\n",
      " 62%|██████▏   | 258/413 [01:46<01:03,  2.43it/s, loss=0.296]\u001b[A\n",
      " 62%|██████▏   | 258/413 [01:46<01:04,  2.42it/s, loss=0.296]\u001b[A\n",
      " 63%|██████▎   | 259/413 [01:46<01:03,  2.43it/s, loss=0.296]\u001b[A\n",
      " 63%|██████▎   | 259/413 [01:47<01:03,  2.42it/s, loss=0.299]\u001b[A\n",
      " 63%|██████▎   | 260/413 [01:47<01:02,  2.43it/s, loss=0.299]\u001b[A\n",
      " 63%|██████▎   | 260/413 [01:47<01:03,  2.42it/s, loss=0.303]\u001b[A\n",
      " 63%|██████▎   | 261/413 [01:47<01:02,  2.43it/s, loss=0.303]\u001b[A\n",
      " 63%|██████▎   | 261/413 [01:47<01:02,  2.42it/s, loss=0.307]\u001b[A\n",
      " 63%|██████▎   | 262/413 [01:47<01:02,  2.43it/s, loss=0.307]\u001b[A\n",
      " 63%|██████▎   | 262/413 [01:48<01:02,  2.42it/s, loss=0.307]\u001b[A\n",
      " 64%|██████▎   | 263/413 [01:48<01:01,  2.43it/s, loss=0.307]\u001b[A\n",
      " 64%|██████▎   | 263/413 [01:48<01:01,  2.42it/s, loss=0.312]\u001b[A\n",
      " 64%|██████▍   | 264/413 [01:48<01:01,  2.43it/s, loss=0.312]\u001b[A\n",
      " 64%|██████▍   | 264/413 [01:48<01:01,  2.42it/s, loss=0.314]\u001b[A\n",
      " 64%|██████▍   | 265/413 [01:48<01:00,  2.43it/s, loss=0.314]\u001b[A\n",
      " 64%|██████▍   | 265/413 [01:49<01:01,  2.42it/s, loss=0.312]\u001b[A\n",
      " 64%|██████▍   | 266/413 [01:49<01:00,  2.43it/s, loss=0.312]\u001b[A\n",
      " 64%|██████▍   | 266/413 [01:49<01:00,  2.42it/s, loss=0.31] \u001b[A\n",
      " 65%|██████▍   | 267/413 [01:49<01:00,  2.43it/s, loss=0.31]\u001b[A\n",
      " 65%|██████▍   | 267/413 [01:50<01:00,  2.42it/s, loss=0.314]\u001b[A\n",
      " 65%|██████▍   | 268/413 [01:50<00:59,  2.43it/s, loss=0.314]\u001b[A\n",
      " 65%|██████▍   | 268/413 [01:50<00:59,  2.42it/s, loss=0.313]\u001b[A\n",
      " 65%|██████▌   | 269/413 [01:50<00:59,  2.43it/s, loss=0.313]\u001b[A\n",
      " 65%|██████▌   | 269/413 [01:50<00:59,  2.42it/s, loss=0.311]\u001b[A\n",
      " 65%|██████▌   | 270/413 [01:50<00:58,  2.43it/s, loss=0.311]\u001b[A\n",
      " 65%|██████▌   | 270/413 [01:51<00:58,  2.42it/s, loss=0.311]\u001b[A\n",
      " 66%|██████▌   | 271/413 [01:51<00:58,  2.43it/s, loss=0.311]\u001b[A\n",
      " 66%|██████▌   | 271/413 [01:51<00:58,  2.42it/s, loss=0.311]\u001b[A\n",
      " 66%|██████▌   | 272/413 [01:51<00:57,  2.43it/s, loss=0.311]\u001b[A\n",
      " 66%|██████▌   | 272/413 [01:52<00:58,  2.43it/s, loss=0.311]\u001b[A\n",
      " 66%|██████▌   | 273/413 [01:52<00:57,  2.43it/s, loss=0.311]\u001b[A\n",
      " 66%|██████▌   | 273/413 [01:52<00:57,  2.43it/s, loss=0.309]\u001b[A\n",
      " 66%|██████▋   | 274/413 [01:52<00:57,  2.43it/s, loss=0.309]\u001b[A\n",
      " 66%|██████▋   | 274/413 [01:52<00:57,  2.43it/s, loss=0.308]\u001b[A\n",
      " 67%|██████▋   | 275/413 [01:52<00:56,  2.43it/s, loss=0.308]\u001b[A\n",
      " 67%|██████▋   | 275/413 [01:53<00:56,  2.43it/s, loss=0.31] \u001b[A\n",
      " 67%|██████▋   | 276/413 [01:53<00:56,  2.44it/s, loss=0.31]\u001b[A\n",
      " 67%|██████▋   | 276/413 [01:53<00:56,  2.43it/s, loss=0.308]\u001b[A\n",
      " 67%|██████▋   | 277/413 [01:53<00:55,  2.44it/s, loss=0.308]\u001b[A\n",
      " 67%|██████▋   | 277/413 [01:54<00:56,  2.43it/s, loss=0.304]\u001b[A\n",
      " 67%|██████▋   | 278/413 [01:54<00:55,  2.44it/s, loss=0.304]\u001b[A\n",
      " 67%|██████▋   | 278/413 [01:54<00:55,  2.43it/s, loss=0.303]\u001b[A\n",
      " 68%|██████▊   | 279/413 [01:54<00:55,  2.44it/s, loss=0.303]\u001b[A\n",
      " 68%|██████▊   | 279/413 [01:54<00:55,  2.43it/s, loss=0.312]\u001b[A\n",
      " 68%|██████▊   | 280/413 [01:54<00:54,  2.44it/s, loss=0.312]\u001b[A\n",
      " 68%|██████▊   | 280/413 [01:55<00:54,  2.43it/s, loss=0.31] \u001b[A\n",
      " 68%|██████▊   | 281/413 [01:55<00:54,  2.44it/s, loss=0.31]\u001b[A\n",
      " 68%|██████▊   | 281/413 [01:55<00:54,  2.43it/s, loss=0.308]\u001b[A\n",
      " 68%|██████▊   | 282/413 [01:55<00:53,  2.44it/s, loss=0.308]\u001b[A\n",
      " 68%|██████▊   | 282/413 [01:56<00:53,  2.43it/s, loss=0.307]\u001b[A\n",
      " 69%|██████▊   | 283/413 [01:56<00:53,  2.44it/s, loss=0.307]\u001b[A\n",
      " 69%|██████▊   | 283/413 [01:56<00:53,  2.43it/s, loss=0.307]\u001b[A\n",
      " 69%|██████▉   | 284/413 [01:56<00:52,  2.44it/s, loss=0.307]\u001b[A\n",
      " 69%|██████▉   | 284/413 [01:56<00:53,  2.43it/s, loss=0.303]\u001b[A\n",
      " 69%|██████▉   | 285/413 [01:56<00:52,  2.44it/s, loss=0.303]\u001b[A\n",
      " 69%|██████▉   | 285/413 [01:57<00:52,  2.43it/s, loss=0.301]\u001b[A\n",
      " 69%|██████▉   | 286/413 [01:57<00:52,  2.44it/s, loss=0.301]\u001b[A\n",
      " 69%|██████▉   | 286/413 [01:57<00:52,  2.43it/s, loss=0.302]\u001b[A\n",
      " 69%|██████▉   | 287/413 [01:57<00:51,  2.44it/s, loss=0.302]\u001b[A\n",
      " 69%|██████▉   | 287/413 [01:58<00:51,  2.43it/s, loss=0.299]\u001b[A\n",
      " 70%|██████▉   | 288/413 [01:58<00:51,  2.44it/s, loss=0.299]\u001b[A\n",
      " 70%|██████▉   | 288/413 [01:58<00:51,  2.43it/s, loss=0.305]\u001b[A\n",
      " 70%|██████▉   | 289/413 [01:58<00:50,  2.44it/s, loss=0.305]\u001b[A\n",
      " 70%|██████▉   | 289/413 [01:58<00:51,  2.43it/s, loss=0.312]\u001b[A\n",
      " 70%|███████   | 290/413 [01:58<00:50,  2.44it/s, loss=0.312]\u001b[A\n",
      " 70%|███████   | 290/413 [01:59<00:50,  2.43it/s, loss=0.309]\u001b[A\n",
      " 70%|███████   | 291/413 [01:59<00:50,  2.44it/s, loss=0.309]\u001b[A\n",
      " 70%|███████   | 291/413 [01:59<00:50,  2.43it/s, loss=0.305]\u001b[A\n",
      " 71%|███████   | 292/413 [01:59<00:49,  2.44it/s, loss=0.305]\u001b[A\n",
      " 71%|███████   | 292/413 [02:00<00:49,  2.43it/s, loss=0.302]\u001b[A\n",
      " 71%|███████   | 293/413 [02:00<00:49,  2.44it/s, loss=0.302]\u001b[A\n",
      " 71%|███████   | 293/413 [02:00<00:49,  2.43it/s, loss=0.298]\u001b[A\n",
      " 71%|███████   | 294/413 [02:00<00:48,  2.44it/s, loss=0.298]\u001b[A\n",
      " 71%|███████   | 294/413 [02:00<00:48,  2.43it/s, loss=0.296]\u001b[A\n",
      " 71%|███████▏  | 295/413 [02:00<00:48,  2.44it/s, loss=0.296]\u001b[A\n",
      " 71%|███████▏  | 295/413 [02:01<00:48,  2.43it/s, loss=0.303]\u001b[A\n",
      " 72%|███████▏  | 296/413 [02:01<00:47,  2.44it/s, loss=0.303]\u001b[A\n",
      " 72%|███████▏  | 296/413 [02:01<00:48,  2.43it/s, loss=0.301]\u001b[A\n",
      " 72%|███████▏  | 297/413 [02:01<00:47,  2.44it/s, loss=0.301]\u001b[A\n",
      " 72%|███████▏  | 297/413 [02:02<00:47,  2.43it/s, loss=0.31] \u001b[A\n",
      " 72%|███████▏  | 298/413 [02:02<00:47,  2.44it/s, loss=0.31]\u001b[A\n",
      " 72%|███████▏  | 298/413 [02:02<00:47,  2.43it/s, loss=0.31]\u001b[A\n",
      " 72%|███████▏  | 299/413 [02:02<00:46,  2.44it/s, loss=0.31]\u001b[A\n",
      " 72%|███████▏  | 299/413 [02:02<00:46,  2.43it/s, loss=0.323]\u001b[A\n",
      " 73%|███████▎  | 300/413 [02:02<00:46,  2.44it/s, loss=0.323]\u001b[A\n",
      " 73%|███████▎  | 300/413 [02:03<00:46,  2.43it/s, loss=0.32] \u001b[A\n",
      " 73%|███████▎  | 301/413 [02:03<00:45,  2.44it/s, loss=0.32]\u001b[A\n",
      " 73%|███████▎  | 301/413 [02:03<00:46,  2.43it/s, loss=0.316]\u001b[A\n",
      " 73%|███████▎  | 302/413 [02:03<00:45,  2.44it/s, loss=0.316]\u001b[A\n",
      " 73%|███████▎  | 302/413 [02:04<00:45,  2.43it/s, loss=0.317]\u001b[A\n",
      " 73%|███████▎  | 303/413 [02:04<00:45,  2.44it/s, loss=0.317]\u001b[A\n",
      " 73%|███████▎  | 303/413 [02:04<00:45,  2.43it/s, loss=0.32] \u001b[A\n",
      " 74%|███████▎  | 304/413 [02:04<00:44,  2.44it/s, loss=0.32]\u001b[A\n",
      " 74%|███████▎  | 304/413 [02:04<00:44,  2.44it/s, loss=0.324]\u001b[A\n",
      " 74%|███████▍  | 305/413 [02:04<00:44,  2.44it/s, loss=0.324]\u001b[A\n",
      " 74%|███████▍  | 305/413 [02:05<00:44,  2.44it/s, loss=0.321]\u001b[A\n",
      " 74%|███████▍  | 306/413 [02:05<00:43,  2.44it/s, loss=0.321]\u001b[A\n",
      " 74%|███████▍  | 306/413 [02:05<00:43,  2.44it/s, loss=0.323]\u001b[A\n",
      " 74%|███████▍  | 307/413 [02:05<00:43,  2.44it/s, loss=0.323]\u001b[A\n",
      " 74%|███████▍  | 307/413 [02:06<00:43,  2.44it/s, loss=0.321]\u001b[A\n",
      " 75%|███████▍  | 308/413 [02:06<00:42,  2.44it/s, loss=0.321]\u001b[A\n",
      " 75%|███████▍  | 308/413 [02:06<00:43,  2.44it/s, loss=0.321]\u001b[A\n",
      " 75%|███████▍  | 309/413 [02:06<00:42,  2.44it/s, loss=0.321]\u001b[A\n",
      " 75%|███████▍  | 309/413 [02:06<00:42,  2.44it/s, loss=0.318]\u001b[A\n",
      " 75%|███████▌  | 310/413 [02:06<00:42,  2.44it/s, loss=0.318]\u001b[A\n",
      " 75%|███████▌  | 310/413 [02:07<00:42,  2.44it/s, loss=0.318]\u001b[A\n",
      " 75%|███████▌  | 311/413 [02:07<00:41,  2.44it/s, loss=0.318]\u001b[A\n",
      " 75%|███████▌  | 311/413 [02:07<00:41,  2.44it/s, loss=0.318]\u001b[A\n",
      " 76%|███████▌  | 312/413 [02:07<00:41,  2.44it/s, loss=0.318]\u001b[A\n",
      " 76%|███████▌  | 312/413 [02:08<00:41,  2.44it/s, loss=0.318]\u001b[A\n",
      " 76%|███████▌  | 313/413 [02:08<00:40,  2.45it/s, loss=0.318]\u001b[A\n",
      " 76%|███████▌  | 313/413 [02:08<00:41,  2.44it/s, loss=0.32] \u001b[A\n",
      " 76%|███████▌  | 314/413 [02:08<00:40,  2.45it/s, loss=0.32]\u001b[A\n",
      " 76%|███████▌  | 314/413 [02:08<00:40,  2.44it/s, loss=0.32]\u001b[A\n",
      " 76%|███████▋  | 315/413 [02:08<00:40,  2.45it/s, loss=0.32]\u001b[A\n",
      " 76%|███████▋  | 315/413 [02:09<00:40,  2.44it/s, loss=0.321]\u001b[A\n",
      " 77%|███████▋  | 316/413 [02:09<00:39,  2.45it/s, loss=0.321]\u001b[A\n",
      " 77%|███████▋  | 316/413 [02:09<00:39,  2.44it/s, loss=0.318]\u001b[A\n",
      " 77%|███████▋  | 317/413 [02:09<00:39,  2.45it/s, loss=0.318]\u001b[A\n",
      " 77%|███████▋  | 317/413 [02:09<00:39,  2.44it/s, loss=0.315]\u001b[A\n",
      " 77%|███████▋  | 318/413 [02:09<00:38,  2.45it/s, loss=0.315]\u001b[A\n",
      " 77%|███████▋  | 318/413 [02:10<00:38,  2.44it/s, loss=0.315]\u001b[A\n",
      " 77%|███████▋  | 319/413 [02:10<00:38,  2.45it/s, loss=0.315]\u001b[A\n",
      " 77%|███████▋  | 319/413 [02:10<00:38,  2.44it/s, loss=0.314]\u001b[A\n",
      " 77%|███████▋  | 320/413 [02:10<00:38,  2.45it/s, loss=0.314]\u001b[A\n",
      " 77%|███████▋  | 320/413 [02:11<00:38,  2.44it/s, loss=0.316]\u001b[A\n",
      " 78%|███████▊  | 321/413 [02:11<00:37,  2.45it/s, loss=0.316]\u001b[A\n",
      " 78%|███████▊  | 321/413 [02:11<00:37,  2.44it/s, loss=0.314]\u001b[A\n",
      " 78%|███████▊  | 322/413 [02:11<00:37,  2.45it/s, loss=0.314]\u001b[A\n",
      " 78%|███████▊  | 322/413 [02:11<00:37,  2.44it/s, loss=0.316]\u001b[A\n",
      " 78%|███████▊  | 323/413 [02:11<00:36,  2.45it/s, loss=0.316]\u001b[A\n",
      " 78%|███████▊  | 323/413 [02:12<00:36,  2.44it/s, loss=0.32] \u001b[A\n",
      " 78%|███████▊  | 324/413 [02:12<00:36,  2.45it/s, loss=0.32]\u001b[A\n",
      " 78%|███████▊  | 324/413 [02:12<00:36,  2.44it/s, loss=0.317]\u001b[A\n",
      " 79%|███████▊  | 325/413 [02:12<00:35,  2.45it/s, loss=0.317]\u001b[A\n",
      " 79%|███████▊  | 325/413 [02:13<00:36,  2.44it/s, loss=0.321]\u001b[A\n",
      " 79%|███████▉  | 326/413 [02:13<00:35,  2.45it/s, loss=0.321]\u001b[A\n",
      " 79%|███████▉  | 326/413 [02:13<00:35,  2.44it/s, loss=0.32] \u001b[A\n",
      " 79%|███████▉  | 327/413 [02:13<00:35,  2.45it/s, loss=0.32]\u001b[A\n",
      " 79%|███████▉  | 327/413 [02:13<00:35,  2.44it/s, loss=0.322]\u001b[A\n",
      " 79%|███████▉  | 328/413 [02:13<00:34,  2.45it/s, loss=0.322]\u001b[A\n",
      " 79%|███████▉  | 328/413 [02:14<00:34,  2.44it/s, loss=0.324]\u001b[A\n",
      " 80%|███████▉  | 329/413 [02:14<00:34,  2.45it/s, loss=0.324]\u001b[A\n",
      " 80%|███████▉  | 329/413 [02:14<00:34,  2.44it/s, loss=0.324]\u001b[A\n",
      " 80%|███████▉  | 330/413 [02:14<00:33,  2.45it/s, loss=0.324]\u001b[A\n",
      " 80%|███████▉  | 330/413 [02:15<00:33,  2.44it/s, loss=0.326]\u001b[A\n",
      " 80%|████████  | 331/413 [02:15<00:33,  2.45it/s, loss=0.326]\u001b[A\n",
      " 80%|████████  | 331/413 [02:15<00:33,  2.44it/s, loss=0.322]\u001b[A\n",
      " 80%|████████  | 332/413 [02:15<00:33,  2.45it/s, loss=0.322]\u001b[A\n",
      " 80%|████████  | 332/413 [02:15<00:33,  2.44it/s, loss=0.321]\u001b[A\n",
      " 81%|████████  | 333/413 [02:15<00:32,  2.45it/s, loss=0.321]\u001b[A\n",
      " 81%|████████  | 333/413 [02:16<00:32,  2.44it/s, loss=0.317]\u001b[A\n",
      " 81%|████████  | 334/413 [02:16<00:32,  2.45it/s, loss=0.317]\u001b[A\n",
      " 81%|████████  | 334/413 [02:16<00:32,  2.44it/s, loss=0.321]\u001b[A\n",
      " 81%|████████  | 335/413 [02:16<00:31,  2.45it/s, loss=0.321]\u001b[A\n",
      " 81%|████████  | 335/413 [02:17<00:31,  2.44it/s, loss=0.326]\u001b[A\n",
      " 81%|████████▏ | 336/413 [02:17<00:31,  2.45it/s, loss=0.326]\u001b[A\n",
      " 81%|████████▏ | 336/413 [02:17<00:31,  2.44it/s, loss=0.322]\u001b[A\n",
      " 82%|████████▏ | 337/413 [02:17<00:31,  2.45it/s, loss=0.322]\u001b[A\n",
      " 82%|████████▏ | 337/413 [02:17<00:31,  2.44it/s, loss=0.322]\u001b[A\n",
      " 82%|████████▏ | 338/413 [02:17<00:30,  2.45it/s, loss=0.322]\u001b[A\n",
      " 82%|████████▏ | 338/413 [02:18<00:30,  2.44it/s, loss=0.321]\u001b[A\n",
      " 82%|████████▏ | 339/413 [02:18<00:30,  2.45it/s, loss=0.321]\u001b[A\n",
      " 82%|████████▏ | 339/413 [02:18<00:30,  2.44it/s, loss=0.323]\u001b[A\n",
      " 82%|████████▏ | 340/413 [02:18<00:29,  2.45it/s, loss=0.323]\u001b[A\n",
      " 82%|████████▏ | 340/413 [02:19<00:29,  2.44it/s, loss=0.322]\u001b[A\n",
      " 83%|████████▎ | 341/413 [02:19<00:29,  2.45it/s, loss=0.322]\u001b[A\n",
      " 83%|████████▎ | 341/413 [02:19<00:29,  2.44it/s, loss=0.326]\u001b[A\n",
      " 83%|████████▎ | 342/413 [02:19<00:28,  2.45it/s, loss=0.326]\u001b[A\n",
      " 83%|████████▎ | 342/413 [02:19<00:29,  2.44it/s, loss=0.322]\u001b[A\n",
      " 83%|████████▎ | 343/413 [02:19<00:28,  2.45it/s, loss=0.322]\u001b[A\n",
      " 83%|████████▎ | 343/413 [02:20<00:28,  2.44it/s, loss=0.328]\u001b[A\n",
      " 83%|████████▎ | 344/413 [02:20<00:28,  2.45it/s, loss=0.328]\u001b[A\n",
      " 83%|████████▎ | 344/413 [02:20<00:28,  2.45it/s, loss=0.329]\u001b[A\n",
      " 84%|████████▎ | 345/413 [02:20<00:27,  2.45it/s, loss=0.329]\u001b[A\n",
      " 84%|████████▎ | 345/413 [02:21<00:27,  2.45it/s, loss=0.328]\u001b[A\n",
      " 84%|████████▍ | 346/413 [02:21<00:27,  2.45it/s, loss=0.328]\u001b[A\n",
      " 84%|████████▍ | 346/413 [02:21<00:27,  2.45it/s, loss=0.325]\u001b[A\n",
      " 84%|████████▍ | 347/413 [02:21<00:26,  2.45it/s, loss=0.325]\u001b[A\n",
      " 84%|████████▍ | 347/413 [02:21<00:26,  2.45it/s, loss=0.321]\u001b[A\n",
      " 84%|████████▍ | 348/413 [02:21<00:26,  2.45it/s, loss=0.321]\u001b[A\n",
      " 84%|████████▍ | 348/413 [02:22<00:26,  2.45it/s, loss=0.322]\u001b[A\n",
      " 85%|████████▍ | 349/413 [02:22<00:26,  2.45it/s, loss=0.322]\u001b[A\n",
      " 85%|████████▍ | 349/413 [02:22<00:26,  2.45it/s, loss=0.322]\u001b[A\n",
      " 85%|████████▍ | 350/413 [02:22<00:25,  2.45it/s, loss=0.322]\u001b[A\n",
      " 85%|████████▍ | 350/413 [02:23<00:25,  2.45it/s, loss=0.318]\u001b[A\n",
      " 85%|████████▍ | 351/413 [02:23<00:25,  2.45it/s, loss=0.318]\u001b[A\n",
      " 85%|████████▍ | 351/413 [02:23<00:25,  2.45it/s, loss=0.317]\u001b[A\n",
      " 85%|████████▌ | 352/413 [02:23<00:24,  2.45it/s, loss=0.317]\u001b[A\n",
      " 85%|████████▌ | 352/413 [02:23<00:24,  2.45it/s, loss=0.325]\u001b[A\n",
      " 85%|████████▌ | 353/413 [02:23<00:24,  2.45it/s, loss=0.325]\u001b[A\n",
      " 85%|████████▌ | 353/413 [02:24<00:24,  2.45it/s, loss=0.325]\u001b[A\n",
      " 86%|████████▌ | 354/413 [02:24<00:24,  2.45it/s, loss=0.325]\u001b[A\n",
      " 86%|████████▌ | 354/413 [02:24<00:24,  2.45it/s, loss=0.327]\u001b[A\n",
      " 86%|████████▌ | 355/413 [02:24<00:23,  2.45it/s, loss=0.327]\u001b[A\n",
      " 86%|████████▌ | 355/413 [02:25<00:23,  2.45it/s, loss=0.324]\u001b[A\n",
      " 86%|████████▌ | 356/413 [02:25<00:23,  2.45it/s, loss=0.324]\u001b[A\n",
      " 86%|████████▌ | 356/413 [02:25<00:23,  2.45it/s, loss=0.323]\u001b[A\n",
      " 86%|████████▋ | 357/413 [02:25<00:22,  2.45it/s, loss=0.323]\u001b[A\n",
      " 86%|████████▋ | 357/413 [02:25<00:22,  2.45it/s, loss=0.322]\u001b[A\n",
      " 87%|████████▋ | 358/413 [02:25<00:22,  2.45it/s, loss=0.322]\u001b[A\n",
      " 87%|████████▋ | 358/413 [02:26<00:22,  2.45it/s, loss=0.325]\u001b[A\n",
      " 87%|████████▋ | 359/413 [02:26<00:21,  2.45it/s, loss=0.325]\u001b[A\n",
      " 87%|████████▋ | 359/413 [02:26<00:22,  2.45it/s, loss=0.323]\u001b[A\n",
      " 87%|████████▋ | 360/413 [02:26<00:21,  2.46it/s, loss=0.323]\u001b[A\n",
      " 87%|████████▋ | 360/413 [02:27<00:21,  2.45it/s, loss=0.32] \u001b[A\n",
      " 87%|████████▋ | 361/413 [02:27<00:21,  2.46it/s, loss=0.32]\u001b[A\n",
      " 87%|████████▋ | 361/413 [02:27<00:21,  2.45it/s, loss=0.316]\u001b[A\n",
      " 88%|████████▊ | 362/413 [02:27<00:20,  2.46it/s, loss=0.316]\u001b[A\n",
      " 88%|████████▊ | 362/413 [02:27<00:20,  2.45it/s, loss=0.325]\u001b[A\n",
      " 88%|████████▊ | 363/413 [02:27<00:20,  2.46it/s, loss=0.325]\u001b[A\n",
      " 88%|████████▊ | 363/413 [02:28<00:20,  2.45it/s, loss=0.335]\u001b[A\n",
      " 88%|████████▊ | 364/413 [02:28<00:19,  2.46it/s, loss=0.335]\u001b[A\n",
      " 88%|████████▊ | 364/413 [02:28<00:20,  2.45it/s, loss=0.336]\u001b[A\n",
      " 88%|████████▊ | 365/413 [02:28<00:19,  2.46it/s, loss=0.336]\u001b[A\n",
      " 88%|████████▊ | 365/413 [02:29<00:19,  2.45it/s, loss=0.333]\u001b[A\n",
      " 89%|████████▊ | 366/413 [02:29<00:19,  2.46it/s, loss=0.333]\u001b[A\n",
      " 89%|████████▊ | 366/413 [02:29<00:19,  2.45it/s, loss=0.332]\u001b[A\n",
      " 89%|████████▉ | 367/413 [02:29<00:18,  2.46it/s, loss=0.332]\u001b[A\n",
      " 89%|████████▉ | 367/413 [02:29<00:18,  2.45it/s, loss=0.33] \u001b[A\n",
      " 89%|████████▉ | 368/413 [02:29<00:18,  2.46it/s, loss=0.33]\u001b[A\n",
      " 89%|████████▉ | 368/413 [02:30<00:18,  2.45it/s, loss=0.329]\u001b[A\n",
      " 89%|████████▉ | 369/413 [02:30<00:17,  2.46it/s, loss=0.329]\u001b[A\n",
      " 89%|████████▉ | 369/413 [02:30<00:17,  2.45it/s, loss=0.326]\u001b[A\n",
      " 90%|████████▉ | 370/413 [02:30<00:17,  2.46it/s, loss=0.326]\u001b[A\n",
      " 90%|████████▉ | 370/413 [02:30<00:17,  2.45it/s, loss=0.324]\u001b[A\n",
      " 90%|████████▉ | 371/413 [02:30<00:17,  2.46it/s, loss=0.324]\u001b[A\n",
      " 90%|████████▉ | 371/413 [02:31<00:17,  2.45it/s, loss=0.325]\u001b[A\n",
      " 90%|█████████ | 372/413 [02:31<00:16,  2.46it/s, loss=0.325]\u001b[A\n",
      " 90%|█████████ | 372/413 [02:31<00:16,  2.45it/s, loss=0.323]\u001b[A\n",
      " 90%|█████████ | 373/413 [02:31<00:16,  2.46it/s, loss=0.323]\u001b[A\n",
      " 90%|█████████ | 373/413 [02:32<00:16,  2.45it/s, loss=0.32] \u001b[A\n",
      " 91%|█████████ | 374/413 [02:32<00:15,  2.46it/s, loss=0.32]\u001b[A\n",
      " 91%|█████████ | 374/413 [02:32<00:15,  2.45it/s, loss=0.315]\u001b[A\n",
      " 91%|█████████ | 375/413 [02:32<00:15,  2.46it/s, loss=0.315]\u001b[A\n",
      " 91%|█████████ | 375/413 [02:32<00:15,  2.45it/s, loss=0.317]\u001b[A\n",
      " 91%|█████████ | 376/413 [02:32<00:15,  2.46it/s, loss=0.317]\u001b[A\n",
      " 91%|█████████ | 376/413 [02:33<00:15,  2.45it/s, loss=0.319]\u001b[A\n",
      " 91%|█████████▏| 377/413 [02:33<00:14,  2.46it/s, loss=0.319]\u001b[A\n",
      " 91%|█████████▏| 377/413 [02:33<00:14,  2.45it/s, loss=0.314]\u001b[A\n",
      " 92%|█████████▏| 378/413 [02:33<00:14,  2.46it/s, loss=0.314]\u001b[A\n",
      " 92%|█████████▏| 378/413 [02:34<00:14,  2.45it/s, loss=0.314]\u001b[A\n",
      " 92%|█████████▏| 379/413 [02:34<00:13,  2.46it/s, loss=0.314]\u001b[A\n"
     ]
    },
    {
     "name": "stdout",
     "output_type": "stream",
     "text": [
      " 92%|█████████▏| 379/413 [02:34<00:13,  2.45it/s, loss=0.313]\u001b[A\n",
      " 92%|█████████▏| 380/413 [02:34<00:13,  2.46it/s, loss=0.313]\u001b[A\n",
      " 92%|█████████▏| 380/413 [02:34<00:13,  2.45it/s, loss=0.313]\u001b[A\n",
      " 92%|█████████▏| 381/413 [02:34<00:13,  2.46it/s, loss=0.313]\u001b[A\n",
      " 92%|█████████▏| 381/413 [02:35<00:13,  2.45it/s, loss=0.311]\u001b[A\n",
      " 92%|█████████▏| 382/413 [02:35<00:12,  2.46it/s, loss=0.311]\u001b[A\n",
      " 92%|█████████▏| 382/413 [02:35<00:12,  2.45it/s, loss=0.307]\u001b[A\n",
      " 93%|█████████▎| 383/413 [02:35<00:12,  2.46it/s, loss=0.307]\u001b[A\n",
      " 93%|█████████▎| 383/413 [02:36<00:12,  2.45it/s, loss=0.306]\u001b[A\n",
      " 93%|█████████▎| 384/413 [02:36<00:11,  2.46it/s, loss=0.306]\u001b[A\n",
      " 93%|█████████▎| 384/413 [02:36<00:11,  2.45it/s, loss=0.303]\u001b[A\n",
      " 93%|█████████▎| 385/413 [02:36<00:11,  2.46it/s, loss=0.303]\u001b[A\n",
      " 93%|█████████▎| 385/413 [02:36<00:11,  2.45it/s, loss=0.304]\u001b[A\n",
      " 93%|█████████▎| 386/413 [02:36<00:10,  2.46it/s, loss=0.304]\u001b[A\n",
      " 93%|█████████▎| 386/413 [02:37<00:11,  2.45it/s, loss=0.304]\u001b[A\n",
      " 94%|█████████▎| 387/413 [02:37<00:10,  2.46it/s, loss=0.304]\u001b[A\n",
      " 94%|█████████▎| 387/413 [02:37<00:10,  2.45it/s, loss=0.302]\u001b[A\n",
      " 94%|█████████▍| 388/413 [02:37<00:10,  2.46it/s, loss=0.302]\u001b[A\n",
      " 94%|█████████▍| 388/413 [02:38<00:10,  2.45it/s, loss=0.301]\u001b[A\n",
      " 94%|█████████▍| 389/413 [02:38<00:09,  2.46it/s, loss=0.301]\u001b[A\n",
      " 94%|█████████▍| 389/413 [02:38<00:09,  2.45it/s, loss=0.301]\u001b[A\n",
      " 94%|█████████▍| 390/413 [02:38<00:09,  2.46it/s, loss=0.301]\u001b[A\n",
      " 94%|█████████▍| 390/413 [02:38<00:09,  2.45it/s, loss=0.305]\u001b[A\n",
      " 95%|█████████▍| 391/413 [02:38<00:08,  2.46it/s, loss=0.305]\u001b[A\n",
      " 95%|█████████▍| 391/413 [02:39<00:08,  2.45it/s, loss=0.302]\u001b[A\n",
      " 95%|█████████▍| 392/413 [02:39<00:08,  2.46it/s, loss=0.302]\u001b[A\n",
      " 95%|█████████▍| 392/413 [02:39<00:08,  2.45it/s, loss=0.311]\u001b[A\n",
      " 95%|█████████▌| 393/413 [02:39<00:08,  2.46it/s, loss=0.311]\u001b[A\n",
      " 95%|█████████▌| 393/413 [02:40<00:08,  2.45it/s, loss=0.32] \u001b[A\n",
      " 95%|█████████▌| 394/413 [02:40<00:07,  2.46it/s, loss=0.32]\u001b[A\n",
      " 95%|█████████▌| 394/413 [02:40<00:07,  2.46it/s, loss=0.319]\u001b[A\n",
      " 96%|█████████▌| 395/413 [02:40<00:07,  2.46it/s, loss=0.319]\u001b[A\n",
      " 96%|█████████▌| 395/413 [02:40<00:07,  2.46it/s, loss=0.316]\u001b[A\n",
      " 96%|█████████▌| 396/413 [02:40<00:06,  2.46it/s, loss=0.316]\u001b[A\n",
      " 96%|█████████▌| 396/413 [02:41<00:06,  2.46it/s, loss=0.314]\u001b[A\n",
      " 96%|█████████▌| 397/413 [02:41<00:06,  2.46it/s, loss=0.314]\u001b[A\n",
      " 96%|█████████▌| 397/413 [02:41<00:06,  2.46it/s, loss=0.313]\u001b[A\n",
      " 96%|█████████▋| 398/413 [02:41<00:06,  2.46it/s, loss=0.313]\u001b[A\n",
      " 96%|█████████▋| 398/413 [02:42<00:06,  2.46it/s, loss=0.309]\u001b[A\n",
      " 97%|█████████▋| 399/413 [02:42<00:05,  2.46it/s, loss=0.309]\u001b[A\n",
      " 97%|█████████▋| 399/413 [02:42<00:05,  2.46it/s, loss=0.307]\u001b[A\n",
      " 97%|█████████▋| 400/413 [02:42<00:05,  2.46it/s, loss=0.307]\u001b[A\n",
      " 97%|█████████▋| 400/413 [02:42<00:05,  2.46it/s, loss=0.305]\u001b[A\n",
      " 97%|█████████▋| 401/413 [02:42<00:04,  2.46it/s, loss=0.305]\u001b[A\n",
      " 97%|█████████▋| 401/413 [02:43<00:04,  2.46it/s, loss=0.308]\u001b[A\n",
      " 97%|█████████▋| 402/413 [02:43<00:04,  2.46it/s, loss=0.308]\u001b[A\n",
      " 97%|█████████▋| 402/413 [02:43<00:04,  2.46it/s, loss=0.308]\u001b[A\n",
      " 98%|█████████▊| 403/413 [02:43<00:04,  2.46it/s, loss=0.308]\u001b[A\n",
      " 98%|█████████▊| 403/413 [02:44<00:04,  2.46it/s, loss=0.305]\u001b[A\n",
      " 98%|█████████▊| 404/413 [02:44<00:03,  2.46it/s, loss=0.305]\u001b[A\n",
      " 98%|█████████▊| 404/413 [02:44<00:03,  2.46it/s, loss=0.301]\u001b[A\n",
      " 98%|█████████▊| 405/413 [02:44<00:03,  2.46it/s, loss=0.301]\u001b[A\n",
      " 98%|█████████▊| 405/413 [02:44<00:03,  2.46it/s, loss=0.301]\u001b[A\n",
      " 98%|█████████▊| 406/413 [02:44<00:02,  2.46it/s, loss=0.301]\u001b[A\n",
      " 98%|█████████▊| 406/413 [02:45<00:02,  2.46it/s, loss=0.303]\u001b[A\n",
      " 99%|█████████▊| 407/413 [02:45<00:02,  2.46it/s, loss=0.303]\u001b[A\n",
      " 99%|█████████▊| 407/413 [02:45<00:02,  2.46it/s, loss=0.305]\u001b[A\n",
      " 99%|█████████▉| 408/413 [02:45<00:02,  2.46it/s, loss=0.305]\u001b[A\n",
      " 99%|█████████▉| 408/413 [02:46<00:02,  2.46it/s, loss=0.305]\u001b[A\n",
      " 99%|█████████▉| 409/413 [02:46<00:01,  2.46it/s, loss=0.305]\u001b[A\n",
      " 99%|█████████▉| 409/413 [02:46<00:01,  2.46it/s, loss=0.308]\u001b[A\n",
      " 99%|█████████▉| 410/413 [02:46<00:01,  2.46it/s, loss=0.308]\u001b[A\n",
      " 99%|█████████▉| 410/413 [02:46<00:01,  2.46it/s, loss=0.306]\u001b[A\n",
      "100%|█████████▉| 411/413 [02:46<00:00,  2.46it/s, loss=0.306]\u001b[A\n",
      "100%|█████████▉| 411/413 [02:47<00:00,  2.46it/s, loss=0.307]\u001b[A\n",
      "                                                             \u001b[A\r"
     ]
    },
    {
     "ename": "ValueError",
     "evalue": "Expected more than 1 value per channel when training, got input size [1, 1024]",
     "output_type": "error",
     "traceback": [
      "\u001b[0;31m---------------------------------------------------------------------------\u001b[0m",
      "\u001b[0;31mValueError\u001b[0m                                Traceback (most recent call last)",
      "\u001b[0;32m<timed eval>\u001b[0m in \u001b[0;36m<module>\u001b[0;34m()\u001b[0m\n",
      "\u001b[0;32m~/Aersu/GLOC/fastai_lin/learner.py\u001b[0m in \u001b[0;36mfit\u001b[0;34m(self, lrs, n_cycle, wds, **kwargs)\u001b[0m\n\u001b[1;32m    211\u001b[0m         \u001b[0mself\u001b[0m\u001b[0;34m.\u001b[0m\u001b[0msched\u001b[0m \u001b[0;34m=\u001b[0m \u001b[0;32mNone\u001b[0m\u001b[0;34m\u001b[0m\u001b[0m\n\u001b[1;32m    212\u001b[0m         \u001b[0mlayer_opt\u001b[0m \u001b[0;34m=\u001b[0m \u001b[0mself\u001b[0m\u001b[0;34m.\u001b[0m\u001b[0mget_layer_opt\u001b[0m\u001b[0;34m(\u001b[0m\u001b[0mlrs\u001b[0m\u001b[0;34m,\u001b[0m \u001b[0mwds\u001b[0m\u001b[0;34m)\u001b[0m\u001b[0;34m\u001b[0m\u001b[0m\n\u001b[0;32m--> 213\u001b[0;31m         \u001b[0mself\u001b[0m\u001b[0;34m.\u001b[0m\u001b[0mfit_gen\u001b[0m\u001b[0;34m(\u001b[0m\u001b[0mself\u001b[0m\u001b[0;34m.\u001b[0m\u001b[0mmodel\u001b[0m\u001b[0;34m,\u001b[0m \u001b[0mself\u001b[0m\u001b[0;34m.\u001b[0m\u001b[0mdata\u001b[0m\u001b[0;34m,\u001b[0m \u001b[0mlayer_opt\u001b[0m\u001b[0;34m,\u001b[0m \u001b[0mn_cycle\u001b[0m\u001b[0;34m,\u001b[0m \u001b[0;34m**\u001b[0m\u001b[0mkwargs\u001b[0m\u001b[0;34m)\u001b[0m\u001b[0;34m\u001b[0m\u001b[0m\n\u001b[0m\u001b[1;32m    214\u001b[0m \u001b[0;34m\u001b[0m\u001b[0m\n\u001b[1;32m    215\u001b[0m     \u001b[0;32mdef\u001b[0m \u001b[0mlr_find\u001b[0m\u001b[0;34m(\u001b[0m\u001b[0mself\u001b[0m\u001b[0;34m,\u001b[0m \u001b[0mstart_lr\u001b[0m\u001b[0;34m=\u001b[0m\u001b[0;36m1e-5\u001b[0m\u001b[0;34m,\u001b[0m \u001b[0mend_lr\u001b[0m\u001b[0;34m=\u001b[0m\u001b[0;36m10\u001b[0m\u001b[0;34m,\u001b[0m \u001b[0mwds\u001b[0m\u001b[0;34m=\u001b[0m\u001b[0;32mNone\u001b[0m\u001b[0;34m)\u001b[0m\u001b[0;34m:\u001b[0m\u001b[0;34m\u001b[0m\u001b[0m\n",
      "\u001b[0;32m~/Aersu/GLOC/fastai_lin/learner.py\u001b[0m in \u001b[0;36mfit_gen\u001b[0;34m(self, model, data, layer_opt, n_cycle, cycle_len, cycle_mult, cycle_save_name, metrics, callbacks, use_wd_sched, norm_wds, wds_sched_mult, **kwargs)\u001b[0m\n\u001b[1;32m    158\u001b[0m         \u001b[0mn_epoch\u001b[0m \u001b[0;34m=\u001b[0m \u001b[0msum_geom\u001b[0m\u001b[0;34m(\u001b[0m\u001b[0mcycle_len\u001b[0m \u001b[0;32mif\u001b[0m \u001b[0mcycle_len\u001b[0m \u001b[0;32melse\u001b[0m \u001b[0;36m1\u001b[0m\u001b[0;34m,\u001b[0m \u001b[0mcycle_mult\u001b[0m\u001b[0;34m,\u001b[0m \u001b[0mn_cycle\u001b[0m\u001b[0;34m)\u001b[0m\u001b[0;34m\u001b[0m\u001b[0m\n\u001b[1;32m    159\u001b[0m         fit(model, data, n_epoch, layer_opt.opt, self.crit,\n\u001b[0;32m--> 160\u001b[0;31m             metrics=metrics, callbacks=callbacks, reg_fn=self.reg_fn, clip=self.clip, **kwargs)\n\u001b[0m\u001b[1;32m    161\u001b[0m \u001b[0;34m\u001b[0m\u001b[0m\n\u001b[1;32m    162\u001b[0m     \u001b[0;32mdef\u001b[0m \u001b[0mget_layer_groups\u001b[0m\u001b[0;34m(\u001b[0m\u001b[0mself\u001b[0m\u001b[0;34m)\u001b[0m\u001b[0;34m:\u001b[0m \u001b[0;32mreturn\u001b[0m \u001b[0mself\u001b[0m\u001b[0;34m.\u001b[0m\u001b[0mmodels\u001b[0m\u001b[0;34m.\u001b[0m\u001b[0mget_layer_groups\u001b[0m\u001b[0;34m(\u001b[0m\u001b[0;34m)\u001b[0m\u001b[0;34m\u001b[0m\u001b[0m\n",
      "\u001b[0;32m~/Aersu/GLOC/fastai_lin/model.py\u001b[0m in \u001b[0;36mfit\u001b[0;34m(model, data, epochs, opt, crit, metrics, callbacks, **kwargs)\u001b[0m\n\u001b[1;32m     84\u001b[0m             \u001b[0mbatch_num\u001b[0m \u001b[0;34m+=\u001b[0m \u001b[0;36m1\u001b[0m\u001b[0;34m\u001b[0m\u001b[0m\n\u001b[1;32m     85\u001b[0m             \u001b[0;32mfor\u001b[0m \u001b[0mcb\u001b[0m \u001b[0;32min\u001b[0m \u001b[0mcallbacks\u001b[0m\u001b[0;34m:\u001b[0m \u001b[0mcb\u001b[0m\u001b[0;34m.\u001b[0m\u001b[0mon_batch_begin\u001b[0m\u001b[0;34m(\u001b[0m\u001b[0;34m)\u001b[0m\u001b[0;34m\u001b[0m\u001b[0m\n\u001b[0;32m---> 86\u001b[0;31m             \u001b[0mloss\u001b[0m \u001b[0;34m=\u001b[0m \u001b[0mstepper\u001b[0m\u001b[0;34m.\u001b[0m\u001b[0mstep\u001b[0m\u001b[0;34m(\u001b[0m\u001b[0mV\u001b[0m\u001b[0;34m(\u001b[0m\u001b[0mx\u001b[0m\u001b[0;34m)\u001b[0m\u001b[0;34m,\u001b[0m\u001b[0mV\u001b[0m\u001b[0;34m(\u001b[0m\u001b[0my\u001b[0m\u001b[0;34m)\u001b[0m\u001b[0;34m)\u001b[0m\u001b[0;34m\u001b[0m\u001b[0m\n\u001b[0m\u001b[1;32m     87\u001b[0m             \u001b[0mavg_loss\u001b[0m \u001b[0;34m=\u001b[0m \u001b[0mavg_loss\u001b[0m \u001b[0;34m*\u001b[0m \u001b[0mavg_mom\u001b[0m \u001b[0;34m+\u001b[0m \u001b[0mloss\u001b[0m \u001b[0;34m*\u001b[0m \u001b[0;34m(\u001b[0m\u001b[0;36m1\u001b[0m\u001b[0;34m-\u001b[0m\u001b[0mavg_mom\u001b[0m\u001b[0;34m)\u001b[0m\u001b[0;34m\u001b[0m\u001b[0m\n\u001b[1;32m     88\u001b[0m             \u001b[0mdebias_loss\u001b[0m \u001b[0;34m=\u001b[0m \u001b[0mavg_loss\u001b[0m \u001b[0;34m/\u001b[0m \u001b[0;34m(\u001b[0m\u001b[0;36m1\u001b[0m \u001b[0;34m-\u001b[0m \u001b[0mavg_mom\u001b[0m\u001b[0;34m**\u001b[0m\u001b[0mbatch_num\u001b[0m\u001b[0;34m)\u001b[0m\u001b[0;34m\u001b[0m\u001b[0m\n",
      "\u001b[0;32m~/Aersu/GLOC/fastai_lin/model.py\u001b[0m in \u001b[0;36mstep\u001b[0;34m(self, xs, y)\u001b[0m\n\u001b[1;32m     38\u001b[0m     \u001b[0;32mdef\u001b[0m \u001b[0mstep\u001b[0m\u001b[0;34m(\u001b[0m\u001b[0mself\u001b[0m\u001b[0;34m,\u001b[0m \u001b[0mxs\u001b[0m\u001b[0;34m,\u001b[0m \u001b[0my\u001b[0m\u001b[0;34m)\u001b[0m\u001b[0;34m:\u001b[0m\u001b[0;34m\u001b[0m\u001b[0m\n\u001b[1;32m     39\u001b[0m         \u001b[0mxtra\u001b[0m \u001b[0;34m=\u001b[0m \u001b[0;34m[\u001b[0m\u001b[0;34m]\u001b[0m\u001b[0;34m\u001b[0m\u001b[0m\n\u001b[0;32m---> 40\u001b[0;31m         \u001b[0moutput\u001b[0m \u001b[0;34m=\u001b[0m \u001b[0mself\u001b[0m\u001b[0;34m.\u001b[0m\u001b[0mm\u001b[0m\u001b[0;34m(\u001b[0m\u001b[0;34m*\u001b[0m\u001b[0mxs\u001b[0m\u001b[0;34m)\u001b[0m\u001b[0;34m\u001b[0m\u001b[0m\n\u001b[0m\u001b[1;32m     41\u001b[0m         \u001b[0;32mif\u001b[0m \u001b[0misinstance\u001b[0m\u001b[0;34m(\u001b[0m\u001b[0moutput\u001b[0m\u001b[0;34m,\u001b[0m\u001b[0;34m(\u001b[0m\u001b[0mtuple\u001b[0m\u001b[0;34m,\u001b[0m\u001b[0mlist\u001b[0m\u001b[0;34m)\u001b[0m\u001b[0;34m)\u001b[0m\u001b[0;34m:\u001b[0m \u001b[0moutput\u001b[0m\u001b[0;34m,\u001b[0m\u001b[0;34m*\u001b[0m\u001b[0mxtra\u001b[0m \u001b[0;34m=\u001b[0m \u001b[0moutput\u001b[0m\u001b[0;34m\u001b[0m\u001b[0m\n\u001b[1;32m     42\u001b[0m         \u001b[0mself\u001b[0m\u001b[0;34m.\u001b[0m\u001b[0mopt\u001b[0m\u001b[0;34m.\u001b[0m\u001b[0mzero_grad\u001b[0m\u001b[0;34m(\u001b[0m\u001b[0;34m)\u001b[0m\u001b[0;34m\u001b[0m\u001b[0m\n",
      "\u001b[0;32m~/miniconda3/envs/fastai/lib/python3.6/site-packages/torch/nn/modules/module.py\u001b[0m in \u001b[0;36m__call__\u001b[0;34m(self, *input, **kwargs)\u001b[0m\n\u001b[1;32m    323\u001b[0m         \u001b[0;32mfor\u001b[0m \u001b[0mhook\u001b[0m \u001b[0;32min\u001b[0m \u001b[0mself\u001b[0m\u001b[0;34m.\u001b[0m\u001b[0m_forward_pre_hooks\u001b[0m\u001b[0;34m.\u001b[0m\u001b[0mvalues\u001b[0m\u001b[0;34m(\u001b[0m\u001b[0;34m)\u001b[0m\u001b[0;34m:\u001b[0m\u001b[0;34m\u001b[0m\u001b[0m\n\u001b[1;32m    324\u001b[0m             \u001b[0mhook\u001b[0m\u001b[0;34m(\u001b[0m\u001b[0mself\u001b[0m\u001b[0;34m,\u001b[0m \u001b[0minput\u001b[0m\u001b[0;34m)\u001b[0m\u001b[0;34m\u001b[0m\u001b[0m\n\u001b[0;32m--> 325\u001b[0;31m         \u001b[0mresult\u001b[0m \u001b[0;34m=\u001b[0m \u001b[0mself\u001b[0m\u001b[0;34m.\u001b[0m\u001b[0mforward\u001b[0m\u001b[0;34m(\u001b[0m\u001b[0;34m*\u001b[0m\u001b[0minput\u001b[0m\u001b[0;34m,\u001b[0m \u001b[0;34m**\u001b[0m\u001b[0mkwargs\u001b[0m\u001b[0;34m)\u001b[0m\u001b[0;34m\u001b[0m\u001b[0m\n\u001b[0m\u001b[1;32m    326\u001b[0m         \u001b[0;32mfor\u001b[0m \u001b[0mhook\u001b[0m \u001b[0;32min\u001b[0m \u001b[0mself\u001b[0m\u001b[0;34m.\u001b[0m\u001b[0m_forward_hooks\u001b[0m\u001b[0;34m.\u001b[0m\u001b[0mvalues\u001b[0m\u001b[0;34m(\u001b[0m\u001b[0;34m)\u001b[0m\u001b[0;34m:\u001b[0m\u001b[0;34m\u001b[0m\u001b[0m\n\u001b[1;32m    327\u001b[0m             \u001b[0mhook_result\u001b[0m \u001b[0;34m=\u001b[0m \u001b[0mhook\u001b[0m\u001b[0;34m(\u001b[0m\u001b[0mself\u001b[0m\u001b[0;34m,\u001b[0m \u001b[0minput\u001b[0m\u001b[0;34m,\u001b[0m \u001b[0mresult\u001b[0m\u001b[0;34m)\u001b[0m\u001b[0;34m\u001b[0m\u001b[0m\n",
      "\u001b[0;32m~/miniconda3/envs/fastai/lib/python3.6/site-packages/torch/nn/modules/container.py\u001b[0m in \u001b[0;36mforward\u001b[0;34m(self, input)\u001b[0m\n\u001b[1;32m     65\u001b[0m     \u001b[0;32mdef\u001b[0m \u001b[0mforward\u001b[0m\u001b[0;34m(\u001b[0m\u001b[0mself\u001b[0m\u001b[0;34m,\u001b[0m \u001b[0minput\u001b[0m\u001b[0;34m)\u001b[0m\u001b[0;34m:\u001b[0m\u001b[0;34m\u001b[0m\u001b[0m\n\u001b[1;32m     66\u001b[0m         \u001b[0;32mfor\u001b[0m \u001b[0mmodule\u001b[0m \u001b[0;32min\u001b[0m \u001b[0mself\u001b[0m\u001b[0;34m.\u001b[0m\u001b[0m_modules\u001b[0m\u001b[0;34m.\u001b[0m\u001b[0mvalues\u001b[0m\u001b[0;34m(\u001b[0m\u001b[0;34m)\u001b[0m\u001b[0;34m:\u001b[0m\u001b[0;34m\u001b[0m\u001b[0m\n\u001b[0;32m---> 67\u001b[0;31m             \u001b[0minput\u001b[0m \u001b[0;34m=\u001b[0m \u001b[0mmodule\u001b[0m\u001b[0;34m(\u001b[0m\u001b[0minput\u001b[0m\u001b[0;34m)\u001b[0m\u001b[0;34m\u001b[0m\u001b[0m\n\u001b[0m\u001b[1;32m     68\u001b[0m         \u001b[0;32mreturn\u001b[0m \u001b[0minput\u001b[0m\u001b[0;34m\u001b[0m\u001b[0m\n\u001b[1;32m     69\u001b[0m \u001b[0;34m\u001b[0m\u001b[0m\n",
      "\u001b[0;32m~/miniconda3/envs/fastai/lib/python3.6/site-packages/torch/nn/modules/module.py\u001b[0m in \u001b[0;36m__call__\u001b[0;34m(self, *input, **kwargs)\u001b[0m\n\u001b[1;32m    323\u001b[0m         \u001b[0;32mfor\u001b[0m \u001b[0mhook\u001b[0m \u001b[0;32min\u001b[0m \u001b[0mself\u001b[0m\u001b[0;34m.\u001b[0m\u001b[0m_forward_pre_hooks\u001b[0m\u001b[0;34m.\u001b[0m\u001b[0mvalues\u001b[0m\u001b[0;34m(\u001b[0m\u001b[0;34m)\u001b[0m\u001b[0;34m:\u001b[0m\u001b[0;34m\u001b[0m\u001b[0m\n\u001b[1;32m    324\u001b[0m             \u001b[0mhook\u001b[0m\u001b[0;34m(\u001b[0m\u001b[0mself\u001b[0m\u001b[0;34m,\u001b[0m \u001b[0minput\u001b[0m\u001b[0;34m)\u001b[0m\u001b[0;34m\u001b[0m\u001b[0m\n\u001b[0;32m--> 325\u001b[0;31m         \u001b[0mresult\u001b[0m \u001b[0;34m=\u001b[0m \u001b[0mself\u001b[0m\u001b[0;34m.\u001b[0m\u001b[0mforward\u001b[0m\u001b[0;34m(\u001b[0m\u001b[0;34m*\u001b[0m\u001b[0minput\u001b[0m\u001b[0;34m,\u001b[0m \u001b[0;34m**\u001b[0m\u001b[0mkwargs\u001b[0m\u001b[0;34m)\u001b[0m\u001b[0;34m\u001b[0m\u001b[0m\n\u001b[0m\u001b[1;32m    326\u001b[0m         \u001b[0;32mfor\u001b[0m \u001b[0mhook\u001b[0m \u001b[0;32min\u001b[0m \u001b[0mself\u001b[0m\u001b[0;34m.\u001b[0m\u001b[0m_forward_hooks\u001b[0m\u001b[0;34m.\u001b[0m\u001b[0mvalues\u001b[0m\u001b[0;34m(\u001b[0m\u001b[0;34m)\u001b[0m\u001b[0;34m:\u001b[0m\u001b[0;34m\u001b[0m\u001b[0m\n\u001b[1;32m    327\u001b[0m             \u001b[0mhook_result\u001b[0m \u001b[0;34m=\u001b[0m \u001b[0mhook\u001b[0m\u001b[0;34m(\u001b[0m\u001b[0mself\u001b[0m\u001b[0;34m,\u001b[0m \u001b[0minput\u001b[0m\u001b[0;34m,\u001b[0m \u001b[0mresult\u001b[0m\u001b[0;34m)\u001b[0m\u001b[0;34m\u001b[0m\u001b[0m\n",
      "\u001b[0;32m~/miniconda3/envs/fastai/lib/python3.6/site-packages/torch/nn/modules/batchnorm.py\u001b[0m in \u001b[0;36mforward\u001b[0;34m(self, input)\u001b[0m\n\u001b[1;32m     35\u001b[0m         return F.batch_norm(\n\u001b[1;32m     36\u001b[0m             \u001b[0minput\u001b[0m\u001b[0;34m,\u001b[0m \u001b[0mself\u001b[0m\u001b[0;34m.\u001b[0m\u001b[0mrunning_mean\u001b[0m\u001b[0;34m,\u001b[0m \u001b[0mself\u001b[0m\u001b[0;34m.\u001b[0m\u001b[0mrunning_var\u001b[0m\u001b[0;34m,\u001b[0m \u001b[0mself\u001b[0m\u001b[0;34m.\u001b[0m\u001b[0mweight\u001b[0m\u001b[0;34m,\u001b[0m \u001b[0mself\u001b[0m\u001b[0;34m.\u001b[0m\u001b[0mbias\u001b[0m\u001b[0;34m,\u001b[0m\u001b[0;34m\u001b[0m\u001b[0m\n\u001b[0;32m---> 37\u001b[0;31m             self.training, self.momentum, self.eps)\n\u001b[0m\u001b[1;32m     38\u001b[0m \u001b[0;34m\u001b[0m\u001b[0m\n\u001b[1;32m     39\u001b[0m     \u001b[0;32mdef\u001b[0m \u001b[0m__repr__\u001b[0m\u001b[0;34m(\u001b[0m\u001b[0mself\u001b[0m\u001b[0;34m)\u001b[0m\u001b[0;34m:\u001b[0m\u001b[0;34m\u001b[0m\u001b[0m\n",
      "\u001b[0;32m~/miniconda3/envs/fastai/lib/python3.6/site-packages/torch/nn/functional.py\u001b[0m in \u001b[0;36mbatch_norm\u001b[0;34m(input, running_mean, running_var, weight, bias, training, momentum, eps)\u001b[0m\n\u001b[1;32m   1009\u001b[0m         \u001b[0msize\u001b[0m \u001b[0;34m=\u001b[0m \u001b[0mlist\u001b[0m\u001b[0;34m(\u001b[0m\u001b[0minput\u001b[0m\u001b[0;34m.\u001b[0m\u001b[0msize\u001b[0m\u001b[0;34m(\u001b[0m\u001b[0;34m)\u001b[0m\u001b[0;34m)\u001b[0m\u001b[0;34m\u001b[0m\u001b[0m\n\u001b[1;32m   1010\u001b[0m         \u001b[0;32mif\u001b[0m \u001b[0mreduce\u001b[0m\u001b[0;34m(\u001b[0m\u001b[0mmul\u001b[0m\u001b[0;34m,\u001b[0m \u001b[0msize\u001b[0m\u001b[0;34m[\u001b[0m\u001b[0;36m2\u001b[0m\u001b[0;34m:\u001b[0m\u001b[0;34m]\u001b[0m\u001b[0;34m,\u001b[0m \u001b[0msize\u001b[0m\u001b[0;34m[\u001b[0m\u001b[0;36m0\u001b[0m\u001b[0;34m]\u001b[0m\u001b[0;34m)\u001b[0m \u001b[0;34m==\u001b[0m \u001b[0;36m1\u001b[0m\u001b[0;34m:\u001b[0m\u001b[0;34m\u001b[0m\u001b[0m\n\u001b[0;32m-> 1011\u001b[0;31m             \u001b[0;32mraise\u001b[0m \u001b[0mValueError\u001b[0m\u001b[0;34m(\u001b[0m\u001b[0;34m'Expected more than 1 value per channel when training, got input size {}'\u001b[0m\u001b[0;34m.\u001b[0m\u001b[0mformat\u001b[0m\u001b[0;34m(\u001b[0m\u001b[0msize\u001b[0m\u001b[0;34m)\u001b[0m\u001b[0;34m)\u001b[0m\u001b[0;34m\u001b[0m\u001b[0m\n\u001b[0m\u001b[1;32m   1012\u001b[0m     \u001b[0mf\u001b[0m \u001b[0;34m=\u001b[0m \u001b[0mtorch\u001b[0m\u001b[0;34m.\u001b[0m\u001b[0m_C\u001b[0m\u001b[0;34m.\u001b[0m\u001b[0m_functions\u001b[0m\u001b[0;34m.\u001b[0m\u001b[0mBatchNorm\u001b[0m\u001b[0;34m(\u001b[0m\u001b[0mrunning_mean\u001b[0m\u001b[0;34m,\u001b[0m \u001b[0mrunning_var\u001b[0m\u001b[0;34m,\u001b[0m \u001b[0mtraining\u001b[0m\u001b[0;34m,\u001b[0m \u001b[0mmomentum\u001b[0m\u001b[0;34m,\u001b[0m \u001b[0meps\u001b[0m\u001b[0;34m,\u001b[0m \u001b[0mtorch\u001b[0m\u001b[0;34m.\u001b[0m\u001b[0mbackends\u001b[0m\u001b[0;34m.\u001b[0m\u001b[0mcudnn\u001b[0m\u001b[0;34m.\u001b[0m\u001b[0menabled\u001b[0m\u001b[0;34m)\u001b[0m\u001b[0;34m\u001b[0m\u001b[0m\n\u001b[1;32m   1013\u001b[0m     \u001b[0;32mreturn\u001b[0m \u001b[0mf\u001b[0m\u001b[0;34m(\u001b[0m\u001b[0minput\u001b[0m\u001b[0;34m,\u001b[0m \u001b[0mweight\u001b[0m\u001b[0;34m,\u001b[0m \u001b[0mbias\u001b[0m\u001b[0;34m)\u001b[0m\u001b[0;34m\u001b[0m\u001b[0m\n",
      "\u001b[0;31mValueError\u001b[0m: Expected more than 1 value per channel when training, got input size [1, 1024]"
     ]
    }
   ],
   "source": [
    "size = 200\n",
    "data = get_data(size, bs = 14)\n",
    "learner.set_data(data)\n",
    "%time learner.fit(lrs=λr, n_cycle=1, cycle_len=1, cycle_mult=1)"
   ]
  },
  {
   "cell_type": "code",
   "execution_count": 42,
   "metadata": {
    "hidden": true,
    "scrolled": true
   },
   "outputs": [
    {
     "data": {
      "application/vnd.jupyter.widget-view+json": {
       "model_id": "6812f21f63854192a257ee9aa041c3c3",
       "version_major": 2,
       "version_minor": 0
      },
      "text/html": [
       "<p>Failed to display Jupyter Widget of type <code>HBox</code>.</p>\n",
       "<p>\n",
       "  If you're reading this message in the Jupyter Notebook or JupyterLab Notebook, it may mean\n",
       "  that the widgets JavaScript is still loading. If this message persists, it\n",
       "  likely means that the widgets JavaScript library is either not installed or\n",
       "  not enabled. See the <a href=\"https://ipywidgets.readthedocs.io/en/stable/user_install.html\">Jupyter\n",
       "  Widgets Documentation</a> for setup instructions.\n",
       "</p>\n",
       "<p>\n",
       "  If you're reading this message in another frontend (for example, a static\n",
       "  rendering on GitHub or <a href=\"https://nbviewer.jupyter.org/\">NBViewer</a>),\n",
       "  it may mean that your frontend doesn't currently support widgets.\n",
       "</p>\n"
      ],
      "text/plain": [
       "HBox(children=(IntProgress(value=0, description='Epoch', max=1), HTML(value='')))"
      ]
     },
     "metadata": {},
     "output_type": "display_data"
    },
    {
     "name": "stdout",
     "output_type": "stream",
     "text": [
      "\n",
      "  0%|          | 0/181 [00:00<?, ?it/s]\u001b[A\n",
      "  0%|          | 0/181 [00:01<?, ?it/s, loss=0.235]\u001b[A\n",
      "  1%|          | 1/181 [00:01<03:50,  1.28s/it, loss=0.235]\u001b[A\n",
      "  1%|          | 1/181 [00:02<06:27,  2.15s/it, loss=0.264]\u001b[A\n",
      "  1%|          | 2/181 [00:02<03:12,  1.08s/it, loss=0.264]\u001b[A\n",
      "  1%|          | 2/181 [00:03<04:30,  1.51s/it, loss=0.228]\u001b[A\n",
      "\n",
      "  2%|▏         | 3/181 [00:03<03:00,  1.01s/it, loss=0.228]\u001b[A"
     ]
    },
    {
     "name": "stderr",
     "output_type": "stream",
     "text": [
      "Exception in thread Thread-16:\n",
      "Traceback (most recent call last):\n",
      "  File \"/home/wnixalo/miniconda3/envs/fastai/lib/python3.6/threading.py\", line 916, in _bootstrap_inner\n",
      "    self.run()\n",
      "  File \"/home/wnixalo/miniconda3/envs/fastai/lib/python3.6/site-packages/tqdm/_tqdm.py\", line 144, in run\n",
      "    for instance in self.tqdm_cls._instances:\n",
      "  File \"/home/wnixalo/miniconda3/envs/fastai/lib/python3.6/_weakrefset.py\", line 60, in __iter__\n",
      "    for itemref in self.data:\n",
      "RuntimeError: Set changed size during iteration\n",
      "\n"
     ]
    },
    {
     "name": "stdout",
     "output_type": "stream",
     "text": [
      "\n",
      "  2%|▏         | 3/181 [00:03<03:52,  1.30s/it, loss=0.292]\u001b[A\n",
      "  2%|▏         | 4/181 [00:03<02:53,  1.02it/s, loss=0.292]\u001b[A\n",
      "  2%|▏         | 4/181 [00:04<03:31,  1.20s/it, loss=0.295]\u001b[A\n",
      "  3%|▎         | 5/181 [00:04<02:48,  1.04it/s, loss=0.295]\u001b[A\n",
      "  3%|▎         | 5/181 [00:05<03:19,  1.13s/it, loss=0.282]\u001b[A\n",
      "  3%|▎         | 6/181 [00:05<02:45,  1.06it/s, loss=0.282]\u001b[A\n",
      "  3%|▎         | 6/181 [00:06<03:10,  1.09s/it, loss=0.294]\u001b[A\n",
      "  4%|▍         | 7/181 [00:06<02:42,  1.07it/s, loss=0.294]\u001b[A\n",
      "  4%|▍         | 7/181 [00:07<03:04,  1.06s/it, loss=0.286]\u001b[A\n",
      "  4%|▍         | 8/181 [00:07<02:40,  1.08it/s, loss=0.286]\u001b[A\n",
      "  4%|▍         | 8/181 [00:08<02:59,  1.04s/it, loss=0.28] \u001b[A\n",
      "  5%|▍         | 9/181 [00:08<02:38,  1.08it/s, loss=0.28]\u001b[A\n",
      "  5%|▍         | 9/181 [00:09<02:55,  1.02s/it, loss=0.276]\u001b[A\n",
      "  6%|▌         | 10/181 [00:09<02:37,  1.09it/s, loss=0.276]\u001b[A\n",
      "  6%|▌         | 10/181 [00:10<02:51,  1.01s/it, loss=0.271]\u001b[A\n",
      "  6%|▌         | 11/181 [00:10<02:35,  1.09it/s, loss=0.271]\u001b[A\n",
      "  6%|▌         | 11/181 [00:10<02:48,  1.01it/s, loss=0.268]\u001b[A\n",
      "  7%|▋         | 12/181 [00:10<02:34,  1.10it/s, loss=0.268]\u001b[A\n",
      "  7%|▋         | 12/181 [00:11<02:46,  1.02it/s, loss=0.26] \u001b[A\n",
      "  7%|▋         | 13/181 [00:11<02:32,  1.10it/s, loss=0.26]\u001b[A\n",
      "  7%|▋         | 13/181 [00:12<02:44,  1.02it/s, loss=0.248]\u001b[A\n",
      "  8%|▊         | 14/181 [00:12<02:31,  1.10it/s, loss=0.248]\u001b[A\n",
      "  8%|▊         | 14/181 [00:13<02:42,  1.03it/s, loss=0.246]\u001b[A\n",
      "  8%|▊         | 15/181 [00:13<02:30,  1.10it/s, loss=0.246]\u001b[A\n",
      "  8%|▊         | 15/181 [00:14<02:40,  1.04it/s, loss=0.24] \u001b[A\n",
      "  9%|▉         | 16/181 [00:14<02:29,  1.11it/s, loss=0.24]\u001b[A\n",
      "  9%|▉         | 16/181 [00:15<02:38,  1.04it/s, loss=0.237]\u001b[A\n",
      "  9%|▉         | 17/181 [00:15<02:27,  1.11it/s, loss=0.237]\u001b[A\n",
      "  9%|▉         | 17/181 [00:16<02:36,  1.05it/s, loss=0.249]\u001b[A\n",
      " 10%|▉         | 18/181 [00:16<02:26,  1.11it/s, loss=0.249]\u001b[A\n",
      " 10%|▉         | 18/181 [00:17<02:34,  1.05it/s, loss=0.252]\u001b[A\n",
      " 10%|█         | 19/181 [00:17<02:25,  1.11it/s, loss=0.252]\u001b[A\n",
      " 10%|█         | 19/181 [00:17<02:33,  1.06it/s, loss=0.246]\u001b[A\n",
      " 11%|█         | 20/181 [00:17<02:24,  1.11it/s, loss=0.246]\u001b[A\n",
      " 11%|█         | 20/181 [00:18<02:31,  1.06it/s, loss=0.258]\u001b[A\n",
      " 12%|█▏        | 21/181 [00:18<02:23,  1.11it/s, loss=0.258]\u001b[A\n",
      " 12%|█▏        | 21/181 [00:19<02:30,  1.06it/s, loss=0.26] \u001b[A\n",
      " 12%|█▏        | 22/181 [00:19<02:22,  1.11it/s, loss=0.26]\u001b[A\n",
      " 12%|█▏        | 22/181 [00:20<02:28,  1.07it/s, loss=0.26]\u001b[A\n",
      " 13%|█▎        | 23/181 [00:20<02:21,  1.12it/s, loss=0.26]\u001b[A\n",
      " 13%|█▎        | 23/181 [00:21<02:27,  1.07it/s, loss=0.255]\u001b[A\n",
      " 13%|█▎        | 24/181 [00:21<02:20,  1.12it/s, loss=0.255]\u001b[A\n",
      " 13%|█▎        | 24/181 [00:22<02:26,  1.07it/s, loss=0.25] \u001b[A\n",
      " 14%|█▍        | 25/181 [00:22<02:19,  1.12it/s, loss=0.25]\u001b[A\n",
      " 14%|█▍        | 25/181 [00:23<02:25,  1.07it/s, loss=0.247]\u001b[A\n",
      " 14%|█▍        | 26/181 [00:23<02:18,  1.12it/s, loss=0.247]\u001b[A\n",
      " 14%|█▍        | 26/181 [00:24<02:23,  1.08it/s, loss=0.245]\u001b[A\n",
      " 15%|█▍        | 27/181 [00:24<02:17,  1.12it/s, loss=0.245]\u001b[A\n",
      " 15%|█▍        | 27/181 [00:25<02:22,  1.08it/s, loss=0.248]\u001b[A\n",
      " 15%|█▌        | 28/181 [00:25<02:16,  1.12it/s, loss=0.248]\u001b[A\n",
      " 15%|█▌        | 28/181 [00:25<02:21,  1.08it/s, loss=0.245]\u001b[A\n",
      " 16%|█▌        | 29/181 [00:25<02:15,  1.12it/s, loss=0.245]\u001b[A\n",
      " 16%|█▌        | 29/181 [00:26<02:20,  1.08it/s, loss=0.246]\u001b[A\n",
      " 17%|█▋        | 30/181 [00:26<02:14,  1.12it/s, loss=0.246]\u001b[A\n",
      " 17%|█▋        | 30/181 [00:27<02:19,  1.09it/s, loss=0.245]\u001b[A\n",
      " 17%|█▋        | 31/181 [00:27<02:13,  1.12it/s, loss=0.245]\u001b[A\n",
      " 17%|█▋        | 31/181 [00:28<02:18,  1.09it/s, loss=0.24] \u001b[A\n",
      " 18%|█▊        | 32/181 [00:28<02:12,  1.12it/s, loss=0.24]\u001b[A\n",
      " 18%|█▊        | 32/181 [00:29<02:16,  1.09it/s, loss=0.243]\u001b[A\n",
      " 18%|█▊        | 33/181 [00:29<02:11,  1.12it/s, loss=0.243]\u001b[A\n",
      " 18%|█▊        | 33/181 [00:30<02:15,  1.09it/s, loss=0.254]\u001b[A\n",
      " 19%|█▉        | 34/181 [00:30<02:10,  1.12it/s, loss=0.254]\u001b[A\n",
      " 19%|█▉        | 34/181 [00:31<02:14,  1.09it/s, loss=0.256]\u001b[A\n",
      " 19%|█▉        | 35/181 [00:31<02:10,  1.12it/s, loss=0.256]\u001b[A\n",
      " 19%|█▉        | 35/181 [00:32<02:13,  1.09it/s, loss=0.255]\u001b[A\n",
      " 20%|█▉        | 36/181 [00:32<02:09,  1.12it/s, loss=0.255]\u001b[A\n",
      " 20%|█▉        | 36/181 [00:32<02:12,  1.09it/s, loss=0.263]\u001b[A\n",
      " 20%|██        | 37/181 [00:32<02:08,  1.12it/s, loss=0.263]\u001b[A\n",
      " 20%|██        | 37/181 [00:33<02:11,  1.09it/s, loss=0.262]\u001b[A\n",
      " 21%|██        | 38/181 [00:33<02:07,  1.12it/s, loss=0.262]\u001b[A\n",
      " 21%|██        | 38/181 [00:34<02:10,  1.10it/s, loss=0.257]\u001b[A\n",
      " 22%|██▏       | 39/181 [00:34<02:06,  1.12it/s, loss=0.257]\u001b[A\n",
      " 22%|██▏       | 39/181 [00:35<02:09,  1.10it/s, loss=0.258]\u001b[A\n",
      " 22%|██▏       | 40/181 [00:35<02:05,  1.12it/s, loss=0.258]\u001b[A\n",
      " 22%|██▏       | 40/181 [00:36<02:08,  1.10it/s, loss=0.256]\u001b[A\n",
      " 23%|██▎       | 41/181 [00:36<02:04,  1.12it/s, loss=0.256]\u001b[A\n",
      " 23%|██▎       | 41/181 [00:37<02:07,  1.10it/s, loss=0.257]\u001b[A\n",
      " 23%|██▎       | 42/181 [00:37<02:03,  1.13it/s, loss=0.257]\u001b[A\n",
      " 23%|██▎       | 42/181 [00:38<02:06,  1.10it/s, loss=0.258]\u001b[A\n",
      " 24%|██▍       | 43/181 [00:38<02:02,  1.13it/s, loss=0.258]\u001b[A\n",
      " 24%|██▍       | 43/181 [00:39<02:05,  1.10it/s, loss=0.256]\u001b[A\n",
      " 24%|██▍       | 44/181 [00:39<02:01,  1.13it/s, loss=0.256]\u001b[A\n",
      " 24%|██▍       | 44/181 [00:39<02:04,  1.10it/s, loss=0.262]\u001b[A\n",
      " 25%|██▍       | 45/181 [00:39<02:00,  1.13it/s, loss=0.262]\u001b[A\n",
      " 25%|██▍       | 45/181 [00:40<02:03,  1.10it/s, loss=0.266]\u001b[A\n",
      " 25%|██▌       | 46/181 [00:40<01:59,  1.13it/s, loss=0.266]\u001b[A\n",
      " 25%|██▌       | 46/181 [00:41<02:02,  1.10it/s, loss=0.262]\u001b[A\n",
      " 26%|██▌       | 47/181 [00:41<01:59,  1.13it/s, loss=0.262]\u001b[A\n",
      " 26%|██▌       | 47/181 [00:42<02:01,  1.10it/s, loss=0.261]\u001b[A\n",
      " 27%|██▋       | 48/181 [00:42<01:58,  1.13it/s, loss=0.261]\u001b[A\n",
      " 27%|██▋       | 48/181 [00:43<02:00,  1.10it/s, loss=0.262]\u001b[A\n",
      " 27%|██▋       | 49/181 [00:43<01:57,  1.13it/s, loss=0.262]\u001b[A\n",
      " 27%|██▋       | 49/181 [00:44<01:59,  1.10it/s, loss=0.259]\u001b[A\n",
      " 28%|██▊       | 50/181 [00:44<01:56,  1.13it/s, loss=0.259]\u001b[A\n",
      " 28%|██▊       | 50/181 [00:45<01:58,  1.10it/s, loss=0.258]\u001b[A\n",
      " 28%|██▊       | 51/181 [00:45<01:55,  1.13it/s, loss=0.258]\u001b[A\n",
      " 28%|██▊       | 51/181 [00:46<01:57,  1.11it/s, loss=0.261]\u001b[A\n",
      " 29%|██▊       | 52/181 [00:46<01:54,  1.13it/s, loss=0.261]\u001b[A\n",
      " 29%|██▊       | 52/181 [00:47<01:56,  1.11it/s, loss=0.263]\u001b[A\n",
      " 29%|██▉       | 53/181 [00:47<01:53,  1.13it/s, loss=0.263]\u001b[A\n",
      " 29%|██▉       | 53/181 [00:47<01:55,  1.11it/s, loss=0.261]\u001b[A\n",
      " 30%|██▉       | 54/181 [00:47<01:52,  1.13it/s, loss=0.261]\u001b[A\n",
      " 30%|██▉       | 54/181 [00:48<01:54,  1.11it/s, loss=0.256]\u001b[A\n",
      " 30%|███       | 55/181 [00:48<01:51,  1.13it/s, loss=0.256]\u001b[A\n",
      " 30%|███       | 55/181 [00:49<01:53,  1.11it/s, loss=0.255]\u001b[A\n",
      " 31%|███       | 56/181 [00:49<01:50,  1.13it/s, loss=0.255]\u001b[A\n",
      " 31%|███       | 56/181 [00:50<01:52,  1.11it/s, loss=0.254]\u001b[A\n",
      " 31%|███▏      | 57/181 [00:50<01:49,  1.13it/s, loss=0.254]\u001b[A\n",
      " 31%|███▏      | 57/181 [00:51<01:51,  1.11it/s, loss=0.254]\u001b[A\n",
      " 32%|███▏      | 58/181 [00:51<01:49,  1.13it/s, loss=0.254]\u001b[A\n",
      " 32%|███▏      | 58/181 [00:52<01:50,  1.11it/s, loss=0.253]\u001b[A\n",
      " 33%|███▎      | 59/181 [00:52<01:48,  1.13it/s, loss=0.253]\u001b[A\n",
      " 33%|███▎      | 59/181 [00:53<01:49,  1.11it/s, loss=0.252]\u001b[A\n",
      " 33%|███▎      | 60/181 [00:53<01:47,  1.13it/s, loss=0.252]\u001b[A\n",
      " 33%|███▎      | 60/181 [00:54<01:48,  1.11it/s, loss=0.256]\u001b[A\n",
      " 34%|███▎      | 61/181 [00:54<01:46,  1.13it/s, loss=0.256]\u001b[A\n",
      " 34%|███▎      | 61/181 [00:54<01:48,  1.11it/s, loss=0.258]\u001b[A\n",
      " 34%|███▍      | 62/181 [00:54<01:45,  1.13it/s, loss=0.258]\u001b[A\n",
      " 34%|███▍      | 62/181 [00:55<01:47,  1.11it/s, loss=0.255]\u001b[A\n",
      " 35%|███▍      | 63/181 [00:55<01:44,  1.13it/s, loss=0.255]\u001b[A\n",
      " 35%|███▍      | 63/181 [00:56<01:46,  1.11it/s, loss=0.255]\u001b[A\n",
      " 35%|███▌      | 64/181 [00:56<01:43,  1.13it/s, loss=0.255]\u001b[A\n",
      " 35%|███▌      | 64/181 [00:57<01:45,  1.11it/s, loss=0.259]\u001b[A\n",
      " 36%|███▌      | 65/181 [00:57<01:42,  1.13it/s, loss=0.259]\u001b[A\n",
      " 36%|███▌      | 65/181 [00:58<01:44,  1.11it/s, loss=0.262]\u001b[A\n",
      " 36%|███▋      | 66/181 [00:58<01:41,  1.13it/s, loss=0.262]\u001b[A\n",
      " 36%|███▋      | 66/181 [00:59<01:43,  1.11it/s, loss=0.264]\u001b[A\n",
      " 37%|███▋      | 67/181 [00:59<01:40,  1.13it/s, loss=0.264]\u001b[A\n",
      " 37%|███▋      | 67/181 [01:00<01:42,  1.11it/s, loss=0.264]\u001b[A\n",
      " 38%|███▊      | 68/181 [01:00<01:40,  1.13it/s, loss=0.264]\u001b[A\n",
      " 38%|███▊      | 68/181 [01:01<01:41,  1.11it/s, loss=0.263]\u001b[A\n",
      " 38%|███▊      | 69/181 [01:01<01:39,  1.13it/s, loss=0.263]\u001b[A\n",
      " 38%|███▊      | 69/181 [01:01<01:40,  1.11it/s, loss=0.263]\u001b[A\n",
      " 39%|███▊      | 70/181 [01:01<01:38,  1.13it/s, loss=0.263]\u001b[A\n",
      " 39%|███▊      | 70/181 [01:02<01:39,  1.11it/s, loss=0.261]\u001b[A\n",
      " 39%|███▉      | 71/181 [01:02<01:37,  1.13it/s, loss=0.261]\u001b[A\n",
      " 39%|███▉      | 71/181 [01:03<01:38,  1.11it/s, loss=0.256]\u001b[A\n",
      " 40%|███▉      | 72/181 [01:03<01:36,  1.13it/s, loss=0.256]\u001b[A\n",
      " 40%|███▉      | 72/181 [01:04<01:37,  1.11it/s, loss=0.253]\u001b[A\n",
      " 40%|████      | 73/181 [01:04<01:35,  1.13it/s, loss=0.253]\u001b[A\n",
      " 40%|████      | 73/181 [01:05<01:36,  1.11it/s, loss=0.25] \u001b[A\n",
      " 41%|████      | 74/181 [01:05<01:34,  1.13it/s, loss=0.25]\u001b[A\n",
      " 41%|████      | 74/181 [01:06<01:35,  1.12it/s, loss=0.249]\u001b[A\n",
      " 41%|████▏     | 75/181 [01:06<01:33,  1.13it/s, loss=0.249]\u001b[A\n",
      " 41%|████▏     | 75/181 [01:07<01:35,  1.12it/s, loss=0.249]\u001b[A\n",
      " 42%|████▏     | 76/181 [01:07<01:32,  1.13it/s, loss=0.249]\u001b[A\n",
      " 42%|████▏     | 76/181 [01:08<01:34,  1.12it/s, loss=0.251]\u001b[A\n",
      " 43%|████▎     | 77/181 [01:08<01:31,  1.13it/s, loss=0.251]\u001b[A\n",
      " 43%|████▎     | 77/181 [01:08<01:33,  1.12it/s, loss=0.249]\u001b[A\n",
      " 43%|████▎     | 78/181 [01:08<01:31,  1.13it/s, loss=0.249]\u001b[A\n",
      " 43%|████▎     | 78/181 [01:09<01:32,  1.12it/s, loss=0.247]\u001b[A\n",
      " 44%|████▎     | 79/181 [01:09<01:30,  1.13it/s, loss=0.247]\u001b[A\n",
      " 44%|████▎     | 79/181 [01:10<01:31,  1.12it/s, loss=0.253]\u001b[A\n",
      " 44%|████▍     | 80/181 [01:10<01:29,  1.13it/s, loss=0.253]\u001b[A\n",
      " 44%|████▍     | 80/181 [01:11<01:30,  1.12it/s, loss=0.252]\u001b[A\n",
      " 45%|████▍     | 81/181 [01:11<01:28,  1.13it/s, loss=0.252]\u001b[A\n",
      " 45%|████▍     | 81/181 [01:12<01:29,  1.12it/s, loss=0.252]\u001b[A\n",
      " 45%|████▌     | 82/181 [01:12<01:27,  1.13it/s, loss=0.252]\u001b[A\n",
      " 45%|████▌     | 82/181 [01:13<01:28,  1.12it/s, loss=0.249]\u001b[A\n",
      " 46%|████▌     | 83/181 [01:13<01:26,  1.13it/s, loss=0.249]\u001b[A\n",
      " 46%|████▌     | 83/181 [01:14<01:27,  1.12it/s, loss=0.247]\u001b[A\n",
      " 46%|████▋     | 84/181 [01:14<01:25,  1.13it/s, loss=0.247]\u001b[A\n",
      " 46%|████▋     | 84/181 [01:15<01:26,  1.12it/s, loss=0.247]\u001b[A\n",
      " 47%|████▋     | 85/181 [01:15<01:24,  1.13it/s, loss=0.247]\u001b[A\n",
      " 47%|████▋     | 85/181 [01:16<01:25,  1.12it/s, loss=0.248]\u001b[A\n",
      " 48%|████▊     | 86/181 [01:16<01:23,  1.13it/s, loss=0.248]\u001b[A\n",
      " 48%|████▊     | 86/181 [01:16<01:24,  1.12it/s, loss=0.246]\u001b[A\n",
      " 48%|████▊     | 87/181 [01:16<01:23,  1.13it/s, loss=0.246]\u001b[A\n",
      " 48%|████▊     | 87/181 [01:17<01:24,  1.12it/s, loss=0.247]\u001b[A\n",
      " 49%|████▊     | 88/181 [01:17<01:22,  1.13it/s, loss=0.247]\u001b[A\n",
      " 49%|████▊     | 88/181 [01:18<01:23,  1.12it/s, loss=0.254]\u001b[A\n",
      " 49%|████▉     | 89/181 [01:18<01:21,  1.13it/s, loss=0.254]\u001b[A\n",
      " 49%|████▉     | 89/181 [01:19<01:22,  1.12it/s, loss=0.253]\u001b[A\n",
      " 50%|████▉     | 90/181 [01:19<01:20,  1.13it/s, loss=0.253]\u001b[A\n",
      " 50%|████▉     | 90/181 [01:20<01:21,  1.12it/s, loss=0.251]\u001b[A\n",
      " 50%|█████     | 91/181 [01:20<01:19,  1.13it/s, loss=0.251]\u001b[A\n",
      " 50%|█████     | 91/181 [01:21<01:20,  1.12it/s, loss=0.255]\u001b[A\n",
      " 51%|█████     | 92/181 [01:21<01:18,  1.13it/s, loss=0.255]\u001b[A\n",
      " 51%|█████     | 92/181 [01:22<01:19,  1.12it/s, loss=0.256]\u001b[A\n",
      " 51%|█████▏    | 93/181 [01:22<01:17,  1.13it/s, loss=0.256]\u001b[A\n",
      " 51%|█████▏    | 93/181 [01:23<01:18,  1.12it/s, loss=0.253]\u001b[A\n",
      " 52%|█████▏    | 94/181 [01:23<01:16,  1.13it/s, loss=0.253]\u001b[A\n",
      " 52%|█████▏    | 94/181 [01:23<01:17,  1.12it/s, loss=0.251]\u001b[A\n",
      " 52%|█████▏    | 95/181 [01:23<01:16,  1.13it/s, loss=0.251]\u001b[A\n",
      " 52%|█████▏    | 95/181 [01:24<01:16,  1.12it/s, loss=0.249]\u001b[A\n",
      " 53%|█████▎    | 96/181 [01:24<01:15,  1.13it/s, loss=0.249]\u001b[A\n",
      " 53%|█████▎    | 96/181 [01:25<01:15,  1.12it/s, loss=0.249]\u001b[A\n",
      " 54%|█████▎    | 97/181 [01:25<01:14,  1.13it/s, loss=0.249]\u001b[A\n",
      " 54%|█████▎    | 97/181 [01:26<01:14,  1.12it/s, loss=0.251]\u001b[A\n",
      " 54%|█████▍    | 98/181 [01:26<01:13,  1.13it/s, loss=0.251]\u001b[A\n",
      " 54%|█████▍    | 98/181 [01:27<01:14,  1.12it/s, loss=0.252]\u001b[A\n",
      " 55%|█████▍    | 99/181 [01:27<01:12,  1.13it/s, loss=0.252]\u001b[A\n",
      " 55%|█████▍    | 99/181 [01:28<01:13,  1.12it/s, loss=0.257]\u001b[A\n",
      " 55%|█████▌    | 100/181 [01:28<01:11,  1.13it/s, loss=0.257]\u001b[A\n",
      " 55%|█████▌    | 100/181 [01:29<01:12,  1.12it/s, loss=0.256]\u001b[A\n",
      " 56%|█████▌    | 101/181 [01:29<01:10,  1.13it/s, loss=0.256]\u001b[A\n",
      " 56%|█████▌    | 101/181 [01:30<01:11,  1.12it/s, loss=0.258]\u001b[A\n",
      " 56%|█████▋    | 102/181 [01:30<01:09,  1.13it/s, loss=0.258]\u001b[A\n",
      " 56%|█████▋    | 102/181 [01:30<01:10,  1.12it/s, loss=0.259]\u001b[A\n",
      " 57%|█████▋    | 103/181 [01:31<01:08,  1.13it/s, loss=0.259]\u001b[A\n",
      " 57%|█████▋    | 103/181 [01:31<01:09,  1.12it/s, loss=0.255]\u001b[A\n",
      " 57%|█████▋    | 104/181 [01:31<01:08,  1.13it/s, loss=0.255]\u001b[A\n",
      " 57%|█████▋    | 104/181 [01:32<01:08,  1.12it/s, loss=0.253]\u001b[A\n",
      " 58%|█████▊    | 105/181 [01:32<01:07,  1.13it/s, loss=0.253]\u001b[A\n",
      " 58%|█████▊    | 105/181 [01:33<01:07,  1.12it/s, loss=0.251]\u001b[A\n",
      " 59%|█████▊    | 106/181 [01:33<01:06,  1.13it/s, loss=0.251]\u001b[A\n",
      " 59%|█████▊    | 106/181 [01:34<01:06,  1.12it/s, loss=0.25] \u001b[A\n",
      " 59%|█████▉    | 107/181 [01:34<01:05,  1.13it/s, loss=0.25]\u001b[A\n",
      " 59%|█████▉    | 107/181 [01:35<01:05,  1.12it/s, loss=0.248]\u001b[A\n",
      " 60%|█████▉    | 108/181 [01:35<01:04,  1.13it/s, loss=0.248]\u001b[A\n",
      " 60%|█████▉    | 108/181 [01:36<01:05,  1.12it/s, loss=0.248]\u001b[A\n",
      " 60%|██████    | 109/181 [01:36<01:03,  1.13it/s, loss=0.248]\u001b[A\n",
      " 60%|██████    | 109/181 [01:37<01:04,  1.12it/s, loss=0.248]\u001b[A\n",
      " 61%|██████    | 110/181 [01:37<01:02,  1.13it/s, loss=0.248]\u001b[A\n",
      " 61%|██████    | 110/181 [01:38<01:03,  1.12it/s, loss=0.249]\u001b[A\n",
      " 61%|██████▏   | 111/181 [01:38<01:01,  1.13it/s, loss=0.249]\u001b[A\n",
      " 61%|██████▏   | 111/181 [01:38<01:02,  1.12it/s, loss=0.253]\u001b[A\n",
      " 62%|██████▏   | 112/181 [01:38<01:00,  1.13it/s, loss=0.253]\u001b[A\n",
      " 62%|██████▏   | 112/181 [01:39<01:01,  1.12it/s, loss=0.252]\u001b[A\n",
      " 62%|██████▏   | 113/181 [01:39<01:00,  1.13it/s, loss=0.252]\u001b[A\n",
      " 62%|██████▏   | 113/181 [01:40<01:00,  1.12it/s, loss=0.252]\u001b[A\n",
      " 63%|██████▎   | 114/181 [01:40<00:59,  1.13it/s, loss=0.252]\u001b[A\n",
      " 63%|██████▎   | 114/181 [01:41<00:59,  1.12it/s, loss=0.254]\u001b[A\n",
      " 64%|██████▎   | 115/181 [01:41<00:58,  1.13it/s, loss=0.254]\u001b[A\n",
      " 64%|██████▎   | 115/181 [01:42<00:58,  1.12it/s, loss=0.253]\u001b[A\n",
      " 64%|██████▍   | 116/181 [01:42<00:57,  1.13it/s, loss=0.253]\u001b[A\n",
      " 64%|██████▍   | 116/181 [01:43<00:57,  1.12it/s, loss=0.252]\u001b[A\n",
      " 65%|██████▍   | 117/181 [01:43<00:56,  1.13it/s, loss=0.252]\u001b[A\n",
      " 65%|██████▍   | 117/181 [01:44<00:56,  1.12it/s, loss=0.251]\u001b[A\n",
      " 65%|██████▌   | 118/181 [01:44<00:55,  1.13it/s, loss=0.251]\u001b[A\n",
      " 65%|██████▌   | 118/181 [01:45<00:56,  1.12it/s, loss=0.25] \u001b[A\n",
      " 66%|██████▌   | 119/181 [01:45<00:54,  1.13it/s, loss=0.25]\u001b[A\n",
      " 66%|██████▌   | 119/181 [01:45<00:55,  1.12it/s, loss=0.251]\u001b[A\n",
      " 66%|██████▋   | 120/181 [01:45<00:53,  1.13it/s, loss=0.251]\u001b[A\n",
      " 66%|██████▋   | 120/181 [01:46<00:54,  1.12it/s, loss=0.254]\u001b[A\n",
      " 67%|██████▋   | 121/181 [01:46<00:52,  1.13it/s, loss=0.254]\u001b[A\n",
      " 67%|██████▋   | 121/181 [01:47<00:53,  1.12it/s, loss=0.253]\u001b[A\n",
      " 67%|██████▋   | 122/181 [01:47<00:52,  1.13it/s, loss=0.253]\u001b[A\n",
      " 67%|██████▋   | 122/181 [01:48<00:52,  1.12it/s, loss=0.255]\u001b[A\n",
      " 68%|██████▊   | 123/181 [01:48<00:51,  1.13it/s, loss=0.255]\u001b[A\n",
      " 68%|██████▊   | 123/181 [01:49<00:51,  1.12it/s, loss=0.256]\u001b[A\n",
      " 69%|██████▊   | 124/181 [01:49<00:50,  1.13it/s, loss=0.256]\u001b[A\n",
      " 69%|██████▊   | 124/181 [01:50<00:50,  1.12it/s, loss=0.257]\u001b[A\n",
      " 69%|██████▉   | 125/181 [01:50<00:49,  1.13it/s, loss=0.257]\u001b[A\n",
      " 69%|██████▉   | 125/181 [01:51<00:49,  1.12it/s, loss=0.263]\u001b[A\n",
      " 70%|██████▉   | 126/181 [01:51<00:48,  1.13it/s, loss=0.263]\u001b[A\n",
      " 70%|██████▉   | 126/181 [01:52<00:48,  1.12it/s, loss=0.267]\u001b[A\n",
      " 70%|███████   | 127/181 [01:52<00:47,  1.13it/s, loss=0.267]\u001b[A\n",
      " 70%|███████   | 127/181 [01:53<00:48,  1.12it/s, loss=0.265]\u001b[A\n",
      " 71%|███████   | 128/181 [01:53<00:46,  1.13it/s, loss=0.265]\u001b[A\n",
      " 71%|███████   | 128/181 [01:53<00:47,  1.12it/s, loss=0.263]\u001b[A\n",
      " 71%|███████▏  | 129/181 [01:53<00:45,  1.13it/s, loss=0.263]\u001b[A\n",
      " 71%|███████▏  | 129/181 [01:54<00:46,  1.12it/s, loss=0.262]\u001b[A\n",
      " 72%|███████▏  | 130/181 [01:54<00:45,  1.13it/s, loss=0.262]\u001b[A\n",
      " 72%|███████▏  | 130/181 [01:55<00:45,  1.12it/s, loss=0.264]\u001b[A\n"
     ]
    },
    {
     "name": "stdout",
     "output_type": "stream",
     "text": [
      " 72%|███████▏  | 131/181 [01:55<00:44,  1.13it/s, loss=0.264]\u001b[A\n",
      " 72%|███████▏  | 131/181 [01:56<00:44,  1.12it/s, loss=0.264]\u001b[A\n",
      " 73%|███████▎  | 132/181 [01:56<00:43,  1.13it/s, loss=0.264]\u001b[A\n",
      " 73%|███████▎  | 132/181 [01:57<00:43,  1.12it/s, loss=0.263]\u001b[A\n",
      " 73%|███████▎  | 133/181 [01:57<00:42,  1.13it/s, loss=0.263]\u001b[A\n",
      " 73%|███████▎  | 133/181 [01:58<00:42,  1.12it/s, loss=0.26] \u001b[A\n",
      " 74%|███████▍  | 134/181 [01:58<00:41,  1.13it/s, loss=0.26]\u001b[A\n",
      " 74%|███████▍  | 134/181 [01:59<00:41,  1.12it/s, loss=0.267]\u001b[A\n",
      " 75%|███████▍  | 135/181 [01:59<00:40,  1.13it/s, loss=0.267]\u001b[A\n",
      " 75%|███████▍  | 135/181 [02:00<00:40,  1.12it/s, loss=0.264]\u001b[A\n",
      " 75%|███████▌  | 136/181 [02:00<00:39,  1.13it/s, loss=0.264]\u001b[A\n",
      " 75%|███████▌  | 136/181 [02:00<00:40,  1.12it/s, loss=0.264]\u001b[A\n",
      " 76%|███████▌  | 137/181 [02:00<00:38,  1.13it/s, loss=0.264]\u001b[A\n",
      " 76%|███████▌  | 137/181 [02:01<00:39,  1.12it/s, loss=0.265]\u001b[A\n",
      " 76%|███████▌  | 138/181 [02:01<00:37,  1.13it/s, loss=0.265]\u001b[A\n",
      " 76%|███████▌  | 138/181 [02:02<00:38,  1.12it/s, loss=0.267]\u001b[A\n",
      " 77%|███████▋  | 139/181 [02:02<00:37,  1.13it/s, loss=0.267]\u001b[A\n",
      " 77%|███████▋  | 139/181 [02:03<00:37,  1.12it/s, loss=0.266]\u001b[A\n",
      " 77%|███████▋  | 140/181 [02:03<00:36,  1.13it/s, loss=0.266]\u001b[A\n",
      " 77%|███████▋  | 140/181 [02:04<00:36,  1.12it/s, loss=0.264]\u001b[A\n",
      " 78%|███████▊  | 141/181 [02:04<00:35,  1.13it/s, loss=0.264]\u001b[A\n",
      " 78%|███████▊  | 141/181 [02:05<00:35,  1.13it/s, loss=0.262]\u001b[A\n",
      " 78%|███████▊  | 142/181 [02:05<00:34,  1.13it/s, loss=0.262]\u001b[A\n",
      " 78%|███████▊  | 142/181 [02:06<00:34,  1.13it/s, loss=0.26] \u001b[A\n",
      " 79%|███████▉  | 143/181 [02:06<00:33,  1.13it/s, loss=0.26]\u001b[A\n",
      " 79%|███████▉  | 143/181 [02:07<00:33,  1.13it/s, loss=0.26]\u001b[A\n",
      " 80%|███████▉  | 144/181 [02:07<00:32,  1.13it/s, loss=0.26]\u001b[A\n",
      " 80%|███████▉  | 144/181 [02:08<00:32,  1.12it/s, loss=0.259]\u001b[A\n",
      " 80%|████████  | 145/181 [02:08<00:31,  1.13it/s, loss=0.259]\u001b[A\n",
      " 80%|████████  | 145/181 [02:08<00:32,  1.12it/s, loss=0.259]\u001b[A\n",
      " 81%|████████  | 146/181 [02:08<00:30,  1.13it/s, loss=0.259]\u001b[A\n",
      " 81%|████████  | 146/181 [02:09<00:31,  1.12it/s, loss=0.258]\u001b[A\n",
      " 81%|████████  | 147/181 [02:09<00:30,  1.13it/s, loss=0.258]\u001b[A\n",
      " 81%|████████  | 147/181 [02:10<00:30,  1.13it/s, loss=0.259]\u001b[A\n",
      " 82%|████████▏ | 148/181 [02:10<00:29,  1.13it/s, loss=0.259]\u001b[A\n",
      " 82%|████████▏ | 148/181 [02:11<00:29,  1.13it/s, loss=0.256]\u001b[A\n",
      " 82%|████████▏ | 149/181 [02:11<00:28,  1.13it/s, loss=0.256]\u001b[A\n",
      " 82%|████████▏ | 149/181 [02:12<00:28,  1.13it/s, loss=0.256]\u001b[A\n",
      " 83%|████████▎ | 150/181 [02:12<00:27,  1.13it/s, loss=0.256]\u001b[A\n",
      " 83%|████████▎ | 150/181 [02:13<00:27,  1.13it/s, loss=0.255]\u001b[A\n",
      " 83%|████████▎ | 151/181 [02:13<00:26,  1.13it/s, loss=0.255]\u001b[A\n",
      " 83%|████████▎ | 151/181 [02:14<00:26,  1.13it/s, loss=0.258]\u001b[A\n",
      " 84%|████████▍ | 152/181 [02:14<00:25,  1.13it/s, loss=0.258]\u001b[A\n",
      " 84%|████████▍ | 152/181 [02:15<00:25,  1.13it/s, loss=0.258]\u001b[A\n",
      " 85%|████████▍ | 153/181 [02:15<00:24,  1.13it/s, loss=0.258]\u001b[A\n",
      " 85%|████████▍ | 153/181 [02:15<00:24,  1.13it/s, loss=0.258]\u001b[A\n",
      " 85%|████████▌ | 154/181 [02:15<00:23,  1.13it/s, loss=0.258]\u001b[A\n",
      " 85%|████████▌ | 154/181 [02:16<00:23,  1.13it/s, loss=0.259]\u001b[A\n",
      " 86%|████████▌ | 155/181 [02:16<00:22,  1.13it/s, loss=0.259]\u001b[A\n",
      " 86%|████████▌ | 155/181 [02:17<00:23,  1.13it/s, loss=0.256]\u001b[A\n",
      " 86%|████████▌ | 156/181 [02:17<00:22,  1.13it/s, loss=0.256]\u001b[A\n",
      " 86%|████████▌ | 156/181 [02:18<00:22,  1.13it/s, loss=0.258]\u001b[A\n",
      " 87%|████████▋ | 157/181 [02:18<00:21,  1.13it/s, loss=0.258]\u001b[A\n",
      " 87%|████████▋ | 157/181 [02:19<00:21,  1.13it/s, loss=0.257]\u001b[A\n",
      " 87%|████████▋ | 158/181 [02:19<00:20,  1.13it/s, loss=0.257]\u001b[A\n",
      " 87%|████████▋ | 158/181 [02:20<00:20,  1.13it/s, loss=0.259]\u001b[A\n",
      " 88%|████████▊ | 159/181 [02:20<00:19,  1.13it/s, loss=0.259]\u001b[A\n",
      " 88%|████████▊ | 159/181 [02:21<00:19,  1.13it/s, loss=0.258]\u001b[A\n",
      " 88%|████████▊ | 160/181 [02:21<00:18,  1.13it/s, loss=0.258]\u001b[A\n",
      " 88%|████████▊ | 160/181 [02:22<00:18,  1.13it/s, loss=0.257]\u001b[A\n",
      " 89%|████████▉ | 161/181 [02:22<00:17,  1.13it/s, loss=0.257]\u001b[A\n",
      " 89%|████████▉ | 161/181 [02:23<00:17,  1.13it/s, loss=0.256]\u001b[A\n",
      " 90%|████████▉ | 162/181 [02:23<00:16,  1.13it/s, loss=0.256]\u001b[A\n",
      " 90%|████████▉ | 162/181 [02:23<00:16,  1.13it/s, loss=0.259]\u001b[A\n",
      " 90%|█████████ | 163/181 [02:23<00:15,  1.13it/s, loss=0.259]\u001b[A\n",
      " 90%|█████████ | 163/181 [02:24<00:15,  1.13it/s, loss=0.256]\u001b[A\n",
      " 91%|█████████ | 164/181 [02:24<00:15,  1.13it/s, loss=0.256]\u001b[A\n",
      " 91%|█████████ | 164/181 [02:25<00:15,  1.13it/s, loss=0.256]\u001b[A\n",
      " 91%|█████████ | 165/181 [02:25<00:14,  1.13it/s, loss=0.256]\u001b[A\n",
      " 91%|█████████ | 165/181 [02:26<00:14,  1.13it/s, loss=0.256]\u001b[A\n",
      " 92%|█████████▏| 166/181 [02:26<00:13,  1.13it/s, loss=0.256]\u001b[A\n",
      " 92%|█████████▏| 166/181 [02:27<00:13,  1.13it/s, loss=0.256]\u001b[A\n",
      " 92%|█████████▏| 167/181 [02:27<00:12,  1.13it/s, loss=0.256]\u001b[A\n",
      " 92%|█████████▏| 167/181 [02:28<00:12,  1.13it/s, loss=0.255]\u001b[A\n",
      " 93%|█████████▎| 168/181 [02:28<00:11,  1.13it/s, loss=0.255]\u001b[A\n",
      " 93%|█████████▎| 168/181 [02:29<00:11,  1.13it/s, loss=0.254]\u001b[A\n",
      " 93%|█████████▎| 169/181 [02:29<00:10,  1.13it/s, loss=0.254]\u001b[A\n",
      " 93%|█████████▎| 169/181 [02:30<00:10,  1.13it/s, loss=0.254]\u001b[A\n",
      " 94%|█████████▍| 170/181 [02:30<00:09,  1.13it/s, loss=0.254]\u001b[A\n",
      " 94%|█████████▍| 170/181 [02:30<00:09,  1.13it/s, loss=0.252]\u001b[A\n",
      " 94%|█████████▍| 171/181 [02:31<00:08,  1.13it/s, loss=0.252]\u001b[A\n",
      " 94%|█████████▍| 171/181 [02:31<00:08,  1.13it/s, loss=0.251]\u001b[A\n",
      " 95%|█████████▌| 172/181 [02:31<00:07,  1.13it/s, loss=0.251]\u001b[A\n",
      " 95%|█████████▌| 172/181 [02:32<00:07,  1.13it/s, loss=0.25] \u001b[A\n",
      " 96%|█████████▌| 173/181 [02:32<00:07,  1.13it/s, loss=0.25]\u001b[A\n",
      " 96%|█████████▌| 173/181 [02:33<00:07,  1.13it/s, loss=0.251]\u001b[A\n",
      " 96%|█████████▌| 174/181 [02:33<00:06,  1.13it/s, loss=0.251]\u001b[A\n",
      " 96%|█████████▌| 174/181 [02:34<00:06,  1.13it/s, loss=0.254]\u001b[A\n",
      " 97%|█████████▋| 175/181 [02:34<00:05,  1.13it/s, loss=0.254]\u001b[A\n",
      " 97%|█████████▋| 175/181 [02:35<00:05,  1.13it/s, loss=0.255]\u001b[A\n",
      " 97%|█████████▋| 176/181 [02:35<00:04,  1.13it/s, loss=0.255]\u001b[A\n",
      " 97%|█████████▋| 176/181 [02:36<00:04,  1.13it/s, loss=0.254]\u001b[A\n",
      " 98%|█████████▊| 177/181 [02:36<00:03,  1.13it/s, loss=0.254]\u001b[A\n",
      " 98%|█████████▊| 177/181 [02:37<00:03,  1.13it/s, loss=0.251]\u001b[A\n",
      " 98%|█████████▊| 178/181 [02:37<00:02,  1.13it/s, loss=0.251]\u001b[A\n",
      " 98%|█████████▊| 178/181 [02:37<00:02,  1.13it/s, loss=0.255]\u001b[A\n",
      " 99%|█████████▉| 179/181 [02:37<00:01,  1.13it/s, loss=0.255]\u001b[A\n",
      " 99%|█████████▉| 179/181 [02:38<00:01,  1.13it/s, loss=0.254]\u001b[A\n",
      " 99%|█████████▉| 180/181 [02:38<00:00,  1.13it/s, loss=0.254]\u001b[A\n",
      " 99%|█████████▉| 180/181 [02:39<00:00,  1.13it/s, loss=0.255]\u001b[A\n",
      "100%|██████████| 181/181 [02:39<00:00,  1.14it/s, loss=0.255]\u001b[A\n",
      "                                                             \u001b[A[ 0.       0.25499  0.75061  0.79043]\n",
      "\n",
      "CPU times: user 3min 32s, sys: 1min 9s, total: 4min 41s\n",
      "Wall time: 3min 29s\n"
     ]
    }
   ],
   "source": [
    "size = 224\n",
    "data = get_data(size, bs = 32)\n",
    "learner.set_data(data)\n",
    "%time learner.fit(lrs=λr, n_cycle=1, cycle_len=1, cycle_mult=1)"
   ]
  },
  {
   "cell_type": "code",
   "execution_count": null,
   "metadata": {
    "hidden": true
   },
   "outputs": [],
   "source": []
  },
  {
   "cell_type": "code",
   "execution_count": null,
   "metadata": {
    "hidden": true
   },
   "outputs": [],
   "source": []
  },
  {
   "cell_type": "code",
   "execution_count": null,
   "metadata": {
    "hidden": true
   },
   "outputs": [],
   "source": []
  },
  {
   "cell_type": "code",
   "execution_count": null,
   "metadata": {
    "hidden": true
   },
   "outputs": [],
   "source": []
  },
  {
   "cell_type": "code",
   "execution_count": 23,
   "metadata": {
    "collapsed": true,
    "hidden": true
   },
   "outputs": [
    {
     "data": {
      "application/vnd.jupyter.widget-view+json": {
       "model_id": "9e69b1612acd422f9b6a1242d5d4843b",
       "version_major": 2,
       "version_minor": 0
      },
      "text/html": [
       "<p>Failed to display Jupyter Widget of type <code>HBox</code>.</p>\n",
       "<p>\n",
       "  If you're reading this message in the Jupyter Notebook or JupyterLab Notebook, it may mean\n",
       "  that the widgets JavaScript is still loading. If this message persists, it\n",
       "  likely means that the widgets JavaScript library is either not installed or\n",
       "  not enabled. See the <a href=\"https://ipywidgets.readthedocs.io/en/stable/user_install.html\">Jupyter\n",
       "  Widgets Documentation</a> for setup instructions.\n",
       "</p>\n",
       "<p>\n",
       "  If you're reading this message in another frontend (for example, a static\n",
       "  rendering on GitHub or <a href=\"https://nbviewer.jupyter.org/\">NBViewer</a>),\n",
       "  it may mean that your frontend doesn't currently support widgets.\n",
       "</p>\n"
      ],
      "text/plain": [
       "HBox(children=(IntProgress(value=0, description='Epoch', max=3), HTML(value='')))"
      ]
     },
     "metadata": {},
     "output_type": "display_data"
    },
    {
     "name": "stdout",
     "output_type": "stream",
     "text": [
      "\n",
      "  0%|          | 0/413 [00:00<?, ?it/s]\u001b[A\n",
      "  0%|          | 0/413 [00:01<?, ?it/s, loss=0.279]\u001b[A\n",
      "  0%|          | 1/413 [00:01<13:16,  1.93s/it, loss=0.279]\u001b[A\n",
      "\n",
      "  0%|          | 1/413 [00:03<23:18,  3.39s/it, loss=0.318]\u001b[A\n",
      "  0%|          | 2/413 [00:03<11:41,  1.71s/it, loss=0.318]\u001b[A"
     ]
    },
    {
     "name": "stderr",
     "output_type": "stream",
     "text": [
      "Exception in thread Thread-8:\n",
      "Traceback (most recent call last):\n",
      "  File \"/home/wnixalo/miniconda3/envs/fastai/lib/python3.6/threading.py\", line 916, in _bootstrap_inner\n",
      "    self.run()\n",
      "  File \"/home/wnixalo/miniconda3/envs/fastai/lib/python3.6/site-packages/tqdm/_tqdm.py\", line 144, in run\n",
      "    for instance in self.tqdm_cls._instances:\n",
      "  File \"/home/wnixalo/miniconda3/envs/fastai/lib/python3.6/_weakrefset.py\", line 60, in __iter__\n",
      "    for itemref in self.data:\n",
      "RuntimeError: Set changed size during iteration\n",
      "\n"
     ]
    },
    {
     "name": "stdout",
     "output_type": "stream",
     "text": [
      "\n",
      "  0%|          | 2/413 [00:04<16:42,  2.44s/it, loss=0.261]\u001b[A\n",
      "  1%|          | 3/413 [00:04<11:09,  1.63s/it, loss=0.261]\u001b[A\n",
      "  1%|          | 3/413 [00:06<14:31,  2.13s/it, loss=0.269]\u001b[A\n",
      "  1%|          | 4/413 [00:06<10:53,  1.60s/it, loss=0.269]\u001b[A\n",
      "  1%|          | 4/413 [00:07<13:23,  1.96s/it, loss=0.279]\u001b[A\n",
      "  1%|          | 5/413 [00:07<10:42,  1.57s/it, loss=0.279]\u001b[A\n",
      "  1%|          | 5/413 [00:09<12:40,  1.86s/it, loss=0.313]\u001b[A\n",
      "  1%|▏         | 6/413 [00:09<10:33,  1.56s/it, loss=0.313]\u001b[A\n",
      "  1%|▏         | 6/413 [00:10<12:12,  1.80s/it, loss=0.285]\u001b[A\n",
      "  2%|▏         | 7/413 [00:10<10:26,  1.54s/it, loss=0.285]\u001b[A\n",
      "  2%|▏         | 7/413 [00:12<11:51,  1.75s/it, loss=0.283]\u001b[A\n",
      "  2%|▏         | 8/413 [00:12<10:21,  1.53s/it, loss=0.283]\u001b[A\n",
      "  2%|▏         | 8/413 [00:13<11:35,  1.72s/it, loss=0.293]\u001b[A\n",
      "  2%|▏         | 9/413 [00:13<10:16,  1.53s/it, loss=0.293]\u001b[A\n",
      "  2%|▏         | 9/413 [00:15<11:22,  1.69s/it, loss=0.3]  \u001b[A\n",
      "  2%|▏         | 10/413 [00:15<10:13,  1.52s/it, loss=0.3]\u001b[A\n",
      "  2%|▏         | 10/413 [00:16<11:12,  1.67s/it, loss=0.298]\u001b[A\n",
      "  3%|▎         | 11/413 [00:16<10:10,  1.52s/it, loss=0.298]\u001b[A\n",
      "  3%|▎         | 11/413 [00:18<11:04,  1.65s/it, loss=0.298]\u001b[A\n",
      "  3%|▎         | 12/413 [00:18<10:07,  1.51s/it, loss=0.298]\u001b[A\n",
      "  3%|▎         | 12/413 [00:19<10:56,  1.64s/it, loss=0.305]\u001b[A\n",
      "  3%|▎         | 13/413 [00:19<10:05,  1.51s/it, loss=0.305]\u001b[A\n",
      "  3%|▎         | 13/413 [00:21<10:50,  1.63s/it, loss=0.298]\u001b[A\n",
      "  3%|▎         | 14/413 [00:21<10:02,  1.51s/it, loss=0.298]\u001b[A\n",
      "  3%|▎         | 14/413 [00:22<10:44,  1.62s/it, loss=0.299]\u001b[A\n",
      "  4%|▎         | 15/413 [00:22<10:00,  1.51s/it, loss=0.299]\u001b[A\n",
      "  4%|▎         | 15/413 [00:24<10:38,  1.60s/it, loss=0.309]\u001b[A\n",
      "  4%|▍         | 16/413 [00:24<09:57,  1.51s/it, loss=0.309]\u001b[A\n",
      "  4%|▍         | 16/413 [00:25<10:33,  1.60s/it, loss=0.333]\u001b[A\n",
      "  4%|▍         | 17/413 [00:25<09:55,  1.50s/it, loss=0.333]\u001b[A\n",
      "  4%|▍         | 17/413 [00:27<10:29,  1.59s/it, loss=0.327]\u001b[A\n",
      "  4%|▍         | 18/413 [00:27<09:53,  1.50s/it, loss=0.327]\u001b[A\n",
      "  4%|▍         | 18/413 [00:28<10:25,  1.58s/it, loss=0.327]\u001b[A\n",
      "  5%|▍         | 19/413 [00:28<09:51,  1.50s/it, loss=0.327]\u001b[A\n",
      "  5%|▍         | 19/413 [00:29<10:21,  1.58s/it, loss=0.333]\u001b[A\n",
      "  5%|▍         | 20/413 [00:30<09:49,  1.50s/it, loss=0.333]\u001b[A\n",
      "  5%|▍         | 20/413 [00:31<10:18,  1.57s/it, loss=0.325]\u001b[A\n",
      "  5%|▌         | 21/413 [00:31<09:48,  1.50s/it, loss=0.325]\u001b[A\n",
      "  5%|▌         | 21/413 [00:32<10:15,  1.57s/it, loss=0.344]\u001b[A\n",
      "  5%|▌         | 22/413 [00:32<09:46,  1.50s/it, loss=0.344]\u001b[A\n",
      "  5%|▌         | 22/413 [00:34<10:12,  1.57s/it, loss=0.341]\u001b[A\n",
      "  6%|▌         | 23/413 [00:34<09:44,  1.50s/it, loss=0.341]\u001b[A\n",
      "  6%|▌         | 23/413 [00:35<10:09,  1.56s/it, loss=0.337]\u001b[A\n",
      "  6%|▌         | 24/413 [00:35<09:42,  1.50s/it, loss=0.337]\u001b[A\n",
      "  6%|▌         | 24/413 [00:37<10:06,  1.56s/it, loss=0.343]\u001b[A\n",
      "  6%|▌         | 25/413 [00:37<09:40,  1.50s/it, loss=0.343]\u001b[A\n",
      "  6%|▌         | 25/413 [00:38<10:03,  1.56s/it, loss=0.349]\u001b[A\n",
      "  6%|▋         | 26/413 [00:38<09:39,  1.50s/it, loss=0.349]\u001b[A\n",
      "  6%|▋         | 26/413 [00:40<10:00,  1.55s/it, loss=0.358]\u001b[A\n",
      "  7%|▋         | 27/413 [00:40<09:37,  1.49s/it, loss=0.358]\u001b[A\n",
      "  7%|▋         | 27/413 [00:41<09:57,  1.55s/it, loss=0.359]\u001b[A\n",
      "  7%|▋         | 28/413 [00:41<09:35,  1.49s/it, loss=0.359]\u001b[A\n",
      "  7%|▋         | 28/413 [00:43<09:55,  1.55s/it, loss=0.351]\u001b[A\n",
      "  7%|▋         | 29/413 [00:43<09:33,  1.49s/it, loss=0.351]\u001b[A\n",
      "  7%|▋         | 29/413 [00:44<09:52,  1.54s/it, loss=0.37] \u001b[A\n",
      "  7%|▋         | 30/413 [00:44<09:31,  1.49s/it, loss=0.37]\u001b[A\n",
      "  7%|▋         | 30/413 [00:46<09:50,  1.54s/it, loss=0.369]\u001b[A\n",
      "  8%|▊         | 31/413 [00:46<09:30,  1.49s/it, loss=0.369]\u001b[A\n",
      "  8%|▊         | 31/413 [00:47<09:48,  1.54s/it, loss=0.363]\u001b[A\n",
      "  8%|▊         | 32/413 [00:47<09:28,  1.49s/it, loss=0.363]\u001b[A\n",
      "  8%|▊         | 32/413 [00:49<09:45,  1.54s/it, loss=0.359]\u001b[A\n",
      "  8%|▊         | 33/413 [00:49<09:26,  1.49s/it, loss=0.359]\u001b[A\n",
      "  8%|▊         | 33/413 [00:50<09:43,  1.54s/it, loss=0.372]\u001b[A\n",
      "  8%|▊         | 34/413 [00:50<09:25,  1.49s/it, loss=0.372]\u001b[A\n",
      "  8%|▊         | 34/413 [00:52<09:41,  1.53s/it, loss=0.365]\u001b[A\n",
      "  8%|▊         | 35/413 [00:52<09:23,  1.49s/it, loss=0.365]\u001b[A\n",
      "  8%|▊         | 35/413 [00:53<09:39,  1.53s/it, loss=0.38] \u001b[A\n",
      "  9%|▊         | 36/413 [00:53<09:22,  1.49s/it, loss=0.38]\u001b[A\n",
      "  9%|▊         | 36/413 [00:55<09:37,  1.53s/it, loss=0.375]\u001b[A\n",
      "  9%|▉         | 37/413 [00:55<09:20,  1.49s/it, loss=0.375]\u001b[A\n",
      "  9%|▉         | 37/413 [00:56<09:35,  1.53s/it, loss=0.376]\u001b[A\n",
      "  9%|▉         | 38/413 [00:56<09:18,  1.49s/it, loss=0.376]\u001b[A\n",
      "  9%|▉         | 38/413 [00:58<09:33,  1.53s/it, loss=0.372]\u001b[A\n",
      "  9%|▉         | 39/413 [00:58<09:17,  1.49s/it, loss=0.372]\u001b[A\n",
      "  9%|▉         | 39/413 [00:59<09:31,  1.53s/it, loss=0.369]\u001b[A\n",
      " 10%|▉         | 40/413 [00:59<09:15,  1.49s/it, loss=0.369]\u001b[A\n",
      " 10%|▉         | 40/413 [01:01<09:29,  1.53s/it, loss=0.376]\u001b[A\n",
      " 10%|▉         | 41/413 [01:01<09:13,  1.49s/it, loss=0.376]\u001b[A\n",
      " 10%|▉         | 41/413 [01:02<09:27,  1.52s/it, loss=0.372]\u001b[A\n",
      " 10%|█         | 42/413 [01:02<09:12,  1.49s/it, loss=0.372]\u001b[A\n",
      " 10%|█         | 42/413 [01:03<09:25,  1.52s/it, loss=0.376]\u001b[A\n",
      " 10%|█         | 43/413 [01:04<09:10,  1.49s/it, loss=0.376]\u001b[A\n",
      " 10%|█         | 43/413 [01:05<09:23,  1.52s/it, loss=0.378]\u001b[A\n",
      " 11%|█         | 44/413 [01:05<09:09,  1.49s/it, loss=0.378]\u001b[A\n",
      " 11%|█         | 44/413 [01:06<09:21,  1.52s/it, loss=0.375]\u001b[A\n",
      " 11%|█         | 45/413 [01:06<09:07,  1.49s/it, loss=0.375]\u001b[A\n",
      " 11%|█         | 45/413 [01:08<09:19,  1.52s/it, loss=0.374]\u001b[A\n",
      " 11%|█         | 46/413 [01:08<09:06,  1.49s/it, loss=0.374]\u001b[A\n",
      " 11%|█         | 46/413 [01:09<09:17,  1.52s/it, loss=0.372]\u001b[A\n",
      " 11%|█▏        | 47/413 [01:09<09:04,  1.49s/it, loss=0.372]\u001b[A\n",
      " 11%|█▏        | 47/413 [01:11<09:16,  1.52s/it, loss=0.369]\u001b[A\n",
      " 12%|█▏        | 48/413 [01:11<09:03,  1.49s/it, loss=0.369]\u001b[A\n",
      " 12%|█▏        | 48/413 [01:12<09:14,  1.52s/it, loss=0.369]\u001b[A\n",
      " 12%|█▏        | 49/413 [01:12<09:01,  1.49s/it, loss=0.369]\u001b[A\n",
      " 12%|█▏        | 49/413 [01:14<09:12,  1.52s/it, loss=0.371]\u001b[A\n",
      " 12%|█▏        | 50/413 [01:14<09:00,  1.49s/it, loss=0.371]\u001b[A\n",
      " 12%|█▏        | 50/413 [01:15<09:10,  1.52s/it, loss=0.368]\u001b[A\n",
      " 12%|█▏        | 51/413 [01:15<08:58,  1.49s/it, loss=0.368]\u001b[A\n",
      " 12%|█▏        | 51/413 [01:17<09:09,  1.52s/it, loss=0.366]\u001b[A\n",
      " 13%|█▎        | 52/413 [01:17<08:57,  1.49s/it, loss=0.366]\u001b[A\n",
      " 13%|█▎        | 52/413 [01:18<09:07,  1.52s/it, loss=0.366]\u001b[A\n",
      " 13%|█▎        | 53/413 [01:18<08:55,  1.49s/it, loss=0.366]\u001b[A\n",
      " 13%|█▎        | 53/413 [01:20<09:05,  1.52s/it, loss=0.365]\u001b[A\n",
      " 13%|█▎        | 54/413 [01:20<08:54,  1.49s/it, loss=0.365]\u001b[A\n",
      " 13%|█▎        | 54/413 [01:21<09:03,  1.51s/it, loss=0.36] \u001b[A\n",
      " 13%|█▎        | 55/413 [01:21<08:52,  1.49s/it, loss=0.36]\u001b[A\n",
      " 13%|█▎        | 55/413 [01:23<09:01,  1.51s/it, loss=0.362]\u001b[A\n",
      " 14%|█▎        | 56/413 [01:23<08:50,  1.49s/it, loss=0.362]\u001b[A\n",
      " 14%|█▎        | 56/413 [01:24<09:00,  1.51s/it, loss=0.361]\u001b[A\n",
      " 14%|█▍        | 57/413 [01:24<08:49,  1.49s/it, loss=0.361]\u001b[A\n",
      " 14%|█▍        | 57/413 [01:26<08:58,  1.51s/it, loss=0.36] \u001b[A\n",
      " 14%|█▍        | 58/413 [01:26<08:47,  1.49s/it, loss=0.36]\u001b[A\n",
      " 14%|█▍        | 58/413 [01:27<08:56,  1.51s/it, loss=0.36]\u001b[A\n",
      " 14%|█▍        | 59/413 [01:27<08:46,  1.49s/it, loss=0.36]\u001b[A\n",
      " 14%|█▍        | 59/413 [01:29<08:55,  1.51s/it, loss=0.363]\u001b[A\n",
      " 15%|█▍        | 60/413 [01:29<08:44,  1.49s/it, loss=0.363]\u001b[A\n",
      " 15%|█▍        | 60/413 [01:30<08:53,  1.51s/it, loss=0.359]\u001b[A\n",
      " 15%|█▍        | 61/413 [01:30<08:43,  1.49s/it, loss=0.359]\u001b[A\n",
      " 15%|█▍        | 61/413 [01:32<08:51,  1.51s/it, loss=0.361]\u001b[A\n",
      " 15%|█▌        | 62/413 [01:32<08:41,  1.49s/it, loss=0.361]\u001b[A\n",
      " 15%|█▌        | 62/413 [01:33<08:49,  1.51s/it, loss=0.357]\u001b[A\n",
      " 15%|█▌        | 63/413 [01:33<08:40,  1.49s/it, loss=0.357]\u001b[A\n",
      " 15%|█▌        | 63/413 [01:35<08:48,  1.51s/it, loss=0.359]\u001b[A\n",
      " 15%|█▌        | 64/413 [01:35<08:38,  1.49s/it, loss=0.359]\u001b[A\n",
      " 15%|█▌        | 64/413 [01:36<08:46,  1.51s/it, loss=0.362]\u001b[A\n",
      " 16%|█▌        | 65/413 [01:36<08:37,  1.49s/it, loss=0.362]\u001b[A\n",
      " 16%|█▌        | 65/413 [01:38<08:44,  1.51s/it, loss=0.363]\u001b[A\n",
      " 16%|█▌        | 66/413 [01:38<08:35,  1.49s/it, loss=0.363]\u001b[A\n",
      " 16%|█▌        | 66/413 [01:39<08:43,  1.51s/it, loss=0.361]\u001b[A\n",
      " 16%|█▌        | 67/413 [01:39<08:33,  1.49s/it, loss=0.361]\u001b[A\n",
      " 16%|█▌        | 67/413 [01:40<08:41,  1.51s/it, loss=0.359]\u001b[A\n",
      " 16%|█▋        | 68/413 [01:40<08:32,  1.48s/it, loss=0.359]\u001b[A\n",
      " 16%|█▋        | 68/413 [01:42<08:39,  1.51s/it, loss=0.359]\u001b[A\n",
      " 17%|█▋        | 69/413 [01:42<08:30,  1.48s/it, loss=0.359]\u001b[A\n",
      " 17%|█▋        | 69/413 [01:43<08:38,  1.51s/it, loss=0.355]\u001b[A\n",
      " 17%|█▋        | 70/413 [01:43<08:29,  1.48s/it, loss=0.355]\u001b[A\n",
      " 17%|█▋        | 70/413 [01:45<08:36,  1.51s/it, loss=0.355]\u001b[A\n",
      " 17%|█▋        | 71/413 [01:45<08:27,  1.48s/it, loss=0.355]\u001b[A\n",
      " 17%|█▋        | 71/413 [01:46<08:34,  1.51s/it, loss=0.362]\u001b[A\n",
      " 17%|█▋        | 72/413 [01:46<08:26,  1.48s/it, loss=0.362]\u001b[A\n",
      " 17%|█▋        | 72/413 [01:48<08:33,  1.50s/it, loss=0.36] \u001b[A\n",
      " 18%|█▊        | 73/413 [01:48<08:24,  1.48s/it, loss=0.36]\u001b[A\n",
      " 18%|█▊        | 73/413 [01:49<08:31,  1.50s/it, loss=0.357]\u001b[A\n",
      " 18%|█▊        | 74/413 [01:49<08:23,  1.48s/it, loss=0.357]\u001b[A\n",
      " 18%|█▊        | 74/413 [01:51<08:29,  1.50s/it, loss=0.358]\u001b[A\n",
      " 18%|█▊        | 75/413 [01:51<08:21,  1.48s/it, loss=0.358]\u001b[A\n",
      " 18%|█▊        | 75/413 [01:52<08:28,  1.50s/it, loss=0.358]\u001b[A\n",
      " 18%|█▊        | 76/413 [01:52<08:20,  1.48s/it, loss=0.358]\u001b[A\n",
      " 18%|█▊        | 76/413 [01:54<08:26,  1.50s/it, loss=0.355]\u001b[A\n",
      " 19%|█▊        | 77/413 [01:54<08:18,  1.48s/it, loss=0.355]\u001b[A\n",
      " 19%|█▊        | 77/413 [01:55<08:24,  1.50s/it, loss=0.355]\u001b[A\n",
      " 19%|█▉        | 78/413 [01:55<08:17,  1.48s/it, loss=0.355]\u001b[A\n",
      " 19%|█▉        | 78/413 [01:57<08:23,  1.50s/it, loss=0.351]\u001b[A\n",
      " 19%|█▉        | 79/413 [01:57<08:15,  1.48s/it, loss=0.351]\u001b[A\n",
      " 19%|█▉        | 79/413 [01:58<08:21,  1.50s/it, loss=0.35] \u001b[A\n",
      " 19%|█▉        | 80/413 [01:58<08:14,  1.48s/it, loss=0.35]\u001b[A\n",
      " 19%|█▉        | 80/413 [02:00<08:20,  1.50s/it, loss=0.359]\u001b[A\n",
      " 20%|█▉        | 81/413 [02:00<08:12,  1.48s/it, loss=0.359]\u001b[A\n",
      " 20%|█▉        | 81/413 [02:01<08:18,  1.50s/it, loss=0.358]\u001b[A\n",
      " 20%|█▉        | 82/413 [02:01<08:11,  1.48s/it, loss=0.358]\u001b[A\n",
      " 20%|█▉        | 82/413 [02:03<08:16,  1.50s/it, loss=0.364]\u001b[A\n",
      " 20%|██        | 83/413 [02:03<08:09,  1.48s/it, loss=0.364]\u001b[A\n",
      " 20%|██        | 83/413 [02:04<08:15,  1.50s/it, loss=0.361]\u001b[A\n",
      " 20%|██        | 84/413 [02:04<08:08,  1.48s/it, loss=0.361]\u001b[A\n",
      " 20%|██        | 84/413 [02:06<08:13,  1.50s/it, loss=0.357]\u001b[A\n",
      " 21%|██        | 85/413 [02:06<08:06,  1.48s/it, loss=0.357]\u001b[A\n",
      " 21%|██        | 85/413 [02:07<08:12,  1.50s/it, loss=0.357]\u001b[A\n",
      " 21%|██        | 86/413 [02:07<08:05,  1.48s/it, loss=0.357]\u001b[A\n",
      " 21%|██        | 86/413 [02:09<08:10,  1.50s/it, loss=0.358]\u001b[A\n",
      " 21%|██        | 87/413 [02:09<08:03,  1.48s/it, loss=0.358]\u001b[A\n",
      " 21%|██        | 87/413 [02:10<08:09,  1.50s/it, loss=0.364]\u001b[A\n",
      " 21%|██▏       | 88/413 [02:10<08:02,  1.48s/it, loss=0.364]\u001b[A\n",
      " 21%|██▏       | 88/413 [02:11<08:07,  1.50s/it, loss=0.362]\u001b[A\n",
      " 22%|██▏       | 89/413 [02:11<08:00,  1.48s/it, loss=0.362]\u001b[A\n",
      " 22%|██▏       | 89/413 [02:13<08:05,  1.50s/it, loss=0.358]\u001b[A\n",
      " 22%|██▏       | 90/413 [02:13<07:59,  1.48s/it, loss=0.358]\u001b[A\n",
      " 22%|██▏       | 90/413 [02:14<08:04,  1.50s/it, loss=0.363]\u001b[A\n",
      " 22%|██▏       | 91/413 [02:14<07:57,  1.48s/it, loss=0.363]\u001b[A\n",
      " 22%|██▏       | 91/413 [02:16<08:02,  1.50s/it, loss=0.365]\u001b[A\n",
      " 22%|██▏       | 92/413 [02:16<07:56,  1.48s/it, loss=0.365]\u001b[A\n",
      " 22%|██▏       | 92/413 [02:17<08:01,  1.50s/it, loss=0.363]\u001b[A\n",
      " 23%|██▎       | 93/413 [02:17<07:54,  1.48s/it, loss=0.363]\u001b[A\n",
      " 23%|██▎       | 93/413 [02:19<07:59,  1.50s/it, loss=0.361]\u001b[A\n",
      " 23%|██▎       | 94/413 [02:19<07:53,  1.48s/it, loss=0.361]\u001b[A\n",
      " 23%|██▎       | 94/413 [02:20<07:58,  1.50s/it, loss=0.364]\u001b[A\n",
      " 23%|██▎       | 95/413 [02:20<07:51,  1.48s/it, loss=0.364]\u001b[A\n",
      " 23%|██▎       | 95/413 [02:22<07:56,  1.50s/it, loss=0.363]\u001b[A\n",
      " 23%|██▎       | 96/413 [02:22<07:50,  1.48s/it, loss=0.363]\u001b[A\n",
      " 23%|██▎       | 96/413 [02:23<07:54,  1.50s/it, loss=0.364]\u001b[A\n",
      " 23%|██▎       | 97/413 [02:23<07:48,  1.48s/it, loss=0.364]\u001b[A\n",
      " 23%|██▎       | 97/413 [02:25<07:53,  1.50s/it, loss=0.363]\u001b[A\n",
      " 24%|██▎       | 98/413 [02:25<07:47,  1.48s/it, loss=0.363]\u001b[A\n",
      " 24%|██▎       | 98/413 [02:26<07:51,  1.50s/it, loss=0.363]\u001b[A\n",
      " 24%|██▍       | 99/413 [02:26<07:45,  1.48s/it, loss=0.363]\u001b[A\n",
      " 24%|██▍       | 99/413 [02:28<07:50,  1.50s/it, loss=0.364]\u001b[A\n",
      " 24%|██▍       | 100/413 [02:28<07:44,  1.48s/it, loss=0.364]\u001b[A\n",
      " 24%|██▍       | 100/413 [02:29<07:48,  1.50s/it, loss=0.37] \u001b[A\n",
      " 24%|██▍       | 101/413 [02:29<07:42,  1.48s/it, loss=0.37]\u001b[A\n",
      " 24%|██▍       | 101/413 [02:31<07:47,  1.50s/it, loss=0.374]\u001b[A\n",
      " 25%|██▍       | 102/413 [02:31<07:40,  1.48s/it, loss=0.374]\u001b[A\n",
      " 25%|██▍       | 102/413 [02:32<07:45,  1.50s/it, loss=0.371]\u001b[A\n",
      " 25%|██▍       | 103/413 [02:32<07:39,  1.48s/it, loss=0.371]\u001b[A\n",
      " 25%|██▍       | 103/413 [02:34<07:43,  1.50s/it, loss=0.375]\u001b[A\n",
      " 25%|██▌       | 104/413 [02:34<07:37,  1.48s/it, loss=0.375]\u001b[A\n",
      " 25%|██▌       | 104/413 [02:35<07:42,  1.50s/it, loss=0.373]\u001b[A\n",
      " 25%|██▌       | 105/413 [02:35<07:36,  1.48s/it, loss=0.373]\u001b[A\n",
      " 25%|██▌       | 105/413 [02:37<07:40,  1.50s/it, loss=0.372]\u001b[A\n",
      " 26%|██▌       | 106/413 [02:37<07:34,  1.48s/it, loss=0.372]\u001b[A\n",
      " 26%|██▌       | 106/413 [02:38<07:39,  1.50s/it, loss=0.376]\u001b[A\n",
      " 26%|██▌       | 107/413 [02:38<07:33,  1.48s/it, loss=0.376]\u001b[A\n",
      " 26%|██▌       | 107/413 [02:40<07:37,  1.50s/it, loss=0.375]\u001b[A\n",
      " 26%|██▌       | 108/413 [02:40<07:32,  1.48s/it, loss=0.375]\u001b[A\n",
      " 26%|██▌       | 108/413 [02:41<07:36,  1.50s/it, loss=0.377]\u001b[A\n",
      " 26%|██▋       | 109/413 [02:41<07:30,  1.48s/it, loss=0.377]\u001b[A\n",
      " 26%|██▋       | 109/413 [02:43<07:34,  1.50s/it, loss=0.376]\u001b[A\n",
      " 27%|██▋       | 110/413 [02:43<07:29,  1.48s/it, loss=0.376]\u001b[A\n",
      " 27%|██▋       | 110/413 [02:44<07:33,  1.50s/it, loss=0.379]\u001b[A\n",
      " 27%|██▋       | 111/413 [02:44<07:27,  1.48s/it, loss=0.379]\u001b[A\n",
      " 27%|██▋       | 111/413 [02:45<07:31,  1.50s/it, loss=0.379]\u001b[A\n",
      " 27%|██▋       | 112/413 [02:45<07:26,  1.48s/it, loss=0.379]\u001b[A\n",
      " 27%|██▋       | 112/413 [02:47<07:29,  1.49s/it, loss=0.377]\u001b[A\n",
      " 27%|██▋       | 113/413 [02:47<07:24,  1.48s/it, loss=0.377]\u001b[A\n",
      " 27%|██▋       | 113/413 [02:48<07:28,  1.49s/it, loss=0.374]\u001b[A\n",
      " 28%|██▊       | 114/413 [02:48<07:23,  1.48s/it, loss=0.374]\u001b[A\n",
      " 28%|██▊       | 114/413 [02:50<07:26,  1.49s/it, loss=0.374]\u001b[A\n",
      " 28%|██▊       | 115/413 [02:50<07:21,  1.48s/it, loss=0.374]\u001b[A\n",
      " 28%|██▊       | 115/413 [02:51<07:25,  1.49s/it, loss=0.378]\u001b[A\n",
      " 28%|██▊       | 116/413 [02:51<07:20,  1.48s/it, loss=0.378]\u001b[A\n",
      " 28%|██▊       | 116/413 [02:53<07:23,  1.49s/it, loss=0.372]\u001b[A\n",
      " 28%|██▊       | 117/413 [02:53<07:18,  1.48s/it, loss=0.372]\u001b[A\n",
      " 28%|██▊       | 117/413 [02:54<07:22,  1.49s/it, loss=0.369]\u001b[A\n",
      " 29%|██▊       | 118/413 [02:54<07:17,  1.48s/it, loss=0.369]\u001b[A\n",
      " 29%|██▊       | 118/413 [02:56<07:20,  1.49s/it, loss=0.372]\u001b[A\n",
      " 29%|██▉       | 119/413 [02:56<07:15,  1.48s/it, loss=0.372]\u001b[A\n",
      " 29%|██▉       | 119/413 [02:57<07:19,  1.49s/it, loss=0.372]\u001b[A\n",
      " 29%|██▉       | 120/413 [02:57<07:14,  1.48s/it, loss=0.372]\u001b[A\n",
      " 29%|██▉       | 120/413 [02:59<07:17,  1.49s/it, loss=0.372]\u001b[A\n",
      " 29%|██▉       | 121/413 [02:59<07:12,  1.48s/it, loss=0.372]\u001b[A\n",
      " 29%|██▉       | 121/413 [03:00<07:16,  1.49s/it, loss=0.374]\u001b[A\n",
      " 30%|██▉       | 122/413 [03:00<07:11,  1.48s/it, loss=0.374]\u001b[A\n",
      " 30%|██▉       | 122/413 [03:02<07:14,  1.49s/it, loss=0.374]\u001b[A\n",
      " 30%|██▉       | 123/413 [03:02<07:09,  1.48s/it, loss=0.374]\u001b[A\n",
      " 30%|██▉       | 123/413 [03:03<07:13,  1.49s/it, loss=0.374]\u001b[A\n",
      " 30%|███       | 124/413 [03:03<07:08,  1.48s/it, loss=0.374]\u001b[A\n",
      " 30%|███       | 124/413 [03:05<07:11,  1.49s/it, loss=0.376]\u001b[A\n",
      " 30%|███       | 125/413 [03:05<07:06,  1.48s/it, loss=0.376]\u001b[A\n",
      " 30%|███       | 125/413 [03:06<07:10,  1.49s/it, loss=0.372]\u001b[A\n",
      " 31%|███       | 126/413 [03:06<07:05,  1.48s/it, loss=0.372]\u001b[A\n",
      " 31%|███       | 126/413 [03:08<07:08,  1.49s/it, loss=0.373]\u001b[A\n",
      " 31%|███       | 127/413 [03:08<07:03,  1.48s/it, loss=0.373]\u001b[A\n",
      " 31%|███       | 127/413 [03:09<07:07,  1.49s/it, loss=0.37] \u001b[A\n",
      " 31%|███       | 128/413 [03:09<07:02,  1.48s/it, loss=0.37]\u001b[A\n",
      " 31%|███       | 128/413 [03:11<07:05,  1.49s/it, loss=0.373]\u001b[A\n",
      " 31%|███       | 129/413 [03:11<07:00,  1.48s/it, loss=0.373]\u001b[A\n",
      " 31%|███       | 129/413 [03:12<07:04,  1.49s/it, loss=0.37] \u001b[A\n"
     ]
    },
    {
     "name": "stdout",
     "output_type": "stream",
     "text": [
      " 31%|███▏      | 130/413 [03:12<06:59,  1.48s/it, loss=0.37]\u001b[A\n",
      " 31%|███▏      | 130/413 [03:14<07:02,  1.49s/it, loss=0.367]\u001b[A\n",
      " 32%|███▏      | 131/413 [03:14<06:57,  1.48s/it, loss=0.367]\u001b[A\n",
      " 32%|███▏      | 131/413 [03:15<07:00,  1.49s/it, loss=0.366]\u001b[A\n",
      " 32%|███▏      | 132/413 [03:15<06:56,  1.48s/it, loss=0.366]\u001b[A\n",
      " 32%|███▏      | 132/413 [03:17<06:59,  1.49s/it, loss=0.363]\u001b[A\n",
      " 32%|███▏      | 133/413 [03:17<06:54,  1.48s/it, loss=0.363]\u001b[A\n",
      " 32%|███▏      | 133/413 [03:18<06:57,  1.49s/it, loss=0.36] \u001b[A\n",
      " 32%|███▏      | 134/413 [03:18<06:53,  1.48s/it, loss=0.36]\u001b[A\n",
      " 32%|███▏      | 134/413 [03:19<06:56,  1.49s/it, loss=0.357]\u001b[A\n",
      " 33%|███▎      | 135/413 [03:20<06:51,  1.48s/it, loss=0.357]\u001b[A\n",
      " 33%|███▎      | 135/413 [03:21<06:54,  1.49s/it, loss=0.357]\u001b[A\n",
      " 33%|███▎      | 136/413 [03:21<06:50,  1.48s/it, loss=0.357]\u001b[A\n",
      " 33%|███▎      | 136/413 [03:22<06:53,  1.49s/it, loss=0.36] \u001b[A\n",
      " 33%|███▎      | 137/413 [03:22<06:48,  1.48s/it, loss=0.36]\u001b[A\n",
      " 33%|███▎      | 137/413 [03:24<06:51,  1.49s/it, loss=0.363]\u001b[A\n",
      " 33%|███▎      | 138/413 [03:24<06:47,  1.48s/it, loss=0.363]\u001b[A\n",
      " 33%|███▎      | 138/413 [03:25<06:50,  1.49s/it, loss=0.364]\u001b[A\n",
      " 34%|███▎      | 139/413 [03:25<06:45,  1.48s/it, loss=0.364]\u001b[A\n",
      " 34%|███▎      | 139/413 [03:27<06:48,  1.49s/it, loss=0.365]\u001b[A\n",
      " 34%|███▍      | 140/413 [03:27<06:44,  1.48s/it, loss=0.365]\u001b[A\n",
      " 34%|███▍      | 140/413 [03:28<06:47,  1.49s/it, loss=0.366]\u001b[A\n",
      " 34%|███▍      | 141/413 [03:28<06:42,  1.48s/it, loss=0.366]\u001b[A\n",
      " 34%|███▍      | 141/413 [03:30<06:45,  1.49s/it, loss=0.365]\u001b[A\n",
      " 34%|███▍      | 142/413 [03:30<06:41,  1.48s/it, loss=0.365]\u001b[A\n",
      " 34%|███▍      | 142/413 [03:31<06:44,  1.49s/it, loss=0.367]\u001b[A\n",
      " 35%|███▍      | 143/413 [03:31<06:39,  1.48s/it, loss=0.367]\u001b[A\n",
      " 35%|███▍      | 143/413 [03:33<06:42,  1.49s/it, loss=0.367]\u001b[A\n",
      " 35%|███▍      | 144/413 [03:33<06:38,  1.48s/it, loss=0.367]\u001b[A\n",
      " 35%|███▍      | 144/413 [03:34<06:41,  1.49s/it, loss=0.368]\u001b[A\n",
      " 35%|███▌      | 145/413 [03:34<06:36,  1.48s/it, loss=0.368]\u001b[A\n",
      " 35%|███▌      | 145/413 [03:36<06:39,  1.49s/it, loss=0.366]\u001b[A\n",
      " 35%|███▌      | 146/413 [03:36<06:35,  1.48s/it, loss=0.366]\u001b[A\n",
      " 35%|███▌      | 146/413 [03:37<06:37,  1.49s/it, loss=0.372]\u001b[A\n",
      " 36%|███▌      | 147/413 [03:37<06:33,  1.48s/it, loss=0.372]\u001b[A\n",
      " 36%|███▌      | 147/413 [03:39<06:36,  1.49s/it, loss=0.372]\u001b[A\n",
      " 36%|███▌      | 148/413 [03:39<06:32,  1.48s/it, loss=0.372]\u001b[A\n",
      " 36%|███▌      | 148/413 [03:40<06:34,  1.49s/it, loss=0.375]\u001b[A\n",
      " 36%|███▌      | 149/413 [03:40<06:30,  1.48s/it, loss=0.375]\u001b[A\n",
      " 36%|███▌      | 149/413 [03:41<06:33,  1.49s/it, loss=0.377]\u001b[A\n",
      " 36%|███▋      | 150/413 [03:41<06:28,  1.48s/it, loss=0.377]\u001b[A\n",
      " 36%|███▋      | 150/413 [03:43<06:31,  1.49s/it, loss=0.375]\u001b[A\n",
      " 37%|███▋      | 151/413 [03:43<06:27,  1.48s/it, loss=0.375]\u001b[A\n",
      " 37%|███▋      | 151/413 [03:44<06:29,  1.49s/it, loss=0.375]\u001b[A\n",
      " 37%|███▋      | 152/413 [03:44<06:25,  1.48s/it, loss=0.375]\u001b[A\n",
      " 37%|███▋      | 152/413 [03:46<06:28,  1.49s/it, loss=0.378]\u001b[A\n",
      " 37%|███▋      | 153/413 [03:46<06:24,  1.48s/it, loss=0.378]\u001b[A\n",
      " 37%|███▋      | 153/413 [03:47<06:26,  1.49s/it, loss=0.376]\u001b[A\n",
      " 37%|███▋      | 154/413 [03:47<06:22,  1.48s/it, loss=0.376]\u001b[A\n",
      " 37%|███▋      | 154/413 [03:48<06:25,  1.49s/it, loss=0.375]\u001b[A\n",
      " 38%|███▊      | 155/413 [03:48<06:21,  1.48s/it, loss=0.375]\u001b[A\n",
      " 38%|███▊      | 155/413 [03:50<06:23,  1.49s/it, loss=0.376]\u001b[A\n",
      " 38%|███▊      | 156/413 [03:50<06:19,  1.48s/it, loss=0.376]\u001b[A\n",
      " 38%|███▊      | 156/413 [03:51<06:21,  1.49s/it, loss=0.374]\u001b[A\n",
      " 38%|███▊      | 157/413 [03:51<06:17,  1.48s/it, loss=0.374]\u001b[A\n",
      " 38%|███▊      | 157/413 [03:53<06:20,  1.49s/it, loss=0.37] \u001b[A\n",
      " 38%|███▊      | 158/413 [03:53<06:16,  1.48s/it, loss=0.37]\u001b[A\n",
      " 38%|███▊      | 158/413 [03:54<06:18,  1.48s/it, loss=0.366]\u001b[A\n",
      " 38%|███▊      | 159/413 [03:54<06:14,  1.48s/it, loss=0.366]\u001b[A\n",
      " 38%|███▊      | 159/413 [03:56<06:17,  1.48s/it, loss=0.367]\u001b[A\n",
      " 39%|███▊      | 160/413 [03:56<06:13,  1.48s/it, loss=0.367]\u001b[A\n",
      " 39%|███▊      | 160/413 [03:57<06:15,  1.48s/it, loss=0.366]\u001b[A\n",
      " 39%|███▉      | 161/413 [03:57<06:11,  1.47s/it, loss=0.366]\u001b[A\n",
      " 39%|███▉      | 161/413 [03:58<06:13,  1.48s/it, loss=0.365]\u001b[A\n",
      " 39%|███▉      | 162/413 [03:58<06:10,  1.47s/it, loss=0.365]\u001b[A\n",
      " 39%|███▉      | 162/413 [04:00<06:12,  1.48s/it, loss=0.36] \u001b[A\n",
      " 39%|███▉      | 163/413 [04:00<06:08,  1.47s/it, loss=0.36]\u001b[A\n",
      " 39%|███▉      | 163/413 [04:01<06:10,  1.48s/it, loss=0.362]\u001b[A\n",
      " 40%|███▉      | 164/413 [04:01<06:06,  1.47s/it, loss=0.362]\u001b[A\n",
      " 40%|███▉      | 164/413 [04:03<06:09,  1.48s/it, loss=0.361]\u001b[A\n",
      " 40%|███▉      | 165/413 [04:03<06:05,  1.47s/it, loss=0.361]\u001b[A\n",
      " 40%|███▉      | 165/413 [04:04<06:07,  1.48s/it, loss=0.366]\u001b[A\n",
      " 40%|████      | 166/413 [04:04<06:03,  1.47s/it, loss=0.366]\u001b[A\n",
      " 40%|████      | 166/413 [04:05<06:05,  1.48s/it, loss=0.362]\u001b[A\n",
      " 40%|████      | 167/413 [04:05<06:02,  1.47s/it, loss=0.362]\u001b[A\n",
      " 40%|████      | 167/413 [04:07<06:04,  1.48s/it, loss=0.361]\u001b[A\n",
      " 41%|████      | 168/413 [04:07<06:00,  1.47s/it, loss=0.361]\u001b[A\n",
      " 41%|████      | 168/413 [04:08<06:02,  1.48s/it, loss=0.361]\u001b[A\n",
      " 41%|████      | 169/413 [04:08<05:59,  1.47s/it, loss=0.361]\u001b[A\n",
      " 41%|████      | 169/413 [04:10<06:01,  1.48s/it, loss=0.364]\u001b[A\n",
      " 41%|████      | 170/413 [04:10<05:57,  1.47s/it, loss=0.364]\u001b[A\n",
      " 41%|████      | 170/413 [04:11<05:59,  1.48s/it, loss=0.364]\u001b[A\n",
      " 41%|████▏     | 171/413 [04:11<05:56,  1.47s/it, loss=0.364]\u001b[A\n",
      " 41%|████▏     | 171/413 [04:12<05:58,  1.48s/it, loss=0.364]\u001b[A\n",
      " 42%|████▏     | 172/413 [04:12<05:54,  1.47s/it, loss=0.364]\u001b[A\n",
      " 42%|████▏     | 172/413 [04:14<05:56,  1.48s/it, loss=0.368]\u001b[A\n",
      " 42%|████▏     | 173/413 [04:14<05:52,  1.47s/it, loss=0.368]\u001b[A\n",
      " 42%|████▏     | 173/413 [04:15<05:54,  1.48s/it, loss=0.365]\u001b[A\n",
      " 42%|████▏     | 174/413 [04:15<05:51,  1.47s/it, loss=0.365]\u001b[A\n",
      " 42%|████▏     | 174/413 [04:17<05:53,  1.48s/it, loss=0.361]\u001b[A\n",
      " 42%|████▏     | 175/413 [04:17<05:49,  1.47s/it, loss=0.361]\u001b[A\n",
      " 42%|████▏     | 175/413 [04:18<05:51,  1.48s/it, loss=0.357]\u001b[A\n",
      " 43%|████▎     | 176/413 [04:18<05:48,  1.47s/it, loss=0.357]\u001b[A\n",
      " 43%|████▎     | 176/413 [04:20<05:50,  1.48s/it, loss=0.357]\u001b[A\n",
      " 43%|████▎     | 177/413 [04:20<05:46,  1.47s/it, loss=0.357]\u001b[A\n",
      " 43%|████▎     | 177/413 [04:21<05:48,  1.48s/it, loss=0.357]\u001b[A\n",
      " 43%|████▎     | 178/413 [04:21<05:45,  1.47s/it, loss=0.357]\u001b[A\n",
      " 43%|████▎     | 178/413 [04:22<05:47,  1.48s/it, loss=0.355]\u001b[A\n",
      " 43%|████▎     | 179/413 [04:22<05:43,  1.47s/it, loss=0.355]\u001b[A\n",
      " 43%|████▎     | 179/413 [04:24<05:45,  1.48s/it, loss=0.359]\u001b[A\n",
      " 44%|████▎     | 180/413 [04:24<05:42,  1.47s/it, loss=0.359]\u001b[A\n",
      " 44%|████▎     | 180/413 [04:25<05:43,  1.48s/it, loss=0.36] \u001b[A\n",
      " 44%|████▍     | 181/413 [04:25<05:40,  1.47s/it, loss=0.36]\u001b[A\n",
      " 44%|████▍     | 181/413 [04:27<05:42,  1.48s/it, loss=0.357]\u001b[A\n",
      " 44%|████▍     | 182/413 [04:27<05:39,  1.47s/it, loss=0.357]\u001b[A\n",
      " 44%|████▍     | 182/413 [04:28<05:40,  1.48s/it, loss=0.36] \u001b[A\n",
      " 44%|████▍     | 183/413 [04:28<05:37,  1.47s/it, loss=0.36]\u001b[A\n",
      " 44%|████▍     | 183/413 [04:29<05:39,  1.48s/it, loss=0.361]\u001b[A\n",
      " 45%|████▍     | 184/413 [04:29<05:36,  1.47s/it, loss=0.361]\u001b[A\n",
      " 45%|████▍     | 184/413 [04:31<05:37,  1.48s/it, loss=0.36] \u001b[A\n",
      " 45%|████▍     | 185/413 [04:31<05:34,  1.47s/it, loss=0.36]\u001b[A\n",
      " 45%|████▍     | 185/413 [04:32<05:36,  1.47s/it, loss=0.361]\u001b[A\n",
      " 45%|████▌     | 186/413 [04:32<05:32,  1.47s/it, loss=0.361]\u001b[A\n",
      " 45%|████▌     | 186/413 [04:34<05:34,  1.47s/it, loss=0.363]\u001b[A\n",
      " 45%|████▌     | 187/413 [04:34<05:31,  1.47s/it, loss=0.363]\u001b[A\n",
      " 45%|████▌     | 187/413 [04:35<05:33,  1.47s/it, loss=0.361]\u001b[A\n",
      " 46%|████▌     | 188/413 [04:35<05:29,  1.47s/it, loss=0.361]\u001b[A\n",
      " 46%|████▌     | 188/413 [04:37<05:31,  1.47s/it, loss=0.358]\u001b[A\n",
      " 46%|████▌     | 189/413 [04:37<05:28,  1.47s/it, loss=0.358]\u001b[A\n",
      " 46%|████▌     | 189/413 [04:38<05:30,  1.47s/it, loss=0.355]\u001b[A\n",
      " 46%|████▌     | 190/413 [04:38<05:26,  1.47s/it, loss=0.355]\u001b[A\n",
      " 46%|████▌     | 190/413 [04:39<05:28,  1.47s/it, loss=0.355]\u001b[A\n",
      " 46%|████▌     | 191/413 [04:39<05:25,  1.47s/it, loss=0.355]\u001b[A\n",
      " 46%|████▌     | 191/413 [04:41<05:26,  1.47s/it, loss=0.355]\u001b[A\n",
      " 46%|████▋     | 192/413 [04:41<05:23,  1.47s/it, loss=0.355]\u001b[A\n",
      " 46%|████▋     | 192/413 [04:42<05:25,  1.47s/it, loss=0.353]\u001b[A\n",
      " 47%|████▋     | 193/413 [04:42<05:22,  1.46s/it, loss=0.353]\u001b[A\n",
      " 47%|████▋     | 193/413 [04:44<05:23,  1.47s/it, loss=0.349]\u001b[A\n",
      " 47%|████▋     | 194/413 [04:44<05:20,  1.46s/it, loss=0.349]\u001b[A\n",
      " 47%|████▋     | 194/413 [04:45<05:22,  1.47s/it, loss=0.349]\u001b[A\n",
      " 47%|████▋     | 195/413 [04:45<05:19,  1.46s/it, loss=0.349]\u001b[A\n",
      " 47%|████▋     | 195/413 [04:46<05:20,  1.47s/it, loss=0.348]\u001b[A\n",
      " 47%|████▋     | 196/413 [04:46<05:17,  1.46s/it, loss=0.348]\u001b[A\n",
      " 47%|████▋     | 196/413 [04:48<05:19,  1.47s/it, loss=0.352]\u001b[A\n",
      " 48%|████▊     | 197/413 [04:48<05:16,  1.46s/it, loss=0.352]\u001b[A\n",
      " 48%|████▊     | 197/413 [04:49<05:17,  1.47s/it, loss=0.352]\u001b[A\n",
      " 48%|████▊     | 198/413 [04:49<05:14,  1.46s/it, loss=0.352]\u001b[A\n",
      " 48%|████▊     | 198/413 [04:51<05:16,  1.47s/it, loss=0.349]\u001b[A\n",
      " 48%|████▊     | 199/413 [04:51<05:13,  1.46s/it, loss=0.349]\u001b[A\n",
      " 48%|████▊     | 199/413 [04:52<05:14,  1.47s/it, loss=0.35] \u001b[A\n",
      " 48%|████▊     | 200/413 [04:52<05:11,  1.46s/it, loss=0.35]\u001b[A\n",
      " 48%|████▊     | 200/413 [04:54<05:13,  1.47s/it, loss=0.354]\u001b[A\n",
      " 49%|████▊     | 201/413 [04:54<05:10,  1.46s/it, loss=0.354]\u001b[A\n",
      " 49%|████▊     | 201/413 [04:55<05:11,  1.47s/it, loss=0.355]\u001b[A\n",
      " 49%|████▉     | 202/413 [04:55<05:08,  1.46s/it, loss=0.355]\u001b[A\n",
      " 49%|████▉     | 202/413 [04:56<05:10,  1.47s/it, loss=0.354]\u001b[A\n",
      " 49%|████▉     | 203/413 [04:56<05:07,  1.46s/it, loss=0.354]\u001b[A\n",
      " 49%|████▉     | 203/413 [04:58<05:08,  1.47s/it, loss=0.353]\u001b[A\n",
      " 49%|████▉     | 204/413 [04:58<05:05,  1.46s/it, loss=0.353]\u001b[A\n",
      " 49%|████▉     | 204/413 [04:59<05:07,  1.47s/it, loss=0.352]\u001b[A\n",
      " 50%|████▉     | 205/413 [04:59<05:04,  1.46s/it, loss=0.352]\u001b[A\n",
      " 50%|████▉     | 205/413 [05:01<05:05,  1.47s/it, loss=0.351]\u001b[A\n",
      " 50%|████▉     | 206/413 [05:01<05:02,  1.46s/it, loss=0.351]\u001b[A\n",
      " 50%|████▉     | 206/413 [05:02<05:04,  1.47s/it, loss=0.353]\u001b[A\n",
      " 50%|█████     | 207/413 [05:02<05:01,  1.46s/it, loss=0.353]\u001b[A\n",
      " 50%|█████     | 207/413 [05:03<05:02,  1.47s/it, loss=0.352]\u001b[A\n",
      " 50%|█████     | 208/413 [05:03<04:59,  1.46s/it, loss=0.352]\u001b[A\n",
      " 50%|█████     | 208/413 [05:05<05:00,  1.47s/it, loss=0.352]\u001b[A\n",
      " 51%|█████     | 209/413 [05:05<04:58,  1.46s/it, loss=0.352]\u001b[A\n",
      " 51%|█████     | 209/413 [05:06<04:59,  1.47s/it, loss=0.351]\u001b[A\n",
      " 51%|█████     | 210/413 [05:06<04:56,  1.46s/it, loss=0.351]\u001b[A\n",
      " 51%|█████     | 210/413 [05:08<04:57,  1.47s/it, loss=0.35] \u001b[A\n",
      " 51%|█████     | 211/413 [05:08<04:55,  1.46s/it, loss=0.35]\u001b[A\n",
      " 51%|█████     | 211/413 [05:09<04:56,  1.47s/it, loss=0.351]\u001b[A\n",
      " 51%|█████▏    | 212/413 [05:09<04:53,  1.46s/it, loss=0.351]\u001b[A\n",
      " 51%|█████▏    | 212/413 [05:11<04:54,  1.47s/it, loss=0.35] \u001b[A\n",
      " 52%|█████▏    | 213/413 [05:11<04:52,  1.46s/it, loss=0.35]\u001b[A\n",
      " 52%|█████▏    | 213/413 [05:12<04:53,  1.47s/it, loss=0.35]\u001b[A\n",
      " 52%|█████▏    | 214/413 [05:12<04:50,  1.46s/it, loss=0.35]\u001b[A\n",
      " 52%|█████▏    | 214/413 [05:13<04:51,  1.47s/it, loss=0.35]\u001b[A\n",
      " 52%|█████▏    | 215/413 [05:13<04:49,  1.46s/it, loss=0.35]\u001b[A\n",
      " 52%|█████▏    | 215/413 [05:15<04:50,  1.47s/it, loss=0.352]\u001b[A\n",
      " 52%|█████▏    | 216/413 [05:15<04:47,  1.46s/it, loss=0.352]\u001b[A\n",
      " 52%|█████▏    | 216/413 [05:16<04:48,  1.47s/it, loss=0.353]\u001b[A\n",
      " 53%|█████▎    | 217/413 [05:16<04:46,  1.46s/it, loss=0.353]\u001b[A\n",
      " 53%|█████▎    | 217/413 [05:18<04:47,  1.47s/it, loss=0.351]\u001b[A\n",
      " 53%|█████▎    | 218/413 [05:18<04:44,  1.46s/it, loss=0.351]\u001b[A\n",
      " 53%|█████▎    | 218/413 [05:19<04:45,  1.47s/it, loss=0.351]\u001b[A\n",
      " 53%|█████▎    | 219/413 [05:19<04:43,  1.46s/it, loss=0.351]\u001b[A\n",
      " 53%|█████▎    | 219/413 [05:20<04:44,  1.47s/it, loss=0.352]\u001b[A\n",
      " 53%|█████▎    | 220/413 [05:20<04:41,  1.46s/it, loss=0.352]\u001b[A\n",
      " 53%|█████▎    | 220/413 [05:22<04:42,  1.47s/it, loss=0.353]\u001b[A\n",
      " 54%|█████▎    | 221/413 [05:22<04:40,  1.46s/it, loss=0.353]\u001b[A\n",
      " 54%|█████▎    | 221/413 [05:23<04:41,  1.47s/it, loss=0.352]\u001b[A\n",
      " 54%|█████▍    | 222/413 [05:23<04:38,  1.46s/it, loss=0.352]\u001b[A\n",
      " 54%|█████▍    | 222/413 [05:25<04:39,  1.46s/it, loss=0.355]\u001b[A\n",
      " 54%|█████▍    | 223/413 [05:25<04:37,  1.46s/it, loss=0.355]\u001b[A\n",
      " 54%|█████▍    | 223/413 [05:26<04:38,  1.46s/it, loss=0.354]\u001b[A\n",
      " 54%|█████▍    | 224/413 [05:26<04:35,  1.46s/it, loss=0.354]\u001b[A\n",
      " 54%|█████▍    | 224/413 [05:28<04:36,  1.46s/it, loss=0.359]\u001b[A\n",
      " 54%|█████▍    | 225/413 [05:28<04:34,  1.46s/it, loss=0.359]\u001b[A\n",
      " 54%|█████▍    | 225/413 [05:29<04:35,  1.46s/it, loss=0.356]\u001b[A\n",
      " 55%|█████▍    | 226/413 [05:29<04:32,  1.46s/it, loss=0.356]\u001b[A\n",
      " 55%|█████▍    | 226/413 [05:30<04:33,  1.46s/it, loss=0.358]\u001b[A\n",
      " 55%|█████▍    | 227/413 [05:30<04:31,  1.46s/it, loss=0.358]\u001b[A\n",
      " 55%|█████▍    | 227/413 [05:32<04:32,  1.46s/it, loss=0.362]\u001b[A\n",
      " 55%|█████▌    | 228/413 [05:32<04:29,  1.46s/it, loss=0.362]\u001b[A\n",
      " 55%|█████▌    | 228/413 [05:33<04:30,  1.46s/it, loss=0.367]\u001b[A\n",
      " 55%|█████▌    | 229/413 [05:33<04:28,  1.46s/it, loss=0.367]\u001b[A\n",
      " 55%|█████▌    | 229/413 [05:35<04:29,  1.46s/it, loss=0.365]\u001b[A\n",
      " 56%|█████▌    | 230/413 [05:35<04:26,  1.46s/it, loss=0.365]\u001b[A\n",
      " 56%|█████▌    | 230/413 [05:36<04:27,  1.46s/it, loss=0.361]\u001b[A\n",
      " 56%|█████▌    | 231/413 [05:36<04:25,  1.46s/it, loss=0.361]\u001b[A\n",
      " 56%|█████▌    | 231/413 [05:37<04:26,  1.46s/it, loss=0.36] \u001b[A\n",
      " 56%|█████▌    | 232/413 [05:37<04:23,  1.46s/it, loss=0.36]\u001b[A\n",
      " 56%|█████▌    | 232/413 [05:39<04:24,  1.46s/it, loss=0.361]\u001b[A\n",
      " 56%|█████▋    | 233/413 [05:39<04:22,  1.46s/it, loss=0.361]\u001b[A\n",
      " 56%|█████▋    | 233/413 [05:40<04:23,  1.46s/it, loss=0.359]\u001b[A\n",
      " 57%|█████▋    | 234/413 [05:40<04:20,  1.46s/it, loss=0.359]\u001b[A\n",
      " 57%|█████▋    | 234/413 [05:42<04:21,  1.46s/it, loss=0.359]\u001b[A\n",
      " 57%|█████▋    | 235/413 [05:42<04:19,  1.46s/it, loss=0.359]\u001b[A\n",
      " 57%|█████▋    | 235/413 [05:43<04:20,  1.46s/it, loss=0.363]\u001b[A\n",
      " 57%|█████▋    | 236/413 [05:43<04:17,  1.46s/it, loss=0.363]\u001b[A\n",
      " 57%|█████▋    | 236/413 [05:45<04:18,  1.46s/it, loss=0.362]\u001b[A\n",
      " 57%|█████▋    | 237/413 [05:45<04:16,  1.46s/it, loss=0.362]\u001b[A\n",
      " 57%|█████▋    | 237/413 [05:46<04:17,  1.46s/it, loss=0.362]\u001b[A\n",
      " 58%|█████▊    | 238/413 [05:46<04:14,  1.46s/it, loss=0.362]\u001b[A\n",
      " 58%|█████▊    | 238/413 [05:47<04:15,  1.46s/it, loss=0.364]\u001b[A\n",
      " 58%|█████▊    | 239/413 [05:47<04:13,  1.46s/it, loss=0.364]\u001b[A\n",
      " 58%|█████▊    | 239/413 [05:49<04:14,  1.46s/it, loss=0.366]\u001b[A\n",
      " 58%|█████▊    | 240/413 [05:49<04:11,  1.46s/it, loss=0.366]\u001b[A\n",
      " 58%|█████▊    | 240/413 [05:50<04:12,  1.46s/it, loss=0.367]\u001b[A\n",
      " 58%|█████▊    | 241/413 [05:50<04:10,  1.46s/it, loss=0.367]\u001b[A\n",
      " 58%|█████▊    | 241/413 [05:52<04:11,  1.46s/it, loss=0.372]\u001b[A\n",
      " 59%|█████▊    | 242/413 [05:52<04:08,  1.46s/it, loss=0.372]\u001b[A\n",
      " 59%|█████▊    | 242/413 [05:53<04:09,  1.46s/it, loss=0.373]\u001b[A\n",
      " 59%|█████▉    | 243/413 [05:53<04:07,  1.45s/it, loss=0.373]\u001b[A\n",
      " 59%|█████▉    | 243/413 [05:54<04:08,  1.46s/it, loss=0.37] \u001b[A\n",
      " 59%|█████▉    | 244/413 [05:54<04:05,  1.45s/it, loss=0.37]\u001b[A\n",
      " 59%|█████▉    | 244/413 [05:56<04:06,  1.46s/it, loss=0.373]\u001b[A\n",
      " 59%|█████▉    | 245/413 [05:56<04:04,  1.45s/it, loss=0.373]\u001b[A\n",
      " 59%|█████▉    | 245/413 [05:57<04:05,  1.46s/it, loss=0.373]\u001b[A\n",
      " 60%|█████▉    | 246/413 [05:57<04:02,  1.45s/it, loss=0.373]\u001b[A\n",
      " 60%|█████▉    | 246/413 [05:59<04:03,  1.46s/it, loss=0.371]\u001b[A\n",
      " 60%|█████▉    | 247/413 [05:59<04:01,  1.45s/it, loss=0.371]\u001b[A\n",
      " 60%|█████▉    | 247/413 [06:00<04:02,  1.46s/it, loss=0.369]\u001b[A\n",
      " 60%|██████    | 248/413 [06:00<03:59,  1.45s/it, loss=0.369]\u001b[A\n",
      " 60%|██████    | 248/413 [06:02<04:00,  1.46s/it, loss=0.37] \u001b[A\n",
      " 60%|██████    | 249/413 [06:02<03:58,  1.45s/it, loss=0.37]\u001b[A\n",
      " 60%|██████    | 249/413 [06:03<03:59,  1.46s/it, loss=0.368]\u001b[A\n",
      " 61%|██████    | 250/413 [06:03<03:56,  1.45s/it, loss=0.368]\u001b[A\n",
      " 61%|██████    | 250/413 [06:04<03:57,  1.46s/it, loss=0.365]\u001b[A\n",
      " 61%|██████    | 251/413 [06:04<03:55,  1.45s/it, loss=0.365]\u001b[A\n",
      " 61%|██████    | 251/413 [06:06<03:56,  1.46s/it, loss=0.365]\u001b[A\n",
      " 61%|██████    | 252/413 [06:06<03:54,  1.45s/it, loss=0.365]\u001b[A\n",
      " 61%|██████    | 252/413 [06:07<03:54,  1.46s/it, loss=0.365]\u001b[A\n",
      " 61%|██████▏   | 253/413 [06:07<03:52,  1.45s/it, loss=0.365]\u001b[A\n",
      " 61%|██████▏   | 253/413 [06:09<03:53,  1.46s/it, loss=0.368]\u001b[A\n",
      " 62%|██████▏   | 254/413 [06:09<03:51,  1.45s/it, loss=0.368]\u001b[A\n",
      " 62%|██████▏   | 254/413 [06:10<03:51,  1.46s/it, loss=0.366]\u001b[A\n",
      " 62%|██████▏   | 255/413 [06:10<03:49,  1.45s/it, loss=0.366]\u001b[A\n",
      " 62%|██████▏   | 255/413 [06:11<03:50,  1.46s/it, loss=0.366]\u001b[A\n"
     ]
    },
    {
     "name": "stdout",
     "output_type": "stream",
     "text": [
      " 62%|██████▏   | 256/413 [06:11<03:48,  1.45s/it, loss=0.366]\u001b[A\n",
      " 62%|██████▏   | 256/413 [06:13<03:48,  1.46s/it, loss=0.364]\u001b[A\n",
      " 62%|██████▏   | 257/413 [06:13<03:46,  1.45s/it, loss=0.364]\u001b[A\n",
      " 62%|██████▏   | 257/413 [06:14<03:47,  1.46s/it, loss=0.361]\u001b[A\n",
      " 62%|██████▏   | 258/413 [06:14<03:45,  1.45s/it, loss=0.361]\u001b[A\n",
      " 62%|██████▏   | 258/413 [06:16<03:46,  1.46s/it, loss=0.361]\u001b[A\n",
      " 63%|██████▎   | 259/413 [06:16<03:43,  1.45s/it, loss=0.361]\u001b[A\n",
      " 63%|██████▎   | 259/413 [06:17<03:44,  1.46s/it, loss=0.362]\u001b[A\n",
      " 63%|██████▎   | 260/413 [06:17<03:42,  1.45s/it, loss=0.362]\u001b[A\n",
      " 63%|██████▎   | 260/413 [06:19<03:43,  1.46s/it, loss=0.362]\u001b[A\n",
      " 63%|██████▎   | 261/413 [06:19<03:40,  1.45s/it, loss=0.362]\u001b[A\n",
      " 63%|██████▎   | 261/413 [06:20<03:41,  1.46s/it, loss=0.366]\u001b[A\n",
      " 63%|██████▎   | 262/413 [06:20<03:39,  1.45s/it, loss=0.366]\u001b[A\n",
      " 63%|██████▎   | 262/413 [06:21<03:40,  1.46s/it, loss=0.367]\u001b[A\n",
      " 64%|██████▎   | 263/413 [06:21<03:37,  1.45s/it, loss=0.367]\u001b[A\n",
      " 64%|██████▎   | 263/413 [06:23<03:38,  1.46s/it, loss=0.37] \u001b[A\n",
      " 64%|██████▍   | 264/413 [06:23<03:36,  1.45s/it, loss=0.37]\u001b[A\n",
      " 64%|██████▍   | 264/413 [06:24<03:37,  1.46s/it, loss=0.371]\u001b[A\n",
      " 64%|██████▍   | 265/413 [06:24<03:34,  1.45s/it, loss=0.371]\u001b[A\n",
      " 64%|██████▍   | 265/413 [06:26<03:35,  1.46s/it, loss=0.369]\u001b[A\n",
      " 64%|██████▍   | 266/413 [06:26<03:33,  1.45s/it, loss=0.369]\u001b[A\n",
      " 64%|██████▍   | 266/413 [06:27<03:34,  1.46s/it, loss=0.368]\u001b[A\n",
      " 65%|██████▍   | 267/413 [06:27<03:31,  1.45s/it, loss=0.368]\u001b[A\n",
      " 65%|██████▍   | 267/413 [06:28<03:32,  1.46s/it, loss=0.367]\u001b[A\n",
      " 65%|██████▍   | 268/413 [06:28<03:30,  1.45s/it, loss=0.367]\u001b[A\n",
      " 65%|██████▍   | 268/413 [06:30<03:31,  1.46s/it, loss=0.37] \u001b[A\n",
      " 65%|██████▌   | 269/413 [06:30<03:28,  1.45s/it, loss=0.37]\u001b[A\n",
      " 65%|██████▌   | 269/413 [06:31<03:29,  1.46s/it, loss=0.369]\u001b[A\n",
      " 65%|██████▌   | 270/413 [06:31<03:27,  1.45s/it, loss=0.369]\u001b[A\n",
      " 65%|██████▌   | 270/413 [06:33<03:28,  1.46s/it, loss=0.368]\u001b[A\n",
      " 66%|██████▌   | 271/413 [06:33<03:26,  1.45s/it, loss=0.368]\u001b[A\n",
      " 66%|██████▌   | 271/413 [06:34<03:26,  1.46s/it, loss=0.366]\u001b[A\n",
      " 66%|██████▌   | 272/413 [06:34<03:24,  1.45s/it, loss=0.366]\u001b[A\n",
      " 66%|██████▌   | 272/413 [06:35<03:25,  1.46s/it, loss=0.363]\u001b[A\n",
      " 66%|██████▌   | 273/413 [06:35<03:23,  1.45s/it, loss=0.363]\u001b[A\n",
      " 66%|██████▌   | 273/413 [06:37<03:23,  1.46s/it, loss=0.365]\u001b[A\n",
      " 66%|██████▋   | 274/413 [06:37<03:21,  1.45s/it, loss=0.365]\u001b[A\n",
      " 66%|██████▋   | 274/413 [06:38<03:22,  1.46s/it, loss=0.366]\u001b[A\n",
      " 67%|██████▋   | 275/413 [06:38<03:20,  1.45s/it, loss=0.366]\u001b[A\n",
      " 67%|██████▋   | 275/413 [06:40<03:20,  1.46s/it, loss=0.363]\u001b[A\n",
      " 67%|██████▋   | 276/413 [06:40<03:18,  1.45s/it, loss=0.363]\u001b[A\n",
      " 67%|██████▋   | 276/413 [06:41<03:19,  1.46s/it, loss=0.362]\u001b[A\n",
      " 67%|██████▋   | 277/413 [06:41<03:17,  1.45s/it, loss=0.362]\u001b[A\n",
      " 67%|██████▋   | 277/413 [06:43<03:17,  1.46s/it, loss=0.363]\u001b[A\n",
      " 67%|██████▋   | 278/413 [06:43<03:15,  1.45s/it, loss=0.363]\u001b[A\n",
      " 67%|██████▋   | 278/413 [06:44<03:16,  1.46s/it, loss=0.367]\u001b[A\n",
      " 68%|██████▊   | 279/413 [06:44<03:14,  1.45s/it, loss=0.367]\u001b[A\n",
      " 68%|██████▊   | 279/413 [06:45<03:14,  1.45s/it, loss=0.366]\u001b[A\n",
      " 68%|██████▊   | 280/413 [06:45<03:12,  1.45s/it, loss=0.366]\u001b[A\n",
      " 68%|██████▊   | 280/413 [06:47<03:13,  1.45s/it, loss=0.365]\u001b[A\n",
      " 68%|██████▊   | 281/413 [06:47<03:11,  1.45s/it, loss=0.365]\u001b[A\n",
      " 68%|██████▊   | 281/413 [06:48<03:12,  1.45s/it, loss=0.37] \u001b[A\n",
      " 68%|██████▊   | 282/413 [06:48<03:09,  1.45s/it, loss=0.37]\u001b[A\n",
      " 68%|██████▊   | 282/413 [06:50<03:10,  1.45s/it, loss=0.368]\u001b[A\n",
      " 69%|██████▊   | 283/413 [06:50<03:08,  1.45s/it, loss=0.368]\u001b[A\n",
      " 69%|██████▊   | 283/413 [06:51<03:09,  1.45s/it, loss=0.367]\u001b[A\n",
      " 69%|██████▉   | 284/413 [06:51<03:06,  1.45s/it, loss=0.367]\u001b[A\n",
      " 69%|██████▉   | 284/413 [06:52<03:07,  1.45s/it, loss=0.375]\u001b[A\n",
      " 69%|██████▉   | 285/413 [06:53<03:05,  1.45s/it, loss=0.375]\u001b[A\n",
      " 69%|██████▉   | 285/413 [06:54<03:06,  1.45s/it, loss=0.379]\u001b[A\n",
      " 69%|██████▉   | 286/413 [06:54<03:04,  1.45s/it, loss=0.379]\u001b[A\n",
      " 69%|██████▉   | 286/413 [06:55<03:04,  1.45s/it, loss=0.378]\u001b[A\n",
      " 69%|██████▉   | 287/413 [06:55<03:02,  1.45s/it, loss=0.378]\u001b[A\n",
      " 69%|██████▉   | 287/413 [06:57<03:03,  1.45s/it, loss=0.378]\u001b[A\n",
      " 70%|██████▉   | 288/413 [06:57<03:01,  1.45s/it, loss=0.378]\u001b[A\n",
      " 70%|██████▉   | 288/413 [06:58<03:01,  1.45s/it, loss=0.379]\u001b[A\n",
      " 70%|██████▉   | 289/413 [06:58<02:59,  1.45s/it, loss=0.379]\u001b[A\n",
      " 70%|██████▉   | 289/413 [07:00<03:00,  1.45s/it, loss=0.38] \u001b[A\n",
      " 70%|███████   | 290/413 [07:00<02:58,  1.45s/it, loss=0.38]\u001b[A\n",
      " 70%|███████   | 290/413 [07:01<02:58,  1.45s/it, loss=0.377]\u001b[A\n",
      " 70%|███████   | 291/413 [07:01<02:56,  1.45s/it, loss=0.377]\u001b[A\n",
      " 70%|███████   | 291/413 [07:02<02:57,  1.45s/it, loss=0.375]\u001b[A\n",
      " 71%|███████   | 292/413 [07:02<02:55,  1.45s/it, loss=0.375]\u001b[A\n",
      " 71%|███████   | 292/413 [07:04<02:55,  1.45s/it, loss=0.372]\u001b[A\n",
      " 71%|███████   | 293/413 [07:04<02:53,  1.45s/it, loss=0.372]\u001b[A\n",
      " 71%|███████   | 293/413 [07:05<02:54,  1.45s/it, loss=0.37] \u001b[A\n",
      " 71%|███████   | 294/413 [07:05<02:52,  1.45s/it, loss=0.37]\u001b[A\n",
      " 71%|███████   | 294/413 [07:07<02:52,  1.45s/it, loss=0.372]\u001b[A\n",
      " 71%|███████▏  | 295/413 [07:07<02:50,  1.45s/it, loss=0.372]\u001b[A\n",
      " 71%|███████▏  | 295/413 [07:08<02:51,  1.45s/it, loss=0.372]\u001b[A\n",
      " 72%|███████▏  | 296/413 [07:08<02:49,  1.45s/it, loss=0.372]\u001b[A\n",
      " 72%|███████▏  | 296/413 [07:09<02:49,  1.45s/it, loss=0.37] \u001b[A\n",
      " 72%|███████▏  | 297/413 [07:09<02:47,  1.45s/it, loss=0.37]\u001b[A\n",
      " 72%|███████▏  | 297/413 [07:11<02:48,  1.45s/it, loss=0.368]\u001b[A\n",
      " 72%|███████▏  | 298/413 [07:11<02:46,  1.45s/it, loss=0.368]\u001b[A\n",
      " 72%|███████▏  | 298/413 [07:12<02:47,  1.45s/it, loss=0.371]\u001b[A\n",
      " 72%|███████▏  | 299/413 [07:12<02:45,  1.45s/it, loss=0.371]\u001b[A\n",
      " 72%|███████▏  | 299/413 [07:14<02:45,  1.45s/it, loss=0.369]\u001b[A\n",
      " 73%|███████▎  | 300/413 [07:14<02:43,  1.45s/it, loss=0.369]\u001b[A\n",
      " 73%|███████▎  | 300/413 [07:15<02:44,  1.45s/it, loss=0.368]\u001b[A\n",
      " 73%|███████▎  | 301/413 [07:15<02:42,  1.45s/it, loss=0.368]\u001b[A\n",
      " 73%|███████▎  | 301/413 [07:17<02:42,  1.45s/it, loss=0.371]\u001b[A\n",
      " 73%|███████▎  | 302/413 [07:17<02:40,  1.45s/it, loss=0.371]\u001b[A\n",
      " 73%|███████▎  | 302/413 [07:18<02:41,  1.45s/it, loss=0.369]\u001b[A\n",
      " 73%|███████▎  | 303/413 [07:18<02:39,  1.45s/it, loss=0.369]\u001b[A\n",
      " 73%|███████▎  | 303/413 [07:19<02:39,  1.45s/it, loss=0.367]\u001b[A\n",
      " 74%|███████▎  | 304/413 [07:19<02:37,  1.45s/it, loss=0.367]\u001b[A\n",
      " 74%|███████▎  | 304/413 [07:21<02:38,  1.45s/it, loss=0.368]\u001b[A\n",
      " 74%|███████▍  | 305/413 [07:21<02:36,  1.45s/it, loss=0.368]\u001b[A\n",
      " 74%|███████▍  | 305/413 [07:22<02:36,  1.45s/it, loss=0.367]\u001b[A\n",
      " 74%|███████▍  | 306/413 [07:22<02:34,  1.45s/it, loss=0.367]\u001b[A\n",
      " 74%|███████▍  | 306/413 [07:24<02:35,  1.45s/it, loss=0.37] \u001b[A\n",
      " 74%|███████▍  | 307/413 [07:24<02:33,  1.45s/it, loss=0.37]\u001b[A\n",
      " 74%|███████▍  | 307/413 [07:25<02:33,  1.45s/it, loss=0.37]\u001b[A\n",
      " 75%|███████▍  | 308/413 [07:25<02:31,  1.45s/it, loss=0.37]\u001b[A\n",
      " 75%|███████▍  | 308/413 [07:26<02:32,  1.45s/it, loss=0.366]\u001b[A\n",
      " 75%|███████▍  | 309/413 [07:26<02:30,  1.45s/it, loss=0.366]\u001b[A\n",
      " 75%|███████▍  | 309/413 [07:28<02:30,  1.45s/it, loss=0.365]\u001b[A\n",
      " 75%|███████▌  | 310/413 [07:28<02:28,  1.45s/it, loss=0.365]\u001b[A\n",
      " 75%|███████▌  | 310/413 [07:29<02:29,  1.45s/it, loss=0.365]\u001b[A\n",
      " 75%|███████▌  | 311/413 [07:29<02:27,  1.45s/it, loss=0.365]\u001b[A\n",
      " 75%|███████▌  | 311/413 [07:31<02:27,  1.45s/it, loss=0.366]\u001b[A\n",
      " 76%|███████▌  | 312/413 [07:31<02:26,  1.45s/it, loss=0.366]\u001b[A\n",
      " 76%|███████▌  | 312/413 [07:32<02:26,  1.45s/it, loss=0.365]\u001b[A\n",
      " 76%|███████▌  | 313/413 [07:32<02:24,  1.45s/it, loss=0.365]\u001b[A\n",
      " 76%|███████▌  | 313/413 [07:34<02:25,  1.45s/it, loss=0.362]\u001b[A\n",
      " 76%|███████▌  | 314/413 [07:34<02:23,  1.45s/it, loss=0.362]\u001b[A\n",
      " 76%|███████▌  | 314/413 [07:35<02:23,  1.45s/it, loss=0.362]\u001b[A\n",
      " 76%|███████▋  | 315/413 [07:35<02:21,  1.45s/it, loss=0.362]\u001b[A\n",
      " 76%|███████▋  | 315/413 [07:36<02:22,  1.45s/it, loss=0.363]\u001b[A\n",
      " 77%|███████▋  | 316/413 [07:36<02:20,  1.45s/it, loss=0.363]\u001b[A\n",
      " 77%|███████▋  | 316/413 [07:38<02:20,  1.45s/it, loss=0.363]\u001b[A\n",
      " 77%|███████▋  | 317/413 [07:38<02:18,  1.45s/it, loss=0.363]\u001b[A\n",
      " 77%|███████▋  | 317/413 [07:39<02:19,  1.45s/it, loss=0.365]\u001b[A\n",
      " 77%|███████▋  | 318/413 [07:39<02:17,  1.45s/it, loss=0.365]\u001b[A\n",
      " 77%|███████▋  | 318/413 [07:41<02:17,  1.45s/it, loss=0.364]\u001b[A\n",
      " 77%|███████▋  | 319/413 [07:41<02:15,  1.45s/it, loss=0.364]\u001b[A\n",
      " 77%|███████▋  | 319/413 [07:42<02:16,  1.45s/it, loss=0.369]\u001b[A\n",
      " 77%|███████▋  | 320/413 [07:42<02:14,  1.45s/it, loss=0.369]\u001b[A\n",
      " 77%|███████▋  | 320/413 [07:43<02:14,  1.45s/it, loss=0.368]\u001b[A\n",
      " 78%|███████▊  | 321/413 [07:43<02:12,  1.45s/it, loss=0.368]\u001b[A\n",
      " 78%|███████▊  | 321/413 [07:45<02:13,  1.45s/it, loss=0.37] \u001b[A\n",
      " 78%|███████▊  | 322/413 [07:45<02:11,  1.45s/it, loss=0.37]\u001b[A\n",
      " 78%|███████▊  | 322/413 [07:46<02:11,  1.45s/it, loss=0.369]\u001b[A\n",
      " 78%|███████▊  | 323/413 [07:46<02:10,  1.45s/it, loss=0.369]\u001b[A\n",
      " 78%|███████▊  | 323/413 [07:48<02:10,  1.45s/it, loss=0.366]\u001b[A\n",
      " 78%|███████▊  | 324/413 [07:48<02:08,  1.45s/it, loss=0.366]\u001b[A\n",
      " 78%|███████▊  | 324/413 [07:49<02:09,  1.45s/it, loss=0.366]\u001b[A\n",
      " 79%|███████▊  | 325/413 [07:49<02:07,  1.45s/it, loss=0.366]\u001b[A\n",
      " 79%|███████▊  | 325/413 [07:51<02:07,  1.45s/it, loss=0.366]\u001b[A\n",
      " 79%|███████▉  | 326/413 [07:51<02:05,  1.44s/it, loss=0.366]\u001b[A\n",
      " 79%|███████▉  | 326/413 [07:52<02:06,  1.45s/it, loss=0.367]\u001b[A\n",
      " 79%|███████▉  | 327/413 [07:52<02:04,  1.44s/it, loss=0.367]\u001b[A\n",
      " 79%|███████▉  | 327/413 [07:53<02:04,  1.45s/it, loss=0.364]\u001b[A\n",
      " 79%|███████▉  | 328/413 [07:53<02:02,  1.44s/it, loss=0.364]\u001b[A\n",
      " 79%|███████▉  | 328/413 [07:55<02:03,  1.45s/it, loss=0.363]\u001b[A\n",
      " 80%|███████▉  | 329/413 [07:55<02:01,  1.44s/it, loss=0.363]\u001b[A\n",
      " 80%|███████▉  | 329/413 [07:56<02:01,  1.45s/it, loss=0.361]\u001b[A\n",
      " 80%|███████▉  | 330/413 [07:56<01:59,  1.44s/it, loss=0.361]\u001b[A\n",
      " 80%|███████▉  | 330/413 [07:58<02:00,  1.45s/it, loss=0.359]\u001b[A\n",
      " 80%|████████  | 331/413 [07:58<01:58,  1.44s/it, loss=0.359]\u001b[A\n",
      " 80%|████████  | 331/413 [07:59<01:58,  1.45s/it, loss=0.365]\u001b[A\n",
      " 80%|████████  | 332/413 [07:59<01:56,  1.44s/it, loss=0.365]\u001b[A\n",
      " 80%|████████  | 332/413 [08:00<01:57,  1.45s/it, loss=0.37] \u001b[A\n",
      " 81%|████████  | 333/413 [08:00<01:55,  1.44s/it, loss=0.37]\u001b[A\n",
      " 81%|████████  | 333/413 [08:02<01:55,  1.45s/it, loss=0.372]\u001b[A\n",
      " 81%|████████  | 334/413 [08:02<01:54,  1.44s/it, loss=0.372]\u001b[A\n",
      " 81%|████████  | 334/413 [08:03<01:54,  1.45s/it, loss=0.371]\u001b[A\n",
      " 81%|████████  | 335/413 [08:03<01:52,  1.44s/it, loss=0.371]\u001b[A\n",
      " 81%|████████  | 335/413 [08:05<01:52,  1.45s/it, loss=0.368]\u001b[A\n",
      " 81%|████████▏ | 336/413 [08:05<01:51,  1.44s/it, loss=0.368]\u001b[A\n",
      " 81%|████████▏ | 336/413 [08:06<01:51,  1.45s/it, loss=0.368]\u001b[A\n",
      " 82%|████████▏ | 337/413 [08:06<01:49,  1.44s/it, loss=0.368]\u001b[A\n",
      " 82%|████████▏ | 337/413 [08:08<01:50,  1.45s/it, loss=0.368]\u001b[A\n",
      " 82%|████████▏ | 338/413 [08:08<01:48,  1.44s/it, loss=0.368]\u001b[A\n",
      " 82%|████████▏ | 338/413 [08:09<01:48,  1.45s/it, loss=0.369]\u001b[A\n",
      " 82%|████████▏ | 339/413 [08:09<01:46,  1.44s/it, loss=0.369]\u001b[A\n",
      " 82%|████████▏ | 339/413 [08:10<01:47,  1.45s/it, loss=0.375]\u001b[A\n",
      " 82%|████████▏ | 340/413 [08:10<01:45,  1.44s/it, loss=0.375]\u001b[A\n",
      " 82%|████████▏ | 340/413 [08:12<01:45,  1.45s/it, loss=0.377]\u001b[A\n",
      " 83%|████████▎ | 341/413 [08:12<01:43,  1.44s/it, loss=0.377]\u001b[A\n",
      " 83%|████████▎ | 341/413 [08:13<01:44,  1.45s/it, loss=0.376]\u001b[A\n",
      " 83%|████████▎ | 342/413 [08:13<01:42,  1.44s/it, loss=0.376]\u001b[A\n",
      " 83%|████████▎ | 342/413 [08:15<01:42,  1.45s/it, loss=0.379]\u001b[A\n",
      " 83%|████████▎ | 343/413 [08:15<01:41,  1.44s/it, loss=0.379]\u001b[A\n",
      " 83%|████████▎ | 343/413 [08:16<01:41,  1.45s/it, loss=0.38] \u001b[A\n",
      " 83%|████████▎ | 344/413 [08:16<01:39,  1.44s/it, loss=0.38]\u001b[A\n",
      " 83%|████████▎ | 344/413 [08:17<01:39,  1.45s/it, loss=0.379]\u001b[A\n",
      " 84%|████████▎ | 345/413 [08:17<01:38,  1.44s/it, loss=0.379]\u001b[A\n",
      " 84%|████████▎ | 345/413 [08:19<01:38,  1.45s/it, loss=0.379]\u001b[A\n",
      " 84%|████████▍ | 346/413 [08:19<01:36,  1.44s/it, loss=0.379]\u001b[A\n",
      " 84%|████████▍ | 346/413 [08:20<01:36,  1.45s/it, loss=0.38] \u001b[A\n",
      " 84%|████████▍ | 347/413 [08:20<01:35,  1.44s/it, loss=0.38]\u001b[A\n",
      " 84%|████████▍ | 347/413 [08:22<01:35,  1.45s/it, loss=0.378]\u001b[A\n",
      " 84%|████████▍ | 348/413 [08:22<01:33,  1.44s/it, loss=0.378]\u001b[A\n",
      " 84%|████████▍ | 348/413 [08:23<01:34,  1.45s/it, loss=0.381]\u001b[A\n",
      " 85%|████████▍ | 349/413 [08:23<01:32,  1.44s/it, loss=0.381]\u001b[A\n",
      " 85%|████████▍ | 349/413 [08:25<01:32,  1.45s/it, loss=0.379]\u001b[A\n",
      " 85%|████████▍ | 350/413 [08:25<01:30,  1.44s/it, loss=0.379]\u001b[A\n",
      " 85%|████████▍ | 350/413 [08:26<01:31,  1.45s/it, loss=0.381]\u001b[A\n",
      " 85%|████████▍ | 351/413 [08:26<01:29,  1.44s/it, loss=0.381]\u001b[A\n",
      " 85%|████████▍ | 351/413 [08:27<01:29,  1.45s/it, loss=0.38] \u001b[A\n",
      " 85%|████████▌ | 352/413 [08:27<01:28,  1.44s/it, loss=0.38]\u001b[A\n",
      " 85%|████████▌ | 352/413 [08:29<01:28,  1.45s/it, loss=0.378]\u001b[A\n",
      " 85%|████████▌ | 353/413 [08:29<01:26,  1.44s/it, loss=0.378]\u001b[A\n",
      " 85%|████████▌ | 353/413 [08:30<01:26,  1.45s/it, loss=0.378]\u001b[A\n",
      " 86%|████████▌ | 354/413 [08:30<01:25,  1.44s/it, loss=0.378]\u001b[A\n",
      " 86%|████████▌ | 354/413 [08:32<01:25,  1.45s/it, loss=0.38] \u001b[A\n",
      " 86%|████████▌ | 355/413 [08:32<01:23,  1.44s/it, loss=0.38]\u001b[A\n",
      " 86%|████████▌ | 355/413 [08:33<01:23,  1.45s/it, loss=0.385]\u001b[A\n",
      " 86%|████████▌ | 356/413 [08:33<01:22,  1.44s/it, loss=0.385]\u001b[A\n",
      " 86%|████████▌ | 356/413 [08:34<01:22,  1.45s/it, loss=0.383]\u001b[A\n",
      " 86%|████████▋ | 357/413 [08:34<01:20,  1.44s/it, loss=0.383]\u001b[A\n",
      " 86%|████████▋ | 357/413 [08:36<01:20,  1.45s/it, loss=0.383]\u001b[A\n",
      " 87%|████████▋ | 358/413 [08:36<01:19,  1.44s/it, loss=0.383]\u001b[A\n",
      " 87%|████████▋ | 358/413 [08:37<01:19,  1.45s/it, loss=0.382]\u001b[A\n",
      " 87%|████████▋ | 359/413 [08:37<01:17,  1.44s/it, loss=0.382]\u001b[A\n",
      " 87%|████████▋ | 359/413 [08:39<01:18,  1.45s/it, loss=0.379]\u001b[A\n",
      " 87%|████████▋ | 360/413 [08:39<01:16,  1.44s/it, loss=0.379]\u001b[A\n",
      " 87%|████████▋ | 360/413 [08:40<01:16,  1.45s/it, loss=0.379]\u001b[A\n",
      " 87%|████████▋ | 361/413 [08:40<01:14,  1.44s/it, loss=0.379]\u001b[A\n",
      " 87%|████████▋ | 361/413 [08:42<01:15,  1.45s/it, loss=0.378]\u001b[A\n",
      " 88%|████████▊ | 362/413 [08:42<01:13,  1.44s/it, loss=0.378]\u001b[A\n",
      " 88%|████████▊ | 362/413 [08:43<01:13,  1.45s/it, loss=0.379]\u001b[A\n",
      " 88%|████████▊ | 363/413 [08:43<01:12,  1.44s/it, loss=0.379]\u001b[A\n",
      " 88%|████████▊ | 363/413 [08:44<01:12,  1.45s/it, loss=0.376]\u001b[A\n",
      " 88%|████████▊ | 364/413 [08:44<01:10,  1.44s/it, loss=0.376]\u001b[A\n",
      " 88%|████████▊ | 364/413 [08:46<01:10,  1.45s/it, loss=0.373]\u001b[A\n",
      " 88%|████████▊ | 365/413 [08:46<01:09,  1.44s/it, loss=0.373]\u001b[A\n",
      " 88%|████████▊ | 365/413 [08:47<01:09,  1.45s/it, loss=0.375]\u001b[A\n",
      " 89%|████████▊ | 366/413 [08:47<01:07,  1.44s/it, loss=0.375]\u001b[A\n",
      " 89%|████████▊ | 366/413 [08:49<01:07,  1.45s/it, loss=0.375]\u001b[A\n",
      " 89%|████████▉ | 367/413 [08:49<01:06,  1.44s/it, loss=0.375]\u001b[A\n",
      " 89%|████████▉ | 367/413 [08:50<01:06,  1.45s/it, loss=0.372]\u001b[A\n",
      " 89%|████████▉ | 368/413 [08:50<01:04,  1.44s/it, loss=0.372]\u001b[A\n",
      " 89%|████████▉ | 368/413 [08:51<01:05,  1.45s/it, loss=0.372]\u001b[A\n",
      " 89%|████████▉ | 369/413 [08:51<01:03,  1.44s/it, loss=0.372]\u001b[A\n",
      " 89%|████████▉ | 369/413 [08:53<01:03,  1.45s/it, loss=0.373]\u001b[A\n",
      " 90%|████████▉ | 370/413 [08:53<01:01,  1.44s/it, loss=0.373]\u001b[A\n",
      " 90%|████████▉ | 370/413 [08:54<01:02,  1.45s/it, loss=0.374]\u001b[A\n",
      " 90%|████████▉ | 371/413 [08:54<01:00,  1.44s/it, loss=0.374]\u001b[A\n",
      " 90%|████████▉ | 371/413 [08:56<01:00,  1.45s/it, loss=0.376]\u001b[A\n",
      " 90%|█████████ | 372/413 [08:56<00:59,  1.44s/it, loss=0.376]\u001b[A\n",
      " 90%|█████████ | 372/413 [08:57<00:59,  1.45s/it, loss=0.376]\u001b[A\n",
      " 90%|█████████ | 373/413 [08:57<00:57,  1.44s/it, loss=0.376]\u001b[A\n",
      " 90%|█████████ | 373/413 [08:59<00:57,  1.45s/it, loss=0.378]\u001b[A\n",
      " 91%|█████████ | 374/413 [08:59<00:56,  1.44s/it, loss=0.378]\u001b[A\n",
      " 91%|█████████ | 374/413 [09:00<00:56,  1.45s/it, loss=0.376]\u001b[A\n",
      " 91%|█████████ | 375/413 [09:00<00:54,  1.44s/it, loss=0.376]\u001b[A\n",
      " 91%|█████████ | 375/413 [09:01<00:54,  1.44s/it, loss=0.378]\u001b[A\n",
      " 91%|█████████ | 376/413 [09:01<00:53,  1.44s/it, loss=0.378]\u001b[A\n",
      " 91%|█████████ | 376/413 [09:03<00:53,  1.44s/it, loss=0.379]\u001b[A\n",
      " 91%|█████████▏| 377/413 [09:03<00:51,  1.44s/it, loss=0.379]\u001b[A\n",
      " 91%|█████████▏| 377/413 [09:04<00:52,  1.44s/it, loss=0.377]\u001b[A\n",
      " 92%|█████████▏| 378/413 [09:04<00:50,  1.44s/it, loss=0.377]\u001b[A\n",
      " 92%|█████████▏| 378/413 [09:06<00:50,  1.44s/it, loss=0.375]\u001b[A\n",
      " 92%|█████████▏| 379/413 [09:06<00:48,  1.44s/it, loss=0.375]\u001b[A\n",
      " 92%|█████████▏| 379/413 [09:07<00:49,  1.44s/it, loss=0.374]\u001b[A\n",
      " 92%|█████████▏| 380/413 [09:07<00:47,  1.44s/it, loss=0.374]\u001b[A\n",
      " 92%|█████████▏| 380/413 [09:08<00:47,  1.44s/it, loss=0.376]\u001b[A\n",
      " 92%|█████████▏| 381/413 [09:08<00:46,  1.44s/it, loss=0.376]\u001b[A\n",
      " 92%|█████████▏| 381/413 [09:10<00:46,  1.44s/it, loss=0.377]\u001b[A\n"
     ]
    },
    {
     "name": "stdout",
     "output_type": "stream",
     "text": [
      " 92%|█████████▏| 382/413 [09:10<00:44,  1.44s/it, loss=0.377]\u001b[A\n",
      " 92%|█████████▏| 382/413 [09:11<00:44,  1.44s/it, loss=0.377]\u001b[A\n",
      " 93%|█████████▎| 383/413 [09:11<00:43,  1.44s/it, loss=0.377]\u001b[A\n",
      " 93%|█████████▎| 383/413 [09:13<00:43,  1.44s/it, loss=0.375]\u001b[A\n",
      " 93%|█████████▎| 384/413 [09:13<00:41,  1.44s/it, loss=0.375]\u001b[A\n",
      " 93%|█████████▎| 384/413 [09:14<00:41,  1.44s/it, loss=0.373]\u001b[A\n",
      " 93%|█████████▎| 385/413 [09:14<00:40,  1.44s/it, loss=0.373]\u001b[A\n",
      " 93%|█████████▎| 385/413 [09:16<00:40,  1.44s/it, loss=0.373]\u001b[A\n",
      " 93%|█████████▎| 386/413 [09:16<00:38,  1.44s/it, loss=0.373]\u001b[A\n",
      " 93%|█████████▎| 386/413 [09:17<00:38,  1.44s/it, loss=0.371]\u001b[A\n",
      " 94%|█████████▎| 387/413 [09:17<00:37,  1.44s/it, loss=0.371]\u001b[A\n",
      " 94%|█████████▎| 387/413 [09:18<00:37,  1.44s/it, loss=0.37] \u001b[A\n",
      " 94%|█████████▍| 388/413 [09:18<00:36,  1.44s/it, loss=0.37]\u001b[A\n",
      " 94%|█████████▍| 388/413 [09:20<00:36,  1.44s/it, loss=0.368]\u001b[A\n",
      " 94%|█████████▍| 389/413 [09:20<00:34,  1.44s/it, loss=0.368]\u001b[A\n",
      " 94%|█████████▍| 389/413 [09:21<00:34,  1.44s/it, loss=0.369]\u001b[A\n",
      " 94%|█████████▍| 390/413 [09:21<00:33,  1.44s/it, loss=0.369]\u001b[A\n",
      " 94%|█████████▍| 390/413 [09:23<00:33,  1.44s/it, loss=0.368]\u001b[A\n",
      " 95%|█████████▍| 391/413 [09:23<00:31,  1.44s/it, loss=0.368]\u001b[A\n",
      " 95%|█████████▍| 391/413 [09:24<00:31,  1.44s/it, loss=0.367]\u001b[A\n",
      " 95%|█████████▍| 392/413 [09:24<00:30,  1.44s/it, loss=0.367]\u001b[A\n",
      " 95%|█████████▍| 392/413 [09:25<00:30,  1.44s/it, loss=0.366]\u001b[A\n",
      " 95%|█████████▌| 393/413 [09:25<00:28,  1.44s/it, loss=0.366]\u001b[A\n",
      " 95%|█████████▌| 393/413 [09:27<00:28,  1.44s/it, loss=0.367]\u001b[A\n",
      " 95%|█████████▌| 394/413 [09:27<00:27,  1.44s/it, loss=0.367]\u001b[A\n",
      " 95%|█████████▌| 394/413 [09:28<00:27,  1.44s/it, loss=0.368]\u001b[A\n",
      " 96%|█████████▌| 395/413 [09:28<00:25,  1.44s/it, loss=0.368]\u001b[A\n",
      " 96%|█████████▌| 395/413 [09:30<00:25,  1.44s/it, loss=0.373]\u001b[A\n",
      " 96%|█████████▌| 396/413 [09:30<00:24,  1.44s/it, loss=0.373]\u001b[A\n",
      " 96%|█████████▌| 396/413 [09:31<00:24,  1.44s/it, loss=0.373]\u001b[A\n",
      " 96%|█████████▌| 397/413 [09:31<00:23,  1.44s/it, loss=0.373]\u001b[A\n",
      " 96%|█████████▌| 397/413 [09:32<00:23,  1.44s/it, loss=0.378]\u001b[A\n",
      " 96%|█████████▋| 398/413 [09:32<00:21,  1.44s/it, loss=0.378]\u001b[A\n",
      " 96%|█████████▋| 398/413 [09:34<00:21,  1.44s/it, loss=0.377]\u001b[A\n",
      " 97%|█████████▋| 399/413 [09:34<00:20,  1.44s/it, loss=0.377]\u001b[A\n",
      " 97%|█████████▋| 399/413 [09:35<00:20,  1.44s/it, loss=0.38] \u001b[A\n",
      " 97%|█████████▋| 400/413 [09:35<00:18,  1.44s/it, loss=0.38]\u001b[A\n",
      " 97%|█████████▋| 400/413 [09:37<00:18,  1.44s/it, loss=0.378]\u001b[A\n",
      " 97%|█████████▋| 401/413 [09:37<00:17,  1.44s/it, loss=0.378]\u001b[A\n",
      " 97%|█████████▋| 401/413 [09:38<00:17,  1.44s/it, loss=0.376]\u001b[A\n",
      " 97%|█████████▋| 402/413 [09:38<00:15,  1.44s/it, loss=0.376]\u001b[A\n",
      " 97%|█████████▋| 402/413 [09:40<00:15,  1.44s/it, loss=0.378]\u001b[A\n",
      " 98%|█████████▊| 403/413 [09:40<00:14,  1.44s/it, loss=0.378]\u001b[A\n",
      " 98%|█████████▊| 403/413 [09:41<00:14,  1.44s/it, loss=0.377]\u001b[A\n",
      " 98%|█████████▊| 404/413 [09:41<00:12,  1.44s/it, loss=0.377]\u001b[A\n",
      " 98%|█████████▊| 404/413 [09:42<00:12,  1.44s/it, loss=0.381]\u001b[A\n",
      " 98%|█████████▊| 405/413 [09:42<00:11,  1.44s/it, loss=0.381]\u001b[A\n",
      " 98%|█████████▊| 405/413 [09:44<00:11,  1.44s/it, loss=0.383]\u001b[A\n",
      " 98%|█████████▊| 406/413 [09:44<00:10,  1.44s/it, loss=0.383]\u001b[A\n",
      " 98%|█████████▊| 406/413 [09:45<00:10,  1.44s/it, loss=0.382]\u001b[A\n",
      " 99%|█████████▊| 407/413 [09:45<00:08,  1.44s/it, loss=0.382]\u001b[A\n",
      " 99%|█████████▊| 407/413 [09:47<00:08,  1.44s/it, loss=0.381]\u001b[A\n",
      " 99%|█████████▉| 408/413 [09:47<00:07,  1.44s/it, loss=0.381]\u001b[A\n",
      " 99%|█████████▉| 408/413 [09:48<00:07,  1.44s/it, loss=0.381]\u001b[A\n",
      " 99%|█████████▉| 409/413 [09:48<00:05,  1.44s/it, loss=0.381]\u001b[A\n",
      " 99%|█████████▉| 409/413 [09:49<00:05,  1.44s/it, loss=0.379]\u001b[A\n",
      " 99%|█████████▉| 410/413 [09:49<00:04,  1.44s/it, loss=0.379]\u001b[A\n",
      " 99%|█████████▉| 410/413 [09:51<00:04,  1.44s/it, loss=0.378]\u001b[A\n",
      "100%|█████████▉| 411/413 [09:51<00:02,  1.44s/it, loss=0.378]\u001b[A\n",
      "100%|█████████▉| 411/413 [09:52<00:02,  1.44s/it, loss=0.376]\u001b[A\n",
      "100%|█████████▉| 412/413 [09:52<00:01,  1.44s/it, loss=0.376]\u001b[A\n",
      "                                                             \r"
     ]
    },
    {
     "ename": "ValueError",
     "evalue": "Expected more than 1 value per channel when training, got input size [1, 1024]",
     "output_type": "error",
     "traceback": [
      "\u001b[0;31m---------------------------------------------------------------------------\u001b[0m",
      "\u001b[0;31mValueError\u001b[0m                                Traceback (most recent call last)",
      "\u001b[0;32m<timed eval>\u001b[0m in \u001b[0;36m<module>\u001b[0;34m()\u001b[0m\n",
      "\u001b[0;32m~/Aersu/GLOC/fastai_lin/learner.py\u001b[0m in \u001b[0;36mfit\u001b[0;34m(self, lrs, n_cycle, wds, **kwargs)\u001b[0m\n\u001b[1;32m    211\u001b[0m         \u001b[0mself\u001b[0m\u001b[0;34m.\u001b[0m\u001b[0msched\u001b[0m \u001b[0;34m=\u001b[0m \u001b[0;32mNone\u001b[0m\u001b[0;34m\u001b[0m\u001b[0m\n\u001b[1;32m    212\u001b[0m         \u001b[0mlayer_opt\u001b[0m \u001b[0;34m=\u001b[0m \u001b[0mself\u001b[0m\u001b[0;34m.\u001b[0m\u001b[0mget_layer_opt\u001b[0m\u001b[0;34m(\u001b[0m\u001b[0mlrs\u001b[0m\u001b[0;34m,\u001b[0m \u001b[0mwds\u001b[0m\u001b[0;34m)\u001b[0m\u001b[0;34m\u001b[0m\u001b[0m\n\u001b[0;32m--> 213\u001b[0;31m         \u001b[0mself\u001b[0m\u001b[0;34m.\u001b[0m\u001b[0mfit_gen\u001b[0m\u001b[0;34m(\u001b[0m\u001b[0mself\u001b[0m\u001b[0;34m.\u001b[0m\u001b[0mmodel\u001b[0m\u001b[0;34m,\u001b[0m \u001b[0mself\u001b[0m\u001b[0;34m.\u001b[0m\u001b[0mdata\u001b[0m\u001b[0;34m,\u001b[0m \u001b[0mlayer_opt\u001b[0m\u001b[0;34m,\u001b[0m \u001b[0mn_cycle\u001b[0m\u001b[0;34m,\u001b[0m \u001b[0;34m**\u001b[0m\u001b[0mkwargs\u001b[0m\u001b[0;34m)\u001b[0m\u001b[0;34m\u001b[0m\u001b[0m\n\u001b[0m\u001b[1;32m    214\u001b[0m \u001b[0;34m\u001b[0m\u001b[0m\n\u001b[1;32m    215\u001b[0m     \u001b[0;32mdef\u001b[0m \u001b[0mlr_find\u001b[0m\u001b[0;34m(\u001b[0m\u001b[0mself\u001b[0m\u001b[0;34m,\u001b[0m \u001b[0mstart_lr\u001b[0m\u001b[0;34m=\u001b[0m\u001b[0;36m1e-5\u001b[0m\u001b[0;34m,\u001b[0m \u001b[0mend_lr\u001b[0m\u001b[0;34m=\u001b[0m\u001b[0;36m10\u001b[0m\u001b[0;34m,\u001b[0m \u001b[0mwds\u001b[0m\u001b[0;34m=\u001b[0m\u001b[0;32mNone\u001b[0m\u001b[0;34m)\u001b[0m\u001b[0;34m:\u001b[0m\u001b[0;34m\u001b[0m\u001b[0m\n",
      "\u001b[0;32m~/Aersu/GLOC/fastai_lin/learner.py\u001b[0m in \u001b[0;36mfit_gen\u001b[0;34m(self, model, data, layer_opt, n_cycle, cycle_len, cycle_mult, cycle_save_name, metrics, callbacks, use_wd_sched, norm_wds, wds_sched_mult, **kwargs)\u001b[0m\n\u001b[1;32m    158\u001b[0m         \u001b[0mn_epoch\u001b[0m \u001b[0;34m=\u001b[0m \u001b[0msum_geom\u001b[0m\u001b[0;34m(\u001b[0m\u001b[0mcycle_len\u001b[0m \u001b[0;32mif\u001b[0m \u001b[0mcycle_len\u001b[0m \u001b[0;32melse\u001b[0m \u001b[0;36m1\u001b[0m\u001b[0;34m,\u001b[0m \u001b[0mcycle_mult\u001b[0m\u001b[0;34m,\u001b[0m \u001b[0mn_cycle\u001b[0m\u001b[0;34m)\u001b[0m\u001b[0;34m\u001b[0m\u001b[0m\n\u001b[1;32m    159\u001b[0m         fit(model, data, n_epoch, layer_opt.opt, self.crit,\n\u001b[0;32m--> 160\u001b[0;31m             metrics=metrics, callbacks=callbacks, reg_fn=self.reg_fn, clip=self.clip, **kwargs)\n\u001b[0m\u001b[1;32m    161\u001b[0m \u001b[0;34m\u001b[0m\u001b[0m\n\u001b[1;32m    162\u001b[0m     \u001b[0;32mdef\u001b[0m \u001b[0mget_layer_groups\u001b[0m\u001b[0;34m(\u001b[0m\u001b[0mself\u001b[0m\u001b[0;34m)\u001b[0m\u001b[0;34m:\u001b[0m \u001b[0;32mreturn\u001b[0m \u001b[0mself\u001b[0m\u001b[0;34m.\u001b[0m\u001b[0mmodels\u001b[0m\u001b[0;34m.\u001b[0m\u001b[0mget_layer_groups\u001b[0m\u001b[0;34m(\u001b[0m\u001b[0;34m)\u001b[0m\u001b[0;34m\u001b[0m\u001b[0m\n",
      "\u001b[0;32m~/Aersu/GLOC/fastai_lin/model.py\u001b[0m in \u001b[0;36mfit\u001b[0;34m(model, data, epochs, opt, crit, metrics, callbacks, **kwargs)\u001b[0m\n\u001b[1;32m     84\u001b[0m             \u001b[0mbatch_num\u001b[0m \u001b[0;34m+=\u001b[0m \u001b[0;36m1\u001b[0m\u001b[0;34m\u001b[0m\u001b[0m\n\u001b[1;32m     85\u001b[0m             \u001b[0;32mfor\u001b[0m \u001b[0mcb\u001b[0m \u001b[0;32min\u001b[0m \u001b[0mcallbacks\u001b[0m\u001b[0;34m:\u001b[0m \u001b[0mcb\u001b[0m\u001b[0;34m.\u001b[0m\u001b[0mon_batch_begin\u001b[0m\u001b[0;34m(\u001b[0m\u001b[0;34m)\u001b[0m\u001b[0;34m\u001b[0m\u001b[0m\n\u001b[0;32m---> 86\u001b[0;31m             \u001b[0mloss\u001b[0m \u001b[0;34m=\u001b[0m \u001b[0mstepper\u001b[0m\u001b[0;34m.\u001b[0m\u001b[0mstep\u001b[0m\u001b[0;34m(\u001b[0m\u001b[0mV\u001b[0m\u001b[0;34m(\u001b[0m\u001b[0mx\u001b[0m\u001b[0;34m)\u001b[0m\u001b[0;34m,\u001b[0m\u001b[0mV\u001b[0m\u001b[0;34m(\u001b[0m\u001b[0my\u001b[0m\u001b[0;34m)\u001b[0m\u001b[0;34m)\u001b[0m\u001b[0;34m\u001b[0m\u001b[0m\n\u001b[0m\u001b[1;32m     87\u001b[0m             \u001b[0mavg_loss\u001b[0m \u001b[0;34m=\u001b[0m \u001b[0mavg_loss\u001b[0m \u001b[0;34m*\u001b[0m \u001b[0mavg_mom\u001b[0m \u001b[0;34m+\u001b[0m \u001b[0mloss\u001b[0m \u001b[0;34m*\u001b[0m \u001b[0;34m(\u001b[0m\u001b[0;36m1\u001b[0m\u001b[0;34m-\u001b[0m\u001b[0mavg_mom\u001b[0m\u001b[0;34m)\u001b[0m\u001b[0;34m\u001b[0m\u001b[0m\n\u001b[1;32m     88\u001b[0m             \u001b[0mdebias_loss\u001b[0m \u001b[0;34m=\u001b[0m \u001b[0mavg_loss\u001b[0m \u001b[0;34m/\u001b[0m \u001b[0;34m(\u001b[0m\u001b[0;36m1\u001b[0m \u001b[0;34m-\u001b[0m \u001b[0mavg_mom\u001b[0m\u001b[0;34m**\u001b[0m\u001b[0mbatch_num\u001b[0m\u001b[0;34m)\u001b[0m\u001b[0;34m\u001b[0m\u001b[0m\n",
      "\u001b[0;32m~/Aersu/GLOC/fastai_lin/model.py\u001b[0m in \u001b[0;36mstep\u001b[0;34m(self, xs, y)\u001b[0m\n\u001b[1;32m     38\u001b[0m     \u001b[0;32mdef\u001b[0m \u001b[0mstep\u001b[0m\u001b[0;34m(\u001b[0m\u001b[0mself\u001b[0m\u001b[0;34m,\u001b[0m \u001b[0mxs\u001b[0m\u001b[0;34m,\u001b[0m \u001b[0my\u001b[0m\u001b[0;34m)\u001b[0m\u001b[0;34m:\u001b[0m\u001b[0;34m\u001b[0m\u001b[0m\n\u001b[1;32m     39\u001b[0m         \u001b[0mxtra\u001b[0m \u001b[0;34m=\u001b[0m \u001b[0;34m[\u001b[0m\u001b[0;34m]\u001b[0m\u001b[0;34m\u001b[0m\u001b[0m\n\u001b[0;32m---> 40\u001b[0;31m         \u001b[0moutput\u001b[0m \u001b[0;34m=\u001b[0m \u001b[0mself\u001b[0m\u001b[0;34m.\u001b[0m\u001b[0mm\u001b[0m\u001b[0;34m(\u001b[0m\u001b[0;34m*\u001b[0m\u001b[0mxs\u001b[0m\u001b[0;34m)\u001b[0m\u001b[0;34m\u001b[0m\u001b[0m\n\u001b[0m\u001b[1;32m     41\u001b[0m         \u001b[0;32mif\u001b[0m \u001b[0misinstance\u001b[0m\u001b[0;34m(\u001b[0m\u001b[0moutput\u001b[0m\u001b[0;34m,\u001b[0m\u001b[0;34m(\u001b[0m\u001b[0mtuple\u001b[0m\u001b[0;34m,\u001b[0m\u001b[0mlist\u001b[0m\u001b[0;34m)\u001b[0m\u001b[0;34m)\u001b[0m\u001b[0;34m:\u001b[0m \u001b[0moutput\u001b[0m\u001b[0;34m,\u001b[0m\u001b[0;34m*\u001b[0m\u001b[0mxtra\u001b[0m \u001b[0;34m=\u001b[0m \u001b[0moutput\u001b[0m\u001b[0;34m\u001b[0m\u001b[0m\n\u001b[1;32m     42\u001b[0m         \u001b[0mself\u001b[0m\u001b[0;34m.\u001b[0m\u001b[0mopt\u001b[0m\u001b[0;34m.\u001b[0m\u001b[0mzero_grad\u001b[0m\u001b[0;34m(\u001b[0m\u001b[0;34m)\u001b[0m\u001b[0;34m\u001b[0m\u001b[0m\n",
      "\u001b[0;32m~/miniconda3/envs/fastai/lib/python3.6/site-packages/torch/nn/modules/module.py\u001b[0m in \u001b[0;36m__call__\u001b[0;34m(self, *input, **kwargs)\u001b[0m\n\u001b[1;32m    323\u001b[0m         \u001b[0;32mfor\u001b[0m \u001b[0mhook\u001b[0m \u001b[0;32min\u001b[0m \u001b[0mself\u001b[0m\u001b[0;34m.\u001b[0m\u001b[0m_forward_pre_hooks\u001b[0m\u001b[0;34m.\u001b[0m\u001b[0mvalues\u001b[0m\u001b[0;34m(\u001b[0m\u001b[0;34m)\u001b[0m\u001b[0;34m:\u001b[0m\u001b[0;34m\u001b[0m\u001b[0m\n\u001b[1;32m    324\u001b[0m             \u001b[0mhook\u001b[0m\u001b[0;34m(\u001b[0m\u001b[0mself\u001b[0m\u001b[0;34m,\u001b[0m \u001b[0minput\u001b[0m\u001b[0;34m)\u001b[0m\u001b[0;34m\u001b[0m\u001b[0m\n\u001b[0;32m--> 325\u001b[0;31m         \u001b[0mresult\u001b[0m \u001b[0;34m=\u001b[0m \u001b[0mself\u001b[0m\u001b[0;34m.\u001b[0m\u001b[0mforward\u001b[0m\u001b[0;34m(\u001b[0m\u001b[0;34m*\u001b[0m\u001b[0minput\u001b[0m\u001b[0;34m,\u001b[0m \u001b[0;34m**\u001b[0m\u001b[0mkwargs\u001b[0m\u001b[0;34m)\u001b[0m\u001b[0;34m\u001b[0m\u001b[0m\n\u001b[0m\u001b[1;32m    326\u001b[0m         \u001b[0;32mfor\u001b[0m \u001b[0mhook\u001b[0m \u001b[0;32min\u001b[0m \u001b[0mself\u001b[0m\u001b[0;34m.\u001b[0m\u001b[0m_forward_hooks\u001b[0m\u001b[0;34m.\u001b[0m\u001b[0mvalues\u001b[0m\u001b[0;34m(\u001b[0m\u001b[0;34m)\u001b[0m\u001b[0;34m:\u001b[0m\u001b[0;34m\u001b[0m\u001b[0m\n\u001b[1;32m    327\u001b[0m             \u001b[0mhook_result\u001b[0m \u001b[0;34m=\u001b[0m \u001b[0mhook\u001b[0m\u001b[0;34m(\u001b[0m\u001b[0mself\u001b[0m\u001b[0;34m,\u001b[0m \u001b[0minput\u001b[0m\u001b[0;34m,\u001b[0m \u001b[0mresult\u001b[0m\u001b[0;34m)\u001b[0m\u001b[0;34m\u001b[0m\u001b[0m\n",
      "\u001b[0;32m~/miniconda3/envs/fastai/lib/python3.6/site-packages/torch/nn/modules/container.py\u001b[0m in \u001b[0;36mforward\u001b[0;34m(self, input)\u001b[0m\n\u001b[1;32m     65\u001b[0m     \u001b[0;32mdef\u001b[0m \u001b[0mforward\u001b[0m\u001b[0;34m(\u001b[0m\u001b[0mself\u001b[0m\u001b[0;34m,\u001b[0m \u001b[0minput\u001b[0m\u001b[0;34m)\u001b[0m\u001b[0;34m:\u001b[0m\u001b[0;34m\u001b[0m\u001b[0m\n\u001b[1;32m     66\u001b[0m         \u001b[0;32mfor\u001b[0m \u001b[0mmodule\u001b[0m \u001b[0;32min\u001b[0m \u001b[0mself\u001b[0m\u001b[0;34m.\u001b[0m\u001b[0m_modules\u001b[0m\u001b[0;34m.\u001b[0m\u001b[0mvalues\u001b[0m\u001b[0;34m(\u001b[0m\u001b[0;34m)\u001b[0m\u001b[0;34m:\u001b[0m\u001b[0;34m\u001b[0m\u001b[0m\n\u001b[0;32m---> 67\u001b[0;31m             \u001b[0minput\u001b[0m \u001b[0;34m=\u001b[0m \u001b[0mmodule\u001b[0m\u001b[0;34m(\u001b[0m\u001b[0minput\u001b[0m\u001b[0;34m)\u001b[0m\u001b[0;34m\u001b[0m\u001b[0m\n\u001b[0m\u001b[1;32m     68\u001b[0m         \u001b[0;32mreturn\u001b[0m \u001b[0minput\u001b[0m\u001b[0;34m\u001b[0m\u001b[0m\n\u001b[1;32m     69\u001b[0m \u001b[0;34m\u001b[0m\u001b[0m\n",
      "\u001b[0;32m~/miniconda3/envs/fastai/lib/python3.6/site-packages/torch/nn/modules/module.py\u001b[0m in \u001b[0;36m__call__\u001b[0;34m(self, *input, **kwargs)\u001b[0m\n\u001b[1;32m    323\u001b[0m         \u001b[0;32mfor\u001b[0m \u001b[0mhook\u001b[0m \u001b[0;32min\u001b[0m \u001b[0mself\u001b[0m\u001b[0;34m.\u001b[0m\u001b[0m_forward_pre_hooks\u001b[0m\u001b[0;34m.\u001b[0m\u001b[0mvalues\u001b[0m\u001b[0;34m(\u001b[0m\u001b[0;34m)\u001b[0m\u001b[0;34m:\u001b[0m\u001b[0;34m\u001b[0m\u001b[0m\n\u001b[1;32m    324\u001b[0m             \u001b[0mhook\u001b[0m\u001b[0;34m(\u001b[0m\u001b[0mself\u001b[0m\u001b[0;34m,\u001b[0m \u001b[0minput\u001b[0m\u001b[0;34m)\u001b[0m\u001b[0;34m\u001b[0m\u001b[0m\n\u001b[0;32m--> 325\u001b[0;31m         \u001b[0mresult\u001b[0m \u001b[0;34m=\u001b[0m \u001b[0mself\u001b[0m\u001b[0;34m.\u001b[0m\u001b[0mforward\u001b[0m\u001b[0;34m(\u001b[0m\u001b[0;34m*\u001b[0m\u001b[0minput\u001b[0m\u001b[0;34m,\u001b[0m \u001b[0;34m**\u001b[0m\u001b[0mkwargs\u001b[0m\u001b[0;34m)\u001b[0m\u001b[0;34m\u001b[0m\u001b[0m\n\u001b[0m\u001b[1;32m    326\u001b[0m         \u001b[0;32mfor\u001b[0m \u001b[0mhook\u001b[0m \u001b[0;32min\u001b[0m \u001b[0mself\u001b[0m\u001b[0;34m.\u001b[0m\u001b[0m_forward_hooks\u001b[0m\u001b[0;34m.\u001b[0m\u001b[0mvalues\u001b[0m\u001b[0;34m(\u001b[0m\u001b[0;34m)\u001b[0m\u001b[0;34m:\u001b[0m\u001b[0;34m\u001b[0m\u001b[0m\n\u001b[1;32m    327\u001b[0m             \u001b[0mhook_result\u001b[0m \u001b[0;34m=\u001b[0m \u001b[0mhook\u001b[0m\u001b[0;34m(\u001b[0m\u001b[0mself\u001b[0m\u001b[0;34m,\u001b[0m \u001b[0minput\u001b[0m\u001b[0;34m,\u001b[0m \u001b[0mresult\u001b[0m\u001b[0;34m)\u001b[0m\u001b[0;34m\u001b[0m\u001b[0m\n",
      "\u001b[0;32m~/miniconda3/envs/fastai/lib/python3.6/site-packages/torch/nn/modules/batchnorm.py\u001b[0m in \u001b[0;36mforward\u001b[0;34m(self, input)\u001b[0m\n\u001b[1;32m     35\u001b[0m         return F.batch_norm(\n\u001b[1;32m     36\u001b[0m             \u001b[0minput\u001b[0m\u001b[0;34m,\u001b[0m \u001b[0mself\u001b[0m\u001b[0;34m.\u001b[0m\u001b[0mrunning_mean\u001b[0m\u001b[0;34m,\u001b[0m \u001b[0mself\u001b[0m\u001b[0;34m.\u001b[0m\u001b[0mrunning_var\u001b[0m\u001b[0;34m,\u001b[0m \u001b[0mself\u001b[0m\u001b[0;34m.\u001b[0m\u001b[0mweight\u001b[0m\u001b[0;34m,\u001b[0m \u001b[0mself\u001b[0m\u001b[0;34m.\u001b[0m\u001b[0mbias\u001b[0m\u001b[0;34m,\u001b[0m\u001b[0;34m\u001b[0m\u001b[0m\n\u001b[0;32m---> 37\u001b[0;31m             self.training, self.momentum, self.eps)\n\u001b[0m\u001b[1;32m     38\u001b[0m \u001b[0;34m\u001b[0m\u001b[0m\n\u001b[1;32m     39\u001b[0m     \u001b[0;32mdef\u001b[0m \u001b[0m__repr__\u001b[0m\u001b[0;34m(\u001b[0m\u001b[0mself\u001b[0m\u001b[0;34m)\u001b[0m\u001b[0;34m:\u001b[0m\u001b[0;34m\u001b[0m\u001b[0m\n",
      "\u001b[0;32m~/miniconda3/envs/fastai/lib/python3.6/site-packages/torch/nn/functional.py\u001b[0m in \u001b[0;36mbatch_norm\u001b[0;34m(input, running_mean, running_var, weight, bias, training, momentum, eps)\u001b[0m\n\u001b[1;32m   1009\u001b[0m         \u001b[0msize\u001b[0m \u001b[0;34m=\u001b[0m \u001b[0mlist\u001b[0m\u001b[0;34m(\u001b[0m\u001b[0minput\u001b[0m\u001b[0;34m.\u001b[0m\u001b[0msize\u001b[0m\u001b[0;34m(\u001b[0m\u001b[0;34m)\u001b[0m\u001b[0;34m)\u001b[0m\u001b[0;34m\u001b[0m\u001b[0m\n\u001b[1;32m   1010\u001b[0m         \u001b[0;32mif\u001b[0m \u001b[0mreduce\u001b[0m\u001b[0;34m(\u001b[0m\u001b[0mmul\u001b[0m\u001b[0;34m,\u001b[0m \u001b[0msize\u001b[0m\u001b[0;34m[\u001b[0m\u001b[0;36m2\u001b[0m\u001b[0;34m:\u001b[0m\u001b[0;34m]\u001b[0m\u001b[0;34m,\u001b[0m \u001b[0msize\u001b[0m\u001b[0;34m[\u001b[0m\u001b[0;36m0\u001b[0m\u001b[0;34m]\u001b[0m\u001b[0;34m)\u001b[0m \u001b[0;34m==\u001b[0m \u001b[0;36m1\u001b[0m\u001b[0;34m:\u001b[0m\u001b[0;34m\u001b[0m\u001b[0m\n\u001b[0;32m-> 1011\u001b[0;31m             \u001b[0;32mraise\u001b[0m \u001b[0mValueError\u001b[0m\u001b[0;34m(\u001b[0m\u001b[0;34m'Expected more than 1 value per channel when training, got input size {}'\u001b[0m\u001b[0;34m.\u001b[0m\u001b[0mformat\u001b[0m\u001b[0;34m(\u001b[0m\u001b[0msize\u001b[0m\u001b[0;34m)\u001b[0m\u001b[0;34m)\u001b[0m\u001b[0;34m\u001b[0m\u001b[0m\n\u001b[0m\u001b[1;32m   1012\u001b[0m     \u001b[0mf\u001b[0m \u001b[0;34m=\u001b[0m \u001b[0mtorch\u001b[0m\u001b[0;34m.\u001b[0m\u001b[0m_C\u001b[0m\u001b[0;34m.\u001b[0m\u001b[0m_functions\u001b[0m\u001b[0;34m.\u001b[0m\u001b[0mBatchNorm\u001b[0m\u001b[0;34m(\u001b[0m\u001b[0mrunning_mean\u001b[0m\u001b[0;34m,\u001b[0m \u001b[0mrunning_var\u001b[0m\u001b[0;34m,\u001b[0m \u001b[0mtraining\u001b[0m\u001b[0;34m,\u001b[0m \u001b[0mmomentum\u001b[0m\u001b[0;34m,\u001b[0m \u001b[0meps\u001b[0m\u001b[0;34m,\u001b[0m \u001b[0mtorch\u001b[0m\u001b[0;34m.\u001b[0m\u001b[0mbackends\u001b[0m\u001b[0;34m.\u001b[0m\u001b[0mcudnn\u001b[0m\u001b[0;34m.\u001b[0m\u001b[0menabled\u001b[0m\u001b[0;34m)\u001b[0m\u001b[0;34m\u001b[0m\u001b[0m\n\u001b[1;32m   1013\u001b[0m     \u001b[0;32mreturn\u001b[0m \u001b[0mf\u001b[0m\u001b[0;34m(\u001b[0m\u001b[0minput\u001b[0m\u001b[0;34m,\u001b[0m \u001b[0mweight\u001b[0m\u001b[0;34m,\u001b[0m \u001b[0mbias\u001b[0m\u001b[0;34m)\u001b[0m\u001b[0;34m\u001b[0m\u001b[0m\n",
      "\u001b[0;31mValueError\u001b[0m: Expected more than 1 value per channel when training, got input size [1, 1024]"
     ]
    }
   ],
   "source": [
    "%time learner.fit(lrs=λr, n_cycle=3, cycle_len=1, cycle_mult=1, wds=wd, use_wd_sched=True)"
   ]
  },
  {
   "cell_type": "code",
   "execution_count": null,
   "metadata": {
    "hidden": true
   },
   "outputs": [],
   "source": [
    "%time learner.fit(lrs=λr, n_cycle=3, cycle_len=1, cycle_mult=2, wds=wd, use_wd_sched=True)"
   ]
  },
  {
   "cell_type": "markdown",
   "metadata": {
    "heading_collapsed": true
   },
   "source": [
    "## DenseNet121"
   ]
  },
  {
   "cell_type": "code",
   "execution_count": 5,
   "metadata": {
    "hidden": true
   },
   "outputs": [],
   "source": [
    "# delete any tmp/ folder that exists\n",
    "%rm -rf $PATH/tmp/*"
   ]
  },
  {
   "cell_type": "code",
   "execution_count": 6,
   "metadata": {
    "hidden": true,
    "scrolled": true
   },
   "outputs": [],
   "source": [
    "arch = dn121 # torch_imports -> torchvision.models\n",
    "size = 100\n",
    "data = get_data(size)\n",
    "learner = ConvLearner.pretrained(arch, data)"
   ]
  },
  {
   "cell_type": "code",
   "execution_count": 21,
   "metadata": {
    "collapsed": true,
    "hidden": true
   },
   "outputs": [
    {
     "data": {
      "text/plain": [
       "Sequential(\n",
       "  (0): Sequential(\n",
       "    (conv0): Conv2d (3, 64, kernel_size=(7, 7), stride=(2, 2), padding=(3, 3), bias=False)\n",
       "    (norm0): BatchNorm2d(64, eps=1e-05, momentum=0.1, affine=True)\n",
       "    (relu0): ReLU(inplace)\n",
       "    (pool0): MaxPool2d(kernel_size=(3, 3), stride=(2, 2), padding=(1, 1), dilation=(1, 1))\n",
       "    (denseblock1): _DenseBlock(\n",
       "      (denselayer1): _DenseLayer(\n",
       "        (norm.1): BatchNorm2d(64, eps=1e-05, momentum=0.1, affine=True)\n",
       "        (relu.1): ReLU(inplace)\n",
       "        (conv.1): Conv2d (64, 128, kernel_size=(1, 1), stride=(1, 1), bias=False)\n",
       "        (norm.2): BatchNorm2d(128, eps=1e-05, momentum=0.1, affine=True)\n",
       "        (relu.2): ReLU(inplace)\n",
       "        (conv.2): Conv2d (128, 32, kernel_size=(3, 3), stride=(1, 1), padding=(1, 1), bias=False)\n",
       "      )\n",
       "      (denselayer2): _DenseLayer(\n",
       "        (norm.1): BatchNorm2d(96, eps=1e-05, momentum=0.1, affine=True)\n",
       "        (relu.1): ReLU(inplace)\n",
       "        (conv.1): Conv2d (96, 128, kernel_size=(1, 1), stride=(1, 1), bias=False)\n",
       "        (norm.2): BatchNorm2d(128, eps=1e-05, momentum=0.1, affine=True)\n",
       "        (relu.2): ReLU(inplace)\n",
       "        (conv.2): Conv2d (128, 32, kernel_size=(3, 3), stride=(1, 1), padding=(1, 1), bias=False)\n",
       "      )\n",
       "      (denselayer3): _DenseLayer(\n",
       "        (norm.1): BatchNorm2d(128, eps=1e-05, momentum=0.1, affine=True)\n",
       "        (relu.1): ReLU(inplace)\n",
       "        (conv.1): Conv2d (128, 128, kernel_size=(1, 1), stride=(1, 1), bias=False)\n",
       "        (norm.2): BatchNorm2d(128, eps=1e-05, momentum=0.1, affine=True)\n",
       "        (relu.2): ReLU(inplace)\n",
       "        (conv.2): Conv2d (128, 32, kernel_size=(3, 3), stride=(1, 1), padding=(1, 1), bias=False)\n",
       "      )\n",
       "      (denselayer4): _DenseLayer(\n",
       "        (norm.1): BatchNorm2d(160, eps=1e-05, momentum=0.1, affine=True)\n",
       "        (relu.1): ReLU(inplace)\n",
       "        (conv.1): Conv2d (160, 128, kernel_size=(1, 1), stride=(1, 1), bias=False)\n",
       "        (norm.2): BatchNorm2d(128, eps=1e-05, momentum=0.1, affine=True)\n",
       "        (relu.2): ReLU(inplace)\n",
       "        (conv.2): Conv2d (128, 32, kernel_size=(3, 3), stride=(1, 1), padding=(1, 1), bias=False)\n",
       "      )\n",
       "      (denselayer5): _DenseLayer(\n",
       "        (norm.1): BatchNorm2d(192, eps=1e-05, momentum=0.1, affine=True)\n",
       "        (relu.1): ReLU(inplace)\n",
       "        (conv.1): Conv2d (192, 128, kernel_size=(1, 1), stride=(1, 1), bias=False)\n",
       "        (norm.2): BatchNorm2d(128, eps=1e-05, momentum=0.1, affine=True)\n",
       "        (relu.2): ReLU(inplace)\n",
       "        (conv.2): Conv2d (128, 32, kernel_size=(3, 3), stride=(1, 1), padding=(1, 1), bias=False)\n",
       "      )\n",
       "      (denselayer6): _DenseLayer(\n",
       "        (norm.1): BatchNorm2d(224, eps=1e-05, momentum=0.1, affine=True)\n",
       "        (relu.1): ReLU(inplace)\n",
       "        (conv.1): Conv2d (224, 128, kernel_size=(1, 1), stride=(1, 1), bias=False)\n",
       "        (norm.2): BatchNorm2d(128, eps=1e-05, momentum=0.1, affine=True)\n",
       "        (relu.2): ReLU(inplace)\n",
       "        (conv.2): Conv2d (128, 32, kernel_size=(3, 3), stride=(1, 1), padding=(1, 1), bias=False)\n",
       "      )\n",
       "    )\n",
       "    (transition1): _Transition(\n",
       "      (norm): BatchNorm2d(256, eps=1e-05, momentum=0.1, affine=True)\n",
       "      (relu): ReLU(inplace)\n",
       "      (conv): Conv2d (256, 128, kernel_size=(1, 1), stride=(1, 1), bias=False)\n",
       "      (pool): AvgPool2d(kernel_size=2, stride=2, padding=0, ceil_mode=False, count_include_pad=True)\n",
       "    )\n",
       "    (denseblock2): _DenseBlock(\n",
       "      (denselayer1): _DenseLayer(\n",
       "        (norm.1): BatchNorm2d(128, eps=1e-05, momentum=0.1, affine=True)\n",
       "        (relu.1): ReLU(inplace)\n",
       "        (conv.1): Conv2d (128, 128, kernel_size=(1, 1), stride=(1, 1), bias=False)\n",
       "        (norm.2): BatchNorm2d(128, eps=1e-05, momentum=0.1, affine=True)\n",
       "        (relu.2): ReLU(inplace)\n",
       "        (conv.2): Conv2d (128, 32, kernel_size=(3, 3), stride=(1, 1), padding=(1, 1), bias=False)\n",
       "      )\n",
       "      (denselayer2): _DenseLayer(\n",
       "        (norm.1): BatchNorm2d(160, eps=1e-05, momentum=0.1, affine=True)\n",
       "        (relu.1): ReLU(inplace)\n",
       "        (conv.1): Conv2d (160, 128, kernel_size=(1, 1), stride=(1, 1), bias=False)\n",
       "        (norm.2): BatchNorm2d(128, eps=1e-05, momentum=0.1, affine=True)\n",
       "        (relu.2): ReLU(inplace)\n",
       "        (conv.2): Conv2d (128, 32, kernel_size=(3, 3), stride=(1, 1), padding=(1, 1), bias=False)\n",
       "      )\n",
       "      (denselayer3): _DenseLayer(\n",
       "        (norm.1): BatchNorm2d(192, eps=1e-05, momentum=0.1, affine=True)\n",
       "        (relu.1): ReLU(inplace)\n",
       "        (conv.1): Conv2d (192, 128, kernel_size=(1, 1), stride=(1, 1), bias=False)\n",
       "        (norm.2): BatchNorm2d(128, eps=1e-05, momentum=0.1, affine=True)\n",
       "        (relu.2): ReLU(inplace)\n",
       "        (conv.2): Conv2d (128, 32, kernel_size=(3, 3), stride=(1, 1), padding=(1, 1), bias=False)\n",
       "      )\n",
       "      (denselayer4): _DenseLayer(\n",
       "        (norm.1): BatchNorm2d(224, eps=1e-05, momentum=0.1, affine=True)\n",
       "        (relu.1): ReLU(inplace)\n",
       "        (conv.1): Conv2d (224, 128, kernel_size=(1, 1), stride=(1, 1), bias=False)\n",
       "        (norm.2): BatchNorm2d(128, eps=1e-05, momentum=0.1, affine=True)\n",
       "        (relu.2): ReLU(inplace)\n",
       "        (conv.2): Conv2d (128, 32, kernel_size=(3, 3), stride=(1, 1), padding=(1, 1), bias=False)\n",
       "      )\n",
       "      (denselayer5): _DenseLayer(\n",
       "        (norm.1): BatchNorm2d(256, eps=1e-05, momentum=0.1, affine=True)\n",
       "        (relu.1): ReLU(inplace)\n",
       "        (conv.1): Conv2d (256, 128, kernel_size=(1, 1), stride=(1, 1), bias=False)\n",
       "        (norm.2): BatchNorm2d(128, eps=1e-05, momentum=0.1, affine=True)\n",
       "        (relu.2): ReLU(inplace)\n",
       "        (conv.2): Conv2d (128, 32, kernel_size=(3, 3), stride=(1, 1), padding=(1, 1), bias=False)\n",
       "      )\n",
       "      (denselayer6): _DenseLayer(\n",
       "        (norm.1): BatchNorm2d(288, eps=1e-05, momentum=0.1, affine=True)\n",
       "        (relu.1): ReLU(inplace)\n",
       "        (conv.1): Conv2d (288, 128, kernel_size=(1, 1), stride=(1, 1), bias=False)\n",
       "        (norm.2): BatchNorm2d(128, eps=1e-05, momentum=0.1, affine=True)\n",
       "        (relu.2): ReLU(inplace)\n",
       "        (conv.2): Conv2d (128, 32, kernel_size=(3, 3), stride=(1, 1), padding=(1, 1), bias=False)\n",
       "      )\n",
       "      (denselayer7): _DenseLayer(\n",
       "        (norm.1): BatchNorm2d(320, eps=1e-05, momentum=0.1, affine=True)\n",
       "        (relu.1): ReLU(inplace)\n",
       "        (conv.1): Conv2d (320, 128, kernel_size=(1, 1), stride=(1, 1), bias=False)\n",
       "        (norm.2): BatchNorm2d(128, eps=1e-05, momentum=0.1, affine=True)\n",
       "        (relu.2): ReLU(inplace)\n",
       "        (conv.2): Conv2d (128, 32, kernel_size=(3, 3), stride=(1, 1), padding=(1, 1), bias=False)\n",
       "      )\n",
       "      (denselayer8): _DenseLayer(\n",
       "        (norm.1): BatchNorm2d(352, eps=1e-05, momentum=0.1, affine=True)\n",
       "        (relu.1): ReLU(inplace)\n",
       "        (conv.1): Conv2d (352, 128, kernel_size=(1, 1), stride=(1, 1), bias=False)\n",
       "        (norm.2): BatchNorm2d(128, eps=1e-05, momentum=0.1, affine=True)\n",
       "        (relu.2): ReLU(inplace)\n",
       "        (conv.2): Conv2d (128, 32, kernel_size=(3, 3), stride=(1, 1), padding=(1, 1), bias=False)\n",
       "      )\n",
       "      (denselayer9): _DenseLayer(\n",
       "        (norm.1): BatchNorm2d(384, eps=1e-05, momentum=0.1, affine=True)\n",
       "        (relu.1): ReLU(inplace)\n",
       "        (conv.1): Conv2d (384, 128, kernel_size=(1, 1), stride=(1, 1), bias=False)\n",
       "        (norm.2): BatchNorm2d(128, eps=1e-05, momentum=0.1, affine=True)\n",
       "        (relu.2): ReLU(inplace)\n",
       "        (conv.2): Conv2d (128, 32, kernel_size=(3, 3), stride=(1, 1), padding=(1, 1), bias=False)\n",
       "      )\n",
       "      (denselayer10): _DenseLayer(\n",
       "        (norm.1): BatchNorm2d(416, eps=1e-05, momentum=0.1, affine=True)\n",
       "        (relu.1): ReLU(inplace)\n",
       "        (conv.1): Conv2d (416, 128, kernel_size=(1, 1), stride=(1, 1), bias=False)\n",
       "        (norm.2): BatchNorm2d(128, eps=1e-05, momentum=0.1, affine=True)\n",
       "        (relu.2): ReLU(inplace)\n",
       "        (conv.2): Conv2d (128, 32, kernel_size=(3, 3), stride=(1, 1), padding=(1, 1), bias=False)\n",
       "      )\n",
       "      (denselayer11): _DenseLayer(\n",
       "        (norm.1): BatchNorm2d(448, eps=1e-05, momentum=0.1, affine=True)\n",
       "        (relu.1): ReLU(inplace)\n",
       "        (conv.1): Conv2d (448, 128, kernel_size=(1, 1), stride=(1, 1), bias=False)\n",
       "        (norm.2): BatchNorm2d(128, eps=1e-05, momentum=0.1, affine=True)\n",
       "        (relu.2): ReLU(inplace)\n",
       "        (conv.2): Conv2d (128, 32, kernel_size=(3, 3), stride=(1, 1), padding=(1, 1), bias=False)\n",
       "      )\n",
       "      (denselayer12): _DenseLayer(\n",
       "        (norm.1): BatchNorm2d(480, eps=1e-05, momentum=0.1, affine=True)\n",
       "        (relu.1): ReLU(inplace)\n",
       "        (conv.1): Conv2d (480, 128, kernel_size=(1, 1), stride=(1, 1), bias=False)\n",
       "        (norm.2): BatchNorm2d(128, eps=1e-05, momentum=0.1, affine=True)\n",
       "        (relu.2): ReLU(inplace)\n",
       "        (conv.2): Conv2d (128, 32, kernel_size=(3, 3), stride=(1, 1), padding=(1, 1), bias=False)\n",
       "      )\n",
       "    )\n",
       "    (transition2): _Transition(\n",
       "      (norm): BatchNorm2d(512, eps=1e-05, momentum=0.1, affine=True)\n",
       "      (relu): ReLU(inplace)\n",
       "      (conv): Conv2d (512, 256, kernel_size=(1, 1), stride=(1, 1), bias=False)\n",
       "      (pool): AvgPool2d(kernel_size=2, stride=2, padding=0, ceil_mode=False, count_include_pad=True)\n",
       "    )\n",
       "    (denseblock3): _DenseBlock(\n",
       "      (denselayer1): _DenseLayer(\n",
       "        (norm.1): BatchNorm2d(256, eps=1e-05, momentum=0.1, affine=True)\n",
       "        (relu.1): ReLU(inplace)\n",
       "        (conv.1): Conv2d (256, 128, kernel_size=(1, 1), stride=(1, 1), bias=False)\n",
       "        (norm.2): BatchNorm2d(128, eps=1e-05, momentum=0.1, affine=True)\n",
       "        (relu.2): ReLU(inplace)\n",
       "        (conv.2): Conv2d (128, 32, kernel_size=(3, 3), stride=(1, 1), padding=(1, 1), bias=False)\n",
       "      )\n",
       "      (denselayer2): _DenseLayer(\n",
       "        (norm.1): BatchNorm2d(288, eps=1e-05, momentum=0.1, affine=True)\n",
       "        (relu.1): ReLU(inplace)\n",
       "        (conv.1): Conv2d (288, 128, kernel_size=(1, 1), stride=(1, 1), bias=False)\n",
       "        (norm.2): BatchNorm2d(128, eps=1e-05, momentum=0.1, affine=True)\n",
       "        (relu.2): ReLU(inplace)\n",
       "        (conv.2): Conv2d (128, 32, kernel_size=(3, 3), stride=(1, 1), padding=(1, 1), bias=False)\n",
       "      )\n",
       "      (denselayer3): _DenseLayer(\n",
       "        (norm.1): BatchNorm2d(320, eps=1e-05, momentum=0.1, affine=True)\n",
       "        (relu.1): ReLU(inplace)\n",
       "        (conv.1): Conv2d (320, 128, kernel_size=(1, 1), stride=(1, 1), bias=False)\n",
       "        (norm.2): BatchNorm2d(128, eps=1e-05, momentum=0.1, affine=True)\n",
       "        (relu.2): ReLU(inplace)\n",
       "        (conv.2): Conv2d (128, 32, kernel_size=(3, 3), stride=(1, 1), padding=(1, 1), bias=False)\n",
       "      )\n",
       "      (denselayer4): _DenseLayer(\n",
       "        (norm.1): BatchNorm2d(352, eps=1e-05, momentum=0.1, affine=True)\n",
       "        (relu.1): ReLU(inplace)\n",
       "        (conv.1): Conv2d (352, 128, kernel_size=(1, 1), stride=(1, 1), bias=False)\n",
       "        (norm.2): BatchNorm2d(128, eps=1e-05, momentum=0.1, affine=True)\n",
       "        (relu.2): ReLU(inplace)\n",
       "        (conv.2): Conv2d (128, 32, kernel_size=(3, 3), stride=(1, 1), padding=(1, 1), bias=False)\n",
       "      )\n",
       "      (denselayer5): _DenseLayer(\n",
       "        (norm.1): BatchNorm2d(384, eps=1e-05, momentum=0.1, affine=True)\n",
       "        (relu.1): ReLU(inplace)\n",
       "        (conv.1): Conv2d (384, 128, kernel_size=(1, 1), stride=(1, 1), bias=False)\n",
       "        (norm.2): BatchNorm2d(128, eps=1e-05, momentum=0.1, affine=True)\n",
       "        (relu.2): ReLU(inplace)\n",
       "        (conv.2): Conv2d (128, 32, kernel_size=(3, 3), stride=(1, 1), padding=(1, 1), bias=False)\n",
       "      )\n",
       "      (denselayer6): _DenseLayer(\n",
       "        (norm.1): BatchNorm2d(416, eps=1e-05, momentum=0.1, affine=True)\n",
       "        (relu.1): ReLU(inplace)\n",
       "        (conv.1): Conv2d (416, 128, kernel_size=(1, 1), stride=(1, 1), bias=False)\n",
       "        (norm.2): BatchNorm2d(128, eps=1e-05, momentum=0.1, affine=True)\n",
       "        (relu.2): ReLU(inplace)\n",
       "        (conv.2): Conv2d (128, 32, kernel_size=(3, 3), stride=(1, 1), padding=(1, 1), bias=False)\n",
       "      )\n",
       "      (denselayer7): _DenseLayer(\n",
       "        (norm.1): BatchNorm2d(448, eps=1e-05, momentum=0.1, affine=True)\n",
       "        (relu.1): ReLU(inplace)\n",
       "        (conv.1): Conv2d (448, 128, kernel_size=(1, 1), stride=(1, 1), bias=False)\n",
       "        (norm.2): BatchNorm2d(128, eps=1e-05, momentum=0.1, affine=True)\n",
       "        (relu.2): ReLU(inplace)\n",
       "        (conv.2): Conv2d (128, 32, kernel_size=(3, 3), stride=(1, 1), padding=(1, 1), bias=False)\n",
       "      )\n",
       "      (denselayer8): _DenseLayer(\n",
       "        (norm.1): BatchNorm2d(480, eps=1e-05, momentum=0.1, affine=True)\n",
       "        (relu.1): ReLU(inplace)\n",
       "        (conv.1): Conv2d (480, 128, kernel_size=(1, 1), stride=(1, 1), bias=False)\n",
       "        (norm.2): BatchNorm2d(128, eps=1e-05, momentum=0.1, affine=True)\n",
       "        (relu.2): ReLU(inplace)\n",
       "        (conv.2): Conv2d (128, 32, kernel_size=(3, 3), stride=(1, 1), padding=(1, 1), bias=False)\n",
       "      )\n",
       "      (denselayer9): _DenseLayer(\n",
       "        (norm.1): BatchNorm2d(512, eps=1e-05, momentum=0.1, affine=True)\n",
       "        (relu.1): ReLU(inplace)\n",
       "        (conv.1): Conv2d (512, 128, kernel_size=(1, 1), stride=(1, 1), bias=False)\n",
       "        (norm.2): BatchNorm2d(128, eps=1e-05, momentum=0.1, affine=True)\n",
       "        (relu.2): ReLU(inplace)\n",
       "        (conv.2): Conv2d (128, 32, kernel_size=(3, 3), stride=(1, 1), padding=(1, 1), bias=False)\n",
       "      )\n",
       "      (denselayer10): _DenseLayer(\n",
       "        (norm.1): BatchNorm2d(544, eps=1e-05, momentum=0.1, affine=True)\n",
       "        (relu.1): ReLU(inplace)\n",
       "        (conv.1): Conv2d (544, 128, kernel_size=(1, 1), stride=(1, 1), bias=False)\n",
       "        (norm.2): BatchNorm2d(128, eps=1e-05, momentum=0.1, affine=True)\n",
       "        (relu.2): ReLU(inplace)\n",
       "        (conv.2): Conv2d (128, 32, kernel_size=(3, 3), stride=(1, 1), padding=(1, 1), bias=False)\n",
       "      )\n",
       "      (denselayer11): _DenseLayer(\n",
       "        (norm.1): BatchNorm2d(576, eps=1e-05, momentum=0.1, affine=True)\n",
       "        (relu.1): ReLU(inplace)\n",
       "        (conv.1): Conv2d (576, 128, kernel_size=(1, 1), stride=(1, 1), bias=False)\n",
       "        (norm.2): BatchNorm2d(128, eps=1e-05, momentum=0.1, affine=True)\n",
       "        (relu.2): ReLU(inplace)\n",
       "        (conv.2): Conv2d (128, 32, kernel_size=(3, 3), stride=(1, 1), padding=(1, 1), bias=False)\n",
       "      )\n",
       "      (denselayer12): _DenseLayer(\n",
       "        (norm.1): BatchNorm2d(608, eps=1e-05, momentum=0.1, affine=True)\n",
       "        (relu.1): ReLU(inplace)\n",
       "        (conv.1): Conv2d (608, 128, kernel_size=(1, 1), stride=(1, 1), bias=False)\n",
       "        (norm.2): BatchNorm2d(128, eps=1e-05, momentum=0.1, affine=True)\n",
       "        (relu.2): ReLU(inplace)\n",
       "        (conv.2): Conv2d (128, 32, kernel_size=(3, 3), stride=(1, 1), padding=(1, 1), bias=False)\n",
       "      )\n",
       "      (denselayer13): _DenseLayer(\n",
       "        (norm.1): BatchNorm2d(640, eps=1e-05, momentum=0.1, affine=True)\n",
       "        (relu.1): ReLU(inplace)\n",
       "        (conv.1): Conv2d (640, 128, kernel_size=(1, 1), stride=(1, 1), bias=False)\n",
       "        (norm.2): BatchNorm2d(128, eps=1e-05, momentum=0.1, affine=True)\n",
       "        (relu.2): ReLU(inplace)\n",
       "        (conv.2): Conv2d (128, 32, kernel_size=(3, 3), stride=(1, 1), padding=(1, 1), bias=False)\n",
       "      )\n",
       "      (denselayer14): _DenseLayer(\n",
       "        (norm.1): BatchNorm2d(672, eps=1e-05, momentum=0.1, affine=True)\n",
       "        (relu.1): ReLU(inplace)\n",
       "        (conv.1): Conv2d (672, 128, kernel_size=(1, 1), stride=(1, 1), bias=False)\n",
       "        (norm.2): BatchNorm2d(128, eps=1e-05, momentum=0.1, affine=True)\n",
       "        (relu.2): ReLU(inplace)\n",
       "        (conv.2): Conv2d (128, 32, kernel_size=(3, 3), stride=(1, 1), padding=(1, 1), bias=False)\n",
       "      )\n",
       "      (denselayer15): _DenseLayer(\n",
       "        (norm.1): BatchNorm2d(704, eps=1e-05, momentum=0.1, affine=True)\n",
       "        (relu.1): ReLU(inplace)\n",
       "        (conv.1): Conv2d (704, 128, kernel_size=(1, 1), stride=(1, 1), bias=False)\n",
       "        (norm.2): BatchNorm2d(128, eps=1e-05, momentum=0.1, affine=True)\n",
       "        (relu.2): ReLU(inplace)\n",
       "        (conv.2): Conv2d (128, 32, kernel_size=(3, 3), stride=(1, 1), padding=(1, 1), bias=False)\n",
       "      )\n",
       "      (denselayer16): _DenseLayer(\n",
       "        (norm.1): BatchNorm2d(736, eps=1e-05, momentum=0.1, affine=True)\n",
       "        (relu.1): ReLU(inplace)\n",
       "        (conv.1): Conv2d (736, 128, kernel_size=(1, 1), stride=(1, 1), bias=False)\n",
       "        (norm.2): BatchNorm2d(128, eps=1e-05, momentum=0.1, affine=True)\n",
       "        (relu.2): ReLU(inplace)\n",
       "        (conv.2): Conv2d (128, 32, kernel_size=(3, 3), stride=(1, 1), padding=(1, 1), bias=False)\n",
       "      )\n",
       "      (denselayer17): _DenseLayer(\n",
       "        (norm.1): BatchNorm2d(768, eps=1e-05, momentum=0.1, affine=True)\n",
       "        (relu.1): ReLU(inplace)\n",
       "        (conv.1): Conv2d (768, 128, kernel_size=(1, 1), stride=(1, 1), bias=False)\n",
       "        (norm.2): BatchNorm2d(128, eps=1e-05, momentum=0.1, affine=True)\n",
       "        (relu.2): ReLU(inplace)\n",
       "        (conv.2): Conv2d (128, 32, kernel_size=(3, 3), stride=(1, 1), padding=(1, 1), bias=False)\n",
       "      )\n",
       "      (denselayer18): _DenseLayer(\n",
       "        (norm.1): BatchNorm2d(800, eps=1e-05, momentum=0.1, affine=True)\n",
       "        (relu.1): ReLU(inplace)\n",
       "        (conv.1): Conv2d (800, 128, kernel_size=(1, 1), stride=(1, 1), bias=False)\n",
       "        (norm.2): BatchNorm2d(128, eps=1e-05, momentum=0.1, affine=True)\n",
       "        (relu.2): ReLU(inplace)\n",
       "        (conv.2): Conv2d (128, 32, kernel_size=(3, 3), stride=(1, 1), padding=(1, 1), bias=False)\n",
       "      )\n",
       "      (denselayer19): _DenseLayer(\n",
       "        (norm.1): BatchNorm2d(832, eps=1e-05, momentum=0.1, affine=True)\n",
       "        (relu.1): ReLU(inplace)\n",
       "        (conv.1): Conv2d (832, 128, kernel_size=(1, 1), stride=(1, 1), bias=False)\n",
       "        (norm.2): BatchNorm2d(128, eps=1e-05, momentum=0.1, affine=True)\n",
       "        (relu.2): ReLU(inplace)\n",
       "        (conv.2): Conv2d (128, 32, kernel_size=(3, 3), stride=(1, 1), padding=(1, 1), bias=False)\n",
       "      )\n",
       "      (denselayer20): _DenseLayer(\n",
       "        (norm.1): BatchNorm2d(864, eps=1e-05, momentum=0.1, affine=True)\n",
       "        (relu.1): ReLU(inplace)\n",
       "        (conv.1): Conv2d (864, 128, kernel_size=(1, 1), stride=(1, 1), bias=False)\n",
       "        (norm.2): BatchNorm2d(128, eps=1e-05, momentum=0.1, affine=True)\n",
       "        (relu.2): ReLU(inplace)\n",
       "        (conv.2): Conv2d (128, 32, kernel_size=(3, 3), stride=(1, 1), padding=(1, 1), bias=False)\n",
       "      )\n",
       "      (denselayer21): _DenseLayer(\n",
       "        (norm.1): BatchNorm2d(896, eps=1e-05, momentum=0.1, affine=True)\n",
       "        (relu.1): ReLU(inplace)\n",
       "        (conv.1): Conv2d (896, 128, kernel_size=(1, 1), stride=(1, 1), bias=False)\n",
       "        (norm.2): BatchNorm2d(128, eps=1e-05, momentum=0.1, affine=True)\n",
       "        (relu.2): ReLU(inplace)\n",
       "        (conv.2): Conv2d (128, 32, kernel_size=(3, 3), stride=(1, 1), padding=(1, 1), bias=False)\n",
       "      )\n",
       "      (denselayer22): _DenseLayer(\n",
       "        (norm.1): BatchNorm2d(928, eps=1e-05, momentum=0.1, affine=True)\n",
       "        (relu.1): ReLU(inplace)\n",
       "        (conv.1): Conv2d (928, 128, kernel_size=(1, 1), stride=(1, 1), bias=False)\n",
       "        (norm.2): BatchNorm2d(128, eps=1e-05, momentum=0.1, affine=True)\n",
       "        (relu.2): ReLU(inplace)\n",
       "        (conv.2): Conv2d (128, 32, kernel_size=(3, 3), stride=(1, 1), padding=(1, 1), bias=False)\n",
       "      )\n",
       "      (denselayer23): _DenseLayer(\n",
       "        (norm.1): BatchNorm2d(960, eps=1e-05, momentum=0.1, affine=True)\n",
       "        (relu.1): ReLU(inplace)\n",
       "        (conv.1): Conv2d (960, 128, kernel_size=(1, 1), stride=(1, 1), bias=False)\n",
       "        (norm.2): BatchNorm2d(128, eps=1e-05, momentum=0.1, affine=True)\n",
       "        (relu.2): ReLU(inplace)\n",
       "        (conv.2): Conv2d (128, 32, kernel_size=(3, 3), stride=(1, 1), padding=(1, 1), bias=False)\n",
       "      )\n",
       "      (denselayer24): _DenseLayer(\n",
       "        (norm.1): BatchNorm2d(992, eps=1e-05, momentum=0.1, affine=True)\n",
       "        (relu.1): ReLU(inplace)\n",
       "        (conv.1): Conv2d (992, 128, kernel_size=(1, 1), stride=(1, 1), bias=False)\n",
       "        (norm.2): BatchNorm2d(128, eps=1e-05, momentum=0.1, affine=True)\n",
       "        (relu.2): ReLU(inplace)\n",
       "        (conv.2): Conv2d (128, 32, kernel_size=(3, 3), stride=(1, 1), padding=(1, 1), bias=False)\n",
       "      )\n",
       "    )\n",
       "    (transition3): _Transition(\n",
       "      (norm): BatchNorm2d(1024, eps=1e-05, momentum=0.1, affine=True)\n",
       "      (relu): ReLU(inplace)\n",
       "      (conv): Conv2d (1024, 512, kernel_size=(1, 1), stride=(1, 1), bias=False)\n",
       "      (pool): AvgPool2d(kernel_size=2, stride=2, padding=0, ceil_mode=False, count_include_pad=True)\n",
       "    )\n",
       "    (denseblock4): _DenseBlock(\n",
       "      (denselayer1): _DenseLayer(\n",
       "        (norm.1): BatchNorm2d(512, eps=1e-05, momentum=0.1, affine=True)\n",
       "        (relu.1): ReLU(inplace)\n",
       "        (conv.1): Conv2d (512, 128, kernel_size=(1, 1), stride=(1, 1), bias=False)\n",
       "        (norm.2): BatchNorm2d(128, eps=1e-05, momentum=0.1, affine=True)\n",
       "        (relu.2): ReLU(inplace)\n",
       "        (conv.2): Conv2d (128, 32, kernel_size=(3, 3), stride=(1, 1), padding=(1, 1), bias=False)\n",
       "      )\n",
       "      (denselayer2): _DenseLayer(\n",
       "        (norm.1): BatchNorm2d(544, eps=1e-05, momentum=0.1, affine=True)\n",
       "        (relu.1): ReLU(inplace)\n",
       "        (conv.1): Conv2d (544, 128, kernel_size=(1, 1), stride=(1, 1), bias=False)\n",
       "        (norm.2): BatchNorm2d(128, eps=1e-05, momentum=0.1, affine=True)\n",
       "        (relu.2): ReLU(inplace)\n",
       "        (conv.2): Conv2d (128, 32, kernel_size=(3, 3), stride=(1, 1), padding=(1, 1), bias=False)\n",
       "      )\n",
       "      (denselayer3): _DenseLayer(\n",
       "        (norm.1): BatchNorm2d(576, eps=1e-05, momentum=0.1, affine=True)\n",
       "        (relu.1): ReLU(inplace)\n",
       "        (conv.1): Conv2d (576, 128, kernel_size=(1, 1), stride=(1, 1), bias=False)\n",
       "        (norm.2): BatchNorm2d(128, eps=1e-05, momentum=0.1, affine=True)\n",
       "        (relu.2): ReLU(inplace)\n",
       "        (conv.2): Conv2d (128, 32, kernel_size=(3, 3), stride=(1, 1), padding=(1, 1), bias=False)\n",
       "      )\n",
       "      (denselayer4): _DenseLayer(\n",
       "        (norm.1): BatchNorm2d(608, eps=1e-05, momentum=0.1, affine=True)\n",
       "        (relu.1): ReLU(inplace)\n",
       "        (conv.1): Conv2d (608, 128, kernel_size=(1, 1), stride=(1, 1), bias=False)\n",
       "        (norm.2): BatchNorm2d(128, eps=1e-05, momentum=0.1, affine=True)\n",
       "        (relu.2): ReLU(inplace)\n",
       "        (conv.2): Conv2d (128, 32, kernel_size=(3, 3), stride=(1, 1), padding=(1, 1), bias=False)\n",
       "      )\n",
       "      (denselayer5): _DenseLayer(\n",
       "        (norm.1): BatchNorm2d(640, eps=1e-05, momentum=0.1, affine=True)\n",
       "        (relu.1): ReLU(inplace)\n",
       "        (conv.1): Conv2d (640, 128, kernel_size=(1, 1), stride=(1, 1), bias=False)\n",
       "        (norm.2): BatchNorm2d(128, eps=1e-05, momentum=0.1, affine=True)\n",
       "        (relu.2): ReLU(inplace)\n",
       "        (conv.2): Conv2d (128, 32, kernel_size=(3, 3), stride=(1, 1), padding=(1, 1), bias=False)\n",
       "      )\n",
       "      (denselayer6): _DenseLayer(\n",
       "        (norm.1): BatchNorm2d(672, eps=1e-05, momentum=0.1, affine=True)\n",
       "        (relu.1): ReLU(inplace)\n",
       "        (conv.1): Conv2d (672, 128, kernel_size=(1, 1), stride=(1, 1), bias=False)\n",
       "        (norm.2): BatchNorm2d(128, eps=1e-05, momentum=0.1, affine=True)\n",
       "        (relu.2): ReLU(inplace)\n",
       "        (conv.2): Conv2d (128, 32, kernel_size=(3, 3), stride=(1, 1), padding=(1, 1), bias=False)\n",
       "      )\n",
       "      (denselayer7): _DenseLayer(\n",
       "        (norm.1): BatchNorm2d(704, eps=1e-05, momentum=0.1, affine=True)\n",
       "        (relu.1): ReLU(inplace)\n",
       "        (conv.1): Conv2d (704, 128, kernel_size=(1, 1), stride=(1, 1), bias=False)\n",
       "        (norm.2): BatchNorm2d(128, eps=1e-05, momentum=0.1, affine=True)\n",
       "        (relu.2): ReLU(inplace)\n",
       "        (conv.2): Conv2d (128, 32, kernel_size=(3, 3), stride=(1, 1), padding=(1, 1), bias=False)\n",
       "      )\n",
       "      (denselayer8): _DenseLayer(\n",
       "        (norm.1): BatchNorm2d(736, eps=1e-05, momentum=0.1, affine=True)\n",
       "        (relu.1): ReLU(inplace)\n",
       "        (conv.1): Conv2d (736, 128, kernel_size=(1, 1), stride=(1, 1), bias=False)\n",
       "        (norm.2): BatchNorm2d(128, eps=1e-05, momentum=0.1, affine=True)\n",
       "        (relu.2): ReLU(inplace)\n",
       "        (conv.2): Conv2d (128, 32, kernel_size=(3, 3), stride=(1, 1), padding=(1, 1), bias=False)\n",
       "      )\n",
       "      (denselayer9): _DenseLayer(\n",
       "        (norm.1): BatchNorm2d(768, eps=1e-05, momentum=0.1, affine=True)\n",
       "        (relu.1): ReLU(inplace)\n",
       "        (conv.1): Conv2d (768, 128, kernel_size=(1, 1), stride=(1, 1), bias=False)\n",
       "        (norm.2): BatchNorm2d(128, eps=1e-05, momentum=0.1, affine=True)\n",
       "        (relu.2): ReLU(inplace)\n",
       "        (conv.2): Conv2d (128, 32, kernel_size=(3, 3), stride=(1, 1), padding=(1, 1), bias=False)\n",
       "      )\n",
       "      (denselayer10): _DenseLayer(\n",
       "        (norm.1): BatchNorm2d(800, eps=1e-05, momentum=0.1, affine=True)\n",
       "        (relu.1): ReLU(inplace)\n",
       "        (conv.1): Conv2d (800, 128, kernel_size=(1, 1), stride=(1, 1), bias=False)\n",
       "        (norm.2): BatchNorm2d(128, eps=1e-05, momentum=0.1, affine=True)\n",
       "        (relu.2): ReLU(inplace)\n",
       "        (conv.2): Conv2d (128, 32, kernel_size=(3, 3), stride=(1, 1), padding=(1, 1), bias=False)\n",
       "      )\n",
       "      (denselayer11): _DenseLayer(\n",
       "        (norm.1): BatchNorm2d(832, eps=1e-05, momentum=0.1, affine=True)\n",
       "        (relu.1): ReLU(inplace)\n",
       "        (conv.1): Conv2d (832, 128, kernel_size=(1, 1), stride=(1, 1), bias=False)\n",
       "        (norm.2): BatchNorm2d(128, eps=1e-05, momentum=0.1, affine=True)\n",
       "        (relu.2): ReLU(inplace)\n",
       "        (conv.2): Conv2d (128, 32, kernel_size=(3, 3), stride=(1, 1), padding=(1, 1), bias=False)\n",
       "      )\n",
       "      (denselayer12): _DenseLayer(\n",
       "        (norm.1): BatchNorm2d(864, eps=1e-05, momentum=0.1, affine=True)\n",
       "        (relu.1): ReLU(inplace)\n",
       "        (conv.1): Conv2d (864, 128, kernel_size=(1, 1), stride=(1, 1), bias=False)\n",
       "        (norm.2): BatchNorm2d(128, eps=1e-05, momentum=0.1, affine=True)\n",
       "        (relu.2): ReLU(inplace)\n",
       "        (conv.2): Conv2d (128, 32, kernel_size=(3, 3), stride=(1, 1), padding=(1, 1), bias=False)\n",
       "      )\n",
       "      (denselayer13): _DenseLayer(\n",
       "        (norm.1): BatchNorm2d(896, eps=1e-05, momentum=0.1, affine=True)\n",
       "        (relu.1): ReLU(inplace)\n",
       "        (conv.1): Conv2d (896, 128, kernel_size=(1, 1), stride=(1, 1), bias=False)\n",
       "        (norm.2): BatchNorm2d(128, eps=1e-05, momentum=0.1, affine=True)\n",
       "        (relu.2): ReLU(inplace)\n",
       "        (conv.2): Conv2d (128, 32, kernel_size=(3, 3), stride=(1, 1), padding=(1, 1), bias=False)\n",
       "      )\n",
       "      (denselayer14): _DenseLayer(\n",
       "        (norm.1): BatchNorm2d(928, eps=1e-05, momentum=0.1, affine=True)\n",
       "        (relu.1): ReLU(inplace)\n",
       "        (conv.1): Conv2d (928, 128, kernel_size=(1, 1), stride=(1, 1), bias=False)\n",
       "        (norm.2): BatchNorm2d(128, eps=1e-05, momentum=0.1, affine=True)\n",
       "        (relu.2): ReLU(inplace)\n",
       "        (conv.2): Conv2d (128, 32, kernel_size=(3, 3), stride=(1, 1), padding=(1, 1), bias=False)\n",
       "      )\n",
       "      (denselayer15): _DenseLayer(\n",
       "        (norm.1): BatchNorm2d(960, eps=1e-05, momentum=0.1, affine=True)\n",
       "        (relu.1): ReLU(inplace)\n",
       "        (conv.1): Conv2d (960, 128, kernel_size=(1, 1), stride=(1, 1), bias=False)\n",
       "        (norm.2): BatchNorm2d(128, eps=1e-05, momentum=0.1, affine=True)\n",
       "        (relu.2): ReLU(inplace)\n",
       "        (conv.2): Conv2d (128, 32, kernel_size=(3, 3), stride=(1, 1), padding=(1, 1), bias=False)\n",
       "      )\n",
       "      (denselayer16): _DenseLayer(\n",
       "        (norm.1): BatchNorm2d(992, eps=1e-05, momentum=0.1, affine=True)\n",
       "        (relu.1): ReLU(inplace)\n",
       "        (conv.1): Conv2d (992, 128, kernel_size=(1, 1), stride=(1, 1), bias=False)\n",
       "        (norm.2): BatchNorm2d(128, eps=1e-05, momentum=0.1, affine=True)\n",
       "        (relu.2): ReLU(inplace)\n",
       "        (conv.2): Conv2d (128, 32, kernel_size=(3, 3), stride=(1, 1), padding=(1, 1), bias=False)\n",
       "      )\n",
       "    )\n",
       "    (norm5): BatchNorm2d(1024, eps=1e-05, momentum=0.1, affine=True)\n",
       "  )\n",
       "  (1): AdaptiveConcatPool2d(\n",
       "    (ap): AdaptiveAvgPool2d(output_size=(1, 1))\n",
       "    (mp): AdaptiveMaxPool2d(output_size=(1, 1))\n",
       "  )\n",
       "  (2): Flatten(\n",
       "  )\n",
       "  (3): BatchNorm1d(2048, eps=1e-05, momentum=0.1, affine=True)\n",
       "  (4): Dropout(p=0.25)\n",
       "  (5): Linear(in_features=2048, out_features=512)\n",
       "  (6): ReLU()\n",
       "  (7): BatchNorm1d(512, eps=1e-05, momentum=0.1, affine=True)\n",
       "  (8): Dropout(p=0.5)\n",
       "  (9): Linear(in_features=512, out_features=2)\n",
       "  (10): LogSoftmax()\n",
       ")"
      ]
     },
     "execution_count": 21,
     "metadata": {},
     "output_type": "execute_result"
    }
   ],
   "source": [
    "learner"
   ]
  },
  {
   "cell_type": "code",
   "execution_count": 7,
   "metadata": {
    "hidden": true,
    "scrolled": true
   },
   "outputs": [
    {
     "data": {
      "application/vnd.jupyter.widget-view+json": {
       "model_id": "4ae8303e86464104a38ec88e4c4071f8",
       "version_major": 2,
       "version_minor": 0
      },
      "text/html": [
       "<p>Failed to display Jupyter Widget of type <code>HBox</code>.</p>\n",
       "<p>\n",
       "  If you're reading this message in the Jupyter Notebook or JupyterLab Notebook, it may mean\n",
       "  that the widgets JavaScript is still loading. If this message persists, it\n",
       "  likely means that the widgets JavaScript library is either not installed or\n",
       "  not enabled. See the <a href=\"https://ipywidgets.readthedocs.io/en/stable/user_install.html\">Jupyter\n",
       "  Widgets Documentation</a> for setup instructions.\n",
       "</p>\n",
       "<p>\n",
       "  If you're reading this message in another frontend (for example, a static\n",
       "  rendering on GitHub or <a href=\"https://nbviewer.jupyter.org/\">NBViewer</a>),\n",
       "  it may mean that your frontend doesn't currently support widgets.\n",
       "</p>\n"
      ],
      "text/plain": [
       "HBox(children=(IntProgress(value=0, description='Epoch', max=1), HTML(value='')))"
      ]
     },
     "metadata": {},
     "output_type": "display_data"
    },
    {
     "name": "stdout",
     "output_type": "stream",
     "text": [
      " 81%|████████  | 147/181 [00:17<00:04,  8.39it/s, loss=2.51] "
     ]
    },
    {
     "data": {
      "image/png": "[encoded data removed]",
      "text/plain": [
       "<matplotlib.figure.Figure at 0x7f9eb7c2ee10>"
      ]
     },
     "metadata": {},
     "output_type": "display_data"
    }
   ],
   "source": [
    "learner.lr_find()\n",
    "learner.sched.plot()"
   ]
  },
  {
   "cell_type": "code",
   "execution_count": 9,
   "metadata": {
    "hidden": true
   },
   "outputs": [],
   "source": [
    "λr, wd = 5e-3, 1.25e-3"
   ]
  },
  {
   "cell_type": "code",
   "execution_count": 10,
   "metadata": {
    "hidden": true
   },
   "outputs": [
    {
     "data": {
      "application/vnd.jupyter.widget-view+json": {
       "model_id": "be00c0dfc8034fa38a39febaf62ba124",
       "version_major": 2,
       "version_minor": 0
      },
      "text/html": [
       "<p>Failed to display Jupyter Widget of type <code>HBox</code>.</p>\n",
       "<p>\n",
       "  If you're reading this message in the Jupyter Notebook or JupyterLab Notebook, it may mean\n",
       "  that the widgets JavaScript is still loading. If this message persists, it\n",
       "  likely means that the widgets JavaScript library is either not installed or\n",
       "  not enabled. See the <a href=\"https://ipywidgets.readthedocs.io/en/stable/user_install.html\">Jupyter\n",
       "  Widgets Documentation</a> for setup instructions.\n",
       "</p>\n",
       "<p>\n",
       "  If you're reading this message in another frontend (for example, a static\n",
       "  rendering on GitHub or <a href=\"https://nbviewer.jupyter.org/\">NBViewer</a>),\n",
       "  it may mean that your frontend doesn't currently support widgets.\n",
       "</p>\n"
      ],
      "text/plain": [
       "HBox(children=(IntProgress(value=0, description='Epoch', max=1), HTML(value='')))"
      ]
     },
     "metadata": {},
     "output_type": "display_data"
    },
    {
     "name": "stdout",
     "output_type": "stream",
     "text": [
      "\n",
      "  0%|          | 0/181 [00:00<?, ?it/s]\u001b[A\n",
      "  0%|          | 0/181 [00:00<?, ?it/s, loss=0.885]\u001b[A\n",
      "  1%|          | 1/181 [00:00<01:03,  2.82it/s, loss=0.885]\u001b[A\n",
      "  1%|          | 1/181 [00:00<01:24,  2.13it/s, loss=0.876]\u001b[A\n",
      "  1%|          | 2/181 [00:00<00:42,  4.20it/s, loss=0.876]\u001b[A\n",
      "  1%|          | 2/181 [00:00<00:53,  3.38it/s, loss=0.919]\u001b[A\n",
      "                                                            [A\n",
      "  2%|▏         | 4/181 [00:00<00:36,  4.82it/s, loss=0.884]"
     ]
    },
    {
     "name": "stderr",
     "output_type": "stream",
     "text": [
      "Exception in thread Thread-4:\n",
      "Traceback (most recent call last):\n",
      "  File \"/home/wnixalo/miniconda3/envs/fastai/lib/python3.6/threading.py\", line 916, in _bootstrap_inner\n",
      "    self.run()\n",
      "  File \"/home/wnixalo/miniconda3/envs/fastai/lib/python3.6/site-packages/tqdm/_tqdm.py\", line 144, in run\n",
      "    for instance in self.tqdm_cls._instances:\n",
      "  File \"/home/wnixalo/miniconda3/envs/fastai/lib/python3.6/_weakrefset.py\", line 60, in __iter__\n",
      "    for itemref in self.data:\n",
      "RuntimeError: Set changed size during iteration\n",
      "\n",
      "Exception in thread Thread-5:\n",
      "Traceback (most recent call last):\n",
      "  File \"/home/wnixalo/miniconda3/envs/fastai/lib/python3.6/threading.py\", line 916, in _bootstrap_inner\n",
      "    self.run()\n",
      "  File \"/home/wnixalo/miniconda3/envs/fastai/lib/python3.6/site-packages/tqdm/_tqdm.py\", line 144, in run\n",
      "    for instance in self.tqdm_cls._instances:\n",
      "  File \"/home/wnixalo/miniconda3/envs/fastai/lib/python3.6/_weakrefset.py\", line 60, in __iter__\n",
      "    for itemref in self.data:\n",
      "RuntimeError: Set changed size during iteration\n",
      "\n"
     ]
    },
    {
     "name": "stdout",
     "output_type": "stream",
     "text": [
      "[ 0.       0.40348  0.50677  0.78513]                        \n",
      "\n",
      "CPU times: user 1min, sys: 7.29 s, total: 1min 8s\n",
      "Wall time: 26.8 s\n"
     ]
    }
   ],
   "source": [
    "%time learner.fit(lrs=λr, n_cycle=1, cycle_len=1, cycle_mult=1)"
   ]
  },
  {
   "cell_type": "code",
   "execution_count": 11,
   "metadata": {
    "hidden": true
   },
   "outputs": [
    {
     "data": {
      "application/vnd.jupyter.widget-view+json": {
       "model_id": "cc2c744c529541f5b7e20c1db4074d6e",
       "version_major": 2,
       "version_minor": 0
      },
      "text/html": [
       "<p>Failed to display Jupyter Widget of type <code>HBox</code>.</p>\n",
       "<p>\n",
       "  If you're reading this message in the Jupyter Notebook or JupyterLab Notebook, it may mean\n",
       "  that the widgets JavaScript is still loading. If this message persists, it\n",
       "  likely means that the widgets JavaScript library is either not installed or\n",
       "  not enabled. See the <a href=\"https://ipywidgets.readthedocs.io/en/stable/user_install.html\">Jupyter\n",
       "  Widgets Documentation</a> for setup instructions.\n",
       "</p>\n",
       "<p>\n",
       "  If you're reading this message in another frontend (for example, a static\n",
       "  rendering on GitHub or <a href=\"https://nbviewer.jupyter.org/\">NBViewer</a>),\n",
       "  it may mean that your frontend doesn't currently support widgets.\n",
       "</p>\n"
      ],
      "text/plain": [
       "HBox(children=(IntProgress(value=0, description='Epoch', max=3), HTML(value='')))"
      ]
     },
     "metadata": {},
     "output_type": "display_data"
    },
    {
     "name": "stdout",
     "output_type": "stream",
     "text": [
      "[ 0.       0.34048  0.50604  0.78337]                        \n",
      "[ 1.       0.34295  0.49099  0.79237]                        \n",
      "[ 2.       0.31943  0.50797  0.79043]                        \n",
      "\n",
      "CPU times: user 3min 4s, sys: 21.8 s, total: 3min 26s\n",
      "Wall time: 1min 20s\n"
     ]
    }
   ],
   "source": [
    "%time learner.fit(lrs=λr, n_cycle=3, cycle_len=1, cycle_mult=1, wds=wd, use_wd_sched=True)"
   ]
  },
  {
   "cell_type": "code",
   "execution_count": 12,
   "metadata": {
    "hidden": true
   },
   "outputs": [
    {
     "data": {
      "application/vnd.jupyter.widget-view+json": {
       "model_id": "5ca1d009752d44e09182d2cd7dd9edbe",
       "version_major": 2,
       "version_minor": 0
      },
      "text/html": [
       "<p>Failed to display Jupyter Widget of type <code>HBox</code>.</p>\n",
       "<p>\n",
       "  If you're reading this message in the Jupyter Notebook or JupyterLab Notebook, it may mean\n",
       "  that the widgets JavaScript is still loading. If this message persists, it\n",
       "  likely means that the widgets JavaScript library is either not installed or\n",
       "  not enabled. See the <a href=\"https://ipywidgets.readthedocs.io/en/stable/user_install.html\">Jupyter\n",
       "  Widgets Documentation</a> for setup instructions.\n",
       "</p>\n",
       "<p>\n",
       "  If you're reading this message in another frontend (for example, a static\n",
       "  rendering on GitHub or <a href=\"https://nbviewer.jupyter.org/\">NBViewer</a>),\n",
       "  it may mean that your frontend doesn't currently support widgets.\n",
       "</p>\n"
      ],
      "text/plain": [
       "HBox(children=(IntProgress(value=0, description='Epoch', max=7), HTML(value='')))"
      ]
     },
     "metadata": {},
     "output_type": "display_data"
    },
    {
     "name": "stdout",
     "output_type": "stream",
     "text": [
      "[ 0.       0.31013  0.5292   0.77648]                        \n",
      "[ 1.       0.29177  0.54177  0.7899 ]                        \n",
      "[ 2.       0.29109  0.50265  0.7899 ]                        \n",
      "[ 3.       0.29234  0.56737  0.77225]                        \n",
      "[ 4.       0.27551  0.54905  0.77807]                        \n",
      "[ 5.       0.28248  0.51809  0.78178]                        \n",
      "[ 6.       0.33419  0.50994  0.77648]                        \n",
      "\n",
      "CPU times: user 7min 10s, sys: 50.4 s, total: 8min 1s\n",
      "Wall time: 3min 8s\n"
     ]
    }
   ],
   "source": [
    "%time learner.fit(lrs=λr, n_cycle=3, cycle_len=1, cycle_mult=2, wds=wd, use_wd_sched=True)"
   ]
  },
  {
   "cell_type": "code",
   "execution_count": 13,
   "metadata": {
    "hidden": true
   },
   "outputs": [],
   "source": [
    "size = 200\n",
    "data = get_data(size)\n",
    "learner.set_data(data)"
   ]
  },
  {
   "cell_type": "code",
   "execution_count": 14,
   "metadata": {
    "hidden": true
   },
   "outputs": [
    {
     "data": {
      "application/vnd.jupyter.widget-view+json": {
       "model_id": "08e2c01e26ad4d54af40080cdd183429",
       "version_major": 2,
       "version_minor": 0
      },
      "text/html": [
       "<p>Failed to display Jupyter Widget of type <code>HBox</code>.</p>\n",
       "<p>\n",
       "  If you're reading this message in the Jupyter Notebook or JupyterLab Notebook, it may mean\n",
       "  that the widgets JavaScript is still loading. If this message persists, it\n",
       "  likely means that the widgets JavaScript library is either not installed or\n",
       "  not enabled. See the <a href=\"https://ipywidgets.readthedocs.io/en/stable/user_install.html\">Jupyter\n",
       "  Widgets Documentation</a> for setup instructions.\n",
       "</p>\n",
       "<p>\n",
       "  If you're reading this message in another frontend (for example, a static\n",
       "  rendering on GitHub or <a href=\"https://nbviewer.jupyter.org/\">NBViewer</a>),\n",
       "  it may mean that your frontend doesn't currently support widgets.\n",
       "</p>\n"
      ],
      "text/plain": [
       "HBox(children=(IntProgress(value=0, description='Epoch', max=1), HTML(value='')))"
      ]
     },
     "metadata": {},
     "output_type": "display_data"
    },
    {
     "name": "stdout",
     "output_type": "stream",
     "text": [
      "[ 0.       0.30686  0.59864  0.7839 ]                        \n",
      "\n",
      "CPU times: user 1min 59s, sys: 24.8 s, total: 2min 23s\n",
      "Wall time: 1min 21s\n"
     ]
    }
   ],
   "source": [
    "%time learner.fit(lrs=λr, n_cycle=1, cycle_len=1, cycle_mult=1)"
   ]
  },
  {
   "cell_type": "code",
   "execution_count": 15,
   "metadata": {
    "hidden": true
   },
   "outputs": [
    {
     "data": {
      "application/vnd.jupyter.widget-view+json": {
       "model_id": "899ef66548b647db8a51a7106c9370fa",
       "version_major": 2,
       "version_minor": 0
      },
      "text/html": [
       "<p>Failed to display Jupyter Widget of type <code>HBox</code>.</p>\n",
       "<p>\n",
       "  If you're reading this message in the Jupyter Notebook or JupyterLab Notebook, it may mean\n",
       "  that the widgets JavaScript is still loading. If this message persists, it\n",
       "  likely means that the widgets JavaScript library is either not installed or\n",
       "  not enabled. See the <a href=\"https://ipywidgets.readthedocs.io/en/stable/user_install.html\">Jupyter\n",
       "  Widgets Documentation</a> for setup instructions.\n",
       "</p>\n",
       "<p>\n",
       "  If you're reading this message in another frontend (for example, a static\n",
       "  rendering on GitHub or <a href=\"https://nbviewer.jupyter.org/\">NBViewer</a>),\n",
       "  it may mean that your frontend doesn't currently support widgets.\n",
       "</p>\n"
      ],
      "text/plain": [
       "HBox(children=(IntProgress(value=0, description='Epoch', max=3), HTML(value='')))"
      ]
     },
     "metadata": {},
     "output_type": "display_data"
    },
    {
     "name": "stdout",
     "output_type": "stream",
     "text": [
      "[ 0.       0.28854  0.54378  0.78337]                        \n",
      "[ 1.       0.28253  0.53904  0.78125]                        \n",
      "[ 2.       0.2825   0.53918  0.78125]                        \n",
      "\n",
      "CPU times: user 5min 58s, sys: 1min 14s, total: 7min 12s\n",
      "Wall time: 4min 6s\n"
     ]
    }
   ],
   "source": [
    "%time learner.fit(lrs=λr, n_cycle=3, cycle_len=1, cycle_mult=1, wds=wd, use_wd_sched=True)"
   ]
  },
  {
   "cell_type": "code",
   "execution_count": 16,
   "metadata": {
    "hidden": true
   },
   "outputs": [
    {
     "data": {
      "application/vnd.jupyter.widget-view+json": {
       "model_id": "50aabbca9dda4f969a19b78979ee5b96",
       "version_major": 2,
       "version_minor": 0
      },
      "text/html": [
       "<p>Failed to display Jupyter Widget of type <code>HBox</code>.</p>\n",
       "<p>\n",
       "  If you're reading this message in the Jupyter Notebook or JupyterLab Notebook, it may mean\n",
       "  that the widgets JavaScript is still loading. If this message persists, it\n",
       "  likely means that the widgets JavaScript library is either not installed or\n",
       "  not enabled. See the <a href=\"https://ipywidgets.readthedocs.io/en/stable/user_install.html\">Jupyter\n",
       "  Widgets Documentation</a> for setup instructions.\n",
       "</p>\n",
       "<p>\n",
       "  If you're reading this message in another frontend (for example, a static\n",
       "  rendering on GitHub or <a href=\"https://nbviewer.jupyter.org/\">NBViewer</a>),\n",
       "  it may mean that your frontend doesn't currently support widgets.\n",
       "</p>\n"
      ],
      "text/plain": [
       "HBox(children=(IntProgress(value=0, description='Epoch', max=7), HTML(value='')))"
      ]
     },
     "metadata": {},
     "output_type": "display_data"
    },
    {
     "name": "stdout",
     "output_type": "stream",
     "text": [
      "[ 0.       0.28208  0.54478  0.78337]                        \n",
      "[ 1.       0.28321  0.60983  0.78231]                        \n",
      "[ 2.       0.29614  0.55017  0.77807]                        \n",
      "[ 3.       0.2904   0.59232  0.79025]                        \n",
      "[ 4.       0.28134  0.61679  0.78125]                        \n",
      "[ 5.       0.2734   0.55081  0.78072]                        \n",
      "[ 6.       0.3322   0.51724  0.77966]                        \n",
      "\n",
      "CPU times: user 13min 54s, sys: 2min 53s, total: 16min 48s\n",
      "Wall time: 9min 34s\n"
     ]
    }
   ],
   "source": [
    "%time learner.fit(lrs=λr, n_cycle=3, cycle_len=1, cycle_mult=2, wds=wd, use_wd_sched=True)"
   ]
  },
  {
   "cell_type": "code",
   "execution_count": 17,
   "metadata": {
    "hidden": true
   },
   "outputs": [],
   "source": [
    "size = 400\n",
    "data = get_data(size)\n",
    "learner.set_data(data)"
   ]
  },
  {
   "cell_type": "code",
   "execution_count": 18,
   "metadata": {
    "hidden": true
   },
   "outputs": [
    {
     "data": {
      "application/vnd.jupyter.widget-view+json": {
       "model_id": "a50d4b58c45844d9bf07b159043535df",
       "version_major": 2,
       "version_minor": 0
      },
      "text/html": [
       "<p>Failed to display Jupyter Widget of type <code>HBox</code>.</p>\n",
       "<p>\n",
       "  If you're reading this message in the Jupyter Notebook or JupyterLab Notebook, it may mean\n",
       "  that the widgets JavaScript is still loading. If this message persists, it\n",
       "  likely means that the widgets JavaScript library is either not installed or\n",
       "  not enabled. See the <a href=\"https://ipywidgets.readthedocs.io/en/stable/user_install.html\">Jupyter\n",
       "  Widgets Documentation</a> for setup instructions.\n",
       "</p>\n",
       "<p>\n",
       "  If you're reading this message in another frontend (for example, a static\n",
       "  rendering on GitHub or <a href=\"https://nbviewer.jupyter.org/\">NBViewer</a>),\n",
       "  it may mean that your frontend doesn't currently support widgets.\n",
       "</p>\n"
      ],
      "text/plain": [
       "HBox(children=(IntProgress(value=0, description='Epoch', max=1), HTML(value='')))"
      ]
     },
     "metadata": {},
     "output_type": "display_data"
    },
    {
     "name": "stdout",
     "output_type": "stream",
     "text": [
      "[ 0.       0.31323  0.62871  0.77913]                        \n",
      "\n",
      "CPU times: user 6min 5s, sys: 1min 44s, total: 7min 49s\n",
      "Wall time: 5min 8s\n"
     ]
    }
   ],
   "source": [
    "%time learner.fit(lrs=λr, n_cycle=1, cycle_len=1, cycle_mult=1)"
   ]
  },
  {
   "cell_type": "code",
   "execution_count": 19,
   "metadata": {
    "hidden": true
   },
   "outputs": [
    {
     "data": {
      "application/vnd.jupyter.widget-view+json": {
       "model_id": "b5e0b4471aa04af08bfa2fe2afbadf82",
       "version_major": 2,
       "version_minor": 0
      },
      "text/html": [
       "<p>Failed to display Jupyter Widget of type <code>HBox</code>.</p>\n",
       "<p>\n",
       "  If you're reading this message in the Jupyter Notebook or JupyterLab Notebook, it may mean\n",
       "  that the widgets JavaScript is still loading. If this message persists, it\n",
       "  likely means that the widgets JavaScript library is either not installed or\n",
       "  not enabled. See the <a href=\"https://ipywidgets.readthedocs.io/en/stable/user_install.html\">Jupyter\n",
       "  Widgets Documentation</a> for setup instructions.\n",
       "</p>\n",
       "<p>\n",
       "  If you're reading this message in another frontend (for example, a static\n",
       "  rendering on GitHub or <a href=\"https://nbviewer.jupyter.org/\">NBViewer</a>),\n",
       "  it may mean that your frontend doesn't currently support widgets.\n",
       "</p>\n"
      ],
      "text/plain": [
       "HBox(children=(IntProgress(value=0, description='Epoch', max=3), HTML(value='')))"
      ]
     },
     "metadata": {},
     "output_type": "display_data"
    },
    {
     "name": "stdout",
     "output_type": "stream",
     "text": [
      "[ 0.       0.30549  0.55506  0.77542]                        \n",
      " 39%|███▉      | 71/181 [01:36<02:29,  1.36s/it, loss=0.3]  "
     ]
    },
    {
     "ename": "KeyboardInterrupt",
     "evalue": "",
     "output_type": "error",
     "traceback": [
      "\u001b[0;31m---------------------------------------------------------------------------\u001b[0m",
      "\u001b[0;31mKeyboardInterrupt\u001b[0m                         Traceback (most recent call last)",
      "\u001b[0;32m<timed eval>\u001b[0m in \u001b[0;36m<module>\u001b[0;34m()\u001b[0m\n",
      "\u001b[0;32m~/Aersu/GLOC/fastai_lin/learner.py\u001b[0m in \u001b[0;36mfit\u001b[0;34m(self, lrs, n_cycle, wds, **kwargs)\u001b[0m\n\u001b[1;32m    211\u001b[0m         \u001b[0mself\u001b[0m\u001b[0;34m.\u001b[0m\u001b[0msched\u001b[0m \u001b[0;34m=\u001b[0m \u001b[0;32mNone\u001b[0m\u001b[0;34m\u001b[0m\u001b[0m\n\u001b[1;32m    212\u001b[0m         \u001b[0mlayer_opt\u001b[0m \u001b[0;34m=\u001b[0m \u001b[0mself\u001b[0m\u001b[0;34m.\u001b[0m\u001b[0mget_layer_opt\u001b[0m\u001b[0;34m(\u001b[0m\u001b[0mlrs\u001b[0m\u001b[0;34m,\u001b[0m \u001b[0mwds\u001b[0m\u001b[0;34m)\u001b[0m\u001b[0;34m\u001b[0m\u001b[0m\n\u001b[0;32m--> 213\u001b[0;31m         \u001b[0mself\u001b[0m\u001b[0;34m.\u001b[0m\u001b[0mfit_gen\u001b[0m\u001b[0;34m(\u001b[0m\u001b[0mself\u001b[0m\u001b[0;34m.\u001b[0m\u001b[0mmodel\u001b[0m\u001b[0;34m,\u001b[0m \u001b[0mself\u001b[0m\u001b[0;34m.\u001b[0m\u001b[0mdata\u001b[0m\u001b[0;34m,\u001b[0m \u001b[0mlayer_opt\u001b[0m\u001b[0;34m,\u001b[0m \u001b[0mn_cycle\u001b[0m\u001b[0;34m,\u001b[0m \u001b[0;34m**\u001b[0m\u001b[0mkwargs\u001b[0m\u001b[0;34m)\u001b[0m\u001b[0;34m\u001b[0m\u001b[0m\n\u001b[0m\u001b[1;32m    214\u001b[0m \u001b[0;34m\u001b[0m\u001b[0m\n\u001b[1;32m    215\u001b[0m     \u001b[0;32mdef\u001b[0m \u001b[0mlr_find\u001b[0m\u001b[0;34m(\u001b[0m\u001b[0mself\u001b[0m\u001b[0;34m,\u001b[0m \u001b[0mstart_lr\u001b[0m\u001b[0;34m=\u001b[0m\u001b[0;36m1e-5\u001b[0m\u001b[0;34m,\u001b[0m \u001b[0mend_lr\u001b[0m\u001b[0;34m=\u001b[0m\u001b[0;36m10\u001b[0m\u001b[0;34m,\u001b[0m \u001b[0mwds\u001b[0m\u001b[0;34m=\u001b[0m\u001b[0;32mNone\u001b[0m\u001b[0;34m)\u001b[0m\u001b[0;34m:\u001b[0m\u001b[0;34m\u001b[0m\u001b[0m\n",
      "\u001b[0;32m~/Aersu/GLOC/fastai_lin/learner.py\u001b[0m in \u001b[0;36mfit_gen\u001b[0;34m(self, model, data, layer_opt, n_cycle, cycle_len, cycle_mult, cycle_save_name, metrics, callbacks, use_wd_sched, norm_wds, wds_sched_mult, **kwargs)\u001b[0m\n\u001b[1;32m    158\u001b[0m         \u001b[0mn_epoch\u001b[0m \u001b[0;34m=\u001b[0m \u001b[0msum_geom\u001b[0m\u001b[0;34m(\u001b[0m\u001b[0mcycle_len\u001b[0m \u001b[0;32mif\u001b[0m \u001b[0mcycle_len\u001b[0m \u001b[0;32melse\u001b[0m \u001b[0;36m1\u001b[0m\u001b[0;34m,\u001b[0m \u001b[0mcycle_mult\u001b[0m\u001b[0;34m,\u001b[0m \u001b[0mn_cycle\u001b[0m\u001b[0;34m)\u001b[0m\u001b[0;34m\u001b[0m\u001b[0m\n\u001b[1;32m    159\u001b[0m         fit(model, data, n_epoch, layer_opt.opt, self.crit,\n\u001b[0;32m--> 160\u001b[0;31m             metrics=metrics, callbacks=callbacks, reg_fn=self.reg_fn, clip=self.clip, **kwargs)\n\u001b[0m\u001b[1;32m    161\u001b[0m \u001b[0;34m\u001b[0m\u001b[0m\n\u001b[1;32m    162\u001b[0m     \u001b[0;32mdef\u001b[0m \u001b[0mget_layer_groups\u001b[0m\u001b[0;34m(\u001b[0m\u001b[0mself\u001b[0m\u001b[0;34m)\u001b[0m\u001b[0;34m:\u001b[0m \u001b[0;32mreturn\u001b[0m \u001b[0mself\u001b[0m\u001b[0;34m.\u001b[0m\u001b[0mmodels\u001b[0m\u001b[0;34m.\u001b[0m\u001b[0mget_layer_groups\u001b[0m\u001b[0;34m(\u001b[0m\u001b[0;34m)\u001b[0m\u001b[0;34m\u001b[0m\u001b[0m\n",
      "\u001b[0;32m~/Aersu/GLOC/fastai_lin/model.py\u001b[0m in \u001b[0;36mfit\u001b[0;34m(model, data, epochs, opt, crit, metrics, callbacks, **kwargs)\u001b[0m\n\u001b[1;32m     84\u001b[0m             \u001b[0mbatch_num\u001b[0m \u001b[0;34m+=\u001b[0m \u001b[0;36m1\u001b[0m\u001b[0;34m\u001b[0m\u001b[0m\n\u001b[1;32m     85\u001b[0m             \u001b[0;32mfor\u001b[0m \u001b[0mcb\u001b[0m \u001b[0;32min\u001b[0m \u001b[0mcallbacks\u001b[0m\u001b[0;34m:\u001b[0m \u001b[0mcb\u001b[0m\u001b[0;34m.\u001b[0m\u001b[0mon_batch_begin\u001b[0m\u001b[0;34m(\u001b[0m\u001b[0;34m)\u001b[0m\u001b[0;34m\u001b[0m\u001b[0m\n\u001b[0;32m---> 86\u001b[0;31m             \u001b[0mloss\u001b[0m \u001b[0;34m=\u001b[0m \u001b[0mstepper\u001b[0m\u001b[0;34m.\u001b[0m\u001b[0mstep\u001b[0m\u001b[0;34m(\u001b[0m\u001b[0mV\u001b[0m\u001b[0;34m(\u001b[0m\u001b[0mx\u001b[0m\u001b[0;34m)\u001b[0m\u001b[0;34m,\u001b[0m\u001b[0mV\u001b[0m\u001b[0;34m(\u001b[0m\u001b[0my\u001b[0m\u001b[0;34m)\u001b[0m\u001b[0;34m)\u001b[0m\u001b[0;34m\u001b[0m\u001b[0m\n\u001b[0m\u001b[1;32m     87\u001b[0m             \u001b[0mavg_loss\u001b[0m \u001b[0;34m=\u001b[0m \u001b[0mavg_loss\u001b[0m \u001b[0;34m*\u001b[0m \u001b[0mavg_mom\u001b[0m \u001b[0;34m+\u001b[0m \u001b[0mloss\u001b[0m \u001b[0;34m*\u001b[0m \u001b[0;34m(\u001b[0m\u001b[0;36m1\u001b[0m\u001b[0;34m-\u001b[0m\u001b[0mavg_mom\u001b[0m\u001b[0;34m)\u001b[0m\u001b[0;34m\u001b[0m\u001b[0m\n\u001b[1;32m     88\u001b[0m             \u001b[0mdebias_loss\u001b[0m \u001b[0;34m=\u001b[0m \u001b[0mavg_loss\u001b[0m \u001b[0;34m/\u001b[0m \u001b[0;34m(\u001b[0m\u001b[0;36m1\u001b[0m \u001b[0;34m-\u001b[0m \u001b[0mavg_mom\u001b[0m\u001b[0;34m**\u001b[0m\u001b[0mbatch_num\u001b[0m\u001b[0;34m)\u001b[0m\u001b[0;34m\u001b[0m\u001b[0m\n",
      "\u001b[0;32m~/Aersu/GLOC/fastai_lin/model.py\u001b[0m in \u001b[0;36mstep\u001b[0;34m(self, xs, y)\u001b[0m\n\u001b[1;32m     38\u001b[0m     \u001b[0;32mdef\u001b[0m \u001b[0mstep\u001b[0m\u001b[0;34m(\u001b[0m\u001b[0mself\u001b[0m\u001b[0;34m,\u001b[0m \u001b[0mxs\u001b[0m\u001b[0;34m,\u001b[0m \u001b[0my\u001b[0m\u001b[0;34m)\u001b[0m\u001b[0;34m:\u001b[0m\u001b[0;34m\u001b[0m\u001b[0m\n\u001b[1;32m     39\u001b[0m         \u001b[0mxtra\u001b[0m \u001b[0;34m=\u001b[0m \u001b[0;34m[\u001b[0m\u001b[0;34m]\u001b[0m\u001b[0;34m\u001b[0m\u001b[0m\n\u001b[0;32m---> 40\u001b[0;31m         \u001b[0moutput\u001b[0m \u001b[0;34m=\u001b[0m \u001b[0mself\u001b[0m\u001b[0;34m.\u001b[0m\u001b[0mm\u001b[0m\u001b[0;34m(\u001b[0m\u001b[0;34m*\u001b[0m\u001b[0mxs\u001b[0m\u001b[0;34m)\u001b[0m\u001b[0;34m\u001b[0m\u001b[0m\n\u001b[0m\u001b[1;32m     41\u001b[0m         \u001b[0;32mif\u001b[0m \u001b[0misinstance\u001b[0m\u001b[0;34m(\u001b[0m\u001b[0moutput\u001b[0m\u001b[0;34m,\u001b[0m\u001b[0;34m(\u001b[0m\u001b[0mtuple\u001b[0m\u001b[0;34m,\u001b[0m\u001b[0mlist\u001b[0m\u001b[0;34m)\u001b[0m\u001b[0;34m)\u001b[0m\u001b[0;34m:\u001b[0m \u001b[0moutput\u001b[0m\u001b[0;34m,\u001b[0m\u001b[0;34m*\u001b[0m\u001b[0mxtra\u001b[0m \u001b[0;34m=\u001b[0m \u001b[0moutput\u001b[0m\u001b[0;34m\u001b[0m\u001b[0m\n\u001b[1;32m     42\u001b[0m         \u001b[0mself\u001b[0m\u001b[0;34m.\u001b[0m\u001b[0mopt\u001b[0m\u001b[0;34m.\u001b[0m\u001b[0mzero_grad\u001b[0m\u001b[0;34m(\u001b[0m\u001b[0;34m)\u001b[0m\u001b[0;34m\u001b[0m\u001b[0m\n",
      "\u001b[0;32m~/miniconda3/envs/fastai/lib/python3.6/site-packages/torch/nn/modules/module.py\u001b[0m in \u001b[0;36m__call__\u001b[0;34m(self, *input, **kwargs)\u001b[0m\n\u001b[1;32m    323\u001b[0m         \u001b[0;32mfor\u001b[0m \u001b[0mhook\u001b[0m \u001b[0;32min\u001b[0m \u001b[0mself\u001b[0m\u001b[0;34m.\u001b[0m\u001b[0m_forward_pre_hooks\u001b[0m\u001b[0;34m.\u001b[0m\u001b[0mvalues\u001b[0m\u001b[0;34m(\u001b[0m\u001b[0;34m)\u001b[0m\u001b[0;34m:\u001b[0m\u001b[0;34m\u001b[0m\u001b[0m\n\u001b[1;32m    324\u001b[0m             \u001b[0mhook\u001b[0m\u001b[0;34m(\u001b[0m\u001b[0mself\u001b[0m\u001b[0;34m,\u001b[0m \u001b[0minput\u001b[0m\u001b[0;34m)\u001b[0m\u001b[0;34m\u001b[0m\u001b[0m\n\u001b[0;32m--> 325\u001b[0;31m         \u001b[0mresult\u001b[0m \u001b[0;34m=\u001b[0m \u001b[0mself\u001b[0m\u001b[0;34m.\u001b[0m\u001b[0mforward\u001b[0m\u001b[0;34m(\u001b[0m\u001b[0;34m*\u001b[0m\u001b[0minput\u001b[0m\u001b[0;34m,\u001b[0m \u001b[0;34m**\u001b[0m\u001b[0mkwargs\u001b[0m\u001b[0;34m)\u001b[0m\u001b[0;34m\u001b[0m\u001b[0m\n\u001b[0m\u001b[1;32m    326\u001b[0m         \u001b[0;32mfor\u001b[0m \u001b[0mhook\u001b[0m \u001b[0;32min\u001b[0m \u001b[0mself\u001b[0m\u001b[0;34m.\u001b[0m\u001b[0m_forward_hooks\u001b[0m\u001b[0;34m.\u001b[0m\u001b[0mvalues\u001b[0m\u001b[0;34m(\u001b[0m\u001b[0;34m)\u001b[0m\u001b[0;34m:\u001b[0m\u001b[0;34m\u001b[0m\u001b[0m\n\u001b[1;32m    327\u001b[0m             \u001b[0mhook_result\u001b[0m \u001b[0;34m=\u001b[0m \u001b[0mhook\u001b[0m\u001b[0;34m(\u001b[0m\u001b[0mself\u001b[0m\u001b[0;34m,\u001b[0m \u001b[0minput\u001b[0m\u001b[0;34m,\u001b[0m \u001b[0mresult\u001b[0m\u001b[0;34m)\u001b[0m\u001b[0;34m\u001b[0m\u001b[0m\n",
      "\u001b[0;32m~/miniconda3/envs/fastai/lib/python3.6/site-packages/torch/nn/modules/container.py\u001b[0m in \u001b[0;36mforward\u001b[0;34m(self, input)\u001b[0m\n\u001b[1;32m     65\u001b[0m     \u001b[0;32mdef\u001b[0m \u001b[0mforward\u001b[0m\u001b[0;34m(\u001b[0m\u001b[0mself\u001b[0m\u001b[0;34m,\u001b[0m \u001b[0minput\u001b[0m\u001b[0;34m)\u001b[0m\u001b[0;34m:\u001b[0m\u001b[0;34m\u001b[0m\u001b[0m\n\u001b[1;32m     66\u001b[0m         \u001b[0;32mfor\u001b[0m \u001b[0mmodule\u001b[0m \u001b[0;32min\u001b[0m \u001b[0mself\u001b[0m\u001b[0;34m.\u001b[0m\u001b[0m_modules\u001b[0m\u001b[0;34m.\u001b[0m\u001b[0mvalues\u001b[0m\u001b[0;34m(\u001b[0m\u001b[0;34m)\u001b[0m\u001b[0;34m:\u001b[0m\u001b[0;34m\u001b[0m\u001b[0m\n\u001b[0;32m---> 67\u001b[0;31m             \u001b[0minput\u001b[0m \u001b[0;34m=\u001b[0m \u001b[0mmodule\u001b[0m\u001b[0;34m(\u001b[0m\u001b[0minput\u001b[0m\u001b[0;34m)\u001b[0m\u001b[0;34m\u001b[0m\u001b[0m\n\u001b[0m\u001b[1;32m     68\u001b[0m         \u001b[0;32mreturn\u001b[0m \u001b[0minput\u001b[0m\u001b[0;34m\u001b[0m\u001b[0m\n\u001b[1;32m     69\u001b[0m \u001b[0;34m\u001b[0m\u001b[0m\n",
      "\u001b[0;32m~/miniconda3/envs/fastai/lib/python3.6/site-packages/torch/nn/modules/module.py\u001b[0m in \u001b[0;36m__call__\u001b[0;34m(self, *input, **kwargs)\u001b[0m\n\u001b[1;32m    323\u001b[0m         \u001b[0;32mfor\u001b[0m \u001b[0mhook\u001b[0m \u001b[0;32min\u001b[0m \u001b[0mself\u001b[0m\u001b[0;34m.\u001b[0m\u001b[0m_forward_pre_hooks\u001b[0m\u001b[0;34m.\u001b[0m\u001b[0mvalues\u001b[0m\u001b[0;34m(\u001b[0m\u001b[0;34m)\u001b[0m\u001b[0;34m:\u001b[0m\u001b[0;34m\u001b[0m\u001b[0m\n\u001b[1;32m    324\u001b[0m             \u001b[0mhook\u001b[0m\u001b[0;34m(\u001b[0m\u001b[0mself\u001b[0m\u001b[0;34m,\u001b[0m \u001b[0minput\u001b[0m\u001b[0;34m)\u001b[0m\u001b[0;34m\u001b[0m\u001b[0m\n\u001b[0;32m--> 325\u001b[0;31m         \u001b[0mresult\u001b[0m \u001b[0;34m=\u001b[0m \u001b[0mself\u001b[0m\u001b[0;34m.\u001b[0m\u001b[0mforward\u001b[0m\u001b[0;34m(\u001b[0m\u001b[0;34m*\u001b[0m\u001b[0minput\u001b[0m\u001b[0;34m,\u001b[0m \u001b[0;34m**\u001b[0m\u001b[0mkwargs\u001b[0m\u001b[0;34m)\u001b[0m\u001b[0;34m\u001b[0m\u001b[0m\n\u001b[0m\u001b[1;32m    326\u001b[0m         \u001b[0;32mfor\u001b[0m \u001b[0mhook\u001b[0m \u001b[0;32min\u001b[0m \u001b[0mself\u001b[0m\u001b[0;34m.\u001b[0m\u001b[0m_forward_hooks\u001b[0m\u001b[0;34m.\u001b[0m\u001b[0mvalues\u001b[0m\u001b[0;34m(\u001b[0m\u001b[0;34m)\u001b[0m\u001b[0;34m:\u001b[0m\u001b[0;34m\u001b[0m\u001b[0m\n\u001b[1;32m    327\u001b[0m             \u001b[0mhook_result\u001b[0m \u001b[0;34m=\u001b[0m \u001b[0mhook\u001b[0m\u001b[0;34m(\u001b[0m\u001b[0mself\u001b[0m\u001b[0;34m,\u001b[0m \u001b[0minput\u001b[0m\u001b[0;34m,\u001b[0m \u001b[0mresult\u001b[0m\u001b[0;34m)\u001b[0m\u001b[0;34m\u001b[0m\u001b[0m\n",
      "\u001b[0;32m~/miniconda3/envs/fastai/lib/python3.6/site-packages/torch/nn/modules/container.py\u001b[0m in \u001b[0;36mforward\u001b[0;34m(self, input)\u001b[0m\n\u001b[1;32m     65\u001b[0m     \u001b[0;32mdef\u001b[0m \u001b[0mforward\u001b[0m\u001b[0;34m(\u001b[0m\u001b[0mself\u001b[0m\u001b[0;34m,\u001b[0m \u001b[0minput\u001b[0m\u001b[0;34m)\u001b[0m\u001b[0;34m:\u001b[0m\u001b[0;34m\u001b[0m\u001b[0m\n\u001b[1;32m     66\u001b[0m         \u001b[0;32mfor\u001b[0m \u001b[0mmodule\u001b[0m \u001b[0;32min\u001b[0m \u001b[0mself\u001b[0m\u001b[0;34m.\u001b[0m\u001b[0m_modules\u001b[0m\u001b[0;34m.\u001b[0m\u001b[0mvalues\u001b[0m\u001b[0;34m(\u001b[0m\u001b[0;34m)\u001b[0m\u001b[0;34m:\u001b[0m\u001b[0;34m\u001b[0m\u001b[0m\n\u001b[0;32m---> 67\u001b[0;31m             \u001b[0minput\u001b[0m \u001b[0;34m=\u001b[0m \u001b[0mmodule\u001b[0m\u001b[0;34m(\u001b[0m\u001b[0minput\u001b[0m\u001b[0;34m)\u001b[0m\u001b[0;34m\u001b[0m\u001b[0m\n\u001b[0m\u001b[1;32m     68\u001b[0m         \u001b[0;32mreturn\u001b[0m \u001b[0minput\u001b[0m\u001b[0;34m\u001b[0m\u001b[0m\n\u001b[1;32m     69\u001b[0m \u001b[0;34m\u001b[0m\u001b[0m\n",
      "\u001b[0;32m~/miniconda3/envs/fastai/lib/python3.6/site-packages/torch/nn/modules/module.py\u001b[0m in \u001b[0;36m__call__\u001b[0;34m(self, *input, **kwargs)\u001b[0m\n\u001b[1;32m    323\u001b[0m         \u001b[0;32mfor\u001b[0m \u001b[0mhook\u001b[0m \u001b[0;32min\u001b[0m \u001b[0mself\u001b[0m\u001b[0;34m.\u001b[0m\u001b[0m_forward_pre_hooks\u001b[0m\u001b[0;34m.\u001b[0m\u001b[0mvalues\u001b[0m\u001b[0;34m(\u001b[0m\u001b[0;34m)\u001b[0m\u001b[0;34m:\u001b[0m\u001b[0;34m\u001b[0m\u001b[0m\n\u001b[1;32m    324\u001b[0m             \u001b[0mhook\u001b[0m\u001b[0;34m(\u001b[0m\u001b[0mself\u001b[0m\u001b[0;34m,\u001b[0m \u001b[0minput\u001b[0m\u001b[0;34m)\u001b[0m\u001b[0;34m\u001b[0m\u001b[0m\n\u001b[0;32m--> 325\u001b[0;31m         \u001b[0mresult\u001b[0m \u001b[0;34m=\u001b[0m \u001b[0mself\u001b[0m\u001b[0;34m.\u001b[0m\u001b[0mforward\u001b[0m\u001b[0;34m(\u001b[0m\u001b[0;34m*\u001b[0m\u001b[0minput\u001b[0m\u001b[0;34m,\u001b[0m \u001b[0;34m**\u001b[0m\u001b[0mkwargs\u001b[0m\u001b[0;34m)\u001b[0m\u001b[0;34m\u001b[0m\u001b[0m\n\u001b[0m\u001b[1;32m    326\u001b[0m         \u001b[0;32mfor\u001b[0m \u001b[0mhook\u001b[0m \u001b[0;32min\u001b[0m \u001b[0mself\u001b[0m\u001b[0;34m.\u001b[0m\u001b[0m_forward_hooks\u001b[0m\u001b[0;34m.\u001b[0m\u001b[0mvalues\u001b[0m\u001b[0;34m(\u001b[0m\u001b[0;34m)\u001b[0m\u001b[0;34m:\u001b[0m\u001b[0;34m\u001b[0m\u001b[0m\n\u001b[1;32m    327\u001b[0m             \u001b[0mhook_result\u001b[0m \u001b[0;34m=\u001b[0m \u001b[0mhook\u001b[0m\u001b[0;34m(\u001b[0m\u001b[0mself\u001b[0m\u001b[0;34m,\u001b[0m \u001b[0minput\u001b[0m\u001b[0;34m,\u001b[0m \u001b[0mresult\u001b[0m\u001b[0;34m)\u001b[0m\u001b[0;34m\u001b[0m\u001b[0m\n",
      "\u001b[0;32m~/miniconda3/envs/fastai/lib/python3.6/site-packages/torch/nn/modules/container.py\u001b[0m in \u001b[0;36mforward\u001b[0;34m(self, input)\u001b[0m\n\u001b[1;32m     65\u001b[0m     \u001b[0;32mdef\u001b[0m \u001b[0mforward\u001b[0m\u001b[0;34m(\u001b[0m\u001b[0mself\u001b[0m\u001b[0;34m,\u001b[0m \u001b[0minput\u001b[0m\u001b[0;34m)\u001b[0m\u001b[0;34m:\u001b[0m\u001b[0;34m\u001b[0m\u001b[0m\n\u001b[1;32m     66\u001b[0m         \u001b[0;32mfor\u001b[0m \u001b[0mmodule\u001b[0m \u001b[0;32min\u001b[0m \u001b[0mself\u001b[0m\u001b[0;34m.\u001b[0m\u001b[0m_modules\u001b[0m\u001b[0;34m.\u001b[0m\u001b[0mvalues\u001b[0m\u001b[0;34m(\u001b[0m\u001b[0;34m)\u001b[0m\u001b[0;34m:\u001b[0m\u001b[0;34m\u001b[0m\u001b[0m\n\u001b[0;32m---> 67\u001b[0;31m             \u001b[0minput\u001b[0m \u001b[0;34m=\u001b[0m \u001b[0mmodule\u001b[0m\u001b[0;34m(\u001b[0m\u001b[0minput\u001b[0m\u001b[0;34m)\u001b[0m\u001b[0;34m\u001b[0m\u001b[0m\n\u001b[0m\u001b[1;32m     68\u001b[0m         \u001b[0;32mreturn\u001b[0m \u001b[0minput\u001b[0m\u001b[0;34m\u001b[0m\u001b[0m\n\u001b[1;32m     69\u001b[0m \u001b[0;34m\u001b[0m\u001b[0m\n",
      "\u001b[0;32m~/miniconda3/envs/fastai/lib/python3.6/site-packages/torch/nn/modules/module.py\u001b[0m in \u001b[0;36m__call__\u001b[0;34m(self, *input, **kwargs)\u001b[0m\n\u001b[1;32m    323\u001b[0m         \u001b[0;32mfor\u001b[0m \u001b[0mhook\u001b[0m \u001b[0;32min\u001b[0m \u001b[0mself\u001b[0m\u001b[0;34m.\u001b[0m\u001b[0m_forward_pre_hooks\u001b[0m\u001b[0;34m.\u001b[0m\u001b[0mvalues\u001b[0m\u001b[0;34m(\u001b[0m\u001b[0;34m)\u001b[0m\u001b[0;34m:\u001b[0m\u001b[0;34m\u001b[0m\u001b[0m\n\u001b[1;32m    324\u001b[0m             \u001b[0mhook\u001b[0m\u001b[0;34m(\u001b[0m\u001b[0mself\u001b[0m\u001b[0;34m,\u001b[0m \u001b[0minput\u001b[0m\u001b[0;34m)\u001b[0m\u001b[0;34m\u001b[0m\u001b[0m\n\u001b[0;32m--> 325\u001b[0;31m         \u001b[0mresult\u001b[0m \u001b[0;34m=\u001b[0m \u001b[0mself\u001b[0m\u001b[0;34m.\u001b[0m\u001b[0mforward\u001b[0m\u001b[0;34m(\u001b[0m\u001b[0;34m*\u001b[0m\u001b[0minput\u001b[0m\u001b[0;34m,\u001b[0m \u001b[0;34m**\u001b[0m\u001b[0mkwargs\u001b[0m\u001b[0;34m)\u001b[0m\u001b[0;34m\u001b[0m\u001b[0m\n\u001b[0m\u001b[1;32m    326\u001b[0m         \u001b[0;32mfor\u001b[0m \u001b[0mhook\u001b[0m \u001b[0;32min\u001b[0m \u001b[0mself\u001b[0m\u001b[0;34m.\u001b[0m\u001b[0m_forward_hooks\u001b[0m\u001b[0;34m.\u001b[0m\u001b[0mvalues\u001b[0m\u001b[0;34m(\u001b[0m\u001b[0;34m)\u001b[0m\u001b[0;34m:\u001b[0m\u001b[0;34m\u001b[0m\u001b[0m\n\u001b[1;32m    327\u001b[0m             \u001b[0mhook_result\u001b[0m \u001b[0;34m=\u001b[0m \u001b[0mhook\u001b[0m\u001b[0;34m(\u001b[0m\u001b[0mself\u001b[0m\u001b[0;34m,\u001b[0m \u001b[0minput\u001b[0m\u001b[0;34m,\u001b[0m \u001b[0mresult\u001b[0m\u001b[0;34m)\u001b[0m\u001b[0;34m\u001b[0m\u001b[0m\n",
      "\u001b[0;32m~/miniconda3/envs/fastai/lib/python3.6/site-packages/torchvision-0.2.0-py3.6.egg/torchvision/models/densenet.py\u001b[0m in \u001b[0;36mforward\u001b[0;34m(self, x)\u001b[0m\n\u001b[1;32m     86\u001b[0m \u001b[0;34m\u001b[0m\u001b[0m\n\u001b[1;32m     87\u001b[0m     \u001b[0;32mdef\u001b[0m \u001b[0mforward\u001b[0m\u001b[0;34m(\u001b[0m\u001b[0mself\u001b[0m\u001b[0;34m,\u001b[0m \u001b[0mx\u001b[0m\u001b[0;34m)\u001b[0m\u001b[0;34m:\u001b[0m\u001b[0;34m\u001b[0m\u001b[0m\n\u001b[0;32m---> 88\u001b[0;31m         \u001b[0mnew_features\u001b[0m \u001b[0;34m=\u001b[0m \u001b[0msuper\u001b[0m\u001b[0;34m(\u001b[0m\u001b[0m_DenseLayer\u001b[0m\u001b[0;34m,\u001b[0m \u001b[0mself\u001b[0m\u001b[0;34m)\u001b[0m\u001b[0;34m.\u001b[0m\u001b[0mforward\u001b[0m\u001b[0;34m(\u001b[0m\u001b[0mx\u001b[0m\u001b[0;34m)\u001b[0m\u001b[0;34m\u001b[0m\u001b[0m\n\u001b[0m\u001b[1;32m     89\u001b[0m         \u001b[0;32mif\u001b[0m \u001b[0mself\u001b[0m\u001b[0;34m.\u001b[0m\u001b[0mdrop_rate\u001b[0m \u001b[0;34m>\u001b[0m \u001b[0;36m0\u001b[0m\u001b[0;34m:\u001b[0m\u001b[0;34m\u001b[0m\u001b[0m\n\u001b[1;32m     90\u001b[0m             \u001b[0mnew_features\u001b[0m \u001b[0;34m=\u001b[0m \u001b[0mF\u001b[0m\u001b[0;34m.\u001b[0m\u001b[0mdropout\u001b[0m\u001b[0;34m(\u001b[0m\u001b[0mnew_features\u001b[0m\u001b[0;34m,\u001b[0m \u001b[0mp\u001b[0m\u001b[0;34m=\u001b[0m\u001b[0mself\u001b[0m\u001b[0;34m.\u001b[0m\u001b[0mdrop_rate\u001b[0m\u001b[0;34m,\u001b[0m \u001b[0mtraining\u001b[0m\u001b[0;34m=\u001b[0m\u001b[0mself\u001b[0m\u001b[0;34m.\u001b[0m\u001b[0mtraining\u001b[0m\u001b[0;34m)\u001b[0m\u001b[0;34m\u001b[0m\u001b[0m\n",
      "\u001b[0;32m~/miniconda3/envs/fastai/lib/python3.6/site-packages/torch/nn/modules/container.py\u001b[0m in \u001b[0;36mforward\u001b[0;34m(self, input)\u001b[0m\n\u001b[1;32m     65\u001b[0m     \u001b[0;32mdef\u001b[0m \u001b[0mforward\u001b[0m\u001b[0;34m(\u001b[0m\u001b[0mself\u001b[0m\u001b[0;34m,\u001b[0m \u001b[0minput\u001b[0m\u001b[0;34m)\u001b[0m\u001b[0;34m:\u001b[0m\u001b[0;34m\u001b[0m\u001b[0m\n\u001b[1;32m     66\u001b[0m         \u001b[0;32mfor\u001b[0m \u001b[0mmodule\u001b[0m \u001b[0;32min\u001b[0m \u001b[0mself\u001b[0m\u001b[0;34m.\u001b[0m\u001b[0m_modules\u001b[0m\u001b[0;34m.\u001b[0m\u001b[0mvalues\u001b[0m\u001b[0;34m(\u001b[0m\u001b[0;34m)\u001b[0m\u001b[0;34m:\u001b[0m\u001b[0;34m\u001b[0m\u001b[0m\n\u001b[0;32m---> 67\u001b[0;31m             \u001b[0minput\u001b[0m \u001b[0;34m=\u001b[0m \u001b[0mmodule\u001b[0m\u001b[0;34m(\u001b[0m\u001b[0minput\u001b[0m\u001b[0;34m)\u001b[0m\u001b[0;34m\u001b[0m\u001b[0m\n\u001b[0m\u001b[1;32m     68\u001b[0m         \u001b[0;32mreturn\u001b[0m \u001b[0minput\u001b[0m\u001b[0;34m\u001b[0m\u001b[0m\n\u001b[1;32m     69\u001b[0m \u001b[0;34m\u001b[0m\u001b[0m\n",
      "\u001b[0;32m~/miniconda3/envs/fastai/lib/python3.6/site-packages/torch/nn/modules/module.py\u001b[0m in \u001b[0;36m__call__\u001b[0;34m(self, *input, **kwargs)\u001b[0m\n\u001b[1;32m    323\u001b[0m         \u001b[0;32mfor\u001b[0m \u001b[0mhook\u001b[0m \u001b[0;32min\u001b[0m \u001b[0mself\u001b[0m\u001b[0;34m.\u001b[0m\u001b[0m_forward_pre_hooks\u001b[0m\u001b[0;34m.\u001b[0m\u001b[0mvalues\u001b[0m\u001b[0;34m(\u001b[0m\u001b[0;34m)\u001b[0m\u001b[0;34m:\u001b[0m\u001b[0;34m\u001b[0m\u001b[0m\n\u001b[1;32m    324\u001b[0m             \u001b[0mhook\u001b[0m\u001b[0;34m(\u001b[0m\u001b[0mself\u001b[0m\u001b[0;34m,\u001b[0m \u001b[0minput\u001b[0m\u001b[0;34m)\u001b[0m\u001b[0;34m\u001b[0m\u001b[0m\n\u001b[0;32m--> 325\u001b[0;31m         \u001b[0mresult\u001b[0m \u001b[0;34m=\u001b[0m \u001b[0mself\u001b[0m\u001b[0;34m.\u001b[0m\u001b[0mforward\u001b[0m\u001b[0;34m(\u001b[0m\u001b[0;34m*\u001b[0m\u001b[0minput\u001b[0m\u001b[0;34m,\u001b[0m \u001b[0;34m**\u001b[0m\u001b[0mkwargs\u001b[0m\u001b[0;34m)\u001b[0m\u001b[0;34m\u001b[0m\u001b[0m\n\u001b[0m\u001b[1;32m    326\u001b[0m         \u001b[0;32mfor\u001b[0m \u001b[0mhook\u001b[0m \u001b[0;32min\u001b[0m \u001b[0mself\u001b[0m\u001b[0;34m.\u001b[0m\u001b[0m_forward_hooks\u001b[0m\u001b[0;34m.\u001b[0m\u001b[0mvalues\u001b[0m\u001b[0;34m(\u001b[0m\u001b[0;34m)\u001b[0m\u001b[0;34m:\u001b[0m\u001b[0;34m\u001b[0m\u001b[0m\n\u001b[1;32m    327\u001b[0m             \u001b[0mhook_result\u001b[0m \u001b[0;34m=\u001b[0m \u001b[0mhook\u001b[0m\u001b[0;34m(\u001b[0m\u001b[0mself\u001b[0m\u001b[0;34m,\u001b[0m \u001b[0minput\u001b[0m\u001b[0;34m,\u001b[0m \u001b[0mresult\u001b[0m\u001b[0;34m)\u001b[0m\u001b[0;34m\u001b[0m\u001b[0m\n",
      "\u001b[0;32m~/miniconda3/envs/fastai/lib/python3.6/site-packages/torch/nn/modules/conv.py\u001b[0m in \u001b[0;36mforward\u001b[0;34m(self, input)\u001b[0m\n\u001b[1;32m    275\u001b[0m     \u001b[0;32mdef\u001b[0m \u001b[0mforward\u001b[0m\u001b[0;34m(\u001b[0m\u001b[0mself\u001b[0m\u001b[0;34m,\u001b[0m \u001b[0minput\u001b[0m\u001b[0;34m)\u001b[0m\u001b[0;34m:\u001b[0m\u001b[0;34m\u001b[0m\u001b[0m\n\u001b[1;32m    276\u001b[0m         return F.conv2d(input, self.weight, self.bias, self.stride,\n\u001b[0;32m--> 277\u001b[0;31m                         self.padding, self.dilation, self.groups)\n\u001b[0m\u001b[1;32m    278\u001b[0m \u001b[0;34m\u001b[0m\u001b[0m\n\u001b[1;32m    279\u001b[0m \u001b[0;34m\u001b[0m\u001b[0m\n",
      "\u001b[0;32m~/miniconda3/envs/fastai/lib/python3.6/site-packages/torch/nn/functional.py\u001b[0m in \u001b[0;36mconv2d\u001b[0;34m(input, weight, bias, stride, padding, dilation, groups)\u001b[0m\n\u001b[1;32m     88\u001b[0m                 \u001b[0m_pair\u001b[0m\u001b[0;34m(\u001b[0m\u001b[0;36m0\u001b[0m\u001b[0;34m)\u001b[0m\u001b[0;34m,\u001b[0m \u001b[0mgroups\u001b[0m\u001b[0;34m,\u001b[0m \u001b[0mtorch\u001b[0m\u001b[0;34m.\u001b[0m\u001b[0mbackends\u001b[0m\u001b[0;34m.\u001b[0m\u001b[0mcudnn\u001b[0m\u001b[0;34m.\u001b[0m\u001b[0mbenchmark\u001b[0m\u001b[0;34m,\u001b[0m\u001b[0;34m\u001b[0m\u001b[0m\n\u001b[1;32m     89\u001b[0m                 torch.backends.cudnn.deterministic, torch.backends.cudnn.enabled)\n\u001b[0;32m---> 90\u001b[0;31m     \u001b[0;32mreturn\u001b[0m \u001b[0mf\u001b[0m\u001b[0;34m(\u001b[0m\u001b[0minput\u001b[0m\u001b[0;34m,\u001b[0m \u001b[0mweight\u001b[0m\u001b[0;34m,\u001b[0m \u001b[0mbias\u001b[0m\u001b[0;34m)\u001b[0m\u001b[0;34m\u001b[0m\u001b[0m\n\u001b[0m\u001b[1;32m     91\u001b[0m \u001b[0;34m\u001b[0m\u001b[0m\n\u001b[1;32m     92\u001b[0m \u001b[0;34m\u001b[0m\u001b[0m\n",
      "\u001b[0;31mKeyboardInterrupt\u001b[0m: "
     ]
    }
   ],
   "source": [
    "%time learner.fit(lrs=λr, n_cycle=3, cycle_len=1, cycle_mult=1, wds=wd, use_wd_sched=True)"
   ]
  },
  {
   "cell_type": "code",
   "execution_count": 20,
   "metadata": {
    "hidden": true
   },
   "outputs": [
    {
     "data": {
      "application/vnd.jupyter.widget-view+json": {
       "model_id": "48c100fa50644f57a42c04c849110792",
       "version_major": 2,
       "version_minor": 0
      },
      "text/html": [
       "<p>Failed to display Jupyter Widget of type <code>HBox</code>.</p>\n",
       "<p>\n",
       "  If you're reading this message in the Jupyter Notebook or JupyterLab Notebook, it may mean\n",
       "  that the widgets JavaScript is still loading. If this message persists, it\n",
       "  likely means that the widgets JavaScript library is either not installed or\n",
       "  not enabled. See the <a href=\"https://ipywidgets.readthedocs.io/en/stable/user_install.html\">Jupyter\n",
       "  Widgets Documentation</a> for setup instructions.\n",
       "</p>\n",
       "<p>\n",
       "  If you're reading this message in another frontend (for example, a static\n",
       "  rendering on GitHub or <a href=\"https://nbviewer.jupyter.org/\">NBViewer</a>),\n",
       "  it may mean that your frontend doesn't currently support widgets.\n",
       "</p>\n"
      ],
      "text/plain": [
       "HBox(children=(IntProgress(value=0, description='Epoch', max=7), HTML(value='')))"
      ]
     },
     "metadata": {},
     "output_type": "display_data"
    },
    {
     "name": "stdout",
     "output_type": "stream",
     "text": [
      "\n",
      "  0%|          | 0/181 [00:00<?, ?it/s]\u001b[A\n",
      "  0%|          | 0/181 [00:02<?, ?it/s, loss=0.303]\u001b[A\n",
      "  1%|          | 1/181 [00:02<07:19,  2.44s/it, loss=0.303]\u001b[A\n",
      "  1%|          | 1/181 [00:03<11:21,  3.79s/it, loss=0.396]\u001b[A\n",
      "  1%|          | 2/181 [00:03<05:40,  1.90s/it, loss=0.396]\u001b[A"
     ]
    },
    {
     "ename": "KeyboardInterrupt",
     "evalue": "",
     "output_type": "error",
     "traceback": [
      "\u001b[0;31m---------------------------------------------------------------------------\u001b[0m",
      "\u001b[0;31mKeyboardInterrupt\u001b[0m                         Traceback (most recent call last)",
      "\u001b[0;32m<timed eval>\u001b[0m in \u001b[0;36m<module>\u001b[0;34m()\u001b[0m\n",
      "\u001b[0;32m~/Aersu/GLOC/fastai_lin/learner.py\u001b[0m in \u001b[0;36mfit\u001b[0;34m(self, lrs, n_cycle, wds, **kwargs)\u001b[0m\n\u001b[1;32m    211\u001b[0m         \u001b[0mself\u001b[0m\u001b[0;34m.\u001b[0m\u001b[0msched\u001b[0m \u001b[0;34m=\u001b[0m \u001b[0;32mNone\u001b[0m\u001b[0;34m\u001b[0m\u001b[0m\n\u001b[1;32m    212\u001b[0m         \u001b[0mlayer_opt\u001b[0m \u001b[0;34m=\u001b[0m \u001b[0mself\u001b[0m\u001b[0;34m.\u001b[0m\u001b[0mget_layer_opt\u001b[0m\u001b[0;34m(\u001b[0m\u001b[0mlrs\u001b[0m\u001b[0;34m,\u001b[0m \u001b[0mwds\u001b[0m\u001b[0;34m)\u001b[0m\u001b[0;34m\u001b[0m\u001b[0m\n\u001b[0;32m--> 213\u001b[0;31m         \u001b[0mself\u001b[0m\u001b[0;34m.\u001b[0m\u001b[0mfit_gen\u001b[0m\u001b[0;34m(\u001b[0m\u001b[0mself\u001b[0m\u001b[0;34m.\u001b[0m\u001b[0mmodel\u001b[0m\u001b[0;34m,\u001b[0m \u001b[0mself\u001b[0m\u001b[0;34m.\u001b[0m\u001b[0mdata\u001b[0m\u001b[0;34m,\u001b[0m \u001b[0mlayer_opt\u001b[0m\u001b[0;34m,\u001b[0m \u001b[0mn_cycle\u001b[0m\u001b[0;34m,\u001b[0m \u001b[0;34m**\u001b[0m\u001b[0mkwargs\u001b[0m\u001b[0;34m)\u001b[0m\u001b[0;34m\u001b[0m\u001b[0m\n\u001b[0m\u001b[1;32m    214\u001b[0m \u001b[0;34m\u001b[0m\u001b[0m\n\u001b[1;32m    215\u001b[0m     \u001b[0;32mdef\u001b[0m \u001b[0mlr_find\u001b[0m\u001b[0;34m(\u001b[0m\u001b[0mself\u001b[0m\u001b[0;34m,\u001b[0m \u001b[0mstart_lr\u001b[0m\u001b[0;34m=\u001b[0m\u001b[0;36m1e-5\u001b[0m\u001b[0;34m,\u001b[0m \u001b[0mend_lr\u001b[0m\u001b[0;34m=\u001b[0m\u001b[0;36m10\u001b[0m\u001b[0;34m,\u001b[0m \u001b[0mwds\u001b[0m\u001b[0;34m=\u001b[0m\u001b[0;32mNone\u001b[0m\u001b[0;34m)\u001b[0m\u001b[0;34m:\u001b[0m\u001b[0;34m\u001b[0m\u001b[0m\n",
      "\u001b[0;32m~/Aersu/GLOC/fastai_lin/learner.py\u001b[0m in \u001b[0;36mfit_gen\u001b[0;34m(self, model, data, layer_opt, n_cycle, cycle_len, cycle_mult, cycle_save_name, metrics, callbacks, use_wd_sched, norm_wds, wds_sched_mult, **kwargs)\u001b[0m\n\u001b[1;32m    158\u001b[0m         \u001b[0mn_epoch\u001b[0m \u001b[0;34m=\u001b[0m \u001b[0msum_geom\u001b[0m\u001b[0;34m(\u001b[0m\u001b[0mcycle_len\u001b[0m \u001b[0;32mif\u001b[0m \u001b[0mcycle_len\u001b[0m \u001b[0;32melse\u001b[0m \u001b[0;36m1\u001b[0m\u001b[0;34m,\u001b[0m \u001b[0mcycle_mult\u001b[0m\u001b[0;34m,\u001b[0m \u001b[0mn_cycle\u001b[0m\u001b[0;34m)\u001b[0m\u001b[0;34m\u001b[0m\u001b[0m\n\u001b[1;32m    159\u001b[0m         fit(model, data, n_epoch, layer_opt.opt, self.crit,\n\u001b[0;32m--> 160\u001b[0;31m             metrics=metrics, callbacks=callbacks, reg_fn=self.reg_fn, clip=self.clip, **kwargs)\n\u001b[0m\u001b[1;32m    161\u001b[0m \u001b[0;34m\u001b[0m\u001b[0m\n\u001b[1;32m    162\u001b[0m     \u001b[0;32mdef\u001b[0m \u001b[0mget_layer_groups\u001b[0m\u001b[0;34m(\u001b[0m\u001b[0mself\u001b[0m\u001b[0;34m)\u001b[0m\u001b[0;34m:\u001b[0m \u001b[0;32mreturn\u001b[0m \u001b[0mself\u001b[0m\u001b[0;34m.\u001b[0m\u001b[0mmodels\u001b[0m\u001b[0;34m.\u001b[0m\u001b[0mget_layer_groups\u001b[0m\u001b[0;34m(\u001b[0m\u001b[0;34m)\u001b[0m\u001b[0;34m\u001b[0m\u001b[0m\n",
      "\u001b[0;32m~/Aersu/GLOC/fastai_lin/model.py\u001b[0m in \u001b[0;36mfit\u001b[0;34m(model, data, epochs, opt, crit, metrics, callbacks, **kwargs)\u001b[0m\n\u001b[1;32m     84\u001b[0m             \u001b[0mbatch_num\u001b[0m \u001b[0;34m+=\u001b[0m \u001b[0;36m1\u001b[0m\u001b[0;34m\u001b[0m\u001b[0m\n\u001b[1;32m     85\u001b[0m             \u001b[0;32mfor\u001b[0m \u001b[0mcb\u001b[0m \u001b[0;32min\u001b[0m \u001b[0mcallbacks\u001b[0m\u001b[0;34m:\u001b[0m \u001b[0mcb\u001b[0m\u001b[0;34m.\u001b[0m\u001b[0mon_batch_begin\u001b[0m\u001b[0;34m(\u001b[0m\u001b[0;34m)\u001b[0m\u001b[0;34m\u001b[0m\u001b[0m\n\u001b[0;32m---> 86\u001b[0;31m             \u001b[0mloss\u001b[0m \u001b[0;34m=\u001b[0m \u001b[0mstepper\u001b[0m\u001b[0;34m.\u001b[0m\u001b[0mstep\u001b[0m\u001b[0;34m(\u001b[0m\u001b[0mV\u001b[0m\u001b[0;34m(\u001b[0m\u001b[0mx\u001b[0m\u001b[0;34m)\u001b[0m\u001b[0;34m,\u001b[0m\u001b[0mV\u001b[0m\u001b[0;34m(\u001b[0m\u001b[0my\u001b[0m\u001b[0;34m)\u001b[0m\u001b[0;34m)\u001b[0m\u001b[0;34m\u001b[0m\u001b[0m\n\u001b[0m\u001b[1;32m     87\u001b[0m             \u001b[0mavg_loss\u001b[0m \u001b[0;34m=\u001b[0m \u001b[0mavg_loss\u001b[0m \u001b[0;34m*\u001b[0m \u001b[0mavg_mom\u001b[0m \u001b[0;34m+\u001b[0m \u001b[0mloss\u001b[0m \u001b[0;34m*\u001b[0m \u001b[0;34m(\u001b[0m\u001b[0;36m1\u001b[0m\u001b[0;34m-\u001b[0m\u001b[0mavg_mom\u001b[0m\u001b[0;34m)\u001b[0m\u001b[0;34m\u001b[0m\u001b[0m\n\u001b[1;32m     88\u001b[0m             \u001b[0mdebias_loss\u001b[0m \u001b[0;34m=\u001b[0m \u001b[0mavg_loss\u001b[0m \u001b[0;34m/\u001b[0m \u001b[0;34m(\u001b[0m\u001b[0;36m1\u001b[0m \u001b[0;34m-\u001b[0m \u001b[0mavg_mom\u001b[0m\u001b[0;34m**\u001b[0m\u001b[0mbatch_num\u001b[0m\u001b[0;34m)\u001b[0m\u001b[0;34m\u001b[0m\u001b[0m\n",
      "\u001b[0;32m~/Aersu/GLOC/fastai_lin/model.py\u001b[0m in \u001b[0;36mstep\u001b[0;34m(self, xs, y)\u001b[0m\n\u001b[1;32m     47\u001b[0m             \u001b[0mnn\u001b[0m\u001b[0;34m.\u001b[0m\u001b[0mutils\u001b[0m\u001b[0;34m.\u001b[0m\u001b[0mclip_grad_norm\u001b[0m\u001b[0;34m(\u001b[0m\u001b[0mtrainable_params_\u001b[0m\u001b[0;34m(\u001b[0m\u001b[0mself\u001b[0m\u001b[0;34m.\u001b[0m\u001b[0mm\u001b[0m\u001b[0;34m)\u001b[0m\u001b[0;34m,\u001b[0m \u001b[0mself\u001b[0m\u001b[0;34m.\u001b[0m\u001b[0mclip\u001b[0m\u001b[0;34m)\u001b[0m\u001b[0;34m\u001b[0m\u001b[0m\n\u001b[1;32m     48\u001b[0m         \u001b[0mself\u001b[0m\u001b[0;34m.\u001b[0m\u001b[0mopt\u001b[0m\u001b[0;34m.\u001b[0m\u001b[0mstep\u001b[0m\u001b[0;34m(\u001b[0m\u001b[0;34m)\u001b[0m\u001b[0;34m\u001b[0m\u001b[0m\n\u001b[0;32m---> 49\u001b[0;31m         \u001b[0;32mreturn\u001b[0m \u001b[0mraw_loss\u001b[0m\u001b[0;34m.\u001b[0m\u001b[0mdata\u001b[0m\u001b[0;34m[\u001b[0m\u001b[0;36m0\u001b[0m\u001b[0;34m]\u001b[0m\u001b[0;34m\u001b[0m\u001b[0m\n\u001b[0m\u001b[1;32m     50\u001b[0m \u001b[0;34m\u001b[0m\u001b[0m\n\u001b[1;32m     51\u001b[0m     \u001b[0;32mdef\u001b[0m \u001b[0mevaluate\u001b[0m\u001b[0;34m(\u001b[0m\u001b[0mself\u001b[0m\u001b[0;34m,\u001b[0m \u001b[0mxs\u001b[0m\u001b[0;34m,\u001b[0m \u001b[0my\u001b[0m\u001b[0;34m)\u001b[0m\u001b[0;34m:\u001b[0m\u001b[0;34m\u001b[0m\u001b[0m\n",
      "\u001b[0;31mKeyboardInterrupt\u001b[0m: "
     ]
    }
   ],
   "source": [
    "%time learner.fit(lrs=λr, n_cycle=3, cycle_len=1, cycle_mult=2, wds=wd, use_wd_sched=True)"
   ]
  },
  {
   "cell_type": "markdown",
   "metadata": {
    "heading_collapsed": true
   },
   "source": [
    "## DenseNet169"
   ]
  },
  {
   "cell_type": "code",
   "execution_count": 14,
   "metadata": {
    "hidden": true
   },
   "outputs": [],
   "source": [
    "# delete any tmp/ folder that exists\n",
    "%rm -rf $PATH/tmp/*"
   ]
  },
  {
   "cell_type": "code",
   "execution_count": 15,
   "metadata": {
    "hidden": true,
    "scrolled": true
   },
   "outputs": [
    {
     "name": "stderr",
     "output_type": "stream",
     "text": [
      "Downloading: \"https://download.pytorch.org/models/densenet169-b2777c0a.pth\" to /home/wnixalo/.torch/models/densenet169-b2777c0a.pth\n",
      "100%|██████████| 57365526/57365526 [00:23<00:00, 2440679.47it/s]\n"
     ]
    }
   ],
   "source": [
    "arch = dn169 # torch_imports -> torchvision.models\n",
    "size = 100\n",
    "data = get_data(size)\n",
    "learner = ConvLearner.pretrained(arch, data)"
   ]
  },
  {
   "cell_type": "code",
   "execution_count": 16,
   "metadata": {
    "hidden": true
   },
   "outputs": [
    {
     "data": {
      "application/vnd.jupyter.widget-view+json": {
       "model_id": "6751f5b59261498b914273565f19f19b",
       "version_major": 2,
       "version_minor": 0
      },
      "text/html": [
       "<p>Failed to display Jupyter Widget of type <code>HBox</code>.</p>\n",
       "<p>\n",
       "  If you're reading this message in the Jupyter Notebook or JupyterLab Notebook, it may mean\n",
       "  that the widgets JavaScript is still loading. If this message persists, it\n",
       "  likely means that the widgets JavaScript library is either not installed or\n",
       "  not enabled. See the <a href=\"https://ipywidgets.readthedocs.io/en/stable/user_install.html\">Jupyter\n",
       "  Widgets Documentation</a> for setup instructions.\n",
       "</p>\n",
       "<p>\n",
       "  If you're reading this message in another frontend (for example, a static\n",
       "  rendering on GitHub or <a href=\"https://nbviewer.jupyter.org/\">NBViewer</a>),\n",
       "  it may mean that your frontend doesn't currently support widgets.\n",
       "</p>\n"
      ],
      "text/plain": [
       "HBox(children=(IntProgress(value=0, description='Epoch', max=1), HTML(value='')))"
      ]
     },
     "metadata": {},
     "output_type": "display_data"
    },
    {
     "name": "stdout",
     "output_type": "stream",
     "text": [
      "[ 0.       0.41975  0.59103  0.7523 ]                        \n",
      "\n",
      "CPU times: user 1min 7s, sys: 10 s, total: 1min 17s\n",
      "Wall time: 35.5 s\n"
     ]
    }
   ],
   "source": [
    "%time learner.fit(lrs=λr, n_cycle=1, cycle_len=1, cycle_mult=1)"
   ]
  },
  {
   "cell_type": "code",
   "execution_count": null,
   "metadata": {
    "hidden": true
   },
   "outputs": [],
   "source": [
    "%time learner.fit(lrs=λr, n_cycle=3, cycle_len=1, cycle_mult=1, wds=wd, use_wd_sched=True)"
   ]
  },
  {
   "cell_type": "code",
   "execution_count": null,
   "metadata": {
    "hidden": true
   },
   "outputs": [],
   "source": [
    "%time learner.fit(lrs=λr, n_cycle=3, cycle_len=1, cycle_mult=2, wds=wd, use_wd_sched=True)"
   ]
  },
  {
   "cell_type": "code",
   "execution_count": 17,
   "metadata": {
    "hidden": true
   },
   "outputs": [],
   "source": [
    "size = 200\n",
    "data = get_data(size)\n",
    "learner.set_data(data)"
   ]
  },
  {
   "cell_type": "code",
   "execution_count": 18,
   "metadata": {
    "hidden": true
   },
   "outputs": [
    {
     "data": {
      "application/vnd.jupyter.widget-view+json": {
       "model_id": "f68a02e974ab42c5a4494fa44d42290b",
       "version_major": 2,
       "version_minor": 0
      },
      "text/html": [
       "<p>Failed to display Jupyter Widget of type <code>HBox</code>.</p>\n",
       "<p>\n",
       "  If you're reading this message in the Jupyter Notebook or JupyterLab Notebook, it may mean\n",
       "  that the widgets JavaScript is still loading. If this message persists, it\n",
       "  likely means that the widgets JavaScript library is either not installed or\n",
       "  not enabled. See the <a href=\"https://ipywidgets.readthedocs.io/en/stable/user_install.html\">Jupyter\n",
       "  Widgets Documentation</a> for setup instructions.\n",
       "</p>\n",
       "<p>\n",
       "  If you're reading this message in another frontend (for example, a static\n",
       "  rendering on GitHub or <a href=\"https://nbviewer.jupyter.org/\">NBViewer</a>),\n",
       "  it may mean that your frontend doesn't currently support widgets.\n",
       "</p>\n"
      ],
      "text/plain": [
       "HBox(children=(IntProgress(value=0, description='Epoch', max=1), HTML(value='')))"
      ]
     },
     "metadata": {},
     "output_type": "display_data"
    },
    {
     "name": "stdout",
     "output_type": "stream",
     "text": [
      "[ 0.       0.34542  0.69597  0.80862]                        \n",
      "\n",
      "CPU times: user 2min 9s, sys: 31 s, total: 2min 40s\n",
      "Wall time: 1min 39s\n"
     ]
    }
   ],
   "source": [
    "%time learner.fit(lrs=λr, n_cycle=1, cycle_len=1, cycle_mult=1)"
   ]
  },
  {
   "cell_type": "code",
   "execution_count": null,
   "metadata": {
    "hidden": true
   },
   "outputs": [],
   "source": [
    "%time learner.fit(lrs=λr, n_cycle=3, cycle_len=1, cycle_mult=1, wds=wd, use_wd_sched=True)"
   ]
  },
  {
   "cell_type": "code",
   "execution_count": null,
   "metadata": {
    "hidden": true
   },
   "outputs": [],
   "source": [
    "%time learner.fit(lrs=λr, n_cycle=3, cycle_len=1, cycle_mult=2, wds=wd, use_wd_sched=True)"
   ]
  },
  {
   "cell_type": "code",
   "execution_count": 19,
   "metadata": {
    "hidden": true
   },
   "outputs": [],
   "source": [
    "size = 400\n",
    "data = get_data(size)\n",
    "learner.set_data(data)"
   ]
  },
  {
   "cell_type": "code",
   "execution_count": 20,
   "metadata": {
    "hidden": true
   },
   "outputs": [
    {
     "data": {
      "application/vnd.jupyter.widget-view+json": {
       "model_id": "7d58d2a708a84823afa955b69085976f",
       "version_major": 2,
       "version_minor": 0
      },
      "text/html": [
       "<p>Failed to display Jupyter Widget of type <code>HBox</code>.</p>\n",
       "<p>\n",
       "  If you're reading this message in the Jupyter Notebook or JupyterLab Notebook, it may mean\n",
       "  that the widgets JavaScript is still loading. If this message persists, it\n",
       "  likely means that the widgets JavaScript library is either not installed or\n",
       "  not enabled. See the <a href=\"https://ipywidgets.readthedocs.io/en/stable/user_install.html\">Jupyter\n",
       "  Widgets Documentation</a> for setup instructions.\n",
       "</p>\n",
       "<p>\n",
       "  If you're reading this message in another frontend (for example, a static\n",
       "  rendering on GitHub or <a href=\"https://nbviewer.jupyter.org/\">NBViewer</a>),\n",
       "  it may mean that your frontend doesn't currently support widgets.\n",
       "</p>\n"
      ],
      "text/plain": [
       "HBox(children=(IntProgress(value=0, description='Epoch', max=1), HTML(value='')))"
      ]
     },
     "metadata": {},
     "output_type": "display_data"
    },
    {
     "name": "stdout",
     "output_type": "stream",
     "text": [
      "[ 0.       0.33665  0.63039  0.77507]                        \n",
      "\n",
      "CPU times: user 6min 17s, sys: 2min 23s, total: 8min 41s\n",
      "Wall time: 6min 2s\n"
     ]
    }
   ],
   "source": [
    "%time learner.fit(lrs=λr, n_cycle=1, cycle_len=1, cycle_mult=1)"
   ]
  },
  {
   "cell_type": "code",
   "execution_count": null,
   "metadata": {
    "hidden": true
   },
   "outputs": [],
   "source": [
    "%time learner.fit(lrs=λr, n_cycle=3, cycle_len=1, cycle_mult=1, wds=wd, use_wd_sched=True)"
   ]
  },
  {
   "cell_type": "code",
   "execution_count": null,
   "metadata": {
    "hidden": true
   },
   "outputs": [],
   "source": [
    "%time learner.fit(lrs=λr, n_cycle=3, cycle_len=1, cycle_mult=2, wds=wd, use_wd_sched=True)"
   ]
  },
  {
   "cell_type": "markdown",
   "metadata": {
    "heading_collapsed": true
   },
   "source": [
    "## ResNeXt50 (32x4)"
   ]
  },
  {
   "cell_type": "code",
   "execution_count": 21,
   "metadata": {
    "hidden": true
   },
   "outputs": [],
   "source": [
    "# delete any tmp/ folder that exists\n",
    "%rm -rf $PATH/tmp/*"
   ]
  },
  {
   "cell_type": "code",
   "execution_count": 22,
   "metadata": {
    "hidden": true
   },
   "outputs": [],
   "source": [
    "arch = resnext50 # torch_imports --> .models.resnext_50_32x4d\n",
    "size = 100\n",
    "data = get_data(size)\n",
    "learner = ConvLearner.pretrained(arch, data)"
   ]
  },
  {
   "cell_type": "code",
   "execution_count": 23,
   "metadata": {
    "hidden": true
   },
   "outputs": [
    {
     "data": {
      "application/vnd.jupyter.widget-view+json": {
       "model_id": "a3ccade8e5ef44fcbd67bdb8d0eadac8",
       "version_major": 2,
       "version_minor": 0
      },
      "text/html": [
       "<p>Failed to display Jupyter Widget of type <code>HBox</code>.</p>\n",
       "<p>\n",
       "  If you're reading this message in the Jupyter Notebook or JupyterLab Notebook, it may mean\n",
       "  that the widgets JavaScript is still loading. If this message persists, it\n",
       "  likely means that the widgets JavaScript library is either not installed or\n",
       "  not enabled. See the <a href=\"https://ipywidgets.readthedocs.io/en/stable/user_install.html\">Jupyter\n",
       "  Widgets Documentation</a> for setup instructions.\n",
       "</p>\n",
       "<p>\n",
       "  If you're reading this message in another frontend (for example, a static\n",
       "  rendering on GitHub or <a href=\"https://nbviewer.jupyter.org/\">NBViewer</a>),\n",
       "  it may mean that your frontend doesn't currently support widgets.\n",
       "</p>\n"
      ],
      "text/plain": [
       "HBox(children=(IntProgress(value=0, description='Epoch', max=1), HTML(value='')))"
      ]
     },
     "metadata": {},
     "output_type": "display_data"
    },
    {
     "name": "stdout",
     "output_type": "stream",
     "text": [
      "[ 0.       0.42219  0.70795  0.7613 ]                        \n",
      "\n",
      "CPU times: user 1min 8s, sys: 11.5 s, total: 1min 19s\n",
      "Wall time: 37.4 s\n"
     ]
    }
   ],
   "source": [
    "%time learner.fit(lrs=λr, n_cycle=1, cycle_len=1, cycle_mult=1)"
   ]
  },
  {
   "cell_type": "code",
   "execution_count": null,
   "metadata": {
    "hidden": true
   },
   "outputs": [],
   "source": [
    "%time learner.fit(lrs=λr, n_cycle=3, cycle_len=1, cycle_mult=1, wds=wd, use_wd_sched=True)"
   ]
  },
  {
   "cell_type": "code",
   "execution_count": null,
   "metadata": {
    "hidden": true
   },
   "outputs": [],
   "source": [
    "%time learner.fit(lrs=λr, n_cycle=3, cycle_len=1, cycle_mult=2, wds=wd, use_wd_sched=True)"
   ]
  },
  {
   "cell_type": "code",
   "execution_count": 24,
   "metadata": {
    "hidden": true
   },
   "outputs": [],
   "source": [
    "size = 200\n",
    "data = get_data(size)\n",
    "learner.set_data(data)"
   ]
  },
  {
   "cell_type": "code",
   "execution_count": 25,
   "metadata": {
    "hidden": true
   },
   "outputs": [
    {
     "data": {
      "application/vnd.jupyter.widget-view+json": {
       "model_id": "513445f3ab724e5388c905a3ffbf1dea",
       "version_major": 2,
       "version_minor": 0
      },
      "text/html": [
       "<p>Failed to display Jupyter Widget of type <code>HBox</code>.</p>\n",
       "<p>\n",
       "  If you're reading this message in the Jupyter Notebook or JupyterLab Notebook, it may mean\n",
       "  that the widgets JavaScript is still loading. If this message persists, it\n",
       "  likely means that the widgets JavaScript library is either not installed or\n",
       "  not enabled. See the <a href=\"https://ipywidgets.readthedocs.io/en/stable/user_install.html\">Jupyter\n",
       "  Widgets Documentation</a> for setup instructions.\n",
       "</p>\n",
       "<p>\n",
       "  If you're reading this message in another frontend (for example, a static\n",
       "  rendering on GitHub or <a href=\"https://nbviewer.jupyter.org/\">NBViewer</a>),\n",
       "  it may mean that your frontend doesn't currently support widgets.\n",
       "</p>\n"
      ],
      "text/plain": [
       "HBox(children=(IntProgress(value=0, description='Epoch', max=1), HTML(value='')))"
      ]
     },
     "metadata": {},
     "output_type": "display_data"
    },
    {
     "name": "stdout",
     "output_type": "stream",
     "text": [
      "[ 0.       0.37712  0.5796   0.80032]                        \n",
      "\n",
      "CPU times: user 2min 15s, sys: 44.8 s, total: 3min\n",
      "Wall time: 1min 56s\n"
     ]
    }
   ],
   "source": [
    "%time learner.fit(lrs=λr, n_cycle=1, cycle_len=1, cycle_mult=1)"
   ]
  },
  {
   "cell_type": "code",
   "execution_count": null,
   "metadata": {
    "hidden": true
   },
   "outputs": [],
   "source": [
    "%time learner.fit(lrs=λr, n_cycle=3, cycle_len=1, cycle_mult=1, wds=wd, use_wd_sched=True)"
   ]
  },
  {
   "cell_type": "code",
   "execution_count": null,
   "metadata": {
    "hidden": true
   },
   "outputs": [],
   "source": [
    "%time learner.fit(lrs=λr, n_cycle=3, cycle_len=1, cycle_mult=2, wds=wd, use_wd_sched=True)"
   ]
  },
  {
   "cell_type": "code",
   "execution_count": 26,
   "metadata": {
    "hidden": true
   },
   "outputs": [],
   "source": [
    "size = 400\n",
    "data = get_data(size)\n",
    "learner.set_data(data)"
   ]
  },
  {
   "cell_type": "code",
   "execution_count": 27,
   "metadata": {
    "hidden": true
   },
   "outputs": [
    {
     "data": {
      "application/vnd.jupyter.widget-view+json": {
       "model_id": "1a98179f174944eea28c065651a6223a",
       "version_major": 2,
       "version_minor": 0
      },
      "text/html": [
       "<p>Failed to display Jupyter Widget of type <code>HBox</code>.</p>\n",
       "<p>\n",
       "  If you're reading this message in the Jupyter Notebook or JupyterLab Notebook, it may mean\n",
       "  that the widgets JavaScript is still loading. If this message persists, it\n",
       "  likely means that the widgets JavaScript library is either not installed or\n",
       "  not enabled. See the <a href=\"https://ipywidgets.readthedocs.io/en/stable/user_install.html\">Jupyter\n",
       "  Widgets Documentation</a> for setup instructions.\n",
       "</p>\n",
       "<p>\n",
       "  If you're reading this message in another frontend (for example, a static\n",
       "  rendering on GitHub or <a href=\"https://nbviewer.jupyter.org/\">NBViewer</a>),\n",
       "  it may mean that your frontend doesn't currently support widgets.\n",
       "</p>\n"
      ],
      "text/plain": [
       "HBox(children=(IntProgress(value=0, description='Epoch', max=1), HTML(value='')))"
      ]
     },
     "metadata": {},
     "output_type": "display_data"
    },
    {
     "name": "stdout",
     "output_type": "stream",
     "text": [
      "[ 0.       0.35053  0.54812  0.78019]                        \n",
      "\n",
      "CPU times: user 6min 53s, sys: 2min 49s, total: 9min 43s\n",
      "Wall time: 7min 1s\n"
     ]
    }
   ],
   "source": [
    "%time learner.fit(lrs=λr, n_cycle=1, cycle_len=1, cycle_mult=1)"
   ]
  },
  {
   "cell_type": "code",
   "execution_count": null,
   "metadata": {
    "hidden": true
   },
   "outputs": [],
   "source": [
    "%time learner.fit(lrs=λr, n_cycle=3, cycle_len=1, cycle_mult=1, wds=wd, use_wd_sched=True)"
   ]
  },
  {
   "cell_type": "code",
   "execution_count": null,
   "metadata": {
    "hidden": true
   },
   "outputs": [],
   "source": [
    "%time learner.fit(lrs=λr, n_cycle=3, cycle_len=1, cycle_mult=2, wds=wd, use_wd_sched=True)"
   ]
  },
  {
   "cell_type": "markdown",
   "metadata": {
    "heading_collapsed": true
   },
   "source": [
    "## ResNeXt101 (32x4)"
   ]
  },
  {
   "cell_type": "code",
   "execution_count": 40,
   "metadata": {
    "hidden": true
   },
   "outputs": [],
   "source": [
    "# delete any tmp/ folder that exists\n",
    "%rm -rf $PATH/tmp/*"
   ]
  },
  {
   "cell_type": "code",
   "execution_count": 41,
   "metadata": {
    "hidden": true
   },
   "outputs": [],
   "source": [
    "arch = resnext101 # torch_imports --> .models.resnext_101_32x4d\n",
    "size = 100\n",
    "data = get_data(size)\n",
    "learner = ConvLearner.pretrained(arch, data)"
   ]
  },
  {
   "cell_type": "code",
   "execution_count": 42,
   "metadata": {
    "hidden": true
   },
   "outputs": [
    {
     "data": {
      "application/vnd.jupyter.widget-view+json": {
       "model_id": "cab9021d1e6141068bb2fe4a724ffa26",
       "version_major": 2,
       "version_minor": 0
      },
      "text/html": [
       "<p>Failed to display Jupyter Widget of type <code>HBox</code>.</p>\n",
       "<p>\n",
       "  If you're reading this message in the Jupyter Notebook or JupyterLab Notebook, it may mean\n",
       "  that the widgets JavaScript is still loading. If this message persists, it\n",
       "  likely means that the widgets JavaScript library is either not installed or\n",
       "  not enabled. See the <a href=\"https://ipywidgets.readthedocs.io/en/stable/user_install.html\">Jupyter\n",
       "  Widgets Documentation</a> for setup instructions.\n",
       "</p>\n",
       "<p>\n",
       "  If you're reading this message in another frontend (for example, a static\n",
       "  rendering on GitHub or <a href=\"https://nbviewer.jupyter.org/\">NBViewer</a>),\n",
       "  it may mean that your frontend doesn't currently support widgets.\n",
       "</p>\n"
      ],
      "text/plain": [
       "HBox(children=(IntProgress(value=0, description='Epoch', max=1), HTML(value='')))"
      ]
     },
     "metadata": {},
     "output_type": "display_data"
    },
    {
     "name": "stdout",
     "output_type": "stream",
     "text": [
      "[ 0.       0.42343  0.75668  0.79467]                        \n",
      "\n",
      "CPU times: user 1min 20s, sys: 25.8 s, total: 1min 46s\n",
      "Wall time: 1min 2s\n"
     ]
    }
   ],
   "source": [
    "%time learner.fit(lrs=λr, n_cycle=1, cycle_len=1, cycle_mult=1)"
   ]
  },
  {
   "cell_type": "code",
   "execution_count": null,
   "metadata": {
    "hidden": true
   },
   "outputs": [],
   "source": [
    "%time learner.fit(lrs=λr, n_cycle=3, cycle_len=1, cycle_mult=1, wds=wd, use_wd_sched=True)"
   ]
  },
  {
   "cell_type": "code",
   "execution_count": null,
   "metadata": {
    "hidden": true
   },
   "outputs": [],
   "source": [
    "%time learner.fit(lrs=λr, n_cycle=3, cycle_len=1, cycle_mult=2, wds=wd, use_wd_sched=True)"
   ]
  },
  {
   "cell_type": "code",
   "execution_count": 43,
   "metadata": {
    "hidden": true
   },
   "outputs": [],
   "source": [
    "size = 200\n",
    "data = get_data(size)\n",
    "learner.set_data(data)"
   ]
  },
  {
   "cell_type": "code",
   "execution_count": 44,
   "metadata": {
    "hidden": true
   },
   "outputs": [
    {
     "data": {
      "application/vnd.jupyter.widget-view+json": {
       "model_id": "bc148583f7c04ac7b31e1a34a0961af7",
       "version_major": 2,
       "version_minor": 0
      },
      "text/html": [
       "<p>Failed to display Jupyter Widget of type <code>HBox</code>.</p>\n",
       "<p>\n",
       "  If you're reading this message in the Jupyter Notebook or JupyterLab Notebook, it may mean\n",
       "  that the widgets JavaScript is still loading. If this message persists, it\n",
       "  likely means that the widgets JavaScript library is either not installed or\n",
       "  not enabled. See the <a href=\"https://ipywidgets.readthedocs.io/en/stable/user_install.html\">Jupyter\n",
       "  Widgets Documentation</a> for setup instructions.\n",
       "</p>\n",
       "<p>\n",
       "  If you're reading this message in another frontend (for example, a static\n",
       "  rendering on GitHub or <a href=\"https://nbviewer.jupyter.org/\">NBViewer</a>),\n",
       "  it may mean that your frontend doesn't currently support widgets.\n",
       "</p>\n"
      ],
      "text/plain": [
       "HBox(children=(IntProgress(value=0, description='Epoch', max=1), HTML(value='')))"
      ]
     },
     "metadata": {},
     "output_type": "display_data"
    },
    {
     "name": "stdout",
     "output_type": "stream",
     "text": [
      "[ 0.       0.34123  0.6859   0.7839 ]                        \n",
      "\n",
      "CPU times: user 2min 48s, sys: 1min 26s, total: 4min 15s\n",
      "Wall time: 3min 10s\n"
     ]
    }
   ],
   "source": [
    "%time learner.fit(lrs=λr, n_cycle=1, cycle_len=1, cycle_mult=1)"
   ]
  },
  {
   "cell_type": "code",
   "execution_count": null,
   "metadata": {
    "hidden": true
   },
   "outputs": [],
   "source": [
    "%time learner.fit(lrs=λr, n_cycle=3, cycle_len=1, cycle_mult=1, wds=wd, use_wd_sched=True)"
   ]
  },
  {
   "cell_type": "code",
   "execution_count": null,
   "metadata": {
    "hidden": true
   },
   "outputs": [],
   "source": [
    "%time learner.fit(lrs=λr, n_cycle=3, cycle_len=1, cycle_mult=2, wds=wd, use_wd_sched=True)"
   ]
  },
  {
   "cell_type": "code",
   "execution_count": 45,
   "metadata": {
    "hidden": true
   },
   "outputs": [],
   "source": [
    "size = 400\n",
    "data = get_data(size)\n",
    "learner.set_data(data)"
   ]
  },
  {
   "cell_type": "code",
   "execution_count": 46,
   "metadata": {
    "hidden": true
   },
   "outputs": [
    {
     "data": {
      "application/vnd.jupyter.widget-view+json": {
       "model_id": "b658eb253a4e45f488194c5171be846f",
       "version_major": 2,
       "version_minor": 0
      },
      "text/html": [
       "<p>Failed to display Jupyter Widget of type <code>HBox</code>.</p>\n",
       "<p>\n",
       "  If you're reading this message in the Jupyter Notebook or JupyterLab Notebook, it may mean\n",
       "  that the widgets JavaScript is still loading. If this message persists, it\n",
       "  likely means that the widgets JavaScript library is either not installed or\n",
       "  not enabled. See the <a href=\"https://ipywidgets.readthedocs.io/en/stable/user_install.html\">Jupyter\n",
       "  Widgets Documentation</a> for setup instructions.\n",
       "</p>\n",
       "<p>\n",
       "  If you're reading this message in another frontend (for example, a static\n",
       "  rendering on GitHub or <a href=\"https://nbviewer.jupyter.org/\">NBViewer</a>),\n",
       "  it may mean that your frontend doesn't currently support widgets.\n",
       "</p>\n"
      ],
      "text/plain": [
       "HBox(children=(IntProgress(value=0, description='Epoch', max=1), HTML(value='')))"
      ]
     },
     "metadata": {},
     "output_type": "display_data"
    },
    {
     "name": "stdout",
     "output_type": "stream",
     "text": [
      "[ 0.       0.3188   0.72461  0.80509]                        \n",
      "\n",
      "CPU times: user 8min 41s, sys: 5min 16s, total: 13min 57s\n",
      "Wall time: 11min 17s\n"
     ]
    }
   ],
   "source": [
    "%time learner.fit(lrs=λr, n_cycle=1, cycle_len=1, cycle_mult=1)"
   ]
  },
  {
   "cell_type": "code",
   "execution_count": null,
   "metadata": {
    "hidden": true
   },
   "outputs": [],
   "source": [
    "%time learner.fit(lrs=λr, n_cycle=3, cycle_len=1, cycle_mult=1, wds=wd, use_wd_sched=True)"
   ]
  },
  {
   "cell_type": "code",
   "execution_count": null,
   "metadata": {
    "hidden": true
   },
   "outputs": [],
   "source": [
    "%time learner.fit(lrs=λr, n_cycle=3, cycle_len=1, cycle_mult=2, wds=wd, use_wd_sched=True)"
   ]
  },
  {
   "cell_type": "markdown",
   "metadata": {
    "heading_collapsed": true
   },
   "source": [
    "## ResNeXt101 (64x4)"
   ]
  },
  {
   "cell_type": "code",
   "execution_count": 5,
   "metadata": {
    "hidden": true
   },
   "outputs": [],
   "source": [
    "# delete any tmp/ folder that exists\n",
    "%rm -rf $PATH/tmp/*"
   ]
  },
  {
   "cell_type": "code",
   "execution_count": 5,
   "metadata": {
    "hidden": true
   },
   "outputs": [],
   "source": [
    "arch = resnext101_64 # torch_imports --> .models.resnext_101_64x4d\n",
    "size = 100\n",
    "data = get_data(size)\n",
    "learner = ConvLearner.pretrained(arch, data)"
   ]
  },
  {
   "cell_type": "code",
   "execution_count": 49,
   "metadata": {
    "hidden": true
   },
   "outputs": [
    {
     "data": {
      "application/vnd.jupyter.widget-view+json": {
       "model_id": "da415327e649408da4dbc847f502def2",
       "version_major": 2,
       "version_minor": 0
      },
      "text/html": [
       "<p>Failed to display Jupyter Widget of type <code>HBox</code>.</p>\n",
       "<p>\n",
       "  If you're reading this message in the Jupyter Notebook or JupyterLab Notebook, it may mean\n",
       "  that the widgets JavaScript is still loading. If this message persists, it\n",
       "  likely means that the widgets JavaScript library is either not installed or\n",
       "  not enabled. See the <a href=\"https://ipywidgets.readthedocs.io/en/stable/user_install.html\">Jupyter\n",
       "  Widgets Documentation</a> for setup instructions.\n",
       "</p>\n",
       "<p>\n",
       "  If you're reading this message in another frontend (for example, a static\n",
       "  rendering on GitHub or <a href=\"https://nbviewer.jupyter.org/\">NBViewer</a>),\n",
       "  it may mean that your frontend doesn't currently support widgets.\n",
       "</p>\n"
      ],
      "text/plain": [
       "HBox(children=(IntProgress(value=0, description='Epoch', max=1), HTML(value='')))"
      ]
     },
     "metadata": {},
     "output_type": "display_data"
    },
    {
     "name": "stdout",
     "output_type": "stream",
     "text": [
      "[ 0.       0.43241  0.58787  0.76713]                        \n",
      "\n",
      "CPU times: user 1min 41s, sys: 47.4 s, total: 2min 29s\n",
      "Wall time: 1min 44s\n"
     ]
    }
   ],
   "source": [
    "%time learner.fit(lrs=λr, n_cycle=1, cycle_len=1, cycle_mult=1)"
   ]
  },
  {
   "cell_type": "code",
   "execution_count": null,
   "metadata": {
    "hidden": true
   },
   "outputs": [],
   "source": [
    "%time learner.fit(lrs=λr, n_cycle=3, cycle_len=1, cycle_mult=1, wds=wd, use_wd_sched=True)"
   ]
  },
  {
   "cell_type": "code",
   "execution_count": null,
   "metadata": {
    "hidden": true
   },
   "outputs": [],
   "source": [
    "%time learner.fit(lrs=λr, n_cycle=3, cycle_len=1, cycle_mult=2, wds=wd, use_wd_sched=True)"
   ]
  },
  {
   "cell_type": "code",
   "execution_count": 50,
   "metadata": {
    "hidden": true
   },
   "outputs": [],
   "source": [
    "size = 200\n",
    "data = get_data(size)\n",
    "learner.set_data(data)"
   ]
  },
  {
   "cell_type": "code",
   "execution_count": 51,
   "metadata": {
    "hidden": true
   },
   "outputs": [
    {
     "data": {
      "application/vnd.jupyter.widget-view+json": {
       "model_id": "d0c0cef82bcb4909ace533af62057330",
       "version_major": 2,
       "version_minor": 0
      },
      "text/html": [
       "<p>Failed to display Jupyter Widget of type <code>HBox</code>.</p>\n",
       "<p>\n",
       "  If you're reading this message in the Jupyter Notebook or JupyterLab Notebook, it may mean\n",
       "  that the widgets JavaScript is still loading. If this message persists, it\n",
       "  likely means that the widgets JavaScript library is either not installed or\n",
       "  not enabled. See the <a href=\"https://ipywidgets.readthedocs.io/en/stable/user_install.html\">Jupyter\n",
       "  Widgets Documentation</a> for setup instructions.\n",
       "</p>\n",
       "<p>\n",
       "  If you're reading this message in another frontend (for example, a static\n",
       "  rendering on GitHub or <a href=\"https://nbviewer.jupyter.org/\">NBViewer</a>),\n",
       "  it may mean that your frontend doesn't currently support widgets.\n",
       "</p>\n"
      ],
      "text/plain": [
       "HBox(children=(IntProgress(value=0, description='Epoch', max=1), HTML(value='')))"
      ]
     },
     "metadata": {},
     "output_type": "display_data"
    },
    {
     "name": "stdout",
     "output_type": "stream",
     "text": [
      "[ 0.       0.32661  0.58692  0.79696]                        \n",
      "\n",
      "CPU times: user 3min 56s, sys: 2min 36s, total: 6min 33s\n",
      "Wall time: 5min 28s\n"
     ]
    }
   ],
   "source": [
    "%time learner.fit(lrs=λr, n_cycle=1, cycle_len=1, cycle_mult=1)"
   ]
  },
  {
   "cell_type": "code",
   "execution_count": null,
   "metadata": {
    "hidden": true
   },
   "outputs": [],
   "source": [
    "%time learner.fit(lrs=λr, n_cycle=3, cycle_len=1, cycle_mult=1, wds=wd, use_wd_sched=True)"
   ]
  },
  {
   "cell_type": "code",
   "execution_count": null,
   "metadata": {
    "hidden": true
   },
   "outputs": [],
   "source": [
    "%time learner.fit(lrs=λr, n_cycle=3, cycle_len=1, cycle_mult=2, wds=wd, use_wd_sched=True)"
   ]
  },
  {
   "cell_type": "code",
   "execution_count": 6,
   "metadata": {
    "hidden": true
   },
   "outputs": [],
   "source": [
    "λr,wd = 5e-3, 1.25e-3\n",
    "size = 400\n",
    "data = get_data(size, bs=26)\n",
    "learner.set_data(data)"
   ]
  },
  {
   "cell_type": "code",
   "execution_count": 7,
   "metadata": {
    "hidden": true
   },
   "outputs": [
    {
     "data": {
      "application/vnd.jupyter.widget-view+json": {
       "model_id": "a2b4222e63bc4d6db01c4dfcfb086a71",
       "version_major": 2,
       "version_minor": 0
      },
      "text/html": [
       "<p>Failed to display Jupyter Widget of type <code>HBox</code>.</p>\n",
       "<p>\n",
       "  If you're reading this message in the Jupyter Notebook or JupyterLab Notebook, it may mean\n",
       "  that the widgets JavaScript is still loading. If this message persists, it\n",
       "  likely means that the widgets JavaScript library is either not installed or\n",
       "  not enabled. See the <a href=\"https://ipywidgets.readthedocs.io/en/stable/user_install.html\">Jupyter\n",
       "  Widgets Documentation</a> for setup instructions.\n",
       "</p>\n",
       "<p>\n",
       "  If you're reading this message in another frontend (for example, a static\n",
       "  rendering on GitHub or <a href=\"https://nbviewer.jupyter.org/\">NBViewer</a>),\n",
       "  it may mean that your frontend doesn't currently support widgets.\n",
       "</p>\n"
      ],
      "text/plain": [
       "HBox(children=(IntProgress(value=0, description='Epoch', max=1), HTML(value='')))"
      ]
     },
     "metadata": {},
     "output_type": "display_data"
    },
    {
     "name": "stdout",
     "output_type": "stream",
     "text": [
      "[ 0.       0.3247   0.61357  0.78467]                        \n",
      "\n",
      "CPU times: user 12min 47s, sys: 9min 46s, total: 22min 33s\n",
      "Wall time: 19min 52s\n"
     ]
    }
   ],
   "source": [
    "%time learner.fit(lrs=λr, n_cycle=1, cycle_len=1, cycle_mult=1)"
   ]
  },
  {
   "cell_type": "code",
   "execution_count": null,
   "metadata": {
    "hidden": true
   },
   "outputs": [],
   "source": [
    "%time learner.fit(lrs=λr, n_cycle=3, cycle_len=1, cycle_mult=1, wds=wd, use_wd_sched=True)"
   ]
  },
  {
   "cell_type": "code",
   "execution_count": null,
   "metadata": {
    "hidden": true
   },
   "outputs": [],
   "source": [
    "%time learner.fit(lrs=λr, n_cycle=3, cycle_len=1, cycle_mult=2, wds=wd, use_wd_sched=True)"
   ]
  },
  {
   "cell_type": "markdown",
   "metadata": {
    "heading_collapsed": true
   },
   "source": [
    "## WideResNet50 (24)"
   ]
  },
  {
   "cell_type": "code",
   "execution_count": 8,
   "metadata": {
    "hidden": true
   },
   "outputs": [],
   "source": [
    "# delete any tmp/ folder that exists\n",
    "%rm -rf $PATH/tmp/*"
   ]
  },
  {
   "cell_type": "code",
   "execution_count": 9,
   "metadata": {
    "hidden": true
   },
   "outputs": [],
   "source": [
    "arch = wrn # torch_imports --> .models.wrn_50_2f\n",
    "size = 100\n",
    "data = get_data(size)\n",
    "learner = ConvLearner.pretrained(arch, data)"
   ]
  },
  {
   "cell_type": "code",
   "execution_count": 10,
   "metadata": {
    "hidden": true
   },
   "outputs": [
    {
     "data": {
      "application/vnd.jupyter.widget-view+json": {
       "model_id": "fcf03ed84520486e8d7acd6b683fc85e",
       "version_major": 2,
       "version_minor": 0
      },
      "text/html": [
       "<p>Failed to display Jupyter Widget of type <code>HBox</code>.</p>\n",
       "<p>\n",
       "  If you're reading this message in the Jupyter Notebook or JupyterLab Notebook, it may mean\n",
       "  that the widgets JavaScript is still loading. If this message persists, it\n",
       "  likely means that the widgets JavaScript library is either not installed or\n",
       "  not enabled. See the <a href=\"https://ipywidgets.readthedocs.io/en/stable/user_install.html\">Jupyter\n",
       "  Widgets Documentation</a> for setup instructions.\n",
       "</p>\n",
       "<p>\n",
       "  If you're reading this message in another frontend (for example, a static\n",
       "  rendering on GitHub or <a href=\"https://nbviewer.jupyter.org/\">NBViewer</a>),\n",
       "  it may mean that your frontend doesn't currently support widgets.\n",
       "</p>\n"
      ],
      "text/plain": [
       "HBox(children=(IntProgress(value=0, description='Epoch', max=1), HTML(value='')))"
      ]
     },
     "metadata": {},
     "output_type": "display_data"
    },
    {
     "name": "stdout",
     "output_type": "stream",
     "text": [
      "[ 0.       0.41434  0.84852  0.77384]                        \n",
      "\n",
      "CPU times: user 1min 25s, sys: 20.1 s, total: 1min 46s\n",
      "Wall time: 1min 3s\n"
     ]
    }
   ],
   "source": [
    "%time learner.fit(lrs=λr, n_cycle=1, cycle_len=1, cycle_mult=1)"
   ]
  },
  {
   "cell_type": "code",
   "execution_count": null,
   "metadata": {
    "hidden": true
   },
   "outputs": [],
   "source": [
    "%time learner.fit(lrs=λr, n_cycle=3, cycle_len=1, cycle_mult=1, wds=wd, use_wd_sched=True)"
   ]
  },
  {
   "cell_type": "code",
   "execution_count": null,
   "metadata": {
    "hidden": true
   },
   "outputs": [],
   "source": [
    "%time learner.fit(lrs=λr, n_cycle=3, cycle_len=1, cycle_mult=2, wds=wd, use_wd_sched=True)"
   ]
  },
  {
   "cell_type": "code",
   "execution_count": 11,
   "metadata": {
    "hidden": true
   },
   "outputs": [],
   "source": [
    "size = 200\n",
    "data = get_data(size)\n",
    "learner.set_data(data)"
   ]
  },
  {
   "cell_type": "code",
   "execution_count": 12,
   "metadata": {
    "hidden": true
   },
   "outputs": [
    {
     "data": {
      "application/vnd.jupyter.widget-view+json": {
       "model_id": "d2698d08a8a34d819bf110383a386a2f",
       "version_major": 2,
       "version_minor": 0
      },
      "text/html": [
       "<p>Failed to display Jupyter Widget of type <code>HBox</code>.</p>\n",
       "<p>\n",
       "  If you're reading this message in the Jupyter Notebook or JupyterLab Notebook, it may mean\n",
       "  that the widgets JavaScript is still loading. If this message persists, it\n",
       "  likely means that the widgets JavaScript library is either not installed or\n",
       "  not enabled. See the <a href=\"https://ipywidgets.readthedocs.io/en/stable/user_install.html\">Jupyter\n",
       "  Widgets Documentation</a> for setup instructions.\n",
       "</p>\n",
       "<p>\n",
       "  If you're reading this message in another frontend (for example, a static\n",
       "  rendering on GitHub or <a href=\"https://nbviewer.jupyter.org/\">NBViewer</a>),\n",
       "  it may mean that your frontend doesn't currently support widgets.\n",
       "</p>\n"
      ],
      "text/plain": [
       "HBox(children=(IntProgress(value=0, description='Epoch', max=1), HTML(value='')))"
      ]
     },
     "metadata": {},
     "output_type": "display_data"
    },
    {
     "name": "stdout",
     "output_type": "stream",
     "text": [
      "[ 0.       0.35802  0.78506  0.74912]                        \n",
      "\n",
      "CPU times: user 3min 15s, sys: 1min 6s, total: 4min 22s\n",
      "Wall time: 3min 17s\n"
     ]
    }
   ],
   "source": [
    "%time learner.fit(lrs=λr, n_cycle=1, cycle_len=1, cycle_mult=1)"
   ]
  },
  {
   "cell_type": "code",
   "execution_count": null,
   "metadata": {
    "hidden": true
   },
   "outputs": [],
   "source": [
    "%time learner.fit(lrs=λr, n_cycle=3, cycle_len=1, cycle_mult=1, wds=wd, use_wd_sched=True)"
   ]
  },
  {
   "cell_type": "code",
   "execution_count": null,
   "metadata": {
    "hidden": true
   },
   "outputs": [],
   "source": [
    "%time learner.fit(lrs=λr, n_cycle=3, cycle_len=1, cycle_mult=2, wds=wd, use_wd_sched=True)"
   ]
  },
  {
   "cell_type": "code",
   "execution_count": 13,
   "metadata": {
    "hidden": true
   },
   "outputs": [],
   "source": [
    "size = 400\n",
    "data = get_data(size)\n",
    "learner.set_data(data)"
   ]
  },
  {
   "cell_type": "code",
   "execution_count": 14,
   "metadata": {
    "hidden": true
   },
   "outputs": [
    {
     "data": {
      "application/vnd.jupyter.widget-view+json": {
       "model_id": "9ad58650fd1d4009bd0b4e28f029fd92",
       "version_major": 2,
       "version_minor": 0
      },
      "text/html": [
       "<p>Failed to display Jupyter Widget of type <code>HBox</code>.</p>\n",
       "<p>\n",
       "  If you're reading this message in the Jupyter Notebook or JupyterLab Notebook, it may mean\n",
       "  that the widgets JavaScript is still loading. If this message persists, it\n",
       "  likely means that the widgets JavaScript library is either not installed or\n",
       "  not enabled. See the <a href=\"https://ipywidgets.readthedocs.io/en/stable/user_install.html\">Jupyter\n",
       "  Widgets Documentation</a> for setup instructions.\n",
       "</p>\n",
       "<p>\n",
       "  If you're reading this message in another frontend (for example, a static\n",
       "  rendering on GitHub or <a href=\"https://nbviewer.jupyter.org/\">NBViewer</a>),\n",
       "  it may mean that your frontend doesn't currently support widgets.\n",
       "</p>\n"
      ],
      "text/plain": [
       "HBox(children=(IntProgress(value=0, description='Epoch', max=1), HTML(value='')))"
      ]
     },
     "metadata": {},
     "output_type": "display_data"
    },
    {
     "name": "stdout",
     "output_type": "stream",
     "text": [
      "[ 0.       0.33877  0.72289  0.77966]                        \n",
      "\n",
      "CPU times: user 10min 31s, sys: 3min 56s, total: 14min 27s\n",
      "Wall time: 11min 38s\n"
     ]
    }
   ],
   "source": [
    "%time learner.fit(lrs=λr, n_cycle=1, cycle_len=1, cycle_mult=1)"
   ]
  },
  {
   "cell_type": "code",
   "execution_count": null,
   "metadata": {
    "hidden": true
   },
   "outputs": [],
   "source": [
    "%time learner.fit(lrs=λr, n_cycle=3, cycle_len=1, cycle_mult=1, wds=wd, use_wd_sched=True)"
   ]
  },
  {
   "cell_type": "code",
   "execution_count": null,
   "metadata": {
    "hidden": true
   },
   "outputs": [],
   "source": [
    "%time learner.fit(lrs=λr, n_cycle=3, cycle_len=1, cycle_mult=2, wds=wd, use_wd_sched=True)"
   ]
  },
  {
   "cell_type": "markdown",
   "metadata": {},
   "source": [
    "## InceptionRNV2"
   ]
  },
  {
   "cell_type": "code",
   "execution_count": 15,
   "metadata": {},
   "outputs": [],
   "source": [
    "# delete any tmp/ folder that exists\n",
    "%rm -rf $PATH/tmp/*"
   ]
  },
  {
   "cell_type": "code",
   "execution_count": 16,
   "metadata": {},
   "outputs": [],
   "source": [
    "arch = inceptionresnet_2 # torch_imports --> .models.inceptionresnetv2\n",
    "size = 100\n",
    "data = get_data(size)\n",
    "learner = ConvLearner.pretrained(arch, data)"
   ]
  },
  {
   "cell_type": "code",
   "execution_count": 17,
   "metadata": {},
   "outputs": [
    {
     "data": {
      "application/vnd.jupyter.widget-view+json": {
       "model_id": "0b9f6e0fdc16430dbb7860359bdf8820",
       "version_major": 2,
       "version_minor": 0
      },
      "text/html": [
       "<p>Failed to display Jupyter Widget of type <code>HBox</code>.</p>\n",
       "<p>\n",
       "  If you're reading this message in the Jupyter Notebook or JupyterLab Notebook, it may mean\n",
       "  that the widgets JavaScript is still loading. If this message persists, it\n",
       "  likely means that the widgets JavaScript library is either not installed or\n",
       "  not enabled. See the <a href=\"https://ipywidgets.readthedocs.io/en/stable/user_install.html\">Jupyter\n",
       "  Widgets Documentation</a> for setup instructions.\n",
       "</p>\n",
       "<p>\n",
       "  If you're reading this message in another frontend (for example, a static\n",
       "  rendering on GitHub or <a href=\"https://nbviewer.jupyter.org/\">NBViewer</a>),\n",
       "  it may mean that your frontend doesn't currently support widgets.\n",
       "</p>\n"
      ],
      "text/plain": [
       "HBox(children=(IntProgress(value=0, description='Epoch', max=1), HTML(value='')))"
      ]
     },
     "metadata": {},
     "output_type": "display_data"
    },
    {
     "name": "stdout",
     "output_type": "stream",
     "text": [
      "[ 0.       0.47956  0.58394  0.75141]                        \n",
      "\n",
      "CPU times: user 1min 11s, sys: 11.5 s, total: 1min 22s\n",
      "Wall time: 40.6 s\n"
     ]
    }
   ],
   "source": [
    "%time learner.fit(lrs=λr, n_cycle=1, cycle_len=1, cycle_mult=1)"
   ]
  },
  {
   "cell_type": "code",
   "execution_count": null,
   "metadata": {},
   "outputs": [],
   "source": [
    "%time learner.fit(lrs=λr, n_cycle=3, cycle_len=1, cycle_mult=1, wds=wd, use_wd_sched=True)"
   ]
  },
  {
   "cell_type": "code",
   "execution_count": null,
   "metadata": {},
   "outputs": [],
   "source": [
    "%time learner.fit(lrs=λr, n_cycle=3, cycle_len=1, cycle_mult=2, wds=wd, use_wd_sched=True)"
   ]
  },
  {
   "cell_type": "code",
   "execution_count": 18,
   "metadata": {},
   "outputs": [],
   "source": [
    "size = 200\n",
    "data = get_data(size)\n",
    "learner.set_data(data)"
   ]
  },
  {
   "cell_type": "code",
   "execution_count": 19,
   "metadata": {},
   "outputs": [
    {
     "data": {
      "application/vnd.jupyter.widget-view+json": {
       "model_id": "a6e728fa0bb74bdab478ad039696fab7",
       "version_major": 2,
       "version_minor": 0
      },
      "text/html": [
       "<p>Failed to display Jupyter Widget of type <code>HBox</code>.</p>\n",
       "<p>\n",
       "  If you're reading this message in the Jupyter Notebook or JupyterLab Notebook, it may mean\n",
       "  that the widgets JavaScript is still loading. If this message persists, it\n",
       "  likely means that the widgets JavaScript library is either not installed or\n",
       "  not enabled. See the <a href=\"https://ipywidgets.readthedocs.io/en/stable/user_install.html\">Jupyter\n",
       "  Widgets Documentation</a> for setup instructions.\n",
       "</p>\n",
       "<p>\n",
       "  If you're reading this message in another frontend (for example, a static\n",
       "  rendering on GitHub or <a href=\"https://nbviewer.jupyter.org/\">NBViewer</a>),\n",
       "  it may mean that your frontend doesn't currently support widgets.\n",
       "</p>\n"
      ],
      "text/plain": [
       "HBox(children=(IntProgress(value=0, description='Epoch', max=1), HTML(value='')))"
      ]
     },
     "metadata": {},
     "output_type": "display_data"
    },
    {
     "name": "stdout",
     "output_type": "stream",
     "text": [
      "[ 0.       0.44227  0.66539  0.75848]                        \n",
      "\n",
      "CPU times: user 2min 33s, sys: 50.4 s, total: 3min 24s\n",
      "Wall time: 2min 22s\n"
     ]
    }
   ],
   "source": [
    "%time learner.fit(lrs=λr, n_cycle=1, cycle_len=1, cycle_mult=1)"
   ]
  },
  {
   "cell_type": "code",
   "execution_count": null,
   "metadata": {},
   "outputs": [],
   "source": [
    "%time learner.fit(lrs=λr, n_cycle=3, cycle_len=1, cycle_mult=1, wds=wd, use_wd_sched=True)"
   ]
  },
  {
   "cell_type": "code",
   "execution_count": null,
   "metadata": {},
   "outputs": [],
   "source": [
    "%time learner.fit(lrs=λr, n_cycle=3, cycle_len=1, cycle_mult=2, wds=wd, use_wd_sched=True)"
   ]
  },
  {
   "cell_type": "code",
   "execution_count": 20,
   "metadata": {},
   "outputs": [],
   "source": [
    "size = 400\n",
    "data = get_data(size)\n",
    "learner.set_data(data)"
   ]
  },
  {
   "cell_type": "code",
   "execution_count": 21,
   "metadata": {},
   "outputs": [
    {
     "data": {
      "application/vnd.jupyter.widget-view+json": {
       "model_id": "a6ad1e9ca5d040c89218ba5ac7c4e3dd",
       "version_major": 2,
       "version_minor": 0
      },
      "text/html": [
       "<p>Failed to display Jupyter Widget of type <code>HBox</code>.</p>\n",
       "<p>\n",
       "  If you're reading this message in the Jupyter Notebook or JupyterLab Notebook, it may mean\n",
       "  that the widgets JavaScript is still loading. If this message persists, it\n",
       "  likely means that the widgets JavaScript library is either not installed or\n",
       "  not enabled. See the <a href=\"https://ipywidgets.readthedocs.io/en/stable/user_install.html\">Jupyter\n",
       "  Widgets Documentation</a> for setup instructions.\n",
       "</p>\n",
       "<p>\n",
       "  If you're reading this message in another frontend (for example, a static\n",
       "  rendering on GitHub or <a href=\"https://nbviewer.jupyter.org/\">NBViewer</a>),\n",
       "  it may mean that your frontend doesn't currently support widgets.\n",
       "</p>\n"
      ],
      "text/plain": [
       "HBox(children=(IntProgress(value=0, description='Epoch', max=1), HTML(value='')))"
      ]
     },
     "metadata": {},
     "output_type": "display_data"
    },
    {
     "name": "stdout",
     "output_type": "stream",
     "text": [
      "[ 0.       0.42322  0.55976  0.76501]                        \n",
      "\n",
      "CPU times: user 9min 18s, sys: 4min 6s, total: 13min 24s\n",
      "Wall time: 10min 46s\n"
     ]
    }
   ],
   "source": [
    "%time learner.fit(lrs=λr, n_cycle=1, cycle_len=1, cycle_mult=1)"
   ]
  },
  {
   "cell_type": "code",
   "execution_count": null,
   "metadata": {},
   "outputs": [],
   "source": [
    "%time learner.fit(lrs=λr, n_cycle=3, cycle_len=1, cycle_mult=1, wds=wd, use_wd_sched=True)"
   ]
  },
  {
   "cell_type": "code",
   "execution_count": null,
   "metadata": {},
   "outputs": [],
   "source": [
    "%time learner.fit(lrs=λr, n_cycle=3, cycle_len=1, cycle_mult=2, wds=wd, use_wd_sched=True)"
   ]
  },
  {
   "cell_type": "markdown",
   "metadata": {},
   "source": [
    "## InceptionV4"
   ]
  },
  {
   "cell_type": "code",
   "execution_count": 22,
   "metadata": {},
   "outputs": [],
   "source": [
    "# delete any tmp/ folder that exists\n",
    "%rm -rf $PATH/tmp/*"
   ]
  },
  {
   "cell_type": "code",
   "execution_count": 23,
   "metadata": {},
   "outputs": [],
   "source": [
    "arch = inception_4 # torch_imports --> .models.inceptionv4\n",
    "size = 100\n",
    "data = get_data(size)\n",
    "learner = ConvLearner.pretrained(arch, data)"
   ]
  },
  {
   "cell_type": "code",
   "execution_count": 24,
   "metadata": {},
   "outputs": [
    {
     "data": {
      "application/vnd.jupyter.widget-view+json": {
       "model_id": "72a8ef56c5d246d6ad8fc2bc341d0ec4",
       "version_major": 2,
       "version_minor": 0
      },
      "text/html": [
       "<p>Failed to display Jupyter Widget of type <code>HBox</code>.</p>\n",
       "<p>\n",
       "  If you're reading this message in the Jupyter Notebook or JupyterLab Notebook, it may mean\n",
       "  that the widgets JavaScript is still loading. If this message persists, it\n",
       "  likely means that the widgets JavaScript library is either not installed or\n",
       "  not enabled. See the <a href=\"https://ipywidgets.readthedocs.io/en/stable/user_install.html\">Jupyter\n",
       "  Widgets Documentation</a> for setup instructions.\n",
       "</p>\n",
       "<p>\n",
       "  If you're reading this message in another frontend (for example, a static\n",
       "  rendering on GitHub or <a href=\"https://nbviewer.jupyter.org/\">NBViewer</a>),\n",
       "  it may mean that your frontend doesn't currently support widgets.\n",
       "</p>\n"
      ],
      "text/plain": [
       "HBox(children=(IntProgress(value=0, description='Epoch', max=1), HTML(value='')))"
      ]
     },
     "metadata": {},
     "output_type": "display_data"
    },
    {
     "name": "stdout",
     "output_type": "stream",
     "text": [
      "[ 0.       0.53671  0.61725  0.70851]                        \n",
      "\n",
      "CPU times: user 1min 6s, sys: 9.88 s, total: 1min 16s\n",
      "Wall time: 34.7 s\n"
     ]
    }
   ],
   "source": [
    "%time learner.fit(lrs=λr, n_cycle=1, cycle_len=1, cycle_mult=1)"
   ]
  },
  {
   "cell_type": "code",
   "execution_count": null,
   "metadata": {},
   "outputs": [],
   "source": [
    "%time learner.fit(lrs=λr, n_cycle=3, cycle_len=1, cycle_mult=1, wds=wd, use_wd_sched=True)"
   ]
  },
  {
   "cell_type": "code",
   "execution_count": null,
   "metadata": {},
   "outputs": [],
   "source": [
    "%time learner.fit(lrs=λr, n_cycle=3, cycle_len=1, cycle_mult=2, wds=wd, use_wd_sched=True)"
   ]
  },
  {
   "cell_type": "code",
   "execution_count": 25,
   "metadata": {},
   "outputs": [],
   "source": [
    "size = 200\n",
    "data = get_data(size)\n",
    "learner.set_data(data)"
   ]
  },
  {
   "cell_type": "code",
   "execution_count": 26,
   "metadata": {},
   "outputs": [
    {
     "data": {
      "application/vnd.jupyter.widget-view+json": {
       "model_id": "54dbe63fec274a0bac789667521e50e7",
       "version_major": 2,
       "version_minor": 0
      },
      "text/html": [
       "<p>Failed to display Jupyter Widget of type <code>HBox</code>.</p>\n",
       "<p>\n",
       "  If you're reading this message in the Jupyter Notebook or JupyterLab Notebook, it may mean\n",
       "  that the widgets JavaScript is still loading. If this message persists, it\n",
       "  likely means that the widgets JavaScript library is either not installed or\n",
       "  not enabled. See the <a href=\"https://ipywidgets.readthedocs.io/en/stable/user_install.html\">Jupyter\n",
       "  Widgets Documentation</a> for setup instructions.\n",
       "</p>\n",
       "<p>\n",
       "  If you're reading this message in another frontend (for example, a static\n",
       "  rendering on GitHub or <a href=\"https://nbviewer.jupyter.org/\">NBViewer</a>),\n",
       "  it may mean that your frontend doesn't currently support widgets.\n",
       "</p>\n"
      ],
      "text/plain": [
       "HBox(children=(IntProgress(value=0, description='Epoch', max=1), HTML(value='')))"
      ]
     },
     "metadata": {},
     "output_type": "display_data"
    },
    {
     "name": "stdout",
     "output_type": "stream",
     "text": [
      "[ 0.       0.45201  0.51797  0.75759]                        \n",
      "\n",
      "CPU times: user 2min 28s, sys: 39.9 s, total: 3min 8s\n",
      "Wall time: 2min 6s\n"
     ]
    }
   ],
   "source": [
    "%time learner.fit(lrs=λr, n_cycle=1, cycle_len=1, cycle_mult=1)"
   ]
  },
  {
   "cell_type": "code",
   "execution_count": null,
   "metadata": {},
   "outputs": [],
   "source": [
    "%time learner.fit(lrs=λr, n_cycle=3, cycle_len=1, cycle_mult=1, wds=wd, use_wd_sched=True)"
   ]
  },
  {
   "cell_type": "code",
   "execution_count": null,
   "metadata": {},
   "outputs": [],
   "source": [
    "%time learner.fit(lrs=λr, n_cycle=3, cycle_len=1, cycle_mult=2, wds=wd, use_wd_sched=True)"
   ]
  },
  {
   "cell_type": "code",
   "execution_count": 27,
   "metadata": {},
   "outputs": [],
   "source": [
    "size = 400\n",
    "data = get_data(size)\n",
    "learner.set_data(data)"
   ]
  },
  {
   "cell_type": "code",
   "execution_count": 28,
   "metadata": {},
   "outputs": [
    {
     "data": {
      "application/vnd.jupyter.widget-view+json": {
       "model_id": "b8c51929b7f14e3aa327627376f796e7",
       "version_major": 2,
       "version_minor": 0
      },
      "text/html": [
       "<p>Failed to display Jupyter Widget of type <code>HBox</code>.</p>\n",
       "<p>\n",
       "  If you're reading this message in the Jupyter Notebook or JupyterLab Notebook, it may mean\n",
       "  that the widgets JavaScript is still loading. If this message persists, it\n",
       "  likely means that the widgets JavaScript library is either not installed or\n",
       "  not enabled. See the <a href=\"https://ipywidgets.readthedocs.io/en/stable/user_install.html\">Jupyter\n",
       "  Widgets Documentation</a> for setup instructions.\n",
       "</p>\n",
       "<p>\n",
       "  If you're reading this message in another frontend (for example, a static\n",
       "  rendering on GitHub or <a href=\"https://nbviewer.jupyter.org/\">NBViewer</a>),\n",
       "  it may mean that your frontend doesn't currently support widgets.\n",
       "</p>\n"
      ],
      "text/plain": [
       "HBox(children=(IntProgress(value=0, description='Epoch', max=1), HTML(value='')))"
      ]
     },
     "metadata": {},
     "output_type": "display_data"
    },
    {
     "name": "stdout",
     "output_type": "stream",
     "text": [
      "[ 0.       0.39769  0.53139  0.78513]                        \n",
      "\n",
      "CPU times: user 8min 49s, sys: 3min 6s, total: 11min 55s\n",
      "Wall time: 9min 14s\n"
     ]
    }
   ],
   "source": [
    "%time learner.fit(lrs=λr, n_cycle=1, cycle_len=1, cycle_mult=1)"
   ]
  },
  {
   "cell_type": "code",
   "execution_count": null,
   "metadata": {},
   "outputs": [],
   "source": [
    "%time learner.fit(lrs=λr, n_cycle=3, cycle_len=1, cycle_mult=1, wds=wd, use_wd_sched=True)"
   ]
  },
  {
   "cell_type": "code",
   "execution_count": null,
   "metadata": {},
   "outputs": [],
   "source": [
    "%time learner.fit(lrs=λr, n_cycle=3, cycle_len=1, cycle_mult=2, wds=wd, use_wd_sched=True)"
   ]
  },
  {
   "cell_type": "code",
   "execution_count": null,
   "metadata": {},
   "outputs": [],
   "source": []
  }
 ],
 "metadata": {
  "kernelspec": {
   "display_name": "Python 3 (FastAI)",
   "language": "python",
   "name": "fastai"
  },
  "language_info": {
   "codemirror_mode": {
    "name": "ipython",
    "version": 3
   },
   "file_extension": ".py",
   "mimetype": "text/x-python",
   "name": "python",
   "nbconvert_exporter": "python",
   "pygments_lexer": "ipython3",
   "version": "3.6.3"
  }
 },
 "nbformat": 4,
 "nbformat_minor": 2
}
