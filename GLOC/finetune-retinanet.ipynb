{
 "cells": [
  {
   "cell_type": "markdown",
   "metadata": {},
   "source": [
    "2018 / 2 / 01\n",
    "\n",
    "Wayne Nixalo\n",
    "\n",
    "# RetinaNet Finetuning"
   ]
  },
  {
   "cell_type": "markdown",
   "metadata": {},
   "source": [
    "## 1. Imports & Initialization"
   ]
  },
  {
   "cell_type": "code",
   "execution_count": null,
   "metadata": {},
   "outputs": [],
   "source": [
    "import keras\n",
    "import keras.preprocessing.image\n",
    "\n",
    "import keras_retinanet.losses\n",
    "import keras_retinanet.layers\n",
    "from keras_retinanet.preprocessing.csv_generator import CSVGenerator\n",
    "from keras_retinanet.callbacks import RedirectModel\n",
    "from keras_retinanet.models.resnet import ResNet50RetinaNet\n",
    "from keras_retinanet.utils.keras_version import check_keras_version\n",
    "from keras_retinanet.utils.image import preprocess_image, resize_image\n",
    "from keras_retinanet.models.resnet import custom_objects # <-- what do I need this for?\n",
    "\n",
    "import tensorflow as tf\n",
    "\n",
    "import numpy as np\n",
    "import os\n",
    "import cv2"
   ]
  },
  {
   "cell_type": "code",
   "execution_count": null,
   "metadata": {
    "collapsed": true
   },
   "outputs": [],
   "source": [
    "def get_session():\n",
    "    config = tf.ConfigProto()\n",
    "    config.gpu_options.allow_growth = True\n",
    "    return tf.Session(config=config)"
   ]
  },
  {
   "cell_type": "markdown",
   "metadata": {},
   "source": [
    "Taken from [Boring Detector train.py script](https://github.com/lexfridman/boring-detector/blob/master/train.py#L43)\n",
    "\n",
    "Based on [initialization API from RetinaNet](https://github.com/fizyr/keras-retinanet/blob/master/keras_retinanet/models/resnet.py#L100)"
   ]
  },
  {
   "cell_type": "code",
   "execution_count": null,
   "metadata": {
    "collapsed": true
   },
   "outputs": [],
   "source": [
    "def create_models(num_classes):\n",
    "    # create \"base\" model (no NMS)\n",
    "    image = keras.layers.Input((None, None, 3))\n",
    "    \n",
    "    model = ResNet50RetinaNet(image, num_classes=num_classes, weights='imagenet', nms=False)\n",
    "    training_model = model\n",
    "    \n",
    "    # append NMS for prediction only\n",
    "    classification   = model.outputs[1]\n",
    "    detections       = model.outputs[2]\n",
    "    boxes            = keras.layers.Lambda(lambda x: x[:, :, :4])(detections)\n",
    "    detections       = keras_retinanet.layers.NonMaximumSuppression(name='nms')([boxes, classification, detections])\n",
    "    prediction_model = keras.models.Model(inputs=model.inputs, outputs=model.outputs[:2] + [detections])\n",
    "    \n",
    "    # compile model\n",
    "    training_model.compile(\n",
    "        loss={\n",
    "            'regression'    : keras_retinanet.losses.smooth_l1(),\n",
    "            'classification':keras_retinanet.losses.focal()\n",
    "        },\n",
    "        optimizer=keras.optimizers.adam(lr=1e-5, clipnorm=0.001)\n",
    "    )\n",
    "    \n",
    "    return model, training_model, prediction_model"
   ]
  },
  {
   "cell_type": "code",
   "execution_count": null,
   "metadata": {},
   "outputs": [],
   "source": [
    "# keras.backend.tensorflow_backend.set_session(get_session())\n",
    "\n",
    "# model = keras.models.load_model('data/retinanet-model/resnet50_coco_best_v1.2.2.h5',\n",
    "#                                     custom_objects=custom_objects)"
   ]
  },
  {
   "cell_type": "code",
   "execution_count": null,
   "metadata": {
    "collapsed": true
   },
   "outputs": [],
   "source": [
    "LENDATSET = 7637 # length of dataset (7637 images)\n",
    "batch_size = 1\n",
    "\n",
    "num_classes = 1\n",
    "steps_per_epoch = LENDATSET // batch_size # may need edits for batch sizes that leave remainders"
   ]
  },
  {
   "cell_type": "code",
   "execution_count": null,
   "metadata": {
    "collapsed": true
   },
   "outputs": [],
   "source": [
    "image_gen = keras.preprocessing.image.ImageDataGenerator(horizontal_flip=True)\n",
    "datagen = CSVGenerator(csv_data_file='data/interstage_retinanet_data.csv',\n",
    "                       csv_class_file='data/interstage_retinanet_classes.csv',\n",
    "                       image_data_generator=image_gen,\n",
    "                       batch_size=batch_size)"
   ]
  },
  {
   "cell_type": "code",
   "execution_count": null,
   "metadata": {
    "collapsed": true
   },
   "outputs": [],
   "source": [
    "model, trainer_model, predictor_model = create_models(num_classes)\n",
    "# dont yet exactly know why it's done this way: 3 returned 'model' versions"
   ]
  },
  {
   "cell_type": "markdown",
   "metadata": {},
   "source": [
    "## 2. Training"
   ]
  },
  {
   "cell_type": "code",
   "execution_count": null,
   "metadata": {
    "scrolled": false
   },
   "outputs": [],
   "source": [
    "trainer_model.fit_generator(generator = datagen,\n",
    "                            steps_per_epoch = steps_per_epoch, # eh?\n",
    "                            epochs    = 1,\n",
    "                            verbose   = 1,)"
   ]
  },
  {
   "cell_type": "markdown",
   "metadata": {},
   "source": [
    "## 3. Testing & Visualization"
   ]
  },
  {
   "cell_type": "code",
   "execution_count": null,
   "metadata": {
    "collapsed": true
   },
   "outputs": [],
   "source": [
    "test_image_path = 'data/interstage_train/000000-000412/000001.jpg' # or script for random impath\n",
    "test_image = cv2.imread(test_image_path)\n",
    "\n",
    "prediction = predictor_model.predict_on_batch(np.expand_dims(test_image, axis=0))"
   ]
  },
  {
   "cell_type": "code",
   "execution_count": null,
   "metadata": {
    "collapsed": true
   },
   "outputs": [],
   "source": [
    "# preprocess image for neural network\n",
    "image = preprocess_image(test_image)\n",
    "image, scale = resize_image(image)\n",
    "\n",
    "# detect on image\n",
    "_,_,detections = model.predict_on_batch(np.expand_dims(image, axis=0))\n",
    "\n",
    "# compute predicted labels and scores\n",
    "detected_label = np.argmax(detections[0,:,4:], axis=1)\n",
    "scores         = detections[0, np.arange(detections.shape[1]), 4 + detected_label]\n",
    "\n",
    "# correct for image scale\n",
    "detections[0,:,:4] /= scale"
   ]
  },
  {
   "cell_type": "code",
   "execution_count": null,
   "metadata": {},
   "outputs": [],
   "source": [
    "bbx = detections[0, 0, :4]\n",
    "bbx"
   ]
  },
  {
   "cell_type": "code",
   "execution_count": null,
   "metadata": {
    "collapsed": true
   },
   "outputs": [],
   "source": []
  }
 ],
 "metadata": {
  "kernelspec": {
   "display_name": "Python 3 (Aersu)",
   "language": "python",
   "name": "aersu"
  },
  "language_info": {
   "codemirror_mode": {
    "name": "ipython",
    "version": 3
   },
   "file_extension": ".py",
   "mimetype": "text/x-python",
   "name": "python",
   "nbconvert_exporter": "python",
   "pygments_lexer": "ipython3",
   "version": "3.6.4"
  }
 },
 "nbformat": 4,
 "nbformat_minor": 2
}
