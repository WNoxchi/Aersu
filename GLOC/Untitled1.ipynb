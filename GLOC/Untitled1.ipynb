{
 "cells": [
  {
   "cell_type": "markdown",
   "metadata": {},
   "source": [
    "# G-LOC Detector v0.1.1"
   ]
  },
  {
   "cell_type": "markdown",
   "metadata": {},
   "source": [
    "## Initital Training & Developement"
   ]
  },
  {
   "cell_type": "markdown",
   "metadata": {},
   "source": [
    "**-- 2:17 18 Dec 2017**\n",
    "\n",
    "I'm going to start this off at one-quarter size and increase to half-size (unsolved Memory issue for full-size), using my just-developed validation-by-subfolder function to make sure the validation and trainint sets have different people in them.\n",
    "\n",
    "The previous version had severe overfitting due to the same people being in both sets.\n",
    "\n",
    "I haven't decided whether to train Conv-Layers. I think I'll save 4 versions to compare their results:\n",
    "* FU-FU\n",
    "* FU-FF\n",
    "* FF-FU\n",
    "* FF-FF\n",
    "\n",
    "Quarter-Half; F: Frozen; U:Unfrozen (Conv-trained)"
   ]
  },
  {
   "cell_type": "markdown",
   "metadata": {},
   "source": [
    "### Imports"
   ]
  },
  {
   "cell_type": "markdown",
   "metadata": {},
   "source": [
    "### Dataloader & Learner Initialization"
   ]
  },
  {
   "cell_type": "markdown",
   "metadata": {},
   "source": [
    "### Quarter-Size Training"
   ]
  },
  {
   "cell_type": "markdown",
   "metadata": {},
   "source": [
    "### Half-Size Training"
   ]
  },
  {
   "cell_type": "markdown",
   "metadata": {},
   "source": [
    "### Testing"
   ]
  },
  {
   "cell_type": "code",
   "execution_count": null,
   "metadata": {},
   "outputs": [],
   "source": []
  }
 ],
 "metadata": {
  "kernelspec": {
   "display_name": "Python 3 (FastAI)",
   "language": "python",
   "name": "fastai"
  },
  "language_info": {
   "codemirror_mode": {
    "name": "ipython",
    "version": 3
   },
   "file_extension": ".py",
   "mimetype": "text/x-python",
   "name": "python",
   "nbconvert_exporter": "python",
   "pygments_lexer": "ipython3",
   "version": "3.6.3"
  }
 },
 "nbformat": 4,
 "nbformat_minor": 2
}
