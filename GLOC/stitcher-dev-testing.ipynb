{
 "cells": [
  {
   "cell_type": "markdown",
   "metadata": {},
   "source": [
    "Wayne Nixalo - 19-Jan-2018 15:29\n",
    "\n",
    "Working on how exactly I'll read in data from numbered CSV files, and concatenate them into a single main CSV file."
   ]
  },
  {
   "cell_type": "code",
   "execution_count": 1,
   "metadata": {},
   "outputs": [],
   "source": [
    "import pandas as pd\n",
    "import os"
   ]
  },
  {
   "cell_type": "code",
   "execution_count": 9,
   "metadata": {},
   "outputs": [],
   "source": [
    "path = 'data/'\n",
    "csv_name = 'interstage_labels'"
   ]
  },
  {
   "cell_type": "code",
   "execution_count": 24,
   "metadata": {},
   "outputs": [],
   "source": [
    "csvs = [fname for fname in os.listdir(path) if csv_name in fname and '.csv' in fname]"
   ]
  },
  {
   "cell_type": "code",
   "execution_count": 25,
   "metadata": {},
   "outputs": [
    {
     "data": {
      "text/plain": [
       "['interstage_labels-001505-001505.csv',\n",
       " 'interstage_labels-000006-000006.csv',\n",
       " 'interstage_labels-000004-000005.csv',\n",
       " 'interstage_labels-000002-000003.csv',\n",
       " 'interstage_labels-000000-000001.csv']"
      ]
     },
     "execution_count": 25,
     "metadata": {},
     "output_type": "execute_result"
    }
   ],
   "source": [
    "csvs"
   ]
  },
  {
   "cell_type": "code",
   "execution_count": 34,
   "metadata": {},
   "outputs": [],
   "source": [
    "# Initialize DataFrame as first CSV\n",
    "out_df = pd.read_csv(path + csvs[0])\n",
    "# append all other CSVs to DataFrame\n",
    "for i in range(1, len(csvs)):\n",
    "    out_df = out_df.append(pd.read_csv(path + csvs[i]))\n",
    "\n",
    "# save new CSV file\n",
    "# out_df.to_csv(path + csv_name + '.csv', index=False)"
   ]
  },
  {
   "cell_type": "code",
   "execution_count": 35,
   "metadata": {},
   "outputs": [
    {
     "data": {
      "text/html": [
       "<div>\n",
       "<style scoped>\n",
       "    .dataframe tbody tr th:only-of-type {\n",
       "        vertical-align: middle;\n",
       "    }\n",
       "\n",
       "    .dataframe tbody tr th {\n",
       "        vertical-align: top;\n",
       "    }\n",
       "\n",
       "    .dataframe thead th {\n",
       "        text-align: right;\n",
       "    }\n",
       "</style>\n",
       "<table border=\"1\" class=\"dataframe\">\n",
       "  <thead>\n",
       "    <tr style=\"text-align: right;\">\n",
       "      <th></th>\n",
       "      <th>id</th>\n",
       "      <th>x1</th>\n",
       "      <th>y1</th>\n",
       "      <th>x2</th>\n",
       "      <th>y2</th>\n",
       "    </tr>\n",
       "  </thead>\n",
       "  <tbody>\n",
       "    <tr>\n",
       "      <th>0</th>\n",
       "      <td>001435-001882/001505.jpg</td>\n",
       "      <td>210</td>\n",
       "      <td>102</td>\n",
       "      <td>314</td>\n",
       "      <td>379</td>\n",
       "    </tr>\n",
       "    <tr>\n",
       "      <th>0</th>\n",
       "      <td>000000-000412/000006.jpg</td>\n",
       "      <td>210</td>\n",
       "      <td>102</td>\n",
       "      <td>314</td>\n",
       "      <td>379</td>\n",
       "    </tr>\n",
       "    <tr>\n",
       "      <th>0</th>\n",
       "      <td>000000-000412/000004.jpg</td>\n",
       "      <td>65</td>\n",
       "      <td>90</td>\n",
       "      <td>209</td>\n",
       "      <td>389</td>\n",
       "    </tr>\n",
       "    <tr>\n",
       "      <th>1</th>\n",
       "      <td>000000-000412/000005.jpg</td>\n",
       "      <td>47</td>\n",
       "      <td>69</td>\n",
       "      <td>209</td>\n",
       "      <td>381</td>\n",
       "    </tr>\n",
       "    <tr>\n",
       "      <th>0</th>\n",
       "      <td>000000-000412/000002.jpg</td>\n",
       "      <td>58</td>\n",
       "      <td>89</td>\n",
       "      <td>208</td>\n",
       "      <td>390</td>\n",
       "    </tr>\n",
       "    <tr>\n",
       "      <th>1</th>\n",
       "      <td>000000-000412/000003.jpg</td>\n",
       "      <td>66</td>\n",
       "      <td>98</td>\n",
       "      <td>214</td>\n",
       "      <td>388</td>\n",
       "    </tr>\n",
       "    <tr>\n",
       "      <th>0</th>\n",
       "      <td>000000-000412/000000.jpg</td>\n",
       "      <td>83</td>\n",
       "      <td>72</td>\n",
       "      <td>191</td>\n",
       "      <td>380</td>\n",
       "    </tr>\n",
       "    <tr>\n",
       "      <th>1</th>\n",
       "      <td>000000-000412/000001.jpg</td>\n",
       "      <td>52</td>\n",
       "      <td>89</td>\n",
       "      <td>204</td>\n",
       "      <td>381</td>\n",
       "    </tr>\n",
       "  </tbody>\n",
       "</table>\n",
       "</div>"
      ],
      "text/plain": [
       "                         id   x1   y1   x2   y2\n",
       "0  001435-001882/001505.jpg  210  102  314  379\n",
       "0  000000-000412/000006.jpg  210  102  314  379\n",
       "0  000000-000412/000004.jpg   65   90  209  389\n",
       "1  000000-000412/000005.jpg   47   69  209  381\n",
       "0  000000-000412/000002.jpg   58   89  208  390\n",
       "1  000000-000412/000003.jpg   66   98  214  388\n",
       "0  000000-000412/000000.jpg   83   72  191  380\n",
       "1  000000-000412/000001.jpg   52   89  204  381"
      ]
     },
     "execution_count": 35,
     "metadata": {},
     "output_type": "execute_result"
    }
   ],
   "source": [
    "out_df"
   ]
  },
  {
   "cell_type": "code",
   "execution_count": 39,
   "metadata": {},
   "outputs": [
    {
     "data": {
      "text/plain": [
       "1    000000-000412/000005.jpg\n",
       "1    000000-000412/000003.jpg\n",
       "1    000000-000412/000001.jpg\n",
       "Name: id, dtype: object"
      ]
     },
     "execution_count": 39,
     "metadata": {},
     "output_type": "execute_result"
    }
   ],
   "source": [
    "out_df['id']"
   ]
  },
  {
   "cell_type": "code",
   "execution_count": 53,
   "metadata": {},
   "outputs": [
    {
     "data": {
      "text/plain": [
       "array(['001435-001882/001505.jpg', '000000-000412/000006.jpg',\n",
       "       '000000-000412/000004.jpg', '000000-000412/000005.jpg',\n",
       "       '000000-000412/000002.jpg', '000000-000412/000003.jpg',\n",
       "       '000000-000412/000000.jpg', '000000-000412/000001.jpg'],\n",
       "      dtype=object)"
      ]
     },
     "execution_count": 53,
     "metadata": {},
     "output_type": "execute_result"
    }
   ],
   "source": [
    "out_df['id']"
   ]
  },
  {
   "cell_type": "code",
   "execution_count": 63,
   "metadata": {},
   "outputs": [
    {
     "data": {
      "text/plain": [
       "['000000-000412/000005.jpg']"
      ]
     },
     "execution_count": 63,
     "metadata": {},
     "output_type": "execute_result"
    }
   ],
   "source": [
    "name = '000000-000412/000005.jpg'\n",
    "[row for row in out_df['id'] if row == name]"
   ]
  },
  {
   "cell_type": "code",
   "execution_count": 62,
   "metadata": {},
   "outputs": [
    {
     "data": {
      "text/plain": [
       "['001435-001882/001505.jpg',\n",
       " '000000-000412/000006.jpg',\n",
       " '000000-000412/000004.jpg',\n",
       " '000000-000412/000005.jpg',\n",
       " '000000-000412/000002.jpg',\n",
       " '000000-000412/000003.jpg',\n",
       " '000000-000412/000000.jpg',\n",
       " '000000-000412/000001.jpg']"
      ]
     },
     "execution_count": 62,
     "metadata": {},
     "output_type": "execute_result"
    }
   ],
   "source": [
    "[row for row in out_df['id']]"
   ]
  },
  {
   "cell_type": "code",
   "execution_count": 68,
   "metadata": {},
   "outputs": [
    {
     "data": {
      "text/plain": [
       "[(0, '001435-001882/001505.jpg', False),\n",
       " (1, '000000-000412/000006.jpg', False),\n",
       " (2, '000000-000412/000004.jpg', False),\n",
       " (3, '000000-000412/000005.jpg', True),\n",
       " (4, '000000-000412/000002.jpg', False),\n",
       " (5, '000000-000412/000003.jpg', False),\n",
       " (6, '000000-000412/000000.jpg', False),\n",
       " (7, '000000-000412/000001.jpg', False)]"
      ]
     },
     "execution_count": 68,
     "metadata": {},
     "output_type": "execute_result"
    }
   ],
   "source": [
    "[(i,row, row==name) for i,row in enumerate(out_df['id'])]"
   ]
  },
  {
   "cell_type": "code",
   "execution_count": 70,
   "metadata": {},
   "outputs": [
    {
     "data": {
      "text/plain": [
       "'000000-000412/000005.jpg'"
      ]
     },
     "execution_count": 70,
     "metadata": {},
     "output_type": "execute_result"
    }
   ],
   "source": [
    "out_df['id'].iloc[3]"
   ]
  },
  {
   "cell_type": "markdown",
   "metadata": {},
   "source": [
    "Okay, I'm in a car right now with no internet, so I had to figure out how to find a particular row in a DataFrame. I can use this to extract the G-LOC label from the input dataset; because I forgot to do that in the `cropper.py` program."
   ]
  },
  {
   "cell_type": "code",
   "execution_count": 71,
   "metadata": {},
   "outputs": [],
   "source": [
    "import numpy as np"
   ]
  },
  {
   "cell_type": "code",
   "execution_count": 75,
   "metadata": {},
   "outputs": [
    {
     "data": {
      "text/plain": [
       "(array([3]),)"
      ]
     },
     "execution_count": 75,
     "metadata": {},
     "output_type": "execute_result"
    }
   ],
   "source": [
    "np.where(out_df['id']==name)"
   ]
  },
  {
   "cell_type": "code",
   "execution_count": 76,
   "metadata": {},
   "outputs": [
    {
     "data": {
      "text/plain": [
       "3"
      ]
     },
     "execution_count": 76,
     "metadata": {},
     "output_type": "execute_result"
    }
   ],
   "source": [
    "np.where(out_df['id']==name)[0][0]"
   ]
  },
  {
   "cell_type": "code",
   "execution_count": 78,
   "metadata": {},
   "outputs": [
    {
     "data": {
      "text/plain": [
       "'000000-000412/000005.jpg'"
      ]
     },
     "execution_count": 78,
     "metadata": {},
     "output_type": "execute_result"
    }
   ],
   "source": [
    "out_df.iloc[3]['id']"
   ]
  },
  {
   "cell_type": "markdown",
   "metadata": {},
   "source": [
    "---\n",
    "\n",
    "Heh, I did this next part waiting for a lecture (6.S094) to start at MIT and I feel really special. Lol..."
   ]
  },
  {
   "cell_type": "code",
   "execution_count": 87,
   "metadata": {},
   "outputs": [],
   "source": [
    "interstage_ids = ['006861-007364/007306.jpg','006861-007364/007307.jpg','006861-007364/007308.jpg']"
   ]
  },
  {
   "cell_type": "code",
   "execution_count": 88,
   "metadata": {},
   "outputs": [],
   "source": [
    "interstage_ids = [fpath.split('.jpg')[0] for fpath in interstage_ids]"
   ]
  },
  {
   "cell_type": "code",
   "execution_count": 89,
   "metadata": {},
   "outputs": [
    {
     "data": {
      "text/plain": [
       "['006861-007364/007306', '006861-007364/007307', '006861-007364/007308']"
      ]
     },
     "execution_count": 89,
     "metadata": {},
     "output_type": "execute_result"
    }
   ],
   "source": [
    "interstage_ids"
   ]
  },
  {
   "cell_type": "code",
   "execution_count": 85,
   "metadata": {},
   "outputs": [],
   "source": [
    "labels_csv = pd.read_csv('data/labels.csv')"
   ]
  },
  {
   "cell_type": "code",
   "execution_count": null,
   "metadata": {},
   "outputs": [],
   "source": []
  },
  {
   "cell_type": "code",
   "execution_count": 90,
   "metadata": {},
   "outputs": [],
   "source": [
    "label_idxs = [np.where(labels_csv['id'] == fpath) for fpath in interstage_ids]"
   ]
  },
  {
   "cell_type": "code",
   "execution_count": 93,
   "metadata": {},
   "outputs": [],
   "source": [
    "label_idxs = [item[0][0] for item in label_idxs]"
   ]
  },
  {
   "cell_type": "code",
   "execution_count": 94,
   "metadata": {},
   "outputs": [
    {
     "data": {
      "text/plain": [
       "[7306, 7307, 7308]"
      ]
     },
     "execution_count": 94,
     "metadata": {},
     "output_type": "execute_result"
    }
   ],
   "source": [
    "label_idxs"
   ]
  },
  {
   "cell_type": "markdown",
   "metadata": {},
   "source": [
    "Back in the car on the way home.\n",
    "\n",
    "---\n",
    "\n",
    "I was having an issue with the GLOC classification being recorded as floats. They're suppsoed to be integers."
   ]
  },
  {
   "cell_type": "code",
   "execution_count": 96,
   "metadata": {},
   "outputs": [
    {
     "data": {
      "text/plain": [
       "numpy.int64"
      ]
     },
     "execution_count": 96,
     "metadata": {},
     "output_type": "execute_result"
    }
   ],
   "source": [
    "type(label_idxs[0])"
   ]
  },
  {
   "cell_type": "code",
   "execution_count": 97,
   "metadata": {},
   "outputs": [],
   "source": [
    "interstage_labels = [labels_csv.iloc[row]['gloc'] for row in label_idxs]"
   ]
  },
  {
   "cell_type": "code",
   "execution_count": 100,
   "metadata": {},
   "outputs": [
    {
     "data": {
      "text/plain": [
       "dtype('int64')"
      ]
     },
     "execution_count": 100,
     "metadata": {},
     "output_type": "execute_result"
    }
   ],
   "source": [
    "interstage_labels[0].dtype"
   ]
  },
  {
   "cell_type": "markdown",
   "metadata": {},
   "source": [
    "Aha.."
   ]
  },
  {
   "cell_type": "code",
   "execution_count": 103,
   "metadata": {},
   "outputs": [
    {
     "data": {
      "text/plain": [
       "7306"
      ]
     },
     "execution_count": 103,
     "metadata": {},
     "output_type": "execute_result"
    }
   ],
   "source": [
    "label_idxs[0]"
   ]
  },
  {
   "cell_type": "markdown",
   "metadata": {},
   "source": [
    "Hmm, maybe Pandas was automtaically converting my ints to floats because of the presence of NaNs? I was concatenating dataframes that didn't have any GLOC column, and while searching for how to save integer arrays I came across a lot of people having trouble storing both integers and NaNs in the same column. It may be a related issue.\n",
    "\n",
    "I can test exhaustively to confirm (not going to), I could edit the code to cast the GLOC classifications into integers (would'nt change anything becuase it doesnt address the cause issue), or I could leave it be, because I'm going to redo the interstage dataset to include the GLOC column anyway.\n",
    "\n",
    "Also I can write in a quick flag to see if the clsftns are going in as floats or ints. I expect to get int, meaning they're being changed after entering the dataframe.\n",
    "\n",
    "Oh wait, unnec. I can just read in the last CSV which was done including GLOC clsfns."
   ]
  },
  {
   "cell_type": "code",
   "execution_count": 105,
   "metadata": {},
   "outputs": [],
   "source": [
    "new_df = pd.read_csv(path + 'interstage_labels-001506-001506.csv')"
   ]
  },
  {
   "cell_type": "code",
   "execution_count": 106,
   "metadata": {},
   "outputs": [
    {
     "data": {
      "text/plain": [
       "0    0\n",
       "Name: gloc, dtype: int64"
      ]
     },
     "execution_count": 106,
     "metadata": {},
     "output_type": "execute_result"
    }
   ],
   "source": [
    "new_df['gloc']"
   ]
  },
  {
   "cell_type": "markdown",
   "metadata": {},
   "source": [
    "There you have it. Most likely caused by the presence of NaNs. This won't occur in normal operation, and if it does: I'll fix it.\n",
    "\n",
    "-- Wayne Nixalo -- 23:09"
   ]
  },
  {
   "cell_type": "markdown",
   "metadata": {},
   "source": [
    "Ah, a bigger issue is that the GLOC column was placed as the first column even though I specified an index of `1` in `cropper.py`. `cropper.py` saves it to the right position. Something got screwed up in `utils.common.csv_stitcher`. Again because of the NaNs?\n",
    "\n",
    "I have some other strange issues happening when I try to concatenate dataframes from CSVs. I'm go just redo the mini-test dataset when I get home.\n",
    "\n",
    "Such as this:\n",
    "\n",
    "```\n",
    ">>> path = 'data/'\n",
    ">>> csv_name = 'interstage_labels'\n",
    ">>> csvs = [fname for fname in os.listdir(path) if csv_name in fname and '.csv' in fname]\n",
    ">>> csvs.sort()\n",
    ">>> csvs\n",
    "['interstage_labels-000000-000001.csv', 'interstage_labels-000002-000003.csv', 'interstage_labels-000004-000005.csv', 'interstage_labels-000006-000006.csv', 'interstage_labels-001505-001505.csv', 'interstage_labels-001506-001506.csv', 'interstage_labels.csv']\n",
    "```\n",
    "Issue Here:\n",
    "```\n",
    ">>> out_df = pd.read_csv(path + csvs[0])\n",
    ">>> out_df.head()\n",
    "                         id  x1  y1   x2   y2\n",
    "0  000000-000412/000000.jpg  83  72  191  380\n",
    "1  000000-000412/000001.jpg  52  89  204  381\n",
    "\n",
    "\n",
    ">>> for i in range(1, len(csvs)-2):\n",
    "...     out_df = out_df.append(pd.read_csv(path + csvs[i]))\n",
    "...\n",
    ">>> out_df.head()\n",
    "                        1id                        id  x1   x2  y1   y2\n",
    "0                       NaN  000000-000412/000000.jpg  83  191  72  380\n",
    "1                       NaN  000000-000412/000001.jpg  52  204  89  381\n",
    "0  000000-000412/000002.jpg                       NaN  58  208  89  390\n",
    "1  000000-000412/000003.jpg                       NaN  66  214  98  388\n",
    "0                       NaN  000000-000412/000004.jpg  65  209  90  389\n",
    "```"
   ]
  },
  {
   "cell_type": "code",
   "execution_count": null,
   "metadata": {},
   "outputs": [],
   "source": []
  }
 ],
 "metadata": {
  "kernelspec": {
   "display_name": "Python 3 (Aersu)",
   "language": "python",
   "name": "aersu"
  },
  "language_info": {
   "codemirror_mode": {
    "name": "ipython",
    "version": 3
   },
   "file_extension": ".py",
   "mimetype": "text/x-python",
   "name": "python",
   "nbconvert_exporter": "python",
   "pygments_lexer": "ipython3",
   "version": "3.6.4"
  }
 },
 "nbformat": 4,
 "nbformat_minor": 2
}
