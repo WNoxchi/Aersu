{
 "cells": [
  {
   "cell_type": "markdown",
   "metadata": {},
   "source": [
    "# Converting Label CSV to Multi-Class & Multi-Bbox CSVs"
   ]
  },
  {
   "cell_type": "markdown",
   "metadata": {},
   "source": [
    "WNixalo - 6/5/2018\n",
    "\n",
    "---\n",
    "\n",
    "Converting labels CSV from x1,y1,x2,y2 coordinate columns format to 'coordinates' column format -- merging in with fastai method.\n",
    "\n",
    "Also splitting up the single CSV containing coordinates and classes into one for multiple coordinates and one for multiple classes.\n",
    "\n",
    "I'll convert the class to a number index. I don't know exactly how this interferes or not with having a standard 'background' class -- the fastai pascal multi code has class '0' as 'aeroplane' (if you take a look at `cat2id`). It looks like fastai assigns the 'background' class at an 'end' class, ie: from the line in [pascal-multi](https://github.com/WNoxchi/Aersu/blob/master/GLOC/model_dev/codealong-fastai-dl2-pascal-multi.ipynb): \n",
    "\n",
    "```\n",
    "pos = gt_overlap > 0.4\n",
    "...\n",
    "gt_clas[1 - pos] = len(id2cat)\n",
    "```\n",
    "Where **if** the overlap threshold is breached, the 1st element of var groundtruth class is set to the length of the class ids -- and *this* is how 'background' is assigned.\n",
    "\n",
    "That's to say: if there are 12 class ids, then a 13th class is assigned if that detection is 'background'."
   ]
  },
  {
   "cell_type": "markdown",
   "metadata": {},
   "source": [
    "## Imports"
   ]
  },
  {
   "cell_type": "code",
   "execution_count": 1,
   "metadata": {},
   "outputs": [],
   "source": [
    "%matplotlib inline\n",
    "%reload_ext autoreload\n",
    "%autoreload 2"
   ]
  },
  {
   "cell_type": "code",
   "execution_count": 2,
   "metadata": {},
   "outputs": [],
   "source": [
    "from fastai.conv_learner import *\n",
    "\n",
    "sys.path.insert(1, os.path.join('../'))\n",
    "from utils import common\n",
    "from utils import temp_utils\n",
    "from utils.subfolder_val_idxs import set_val_idxs\n",
    "\n",
    "from matplotlib import patches, patheffects"
   ]
  },
  {
   "cell_type": "code",
   "execution_count": 3,
   "metadata": {},
   "outputs": [],
   "source": [
    "PATH = Path('../data')\n",
    "PATH_TRAIN     = PATH/'train'\n",
    "PATH_TRAIN_BBX = PATH/'interstage_train'\n",
    "PATH_CSV     = PATH/'labels.csv'\n",
    "PATH_CSV_BBX = PATH/'interstage_labels.csv'\n",
    "CPU_PATH_CSV     = PATH/'cpu_labels.csv'\n",
    "CPU_PATH_CSV_BBX = PATH/'cpu_interstage_labels.csv'"
   ]
  },
  {
   "cell_type": "markdown",
   "metadata": {},
   "source": [
    "## Testing: convert coords to string in CSV"
   ]
  },
  {
   "cell_type": "code",
   "execution_count": 89,
   "metadata": {},
   "outputs": [
    {
     "data": {
      "text/html": [
       "<div>\n",
       "<style scoped>\n",
       "    .dataframe tbody tr th:only-of-type {\n",
       "        vertical-align: middle;\n",
       "    }\n",
       "\n",
       "    .dataframe tbody tr th {\n",
       "        vertical-align: top;\n",
       "    }\n",
       "\n",
       "    .dataframe thead th {\n",
       "        text-align: right;\n",
       "    }\n",
       "</style>\n",
       "<table border=\"1\" class=\"dataframe\">\n",
       "  <thead>\n",
       "    <tr style=\"text-align: right;\">\n",
       "      <th></th>\n",
       "      <th>id</th>\n",
       "      <th>x1</th>\n",
       "      <th>y1</th>\n",
       "      <th>x2</th>\n",
       "      <th>y2</th>\n",
       "      <th>class</th>\n",
       "    </tr>\n",
       "  </thead>\n",
       "  <tbody>\n",
       "    <tr>\n",
       "      <th>0</th>\n",
       "      <td>interstage_train/000000-000412/000000.jpg</td>\n",
       "      <td>83</td>\n",
       "      <td>72</td>\n",
       "      <td>191</td>\n",
       "      <td>380</td>\n",
       "      <td>pilot</td>\n",
       "    </tr>\n",
       "    <tr>\n",
       "      <th>1</th>\n",
       "      <td>interstage_train/000000-000412/000001.jpg</td>\n",
       "      <td>52</td>\n",
       "      <td>89</td>\n",
       "      <td>204</td>\n",
       "      <td>381</td>\n",
       "      <td>pilot</td>\n",
       "    </tr>\n",
       "    <tr>\n",
       "      <th>2</th>\n",
       "      <td>interstage_train/000000-000412/000002.jpg</td>\n",
       "      <td>58</td>\n",
       "      <td>89</td>\n",
       "      <td>208</td>\n",
       "      <td>390</td>\n",
       "      <td>pilot</td>\n",
       "    </tr>\n",
       "    <tr>\n",
       "      <th>3</th>\n",
       "      <td>interstage_train/000000-000412/000003.jpg</td>\n",
       "      <td>66</td>\n",
       "      <td>98</td>\n",
       "      <td>214</td>\n",
       "      <td>388</td>\n",
       "      <td>pilot</td>\n",
       "    </tr>\n",
       "    <tr>\n",
       "      <th>4</th>\n",
       "      <td>interstage_train/000000-000412/000004.jpg</td>\n",
       "      <td>65</td>\n",
       "      <td>90</td>\n",
       "      <td>209</td>\n",
       "      <td>389</td>\n",
       "      <td>pilot</td>\n",
       "    </tr>\n",
       "  </tbody>\n",
       "</table>\n",
       "</div>"
      ],
      "text/plain": [
       "                                          id  x1  y1   x2   y2  class\n",
       "0  interstage_train/000000-000412/000000.jpg  83  72  191  380  pilot\n",
       "1  interstage_train/000000-000412/000001.jpg  52  89  204  381  pilot\n",
       "2  interstage_train/000000-000412/000002.jpg  58  89  208  390  pilot\n",
       "3  interstage_train/000000-000412/000003.jpg  66  98  214  388  pilot\n",
       "4  interstage_train/000000-000412/000004.jpg  65  90  209  389  pilot"
      ]
     },
     "execution_count": 89,
     "metadata": {},
     "output_type": "execute_result"
    }
   ],
   "source": [
    "df_bbx = pd.read_csv(PATH_CSV_BBX)\n",
    "df_bbx.columns = ['id','x1','y1','x2','y2','class']\n",
    "df_bbx.to_csv(PATH_CSV_BBX, index=False)\n",
    "df_bbx.head()"
   ]
  },
  {
   "cell_type": "code",
   "execution_count": 90,
   "metadata": {},
   "outputs": [
    {
     "data": {
      "text/plain": [
       "['83 72 191 380',\n",
       " '52 89 204 381',\n",
       " '58 89 208 390',\n",
       " '66 98 214 388',\n",
       " '65 90 209 389',\n",
       " '50 73 208 386',\n",
       " '51 74 197 382',\n",
       " '49 75 200 381',\n",
       " '48 71 203 376',\n",
       " '91 97 201 376']"
      ]
     },
     "execution_count": 90,
     "metadata": {},
     "output_type": "execute_result"
    }
   ],
   "source": [
    "cols = ['x1','y1','x2','y2']\n",
    "bbxs = df_bbx[cols].values\n",
    "bbxs = [np.array(row) for row in bbxs]\n",
    "bbxs = [' '.join(str(o) for o in row) for row in bbxs]\n",
    "bbxs[:10]"
   ]
  },
  {
   "cell_type": "code",
   "execution_count": 91,
   "metadata": {},
   "outputs": [
    {
     "data": {
      "text/plain": [
       "Index(['id', 'x1', 'y1', 'x2', 'y2', 'class'], dtype='object')"
      ]
     },
     "execution_count": 91,
     "metadata": {},
     "output_type": "execute_result"
    }
   ],
   "source": [
    "df_bbx.columns"
   ]
  },
  {
   "cell_type": "code",
   "execution_count": 92,
   "metadata": {},
   "outputs": [
    {
     "data": {
      "text/html": [
       "<div>\n",
       "<style scoped>\n",
       "    .dataframe tbody tr th:only-of-type {\n",
       "        vertical-align: middle;\n",
       "    }\n",
       "\n",
       "    .dataframe tbody tr th {\n",
       "        vertical-align: top;\n",
       "    }\n",
       "\n",
       "    .dataframe thead th {\n",
       "        text-align: right;\n",
       "    }\n",
       "</style>\n",
       "<table border=\"1\" class=\"dataframe\">\n",
       "  <thead>\n",
       "    <tr style=\"text-align: right;\">\n",
       "      <th></th>\n",
       "      <th>id</th>\n",
       "      <th>bbox</th>\n",
       "      <th>class</th>\n",
       "    </tr>\n",
       "  </thead>\n",
       "  <tbody>\n",
       "    <tr>\n",
       "      <th>0</th>\n",
       "      <td>interstage_train/000000-000412/000000.jpg</td>\n",
       "      <td>83 72 191 380</td>\n",
       "      <td>pilot</td>\n",
       "    </tr>\n",
       "    <tr>\n",
       "      <th>1</th>\n",
       "      <td>interstage_train/000000-000412/000001.jpg</td>\n",
       "      <td>52 89 204 381</td>\n",
       "      <td>pilot</td>\n",
       "    </tr>\n",
       "    <tr>\n",
       "      <th>2</th>\n",
       "      <td>interstage_train/000000-000412/000002.jpg</td>\n",
       "      <td>58 89 208 390</td>\n",
       "      <td>pilot</td>\n",
       "    </tr>\n",
       "    <tr>\n",
       "      <th>3</th>\n",
       "      <td>interstage_train/000000-000412/000003.jpg</td>\n",
       "      <td>66 98 214 388</td>\n",
       "      <td>pilot</td>\n",
       "    </tr>\n",
       "    <tr>\n",
       "      <th>4</th>\n",
       "      <td>interstage_train/000000-000412/000004.jpg</td>\n",
       "      <td>65 90 209 389</td>\n",
       "      <td>pilot</td>\n",
       "    </tr>\n",
       "  </tbody>\n",
       "</table>\n",
       "</div>"
      ],
      "text/plain": [
       "                                          id           bbox  class\n",
       "0  interstage_train/000000-000412/000000.jpg  83 72 191 380  pilot\n",
       "1  interstage_train/000000-000412/000001.jpg  52 89 204 381  pilot\n",
       "2  interstage_train/000000-000412/000002.jpg  58 89 208 390  pilot\n",
       "3  interstage_train/000000-000412/000003.jpg  66 98 214 388  pilot\n",
       "4  interstage_train/000000-000412/000004.jpg  65 90 209 389  pilot"
      ]
     },
     "execution_count": 92,
     "metadata": {},
     "output_type": "execute_result"
    }
   ],
   "source": [
    "new_df_bbx = df_bbx[['id','class']]\n",
    "new_df_bbx.insert(1, 'bbox', bbxs)\n",
    "new_df_bbx.head()"
   ]
  },
  {
   "cell_type": "code",
   "execution_count": 93,
   "metadata": {},
   "outputs": [
    {
     "data": {
      "text/html": [
       "<div>\n",
       "<style scoped>\n",
       "    .dataframe tbody tr th:only-of-type {\n",
       "        vertical-align: middle;\n",
       "    }\n",
       "\n",
       "    .dataframe tbody tr th {\n",
       "        vertical-align: top;\n",
       "    }\n",
       "\n",
       "    .dataframe thead th {\n",
       "        text-align: right;\n",
       "    }\n",
       "</style>\n",
       "<table border=\"1\" class=\"dataframe\">\n",
       "  <thead>\n",
       "    <tr style=\"text-align: right;\">\n",
       "      <th></th>\n",
       "      <th>id</th>\n",
       "      <th>bbox</th>\n",
       "      <th>class</th>\n",
       "    </tr>\n",
       "  </thead>\n",
       "  <tbody>\n",
       "    <tr>\n",
       "      <th>0</th>\n",
       "      <td>000000-000412/000000.jpg</td>\n",
       "      <td>83 72 191 380</td>\n",
       "      <td>pilot</td>\n",
       "    </tr>\n",
       "    <tr>\n",
       "      <th>1</th>\n",
       "      <td>000000-000412/000001.jpg</td>\n",
       "      <td>52 89 204 381</td>\n",
       "      <td>pilot</td>\n",
       "    </tr>\n",
       "    <tr>\n",
       "      <th>2</th>\n",
       "      <td>000000-000412/000002.jpg</td>\n",
       "      <td>58 89 208 390</td>\n",
       "      <td>pilot</td>\n",
       "    </tr>\n",
       "    <tr>\n",
       "      <th>3</th>\n",
       "      <td>000000-000412/000003.jpg</td>\n",
       "      <td>66 98 214 388</td>\n",
       "      <td>pilot</td>\n",
       "    </tr>\n",
       "    <tr>\n",
       "      <th>4</th>\n",
       "      <td>000000-000412/000004.jpg</td>\n",
       "      <td>65 90 209 389</td>\n",
       "      <td>pilot</td>\n",
       "    </tr>\n",
       "  </tbody>\n",
       "</table>\n",
       "</div>"
      ],
      "text/plain": [
       "                         id           bbox  class\n",
       "0  000000-000412/000000.jpg  83 72 191 380  pilot\n",
       "1  000000-000412/000001.jpg  52 89 204 381  pilot\n",
       "2  000000-000412/000002.jpg  58 89 208 390  pilot\n",
       "3  000000-000412/000003.jpg  66 98 214 388  pilot\n",
       "4  000000-000412/000004.jpg  65 90 209 389  pilot"
      ]
     },
     "execution_count": 93,
     "metadata": {},
     "output_type": "execute_result"
    }
   ],
   "source": [
    "new_ids = new_df_bbx['id']\n",
    "new_ids = [o.split('interstage_train/')[-1] for o in new_ids]\n",
    "new_df_bbx = new_df_bbx.drop(columns='id')\n",
    "new_df_bbx.insert(0, 'id', new_ids)\n",
    "new_df_bbx.head()"
   ]
  },
  {
   "cell_type": "code",
   "execution_count": 14,
   "metadata": {},
   "outputs": [],
   "source": [
    "new_df_bbx.to_csv(PATH/'class_bbox_labels.csv', index=False)"
   ]
  },
  {
   "cell_type": "markdown",
   "metadata": {},
   "source": [
    "## Multi-Class CSV"
   ]
  },
  {
   "cell_type": "code",
   "execution_count": 4,
   "metadata": {},
   "outputs": [],
   "source": [
    "multi_class_df = pd.read_csv(PATH/'class_bbox_labels.csv')"
   ]
  },
  {
   "cell_type": "code",
   "execution_count": 5,
   "metadata": {},
   "outputs": [],
   "source": [
    "multi_class_df = multi_class_df.drop(columns='bbox')"
   ]
  },
  {
   "cell_type": "code",
   "execution_count": 6,
   "metadata": {},
   "outputs": [
    {
     "data": {
      "text/html": [
       "<div>\n",
       "<style scoped>\n",
       "    .dataframe tbody tr th:only-of-type {\n",
       "        vertical-align: middle;\n",
       "    }\n",
       "\n",
       "    .dataframe tbody tr th {\n",
       "        vertical-align: top;\n",
       "    }\n",
       "\n",
       "    .dataframe thead th {\n",
       "        text-align: right;\n",
       "    }\n",
       "</style>\n",
       "<table border=\"1\" class=\"dataframe\">\n",
       "  <thead>\n",
       "    <tr style=\"text-align: right;\">\n",
       "      <th></th>\n",
       "      <th>id</th>\n",
       "      <th>class</th>\n",
       "    </tr>\n",
       "  </thead>\n",
       "  <tbody>\n",
       "    <tr>\n",
       "      <th>0</th>\n",
       "      <td>000000-000412/000000.jpg</td>\n",
       "      <td>pilot</td>\n",
       "    </tr>\n",
       "    <tr>\n",
       "      <th>1</th>\n",
       "      <td>000000-000412/000001.jpg</td>\n",
       "      <td>pilot</td>\n",
       "    </tr>\n",
       "    <tr>\n",
       "      <th>2</th>\n",
       "      <td>000000-000412/000002.jpg</td>\n",
       "      <td>pilot</td>\n",
       "    </tr>\n",
       "    <tr>\n",
       "      <th>3</th>\n",
       "      <td>000000-000412/000003.jpg</td>\n",
       "      <td>pilot</td>\n",
       "    </tr>\n",
       "    <tr>\n",
       "      <th>4</th>\n",
       "      <td>000000-000412/000004.jpg</td>\n",
       "      <td>pilot</td>\n",
       "    </tr>\n",
       "  </tbody>\n",
       "</table>\n",
       "</div>"
      ],
      "text/plain": [
       "                         id  class\n",
       "0  000000-000412/000000.jpg  pilot\n",
       "1  000000-000412/000001.jpg  pilot\n",
       "2  000000-000412/000002.jpg  pilot\n",
       "3  000000-000412/000003.jpg  pilot\n",
       "4  000000-000412/000004.jpg  pilot"
      ]
     },
     "execution_count": 6,
     "metadata": {},
     "output_type": "execute_result"
    }
   ],
   "source": [
    "multi_class_df.head()"
   ]
  },
  {
   "cell_type": "markdown",
   "metadata": {},
   "source": [
    "I know the 'pilot' class will be the 1st id. I'll worry about others later. At this point, I really care about a 'pilot' 'no pilot' detector. I'm transitioning from a 2-stage to a 1-stage detector/classifier in this rewrite of GLoC."
   ]
  },
  {
   "cell_type": "code",
   "execution_count": 11,
   "metadata": {},
   "outputs": [
    {
     "data": {
      "text/html": [
       "<div>\n",
       "<style scoped>\n",
       "    .dataframe tbody tr th:only-of-type {\n",
       "        vertical-align: middle;\n",
       "    }\n",
       "\n",
       "    .dataframe tbody tr th {\n",
       "        vertical-align: top;\n",
       "    }\n",
       "\n",
       "    .dataframe thead th {\n",
       "        text-align: right;\n",
       "    }\n",
       "</style>\n",
       "<table border=\"1\" class=\"dataframe\">\n",
       "  <thead>\n",
       "    <tr style=\"text-align: right;\">\n",
       "      <th></th>\n",
       "      <th>id</th>\n",
       "      <th>class</th>\n",
       "    </tr>\n",
       "  </thead>\n",
       "  <tbody>\n",
       "    <tr>\n",
       "      <th>0</th>\n",
       "      <td>000000-000412/000000.jpg</td>\n",
       "      <td>0</td>\n",
       "    </tr>\n",
       "    <tr>\n",
       "      <th>1</th>\n",
       "      <td>000000-000412/000001.jpg</td>\n",
       "      <td>0</td>\n",
       "    </tr>\n",
       "    <tr>\n",
       "      <th>2</th>\n",
       "      <td>000000-000412/000002.jpg</td>\n",
       "      <td>0</td>\n",
       "    </tr>\n",
       "    <tr>\n",
       "      <th>3</th>\n",
       "      <td>000000-000412/000003.jpg</td>\n",
       "      <td>0</td>\n",
       "    </tr>\n",
       "    <tr>\n",
       "      <th>4</th>\n",
       "      <td>000000-000412/000004.jpg</td>\n",
       "      <td>0</td>\n",
       "    </tr>\n",
       "  </tbody>\n",
       "</table>\n",
       "</div>"
      ],
      "text/plain": [
       "                         id  class\n",
       "0  000000-000412/000000.jpg      0\n",
       "1  000000-000412/000001.jpg      0\n",
       "2  000000-000412/000002.jpg      0\n",
       "3  000000-000412/000003.jpg      0\n",
       "4  000000-000412/000004.jpg      0"
      ]
     },
     "execution_count": 11,
     "metadata": {},
     "output_type": "execute_result"
    }
   ],
   "source": [
    "clas_ids = multi_class_df['class']\n",
    "clas_ids = [0 for row in clas_ids]\n",
    "\n",
    "multi_class_df = multi_class_df.drop(columns='class')\n",
    "multi_class_df.insert(1, 'class', clas_ids)\n",
    "multi_class_df.head()"
   ]
  },
  {
   "cell_type": "code",
   "execution_count": 12,
   "metadata": {},
   "outputs": [],
   "source": [
    "multi_class_df.to_csv(PATH/'class_labels.csv', index=False)"
   ]
  },
  {
   "cell_type": "markdown",
   "metadata": {},
   "source": [
    "## Multi-Coordinate CSV"
   ]
  },
  {
   "cell_type": "code",
   "execution_count": 4,
   "metadata": {},
   "outputs": [],
   "source": [
    "multi_coord_df = pd.read_csv(PATH/'class_bbox_labels.csv')"
   ]
  },
  {
   "cell_type": "code",
   "execution_count": 6,
   "metadata": {},
   "outputs": [],
   "source": [
    "multi_coord_df = multi_coord_df.drop(columns='class')"
   ]
  },
  {
   "cell_type": "code",
   "execution_count": 7,
   "metadata": {},
   "outputs": [
    {
     "data": {
      "text/html": [
       "<div>\n",
       "<style scoped>\n",
       "    .dataframe tbody tr th:only-of-type {\n",
       "        vertical-align: middle;\n",
       "    }\n",
       "\n",
       "    .dataframe tbody tr th {\n",
       "        vertical-align: top;\n",
       "    }\n",
       "\n",
       "    .dataframe thead th {\n",
       "        text-align: right;\n",
       "    }\n",
       "</style>\n",
       "<table border=\"1\" class=\"dataframe\">\n",
       "  <thead>\n",
       "    <tr style=\"text-align: right;\">\n",
       "      <th></th>\n",
       "      <th>id</th>\n",
       "      <th>bbox</th>\n",
       "    </tr>\n",
       "  </thead>\n",
       "  <tbody>\n",
       "    <tr>\n",
       "      <th>0</th>\n",
       "      <td>000000-000412/000000.jpg</td>\n",
       "      <td>83 72 191 380</td>\n",
       "    </tr>\n",
       "    <tr>\n",
       "      <th>1</th>\n",
       "      <td>000000-000412/000001.jpg</td>\n",
       "      <td>52 89 204 381</td>\n",
       "    </tr>\n",
       "    <tr>\n",
       "      <th>2</th>\n",
       "      <td>000000-000412/000002.jpg</td>\n",
       "      <td>58 89 208 390</td>\n",
       "    </tr>\n",
       "    <tr>\n",
       "      <th>3</th>\n",
       "      <td>000000-000412/000003.jpg</td>\n",
       "      <td>66 98 214 388</td>\n",
       "    </tr>\n",
       "    <tr>\n",
       "      <th>4</th>\n",
       "      <td>000000-000412/000004.jpg</td>\n",
       "      <td>65 90 209 389</td>\n",
       "    </tr>\n",
       "  </tbody>\n",
       "</table>\n",
       "</div>"
      ],
      "text/plain": [
       "                         id           bbox\n",
       "0  000000-000412/000000.jpg  83 72 191 380\n",
       "1  000000-000412/000001.jpg  52 89 204 381\n",
       "2  000000-000412/000002.jpg  58 89 208 390\n",
       "3  000000-000412/000003.jpg  66 98 214 388\n",
       "4  000000-000412/000004.jpg  65 90 209 389"
      ]
     },
     "execution_count": 7,
     "metadata": {},
     "output_type": "execute_result"
    }
   ],
   "source": [
    "multi_coord_df.head()"
   ]
  },
  {
   "cell_type": "code",
   "execution_count": 9,
   "metadata": {},
   "outputs": [],
   "source": [
    "multi_coord_df.to_csv(PATH/'bbox_labels.csv', index=False)"
   ]
  },
  {
   "cell_type": "markdown",
   "metadata": {},
   "source": [
    "---\n",
    "\n",
    "If the '.jpg' suffix becomes an issue I'll just remove it."
   ]
  },
  {
   "cell_type": "markdown",
   "metadata": {},
   "source": [
    "## Correcting Dimension Order -- Multi-Coordinate CSV"
   ]
  },
  {
   "cell_type": "markdown",
   "metadata": {},
   "source": [
    "See [fastai DL2 lecture 8](https://youtu.be/b8D6Bwck9QM?t=3581).\n",
    "\n",
    "I just remembered fastai uses Row-Order dimensions like NumPy & PyTorch; and uses top-left, bottom-right coordinates. So I'll convert my boundingbox coordinates from x1,y1,x2,y2 (frm working w/ OpenCV) to r1,c1,r2,c2 (y1,x1,y2,x2)."
   ]
  },
  {
   "cell_type": "code",
   "execution_count": 29,
   "metadata": {},
   "outputs": [],
   "source": [
    "def xy2rc(coords):\n",
    "    \"\"\"(x,y) to (row,col)\"\"\"\n",
    "    x1,y1,x2,y2 = coords\n",
    "    return [y1,x1,y2,x2]\n",
    "\n",
    "def str2arr(s_coords):\n",
    "    \"\"\"string to int array\"\"\"\n",
    "    return [int(coord) for coord in s_coords.split()]\n",
    "\n",
    "def arr2str(array):\n",
    "    return ' '.join(str(o) for o in array)"
   ]
  },
  {
   "cell_type": "code",
   "execution_count": 21,
   "metadata": {},
   "outputs": [],
   "source": [
    "multi_coord_df = pd.read_csv(PATH/'class_bbox_labels.csv')\n",
    "bboxs = multi_coord_df['bbox'].values"
   ]
  },
  {
   "cell_type": "code",
   "execution_count": 22,
   "metadata": {},
   "outputs": [
    {
     "data": {
      "text/plain": [
       "array(['83 72 191 380', '52 89 204 381', '58 89 208 390', ..., '65 69 260 397', '69 68 255 396',\n",
       "       '52 53 249 395'], dtype=object)"
      ]
     },
     "execution_count": 22,
     "metadata": {},
     "output_type": "execute_result"
    }
   ],
   "source": [
    "bboxs"
   ]
  },
  {
   "cell_type": "code",
   "execution_count": 23,
   "metadata": {},
   "outputs": [],
   "source": [
    "bboxs = [xy2rc(str2arr(coords)) for coords in bboxs]"
   ]
  },
  {
   "cell_type": "code",
   "execution_count": 25,
   "metadata": {},
   "outputs": [
    {
     "data": {
      "text/plain": [
       "[[72, 83, 380, 191],\n",
       " [89, 52, 381, 204],\n",
       " [89, 58, 390, 208],\n",
       " [98, 66, 388, 214],\n",
       " [90, 65, 389, 209],\n",
       " [73, 50, 386, 208],\n",
       " [74, 51, 382, 197],\n",
       " [75, 49, 381, 200],\n",
       " [71, 48, 376, 203],\n",
       " [97, 91, 376, 201]]"
      ]
     },
     "execution_count": 25,
     "metadata": {},
     "output_type": "execute_result"
    }
   ],
   "source": [
    "bboxs[:10]"
   ]
  },
  {
   "cell_type": "code",
   "execution_count": 30,
   "metadata": {},
   "outputs": [
    {
     "data": {
      "text/plain": [
       "'72 83 380 191'"
      ]
     },
     "execution_count": 30,
     "metadata": {},
     "output_type": "execute_result"
    }
   ],
   "source": [
    "arr2str(bboxs[0])"
   ]
  },
  {
   "cell_type": "code",
   "execution_count": 32,
   "metadata": {},
   "outputs": [],
   "source": [
    "bboxs = [arr2str(coords) for coords in bboxs]"
   ]
  },
  {
   "cell_type": "code",
   "execution_count": 33,
   "metadata": {},
   "outputs": [
    {
     "data": {
      "text/plain": [
       "['72 83 380 191',\n",
       " '89 52 381 204',\n",
       " '89 58 390 208',\n",
       " '98 66 388 214',\n",
       " '90 65 389 209',\n",
       " '73 50 386 208',\n",
       " '74 51 382 197',\n",
       " '75 49 381 200',\n",
       " '71 48 376 203',\n",
       " '97 91 376 201']"
      ]
     },
     "execution_count": 33,
     "metadata": {},
     "output_type": "execute_result"
    }
   ],
   "source": [
    "bboxs[:10]"
   ]
  },
  {
   "cell_type": "code",
   "execution_count": 34,
   "metadata": {},
   "outputs": [],
   "source": [
    "multi_coord_df = multi_coord_df.drop(columns=['bbox','class'])\n",
    "multi_coord_df.insert(1, 'bbox', bboxs)\n",
    "multi_coord_df.to_csv(PATH/'bbox_labels.csv', index=False)"
   ]
  },
  {
   "cell_type": "code",
   "execution_count": 35,
   "metadata": {},
   "outputs": [
    {
     "data": {
      "text/html": [
       "<div>\n",
       "<style scoped>\n",
       "    .dataframe tbody tr th:only-of-type {\n",
       "        vertical-align: middle;\n",
       "    }\n",
       "\n",
       "    .dataframe tbody tr th {\n",
       "        vertical-align: top;\n",
       "    }\n",
       "\n",
       "    .dataframe thead th {\n",
       "        text-align: right;\n",
       "    }\n",
       "</style>\n",
       "<table border=\"1\" class=\"dataframe\">\n",
       "  <thead>\n",
       "    <tr style=\"text-align: right;\">\n",
       "      <th></th>\n",
       "      <th>id</th>\n",
       "      <th>bbox</th>\n",
       "    </tr>\n",
       "  </thead>\n",
       "  <tbody>\n",
       "    <tr>\n",
       "      <th>0</th>\n",
       "      <td>000000-000412/000000.jpg</td>\n",
       "      <td>72 83 380 191</td>\n",
       "    </tr>\n",
       "    <tr>\n",
       "      <th>1</th>\n",
       "      <td>000000-000412/000001.jpg</td>\n",
       "      <td>89 52 381 204</td>\n",
       "    </tr>\n",
       "    <tr>\n",
       "      <th>2</th>\n",
       "      <td>000000-000412/000002.jpg</td>\n",
       "      <td>89 58 390 208</td>\n",
       "    </tr>\n",
       "    <tr>\n",
       "      <th>3</th>\n",
       "      <td>000000-000412/000003.jpg</td>\n",
       "      <td>98 66 388 214</td>\n",
       "    </tr>\n",
       "    <tr>\n",
       "      <th>4</th>\n",
       "      <td>000000-000412/000004.jpg</td>\n",
       "      <td>90 65 389 209</td>\n",
       "    </tr>\n",
       "  </tbody>\n",
       "</table>\n",
       "</div>"
      ],
      "text/plain": [
       "                         id           bbox\n",
       "0  000000-000412/000000.jpg  72 83 380 191\n",
       "1  000000-000412/000001.jpg  89 52 381 204\n",
       "2  000000-000412/000002.jpg  89 58 390 208\n",
       "3  000000-000412/000003.jpg  98 66 388 214\n",
       "4  000000-000412/000004.jpg  90 65 389 209"
      ]
     },
     "execution_count": 35,
     "metadata": {},
     "output_type": "execute_result"
    }
   ],
   "source": [
    "multi_coord_df.head()"
   ]
  },
  {
   "cell_type": "markdown",
   "metadata": {},
   "source": [
    "Although note at this time the CSV with classes & bboxes is still in x,y format."
   ]
  }
 ],
 "metadata": {
  "kernelspec": {
   "display_name": "Python 3 (FastAI)",
   "language": "python",
   "name": "fastai"
  },
  "language_info": {
   "codemirror_mode": {
    "name": "ipython",
    "version": 3
   },
   "file_extension": ".py",
   "mimetype": "text/x-python",
   "name": "python",
   "nbconvert_exporter": "python",
   "pygments_lexer": "ipython3",
   "version": "3.6.5"
  }
 },
 "nbformat": 4,
 "nbformat_minor": 2
}
