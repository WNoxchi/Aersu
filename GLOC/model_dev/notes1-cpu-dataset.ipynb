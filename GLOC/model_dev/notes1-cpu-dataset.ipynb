{
 "cells": [
  {
   "cell_type": "markdown",
   "metadata": {},
   "source": [
    "# ResNet Detector Developement 1"
   ]
  },
  {
   "cell_type": "markdown",
   "metadata": {},
   "source": [
    "WNixalo - 1:4/5/2018\n",
    "\n",
    "---\n",
    "\n",
    "The purpose of this notebook is to experiment with small datasets (CPU dev) and finetune the general-purpose base object detector on the GLoC dataset."
   ]
  },
  {
   "cell_type": "markdown",
   "metadata": {},
   "source": [
    "## Imports"
   ]
  },
  {
   "cell_type": "code",
   "execution_count": 1,
   "metadata": {},
   "outputs": [],
   "source": [
    "%matplotlib inline\n",
    "%reload_ext autoreload\n",
    "%autoreload 2"
   ]
  },
  {
   "cell_type": "code",
   "execution_count": 9,
   "metadata": {},
   "outputs": [],
   "source": [
    "from fastai.conv_learner import *\n",
    "\n",
    "sys.path.insert(1, os.path.join('../'))\n",
    "from utils import common\n",
    "from utils import temp_utils\n",
    "from utils.subfolder_val_idxs import set_val_idxs"
   ]
  },
  {
   "cell_type": "code",
   "execution_count": 10,
   "metadata": {},
   "outputs": [
    {
     "ename": "NameError",
     "evalue": "name 'df' is not defined",
     "output_type": "error",
     "traceback": [
      "\u001b[0;31m---------------------------------------------------------------------------\u001b[0m",
      "\u001b[0;31mNameError\u001b[0m                                 Traceback (most recent call last)",
      "\u001b[0;32m<ipython-input-10-00cf07b74dcd>\u001b[0m in \u001b[0;36m<module>\u001b[0;34m()\u001b[0m\n\u001b[0;32m----> 1\u001b[0;31m \u001b[0mdf\u001b[0m\u001b[0;34m\u001b[0m\u001b[0m\n\u001b[0m",
      "\u001b[0;31mNameError\u001b[0m: name 'df' is not defined"
     ]
    }
   ],
   "source": [
    "df.sample()"
   ]
  },
  {
   "cell_type": "code",
   "execution_count": 23,
   "metadata": {},
   "outputs": [
    {
     "data": {
      "text/html": [
       "<div>\n",
       "<style scoped>\n",
       "    .dataframe tbody tr th:only-of-type {\n",
       "        vertical-align: middle;\n",
       "    }\n",
       "\n",
       "    .dataframe tbody tr th {\n",
       "        vertical-align: top;\n",
       "    }\n",
       "\n",
       "    .dataframe thead th {\n",
       "        text-align: right;\n",
       "    }\n",
       "</style>\n",
       "<table border=\"1\" class=\"dataframe\">\n",
       "  <thead>\n",
       "    <tr style=\"text-align: right;\">\n",
       "      <th></th>\n",
       "      <th>gloc</th>\n",
       "    </tr>\n",
       "  </thead>\n",
       "  <tbody>\n",
       "    <tr>\n",
       "      <th>count</th>\n",
       "      <td>7637.000000</td>\n",
       "    </tr>\n",
       "    <tr>\n",
       "      <th>mean</th>\n",
       "      <td>0.299201</td>\n",
       "    </tr>\n",
       "    <tr>\n",
       "      <th>std</th>\n",
       "      <td>0.457938</td>\n",
       "    </tr>\n",
       "    <tr>\n",
       "      <th>min</th>\n",
       "      <td>0.000000</td>\n",
       "    </tr>\n",
       "    <tr>\n",
       "      <th>25%</th>\n",
       "      <td>0.000000</td>\n",
       "    </tr>\n",
       "    <tr>\n",
       "      <th>50%</th>\n",
       "      <td>0.000000</td>\n",
       "    </tr>\n",
       "    <tr>\n",
       "      <th>75%</th>\n",
       "      <td>1.000000</td>\n",
       "    </tr>\n",
       "    <tr>\n",
       "      <th>max</th>\n",
       "      <td>1.000000</td>\n",
       "    </tr>\n",
       "  </tbody>\n",
       "</table>\n",
       "</div>"
      ],
      "text/plain": [
       "              gloc\n",
       "count  7637.000000\n",
       "mean      0.299201\n",
       "std       0.457938\n",
       "min       0.000000\n",
       "25%       0.000000\n",
       "50%       0.000000\n",
       "75%       1.000000\n",
       "max       1.000000"
      ]
     },
     "execution_count": 23,
     "metadata": {},
     "output_type": "execute_result"
    }
   ],
   "source": [
    "df.describe()"
   ]
  },
  {
   "cell_type": "code",
   "execution_count": 16,
   "metadata": {},
   "outputs": [],
   "source": [
    "cpu_df = temp_utils.get_random_sample(df, p=1000)"
   ]
  },
  {
   "cell_type": "code",
   "execution_count": 26,
   "metadata": {},
   "outputs": [
    {
     "data": {
      "text/html": [
       "<div>\n",
       "<style scoped>\n",
       "    .dataframe tbody tr th:only-of-type {\n",
       "        vertical-align: middle;\n",
       "    }\n",
       "\n",
       "    .dataframe tbody tr th {\n",
       "        vertical-align: top;\n",
       "    }\n",
       "\n",
       "    .dataframe thead th {\n",
       "        text-align: right;\n",
       "    }\n",
       "</style>\n",
       "<table border=\"1\" class=\"dataframe\">\n",
       "  <thead>\n",
       "    <tr style=\"text-align: right;\">\n",
       "      <th></th>\n",
       "      <th>gloc</th>\n",
       "    </tr>\n",
       "  </thead>\n",
       "  <tbody>\n",
       "    <tr>\n",
       "      <th>count</th>\n",
       "      <td>1000.000000</td>\n",
       "    </tr>\n",
       "    <tr>\n",
       "      <th>mean</th>\n",
       "      <td>0.304000</td>\n",
       "    </tr>\n",
       "    <tr>\n",
       "      <th>std</th>\n",
       "      <td>0.460213</td>\n",
       "    </tr>\n",
       "    <tr>\n",
       "      <th>min</th>\n",
       "      <td>0.000000</td>\n",
       "    </tr>\n",
       "    <tr>\n",
       "      <th>25%</th>\n",
       "      <td>0.000000</td>\n",
       "    </tr>\n",
       "    <tr>\n",
       "      <th>50%</th>\n",
       "      <td>0.000000</td>\n",
       "    </tr>\n",
       "    <tr>\n",
       "      <th>75%</th>\n",
       "      <td>1.000000</td>\n",
       "    </tr>\n",
       "    <tr>\n",
       "      <th>max</th>\n",
       "      <td>1.000000</td>\n",
       "    </tr>\n",
       "  </tbody>\n",
       "</table>\n",
       "</div>"
      ],
      "text/plain": [
       "              gloc\n",
       "count  1000.000000\n",
       "mean      0.304000\n",
       "std       0.460213\n",
       "min       0.000000\n",
       "25%       0.000000\n",
       "50%       0.000000\n",
       "75%       1.000000\n",
       "max       1.000000"
      ]
     },
     "execution_count": 26,
     "metadata": {},
     "output_type": "execute_result"
    }
   ],
   "source": [
    "cpu_df.describe()"
   ]
  },
  {
   "cell_type": "code",
   "execution_count": 25,
   "metadata": {},
   "outputs": [
    {
     "data": {
      "text/plain": [
       "Index(['id', 'gloc'], dtype='object')"
      ]
     },
     "execution_count": 25,
     "metadata": {},
     "output_type": "execute_result"
    }
   ],
   "source": [
    "cpu_df['id']"
   ]
  },
  {
   "cell_type": "code",
   "execution_count": 40,
   "metadata": {},
   "outputs": [],
   "source": [
    "int_df = pd.read_csv(PATH_CSV_BBOX, header=None)"
   ]
  },
  {
   "cell_type": "code",
   "execution_count": 41,
   "metadata": {},
   "outputs": [
    {
     "data": {
      "text/html": [
       "<div>\n",
       "<style scoped>\n",
       "    .dataframe tbody tr th:only-of-type {\n",
       "        vertical-align: middle;\n",
       "    }\n",
       "\n",
       "    .dataframe tbody tr th {\n",
       "        vertical-align: top;\n",
       "    }\n",
       "\n",
       "    .dataframe thead th {\n",
       "        text-align: right;\n",
       "    }\n",
       "</style>\n",
       "<table border=\"1\" class=\"dataframe\">\n",
       "  <thead>\n",
       "    <tr style=\"text-align: right;\">\n",
       "      <th></th>\n",
       "      <th>0</th>\n",
       "      <th>1</th>\n",
       "      <th>2</th>\n",
       "      <th>3</th>\n",
       "      <th>4</th>\n",
       "      <th>5</th>\n",
       "    </tr>\n",
       "  </thead>\n",
       "  <tbody>\n",
       "    <tr>\n",
       "      <th>0</th>\n",
       "      <td>interstage_train/000000-000412/000000.jpg</td>\n",
       "      <td>83</td>\n",
       "      <td>72</td>\n",
       "      <td>191</td>\n",
       "      <td>380</td>\n",
       "      <td>pilot</td>\n",
       "    </tr>\n",
       "    <tr>\n",
       "      <th>1</th>\n",
       "      <td>interstage_train/000000-000412/000001.jpg</td>\n",
       "      <td>52</td>\n",
       "      <td>89</td>\n",
       "      <td>204</td>\n",
       "      <td>381</td>\n",
       "      <td>pilot</td>\n",
       "    </tr>\n",
       "    <tr>\n",
       "      <th>2</th>\n",
       "      <td>interstage_train/000000-000412/000002.jpg</td>\n",
       "      <td>58</td>\n",
       "      <td>89</td>\n",
       "      <td>208</td>\n",
       "      <td>390</td>\n",
       "      <td>pilot</td>\n",
       "    </tr>\n",
       "    <tr>\n",
       "      <th>3</th>\n",
       "      <td>interstage_train/000000-000412/000003.jpg</td>\n",
       "      <td>66</td>\n",
       "      <td>98</td>\n",
       "      <td>214</td>\n",
       "      <td>388</td>\n",
       "      <td>pilot</td>\n",
       "    </tr>\n",
       "    <tr>\n",
       "      <th>4</th>\n",
       "      <td>interstage_train/000000-000412/000004.jpg</td>\n",
       "      <td>65</td>\n",
       "      <td>90</td>\n",
       "      <td>209</td>\n",
       "      <td>389</td>\n",
       "      <td>pilot</td>\n",
       "    </tr>\n",
       "  </tbody>\n",
       "</table>\n",
       "</div>"
      ],
      "text/plain": [
       "                                           0   1   2    3    4      5\n",
       "0  interstage_train/000000-000412/000000.jpg  83  72  191  380  pilot\n",
       "1  interstage_train/000000-000412/000001.jpg  52  89  204  381  pilot\n",
       "2  interstage_train/000000-000412/000002.jpg  58  89  208  390  pilot\n",
       "3  interstage_train/000000-000412/000003.jpg  66  98  214  388  pilot\n",
       "4  interstage_train/000000-000412/000004.jpg  65  90  209  389  pilot"
      ]
     },
     "execution_count": 41,
     "metadata": {},
     "output_type": "execute_result"
    }
   ],
   "source": [
    "int_df.head()"
   ]
  },
  {
   "cell_type": "code",
   "execution_count": 42,
   "metadata": {},
   "outputs": [],
   "source": [
    "int_df.columns = ['id','x1','y1','x2','y2','class']"
   ]
  },
  {
   "cell_type": "code",
   "execution_count": 43,
   "metadata": {},
   "outputs": [
    {
     "data": {
      "text/html": [
       "<div>\n",
       "<style scoped>\n",
       "    .dataframe tbody tr th:only-of-type {\n",
       "        vertical-align: middle;\n",
       "    }\n",
       "\n",
       "    .dataframe tbody tr th {\n",
       "        vertical-align: top;\n",
       "    }\n",
       "\n",
       "    .dataframe thead th {\n",
       "        text-align: right;\n",
       "    }\n",
       "</style>\n",
       "<table border=\"1\" class=\"dataframe\">\n",
       "  <thead>\n",
       "    <tr style=\"text-align: right;\">\n",
       "      <th></th>\n",
       "      <th>id</th>\n",
       "      <th>x1</th>\n",
       "      <th>y1</th>\n",
       "      <th>x2</th>\n",
       "      <th>y2</th>\n",
       "      <th>class</th>\n",
       "    </tr>\n",
       "  </thead>\n",
       "  <tbody>\n",
       "    <tr>\n",
       "      <th>0</th>\n",
       "      <td>interstage_train/000000-000412/000000.jpg</td>\n",
       "      <td>83</td>\n",
       "      <td>72</td>\n",
       "      <td>191</td>\n",
       "      <td>380</td>\n",
       "      <td>pilot</td>\n",
       "    </tr>\n",
       "    <tr>\n",
       "      <th>1</th>\n",
       "      <td>interstage_train/000000-000412/000001.jpg</td>\n",
       "      <td>52</td>\n",
       "      <td>89</td>\n",
       "      <td>204</td>\n",
       "      <td>381</td>\n",
       "      <td>pilot</td>\n",
       "    </tr>\n",
       "    <tr>\n",
       "      <th>2</th>\n",
       "      <td>interstage_train/000000-000412/000002.jpg</td>\n",
       "      <td>58</td>\n",
       "      <td>89</td>\n",
       "      <td>208</td>\n",
       "      <td>390</td>\n",
       "      <td>pilot</td>\n",
       "    </tr>\n",
       "    <tr>\n",
       "      <th>3</th>\n",
       "      <td>interstage_train/000000-000412/000003.jpg</td>\n",
       "      <td>66</td>\n",
       "      <td>98</td>\n",
       "      <td>214</td>\n",
       "      <td>388</td>\n",
       "      <td>pilot</td>\n",
       "    </tr>\n",
       "    <tr>\n",
       "      <th>4</th>\n",
       "      <td>interstage_train/000000-000412/000004.jpg</td>\n",
       "      <td>65</td>\n",
       "      <td>90</td>\n",
       "      <td>209</td>\n",
       "      <td>389</td>\n",
       "      <td>pilot</td>\n",
       "    </tr>\n",
       "  </tbody>\n",
       "</table>\n",
       "</div>"
      ],
      "text/plain": [
       "                                          id  x1  y1   x2   y2  class\n",
       "0  interstage_train/000000-000412/000000.jpg  83  72  191  380  pilot\n",
       "1  interstage_train/000000-000412/000001.jpg  52  89  204  381  pilot\n",
       "2  interstage_train/000000-000412/000002.jpg  58  89  208  390  pilot\n",
       "3  interstage_train/000000-000412/000003.jpg  66  98  214  388  pilot\n",
       "4  interstage_train/000000-000412/000004.jpg  65  90  209  389  pilot"
      ]
     },
     "execution_count": 43,
     "metadata": {},
     "output_type": "execute_result"
    }
   ],
   "source": [
    "int_df.head()"
   ]
  },
  {
   "cell_type": "code",
   "execution_count": 45,
   "metadata": {},
   "outputs": [],
   "source": [
    "int_df.to_csv(PATH_CSV_BBOX, index=False)"
   ]
  },
  {
   "cell_type": "code",
   "execution_count": 46,
   "metadata": {},
   "outputs": [],
   "source": [
    "int_df = pd.read_csv(PATH_CSV_BBOX)"
   ]
  },
  {
   "cell_type": "code",
   "execution_count": 47,
   "metadata": {},
   "outputs": [
    {
     "data": {
      "text/html": [
       "<div>\n",
       "<style scoped>\n",
       "    .dataframe tbody tr th:only-of-type {\n",
       "        vertical-align: middle;\n",
       "    }\n",
       "\n",
       "    .dataframe tbody tr th {\n",
       "        vertical-align: top;\n",
       "    }\n",
       "\n",
       "    .dataframe thead th {\n",
       "        text-align: right;\n",
       "    }\n",
       "</style>\n",
       "<table border=\"1\" class=\"dataframe\">\n",
       "  <thead>\n",
       "    <tr style=\"text-align: right;\">\n",
       "      <th></th>\n",
       "      <th>id</th>\n",
       "      <th>x1</th>\n",
       "      <th>y1</th>\n",
       "      <th>x2</th>\n",
       "      <th>y2</th>\n",
       "      <th>class</th>\n",
       "    </tr>\n",
       "  </thead>\n",
       "  <tbody>\n",
       "    <tr>\n",
       "      <th>0</th>\n",
       "      <td>interstage_train/000000-000412/000000.jpg</td>\n",
       "      <td>83</td>\n",
       "      <td>72</td>\n",
       "      <td>191</td>\n",
       "      <td>380</td>\n",
       "      <td>pilot</td>\n",
       "    </tr>\n",
       "    <tr>\n",
       "      <th>1</th>\n",
       "      <td>interstage_train/000000-000412/000001.jpg</td>\n",
       "      <td>52</td>\n",
       "      <td>89</td>\n",
       "      <td>204</td>\n",
       "      <td>381</td>\n",
       "      <td>pilot</td>\n",
       "    </tr>\n",
       "    <tr>\n",
       "      <th>2</th>\n",
       "      <td>interstage_train/000000-000412/000002.jpg</td>\n",
       "      <td>58</td>\n",
       "      <td>89</td>\n",
       "      <td>208</td>\n",
       "      <td>390</td>\n",
       "      <td>pilot</td>\n",
       "    </tr>\n",
       "    <tr>\n",
       "      <th>3</th>\n",
       "      <td>interstage_train/000000-000412/000003.jpg</td>\n",
       "      <td>66</td>\n",
       "      <td>98</td>\n",
       "      <td>214</td>\n",
       "      <td>388</td>\n",
       "      <td>pilot</td>\n",
       "    </tr>\n",
       "    <tr>\n",
       "      <th>4</th>\n",
       "      <td>interstage_train/000000-000412/000004.jpg</td>\n",
       "      <td>65</td>\n",
       "      <td>90</td>\n",
       "      <td>209</td>\n",
       "      <td>389</td>\n",
       "      <td>pilot</td>\n",
       "    </tr>\n",
       "  </tbody>\n",
       "</table>\n",
       "</div>"
      ],
      "text/plain": [
       "                                          id  x1  y1   x2   y2  class\n",
       "0  interstage_train/000000-000412/000000.jpg  83  72  191  380  pilot\n",
       "1  interstage_train/000000-000412/000001.jpg  52  89  204  381  pilot\n",
       "2  interstage_train/000000-000412/000002.jpg  58  89  208  390  pilot\n",
       "3  interstage_train/000000-000412/000003.jpg  66  98  214  388  pilot\n",
       "4  interstage_train/000000-000412/000004.jpg  65  90  209  389  pilot"
      ]
     },
     "execution_count": 47,
     "metadata": {},
     "output_type": "execute_result"
    }
   ],
   "source": [
    "int_df.head()"
   ]
  },
  {
   "cell_type": "code",
   "execution_count": null,
   "metadata": {},
   "outputs": [],
   "source": []
  },
  {
   "cell_type": "code",
   "execution_count": null,
   "metadata": {},
   "outputs": [],
   "source": []
  },
  {
   "cell_type": "code",
   "execution_count": null,
   "metadata": {},
   "outputs": [],
   "source": []
  },
  {
   "cell_type": "code",
   "execution_count": null,
   "metadata": {},
   "outputs": [],
   "source": []
  },
  {
   "cell_type": "markdown",
   "metadata": {},
   "source": [
    "## Data"
   ]
  },
  {
   "cell_type": "code",
   "execution_count": 11,
   "metadata": {},
   "outputs": [],
   "source": [
    "PATH = Path('../data')\n",
    "PATH_CSV = PATH/'labels.csv'\n",
    "PATH_CSV_BBOX = PATH/'interstage_labels.csv'\n",
    "PATH_DATA = PATH/'train'\n",
    "PATH_DATA_BBOX = PATH/'interstage_train'\n",
    "\n",
    "CPU_PATH = PATH/'cpu'\n",
    "CPU_PATH_CSV = CPU_PATH/'cpu_labels.csv'\n",
    "CPU_PATH_CSV_BBOX = CPU_PATH/'cpu_interstage_labels.csv'\n",
    "CPU_PATH_DATA= CPU_PATH/'train'\n",
    "CPU_PATH_BBOX= CPU_PATH/'intersetage_train'"
   ]
  },
  {
   "cell_type": "code",
   "execution_count": 12,
   "metadata": {},
   "outputs": [
    {
     "data": {
      "text/plain": [
       "[PosixPath('../data/labels.csv'),\n",
       " PosixPath('../data/.DS_Store'),\n",
       " PosixPath('../data/interstage_labels.csv'),\n",
       " PosixPath('../data/labels'),\n",
       " PosixPath('../data/test_z'),\n",
       " PosixPath('../data/interstage_train'),\n",
       " PosixPath('../data/train')]"
      ]
     },
     "execution_count": 12,
     "metadata": {},
     "output_type": "execute_result"
    }
   ],
   "source": [
    "list(PATH.iterdir())"
   ]
  },
  {
   "cell_type": "markdown",
   "metadata": {},
   "source": [
    "## CPU Sample"
   ]
  },
  {
   "cell_type": "code",
   "execution_count": 13,
   "metadata": {},
   "outputs": [],
   "source": [
    "temp_utils.create_cpu_dataset(PATH, p=1000)"
   ]
  },
  {
   "cell_type": "code",
   "execution_count": 20,
   "metadata": {},
   "outputs": [],
   "source": [
    "df = pd.read_csv(PATH_CSV)\n",
    "df_cpu = pd.DataFrame(columns=['id','gloc'])"
   ]
  },
  {
   "cell_type": "code",
   "execution_count": 159,
   "metadata": {},
   "outputs": [],
   "source": [
    "path = Path('data/train')\n",
    "path /= 'test'"
   ]
  },
  {
   "cell_type": "code",
   "execution_count": 200,
   "metadata": {},
   "outputs": [],
   "source": [
    "def create_cpu_labels(cpu_path, cpu_label_path='cpu_labels', subdir='train'):\n",
    "    \"\"\"\n",
    "        Creates labels from cpu data subset by looking at its `subdir` directory.\n",
    "            (default: 'train')\n",
    "    \"\"\"\n",
    "##### ensure cpu label filepath correct\n",
    "    if '.csv' not in cpu_label_path: cpu_label_path += '.csv'\n",
    "    assert cpu_label_path[-4:] == '.csv'\n",
    "##### get idxs of cpu dataset files (int(id) = idx in GLoC dataset)\n",
    "    keep_ids = []\n",
    "    cpu_data_path = cpu_path /  subdir\n",
    "    subfolders = os.listdir(cpu_data_path)\n",
    "    for undes in ['.DS_Store', cpu_label_path.split('/')[-1]]: # remove old label file & .DS_Store\n",
    "        if undes in subfolders: subfolders.remove(undes)\n",
    "    subfolders.sort()\n",
    "    for subfolder in subfolders:\n",
    "        fnames = os.listdir(cpu_data_path/subfolder)\n",
    "        fnames.sort()\n",
    "        for fname in fnames:\n",
    "            keep_ids.append(subfolder + '/' + fname.split('.')[0])\n",
    "##### get ids of cpu dataset files\n",
    "    keep_idxs = [int(i.split('/')[-1]) for i in keep_ids]\n",
    "    df_cpu = df.loc[keep_idxs]\n",
    "##### write csv & return df\n",
    "    df_cpu.to_csv(cpu_path / cpu_label_path, index=False)\n",
    "    return df_cpu"
   ]
  },
  {
   "cell_type": "code",
   "execution_count": 201,
   "metadata": {},
   "outputs": [
    {
     "data": {
      "text/plain": [
       "PosixPath('../data/cpu/train')"
      ]
     },
     "execution_count": 201,
     "metadata": {},
     "output_type": "execute_result"
    }
   ],
   "source": [
    "CPU_PATH_DATA"
   ]
  },
  {
   "cell_type": "code",
   "execution_count": 202,
   "metadata": {},
   "outputs": [],
   "source": [
    "df_cpu = create_cpu_labels(CPU_PATH)"
   ]
  },
  {
   "cell_type": "code",
   "execution_count": 203,
   "metadata": {},
   "outputs": [
    {
     "data": {
      "text/html": [
       "<div>\n",
       "<style scoped>\n",
       "    .dataframe tbody tr th:only-of-type {\n",
       "        vertical-align: middle;\n",
       "    }\n",
       "\n",
       "    .dataframe tbody tr th {\n",
       "        vertical-align: top;\n",
       "    }\n",
       "\n",
       "    .dataframe thead th {\n",
       "        text-align: right;\n",
       "    }\n",
       "</style>\n",
       "<table border=\"1\" class=\"dataframe\">\n",
       "  <thead>\n",
       "    <tr style=\"text-align: right;\">\n",
       "      <th></th>\n",
       "      <th>id</th>\n",
       "      <th>gloc</th>\n",
       "    </tr>\n",
       "  </thead>\n",
       "  <tbody>\n",
       "    <tr>\n",
       "      <th>18</th>\n",
       "      <td>000000-000412/000018</td>\n",
       "      <td>0</td>\n",
       "    </tr>\n",
       "    <tr>\n",
       "      <th>20</th>\n",
       "      <td>000000-000412/000020</td>\n",
       "      <td>0</td>\n",
       "    </tr>\n",
       "    <tr>\n",
       "      <th>21</th>\n",
       "      <td>000000-000412/000021</td>\n",
       "      <td>0</td>\n",
       "    </tr>\n",
       "    <tr>\n",
       "      <th>22</th>\n",
       "      <td>000000-000412/000022</td>\n",
       "      <td>0</td>\n",
       "    </tr>\n",
       "    <tr>\n",
       "      <th>31</th>\n",
       "      <td>000000-000412/000031</td>\n",
       "      <td>0</td>\n",
       "    </tr>\n",
       "  </tbody>\n",
       "</table>\n",
       "</div>"
      ],
      "text/plain": [
       "                      id  gloc\n",
       "18  000000-000412/000018     0\n",
       "20  000000-000412/000020     0\n",
       "21  000000-000412/000021     0\n",
       "22  000000-000412/000022     0\n",
       "31  000000-000412/000031     0"
      ]
     },
     "execution_count": 203,
     "metadata": {},
     "output_type": "execute_result"
    }
   ],
   "source": [
    "df_cpu.head()"
   ]
  },
  {
   "cell_type": "code",
   "execution_count": 204,
   "metadata": {},
   "outputs": [
    {
     "data": {
      "text/plain": [
       "1000"
      ]
     },
     "execution_count": 204,
     "metadata": {},
     "output_type": "execute_result"
    }
   ],
   "source": [
    "temp_utils.count_files(CPU_PATH_DATA)"
   ]
  },
  {
   "cell_type": "markdown",
   "metadata": {
    "heading_collapsed": true
   },
   "source": [
    "#### Checking my indices line up w/ dataframe rows"
   ]
  },
  {
   "cell_type": "code",
   "execution_count": 90,
   "metadata": {
    "hidden": true
   },
   "outputs": [
    {
     "data": {
      "text/plain": [
       "[18, 20, 21, 22, 31, 36, 40, 45, 61, 64]"
      ]
     },
     "execution_count": 90,
     "metadata": {},
     "output_type": "execute_result"
    }
   ],
   "source": [
    "keep_idxs[:10]"
   ]
  },
  {
   "cell_type": "code",
   "execution_count": 68,
   "metadata": {
    "hidden": true
   },
   "outputs": [
    {
     "data": {
      "text/plain": [
       "id      000000-000412/000000\n",
       "gloc                       0\n",
       "Name: 0, dtype: object"
      ]
     },
     "execution_count": 68,
     "metadata": {},
     "output_type": "execute_result"
    }
   ],
   "source": [
    "# i = 0\n",
    "# df.loc[i]\n",
    "# df.loc[i]['id']\n",
    "# int(df.loc[i]['id'].split('/')[-1])"
   ]
  },
  {
   "cell_type": "code",
   "execution_count": 84,
   "metadata": {
    "hidden": true
   },
   "outputs": [],
   "source": [
    "for i in range(len(df.index)):\n",
    "    if i != int(df.loc[i]['id'].split('/')[-1]):\n",
    "        print(i)\n",
    "        break"
   ]
  },
  {
   "cell_type": "markdown",
   "metadata": {},
   "source": [
    "### Validation Set (CPU)"
   ]
  },
  {
   "cell_type": "markdown",
   "metadata": {},
   "source": [
    "Val Set will be contents of random subfolders."
   ]
  },
  {
   "cell_type": "code",
   "execution_count": 205,
   "metadata": {},
   "outputs": [
    {
     "data": {
      "text/plain": [
       "PosixPath('../data/cpu/cpu_labels.csv')"
      ]
     },
     "execution_count": 205,
     "metadata": {},
     "output_type": "execute_result"
    }
   ],
   "source": [
    "CPU_PATH_CSV"
   ]
  },
  {
   "cell_type": "code",
   "execution_count": 207,
   "metadata": {},
   "outputs": [
    {
     "data": {
      "text/plain": [
       "188"
      ]
     },
     "execution_count": 207,
     "metadata": {},
     "output_type": "execute_result"
    }
   ],
   "source": [
    "val_idxs = set_val_idxs(CPU_PATH_CSV)\n",
    "len(val_idxs)"
   ]
  },
  {
   "cell_type": "code",
   "execution_count": 208,
   "metadata": {},
   "outputs": [
    {
     "data": {
      "text/plain": [
       "PosixPath('../data/cpu/cpu_labels.csv')"
      ]
     },
     "execution_count": 208,
     "metadata": {},
     "output_type": "execute_result"
    }
   ],
   "source": [
    "CPU_PATH_CSV"
   ]
  },
  {
   "cell_type": "code",
   "execution_count": 209,
   "metadata": {},
   "outputs": [
    {
     "data": {
      "text/plain": [
       "Int64Index([  18,   20,   21,   22,   31,   36,   40,   45,   61,   64,\n",
       "            ...\n",
       "            7569, 7570, 7575, 7576, 7580, 7589, 7624, 7625, 7626, 7634],\n",
       "           dtype='int64', length=1000)"
      ]
     },
     "execution_count": 209,
     "metadata": {},
     "output_type": "execute_result"
    }
   ],
   "source": [
    "df_cpu.index"
   ]
  },
  {
   "cell_type": "markdown",
   "metadata": {},
   "source": [
    "As they should be, the CPU dataset contains a random assortment of 1,000 images uniformly sampled from the original dataset. The validation set contains the ids of ~20% of the training set, segregated by subfolder to prevent 'data leakage'."
   ]
  },
  {
   "cell_type": "code",
   "execution_count": null,
   "metadata": {},
   "outputs": [],
   "source": [
    "sz = 224\n",
    "bs = 32\n",
    "f_model = resnet34\n",
    "\n",
    "tfms = tfms_from_model(f_model, sz=sz, bs=bs, aug_tfms=transforms_side_on, max_zoom=1.1, pad=sz//8, tfm_y=)\n",
    "model_data = ImageClassifierData.from_csv(CPU_PATH_CSV, CPU_PATH, csv_fname='cpu_labels.csv',\n",
    "                                          bs=32, tfms=tfms, val_idxs=val_idxs)"
   ]
  },
  {
   "cell_type": "code",
   "execution_count": null,
   "metadata": {},
   "outputs": [],
   "source": []
  },
  {
   "cell_type": "code",
   "execution_count": null,
   "metadata": {},
   "outputs": [],
   "source": []
  },
  {
   "cell_type": "code",
   "execution_count": null,
   "metadata": {},
   "outputs": [],
   "source": []
  },
  {
   "cell_type": "code",
   "execution_count": null,
   "metadata": {},
   "outputs": [],
   "source": []
  },
  {
   "cell_type": "code",
   "execution_count": null,
   "metadata": {},
   "outputs": [],
   "source": []
  },
  {
   "cell_type": "code",
   "execution_count": null,
   "metadata": {},
   "outputs": [],
   "source": []
  }
 ],
 "metadata": {
  "kernelspec": {
   "display_name": "Python 3 (FastAI)",
   "language": "python",
   "name": "fastai"
  },
  "language_info": {
   "codemirror_mode": {
    "name": "ipython",
    "version": 3
   },
   "file_extension": ".py",
   "mimetype": "text/x-python",
   "name": "python",
   "nbconvert_exporter": "python",
   "pygments_lexer": "ipython3",
   "version": "3.6.5"
  }
 },
 "nbformat": 4,
 "nbformat_minor": 2
}
