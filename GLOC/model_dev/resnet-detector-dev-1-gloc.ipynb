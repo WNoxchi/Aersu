{
 "cells": [
  {
   "cell_type": "markdown",
   "metadata": {},
   "source": [
    "# ResNet Detector Developement 1"
   ]
  },
  {
   "cell_type": "markdown",
   "metadata": {},
   "source": [
    "WNixalo - 1:4/5/2018\n",
    "\n",
    "---\n",
    "\n",
    "The purpose of this notebook is to experiment with small datasets (CPU dev) and finetune the general-purpose base object detector on the GLoC dataset."
   ]
  },
  {
   "cell_type": "markdown",
   "metadata": {},
   "source": [
    "## Imports"
   ]
  },
  {
   "cell_type": "code",
   "execution_count": 1,
   "metadata": {},
   "outputs": [],
   "source": [
    "%matplotlib inline\n",
    "%reload_ext autoreload\n",
    "%autoreload 2"
   ]
  },
  {
   "cell_type": "code",
   "execution_count": 2,
   "metadata": {},
   "outputs": [],
   "source": [
    "from fastai.conv_learner import *\n",
    "\n",
    "sys.path.insert(1, os.path.join('../'))\n",
    "from utils import common\n",
    "from utils import temp_utils\n",
    "from utils.subfolder_val_idxs import set_val_idxs\n",
    "\n",
    "from matplotlib import patches, patheffects"
   ]
  },
  {
   "cell_type": "code",
   "execution_count": 3,
   "metadata": {},
   "outputs": [],
   "source": [
    "PATH = Path('../data')\n",
    "PATH_TRAIN     = PATH/'train'\n",
    "PATH_TRAIN_BBX = PATH/'interstage_train'\n",
    "PATH_CSV     = PATH/'labels.csv'\n",
    "PATH_CSV_BBX = PATH/'interstage_labels.csv'\n",
    "CPU_PATH_CSV     = PATH/'cpu_labels.csv'\n",
    "CPU_PATH_CSV_BBX = PATH/'cpu_interstage_labels.csv'"
   ]
  },
  {
   "cell_type": "markdown",
   "metadata": {},
   "source": [
    "## Data"
   ]
  },
  {
   "cell_type": "code",
   "execution_count": 20,
   "metadata": {},
   "outputs": [],
   "source": [
    "path = Path('../pascal_train2007.json')\n",
    "trn_j = json.load(path.open())\n",
    "\n",
    "def get_trn_anno():\n",
    "    trn_anno = collections.defaultdict(lambda:[])\n",
    "    for o in trn_j['annotations']:\n",
    "        if not o['ignore']:\n",
    "            bb = o['bbox']\n",
    "            bb = np.array([bb[1], bb[0], bb[3]+bb[1]-1, bb[2]+bb[0]-1])\n",
    "            trn_anno[o['image_id']].append((bb, o['category_id']))\n",
    "    return trn_anno\n",
    "\n",
    "trn_anno = get_trn_anno()\n",
    "\n",
    "cats = dict((o['id'], o['name']) for o in trn_j['categories'])\n",
    "\n",
    "trn_fns = dict(([o['id'], o['file_name']]) for o in trn_j['images'])\n",
    "\n",
    "trn_ids = [o['id'] for o in trn_j['images']]\n",
    "\n",
    "mc  = [set([cats[p[1]] for p in trn_anno[o]]) for o in trn_ids]\n",
    "mcs = [' '.join(str(p) for p in o) for o in mc]\n",
    "\n",
    "df = pd.DataFrame({'fn':[trn_fns[o] for o in trn_ids], 'class':mcs}, columns=['fn','class'])"
   ]
  },
  {
   "cell_type": "code",
   "execution_count": 21,
   "metadata": {},
   "outputs": [
    {
     "data": {
      "text/plain": [
       "{1: 'aeroplane',\n",
       " 2: 'bicycle',\n",
       " 3: 'bird',\n",
       " 4: 'boat',\n",
       " 5: 'bottle',\n",
       " 6: 'bus',\n",
       " 7: 'car',\n",
       " 8: 'cat',\n",
       " 9: 'chair',\n",
       " 10: 'cow',\n",
       " 11: 'diningtable',\n",
       " 12: 'dog',\n",
       " 13: 'horse',\n",
       " 14: 'motorbike',\n",
       " 15: 'person',\n",
       " 16: 'pottedplant',\n",
       " 17: 'sheep',\n",
       " 18: 'sofa',\n",
       " 19: 'train',\n",
       " 20: 'tvmonitor'}"
      ]
     },
     "execution_count": 21,
     "metadata": {},
     "output_type": "execute_result"
    }
   ],
   "source": [
    "cats"
   ]
  },
  {
   "cell_type": "code",
   "execution_count": 43,
   "metadata": {},
   "outputs": [
    {
     "name": "stdout",
     "output_type": "stream",
     "text": [
      "(12, '000012.jpg')\n",
      "(17, '000017.jpg')\n",
      "(23, '000023.jpg')\n",
      "(26, '000026.jpg')\n",
      "(32, '000032.jpg')\n",
      "(33, '000033.jpg')\n",
      "(34, '000034.jpg')\n",
      "(35, '000035.jpg')\n",
      "(36, '000036.jpg')\n",
      "(42, '000042.jpg')\n"
     ]
    }
   ],
   "source": [
    "for i,item in enumerate(trn_fns.items()):\n",
    "    print(item)\n",
    "    if i == 9: break"
   ]
  },
  {
   "cell_type": "code",
   "execution_count": 33,
   "metadata": {},
   "outputs": [
    {
     "data": {
      "text/plain": [
       "[12, 17, 23, 26, 32, 33, 34, 35, 36, 42]"
      ]
     },
     "execution_count": 33,
     "metadata": {},
     "output_type": "execute_result"
    }
   ],
   "source": [
    "trn_ids[:10]"
   ]
  },
  {
   "cell_type": "code",
   "execution_count": 35,
   "metadata": {},
   "outputs": [
    {
     "data": {
      "text/plain": [
       "[{'car'},\n",
       " {'horse', 'person'},\n",
       " {'bicycle', 'person'},\n",
       " {'car'},\n",
       " {'aeroplane', 'person'},\n",
       " {'aeroplane'},\n",
       " {'train'},\n",
       " {'person'},\n",
       " {'dog'},\n",
       " {'train'}]"
      ]
     },
     "execution_count": 35,
     "metadata": {},
     "output_type": "execute_result"
    }
   ],
   "source": [
    "mc[:10]"
   ]
  },
  {
   "cell_type": "code",
   "execution_count": 39,
   "metadata": {},
   "outputs": [
    {
     "data": {
      "text/plain": [
       "['car',\n",
       " 'horse person',\n",
       " 'bicycle person',\n",
       " 'car',\n",
       " 'person aeroplane',\n",
       " 'aeroplane',\n",
       " 'train',\n",
       " 'person',\n",
       " 'dog',\n",
       " 'train']"
      ]
     },
     "execution_count": 39,
     "metadata": {},
     "output_type": "execute_result"
    }
   ],
   "source": [
    "mcs[:10]"
   ]
  },
  {
   "cell_type": "code",
   "execution_count": 40,
   "metadata": {},
   "outputs": [
    {
     "data": {
      "text/html": [
       "<div>\n",
       "<style scoped>\n",
       "    .dataframe tbody tr th:only-of-type {\n",
       "        vertical-align: middle;\n",
       "    }\n",
       "\n",
       "    .dataframe tbody tr th {\n",
       "        vertical-align: top;\n",
       "    }\n",
       "\n",
       "    .dataframe thead th {\n",
       "        text-align: right;\n",
       "    }\n",
       "</style>\n",
       "<table border=\"1\" class=\"dataframe\">\n",
       "  <thead>\n",
       "    <tr style=\"text-align: right;\">\n",
       "      <th></th>\n",
       "      <th>fn</th>\n",
       "      <th>class</th>\n",
       "    </tr>\n",
       "  </thead>\n",
       "  <tbody>\n",
       "    <tr>\n",
       "      <th>0</th>\n",
       "      <td>000012.jpg</td>\n",
       "      <td>car</td>\n",
       "    </tr>\n",
       "    <tr>\n",
       "      <th>1</th>\n",
       "      <td>000017.jpg</td>\n",
       "      <td>horse person</td>\n",
       "    </tr>\n",
       "    <tr>\n",
       "      <th>2</th>\n",
       "      <td>000023.jpg</td>\n",
       "      <td>bicycle person</td>\n",
       "    </tr>\n",
       "    <tr>\n",
       "      <th>3</th>\n",
       "      <td>000026.jpg</td>\n",
       "      <td>car</td>\n",
       "    </tr>\n",
       "    <tr>\n",
       "      <th>4</th>\n",
       "      <td>000032.jpg</td>\n",
       "      <td>person aeroplane</td>\n",
       "    </tr>\n",
       "  </tbody>\n",
       "</table>\n",
       "</div>"
      ],
      "text/plain": [
       "           fn             class\n",
       "0  000012.jpg               car\n",
       "1  000017.jpg      horse person\n",
       "2  000023.jpg    bicycle person\n",
       "3  000026.jpg               car\n",
       "4  000032.jpg  person aeroplane"
      ]
     },
     "execution_count": 40,
     "metadata": {},
     "output_type": "execute_result"
    }
   ],
   "source": [
    "df.head()"
   ]
  },
  {
   "cell_type": "code",
   "execution_count": null,
   "metadata": {},
   "outputs": [],
   "source": []
  },
  {
   "cell_type": "markdown",
   "metadata": {
    "heading_collapsed": true
   },
   "source": [
    "### CPU data subset"
   ]
  },
  {
   "cell_type": "markdown",
   "metadata": {
    "hidden": true
   },
   "source": [
    "***NOTE***: I'll have to rewrite my validation set indexer to work with CSVs instead of directories."
   ]
  },
  {
   "cell_type": "code",
   "execution_count": 78,
   "metadata": {
    "hidden": true
   },
   "outputs": [],
   "source": [
    "def remove_file(path):\n",
    "    if os.path.exists(path): os.remove(path)\n",
    "    return\n",
    "\n",
    "remove_file(CPU_PATH_CSV)\n",
    "remove_file(CPU_PATH_CSV_BBX)"
   ]
  },
  {
   "cell_type": "code",
   "execution_count": 80,
   "metadata": {
    "hidden": true
   },
   "outputs": [],
   "source": [
    "sample = 1000\n",
    "cpu_df = pd.read_csv(PATH_CSV).sample(n=sample)\n",
    "cpu_idxs = [int(f_id.split('/')[-1]) for f_id in cpu_df['id'].values]\n",
    "cpu_bbx_df = pd.read_csv(PATH_CSV_BBX).iloc[cpu_idxs]\n",
    "\n",
    "cpu_df.to_csv(PATH/'cpu_labels.csv')\n",
    "cpu_bbx_df.to_csv(PATH/'cpu_interstage_labels.csv')"
   ]
  },
  {
   "cell_type": "markdown",
   "metadata": {
    "heading_collapsed": true
   },
   "source": [
    "### Visualizations"
   ]
  },
  {
   "cell_type": "code",
   "execution_count": 93,
   "metadata": {
    "hidden": true
   },
   "outputs": [
    {
     "data": {
      "text/plain": [
       "array([148, 130, 246, 386], dtype=object)"
      ]
     },
     "execution_count": 93,
     "metadata": {},
     "output_type": "execute_result"
    }
   ],
   "source": [
    "bbx = cpu_bbx_df.iloc[0].values[1:5]; bbx"
   ]
  },
  {
   "cell_type": "code",
   "execution_count": 379,
   "metadata": {
    "hidden": true
   },
   "outputs": [],
   "source": [
    "def show_img(img, bbx, figsize=None, ax=None):\n",
    "    if not ax: fig,ax = plt.subplots(figsize=figsize)\n",
    "    ax.imshow(img)\n",
    "    ax.get_xaxis().set_visible(False); ax.get_yaxis().set_visible(False)\n",
    "    return ax\n",
    "\n",
    "def bb_hw(bbx):\n",
    "    \"\"\"returns (h w) from  (x1 y1 x2 y2) bounding box\"\"\"\n",
    "    h = bbx[3]-bbx[1]\n",
    "    w = bbx[2]-bbx[0]\n",
    "    return h,w\n",
    "\n",
    "def draw_outline(o, λw):\n",
    "    o.set_path_effects([patheffects.Stroke(linewidth=λw, foreground='black'), patheffects.Normal()])\n",
    "\n",
    "def draw_rect(ax, bbx):\n",
    "    # draw bounding box\n",
    "    h,w = bb_hw(bbx)\n",
    "    patch = ax.add_patch(patches.Rectangle(bbx[:2], w,h, fill=False, edgecolor='white', lw=2)) # *bbx[:2] destructs bbx giving bbx[-2], bbx[-1]\n",
    "    # outline it\n",
    "    draw_outline(patch, 4)\n",
    "\n",
    "def draw_text(ax, xy, txt, sz=14):\n",
    "    # draw classification\n",
    "    text = ax.text(*xy, 'Pilot', verticalalignment='top', color='white', fontsize=sz, weight='bold')\n",
    "    # outline it\n",
    "    draw_outline(text, 1)\n",
    "    \n",
    "def display_anno(img, bbx, clsfn=None):\n",
    "    ax = show_img(img, bbx)\n",
    "    draw_rect(ax, bbx)\n",
    "    draw_text(ax, bbx[:2], clsfn)"
   ]
  },
  {
   "cell_type": "code",
   "execution_count": 441,
   "metadata": {
    "hidden": true
   },
   "outputs": [
    {
     "name": "stdout",
     "output_type": "stream",
     "text": [
      "001190-001434/001405.jpg\n"
     ]
    },
    {
     "data": {
      "image/png": "[encoded data removed]",
      "text/plain": [
       "<Figure size 432x288 with 1 Axes>"
      ]
     },
     "metadata": {},
     "output_type": "display_data"
    }
   ],
   "source": [
    "idx = np.random.randint(0, sample); #row = cpu_bbx_df.iloc[idx].values\n",
    "bbx = cpu_bbx_df.iloc[idx].values[1:5]\n",
    "f_img = cpu_df.iloc[idx].values[0] + '.jpg'\n",
    "img = Image.open(PATH_TRAIN/f_img)\n",
    "display_anno(img, bbx)\n",
    "print(f_img)"
   ]
  },
  {
   "cell_type": "markdown",
   "metadata": {
    "hidden": true
   },
   "source": [
    "Some of these are mislabeled, but not enough for me to care too much. I can fix that in v3. What's more concerning is what to do about the cases where the pilot isn't visible (background class). I'll find a way to treat them as background / dismiss them. I want to turn this from a 2-stage Detector-Classifier into a 1-stage End-to-End Detector."
   ]
  },
  {
   "cell_type": "markdown",
   "metadata": {},
   "source": [
    "## Architecture"
   ]
  },
  {
   "cell_type": "code",
   "execution_count": null,
   "metadata": {},
   "outputs": [],
   "source": [
    "class ConvBlock"
   ]
  },
  {
   "cell_type": "code",
   "execution_count": null,
   "metadata": {},
   "outputs": [],
   "source": [
    "class SSD_Head(nn.Module):\n",
    "    ## TODO"
   ]
  },
  {
   "cell_type": "code",
   "execution_count": null,
   "metadata": {},
   "outputs": [],
   "source": []
  },
  {
   "cell_type": "code",
   "execution_count": null,
   "metadata": {},
   "outputs": [],
   "source": []
  },
  {
   "cell_type": "code",
   "execution_count": null,
   "metadata": {},
   "outputs": [],
   "source": []
  },
  {
   "cell_type": "code",
   "execution_count": null,
   "metadata": {},
   "outputs": [],
   "source": []
  }
 ],
 "metadata": {
  "kernelspec": {
   "display_name": "Python 3 (FastAI)",
   "language": "python",
   "name": "fastai"
  },
  "language_info": {
   "codemirror_mode": {
    "name": "ipython",
    "version": 3
   },
   "file_extension": ".py",
   "mimetype": "text/x-python",
   "name": "python",
   "nbconvert_exporter": "python",
   "pygments_lexer": "ipython3",
   "version": "3.6.5"
  }
 },
 "nbformat": 4,
 "nbformat_minor": 2
}
