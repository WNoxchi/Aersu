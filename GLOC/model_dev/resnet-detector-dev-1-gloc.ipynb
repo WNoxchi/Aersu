{
 "cells": [
  {
   "cell_type": "markdown",
   "metadata": {},
   "source": [
    "# ResNet Detector Developement 1"
   ]
  },
  {
   "cell_type": "markdown",
   "metadata": {},
   "source": [
    "WNixalo - 1:7/5/2018\n",
    "\n",
    "---\n",
    "\n",
    "The purpose of this notebook is to experiment with small datasets (CPU dev) and finetune the general-purpose base object detector on the GLoC dataset."
   ]
  },
  {
   "cell_type": "markdown",
   "metadata": {},
   "source": [
    "## Imports"
   ]
  },
  {
   "cell_type": "code",
   "execution_count": 1,
   "metadata": {},
   "outputs": [],
   "source": [
    "%matplotlib inline\n",
    "%reload_ext autoreload\n",
    "%autoreload 2"
   ]
  },
  {
   "cell_type": "code",
   "execution_count": 2,
   "metadata": {},
   "outputs": [],
   "source": [
    "from fastai.conv_learner import *\n",
    "\n",
    "sys.path.insert(1, os.path.join('../'))\n",
    "from utils import common\n",
    "from utils import temp_utils\n",
    "from utils.subfolder_val_idxs import set_val_idxs\n",
    "\n",
    "from matplotlib import patches, patheffects"
   ]
  },
  {
   "cell_type": "code",
   "execution_count": 3,
   "metadata": {},
   "outputs": [],
   "source": [
    "PATH = Path('../data')\n",
    "PATH_IMAGES   = PATH/'train'\n",
    "PATH_CLAS_CSV = PATH/'class_labels.csv'\n",
    "PATH_BBOX_CSV = PATH/'bbox_labels.csv'\n",
    "\n",
    "# PATH_TRAIN_BBX = PATH/'interstage_train'\n",
    "# CPU_PATH_CSV     = PATH/'cpu_labels.csv'\n",
    "# CPU_PATH_CSV_BBX = PATH/'cpu_interstage_labels.csv'"
   ]
  },
  {
   "cell_type": "markdown",
   "metadata": {},
   "source": [
    "## 1. Data"
   ]
  },
  {
   "cell_type": "code",
   "execution_count": 4,
   "metadata": {},
   "outputs": [
    {
     "data": {
      "text/html": [
       "<div>\n",
       "<style scoped>\n",
       "    .dataframe tbody tr th:only-of-type {\n",
       "        vertical-align: middle;\n",
       "    }\n",
       "\n",
       "    .dataframe tbody tr th {\n",
       "        vertical-align: top;\n",
       "    }\n",
       "\n",
       "    .dataframe thead th {\n",
       "        text-align: right;\n",
       "    }\n",
       "</style>\n",
       "<table border=\"1\" class=\"dataframe\">\n",
       "  <thead>\n",
       "    <tr style=\"text-align: right;\">\n",
       "      <th></th>\n",
       "      <th>id</th>\n",
       "      <th>bbox</th>\n",
       "    </tr>\n",
       "  </thead>\n",
       "  <tbody>\n",
       "    <tr>\n",
       "      <th>0</th>\n",
       "      <td>000000-000412/000000.jpg</td>\n",
       "      <td>72 83 380 191</td>\n",
       "    </tr>\n",
       "    <tr>\n",
       "      <th>1</th>\n",
       "      <td>000000-000412/000001.jpg</td>\n",
       "      <td>89 52 381 204</td>\n",
       "    </tr>\n",
       "    <tr>\n",
       "      <th>2</th>\n",
       "      <td>000000-000412/000002.jpg</td>\n",
       "      <td>89 58 390 208</td>\n",
       "    </tr>\n",
       "    <tr>\n",
       "      <th>3</th>\n",
       "      <td>000000-000412/000003.jpg</td>\n",
       "      <td>98 66 388 214</td>\n",
       "    </tr>\n",
       "    <tr>\n",
       "      <th>4</th>\n",
       "      <td>000000-000412/000004.jpg</td>\n",
       "      <td>90 65 389 209</td>\n",
       "    </tr>\n",
       "  </tbody>\n",
       "</table>\n",
       "</div>"
      ],
      "text/plain": [
       "                         id           bbox\n",
       "0  000000-000412/000000.jpg  72 83 380 191\n",
       "1  000000-000412/000001.jpg  89 52 381 204\n",
       "2  000000-000412/000002.jpg  89 58 390 208\n",
       "3  000000-000412/000003.jpg  98 66 388 214\n",
       "4  000000-000412/000004.jpg  90 65 389 209"
      ]
     },
     "execution_count": 4,
     "metadata": {},
     "output_type": "execute_result"
    }
   ],
   "source": [
    "df = pd.read_csv(PATH_BBOX_CSV)\n",
    "df.head()"
   ]
  },
  {
   "cell_type": "markdown",
   "metadata": {
    "heading_collapsed": true
   },
   "source": [
    "### CPU data subset - TODO"
   ]
  },
  {
   "cell_type": "markdown",
   "metadata": {
    "hidden": true
   },
   "source": [
    "***NOTE***: I'll have to rewrite my validation set indexer to work with CSVs instead of directories."
   ]
  },
  {
   "cell_type": "code",
   "execution_count": 4,
   "metadata": {
    "hidden": true
   },
   "outputs": [],
   "source": [
    "# TODO"
   ]
  },
  {
   "cell_type": "markdown",
   "metadata": {
    "heading_collapsed": true
   },
   "source": [
    "### Visualizations - TODO"
   ]
  },
  {
   "cell_type": "code",
   "execution_count": 93,
   "metadata": {
    "hidden": true
   },
   "outputs": [
    {
     "data": {
      "text/plain": [
       "array([148, 130, 246, 386], dtype=object)"
      ]
     },
     "execution_count": 93,
     "metadata": {},
     "output_type": "execute_result"
    }
   ],
   "source": [
    "bbx = cpu_bbx_df.iloc[0].values[1:5]; bbx"
   ]
  },
  {
   "cell_type": "code",
   "execution_count": 379,
   "metadata": {
    "hidden": true
   },
   "outputs": [],
   "source": [
    "def show_img(img, bbx, figsize=None, ax=None):\n",
    "    if not ax: fig,ax = plt.subplots(figsize=figsize)\n",
    "    ax.imshow(img)\n",
    "    ax.get_xaxis().set_visible(False); ax.get_yaxis().set_visible(False)\n",
    "    return ax\n",
    "\n",
    "def bb_hw(bbx):\n",
    "    \"\"\"returns (h w) from  (x1 y1 x2 y2) bounding box\"\"\"\n",
    "    h = bbx[3]-bbx[1]\n",
    "    w = bbx[2]-bbx[0]\n",
    "    return h,w\n",
    "\n",
    "def draw_outline(o, λw):\n",
    "    o.set_path_effects([patheffects.Stroke(linewidth=λw, foreground='black'), patheffects.Normal()])\n",
    "\n",
    "def draw_rect(ax, bbx):\n",
    "    # draw bounding box\n",
    "    h,w = bb_hw(bbx)\n",
    "    patch = ax.add_patch(patches.Rectangle(bbx[:2], w,h, fill=False, edgecolor='white', lw=2)) # *bbx[:2] destructs bbx giving bbx[-2], bbx[-1]\n",
    "    # outline it\n",
    "    draw_outline(patch, 4)\n",
    "\n",
    "def draw_text(ax, xy, txt, sz=14):\n",
    "    # draw classification\n",
    "    text = ax.text(*xy, 'Pilot', verticalalignment='top', color='white', fontsize=sz, weight='bold')\n",
    "    # outline it\n",
    "    draw_outline(text, 1)\n",
    "    \n",
    "def display_anno(img, bbx, clsfn=None):\n",
    "    ax = show_img(img, bbx)\n",
    "    draw_rect(ax, bbx)\n",
    "    draw_text(ax, bbx[:2], clsfn)"
   ]
  },
  {
   "cell_type": "markdown",
   "metadata": {},
   "source": [
    "### fastai ModelData Object"
   ]
  },
  {
   "cell_type": "code",
   "execution_count": 66,
   "metadata": {},
   "outputs": [],
   "source": [
    "f_model = resnet34\n",
    "sz = 224\n",
    "bs = 32"
   ]
  },
  {
   "cell_type": "code",
   "execution_count": 67,
   "metadata": {},
   "outputs": [],
   "source": [
    "aug_tfms = [RandomRotate(3, p=0.5, tfm_y=TfmType.COORD), \n",
    "            RandomLighting(0.05, 0.05, tfm_y=TfmType.COORD), \n",
    "            RandomFlip(tfm_y=TfmType.COORD)]\n",
    "\n",
    "tfms = tfms_from_model(f_model, sz, crop_type=CropType.NO, tfm_y=TfmType.COORD, aug_tfms=aug_tfms)\n",
    "model_data = ImageClassifierData.from_csv(PATH, PATH_IMAGES, PATH_BBOX_CSV, tfms=tfms, continuous=True)"
   ]
  },
  {
   "cell_type": "markdown",
   "metadata": {},
   "source": [
    "#### Adding Class labels to Coordinate labels"
   ]
  },
  {
   "cell_type": "code",
   "execution_count": 68,
   "metadata": {},
   "outputs": [],
   "source": [
    "class ConcatLblDataset(Dataset):\n",
    "    def __init__(self, ds, y2):\n",
    "        self.ds,self.y2 = ds, y2\n",
    "        self.sz = ds.sz\n",
    "    def __len__(self):\n",
    "        return len(self.ds)\n",
    "    def __getitem__(self, i):\n",
    "        x,y = self.ds[i]\n",
    "        return (x, (y, self.y2[i]))"
   ]
  },
  {
   "cell_type": "code",
   "execution_count": 69,
   "metadata": {},
   "outputs": [
    {
     "data": {
      "text/plain": [
       "1527"
      ]
     },
     "execution_count": 69,
     "metadata": {},
     "output_type": "execute_result"
    }
   ],
   "source": [
    "len(model_data.val_dl.dataset.fnames)"
   ]
  },
  {
   "cell_type": "code",
   "execution_count": 70,
   "metadata": {},
   "outputs": [
    {
     "data": {
      "text/plain": [
       "6110"
      ]
     },
     "execution_count": 70,
     "metadata": {},
     "output_type": "execute_result"
    }
   ],
   "source": [
    "len(model_data.trn_dl.dataset.fnames)"
   ]
  },
  {
   "cell_type": "code",
   "execution_count": 71,
   "metadata": {},
   "outputs": [
    {
     "data": {
      "text/plain": [
       "0.24991816693944355"
      ]
     },
     "execution_count": 71,
     "metadata": {},
     "output_type": "execute_result"
    }
   ],
   "source": [
    "1527 / 6110"
   ]
  },
  {
   "cell_type": "markdown",
   "metadata": {},
   "source": [
    "Wow. The fastai library automatically sets a random validation set of 25% of your data if you don't specify any. Cool."
   ]
  },
  {
   "cell_type": "code",
   "execution_count": 72,
   "metadata": {},
   "outputs": [],
   "source": [
    "df_mcs = pd.read_csv(PATH_CLAS_CSV)\n",
    "\n",
    "multi_classes = np.array([np.array([clasid]) for clasid in df_mcs['class']])\n",
    "\n",
    "trn2 = ConcatLblDataset(model_data.trn_ds, multi_classes)"
   ]
  },
  {
   "cell_type": "code",
   "execution_count": 75,
   "metadata": {},
   "outputs": [],
   "source": [
    "model_data.trn_dl.dataset = trn2"
   ]
  },
  {
   "cell_type": "code",
   "execution_count": 77,
   "metadata": {},
   "outputs": [
    {
     "data": {
      "text/plain": [
       "(array([[[-1.80786, -1.80786, -1.80786, ..., -1.80786, -1.80786, -1.80786],\n",
       "         [-1.97226, -1.97226, -1.97226, ..., -1.97226, -1.97226, -1.97226],\n",
       "         [-1.97226, -1.97226, -1.97226, ..., -1.97226, -1.97226, -1.97226],\n",
       "         ...,\n",
       "         [-1.97226, -1.97226, -1.97226, ..., -1.97226, -1.97226, -1.97226],\n",
       "         [-1.97226, -1.97226, -1.97226, ..., -1.97226, -1.97226, -1.97226],\n",
       "         [-1.97226, -1.97226, -1.97226, ..., -1.97226, -1.97226, -1.97226]],\n",
       " \n",
       "        [[-1.71875, -1.71875, -1.71875, ..., -1.71875, -1.71875, -1.71875],\n",
       "         [-1.88682, -1.88682, -1.88682, ..., -1.88682, -1.88682, -1.88682],\n",
       "         [-1.88682, -1.88682, -1.88682, ..., -1.88682, -1.88682, -1.88682],\n",
       "         ...,\n",
       "         [-1.88682, -1.88682, -1.88682, ..., -1.88682, -1.88682, -1.88682],\n",
       "         [-1.88682, -1.88682, -1.88682, ..., -1.88682, -1.88682, -1.88682],\n",
       "         [-1.88682, -1.88682, -1.88682, ..., -1.88682, -1.88682, -1.88682]],\n",
       " \n",
       "        [[-1.48889, -1.48889, -1.48889, ..., -1.48889, -1.48889, -1.48889],\n",
       "         [-1.65621, -1.65621, -1.65621, ..., -1.65621, -1.65621, -1.65621],\n",
       "         [-1.65621, -1.65621, -1.65621, ..., -1.65621, -1.65621, -1.65621],\n",
       "         ...,\n",
       "         [-1.65621, -1.65621, -1.65621, ..., -1.65621, -1.65621, -1.65621],\n",
       "         [-1.65621, -1.65621, -1.65621, ..., -1.65621, -1.65621, -1.65621],\n",
       "         [-1.65621, -1.65621, -1.65621, ..., -1.65621, -1.65621, -1.65621]]], dtype=float32),\n",
       " (array([ 50., 111., 210., 192.], dtype=float32), array([0])))"
      ]
     },
     "execution_count": 77,
     "metadata": {},
     "output_type": "execute_result"
    }
   ],
   "source": [
    "model_data.trn_dl.dataset[0]"
   ]
  },
  {
   "cell_type": "markdown",
   "metadata": {},
   "source": [
    "## 2. Architecture"
   ]
  },
  {
   "cell_type": "code",
   "execution_count": null,
   "metadata": {},
   "outputs": [],
   "source": [
    "class ConvBlock"
   ]
  },
  {
   "cell_type": "code",
   "execution_count": null,
   "metadata": {},
   "outputs": [],
   "source": [
    "class SSD_Head(nn.Module):\n",
    "    ## TODO"
   ]
  },
  {
   "cell_type": "markdown",
   "metadata": {},
   "source": [
    "## 3. Loss Function"
   ]
  },
  {
   "cell_type": "code",
   "execution_count": null,
   "metadata": {},
   "outputs": [],
   "source": []
  },
  {
   "cell_type": "code",
   "execution_count": null,
   "metadata": {},
   "outputs": [],
   "source": []
  },
  {
   "cell_type": "markdown",
   "metadata": {},
   "source": [
    "## 4. Training"
   ]
  },
  {
   "cell_type": "code",
   "execution_count": null,
   "metadata": {},
   "outputs": [],
   "source": []
  }
 ],
 "metadata": {
  "kernelspec": {
   "display_name": "Python 3 (FastAI)",
   "language": "python",
   "name": "fastai"
  },
  "language_info": {
   "codemirror_mode": {
    "name": "ipython",
    "version": 3
   },
   "file_extension": ".py",
   "mimetype": "text/x-python",
   "name": "python",
   "nbconvert_exporter": "python",
   "pygments_lexer": "ipython3",
   "version": "3.6.5"
  }
 },
 "nbformat": 4,
 "nbformat_minor": 2
}
