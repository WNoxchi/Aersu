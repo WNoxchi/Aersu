{
 "cells": [
  {
   "cell_type": "markdown",
   "metadata": {},
   "source": [
    "2018 / 2 / 01\n",
    "\n",
    "Wayne Nixalo\n",
    "\n",
    "# RetinaNet Finetuning"
   ]
  },
  {
   "cell_type": "markdown",
   "metadata": {},
   "source": [
    "## 1. Imports & Initialization"
   ]
  },
  {
   "cell_type": "code",
   "execution_count": 1,
   "metadata": {},
   "outputs": [
    {
     "name": "stderr",
     "output_type": "stream",
     "text": [
      "/home/wnixalo/miniconda3/envs/aersu/lib/python3.6/site-packages/h5py/__init__.py:36: FutureWarning: Conversion of the second argument of issubdtype from `float` to `np.floating` is deprecated. In future, it will be treated as `np.float64 == np.dtype(float).type`.\n",
      "  from ._conv import register_converters as _register_converters\n",
      "Using TensorFlow backend.\n",
      "/home/wnixalo/miniconda3/envs/aersu/lib/python3.6/importlib/_bootstrap.py:219: RuntimeWarning: compiletime version 3.5 of module 'tensorflow.python.framework.fast_tensor_util' does not match runtime version 3.6\n",
      "  return f(*args, **kwds)\n"
     ]
    }
   ],
   "source": [
    "import keras\n",
    "import keras.preprocessing.image\n",
    "\n",
    "import keras_retinanet.losses\n",
    "import keras_retinanet.layers\n",
    "from keras_retinanet.preprocessing.csv_generator import CSVGenerator\n",
    "from keras_retinanet.callbacks import RedirectModel\n",
    "from keras_retinanet.models.resnet import ResNet50RetinaNet\n",
    "from keras_retinanet.utils.keras_version import check_keras_version\n",
    "from keras_retinanet.utils.image import preprocess_image, resize_image\n",
    "from keras_retinanet.models.resnet import custom_objects # <-- what do I need this for?\n",
    "\n",
    "import tensorflow as tf\n",
    "\n",
    "import numpy as np\n",
    "import os\n",
    "import cv2"
   ]
  },
  {
   "cell_type": "code",
   "execution_count": 2,
   "metadata": {},
   "outputs": [],
   "source": [
    "def get_session():\n",
    "    config = tf.ConfigProto()\n",
    "    config.gpu_options.allow_growth = True\n",
    "    return tf.Session(config=config)"
   ]
  },
  {
   "cell_type": "markdown",
   "metadata": {},
   "source": [
    "Taken from [Boring Detector train.py script](https://github.com/lexfridman/boring-detector/blob/master/train.py#L43)\n",
    "\n",
    "Based on [initialization API from RetinaNet](https://github.com/fizyr/keras-retinanet/blob/master/keras_retinanet/models/resnet.py#L100)"
   ]
  },
  {
   "cell_type": "code",
   "execution_count": 3,
   "metadata": {},
   "outputs": [],
   "source": [
    "def create_models(num_classes):\n",
    "    # create \"base\" model (no NMS)\n",
    "    image = keras.layers.Input((None, None, 3))\n",
    "    \n",
    "    model = ResNet50RetinaNet(image, num_classes=num_classes, weights='imagenet', nms=False)\n",
    "    training_model = model\n",
    "    \n",
    "    # append NMS for prediction only\n",
    "    classification   = model.outputs[1]\n",
    "    detections       = model.outputs[2]\n",
    "    boxes            = keras.layers.Lambda(lambda x: x[:, :, :4])(detections)\n",
    "    detections       = keras_retinanet.layers.NonMaximumSuppression(name='nms')([boxes, classification, detections])\n",
    "    prediction_model = keras.models.Model(inputs=model.inputs, outputs=model.outputs[:2] + [detections])\n",
    "    \n",
    "    # compile model\n",
    "    training_model.compile(\n",
    "        loss={\n",
    "            'regression'    : keras_retinanet.losses.smooth_l1(),\n",
    "            'classification':keras_retinanet.losses.focal()\n",
    "        },\n",
    "        optimizer=keras.optimizers.adam(lr=1e-5, clipnorm=0.001)\n",
    "    )\n",
    "    \n",
    "    return model, training_model, prediction_model"
   ]
  },
  {
   "cell_type": "code",
   "execution_count": 4,
   "metadata": {},
   "outputs": [],
   "source": [
    "# keras.backend.tensorflow_backend.set_session(get_session())\n",
    "\n",
    "# model = keras.models.load_model('data/retinanet-model/resnet50_coco_best_v1.2.2.h5',\n",
    "#                                     custom_objects=custom_objects)"
   ]
  },
  {
   "cell_type": "code",
   "execution_count": 5,
   "metadata": {},
   "outputs": [],
   "source": [
    "LENDATSET = 7637 # length of dataset (7637 images)\n",
    "batch_size = 2\n",
    "\n",
    "num_classes = 1\n",
    "steps_per_epoch = LENDATSET // batch_size # may need edits for batch sizes that leave remainders"
   ]
  },
  {
   "cell_type": "code",
   "execution_count": 6,
   "metadata": {},
   "outputs": [],
   "source": [
    "image_gen = keras.preprocessing.image.ImageDataGenerator(horizontal_flip=True)\n",
    "datagen = CSVGenerator(csv_data_file='data/interstage_retinanet_data.csv',\n",
    "                       csv_class_file='data/interstage_retinanet_classes.csv',\n",
    "                       image_data_generator=image_gen,\n",
    "                       batch_size=batch_size)"
   ]
  },
  {
   "cell_type": "code",
   "execution_count": 7,
   "metadata": {},
   "outputs": [
    {
     "name": "stderr",
     "output_type": "stream",
     "text": [
      "/home/wnixalo/miniconda3/envs/aersu/lib/python3.6/site-packages/ipykernel_launcher.py:21: UserWarning: Output \"concatenate_2\" missing from loss dictionary. We assume this was done on purpose, and we will not be expecting any data to be passed to \"concatenate_2\" during training.\n"
     ]
    }
   ],
   "source": [
    "model, trainer_model, predictor_model = create_models(num_classes)\n",
    "# dont yet exactly know why it's done this way: 3 returned 'model' versions"
   ]
  },
  {
   "cell_type": "markdown",
   "metadata": {},
   "source": [
    "## 2. Training"
   ]
  },
  {
   "cell_type": "code",
   "execution_count": 8,
   "metadata": {},
   "outputs": [
    {
     "data": {
      "text/plain": [
       "<tf.Tensor 'Adam/lr/read:0' shape=() dtype=float32>"
      ]
     },
     "execution_count": 8,
     "metadata": {},
     "output_type": "execute_result"
    }
   ],
   "source": [
    "trainer_model.optimizer.lr.value()"
   ]
  },
  {
   "cell_type": "markdown",
   "metadata": {},
   "source": [
    "Oh ffs Keras just show me the fucking learning rate."
   ]
  },
  {
   "cell_type": "code",
   "execution_count": 9,
   "metadata": {},
   "outputs": [],
   "source": [
    "# # recompile training-model to change learning rate (as needed)\n",
    "# trainer_model.compile(\n",
    "#     loss={\n",
    "#         'regression'    : keras_retinanet.losses.smooth_l1(),\n",
    "#         'classification':keras_retinanet.losses.focal()\n",
    "#     },\n",
    "#     optimizer=keras.optimizers.adam(lr=1e-5, clipnorm=0.001)\n",
    "# )"
   ]
  },
  {
   "cell_type": "code",
   "execution_count": 10,
   "metadata": {
    "scrolled": false
   },
   "outputs": [
    {
     "name": "stdout",
     "output_type": "stream",
     "text": [
      "Epoch 1/1\n",
      "  75/3818 [..............................] - ETA: 1:32:50 - loss: 4.9869 - regression_loss: 3.9088 - classification_loss: 1.0782"
     ]
    },
    {
     "name": "stderr",
     "output_type": "stream",
     "text": [
      "/home/wnixalo/miniconda3/envs/aersu/lib/python3.6/site-packages/keras_retinanet-0.0.1-py3.6.egg/keras_retinanet/preprocessing/generator.py:100: UserWarning: Image with id 6476 (shape (400, 400, 3)) contains the following invalid boxes: [array([  6.,  47., 227., 401.,   0.])].\n",
      "  [annotations[invalid_index, :] for invalid_index in invalid_indices]\n"
     ]
    },
    {
     "name": "stdout",
     "output_type": "stream",
     "text": [
      " 139/3818 [>.............................] - ETA: 1:29:31 - loss: 4.5047 - regression_loss: 3.6945 - classification_loss: 0.8102"
     ]
    },
    {
     "name": "stderr",
     "output_type": "stream",
     "text": [
      "/home/wnixalo/miniconda3/envs/aersu/lib/python3.6/site-packages/keras_retinanet-0.0.1-py3.6.egg/keras_retinanet/preprocessing/generator.py:100: UserWarning: Image with id 6167 (shape (400, 400, 3)) contains the following invalid boxes: [array([137., 102., 227., 401.,   0.])].\n",
      "  [annotations[invalid_index, :] for invalid_index in invalid_indices]\n"
     ]
    },
    {
     "name": "stdout",
     "output_type": "stream",
     "text": [
      " 149/3818 [>.............................] - ETA: 1:29:09 - loss: 4.4468 - regression_loss: 3.6670 - classification_loss: 0.7798"
     ]
    },
    {
     "name": "stderr",
     "output_type": "stream",
     "text": [
      "/home/wnixalo/miniconda3/envs/aersu/lib/python3.6/site-packages/keras_retinanet-0.0.1-py3.6.egg/keras_retinanet/preprocessing/generator.py:100: UserWarning: Image with id 6261 (shape (400, 400, 3)) contains the following invalid boxes: [array([ 66.,   7., 370., 402.,   0.])].\n",
      "  [annotations[invalid_index, :] for invalid_index in invalid_indices]\n"
     ]
    },
    {
     "name": "stdout",
     "output_type": "stream",
     "text": [
      " 282/3818 [=>............................] - ETA: 1:25:03 - loss: 3.9869 - regression_loss: 3.3977 - classification_loss: 0.5892"
     ]
    },
    {
     "name": "stderr",
     "output_type": "stream",
     "text": [
      "/home/wnixalo/miniconda3/envs/aersu/lib/python3.6/site-packages/keras_retinanet-0.0.1-py3.6.egg/keras_retinanet/preprocessing/generator.py:100: UserWarning: Image with id 4867 (shape (400, 400, 3)) contains the following invalid boxes: [array([ 60.,  13., 345., 401.,   0.])].\n",
      "  [annotations[invalid_index, :] for invalid_index in invalid_indices]\n"
     ]
    },
    {
     "name": "stdout",
     "output_type": "stream",
     "text": [
      " 288/3818 [=>............................] - ETA: 1:24:53 - loss: 3.9684 - regression_loss: 3.3844 - classification_loss: 0.5841"
     ]
    },
    {
     "name": "stderr",
     "output_type": "stream",
     "text": [
      "/home/wnixalo/miniconda3/envs/aersu/lib/python3.6/site-packages/keras_retinanet-0.0.1-py3.6.egg/keras_retinanet/preprocessing/generator.py:100: UserWarning: Image with id 3682 (shape (400, 400, 3)) contains the following invalid boxes: [array([114., 130., 322., 405.,   0.])].\n",
      "  [annotations[invalid_index, :] for invalid_index in invalid_indices]\n"
     ]
    },
    {
     "name": "stdout",
     "output_type": "stream",
     "text": [
      " 308/3818 [=>............................] - ETA: 1:24:21 - loss: 3.9127 - regression_loss: 3.3382 - classification_loss: 0.5745"
     ]
    },
    {
     "name": "stderr",
     "output_type": "stream",
     "text": [
      "/home/wnixalo/miniconda3/envs/aersu/lib/python3.6/site-packages/keras_retinanet-0.0.1-py3.6.egg/keras_retinanet/preprocessing/generator.py:100: UserWarning: Image with id 4281 (shape (400, 400, 3)) contains the following invalid boxes: [array([293., 172., 401., 392.,   0.])].\n",
      "  [annotations[invalid_index, :] for invalid_index in invalid_indices]\n"
     ]
    },
    {
     "name": "stdout",
     "output_type": "stream",
     "text": [
      " 366/3818 [=>............................] - ETA: 1:22:49 - loss: 3.7891 - regression_loss: 3.2487 - classification_loss: 0.5403"
     ]
    },
    {
     "name": "stderr",
     "output_type": "stream",
     "text": [
      "/home/wnixalo/miniconda3/envs/aersu/lib/python3.6/site-packages/keras_retinanet-0.0.1-py3.6.egg/keras_retinanet/preprocessing/generator.py:100: UserWarning: Image with id 5991 (shape (400, 400, 3)) contains the following invalid boxes: [array([145., 140., 235., 402.,   0.])].\n",
      "  [annotations[invalid_index, :] for invalid_index in invalid_indices]\n"
     ]
    },
    {
     "name": "stdout",
     "output_type": "stream",
     "text": [
      " 378/3818 [=>............................] - ETA: 1:22:30 - loss: 3.7512 - regression_loss: 3.2174 - classification_loss: 0.5338"
     ]
    },
    {
     "name": "stderr",
     "output_type": "stream",
     "text": [
      "/home/wnixalo/miniconda3/envs/aersu/lib/python3.6/site-packages/keras_retinanet-0.0.1-py3.6.egg/keras_retinanet/preprocessing/generator.py:100: UserWarning: Image with id 3513 (shape (400, 400, 3)) contains the following invalid boxes: [array([ 81.,  54., 316., 401.,   0.])].\n",
      "  [annotations[invalid_index, :] for invalid_index in invalid_indices]\n"
     ]
    },
    {
     "name": "stdout",
     "output_type": "stream",
     "text": [
      " 405/3818 [==>...........................] - ETA: 1:21:48 - loss: 3.7152 - regression_loss: 3.1790 - classification_loss: 0.5362"
     ]
    },
    {
     "name": "stderr",
     "output_type": "stream",
     "text": [
      "/home/wnixalo/miniconda3/envs/aersu/lib/python3.6/site-packages/keras_retinanet-0.0.1-py3.6.egg/keras_retinanet/preprocessing/generator.py:100: UserWarning: Image with id 6204 (shape (400, 400, 3)) contains the following invalid boxes: [array([ 98., 136., 324., 401.,   0.])].\n",
      "  [annotations[invalid_index, :] for invalid_index in invalid_indices]\n"
     ]
    },
    {
     "name": "stdout",
     "output_type": "stream",
     "text": [
      " 447/3818 [==>...........................] - ETA: 1:20:44 - loss: 3.6365 - regression_loss: 3.1149 - classification_loss: 0.5216"
     ]
    },
    {
     "name": "stderr",
     "output_type": "stream",
     "text": [
      "/home/wnixalo/miniconda3/envs/aersu/lib/python3.6/site-packages/keras_retinanet-0.0.1-py3.6.egg/keras_retinanet/preprocessing/generator.py:100: UserWarning: Image with id 6099 (shape (400, 400, 3)) contains the following invalid boxes: [array([130., 131., 224., 405.,   0.])].\n",
      "  [annotations[invalid_index, :] for invalid_index in invalid_indices]\n"
     ]
    },
    {
     "name": "stdout",
     "output_type": "stream",
     "text": [
      " 502/3818 [==>...........................] - ETA: 1:19:21 - loss: 3.5426 - regression_loss: 3.0409 - classification_loss: 0.5017"
     ]
    },
    {
     "name": "stderr",
     "output_type": "stream",
     "text": [
      "/home/wnixalo/miniconda3/envs/aersu/lib/python3.6/site-packages/keras_retinanet-0.0.1-py3.6.egg/keras_retinanet/preprocessing/generator.py:100: UserWarning: Image with id 5375 (shape (400, 400, 3)) contains the following invalid boxes: [array([149.,  76., 358., 404.,   0.])].\n",
      "  [annotations[invalid_index, :] for invalid_index in invalid_indices]\n"
     ]
    },
    {
     "name": "stdout",
     "output_type": "stream",
     "text": [
      " 518/3818 [===>..........................] - ETA: 1:18:57 - loss: 3.5247 - regression_loss: 3.0245 - classification_loss: 0.5001"
     ]
    },
    {
     "name": "stderr",
     "output_type": "stream",
     "text": [
      "/home/wnixalo/miniconda3/envs/aersu/lib/python3.6/site-packages/keras_retinanet-0.0.1-py3.6.egg/keras_retinanet/preprocessing/generator.py:100: UserWarning: Image with id 4399 (shape (400, 400, 3)) contains the following invalid boxes: [array([  0.,  17., 401., 395.,   0.])].\n",
      "  [annotations[invalid_index, :] for invalid_index in invalid_indices]\n"
     ]
    },
    {
     "name": "stdout",
     "output_type": "stream",
     "text": [
      " 539/3818 [===>..........................] - ETA: 1:18:26 - loss: 3.4855 - regression_loss: 2.9909 - classification_loss: 0.4945"
     ]
    },
    {
     "name": "stderr",
     "output_type": "stream",
     "text": [
      "/home/wnixalo/miniconda3/envs/aersu/lib/python3.6/site-packages/keras_retinanet-0.0.1-py3.6.egg/keras_retinanet/preprocessing/generator.py:100: UserWarning: Image with id 3638 (shape (400, 400, 3)) contains the following invalid boxes: [array([138.,   4., 380., 401.,   0.])].\n",
      "  [annotations[invalid_index, :] for invalid_index in invalid_indices]\n"
     ]
    },
    {
     "name": "stdout",
     "output_type": "stream",
     "text": [
      "\b\b\b\b\b\b\b\b\b\b\b\b\b\b\b\b\b\b\b\b\b\b\b\b\b\b\b\b\b\b\b\b\b\b\b\b\b\b\b\b\b\b\b\b\b\b\b\b\b\b\b\b\b\b\b\b\b\b\b\b\b\b\b\b\b\b\b\b\b\b\b\b\b\b\b\b\b\b\b\b\b\b\b\b\b\b\b\b\b\b\b\b\b\b\b\b\b\b\b\b\b\b\b\b\b\b\b\b\b\b\b\b\b\b\b\b\b\b\b\b\b\b\b\b\b\b\b\b\r",
      " 540/3818 [===>..........................] - ETA: 1:18:25 - loss: 3.4831 - regression_loss: 2.9891 - classification_loss: 0.4940"
     ]
    },
    {
     "name": "stderr",
     "output_type": "stream",
     "text": [
      "/home/wnixalo/miniconda3/envs/aersu/lib/python3.6/site-packages/keras_retinanet-0.0.1-py3.6.egg/keras_retinanet/preprocessing/generator.py:100: UserWarning: Image with id 6195 (shape (400, 400, 3)) contains the following invalid boxes: [array([116., 131., 344., 401.,   0.])].\n",
      "  [annotations[invalid_index, :] for invalid_index in invalid_indices]\n"
     ]
    },
    {
     "name": "stdout",
     "output_type": "stream",
     "text": [
      "\b\b\b\b\b\b\b\b\b\b\b\b\b\b\b\b\b\b\b\b\b\b\b\b\b\b\b\b\b\b\b\b\b\b\b\b\b\b\b\b\b\b\b\b\b\b\b\b\b\b\b\b\b\b\b\b\b\b\b\b\b\b\b\b\b\b\b\b\b\b\b\b\b\b\b\b\b\b\b\b\b\b\b\b\b\b\b\b\b\b\b\b\b\b\b\b\b\b\b\b\b\b\b\b\b\b\b\b\b\b\b\b\b\b\b\b\b\b\b\b\b\b\b\b\b\b\b\b\r",
      " 541/3818 [===>..........................] - ETA: 1:18:23 - loss: 3.4799 - regression_loss: 2.9864 - classification_loss: 0.4935"
     ]
    },
    {
     "name": "stderr",
     "output_type": "stream",
     "text": [
      "/home/wnixalo/miniconda3/envs/aersu/lib/python3.6/site-packages/keras_retinanet-0.0.1-py3.6.egg/keras_retinanet/preprocessing/generator.py:100: UserWarning: Image with id 4035 (shape (400, 400, 3)) contains the following invalid boxes: [array([ 92.,  54., 345., 401.,   0.])].\n",
      "  [annotations[invalid_index, :] for invalid_index in invalid_indices]\n"
     ]
    },
    {
     "name": "stdout",
     "output_type": "stream",
     "text": [
      " 606/3818 [===>..........................] - ETA: 1:16:47 - loss: 3.3945 - regression_loss: 2.9163 - classification_loss: 0.4782"
     ]
    },
    {
     "name": "stderr",
     "output_type": "stream",
     "text": [
      "/home/wnixalo/miniconda3/envs/aersu/lib/python3.6/site-packages/keras_retinanet-0.0.1-py3.6.egg/keras_retinanet/preprocessing/generator.py:100: UserWarning: Image with id 6149 (shape (400, 400, 3)) contains the following invalid boxes: [array([168., 191., 341., 402.,   0.])].\n",
      "  [annotations[invalid_index, :] for invalid_index in invalid_indices]\n"
     ]
    },
    {
     "name": "stdout",
     "output_type": "stream",
     "text": [
      " 631/3818 [===>..........................] - ETA: 1:16:10 - loss: 3.3657 - regression_loss: 2.8898 - classification_loss: 0.4758"
     ]
    },
    {
     "name": "stderr",
     "output_type": "stream",
     "text": [
      "/home/wnixalo/miniconda3/envs/aersu/lib/python3.6/site-packages/keras_retinanet-0.0.1-py3.6.egg/keras_retinanet/preprocessing/generator.py:100: UserWarning: Image with id 2274 (shape (400, 400, 3)) contains the following invalid boxes: [array([140., 114., 327., 401.,   0.])].\n",
      "  [annotations[invalid_index, :] for invalid_index in invalid_indices]\n",
      "/home/wnixalo/miniconda3/envs/aersu/lib/python3.6/site-packages/keras_retinanet-0.0.1-py3.6.egg/keras_retinanet/preprocessing/generator.py:100: UserWarning: Image with id 2275 (shape (400, 400, 3)) contains the following invalid boxes: [array([139., 120., 328., 401.,   0.])].\n",
      "  [annotations[invalid_index, :] for invalid_index in invalid_indices]\n"
     ]
    },
    {
     "name": "stdout",
     "output_type": "stream",
     "text": [
      " 652/3818 [====>.........................] - ETA: 1:15:39 - loss: 3.3349 - regression_loss: 2.8596 - classification_loss: 0.4754"
     ]
    },
    {
     "name": "stderr",
     "output_type": "stream",
     "text": [
      "/home/wnixalo/miniconda3/envs/aersu/lib/python3.6/site-packages/keras_retinanet-0.0.1-py3.6.egg/keras_retinanet/preprocessing/generator.py:100: UserWarning: Image with id 2297 (shape (400, 400, 3)) contains the following invalid boxes: [array([148.,  85., 341., 401.,   0.])].\n",
      "  [annotations[invalid_index, :] for invalid_index in invalid_indices]\n"
     ]
    },
    {
     "name": "stdout",
     "output_type": "stream",
     "text": [
      " 656/3818 [====>.........................] - ETA: 1:15:33 - loss: 3.3301 - regression_loss: 2.8562 - classification_loss: 0.4739"
     ]
    },
    {
     "name": "stderr",
     "output_type": "stream",
     "text": [
      "/home/wnixalo/miniconda3/envs/aersu/lib/python3.6/site-packages/keras_retinanet-0.0.1-py3.6.egg/keras_retinanet/preprocessing/generator.py:100: UserWarning: Image with id 6010 (shape (400, 400, 3)) contains the following invalid boxes: [array([  0., 158., 402., 388.,   0.])].\n",
      "  [annotations[invalid_index, :] for invalid_index in invalid_indices]\n"
     ]
    },
    {
     "name": "stdout",
     "output_type": "stream",
     "text": [
      " 741/3818 [====>.........................] - ETA: 1:13:29 - loss: 3.2246 - regression_loss: 2.7674 - classification_loss: 0.4572"
     ]
    },
    {
     "name": "stderr",
     "output_type": "stream",
     "text": [
      "/home/wnixalo/miniconda3/envs/aersu/lib/python3.6/site-packages/keras_retinanet-0.0.1-py3.6.egg/keras_retinanet/preprocessing/generator.py:100: UserWarning: Image with id 6258 (shape (400, 400, 3)) contains the following invalid boxes: [array([ 60.,   4., 388., 403.,   0.])].\n",
      "  [annotations[invalid_index, :] for invalid_index in invalid_indices]\n"
     ]
    },
    {
     "name": "stdout",
     "output_type": "stream",
     "text": [
      " 780/3818 [=====>........................] - ETA: 1:12:32 - loss: 3.1787 - regression_loss: 2.7287 - classification_loss: 0.4500"
     ]
    },
    {
     "name": "stderr",
     "output_type": "stream",
     "text": [
      "/home/wnixalo/miniconda3/envs/aersu/lib/python3.6/site-packages/keras_retinanet-0.0.1-py3.6.egg/keras_retinanet/preprocessing/generator.py:100: UserWarning: Image with id 3475 (shape (400, 400, 3)) contains the following invalid boxes: [array([112., 149., 317., 401.,   0.])].\n",
      "  [annotations[invalid_index, :] for invalid_index in invalid_indices]\n"
     ]
    },
    {
     "name": "stdout",
     "output_type": "stream",
     "text": [
      " 966/3818 [======>.......................] - ETA: 1:08:02 - loss: 2.9926 - regression_loss: 2.5717 - classification_loss: 0.4209"
     ]
    },
    {
     "name": "stderr",
     "output_type": "stream",
     "text": [
      "/home/wnixalo/miniconda3/envs/aersu/lib/python3.6/site-packages/keras_retinanet-0.0.1-py3.6.egg/keras_retinanet/preprocessing/generator.py:100: UserWarning: Image with id 5167 (shape (400, 400, 3)) contains the following invalid boxes: [array([108., 114., 261., 401.,   0.])].\n",
      "  [annotations[invalid_index, :] for invalid_index in invalid_indices]\n"
     ]
    },
    {
     "name": "stdout",
     "output_type": "stream",
     "text": [
      "1135/3818 [=======>......................] - ETA: 1:03:58 - loss: 2.8714 - regression_loss: 2.4702 - classification_loss: 0.4012"
     ]
    },
    {
     "name": "stderr",
     "output_type": "stream",
     "text": [
      "/home/wnixalo/miniconda3/envs/aersu/lib/python3.6/site-packages/keras_retinanet-0.0.1-py3.6.egg/keras_retinanet/preprocessing/generator.py:100: UserWarning: Image with id 5920 (shape (400, 400, 3)) contains the following invalid boxes: [array([ 63.,  85., 248., 401.,   0.])].\n",
      "  [annotations[invalid_index, :] for invalid_index in invalid_indices]\n"
     ]
    },
    {
     "name": "stdout",
     "output_type": "stream",
     "text": [
      "1167/3818 [========>.....................] - ETA: 1:03:12 - loss: 2.8516 - regression_loss: 2.4498 - classification_loss: 0.4018"
     ]
    },
    {
     "name": "stderr",
     "output_type": "stream",
     "text": [
      "/home/wnixalo/miniconda3/envs/aersu/lib/python3.6/site-packages/keras_retinanet-0.0.1-py3.6.egg/keras_retinanet/preprocessing/generator.py:100: UserWarning: Image with id 4747 (shape (400, 400, 3)) contains the following invalid boxes: [array([ 57.,  32., 345., 403.,   0.])].\n",
      "  [annotations[invalid_index, :] for invalid_index in invalid_indices]\n"
     ]
    },
    {
     "name": "stdout",
     "output_type": "stream",
     "text": [
      "1208/3818 [========>.....................] - ETA: 1:02:13 - loss: 2.8261 - regression_loss: 2.4234 - classification_loss: 0.4027"
     ]
    },
    {
     "name": "stderr",
     "output_type": "stream",
     "text": [
      "/home/wnixalo/miniconda3/envs/aersu/lib/python3.6/site-packages/keras_retinanet-0.0.1-py3.6.egg/keras_retinanet/preprocessing/generator.py:100: UserWarning: Image with id 5692 (shape (400, 400, 3)) contains the following invalid boxes: [array([101.,  81., 260., 405.,   0.])].\n",
      "  [annotations[invalid_index, :] for invalid_index in invalid_indices]\n"
     ]
    },
    {
     "name": "stdout",
     "output_type": "stream",
     "text": [
      "1212/3818 [========>.....................] - ETA: 1:02:08 - loss: 2.8226 - regression_loss: 2.4204 - classification_loss: 0.4022"
     ]
    },
    {
     "name": "stderr",
     "output_type": "stream",
     "text": [
      "/home/wnixalo/miniconda3/envs/aersu/lib/python3.6/site-packages/keras_retinanet-0.0.1-py3.6.egg/keras_retinanet/preprocessing/generator.py:100: UserWarning: Image with id 3649 (shape (400, 400, 3)) contains the following invalid boxes: [array([  0.,  70., 407., 273.,   0.])].\n",
      "  [annotations[invalid_index, :] for invalid_index in invalid_indices]\n"
     ]
    },
    {
     "name": "stdout",
     "output_type": "stream",
     "text": [
      "1250/3818 [========>.....................] - ETA: 1:01:13 - loss: 2.7966 - regression_loss: 2.3980 - classification_loss: 0.3986"
     ]
    },
    {
     "name": "stderr",
     "output_type": "stream",
     "text": [
      "/home/wnixalo/miniconda3/envs/aersu/lib/python3.6/site-packages/keras_retinanet-0.0.1-py3.6.egg/keras_retinanet/preprocessing/generator.py:100: UserWarning: Image with id 5634 (shape (400, 400, 3)) contains the following invalid boxes: [array([167.,  39., 398., 403.,   0.])].\n",
      "  [annotations[invalid_index, :] for invalid_index in invalid_indices]\n"
     ]
    },
    {
     "name": "stdout",
     "output_type": "stream",
     "text": [
      "1271/3818 [========>.....................] - ETA: 1:00:43 - loss: 2.7879 - regression_loss: 2.3887 - classification_loss: 0.3992"
     ]
    },
    {
     "name": "stderr",
     "output_type": "stream",
     "text": [
      "/home/wnixalo/miniconda3/envs/aersu/lib/python3.6/site-packages/keras_retinanet-0.0.1-py3.6.egg/keras_retinanet/preprocessing/generator.py:100: UserWarning: Image with id 4706 (shape (400, 400, 3)) contains the following invalid boxes: [array([ 57.,  38., 341., 402.,   0.])].\n",
      "  [annotations[invalid_index, :] for invalid_index in invalid_indices]\n",
      "/home/wnixalo/miniconda3/envs/aersu/lib/python3.6/site-packages/keras_retinanet-0.0.1-py3.6.egg/keras_retinanet/preprocessing/generator.py:100: UserWarning: Image with id 4707 (shape (400, 400, 3)) contains the following invalid boxes: [array([ 55.,  45., 339., 402.,   0.])].\n",
      "  [annotations[invalid_index, :] for invalid_index in invalid_indices]\n"
     ]
    },
    {
     "name": "stdout",
     "output_type": "stream",
     "text": [
      "1422/3818 [==========>...................] - ETA: 57:06 - loss: 2.7125 - regression_loss: 2.3243 - classification_loss: 0.3882"
     ]
    },
    {
     "name": "stderr",
     "output_type": "stream",
     "text": [
      "/home/wnixalo/miniconda3/envs/aersu/lib/python3.6/site-packages/keras_retinanet-0.0.1-py3.6.egg/keras_retinanet/preprocessing/generator.py:100: UserWarning: Image with id 5592 (shape (400, 400, 3)) contains the following invalid boxes: [array([ 38., 182., 407., 390.,   0.])].\n",
      "  [annotations[invalid_index, :] for invalid_index in invalid_indices]\n"
     ]
    },
    {
     "name": "stdout",
     "output_type": "stream",
     "text": [
      "1425/3818 [==========>...................] - ETA: 57:02 - loss: 2.7101 - regression_loss: 2.3223 - classification_loss: 0.3878"
     ]
    },
    {
     "name": "stderr",
     "output_type": "stream",
     "text": [
      "/home/wnixalo/miniconda3/envs/aersu/lib/python3.6/site-packages/keras_retinanet-0.0.1-py3.6.egg/keras_retinanet/preprocessing/generator.py:100: UserWarning: Image with id 3721 (shape (400, 400, 3)) contains the following invalid boxes: [array([103.,  35., 268., 401.,   0.])].\n",
      "  [annotations[invalid_index, :] for invalid_index in invalid_indices]\n"
     ]
    },
    {
     "name": "stdout",
     "output_type": "stream",
     "text": [
      "1462/3818 [==========>...................] - ETA: 56:08 - loss: 2.6939 - regression_loss: 2.3073 - classification_loss: 0.3866"
     ]
    },
    {
     "name": "stderr",
     "output_type": "stream",
     "text": [
      "/home/wnixalo/miniconda3/envs/aersu/lib/python3.6/site-packages/keras_retinanet-0.0.1-py3.6.egg/keras_retinanet/preprocessing/generator.py:100: UserWarning: Image with id 4534 (shape (400, 400, 3)) contains the following invalid boxes: [array([  6.,   4., 375., 408.,   0.])].\n",
      "  [annotations[invalid_index, :] for invalid_index in invalid_indices]\n"
     ]
    },
    {
     "name": "stdout",
     "output_type": "stream",
     "text": [
      "1481/3818 [==========>...................] - ETA: 55:41 - loss: 2.6887 - regression_loss: 2.2984 - classification_loss: 0.3903"
     ]
    },
    {
     "name": "stderr",
     "output_type": "stream",
     "text": [
      "/home/wnixalo/miniconda3/envs/aersu/lib/python3.6/site-packages/keras_retinanet-0.0.1-py3.6.egg/keras_retinanet/preprocessing/generator.py:100: UserWarning: Image with id 6190 (shape (400, 400, 3)) contains the following invalid boxes: [array([ 81., 136., 324., 401.,   0.])].\n",
      "  [annotations[invalid_index, :] for invalid_index in invalid_indices]\n"
     ]
    },
    {
     "name": "stdout",
     "output_type": "stream",
     "text": [
      "1533/3818 [===========>..................] - ETA: 54:27 - loss: 2.6607 - regression_loss: 2.2737 - classification_loss: 0.3870"
     ]
    },
    {
     "name": "stderr",
     "output_type": "stream",
     "text": [
      "/home/wnixalo/miniconda3/envs/aersu/lib/python3.6/site-packages/keras_retinanet-0.0.1-py3.6.egg/keras_retinanet/preprocessing/generator.py:100: UserWarning: Image with id 4715 (shape (400, 400, 3)) contains the following invalid boxes: [array([ 61.,  50., 340., 403.,   0.])].\n",
      "  [annotations[invalid_index, :] for invalid_index in invalid_indices]\n"
     ]
    },
    {
     "name": "stdout",
     "output_type": "stream",
     "text": [
      "1566/3818 [===========>..................] - ETA: 53:39 - loss: 2.6519 - regression_loss: 2.2649 - classification_loss: 0.3869"
     ]
    },
    {
     "name": "stderr",
     "output_type": "stream",
     "text": [
      "/home/wnixalo/miniconda3/envs/aersu/lib/python3.6/site-packages/keras_retinanet-0.0.1-py3.6.egg/keras_retinanet/preprocessing/generator.py:100: UserWarning: Image with id 4017 (shape (400, 400, 3)) contains the following invalid boxes: [array([130.,  84., 288., 401.,   0.])].\n",
      "  [annotations[invalid_index, :] for invalid_index in invalid_indices]\n"
     ]
    },
    {
     "name": "stdout",
     "output_type": "stream",
     "text": [
      "1664/3818 [============>.................] - ETA: 51:19 - loss: 2.5933 - regression_loss: 2.2171 - classification_loss: 0.3762"
     ]
    },
    {
     "name": "stderr",
     "output_type": "stream",
     "text": [
      "/home/wnixalo/miniconda3/envs/aersu/lib/python3.6/site-packages/keras_retinanet-0.0.1-py3.6.egg/keras_retinanet/preprocessing/generator.py:100: UserWarning: Image with id 5607 (shape (400, 400, 3)) contains the following invalid boxes: [array([ 60., 241., 389., 403.,   0.])].\n",
      "  [annotations[invalid_index, :] for invalid_index in invalid_indices]\n"
     ]
    },
    {
     "name": "stdout",
     "output_type": "stream",
     "text": [
      "1784/3818 [=============>................] - ETA: 48:27 - loss: 2.5381 - regression_loss: 2.1712 - classification_loss: 0.3669"
     ]
    },
    {
     "name": "stderr",
     "output_type": "stream",
     "text": [
      "/home/wnixalo/miniconda3/envs/aersu/lib/python3.6/site-packages/keras_retinanet-0.0.1-py3.6.egg/keras_retinanet/preprocessing/generator.py:100: UserWarning: Image with id 4761 (shape (400, 400, 3)) contains the following invalid boxes: [array([ 53.,  53., 339., 403.,   0.])].\n",
      "  [annotations[invalid_index, :] for invalid_index in invalid_indices]\n"
     ]
    },
    {
     "name": "stdout",
     "output_type": "stream",
     "text": [
      "1786/3818 [=============>................] - ETA: 48:24 - loss: 2.5371 - regression_loss: 2.1703 - classification_loss: 0.3668"
     ]
    },
    {
     "name": "stderr",
     "output_type": "stream",
     "text": [
      "/home/wnixalo/miniconda3/envs/aersu/lib/python3.6/site-packages/keras_retinanet-0.0.1-py3.6.egg/keras_retinanet/preprocessing/generator.py:100: UserWarning: Image with id 3636 (shape (400, 400, 3)) contains the following invalid boxes: [array([131.,   2., 350., 401.,   0.])].\n",
      "  [annotations[invalid_index, :] for invalid_index in invalid_indices]\n",
      "/home/wnixalo/miniconda3/envs/aersu/lib/python3.6/site-packages/keras_retinanet-0.0.1-py3.6.egg/keras_retinanet/preprocessing/generator.py:100: UserWarning: Image with id 3637 (shape (400, 400, 3)) contains the following invalid boxes: [array([128.,   2., 375., 401.,   0.])].\n",
      "  [annotations[invalid_index, :] for invalid_index in invalid_indices]\n"
     ]
    },
    {
     "name": "stdout",
     "output_type": "stream",
     "text": [
      "1796/3818 [=============>................] - ETA: 48:10 - loss: 2.5378 - regression_loss: 2.1688 - classification_loss: 0.3690"
     ]
    },
    {
     "name": "stderr",
     "output_type": "stream",
     "text": [
      "/home/wnixalo/miniconda3/envs/aersu/lib/python3.6/site-packages/keras_retinanet-0.0.1-py3.6.egg/keras_retinanet/preprocessing/generator.py:100: UserWarning: Image with id 3717 (shape (400, 400, 3)) contains the following invalid boxes: [array([ 99.,  36., 268., 401.,   0.])].\n",
      "  [annotations[invalid_index, :] for invalid_index in invalid_indices]\n"
     ]
    },
    {
     "name": "stdout",
     "output_type": "stream",
     "text": [
      "1808/3818 [=============>................] - ETA: 47:52 - loss: 2.5355 - regression_loss: 2.1637 - classification_loss: 0.3718"
     ]
    },
    {
     "name": "stderr",
     "output_type": "stream",
     "text": [
      "/home/wnixalo/miniconda3/envs/aersu/lib/python3.6/site-packages/keras_retinanet-0.0.1-py3.6.egg/keras_retinanet/preprocessing/generator.py:100: UserWarning: Image with id 4460 (shape (400, 400, 3)) contains the following invalid boxes: [array([173., 108., 262., 406.,   0.])].\n",
      "  [annotations[invalid_index, :] for invalid_index in invalid_indices]\n"
     ]
    },
    {
     "name": "stdout",
     "output_type": "stream",
     "text": [
      "1814/3818 [=============>................] - ETA: 47:44 - loss: 2.5325 - regression_loss: 2.1611 - classification_loss: 0.3714"
     ]
    },
    {
     "name": "stderr",
     "output_type": "stream",
     "text": [
      "/home/wnixalo/miniconda3/envs/aersu/lib/python3.6/site-packages/keras_retinanet-0.0.1-py3.6.egg/keras_retinanet/preprocessing/generator.py:100: UserWarning: Image with id 4711 (shape (400, 400, 3)) contains the following invalid boxes: [array([ 63.,  34., 337., 402.,   0.])].\n",
      "  [annotations[invalid_index, :] for invalid_index in invalid_indices]\n"
     ]
    },
    {
     "name": "stdout",
     "output_type": "stream",
     "text": [
      "1905/3818 [=============>................] - ETA: 45:34 - loss: 2.4980 - regression_loss: 2.1325 - classification_loss: 0.3656"
     ]
    },
    {
     "name": "stderr",
     "output_type": "stream",
     "text": [
      "/home/wnixalo/miniconda3/envs/aersu/lib/python3.6/site-packages/keras_retinanet-0.0.1-py3.6.egg/keras_retinanet/preprocessing/generator.py:100: UserWarning: Image with id 7597 (shape (400, 400, 3)) contains the following invalid boxes: [array([ 55.,  76., 249., 403.,   0.])].\n",
      "  [annotations[invalid_index, :] for invalid_index in invalid_indices]\n"
     ]
    },
    {
     "name": "stdout",
     "output_type": "stream",
     "text": [
      "1949/3818 [==============>...............] - ETA: 44:31 - loss: 2.4824 - regression_loss: 2.1178 - classification_loss: 0.3646"
     ]
    },
    {
     "name": "stderr",
     "output_type": "stream",
     "text": [
      "/home/wnixalo/miniconda3/envs/aersu/lib/python3.6/site-packages/keras_retinanet-0.0.1-py3.6.egg/keras_retinanet/preprocessing/generator.py:100: UserWarning: Image with id 4763 (shape (400, 400, 3)) contains the following invalid boxes: [array([ 52.,  46., 344., 401.,   0.])].\n",
      "  [annotations[invalid_index, :] for invalid_index in invalid_indices]\n"
     ]
    },
    {
     "name": "stdout",
     "output_type": "stream",
     "text": [
      "1979/3818 [==============>...............] - ETA: 43:48 - loss: 2.4768 - regression_loss: 2.1120 - classification_loss: 0.3649"
     ]
    },
    {
     "name": "stderr",
     "output_type": "stream",
     "text": [
      "/home/wnixalo/miniconda3/envs/aersu/lib/python3.6/site-packages/keras_retinanet-0.0.1-py3.6.egg/keras_retinanet/preprocessing/generator.py:100: UserWarning: Image with id 6180 (shape (400, 400, 3)) contains the following invalid boxes: [array([139., 121., 296., 411.,   0.])].\n",
      "  [annotations[invalid_index, :] for invalid_index in invalid_indices]\n"
     ]
    },
    {
     "name": "stdout",
     "output_type": "stream",
     "text": [
      "1985/3818 [==============>...............] - ETA: 43:39 - loss: 2.4723 - regression_loss: 2.1083 - classification_loss: 0.3641"
     ]
    },
    {
     "name": "stderr",
     "output_type": "stream",
     "text": [
      "/home/wnixalo/miniconda3/envs/aersu/lib/python3.6/site-packages/keras_retinanet-0.0.1-py3.6.egg/keras_retinanet/preprocessing/generator.py:100: UserWarning: Image with id 2272 (shape (400, 400, 3)) contains the following invalid boxes: [array([137., 127., 328., 406.,   0.])].\n",
      "  [annotations[invalid_index, :] for invalid_index in invalid_indices]\n",
      "/home/wnixalo/miniconda3/envs/aersu/lib/python3.6/site-packages/keras_retinanet-0.0.1-py3.6.egg/keras_retinanet/preprocessing/generator.py:100: UserWarning: Image with id 2273 (shape (400, 400, 3)) contains the following invalid boxes: [array([139., 119., 327., 401.,   0.])].\n",
      "  [annotations[invalid_index, :] for invalid_index in invalid_indices]\n"
     ]
    },
    {
     "name": "stdout",
     "output_type": "stream",
     "text": [
      "2027/3818 [==============>...............] - ETA: 42:39 - loss: 2.4603 - regression_loss: 2.0978 - classification_loss: 0.3625"
     ]
    },
    {
     "name": "stderr",
     "output_type": "stream",
     "text": [
      "/home/wnixalo/miniconda3/envs/aersu/lib/python3.6/site-packages/keras_retinanet-0.0.1-py3.6.egg/keras_retinanet/preprocessing/generator.py:100: UserWarning: Image with id 6489 (shape (400, 400, 3)) contains the following invalid boxes: [array([ 17.,  41., 222., 405.,   0.])].\n",
      "  [annotations[invalid_index, :] for invalid_index in invalid_indices]\n"
     ]
    },
    {
     "name": "stdout",
     "output_type": "stream",
     "text": [
      "2095/3818 [===============>..............] - ETA: 41:02 - loss: 2.4381 - regression_loss: 2.0795 - classification_loss: 0.3587"
     ]
    },
    {
     "name": "stderr",
     "output_type": "stream",
     "text": [
      "/home/wnixalo/miniconda3/envs/aersu/lib/python3.6/site-packages/keras_retinanet-0.0.1-py3.6.egg/keras_retinanet/preprocessing/generator.py:100: UserWarning: Image with id 6257 (shape (400, 400, 3)) contains the following invalid boxes: [array([ 47.,   3., 398., 403.,   0.])].\n",
      "  [annotations[invalid_index, :] for invalid_index in invalid_indices]\n"
     ]
    },
    {
     "name": "stdout",
     "output_type": "stream",
     "text": [
      "2148/3818 [===============>..............] - ETA: 39:46 - loss: 2.4288 - regression_loss: 2.0674 - classification_loss: 0.3614"
     ]
    },
    {
     "name": "stderr",
     "output_type": "stream",
     "text": [
      "/home/wnixalo/miniconda3/envs/aersu/lib/python3.6/site-packages/keras_retinanet-0.0.1-py3.6.egg/keras_retinanet/preprocessing/generator.py:100: UserWarning: Image with id 2030 (shape (400, 400, 3)) contains the following invalid boxes: [array([168.,  83., 359., 402.,   0.])].\n",
      "  [annotations[invalid_index, :] for invalid_index in invalid_indices]\n"
     ]
    },
    {
     "name": "stdout",
     "output_type": "stream",
     "text": [
      "2251/3818 [================>.............] - ETA: 37:18 - loss: 2.3949 - regression_loss: 2.0400 - classification_loss: 0.3549"
     ]
    },
    {
     "name": "stderr",
     "output_type": "stream",
     "text": [
      "/home/wnixalo/miniconda3/envs/aersu/lib/python3.6/site-packages/keras_retinanet-0.0.1-py3.6.egg/keras_retinanet/preprocessing/generator.py:100: UserWarning: Image with id 4413 (shape (400, 400, 3)) contains the following invalid boxes: [array([174., 109., 267., 406.,   0.])].\n",
      "  [annotations[invalid_index, :] for invalid_index in invalid_indices]\n"
     ]
    },
    {
     "name": "stdout",
     "output_type": "stream",
     "text": [
      "2254/3818 [================>.............] - ETA: 37:14 - loss: 2.3938 - regression_loss: 2.0392 - classification_loss: 0.3546"
     ]
    },
    {
     "name": "stderr",
     "output_type": "stream",
     "text": [
      "/home/wnixalo/miniconda3/envs/aersu/lib/python3.6/site-packages/keras_retinanet-0.0.1-py3.6.egg/keras_retinanet/preprocessing/generator.py:100: UserWarning: Image with id 5803 (shape (400, 400, 3)) contains the following invalid boxes: [array([134.,  93., 225., 401.,   0.])].\n",
      "  [annotations[invalid_index, :] for invalid_index in invalid_indices]\n"
     ]
    },
    {
     "name": "stdout",
     "output_type": "stream",
     "text": [
      "2259/3818 [================>.............] - ETA: 37:07 - loss: 2.3917 - regression_loss: 2.0375 - classification_loss: 0.3542"
     ]
    },
    {
     "name": "stderr",
     "output_type": "stream",
     "text": [
      "/home/wnixalo/miniconda3/envs/aersu/lib/python3.6/site-packages/keras_retinanet-0.0.1-py3.6.egg/keras_retinanet/preprocessing/generator.py:100: UserWarning: Image with id 6294 (shape (400, 400, 3)) contains the following invalid boxes: [array([ 66.,   0., 383., 401.,   0.])].\n",
      "  [annotations[invalid_index, :] for invalid_index in invalid_indices]\n"
     ]
    },
    {
     "name": "stdout",
     "output_type": "stream",
     "text": [
      "2271/3818 [================>.............] - ETA: 36:50 - loss: 2.3877 - regression_loss: 2.0331 - classification_loss: 0.3547"
     ]
    },
    {
     "name": "stderr",
     "output_type": "stream",
     "text": [
      "/home/wnixalo/miniconda3/envs/aersu/lib/python3.6/site-packages/keras_retinanet-0.0.1-py3.6.egg/keras_retinanet/preprocessing/generator.py:100: UserWarning: Image with id 5694 (shape (400, 400, 3)) contains the following invalid boxes: [array([110.,  82., 300., 401.,   0.])].\n",
      "  [annotations[invalid_index, :] for invalid_index in invalid_indices]\n"
     ]
    },
    {
     "name": "stdout",
     "output_type": "stream",
     "text": [
      "2278/3818 [================>.............] - ETA: 36:40 - loss: 2.3855 - regression_loss: 2.0311 - classification_loss: 0.3544"
     ]
    },
    {
     "name": "stderr",
     "output_type": "stream",
     "text": [
      "/home/wnixalo/miniconda3/envs/aersu/lib/python3.6/site-packages/keras_retinanet-0.0.1-py3.6.egg/keras_retinanet/preprocessing/generator.py:100: UserWarning: Image with id 4756 (shape (400, 400, 3)) contains the following invalid boxes: [array([ 60.,  29., 345., 401.,   0.])].\n",
      "  [annotations[invalid_index, :] for invalid_index in invalid_indices]\n",
      "/home/wnixalo/miniconda3/envs/aersu/lib/python3.6/site-packages/keras_retinanet-0.0.1-py3.6.egg/keras_retinanet/preprocessing/generator.py:100: UserWarning: Image with id 4757 (shape (400, 400, 3)) contains the following invalid boxes: [array([ 66.,  40., 344., 401.,   0.])].\n",
      "  [annotations[invalid_index, :] for invalid_index in invalid_indices]\n"
     ]
    },
    {
     "name": "stdout",
     "output_type": "stream",
     "text": [
      "2297/3818 [=================>............] - ETA: 36:13 - loss: 2.3817 - regression_loss: 2.0250 - classification_loss: 0.3567"
     ]
    },
    {
     "name": "stderr",
     "output_type": "stream",
     "text": [
      "/home/wnixalo/miniconda3/envs/aersu/lib/python3.6/site-packages/keras_retinanet-0.0.1-py3.6.egg/keras_retinanet/preprocessing/generator.py:100: UserWarning: Image with id 6421 (shape (400, 400, 3)) contains the following invalid boxes: [array([ 21.,   8., 359., 401.,   0.])].\n",
      "  [annotations[invalid_index, :] for invalid_index in invalid_indices]\n"
     ]
    },
    {
     "name": "stdout",
     "output_type": "stream",
     "text": [
      "2351/3818 [=================>............] - ETA: 34:55 - loss: 2.3662 - regression_loss: 2.0113 - classification_loss: 0.3549"
     ]
    },
    {
     "name": "stderr",
     "output_type": "stream",
     "text": [
      "/home/wnixalo/miniconda3/envs/aersu/lib/python3.6/site-packages/keras_retinanet-0.0.1-py3.6.egg/keras_retinanet/preprocessing/generator.py:100: UserWarning: Image with id 4582 (shape (400, 400, 3)) contains the following invalid boxes: [array([  5., 258., 404., 402.,   0.])].\n",
      "  [annotations[invalid_index, :] for invalid_index in invalid_indices]\n"
     ]
    },
    {
     "name": "stdout",
     "output_type": "stream",
     "text": [
      "2372/3818 [=================>............] - ETA: 34:25 - loss: 2.3623 - regression_loss: 2.0063 - classification_loss: 0.3560"
     ]
    },
    {
     "name": "stderr",
     "output_type": "stream",
     "text": [
      "/home/wnixalo/miniconda3/envs/aersu/lib/python3.6/site-packages/keras_retinanet-0.0.1-py3.6.egg/keras_retinanet/preprocessing/generator.py:100: UserWarning: Image with id 6376 (shape (400, 400, 3)) contains the following invalid boxes: [array([184.,  49., 401., 393.,   0.])].\n",
      "  [annotations[invalid_index, :] for invalid_index in invalid_indices]\n"
     ]
    },
    {
     "name": "stdout",
     "output_type": "stream",
     "text": [
      "2415/3818 [=================>............] - ETA: 33:24 - loss: 2.3490 - regression_loss: 1.9944 - classification_loss: 0.3546"
     ]
    },
    {
     "name": "stderr",
     "output_type": "stream",
     "text": [
      "/home/wnixalo/miniconda3/envs/aersu/lib/python3.6/site-packages/keras_retinanet-0.0.1-py3.6.egg/keras_retinanet/preprocessing/generator.py:100: UserWarning: Image with id 4742 (shape (400, 400, 3)) contains the following invalid boxes: [array([ 60.,  33., 342., 403.,   0.])].\n",
      "  [annotations[invalid_index, :] for invalid_index in invalid_indices]\n"
     ]
    },
    {
     "name": "stdout",
     "output_type": "stream",
     "text": [
      "2420/3818 [==================>...........] - ETA: 33:17 - loss: 2.3471 - regression_loss: 1.9930 - classification_loss: 0.3541"
     ]
    },
    {
     "name": "stderr",
     "output_type": "stream",
     "text": [
      "/home/wnixalo/miniconda3/envs/aersu/lib/python3.6/site-packages/keras_retinanet-0.0.1-py3.6.egg/keras_retinanet/preprocessing/generator.py:100: UserWarning: Image with id 5721 (shape (400, 400, 3)) contains the following invalid boxes: [array([138., 129., 227., 405.,   0.])].\n",
      "  [annotations[invalid_index, :] for invalid_index in invalid_indices]\n"
     ]
    },
    {
     "name": "stdout",
     "output_type": "stream",
     "text": [
      "2443/3818 [==================>...........] - ETA: 32:44 - loss: 2.3422 - regression_loss: 1.9878 - classification_loss: 0.3543"
     ]
    },
    {
     "name": "stderr",
     "output_type": "stream",
     "text": [
      "/home/wnixalo/miniconda3/envs/aersu/lib/python3.6/site-packages/keras_retinanet-0.0.1-py3.6.egg/keras_retinanet/preprocessing/generator.py:100: UserWarning: Image with id 4431 (shape (400, 400, 3)) contains the following invalid boxes: [array([176., 113., 262., 406.,   0.])].\n",
      "  [annotations[invalid_index, :] for invalid_index in invalid_indices]\n"
     ]
    },
    {
     "name": "stdout",
     "output_type": "stream",
     "text": [
      "2473/3818 [==================>...........] - ETA: 32:01 - loss: 2.3347 - regression_loss: 1.9813 - classification_loss: 0.3534"
     ]
    },
    {
     "name": "stderr",
     "output_type": "stream",
     "text": [
      "/home/wnixalo/miniconda3/envs/aersu/lib/python3.6/site-packages/keras_retinanet-0.0.1-py3.6.egg/keras_retinanet/preprocessing/generator.py:100: UserWarning: Image with id 2409 (shape (400, 400, 3)) contains the following invalid boxes: [array([143., 127., 337., 406.,   0.])].\n",
      "  [annotations[invalid_index, :] for invalid_index in invalid_indices]\n"
     ]
    },
    {
     "name": "stdout",
     "output_type": "stream",
     "text": [
      "2575/3818 [===================>..........] - ETA: 29:35 - loss: 2.3109 - regression_loss: 1.9600 - classification_loss: 0.3509"
     ]
    },
    {
     "name": "stderr",
     "output_type": "stream",
     "text": [
      "/home/wnixalo/miniconda3/envs/aersu/lib/python3.6/site-packages/keras_retinanet-0.0.1-py3.6.egg/keras_retinanet/preprocessing/generator.py:100: UserWarning: Image with id 4463 (shape (400, 400, 3)) contains the following invalid boxes: [array([157., 110., 259., 408.,   0.])].\n",
      "  [annotations[invalid_index, :] for invalid_index in invalid_indices]\n"
     ]
    },
    {
     "name": "stdout",
     "output_type": "stream",
     "text": [
      "2594/3818 [===================>..........] - ETA: 29:08 - loss: 2.3080 - regression_loss: 1.9574 - classification_loss: 0.3506"
     ]
    },
    {
     "name": "stderr",
     "output_type": "stream",
     "text": [
      "/home/wnixalo/miniconda3/envs/aersu/lib/python3.6/site-packages/keras_retinanet-0.0.1-py3.6.egg/keras_retinanet/preprocessing/generator.py:100: UserWarning: Image with id 6054 (shape (400, 400, 3)) contains the following invalid boxes: [array([ 38., 146., 318., 402.,   0.])].\n",
      "  [annotations[invalid_index, :] for invalid_index in invalid_indices]\n"
     ]
    },
    {
     "name": "stdout",
     "output_type": "stream",
     "text": [
      "2733/3818 [====================>.........] - ETA: 25:49 - loss: 2.2773 - regression_loss: 1.9319 - classification_loss: 0.3454"
     ]
    },
    {
     "name": "stderr",
     "output_type": "stream",
     "text": [
      "/home/wnixalo/miniconda3/envs/aersu/lib/python3.6/site-packages/keras_retinanet-0.0.1-py3.6.egg/keras_retinanet/preprocessing/generator.py:100: UserWarning: Image with id 4805 (shape (400, 400, 3)) contains the following invalid boxes: [array([ 40.,  45., 346., 402.,   0.])].\n",
      "  [annotations[invalid_index, :] for invalid_index in invalid_indices]\n"
     ]
    },
    {
     "name": "stdout",
     "output_type": "stream",
     "text": [
      "2800/3818 [=====================>........] - ETA: 24:14 - loss: 2.2582 - regression_loss: 1.9162 - classification_loss: 0.3420"
     ]
    },
    {
     "name": "stderr",
     "output_type": "stream",
     "text": [
      "/home/wnixalo/miniconda3/envs/aersu/lib/python3.6/site-packages/keras_retinanet-0.0.1-py3.6.egg/keras_retinanet/preprocessing/generator.py:100: UserWarning: Image with id 2410 (shape (400, 400, 3)) contains the following invalid boxes: [array([144., 132., 337., 408.,   0.])].\n",
      "  [annotations[invalid_index, :] for invalid_index in invalid_indices]\n"
     ]
    },
    {
     "name": "stdout",
     "output_type": "stream",
     "text": [
      "2911/3818 [=====================>........] - ETA: 21:35 - loss: 2.2300 - regression_loss: 1.8930 - classification_loss: 0.3370"
     ]
    },
    {
     "name": "stderr",
     "output_type": "stream",
     "text": [
      "/home/wnixalo/miniconda3/envs/aersu/lib/python3.6/site-packages/keras_retinanet-0.0.1-py3.6.egg/keras_retinanet/preprocessing/generator.py:100: UserWarning: Image with id 6430 (shape (400, 400, 3)) contains the following invalid boxes: [array([238.,  51., 403., 397.,   0.])].\n",
      "  [annotations[invalid_index, :] for invalid_index in invalid_indices]\n"
     ]
    },
    {
     "name": "stdout",
     "output_type": "stream",
     "text": [
      "2974/3818 [======================>.......] - ETA: 20:05 - loss: 2.2094 - regression_loss: 1.8759 - classification_loss: 0.3334"
     ]
    },
    {
     "name": "stderr",
     "output_type": "stream",
     "text": [
      "/home/wnixalo/miniconda3/envs/aersu/lib/python3.6/site-packages/keras_retinanet-0.0.1-py3.6.egg/keras_retinanet/preprocessing/generator.py:100: UserWarning: Image with id 3642 (shape (400, 400, 3)) contains the following invalid boxes: [array([ 33.,   9., 376., 411.,   0.])].\n",
      "  [annotations[invalid_index, :] for invalid_index in invalid_indices]\n"
     ]
    },
    {
     "name": "stdout",
     "output_type": "stream",
     "text": [
      "3029/3818 [======================>.......] - ETA: 18:46 - loss: 2.1997 - regression_loss: 1.8667 - classification_loss: 0.3329"
     ]
    },
    {
     "name": "stderr",
     "output_type": "stream",
     "text": [
      "/home/wnixalo/miniconda3/envs/aersu/lib/python3.6/site-packages/keras_retinanet-0.0.1-py3.6.egg/keras_retinanet/preprocessing/generator.py:100: UserWarning: Image with id 5690 (shape (400, 400, 3)) contains the following invalid boxes: [array([ 59., 129., 316., 401.,   0.])].\n",
      "  [annotations[invalid_index, :] for invalid_index in invalid_indices]\n",
      "/home/wnixalo/miniconda3/envs/aersu/lib/python3.6/site-packages/keras_retinanet-0.0.1-py3.6.egg/keras_retinanet/preprocessing/generator.py:100: UserWarning: Image with id 5691 (shape (400, 400, 3)) contains the following invalid boxes: [array([ 63., 130., 314., 402.,   0.])].\n",
      "  [annotations[invalid_index, :] for invalid_index in invalid_indices]\n"
     ]
    },
    {
     "name": "stdout",
     "output_type": "stream",
     "text": [
      "3067/3818 [=======================>......] - ETA: 17:52 - loss: 2.1955 - regression_loss: 1.8591 - classification_loss: 0.3365"
     ]
    },
    {
     "name": "stderr",
     "output_type": "stream",
     "text": [
      "/home/wnixalo/miniconda3/envs/aersu/lib/python3.6/site-packages/keras_retinanet-0.0.1-py3.6.egg/keras_retinanet/preprocessing/generator.py:100: UserWarning: Image with id 6438 (shape (400, 400, 3)) contains the following invalid boxes: [array([ 26.,  10., 343., 401.,   0.])].\n",
      "  [annotations[invalid_index, :] for invalid_index in invalid_indices]\n"
     ]
    },
    {
     "name": "stdout",
     "output_type": "stream",
     "text": [
      "3115/3818 [=======================>......] - ETA: 16:44 - loss: 2.1839 - regression_loss: 1.8491 - classification_loss: 0.3349"
     ]
    },
    {
     "name": "stderr",
     "output_type": "stream",
     "text": [
      "/home/wnixalo/miniconda3/envs/aersu/lib/python3.6/site-packages/keras_retinanet-0.0.1-py3.6.egg/keras_retinanet/preprocessing/generator.py:100: UserWarning: Image with id 2269 (shape (400, 400, 3)) contains the following invalid boxes: [array([136., 130., 331., 409.,   0.])].\n",
      "  [annotations[invalid_index, :] for invalid_index in invalid_indices]\n"
     ]
    },
    {
     "name": "stdout",
     "output_type": "stream",
     "text": [
      "3140/3818 [=======================>......] - ETA: 16:08 - loss: 2.1795 - regression_loss: 1.8452 - classification_loss: 0.3343"
     ]
    },
    {
     "name": "stderr",
     "output_type": "stream",
     "text": [
      "/home/wnixalo/miniconda3/envs/aersu/lib/python3.6/site-packages/keras_retinanet-0.0.1-py3.6.egg/keras_retinanet/preprocessing/generator.py:100: UserWarning: Image with id 3706 (shape (400, 400, 3)) contains the following invalid boxes: [array([ 88.,  41., 268., 401.,   0.])].\n",
      "  [annotations[invalid_index, :] for invalid_index in invalid_indices]\n"
     ]
    },
    {
     "name": "stdout",
     "output_type": "stream",
     "text": [
      "3142/3818 [=======================>......] - ETA: 16:05 - loss: 2.1790 - regression_loss: 1.8448 - classification_loss: 0.3342"
     ]
    },
    {
     "name": "stderr",
     "output_type": "stream",
     "text": [
      "/home/wnixalo/miniconda3/envs/aersu/lib/python3.6/site-packages/keras_retinanet-0.0.1-py3.6.egg/keras_retinanet/preprocessing/generator.py:100: UserWarning: Image with id 6135 (shape (400, 400, 3)) contains the following invalid boxes: [array([118., 129., 341., 401.,   0.])].\n",
      "  [annotations[invalid_index, :] for invalid_index in invalid_indices]\n"
     ]
    },
    {
     "name": "stdout",
     "output_type": "stream",
     "text": [
      "3326/3818 [=========================>....] - ETA: 11:42 - loss: 2.1441 - regression_loss: 1.8153 - classification_loss: 0.3288"
     ]
    },
    {
     "name": "stderr",
     "output_type": "stream",
     "text": [
      "/home/wnixalo/miniconda3/envs/aersu/lib/python3.6/site-packages/keras_retinanet-0.0.1-py3.6.egg/keras_retinanet/preprocessing/generator.py:100: UserWarning: Image with id 4737 (shape (400, 400, 3)) contains the following invalid boxes: [array([ 63.,  22., 343., 401.,   0.])].\n",
      "  [annotations[invalid_index, :] for invalid_index in invalid_indices]\n"
     ]
    },
    {
     "name": "stdout",
     "output_type": "stream",
     "text": [
      "3427/3818 [=========================>....] - ETA: 9:18 - loss: 2.1253 - regression_loss: 1.7976 - classification_loss: 0.3276"
     ]
    },
    {
     "name": "stderr",
     "output_type": "stream",
     "text": [
      "/home/wnixalo/miniconda3/envs/aersu/lib/python3.6/site-packages/keras_retinanet-0.0.1-py3.6.egg/keras_retinanet/preprocessing/generator.py:100: UserWarning: Image with id 6015 (shape (400, 400, 3)) contains the following invalid boxes: [array([ 23., 245., 383., 402.,   0.])].\n",
      "  [annotations[invalid_index, :] for invalid_index in invalid_indices]\n"
     ]
    },
    {
     "name": "stdout",
     "output_type": "stream",
     "text": [
      "3433/3818 [=========================>....] - ETA: 9:09 - loss: 2.1241 - regression_loss: 1.7967 - classification_loss: 0.3274"
     ]
    },
    {
     "name": "stderr",
     "output_type": "stream",
     "text": [
      "/home/wnixalo/miniconda3/envs/aersu/lib/python3.6/site-packages/keras_retinanet-0.0.1-py3.6.egg/keras_retinanet/preprocessing/generator.py:100: UserWarning: Image with id 4732 (shape (400, 400, 3)) contains the following invalid boxes: [array([ 61.,  41., 337., 401.,   0.])].\n",
      "  [annotations[invalid_index, :] for invalid_index in invalid_indices]\n"
     ]
    },
    {
     "name": "stdout",
     "output_type": "stream",
     "text": [
      "3490/3818 [==========================>...] - ETA: 7:48 - loss: 2.1141 - regression_loss: 1.7883 - classification_loss: 0.3259"
     ]
    },
    {
     "name": "stderr",
     "output_type": "stream",
     "text": [
      "/home/wnixalo/miniconda3/envs/aersu/lib/python3.6/site-packages/keras_retinanet-0.0.1-py3.6.egg/keras_retinanet/preprocessing/generator.py:100: UserWarning: Image with id 6271 (shape (400, 400, 3)) contains the following invalid boxes: [array([ 51.,  49., 368., 404.,   0.])].\n",
      "  [annotations[invalid_index, :] for invalid_index in invalid_indices]\n"
     ]
    },
    {
     "name": "stdout",
     "output_type": "stream",
     "text": [
      "3504/3818 [==========================>...] - ETA: 7:28 - loss: 2.1123 - regression_loss: 1.7867 - classification_loss: 0.3256"
     ]
    },
    {
     "name": "stderr",
     "output_type": "stream",
     "text": [
      "/home/wnixalo/miniconda3/envs/aersu/lib/python3.6/site-packages/keras_retinanet-0.0.1-py3.6.egg/keras_retinanet/preprocessing/generator.py:100: UserWarning: Image with id 4566 (shape (400, 400, 3)) contains the following invalid boxes: [array([ 18., 116., 405., 389.,   0.])].\n",
      "  [annotations[invalid_index, :] for invalid_index in invalid_indices]\n"
     ]
    },
    {
     "name": "stdout",
     "output_type": "stream",
     "text": [
      "3546/3818 [==========================>...] - ETA: 6:28 - loss: 2.1042 - regression_loss: 1.7798 - classification_loss: 0.3244"
     ]
    },
    {
     "name": "stderr",
     "output_type": "stream",
     "text": [
      "/home/wnixalo/miniconda3/envs/aersu/lib/python3.6/site-packages/keras_retinanet-0.0.1-py3.6.egg/keras_retinanet/preprocessing/generator.py:100: UserWarning: Image with id 4042 (shape (400, 400, 3)) contains the following invalid boxes: [array([ 90.,  49., 339., 406.,   0.])].\n",
      "  [annotations[invalid_index, :] for invalid_index in invalid_indices]\n"
     ]
    },
    {
     "name": "stdout",
     "output_type": "stream",
     "text": [
      "3674/3818 [===========================>..] - ETA: 3:25 - loss: 2.0825 - regression_loss: 1.7622 - classification_loss: 0.3203"
     ]
    },
    {
     "name": "stderr",
     "output_type": "stream",
     "text": [
      "/home/wnixalo/miniconda3/envs/aersu/lib/python3.6/site-packages/keras_retinanet-0.0.1-py3.6.egg/keras_retinanet/preprocessing/generator.py:100: UserWarning: Image with id 4734 (shape (400, 400, 3)) contains the following invalid boxes: [array([ 59.,  33., 341., 401.,   0.])].\n",
      "  [annotations[invalid_index, :] for invalid_index in invalid_indices]\n"
     ]
    },
    {
     "name": "stdout",
     "output_type": "stream",
     "text": [
      "3688/3818 [===========================>..] - ETA: 3:05 - loss: 2.0814 - regression_loss: 1.7598 - classification_loss: 0.3216"
     ]
    },
    {
     "name": "stderr",
     "output_type": "stream",
     "text": [
      "/home/wnixalo/miniconda3/envs/aersu/lib/python3.6/site-packages/keras_retinanet-0.0.1-py3.6.egg/keras_retinanet/preprocessing/generator.py:100: UserWarning: Image with id 3849 (shape (400, 400, 3)) contains the following invalid boxes: [array([101.,  61., 289., 402.,   0.])].\n",
      "  [annotations[invalid_index, :] for invalid_index in invalid_indices]\n"
     ]
    },
    {
     "name": "stdout",
     "output_type": "stream",
     "text": [
      "3808/3818 [============================>.] - ETA: 14s - loss: 2.0587 - regression_loss: 1.7408 - classification_loss: 0.3179"
     ]
    },
    {
     "name": "stderr",
     "output_type": "stream",
     "text": [
      "/home/wnixalo/miniconda3/envs/aersu/lib/python3.6/site-packages/keras_retinanet-0.0.1-py3.6.egg/keras_retinanet/preprocessing/generator.py:100: UserWarning: Image with id 1433 (shape (400, 400, 3)) contains the following invalid boxes: [array([  6.,   0., 401., 373.,   0.])].\n",
      "  [annotations[invalid_index, :] for invalid_index in invalid_indices]\n"
     ]
    },
    {
     "name": "stdout",
     "output_type": "stream",
     "text": [
      "3818/3818 [==============================] - 5452s 1s/step - loss: 2.0578 - regression_loss: 1.7402 - classification_loss: 0.3176\n"
     ]
    },
    {
     "data": {
      "text/plain": [
       "<keras.callbacks.History at 0x7f17b25eb080>"
      ]
     },
     "execution_count": 10,
     "metadata": {},
     "output_type": "execute_result"
    }
   ],
   "source": [
    "trainer_model.fit_generator(generator = datagen,\n",
    "                            steps_per_epoch = steps_per_epoch, # eh?\n",
    "                            epochs    = 1,\n",
    "                            verbose   = 1,)"
   ]
  },
  {
   "cell_type": "markdown",
   "metadata": {},
   "source": [
    "[How to save a Keras model (or just arch, or just weights)](https://keras.io/getting-started/faq/#how-can-i-save-a-keras-model)\n",
    "\n",
    "If training the trainer_model affects model and the prediction_model ... then that means I just have to save the weights of the trainer_model right? I can initialize them all blank like above, then load in the weights, no?\n",
    "\n",
    "Although for usage in the detector, I need to save the entire model + weights. This is really unnecessarily confusing and makes me long for PyTorch/Fastai."
   ]
  },
  {
   "cell_type": "code",
   "execution_count": 11,
   "metadata": {},
   "outputs": [],
   "source": [
    "model.save('retinanet_model_01.h5')\n",
    "trainer_model.save('retinanet_trainer_model_01.h5')\n",
    "predictor_model.save('retinanet_predictor_model_01.h5')"
   ]
  },
  {
   "cell_type": "markdown",
   "metadata": {},
   "source": [
    "## 3. Testing & Visualization"
   ]
  },
  {
   "cell_type": "code",
   "execution_count": 12,
   "metadata": {},
   "outputs": [],
   "source": [
    "test_image_path = 'data/interstage_train/000000-000412/000001.jpg' # or script for random impath\n",
    "test_image = cv2.imread(test_image_path)\n",
    "\n",
    "prediction = predictor_model.predict_on_batch(np.expand_dims(test_image, axis=0))"
   ]
  },
  {
   "cell_type": "code",
   "execution_count": 13,
   "metadata": {},
   "outputs": [],
   "source": [
    "# preprocess image for neural network\n",
    "image = preprocess_image(test_image)\n",
    "image, scale = resize_image(image)\n",
    "\n",
    "# detect on image\n",
    "_,_,detections = model.predict_on_batch(np.expand_dims(image, axis=0))\n",
    "\n",
    "# compute predicted labels and scores\n",
    "detected_label = np.argmax(detections[0,:,4:], axis=1)\n",
    "scores         = detections[0, np.arange(detections.shape[1]), 4 + detected_label]\n",
    "\n",
    "# correct for image scale\n",
    "detections[0,:,:4] /= scale"
   ]
  },
  {
   "cell_type": "code",
   "execution_count": 14,
   "metadata": {},
   "outputs": [
    {
     "data": {
      "text/plain": [
       "array([-12.395554,  -4.907556,  17.903448,  10.321588], dtype=float32)"
      ]
     },
     "execution_count": 14,
     "metadata": {},
     "output_type": "execute_result"
    }
   ],
   "source": [
    "bbx = detections[0, 0, :4]\n",
    "bbx"
   ]
  },
  {
   "cell_type": "markdown",
   "metadata": {},
   "source": [
    "This isn't really working..."
   ]
  },
  {
   "cell_type": "code",
   "execution_count": null,
   "metadata": {},
   "outputs": [],
   "source": []
  }
 ],
 "metadata": {
  "kernelspec": {
   "display_name": "Python 3 (Aersu)",
   "language": "python",
   "name": "aersu"
  },
  "language_info": {
   "codemirror_mode": {
    "name": "ipython",
    "version": 3
   },
   "file_extension": ".py",
   "mimetype": "text/x-python",
   "name": "python",
   "nbconvert_exporter": "python",
   "pygments_lexer": "ipython3",
   "version": "3.6.4"
  }
 },
 "nbformat": 4,
 "nbformat_minor": 2
}
