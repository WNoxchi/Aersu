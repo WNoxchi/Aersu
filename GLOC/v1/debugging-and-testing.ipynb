{
 "cells": [
  {
   "cell_type": "markdown",
   "metadata": {},
   "source": [
    "`2018-Jan-15 10:40`\n",
    "`Wayne Nixalo`\n",
    "\n",
    "Trying to find out why a loop in `cropper.py` keeps skipping filenames `000001` and `000003` when just running through, but prints them later."
   ]
  },
  {
   "cell_type": "code",
   "execution_count": 1,
   "metadata": {},
   "outputs": [],
   "source": [
    "import numpy as np\n",
    "import pandas as pd\n",
    "import os"
   ]
  },
  {
   "cell_type": "code",
   "execution_count": 2,
   "metadata": {},
   "outputs": [],
   "source": [
    "tpath = 'data/train/'\n",
    "tempath = 'data/tmp/'\n",
    "# rejectpath = tempath + 'reject/'\n",
    "folders = os.listdir(tpath)\n",
    "folders.sort()  # subfolders are numerically ordered\n",
    "if '.DS_Store' in folders:\n",
    "    folders.remove('.DS_Store')\n",
    "\n",
    "# create destination folder if needed\n",
    "if not os.path.exists(tempath):\n",
    "    os.mkdir(tempath)\n",
    "    clean_start = True\n",
    "    last_fname = -1\n",
    "else:\n",
    "    # find starting point if quit before\n",
    "    #NOTE: requires deletion of CSVs if tmp/ data deleted! otherwise will skip\n",
    "    clean_start = False\n",
    "    interstage_csvs = [csv_fname for csv_fname in os.listdir('data/') if 'interstage_labels-' in csv_fname]\n",
    "    interstage_csvs.sort()\n",
    "    last_csv = pd.read_csv('data/' + max(interstage_csvs))\n",
    "    # find last recorded filename\n",
    "    last_fpath = last_csv['id'].iloc[-1]\n",
    "    last_folder, last_fname = last_fpath.split('/')\n",
    "    # remove all folders before last\n",
    "    for idx,folder in enumerate(folders):\n",
    "        if folder < last_folder:\n",
    "            folders.pop(idx)"
   ]
  },
  {
   "cell_type": "code",
   "execution_count": 10,
   "metadata": {},
   "outputs": [
    {
     "name": "stdout",
     "output_type": "stream",
     "text": [
      "clean_start: False, \n",
      "interstage_csvs: ['interstage_labels-000000-000002.csv', 'interstage_labels-000003-000003.csv'], \n",
      "last_csv:                          id   x1   y1   x2   y2\n",
      "0  000000-000412/000001.jpg  200  272  244  377\n",
      "1  000000-000412/000003.jpg   12  122  147  388, \n",
      "last_fpath: 000000-000412/000003.jpg, \n",
      "last_folder: 000000-000412, \n",
      "last_fname: 000003.jpg, \n",
      "folders: ['000000-000412', '000413-000569', '000570-001189', '001190-001434', '001435-001882', '001883-002438', '002439-003316', '003317-003603', '003604-003904', '003905-004151', '004152-004401', '004402-004684', '004685-005105', '005106-005451', '005452-005591', '005592-006111', '006112-006241', '006242-006439', '006440-006548', '006549-006672', '006673-006860', '006861-007364', '007365-007636']\n"
     ]
    }
   ],
   "source": [
    "print(f'clean_start: {clean_start}, \\n'\n",
    "      f'interstage_csvs: {interstage_csvs}, \\n'\n",
    "      f'last_csv: {last_csv}, \\n'\n",
    "      f'last_fpath: {last_fpath}, \\n'\n",
    "      f'last_folder: {last_folder}, \\n'\n",
    "      f'last_fname: {last_fname}, \\n'\n",
    "      f'folders: {folders}')"
   ]
  },
  {
   "cell_type": "markdown",
   "metadata": {},
   "source": [
    "So, looking at this, the last filename is `000003.jpg`, so all files 0-3 should be removed from the filenames list."
   ]
  },
  {
   "cell_type": "code",
   "execution_count": 11,
   "metadata": {},
   "outputs": [],
   "source": [
    "# folder of interest is the first\n",
    "folder = folders[0]"
   ]
  },
  {
   "cell_type": "code",
   "execution_count": 12,
   "metadata": {},
   "outputs": [],
   "source": [
    "# build filenames list by looking at the folder's directory\n",
    "fnames = os.listdir(tpath + folder)\n",
    "fnames.sort()"
   ]
  },
  {
   "cell_type": "code",
   "execution_count": 18,
   "metadata": {},
   "outputs": [
    {
     "data": {
      "text/plain": [
       "['000000.jpg', '000001.jpg', '000002.jpg', '000003.jpg', '000004.jpg']"
      ]
     },
     "execution_count": 18,
     "metadata": {},
     "output_type": "execute_result"
    }
   ],
   "source": [
    "fnames[:5] # we can see the first 5 filenames, including 0-3"
   ]
  },
  {
   "cell_type": "code",
   "execution_count": 20,
   "metadata": {},
   "outputs": [
    {
     "name": "stdout",
     "output_type": "stream",
     "text": [
      "000000.jpg 000003.jpg 0\n",
      "000001.jpg 000003.jpg 1\n",
      "000002.jpg 000003.jpg 2\n",
      "000003.jpg 000003.jpg 3\n"
     ]
    }
   ],
   "source": [
    "# remove all filenames before last in the 1st folder if not a fresh start\n",
    "if not clean_start and folder == last_folder:\n",
    "    for idx, fname in enumerate(fnames):\n",
    "#         print(fname, last_fname)\n",
    "        if fname <= last_fname:\n",
    "            print(fname, last_fname, idx)\n",
    "#             fnames.pop(idx)"
   ]
  },
  {
   "cell_type": "markdown",
   "metadata": {},
   "source": [
    "Okay, that's how it's supposed to work. But that's not what I've seen."
   ]
  },
  {
   "cell_type": "code",
   "execution_count": 21,
   "metadata": {},
   "outputs": [
    {
     "name": "stdout",
     "output_type": "stream",
     "text": [
      "000000.jpg 000003.jpg 0\n",
      "000002.jpg 000003.jpg 1\n",
      "['000001.jpg', '000003.jpg', '000004.jpg', '000005.jpg', '000006.jpg']\n"
     ]
    }
   ],
   "source": [
    "if not clean_start and folder == last_folder:\n",
    "    for idx, fname in enumerate(fnames):\n",
    "        if fname <= last_fname:\n",
    "            print(fname, last_fname, idx)\n",
    "            fnames.pop(idx)\n",
    "print(fnames[:5])"
   ]
  },
  {
   "cell_type": "markdown",
   "metadata": {},
   "source": [
    "That's the issue. So are `000001.jpg` and `000003.jpg` not seen as less than `000003.jpg`?"
   ]
  },
  {
   "cell_type": "code",
   "execution_count": 22,
   "metadata": {},
   "outputs": [
    {
     "data": {
      "text/plain": [
       "(True, True)"
      ]
     },
     "execution_count": 22,
     "metadata": {},
     "output_type": "execute_result"
    }
   ],
   "source": [
    "'000001.jpg' <= '000003.jpg', '000003.jpg' <= '000003.jpg'"
   ]
  },
  {
   "cell_type": "markdown",
   "metadata": {},
   "source": [
    "They are. So then the condition should trigger and they should be removed from the list... Why not?"
   ]
  },
  {
   "cell_type": "code",
   "execution_count": 24,
   "metadata": {},
   "outputs": [
    {
     "name": "stdout",
     "output_type": "stream",
     "text": [
      "000001.jpg ≤ 000003.jpg | 0\n",
      "000003.jpg ≤ 000003.jpg | 1\n",
      "000004.jpg > 000003.jpg | 2\n",
      "000005.jpg > 000003.jpg | 3\n",
      "000006.jpg > 000003.jpg | 4\n"
     ]
    }
   ],
   "source": [
    "for idx, fname in enumerate(fnames[:5]):\n",
    "    if fname <= last_fname:\n",
    "        print(f'{fname} ≤ {last_fname} | {idx}')\n",
    "    else:\n",
    "        print(f'{fname} > {last_fname} | {idx}')"
   ]
  },
  {
   "cell_type": "markdown",
   "metadata": {},
   "source": [
    "So it works now. But it didn't work just before. And I did the same thing. I am missing something.\n",
    "\n",
    "I'm going to restart and step through this carefully."
   ]
  },
  {
   "cell_type": "code",
   "execution_count": 28,
   "metadata": {},
   "outputs": [
    {
     "data": {
      "text/plain": [
       "['000000.jpg', '000001.jpg', '000002.jpg', '000003.jpg', '000004.jpg']"
      ]
     },
     "execution_count": 28,
     "metadata": {},
     "output_type": "execute_result"
    }
   ],
   "source": [
    "fnames = os.listdir(tpath+folder)\n",
    "fnames.sort()\n",
    "fnames[:5]"
   ]
  },
  {
   "cell_type": "code",
   "execution_count": 34,
   "metadata": {},
   "outputs": [
    {
     "name": "stdout",
     "output_type": "stream",
     "text": [
      "000000.jpg ≤ 000003.jpg | 0 -- removing 000000.jpg\n",
      "000001.jpg ≤ 000003.jpg | 1 -- removing 000002.jpg\n",
      "000002.jpg ≤ 000003.jpg | 2 -- removing 000004.jpg\n",
      "000003.jpg ≤ 000003.jpg | 3 -- removing 000006.jpg\n",
      "000004.jpg > 000003.jpg | 4\n",
      "000005.jpg > 000003.jpg | 5\n",
      "000006.jpg > 000003.jpg | 6\n",
      "000007.jpg > 000003.jpg | 7\n",
      "000008.jpg > 000003.jpg | 8\n",
      "000009.jpg > 000003.jpg | 9\n",
      "000010.jpg > 000003.jpg | 10\n",
      "000011.jpg > 000003.jpg | 11\n",
      "000012.jpg > 000003.jpg | 12\n",
      "000013.jpg > 000003.jpg | 13\n",
      "000014.jpg > 000003.jpg | 14\n",
      "000015.jpg > 000003.jpg | 15\n",
      "000016.jpg > 000003.jpg | 16\n",
      "000017.jpg > 000003.jpg | 17\n",
      "000018.jpg > 000003.jpg | 18\n",
      "000019.jpg > 000003.jpg | 19\n"
     ]
    }
   ],
   "source": [
    "# copy of fnames\n",
    "fnames_copy = fnames.copy()\n",
    "\n",
    "if not clean_start and folder == last_folder:\n",
    "    for idx, fname in enumerate(fnames[:20]):\n",
    "        if fname <= last_fname:\n",
    "            popped = fnames_copy.pop(idx)\n",
    "            print(f'{fname} ≤ {last_fname} | {idx} -- removing {popped}')\n",
    "        else:\n",
    "            print(f'{fname} > {last_fname} | {idx}')"
   ]
  },
  {
   "cell_type": "code",
   "execution_count": 32,
   "metadata": {},
   "outputs": [
    {
     "data": {
      "text/plain": [
       "['000000.jpg', '000001.jpg', '000002.jpg', '000003.jpg', '000004.jpg']"
      ]
     },
     "execution_count": 32,
     "metadata": {},
     "output_type": "execute_result"
    }
   ],
   "source": [
    "fnames_copy = fnames.copy()\n",
    "fnames_copy[:5]"
   ]
  },
  {
   "cell_type": "code",
   "execution_count": 33,
   "metadata": {},
   "outputs": [
    {
     "data": {
      "text/plain": [
       "'000003.jpg'"
      ]
     },
     "execution_count": 33,
     "metadata": {},
     "output_type": "execute_result"
    }
   ],
   "source": [
    "fnames_copy.pop(3)"
   ]
  },
  {
   "cell_type": "markdown",
   "metadata": {},
   "source": [
    "I am a colossal fool. How exactly did I expect `.pop(index)` to work when the list shrinks each time it's called? The removal-by-index method won't work when your indices are changing. I have to use `.remove(element)` instead.\n",
    "\n",
    "**NOTE**. ohh. The `.remove` method also won't work, because it too is changing the size of the list. So (guessing) since `enumerate(.)` is an iterator, it gets the next item when it 'punches' the iterable (`fnames`). Neither `enumerate(.)` nor some magical Python service is holding on to the data of `fnames`, *that*  is `fnames`'s job as a variable... So when `fnames` is modified and `enumerate` punches it again for the next index,item pair, well you get the picture.\n",
    "\n",
    "This cost me about 30-40 minutes this morning, and at least 3, maybe 4+ hours last night.. Could *all* be fixed by just building a list of indices. Alrighty. Actually, that'll work for NumPy ndarrays, and maybe for reassignment by list comprehension.. but I think that too would break if run by a simple for-loop. Here I can just use `remove` instead in an `O(N*r)` operation that removes `r` items from an `N`-long list."
   ]
  },
  {
   "cell_type": "code",
   "execution_count": null,
   "metadata": {},
   "outputs": [],
   "source": []
  },
  {
   "cell_type": "code",
   "execution_count": null,
   "metadata": {},
   "outputs": [],
   "source": []
  },
  {
   "cell_type": "code",
   "execution_count": null,
   "metadata": {},
   "outputs": [],
   "source": []
  },
  {
   "cell_type": "code",
   "execution_count": null,
   "metadata": {},
   "outputs": [],
   "source": []
  },
  {
   "cell_type": "code",
   "execution_count": null,
   "metadata": {},
   "outputs": [],
   "source": []
  },
  {
   "cell_type": "code",
   "execution_count": null,
   "metadata": {},
   "outputs": [],
   "source": []
  },
  {
   "cell_type": "code",
   "execution_count": null,
   "metadata": {},
   "outputs": [],
   "source": []
  },
  {
   "cell_type": "code",
   "execution_count": null,
   "metadata": {},
   "outputs": [],
   "source": []
  },
  {
   "cell_type": "code",
   "execution_count": null,
   "metadata": {},
   "outputs": [],
   "source": []
  },
  {
   "cell_type": "code",
   "execution_count": null,
   "metadata": {},
   "outputs": [],
   "source": []
  },
  {
   "cell_type": "code",
   "execution_count": null,
   "metadata": {},
   "outputs": [],
   "source": []
  },
  {
   "cell_type": "code",
   "execution_count": null,
   "metadata": {},
   "outputs": [],
   "source": []
  },
  {
   "cell_type": "code",
   "execution_count": null,
   "metadata": {},
   "outputs": [],
   "source": []
  },
  {
   "cell_type": "code",
   "execution_count": null,
   "metadata": {},
   "outputs": [],
   "source": []
  },
  {
   "cell_type": "code",
   "execution_count": null,
   "metadata": {},
   "outputs": [],
   "source": []
  },
  {
   "cell_type": "code",
   "execution_count": null,
   "metadata": {},
   "outputs": [],
   "source": []
  }
 ],
 "metadata": {
  "kernelspec": {
   "display_name": "Python 3 (Aersu)",
   "language": "python",
   "name": "aersu"
  },
  "language_info": {
   "codemirror_mode": {
    "name": "ipython",
    "version": 3
   },
   "file_extension": ".py",
   "mimetype": "text/x-python",
   "name": "python",
   "nbconvert_exporter": "python",
   "pygments_lexer": "ipython3",
   "version": "3.6.4"
  }
 },
 "nbformat": 4,
 "nbformat_minor": 2
}
