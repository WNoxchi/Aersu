{
 "cells": [
  {
   "cell_type": "markdown",
   "metadata": {},
   "source": [
    "# GLoc Detector"
   ]
  },
  {
   "cell_type": "markdown",
   "metadata": {
    "heading_collapsed": true
   },
   "source": [
    "## Init"
   ]
  },
  {
   "cell_type": "code",
   "execution_count": 1,
   "metadata": {
    "hidden": true
   },
   "outputs": [],
   "source": [
    "%matplotlib inline\n",
    "%reload_ext autoreload\n",
    "%autoreload 2"
   ]
  },
  {
   "cell_type": "code",
   "execution_count": 2,
   "metadata": {
    "hidden": true
   },
   "outputs": [],
   "source": [
    "from fastai_lin.imports import *\n",
    "from fastai_lin.conv_learner import *\n",
    "from fastai_lin.model import *\n",
    "from fastai_lin.torch_imports import *\n",
    "\n",
    "from utils.subfolder_val_loader import set_cv_idxs"
   ]
  },
  {
   "cell_type": "code",
   "execution_count": 3,
   "metadata": {
    "hidden": true
   },
   "outputs": [],
   "source": [
    "PATH = 'data/'\n",
    "labels_csv = PATH+'labels.csv'\n",
    "# No validation set used in deployment training\n",
    "val_idxs = [0]"
   ]
  },
  {
   "cell_type": "code",
   "execution_count": 4,
   "metadata": {
    "hidden": true
   },
   "outputs": [],
   "source": [
    "def get_data(size, bs=32, resize=False, test_name=None):\n",
    "    tfms = tfms_from_model(arch, size, aug_tfms=transforms_side_on, max_zoom=1.2)\n",
    "    data = ImageClassifierData.from_csv(PATH, 'train', labels_csv, bs=bs, tfms=tfms, \n",
    "                                        val_idxs=val_idxs, suffix='.jpg', num_workers=8, \n",
    "                                        test_name=test_name)\n",
    "    if resize:\n",
    "        data.resize(int(size), 'tmp')\n",
    "    return data"
   ]
  },
  {
   "cell_type": "code",
   "execution_count": 5,
   "metadata": {
    "hidden": true
   },
   "outputs": [],
   "source": [
    "# Learning Rate\n",
    "λr = 5e-3\n",
    "# Weight Decay\n",
    "wd = 1.25e-3"
   ]
  },
  {
   "cell_type": "markdown",
   "metadata": {
    "heading_collapsed": true
   },
   "source": [
    "## ResNet34"
   ]
  },
  {
   "cell_type": "code",
   "execution_count": null,
   "metadata": {
    "hidden": true
   },
   "outputs": [],
   "source": [
    "arch = resnet34\n",
    "size = 100\n",
    "data = get_data(size)\n",
    "learner = ConvLearner.pretrained(arch, data)"
   ]
  },
  {
   "cell_type": "code",
   "execution_count": null,
   "metadata": {
    "hidden": true
   },
   "outputs": [],
   "source": [
    "%time learner.fit(lrs=λr, n_cycle=1, cycle_len=1, cycle_mult=1)\n",
    "%time learner.fit(lrs=λr, n_cycle=3, cycle_len=1, cycle_mult=1, wds=wd, use_wd_sched=True)\n",
    "%time learner.fit(lrs=λr, n_cycle=3, cycle_len=1, cycle_mult=2, wds=wd, use_wd_sched=True)"
   ]
  },
  {
   "cell_type": "code",
   "execution_count": null,
   "metadata": {
    "hidden": true
   },
   "outputs": [],
   "source": [
    "size = 200\n",
    "data = get_data(size)\n",
    "learner.set_data(data)"
   ]
  },
  {
   "cell_type": "code",
   "execution_count": null,
   "metadata": {
    "hidden": true
   },
   "outputs": [],
   "source": [
    "%time learner.fit(lrs=λr, n_cycle=1, cycle_len=1, cycle_mult=1)\n",
    "%time learner.fit(lrs=λr, n_cycle=3, cycle_len=1, cycle_mult=1, wds=wd, use_wd_sched=True)\n",
    "%time learner.fit(lrs=λr, n_cycle=3, cycle_len=1, cycle_mult=2, wds=wd, use_wd_sched=True)"
   ]
  },
  {
   "cell_type": "code",
   "execution_count": null,
   "metadata": {
    "hidden": true
   },
   "outputs": [],
   "source": [
    "size = 400\n",
    "data = get_data(size)\n",
    "learner.set_data(data)"
   ]
  },
  {
   "cell_type": "code",
   "execution_count": null,
   "metadata": {
    "hidden": true
   },
   "outputs": [],
   "source": [
    "%time learner.fit(lrs=λr, n_cycle=1, cycle_len=1, cycle_mult=1)\n",
    "%time learner.fit(lrs=λr, n_cycle=3, cycle_len=1, cycle_mult=1, wds=wd, use_wd_sched=True)\n",
    "%time learner.fit(lrs=λr, n_cycle=3, cycle_len=1, cycle_mult=2, wds=wd, use_wd_sched=True)"
   ]
  },
  {
   "cell_type": "code",
   "execution_count": null,
   "metadata": {
    "hidden": true
   },
   "outputs": [],
   "source": [
    "learner.save('RN34_GLOC')"
   ]
  },
  {
   "cell_type": "markdown",
   "metadata": {},
   "source": [
    "## ResNet50"
   ]
  },
  {
   "cell_type": "code",
   "execution_count": null,
   "metadata": {
    "hidden": true
   },
   "outputs": [],
   "source": [
    "arch = resnet50\n",
    "size = 100\n",
    "data = get_data(size)\n",
    "learner = ConvLearner.pretrained(arch, data)"
   ]
  },
  {
   "cell_type": "code",
   "execution_count": null,
   "metadata": {
    "hidden": true
   },
   "outputs": [],
   "source": [
    "%time learner.fit(lrs=λr, n_cycle=1, cycle_len=1, cycle_mult=1)\n",
    "%time learner.fit(lrs=λr, n_cycle=3, cycle_len=1, cycle_mult=1, wds=wd, use_wd_sched=True)\n",
    "%time learner.fit(lrs=λr, n_cycle=3, cycle_len=1, cycle_mult=2, wds=wd, use_wd_sched=True)"
   ]
  },
  {
   "cell_type": "code",
   "execution_count": null,
   "metadata": {
    "hidden": true
   },
   "outputs": [],
   "source": [
    "size = 200\n",
    "data = get_data(size)\n",
    "learner.set_data(data)"
   ]
  },
  {
   "cell_type": "code",
   "execution_count": null,
   "metadata": {
    "hidden": true
   },
   "outputs": [],
   "source": [
    "%time learner.fit(lrs=λr, n_cycle=1, cycle_len=1, cycle_mult=1)\n",
    "%time learner.fit(lrs=λr, n_cycle=3, cycle_len=1, cycle_mult=1, wds=wd, use_wd_sched=True)\n",
    "%time learner.fit(lrs=λr, n_cycle=3, cycle_len=1, cycle_mult=2, wds=wd, use_wd_sched=True)"
   ]
  },
  {
   "cell_type": "code",
   "execution_count": null,
   "metadata": {
    "hidden": true
   },
   "outputs": [],
   "source": [
    "size = 400\n",
    "data = get_data(size)\n",
    "learner.set_data(data)"
   ]
  },
  {
   "cell_type": "code",
   "execution_count": null,
   "metadata": {
    "hidden": true
   },
   "outputs": [],
   "source": [
    "%time learner.fit(lrs=λr, n_cycle=1, cycle_len=1, cycle_mult=1)\n",
    "%time learner.fit(lrs=λr, n_cycle=3, cycle_len=1, cycle_mult=1, wds=wd, use_wd_sched=True)\n",
    "%time learner.fit(lrs=λr, n_cycle=3, cycle_len=1, cycle_mult=2, wds=wd, use_wd_sched=True)"
   ]
  },
  {
   "cell_type": "code",
   "execution_count": null,
   "metadata": {
    "hidden": true
   },
   "outputs": [],
   "source": [
    "learner.save('RN50_GLOC')"
   ]
  },
  {
   "cell_type": "markdown",
   "metadata": {},
   "source": [
    "## ResNet101"
   ]
  },
  {
   "cell_type": "code",
   "execution_count": null,
   "metadata": {},
   "outputs": [],
   "source": [
    "arch = resnet101\n",
    "size = 100\n",
    "data = get_data(size)\n",
    "learner = ConvLearner.pretrained(arch, data)"
   ]
  },
  {
   "cell_type": "code",
   "execution_count": null,
   "metadata": {},
   "outputs": [],
   "source": [
    "%time learner.fit(lrs=λr, n_cycle=1, cycle_len=1, cycle_mult=1)\n",
    "%time learner.fit(lrs=λr, n_cycle=3, cycle_len=1, cycle_mult=1, wds=wd, use_wd_sched=True)\n",
    "%time learner.fit(lrs=λr, n_cycle=3, cycle_len=1, cycle_mult=2, wds=wd, use_wd_sched=True)"
   ]
  },
  {
   "cell_type": "code",
   "execution_count": null,
   "metadata": {
    "hidden": true
   },
   "outputs": [],
   "source": [
    "size = 200\n",
    "data = get_data(size)\n",
    "learner.set_data(data)"
   ]
  },
  {
   "cell_type": "code",
   "execution_count": null,
   "metadata": {
    "hidden": true
   },
   "outputs": [],
   "source": [
    "%time learner.fit(lrs=λr, n_cycle=1, cycle_len=1, cycle_mult=1)\n",
    "%time learner.fit(lrs=λr, n_cycle=3, cycle_len=1, cycle_mult=1, wds=wd, use_wd_sched=True)\n",
    "%time learner.fit(lrs=λr, n_cycle=3, cycle_len=1, cycle_mult=2, wds=wd, use_wd_sched=True)"
   ]
  },
  {
   "cell_type": "code",
   "execution_count": null,
   "metadata": {
    "hidden": true
   },
   "outputs": [],
   "source": [
    "size = 400\n",
    "data = get_data(size)\n",
    "learner.set_data(data)"
   ]
  },
  {
   "cell_type": "code",
   "execution_count": null,
   "metadata": {
    "hidden": true
   },
   "outputs": [],
   "source": [
    "%time learner.fit(lrs=λr, n_cycle=1, cycle_len=1, cycle_mult=1)\n",
    "%time learner.fit(lrs=λr, n_cycle=3, cycle_len=1, cycle_mult=1, wds=wd, use_wd_sched=True)\n",
    "%time learner.fit(lrs=λr, n_cycle=3, cycle_len=1, cycle_mult=2, wds=wd, use_wd_sched=True)"
   ]
  },
  {
   "cell_type": "code",
   "execution_count": null,
   "metadata": {},
   "outputs": [],
   "source": [
    "learner.save('RN101_GLOC')"
   ]
  },
  {
   "cell_type": "markdown",
   "metadata": {},
   "source": [
    "## VGG16BN"
   ]
  },
  {
   "cell_type": "code",
   "execution_count": 6,
   "metadata": {},
   "outputs": [],
   "source": [
    "arch = vgg16_bn\n",
    "size = 224\n",
    "data = get_data(size)\n",
    "learner = ConvLearner.pretrained(arch, data)"
   ]
  },
  {
   "cell_type": "code",
   "execution_count": null,
   "metadata": {},
   "outputs": [
    {
     "data": {
      "application/vnd.jupyter.widget-view+json": {
       "model_id": "63e99db4ccfd4cbfa0b680127d0f056c",
       "version_major": 2,
       "version_minor": 0
      },
      "text/html": [
       "<p>Failed to display Jupyter Widget of type <code>HBox</code>.</p>\n",
       "<p>\n",
       "  If you're reading this message in the Jupyter Notebook or JupyterLab Notebook, it may mean\n",
       "  that the widgets JavaScript is still loading. If this message persists, it\n",
       "  likely means that the widgets JavaScript library is either not installed or\n",
       "  not enabled. See the <a href=\"https://ipywidgets.readthedocs.io/en/stable/user_install.html\">Jupyter\n",
       "  Widgets Documentation</a> for setup instructions.\n",
       "</p>\n",
       "<p>\n",
       "  If you're reading this message in another frontend (for example, a static\n",
       "  rendering on GitHub or <a href=\"https://nbviewer.jupyter.org/\">NBViewer</a>),\n",
       "  it may mean that your frontend doesn't currently support widgets.\n",
       "</p>\n"
      ],
      "text/plain": [
       "HBox(children=(IntProgress(value=0, description='Epoch', max=1), HTML(value='')))"
      ]
     },
     "metadata": {},
     "output_type": "display_data"
    },
    {
     "name": "stdout",
     "output_type": "stream",
     "text": [
      "\r",
      "  0%|          | 0/239 [00:00<?, ?it/s]"
     ]
    }
   ],
   "source": [
    "%time learner.fit(lrs=λr, n_cycle=1, cycle_len=1, cycle_mult=1)"
   ]
  },
  {
   "cell_type": "code",
   "execution_count": null,
   "metadata": {},
   "outputs": [],
   "source": [
    "%time learner.fit(lrs=λr, n_cycle=1, cycle_len=1, cycle_mult=1)\n",
    "%time learner.fit(lrs=λr, n_cycle=3, cycle_len=1, cycle_mult=1, wds=wd, use_wd_sched=True)\n",
    "%time learner.fit(lrs=λr, n_cycle=3, cycle_len=1, cycle_mult=2, wds=wd, use_wd_sched=True)"
   ]
  },
  {
   "cell_type": "code",
   "execution_count": null,
   "metadata": {},
   "outputs": [],
   "source": [
    "learner.save('VGG16BN_GLOC')"
   ]
  },
  {
   "cell_type": "markdown",
   "metadata": {},
   "source": [
    "## DenseNet121"
   ]
  },
  {
   "cell_type": "markdown",
   "metadata": {},
   "source": [
    "## DenseNet169"
   ]
  },
  {
   "cell_type": "markdown",
   "metadata": {},
   "source": [
    "## ResNeXt50 (32x4)"
   ]
  },
  {
   "cell_type": "markdown",
   "metadata": {},
   "source": [
    "## ResNeXt101 (32x4)"
   ]
  },
  {
   "cell_type": "markdown",
   "metadata": {},
   "source": [
    "## ResNext101 (64x4)"
   ]
  },
  {
   "cell_type": "markdown",
   "metadata": {},
   "source": [
    "## WideResNet50 (24)"
   ]
  },
  {
   "cell_type": "markdown",
   "metadata": {},
   "source": [
    "## InceptionResNetV2"
   ]
  },
  {
   "cell_type": "markdown",
   "metadata": {},
   "source": [
    "## InceptionV4"
   ]
  }
 ],
 "metadata": {
  "kernelspec": {
   "display_name": "Python 3 (FastAI)",
   "language": "python",
   "name": "fastai"
  },
  "language_info": {
   "codemirror_mode": {
    "name": "ipython",
    "version": 3
   },
   "file_extension": ".py",
   "mimetype": "text/x-python",
   "name": "python",
   "nbconvert_exporter": "python",
   "pygments_lexer": "ipython3",
   "version": "3.6.3"
  }
 },
 "nbformat": 4,
 "nbformat_minor": 2
}
