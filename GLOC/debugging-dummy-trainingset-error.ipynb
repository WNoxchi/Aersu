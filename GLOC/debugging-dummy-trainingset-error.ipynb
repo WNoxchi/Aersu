{
 "cells": [
  {
   "cell_type": "markdown",
   "metadata": {},
   "source": [
    "### Debugging dummy-training set error\n",
    "\n",
    "8 Jan 2018 22:37\n",
    "Wayne Nixalo\n",
    "\n",
    "---\n",
    "\n",
    "This was an odd issue. When specifying the dummy training set, if I set the label to an NumPy array of `[0]` I'll get an error within an error; whereas I'll get smooth running if I set it to `[1]`. But the classes are `[0,1]`... hmm..\n",
    "\n",
    "**NOTE**: this occurs when loading the finetuned weights."
   ]
  },
  {
   "cell_type": "code",
   "execution_count": 15,
   "metadata": {
    "collapsed": true
   },
   "outputs": [],
   "source": [
    "%matplotlib inline\n",
    "%reload_ext autoreload\n",
    "%autoreload 2"
   ]
  },
  {
   "cell_type": "code",
   "execution_count": 1,
   "metadata": {
    "collapsed": true
   },
   "outputs": [],
   "source": [
    "from fastai_osx.model import resnet34\n",
    "from fastai_osx.conv_learner import *"
   ]
  },
  {
   "cell_type": "code",
   "execution_count": 55,
   "metadata": {
    "collapsed": true
   },
   "outputs": [],
   "source": [
    "# Load dummy training set to init dataloader\n",
    "dummy_fpath = 'data/train/000000-000412/000000.jpg'\n",
    "# train_dat = cv2.imread(dummy_fpath)\n",
    "# train_dat = cv2.cvtColor(train_dat, cv2.COLOR_BGR2RGB)\n",
    "# train_dat = np.array([train_dat]), np.array([0])\n",
    "\n",
    "\n",
    "image = cv2.imread(dummy_fpath) # dtype = 'uint8'\n",
    "image = cv2.cvtColor(image, cv2.COLOR_BGR2RGB) # BGR -> RGB conversion\n",
    "ndarray_image = np.array([image])\n",
    "\n",
    "train_dat2 = ndarray_image, np.array([1])\n",
    "\n",
    "\n",
    "valid_dat  = train_dat\n",
    "classes   = [0,1]"
   ]
  },
  {
   "cell_type": "code",
   "execution_count": 50,
   "metadata": {},
   "outputs": [
    {
     "data": {
      "text/plain": [
       "array([[[[ True,  True,  True],\n",
       "         [ True,  True,  True],\n",
       "         [ True,  True,  True],\n",
       "         ...,\n",
       "         [ True,  True,  True],\n",
       "         [ True,  True,  True],\n",
       "         [ True,  True,  True]],\n",
       "\n",
       "        [[ True,  True,  True],\n",
       "         [ True,  True,  True],\n",
       "         [ True,  True,  True],\n",
       "         ...,\n",
       "         [ True,  True,  True],\n",
       "         [ True,  True,  True],\n",
       "         [ True,  True,  True]],\n",
       "\n",
       "        [[ True,  True,  True],\n",
       "         [ True,  True,  True],\n",
       "         [ True,  True,  True],\n",
       "         ...,\n",
       "         [ True,  True,  True],\n",
       "         [ True,  True,  True],\n",
       "         [ True,  True,  True]],\n",
       "\n",
       "        ...,\n",
       "\n",
       "        [[ True,  True,  True],\n",
       "         [ True,  True,  True],\n",
       "         [ True,  True,  True],\n",
       "         ...,\n",
       "         [ True,  True,  True],\n",
       "         [ True,  True,  True],\n",
       "         [ True,  True,  True]],\n",
       "\n",
       "        [[ True,  True,  True],\n",
       "         [ True,  True,  True],\n",
       "         [ True,  True,  True],\n",
       "         ...,\n",
       "         [ True,  True,  True],\n",
       "         [ True,  True,  True],\n",
       "         [ True,  True,  True]],\n",
       "\n",
       "        [[ True,  True,  True],\n",
       "         [ True,  True,  True],\n",
       "         [ True,  True,  True],\n",
       "         ...,\n",
       "         [ True,  True,  True],\n",
       "         [ True,  True,  True],\n",
       "         [ True,  True,  True]]]])"
      ]
     },
     "execution_count": 50,
     "metadata": {},
     "output_type": "execute_result"
    }
   ],
   "source": [
    "# len(train_dat2[0]), len(train_dat[0])\n",
    "# train_dat2[0].shape, train_dat[0].shape\n",
    "\n",
    "np.isclose(train_dat2[0], train_dat[0])"
   ]
  },
  {
   "cell_type": "code",
   "execution_count": 14,
   "metadata": {},
   "outputs": [
    {
     "data": {
      "text/plain": [
       "((1, 400, 400, 3), (1, 400, 400, 3))"
      ]
     },
     "execution_count": 14,
     "metadata": {},
     "output_type": "execute_result"
    }
   ],
   "source": [
    "train_dat[0].shape, valid_dat[0].shape\n",
    "# train_dat[1], valid_dat[1]\n",
    "# test_dat[0].shape"
   ]
  },
  {
   "cell_type": "code",
   "execution_count": 38,
   "metadata": {
    "collapsed": true
   },
   "outputs": [],
   "source": [
    "def get_image_ndarray(path='data/train/'):\n",
    "    \"\"\"Returns a random image as an ndarray in an ndarray from the GLOC Dataset\"\"\"\n",
    "    # get random image\n",
    "#     if '.DS_Store' in os.listdir(path):\n",
    "#         os.remove(tpath + '.DS_Store')\n",
    "#     folders = os.listdir(path)\n",
    "#     folder  = np.random.choice(folders)\n",
    "#     fname   = np.random.choice(os.listdir(path+folder))\n",
    "#     fpath   = path+folder+'/'+fname; fpath\n",
    "    fpath = 'data/train/000000-000412/000000.jpg'\n",
    "#     print(fpath)\n",
    "\n",
    "    # load image as ndarray\n",
    "    image = cv2.imread(fpath) # dtype = 'uint8'\n",
    "    image = cv2.cvtColor(image, cv2.COLOR_BGR2RGB) # BGR -> RGB conversion\n",
    "\n",
    "    # return image as ndarray of ndarrays, and image filepath\n",
    "    return np.array([image])"
   ]
  },
  {
   "cell_type": "code",
   "execution_count": 39,
   "metadata": {
    "collapsed": true
   },
   "outputs": [],
   "source": [
    "# get random test image and dummy train/val image & label\n",
    "img_ndarray = get_image_ndarray()\n",
    "\n",
    "train_dat = img_ndarray, np.array([1])\n",
    "val_dat = train_dat\n",
    "\n",
    "test_dat = get_image_ndarray()\n",
    "\n",
    "classes = [0,1]"
   ]
  },
  {
   "cell_type": "code",
   "execution_count": 30,
   "metadata": {
    "collapsed": true
   },
   "outputs": [],
   "source": [
    "def load_test_image1():\n",
    "    return ImageClassifierData.from_arrays(PATH, train_dat, valid_dat, bs=1,\n",
    "                                           tfms=tfms, classes=classes, test=None)"
   ]
  },
  {
   "cell_type": "code",
   "execution_count": 31,
   "metadata": {
    "collapsed": true
   },
   "outputs": [],
   "source": [
    "# function to update dataloader with screengrab\n",
    "def load_test_image2(image=None):\n",
    "    test_dat = np.array([image]) if type(image) == np.ndarray else None\n",
    "    return ImageClassifierData.from_arrays(PATH, train_dat, valid_dat, bs=1,\n",
    "                                           tfms=tfms, classes=classes, test=test_dat)"
   ]
  },
  {
   "cell_type": "code",
   "execution_count": 51,
   "metadata": {
    "collapsed": true
   },
   "outputs": [],
   "source": [
    "data = ImageClassifierData.from_arrays(PATH, train_dat, valid_dat, bs=1,\n",
    "                                       tfms=tfms, classes=classes, test=None)"
   ]
  },
  {
   "cell_type": "code",
   "execution_count": 56,
   "metadata": {
    "collapsed": true
   },
   "outputs": [],
   "source": [
    "data = ImageClassifierData.from_arrays(PATH, train_dat2, valid_dat, bs=1,\n",
    "                                       tfms=tfms, classes=classes, test=None)"
   ]
  },
  {
   "cell_type": "code",
   "execution_count": 57,
   "metadata": {
    "collapsed": true
   },
   "outputs": [],
   "source": [
    "# Initialize FastAI Learner & load weights\n",
    "PATH = 'data/'\n",
    "sz = 400\n",
    "tfms = tfms_from_model(resnet34, sz, aug_tfms=transforms_side_on, max_zoom=1.2)\n",
    "# data = load_test_image1()\n",
    "learner = ConvLearner.pretrained(resnet34, data)\n",
    "learner.load('RN34_400_WD_λ0-529_00')"
   ]
  },
  {
   "cell_type": "markdown",
   "metadata": {},
   "source": [
    "---\n",
    "\n",
    "The original error, which occurs when `train_dat[1]` equals `np.array([0])`:"
   ]
  },
  {
   "cell_type": "raw",
   "metadata": {},
   "source": [
    "# Initialize FastAI Learner & load weights\n",
    "PATH = 'data/'\n",
    "sz = 400\n",
    "tfms = tfms_from_model(resnet34, sz, aug_tfms=transforms_side_on, max_zoom=1.2)\n",
    "data = load_test_image()\n",
    "learner = ConvLearner.pretrained(resnet34, data)\n",
    "learner.load('RN34_400_WD_λ0-529_00')"
   ]
  },
  {
   "cell_type": "code",
   "execution_count": null,
   "metadata": {
    "collapsed": true
   },
   "outputs": [],
   "source": []
  }
 ],
 "metadata": {
  "kernelspec": {
   "display_name": "Python 3 (Aersu)",
   "language": "python",
   "name": "aersu"
  },
  "language_info": {
   "codemirror_mode": {
    "name": "ipython",
    "version": 3
   },
   "file_extension": ".py",
   "mimetype": "text/x-python",
   "name": "python",
   "nbconvert_exporter": "python",
   "pygments_lexer": "ipython3",
   "version": "3.6.4"
  }
 },
 "nbformat": 4,
 "nbformat_minor": 2
}
